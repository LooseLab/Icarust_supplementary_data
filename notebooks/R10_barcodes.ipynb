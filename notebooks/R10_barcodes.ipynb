{
 "cells": [
  {
   "cell_type": "markdown",
   "id": "1b9e66b5-f3bc-4c93-9245-f8e6ec7e90eb",
   "metadata": {},
   "source": [
    "### Generate R10 squiggle for barcodes"
   ]
  },
  {
   "cell_type": "code",
   "execution_count": 45,
   "id": "143dfef2-3724-4e85-9397-8d0f43cb226a",
   "metadata": {},
   "outputs": [],
   "source": [
    "import collections\n",
    "import csv\n",
    "from itertools import islice\n",
    "from pathlib import Path\n",
    "\n",
    "import numpy as np\n",
    "import numpy.typing as npt\n",
    "from pyfastx import Fasta"
   ]
  },
  {
   "cell_type": "code",
   "execution_count": 46,
   "id": "d1e6720a-67e0-4994-9cde-6c1a71d61224",
   "metadata": {},
   "outputs": [],
   "source": [
    "with open(\"barcoding/model_test.tsv\", \"r\") as fh:\n",
    "    reader = csv.reader(fh, delimiter=\"\\t\")\n",
    "    kmer_values = {x[0]: float(x[1]) for x in reader}"
   ]
  },
  {
   "cell_type": "code",
   "execution_count": 47,
   "id": "3611ce47-fda9-4c25-9f34-42da646f20d8",
   "metadata": {},
   "outputs": [],
   "source": [
    "def signalify(\n",
    "    kmers: dict[str, dict[str, float]], sequence: str\n",
    ") -> npt.NDArray[np.int16]:\n",
    "    \"\"\"convert a given sequence to signal using R10 models,\n",
    "    returning np array containing 10 samples per base\"\"\"\n",
    "    a = []\n",
    "    # Always upper case signal\n",
    "    for kmer in sliding_window(sequence.upper(), 9):\n",
    "        value = kmers[\"\".join(kmer)]\n",
    "        value = (value * 2048) / 200 - 0\n",
    "        for _ in range(10):\n",
    "            a.append(value)\n",
    "    return np.array(a).astype(np.int16)"
   ]
  },
  {
   "cell_type": "code",
   "execution_count": 48,
   "id": "b68e2816-8cfa-4240-801e-b22c8ffe73e0",
   "metadata": {},
   "outputs": [],
   "source": [
    "barcode = (Path(\".\").resolve()) / \"barcoding\" / \"fasta\"\n",
    "assert barcode.exists()"
   ]
  },
  {
   "cell_type": "code",
   "execution_count": 49,
   "id": "c3c24004-2f3b-4f26-b1bc-6a9e5d68a409",
   "metadata": {},
   "outputs": [],
   "source": [
    "def sliding_window(iterable, n):\n",
    "    # sliding_window('ABCDEFG', 4) --> ABCD BCDE CDEF DEFG\n",
    "    it = iter(iterable)\n",
    "    window = collections.deque(islice(it, n), maxlen=n)\n",
    "    if len(window) == n:\n",
    "        yield tuple(window)\n",
    "    for x in it:\n",
    "        window.append(x)\n",
    "        yield tuple(window)"
   ]
  },
  {
   "cell_type": "code",
   "execution_count": 52,
   "id": "af3bdb31-21e5-47b8-bc8f-d1da1a1f9032",
   "metadata": {},
   "outputs": [
    {
     "name": "stdout",
     "output_type": "stream",
     "text": [
      "Barcode06_1\n",
      "Barcode06_2\n",
      "Barcode11_1\n",
      "Barcode11_2\n",
      "Barcode03_1\n",
      "Barcode03_2\n",
      "Barcode01_1\n",
      "Barcode01_2\n",
      "Barcode12_1\n",
      "Barcode12_2\n",
      "Barcode05_1\n",
      "Barcode05_2\n",
      "Barcode04_1\n",
      "Barcode04_2\n",
      "Barcode10_1\n",
      "Barcode10_2\n",
      "Barcode08_1\n",
      "Barcode08_2\n",
      "Barcode09_1\n",
      "Barcode09_2\n",
      "Barcode02_1\n",
      "Barcode02_2\n",
      "Barcode07_1\n",
      "Barcode07_2\n"
     ]
    }
   ],
   "source": [
    "for fasta_file in barcode.glob(\"*.fasta\"):\n",
    "    fa = Fasta(str(fasta_file))\n",
    "    for seq in fa:\n",
    "        print(seq.name)\n",
    "        raw_signal = signalify(kmer_values, seq.seq)\n",
    "        squiggle_path = f\"barcoding/R10_signal/{seq.name}_R10.squiggle.npy\"\n",
    "        np.save(squiggle_path, arr=raw_signal)"
   ]
  },
  {
   "cell_type": "code",
   "execution_count": null,
   "id": "f992766b-f270-4f3d-bca1-7c265351705d",
   "metadata": {},
   "outputs": [],
   "source": []
  }
 ],
 "metadata": {
  "kernelspec": {
   "display_name": "Python 3 (ipykernel)",
   "language": "python",
   "name": "python3"
  },
  "language_info": {
   "codemirror_mode": {
    "name": "ipython",
    "version": 3
   },
   "file_extension": ".py",
   "mimetype": "text/x-python",
   "name": "python",
   "nbconvert_exporter": "python",
   "pygments_lexer": "ipython3",
   "version": "3.10.4"
  }
 },
 "nbformat": 4,
 "nbformat_minor": 5
}
