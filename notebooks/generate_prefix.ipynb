{
 "cells": [
  {
   "cell_type": "code",
   "execution_count": 9,
   "id": "10954912-5dad-49dd-8052-72a0dab19432",
   "metadata": {},
   "outputs": [],
   "source": [
    "import collections\n",
    "import csv\n",
    "from itertools import islice\n",
    "\n",
    "import numpy as np\n",
    "import numpy.typing as npt"
   ]
  },
  {
   "cell_type": "code",
   "execution_count": 2,
   "id": "09a40aeb-98c0-490d-98a0-41887e8e76ab",
   "metadata": {},
   "outputs": [],
   "source": [
    "from pathlib import Path"
   ]
  },
  {
   "cell_type": "code",
   "execution_count": 3,
   "id": "4f5278a9-5160-49e9-a1f3-22a82ee959fc",
   "metadata": {},
   "outputs": [
    {
     "data": {
      "text/plain": [
       "PosixPath('/home/adoni5/Projects/Icarust_supplementary/barcoding/R10_signal')"
      ]
     },
     "execution_count": 3,
     "metadata": {},
     "output_type": "execute_result"
    }
   ],
   "source": [
    "Path().cwd()"
   ]
  },
  {
   "cell_type": "code",
   "execution_count": null,
   "id": "bfa02db4-9ee9-464a-8a8c-c8c21f871b7c",
   "metadata": {},
   "outputs": [],
   "source": []
  },
  {
   "cell_type": "code",
   "execution_count": 4,
   "id": "df58a632-ba8d-4611-95ef-c781ce50a87f",
   "metadata": {},
   "outputs": [],
   "source": [
    "PREFIX = (\n",
    "    \"TTTTTTTTTTTTTTTTTTAATCAAGCAGCGGAGTTGAGGACGCGAGACGGGACTTTTTTAGCAGACTTTACGGACTACGACT\"\n",
    ")"
   ]
  },
  {
   "cell_type": "code",
   "execution_count": 5,
   "id": "3331a6ec-9a5d-438a-a2d0-92194a757139",
   "metadata": {},
   "outputs": [],
   "source": [
    "def sliding_window(iterable, n):\n",
    "    # sliding_window('ABCDEFG', 4) --> ABCD BCDE CDEF DEFG\n",
    "    it = iter(iterable)\n",
    "    window = collections.deque(islice(it, n), maxlen=n)\n",
    "    if len(window) == n:\n",
    "        yield tuple(window)\n",
    "    for x in it:\n",
    "        window.append(x)\n",
    "        yield tuple(window)"
   ]
  },
  {
   "cell_type": "code",
   "execution_count": 7,
   "id": "cd5fbd99-2778-4ff6-813d-a250529855a0",
   "metadata": {},
   "outputs": [],
   "source": [
    "with open(\"../working/model_test.tsv\", \"r\") as fh:\n",
    "    reader = csv.reader(fh, delimiter=\"\\t\")\n",
    "    kmer_values = {x[0]: float(x[1]) for x in reader}"
   ]
  },
  {
   "cell_type": "code",
   "execution_count": 10,
   "id": "d11f3188-6aaf-4869-817e-73465a04748e",
   "metadata": {},
   "outputs": [],
   "source": [
    "def signalify(\n",
    "    kmers: dict[str, dict[str, float]], sequence: str\n",
    ") -> npt.NDArray[np.int16]:\n",
    "    \"\"\"convert a given sequence to signal using R10 models,\n",
    "    returning np array containing 10 samples per base\"\"\"\n",
    "    a = []\n",
    "    # Always upper case signal\n",
    "    for kmer in sliding_window(sequence.upper(), 9):\n",
    "        value = kmers[\"\".join(kmer)]\n",
    "        value = (value * 2048) / 200 - 0\n",
    "        for _ in range(10):\n",
    "            a.append(value)\n",
    "    return np.array(a).astype(np.int16)"
   ]
  },
  {
   "cell_type": "code",
   "execution_count": 13,
   "id": "1ca99f73-5aae-4ad0-a958-dc2e36dd54e8",
   "metadata": {},
   "outputs": [],
   "source": [
    "prefix_signal = signalify(kmer_values, PREFIX)"
   ]
  },
  {
   "cell_type": "code",
   "execution_count": 14,
   "id": "a877b0b5-691c-4fb9-a641-8cfe8f39fbe1",
   "metadata": {},
   "outputs": [],
   "source": [
    "np.save(\"prefix.squiggle.npy\", arr=prefix_signal)"
   ]
  },
  {
   "cell_type": "code",
   "execution_count": null,
   "id": "38a873a1-16e2-4980-91df-a58dee23eb25",
   "metadata": {},
   "outputs": [],
   "source": []
  }
 ],
 "metadata": {
  "kernelspec": {
   "display_name": "Python 3 (ipykernel)",
   "language": "python",
   "name": "python3"
  },
  "language_info": {
   "codemirror_mode": {
    "name": "ipython",
    "version": 3
   },
   "file_extension": ".py",
   "mimetype": "text/x-python",
   "name": "python",
   "nbconvert_exporter": "python",
   "pygments_lexer": "ipython3",
   "version": "3.10.4"
  }
 },
 "nbformat": 4,
 "nbformat_minor": 5
}
