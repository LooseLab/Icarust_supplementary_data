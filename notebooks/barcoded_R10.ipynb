{
 "cells": [
  {
   "attachments": {},
   "cell_type": "markdown",
   "id": "db265209-3870-4aa5-bf90-fbeeb92d65ac",
   "metadata": {},
   "source": [
    "### Inspect applying readfish to R10 simulated barcodes"
   ]
  },
  {
   "cell_type": "code",
   "execution_count": 1,
   "id": "cec02d2c-8538-41b8-8312-ff2e1d596df8",
   "metadata": {},
   "outputs": [],
   "source": [
    "import csv\n",
    "from itertools import zip_longest\n",
    "from pathlib import Path\n",
    "from typing import Any, Iterable\n",
    "\n",
    "import matplotlib.font_manager as font_manager\n",
    "import numpy as np\n",
    "import pandas as pd\n",
    "import seaborn as sns\n",
    "from matplotlib import pyplot as plt\n",
    "from matplotlib import rcParams\n",
    "from matplotlib.ticker import EngFormatter"
   ]
  },
  {
   "cell_type": "code",
   "execution_count": 2,
   "id": "c13b4602-9c11-4b4a-8d3c-3e5a14bdd46f",
   "metadata": {},
   "outputs": [
    {
     "data": {
      "text/plain": [
       "PosixPath('/data/projects/rory_says_hi/icarust_paper_data/notebooks')"
      ]
     },
     "execution_count": 2,
     "metadata": {},
     "output_type": "execute_result"
    }
   ],
   "source": [
    "Path().cwd()"
   ]
  },
  {
   "cell_type": "code",
   "execution_count": 3,
   "id": "ef4e92a1-935f-4b73-ab01-dfaebe507ec8",
   "metadata": {},
   "outputs": [],
   "source": [
    "plt.style.use(\"dotfiles-rm/thesis/thesis.mplstyle\")\n",
    "font_dir = \"dotfiles-rm/\"\n",
    "for font in font_manager.findSystemFonts(font_dir):\n",
    "    font_manager.fontManager.addfont(font)\n",
    "sns.set_palette(\"colorblind\")\n",
    "rcParams[\"font.family\"] = \"Roboto\""
   ]
  },
  {
   "cell_type": "code",
   "execution_count": 4,
   "id": "83b4353f-20bd-4924-8719-e412a678f3ef",
   "metadata": {},
   "outputs": [],
   "source": [
    "control_seq_sums = (\"seq_sums/control/\", \"Control\")\n",
    "adaptive_1000ms_seq_sums = (\"seq_sums/adaptive/\", \"Adaptive\")"
   ]
  },
  {
   "cell_type": "code",
   "execution_count": 5,
   "id": "0896ceb1-e156-42a5-97b4-70434a7f2447",
   "metadata": {},
   "outputs": [],
   "source": [
    "seq_sum_dirs = (\n",
    "    control_seq_sums,\n",
    "    adaptive_1000ms_seq_sums,\n",
    "\n",
    ")"
   ]
  },
  {
   "cell_type": "code",
   "execution_count": 6,
   "id": "8ab87b5b-e041-452c-b13b-91521db31e13",
   "metadata": {},
   "outputs": [],
   "source": [
    "BARCODES = {\"barcode01\", \"barcode02\", \"barcode03\"}"
   ]
  },
  {
   "cell_type": "code",
   "execution_count": 7,
   "id": "c8b5880e-e9a4-44bc-8041-417d9789e544",
   "metadata": {},
   "outputs": [],
   "source": [
    "def get_seq_sums(directory_path: Path):\n",
    "    directory_path = (\n",
    "        directory_path if isinstance(directory_path, Path) else Path(directory_path)\n",
    "    )\n",
    "    for seq_sum in sorted(directory_path.rglob(\"*sequencing_summary*.txt\")):\n",
    "        yield seq_sum"
   ]
  },
  {
   "cell_type": "code",
   "execution_count": 8,
   "id": "1ae6c13c-fb72-454a-8c1f-5b9e68c3a169",
   "metadata": {},
   "outputs": [],
   "source": [
    "def _yield_records(\n",
    "    file_path: str, sep: str = \"\\t\", condition: str = None\n",
    ") -> dict[str, Any]:\n",
    "    \"\"\"Yield all records from a given file\"\"\"\n",
    "    with open(file_path) as fh:\n",
    "        for record in csv.DictReader(fh, delimiter=sep):\n",
    "            record[\"Condition\"] = condition\n",
    "            barcode = (\n",
    "                record[\"barcode_arrangement\"]\n",
    "                if record[\"barcode_arrangement\"] in BARCODES\n",
    "                else \"Other\"\n",
    "            )\n",
    "            record[\"barcode_arrangement\"] = barcode\n",
    "            yield record"
   ]
  },
  {
   "cell_type": "code",
   "execution_count": 9,
   "id": "a27e0bf6-8b96-4d47-a38f-fc96a394cb06",
   "metadata": {},
   "outputs": [],
   "source": [
    "def yield_from_seq_sums(file_paths: Iterable[str], condition: str) -> dict[str, Any]:\n",
    "    for file_path in file_paths:\n",
    "        yield from _yield_records(file_path, condition=condition)"
   ]
  },
  {
   "cell_type": "code",
   "execution_count": 10,
   "id": "c70d4093-d2b0-4437-a648-7e6a436bf4bd",
   "metadata": {},
   "outputs": [],
   "source": [
    "def make_seq_sum_df(seq_sum_dirs: tuple[tuple[str, str]]) -> dict[str, Any]:\n",
    "    for seq_sum_dir, condition in seq_sum_dirs:\n",
    "        yield from yield_from_seq_sums(get_seq_sums(seq_sum_dir), condition)"
   ]
  },
  {
   "cell_type": "code",
   "execution_count": 11,
   "id": "bf66397e-a940-4425-8012-168edbd53ad5",
   "metadata": {},
   "outputs": [],
   "source": [
    "df = pd.DataFrame(make_seq_sum_df(seq_sum_dirs))"
   ]
  },
  {
   "cell_type": "code",
   "execution_count": 12,
   "id": "d2293b57-c9a8-4d16-b0bc-9ce292492936",
   "metadata": {},
   "outputs": [],
   "source": [
    "df[\"sequence_length_template\"] = pd.to_numeric(df[\"sequence_length_template\"])"
   ]
  },
  {
   "cell_type": "code",
   "execution_count": 13,
   "id": "98f28382-6ed0-4916-9013-398801cef470",
   "metadata": {},
   "outputs": [],
   "source": [
    "df = df.rename(columns={\"barcode_arrangement\": \"Barcode\"})\n",
    "df = df.sort_values([\"Condition\", \"Barcode\"])"
   ]
  },
  {
   "cell_type": "code",
   "execution_count": 14,
   "id": "ad4db923-b280-44d9-b330-925c480dcf28",
   "metadata": {
    "tags": []
   },
   "outputs": [],
   "source": [
    "def total_yield(group: pd.DataFrame) -> float:\n",
    "    \"\"\"\n",
    "    Returns the total yield for a given group\n",
    "    \"\"\"\n",
    "    return group[\"sequence_length_template\"].sum()"
   ]
  },
  {
   "cell_type": "code",
   "execution_count": 15,
   "id": "962933ab-44f5-4a11-a064-53b9ed370041",
   "metadata": {
    "tags": []
   },
   "outputs": [],
   "source": [
    "def median_read_length(group: pd.DataFrame) -> int:\n",
    "    \"\"\"\n",
    "    Returns the median read length for a given group\n",
    "    \"\"\"\n",
    "    return group[\"sequence_length_template\"].median()"
   ]
  },
  {
   "cell_type": "code",
   "execution_count": 16,
   "id": "2fbf5358-3c12-4d76-b957-d328ad2e5ce4",
   "metadata": {},
   "outputs": [],
   "source": [
    "def yield_ratio(group: pd.DataFrame) -> float:\n",
    "    \"\"\"\n",
    "    c Yield ratio for the adaptive divided by the control\n",
    "    \"\"\"\n",
    "    adaptive_yield = group[group[\"Condition\"] == \"Adaptive\"][\n",
    "        \"sequence_length_template\"\n",
    "    ].sum()\n",
    "    control_yield = group[group[\"Condition\"] == \"Control\"][\n",
    "        \"sequence_length_template\"\n",
    "    ].sum()\n",
    "    return adaptive_yield / control_yield"
   ]
  },
  {
   "cell_type": "code",
   "execution_count": 17,
   "id": "1e397008-424d-494d-a724-7d289d24469f",
   "metadata": {
    "tags": []
   },
   "outputs": [
    {
     "name": "stdout",
     "output_type": "stream",
     "text": [
      "Median read length\n",
      "Yield\n",
      "Yield ratio\n"
     ]
    }
   ],
   "source": [
    "value_dfs = []\n",
    "values_types = [\"Median read length\", \"Yield\", \"Yield ratio\"]\n",
    "aggregator = dict(zip(values_types, (median_read_length, total_yield, yield_ratio)))\n",
    "groups = (\n",
    "    [\"Condition\", \"Barcode\"],\n",
    "    [\"Condition\", \"Barcode\"],\n",
    "    [\"Barcode\"],\n",
    ")\n",
    "group_bys = dict(zip_longest(values_types, groups))\n",
    "for value in values_types:\n",
    "    print(value)\n",
    "    value_df = df.copy()\n",
    "    group = group_bys[value]\n",
    "    value_df = value_df.set_index(group)\n",
    "    # calculate the median, yield ratio and yield\n",
    "    value_df[\"value\"] = value_df.groupby(group).apply(aggregator[value])\n",
    "    value_df = value_df.reset_index()\n",
    "    value_df[\"value_type\"] = value\n",
    "    value_dfs.append(value_df)\n",
    "\n",
    "value_df = pd.concat(value_dfs)\n",
    "# remove the control column for the yield ratio, as it is always one.\n",
    "value_df = value_df[\n",
    "    ~((value_df[\"value_type\"] == \"Yield ratio\") & (value_df[\"Condition\"] == \"Control\"))\n",
    "]"
   ]
  },
  {
   "cell_type": "code",
   "execution_count": 18,
   "id": "c8543891-8799-4197-a12e-0f02d4668ea7",
   "metadata": {},
   "outputs": [
    {
     "data": {
      "image/png": "[encoded data removed]",
      "text/plain": [
       "<Figure size 268.105x280.8 with 3 Axes>"
      ]
     },
     "metadata": {
      "needs_background": "light"
     },
     "output_type": "display_data"
    }
   ],
   "source": [
    "g = (\n",
    "    sns.catplot(\n",
    "        data=value_df,\n",
    "        errorbar=None,\n",
    "        row=\"value_type\",\n",
    "        hue=\"Condition\",\n",
    "        x=\"Barcode\",\n",
    "        kind=\"bar\",\n",
    "        y=\"value\",\n",
    "        height=1.3,\n",
    "        aspect=2.3,\n",
    "        sharey=\"row\",\n",
    "        sharex=False,\n",
    "    )\n",
    "    .tick_params(rotation=0, axis=\"x\", pad=1.1, length=1.8)\n",
    "    .set_titles(template=\"{row_name}\")\n",
    ")\n",
    "axes = g.axes.flatten()\n",
    "y_axis_labels = (\"Base pairs\", \"Base pairs\", \"Fold change\")\n",
    "for i, ax in enumerate(axes):\n",
    "    ax.yaxis.set_major_formatter(EngFormatter())\n",
    "    ax.set_ylabel(y_axis_labels[i])\n",
    "    ax.set_facecolor(\"#FFFFFF\")"
   ]
  },
  {
   "cell_type": "code",
   "execution_count": 19,
   "id": "c4b6198e-0a70-4c7e-8a12-2a663a6e37fc",
   "metadata": {},
   "outputs": [],
   "source": [
    "g.fig.savefig(\n",
    "    \"barcode_supplementary.jpg\", bbox_inches=\"tight\", dpi=350, transparent=False\n",
    ")"
   ]
  }
 ],
 "metadata": {
  "kernelspec": {
   "display_name": "Python 3 (ipykernel)",
   "language": "python",
   "name": "python3"
  },
  "language_info": {
   "codemirror_mode": {
    "name": "ipython",
    "version": 3
   },
   "file_extension": ".py",
   "mimetype": "text/x-python",
   "name": "python",
   "nbconvert_exporter": "python",
   "pygments_lexer": "ipython3",
   "version": "3.10.6"
  }
 },
 "nbformat": 4,
 "nbformat_minor": 5
}
