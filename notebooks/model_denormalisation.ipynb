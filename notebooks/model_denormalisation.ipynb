{
 "cells": [
  {
   "attachments": {},
   "cell_type": "markdown",
   "id": "84a24a7b",
   "metadata": {},
   "source": [
    "Reverse the z score normalisation of the nanopore pore models. HAs user tunable STD_DEV and MEAN values - which creates a current value for each kmer in the 9mer_levels_v1.txt file. Then creates squiggle from the reads found in testing_r10_fasta.fasta in the fasta directory, starts a guppy server instance and basecalles them, Then maps them to the chromsome 20 sequence in the fasta directory."
   ]
  },
  {
   "cell_type": "code",
   "execution_count": 1,
   "id": "3d31e4ac-21df-46bb-bd8c-39b8d53ce60b",
   "metadata": {},
   "outputs": [],
   "source": [
    "import collections\n",
    "import re\n",
    "import time as t\n",
    "from contextlib import contextmanager, redirect_stdout\n",
    "from datetime import datetime\n",
    "from io import StringIO\n",
    "from itertools import islice\n",
    "from pathlib import Path\n",
    "from typing import Union\n",
    "\n",
    "import mappy as mp\n",
    "import numpy as np\n",
    "import numpy.typing as npt\n",
    "import pandas as pd\n",
    "from pyfastx import Fasta\n",
    "from pyguppy_client_lib import helper_functions\n",
    "from pyguppy_client_lib.pyclient import PyGuppyClient"
   ]
  },
  {
   "cell_type": "code",
   "execution_count": 18,
   "id": "49b03f65-5db6-431e-b837-894cbc5b6089",
   "metadata": {},
   "outputs": [],
   "source": [
    "MEAN = 100\n",
    "STD_DEV = 24\n",
    "BIN_PATH = \"/usr/bin/\"\n",
    "FORMAT = \"%d%m%y%H%M%S\"\n",
    "DIGITISATION = 1\n",
    "RANGE = 1\n",
    "PREFIX = \"TTTTTTTTTTTTTTTTTTAATCAAGCAGCGGAGTTGAGGACGCGAGACGGGACTTTTTTAGCAGACTTTACGGACTACGACT\""
   ]
  },
  {
   "cell_type": "code",
   "execution_count": 19,
   "id": "f5ca3b33-6f4c-40f9-8443-635682730161",
   "metadata": {},
   "outputs": [],
   "source": [
    "time = datetime.now().strftime(FORMAT)\n",
    "work_dir = Path(\"working\") / time\n",
    "work_dir.mkdir(exist_ok=True, parents=False)"
   ]
  },
  {
   "cell_type": "code",
   "execution_count": 20,
   "id": "00451cf4-b844-410c-88ab-331d6547ab9e",
   "metadata": {},
   "outputs": [],
   "source": [
    "df = pd.read_csv(\"9mer_levels_v1.txt\", header=None, sep=\"\\t\", names=[\"kmer\", \"value\"])"
   ]
  },
  {
   "cell_type": "code",
   "execution_count": 21,
   "id": "07a62ed1-fe5b-4df2-98fa-871142954c81",
   "metadata": {},
   "outputs": [],
   "source": [
    "df[\"value\"] = df[\"value\"] * STD_DEV + MEAN"
   ]
  },
  {
   "cell_type": "code",
   "execution_count": 22,
   "id": "f830ad13-04f6-4134-bf87-b311d02322c5",
   "metadata": {},
   "outputs": [],
   "source": [
    "kmer_values = df.set_index(\"kmer\").to_dict(orient=\"index\")"
   ]
  },
  {
   "cell_type": "code",
   "execution_count": 23,
   "id": "d3c1986a-6277-4c2c-944b-c01671e4de75",
   "metadata": {},
   "outputs": [],
   "source": [
    "df.to_csv(f\"working/{time}/model_test.tsv\", sep=\"\\t\", index=None, header=None)"
   ]
  },
  {
   "cell_type": "code",
   "execution_count": 24,
   "id": "61de8f86-db44-428d-afe1-f5354c77f1fb",
   "metadata": {},
   "outputs": [],
   "source": [
    "def pack(read: dict[str : Union[str, npt.NDArray[np.int16]]]):\n",
    "    \"\"\"Pack an ont_fast5_api.Fast5Read for calling\n",
    "    passed dict has two fields, read_id and raw_Data\n",
    "    read_id: str, raw_data: npt.NDArray[np.int16]\n",
    "    \"\"\"\n",
    "    read_id = read[\"read_id\"]\n",
    "    raw_data = read[\"raw_data\"]\n",
    "    scaling = RANGE / DIGITISATION\n",
    "    offset = 0.0\n",
    "    return helper_functions.package_read(read_id, raw_data, offset, scaling)"
   ]
  },
  {
   "cell_type": "code",
   "execution_count": 25,
   "id": "117d2d89-b6cf-4498-850f-4e53c3b9fbad",
   "metadata": {},
   "outputs": [],
   "source": [
    "@contextmanager\n",
    "def start_guppy_server_and_client(bin_path, config, port, server_args):\n",
    "    server_args.extend(\n",
    "        [\"--config\", config, \"--port\", port, \"--log_path\", str((Path(\".\") / \"junk\"))]\n",
    "    )\n",
    "    # This function has it's own prints that may want to be suppressed\n",
    "    with redirect_stdout(StringIO()) as fh:\n",
    "        server, port = helper_functions.run_server(server_args, bin_path=bin_path)\n",
    "\n",
    "    if port == \"ERROR\":\n",
    "        raise RuntimeError(\"Server couldn't be started\")\n",
    "\n",
    "    if port.startswith(\"ipc\"):\n",
    "        address = f\"{port}\"\n",
    "    else:\n",
    "        address = f\"localhost:{port}\"\n",
    "    client = PyGuppyClient(address=address, config=config)\n",
    "\n",
    "    try:\n",
    "        with client:\n",
    "            yield client\n",
    "    finally:\n",
    "        server.terminate()"
   ]
  },
  {
   "cell_type": "code",
   "execution_count": 26,
   "id": "744ebb63-a1f1-449a-aba4-92d11c5b2758",
   "metadata": {},
   "outputs": [],
   "source": [
    "def sliding_window(iterable, n):\n",
    "    # sliding_window('ABCDEFG', 4) --> ABCD BCDE CDEF DEFG\n",
    "    it = iter(iterable)\n",
    "    window = collections.deque(islice(it, n), maxlen=n)\n",
    "    if len(window) == n:\n",
    "        yield tuple(window)\n",
    "    for x in it:\n",
    "        window.append(x)\n",
    "        yield tuple(window)"
   ]
  },
  {
   "cell_type": "code",
   "execution_count": 27,
   "id": "489665cd-023a-4bd8-b3eb-6b63b7e7b16d",
   "metadata": {},
   "outputs": [],
   "source": [
    "def signalify(\n",
    "    kmers: dict[str, dict[str, float]], sequence: str\n",
    ") -> npt.NDArray[np.int16]:\n",
    "    \"\"\"convert a given sequence to signal using R10 models,\n",
    "    returning np array containing 10 samples per base\"\"\"\n",
    "    a = []\n",
    "    # Always upper case signal\n",
    "    for kmer in sliding_window(sequence.upper(), 9):\n",
    "        value = kmers[\"\".join(kmer)][\"value\"]\n",
    "        value = (value * 2048) / 200 - 0\n",
    "        for _ in range(10):\n",
    "            a.append(value)\n",
    "    return np.array(a).astype(np.int16)"
   ]
  },
  {
   "cell_type": "code",
   "execution_count": 28,
   "id": "64a0bf9b-d697-49db-9e62-9c628c90f3da",
   "metadata": {},
   "outputs": [],
   "source": [
    "prefix = signalify(kmer_values, PREFIX)"
   ]
  },
  {
   "cell_type": "code",
   "execution_count": 29,
   "id": "aba4f12a-2d8a-4431-b81d-bb1b14e3be45",
   "metadata": {
    "scrolled": true
   },
   "outputs": [
    {
     "name": "stdout",
     "output_type": "stream",
     "text": [
      "9679\n",
      "read_id: test_read_20_936710_946710 \n",
      "\treal start: 936710, real end : 946710\n",
      "\tmap_start 936721, map end 946676\n",
      "8818\n",
      "read_id: test_read_18_511554_520554 \n",
      "\treal start: 511554, real end : 520554\n",
      "\tmap_start 511567, map end 520479\n",
      "8308\n",
      "read_id: test_read_17_98418_106918 \n",
      "\treal start: 98418, real end : 106918\n",
      "\tmap_start 98424, map end 106908\n",
      "7713\n",
      "read_id: test_read_16_220153_228153 \n",
      "\treal start: 220153, real end : 228153\n",
      "\tmap_start 220166, map end 228091\n",
      "7273\n",
      "read_id: test_read_15_827036_834536 \n",
      "\treal start: 827036, real end : 834536\n",
      "\tmap_start 827046, map end 834518\n",
      "6809\n",
      "read_id: test_read_14_398055_405055 \n",
      "\treal start: 398055, real end : 405055\n",
      "\tmap_start 398067, map end 405048\n",
      "6314\n",
      "read_id: test_read_13_683244_689744 \n",
      "\treal start: 683244, real end : 689744\n",
      "\tmap_start 683268, map end 689409\n",
      "0\n",
      "3009\n",
      "read_id: test_read_6_66172_69172 \n",
      "\treal start: 66172, real end : 69172\n",
      "\tmap_start 66335, map end 69164\n",
      "546\n",
      "read_id: test_read_1_140891_141391 \n",
      "\treal start: 140891, real end : 141391\n",
      "\tmap_start 140901, map end 141383\n",
      "1028\n",
      "read_id: test_read_2_596853_597853 \n",
      "\treal start: 596853, real end : 597853\n",
      "\tmap_start 596998, map end 597834\n",
      "1495\n",
      "read_id: test_read_3_888598_890098 \n",
      "\treal start: 888598, real end : 890098\n",
      "\tmap_start 888605, map end 890071\n",
      "1952\n",
      "read_id: test_read_4_841235_843235 \n",
      "\treal start: 841235, real end : 843235\n",
      "\tmap_start 841411, map end 843087\n",
      "2458\n",
      "read_id: test_read_5_800875_803375 \n",
      "\treal start: 800875, real end : 803375\n",
      "\tmap_start 800879, map end 803269\n",
      "3491\n",
      "read_id: test_read_7_267459_270959 \n",
      "\treal start: 267459, real end : 270959\n",
      "\tmap_start 267464, map end 270952\n",
      "3961\n",
      "read_id: test_read_8_123646_127646 \n",
      "\treal start: 123646, real end : 127646\n",
      "\tmap_start 123655, map end 127639\n",
      "4462\n",
      "read_id: test_read_9_519501_524001 \n",
      "\treal start: 519501, real end : 524001\n",
      "\tmap_start 519519, map end 523856\n",
      "4885\n",
      "read_id: test_read_10_797926_802926 \n",
      "\treal start: 797926, real end : 802926\n",
      "\tmap_start 797939, map end 802892\n",
      "5404\n",
      "read_id: test_read_11_471325_476825 \n",
      "\treal start: 471325, real end : 476825\n",
      "\tmap_start 471334, map end 476806\n",
      "5905\n",
      "read_id: test_read_12_495185_501185 \n",
      "\treal start: 495185, real end : 501185\n",
      "\tmap_start 495193, map end 501177\n"
     ]
    }
   ],
   "source": [
    "with start_guppy_server_and_client(\n",
    "    BIN_PATH,\n",
    "    \"dna_r10.4.1_e8.2_400bps_fast.cfg\",\n",
    "    \"ipc:///tmp/.guppy/5555\",\n",
    "    [\"--device\", \"cuda:all\"],\n",
    ") as client:\n",
    "    fa = Fasta(\"testing_r10_fasta.fasta\")\n",
    "    for seq in fa:\n",
    "        # remove any non ACGT and replace with A\n",
    "        sequence = re.sub(r\"[^ACGT]\", \"A\", seq.seq, flags=re.IGNORECASE)\n",
    "        signal = signalify(kmer_values, sequence)\n",
    "        signal = np.concatenate((prefix, signal))\n",
    "        read = {\"read_id\": seq.name, \"raw_data\": signal}\n",
    "        success_pass = client.pass_read(read, pack)\n",
    "    t.sleep(1)\n",
    "    res = client.get_completed_reads()\n",
    "    aligner = mp.Aligner(\n",
    "        \"hg38_no_alts.part_NC_000020.11 Homo sapiens chromosome 20, GRCh38.p14 Primary Assembly.fa.gz\"\n",
    "    )\n",
    "    for r in res:\n",
    "        start, end = r[0][\"metadata\"][\"read_id\"].rsplit(\"_\", 2)[-2:]\n",
    "        read_number = r[0][\"metadata\"][\"read_id\"].rsplit(\"_\", 3)[-3]\n",
    "        sequence = r[0][\"datasets\"][\"sequence\"]\n",
    "        print(len(sequence))\n",
    "        als = aligner.map(sequence)\n",
    "        for al in als:\n",
    "            print(\n",
    "                f\"read_id: {r[0]['metadata']['read_id']} \\n\\treal start: {start}, real end : {end}\\n\\tmap_start {al.r_st}, map end {al.r_en}\"\n",
    "            )"
   ]
  },
  {
   "cell_type": "code",
   "execution_count": null,
   "id": "969f179a-a495-4406-bc01-6b3758a42137",
   "metadata": {},
   "outputs": [],
   "source": []
  }
 ],
 "metadata": {
  "kernelspec": {
   "display_name": "Python 3 (ipykernel)",
   "language": "python",
   "name": "python3"
  },
  "language_info": {
   "codemirror_mode": {
    "name": "ipython",
    "version": 3
   },
   "file_extension": ".py",
   "mimetype": "text/x-python",
   "name": "python",
   "nbconvert_exporter": "python",
   "pygments_lexer": "ipython3",
   "version": "3.10.4"
  }
 },
 "nbformat": 4,
 "nbformat_minor": 5
}
