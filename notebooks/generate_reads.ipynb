{
 "cells": [
  {
   "cell_type": "markdown",
   "id": "a20b79e4",
   "metadata": {},
   "source": [
    "### Generate the test reads for creating R10 squiggle. Reads have their start and end in the read id. Taken from chromsome 20."
   ]
  },
  {
   "cell_type": "code",
   "execution_count": 25,
   "id": "016527aa-b690-43da-adfb-59e61664ca81",
   "metadata": {},
   "outputs": [],
   "source": [
    "import random\n",
    "\n",
    "from pyfastx import Fasta"
   ]
  },
  {
   "cell_type": "code",
   "execution_count": 26,
   "id": "02fd6d56-ea3e-4fb3-9d5f-8eddd4d536aa",
   "metadata": {},
   "outputs": [],
   "source": [
    "fa = Fasta(\n",
    "    \"../fasta/hg38_no_alts.part_NC_000020.11 Homo sapiens chromosome 20, GRCh38.p14 Primary Assembly.fa.gz\"\n",
    ")"
   ]
  },
  {
   "cell_type": "code",
   "execution_count": 27,
   "id": "857343e6-f287-4f70-aa4b-537d2bacbcfb",
   "metadata": {},
   "outputs": [],
   "source": [
    "random.seed(1)\n",
    "# Generate 10 incrementally long reads 500 bases at a time\n",
    "read_length_inc = 500\n",
    "reads = []\n",
    "for i in range(1, 21):\n",
    "    read_length = read_length_inc * i\n",
    "    read_start = random.randint(0, 1000000)\n",
    "    seq = fa[0][read_start : read_start + read_length]\n",
    "    reads.append(f\">test_read_{i}_{read_start}_{read_start+read_length}\\n{seq}\")"
   ]
  },
  {
   "cell_type": "code",
   "execution_count": 28,
   "id": "0a795f1b-fd81-4fd1-86b3-0af939f84897",
   "metadata": {},
   "outputs": [],
   "source": [
    "test_fasta = \"\\n\".join(reads)"
   ]
  },
  {
   "cell_type": "code",
   "execution_count": 29,
   "id": "56d10ed5-1300-40a4-8b87-0fb158cda8d0",
   "metadata": {},
   "outputs": [],
   "source": [
    "with open(\"../fasta/testing_r10_fasta.fasta\", \"w\") as fh:\n",
    "    fh.write(test_fasta)"
   ]
  },
  {
   "cell_type": "code",
   "execution_count": null,
   "id": "dce32283-e56a-46b1-b862-7d237e6db1b6",
   "metadata": {},
   "outputs": [],
   "source": []
  }
 ],
 "metadata": {
  "kernelspec": {
   "display_name": "Python 3 (ipykernel)",
   "language": "python",
   "name": "python3"
  },
  "language_info": {
   "codemirror_mode": {
    "name": "ipython",
    "version": 3
   },
   "file_extension": ".py",
   "mimetype": "text/x-python",
   "name": "python",
   "nbconvert_exporter": "python",
   "pygments_lexer": "ipython3",
   "version": "3.10.6"
  }
 },
 "nbformat": 4,
 "nbformat_minor": 5
}
