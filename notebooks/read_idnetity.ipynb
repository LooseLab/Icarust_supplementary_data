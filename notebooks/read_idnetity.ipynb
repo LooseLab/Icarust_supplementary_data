{
 "cells": [
  {
   "cell_type": "markdown",
   "id": "d19420b4-0005-4113-9c2b-8ac2f91a30c4",
   "metadata": {},
   "source": [
    "## Visualise read identity against truth\n"
   ]
  },
  {
   "cell_type": "markdown",
   "id": "0aec37f3-72ba-4d00-90ff-5c3cdfcef03e",
   "metadata": {},
   "source": [
    "### Workflow\n",
    "1. Generate 50 reads of 100bp in 50bp increments, using `generate_reads.ipynb`\n",
    "1. Create R9 squiggle and R10 squiggle for each read\n",
    "1. Basecall that with I guess the latest dorado at this point\n",
    "1. Map them back to the reference to confirm the accuracy of the mapping\n",
    "1. Map them back to the original read to calculate identity."
   ]
  },
  {
   "cell_type": "markdown",
   "id": "f99c54fd-31d4-4d4e-b506-3a32df354014",
   "metadata": {},
   "source": [
    "#### TODO\n",
    "Append leading prefix onto R9 data\n"
   ]
  },
  {
   "cell_type": "code",
   "execution_count": 2,
   "id": "a8871a16-7927-474f-a562-cc51556b715e",
   "metadata": {},
   "outputs": [],
   "source": [
    "import collections\n",
    "import csv\n",
    "import random\n",
    "import re\n",
    "import time as t\n",
    "from contextlib import contextmanager, redirect_stdout\n",
    "from io import StringIO\n",
    "from itertools import islice\n",
    "from pathlib import Path\n",
    "from random import sample\n",
    "\n",
    "import mappy as mp\n",
    "import numpy as np\n",
    "import numpy.typing as npt\n",
    "import seaborn as sns\n",
    "from make_squiggle import get_sequence, progress_bar_setup\n",
    "from pyfastx import Fasta\n",
    "from mappy import fastx_read\n",
    "from pyguppy_client_lib import helper_functions\n",
    "from pyguppy_client_lib.pyclient import PyGuppyClient\n",
    "\n",
    "TEST_FASTA = Path(\"../fasta/identity_fasta.fasta\")\n",
    "R9_OUTDIR = Path(\"r9_squiggle\")\n",
    "R10_SQUIGGLE_OUTDIR = Path(\"r10_squiggle\")\n",
    "BIN_PATH = \"/usr/bin/\"\n",
    "RANGE = 1\n",
    "DIGITISATION = 8192\n",
    "R10_KMERS_MODEL = Path(\"identity_static/R10_model.tsv\")\n",
    "SAMPLES = (9,10)"
   ]
  },
  {
   "cell_type": "code",
   "execution_count": 80,
   "id": "8317cf60-2ff5-47a7-bbbc-f2bf421d7930",
   "metadata": {
    "jupyter": {
     "source_hidden": true
    }
   },
   "outputs": [
    {
     "name": "stdout",
     "output_type": "stream",
     "text": [
      "test file already exists\n"
     ]
    }
   ],
   "source": [
    "# Generate reads\n",
    "fa = Fasta(\n",
    "    \"../fasta/hg38_no_alts.part_NC_000020.11 Homo sapiens chromosome 20, GRCh38.p14 Primary Assembly.fa.gz\"\n",
    ")\n",
    "random.seed(1)\n",
    "# Generate 10 incrementally long reads 500 bases at a time\n",
    "read_length_inc = 50\n",
    "reads = []\n",
    "for i in range(1, 51):\n",
    "    # Actually i've decided against Ns in the sequence as they make identity harder\n",
    "    # So let's loop and break if the chosen sequence doesn't have any Ns\n",
    "    while True:\n",
    "        read_length = read_length_inc * i\n",
    "        read_start = random.randint(0, 1000000)\n",
    "        seq = fa[0][read_start : read_start + read_length]\n",
    "        if \"N\" not in seq:\n",
    "            reads.append(f\">test_read_{i}_{read_start}_{read_start+read_length}\\n{seq}\")\n",
    "            break\n",
    "test_fasta = \"\\n\".join(reads)\n",
    "try:\n",
    "    with open(TEST_FASTA, \"x\") as fh:\n",
    "        fh.write(test_fasta)\n",
    "except FileExistsError:\n",
    "    print(\"test file already exists\")"
   ]
  },
  {
   "cell_type": "markdown",
   "id": "8c9b2f06-7a56-4332-810c-d1803aa72d6b",
   "metadata": {},
   "source": [
    "### helpers for base calling"
   ]
  },
  {
   "cell_type": "code",
   "execution_count": 3,
   "id": "246ca784-1b2a-427e-bf6c-c1629dfc7087",
   "metadata": {},
   "outputs": [],
   "source": [
    "def pack(read: dict[str, str | npt.NDArray[np.int16]]):\n",
    "    \"\"\"Pack an ont_fast5_api.Fast5Read for calling\n",
    "    passed dict has two fields, read_id and raw_Data\n",
    "    read_id: str, raw_data: npt.NDArray[np.int16]\n",
    "    \"\"\"\n",
    "    read_id = read[\"read_id\"]\n",
    "    raw_data = read[\"raw_data\"]\n",
    "    scaling = RANGE / DIGITISATION\n",
    "    offset = 0.0\n",
    "    return helper_functions.package_read(read_id, raw_data, offset, scaling)"
   ]
  },
  {
   "cell_type": "code",
   "execution_count": 4,
   "id": "e9f5ea83-8955-40ae-98ee-855075d1d4a7",
   "metadata": {},
   "outputs": [],
   "source": [
    "@contextmanager\n",
    "def start_guppy_server_and_client(bin_path, config, port, server_args):\n",
    "    # server_args.extend(\n",
    "    #     [\"--config\", config, \"--port\", port, \"--log_path\", str((Path(\".\") / \"junk\"))]\n",
    "    # )\n",
    "    # # This function has it's own prints that may want to be suppressed\n",
    "    # with redirect_stdout(StringIO()) as fh:\n",
    "    #     server, port = helper_functions.run_server(server_args, bin_path=bin_path)\n",
    "\n",
    "    # if port == \"ERROR\":\n",
    "    #     raise RuntimeError(\"Server couldn't be started\")\n",
    "\n",
    "    if port.startswith(\"ipc\"):\n",
    "        address = f\"{port}\"\n",
    "    else:\n",
    "        address = f\"localhost:{port}\"\n",
    "    client = PyGuppyClient(address=address, config=config)\n",
    "\n",
    "    try:\n",
    "        with client:\n",
    "            yield client\n",
    "    finally:\n",
    "        server.terminate()"
   ]
  },
  {
   "cell_type": "code",
   "execution_count": 5,
   "id": "469b2f6c-68ef-40b3-83c4-94ad3261317b",
   "metadata": {},
   "outputs": [
    {
     "name": "stdout",
     "output_type": "stream",
     "text": [
      "Identity: 0.8\n"
     ]
    }
   ],
   "source": [
    "def calculate_identity(cigar: str, goal_length: int):\n",
    "    match = re.findall(r\"(\\d+)([MIDNSHP=X])\", cigar)\n",
    "\n",
    "    # Calculate total matches, mismatches, and alignment length\n",
    "    total_matches = sum(int(length) for length, operation in match if operation == \"M\")\n",
    "    alignment_length = sum(\n",
    "        int(length) for length, operation in match if operation in [\"M\", \"D\", \"I\", \"N\"]\n",
    "    )\n",
    "    total_insertions = sum(\n",
    "        int(length) for length, operation in match if operation == \"I\"\n",
    "    )\n",
    "\n",
    "    # Calculate total query length (alignment length + insertions)\n",
    "    total_query_length = goal_length + total_insertions\n",
    "\n",
    "    # Identity is calculated as the number of matches divided by total query length\n",
    "    identity = total_matches / total_query_length if total_query_length > 0 else 0\n",
    "    return identity\n",
    "\n",
    "\n",
    "# Example Usage\n",
    "cigar_string = \"10M6M\"  # Example CIGAR string\n",
    "identity = calculate_identity(cigar_string, 20)\n",
    "print(f\"Identity: {identity}\")"
   ]
  },
  {
   "cell_type": "markdown",
   "id": "2698e995-90b0-483f-963d-beec2fe49874",
   "metadata": {},
   "source": [
    "### Create R9 squiggle"
   ]
  },
  {
   "cell_type": "code",
   "execution_count": 6,
   "id": "6be74d78-caa8-4d93-bfb0-3c0170369a65",
   "metadata": {
    "collapsed": true,
    "jupyter": {
     "outputs_hidden": true,
     "source_hidden": true
    },
    "scrolled": true,
    "tags": []
   },
   "outputs": [
    {
     "data": {
      "text/html": [
       "<pre style=\"white-space:pre;overflow-x:auto;line-height:normal;font-family:Menlo,'DejaVu Sans Mono',consolas,'Courier New',monospace\"><span style=\"color: #7fbfbf; text-decoration-color: #7fbfbf\">[12/11/23 15:21:05] </span><span style=\"color: #000080; text-decoration-color: #000080\">INFO    </span> Generating squiggle for test_read_1_140891_140941                 <a href=\"file:///home/adoni5/Projects/Icarust_supplementary/notebooks/make_squiggle.py\" target=\"_blank\"><span style=\"color: #7f7f7f; text-decoration-color: #7f7f7f\">make_squiggle.py</span></a><span style=\"color: #7f7f7f; text-decoration-color: #7f7f7f\">:</span><a href=\"file:///home/adoni5/Projects/Icarust_supplementary/notebooks/make_squiggle.py#120\" target=\"_blank\"><span style=\"color: #7f7f7f; text-decoration-color: #7f7f7f\">120</span></a>\n",
       "</pre>\n"
      ],
      "text/plain": [
       "\u001b[2;36m[12/11/23 15:21:05]\u001b[0m\u001b[2;36m \u001b[0m\u001b[34mINFO    \u001b[0m Generating squiggle for test_read_1_140891_140941                 \u001b]8;id=797911;file:///home/adoni5/Projects/Icarust_supplementary/notebooks/make_squiggle.py\u001b\\\u001b[2mmake_squiggle.py\u001b[0m\u001b]8;;\u001b\\\u001b[2m:\u001b[0m\u001b]8;id=481929;file:///home/adoni5/Projects/Icarust_supplementary/notebooks/make_squiggle.py#120\u001b\\\u001b[2m120\u001b[0m\u001b]8;;\u001b\\\n"
      ]
     },
     "metadata": {},
     "output_type": "display_data"
    },
    {
     "data": {
      "text/html": [
       "<pre style=\"white-space:pre;overflow-x:auto;line-height:normal;font-family:Menlo,'DejaVu Sans Mono',consolas,'Courier New',monospace\"><span style=\"color: #7fbfbf; text-decoration-color: #7fbfbf\">                    </span><span style=\"color: #000080; text-decoration-color: #000080\">INFO    </span> Invalid characters found in sequence of                           <a href=\"file:///home/adoni5/Projects/Icarust_supplementary/notebooks/make_squiggle.py\" target=\"_blank\"><span style=\"color: #7f7f7f; text-decoration-color: #7f7f7f\">make_squiggle.py</span></a><span style=\"color: #7f7f7f; text-decoration-color: #7f7f7f\">:</span><a href=\"file:///home/adoni5/Projects/Icarust_supplementary/notebooks/make_squiggle.py#122\" target=\"_blank\"><span style=\"color: #7f7f7f; text-decoration-color: #7f7f7f\">122</span></a>\n",
       "<span style=\"color: #7fbfbf; text-decoration-color: #7fbfbf\">                    </span>         test_read_1_140891_140941, removing them                          <span style=\"color: #7f7f7f; text-decoration-color: #7f7f7f\">                    </span>\n",
       "</pre>\n"
      ],
      "text/plain": [
       "\u001b[2;36m                   \u001b[0m\u001b[2;36m \u001b[0m\u001b[34mINFO    \u001b[0m Invalid characters found in sequence of                           \u001b]8;id=878264;file:///home/adoni5/Projects/Icarust_supplementary/notebooks/make_squiggle.py\u001b\\\u001b[2mmake_squiggle.py\u001b[0m\u001b]8;;\u001b\\\u001b[2m:\u001b[0m\u001b]8;id=960778;file:///home/adoni5/Projects/Icarust_supplementary/notebooks/make_squiggle.py#122\u001b\\\u001b[2m122\u001b[0m\u001b]8;;\u001b\\\n",
       "\u001b[2;36m                    \u001b[0m         test_read_1_140891_140941, removing them                          \u001b[2m                    \u001b[0m\n"
      ]
     },
     "metadata": {},
     "output_type": "display_data"
    },
    {
     "data": {
      "text/html": [
       "<pre style=\"white-space:pre;overflow-x:auto;line-height:normal;font-family:Menlo,'DejaVu Sans Mono',consolas,'Courier New',monospace\"><span style=\"color: #7fbfbf; text-decoration-color: #7fbfbf\">                    </span><span style=\"color: #000080; text-decoration-color: #000080\">INFO    </span> Generating squiggle for test_read_2_596853_596953                 <a href=\"file:///home/adoni5/Projects/Icarust_supplementary/notebooks/make_squiggle.py\" target=\"_blank\"><span style=\"color: #7f7f7f; text-decoration-color: #7f7f7f\">make_squiggle.py</span></a><span style=\"color: #7f7f7f; text-decoration-color: #7f7f7f\">:</span><a href=\"file:///home/adoni5/Projects/Icarust_supplementary/notebooks/make_squiggle.py#120\" target=\"_blank\"><span style=\"color: #7f7f7f; text-decoration-color: #7f7f7f\">120</span></a>\n",
       "</pre>\n"
      ],
      "text/plain": [
       "\u001b[2;36m                   \u001b[0m\u001b[2;36m \u001b[0m\u001b[34mINFO    \u001b[0m Generating squiggle for test_read_2_596853_596953                 \u001b]8;id=194936;file:///home/adoni5/Projects/Icarust_supplementary/notebooks/make_squiggle.py\u001b\\\u001b[2mmake_squiggle.py\u001b[0m\u001b]8;;\u001b\\\u001b[2m:\u001b[0m\u001b]8;id=659924;file:///home/adoni5/Projects/Icarust_supplementary/notebooks/make_squiggle.py#120\u001b\\\u001b[2m120\u001b[0m\u001b]8;;\u001b\\\n"
      ]
     },
     "metadata": {},
     "output_type": "display_data"
    },
    {
     "data": {
      "text/html": [
       "<pre style=\"white-space:pre;overflow-x:auto;line-height:normal;font-family:Menlo,'DejaVu Sans Mono',consolas,'Courier New',monospace\"><span style=\"color: #7fbfbf; text-decoration-color: #7fbfbf\">                    </span><span style=\"color: #000080; text-decoration-color: #000080\">INFO    </span> Generating squiggle for test_read_3_888598_888748                 <a href=\"file:///home/adoni5/Projects/Icarust_supplementary/notebooks/make_squiggle.py\" target=\"_blank\"><span style=\"color: #7f7f7f; text-decoration-color: #7f7f7f\">make_squiggle.py</span></a><span style=\"color: #7f7f7f; text-decoration-color: #7f7f7f\">:</span><a href=\"file:///home/adoni5/Projects/Icarust_supplementary/notebooks/make_squiggle.py#120\" target=\"_blank\"><span style=\"color: #7f7f7f; text-decoration-color: #7f7f7f\">120</span></a>\n",
       "</pre>\n"
      ],
      "text/plain": [
       "\u001b[2;36m                   \u001b[0m\u001b[2;36m \u001b[0m\u001b[34mINFO    \u001b[0m Generating squiggle for test_read_3_888598_888748                 \u001b]8;id=779245;file:///home/adoni5/Projects/Icarust_supplementary/notebooks/make_squiggle.py\u001b\\\u001b[2mmake_squiggle.py\u001b[0m\u001b]8;;\u001b\\\u001b[2m:\u001b[0m\u001b]8;id=348856;file:///home/adoni5/Projects/Icarust_supplementary/notebooks/make_squiggle.py#120\u001b\\\u001b[2m120\u001b[0m\u001b]8;;\u001b\\\n"
      ]
     },
     "metadata": {},
     "output_type": "display_data"
    },
    {
     "data": {
      "text/html": [
       "<pre style=\"white-space:pre;overflow-x:auto;line-height:normal;font-family:Menlo,'DejaVu Sans Mono',consolas,'Courier New',monospace\"><span style=\"color: #7fbfbf; text-decoration-color: #7fbfbf\">                    </span><span style=\"color: #000080; text-decoration-color: #000080\">INFO    </span> Generating squiggle for test_read_4_841235_841435                 <a href=\"file:///home/adoni5/Projects/Icarust_supplementary/notebooks/make_squiggle.py\" target=\"_blank\"><span style=\"color: #7f7f7f; text-decoration-color: #7f7f7f\">make_squiggle.py</span></a><span style=\"color: #7f7f7f; text-decoration-color: #7f7f7f\">:</span><a href=\"file:///home/adoni5/Projects/Icarust_supplementary/notebooks/make_squiggle.py#120\" target=\"_blank\"><span style=\"color: #7f7f7f; text-decoration-color: #7f7f7f\">120</span></a>\n",
       "</pre>\n"
      ],
      "text/plain": [
       "\u001b[2;36m                   \u001b[0m\u001b[2;36m \u001b[0m\u001b[34mINFO    \u001b[0m Generating squiggle for test_read_4_841235_841435                 \u001b]8;id=981929;file:///home/adoni5/Projects/Icarust_supplementary/notebooks/make_squiggle.py\u001b\\\u001b[2mmake_squiggle.py\u001b[0m\u001b]8;;\u001b\\\u001b[2m:\u001b[0m\u001b]8;id=442611;file:///home/adoni5/Projects/Icarust_supplementary/notebooks/make_squiggle.py#120\u001b\\\u001b[2m120\u001b[0m\u001b]8;;\u001b\\\n"
      ]
     },
     "metadata": {},
     "output_type": "display_data"
    },
    {
     "data": {
      "text/html": [
       "<pre style=\"white-space:pre;overflow-x:auto;line-height:normal;font-family:Menlo,'DejaVu Sans Mono',consolas,'Courier New',monospace\"><span style=\"color: #7fbfbf; text-decoration-color: #7fbfbf\">                    </span><span style=\"color: #000080; text-decoration-color: #000080\">INFO    </span> Generating squiggle for test_read_5_800875_801125                 <a href=\"file:///home/adoni5/Projects/Icarust_supplementary/notebooks/make_squiggle.py\" target=\"_blank\"><span style=\"color: #7f7f7f; text-decoration-color: #7f7f7f\">make_squiggle.py</span></a><span style=\"color: #7f7f7f; text-decoration-color: #7f7f7f\">:</span><a href=\"file:///home/adoni5/Projects/Icarust_supplementary/notebooks/make_squiggle.py#120\" target=\"_blank\"><span style=\"color: #7f7f7f; text-decoration-color: #7f7f7f\">120</span></a>\n",
       "</pre>\n"
      ],
      "text/plain": [
       "\u001b[2;36m                   \u001b[0m\u001b[2;36m \u001b[0m\u001b[34mINFO    \u001b[0m Generating squiggle for test_read_5_800875_801125                 \u001b]8;id=199071;file:///home/adoni5/Projects/Icarust_supplementary/notebooks/make_squiggle.py\u001b\\\u001b[2mmake_squiggle.py\u001b[0m\u001b]8;;\u001b\\\u001b[2m:\u001b[0m\u001b]8;id=318104;file:///home/adoni5/Projects/Icarust_supplementary/notebooks/make_squiggle.py#120\u001b\\\u001b[2m120\u001b[0m\u001b]8;;\u001b\\\n"
      ]
     },
     "metadata": {},
     "output_type": "display_data"
    },
    {
     "data": {
      "text/html": [
       "<pre style=\"white-space:pre;overflow-x:auto;line-height:normal;font-family:Menlo,'DejaVu Sans Mono',consolas,'Courier New',monospace\"><span style=\"color: #7fbfbf; text-decoration-color: #7fbfbf\">                    </span><span style=\"color: #000080; text-decoration-color: #000080\">INFO    </span> Invalid characters found in sequence of                           <a href=\"file:///home/adoni5/Projects/Icarust_supplementary/notebooks/make_squiggle.py\" target=\"_blank\"><span style=\"color: #7f7f7f; text-decoration-color: #7f7f7f\">make_squiggle.py</span></a><span style=\"color: #7f7f7f; text-decoration-color: #7f7f7f\">:</span><a href=\"file:///home/adoni5/Projects/Icarust_supplementary/notebooks/make_squiggle.py#122\" target=\"_blank\"><span style=\"color: #7f7f7f; text-decoration-color: #7f7f7f\">122</span></a>\n",
       "<span style=\"color: #7fbfbf; text-decoration-color: #7fbfbf\">                    </span>         test_read_5_800875_801125, removing them                          <span style=\"color: #7f7f7f; text-decoration-color: #7f7f7f\">                    </span>\n",
       "</pre>\n"
      ],
      "text/plain": [
       "\u001b[2;36m                   \u001b[0m\u001b[2;36m \u001b[0m\u001b[34mINFO    \u001b[0m Invalid characters found in sequence of                           \u001b]8;id=887302;file:///home/adoni5/Projects/Icarust_supplementary/notebooks/make_squiggle.py\u001b\\\u001b[2mmake_squiggle.py\u001b[0m\u001b]8;;\u001b\\\u001b[2m:\u001b[0m\u001b]8;id=986619;file:///home/adoni5/Projects/Icarust_supplementary/notebooks/make_squiggle.py#122\u001b\\\u001b[2m122\u001b[0m\u001b]8;;\u001b\\\n",
       "\u001b[2;36m                    \u001b[0m         test_read_5_800875_801125, removing them                          \u001b[2m                    \u001b[0m\n"
      ]
     },
     "metadata": {},
     "output_type": "display_data"
    },
    {
     "data": {
      "text/html": [
       "<pre style=\"white-space:pre;overflow-x:auto;line-height:normal;font-family:Menlo,'DejaVu Sans Mono',consolas,'Courier New',monospace\"><span style=\"color: #7fbfbf; text-decoration-color: #7fbfbf\">                    </span><span style=\"color: #000080; text-decoration-color: #000080\">INFO    </span> Generating squiggle for test_read_6_267459_267759                 <a href=\"file:///home/adoni5/Projects/Icarust_supplementary/notebooks/make_squiggle.py\" target=\"_blank\"><span style=\"color: #7f7f7f; text-decoration-color: #7f7f7f\">make_squiggle.py</span></a><span style=\"color: #7f7f7f; text-decoration-color: #7f7f7f\">:</span><a href=\"file:///home/adoni5/Projects/Icarust_supplementary/notebooks/make_squiggle.py#120\" target=\"_blank\"><span style=\"color: #7f7f7f; text-decoration-color: #7f7f7f\">120</span></a>\n",
       "</pre>\n"
      ],
      "text/plain": [
       "\u001b[2;36m                   \u001b[0m\u001b[2;36m \u001b[0m\u001b[34mINFO    \u001b[0m Generating squiggle for test_read_6_267459_267759                 \u001b]8;id=36202;file:///home/adoni5/Projects/Icarust_supplementary/notebooks/make_squiggle.py\u001b\\\u001b[2mmake_squiggle.py\u001b[0m\u001b]8;;\u001b\\\u001b[2m:\u001b[0m\u001b]8;id=503554;file:///home/adoni5/Projects/Icarust_supplementary/notebooks/make_squiggle.py#120\u001b\\\u001b[2m120\u001b[0m\u001b]8;;\u001b\\\n"
      ]
     },
     "metadata": {},
     "output_type": "display_data"
    },
    {
     "data": {
      "text/html": [
       "<pre style=\"white-space:pre;overflow-x:auto;line-height:normal;font-family:Menlo,'DejaVu Sans Mono',consolas,'Courier New',monospace\"><span style=\"color: #7fbfbf; text-decoration-color: #7fbfbf\">                    </span><span style=\"color: #000080; text-decoration-color: #000080\">INFO    </span> Invalid characters found in sequence of                           <a href=\"file:///home/adoni5/Projects/Icarust_supplementary/notebooks/make_squiggle.py\" target=\"_blank\"><span style=\"color: #7f7f7f; text-decoration-color: #7f7f7f\">make_squiggle.py</span></a><span style=\"color: #7f7f7f; text-decoration-color: #7f7f7f\">:</span><a href=\"file:///home/adoni5/Projects/Icarust_supplementary/notebooks/make_squiggle.py#122\" target=\"_blank\"><span style=\"color: #7f7f7f; text-decoration-color: #7f7f7f\">122</span></a>\n",
       "<span style=\"color: #7fbfbf; text-decoration-color: #7fbfbf\">                    </span>         test_read_6_267459_267759, removing them                          <span style=\"color: #7f7f7f; text-decoration-color: #7f7f7f\">                    </span>\n",
       "</pre>\n"
      ],
      "text/plain": [
       "\u001b[2;36m                   \u001b[0m\u001b[2;36m \u001b[0m\u001b[34mINFO    \u001b[0m Invalid characters found in sequence of                           \u001b]8;id=434439;file:///home/adoni5/Projects/Icarust_supplementary/notebooks/make_squiggle.py\u001b\\\u001b[2mmake_squiggle.py\u001b[0m\u001b]8;;\u001b\\\u001b[2m:\u001b[0m\u001b]8;id=697034;file:///home/adoni5/Projects/Icarust_supplementary/notebooks/make_squiggle.py#122\u001b\\\u001b[2m122\u001b[0m\u001b]8;;\u001b\\\n",
       "\u001b[2;36m                    \u001b[0m         test_read_6_267459_267759, removing them                          \u001b[2m                    \u001b[0m\n"
      ]
     },
     "metadata": {},
     "output_type": "display_data"
    },
    {
     "data": {
      "text/html": [
       "<pre style=\"white-space:pre;overflow-x:auto;line-height:normal;font-family:Menlo,'DejaVu Sans Mono',consolas,'Courier New',monospace\"><span style=\"color: #7fbfbf; text-decoration-color: #7fbfbf\">                    </span><span style=\"color: #000080; text-decoration-color: #000080\">INFO    </span> Generating squiggle for test_read_7_123646_123996                 <a href=\"file:///home/adoni5/Projects/Icarust_supplementary/notebooks/make_squiggle.py\" target=\"_blank\"><span style=\"color: #7f7f7f; text-decoration-color: #7f7f7f\">make_squiggle.py</span></a><span style=\"color: #7f7f7f; text-decoration-color: #7f7f7f\">:</span><a href=\"file:///home/adoni5/Projects/Icarust_supplementary/notebooks/make_squiggle.py#120\" target=\"_blank\"><span style=\"color: #7f7f7f; text-decoration-color: #7f7f7f\">120</span></a>\n",
       "</pre>\n"
      ],
      "text/plain": [
       "\u001b[2;36m                   \u001b[0m\u001b[2;36m \u001b[0m\u001b[34mINFO    \u001b[0m Generating squiggle for test_read_7_123646_123996                 \u001b]8;id=737191;file:///home/adoni5/Projects/Icarust_supplementary/notebooks/make_squiggle.py\u001b\\\u001b[2mmake_squiggle.py\u001b[0m\u001b]8;;\u001b\\\u001b[2m:\u001b[0m\u001b]8;id=813524;file:///home/adoni5/Projects/Icarust_supplementary/notebooks/make_squiggle.py#120\u001b\\\u001b[2m120\u001b[0m\u001b]8;;\u001b\\\n"
      ]
     },
     "metadata": {},
     "output_type": "display_data"
    },
    {
     "data": {
      "text/html": [
       "<pre style=\"white-space:pre;overflow-x:auto;line-height:normal;font-family:Menlo,'DejaVu Sans Mono',consolas,'Courier New',monospace\"><span style=\"color: #7fbfbf; text-decoration-color: #7fbfbf\">                    </span><span style=\"color: #000080; text-decoration-color: #000080\">INFO    </span> Invalid characters found in sequence of                           <a href=\"file:///home/adoni5/Projects/Icarust_supplementary/notebooks/make_squiggle.py\" target=\"_blank\"><span style=\"color: #7f7f7f; text-decoration-color: #7f7f7f\">make_squiggle.py</span></a><span style=\"color: #7f7f7f; text-decoration-color: #7f7f7f\">:</span><a href=\"file:///home/adoni5/Projects/Icarust_supplementary/notebooks/make_squiggle.py#122\" target=\"_blank\"><span style=\"color: #7f7f7f; text-decoration-color: #7f7f7f\">122</span></a>\n",
       "<span style=\"color: #7fbfbf; text-decoration-color: #7fbfbf\">                    </span>         test_read_7_123646_123996, removing them                          <span style=\"color: #7f7f7f; text-decoration-color: #7f7f7f\">                    </span>\n",
       "</pre>\n"
      ],
      "text/plain": [
       "\u001b[2;36m                   \u001b[0m\u001b[2;36m \u001b[0m\u001b[34mINFO    \u001b[0m Invalid characters found in sequence of                           \u001b]8;id=460284;file:///home/adoni5/Projects/Icarust_supplementary/notebooks/make_squiggle.py\u001b\\\u001b[2mmake_squiggle.py\u001b[0m\u001b]8;;\u001b\\\u001b[2m:\u001b[0m\u001b]8;id=696000;file:///home/adoni5/Projects/Icarust_supplementary/notebooks/make_squiggle.py#122\u001b\\\u001b[2m122\u001b[0m\u001b]8;;\u001b\\\n",
       "\u001b[2;36m                    \u001b[0m         test_read_7_123646_123996, removing them                          \u001b[2m                    \u001b[0m\n"
      ]
     },
     "metadata": {},
     "output_type": "display_data"
    },
    {
     "data": {
      "text/html": [
       "<pre style=\"white-space:pre;overflow-x:auto;line-height:normal;font-family:Menlo,'DejaVu Sans Mono',consolas,'Courier New',monospace\"><span style=\"color: #7fbfbf; text-decoration-color: #7fbfbf\">                    </span><span style=\"color: #000080; text-decoration-color: #000080\">INFO    </span> Generating squiggle for test_read_8_519501_519901                 <a href=\"file:///home/adoni5/Projects/Icarust_supplementary/notebooks/make_squiggle.py\" target=\"_blank\"><span style=\"color: #7f7f7f; text-decoration-color: #7f7f7f\">make_squiggle.py</span></a><span style=\"color: #7f7f7f; text-decoration-color: #7f7f7f\">:</span><a href=\"file:///home/adoni5/Projects/Icarust_supplementary/notebooks/make_squiggle.py#120\" target=\"_blank\"><span style=\"color: #7f7f7f; text-decoration-color: #7f7f7f\">120</span></a>\n",
       "</pre>\n"
      ],
      "text/plain": [
       "\u001b[2;36m                   \u001b[0m\u001b[2;36m \u001b[0m\u001b[34mINFO    \u001b[0m Generating squiggle for test_read_8_519501_519901                 \u001b]8;id=546243;file:///home/adoni5/Projects/Icarust_supplementary/notebooks/make_squiggle.py\u001b\\\u001b[2mmake_squiggle.py\u001b[0m\u001b]8;;\u001b\\\u001b[2m:\u001b[0m\u001b]8;id=880753;file:///home/adoni5/Projects/Icarust_supplementary/notebooks/make_squiggle.py#120\u001b\\\u001b[2m120\u001b[0m\u001b]8;;\u001b\\\n"
      ]
     },
     "metadata": {},
     "output_type": "display_data"
    },
    {
     "data": {
      "text/html": [
       "<pre style=\"white-space:pre;overflow-x:auto;line-height:normal;font-family:Menlo,'DejaVu Sans Mono',consolas,'Courier New',monospace\"><span style=\"color: #7fbfbf; text-decoration-color: #7fbfbf\">                    </span><span style=\"color: #000080; text-decoration-color: #000080\">INFO    </span> Invalid characters found in sequence of                           <a href=\"file:///home/adoni5/Projects/Icarust_supplementary/notebooks/make_squiggle.py\" target=\"_blank\"><span style=\"color: #7f7f7f; text-decoration-color: #7f7f7f\">make_squiggle.py</span></a><span style=\"color: #7f7f7f; text-decoration-color: #7f7f7f\">:</span><a href=\"file:///home/adoni5/Projects/Icarust_supplementary/notebooks/make_squiggle.py#122\" target=\"_blank\"><span style=\"color: #7f7f7f; text-decoration-color: #7f7f7f\">122</span></a>\n",
       "<span style=\"color: #7fbfbf; text-decoration-color: #7fbfbf\">                    </span>         test_read_8_519501_519901, removing them                          <span style=\"color: #7f7f7f; text-decoration-color: #7f7f7f\">                    </span>\n",
       "</pre>\n"
      ],
      "text/plain": [
       "\u001b[2;36m                   \u001b[0m\u001b[2;36m \u001b[0m\u001b[34mINFO    \u001b[0m Invalid characters found in sequence of                           \u001b]8;id=31011;file:///home/adoni5/Projects/Icarust_supplementary/notebooks/make_squiggle.py\u001b\\\u001b[2mmake_squiggle.py\u001b[0m\u001b]8;;\u001b\\\u001b[2m:\u001b[0m\u001b]8;id=492117;file:///home/adoni5/Projects/Icarust_supplementary/notebooks/make_squiggle.py#122\u001b\\\u001b[2m122\u001b[0m\u001b]8;;\u001b\\\n",
       "\u001b[2;36m                    \u001b[0m         test_read_8_519501_519901, removing them                          \u001b[2m                    \u001b[0m\n"
      ]
     },
     "metadata": {},
     "output_type": "display_data"
    },
    {
     "data": {
      "text/html": [
       "<pre style=\"white-space:pre;overflow-x:auto;line-height:normal;font-family:Menlo,'DejaVu Sans Mono',consolas,'Courier New',monospace\"><span style=\"color: #7fbfbf; text-decoration-color: #7fbfbf\">                    </span><span style=\"color: #000080; text-decoration-color: #000080\">INFO    </span> Generating squiggle for test_read_9_797926_798376                 <a href=\"file:///home/adoni5/Projects/Icarust_supplementary/notebooks/make_squiggle.py\" target=\"_blank\"><span style=\"color: #7f7f7f; text-decoration-color: #7f7f7f\">make_squiggle.py</span></a><span style=\"color: #7f7f7f; text-decoration-color: #7f7f7f\">:</span><a href=\"file:///home/adoni5/Projects/Icarust_supplementary/notebooks/make_squiggle.py#120\" target=\"_blank\"><span style=\"color: #7f7f7f; text-decoration-color: #7f7f7f\">120</span></a>\n",
       "</pre>\n"
      ],
      "text/plain": [
       "\u001b[2;36m                   \u001b[0m\u001b[2;36m \u001b[0m\u001b[34mINFO    \u001b[0m Generating squiggle for test_read_9_797926_798376                 \u001b]8;id=644675;file:///home/adoni5/Projects/Icarust_supplementary/notebooks/make_squiggle.py\u001b\\\u001b[2mmake_squiggle.py\u001b[0m\u001b]8;;\u001b\\\u001b[2m:\u001b[0m\u001b]8;id=621998;file:///home/adoni5/Projects/Icarust_supplementary/notebooks/make_squiggle.py#120\u001b\\\u001b[2m120\u001b[0m\u001b]8;;\u001b\\\n"
      ]
     },
     "metadata": {},
     "output_type": "display_data"
    },
    {
     "data": {
      "text/html": [
       "<pre style=\"white-space:pre;overflow-x:auto;line-height:normal;font-family:Menlo,'DejaVu Sans Mono',consolas,'Courier New',monospace\"><span style=\"color: #7fbfbf; text-decoration-color: #7fbfbf\">                    </span><span style=\"color: #000080; text-decoration-color: #000080\">INFO    </span> Invalid characters found in sequence of                           <a href=\"file:///home/adoni5/Projects/Icarust_supplementary/notebooks/make_squiggle.py\" target=\"_blank\"><span style=\"color: #7f7f7f; text-decoration-color: #7f7f7f\">make_squiggle.py</span></a><span style=\"color: #7f7f7f; text-decoration-color: #7f7f7f\">:</span><a href=\"file:///home/adoni5/Projects/Icarust_supplementary/notebooks/make_squiggle.py#122\" target=\"_blank\"><span style=\"color: #7f7f7f; text-decoration-color: #7f7f7f\">122</span></a>\n",
       "<span style=\"color: #7fbfbf; text-decoration-color: #7fbfbf\">                    </span>         test_read_9_797926_798376, removing them                          <span style=\"color: #7f7f7f; text-decoration-color: #7f7f7f\">                    </span>\n",
       "</pre>\n"
      ],
      "text/plain": [
       "\u001b[2;36m                   \u001b[0m\u001b[2;36m \u001b[0m\u001b[34mINFO    \u001b[0m Invalid characters found in sequence of                           \u001b]8;id=176783;file:///home/adoni5/Projects/Icarust_supplementary/notebooks/make_squiggle.py\u001b\\\u001b[2mmake_squiggle.py\u001b[0m\u001b]8;;\u001b\\\u001b[2m:\u001b[0m\u001b]8;id=526635;file:///home/adoni5/Projects/Icarust_supplementary/notebooks/make_squiggle.py#122\u001b\\\u001b[2m122\u001b[0m\u001b]8;;\u001b\\\n",
       "\u001b[2;36m                    \u001b[0m         test_read_9_797926_798376, removing them                          \u001b[2m                    \u001b[0m\n"
      ]
     },
     "metadata": {},
     "output_type": "display_data"
    },
    {
     "data": {
      "text/html": [
       "<pre style=\"white-space:pre;overflow-x:auto;line-height:normal;font-family:Menlo,'DejaVu Sans Mono',consolas,'Courier New',monospace\"><span style=\"color: #7fbfbf; text-decoration-color: #7fbfbf\">                    </span><span style=\"color: #000080; text-decoration-color: #000080\">INFO    </span> Generating squiggle for test_read_10_471325_471825                <a href=\"file:///home/adoni5/Projects/Icarust_supplementary/notebooks/make_squiggle.py\" target=\"_blank\"><span style=\"color: #7f7f7f; text-decoration-color: #7f7f7f\">make_squiggle.py</span></a><span style=\"color: #7f7f7f; text-decoration-color: #7f7f7f\">:</span><a href=\"file:///home/adoni5/Projects/Icarust_supplementary/notebooks/make_squiggle.py#120\" target=\"_blank\"><span style=\"color: #7f7f7f; text-decoration-color: #7f7f7f\">120</span></a>\n",
       "</pre>\n"
      ],
      "text/plain": [
       "\u001b[2;36m                   \u001b[0m\u001b[2;36m \u001b[0m\u001b[34mINFO    \u001b[0m Generating squiggle for test_read_10_471325_471825                \u001b]8;id=565829;file:///home/adoni5/Projects/Icarust_supplementary/notebooks/make_squiggle.py\u001b\\\u001b[2mmake_squiggle.py\u001b[0m\u001b]8;;\u001b\\\u001b[2m:\u001b[0m\u001b]8;id=964780;file:///home/adoni5/Projects/Icarust_supplementary/notebooks/make_squiggle.py#120\u001b\\\u001b[2m120\u001b[0m\u001b]8;;\u001b\\\n"
      ]
     },
     "metadata": {},
     "output_type": "display_data"
    },
    {
     "data": {
      "text/html": [
       "<pre style=\"white-space:pre;overflow-x:auto;line-height:normal;font-family:Menlo,'DejaVu Sans Mono',consolas,'Courier New',monospace\"><span style=\"color: #7fbfbf; text-decoration-color: #7fbfbf\">                    </span><span style=\"color: #000080; text-decoration-color: #000080\">INFO    </span> Invalid characters found in sequence of                           <a href=\"file:///home/adoni5/Projects/Icarust_supplementary/notebooks/make_squiggle.py\" target=\"_blank\"><span style=\"color: #7f7f7f; text-decoration-color: #7f7f7f\">make_squiggle.py</span></a><span style=\"color: #7f7f7f; text-decoration-color: #7f7f7f\">:</span><a href=\"file:///home/adoni5/Projects/Icarust_supplementary/notebooks/make_squiggle.py#122\" target=\"_blank\"><span style=\"color: #7f7f7f; text-decoration-color: #7f7f7f\">122</span></a>\n",
       "<span style=\"color: #7fbfbf; text-decoration-color: #7fbfbf\">                    </span>         test_read_10_471325_471825, removing them                         <span style=\"color: #7f7f7f; text-decoration-color: #7f7f7f\">                    </span>\n",
       "</pre>\n"
      ],
      "text/plain": [
       "\u001b[2;36m                   \u001b[0m\u001b[2;36m \u001b[0m\u001b[34mINFO    \u001b[0m Invalid characters found in sequence of                           \u001b]8;id=538728;file:///home/adoni5/Projects/Icarust_supplementary/notebooks/make_squiggle.py\u001b\\\u001b[2mmake_squiggle.py\u001b[0m\u001b]8;;\u001b\\\u001b[2m:\u001b[0m\u001b]8;id=360527;file:///home/adoni5/Projects/Icarust_supplementary/notebooks/make_squiggle.py#122\u001b\\\u001b[2m122\u001b[0m\u001b]8;;\u001b\\\n",
       "\u001b[2;36m                    \u001b[0m         test_read_10_471325_471825, removing them                         \u001b[2m                    \u001b[0m\n"
      ]
     },
     "metadata": {},
     "output_type": "display_data"
    },
    {
     "data": {
      "text/html": [
       "<pre style=\"white-space:pre;overflow-x:auto;line-height:normal;font-family:Menlo,'DejaVu Sans Mono',consolas,'Courier New',monospace\"><span style=\"color: #7fbfbf; text-decoration-color: #7fbfbf\">                    </span><span style=\"color: #000080; text-decoration-color: #000080\">INFO    </span> Generating squiggle for test_read_11_495185_495735                <a href=\"file:///home/adoni5/Projects/Icarust_supplementary/notebooks/make_squiggle.py\" target=\"_blank\"><span style=\"color: #7f7f7f; text-decoration-color: #7f7f7f\">make_squiggle.py</span></a><span style=\"color: #7f7f7f; text-decoration-color: #7f7f7f\">:</span><a href=\"file:///home/adoni5/Projects/Icarust_supplementary/notebooks/make_squiggle.py#120\" target=\"_blank\"><span style=\"color: #7f7f7f; text-decoration-color: #7f7f7f\">120</span></a>\n",
       "</pre>\n"
      ],
      "text/plain": [
       "\u001b[2;36m                   \u001b[0m\u001b[2;36m \u001b[0m\u001b[34mINFO    \u001b[0m Generating squiggle for test_read_11_495185_495735                \u001b]8;id=481434;file:///home/adoni5/Projects/Icarust_supplementary/notebooks/make_squiggle.py\u001b\\\u001b[2mmake_squiggle.py\u001b[0m\u001b]8;;\u001b\\\u001b[2m:\u001b[0m\u001b]8;id=953947;file:///home/adoni5/Projects/Icarust_supplementary/notebooks/make_squiggle.py#120\u001b\\\u001b[2m120\u001b[0m\u001b]8;;\u001b\\\n"
      ]
     },
     "metadata": {},
     "output_type": "display_data"
    },
    {
     "data": {
      "text/html": [
       "<pre style=\"white-space:pre;overflow-x:auto;line-height:normal;font-family:Menlo,'DejaVu Sans Mono',consolas,'Courier New',monospace\"><span style=\"color: #7fbfbf; text-decoration-color: #7fbfbf\">                    </span><span style=\"color: #000080; text-decoration-color: #000080\">INFO    </span> Invalid characters found in sequence of                           <a href=\"file:///home/adoni5/Projects/Icarust_supplementary/notebooks/make_squiggle.py\" target=\"_blank\"><span style=\"color: #7f7f7f; text-decoration-color: #7f7f7f\">make_squiggle.py</span></a><span style=\"color: #7f7f7f; text-decoration-color: #7f7f7f\">:</span><a href=\"file:///home/adoni5/Projects/Icarust_supplementary/notebooks/make_squiggle.py#122\" target=\"_blank\"><span style=\"color: #7f7f7f; text-decoration-color: #7f7f7f\">122</span></a>\n",
       "<span style=\"color: #7fbfbf; text-decoration-color: #7fbfbf\">                    </span>         test_read_11_495185_495735, removing them                         <span style=\"color: #7f7f7f; text-decoration-color: #7f7f7f\">                    </span>\n",
       "</pre>\n"
      ],
      "text/plain": [
       "\u001b[2;36m                   \u001b[0m\u001b[2;36m \u001b[0m\u001b[34mINFO    \u001b[0m Invalid characters found in sequence of                           \u001b]8;id=764831;file:///home/adoni5/Projects/Icarust_supplementary/notebooks/make_squiggle.py\u001b\\\u001b[2mmake_squiggle.py\u001b[0m\u001b]8;;\u001b\\\u001b[2m:\u001b[0m\u001b]8;id=5986;file:///home/adoni5/Projects/Icarust_supplementary/notebooks/make_squiggle.py#122\u001b\\\u001b[2m122\u001b[0m\u001b]8;;\u001b\\\n",
       "\u001b[2;36m                    \u001b[0m         test_read_11_495185_495735, removing them                         \u001b[2m                    \u001b[0m\n"
      ]
     },
     "metadata": {},
     "output_type": "display_data"
    },
    {
     "data": {
      "text/html": [
       "<pre style=\"white-space:pre;overflow-x:auto;line-height:normal;font-family:Menlo,'DejaVu Sans Mono',consolas,'Courier New',monospace\"><span style=\"color: #7fbfbf; text-decoration-color: #7fbfbf\">                    </span><span style=\"color: #000080; text-decoration-color: #000080\">INFO    </span> Generating squiggle for test_read_12_683244_683844                <a href=\"file:///home/adoni5/Projects/Icarust_supplementary/notebooks/make_squiggle.py\" target=\"_blank\"><span style=\"color: #7f7f7f; text-decoration-color: #7f7f7f\">make_squiggle.py</span></a><span style=\"color: #7f7f7f; text-decoration-color: #7f7f7f\">:</span><a href=\"file:///home/adoni5/Projects/Icarust_supplementary/notebooks/make_squiggle.py#120\" target=\"_blank\"><span style=\"color: #7f7f7f; text-decoration-color: #7f7f7f\">120</span></a>\n",
       "</pre>\n"
      ],
      "text/plain": [
       "\u001b[2;36m                   \u001b[0m\u001b[2;36m \u001b[0m\u001b[34mINFO    \u001b[0m Generating squiggle for test_read_12_683244_683844                \u001b]8;id=929226;file:///home/adoni5/Projects/Icarust_supplementary/notebooks/make_squiggle.py\u001b\\\u001b[2mmake_squiggle.py\u001b[0m\u001b]8;;\u001b\\\u001b[2m:\u001b[0m\u001b]8;id=984045;file:///home/adoni5/Projects/Icarust_supplementary/notebooks/make_squiggle.py#120\u001b\\\u001b[2m120\u001b[0m\u001b]8;;\u001b\\\n"
      ]
     },
     "metadata": {},
     "output_type": "display_data"
    },
    {
     "data": {
      "text/html": [
       "<pre style=\"white-space:pre;overflow-x:auto;line-height:normal;font-family:Menlo,'DejaVu Sans Mono',consolas,'Courier New',monospace\"><span style=\"color: #7fbfbf; text-decoration-color: #7fbfbf\">                    </span><span style=\"color: #000080; text-decoration-color: #000080\">INFO    </span> Invalid characters found in sequence of                           <a href=\"file:///home/adoni5/Projects/Icarust_supplementary/notebooks/make_squiggle.py\" target=\"_blank\"><span style=\"color: #7f7f7f; text-decoration-color: #7f7f7f\">make_squiggle.py</span></a><span style=\"color: #7f7f7f; text-decoration-color: #7f7f7f\">:</span><a href=\"file:///home/adoni5/Projects/Icarust_supplementary/notebooks/make_squiggle.py#122\" target=\"_blank\"><span style=\"color: #7f7f7f; text-decoration-color: #7f7f7f\">122</span></a>\n",
       "<span style=\"color: #7fbfbf; text-decoration-color: #7fbfbf\">                    </span>         test_read_12_683244_683844, removing them                         <span style=\"color: #7f7f7f; text-decoration-color: #7f7f7f\">                    </span>\n",
       "</pre>\n"
      ],
      "text/plain": [
       "\u001b[2;36m                   \u001b[0m\u001b[2;36m \u001b[0m\u001b[34mINFO    \u001b[0m Invalid characters found in sequence of                           \u001b]8;id=543873;file:///home/adoni5/Projects/Icarust_supplementary/notebooks/make_squiggle.py\u001b\\\u001b[2mmake_squiggle.py\u001b[0m\u001b]8;;\u001b\\\u001b[2m:\u001b[0m\u001b]8;id=815160;file:///home/adoni5/Projects/Icarust_supplementary/notebooks/make_squiggle.py#122\u001b\\\u001b[2m122\u001b[0m\u001b]8;;\u001b\\\n",
       "\u001b[2;36m                    \u001b[0m         test_read_12_683244_683844, removing them                         \u001b[2m                    \u001b[0m\n"
      ]
     },
     "metadata": {},
     "output_type": "display_data"
    },
    {
     "data": {
      "text/html": [
       "<pre style=\"white-space:pre;overflow-x:auto;line-height:normal;font-family:Menlo,'DejaVu Sans Mono',consolas,'Courier New',monospace\"><span style=\"color: #7fbfbf; text-decoration-color: #7fbfbf\">                    </span><span style=\"color: #000080; text-decoration-color: #000080\">INFO    </span> Generating squiggle for test_read_13_398055_398705                <a href=\"file:///home/adoni5/Projects/Icarust_supplementary/notebooks/make_squiggle.py\" target=\"_blank\"><span style=\"color: #7f7f7f; text-decoration-color: #7f7f7f\">make_squiggle.py</span></a><span style=\"color: #7f7f7f; text-decoration-color: #7f7f7f\">:</span><a href=\"file:///home/adoni5/Projects/Icarust_supplementary/notebooks/make_squiggle.py#120\" target=\"_blank\"><span style=\"color: #7f7f7f; text-decoration-color: #7f7f7f\">120</span></a>\n",
       "</pre>\n"
      ],
      "text/plain": [
       "\u001b[2;36m                   \u001b[0m\u001b[2;36m \u001b[0m\u001b[34mINFO    \u001b[0m Generating squiggle for test_read_13_398055_398705                \u001b]8;id=58849;file:///home/adoni5/Projects/Icarust_supplementary/notebooks/make_squiggle.py\u001b\\\u001b[2mmake_squiggle.py\u001b[0m\u001b]8;;\u001b\\\u001b[2m:\u001b[0m\u001b]8;id=504471;file:///home/adoni5/Projects/Icarust_supplementary/notebooks/make_squiggle.py#120\u001b\\\u001b[2m120\u001b[0m\u001b]8;;\u001b\\\n"
      ]
     },
     "metadata": {},
     "output_type": "display_data"
    },
    {
     "data": {
      "text/html": [
       "<pre style=\"white-space:pre;overflow-x:auto;line-height:normal;font-family:Menlo,'DejaVu Sans Mono',consolas,'Courier New',monospace\"><span style=\"color: #7fbfbf; text-decoration-color: #7fbfbf\">                    </span><span style=\"color: #000080; text-decoration-color: #000080\">INFO    </span> Invalid characters found in sequence of                           <a href=\"file:///home/adoni5/Projects/Icarust_supplementary/notebooks/make_squiggle.py\" target=\"_blank\"><span style=\"color: #7f7f7f; text-decoration-color: #7f7f7f\">make_squiggle.py</span></a><span style=\"color: #7f7f7f; text-decoration-color: #7f7f7f\">:</span><a href=\"file:///home/adoni5/Projects/Icarust_supplementary/notebooks/make_squiggle.py#122\" target=\"_blank\"><span style=\"color: #7f7f7f; text-decoration-color: #7f7f7f\">122</span></a>\n",
       "<span style=\"color: #7fbfbf; text-decoration-color: #7fbfbf\">                    </span>         test_read_13_398055_398705, removing them                         <span style=\"color: #7f7f7f; text-decoration-color: #7f7f7f\">                    </span>\n",
       "</pre>\n"
      ],
      "text/plain": [
       "\u001b[2;36m                   \u001b[0m\u001b[2;36m \u001b[0m\u001b[34mINFO    \u001b[0m Invalid characters found in sequence of                           \u001b]8;id=209546;file:///home/adoni5/Projects/Icarust_supplementary/notebooks/make_squiggle.py\u001b\\\u001b[2mmake_squiggle.py\u001b[0m\u001b]8;;\u001b\\\u001b[2m:\u001b[0m\u001b]8;id=986724;file:///home/adoni5/Projects/Icarust_supplementary/notebooks/make_squiggle.py#122\u001b\\\u001b[2m122\u001b[0m\u001b]8;;\u001b\\\n",
       "\u001b[2;36m                    \u001b[0m         test_read_13_398055_398705, removing them                         \u001b[2m                    \u001b[0m\n"
      ]
     },
     "metadata": {},
     "output_type": "display_data"
    },
    {
     "data": {
      "text/html": [
       "<pre style=\"white-space:pre;overflow-x:auto;line-height:normal;font-family:Menlo,'DejaVu Sans Mono',consolas,'Courier New',monospace\"><span style=\"color: #7fbfbf; text-decoration-color: #7fbfbf\">                    </span><span style=\"color: #000080; text-decoration-color: #000080\">INFO    </span> Generating squiggle for test_read_14_827036_827736                <a href=\"file:///home/adoni5/Projects/Icarust_supplementary/notebooks/make_squiggle.py\" target=\"_blank\"><span style=\"color: #7f7f7f; text-decoration-color: #7f7f7f\">make_squiggle.py</span></a><span style=\"color: #7f7f7f; text-decoration-color: #7f7f7f\">:</span><a href=\"file:///home/adoni5/Projects/Icarust_supplementary/notebooks/make_squiggle.py#120\" target=\"_blank\"><span style=\"color: #7f7f7f; text-decoration-color: #7f7f7f\">120</span></a>\n",
       "</pre>\n"
      ],
      "text/plain": [
       "\u001b[2;36m                   \u001b[0m\u001b[2;36m \u001b[0m\u001b[34mINFO    \u001b[0m Generating squiggle for test_read_14_827036_827736                \u001b]8;id=374121;file:///home/adoni5/Projects/Icarust_supplementary/notebooks/make_squiggle.py\u001b\\\u001b[2mmake_squiggle.py\u001b[0m\u001b]8;;\u001b\\\u001b[2m:\u001b[0m\u001b]8;id=434555;file:///home/adoni5/Projects/Icarust_supplementary/notebooks/make_squiggle.py#120\u001b\\\u001b[2m120\u001b[0m\u001b]8;;\u001b\\\n"
      ]
     },
     "metadata": {},
     "output_type": "display_data"
    },
    {
     "data": {
      "text/html": [
       "<pre style=\"white-space:pre;overflow-x:auto;line-height:normal;font-family:Menlo,'DejaVu Sans Mono',consolas,'Courier New',monospace\"><span style=\"color: #7fbfbf; text-decoration-color: #7fbfbf\">                    </span><span style=\"color: #000080; text-decoration-color: #000080\">INFO    </span> Invalid characters found in sequence of                           <a href=\"file:///home/adoni5/Projects/Icarust_supplementary/notebooks/make_squiggle.py\" target=\"_blank\"><span style=\"color: #7f7f7f; text-decoration-color: #7f7f7f\">make_squiggle.py</span></a><span style=\"color: #7f7f7f; text-decoration-color: #7f7f7f\">:</span><a href=\"file:///home/adoni5/Projects/Icarust_supplementary/notebooks/make_squiggle.py#122\" target=\"_blank\"><span style=\"color: #7f7f7f; text-decoration-color: #7f7f7f\">122</span></a>\n",
       "<span style=\"color: #7fbfbf; text-decoration-color: #7fbfbf\">                    </span>         test_read_14_827036_827736, removing them                         <span style=\"color: #7f7f7f; text-decoration-color: #7f7f7f\">                    </span>\n",
       "</pre>\n"
      ],
      "text/plain": [
       "\u001b[2;36m                   \u001b[0m\u001b[2;36m \u001b[0m\u001b[34mINFO    \u001b[0m Invalid characters found in sequence of                           \u001b]8;id=653776;file:///home/adoni5/Projects/Icarust_supplementary/notebooks/make_squiggle.py\u001b\\\u001b[2mmake_squiggle.py\u001b[0m\u001b]8;;\u001b\\\u001b[2m:\u001b[0m\u001b]8;id=824646;file:///home/adoni5/Projects/Icarust_supplementary/notebooks/make_squiggle.py#122\u001b\\\u001b[2m122\u001b[0m\u001b]8;;\u001b\\\n",
       "\u001b[2;36m                    \u001b[0m         test_read_14_827036_827736, removing them                         \u001b[2m                    \u001b[0m\n"
      ]
     },
     "metadata": {},
     "output_type": "display_data"
    },
    {
     "data": {
      "text/html": [
       "<pre style=\"white-space:pre;overflow-x:auto;line-height:normal;font-family:Menlo,'DejaVu Sans Mono',consolas,'Courier New',monospace\"><span style=\"color: #7fbfbf; text-decoration-color: #7fbfbf\">                    </span><span style=\"color: #000080; text-decoration-color: #000080\">INFO    </span> Generating squiggle for test_read_15_220153_220903                <a href=\"file:///home/adoni5/Projects/Icarust_supplementary/notebooks/make_squiggle.py\" target=\"_blank\"><span style=\"color: #7f7f7f; text-decoration-color: #7f7f7f\">make_squiggle.py</span></a><span style=\"color: #7f7f7f; text-decoration-color: #7f7f7f\">:</span><a href=\"file:///home/adoni5/Projects/Icarust_supplementary/notebooks/make_squiggle.py#120\" target=\"_blank\"><span style=\"color: #7f7f7f; text-decoration-color: #7f7f7f\">120</span></a>\n",
       "</pre>\n"
      ],
      "text/plain": [
       "\u001b[2;36m                   \u001b[0m\u001b[2;36m \u001b[0m\u001b[34mINFO    \u001b[0m Generating squiggle for test_read_15_220153_220903                \u001b]8;id=29333;file:///home/adoni5/Projects/Icarust_supplementary/notebooks/make_squiggle.py\u001b\\\u001b[2mmake_squiggle.py\u001b[0m\u001b]8;;\u001b\\\u001b[2m:\u001b[0m\u001b]8;id=843652;file:///home/adoni5/Projects/Icarust_supplementary/notebooks/make_squiggle.py#120\u001b\\\u001b[2m120\u001b[0m\u001b]8;;\u001b\\\n"
      ]
     },
     "metadata": {},
     "output_type": "display_data"
    },
    {
     "data": {
      "text/html": [
       "<pre style=\"white-space:pre;overflow-x:auto;line-height:normal;font-family:Menlo,'DejaVu Sans Mono',consolas,'Courier New',monospace\"><span style=\"color: #7fbfbf; text-decoration-color: #7fbfbf\">                    </span><span style=\"color: #000080; text-decoration-color: #000080\">INFO    </span> Invalid characters found in sequence of                           <a href=\"file:///home/adoni5/Projects/Icarust_supplementary/notebooks/make_squiggle.py\" target=\"_blank\"><span style=\"color: #7f7f7f; text-decoration-color: #7f7f7f\">make_squiggle.py</span></a><span style=\"color: #7f7f7f; text-decoration-color: #7f7f7f\">:</span><a href=\"file:///home/adoni5/Projects/Icarust_supplementary/notebooks/make_squiggle.py#122\" target=\"_blank\"><span style=\"color: #7f7f7f; text-decoration-color: #7f7f7f\">122</span></a>\n",
       "<span style=\"color: #7fbfbf; text-decoration-color: #7fbfbf\">                    </span>         test_read_15_220153_220903, removing them                         <span style=\"color: #7f7f7f; text-decoration-color: #7f7f7f\">                    </span>\n",
       "</pre>\n"
      ],
      "text/plain": [
       "\u001b[2;36m                   \u001b[0m\u001b[2;36m \u001b[0m\u001b[34mINFO    \u001b[0m Invalid characters found in sequence of                           \u001b]8;id=612851;file:///home/adoni5/Projects/Icarust_supplementary/notebooks/make_squiggle.py\u001b\\\u001b[2mmake_squiggle.py\u001b[0m\u001b]8;;\u001b\\\u001b[2m:\u001b[0m\u001b]8;id=189565;file:///home/adoni5/Projects/Icarust_supplementary/notebooks/make_squiggle.py#122\u001b\\\u001b[2m122\u001b[0m\u001b]8;;\u001b\\\n",
       "\u001b[2;36m                    \u001b[0m         test_read_15_220153_220903, removing them                         \u001b[2m                    \u001b[0m\n"
      ]
     },
     "metadata": {},
     "output_type": "display_data"
    },
    {
     "data": {
      "text/html": [
       "<pre style=\"white-space:pre;overflow-x:auto;line-height:normal;font-family:Menlo,'DejaVu Sans Mono',consolas,'Courier New',monospace\"><span style=\"color: #7fbfbf; text-decoration-color: #7fbfbf\">                    </span><span style=\"color: #000080; text-decoration-color: #000080\">INFO    </span> Generating squiggle for test_read_16_98418_99218                  <a href=\"file:///home/adoni5/Projects/Icarust_supplementary/notebooks/make_squiggle.py\" target=\"_blank\"><span style=\"color: #7f7f7f; text-decoration-color: #7f7f7f\">make_squiggle.py</span></a><span style=\"color: #7f7f7f; text-decoration-color: #7f7f7f\">:</span><a href=\"file:///home/adoni5/Projects/Icarust_supplementary/notebooks/make_squiggle.py#120\" target=\"_blank\"><span style=\"color: #7f7f7f; text-decoration-color: #7f7f7f\">120</span></a>\n",
       "</pre>\n"
      ],
      "text/plain": [
       "\u001b[2;36m                   \u001b[0m\u001b[2;36m \u001b[0m\u001b[34mINFO    \u001b[0m Generating squiggle for test_read_16_98418_99218                  \u001b]8;id=835817;file:///home/adoni5/Projects/Icarust_supplementary/notebooks/make_squiggle.py\u001b\\\u001b[2mmake_squiggle.py\u001b[0m\u001b]8;;\u001b\\\u001b[2m:\u001b[0m\u001b]8;id=892625;file:///home/adoni5/Projects/Icarust_supplementary/notebooks/make_squiggle.py#120\u001b\\\u001b[2m120\u001b[0m\u001b]8;;\u001b\\\n"
      ]
     },
     "metadata": {},
     "output_type": "display_data"
    },
    {
     "data": {
      "text/html": [
       "<pre style=\"white-space:pre;overflow-x:auto;line-height:normal;font-family:Menlo,'DejaVu Sans Mono',consolas,'Courier New',monospace\"><span style=\"color: #7fbfbf; text-decoration-color: #7fbfbf\">                    </span><span style=\"color: #000080; text-decoration-color: #000080\">INFO    </span> Invalid characters found in sequence of test_read_16_98418_99218, <a href=\"file:///home/adoni5/Projects/Icarust_supplementary/notebooks/make_squiggle.py\" target=\"_blank\"><span style=\"color: #7f7f7f; text-decoration-color: #7f7f7f\">make_squiggle.py</span></a><span style=\"color: #7f7f7f; text-decoration-color: #7f7f7f\">:</span><a href=\"file:///home/adoni5/Projects/Icarust_supplementary/notebooks/make_squiggle.py#122\" target=\"_blank\"><span style=\"color: #7f7f7f; text-decoration-color: #7f7f7f\">122</span></a>\n",
       "<span style=\"color: #7fbfbf; text-decoration-color: #7fbfbf\">                    </span>         removing them                                                     <span style=\"color: #7f7f7f; text-decoration-color: #7f7f7f\">                    </span>\n",
       "</pre>\n"
      ],
      "text/plain": [
       "\u001b[2;36m                   \u001b[0m\u001b[2;36m \u001b[0m\u001b[34mINFO    \u001b[0m Invalid characters found in sequence of test_read_16_98418_99218, \u001b]8;id=882633;file:///home/adoni5/Projects/Icarust_supplementary/notebooks/make_squiggle.py\u001b\\\u001b[2mmake_squiggle.py\u001b[0m\u001b]8;;\u001b\\\u001b[2m:\u001b[0m\u001b]8;id=989405;file:///home/adoni5/Projects/Icarust_supplementary/notebooks/make_squiggle.py#122\u001b\\\u001b[2m122\u001b[0m\u001b]8;;\u001b\\\n",
       "\u001b[2;36m                    \u001b[0m         removing them                                                     \u001b[2m                    \u001b[0m\n"
      ]
     },
     "metadata": {},
     "output_type": "display_data"
    },
    {
     "data": {
      "text/html": [
       "<pre style=\"white-space:pre;overflow-x:auto;line-height:normal;font-family:Menlo,'DejaVu Sans Mono',consolas,'Courier New',monospace\"><span style=\"color: #7fbfbf; text-decoration-color: #7fbfbf\">                    </span><span style=\"color: #000080; text-decoration-color: #000080\">INFO    </span> Generating squiggle for test_read_17_511554_512404                <a href=\"file:///home/adoni5/Projects/Icarust_supplementary/notebooks/make_squiggle.py\" target=\"_blank\"><span style=\"color: #7f7f7f; text-decoration-color: #7f7f7f\">make_squiggle.py</span></a><span style=\"color: #7f7f7f; text-decoration-color: #7f7f7f\">:</span><a href=\"file:///home/adoni5/Projects/Icarust_supplementary/notebooks/make_squiggle.py#120\" target=\"_blank\"><span style=\"color: #7f7f7f; text-decoration-color: #7f7f7f\">120</span></a>\n",
       "</pre>\n"
      ],
      "text/plain": [
       "\u001b[2;36m                   \u001b[0m\u001b[2;36m \u001b[0m\u001b[34mINFO    \u001b[0m Generating squiggle for test_read_17_511554_512404                \u001b]8;id=17501;file:///home/adoni5/Projects/Icarust_supplementary/notebooks/make_squiggle.py\u001b\\\u001b[2mmake_squiggle.py\u001b[0m\u001b]8;;\u001b\\\u001b[2m:\u001b[0m\u001b]8;id=475003;file:///home/adoni5/Projects/Icarust_supplementary/notebooks/make_squiggle.py#120\u001b\\\u001b[2m120\u001b[0m\u001b]8;;\u001b\\\n"
      ]
     },
     "metadata": {},
     "output_type": "display_data"
    },
    {
     "data": {
      "text/html": [
       "<pre style=\"white-space:pre;overflow-x:auto;line-height:normal;font-family:Menlo,'DejaVu Sans Mono',consolas,'Courier New',monospace\"><span style=\"color: #7fbfbf; text-decoration-color: #7fbfbf\">                    </span><span style=\"color: #000080; text-decoration-color: #000080\">INFO    </span> Invalid characters found in sequence of                           <a href=\"file:///home/adoni5/Projects/Icarust_supplementary/notebooks/make_squiggle.py\" target=\"_blank\"><span style=\"color: #7f7f7f; text-decoration-color: #7f7f7f\">make_squiggle.py</span></a><span style=\"color: #7f7f7f; text-decoration-color: #7f7f7f\">:</span><a href=\"file:///home/adoni5/Projects/Icarust_supplementary/notebooks/make_squiggle.py#122\" target=\"_blank\"><span style=\"color: #7f7f7f; text-decoration-color: #7f7f7f\">122</span></a>\n",
       "<span style=\"color: #7fbfbf; text-decoration-color: #7fbfbf\">                    </span>         test_read_17_511554_512404, removing them                         <span style=\"color: #7f7f7f; text-decoration-color: #7f7f7f\">                    </span>\n",
       "</pre>\n"
      ],
      "text/plain": [
       "\u001b[2;36m                   \u001b[0m\u001b[2;36m \u001b[0m\u001b[34mINFO    \u001b[0m Invalid characters found in sequence of                           \u001b]8;id=261681;file:///home/adoni5/Projects/Icarust_supplementary/notebooks/make_squiggle.py\u001b\\\u001b[2mmake_squiggle.py\u001b[0m\u001b]8;;\u001b\\\u001b[2m:\u001b[0m\u001b]8;id=281691;file:///home/adoni5/Projects/Icarust_supplementary/notebooks/make_squiggle.py#122\u001b\\\u001b[2m122\u001b[0m\u001b]8;;\u001b\\\n",
       "\u001b[2;36m                    \u001b[0m         test_read_17_511554_512404, removing them                         \u001b[2m                    \u001b[0m\n"
      ]
     },
     "metadata": {},
     "output_type": "display_data"
    },
    {
     "data": {
      "text/html": [
       "<pre style=\"white-space:pre;overflow-x:auto;line-height:normal;font-family:Menlo,'DejaVu Sans Mono',consolas,'Courier New',monospace\"><span style=\"color: #7fbfbf; text-decoration-color: #7fbfbf\">                    </span><span style=\"color: #000080; text-decoration-color: #000080\">INFO    </span> Generating squiggle for test_read_18_936710_937610                <a href=\"file:///home/adoni5/Projects/Icarust_supplementary/notebooks/make_squiggle.py\" target=\"_blank\"><span style=\"color: #7f7f7f; text-decoration-color: #7f7f7f\">make_squiggle.py</span></a><span style=\"color: #7f7f7f; text-decoration-color: #7f7f7f\">:</span><a href=\"file:///home/adoni5/Projects/Icarust_supplementary/notebooks/make_squiggle.py#120\" target=\"_blank\"><span style=\"color: #7f7f7f; text-decoration-color: #7f7f7f\">120</span></a>\n",
       "</pre>\n"
      ],
      "text/plain": [
       "\u001b[2;36m                   \u001b[0m\u001b[2;36m \u001b[0m\u001b[34mINFO    \u001b[0m Generating squiggle for test_read_18_936710_937610                \u001b]8;id=361153;file:///home/adoni5/Projects/Icarust_supplementary/notebooks/make_squiggle.py\u001b\\\u001b[2mmake_squiggle.py\u001b[0m\u001b]8;;\u001b\\\u001b[2m:\u001b[0m\u001b]8;id=304385;file:///home/adoni5/Projects/Icarust_supplementary/notebooks/make_squiggle.py#120\u001b\\\u001b[2m120\u001b[0m\u001b]8;;\u001b\\\n"
      ]
     },
     "metadata": {},
     "output_type": "display_data"
    },
    {
     "data": {
      "text/html": [
       "<pre style=\"white-space:pre;overflow-x:auto;line-height:normal;font-family:Menlo,'DejaVu Sans Mono',consolas,'Courier New',monospace\"><span style=\"color: #7fbfbf; text-decoration-color: #7fbfbf\">                    </span><span style=\"color: #000080; text-decoration-color: #000080\">INFO    </span> Invalid characters found in sequence of                           <a href=\"file:///home/adoni5/Projects/Icarust_supplementary/notebooks/make_squiggle.py\" target=\"_blank\"><span style=\"color: #7f7f7f; text-decoration-color: #7f7f7f\">make_squiggle.py</span></a><span style=\"color: #7f7f7f; text-decoration-color: #7f7f7f\">:</span><a href=\"file:///home/adoni5/Projects/Icarust_supplementary/notebooks/make_squiggle.py#122\" target=\"_blank\"><span style=\"color: #7f7f7f; text-decoration-color: #7f7f7f\">122</span></a>\n",
       "<span style=\"color: #7fbfbf; text-decoration-color: #7fbfbf\">                    </span>         test_read_18_936710_937610, removing them                         <span style=\"color: #7f7f7f; text-decoration-color: #7f7f7f\">                    </span>\n",
       "</pre>\n"
      ],
      "text/plain": [
       "\u001b[2;36m                   \u001b[0m\u001b[2;36m \u001b[0m\u001b[34mINFO    \u001b[0m Invalid characters found in sequence of                           \u001b]8;id=552998;file:///home/adoni5/Projects/Icarust_supplementary/notebooks/make_squiggle.py\u001b\\\u001b[2mmake_squiggle.py\u001b[0m\u001b]8;;\u001b\\\u001b[2m:\u001b[0m\u001b]8;id=998199;file:///home/adoni5/Projects/Icarust_supplementary/notebooks/make_squiggle.py#122\u001b\\\u001b[2m122\u001b[0m\u001b]8;;\u001b\\\n",
       "\u001b[2;36m                    \u001b[0m         test_read_18_936710_937610, removing them                         \u001b[2m                    \u001b[0m\n"
      ]
     },
     "metadata": {},
     "output_type": "display_data"
    },
    {
     "data": {
      "text/html": [
       "<pre style=\"white-space:pre;overflow-x:auto;line-height:normal;font-family:Menlo,'DejaVu Sans Mono',consolas,'Courier New',monospace\"><span style=\"color: #7fbfbf; text-decoration-color: #7fbfbf\">                    </span><span style=\"color: #000080; text-decoration-color: #000080\">INFO    </span> Generating squiggle for test_read_19_876363_877313                <a href=\"file:///home/adoni5/Projects/Icarust_supplementary/notebooks/make_squiggle.py\" target=\"_blank\"><span style=\"color: #7f7f7f; text-decoration-color: #7f7f7f\">make_squiggle.py</span></a><span style=\"color: #7f7f7f; text-decoration-color: #7f7f7f\">:</span><a href=\"file:///home/adoni5/Projects/Icarust_supplementary/notebooks/make_squiggle.py#120\" target=\"_blank\"><span style=\"color: #7f7f7f; text-decoration-color: #7f7f7f\">120</span></a>\n",
       "</pre>\n"
      ],
      "text/plain": [
       "\u001b[2;36m                   \u001b[0m\u001b[2;36m \u001b[0m\u001b[34mINFO    \u001b[0m Generating squiggle for test_read_19_876363_877313                \u001b]8;id=746156;file:///home/adoni5/Projects/Icarust_supplementary/notebooks/make_squiggle.py\u001b\\\u001b[2mmake_squiggle.py\u001b[0m\u001b]8;;\u001b\\\u001b[2m:\u001b[0m\u001b]8;id=308798;file:///home/adoni5/Projects/Icarust_supplementary/notebooks/make_squiggle.py#120\u001b\\\u001b[2m120\u001b[0m\u001b]8;;\u001b\\\n"
      ]
     },
     "metadata": {},
     "output_type": "display_data"
    },
    {
     "data": {
      "text/html": [
       "<pre style=\"white-space:pre;overflow-x:auto;line-height:normal;font-family:Menlo,'DejaVu Sans Mono',consolas,'Courier New',monospace\"><span style=\"color: #7fbfbf; text-decoration-color: #7fbfbf\">                    </span><span style=\"color: #000080; text-decoration-color: #000080\">INFO    </span> Invalid characters found in sequence of                           <a href=\"file:///home/adoni5/Projects/Icarust_supplementary/notebooks/make_squiggle.py\" target=\"_blank\"><span style=\"color: #7f7f7f; text-decoration-color: #7f7f7f\">make_squiggle.py</span></a><span style=\"color: #7f7f7f; text-decoration-color: #7f7f7f\">:</span><a href=\"file:///home/adoni5/Projects/Icarust_supplementary/notebooks/make_squiggle.py#122\" target=\"_blank\"><span style=\"color: #7f7f7f; text-decoration-color: #7f7f7f\">122</span></a>\n",
       "<span style=\"color: #7fbfbf; text-decoration-color: #7fbfbf\">                    </span>         test_read_19_876363_877313, removing them                         <span style=\"color: #7f7f7f; text-decoration-color: #7f7f7f\">                    </span>\n",
       "</pre>\n"
      ],
      "text/plain": [
       "\u001b[2;36m                   \u001b[0m\u001b[2;36m \u001b[0m\u001b[34mINFO    \u001b[0m Invalid characters found in sequence of                           \u001b]8;id=496784;file:///home/adoni5/Projects/Icarust_supplementary/notebooks/make_squiggle.py\u001b\\\u001b[2mmake_squiggle.py\u001b[0m\u001b]8;;\u001b\\\u001b[2m:\u001b[0m\u001b]8;id=119737;file:///home/adoni5/Projects/Icarust_supplementary/notebooks/make_squiggle.py#122\u001b\\\u001b[2m122\u001b[0m\u001b]8;;\u001b\\\n",
       "\u001b[2;36m                    \u001b[0m         test_read_19_876363_877313, removing them                         \u001b[2m                    \u001b[0m\n"
      ]
     },
     "metadata": {},
     "output_type": "display_data"
    },
    {
     "data": {
      "text/html": [
       "<pre style=\"white-space:pre;overflow-x:auto;line-height:normal;font-family:Menlo,'DejaVu Sans Mono',consolas,'Courier New',monospace\"><span style=\"color: #7fbfbf; text-decoration-color: #7fbfbf\">                    </span><span style=\"color: #000080; text-decoration-color: #000080\">INFO    </span> Generating squiggle for test_read_20_408744_409744                <a href=\"file:///home/adoni5/Projects/Icarust_supplementary/notebooks/make_squiggle.py\" target=\"_blank\"><span style=\"color: #7f7f7f; text-decoration-color: #7f7f7f\">make_squiggle.py</span></a><span style=\"color: #7f7f7f; text-decoration-color: #7f7f7f\">:</span><a href=\"file:///home/adoni5/Projects/Icarust_supplementary/notebooks/make_squiggle.py#120\" target=\"_blank\"><span style=\"color: #7f7f7f; text-decoration-color: #7f7f7f\">120</span></a>\n",
       "</pre>\n"
      ],
      "text/plain": [
       "\u001b[2;36m                   \u001b[0m\u001b[2;36m \u001b[0m\u001b[34mINFO    \u001b[0m Generating squiggle for test_read_20_408744_409744                \u001b]8;id=441365;file:///home/adoni5/Projects/Icarust_supplementary/notebooks/make_squiggle.py\u001b\\\u001b[2mmake_squiggle.py\u001b[0m\u001b]8;;\u001b\\\u001b[2m:\u001b[0m\u001b]8;id=834879;file:///home/adoni5/Projects/Icarust_supplementary/notebooks/make_squiggle.py#120\u001b\\\u001b[2m120\u001b[0m\u001b]8;;\u001b\\\n"
      ]
     },
     "metadata": {},
     "output_type": "display_data"
    },
    {
     "data": {
      "text/html": [
       "<pre style=\"white-space:pre;overflow-x:auto;line-height:normal;font-family:Menlo,'DejaVu Sans Mono',consolas,'Courier New',monospace\"><span style=\"color: #7fbfbf; text-decoration-color: #7fbfbf\">                    </span><span style=\"color: #000080; text-decoration-color: #000080\">INFO    </span> Invalid characters found in sequence of                           <a href=\"file:///home/adoni5/Projects/Icarust_supplementary/notebooks/make_squiggle.py\" target=\"_blank\"><span style=\"color: #7f7f7f; text-decoration-color: #7f7f7f\">make_squiggle.py</span></a><span style=\"color: #7f7f7f; text-decoration-color: #7f7f7f\">:</span><a href=\"file:///home/adoni5/Projects/Icarust_supplementary/notebooks/make_squiggle.py#122\" target=\"_blank\"><span style=\"color: #7f7f7f; text-decoration-color: #7f7f7f\">122</span></a>\n",
       "<span style=\"color: #7fbfbf; text-decoration-color: #7fbfbf\">                    </span>         test_read_20_408744_409744, removing them                         <span style=\"color: #7f7f7f; text-decoration-color: #7f7f7f\">                    </span>\n",
       "</pre>\n"
      ],
      "text/plain": [
       "\u001b[2;36m                   \u001b[0m\u001b[2;36m \u001b[0m\u001b[34mINFO    \u001b[0m Invalid characters found in sequence of                           \u001b]8;id=943528;file:///home/adoni5/Projects/Icarust_supplementary/notebooks/make_squiggle.py\u001b\\\u001b[2mmake_squiggle.py\u001b[0m\u001b]8;;\u001b\\\u001b[2m:\u001b[0m\u001b]8;id=765620;file:///home/adoni5/Projects/Icarust_supplementary/notebooks/make_squiggle.py#122\u001b\\\u001b[2m122\u001b[0m\u001b]8;;\u001b\\\n",
       "\u001b[2;36m                    \u001b[0m         test_read_20_408744_409744, removing them                         \u001b[2m                    \u001b[0m\n"
      ]
     },
     "metadata": {},
     "output_type": "display_data"
    },
    {
     "data": {
      "text/html": [
       "<pre style=\"white-space:pre;overflow-x:auto;line-height:normal;font-family:Menlo,'DejaVu Sans Mono',consolas,'Courier New',monospace\"><span style=\"color: #7fbfbf; text-decoration-color: #7fbfbf\">                    </span><span style=\"color: #000080; text-decoration-color: #000080\">INFO    </span> Generating squiggle for test_read_21_453789_454839                <a href=\"file:///home/adoni5/Projects/Icarust_supplementary/notebooks/make_squiggle.py\" target=\"_blank\"><span style=\"color: #7f7f7f; text-decoration-color: #7f7f7f\">make_squiggle.py</span></a><span style=\"color: #7f7f7f; text-decoration-color: #7f7f7f\">:</span><a href=\"file:///home/adoni5/Projects/Icarust_supplementary/notebooks/make_squiggle.py#120\" target=\"_blank\"><span style=\"color: #7f7f7f; text-decoration-color: #7f7f7f\">120</span></a>\n",
       "</pre>\n"
      ],
      "text/plain": [
       "\u001b[2;36m                   \u001b[0m\u001b[2;36m \u001b[0m\u001b[34mINFO    \u001b[0m Generating squiggle for test_read_21_453789_454839                \u001b]8;id=856728;file:///home/adoni5/Projects/Icarust_supplementary/notebooks/make_squiggle.py\u001b\\\u001b[2mmake_squiggle.py\u001b[0m\u001b]8;;\u001b\\\u001b[2m:\u001b[0m\u001b]8;id=21829;file:///home/adoni5/Projects/Icarust_supplementary/notebooks/make_squiggle.py#120\u001b\\\u001b[2m120\u001b[0m\u001b]8;;\u001b\\\n"
      ]
     },
     "metadata": {},
     "output_type": "display_data"
    },
    {
     "data": {
      "text/html": [
       "<pre style=\"white-space:pre;overflow-x:auto;line-height:normal;font-family:Menlo,'DejaVu Sans Mono',consolas,'Courier New',monospace\"><span style=\"color: #7fbfbf; text-decoration-color: #7fbfbf\">                    </span><span style=\"color: #000080; text-decoration-color: #000080\">INFO    </span> Invalid characters found in sequence of                           <a href=\"file:///home/adoni5/Projects/Icarust_supplementary/notebooks/make_squiggle.py\" target=\"_blank\"><span style=\"color: #7f7f7f; text-decoration-color: #7f7f7f\">make_squiggle.py</span></a><span style=\"color: #7f7f7f; text-decoration-color: #7f7f7f\">:</span><a href=\"file:///home/adoni5/Projects/Icarust_supplementary/notebooks/make_squiggle.py#122\" target=\"_blank\"><span style=\"color: #7f7f7f; text-decoration-color: #7f7f7f\">122</span></a>\n",
       "<span style=\"color: #7fbfbf; text-decoration-color: #7fbfbf\">                    </span>         test_read_21_453789_454839, removing them                         <span style=\"color: #7f7f7f; text-decoration-color: #7f7f7f\">                    </span>\n",
       "</pre>\n"
      ],
      "text/plain": [
       "\u001b[2;36m                   \u001b[0m\u001b[2;36m \u001b[0m\u001b[34mINFO    \u001b[0m Invalid characters found in sequence of                           \u001b]8;id=37042;file:///home/adoni5/Projects/Icarust_supplementary/notebooks/make_squiggle.py\u001b\\\u001b[2mmake_squiggle.py\u001b[0m\u001b]8;;\u001b\\\u001b[2m:\u001b[0m\u001b]8;id=753753;file:///home/adoni5/Projects/Icarust_supplementary/notebooks/make_squiggle.py#122\u001b\\\u001b[2m122\u001b[0m\u001b]8;;\u001b\\\n",
       "\u001b[2;36m                    \u001b[0m         test_read_21_453789_454839, removing them                         \u001b[2m                    \u001b[0m\n"
      ]
     },
     "metadata": {},
     "output_type": "display_data"
    },
    {
     "data": {
      "text/html": [
       "<pre style=\"white-space:pre;overflow-x:auto;line-height:normal;font-family:Menlo,'DejaVu Sans Mono',consolas,'Courier New',monospace\"><span style=\"color: #7fbfbf; text-decoration-color: #7fbfbf\">                    </span><span style=\"color: #000080; text-decoration-color: #000080\">INFO    </span> Generating squiggle for test_read_22_636944_638044                <a href=\"file:///home/adoni5/Projects/Icarust_supplementary/notebooks/make_squiggle.py\" target=\"_blank\"><span style=\"color: #7f7f7f; text-decoration-color: #7f7f7f\">make_squiggle.py</span></a><span style=\"color: #7f7f7f; text-decoration-color: #7f7f7f\">:</span><a href=\"file:///home/adoni5/Projects/Icarust_supplementary/notebooks/make_squiggle.py#120\" target=\"_blank\"><span style=\"color: #7f7f7f; text-decoration-color: #7f7f7f\">120</span></a>\n",
       "</pre>\n"
      ],
      "text/plain": [
       "\u001b[2;36m                   \u001b[0m\u001b[2;36m \u001b[0m\u001b[34mINFO    \u001b[0m Generating squiggle for test_read_22_636944_638044                \u001b]8;id=711118;file:///home/adoni5/Projects/Icarust_supplementary/notebooks/make_squiggle.py\u001b\\\u001b[2mmake_squiggle.py\u001b[0m\u001b]8;;\u001b\\\u001b[2m:\u001b[0m\u001b]8;id=447390;file:///home/adoni5/Projects/Icarust_supplementary/notebooks/make_squiggle.py#120\u001b\\\u001b[2m120\u001b[0m\u001b]8;;\u001b\\\n"
      ]
     },
     "metadata": {},
     "output_type": "display_data"
    },
    {
     "data": {
      "text/html": [
       "<pre style=\"white-space:pre;overflow-x:auto;line-height:normal;font-family:Menlo,'DejaVu Sans Mono',consolas,'Courier New',monospace\"><span style=\"color: #7fbfbf; text-decoration-color: #7fbfbf\">                    </span><span style=\"color: #000080; text-decoration-color: #000080\">INFO    </span> Invalid characters found in sequence of                           <a href=\"file:///home/adoni5/Projects/Icarust_supplementary/notebooks/make_squiggle.py\" target=\"_blank\"><span style=\"color: #7f7f7f; text-decoration-color: #7f7f7f\">make_squiggle.py</span></a><span style=\"color: #7f7f7f; text-decoration-color: #7f7f7f\">:</span><a href=\"file:///home/adoni5/Projects/Icarust_supplementary/notebooks/make_squiggle.py#122\" target=\"_blank\"><span style=\"color: #7f7f7f; text-decoration-color: #7f7f7f\">122</span></a>\n",
       "<span style=\"color: #7fbfbf; text-decoration-color: #7fbfbf\">                    </span>         test_read_22_636944_638044, removing them                         <span style=\"color: #7f7f7f; text-decoration-color: #7f7f7f\">                    </span>\n",
       "</pre>\n"
      ],
      "text/plain": [
       "\u001b[2;36m                   \u001b[0m\u001b[2;36m \u001b[0m\u001b[34mINFO    \u001b[0m Invalid characters found in sequence of                           \u001b]8;id=836565;file:///home/adoni5/Projects/Icarust_supplementary/notebooks/make_squiggle.py\u001b\\\u001b[2mmake_squiggle.py\u001b[0m\u001b]8;;\u001b\\\u001b[2m:\u001b[0m\u001b]8;id=728813;file:///home/adoni5/Projects/Icarust_supplementary/notebooks/make_squiggle.py#122\u001b\\\u001b[2m122\u001b[0m\u001b]8;;\u001b\\\n",
       "\u001b[2;36m                    \u001b[0m         test_read_22_636944_638044, removing them                         \u001b[2m                    \u001b[0m\n"
      ]
     },
     "metadata": {},
     "output_type": "display_data"
    },
    {
     "data": {
      "text/html": [
       "<pre style=\"white-space:pre;overflow-x:auto;line-height:normal;font-family:Menlo,'DejaVu Sans Mono',consolas,'Courier New',monospace\"><span style=\"color: #7fbfbf; text-decoration-color: #7fbfbf\">                    </span><span style=\"color: #000080; text-decoration-color: #000080\">INFO    </span> Generating squiggle for test_read_23_799308_800458                <a href=\"file:///home/adoni5/Projects/Icarust_supplementary/notebooks/make_squiggle.py\" target=\"_blank\"><span style=\"color: #7f7f7f; text-decoration-color: #7f7f7f\">make_squiggle.py</span></a><span style=\"color: #7f7f7f; text-decoration-color: #7f7f7f\">:</span><a href=\"file:///home/adoni5/Projects/Icarust_supplementary/notebooks/make_squiggle.py#120\" target=\"_blank\"><span style=\"color: #7f7f7f; text-decoration-color: #7f7f7f\">120</span></a>\n",
       "</pre>\n"
      ],
      "text/plain": [
       "\u001b[2;36m                   \u001b[0m\u001b[2;36m \u001b[0m\u001b[34mINFO    \u001b[0m Generating squiggle for test_read_23_799308_800458                \u001b]8;id=680008;file:///home/adoni5/Projects/Icarust_supplementary/notebooks/make_squiggle.py\u001b\\\u001b[2mmake_squiggle.py\u001b[0m\u001b]8;;\u001b\\\u001b[2m:\u001b[0m\u001b]8;id=32191;file:///home/adoni5/Projects/Icarust_supplementary/notebooks/make_squiggle.py#120\u001b\\\u001b[2m120\u001b[0m\u001b]8;;\u001b\\\n"
      ]
     },
     "metadata": {},
     "output_type": "display_data"
    },
    {
     "data": {
      "text/html": [
       "<pre style=\"white-space:pre;overflow-x:auto;line-height:normal;font-family:Menlo,'DejaVu Sans Mono',consolas,'Courier New',monospace\"><span style=\"color: #7fbfbf; text-decoration-color: #7fbfbf\">                    </span><span style=\"color: #000080; text-decoration-color: #000080\">INFO    </span> Invalid characters found in sequence of                           <a href=\"file:///home/adoni5/Projects/Icarust_supplementary/notebooks/make_squiggle.py\" target=\"_blank\"><span style=\"color: #7f7f7f; text-decoration-color: #7f7f7f\">make_squiggle.py</span></a><span style=\"color: #7f7f7f; text-decoration-color: #7f7f7f\">:</span><a href=\"file:///home/adoni5/Projects/Icarust_supplementary/notebooks/make_squiggle.py#122\" target=\"_blank\"><span style=\"color: #7f7f7f; text-decoration-color: #7f7f7f\">122</span></a>\n",
       "<span style=\"color: #7fbfbf; text-decoration-color: #7fbfbf\">                    </span>         test_read_23_799308_800458, removing them                         <span style=\"color: #7f7f7f; text-decoration-color: #7f7f7f\">                    </span>\n",
       "</pre>\n"
      ],
      "text/plain": [
       "\u001b[2;36m                   \u001b[0m\u001b[2;36m \u001b[0m\u001b[34mINFO    \u001b[0m Invalid characters found in sequence of                           \u001b]8;id=336850;file:///home/adoni5/Projects/Icarust_supplementary/notebooks/make_squiggle.py\u001b\\\u001b[2mmake_squiggle.py\u001b[0m\u001b]8;;\u001b\\\u001b[2m:\u001b[0m\u001b]8;id=691875;file:///home/adoni5/Projects/Icarust_supplementary/notebooks/make_squiggle.py#122\u001b\\\u001b[2m122\u001b[0m\u001b]8;;\u001b\\\n",
       "\u001b[2;36m                    \u001b[0m         test_read_23_799308_800458, removing them                         \u001b[2m                    \u001b[0m\n"
      ]
     },
     "metadata": {},
     "output_type": "display_data"
    },
    {
     "data": {
      "text/html": [
       "<pre style=\"white-space:pre;overflow-x:auto;line-height:normal;font-family:Menlo,'DejaVu Sans Mono',consolas,'Courier New',monospace\"><span style=\"color: #7fbfbf; text-decoration-color: #7fbfbf\">                    </span><span style=\"color: #000080; text-decoration-color: #000080\">INFO    </span> Generating squiggle for test_read_24_804423_805623                <a href=\"file:///home/adoni5/Projects/Icarust_supplementary/notebooks/make_squiggle.py\" target=\"_blank\"><span style=\"color: #7f7f7f; text-decoration-color: #7f7f7f\">make_squiggle.py</span></a><span style=\"color: #7f7f7f; text-decoration-color: #7f7f7f\">:</span><a href=\"file:///home/adoni5/Projects/Icarust_supplementary/notebooks/make_squiggle.py#120\" target=\"_blank\"><span style=\"color: #7f7f7f; text-decoration-color: #7f7f7f\">120</span></a>\n",
       "</pre>\n"
      ],
      "text/plain": [
       "\u001b[2;36m                   \u001b[0m\u001b[2;36m \u001b[0m\u001b[34mINFO    \u001b[0m Generating squiggle for test_read_24_804423_805623                \u001b]8;id=313111;file:///home/adoni5/Projects/Icarust_supplementary/notebooks/make_squiggle.py\u001b\\\u001b[2mmake_squiggle.py\u001b[0m\u001b]8;;\u001b\\\u001b[2m:\u001b[0m\u001b]8;id=131788;file:///home/adoni5/Projects/Icarust_supplementary/notebooks/make_squiggle.py#120\u001b\\\u001b[2m120\u001b[0m\u001b]8;;\u001b\\\n"
      ]
     },
     "metadata": {},
     "output_type": "display_data"
    },
    {
     "data": {
      "text/html": [
       "<pre style=\"white-space:pre;overflow-x:auto;line-height:normal;font-family:Menlo,'DejaVu Sans Mono',consolas,'Courier New',monospace\"><span style=\"color: #7fbfbf; text-decoration-color: #7fbfbf\">                    </span><span style=\"color: #000080; text-decoration-color: #000080\">INFO    </span> Invalid characters found in sequence of                           <a href=\"file:///home/adoni5/Projects/Icarust_supplementary/notebooks/make_squiggle.py\" target=\"_blank\"><span style=\"color: #7f7f7f; text-decoration-color: #7f7f7f\">make_squiggle.py</span></a><span style=\"color: #7f7f7f; text-decoration-color: #7f7f7f\">:</span><a href=\"file:///home/adoni5/Projects/Icarust_supplementary/notebooks/make_squiggle.py#122\" target=\"_blank\"><span style=\"color: #7f7f7f; text-decoration-color: #7f7f7f\">122</span></a>\n",
       "<span style=\"color: #7fbfbf; text-decoration-color: #7fbfbf\">                    </span>         test_read_24_804423_805623, removing them                         <span style=\"color: #7f7f7f; text-decoration-color: #7f7f7f\">                    </span>\n",
       "</pre>\n"
      ],
      "text/plain": [
       "\u001b[2;36m                   \u001b[0m\u001b[2;36m \u001b[0m\u001b[34mINFO    \u001b[0m Invalid characters found in sequence of                           \u001b]8;id=74162;file:///home/adoni5/Projects/Icarust_supplementary/notebooks/make_squiggle.py\u001b\\\u001b[2mmake_squiggle.py\u001b[0m\u001b]8;;\u001b\\\u001b[2m:\u001b[0m\u001b]8;id=900217;file:///home/adoni5/Projects/Icarust_supplementary/notebooks/make_squiggle.py#122\u001b\\\u001b[2m122\u001b[0m\u001b]8;;\u001b\\\n",
       "\u001b[2;36m                    \u001b[0m         test_read_24_804423_805623, removing them                         \u001b[2m                    \u001b[0m\n"
      ]
     },
     "metadata": {},
     "output_type": "display_data"
    },
    {
     "data": {
      "text/html": [
       "<pre style=\"white-space:pre;overflow-x:auto;line-height:normal;font-family:Menlo,'DejaVu Sans Mono',consolas,'Courier New',monospace\"><span style=\"color: #7fbfbf; text-decoration-color: #7fbfbf\">                    </span><span style=\"color: #000080; text-decoration-color: #000080\">INFO    </span> Generating squiggle for test_read_25_729633_730883                <a href=\"file:///home/adoni5/Projects/Icarust_supplementary/notebooks/make_squiggle.py\" target=\"_blank\"><span style=\"color: #7f7f7f; text-decoration-color: #7f7f7f\">make_squiggle.py</span></a><span style=\"color: #7f7f7f; text-decoration-color: #7f7f7f\">:</span><a href=\"file:///home/adoni5/Projects/Icarust_supplementary/notebooks/make_squiggle.py#120\" target=\"_blank\"><span style=\"color: #7f7f7f; text-decoration-color: #7f7f7f\">120</span></a>\n",
       "</pre>\n"
      ],
      "text/plain": [
       "\u001b[2;36m                   \u001b[0m\u001b[2;36m \u001b[0m\u001b[34mINFO    \u001b[0m Generating squiggle for test_read_25_729633_730883                \u001b]8;id=312349;file:///home/adoni5/Projects/Icarust_supplementary/notebooks/make_squiggle.py\u001b\\\u001b[2mmake_squiggle.py\u001b[0m\u001b]8;;\u001b\\\u001b[2m:\u001b[0m\u001b]8;id=779974;file:///home/adoni5/Projects/Icarust_supplementary/notebooks/make_squiggle.py#120\u001b\\\u001b[2m120\u001b[0m\u001b]8;;\u001b\\\n"
      ]
     },
     "metadata": {},
     "output_type": "display_data"
    },
    {
     "data": {
      "text/html": [
       "<pre style=\"white-space:pre;overflow-x:auto;line-height:normal;font-family:Menlo,'DejaVu Sans Mono',consolas,'Courier New',monospace\"><span style=\"color: #7fbfbf; text-decoration-color: #7fbfbf\">                    </span><span style=\"color: #000080; text-decoration-color: #000080\">INFO    </span> Invalid characters found in sequence of                           <a href=\"file:///home/adoni5/Projects/Icarust_supplementary/notebooks/make_squiggle.py\" target=\"_blank\"><span style=\"color: #7f7f7f; text-decoration-color: #7f7f7f\">make_squiggle.py</span></a><span style=\"color: #7f7f7f; text-decoration-color: #7f7f7f\">:</span><a href=\"file:///home/adoni5/Projects/Icarust_supplementary/notebooks/make_squiggle.py#122\" target=\"_blank\"><span style=\"color: #7f7f7f; text-decoration-color: #7f7f7f\">122</span></a>\n",
       "<span style=\"color: #7fbfbf; text-decoration-color: #7fbfbf\">                    </span>         test_read_25_729633_730883, removing them                         <span style=\"color: #7f7f7f; text-decoration-color: #7f7f7f\">                    </span>\n",
       "</pre>\n"
      ],
      "text/plain": [
       "\u001b[2;36m                   \u001b[0m\u001b[2;36m \u001b[0m\u001b[34mINFO    \u001b[0m Invalid characters found in sequence of                           \u001b]8;id=136725;file:///home/adoni5/Projects/Icarust_supplementary/notebooks/make_squiggle.py\u001b\\\u001b[2mmake_squiggle.py\u001b[0m\u001b]8;;\u001b\\\u001b[2m:\u001b[0m\u001b]8;id=8892;file:///home/adoni5/Projects/Icarust_supplementary/notebooks/make_squiggle.py#122\u001b\\\u001b[2m122\u001b[0m\u001b]8;;\u001b\\\n",
       "\u001b[2;36m                    \u001b[0m         test_read_25_729633_730883, removing them                         \u001b[2m                    \u001b[0m\n"
      ]
     },
     "metadata": {},
     "output_type": "display_data"
    },
    {
     "data": {
      "text/html": [
       "<pre style=\"white-space:pre;overflow-x:auto;line-height:normal;font-family:Menlo,'DejaVu Sans Mono',consolas,'Courier New',monospace\"><span style=\"color: #7fbfbf; text-decoration-color: #7fbfbf\">                    </span><span style=\"color: #000080; text-decoration-color: #000080\">INFO    </span> Generating squiggle for test_read_26_467022_468322                <a href=\"file:///home/adoni5/Projects/Icarust_supplementary/notebooks/make_squiggle.py\" target=\"_blank\"><span style=\"color: #7f7f7f; text-decoration-color: #7f7f7f\">make_squiggle.py</span></a><span style=\"color: #7f7f7f; text-decoration-color: #7f7f7f\">:</span><a href=\"file:///home/adoni5/Projects/Icarust_supplementary/notebooks/make_squiggle.py#120\" target=\"_blank\"><span style=\"color: #7f7f7f; text-decoration-color: #7f7f7f\">120</span></a>\n",
       "</pre>\n"
      ],
      "text/plain": [
       "\u001b[2;36m                   \u001b[0m\u001b[2;36m \u001b[0m\u001b[34mINFO    \u001b[0m Generating squiggle for test_read_26_467022_468322                \u001b]8;id=619272;file:///home/adoni5/Projects/Icarust_supplementary/notebooks/make_squiggle.py\u001b\\\u001b[2mmake_squiggle.py\u001b[0m\u001b]8;;\u001b\\\u001b[2m:\u001b[0m\u001b]8;id=859217;file:///home/adoni5/Projects/Icarust_supplementary/notebooks/make_squiggle.py#120\u001b\\\u001b[2m120\u001b[0m\u001b]8;;\u001b\\\n"
      ]
     },
     "metadata": {},
     "output_type": "display_data"
    },
    {
     "data": {
      "text/html": [
       "<pre style=\"white-space:pre;overflow-x:auto;line-height:normal;font-family:Menlo,'DejaVu Sans Mono',consolas,'Courier New',monospace\"><span style=\"color: #7fbfbf; text-decoration-color: #7fbfbf\">                    </span><span style=\"color: #000080; text-decoration-color: #000080\">INFO    </span> Invalid characters found in sequence of                           <a href=\"file:///home/adoni5/Projects/Icarust_supplementary/notebooks/make_squiggle.py\" target=\"_blank\"><span style=\"color: #7f7f7f; text-decoration-color: #7f7f7f\">make_squiggle.py</span></a><span style=\"color: #7f7f7f; text-decoration-color: #7f7f7f\">:</span><a href=\"file:///home/adoni5/Projects/Icarust_supplementary/notebooks/make_squiggle.py#122\" target=\"_blank\"><span style=\"color: #7f7f7f; text-decoration-color: #7f7f7f\">122</span></a>\n",
       "<span style=\"color: #7fbfbf; text-decoration-color: #7fbfbf\">                    </span>         test_read_26_467022_468322, removing them                         <span style=\"color: #7f7f7f; text-decoration-color: #7f7f7f\">                    </span>\n",
       "</pre>\n"
      ],
      "text/plain": [
       "\u001b[2;36m                   \u001b[0m\u001b[2;36m \u001b[0m\u001b[34mINFO    \u001b[0m Invalid characters found in sequence of                           \u001b]8;id=179848;file:///home/adoni5/Projects/Icarust_supplementary/notebooks/make_squiggle.py\u001b\\\u001b[2mmake_squiggle.py\u001b[0m\u001b]8;;\u001b\\\u001b[2m:\u001b[0m\u001b]8;id=868129;file:///home/adoni5/Projects/Icarust_supplementary/notebooks/make_squiggle.py#122\u001b\\\u001b[2m122\u001b[0m\u001b]8;;\u001b\\\n",
       "\u001b[2;36m                    \u001b[0m         test_read_26_467022_468322, removing them                         \u001b[2m                    \u001b[0m\n"
      ]
     },
     "metadata": {},
     "output_type": "display_data"
    },
    {
     "data": {
      "text/html": [
       "<pre style=\"white-space:pre;overflow-x:auto;line-height:normal;font-family:Menlo,'DejaVu Sans Mono',consolas,'Courier New',monospace\"><span style=\"color: #7fbfbf; text-decoration-color: #7fbfbf\">                    </span><span style=\"color: #000080; text-decoration-color: #000080\">INFO    </span> Generating squiggle for test_read_27_279267_280617                <a href=\"file:///home/adoni5/Projects/Icarust_supplementary/notebooks/make_squiggle.py\" target=\"_blank\"><span style=\"color: #7f7f7f; text-decoration-color: #7f7f7f\">make_squiggle.py</span></a><span style=\"color: #7f7f7f; text-decoration-color: #7f7f7f\">:</span><a href=\"file:///home/adoni5/Projects/Icarust_supplementary/notebooks/make_squiggle.py#120\" target=\"_blank\"><span style=\"color: #7f7f7f; text-decoration-color: #7f7f7f\">120</span></a>\n",
       "</pre>\n"
      ],
      "text/plain": [
       "\u001b[2;36m                   \u001b[0m\u001b[2;36m \u001b[0m\u001b[34mINFO    \u001b[0m Generating squiggle for test_read_27_279267_280617                \u001b]8;id=653223;file:///home/adoni5/Projects/Icarust_supplementary/notebooks/make_squiggle.py\u001b\\\u001b[2mmake_squiggle.py\u001b[0m\u001b]8;;\u001b\\\u001b[2m:\u001b[0m\u001b]8;id=533592;file:///home/adoni5/Projects/Icarust_supplementary/notebooks/make_squiggle.py#120\u001b\\\u001b[2m120\u001b[0m\u001b]8;;\u001b\\\n"
      ]
     },
     "metadata": {},
     "output_type": "display_data"
    },
    {
     "data": {
      "text/html": [
       "<pre style=\"white-space:pre;overflow-x:auto;line-height:normal;font-family:Menlo,'DejaVu Sans Mono',consolas,'Courier New',monospace\"><span style=\"color: #7fbfbf; text-decoration-color: #7fbfbf\">                    </span><span style=\"color: #000080; text-decoration-color: #000080\">INFO    </span> Invalid characters found in sequence of                           <a href=\"file:///home/adoni5/Projects/Icarust_supplementary/notebooks/make_squiggle.py\" target=\"_blank\"><span style=\"color: #7f7f7f; text-decoration-color: #7f7f7f\">make_squiggle.py</span></a><span style=\"color: #7f7f7f; text-decoration-color: #7f7f7f\">:</span><a href=\"file:///home/adoni5/Projects/Icarust_supplementary/notebooks/make_squiggle.py#122\" target=\"_blank\"><span style=\"color: #7f7f7f; text-decoration-color: #7f7f7f\">122</span></a>\n",
       "<span style=\"color: #7fbfbf; text-decoration-color: #7fbfbf\">                    </span>         test_read_27_279267_280617, removing them                         <span style=\"color: #7f7f7f; text-decoration-color: #7f7f7f\">                    </span>\n",
       "</pre>\n"
      ],
      "text/plain": [
       "\u001b[2;36m                   \u001b[0m\u001b[2;36m \u001b[0m\u001b[34mINFO    \u001b[0m Invalid characters found in sequence of                           \u001b]8;id=103835;file:///home/adoni5/Projects/Icarust_supplementary/notebooks/make_squiggle.py\u001b\\\u001b[2mmake_squiggle.py\u001b[0m\u001b]8;;\u001b\\\u001b[2m:\u001b[0m\u001b]8;id=215756;file:///home/adoni5/Projects/Icarust_supplementary/notebooks/make_squiggle.py#122\u001b\\\u001b[2m122\u001b[0m\u001b]8;;\u001b\\\n",
       "\u001b[2;36m                    \u001b[0m         test_read_27_279267_280617, removing them                         \u001b[2m                    \u001b[0m\n"
      ]
     },
     "metadata": {},
     "output_type": "display_data"
    },
    {
     "data": {
      "text/html": [
       "<pre style=\"white-space:pre;overflow-x:auto;line-height:normal;font-family:Menlo,'DejaVu Sans Mono',consolas,'Courier New',monospace\"><span style=\"color: #7fbfbf; text-decoration-color: #7fbfbf\">                    </span><span style=\"color: #000080; text-decoration-color: #000080\">INFO    </span> Generating squiggle for test_read_28_756589_757989                <a href=\"file:///home/adoni5/Projects/Icarust_supplementary/notebooks/make_squiggle.py\" target=\"_blank\"><span style=\"color: #7f7f7f; text-decoration-color: #7f7f7f\">make_squiggle.py</span></a><span style=\"color: #7f7f7f; text-decoration-color: #7f7f7f\">:</span><a href=\"file:///home/adoni5/Projects/Icarust_supplementary/notebooks/make_squiggle.py#120\" target=\"_blank\"><span style=\"color: #7f7f7f; text-decoration-color: #7f7f7f\">120</span></a>\n",
       "</pre>\n"
      ],
      "text/plain": [
       "\u001b[2;36m                   \u001b[0m\u001b[2;36m \u001b[0m\u001b[34mINFO    \u001b[0m Generating squiggle for test_read_28_756589_757989                \u001b]8;id=620137;file:///home/adoni5/Projects/Icarust_supplementary/notebooks/make_squiggle.py\u001b\\\u001b[2mmake_squiggle.py\u001b[0m\u001b]8;;\u001b\\\u001b[2m:\u001b[0m\u001b]8;id=203548;file:///home/adoni5/Projects/Icarust_supplementary/notebooks/make_squiggle.py#120\u001b\\\u001b[2m120\u001b[0m\u001b]8;;\u001b\\\n"
      ]
     },
     "metadata": {},
     "output_type": "display_data"
    },
    {
     "data": {
      "text/html": [
       "<pre style=\"white-space:pre;overflow-x:auto;line-height:normal;font-family:Menlo,'DejaVu Sans Mono',consolas,'Courier New',monospace\"><span style=\"color: #7fbfbf; text-decoration-color: #7fbfbf\">                    </span><span style=\"color: #000080; text-decoration-color: #000080\">INFO    </span> Invalid characters found in sequence of                           <a href=\"file:///home/adoni5/Projects/Icarust_supplementary/notebooks/make_squiggle.py\" target=\"_blank\"><span style=\"color: #7f7f7f; text-decoration-color: #7f7f7f\">make_squiggle.py</span></a><span style=\"color: #7f7f7f; text-decoration-color: #7f7f7f\">:</span><a href=\"file:///home/adoni5/Projects/Icarust_supplementary/notebooks/make_squiggle.py#122\" target=\"_blank\"><span style=\"color: #7f7f7f; text-decoration-color: #7f7f7f\">122</span></a>\n",
       "<span style=\"color: #7fbfbf; text-decoration-color: #7fbfbf\">                    </span>         test_read_28_756589_757989, removing them                         <span style=\"color: #7f7f7f; text-decoration-color: #7f7f7f\">                    </span>\n",
       "</pre>\n"
      ],
      "text/plain": [
       "\u001b[2;36m                   \u001b[0m\u001b[2;36m \u001b[0m\u001b[34mINFO    \u001b[0m Invalid characters found in sequence of                           \u001b]8;id=409008;file:///home/adoni5/Projects/Icarust_supplementary/notebooks/make_squiggle.py\u001b\\\u001b[2mmake_squiggle.py\u001b[0m\u001b]8;;\u001b\\\u001b[2m:\u001b[0m\u001b]8;id=310454;file:///home/adoni5/Projects/Icarust_supplementary/notebooks/make_squiggle.py#122\u001b\\\u001b[2m122\u001b[0m\u001b]8;;\u001b\\\n",
       "\u001b[2;36m                    \u001b[0m         test_read_28_756589_757989, removing them                         \u001b[2m                    \u001b[0m\n"
      ]
     },
     "metadata": {},
     "output_type": "display_data"
    },
    {
     "data": {
      "text/html": [
       "<pre style=\"white-space:pre;overflow-x:auto;line-height:normal;font-family:Menlo,'DejaVu Sans Mono',consolas,'Courier New',monospace\"><span style=\"color: #7fbfbf; text-decoration-color: #7fbfbf\">                    </span><span style=\"color: #000080; text-decoration-color: #000080\">INFO    </span> Generating squiggle for test_read_29_840775_842225                <a href=\"file:///home/adoni5/Projects/Icarust_supplementary/notebooks/make_squiggle.py\" target=\"_blank\"><span style=\"color: #7f7f7f; text-decoration-color: #7f7f7f\">make_squiggle.py</span></a><span style=\"color: #7f7f7f; text-decoration-color: #7f7f7f\">:</span><a href=\"file:///home/adoni5/Projects/Icarust_supplementary/notebooks/make_squiggle.py#120\" target=\"_blank\"><span style=\"color: #7f7f7f; text-decoration-color: #7f7f7f\">120</span></a>\n",
       "</pre>\n"
      ],
      "text/plain": [
       "\u001b[2;36m                   \u001b[0m\u001b[2;36m \u001b[0m\u001b[34mINFO    \u001b[0m Generating squiggle for test_read_29_840775_842225                \u001b]8;id=641863;file:///home/adoni5/Projects/Icarust_supplementary/notebooks/make_squiggle.py\u001b\\\u001b[2mmake_squiggle.py\u001b[0m\u001b]8;;\u001b\\\u001b[2m:\u001b[0m\u001b]8;id=913961;file:///home/adoni5/Projects/Icarust_supplementary/notebooks/make_squiggle.py#120\u001b\\\u001b[2m120\u001b[0m\u001b]8;;\u001b\\\n"
      ]
     },
     "metadata": {},
     "output_type": "display_data"
    },
    {
     "data": {
      "text/html": [
       "<pre style=\"white-space:pre;overflow-x:auto;line-height:normal;font-family:Menlo,'DejaVu Sans Mono',consolas,'Courier New',monospace\"><span style=\"color: #7fbfbf; text-decoration-color: #7fbfbf\">                    </span><span style=\"color: #000080; text-decoration-color: #000080\">INFO    </span> Invalid characters found in sequence of                           <a href=\"file:///home/adoni5/Projects/Icarust_supplementary/notebooks/make_squiggle.py\" target=\"_blank\"><span style=\"color: #7f7f7f; text-decoration-color: #7f7f7f\">make_squiggle.py</span></a><span style=\"color: #7f7f7f; text-decoration-color: #7f7f7f\">:</span><a href=\"file:///home/adoni5/Projects/Icarust_supplementary/notebooks/make_squiggle.py#122\" target=\"_blank\"><span style=\"color: #7f7f7f; text-decoration-color: #7f7f7f\">122</span></a>\n",
       "<span style=\"color: #7fbfbf; text-decoration-color: #7fbfbf\">                    </span>         test_read_29_840775_842225, removing them                         <span style=\"color: #7f7f7f; text-decoration-color: #7f7f7f\">                    </span>\n",
       "</pre>\n"
      ],
      "text/plain": [
       "\u001b[2;36m                   \u001b[0m\u001b[2;36m \u001b[0m\u001b[34mINFO    \u001b[0m Invalid characters found in sequence of                           \u001b]8;id=164590;file:///home/adoni5/Projects/Icarust_supplementary/notebooks/make_squiggle.py\u001b\\\u001b[2mmake_squiggle.py\u001b[0m\u001b]8;;\u001b\\\u001b[2m:\u001b[0m\u001b]8;id=210609;file:///home/adoni5/Projects/Icarust_supplementary/notebooks/make_squiggle.py#122\u001b\\\u001b[2m122\u001b[0m\u001b]8;;\u001b\\\n",
       "\u001b[2;36m                    \u001b[0m         test_read_29_840775_842225, removing them                         \u001b[2m                    \u001b[0m\n"
      ]
     },
     "metadata": {},
     "output_type": "display_data"
    },
    {
     "data": {
      "text/html": [
       "<pre style=\"white-space:pre;overflow-x:auto;line-height:normal;font-family:Menlo,'DejaVu Sans Mono',consolas,'Courier New',monospace\"><span style=\"color: #7fbfbf; text-decoration-color: #7fbfbf\">                    </span><span style=\"color: #000080; text-decoration-color: #000080\">INFO    </span> Generating squiggle for test_read_30_239874_241374                <a href=\"file:///home/adoni5/Projects/Icarust_supplementary/notebooks/make_squiggle.py\" target=\"_blank\"><span style=\"color: #7f7f7f; text-decoration-color: #7f7f7f\">make_squiggle.py</span></a><span style=\"color: #7f7f7f; text-decoration-color: #7f7f7f\">:</span><a href=\"file:///home/adoni5/Projects/Icarust_supplementary/notebooks/make_squiggle.py#120\" target=\"_blank\"><span style=\"color: #7f7f7f; text-decoration-color: #7f7f7f\">120</span></a>\n",
       "</pre>\n"
      ],
      "text/plain": [
       "\u001b[2;36m                   \u001b[0m\u001b[2;36m \u001b[0m\u001b[34mINFO    \u001b[0m Generating squiggle for test_read_30_239874_241374                \u001b]8;id=820720;file:///home/adoni5/Projects/Icarust_supplementary/notebooks/make_squiggle.py\u001b\\\u001b[2mmake_squiggle.py\u001b[0m\u001b]8;;\u001b\\\u001b[2m:\u001b[0m\u001b]8;id=141707;file:///home/adoni5/Projects/Icarust_supplementary/notebooks/make_squiggle.py#120\u001b\\\u001b[2m120\u001b[0m\u001b]8;;\u001b\\\n"
      ]
     },
     "metadata": {},
     "output_type": "display_data"
    },
    {
     "data": {
      "text/html": [
       "<pre style=\"white-space:pre;overflow-x:auto;line-height:normal;font-family:Menlo,'DejaVu Sans Mono',consolas,'Courier New',monospace\"><span style=\"color: #7fbfbf; text-decoration-color: #7fbfbf\">                    </span><span style=\"color: #000080; text-decoration-color: #000080\">INFO    </span> Invalid characters found in sequence of                           <a href=\"file:///home/adoni5/Projects/Icarust_supplementary/notebooks/make_squiggle.py\" target=\"_blank\"><span style=\"color: #7f7f7f; text-decoration-color: #7f7f7f\">make_squiggle.py</span></a><span style=\"color: #7f7f7f; text-decoration-color: #7f7f7f\">:</span><a href=\"file:///home/adoni5/Projects/Icarust_supplementary/notebooks/make_squiggle.py#122\" target=\"_blank\"><span style=\"color: #7f7f7f; text-decoration-color: #7f7f7f\">122</span></a>\n",
       "<span style=\"color: #7fbfbf; text-decoration-color: #7fbfbf\">                    </span>         test_read_30_239874_241374, removing them                         <span style=\"color: #7f7f7f; text-decoration-color: #7f7f7f\">                    </span>\n",
       "</pre>\n"
      ],
      "text/plain": [
       "\u001b[2;36m                   \u001b[0m\u001b[2;36m \u001b[0m\u001b[34mINFO    \u001b[0m Invalid characters found in sequence of                           \u001b]8;id=707217;file:///home/adoni5/Projects/Icarust_supplementary/notebooks/make_squiggle.py\u001b\\\u001b[2mmake_squiggle.py\u001b[0m\u001b]8;;\u001b\\\u001b[2m:\u001b[0m\u001b]8;id=101088;file:///home/adoni5/Projects/Icarust_supplementary/notebooks/make_squiggle.py#122\u001b\\\u001b[2m122\u001b[0m\u001b]8;;\u001b\\\n",
       "\u001b[2;36m                    \u001b[0m         test_read_30_239874_241374, removing them                         \u001b[2m                    \u001b[0m\n"
      ]
     },
     "metadata": {},
     "output_type": "display_data"
    },
    {
     "data": {
      "text/html": [
       "<pre style=\"white-space:pre;overflow-x:auto;line-height:normal;font-family:Menlo,'DejaVu Sans Mono',consolas,'Courier New',monospace\"><span style=\"color: #7fbfbf; text-decoration-color: #7fbfbf\">                    </span><span style=\"color: #000080; text-decoration-color: #000080\">INFO    </span> Generating squiggle for test_read_31_619869_621419                <a href=\"file:///home/adoni5/Projects/Icarust_supplementary/notebooks/make_squiggle.py\" target=\"_blank\"><span style=\"color: #7f7f7f; text-decoration-color: #7f7f7f\">make_squiggle.py</span></a><span style=\"color: #7f7f7f; text-decoration-color: #7f7f7f\">:</span><a href=\"file:///home/adoni5/Projects/Icarust_supplementary/notebooks/make_squiggle.py#120\" target=\"_blank\"><span style=\"color: #7f7f7f; text-decoration-color: #7f7f7f\">120</span></a>\n",
       "</pre>\n"
      ],
      "text/plain": [
       "\u001b[2;36m                   \u001b[0m\u001b[2;36m \u001b[0m\u001b[34mINFO    \u001b[0m Generating squiggle for test_read_31_619869_621419                \u001b]8;id=360552;file:///home/adoni5/Projects/Icarust_supplementary/notebooks/make_squiggle.py\u001b\\\u001b[2mmake_squiggle.py\u001b[0m\u001b]8;;\u001b\\\u001b[2m:\u001b[0m\u001b]8;id=958864;file:///home/adoni5/Projects/Icarust_supplementary/notebooks/make_squiggle.py#120\u001b\\\u001b[2m120\u001b[0m\u001b]8;;\u001b\\\n"
      ]
     },
     "metadata": {},
     "output_type": "display_data"
    },
    {
     "data": {
      "text/html": [
       "<pre style=\"white-space:pre;overflow-x:auto;line-height:normal;font-family:Menlo,'DejaVu Sans Mono',consolas,'Courier New',monospace\"><span style=\"color: #7fbfbf; text-decoration-color: #7fbfbf\">                    </span><span style=\"color: #000080; text-decoration-color: #000080\">INFO    </span> Invalid characters found in sequence of                           <a href=\"file:///home/adoni5/Projects/Icarust_supplementary/notebooks/make_squiggle.py\" target=\"_blank\"><span style=\"color: #7f7f7f; text-decoration-color: #7f7f7f\">make_squiggle.py</span></a><span style=\"color: #7f7f7f; text-decoration-color: #7f7f7f\">:</span><a href=\"file:///home/adoni5/Projects/Icarust_supplementary/notebooks/make_squiggle.py#122\" target=\"_blank\"><span style=\"color: #7f7f7f; text-decoration-color: #7f7f7f\">122</span></a>\n",
       "<span style=\"color: #7fbfbf; text-decoration-color: #7fbfbf\">                    </span>         test_read_31_619869_621419, removing them                         <span style=\"color: #7f7f7f; text-decoration-color: #7f7f7f\">                    </span>\n",
       "</pre>\n"
      ],
      "text/plain": [
       "\u001b[2;36m                   \u001b[0m\u001b[2;36m \u001b[0m\u001b[34mINFO    \u001b[0m Invalid characters found in sequence of                           \u001b]8;id=508033;file:///home/adoni5/Projects/Icarust_supplementary/notebooks/make_squiggle.py\u001b\\\u001b[2mmake_squiggle.py\u001b[0m\u001b]8;;\u001b\\\u001b[2m:\u001b[0m\u001b]8;id=805255;file:///home/adoni5/Projects/Icarust_supplementary/notebooks/make_squiggle.py#122\u001b\\\u001b[2m122\u001b[0m\u001b]8;;\u001b\\\n",
       "\u001b[2;36m                    \u001b[0m         test_read_31_619869_621419, removing them                         \u001b[2m                    \u001b[0m\n"
      ]
     },
     "metadata": {},
     "output_type": "display_data"
    },
    {
     "data": {
      "text/html": [
       "<pre style=\"white-space:pre;overflow-x:auto;line-height:normal;font-family:Menlo,'DejaVu Sans Mono',consolas,'Courier New',monospace\"><span style=\"color: #7fbfbf; text-decoration-color: #7fbfbf\">                    </span><span style=\"color: #000080; text-decoration-color: #000080\">INFO    </span> Generating squiggle for test_read_32_991188_992788                <a href=\"file:///home/adoni5/Projects/Icarust_supplementary/notebooks/make_squiggle.py\" target=\"_blank\"><span style=\"color: #7f7f7f; text-decoration-color: #7f7f7f\">make_squiggle.py</span></a><span style=\"color: #7f7f7f; text-decoration-color: #7f7f7f\">:</span><a href=\"file:///home/adoni5/Projects/Icarust_supplementary/notebooks/make_squiggle.py#120\" target=\"_blank\"><span style=\"color: #7f7f7f; text-decoration-color: #7f7f7f\">120</span></a>\n",
       "</pre>\n"
      ],
      "text/plain": [
       "\u001b[2;36m                   \u001b[0m\u001b[2;36m \u001b[0m\u001b[34mINFO    \u001b[0m Generating squiggle for test_read_32_991188_992788                \u001b]8;id=42362;file:///home/adoni5/Projects/Icarust_supplementary/notebooks/make_squiggle.py\u001b\\\u001b[2mmake_squiggle.py\u001b[0m\u001b]8;;\u001b\\\u001b[2m:\u001b[0m\u001b]8;id=88793;file:///home/adoni5/Projects/Icarust_supplementary/notebooks/make_squiggle.py#120\u001b\\\u001b[2m120\u001b[0m\u001b]8;;\u001b\\\n"
      ]
     },
     "metadata": {},
     "output_type": "display_data"
    },
    {
     "data": {
      "text/html": [
       "<pre style=\"white-space:pre;overflow-x:auto;line-height:normal;font-family:Menlo,'DejaVu Sans Mono',consolas,'Courier New',monospace\"><span style=\"color: #7fbfbf; text-decoration-color: #7fbfbf\">                    </span><span style=\"color: #000080; text-decoration-color: #000080\">INFO    </span> Invalid characters found in sequence of                           <a href=\"file:///home/adoni5/Projects/Icarust_supplementary/notebooks/make_squiggle.py\" target=\"_blank\"><span style=\"color: #7f7f7f; text-decoration-color: #7f7f7f\">make_squiggle.py</span></a><span style=\"color: #7f7f7f; text-decoration-color: #7f7f7f\">:</span><a href=\"file:///home/adoni5/Projects/Icarust_supplementary/notebooks/make_squiggle.py#122\" target=\"_blank\"><span style=\"color: #7f7f7f; text-decoration-color: #7f7f7f\">122</span></a>\n",
       "<span style=\"color: #7fbfbf; text-decoration-color: #7fbfbf\">                    </span>         test_read_32_991188_992788, removing them                         <span style=\"color: #7f7f7f; text-decoration-color: #7f7f7f\">                    </span>\n",
       "</pre>\n"
      ],
      "text/plain": [
       "\u001b[2;36m                   \u001b[0m\u001b[2;36m \u001b[0m\u001b[34mINFO    \u001b[0m Invalid characters found in sequence of                           \u001b]8;id=564352;file:///home/adoni5/Projects/Icarust_supplementary/notebooks/make_squiggle.py\u001b\\\u001b[2mmake_squiggle.py\u001b[0m\u001b]8;;\u001b\\\u001b[2m:\u001b[0m\u001b]8;id=223313;file:///home/adoni5/Projects/Icarust_supplementary/notebooks/make_squiggle.py#122\u001b\\\u001b[2m122\u001b[0m\u001b]8;;\u001b\\\n",
       "\u001b[2;36m                    \u001b[0m         test_read_32_991188_992788, removing them                         \u001b[2m                    \u001b[0m\n"
      ]
     },
     "metadata": {},
     "output_type": "display_data"
    },
    {
     "data": {
      "text/html": [
       "<pre style=\"white-space:pre;overflow-x:auto;line-height:normal;font-family:Menlo,'DejaVu Sans Mono',consolas,'Courier New',monospace\"><span style=\"color: #7fbfbf; text-decoration-color: #7fbfbf\">                    </span><span style=\"color: #000080; text-decoration-color: #000080\">INFO    </span> Generating squiggle for test_read_33_107192_108842                <a href=\"file:///home/adoni5/Projects/Icarust_supplementary/notebooks/make_squiggle.py\" target=\"_blank\"><span style=\"color: #7f7f7f; text-decoration-color: #7f7f7f\">make_squiggle.py</span></a><span style=\"color: #7f7f7f; text-decoration-color: #7f7f7f\">:</span><a href=\"file:///home/adoni5/Projects/Icarust_supplementary/notebooks/make_squiggle.py#120\" target=\"_blank\"><span style=\"color: #7f7f7f; text-decoration-color: #7f7f7f\">120</span></a>\n",
       "</pre>\n"
      ],
      "text/plain": [
       "\u001b[2;36m                   \u001b[0m\u001b[2;36m \u001b[0m\u001b[34mINFO    \u001b[0m Generating squiggle for test_read_33_107192_108842                \u001b]8;id=530462;file:///home/adoni5/Projects/Icarust_supplementary/notebooks/make_squiggle.py\u001b\\\u001b[2mmake_squiggle.py\u001b[0m\u001b]8;;\u001b\\\u001b[2m:\u001b[0m\u001b]8;id=881991;file:///home/adoni5/Projects/Icarust_supplementary/notebooks/make_squiggle.py#120\u001b\\\u001b[2m120\u001b[0m\u001b]8;;\u001b\\\n"
      ]
     },
     "metadata": {},
     "output_type": "display_data"
    },
    {
     "data": {
      "text/html": [
       "<pre style=\"white-space:pre;overflow-x:auto;line-height:normal;font-family:Menlo,'DejaVu Sans Mono',consolas,'Courier New',monospace\"><span style=\"color: #7fbfbf; text-decoration-color: #7fbfbf\">                    </span><span style=\"color: #000080; text-decoration-color: #000080\">INFO    </span> Invalid characters found in sequence of                           <a href=\"file:///home/adoni5/Projects/Icarust_supplementary/notebooks/make_squiggle.py\" target=\"_blank\"><span style=\"color: #7f7f7f; text-decoration-color: #7f7f7f\">make_squiggle.py</span></a><span style=\"color: #7f7f7f; text-decoration-color: #7f7f7f\">:</span><a href=\"file:///home/adoni5/Projects/Icarust_supplementary/notebooks/make_squiggle.py#122\" target=\"_blank\"><span style=\"color: #7f7f7f; text-decoration-color: #7f7f7f\">122</span></a>\n",
       "<span style=\"color: #7fbfbf; text-decoration-color: #7fbfbf\">                    </span>         test_read_33_107192_108842, removing them                         <span style=\"color: #7f7f7f; text-decoration-color: #7f7f7f\">                    </span>\n",
       "</pre>\n"
      ],
      "text/plain": [
       "\u001b[2;36m                   \u001b[0m\u001b[2;36m \u001b[0m\u001b[34mINFO    \u001b[0m Invalid characters found in sequence of                           \u001b]8;id=119446;file:///home/adoni5/Projects/Icarust_supplementary/notebooks/make_squiggle.py\u001b\\\u001b[2mmake_squiggle.py\u001b[0m\u001b]8;;\u001b\\\u001b[2m:\u001b[0m\u001b]8;id=305361;file:///home/adoni5/Projects/Icarust_supplementary/notebooks/make_squiggle.py#122\u001b\\\u001b[2m122\u001b[0m\u001b]8;;\u001b\\\n",
       "\u001b[2;36m                    \u001b[0m         test_read_33_107192_108842, removing them                         \u001b[2m                    \u001b[0m\n"
      ]
     },
     "metadata": {},
     "output_type": "display_data"
    },
    {
     "data": {
      "text/html": [
       "<pre style=\"white-space:pre;overflow-x:auto;line-height:normal;font-family:Menlo,'DejaVu Sans Mono',consolas,'Courier New',monospace\"><span style=\"color: #7fbfbf; text-decoration-color: #7fbfbf\">                    </span><span style=\"color: #000080; text-decoration-color: #000080\">INFO    </span> Generating squiggle for test_read_34_945215_946915                <a href=\"file:///home/adoni5/Projects/Icarust_supplementary/notebooks/make_squiggle.py\" target=\"_blank\"><span style=\"color: #7f7f7f; text-decoration-color: #7f7f7f\">make_squiggle.py</span></a><span style=\"color: #7f7f7f; text-decoration-color: #7f7f7f\">:</span><a href=\"file:///home/adoni5/Projects/Icarust_supplementary/notebooks/make_squiggle.py#120\" target=\"_blank\"><span style=\"color: #7f7f7f; text-decoration-color: #7f7f7f\">120</span></a>\n",
       "</pre>\n"
      ],
      "text/plain": [
       "\u001b[2;36m                   \u001b[0m\u001b[2;36m \u001b[0m\u001b[34mINFO    \u001b[0m Generating squiggle for test_read_34_945215_946915                \u001b]8;id=817406;file:///home/adoni5/Projects/Icarust_supplementary/notebooks/make_squiggle.py\u001b\\\u001b[2mmake_squiggle.py\u001b[0m\u001b]8;;\u001b\\\u001b[2m:\u001b[0m\u001b]8;id=749845;file:///home/adoni5/Projects/Icarust_supplementary/notebooks/make_squiggle.py#120\u001b\\\u001b[2m120\u001b[0m\u001b]8;;\u001b\\\n"
      ]
     },
     "metadata": {},
     "output_type": "display_data"
    },
    {
     "data": {
      "text/html": [
       "<pre style=\"white-space:pre;overflow-x:auto;line-height:normal;font-family:Menlo,'DejaVu Sans Mono',consolas,'Courier New',monospace\"><span style=\"color: #7fbfbf; text-decoration-color: #7fbfbf\">                    </span><span style=\"color: #000080; text-decoration-color: #000080\">INFO    </span> Invalid characters found in sequence of                           <a href=\"file:///home/adoni5/Projects/Icarust_supplementary/notebooks/make_squiggle.py\" target=\"_blank\"><span style=\"color: #7f7f7f; text-decoration-color: #7f7f7f\">make_squiggle.py</span></a><span style=\"color: #7f7f7f; text-decoration-color: #7f7f7f\">:</span><a href=\"file:///home/adoni5/Projects/Icarust_supplementary/notebooks/make_squiggle.py#122\" target=\"_blank\"><span style=\"color: #7f7f7f; text-decoration-color: #7f7f7f\">122</span></a>\n",
       "<span style=\"color: #7fbfbf; text-decoration-color: #7fbfbf\">                    </span>         test_read_34_945215_946915, removing them                         <span style=\"color: #7f7f7f; text-decoration-color: #7f7f7f\">                    </span>\n",
       "</pre>\n"
      ],
      "text/plain": [
       "\u001b[2;36m                   \u001b[0m\u001b[2;36m \u001b[0m\u001b[34mINFO    \u001b[0m Invalid characters found in sequence of                           \u001b]8;id=577944;file:///home/adoni5/Projects/Icarust_supplementary/notebooks/make_squiggle.py\u001b\\\u001b[2mmake_squiggle.py\u001b[0m\u001b]8;;\u001b\\\u001b[2m:\u001b[0m\u001b]8;id=807668;file:///home/adoni5/Projects/Icarust_supplementary/notebooks/make_squiggle.py#122\u001b\\\u001b[2m122\u001b[0m\u001b]8;;\u001b\\\n",
       "\u001b[2;36m                    \u001b[0m         test_read_34_945215_946915, removing them                         \u001b[2m                    \u001b[0m\n"
      ]
     },
     "metadata": {},
     "output_type": "display_data"
    },
    {
     "data": {
      "text/html": [
       "<pre style=\"white-space:pre;overflow-x:auto;line-height:normal;font-family:Menlo,'DejaVu Sans Mono',consolas,'Courier New',monospace\"><span style=\"color: #7fbfbf; text-decoration-color: #7fbfbf\">                    </span><span style=\"color: #000080; text-decoration-color: #000080\">INFO    </span> Generating squiggle for test_read_35_332849_334599                <a href=\"file:///home/adoni5/Projects/Icarust_supplementary/notebooks/make_squiggle.py\" target=\"_blank\"><span style=\"color: #7f7f7f; text-decoration-color: #7f7f7f\">make_squiggle.py</span></a><span style=\"color: #7f7f7f; text-decoration-color: #7f7f7f\">:</span><a href=\"file:///home/adoni5/Projects/Icarust_supplementary/notebooks/make_squiggle.py#120\" target=\"_blank\"><span style=\"color: #7f7f7f; text-decoration-color: #7f7f7f\">120</span></a>\n",
       "</pre>\n"
      ],
      "text/plain": [
       "\u001b[2;36m                   \u001b[0m\u001b[2;36m \u001b[0m\u001b[34mINFO    \u001b[0m Generating squiggle for test_read_35_332849_334599                \u001b]8;id=76748;file:///home/adoni5/Projects/Icarust_supplementary/notebooks/make_squiggle.py\u001b\\\u001b[2mmake_squiggle.py\u001b[0m\u001b]8;;\u001b\\\u001b[2m:\u001b[0m\u001b]8;id=398700;file:///home/adoni5/Projects/Icarust_supplementary/notebooks/make_squiggle.py#120\u001b\\\u001b[2m120\u001b[0m\u001b]8;;\u001b\\\n"
      ]
     },
     "metadata": {},
     "output_type": "display_data"
    },
    {
     "data": {
      "text/html": [
       "<pre style=\"white-space:pre;overflow-x:auto;line-height:normal;font-family:Menlo,'DejaVu Sans Mono',consolas,'Courier New',monospace\"><span style=\"color: #7fbfbf; text-decoration-color: #7fbfbf\">                    </span><span style=\"color: #000080; text-decoration-color: #000080\">INFO    </span> Invalid characters found in sequence of                           <a href=\"file:///home/adoni5/Projects/Icarust_supplementary/notebooks/make_squiggle.py\" target=\"_blank\"><span style=\"color: #7f7f7f; text-decoration-color: #7f7f7f\">make_squiggle.py</span></a><span style=\"color: #7f7f7f; text-decoration-color: #7f7f7f\">:</span><a href=\"file:///home/adoni5/Projects/Icarust_supplementary/notebooks/make_squiggle.py#122\" target=\"_blank\"><span style=\"color: #7f7f7f; text-decoration-color: #7f7f7f\">122</span></a>\n",
       "<span style=\"color: #7fbfbf; text-decoration-color: #7fbfbf\">                    </span>         test_read_35_332849_334599, removing them                         <span style=\"color: #7f7f7f; text-decoration-color: #7f7f7f\">                    </span>\n",
       "</pre>\n"
      ],
      "text/plain": [
       "\u001b[2;36m                   \u001b[0m\u001b[2;36m \u001b[0m\u001b[34mINFO    \u001b[0m Invalid characters found in sequence of                           \u001b]8;id=131090;file:///home/adoni5/Projects/Icarust_supplementary/notebooks/make_squiggle.py\u001b\\\u001b[2mmake_squiggle.py\u001b[0m\u001b]8;;\u001b\\\u001b[2m:\u001b[0m\u001b]8;id=357456;file:///home/adoni5/Projects/Icarust_supplementary/notebooks/make_squiggle.py#122\u001b\\\u001b[2m122\u001b[0m\u001b]8;;\u001b\\\n",
       "\u001b[2;36m                    \u001b[0m         test_read_35_332849_334599, removing them                         \u001b[2m                    \u001b[0m\n"
      ]
     },
     "metadata": {},
     "output_type": "display_data"
    },
    {
     "data": {
      "text/html": [
       "<pre style=\"white-space:pre;overflow-x:auto;line-height:normal;font-family:Menlo,'DejaVu Sans Mono',consolas,'Courier New',monospace\"><span style=\"color: #7fbfbf; text-decoration-color: #7fbfbf\">                    </span><span style=\"color: #000080; text-decoration-color: #000080\">INFO    </span> Generating squiggle for test_read_36_681098_682898                <a href=\"file:///home/adoni5/Projects/Icarust_supplementary/notebooks/make_squiggle.py\" target=\"_blank\"><span style=\"color: #7f7f7f; text-decoration-color: #7f7f7f\">make_squiggle.py</span></a><span style=\"color: #7f7f7f; text-decoration-color: #7f7f7f\">:</span><a href=\"file:///home/adoni5/Projects/Icarust_supplementary/notebooks/make_squiggle.py#120\" target=\"_blank\"><span style=\"color: #7f7f7f; text-decoration-color: #7f7f7f\">120</span></a>\n",
       "</pre>\n"
      ],
      "text/plain": [
       "\u001b[2;36m                   \u001b[0m\u001b[2;36m \u001b[0m\u001b[34mINFO    \u001b[0m Generating squiggle for test_read_36_681098_682898                \u001b]8;id=971154;file:///home/adoni5/Projects/Icarust_supplementary/notebooks/make_squiggle.py\u001b\\\u001b[2mmake_squiggle.py\u001b[0m\u001b]8;;\u001b\\\u001b[2m:\u001b[0m\u001b]8;id=396403;file:///home/adoni5/Projects/Icarust_supplementary/notebooks/make_squiggle.py#120\u001b\\\u001b[2m120\u001b[0m\u001b]8;;\u001b\\\n"
      ]
     },
     "metadata": {},
     "output_type": "display_data"
    },
    {
     "data": {
      "text/html": [
       "<pre style=\"white-space:pre;overflow-x:auto;line-height:normal;font-family:Menlo,'DejaVu Sans Mono',consolas,'Courier New',monospace\"><span style=\"color: #7fbfbf; text-decoration-color: #7fbfbf\">                    </span><span style=\"color: #000080; text-decoration-color: #000080\">INFO    </span> Invalid characters found in sequence of                           <a href=\"file:///home/adoni5/Projects/Icarust_supplementary/notebooks/make_squiggle.py\" target=\"_blank\"><span style=\"color: #7f7f7f; text-decoration-color: #7f7f7f\">make_squiggle.py</span></a><span style=\"color: #7f7f7f; text-decoration-color: #7f7f7f\">:</span><a href=\"file:///home/adoni5/Projects/Icarust_supplementary/notebooks/make_squiggle.py#122\" target=\"_blank\"><span style=\"color: #7f7f7f; text-decoration-color: #7f7f7f\">122</span></a>\n",
       "<span style=\"color: #7fbfbf; text-decoration-color: #7fbfbf\">                    </span>         test_read_36_681098_682898, removing them                         <span style=\"color: #7f7f7f; text-decoration-color: #7f7f7f\">                    </span>\n",
       "</pre>\n"
      ],
      "text/plain": [
       "\u001b[2;36m                   \u001b[0m\u001b[2;36m \u001b[0m\u001b[34mINFO    \u001b[0m Invalid characters found in sequence of                           \u001b]8;id=593458;file:///home/adoni5/Projects/Icarust_supplementary/notebooks/make_squiggle.py\u001b\\\u001b[2mmake_squiggle.py\u001b[0m\u001b]8;;\u001b\\\u001b[2m:\u001b[0m\u001b]8;id=85714;file:///home/adoni5/Projects/Icarust_supplementary/notebooks/make_squiggle.py#122\u001b\\\u001b[2m122\u001b[0m\u001b]8;;\u001b\\\n",
       "\u001b[2;36m                    \u001b[0m         test_read_36_681098_682898, removing them                         \u001b[2m                    \u001b[0m\n"
      ]
     },
     "metadata": {},
     "output_type": "display_data"
    },
    {
     "data": {
      "text/html": [
       "<pre style=\"white-space:pre;overflow-x:auto;line-height:normal;font-family:Menlo,'DejaVu Sans Mono',consolas,'Courier New',monospace\"><span style=\"color: #7fbfbf; text-decoration-color: #7fbfbf\">                    </span><span style=\"color: #000080; text-decoration-color: #000080\">INFO    </span> Generating squiggle for test_read_37_567712_569562                <a href=\"file:///home/adoni5/Projects/Icarust_supplementary/notebooks/make_squiggle.py\" target=\"_blank\"><span style=\"color: #7f7f7f; text-decoration-color: #7f7f7f\">make_squiggle.py</span></a><span style=\"color: #7f7f7f; text-decoration-color: #7f7f7f\">:</span><a href=\"file:///home/adoni5/Projects/Icarust_supplementary/notebooks/make_squiggle.py#120\" target=\"_blank\"><span style=\"color: #7f7f7f; text-decoration-color: #7f7f7f\">120</span></a>\n",
       "</pre>\n"
      ],
      "text/plain": [
       "\u001b[2;36m                   \u001b[0m\u001b[2;36m \u001b[0m\u001b[34mINFO    \u001b[0m Generating squiggle for test_read_37_567712_569562                \u001b]8;id=309909;file:///home/adoni5/Projects/Icarust_supplementary/notebooks/make_squiggle.py\u001b\\\u001b[2mmake_squiggle.py\u001b[0m\u001b]8;;\u001b\\\u001b[2m:\u001b[0m\u001b]8;id=591865;file:///home/adoni5/Projects/Icarust_supplementary/notebooks/make_squiggle.py#120\u001b\\\u001b[2m120\u001b[0m\u001b]8;;\u001b\\\n"
      ]
     },
     "metadata": {},
     "output_type": "display_data"
    },
    {
     "data": {
      "text/html": [
       "<pre style=\"white-space:pre;overflow-x:auto;line-height:normal;font-family:Menlo,'DejaVu Sans Mono',consolas,'Courier New',monospace\"><span style=\"color: #7fbfbf; text-decoration-color: #7fbfbf\">                    </span><span style=\"color: #000080; text-decoration-color: #000080\">INFO    </span> Invalid characters found in sequence of                           <a href=\"file:///home/adoni5/Projects/Icarust_supplementary/notebooks/make_squiggle.py\" target=\"_blank\"><span style=\"color: #7f7f7f; text-decoration-color: #7f7f7f\">make_squiggle.py</span></a><span style=\"color: #7f7f7f; text-decoration-color: #7f7f7f\">:</span><a href=\"file:///home/adoni5/Projects/Icarust_supplementary/notebooks/make_squiggle.py#122\" target=\"_blank\"><span style=\"color: #7f7f7f; text-decoration-color: #7f7f7f\">122</span></a>\n",
       "<span style=\"color: #7fbfbf; text-decoration-color: #7fbfbf\">                    </span>         test_read_37_567712_569562, removing them                         <span style=\"color: #7f7f7f; text-decoration-color: #7f7f7f\">                    </span>\n",
       "</pre>\n"
      ],
      "text/plain": [
       "\u001b[2;36m                   \u001b[0m\u001b[2;36m \u001b[0m\u001b[34mINFO    \u001b[0m Invalid characters found in sequence of                           \u001b]8;id=940320;file:///home/adoni5/Projects/Icarust_supplementary/notebooks/make_squiggle.py\u001b\\\u001b[2mmake_squiggle.py\u001b[0m\u001b]8;;\u001b\\\u001b[2m:\u001b[0m\u001b]8;id=290647;file:///home/adoni5/Projects/Icarust_supplementary/notebooks/make_squiggle.py#122\u001b\\\u001b[2m122\u001b[0m\u001b]8;;\u001b\\\n",
       "\u001b[2;36m                    \u001b[0m         test_read_37_567712_569562, removing them                         \u001b[2m                    \u001b[0m\n"
      ]
     },
     "metadata": {},
     "output_type": "display_data"
    },
    {
     "data": {
      "text/html": [
       "<pre style=\"white-space:pre;overflow-x:auto;line-height:normal;font-family:Menlo,'DejaVu Sans Mono',consolas,'Courier New',monospace\"><span style=\"color: #7fbfbf; text-decoration-color: #7fbfbf\">                    </span><span style=\"color: #000080; text-decoration-color: #000080\">INFO    </span> Generating squiggle for test_read_38_984769_986669                <a href=\"file:///home/adoni5/Projects/Icarust_supplementary/notebooks/make_squiggle.py\" target=\"_blank\"><span style=\"color: #7f7f7f; text-decoration-color: #7f7f7f\">make_squiggle.py</span></a><span style=\"color: #7f7f7f; text-decoration-color: #7f7f7f\">:</span><a href=\"file:///home/adoni5/Projects/Icarust_supplementary/notebooks/make_squiggle.py#120\" target=\"_blank\"><span style=\"color: #7f7f7f; text-decoration-color: #7f7f7f\">120</span></a>\n",
       "</pre>\n"
      ],
      "text/plain": [
       "\u001b[2;36m                   \u001b[0m\u001b[2;36m \u001b[0m\u001b[34mINFO    \u001b[0m Generating squiggle for test_read_38_984769_986669                \u001b]8;id=310103;file:///home/adoni5/Projects/Icarust_supplementary/notebooks/make_squiggle.py\u001b\\\u001b[2mmake_squiggle.py\u001b[0m\u001b]8;;\u001b\\\u001b[2m:\u001b[0m\u001b]8;id=12983;file:///home/adoni5/Projects/Icarust_supplementary/notebooks/make_squiggle.py#120\u001b\\\u001b[2m120\u001b[0m\u001b]8;;\u001b\\\n"
      ]
     },
     "metadata": {},
     "output_type": "display_data"
    },
    {
     "data": {
      "text/html": [
       "<pre style=\"white-space:pre;overflow-x:auto;line-height:normal;font-family:Menlo,'DejaVu Sans Mono',consolas,'Courier New',monospace\"><span style=\"color: #7fbfbf; text-decoration-color: #7fbfbf\">                    </span><span style=\"color: #000080; text-decoration-color: #000080\">INFO    </span> Invalid characters found in sequence of                           <a href=\"file:///home/adoni5/Projects/Icarust_supplementary/notebooks/make_squiggle.py\" target=\"_blank\"><span style=\"color: #7f7f7f; text-decoration-color: #7f7f7f\">make_squiggle.py</span></a><span style=\"color: #7f7f7f; text-decoration-color: #7f7f7f\">:</span><a href=\"file:///home/adoni5/Projects/Icarust_supplementary/notebooks/make_squiggle.py#122\" target=\"_blank\"><span style=\"color: #7f7f7f; text-decoration-color: #7f7f7f\">122</span></a>\n",
       "<span style=\"color: #7fbfbf; text-decoration-color: #7fbfbf\">                    </span>         test_read_38_984769_986669, removing them                         <span style=\"color: #7f7f7f; text-decoration-color: #7f7f7f\">                    </span>\n",
       "</pre>\n"
      ],
      "text/plain": [
       "\u001b[2;36m                   \u001b[0m\u001b[2;36m \u001b[0m\u001b[34mINFO    \u001b[0m Invalid characters found in sequence of                           \u001b]8;id=433622;file:///home/adoni5/Projects/Icarust_supplementary/notebooks/make_squiggle.py\u001b\\\u001b[2mmake_squiggle.py\u001b[0m\u001b]8;;\u001b\\\u001b[2m:\u001b[0m\u001b]8;id=120693;file:///home/adoni5/Projects/Icarust_supplementary/notebooks/make_squiggle.py#122\u001b\\\u001b[2m122\u001b[0m\u001b]8;;\u001b\\\n",
       "\u001b[2;36m                    \u001b[0m         test_read_38_984769_986669, removing them                         \u001b[2m                    \u001b[0m\n"
      ]
     },
     "metadata": {},
     "output_type": "display_data"
    },
    {
     "data": {
      "text/html": [
       "<pre style=\"white-space:pre;overflow-x:auto;line-height:normal;font-family:Menlo,'DejaVu Sans Mono',consolas,'Courier New',monospace\"><span style=\"color: #7fbfbf; text-decoration-color: #7fbfbf\">                    </span><span style=\"color: #000080; text-decoration-color: #000080\">INFO    </span> Generating squiggle for test_read_39_924040_925990                <a href=\"file:///home/adoni5/Projects/Icarust_supplementary/notebooks/make_squiggle.py\" target=\"_blank\"><span style=\"color: #7f7f7f; text-decoration-color: #7f7f7f\">make_squiggle.py</span></a><span style=\"color: #7f7f7f; text-decoration-color: #7f7f7f\">:</span><a href=\"file:///home/adoni5/Projects/Icarust_supplementary/notebooks/make_squiggle.py#120\" target=\"_blank\"><span style=\"color: #7f7f7f; text-decoration-color: #7f7f7f\">120</span></a>\n",
       "</pre>\n"
      ],
      "text/plain": [
       "\u001b[2;36m                   \u001b[0m\u001b[2;36m \u001b[0m\u001b[34mINFO    \u001b[0m Generating squiggle for test_read_39_924040_925990                \u001b]8;id=197050;file:///home/adoni5/Projects/Icarust_supplementary/notebooks/make_squiggle.py\u001b\\\u001b[2mmake_squiggle.py\u001b[0m\u001b]8;;\u001b\\\u001b[2m:\u001b[0m\u001b]8;id=251273;file:///home/adoni5/Projects/Icarust_supplementary/notebooks/make_squiggle.py#120\u001b\\\u001b[2m120\u001b[0m\u001b]8;;\u001b\\\n"
      ]
     },
     "metadata": {},
     "output_type": "display_data"
    },
    {
     "data": {
      "text/html": [
       "<pre style=\"white-space:pre;overflow-x:auto;line-height:normal;font-family:Menlo,'DejaVu Sans Mono',consolas,'Courier New',monospace\"><span style=\"color: #7fbfbf; text-decoration-color: #7fbfbf\">                    </span><span style=\"color: #000080; text-decoration-color: #000080\">INFO    </span> Invalid characters found in sequence of                           <a href=\"file:///home/adoni5/Projects/Icarust_supplementary/notebooks/make_squiggle.py\" target=\"_blank\"><span style=\"color: #7f7f7f; text-decoration-color: #7f7f7f\">make_squiggle.py</span></a><span style=\"color: #7f7f7f; text-decoration-color: #7f7f7f\">:</span><a href=\"file:///home/adoni5/Projects/Icarust_supplementary/notebooks/make_squiggle.py#122\" target=\"_blank\"><span style=\"color: #7f7f7f; text-decoration-color: #7f7f7f\">122</span></a>\n",
       "<span style=\"color: #7fbfbf; text-decoration-color: #7fbfbf\">                    </span>         test_read_39_924040_925990, removing them                         <span style=\"color: #7f7f7f; text-decoration-color: #7f7f7f\">                    </span>\n",
       "</pre>\n"
      ],
      "text/plain": [
       "\u001b[2;36m                   \u001b[0m\u001b[2;36m \u001b[0m\u001b[34mINFO    \u001b[0m Invalid characters found in sequence of                           \u001b]8;id=121171;file:///home/adoni5/Projects/Icarust_supplementary/notebooks/make_squiggle.py\u001b\\\u001b[2mmake_squiggle.py\u001b[0m\u001b]8;;\u001b\\\u001b[2m:\u001b[0m\u001b]8;id=472811;file:///home/adoni5/Projects/Icarust_supplementary/notebooks/make_squiggle.py#122\u001b\\\u001b[2m122\u001b[0m\u001b]8;;\u001b\\\n",
       "\u001b[2;36m                    \u001b[0m         test_read_39_924040_925990, removing them                         \u001b[2m                    \u001b[0m\n"
      ]
     },
     "metadata": {},
     "output_type": "display_data"
    },
    {
     "data": {
      "text/html": [
       "<pre style=\"white-space:pre;overflow-x:auto;line-height:normal;font-family:Menlo,'DejaVu Sans Mono',consolas,'Courier New',monospace\"><span style=\"color: #7fbfbf; text-decoration-color: #7fbfbf\">                    </span><span style=\"color: #000080; text-decoration-color: #000080\">INFO    </span> Generating squiggle for test_read_40_399721_401721                <a href=\"file:///home/adoni5/Projects/Icarust_supplementary/notebooks/make_squiggle.py\" target=\"_blank\"><span style=\"color: #7f7f7f; text-decoration-color: #7f7f7f\">make_squiggle.py</span></a><span style=\"color: #7f7f7f; text-decoration-color: #7f7f7f\">:</span><a href=\"file:///home/adoni5/Projects/Icarust_supplementary/notebooks/make_squiggle.py#120\" target=\"_blank\"><span style=\"color: #7f7f7f; text-decoration-color: #7f7f7f\">120</span></a>\n",
       "</pre>\n"
      ],
      "text/plain": [
       "\u001b[2;36m                   \u001b[0m\u001b[2;36m \u001b[0m\u001b[34mINFO    \u001b[0m Generating squiggle for test_read_40_399721_401721                \u001b]8;id=780147;file:///home/adoni5/Projects/Icarust_supplementary/notebooks/make_squiggle.py\u001b\\\u001b[2mmake_squiggle.py\u001b[0m\u001b]8;;\u001b\\\u001b[2m:\u001b[0m\u001b]8;id=886066;file:///home/adoni5/Projects/Icarust_supplementary/notebooks/make_squiggle.py#120\u001b\\\u001b[2m120\u001b[0m\u001b]8;;\u001b\\\n"
      ]
     },
     "metadata": {},
     "output_type": "display_data"
    },
    {
     "data": {
      "text/html": [
       "<pre style=\"white-space:pre;overflow-x:auto;line-height:normal;font-family:Menlo,'DejaVu Sans Mono',consolas,'Courier New',monospace\"><span style=\"color: #7fbfbf; text-decoration-color: #7fbfbf\">                    </span><span style=\"color: #000080; text-decoration-color: #000080\">INFO    </span> Invalid characters found in sequence of                           <a href=\"file:///home/adoni5/Projects/Icarust_supplementary/notebooks/make_squiggle.py\" target=\"_blank\"><span style=\"color: #7f7f7f; text-decoration-color: #7f7f7f\">make_squiggle.py</span></a><span style=\"color: #7f7f7f; text-decoration-color: #7f7f7f\">:</span><a href=\"file:///home/adoni5/Projects/Icarust_supplementary/notebooks/make_squiggle.py#122\" target=\"_blank\"><span style=\"color: #7f7f7f; text-decoration-color: #7f7f7f\">122</span></a>\n",
       "<span style=\"color: #7fbfbf; text-decoration-color: #7fbfbf\">                    </span>         test_read_40_399721_401721, removing them                         <span style=\"color: #7f7f7f; text-decoration-color: #7f7f7f\">                    </span>\n",
       "</pre>\n"
      ],
      "text/plain": [
       "\u001b[2;36m                   \u001b[0m\u001b[2;36m \u001b[0m\u001b[34mINFO    \u001b[0m Invalid characters found in sequence of                           \u001b]8;id=845663;file:///home/adoni5/Projects/Icarust_supplementary/notebooks/make_squiggle.py\u001b\\\u001b[2mmake_squiggle.py\u001b[0m\u001b]8;;\u001b\\\u001b[2m:\u001b[0m\u001b]8;id=569298;file:///home/adoni5/Projects/Icarust_supplementary/notebooks/make_squiggle.py#122\u001b\\\u001b[2m122\u001b[0m\u001b]8;;\u001b\\\n",
       "\u001b[2;36m                    \u001b[0m         test_read_40_399721_401721, removing them                         \u001b[2m                    \u001b[0m\n"
      ]
     },
     "metadata": {},
     "output_type": "display_data"
    },
    {
     "data": {
      "text/html": [
       "<pre style=\"white-space:pre;overflow-x:auto;line-height:normal;font-family:Menlo,'DejaVu Sans Mono',consolas,'Courier New',monospace\"><span style=\"color: #7fbfbf; text-decoration-color: #7fbfbf\">                    </span><span style=\"color: #000080; text-decoration-color: #000080\">INFO    </span> Generating squiggle for test_read_41_719830_721880                <a href=\"file:///home/adoni5/Projects/Icarust_supplementary/notebooks/make_squiggle.py\" target=\"_blank\"><span style=\"color: #7f7f7f; text-decoration-color: #7f7f7f\">make_squiggle.py</span></a><span style=\"color: #7f7f7f; text-decoration-color: #7f7f7f\">:</span><a href=\"file:///home/adoni5/Projects/Icarust_supplementary/notebooks/make_squiggle.py#120\" target=\"_blank\"><span style=\"color: #7f7f7f; text-decoration-color: #7f7f7f\">120</span></a>\n",
       "</pre>\n"
      ],
      "text/plain": [
       "\u001b[2;36m                   \u001b[0m\u001b[2;36m \u001b[0m\u001b[34mINFO    \u001b[0m Generating squiggle for test_read_41_719830_721880                \u001b]8;id=265719;file:///home/adoni5/Projects/Icarust_supplementary/notebooks/make_squiggle.py\u001b\\\u001b[2mmake_squiggle.py\u001b[0m\u001b]8;;\u001b\\\u001b[2m:\u001b[0m\u001b]8;id=746178;file:///home/adoni5/Projects/Icarust_supplementary/notebooks/make_squiggle.py#120\u001b\\\u001b[2m120\u001b[0m\u001b]8;;\u001b\\\n"
      ]
     },
     "metadata": {},
     "output_type": "display_data"
    },
    {
     "data": {
      "text/html": [
       "<pre style=\"white-space:pre;overflow-x:auto;line-height:normal;font-family:Menlo,'DejaVu Sans Mono',consolas,'Courier New',monospace\"><span style=\"color: #7fbfbf; text-decoration-color: #7fbfbf\">                    </span><span style=\"color: #000080; text-decoration-color: #000080\">INFO    </span> Invalid characters found in sequence of                           <a href=\"file:///home/adoni5/Projects/Icarust_supplementary/notebooks/make_squiggle.py\" target=\"_blank\"><span style=\"color: #7f7f7f; text-decoration-color: #7f7f7f\">make_squiggle.py</span></a><span style=\"color: #7f7f7f; text-decoration-color: #7f7f7f\">:</span><a href=\"file:///home/adoni5/Projects/Icarust_supplementary/notebooks/make_squiggle.py#122\" target=\"_blank\"><span style=\"color: #7f7f7f; text-decoration-color: #7f7f7f\">122</span></a>\n",
       "<span style=\"color: #7fbfbf; text-decoration-color: #7fbfbf\">                    </span>         test_read_41_719830_721880, removing them                         <span style=\"color: #7f7f7f; text-decoration-color: #7f7f7f\">                    </span>\n",
       "</pre>\n"
      ],
      "text/plain": [
       "\u001b[2;36m                   \u001b[0m\u001b[2;36m \u001b[0m\u001b[34mINFO    \u001b[0m Invalid characters found in sequence of                           \u001b]8;id=683724;file:///home/adoni5/Projects/Icarust_supplementary/notebooks/make_squiggle.py\u001b\\\u001b[2mmake_squiggle.py\u001b[0m\u001b]8;;\u001b\\\u001b[2m:\u001b[0m\u001b]8;id=332835;file:///home/adoni5/Projects/Icarust_supplementary/notebooks/make_squiggle.py#122\u001b\\\u001b[2m122\u001b[0m\u001b]8;;\u001b\\\n",
       "\u001b[2;36m                    \u001b[0m         test_read_41_719830_721880, removing them                         \u001b[2m                    \u001b[0m\n"
      ]
     },
     "metadata": {},
     "output_type": "display_data"
    },
    {
     "data": {
      "text/html": [
       "<pre style=\"white-space:pre;overflow-x:auto;line-height:normal;font-family:Menlo,'DejaVu Sans Mono',consolas,'Courier New',monospace\"><span style=\"color: #7fbfbf; text-decoration-color: #7fbfbf\">                    </span><span style=\"color: #000080; text-decoration-color: #000080\">INFO    </span> Generating squiggle for test_read_42_227120_229220                <a href=\"file:///home/adoni5/Projects/Icarust_supplementary/notebooks/make_squiggle.py\" target=\"_blank\"><span style=\"color: #7f7f7f; text-decoration-color: #7f7f7f\">make_squiggle.py</span></a><span style=\"color: #7f7f7f; text-decoration-color: #7f7f7f\">:</span><a href=\"file:///home/adoni5/Projects/Icarust_supplementary/notebooks/make_squiggle.py#120\" target=\"_blank\"><span style=\"color: #7f7f7f; text-decoration-color: #7f7f7f\">120</span></a>\n",
       "</pre>\n"
      ],
      "text/plain": [
       "\u001b[2;36m                   \u001b[0m\u001b[2;36m \u001b[0m\u001b[34mINFO    \u001b[0m Generating squiggle for test_read_42_227120_229220                \u001b]8;id=970565;file:///home/adoni5/Projects/Icarust_supplementary/notebooks/make_squiggle.py\u001b\\\u001b[2mmake_squiggle.py\u001b[0m\u001b]8;;\u001b\\\u001b[2m:\u001b[0m\u001b]8;id=309906;file:///home/adoni5/Projects/Icarust_supplementary/notebooks/make_squiggle.py#120\u001b\\\u001b[2m120\u001b[0m\u001b]8;;\u001b\\\n"
      ]
     },
     "metadata": {},
     "output_type": "display_data"
    },
    {
     "data": {
      "text/html": [
       "<pre style=\"white-space:pre;overflow-x:auto;line-height:normal;font-family:Menlo,'DejaVu Sans Mono',consolas,'Courier New',monospace\"><span style=\"color: #7fbfbf; text-decoration-color: #7fbfbf\">                    </span><span style=\"color: #000080; text-decoration-color: #000080\">INFO    </span> Invalid characters found in sequence of                           <a href=\"file:///home/adoni5/Projects/Icarust_supplementary/notebooks/make_squiggle.py\" target=\"_blank\"><span style=\"color: #7f7f7f; text-decoration-color: #7f7f7f\">make_squiggle.py</span></a><span style=\"color: #7f7f7f; text-decoration-color: #7f7f7f\">:</span><a href=\"file:///home/adoni5/Projects/Icarust_supplementary/notebooks/make_squiggle.py#122\" target=\"_blank\"><span style=\"color: #7f7f7f; text-decoration-color: #7f7f7f\">122</span></a>\n",
       "<span style=\"color: #7fbfbf; text-decoration-color: #7fbfbf\">                    </span>         test_read_42_227120_229220, removing them                         <span style=\"color: #7f7f7f; text-decoration-color: #7f7f7f\">                    </span>\n",
       "</pre>\n"
      ],
      "text/plain": [
       "\u001b[2;36m                   \u001b[0m\u001b[2;36m \u001b[0m\u001b[34mINFO    \u001b[0m Invalid characters found in sequence of                           \u001b]8;id=410275;file:///home/adoni5/Projects/Icarust_supplementary/notebooks/make_squiggle.py\u001b\\\u001b[2mmake_squiggle.py\u001b[0m\u001b]8;;\u001b\\\u001b[2m:\u001b[0m\u001b]8;id=328498;file:///home/adoni5/Projects/Icarust_supplementary/notebooks/make_squiggle.py#122\u001b\\\u001b[2m122\u001b[0m\u001b]8;;\u001b\\\n",
       "\u001b[2;36m                    \u001b[0m         test_read_42_227120_229220, removing them                         \u001b[2m                    \u001b[0m\n"
      ]
     },
     "metadata": {},
     "output_type": "display_data"
    },
    {
     "data": {
      "text/html": [
       "<pre style=\"white-space:pre;overflow-x:auto;line-height:normal;font-family:Menlo,'DejaVu Sans Mono',consolas,'Courier New',monospace\"><span style=\"color: #7fbfbf; text-decoration-color: #7fbfbf\">                    </span><span style=\"color: #000080; text-decoration-color: #000080\">INFO    </span> Generating squiggle for test_read_43_442621_444771                <a href=\"file:///home/adoni5/Projects/Icarust_supplementary/notebooks/make_squiggle.py\" target=\"_blank\"><span style=\"color: #7f7f7f; text-decoration-color: #7f7f7f\">make_squiggle.py</span></a><span style=\"color: #7f7f7f; text-decoration-color: #7f7f7f\">:</span><a href=\"file:///home/adoni5/Projects/Icarust_supplementary/notebooks/make_squiggle.py#120\" target=\"_blank\"><span style=\"color: #7f7f7f; text-decoration-color: #7f7f7f\">120</span></a>\n",
       "</pre>\n"
      ],
      "text/plain": [
       "\u001b[2;36m                   \u001b[0m\u001b[2;36m \u001b[0m\u001b[34mINFO    \u001b[0m Generating squiggle for test_read_43_442621_444771                \u001b]8;id=332765;file:///home/adoni5/Projects/Icarust_supplementary/notebooks/make_squiggle.py\u001b\\\u001b[2mmake_squiggle.py\u001b[0m\u001b]8;;\u001b\\\u001b[2m:\u001b[0m\u001b]8;id=630662;file:///home/adoni5/Projects/Icarust_supplementary/notebooks/make_squiggle.py#120\u001b\\\u001b[2m120\u001b[0m\u001b]8;;\u001b\\\n"
      ]
     },
     "metadata": {},
     "output_type": "display_data"
    },
    {
     "data": {
      "text/html": [
       "<pre style=\"white-space:pre;overflow-x:auto;line-height:normal;font-family:Menlo,'DejaVu Sans Mono',consolas,'Courier New',monospace\"><span style=\"color: #7fbfbf; text-decoration-color: #7fbfbf\">                    </span><span style=\"color: #000080; text-decoration-color: #000080\">INFO    </span> Invalid characters found in sequence of                           <a href=\"file:///home/adoni5/Projects/Icarust_supplementary/notebooks/make_squiggle.py\" target=\"_blank\"><span style=\"color: #7f7f7f; text-decoration-color: #7f7f7f\">make_squiggle.py</span></a><span style=\"color: #7f7f7f; text-decoration-color: #7f7f7f\">:</span><a href=\"file:///home/adoni5/Projects/Icarust_supplementary/notebooks/make_squiggle.py#122\" target=\"_blank\"><span style=\"color: #7f7f7f; text-decoration-color: #7f7f7f\">122</span></a>\n",
       "<span style=\"color: #7fbfbf; text-decoration-color: #7fbfbf\">                    </span>         test_read_43_442621_444771, removing them                         <span style=\"color: #7f7f7f; text-decoration-color: #7f7f7f\">                    </span>\n",
       "</pre>\n"
      ],
      "text/plain": [
       "\u001b[2;36m                   \u001b[0m\u001b[2;36m \u001b[0m\u001b[34mINFO    \u001b[0m Invalid characters found in sequence of                           \u001b]8;id=823274;file:///home/adoni5/Projects/Icarust_supplementary/notebooks/make_squiggle.py\u001b\\\u001b[2mmake_squiggle.py\u001b[0m\u001b]8;;\u001b\\\u001b[2m:\u001b[0m\u001b]8;id=647817;file:///home/adoni5/Projects/Icarust_supplementary/notebooks/make_squiggle.py#122\u001b\\\u001b[2m122\u001b[0m\u001b]8;;\u001b\\\n",
       "\u001b[2;36m                    \u001b[0m         test_read_43_442621_444771, removing them                         \u001b[2m                    \u001b[0m\n"
      ]
     },
     "metadata": {},
     "output_type": "display_data"
    },
    {
     "data": {
      "text/html": [
       "<pre style=\"white-space:pre;overflow-x:auto;line-height:normal;font-family:Menlo,'DejaVu Sans Mono',consolas,'Courier New',monospace\"><span style=\"color: #7fbfbf; text-decoration-color: #7fbfbf\">                    </span><span style=\"color: #000080; text-decoration-color: #000080\">INFO    </span> Generating squiggle for test_read_44_761111_763311                <a href=\"file:///home/adoni5/Projects/Icarust_supplementary/notebooks/make_squiggle.py\" target=\"_blank\"><span style=\"color: #7f7f7f; text-decoration-color: #7f7f7f\">make_squiggle.py</span></a><span style=\"color: #7f7f7f; text-decoration-color: #7f7f7f\">:</span><a href=\"file:///home/adoni5/Projects/Icarust_supplementary/notebooks/make_squiggle.py#120\" target=\"_blank\"><span style=\"color: #7f7f7f; text-decoration-color: #7f7f7f\">120</span></a>\n",
       "</pre>\n"
      ],
      "text/plain": [
       "\u001b[2;36m                   \u001b[0m\u001b[2;36m \u001b[0m\u001b[34mINFO    \u001b[0m Generating squiggle for test_read_44_761111_763311                \u001b]8;id=721619;file:///home/adoni5/Projects/Icarust_supplementary/notebooks/make_squiggle.py\u001b\\\u001b[2mmake_squiggle.py\u001b[0m\u001b]8;;\u001b\\\u001b[2m:\u001b[0m\u001b]8;id=491698;file:///home/adoni5/Projects/Icarust_supplementary/notebooks/make_squiggle.py#120\u001b\\\u001b[2m120\u001b[0m\u001b]8;;\u001b\\\n"
      ]
     },
     "metadata": {},
     "output_type": "display_data"
    },
    {
     "data": {
      "text/html": [
       "<pre style=\"white-space:pre;overflow-x:auto;line-height:normal;font-family:Menlo,'DejaVu Sans Mono',consolas,'Courier New',monospace\"><span style=\"color: #7fbfbf; text-decoration-color: #7fbfbf\">                    </span><span style=\"color: #000080; text-decoration-color: #000080\">INFO    </span> Invalid characters found in sequence of                           <a href=\"file:///home/adoni5/Projects/Icarust_supplementary/notebooks/make_squiggle.py\" target=\"_blank\"><span style=\"color: #7f7f7f; text-decoration-color: #7f7f7f\">make_squiggle.py</span></a><span style=\"color: #7f7f7f; text-decoration-color: #7f7f7f\">:</span><a href=\"file:///home/adoni5/Projects/Icarust_supplementary/notebooks/make_squiggle.py#122\" target=\"_blank\"><span style=\"color: #7f7f7f; text-decoration-color: #7f7f7f\">122</span></a>\n",
       "<span style=\"color: #7fbfbf; text-decoration-color: #7fbfbf\">                    </span>         test_read_44_761111_763311, removing them                         <span style=\"color: #7f7f7f; text-decoration-color: #7f7f7f\">                    </span>\n",
       "</pre>\n"
      ],
      "text/plain": [
       "\u001b[2;36m                   \u001b[0m\u001b[2;36m \u001b[0m\u001b[34mINFO    \u001b[0m Invalid characters found in sequence of                           \u001b]8;id=567911;file:///home/adoni5/Projects/Icarust_supplementary/notebooks/make_squiggle.py\u001b\\\u001b[2mmake_squiggle.py\u001b[0m\u001b]8;;\u001b\\\u001b[2m:\u001b[0m\u001b]8;id=217932;file:///home/adoni5/Projects/Icarust_supplementary/notebooks/make_squiggle.py#122\u001b\\\u001b[2m122\u001b[0m\u001b]8;;\u001b\\\n",
       "\u001b[2;36m                    \u001b[0m         test_read_44_761111_763311, removing them                         \u001b[2m                    \u001b[0m\n"
      ]
     },
     "metadata": {},
     "output_type": "display_data"
    },
    {
     "data": {
      "text/html": [
       "<pre style=\"white-space:pre;overflow-x:auto;line-height:normal;font-family:Menlo,'DejaVu Sans Mono',consolas,'Courier New',monospace\"><span style=\"color: #7fbfbf; text-decoration-color: #7fbfbf\">                    </span><span style=\"color: #000080; text-decoration-color: #000080\">INFO    </span> Generating squiggle for test_read_45_553259_555509                <a href=\"file:///home/adoni5/Projects/Icarust_supplementary/notebooks/make_squiggle.py\" target=\"_blank\"><span style=\"color: #7f7f7f; text-decoration-color: #7f7f7f\">make_squiggle.py</span></a><span style=\"color: #7f7f7f; text-decoration-color: #7f7f7f\">:</span><a href=\"file:///home/adoni5/Projects/Icarust_supplementary/notebooks/make_squiggle.py#120\" target=\"_blank\"><span style=\"color: #7f7f7f; text-decoration-color: #7f7f7f\">120</span></a>\n",
       "</pre>\n"
      ],
      "text/plain": [
       "\u001b[2;36m                   \u001b[0m\u001b[2;36m \u001b[0m\u001b[34mINFO    \u001b[0m Generating squiggle for test_read_45_553259_555509                \u001b]8;id=85321;file:///home/adoni5/Projects/Icarust_supplementary/notebooks/make_squiggle.py\u001b\\\u001b[2mmake_squiggle.py\u001b[0m\u001b]8;;\u001b\\\u001b[2m:\u001b[0m\u001b]8;id=859808;file:///home/adoni5/Projects/Icarust_supplementary/notebooks/make_squiggle.py#120\u001b\\\u001b[2m120\u001b[0m\u001b]8;;\u001b\\\n"
      ]
     },
     "metadata": {},
     "output_type": "display_data"
    },
    {
     "data": {
      "text/html": [
       "<pre style=\"white-space:pre;overflow-x:auto;line-height:normal;font-family:Menlo,'DejaVu Sans Mono',consolas,'Courier New',monospace\"><span style=\"color: #7fbfbf; text-decoration-color: #7fbfbf\">                    </span><span style=\"color: #000080; text-decoration-color: #000080\">INFO    </span> Invalid characters found in sequence of                           <a href=\"file:///home/adoni5/Projects/Icarust_supplementary/notebooks/make_squiggle.py\" target=\"_blank\"><span style=\"color: #7f7f7f; text-decoration-color: #7f7f7f\">make_squiggle.py</span></a><span style=\"color: #7f7f7f; text-decoration-color: #7f7f7f\">:</span><a href=\"file:///home/adoni5/Projects/Icarust_supplementary/notebooks/make_squiggle.py#122\" target=\"_blank\"><span style=\"color: #7f7f7f; text-decoration-color: #7f7f7f\">122</span></a>\n",
       "<span style=\"color: #7fbfbf; text-decoration-color: #7fbfbf\">                    </span>         test_read_45_553259_555509, removing them                         <span style=\"color: #7f7f7f; text-decoration-color: #7f7f7f\">                    </span>\n",
       "</pre>\n"
      ],
      "text/plain": [
       "\u001b[2;36m                   \u001b[0m\u001b[2;36m \u001b[0m\u001b[34mINFO    \u001b[0m Invalid characters found in sequence of                           \u001b]8;id=94884;file:///home/adoni5/Projects/Icarust_supplementary/notebooks/make_squiggle.py\u001b\\\u001b[2mmake_squiggle.py\u001b[0m\u001b]8;;\u001b\\\u001b[2m:\u001b[0m\u001b]8;id=683682;file:///home/adoni5/Projects/Icarust_supplementary/notebooks/make_squiggle.py#122\u001b\\\u001b[2m122\u001b[0m\u001b]8;;\u001b\\\n",
       "\u001b[2;36m                    \u001b[0m         test_read_45_553259_555509, removing them                         \u001b[2m                    \u001b[0m\n"
      ]
     },
     "metadata": {},
     "output_type": "display_data"
    },
    {
     "data": {
      "text/html": [
       "<pre style=\"white-space:pre;overflow-x:auto;line-height:normal;font-family:Menlo,'DejaVu Sans Mono',consolas,'Courier New',monospace\"><span style=\"color: #7fbfbf; text-decoration-color: #7fbfbf\">                    </span><span style=\"color: #000080; text-decoration-color: #000080\">INFO    </span> Generating squiggle for test_read_46_232460_234760                <a href=\"file:///home/adoni5/Projects/Icarust_supplementary/notebooks/make_squiggle.py\" target=\"_blank\"><span style=\"color: #7f7f7f; text-decoration-color: #7f7f7f\">make_squiggle.py</span></a><span style=\"color: #7f7f7f; text-decoration-color: #7f7f7f\">:</span><a href=\"file:///home/adoni5/Projects/Icarust_supplementary/notebooks/make_squiggle.py#120\" target=\"_blank\"><span style=\"color: #7f7f7f; text-decoration-color: #7f7f7f\">120</span></a>\n",
       "</pre>\n"
      ],
      "text/plain": [
       "\u001b[2;36m                   \u001b[0m\u001b[2;36m \u001b[0m\u001b[34mINFO    \u001b[0m Generating squiggle for test_read_46_232460_234760                \u001b]8;id=238473;file:///home/adoni5/Projects/Icarust_supplementary/notebooks/make_squiggle.py\u001b\\\u001b[2mmake_squiggle.py\u001b[0m\u001b]8;;\u001b\\\u001b[2m:\u001b[0m\u001b]8;id=409446;file:///home/adoni5/Projects/Icarust_supplementary/notebooks/make_squiggle.py#120\u001b\\\u001b[2m120\u001b[0m\u001b]8;;\u001b\\\n"
      ]
     },
     "metadata": {},
     "output_type": "display_data"
    },
    {
     "data": {
      "text/html": [
       "<pre style=\"white-space:pre;overflow-x:auto;line-height:normal;font-family:Menlo,'DejaVu Sans Mono',consolas,'Courier New',monospace\"><span style=\"color: #7fbfbf; text-decoration-color: #7fbfbf\">                    </span><span style=\"color: #000080; text-decoration-color: #000080\">INFO    </span> Invalid characters found in sequence of                           <a href=\"file:///home/adoni5/Projects/Icarust_supplementary/notebooks/make_squiggle.py\" target=\"_blank\"><span style=\"color: #7f7f7f; text-decoration-color: #7f7f7f\">make_squiggle.py</span></a><span style=\"color: #7f7f7f; text-decoration-color: #7f7f7f\">:</span><a href=\"file:///home/adoni5/Projects/Icarust_supplementary/notebooks/make_squiggle.py#122\" target=\"_blank\"><span style=\"color: #7f7f7f; text-decoration-color: #7f7f7f\">122</span></a>\n",
       "<span style=\"color: #7fbfbf; text-decoration-color: #7fbfbf\">                    </span>         test_read_46_232460_234760, removing them                         <span style=\"color: #7f7f7f; text-decoration-color: #7f7f7f\">                    </span>\n",
       "</pre>\n"
      ],
      "text/plain": [
       "\u001b[2;36m                   \u001b[0m\u001b[2;36m \u001b[0m\u001b[34mINFO    \u001b[0m Invalid characters found in sequence of                           \u001b]8;id=332120;file:///home/adoni5/Projects/Icarust_supplementary/notebooks/make_squiggle.py\u001b\\\u001b[2mmake_squiggle.py\u001b[0m\u001b]8;;\u001b\\\u001b[2m:\u001b[0m\u001b]8;id=831239;file:///home/adoni5/Projects/Icarust_supplementary/notebooks/make_squiggle.py#122\u001b\\\u001b[2m122\u001b[0m\u001b]8;;\u001b\\\n",
       "\u001b[2;36m                    \u001b[0m         test_read_46_232460_234760, removing them                         \u001b[2m                    \u001b[0m\n"
      ]
     },
     "metadata": {},
     "output_type": "display_data"
    },
    {
     "data": {
      "text/html": [
       "<pre style=\"white-space:pre;overflow-x:auto;line-height:normal;font-family:Menlo,'DejaVu Sans Mono',consolas,'Courier New',monospace\"><span style=\"color: #7fbfbf; text-decoration-color: #7fbfbf\">                    </span><span style=\"color: #000080; text-decoration-color: #000080\">INFO    </span> Generating squiggle for test_read_47_800798_803148                <a href=\"file:///home/adoni5/Projects/Icarust_supplementary/notebooks/make_squiggle.py\" target=\"_blank\"><span style=\"color: #7f7f7f; text-decoration-color: #7f7f7f\">make_squiggle.py</span></a><span style=\"color: #7f7f7f; text-decoration-color: #7f7f7f\">:</span><a href=\"file:///home/adoni5/Projects/Icarust_supplementary/notebooks/make_squiggle.py#120\" target=\"_blank\"><span style=\"color: #7f7f7f; text-decoration-color: #7f7f7f\">120</span></a>\n",
       "</pre>\n"
      ],
      "text/plain": [
       "\u001b[2;36m                   \u001b[0m\u001b[2;36m \u001b[0m\u001b[34mINFO    \u001b[0m Generating squiggle for test_read_47_800798_803148                \u001b]8;id=317518;file:///home/adoni5/Projects/Icarust_supplementary/notebooks/make_squiggle.py\u001b\\\u001b[2mmake_squiggle.py\u001b[0m\u001b]8;;\u001b\\\u001b[2m:\u001b[0m\u001b]8;id=257790;file:///home/adoni5/Projects/Icarust_supplementary/notebooks/make_squiggle.py#120\u001b\\\u001b[2m120\u001b[0m\u001b]8;;\u001b\\\n"
      ]
     },
     "metadata": {},
     "output_type": "display_data"
    },
    {
     "data": {
      "text/html": [
       "<pre style=\"white-space:pre;overflow-x:auto;line-height:normal;font-family:Menlo,'DejaVu Sans Mono',consolas,'Courier New',monospace\"><span style=\"color: #7fbfbf; text-decoration-color: #7fbfbf\">                    </span><span style=\"color: #000080; text-decoration-color: #000080\">INFO    </span> Invalid characters found in sequence of                           <a href=\"file:///home/adoni5/Projects/Icarust_supplementary/notebooks/make_squiggle.py\" target=\"_blank\"><span style=\"color: #7f7f7f; text-decoration-color: #7f7f7f\">make_squiggle.py</span></a><span style=\"color: #7f7f7f; text-decoration-color: #7f7f7f\">:</span><a href=\"file:///home/adoni5/Projects/Icarust_supplementary/notebooks/make_squiggle.py#122\" target=\"_blank\"><span style=\"color: #7f7f7f; text-decoration-color: #7f7f7f\">122</span></a>\n",
       "<span style=\"color: #7fbfbf; text-decoration-color: #7fbfbf\">                    </span>         test_read_47_800798_803148, removing them                         <span style=\"color: #7f7f7f; text-decoration-color: #7f7f7f\">                    </span>\n",
       "</pre>\n"
      ],
      "text/plain": [
       "\u001b[2;36m                   \u001b[0m\u001b[2;36m \u001b[0m\u001b[34mINFO    \u001b[0m Invalid characters found in sequence of                           \u001b]8;id=607110;file:///home/adoni5/Projects/Icarust_supplementary/notebooks/make_squiggle.py\u001b\\\u001b[2mmake_squiggle.py\u001b[0m\u001b]8;;\u001b\\\u001b[2m:\u001b[0m\u001b]8;id=846796;file:///home/adoni5/Projects/Icarust_supplementary/notebooks/make_squiggle.py#122\u001b\\\u001b[2m122\u001b[0m\u001b]8;;\u001b\\\n",
       "\u001b[2;36m                    \u001b[0m         test_read_47_800798_803148, removing them                         \u001b[2m                    \u001b[0m\n"
      ]
     },
     "metadata": {},
     "output_type": "display_data"
    },
    {
     "data": {
      "text/html": [
       "<pre style=\"white-space:pre;overflow-x:auto;line-height:normal;font-family:Menlo,'DejaVu Sans Mono',consolas,'Courier New',monospace\"><span style=\"color: #7fbfbf; text-decoration-color: #7fbfbf\">                    </span><span style=\"color: #000080; text-decoration-color: #000080\">INFO    </span> Generating squiggle for test_read_48_459158_461558                <a href=\"file:///home/adoni5/Projects/Icarust_supplementary/notebooks/make_squiggle.py\" target=\"_blank\"><span style=\"color: #7f7f7f; text-decoration-color: #7f7f7f\">make_squiggle.py</span></a><span style=\"color: #7f7f7f; text-decoration-color: #7f7f7f\">:</span><a href=\"file:///home/adoni5/Projects/Icarust_supplementary/notebooks/make_squiggle.py#120\" target=\"_blank\"><span style=\"color: #7f7f7f; text-decoration-color: #7f7f7f\">120</span></a>\n",
       "</pre>\n"
      ],
      "text/plain": [
       "\u001b[2;36m                   \u001b[0m\u001b[2;36m \u001b[0m\u001b[34mINFO    \u001b[0m Generating squiggle for test_read_48_459158_461558                \u001b]8;id=21363;file:///home/adoni5/Projects/Icarust_supplementary/notebooks/make_squiggle.py\u001b\\\u001b[2mmake_squiggle.py\u001b[0m\u001b]8;;\u001b\\\u001b[2m:\u001b[0m\u001b]8;id=847525;file:///home/adoni5/Projects/Icarust_supplementary/notebooks/make_squiggle.py#120\u001b\\\u001b[2m120\u001b[0m\u001b]8;;\u001b\\\n"
      ]
     },
     "metadata": {},
     "output_type": "display_data"
    },
    {
     "data": {
      "text/html": [
       "<pre style=\"white-space:pre;overflow-x:auto;line-height:normal;font-family:Menlo,'DejaVu Sans Mono',consolas,'Courier New',monospace\"><span style=\"color: #7fbfbf; text-decoration-color: #7fbfbf\">                    </span><span style=\"color: #000080; text-decoration-color: #000080\">INFO    </span> Invalid characters found in sequence of                           <a href=\"file:///home/adoni5/Projects/Icarust_supplementary/notebooks/make_squiggle.py\" target=\"_blank\"><span style=\"color: #7f7f7f; text-decoration-color: #7f7f7f\">make_squiggle.py</span></a><span style=\"color: #7f7f7f; text-decoration-color: #7f7f7f\">:</span><a href=\"file:///home/adoni5/Projects/Icarust_supplementary/notebooks/make_squiggle.py#122\" target=\"_blank\"><span style=\"color: #7f7f7f; text-decoration-color: #7f7f7f\">122</span></a>\n",
       "<span style=\"color: #7fbfbf; text-decoration-color: #7fbfbf\">                    </span>         test_read_48_459158_461558, removing them                         <span style=\"color: #7f7f7f; text-decoration-color: #7f7f7f\">                    </span>\n",
       "</pre>\n"
      ],
      "text/plain": [
       "\u001b[2;36m                   \u001b[0m\u001b[2;36m \u001b[0m\u001b[34mINFO    \u001b[0m Invalid characters found in sequence of                           \u001b]8;id=577980;file:///home/adoni5/Projects/Icarust_supplementary/notebooks/make_squiggle.py\u001b\\\u001b[2mmake_squiggle.py\u001b[0m\u001b]8;;\u001b\\\u001b[2m:\u001b[0m\u001b]8;id=909698;file:///home/adoni5/Projects/Icarust_supplementary/notebooks/make_squiggle.py#122\u001b\\\u001b[2m122\u001b[0m\u001b]8;;\u001b\\\n",
       "\u001b[2;36m                    \u001b[0m         test_read_48_459158_461558, removing them                         \u001b[2m                    \u001b[0m\n"
      ]
     },
     "metadata": {},
     "output_type": "display_data"
    },
    {
     "data": {
      "text/html": [
       "<pre style=\"white-space:pre;overflow-x:auto;line-height:normal;font-family:Menlo,'DejaVu Sans Mono',consolas,'Courier New',monospace\"><span style=\"color: #7fbfbf; text-decoration-color: #7fbfbf\">                    </span><span style=\"color: #000080; text-decoration-color: #000080\">INFO    </span> Generating squiggle for test_read_49_984787_987237                <a href=\"file:///home/adoni5/Projects/Icarust_supplementary/notebooks/make_squiggle.py\" target=\"_blank\"><span style=\"color: #7f7f7f; text-decoration-color: #7f7f7f\">make_squiggle.py</span></a><span style=\"color: #7f7f7f; text-decoration-color: #7f7f7f\">:</span><a href=\"file:///home/adoni5/Projects/Icarust_supplementary/notebooks/make_squiggle.py#120\" target=\"_blank\"><span style=\"color: #7f7f7f; text-decoration-color: #7f7f7f\">120</span></a>\n",
       "</pre>\n"
      ],
      "text/plain": [
       "\u001b[2;36m                   \u001b[0m\u001b[2;36m \u001b[0m\u001b[34mINFO    \u001b[0m Generating squiggle for test_read_49_984787_987237                \u001b]8;id=666246;file:///home/adoni5/Projects/Icarust_supplementary/notebooks/make_squiggle.py\u001b\\\u001b[2mmake_squiggle.py\u001b[0m\u001b]8;;\u001b\\\u001b[2m:\u001b[0m\u001b]8;id=10398;file:///home/adoni5/Projects/Icarust_supplementary/notebooks/make_squiggle.py#120\u001b\\\u001b[2m120\u001b[0m\u001b]8;;\u001b\\\n"
      ]
     },
     "metadata": {},
     "output_type": "display_data"
    },
    {
     "data": {
      "text/html": [
       "<pre style=\"white-space:pre;overflow-x:auto;line-height:normal;font-family:Menlo,'DejaVu Sans Mono',consolas,'Courier New',monospace\"><span style=\"color: #7fbfbf; text-decoration-color: #7fbfbf\">                    </span><span style=\"color: #000080; text-decoration-color: #000080\">INFO    </span> Invalid characters found in sequence of                           <a href=\"file:///home/adoni5/Projects/Icarust_supplementary/notebooks/make_squiggle.py\" target=\"_blank\"><span style=\"color: #7f7f7f; text-decoration-color: #7f7f7f\">make_squiggle.py</span></a><span style=\"color: #7f7f7f; text-decoration-color: #7f7f7f\">:</span><a href=\"file:///home/adoni5/Projects/Icarust_supplementary/notebooks/make_squiggle.py#122\" target=\"_blank\"><span style=\"color: #7f7f7f; text-decoration-color: #7f7f7f\">122</span></a>\n",
       "<span style=\"color: #7fbfbf; text-decoration-color: #7fbfbf\">                    </span>         test_read_49_984787_987237, removing them                         <span style=\"color: #7f7f7f; text-decoration-color: #7f7f7f\">                    </span>\n",
       "</pre>\n"
      ],
      "text/plain": [
       "\u001b[2;36m                   \u001b[0m\u001b[2;36m \u001b[0m\u001b[34mINFO    \u001b[0m Invalid characters found in sequence of                           \u001b]8;id=517221;file:///home/adoni5/Projects/Icarust_supplementary/notebooks/make_squiggle.py\u001b\\\u001b[2mmake_squiggle.py\u001b[0m\u001b]8;;\u001b\\\u001b[2m:\u001b[0m\u001b]8;id=491608;file:///home/adoni5/Projects/Icarust_supplementary/notebooks/make_squiggle.py#122\u001b\\\u001b[2m122\u001b[0m\u001b]8;;\u001b\\\n",
       "\u001b[2;36m                    \u001b[0m         test_read_49_984787_987237, removing them                         \u001b[2m                    \u001b[0m\n"
      ]
     },
     "metadata": {},
     "output_type": "display_data"
    },
    {
     "data": {
      "text/html": [
       "<pre style=\"white-space:pre;overflow-x:auto;line-height:normal;font-family:Menlo,'DejaVu Sans Mono',consolas,'Courier New',monospace\"><span style=\"color: #7fbfbf; text-decoration-color: #7fbfbf\">                    </span><span style=\"color: #000080; text-decoration-color: #000080\">INFO    </span> Generating squiggle for test_read_50_519896_522396                <a href=\"file:///home/adoni5/Projects/Icarust_supplementary/notebooks/make_squiggle.py\" target=\"_blank\"><span style=\"color: #7f7f7f; text-decoration-color: #7f7f7f\">make_squiggle.py</span></a><span style=\"color: #7f7f7f; text-decoration-color: #7f7f7f\">:</span><a href=\"file:///home/adoni5/Projects/Icarust_supplementary/notebooks/make_squiggle.py#120\" target=\"_blank\"><span style=\"color: #7f7f7f; text-decoration-color: #7f7f7f\">120</span></a>\n",
       "</pre>\n"
      ],
      "text/plain": [
       "\u001b[2;36m                   \u001b[0m\u001b[2;36m \u001b[0m\u001b[34mINFO    \u001b[0m Generating squiggle for test_read_50_519896_522396                \u001b]8;id=525787;file:///home/adoni5/Projects/Icarust_supplementary/notebooks/make_squiggle.py\u001b\\\u001b[2mmake_squiggle.py\u001b[0m\u001b]8;;\u001b\\\u001b[2m:\u001b[0m\u001b]8;id=815525;file:///home/adoni5/Projects/Icarust_supplementary/notebooks/make_squiggle.py#120\u001b\\\u001b[2m120\u001b[0m\u001b]8;;\u001b\\\n"
      ]
     },
     "metadata": {},
     "output_type": "display_data"
    },
    {
     "data": {
      "text/html": [
       "<pre style=\"white-space:pre;overflow-x:auto;line-height:normal;font-family:Menlo,'DejaVu Sans Mono',consolas,'Courier New',monospace\"><span style=\"color: #7fbfbf; text-decoration-color: #7fbfbf\">                    </span><span style=\"color: #000080; text-decoration-color: #000080\">INFO    </span> Invalid characters found in sequence of                           <a href=\"file:///home/adoni5/Projects/Icarust_supplementary/notebooks/make_squiggle.py\" target=\"_blank\"><span style=\"color: #7f7f7f; text-decoration-color: #7f7f7f\">make_squiggle.py</span></a><span style=\"color: #7f7f7f; text-decoration-color: #7f7f7f\">:</span><a href=\"file:///home/adoni5/Projects/Icarust_supplementary/notebooks/make_squiggle.py#122\" target=\"_blank\"><span style=\"color: #7f7f7f; text-decoration-color: #7f7f7f\">122</span></a>\n",
       "<span style=\"color: #7fbfbf; text-decoration-color: #7fbfbf\">                    </span>         test_read_50_519896_522396, removing them                         <span style=\"color: #7f7f7f; text-decoration-color: #7f7f7f\">                    </span>\n",
       "</pre>\n"
      ],
      "text/plain": [
       "\u001b[2;36m                   \u001b[0m\u001b[2;36m \u001b[0m\u001b[34mINFO    \u001b[0m Invalid characters found in sequence of                           \u001b]8;id=995337;file:///home/adoni5/Projects/Icarust_supplementary/notebooks/make_squiggle.py\u001b\\\u001b[2mmake_squiggle.py\u001b[0m\u001b]8;;\u001b\\\u001b[2m:\u001b[0m\u001b]8;id=697562;file:///home/adoni5/Projects/Icarust_supplementary/notebooks/make_squiggle.py#122\u001b\\\u001b[2m122\u001b[0m\u001b]8;;\u001b\\\n",
       "\u001b[2;36m                    \u001b[0m         test_read_50_519896_522396, removing them                         \u001b[2m                    \u001b[0m\n"
      ]
     },
     "metadata": {},
     "output_type": "display_data"
    },
    {
     "data": {
      "text/html": [
       "<pre style=\"white-space:pre;overflow-x:auto;line-height:normal;font-family:Menlo,'DejaVu Sans Mono',consolas,'Courier New',monospace\"><span style=\"color: #7fbfbf; text-decoration-color: #7fbfbf\">                    </span><span style=\"color: #000080; text-decoration-color: #000080\">INFO    </span> Creating distributions file.                                      <a href=\"file:///home/adoni5/Projects/Icarust_supplementary/notebooks/make_squiggle.py\" target=\"_blank\"><span style=\"color: #7f7f7f; text-decoration-color: #7f7f7f\">make_squiggle.py</span></a><span style=\"color: #7f7f7f; text-decoration-color: #7f7f7f\">:</span><a href=\"file:///home/adoni5/Projects/Icarust_supplementary/notebooks/make_squiggle.py#147\" target=\"_blank\"><span style=\"color: #7f7f7f; text-decoration-color: #7f7f7f\">147</span></a>\n",
       "</pre>\n"
      ],
      "text/plain": [
       "\u001b[2;36m                   \u001b[0m\u001b[2;36m \u001b[0m\u001b[34mINFO    \u001b[0m Creating distributions file.                                      \u001b]8;id=861457;file:///home/adoni5/Projects/Icarust_supplementary/notebooks/make_squiggle.py\u001b\\\u001b[2mmake_squiggle.py\u001b[0m\u001b]8;;\u001b\\\u001b[2m:\u001b[0m\u001b]8;id=907590;file:///home/adoni5/Projects/Icarust_supplementary/notebooks/make_squiggle.py#147\u001b\\\u001b[2m147\u001b[0m\u001b]8;;\u001b\\\n"
      ]
     },
     "metadata": {},
     "output_type": "display_data"
    }
   ],
   "source": [
    "# make directory if it doesn't already exist\n",
    "R9_OUTDIR.mkdir(exist_ok=True)\n",
    "job_progress, overall_progress, progress_table, task_lookup = progress_bar_setup(1)\n",
    "barcode = None\n",
    "get_sequence(\n",
    "    TEST_FASTA.resolve(),\n",
    "    R9_OUTDIR,\n",
    "    job_progress,\n",
    "    task_lookup,\n",
    "    0,\n",
    "    barcode,\n",
    "    None,\n",
    ")"
   ]
  },
  {
   "cell_type": "markdown",
   "id": "1a258bf6-fe6f-49a4-ab1a-2bde60c7fd38",
   "metadata": {},
   "source": [
    "### Create R10 squiggle\n"
   ]
  },
  {
   "cell_type": "code",
   "execution_count": 99,
   "id": "ca4e732c-01ac-4d35-89a1-193b70725d60",
   "metadata": {},
   "outputs": [],
   "source": [
    "FORMAT = \"%d%m%y%H%M%S\"\n",
    "\n",
    "\n",
    "def sliding_window(iterable, n):\n",
    "    # sliding_window('ABCDEFG', 4) --> ABCD BCDE CDEF DEFG\n",
    "    it = iter(iterable)\n",
    "    window = collections.deque(islice(it, n), maxlen=n)\n",
    "    if len(window) == n:\n",
    "        yield tuple(window)\n",
    "    for x in it:\n",
    "        window.append(x)\n",
    "        yield tuple(window)\n",
    "\n",
    "\n",
    "def signalify(kmers: dict[str, float], sequence: str) -> npt.NDArray[np.int16]:\n",
    "    \"\"\"convert a given sequence to signal using R10 models,\n",
    "    returning np array containing 10 samples per base\"\"\"\n",
    "    a = []\n",
    "    # Always upper case signal\n",
    "    for kmer in sliding_window(sequence.upper(), 9):\n",
    "        value = kmers[\"\".join(kmer)]\n",
    "        for _ in range(sample(SAMPLES,1)[0]):\n",
    "        # for _ in range(10):\n",
    "            a.append(value)\n",
    "    if True:\n",
    "        a = expandy(np.array(a).astype(np.int16), 1/np.sqrt(2))\n",
    "    return np.array(a).astype(np.int16)\n",
    "\n",
    "\n",
    "def read_kmers() -> dict[str, float]:\n",
    "    kmers = {}\n",
    "    with open(R10_KMERS_MODEL, newline=\"\") as csvfile:\n",
    "        reader = csv.DictReader(csvfile, delimiter=\"\\t\", fieldnames=[\"Kmer\", \"Value\"])\n",
    "        kmers = {row[\"Kmer\"]: float(row[\"Value\"]) for row in reader}\n",
    "        return kmers\n",
    "\n",
    "def expandy(arr, n):\n",
    "    \"\"\"\n",
    "    This is a super slow function that we need to run in some other way to make it more efficient.\n",
    "    :param arr:\n",
    "    :param n:\n",
    "    :return:\n",
    "    \"\"\"\n",
    "    return np.random.laplace(arr, n, arr.shape[0])"
   ]
  },
  {
   "cell_type": "code",
   "execution_count": 88,
   "id": "f94fdd16-2536-496a-821d-ffc02c859d64",
   "metadata": {},
   "outputs": [],
   "source": [
    "kmers = read_kmers()"
   ]
  },
  {
   "cell_type": "code",
   "execution_count": 100,
   "id": "e9a8f114-22f1-4bce-9c9c-e650ac3f9fd3",
   "metadata": {},
   "outputs": [],
   "source": [
    "fa = Fasta(str(TEST_FASTA.resolve()))\n",
    "R10_SQUIGGLE_OUTDIR.mkdir(exist_ok=True)\n",
    "for seq in fa:\n",
    "    name, seq = seq.name, seq.seq\n",
    "    signal = signalify(kmers, seq)\n",
    "    with open(R10_SQUIGGLE_OUTDIR / f\"{name}.npy\", \"wb\") as fh:\n",
    "        np.save(fh, signal, allow_pickle=False)"
   ]
  },
  {
   "cell_type": "markdown",
   "id": "5b1c4650-9bad-4118-801f-8becab7827f6",
   "metadata": {},
   "source": [
    "### Basecall R9 signal\n",
    "\n"
   ]
  },
  {
   "cell_type": "code",
   "execution_count": 101,
   "id": "21612a21-52f8-4c85-b667-5f7945363341",
   "metadata": {
    "collapsed": true,
    "jupyter": {
     "outputs_hidden": true,
     "source_hidden": true
    },
    "scrolled": true
   },
   "outputs": [
    {
     "name": "stdout",
     "output_type": "stream",
     "text": [
      "aaaatatttacagtaacTATGGAACACAAAGGTTTATTACATCCATAATT\n",
      "\n",
      "TTTACAGTAACTATGGAACACAAAGGTTTATTACATCCATAGTCTATA\n",
      "41M\n",
      "0.82\n",
      "read_id: test_read_1_140891_140941 \n",
      "\tmap_start 6, map end 47\n",
      "\t50\n",
      "TTGGCACAGAGGCAGCAGAGCAGGGAGGTGAAGAGAGTGGGCTCTGGACCCAGCCTCAGTCCACATCCCGGTTCTGTCCTTTGATGGCCGTGTGAGGATA\n",
      "\n",
      "ACAGAGGCAGCAGAGCAGGGAGGTGAAGAGAGTGGGCTCTGGACCCAGCCTCAGTCCACATCCCGGTTCTGTCCTTTGATGGCCGTGTGAGGATGGGCA\n",
      "94M\n",
      "0.94\n",
      "read_id: test_read_2_596853_596953 \n",
      "\tmap_start 5, map end 99\n",
      "\t100\n",
      "AGCTTATTACCTGCTTCCTAAATTTGCCTTTCTCCATCACTGCAATGGCAGCTCCATTCTCCCTGATGCTTAGGCCCCAGGAGCTGTCAACCCTGTCCCCCACATCCAACTCATCTGCAGGTCCTGTCAGCCTTGCCTTCCAGGTGGCCC\n",
      "\n",
      "TTACCTGCTTCCTAAATTTGCCTTTCTCCATCACTGCAATGGCAGCTCCATTCTCCCTGATGCTTAGGCCCCAGGAGCTGTCAACCCTGTCCCCCACATCCAACTCATCTGCAGGTCCTGTCAGCCTTGCCTTCCAGGTATT\n",
      "139M\n",
      "0.9266666666666666\n",
      "read_id: test_read_3_888598_888748 \n",
      "\tmap_start 6, map end 145\n",
      "\t150\n",
      "GAAGTTGCGCAAACTCAGCTTGCCGGAGCCCCAGGTGGGCCGGGCCGGAGGAGCGCAGGCCAGCGGCGCGGGCGCAGCCGGGTACGTGCGGACCGCGGCGGGGGGCGCCCAGCCGGGGTAGGGGGCGGCCCGAGCACCCCTCCACCCCAGGACGGCGGGAACGGGGCAGGGATCTACCTTTCGGCTTCAAGAGGACCGCG\n",
      "\n",
      "GCGCAAACTCAGCTTGCCGGAGCCCCAGGTGGGCCGGGCCGGAGGAGCGCAGGCCAGCGGCGCGGGCGCAGCCGGGTGCGTGCGGACCGCGGCGGGGGGCGCCCAGCCGGGGTAGGGGGCGGCCCGAGCACCCCTCCACCCCAGGACGGCGGGAACGGGGCAGGGATCTACCTTTCGGCTTCAAGAGGACCGCCTGTT\n",
      "193M\n",
      "0.965\n",
      "read_id: test_read_4_841235_841435 \n",
      "\tmap_start 6, map end 199\n",
      "\t200\n",
      "tgagaattgaacagaaaattttatattcgagtgctatttattttgaggcacagaaactttatatataacaatataaacCCGAGACCTTGGCgggcacacacacaagcagctgAATGTCAAGAGGAGTGGAGGAACGGAGTGGCAGAGAATGGCAGAGAGCGCTGGAGAGTGGCAGAGCAGcatggcagagagggagggaagaggcgTCTGAACTTTGGAAGACACCTCCACTCCTCAATAAAGTCTCCGC\n",
      "\n",
      "ATTGAACAGAAAATTTTATATTCGAGTGCTATTTATTTTGAGGCACAGAAACTTTATATATAACAATATAAACCCGAGACAGCGGGCACACACACAAACAGCTGAATGTCAAGAGGAGTGGAGGAACGGAGTGGCAGAGAATGGCAGAGAGCGCTGGAGAGTGGCAGAGCAGCATGGCAGAGAGGGAGGGAAGAGGCGTCTGAACTTTGGAAGACACCTCCACTCCTCAATAAAGTCTCAGCGA\n",
      "80M3D159M\n",
      "0.956\n",
      "read_id: test_read_5_800875_801125 \n",
      "\tmap_start 5, map end 247\n",
      "\t250\n",
      "GAACATTTGAATAGAAATTTCCCAAatgaacacaaacacaaaaaagtaaagaaaaattgaatACAACATCAGAGAGATGTGAGATATTATCAAATAATTCAACATGGATTTAATTGGCTCccaagaagaagggaaggagagaatgaagcagaagaaataagAGCTAATAGCCTCCTACATAGCAAAATTGATCCAAGAACTTCAGCAAGGTCTAATTAGgacaaattcaaagaaaatttctAGACATAGTGgatttcaaactgctgaaaatcaaAGACAGAGAACAAATCTTAAAAGTAGCCAGAGAAAAAGGACATGTTATCTAGGAAGGAACAATGACACAAATGATG\n",
      "\n",
      "GATGTGAGATATTATCAAATAATTCAACATGGATTTAATTGGCTCCCAAAGAAGAAGGGAAGGAGAGAATGAAGCAGAAGAAATAAGAGCTAATAGCCTCCTACATAGCAAAATTGATCCAAGAACTTCAGCAAGGTCTAATTAGGACAAATTCAAAGAAAATTTCTAGACATAGTGGATTTCAAACTGCTGAAAATCAAAGACAGAGAACAAATCTTAAAAGTAGCCAGAGAAAAAGGACATGTTATCTAGGAAGGAACAATGACACAAATGATGAG\n",
      "47M1I228M\n",
      "0.7834757834757835\n",
      "read_id: test_read_7_123646_123996 \n",
      "\tmap_start 75, map end 350\n",
      "\t350\n",
      "ccaggagttggaggccagcctgggcaaaacagcaagaccttgtctcaaacaaaaacaaaaaactaaagacAAGCAAGTACAGAAAAAGGCAGATTATATTCAAAGAGCAACATTAGAACAGCTGATTTTTCAAAACCAACAATGAAGCCAAGTAGTTTAATACCTGCAGtgtgctgaaaaaaataaatagccgCCAAATTAAAATTCTGTTATCAAGCAaatgtctctaaagaaaaaagaaaaataatcccattttGGAAGGTCtgagttgaaagaaaaaataaagagcaaaaaagaggaaaatttacaGACAGCTCCAAACAAACACTGATTATACAAAAGAATAACAATACCTTGAGGAGCTTTAAAACATAGAatacataacaataaaaacacagtG\n",
      "\n",
      "GTTGGAGGCCAGCCTGGGCAAAACAGCAAGACCTTGTCTCAAACAAAAACAAAAAACTAAAGACAAGCAAGTACAGAAAAAGGCAGATTATATTCAAAGAGCAACATTAGAACAGCTGATTTTCAAAACCAACAATGAAGCCAAGTAGTTTTAATACCTGCAGTGTGCTGAAAAAAATAAATAGCCGCCAAATTAAAATTCTGTTATCAAGCAAATGTCTCTAAAGAAAAAAGAAAAATAATCCCATTTTGGAAGGTCTGAGTTGAAAGAAAAAATAAAGAGCAAAAAAGAGGAAAATTTACAGACAGCTCCAAACAAACACTGATTATACAAAAGAATAACAATACCTTGAGGAGCTTTAAAACATAGAATACATAACAATAAAAACACAGTGG\n",
      "119M1D29M1I245M\n",
      "0.9800498753117207\n",
      "read_id: test_read_8_519501_519901 \n",
      "\tmap_start 6, map end 400\n",
      "\t400\n",
      "TAACTACTGAAACCGCAGTCCGCACAGCAGAGAGAGGATGGACTCACCACACCCAAGTCAAGAAAGCACCGCCCCCTCCAGAGTCGTGGGccatagtcccaggggaaaaccctacTAAACTAAAGCTAAGAAGAATTTAACTCcctttcatctattctattactcttttttctttcctcactctATTGCTGACCATatagttattaacataaccaagtcaatttcaCCTCAACTATTGCATTtgatgcttgccttgttataTCCTGTGGGGATTTGTCAAGCCAAAGAAAGCTCTCTACTTCAGATACCTCTGTCCCTCCTGGCTCTCCTCAGACTAGGCATTAGTGAATCGGGACCATTTAATCTGGGGAGATTTCTATAAAGATCCCAGTGGCAACCAGGAGTCTTCCCCCAGTGATGTAGAGCTTTTAAGCCATAGTTGGTCCAAAG\n",
      "\n",
      "ACTGAAACCGCAGTCCGCACAGCAGAGAGAGGATGGACTCACCACACCCAAGTCAAGAAAGCACCGCCCCTCCAGAGTCGTGGGCCATAGTCCCAGGGAAAACCTACTAAACTAAAGCTAAGAAGAATTTAACTCCCTTTCATCTATTCTATTACTCTTTTTCTTTCCTCACTCTATTGCTGACCATATAGTTATTAACATAACCAAGTCAATTTCACCTCAACTATTGCATTTGATGCTTGCCTTGTTATATCCTGTAGAGGTTGTCAAGCCAAAGAAAGCTCTCTACTTCAGATACCTCTGTCCCTCCTGGCTCTCCTCAGACTAGGCATTAGTGAATCAGGACCATTTAATCTGGGGAGATTTCTATAAAGATCCCAGTGGCAACCAGGAGTCTTCCCCAGTGATGTAGAGCTTTTAAGCCATAGTTGGTCCAGAAATCT\n",
      "66M1D32M2D59M1D101M1I4M2D135M1D38M\n",
      "0.9645232815964523\n",
      "read_id: test_read_9_797926_798376 \n",
      "\tmap_start 5, map end 447\n",
      "\t450\n",
      "actaattcatgggctttttgtaatttctctctctttaaagGCTACTGTTTTACCCAAATAGGATTTTGAGAGAGCCATGTCAGGGGTAGGGGAGGAATAACAGTGGCCATTATTAGAAAGGTTTGCTGTTCACACAATTTATCAAATTCTGCCCTCCAGAGGAGGTACTGACTGGCCTTTAAAGTTGTTTTAGCTAGCACTGACCAGTCCCATGGGGTGATATGGAAGTTGTCTGCTATGGTTTCAATTATTCCTTTTGTAAATGGGCTAGTGGCTCCGTTTAATGCTTTTTCTTACCACTTTATAAGCGTCAAAAGAAGTTGTCTGCTATGGCTTCAATTATTCCTTTCATAAATGGGCTAGCAGCTCCATTTTCTTTAAcgtttttttcttatctctttataAGCGTCAAAAGAAATGGGTTCATATACCTGATCGCCTTGTCGATCTTGCATTACTGGGCAGGCTAAGAGCTCCCCTTCTGATGCCGCTTGGCTAAG\n",
      "\n",
      "TTCATGGGCTTTTTGTAATTTCTCTCTCTTTAAAGGCTACTGTTTTACCCAAATAGGATTTTGAGAGAGCCCATGTCAGGGGTAGGGGAGGAATAACAGTGGCCATTATTAGAAAGGTTTGCTGTTCACACAATTTATCAAATTCTGCCCTCCAGAGGAGGTACTGACTGGCCTTTAAAGTTGTTTTAGCTAGCACTGACCAGTCCCATGGGGTGATATGAGTTGTCTGCTATGGTTTCAATTATTCCTTTTGTAAATGGGCTAGTGGCTCCGTTTAATGCTTTTTCTTACCACTTTATAAGCGTCAAAAGAAGTTGTCTGCTATGGCTTCAATTATTCCTTTCATAAATGGGCTAGCAGCTCCATTTTCTTTAACGTTTTTTTCTTATCTCTTTATAAGCGTCAAAAGAAATGGGTTCATATACCTGATCGCCTTGTCGATCTTGCATTACTGGGCAGGCTAAGAGCTCCCTTCTGATGCCGCTTGGCTAAGTAA\n",
      "69M1I150M2D249M1D24M\n",
      "0.9820359281437125\n",
      "read_id: test_read_10_471325_471825 \n",
      "\tmap_start 5, map end 500\n",
      "\t500\n",
      "AGTCATCACAGCTTGTCACCTTAAAAAACTGAAATGCTAAAGCATGTGGCCATTACAGCTCTCATGTAAAAGCATTTGCAGACAACAGGGCCCTTATGACATCCAATAAACAGAAACAGCATTTTCTGTATATCTCGTCCACTTAACTGTGCACATTTAATTCTCACGAATACCTAGTCGCCTGCAGGGCTATTATTACCCACACTGTACACGtaagaaaaagaaggcaaatgGAGAGAAAGTAGTTTCTCAGGAAACCAGTTACTCAATAAATAAGGCGAGAAGCCACGTTTCCGGGCTTAGAAGATGAACATTTTGCCCACTTTACTCATGTTTCCTTCTTGGGAATATTCTTAGGAATATAAATAATGGTTCAAACATGTTGACTTGTAAATTCGtacattcattcaccaaatatttctcAACTGCCGAATAGGTACTAGGGCCTGTGACAACACAAGGGATAAAGTGTTGAAGATGGGCAATTAGCTACATCATGTAGATAAATAACACTTGTCAGCCTATCACTTTACCTTTCTGTGCTCATGAT\n",
      "\n",
      "TCACAGCTTGTCACCTTAAAAAACTGAAATGCTAAAGCATGTGGCCATTACAGCTCTCATGTAAAAGCATTTGCAGACAACAGGGCCCTTATGACATCCAATAAACAGAAACAGCATTTTCTGTATATCTCGTCCATAACTGTGCACATTTAATTCTCACGAATACCTAGTCGCCTGCAGGGCTATTATTACCCACTGTACACGTAAGAAAAAGAAGGCAAATGGAGAGAAAGTAGTTTCTCAGGAAACCAGTTACTCAATAAATAAGGCGAGAAGCCACGTTTCCGGGCTTAGAAGATGAACATTTTGCCCACTTTACTCATGTTTCCTTCTTGGGAATATTCTTAGGAATATAAATAATGGTTCAAACATGTTGACTTGTAAATTCGTACATTCATTCACCAAATATTTCTCAACTGCCGAATGAGTACTAGGGCCTGTGACAACACAAGGGATAAAGTGTTGAAGATGGGCAATTAGCTACATCATGTAGATAAATAACACTTGTCAGCCTATCACTTTACCTTTCTGTGCTCATGATCAT\n",
      "136M2D57M2D348M\n",
      "0.9836363636363636\n",
      "read_id: test_read_11_495185_495735 \n",
      "\tmap_start 5, map end 550\n",
      "\t550\n",
      "caattgaatgaataaactaatGAGTGAAAAACCTTCTTGCGACCCGCAGTCACCTTGGTCCCCTTTGACCAGAGCCAGGTTGACGTGTCAACCGTCAAGATATCCCTCTGTTTTGGGTGATAATTAGATTTCTATCTTGACTGTTACAGACATTGGTATTCCTCcattaaaatgtctttctttcagGCCAggtccggtggctcacgcctgtaatcccaacactctggggggccgaggcgggtggatcacctgagttcaggagttcgagaccagactggccaacatggtgaaaccctgtctctactaaaaatacaaaaatcagctgggcatgatggggcgtgcctgtgatcccagctactcaggaggctgaggcatgagaatcgcttgaacctgggaggaggaggttgcagtgagccaagactgcgccactgcactccagcctaggtgatggagtgagactctgtcttaaaaaaaaaaaaaaaagaaagaaagaaaagaaaaaaagtctttctttCAAAGTTGGAGACATCCCTAAACATTCTAACTCCTGTCCCTGACAAGGTCCCATCTTAAGCAGGTCTCTGAAACCTCTGGAAGAAG\n",
      "\n",
      "AATGAATAAACTAATGAGTGAAAAACCTTCTTGCGACCCGCAGTCACCTTGGTCCCCTTTGACCAGAGCCAGGTTGACGTGTCAACCGTCAAGATATCCCTCTGTTTTGGGTGATAATTAGATTTCTATCTTGACTGTTACAGACATTGGTATTCCTCCATTAAAATGTCTTTCTTTCAGGCCAGGTCCGGTGGCTCACGCCTGTAATCCCAACACTCTGGGAGGCCGAGGCGGGTGGATCACCTGAGTTCAGGAGTTCGAGACCAGACTGGCCAACATGGTGAAACCCTGTCTCTACTAAAAATACAAAAATCAGCTGGGCATGATGGGGCGTGCCTGTGATCCCAGCTACTCAGGAGGCTGAGGCATGAGAATCGCTTGAACCTGGGAGGAGGAGGTTGCAGTGAGCCAAGACTGCGCCACTGCACTCCAGCCTAGGTGATGGAGTGAGACTCTGTCTTAAAAAAAAAAAAAAAAAGAAAGAAAGAAAGAAAAAAAGTCTTTCTTTCAAAGTTGGAGACATCCTAAACATTCTAACTCCTGTCCCTGACCAAGGTCCCATCTTAAGCAGGTCTCTGAAACCTCTGGAAGAAATGA\n",
      "461M1I25M1D36M1D27M1I42M\n",
      "0.9817275747508306\n",
      "read_id: test_read_12_683244_683844 \n",
      "\tmap_start 6, map end 599\n",
      "\t600\n",
      "ATCCTGGCTCCAGCACTCAATAGCTGTTTGACCCTTGGCAAGTTTCTTAACCACTCTATGCCTCagattcttcatctgtgaaatgggggacAATGATAGTACCTAACTTATGAGAACTAAATGACTTATTTTGTATAAAGCAATTAGAACAAGCAGCGCCTGGCATAATAAGCCCACAATAAAAGTTActcccggctgggcacggtggctcacgcctgtaatcccagcactttgggaggccgaggtgggcagatcacaaggtcaggagttcaagaccaacctgaccaacatggtgaaaccccgtctctactaaaaatacaaaaatttttagtagagacggggcgtggtggtgcgtgcctgtagtcccagctactcgggaggctgaggcaggagaattgcttgaacccgggaggtggacgttgcagtgagccaagatcccgccactgcactcagcctgggcaagagagcgagactccgtctcgaaaaaaaaaaaaatggtgctccCACATTTCTTTCTTGGGATGGAGGAAGCTTTCCCAGAAGCGCTCCTGACCGACTTTCCCACACATCTCACTGGTCAGAACTGCATCACTTGCCGTTTCTGACCAATCACCAGCTTACATTCATGGGGCACGTGCTTACACTAACCA\n",
      "\n",
      "GCTCCAGCACTCAATAGCTGTTTGACCCTTGGCAAGTTTCTTAACCACTCTATGCCTCAGATTCTTCATCTGTGAAGTAGGGGACAATGATAGTACCTAACTTATGAGAACTAAATGACTTATTTTGTATAAAGCAATTAGAACAAGCAGCGCCTGGCATAATAAGCCCACAATAAAAGTTACTCCCGGCTGGGCACGGTGGCTCACGCCTGTAATCCCAGCACTTTGGGAGGCCGAGGTGGGCAGATCACAAGGTCAGGAGTTCAAGACCAACCTGACCAACATGGTGAAACCCCGTCTCTACTAAAAATACAAAAATTTTTAGTAGAGACGGGGCGTGGTGGTGCGTGCCTGTAGTCCCAGCTACTCGGGAGGCTGAGGCAGGAGAATTGCTTGAACCCGGGAGGTGGACGTTGCAGTGAGCCAAGATCCCGCCACTGCACTCCAGCCTGGGCAAGAGAGCGAGACTCCGTCTCGAAAAAAAAAAAAATGGTGCTCCCACATTTCTTTCTTGGGATGGAGGAAGCTTTCCCAGAAGCGCTCCTGACCGACTTTCCCACATCTCACTGGTCAGAACTGCATCACTTGCCGTTTCTGACCAATCACCAGCTTACATTCATGGGGCACGTGCTTACACTAATATG\n",
      "444M1I112M2D83M\n",
      "0.9815668202764977\n",
      "read_id: test_read_13_398055_398705 \n",
      "\tmap_start 6, map end 647\n",
      "\t650\n",
      "TGAAAAATGCATAAGAGTCTTTCAAcggcagaattgatcaagcagaaggaaCTGGTGAGAACTGGCTATCCAAATATACACGAagccaaaaaaagaattaaaaaagaataaagtatgcctacaaaatgtagaaaatagtctcaaaagggTAAATCCAAGAGTTATTGGTCTTAAAGAGGATgtagagggagagaaaagggtaAATAGAGAgatcttttcctcagcacatggaacattttgaGAGATCAGGGTAGAAAggtcagagaaataaaaacaaacaaccttccAAACCTCAAGAAAGATATAAACATCCAGGTACAAAAAGGTCAAAAAACACCAAGcagattcaacccaaataagactacctcaaggcttataataatcaaactttcaaagatcaaagataaagaaaggatcctaaaagcaccaagagaaaagaggcaaataacatataaaggaacTCCAATACATCTAGCAGCAGACTTTTCAACAGcaactttacaggccaggagggAGTGGGAAAACATATGaaaactgctgaaggaaaaccAACCTTCAACCTAGAATATTATCTCCAGCAAAATTATCCTctaaacatgaaggaaaaatagtctcccagacaaacaaaagctgaggaatttcatcaataccagatctgtcttacaagaaatgcccATGGGAGTTCTCCAACCTGAAATAAAAGGACATTAACTAACAACAAGAAATCGTCTGAAGGTATAAACTCACTGG\n",
      "\n",
      "ATATACACGAAGCCAAAAAAGAATTAAAAAAGAATAAAGTATGCCTACAAAATGTAGAAAATAGTCTCAAAAGGGTAAATCCAAGAGTTATTAGTCTTAAAGAGGATGTAGAGGGAGAGAAAAGGGTAAATAGAGAGATCTTTTCCTCAGCACATGGAACATTTTGAGAGATCAGAATTAGAAAGGTCAGAGAAATAAAAACAAACAACCTTCCAAACCTCAAGAAAGATATAAACATCCAGGTACAAAAAGGTCAAAAAACACCAAGCAGATTCAACCCAAATAAGACTACCTCAAGGCTTATAATAATCAAACTTTCAAAGATCAAAGATAAAGAAAGGATCCTAAAAGCACCAAGAGAAAAGGCAAATAACATATAAAGGAACTCAATACATCTAGCAGCAGACTTTTCAACAGCAACTTTACAGGCCAGGAGGGAGTGGGAAAACATATGAAAACTGCTGAAGGAAAACCAACCTTCAACCTAGAATATTATCTCCAGCAAAATTATCCTCTAAACATGAAGGAAAAATAGTCTCCCAGACAAACAAAAGCTGAGGAATTTCATCAATACCAGATCTGTCTTACAAGAAATGCCCATGGGAGTTCTCCAACCTGAAATAAAAGGACATTAACTAACAACAAGAAATCGTCTGAAGGTATAAACTCACTGAA\n",
      "14M1D161M1I187M2D24M1D286M\n",
      "0.8948069241011984\n",
      "read_id: test_read_15_220153_220903 \n",
      "\tmap_start 73, map end 749\n",
      "\t750\n",
      "agggaagccagctgccatgtcctGAGGTTACTCAAGAAGCCCTGTGGAGTAGGCCATTTGGGGAGGGACTGAGGCCCCCAGGCAACATCTGTCCCAACTTGCCAGTCATGTTAGTGAACTACCCTTGTCCAGCCTTCAGATGACACCTCATGAGAGGCCCTGAGAGAGTCTTATTGTCCCGTTCACCATTCCTGTTGCCCTGTGGCCAGCTAATCAGCTTGTggtggttttcatttcttttttctttttgccattaaTAGCAatgccaggctgggctcagtggctcatgcctgtaatcccagcactttgggaggccgaggtgggtggatcacctgaggtcagaagtttgagacaagcctggctaacatggtgaaaccctgtctctattaaaaatacaaaaattagccaggtgtgatggtgtgcgcctgtaatcctagctacttctCCCAAGTAGAAGGGCGTGATTCTTCTCATGCCtcatgctgaggcatgagaatcacttgaacccgggaggctgaggctgcagtgagcggtgtttgtgccactgcacttcagcctgggcgacagagtgagactatctcaaaaaaaaaaaaaaaagtagcaatgCCATAGTAAGTATTCTTCTAATTAAGCCCTTCTGAATCAGCTTAATTATTTGCTTAGGGTCAATTTCTAAATGCACAGTTGCTGGATCAGAGTA\n",
      "\n",
      "CCAGCTGCCATGTCCTGAGGTTACTCAAGAAGCCCTGTGGAGTAGGCCATTTGGGGAGGACTGAGGCCCCAGGCAACATCTGTCCCAACTTGCCAGTCATGTTAGTGAACTACCCTTGTCCAGCCTTCAGATGACACCTCATGAGGAGCCCTGAGAGAGTCTTATTGTCCCGTTCACCATTCCTGTTGCCCTGTGGCCAGCTAATCAGCTTGTGGTGGTTTTCATTTCTTTTTTCTTTTTGCCATTAATAGCAATGCCAGGCTGGGCTCAGTGGCTCATGCCTGTAATCCCAGCACTTTGGGAGGCCGAGGTGGGTGGATCACCTGAGGTCAGAAGTTTGAGACAAGCCTGGCTAACATGGTGAAACCCTGTCTCTATTAAAAATACAAAAATTAGCCAGGTGTGATGGTGTGCGCCTGTAATCCTAGCTACTTCTCCCAAGTAGAAGGGCGTGATTCTTCTCATGCCTCATGCTGAGGCATGAGAATCACTTGAACCCGGGAGGCTGAGGCTGCAGTGAGCGGTGTTTGTGCCACTGCACTTCAGCCTGGGCGACAGAGTGAGACTATCTCAAAAAAAAAAAAAAAAGTAGCAATGCCATAGTAAGTATTCTTCTAATTAAGCCCTTCTGAATCAGCTTAATTATTTGCTTAGGGTCAATTTCTAAATGCACAGTTGCTGGATCAGAGTGTGA\n",
      "57M1D9M1D624M\n",
      "0.9857142857142858\n",
      "read_id: test_read_14_827036_827736 \n",
      "\tmap_start 7, map end 699\n",
      "\t700\n",
      "aaatgtcttcttttgagaagtgtctgttcatatcctttgcccactttttgatgttttttttttcttgtaaatttaagttcttgtagattctggatattagacctttgttagctgggtagattgcaaagcgttcctcccattctgtaggctgcatgttcaccctgatgatagttttttttgctgtgcagaagctctttcatttaattagatcccatttgacaattttggcttttgttgcaattgcttttggtattttcttcatgaagtctttgcccatgcctatgtcctaaatggtattgcctaggttttcttctagggtttttatggttttgggtattacatttaagtctttaatccatcttgagttaatttttgtataaggtgtaaagaaggggtcccgattcagttttctccatatggctagccagttttctcagcaccatttattaaatatggatcaaattcacacataacactattaaccttaaatgtaaatgggctaaatgccccaattaaaagacacagactggcaaattggatagagtcaagacccattggtgtgctgtattcaggagacccatcacacatgcaaagacacacataggctcaaaataaagggatggaggaaaatttaccaagcagatagaaagaacaaaatagcaggggttgcaatcccagtctctgacaaaacagactttaaaccaacaaagatcaaaaaagacaagagcattacataacggtaaagtgatcaattcaacaactagagctaactatcctaatatatatgcacccaatacagg\n",
      "\n",
      "TCTTCTTTTGAGAAGTGTCTGTTCATATCCTTTGCCCACTTTTTGATGTTTTTTTTTCTTGTAAATTTAAGTTCTTGTAGATTCTGGATATTAGACCTTTGTTAGCTGGGTAGATTGCAAAGCATTCCTCCCATTCTGTAGGCTGCATGTTCACCCTGATGATAGTTTTTTTGCTGTGCAGAAGCTCTTTCATTTAATTAGATCCCATTTGACAATTTTGGCTTTTGTTGCAATTGCTTTTGGTATTTTCTTCATGAAGTCTTTGCCCATGCCTATGTCCTAAATGGTATTGCCTAGGTTTTCTTCTAGGGTTTTTATGGTTTTGGGTATTACATTTAAGTCTTTAATCCATCTTGAGTTAATTTTTGTATAAGGTGTAAAGAAGGGGTCCCGATTCAGTTTTCTCCATATGGCTAGCCAGTTTCTCAGCACCATTTATTAAATATGGATCAAATTCACACATAACACTATTAACCTTAAATGTAAATGGGCTAAATGCCCCAATTAAAAGACACAGACTGGCAAATTGGATAGAGTCAAGACCCATTGGTGTGCTGTATTCAGGAGACCCATCACACATGCAAAGACACACATAGGCTCAAAATAAAGGGATGGAGGAAAATTTACCAAGCAGATAGAAAGAACAAAATAGCAGGGGTTGCAATCCCAGTCTCTGACAAAACAGACTTTAAACCAACAAAGATCAAAAAGACAAAGGCATTACATAACAGTAAAGTGATCAATTCAACAACTAGAGCTAACTATCCTAATATATATGCACCCAATACAGATG\n",
      "48M1D117M1D256M1D284M1D85M\n",
      "0.9875\n",
      "read_id: test_read_16_98418_99218 \n",
      "\tmap_start 5, map end 799\n",
      "\t800\n",
      "aacctcatataagtggaatcagacaatatttgtcctttgttttgtttatttaatttagcataatgtcttcaaggctgatccatgttgtagcatgtgttagaattccaatccttttaaaggctgaatgatattgcactgtgtatatatatacacacacacacacacacacacacacaccacattttgcttatccatttatctgctgatggacacttgagttgcttccacagcttggctattgtaaataatgctgctatgaacataggtgTACAAACATCTGTTTGAGACCTCGCTTTCAAATCTTTtatgtatatatccagaagtggaactgctgaACCATGTAGTAATTctatgttaattttttgaagaaccagcATATTGTTTCaacaagctgggcacggtggctcactcctatacaGCAACTGTATCATTTTACACTCCCAGGAACAGTGCAAAGGCTACAACTTCTCTACATCCttactaacacttgttattttctgttttttgcttgtttttatagagacaggggtcttgcttatgcccaggctggtcttgagctcctggcctcaagggatcctcccacctcggcctcccaaagtgctctcaAAATagactgtgcctggcctattttttggttttcttttcttcttcttcttttttttttttcagtaacagCCCTCCTAATGAGTATGAAGTTGTATCTCATtgactgtgattttaatttgcatttccctaatgattaatgatgttgagcatctttttacatgcttattggccatttgtatatttgttttggaGAATGTCTATTCAAAGCTGTTGTCCattttttgattgggttgttttgtttgtt\n",
      "\n",
      "CATATAAGTGGAATCAGACAATATTTGTCCTTTGTTTTGTTTATTTAATTTAGCATAATGTCTTCAAGGCTGATCCATGTTGTAGCATGTGTTAGAATTCCAATCCTTTTAAAGGCTGAATGATATTGCACTGTGTATATATATACACACACACACACACACACACACACACCACATTTTGCTTATCCATTTATCTGCTGATGGACACTTGAGTTGCTTCCACAGCTTGGCTATTGTAAATAATGCTGCTATGAACATAGGTGTACAAACATCTGTTTGAGACCTCGCTTTCAAATCTTTTATGTATATATCCAGAAGTGGAACTGCTGAACCATGTAGTAATTCTATGTTAATTTTTTGAAGAACCAGCATATTGTTTTCAACAAGCTGGGCACGGTGGCTCACTCCTATACAGCAACTGTATCATTTTACACTCCAGGAACAGTGCAAAGGCTACAACTTCTCTACATCCTTACTAACACTTGTTATTTTCTGTTTTTTTGCTTGTTTTTTATAGAGACAGGGGTCTTGCCCATGCCCAGGCTGGTCTTGAGCTCCTGGCCTCAAGGGATCCTCCCACCTCGGCCTCCCAAAGTGCTCTCAAAATAGACTGTGCCTGGCCTATTTTTTGGTTTTCTTTTCTTCTTCTTCTTTTTTTTTTTTCAGTAACAGCCCTCCTAATGAGTATGAAGTTGTATCTCATTGACTGTGATTTTAATTTGCATTTCCCTAATGATTAATGATGTTGAGCATCTTTTTACATGCTTATTGGCCATTTGTATATTTGTTTTGGAGAATGTCTATTCAAAGCTGTTGTCCATTTTTTGATTGGGTTGTTTTGTTTGTTATC\n",
      "376M1I58M1D60M1I11M1I339M\n",
      "0.9894490035169988\n",
      "read_id: test_read_17_511554_512404 \n",
      "\tmap_start 5, map end 850\n",
      "\t850\n",
      "ATTCAGAACATAGCACTTTCCCATTAGATTGTGAGGATAAGGACTATATCTAAGCCATTCACTTCTATATCCCTGTTGCCCACTATATACctagcatacagtaggtgcttaataaatgtttgaaaaatgggTGAATGAAATATTGTACTTTCTAATTCAAGcattttctgagcacctactgtgcacCAGGGCCTGTGCTATGGGCTGTATATACAGAAATACATCAGTGAGAGTCCTCAGCCCTAAGGCCATTGgtctgaagaaaaaagagaaattgcaaCAAGTGCCATAGCAAACACAGCTGGGAAATTCACTGATGTAGTTTGGAGGTGTGTCTCTGCTCAAATcatatattgaaatgtaatctgcagtgttggaggtagggcctggtgggaggtgattggataatggaggaggatttctttttttatatctatcaggaatgcaaaattaatttaataatcgAAAATTACTATAATTCACAGACTAAGACAAGAAAAGCCATACGATTCTCTCACCAGTTGCAGAAAAAGCATATGATagaattaaacatctttttatgattttttaaaattatactttaaattctgggatacatgtgcagaatgtgtaggtttgttacataggtatacatgtgccatgttggtttgctgcacccatcaacttgtcatttacattaggtatttctcctaatgctatccctcccccagccccccaccccctgacaggccccagtgtgtaatgttcccctccctgtgtccatgtgttctcattgttcaactcccacttatgagtgagaacatgtggtgtttggttttctgtccttgtgatagtttgctgagaatggtggtttccagcttcatccatgtccctgcaaaggacttgaactcatcccttttt\n",
      "\n",
      "AACATAGCACTTTCCCATTAGATTGTGAGGATAAGGACTATATCTAAGCCATTCACTTCTATATCCCTGTTGCCCACTATATACCTAGCATACAGTAGGTGCTTAATAAATGTTTGAAAAATGGGTGAATGAAATATTGTACTTTCTAATTCAAGCATTTTCTGAGCACCTACTGTGCACCAGGGCCTGTGCTATGGGCTGTATATACAGAAATACATCAGTGAGAGTCCTCAGCCCTAAGGCCATTGGTCTGAAGAAAAAGAGAAATTGCAACAAGTGCCATAGCAAACACAGCTGGGAAATTCACTGATGTAGTTTGGAGGTGTGTCTCTGCTCAAATCATATATTGAAATGTAATCTGCAGTGTTGGAGGTAGGGCCTGGTGGGAGGTGATTGGATAATGGAGGAGGATTTCTTTTTTTATATCTATCAGGAATGCAAAATTAATTTAATAATCGAAAATTACTATAATTCCACAGACTAAGACAAGAAAAGCCATACGATTCTCTCACCAGTTGCAGAAAAAACATATGATAGAATTAAACATCTTTTTATGATTTTTTTAAAATTATACTTTAAATTCTGGGATACATGTGCAGAATGTGTAGGTTTGTTACATAGGTATACATGTGCCATGTTGGTTTGCTGCACCCATCAACTTGTCATTTACATTAGGTATTTCTCCTAATGCTATCCCTCCCCCAGCCCCCCACCCCCTGACAGGCCCCAGTGTGTAATGTTCCCCTCCCTGTGTCCATGTGTTCTCATTGTTCAACTCCCACTTATGAGTGAGAACATGTGGTGTTTGGTTTTCTGTCCTTGTGATAGTTTGCTGAGAATGGTGGTTTCCAGCTTCATCCATGTCCCTGCAAAGGACTTGAACTCATCCCTTTTTGTGG\n",
      "256M1D217M1I83M1I337M\n",
      "0.9900221729490022\n",
      "read_id: test_read_18_936710_937610 \n",
      "\tmap_start 6, map end 900\n",
      "\t900\n",
      "TTATTCTCTGTGTAGAAAAGACTTGGGAGGCTCCCTCAGCTTCCTTTTAGGCACTTACTATGTCTGGGGATGGGAACAGCCGTGCTCCCAGAAAGCAGTCCAGTCAAGGGTGTGAAAGGCTGCCACGAGACAGTGATCGTAATATTGTTTGCTGAGcgtttactacatgccaggcactgtgttaatgCTTCATGTGCAGTATCTCATTCAGGCCTCATCACACCCTTTTTGAGGTAGGTATGCCTAAAGcacccattctacagatgaaacCGTGAAgggacttgctcagggtcactcAGGGAAGTAGGGATGGAGTCGGGATTTAAGCCTTTGCTTTAGTGGCCAGTGGCTTAAATGGGACTCAGCATAGTGTTGTAGCTACTCACTGGTCAGGTGTGAGGAGTAGGGGGACATCCAGGGAATTTTTCATTCAGCTCTGGACCTTGCATTATCAGGTTGGTATGGATCCCATAAGGAGGGATGTcagaacctgggcaacatagggaaaccctgtttctataaaaaatacaaaaatcagctgggcatggtagtgcatgcctgtaatcccagctacttgggaggctgaggtgggaaggtcactggagcctgggaggtctgggaggtcaaggctacagtgagctgtgatcatgccactgcactccagcctgggcaacagagtgagaccctgcctcaaaaaagccTTTGCTTTGGTGGCCAGTGGCTTAAATGGGACTCAGCTGGAGGAAACAGTGGGGGCATATCACTGAGAAGTTCCCAGAAGTGGAATCAGGCATAAAGTTCAGGAGGACAGAGAGTCATTCAGAGATTCCTTGTGGGGAAGCGACCTTCCCACCAGTGGAGGTATTCCAGCACGGCTGGATGATGATTGCAACTATGGAGGGAATCTATGAAGAACCAGATGACACGTGAGATTTTTTGCAGCCCTGTGA\n",
      "\n",
      "TCTGTGTAGAAAAGACTTGGGAGGCTCCCTCAGCTTCCTTTTAGGCACTTACTATGTCTGGGGATGGGAACAACCGTGCTCCCAGAAAGCAGTCCAGTCAAGGGTGTGAAAGGCTGCCACAGAGACAGTGAAGTCAGTAATATTGTTTGCTGAGCGTTTACTACATGCCAGGCACTGTGTTAATGCTTCATGTGCAGTATCTCATTCAGGCCTCATCACACCCTTTTTGAGGTAGGTATGCCTAAAGCACCCATTCTACAGATGAAACCGTGAAGGGACTTGCTCAGGGTCCTCAGGGAAGTAGGGATGGAGTCAGGTTTAAGCCTTTGCTTTAGTGGCCAGTGGCTTAAATGGGACTCAGCATAGTGTTGTAGCTACTCACTGGTCAGGTGAGGTAGGGGGACATCCAGGGAATTTTTCATTCAGCTCTGGACCTTGCATTATCAGGTTGGTATGGATCCCATAAGGAGGGATGTCAGAACCTGGGCAACATAGGGAAACCCTGTTTCTATAAAAAATACAAAAATCAGCTGGGCATGGTAGTGCATGCCTGTAATCCCAGCTACTTGGGAGGCTGAGGTGGGAAGGTCACTGGAGCCTGGGAGGTCTGGGAGGTCAAGGCTACAGTGAGCTGTGATCATGCCACTGCACTCCAGCCTGGGCAACAGAGTGAGACCCTGCCTCAAAAAAGCCTTTGCTGGTGGCCAGTGGCTTAAATGGGACTCAGCTGGAGGAAACAGTGGGGGCATATCACTGAGAAGTTCCCAGAAGTGGAATCAGGCATAAAGTTCAGGAGGACAGAGAGTCATTCAGAGATTCCTTGTGGGGAAGCGACCTTCCCACCAGTGGGTATTCCAGCACGGCTGGATGATGATTGCAACTATGGAGAGTCTATGAAGAACCAGATGACACATTGAGATTTTTGCAGCCCTGTATTTC\n",
      "120M1I10M2I2M1I155M1D26M1D77M4D304M2D150M2D39M2D25M1I6M1D15M\n",
      "0.9727748691099476\n",
      "read_id: test_read_19_876363_877313 \n",
      "\tmap_start 6, map end 948\n",
      "\t950\n",
      "ACAGCCACGCCAGATGGACGAGAAGACCAAGAAAGGTGGGCACAGGCTGGAGGTGGCTGGGGAACTTCCGGTGGGAAGTGGGCCCCGCAGGACCTGGCCTTGCCCCTGGCCAGAAGGGCCTTGGAGAGGGGGCTTTAGCCTGCCCTCCCTCTACCCTCCTCCCCATCAGTTTCCTCCTTTGGTACCTGCTGGCTTCCAGAGCCATCTTGGGGCCCTGAGAACTCCTTGGGCTGGCTCTGTGCTGAGATGGGGCTAGGGGACTCGCAGAGGACACAGGGCATTGAACTTGGAGACCTCCTGGGCTGGTGGGAGACAGACGTCAGTTGACCTGAGAAGCAGGGGTACTTGCCTCTTCTCTTGTCCCCTGCACCTAGGGTTGTAGAACGGAAGTCAGTCACTGCCTTGCTGGAAACCCTCCCATGCCCCTCTGTGTTCTCCAAACAAAACCCAGAGGCCCTGGGTGGCCCACAGGATATCTGTCCTCAGTCACCCCGCCATGCTCACTCTACTGGAGCCCCACTGGCTTCCTTCGGTTCTCATCCAACCATTTTTTGGCCAAGGCCCTTACTCTTCCTTCCACCTGGACCACTCTTCCCCACTGGAGCTTGACACGTGCAGCTTCTCCTCCTTCAGGTCTTAGCTTCAGTGTTACCCCCTCCCAGAGGCCTCCCCTGGTCTCCTTAACCTGTTTATTTCCCTGCCAGCAAGGATCgcaatctgactttttttttttttcttgttaaactTGTTCATTGTCTCCCCACTGGGCAGGGAGATCCATAAGGAGAGGGGCCCTGTTTATAAATCTCTGTGGGATTCCAGTTCCTGGGACAGTGGGTGGCACACAGTAGAAGCTCAATAACTGCTTGTTGgataaatgaatagaaatatgAGGGACCCTGGGAATGGGAAGGACAAACAACCAAATGAGCCTAGTGTGAGGAGGAGTGGGGAATATTAGAGAACCCCTCCCGGAGAAAGGGACTTTTAGTCTGGGTGC\n",
      "\n",
      "CAGATGGACAGAAGACCAAGAAAGGTGGGCACAGGCTGGAGGTGGCTGGGGAACTTCCGGTGGGAAGTGGGCCCCGCAGGACCTGGCCTTGCCCCTGGCCAGAAGGGCCTTGGAGAGGGGCTTTAGCCTGCCCTCCCTCTACCCTCCTCCCCATCAGTTTCCTCCTTTGGTACCTGCTGGCTTCCAGAGCCATCTTGGGGCCCTGAGAACTCCTTGGGCTGGCTCTGTGCTGAGATGGGGCTAGGGGACTCGCAGAGGACACAGGGCACATTGAACTTGGAGACCTCCTGGGCTGGTGGGAGACAGACGTCAGTTGACCTGAGAAGCAGGGGTACTTGCCTCTTCTCTTGTCCCCTGCACCTAGGGTTGTAGAACGGAAGTCAGTCACTGCCTTGCTGGAAACCCTCCCATGCCCCTCTGTGTTCTCCAAACAAAACCCAGAGGCCCTGGGTGGCCCACAGGATATCTGTCCTCAGTCACCCCGCCATGCTCACTCTACTGGAGCCCCACTGGCTTCCTTCGGTTCTCATCCAACCATTTTTTGGCCAAGGCCCTTACTCTTCCTTCCACCTGGACCACTCTTCCCCACTGGAGCTTGACACGTGCAGCTTCTCCTCCTTCAGGTCTTAGCTTCAGTGTTACCCCCTCCCAGAGGCCTCCCTGGTCTCCTTAACCTGTTTATTTCCCTGCCAGCAAGGATCGCAATCTGACTTTTTTTTTTTCTTGTTAAACTTGTTCATTGTCTCCCCACTGGGCAGGGAGATCCATAAGGAGAGGGGCCCTGTTTATAAATCTCTGTGGGATTCCAGTTCCTGGGACAGTGGGTGGCACACAGTAGAAGCTCAATAACTGCTTGTTGGATAAATGAATAGAAATATGAGGGACCCTGGGAATGGGAAGGACAAACAACCAAATGAGCCTAGTGTGAGGGAGGAGTGGGGAATATTAGAGAACCCCTCCCGGAGAAAGGGACTTTTAGTCTGGGTGTC\n",
      "9M1D107M1D150M2I390M1D53M2D217M1I58M\n",
      "0.9810568295114656\n",
      "read_id: test_read_20_408744_409744 \n",
      "\tmap_start 10, map end 999\n",
      "\t1000\n",
      "cccgccagtctcagcctcccaaagtactgagattacaggcgtgagccaccacacctggcctatcccagcactttgggaggccgaggtggatggatcactgaggtcaggagattgagacgagcctggccaacatggtgaaactccatctctattaaaaatacaataattaggccaggtgcggtggctcacgcctgcaattccagcagtttgggaggccgaggtgggcagatcatgaggtcaggagatcgagaccatcttggctaacacggtgaaaccctgtctttactaaaaaaatacaaaaaaattagccaggcgtggtggcgggcgcctgtagtcccagctactcgagaggctgaggcaggagaatgaggtgaacctgggaggcggagcttgcagtgagctgagatcacaccactgcactctagcctgggtgacaagttctgtctcaaaaaaaaaaaaaaaaggcagaaagaacaTGGATTCACCTGCTTatacaagaaaaaaggaaaaaaaaaagtgtacgaGTTGCCTTGTTACAATAAAACtaaatgtgtatacacacaaagGAAATGGAGGACATTCAGGGGCTGGGATGAAGGGTACAGAAGAAAGGCCAGGAGATACGGCCCTTCCATTTGACAGTAAATagactaattaaaaaatatttatgtagtatATATTAGGTGCAAGGCACCAGAGTTCATTTGAAGTGGAAGATATCACCAGAAGGTAGGGCAGATTTTAGAAATAACTAACAGAAGGTACATTAGGTTTTAGAAGGGACACCAAGCATCTTCCCCAGCAATGTTCTAGTCTGAGACCATTGTGAGTCTACAAACTGTTTCTATGACAAAGctgtacattattattattattattattattttatttttattttttgagacagagtcttgctttgtctcccaggctggagtgcagtgaagcaatcttggctcactggaacctctgtctcttgggttcaaaccattctcgggcctcagcctcccaggtagccaggattacaggcgcatgctgccaccacacctagct\n",
      "\n",
      "CAGTCTCAGCCTCCCAAAGTACTGAGATTACAGGCGTGAGCCACCACACCTGGCCTATCCCAGCACTTTGGGAGGCCGAGGTGGATGGATCACTGAGGTCAGGAGATTGAGACGAGCCTGGCCAACATGGTGAAACTCCATCTCTATTAAAAATACAATAATTAGGCCAGGTGCGGTGGCTCACGCCTGCAATTCCAGCAGTTTGGGAGGCCGAGGTGGGCAGATCATGAGGTCAGGAGATCGAGACCATCTTGGCTAACACGGTGAAACCCTGTCTTTACTAAAAAAAATACAAAAAATTAGCCAGGCGTGGTGGCGGGCGCCTGTAGTCCCAGCTACTCGAGAGGCTGAGGCAGGAGAATGAGGTGAACCTGGGAGGCGGAGCTTGCAGTGAGCTGAGATCACACCACTGCACTCTAGCCTGGGTGACAAGTTCTGTCTCAAAAAAAAAAAAAAAAGGCAGAAAGAACATGGATTCACCTGCTTATACAAGAAAAAAGGAAAAAAAGTGTACGAGTTGCCTTGTTACAATAAAACTAAATGTGTATACACACAAAGGAAATGGAGGACATTCAGGGGCTGGGATGAAGGGTACAGAAGAAAGGCCAGGAGATACAGCCCTTCCATTTGACAGTAAATAGACTAATTAAAAAATATTTATGTAGTATATATTAGGTGCAAGGCACCAGAGTTCATTTGAAGTGGAAGATATCACCAGAAGGTAGGGCAGATTTTAGAAATAACTAACAGAAGGTACATTAGGTTTTAGAAGGGACACCAAGCATCTTCCCCAGCAATGTTCTAGTCTGAGACCATTGTGAGTCTACAAACTGTTTCTATGACAAAGCTGTACATTATTATTATTATTATTATTATTTTATTTTTATTTTTTGAGACAGAGTCTTGCTTTGTCTCCCAGGCTGGAGTGCAGTGAAGCAATCTTGGCTCACTGGAACCTCTGTCTCTTGGGTTCAAACCATTCTCGGGCCTCAGCCTCCCAGGTAGCCAGGATTACAGGCGCATGCTGCCACCACACCTAGCCA\n",
      "282M1I10M1D208M3D540M\n",
      "0.9895337773549001\n",
      "read_id: test_read_21_453789_454839 \n",
      "\tmap_start 5, map end 1049\n",
      "\t1050\n",
      "ctgggagacagaggttgcagtgagctgagattgcactactgcaccccagagcgagactctgtctcaaaaccaccaccaccaccagcaccaccaccagcaccaccaccaccaccaccaccagcacatGTTGAGGATATTAAGTAGATAATAATACAGATGGCATGTAGGTGTGGCCAAAGTCATGAAGGTTGCCCACCACACGGTAAACTTTGTAGTCAgtgaataaatggatagatagGAGATAGAATGGAGGAATGCATGAATGGGTAAATGAGCAAGCGAATGAATACCTATCTCATCCATTCTACACAgccccagcacattgggaggttgTCCTATCTCAACTTGCATAGCTCCTAGAATGGGGGAACTCACTACCTTATGACATAGCCCTTTCCACATCTGAACCACTAGGAGTGTGTAAAAGACATTTTCTCATATTAAGTTTATCTTTCTGGAGATCCTGTGCTCTCTGGGGCCCCACAGACACATCTGCTTCCCTGTCTGGGGACAGCCCAAACACTTGCCCTCCCCAGGCTGCCCTTCTCTGGGCCCTTCTGCCCAGATGCTTGGCTGCTGTGCCCACCAGGTCCTGCTTGCACAGAGCTTATATCCTAGTGGGCGGCAGGACAAAGAACaagcacacaggcacacaaacaCAATGATTCCATGCTATGAAGGAAATGCAGAGTGAGACTGTTGGGAAGAGCATGGCGGGGTGTGGAGAGGCAAGGGGAGTCTCTCTAGGAAGGTAATATTTGAGCTGGGACCTGAAGAATGCAACAAAGCCAGAAGAACAAGAGAAAGGGCATTCCAGATAGAGGCAAGAGCAAGTGCAAGAGCCCTGAGATCACAGAGCAATTGGAAACTAGGAAGCAGCCAGCCTGGCTGGACATGGACATTTTGGGTATTGATGGTGAAGAGCCTggaattgttttctaaatttgatCTCCAAACACTTTTAAGCAAGAGGTGATATGATATGACATATTTTAGCAGACAATGAATATTTCCTGAATTAAAATTGAAGACCCTTCTAGTTCCAATAGTTCCATGCTTCCCAAAGTGATACTGAAATGACTTCAGGAgagaacaggctg\n",
      "\n",
      "GACAGAGGTTGCAGTGAGCTGAGATTGCACTACTGCACCCCAGAGCGAGACTCTGTCTCAAAACCACCACCACCACCAGCACCACCACCAGCACCACCACCACCACCACCACCAGCACATGTTGAGGATATTAAGTAGATAATAATACAGATGGCATGTAGGTGTGGCCAAAGTCATGAAGGTTGCCCACCACACGGTAGAGCTTTGTAGTCAGTGAATAAATGGATAGATAGGAGATAGAATGGAGGAATGCATGAATGGGTAAATGAGCAAGCGAATGAATACCTATCTCATCCATTCTACACAGCCCCAGCACATTGGGAGGTTGTCCTATCTCCAACTTGCATAGCTCCTAGAATGGGGAACTCACTACCTTATGACATAGCCCTTTCCACATCTGAACCACTAGGAGTGTGTAAAAGACATTTTCTCATATTAAGTTTATCTTTCTGGAGATCCTGTGCTCTCTGGGGCCCCACAGACACATCTGCTTCCCTGTCTGGGGACAGCCCAAACACTTGCCCTCCCAGGCTGCCCTTCTCTGGGCCCTTCTGCCCAGATGCTTGGCTGCTGTGCCCACCAGGTCCTGCTTGCACAGAGCTTATATCCTAGTGGGCGGCAGGACAAAGAACAAGCACACAGGCACACAAACACAATGATTCCATGCTATGAAGGAAATGCAGAGTGAGACTGTTGGGAAGAGCATGGCGGGGTGTGGAGAGGCAAGGAGTCTCTCTAGGAAGGTAATATTTGAGCTGGGACCTGAAGAATGCAACAAAGCCAGAAGAACAAGAGAAAGGGCATTCCAGATAGAGGCAAGAGCAAGTGCAAGAGCCCTGAGATCACAGAGCAATTGGAAACTAGGAAGCAGCCAGCCTGGCTGGACATGGACATTTTGGGTATTGATGGTGAAGAGCCCTGGAATTGTTTTCTAAATTTGATCTCCAAACACTTTTAAGCAAGAGGTGATATGATATGACATATTTTAGCAGACAATGAATATTTCCTGAATTAAAATTGAAGACCCTTCTAGTTCCAATAGTTCCATGCTTCCCAAAGTGATACTGAAATGACTTCAGGAGAGAACAGGCTGGA\n",
      "199M1I136M1I22M1D166M1D201M2D190M1I176M\n",
      "0.9882139619220308\n",
      "read_id: test_read_22_636944_638044 \n",
      "\tmap_start 6, map end 1100\n",
      "\t1100\n",
      "cgtcatgcgcctgtagtctcagctacttgggaggctgaggcaggaggatggcgtgaacccaggaggtggagcttgcagtgagccgagatcgtgccactgcactccagcctgggcgacagagcgagactctctctcgaaaaaaaagaaaaagaactttcaaAAGCTTACCAATCAGccagcccttgttcatcccctAGCAGAagtgtggtggtattgtggtggacctttactggacaCTCTGCCGAATAACTGGATTGGCACTTGTGCTTTAGTCCAACtagctatccctttcaccctggcatttcatcaaccagaggaaggaaaaataagacatcgtAAAGTgagagaagccccttatgggtctttAGACTCTCACTTCTGTTTAGACGCAATTGGGGTCCCATGGAGAATACAAGATCAATTTAAAGTCTGgaatcaaatagctgcaggatttgagtcaatatCTTGGTGGGTGACAATTAATAAACATGTAGAttggataaactacatctattacaaccaacagtGATTTAGTAACTACACTAGAGATACTGTTAGAGGAATAGCTGAGCAAGTAGGGGCTACAGGCCAGATGGCTTGGGAAAATAGGACAGCCTTAGACATGATATTAGCAGAAAGAGGAGGGGTTTGCATCGTGACTAAAACTCAATGTTACACCTTCATCCCAAACAACATTGCCCCTAATGGAAGTATAACAAAGGCATTGCAAGGTCTCACTGCTCTATCCAGTGAGTTAGCCAGCAGCTCAGGGGTAAATGATCCCTTTACAGGATGGCTAGAAAAATGGTTCggtaaatggaaaggaataataGCCTCAATTCTTACCTCCCTCGTAGCTGTAATAGGTGTACTTATTCTTGTCGGGTGCTGTGTCATACCATGCATCCGTGGGTTGGTGCAGAGGCTCGTAGAAACGGCACTTGCTAAAACCTCCCTTAACTATCCTCCACCTTATCCAGAGAAgcttcttcttttggaaaatcaagCAGAACAACTAAGTCAAGACATGTTAAATAAGTTTGAAGAGAAAGCCGTAAGAAAAATGCAAGAGGAGGAAGTTGTTAAATATgaattctaaatttctcttcaaagaattagTATGTctgtatgttcaattctttgccttcta\n",
      "\n",
      "GCGCCTGTAGTCTCAGCTACTTGGGAGGCTGAGGCAGGAGGATGGCGTGAACCCAGGAGGTGGAGCTTGCAGTGAGCCGAGATCGTGCCACTGCACTCCAGCCTGGGCGACAGAGCGAGACTCTCTCTCGAAAAAAAAGAAAAAGAACTTTCAAAAGCTTACCAATCAGCCAGCCCTTGTTCATCCTAGCAGAAGTGTGGTGAGTGTGTGGTGGACCTTTACTGGACCTCTGCCAGATAACTGGATTGGCACTTGTGCTTTAGTCAACTAGCTATCCCTTTCACCCTGGCATTTCATCCAACCAGAGGAAGGAAAAATAAGACATCGTAAAGTGAGAGAAGCCCCTTATGGGTCTTTAGACTCTCACTTCTGTTTAGACGCAATTGGGGTCCATGGAGAATACAAGATCAATTTAAAGTCTGGAATCAAATAGCTGCAGGATTTGAGTCAATATCTTGGTGGGTGACAATTAATAAACATGTAGATTGGATAAACTACATCTATTACAACCAACAGTGATTTAGTAACTACACTAGAGATACTGTTAGAGGAATAGCTGAGCAAGTAGGGGCTACAGGCCAGATGGCTTGGGAAAATAGGACAGCCTTAGACATGATATTAGCAGAAAGAGGAGGGGTTTGCATCGTGACTAAAACTCAATGTTACACCTTCATCCCAAACAACATTGCCCTAATGGAAGTATAACAAAGGCATTGCAAGGTCTCACTGCTCTATCCAGTGAGTTAGCCAGCAGCTCAGGGGTAAATGATCCCTTTACAGGATGGCTAGAAAAATGGTTCGGTAAATGGAAAGGAATAATAGCCTCAATTCTTACCTCCCTCGTAGCTGTAATAGGTGTACTTATTCTTGTCGGGTGCTGTGTCATACCATGCATCCGTGGGTTAGTTGCAGAGGCTCGTAGAAACGGCACTTGCTAAAACCTCCCTTAACTATCCTCCACCTTATCCGAAGCTTCTTCTTTTGGAAAATCAAGCAGAACAACTAAGTCAAGACATGTTAAATAAGTTTGAAGAAAGCCGTAAGAAAAATGCAAGAGGAGGAAGTTGTTAAATATGAATTCTAAATTTCTCTTCAAAGAATTAGTATGTCTGTATGTTCAATTCTTTGCCTTCTGTG\n",
      "184M2D18M1I2M1D22M1D37M1D33M1I92M1D298M1D216M1I63M3D63M2D103M\n",
      "0.9809193408499567\n",
      "read_id: test_read_23_799308_800458 \n",
      "\tmap_start 6, map end 1149\n",
      "\t1150\n",
      "tagtcttCTCACAAGAGAATGACCCTCTTTTAGGTACCCCATTGATTTTACGGCATCTCTACTTTGCAAGTGTTTGTGTAAATGGACATATTATGGTCTCTTTGTGCACAATTATGTCAAAGACAATTTAGAGCTTGAAGGTTGACCTCCAGCTGTAAAGTTCCTAAGTTCTCtatctctctgctttcttttctgcctgttttaagtctgctattatttttctttctttttttgagacagagtcttgctctgtgcccaggttggagtgcagtggtgcaatctcagctcactacaacctctgcctcccaggttcaagcagtcctcccacctcagcctcctgaatagctgggactacaggcatgtgccaccactcttggctaatttttttttttttttgagacagagtcttgctctgttgcccaggctggagtgcaatggcatgatctcagcaaaCCAACGAGTTTCTATTAATATCTCATGGCTAGAGTTCTGAGATAATAGCTATAGGATCTTTGGTTGTatgagtatgtatgtgtgtgtttatgcatacatacacttatttcattgtgttttctaGCCACAGGTACTGAATTGGCTTAAAGTTAAAGAATATTCATAAATTAATAAGCCtaaatgcttttcaagttcatgtgacttaagtaaaatctttaataagctagctttaaaattattggtaaagtaatattagaaatgtcttaaaaatTGTTAGCAtaaatttttgtttgcatttattgatcAAGGGACTTCATATACTGCCAAATACTgtaaggtgtcaaaatttggcatagggTTTGTAAAACTACAAAACCGTTCAAAACAgaatgatttttgcttttgtaatttttgataaataagacattgatattggtttaatgaaaacagctaaatCATGAATTATTTAGTgaaataacaatatatttaatCTTAAGGTTTTTACTTAGCAAACACCTGAAATTCACAGGCTATCAAATGTTTGACAGggaaataactttaaatgatgactatcacagttttcataaCTAACCTGggtaaactattaaaataaaatatttaggtaaatgtaatgggataaatacttgtagacaaaGTTGTCATAATTTAGGATCTAAAGTTATGTTAAATTAAACAATAGATATTTCATTAActgggtttttttaattaaaaaagatattgcaggaa\n",
      "\n",
      "TTCTCACAAGAGAATGACCCTCTTTTAGGTACCCCATTGATTTTACGGCATCTCTACTTTGCAAGTGTTTGTGTAAATGGACATATTATGGTCTCTTTGTGCACAATTATGTCAAAGACAATTTAGAGCTTGAAGGTTGACCTCCAGCTGTAAAGTTCCTAAGTTCTCTATCTCTCTGCTTTCTTTTCTGCCTGTTTTAAGTCTGCTATTATTTTTCTTTCTTTTTTTTGAGACAGAGTCTTGCTCTGTGCCCAGGTTGGAGTGCAGTGGTGCAATCTCAGCTCACTACAACCTCTGCCTCCCAGGTTCAAGCAGTCCTCCCACCTCAGCCTCCTGAATAGCTGGGACTACAGGCATGTGCCACCACTCTTGGCTAATTTTTTTTTTTTTTTGAGACAGAGTCTTGCTCTGTTGCCCAGGCTGGAGTGCAATGGCATGATCTCAGCAAACCAACGAGTTTCTATTAATATCTCATGGCTAGAGTTCTGAGATAATAGCTATAGGATCTTTGGTTGTATGAGTATGTATGTGTGTGTTTATGCATACATACACTTATTTCATTGTGTTTTCTAGCCACAGGTACTGAATTGGCTTAAAGTTAAAGAATATTCATAAATTAATAAGCCTAAATGCTTTTCAAGTTCATGTGACTTAAGTAAAATCTTTAATAAGCTAGCTTTAAAATTATTGGTAAAGTAATATTAGAAATGTCTTAAAAATTGTTAGCATAAATTTTTGTTTGCATTTATTGATCAAGGGACTTCATATACTGCCAAATACTGTAAGGTGTCAAAATTTGGCATAGGGTTTGTAAAACTACAAAACCGTTCAAAACAGAATGATTTTGCTTTTGTAATTTTTGATAAATAAGACATTGATATTGGTTTAATGAAAACAACTAAATCATGAATTATTTAGTGAAATAACAATATATTTAATCTTAAGGTTTTTACTTAGCAAACACCTGAAATTCACAGGCTATCAAATGTTTGACAGGAAATAACTTTAAATGATGACTATCACAGTTTTCATAACTAACCTGGGTAAACTATTAAAATAAAATATTTAGGTAAATGTAATGGGATAAATACTTGTAGACAAAGTTGTCATAATTTAGGATCTAAAGTTATGTTAAATTAAACAATAGATATTTCATTAACTGGGTTTTTAATTAAAGATATTGCAGGAAGTCTC\n",
      "221M1I620M1D153M1D169M2D9M3D16M\n",
      "0.9891756869275604\n",
      "read_id: test_read_24_804423_805623 \n",
      "\tmap_start 5, map end 1200\n",
      "\t1200\n",
      "cagcgggctgagatcacaccactgcactccagcctaggtgacagagcgaggctccttctaaaaaaaaaaagaaaataaaaaaaaagtcctggtgttagaggcatttttcttttcctcctcctcctcctcctgctcctcctcctcctcctcttcttcttcttcttttctgagacagagtctccctttgtcacccaggctggagtgcaatggtgtgatcttggctcactgcaacctccacctcttgggttcaagcgattcttctgcctcagcctccagctaatttttgtatttttagtagacatggggtttcaccatgttagccaggctggtcttgaactcctgacctcaggtgatccacccgccttggcctcccaaagtgctaggattacaggtgtgagccaccacactcagccaataGAGGCATTTTTCTGTCATGTAAATAAAGTCTAAAGCAGGCAGTCTAAAACTGGCATGGTGCTCTACGGTTCAGGAACCTAAACTCCTTTTGTCTTATTATGCTACCCCCTCAGTACATGGTTTCCACTTCATGGCCCAACATGGCTGCTCAAACAGCAGCCCTCACATCTGCATCCCCAGAtggagagtctttttttttttttgagatggagtctccctctgtcacccagcctggagtgcagtggcctgatcttcgctcactggaatctctgcctcccaggttcaagtgattcccctgctcagcctcctgagtagctgggaccacaggcacgtgccaccacacctggctaattttttgtatttttagtagagatggggtttcactgtgttagccaggatggtctcgatctcctgaccttgtgatccacccacctcggcctcccaaagtgctggggttacaggtgtgagccaccgcgcccagcccccagaTGGAGAGTCTTTTAGTCattagaaaggagaaaggagccaaggagggagggaggttcCCTTAAAGACTCTTTCGGAAGTCACATACAATCTTCTTGTTGATGTTCCATTGGCTAAACTTGATCACATCACTACACTAAGctacaaaggaggctgagaaatatGATCTGTGTTCTAGGCACCATGTGTCCAGATGAAAATTGAGGctcttatttcaaagaaaaagttcagtccatggccaggcgtggtggctcatacctgtaatcccagcactttgggaggccgaggctagtggatcacctgaggtcaggagttcgagaccagcctgggtaacatggaaaaacccc\n",
      "\n",
      "GAGATCACACCACTGCACTCCAGCCTAGGTGACAGAGCGAGGCTCCTTCTAAAAAAAAAAAAGAAAATAAAAAAAAGTCCTGGTGTTAGAGGCATTTTTCTTTTCCTCCTCCTCCTCCTCCTGCTCCTCCTCCTCCTCCTCTTCTTCTTCTTCTTTTCTGAGACAGAGTCTCCCTTTGTCACCCAGGCTGGAGTGCAATGGTGTGATCTTGGCTCACTGCAACCTCCACCTCTTGGGTTCAAGCGATTCTTCTGCCTCAGCCTCCAGCTAATTTTTGTATTTTTAGTAGACATGGGGTTTCACCATGTTAGCCAGGCTGGTCTTGAACTCCTGACCTCAGGTGATCCACCCGCCTTGGCCTCCCAAAGTGCTAGGATTACAGGTGTGAGCCACCACACTCAGCCAATAGAGGCATTTTTCTGTCATGTAAATAAAGTCTAAAGCAGGCAGTCTAAAACTGGCATGGTGCTCTACGGTTCAGGAACCTAAACTCCTTTTGTCTTATTATGCTACCCCCTCAGTACATGGTTTCCACTTCATATTGCTTATGGCTGCTCAAACAGCAGCCCTCACATCTGCATCCCCAGATGGAGAGTCTTTTTTTTTTTTTTTGAGATGGAGTCTCCCTCTGTCACCCAGCCTGGAGTGCAGTGGCCTGATCTTCGCTCACTGGAATCTCTGCCTCCCAGGTTCAAGTGATTCCCCTGCTCAGCCTCCTGAGTAGCTGGGACCACAGGCACGTGCCACCACACCTGGCTAATTTTTTGTATTTTTAGTAGAGATGGGGTTTCACTGTGTTAGCCAGGATGGTCTCGATCTCCTGACCTTGTGATCCACCCACCTCGGCCTCCCAAAGTGCTGGGGTTACAGGTGTGAGCCACCGCGCCCAGCCCCCAGATGGAGAGTCTTTTAGTCATTAGAAAGGAGAAAGGAGCCAAGGAGGGAGGAGGTTCCCTTAAAGACTCTTTCGGAAGTCACATACAATCTTCTTGTTGATGTTCCATTGGCTAAACTTGATCACATCACTACACTAAGCTACAAAGGAGGCTGAGAAATATGATCTGTGTTCTAGGCACCATGTGTCCAGATGAAAATTGAGGCTCTTATTTCAAAGAAAAAGTTCAGTCCATGGCCAGGCGTGGTGGCTCATACCTGTAATCCCAGCACTTTGGGAGGCCGAGGCTAGTGGATCACCTGAGGTCAGGAGTTCGAGACCAGCCTGGGTAACATGGAAAAACCCGGG\n",
      "50M1I17M1D472M6D1M5I51M2I346M1D295M\n",
      "0.9793322734499205\n",
      "read_id: test_read_25_729633_730883 \n",
      "\tmap_start 9, map end 1249\n",
      "\t1250\n",
      "tcttttttttttttttttttgagacagagtctcgctctgtcctccaggcgtgcagtggcgcaatctcggctcactgcaagctctgcctcccgggttcacaccattctcctgcctcagcctcctgagtaggtgggactacaggctcccgccaccatgcccggctgattttttgtatttttagtagagacggggtttcaccgcgttagccaggatggtctcaatctcctgacctcgtgatctgcccgcctcggcctcccaaagtgctggaattacaggcgtgagccaccgcacctggccattagTGTGTTTCTTATTTTGACCAGTTCCATTTGGTTCTCATAGCTTCCATCTCTCTACTGAGATTGCACTTTTGATCTTGCATATTGTCTACTTTTACTGTTAGACCTTTTACCATATTAGTTATTTGAAATTCTGTATCACATAGCTCTGACATCTGTGTTTGGTTCTGAAGATTGCTTTGTCTCTTGGGAGTATGTCATTTATCTCTTGCTTCATAAGTGTTGGTGAAAGTTGGACATCTTGTGTAGGATAGTAGAGGCCCAGGGAAATGGGTTTTGTGTAGAAATGGGCACACTTTTCCTTCTGTTAGGTCTTTAGCGTGGGGGTTTGAATTAACCTAGTTAGGAGTTGTGATAGGCtgggtgggtggctcatgcctgtattcccagcactttgggaggccaaggcaggaagattgcttgaacacaggagtttgagatcagcctggacaacatagtgaaaccccatctctacaaaaaaaataaaaattatctaggcatttttggtgcatgcctgttgtcctagctactgggaaggcttGCCGAGTCTGTCCTGCAGACTCTGCCCAAGCGACGGATGAAAGGAGTACTCAGATACAGATATCCAGTGAAAGAGCAGGATAGGGGACTGCCAGCACTAGGGGCCGAAGAGAATTAGCAGTTCCCCTAAGCCGGCAGCCCTCGCATTTGTTTggtacagatttaatgacaaaggcttggAGCAAACACAATTTGTGGGTAATAAACATTGTTGACCCCCCGAGTAGAGAGCAGTCCTGCATGCAAATGATTAAAGGTTGGTTTCTGGAGACAGGAGTAGACAAATTTATCTAGATAAGTTTCTTTACATTCCCTTGTTATCTGCCCTTTGCTCTCAGGCTCCAGATGAGACAAtttggctgccttcagccataaTTTCCTTCCAAAGCTTTTGTAAAACCTCCTGGCCTTTCAAGAAGGTTTGTGTCTTTACTATAATttctcccaccaccctgaccaat\n",
      "\n",
      "TTTTTTTTTTTGAGACAGAGTCTCGCTCTGTCCTCCAGGCGTGCAGTGGCGCAATCTCGGCTCACTGCAAGCTCTGCCTCCCGGGTTCACACCATTCTCCTGCCTCAGCCTCCTGAGTAGGTGGGACTACAGGCTCCCGCCACCATGCCCGGCTGATTTTTTGTATTTTTAGTAGAGACGGGGTTTCACCGCGTTAGCCAGGATGGTCTCAATCTCCTGACCTCGTGATCTGCCCGCCTCGGCCTCCCAAAGTGCTGGAATTACAGGCGTGAGCCACCGCACCTGGCCATTAGTGTGTTTCTTATTTTGACCAGTTCCATTTGGTTCTCATAGCTTCCATCTCTCTACTGAGATTGCACTTTTGATCTTGCATATTGTCTACTTTTACTGTTAGACCTTTTACCATATTAGTTATTTGAAATTCTGTATCACATAGCTCTGACATCTGTGTTTGGTTCTGAAGATTGCTTTGTCTCTTGGGAGTATGTCATTTATCTCTTGCTTCATAAGTGTTGGTGAAAGTTGGACATCTTGTGTAGGATAGTAGAGGCCCAGGGAAATGGGTTTGTGTAGAAATGGGCACACTTTTCCTTCTGTTAGGTCTTTAGCGTGGGGGTTTGAATTAACCTAGTTAGGAGTTGTGATAGGCTGGGTGGGTGGCTCATGCCTGTATTCCCAGCACTTTGGGAGGCCAAGGCAGGAAGATTGCTTGAACACAGGAGTTTGAGATCAGCCTGGACAACATAGTGAAACCCCATCTCTACAAAAAAAATAAAAATTATCTAGGCATTTTGGTGCATGCCTGTTGTCCTAGCTACTGGGAAGGCTTGCCGAGTCTGTCCTGCAGACTCTGCCCAAGCGACGGATGAAAGGAGTACTCAGATACAGATATCCAGTGAAAGAGCAGGATAGGGGACTGCCAGCACTAGGGGCCGAAGAGAATTAGCAGTTCCCCTAAGCCGGCAGCCCTCGCATTTGTTTGGTACAGATTTAATGACAAAGGCTTGGAGCAAACACAATTTGTGGGTAATAAACATTGTTGACCCCCCGAGTAGAGAGCAGTCCTGCATGCAAATGATTAAAGGTTGGTTTCTGGAGACAGAGGTAGACAAATTTATCTAGATAAGTTTCTTTACATTCCCTTGTTATCTGCCCTTTGCTCTCAGGCTCCAGATGAGACAATTTGGCTGCCTTCAGCCATAATTTCCTTCCAAAGCTTTTGTAAAACCTCCTGGCCTTTCAAGAAGGTTTGTGTCTTTACTATAATTTCTCCCACCACCCTGACCAGTA\n",
      "564M1D225M1D498M\n",
      "0.99\n",
      "read_id: test_read_26_467022_468322 \n",
      "\tmap_start 9, map end 1298\n",
      "\t1300\n",
      "GCTGAGGAAGTTCTCACGGCTTCGGAGCTCTCGCAGAGCGGCCCTCCCGCTCCTGAGCGAGGTCTGCGGGCGGAGGGAAGAGCAGAGAGGCGGCGCTGCGCCCTGCCCGGCCTGAGCCCCCGAAAGCCCGTGGACCCGCCGCCCCGGCCCCGCCAGACGCCCGCCCCCGTGCGGCCTCCTGCTGGTAAACGCGGCCCAAGCTGGGCGGTTCCCCATTGTCTGCGCCGCCCGGGAGCTCCGGGACTCTCATCCGTTCGGAAACGCACGTGTACCCATCATCTCACATCCCTGAGGTGCGGGTGCATCTACAGTTGGTGGCGTGTCACCAACTAATCAACAAATATATTATTAGTGGGTAAATAAAGATGTGCCTTCATATCAATGGCTTCTCAGAATCaatgaaatatagaaataatagtaagggccgggcggggtggctcacgtctataatcccagcactttgggaggccaaggtgggccgatcacgaggtcaagagttcgagaccagcctgaccaacatggtgaaaccccgtctccactaaaaatacaaaaattagccgagcgtggtggcgcgtgcctgtaatgccagctactggggaggctgaggcaggagaatcgcttgaacctgggaggcggaggttgcagtgagcgagatggcgccactgctctccagcctgggcgacagaggaagattcctgtcccaataataataataataataaacgcCCCAGGTAGGTTAAGAAGGTGGCAGAGCGACCGCCATGTCTGGAGGAGAAGCAGGGGAGGCAAAATGGATGATAAACGTCAGCATTTCCGGGCAGGCCGCGGAGTCAATGAGTACTCTCATTTCACACAACAGCCCCCAGTGGAACAAGGAGGGTCTGAGGGTTAAGTGACTCGCCTAAGGTTACACCCAGCAGGTGCATAAAACctacagtaacaacaacaacaacaattgtACTTCCCTAAGGTTACACCCAGCAGGTGCATAAAACCTacagtaacaataacaacaacaattgTACTCCCCTAAGGTTACACCCAGCAGGTGCATAAAACCTacagtaacaataacaacaacaattgTACTCCCCTAAGGTTACACCCAGCAGGTGCATAAAACCTacagtaacaataacaacaacaattgCTGAGGGCCCTCTACAtgccaggccaggtgctgtgccTTGCTCTGCAGGTGGCACATGGTATCTGTTCACCCTCCAACAGCTTTATGTTTACTAACTCTATTTTGCTGataaatggaggctcagagagtttaatgacttgcccagtgtcacacagTCAAGAAGTGGCAGGGCTGGAACTGGAAAGCCAGACTTCTGAATC\n",
      "\n",
      "GAAGTTCTCACGGCTTCGGAGCTCTCGCAGAGCGGCCCCTCCCGCTCCTGAGCGAGGTCTGCGGGCGGAGGGAAGAGCAGAGGCGGCGCTGCGCCCTGCCCGGCCTGAGCCCCCGAAAGCCCGTGGACCCGCCGCCCCGGCCCCGCCAGACGCCCGCCCCCGTGCGGCCTCCTGCTGGTAAACGCGGCCCAAGCTGGGCGGTTCCCCATTGTCTGCGCCGCCCGGGAGCTCCGGGACTCTCATCCGTTCGGAAACACGTGTACCCATCATCTCACATCCCTGAGGTGCGGGTGCATCTACAGTTGGTGGCGTGTCACCAACTAATCAACAAATATATTATTAGTGGGTAAATAAAGATGTGCCTTCATATCAATGGCTTCTCAGAATCAATGAAATATAGAAATAATAGTAAGGGCCGGGCGGGGTGGCTCACGTCTATAATCCCAGCACTTTGGGAGGCCAAGGTGGGCCGATCACGAGGTCAAGAGTTCGAGACCAGCCTGACCAACATGGTGAAACCCCGTCTCCACTAAAAATACAAAAATTAGCCGAGCGTGGTGGCGCGTGCCTGTAATGCCAGCTACTGGGGAGGCTGAGGCAGGAGAATCGCTTGAACCTGGGAGGCGGAGGTTGCAGTGAGCCGAGATGGCGCCACTGCTCTCCAGCCTGGGCGACAGAGGAAGATTCCTGTCCCAATAATAATAATAATAATAAACGCCCCAGGTAGGTTAAGAAGGTGGCAGAGCGACCGCCATGTCTGGAGGAGAAGCAGGGGAGGCAAAATGGATGATAAACGTCAGCATTTCCGGGCAGGCCGCGGAGTCAATGAGTACTCTCATTTCACACAACAGCCCCCAGTGGAACAAGGAGGGTCTGAGGTTAAGTGACTCGCCTAAGGTTACACCCAGCAGGTGCATAAAACCTACAGTAACAACAACAACAACAATTGTACTTCCCTAAGGTTACACCCAGCAGGTGCATAAAACCTACAGTAACAATAACAACAACAATTGTACTCCCCTAAGGTTACACCCTTGAGTGCATAAAACCTACAGTAACAATAACAACAACAATTGTACTCCCCTAAGGTTACACCCAGCAGGTGCATAAAACCTACAGTAGCAATAACAACAACAATTGCTGAGGGCCCTCTACATGCCAGGCCAGGTGCTGTGCCTTGCTCTGCAGGTGGCACATGGTATCTGTTCACCCTCCAACAGCTTTATGTTTACTAACTCTATTTTGCTGATAAATGGAGGCTCAGAGAGTTTAATGACTTGCCCAGTGTCACACAGTCAAAGTGGCAGGGCTGGAACTGGAAAGCCAGACTTCTGAATC\n",
      "35M1I42M2D176M2D386M1I236M1D161M1D260M2D40M\n",
      "0.9881656804733728\n",
      "read_id: test_read_27_279267_280617 \n",
      "\tmap_start 6, map end 1350\n",
      "\t1350\n",
      "ggagatggagtttcactcttgataCCCAAGCTGGAAttcaatggcgtggtctcggcttaccacaacctctgcctcccaggttcaagtgattctcctgcctcagcctcccaagtagctgggattacaggcatgtaccaccatgcctggctaattttgtatttttagtaaagatggagtttctccatgttgatcaggctggtctcgaactcccaacctcaggtgatctacctgccttggcctcccaaagtgctgggattacaggcatgagccaccgtgcctggccttttttttttttttttttttgagatggcatctcactttgtcacccaggctggagtgcagtggcaccatcatggctcactgcagcattgaactcctgggctccagcaatcctcccacctcagcctcttgagtagctgggatcacaggcatgtgccaccatgcctagctaatttttgtatttttttttgtagagacagggtctcattatgttgcccaggctggtctcaaactcctgggctcaagcaatcctcctgcctcaacctcccaaaatactgggattacacgtgtaaaccaccacatccagccctgaTCTCATTCTTCAGAGAATTTACCTAGCTGGTCACTTGGTGTCTGTAGGAGCATCGCCTCTCAGGCCTGCCTCAAAACTGCATTTCAGTTGGgagtggggcggggggagggagagTGTAGTTTGGGGACATCAAGCGTCTGTGGTGGATCTCCTCCCAAAGTGAGACtgctttttaatgatatttattgagcacttactgtttGCCACTGCGGTGCTAAGCACTTTGCACATACTAGCTCAGTGCATCCTTACAGCAATCCTGGGAGGGAGGTGCTTTTCTCATCCGCATGTGCTGACAAGGCTGAGAAGAGCTGGGTCTTGCACGGTACCTTAAGGGCTAAAGACCTGCAAGGATGGTGCATGAAAGCAAAACCAGAGAGGCGCCTTTTCCAAATGCCAATGCGCCCTCCACCCAGTCCTTCACAAACCACATCAGCATGGATAGCACCACACTCCACAGGCTTTTCTGCAtctcctttgtgtgtgtgcacatgtgtaatTAATTCTGGGGCAACTTCCTACATCAGTACAGAGAAACTCCTTGATCATTATCCACTCCAACATCCTTCCTGGGAGGGACTGACTGGAAACCCAAATGCCCTTGTAAGGgcaaatacaaaaactaaaataattctcCCTGgtgcagaaaaaggaaagaaacctcCCGTTTCCTGTTCTTAAACACTCTAGAGCAAACACTTTAGAAAACTTCTCAATTATTTCTCTGTTCCTTTAAGATGTGTCTTTTTAAAAGCCAGGTGAGCCTCCTGCCAGTTTTACAAGCCAGGGATGTTTTCCCAAGGACCTA\n",
      "\n",
      "GGAGTTTCACTCTTGATACCCAAGCTGGAATTCAATGGCGTGGTCTCGGCTTACCACAACCTCTGCCTCCCAGGTTCAAGTGATTCTCCTGCCTCAGCCTCCCAAGTAGCTGGGATTACAGGCATGTACCACCATGCCTGGCTAATTTTGTATTTTTAGTAAAGATGGAGTTTCTCCATGTTGATCAGGCTGGTCTCGAACTCCCAACCTCAGGTGATCTACCTGCCTTGGCCTCCCAAAGTGCTGGGATTACAGGCATGAGCCACCGTGCCTGGCCTTTTTTTTTTTTTTTTTTTTGAGATGGCATCTCACTTTGTCACCCAGGCTGGAGTGCAGTGGCACCATCATGGCTCACTGCAGCATTGAACTCCTGGGCTCCAGCAATCCTCCCACCTCAGCCTCTTGAGTAGCTGGGATCACAGGCATGTGCCACCATGCCTAGCTAATTTTTGTATTTTTTTTTGTAGAGACAGGGTCTCATTATGTTGCCCAGGCTGGTCTCAAACTCCTGGGCTCAAGCAATCCTCCTGCCTCAACCTCCCAAAATGCTGGGATTACACGTGTAAACCCACCACATCCAGCCCTGATCTCATTCTTCAGAGAATTTACCTAGCTGGTCACTTGGTGTCTGTAGGAGCATCGCCTCTCAGGCCTGCCTCAAAACTGCATTTCAGTTGGGAGTGGGGCGGGGGGAGGGAGAGTGTAGTTTGGGGACATCAAGCGTCTGTGGGTGGATCTCCTCCCAAAGTGAGACTGCTTTTAATGATATTTATTGAGCACTTACTGTTTGCCACTGCGGTGCTAAGCACTTTGCACATACTAGCTCAGTGCATCCTTACAGCAATCCTGGGAGGGAGGTGCTTTTCTCATCCGCATGTGCTGACAAGGCTGAGAAGAGCTGGGTCTTGCCTGGTACCTTAAGGGCTAAAGACCTGCAAGGATGGTGCATGAAAGCAAAACCAGAGAGGCGCCTTTTCCAAATGCCAATGCGCCCTCCACCCAGTCCTTCACAAACCACATCAGCATGGATAGCACCACACTCCACAGGCTTTTCTGCATCTCCTTTGTGTGTGTGCACATGTGTAATTAATTCTGGGGCAACTTCCTACATCAGTACAGAGAAACTCATGATCATTATCCACTCCAACATCCTTCCTGGGAGGACTGACTGGAAACCCAAATGCCCTTGTAAGGGCAAATACAAAAACTAAAATAATTCTCCCTGGTGCAGAAAAAGGAAAGAGAACCTCCCGTTTCCTGTTCTTAAACACTCTAGAGCAAACACTTTAGAAAACTTCTCAATTATTTCTCTCTGTTCCTTTAAGATGTGTCTTTTAAAAGCCAGGTGAGCCTCCTGCCAGTTTCCACAAGCCAGGGATGTTTTCCCAAGGACCCCT\n",
      "567M1I160M1I28M1D369M1D35M1D82M1I63M2I23M1D32M1I29M\n",
      "0.9871977240398293\n",
      "read_id: test_read_28_756589_757989 \n",
      "\tmap_start 6, map end 1398\n",
      "\t1400\n",
      "AGGCTGGACTCCCCAGAGTGATTTTGGGCTAGTGACTcagcctctctcagcctcagtttaccATTAGTCAAATGGGGTAACAATAGAACTCACCAGATAGTGattgttgggaagattaaaaTGGGTTACCCGATACCAAGAAAAACACTTTCCCGTGCCTGGCACAGTGAACATCACCTGGCGGTCGTTCTGAGTGTCAGGGAGCGGGGCTCAGTTTGTCCATCTCTAAGGTGGGTGCGCTTGCCTGCCAGAGCCACGGGGACCCCGCGCGCCAGGTGTGCGGTGGGCGGGTCTCGGCTCCCGGAAGAACTTCCCTGGGTGGTCCTGGAGCGGGTCGGACCCAGTTCCTGAGCCAGGCCAGCTGCCGGCGGCCGGGGCTCGGGTTCTGGCCCCTGCCTGGCTTTCCTTACCCTTTTCGGGTAGTACCTGGACCAGCGGGTTCACTTGCCCGCGGCCGCCGGAAGTTGCGCAAACTCAGCTTGCCGGAGCCCCAGGTGGGCCGGGCCGGAGGAGCGCAGGCCAGCGGCGCGGGCGCAGCCGGGTACGTGCGGACCGCGGCGGGGGGCGCCCAGCCGGGGTAGGGGGCGGCCCGAGCACCCCTCCACCCCAGGACGGCGGGAACGGGGCAGGGATCTACCTTTCGGCTTCAAGAGGACCGCGGGGATGGTGCCGCTCTCTCCCTCATTTGAGAGCCAGGAGGGGCGGCGAGGGGCAAGGGTCACACAGCGCCCTGCTAGCCGACCCCCCATCCCCCGCCACCGGGAGTCCTCAAGCTTTTCCGGAATTGAGGGAGAGCAAAAGCCAGCCTGGGGATCTGAGttccccccagccctgccccgcggCCTCTGGAGGCTGACGCTGGGGAGCTAGTGGGGAGGGGGCCAGGTGGGGATGCGCGCCCCCGGGATGCAAGCCAGAAGGGCCGGCGGTTGGGGGCATCCGTGGGAGGCATTTGAATCCGTGGGTGGGGCATTGGGCGGTGAGAGGAGGCCTCAGAGGGGACATTGAGTCGCGCTTGGGGACTTGGGACCCTGGCTTCACCTGGCGGGAGCCGCTGCACCTCCGTTTGCCCACCCGTGACGTGGGGCTGTTGAGGTCAGCTCACCGATCAGCCTCTGTCTTGGGCCTGCTTTGTCCGCGGTGTGGGCTGGGACAGACCCTCGTGGGGCTTGCTTAGAGACCCCTGCGTGGGGGTGGTCTGTGGACTTGGTTAGTCGAAATCTTCTTGAAGACCAGGAGCCTGGTTCGTGGCTCCGCCTTTTTGCCAGATGCCGAGGAAAGCCCTCGACCTGTTTGATCTCTCCATCCTTATCGTGACCTGGAGGCTCAGGAAGGTCTATTTTTAACCTCGTTTCACGGATAAGGTAACCGAGTCTGTAAAGAGGCGAAGCTGCTTGCGCAAGGCGCACAGCGGGCGGGTGGGCGAGCCGAAGGCCGGCGGGCCCGCGGC\n",
      "\n",
      "GACTCCCCAGAGTGATTTTGGGCTAGTGACTCAGCCTCTCTCAGCCTCAGTTTACCATTAGTCAAATGGGGTAACAATAGAACTCACCAGATAGTGATTGTTGGGAAGATTAAAATGGGTTACCCGATACCAAGAAAAACACTTTCCCGTGCCTGGCACAGTGAACATCACCTGGCGGTCGTTCTGAGTGTCAGGGAGCCGGGGCTCAGTTTGTCCATCTCTAAGGTGGGTGCGCTTGCCTGCCAGAGCCACGGGGACCCCGCGCGCCAGGTGTGCGGTGGGCGGGTCTCGGCTCCCGGAAGAACTTCCCTGGGTGGTCCTGGAGCGGGTCGGACCCAGTTCCTGAGCCAGGCCAGCTGCCGGCGGCCGGGGCTCGGGTTCTGGCCCCTGCCTGGCTTTCCTTACCCTTTTCGGGTAGTACCTGGACCAGCGGGTTCACTTGCCCGCGGCCGCCGGAAGTTGCGCCAAACTCAGCTTGCCGGAGCCCCAGGTGGGCCGGGCCGGAGGAGCGCAGGCCAGCGGCGCGGGCGCAGCCGGGTGCGGTGCGGACCGCGGCGGGGGGCGCCCAGCCGGGGTAGGGGGCGGCCCGAGCACCCCTCCACCCCAGGACGGCGGGAACGGGGCAGGGATCTACCTTTCGGCTTCAAGAGGACCGCGGGGATGGTGCCGCTCTCTCCCTCATTTGAGAGCCAGGAGGGGCGGCGAGGGGCAAGGGTCACACAGCGCCCTGCTAGCCGACCCCCATCCCCCGCCACCGGGAGTCCTCAAGCTTTTCCGGAATTGAGGAGAGCAAAAGCCAGCCTGGGGATCTGAGTTCCCCCAGCCCTGCCCCGCGGCCTCTGGAGGCTGACGCTGGGGAGCTAGTGGGGAGGGGGCCAGGTGGGGATGCGCGCCCCGGGATGCAAGCCAGAAGGGCCGGCGGTTGGGGGCATCCGTGGGAGGCATTTGAATCCGTGGGTGGGGCATTGGGCGGTGAGAGGAGGCCTCAGAGGGGACATTGAGTCGCGCTTGGGGACTTGGGACCCTGGCTTCACCTGGCGGGAGCCGCTGCACCTCCGTTTGCCCACCCGTGACGTGGGGCTGTTGAGGTCAGCTCACCGATCAGCCTCTGTCTTGGGCCTGCTTTGTCCGCGGTGTGGGCTGGGACAGACCCTCGTGGGGCTTGCCCAGAGACCCCTGCGTGGGGGTGGTCTGTGGACTTGGTTAGTCGAAATCTTCTTGAAGACCAGGAGCCTGGTTCGTGGCTCCGCCTTTTTGCCAGATGCCGAGGAAAGCCCTCGACCTGTTTGATCTCTCCCGTCCTTATCGTGACCTGGAGGCTCAGGAAGGTCTATTTTTAACCTCGTTTCACGGATAAGGTAACCGAGTCTGTAAAGAGGCGAAGCTGCTTGCGCAAGGCGCACAGCGGGCGGGTGGGCGAGCCGAAGGCCGGCGGGCCCGCGG\n",
      "198M1I265M1I76M1I196M1D46M1D32M1D76M1D403M1I147M\n",
      "0.9896836313617606\n",
      "read_id: test_read_29_840775_842225 \n",
      "\tmap_start 6, map end 1449\n",
      "\t1450\n",
      "gaccatcctggctaacatggtgaaaccccatctctactaaaaatacaaaaaattagccaggcatggtggcatgcacctgtaatcccagctactcaggaggctgaggcaggagaattgcttgaacctgagaagcagaggttgcagtgagccaagatcacgccactgcactccagcctgggtgacagagtgagacttcgtctcaaaaaaaaaaaaaaaagtttggaagaaGCTATAGAAGTCTCGATATTACTGGTGACCCAGTATAAGGAGGAGTGGTGAATATCCCTATTCTAAAGGATTTCCTAATCCTGAAGGATTTGGACAGCTCCTGCAATTGCCAAATGTAAGCGGCCTGAAAAGTTCACACTTAGattattgcctttatttttggCTCCCACACTGTAAAAGAAATTAGAATTAGAGCACAGATACAAAAGCTATGATAATGAAAGTcctaaaaaaaattccattaagaaacacacacatataagtcAGAAATTCATTGGGAATACCTTTGCATTTTAAGAGATGAGAAGGAAAGAGTTAACAGTAGTCCTGAAATCAATTCTCTCCCTTTAACAGGAGATACTTctggcaggaaagaaaaaaaaaaaaaaaaaacttgactcTGACTCTGTCAGATCTCCTTATAACATGCTAATAAGAGACCTTCTGGTAAATATGCTAATGATATTCACTAGCAGAGGGGTCTTTATGTAGCAGAATGCATCTGCTCAGTCCTCAATTGCTTCTGGTAAACAAACTTAGAGTCTATGAATTTACAGGGCATGGCTCCTTGAAAAATGTCATGTGTTTGTAATGCTAAGTAATTGCCAGAGAATAAAATGGAGATGTTTCTAGCTAAAATAGCCCCTTTGGGTAGCTGATGGGCACCCATGCATCACAGACATCACTTAGAGATCTTTCATGTTAAACCTATCCCATGGCTTATTTTCATGAGGCAAGAAAGGACCTGGGAAGTGGTGTGGACATCCCAGACTTTTGCATTTTTACCTGCTTCGTAATTACCCGTATCCTTGAAATTATTACTAAAGCTTAATGCTGGGAAAGATCTCTGATTCCCCTGATTCTGATTTGGCAAGCCAATCAATCTTTTGTATTAATCAGGAAAGAAAGCCAATATTTCTATATGAATATACTCATCTCAAAACTTTTCAGAAAAGATATTTTCCATACATGGAAATAGCTTAATTAACTTTTTCTGATTATGAGGTTACTTATAGTCATTTTGAACACtcagacaaaacagaaaactttatggaagataaaataagaataacaaaatCTTTCCCAAAGAGAAAGACcattaaatttttgtatatatccTTCCAGAGAATAcacaaattatatgtatatatattttacatgtatacatatataacaaagaCTAGCTTATACTACCCACGCTttcctgtcatttttcttttctacctaaGATATCACTGACAGTCTTTTATATAATAAGGATAGTCCTCAATT\n",
      "\n",
      "TCCTGGCTAACATGGTGAAACCCCATCTCTACTAAAAATACAAAAATTAGCCAGGCATGGTGGCATGCACCTGTAATCCCAGCTACTCAGGAGGCTGAGGCAGGAGAATTGCTTGAACCTGAGAAGCAGAGGTTGCAGTGAGCCAAGATCACGCCACTGCACTCCAGCCTGGGTGACAGAGTGAGACTTCGTCTCAAAAAAAAAAAAAAAAGTTTGGAAGAAGCTATAGAAGTCTCGATATTACTGGTGACCCAGTATAAGGAGGAGTGGTGAATATCCCTATTCTAAAGGATTTCCTAATCCTGAAGGATTTGGACAGCTCCTGCAATTGCCAAATGTAAGCGGCCTGAAAAGTTCACACTTAGATTATTGCCTTTATTTTTGGCTCCCACACTGTAAAAGAAATTAGAATTAGAGCACAGATACAAAAGCTATGATAATGAAAGTCCTAAAAAAATTCCATTAAGAAACACACACATATAAGTCAGAAATTCATTGGGAATACCTTTGCATTTTAAGAGATGAGAAGGAAAGAGTTAACAGTAGTCCTGAAATCAATTCTCTCCCTTTAACAGGAGATACTTCTGGCAGGAAAGAAAAAAAAAAAAAAACTTGACTCTGACTCTGTCAGATCTCCTTATAACATGCTAATAAGAGACCTTCTGGTAAATATGCTAATGATATTCACTAGCAGAGGGGTCTTTATGTAGCAGAATGCATCTGCTCAGTCCTCAATTGCTTCTGGTAAACAAACTTAGAGTCTATGAATTTACAGAGGCCATGGCTCCTTGAAAAATGTCATGTGTTTGTAATGCTAAGTAATTGCCAGAGAATAAAATGGAGATGTTTCTGCTTCAAATAGCCCCTTTGGGTAGCTGATGGGCACCCATGCATCACAGACATCACTTAGAGATCTTTCATGTTAAACCTATCCCATGGCTTATTTTTCATGAGGCAAGAAAGGACCTGGGAAGTGGTGTGGACATCCCAGACTTTGCATTTTTACCTGCTTCGTAATTACCCGTATCCTTGAAATTATTACTAAAGCTTAATGCTGGGAAAGATCTCTGATTCCCCTGATTCTGATTTGGCAAGCCAATCAATCTTTTGTATTAATCAGGAAAGAAAACCAATATTTCTATATGAATATACTCATCTCAAAACTTTTCAGAAAAGATATTTTCCATACATGAAATAGCTTAATTAACTTTTTCTGATTATGAGGTTACTTATAGTCATTTTGAACCTCCAGACAAAACAGAAAACTTTATGGAAGATAAAATAAGAATAACAAAGTCTTTCCCAAAGAGAAAGACCATTAAATTTTTGTATATATCCTTCCAGAGAATACACAAATTATATGTATATATATTTTACATGTATACATATATAACAAAGACTAGCTTATACTACCCACGCTTTCCTGTCATTTTTCTTTTCTACCTAAGATATCACTGACAGTCTTTTATATAATAAGGATAGTCCTCAATT\n",
      "41M1D409M1D146M3D177M2I168M1I49M1D198M1D300M\n",
      "0.9900199600798403\n",
      "read_id: test_read_30_239874_241374 \n",
      "\tmap_start 5, map end 1500\n",
      "\t1500\n",
      "AGGCCTCACTTTTCTCCTTTGCAAACTGTGGCTGATGAGGGCCATCCTGCGGGGTTTGTGGAGAGAAGGGATAGTAACAACAGCTGCATTGTATGGTGCTATGTGCTGCACACTTTGCACACCTGatcatttaatactcacaatgATCCCTAGCAGATGGATCCTATTACCaagttcattttacagatgaggaagcttaGACCCAGCAAGGTTAAGGGGCTGTGCTCAAGGTCTTACCTTCTAGGAGAGGCAGAGCTGGATCTGAAGCCATTTCTGTTCTCAGCCCCTGCTGTGTGCTTTCCTACCATCCTCTCCAGACTCGCCCTGAGCCCAAGTTGCTGAGGCATGTGgcacggtgcctggcacacagtaggctcaCAGTAGTGGCTGCTTTGATGATGACCATAAACTGGGATCTGGGGTCCTTGAGATGATTCTACCAAGGGGACCCGGGGGAAGCTGAGCCCTGGGGCAAAGTGGGGGCCAGCACAGGAGCTGCTGGGGAAGGAACAGAGCCTGTGCGGTGGGAAGATAGGACATGGAGCAAAGAGGATCTTGAATCAGACCCCGTGGTCCCCTCCTACAGAGGGTTAAAGCAAGCCAGCCTCCTTCCGGCTGAGCGGAAATCAGATTTTGAGAGCTGAGCAGGGCTCTGGAGGGatgtttttcttctccatttgtCTGCTTGTGGCTGGCCCATAAAATCCACCGGAACTCCATGCTGGACTGAGGAATTCCTGCTGAACAGGGACATGGAGAACGCAGGCTGGGAGGGGGCATAGTGTGGATCCTTATCAGAGCAGAGACCACCCCATCttcaaggccccacctccaggttGGGTGATCCCCTCTGGAGGCCTCATAGGATTCCTGGGTAAGGGGAGGGACCAGGATCGACAGGGTGGGGGAAAGTCCAAGGAACAAGTGATACCCCCTCCCACCTTTTCAAAGTGAACTTGTGGGGTGAGGAATGAGAGGAGACAGGGAGGGTCAGGCTGTGGCAGGTCAGTGAAGTGTGATGCAGGTTCCACCTTCTacgctgtgtgacattgggcaagtctCTGCCCGTTTCCTCATCATTGCAACCAGGGGGCTGGAGCTAGATGACCACCATGTGTAATTTTCTAATCAGAGCTGACAGTCTGAGGctctttctgtctagtttgcacCTTGCATGCATGTCCTCCCCTGAAGGCAGTGCAATTATTATAACCCCtattttaaaggtaaataaaCCAAGGCTCACTGAGGCAAGGTGACCTGAGCAATTTTGCCCTTGAAGGGCTGGGACAGGATGCAAACCTAGACAATTGGTGCCAGAATTCATCTCTCAAGCATTCgctctcctgcctcccaacaCGAGTTTCTACTTCTCTTTGCCCTGGGATGACCTCTCCTTTGTCTCTTGGCTTGATGACCTCATTTTTAAAGATTCGGCTCATGCATCACCTCCCCCAAGAAGCCTGTCCTGACTAACTAAGCTCGGTTGGGGCTCCTCTCTGTCTGCTCATGCCTCTGGGAAGTAGCTGTCTCTTTTGGTCACTGGGCTG\n",
      "\n",
      "CACTTTTCTCCTTTGCAAACTGTGGCTGATGAGGGCCATCCTGCAGGGTTTGTGGAGAGAAGGGATAGTAACAACAGCTGCATTGTATGGTGCTATGTGCTGCACACTTTGCACACCTGATCATTTAATACTCACAATGATCCCTAGCAGATGGATCCTATTACCAAGTTCATTTTACAGATGAGGAAGCTTAGACCCAGCAAGGTTAAGGGGCTGTGCTCAAGGTCTTACCTTCTAGGAGAGGCAGAGCTGGATCTGAAGCCATTTCTGTTCTCAGCCCCTGCTGTGTGCTTTCCTACCATCCTCTCCAGACTCGCCCTGAGCCCAAGTTGCTGAGGCATGTGGCACGGTGCCTGGCACACAGTAGGCTCACAGTAGTGGCTGCTTTGATGATGACCATAAACTGGGATCTGGGGTCCTTGAGATGATTCTACCAAGGGGACCCGGGGGAAGCTGAGCCCTGGGGCAAAGTGGGGGCCAGCACAGGAGCTGCTGGGGAAGGAACAGAGCCTGTGCGGTGGGAAGATAGGACATGGAGCAAAGAGGATCTTGAATCCAGACCCCGTGGTCCCCTCCTACAGAGGGTTAAAGCAAGCCAGCCTCCTTCCGGCTGAGCGGAAATCAGATTTTGAGAGCTGAGCAGGGCTCTGGAGGGATGTTTTCTTCTCCATTTGTCTGCTTGTGGCTGGCCCATAAAATCCACCGGAACTCCATGCTGGACTGAGGAATTCCTGCTGAACAGGGACATGGAGAACGCAGGCTGGGAGGGGGCATAGTGTGGATCCTTATCAGAGCAGAGACCACCCCATCTTCAAGGCCCCACCTCCAGGTTGGGTGATCCCCTCTGGAGGCCTCATAGGATTCCTGGGTAAGGGGAGGGACCAGGATCGACAGGGTGGGGAAAGTCCAAGGAACAAGTGATACCCCCTCCCACCTTTTCAAAGTGAACTTGTGGGGTGAGGAATGAGAGGAGACAGGGAGGTCAGGCTGTGGCAGGTCAGTGAAGTGTGATGCAGGTTCCACCTTCTACGCTGTGTGACATTGGGCAAGTCTCTGCCCGTTTCCTCATCATTGCAACCAGGGGGCTGGAGCTAGATGACCACCATGTGTAATTTTCTAATCAGAGCTGACAGTCTGAGGCTCTTTCTGTCTAGTTTGCACCTTGCATGCATGTCCTCCCTGAAGGCAGTGCAATTATTATAACCCCTATTTTAAAGGTAAATAAACCAAGGCTCACTGAGGCAAGGTGACCTGAGCAATTTTGCCCTTGAAGGGCTGGGACAGGATGCAAACCTAGACAATTGGTGCCAGAATTCATCTCTCAAACGTTCGCTCTCCTGCCTCCCAACACGAGTTTCTACTTCTCTTTGCCCTGGGATGACCTCTCCTTTGTCTCTTGGCTTGATGACCTCATTTTTAAAGATTCGGCTCATGCATCACCTCCCCAGAAGCCTGTCCTGACTAACTAAGCTCAGTTGGGGCTCCTCTCTGTCTGCTCATGCCTCTGGGAAGTAGCTGTCTCTTTTGGTCACTGGGCT\n",
      "555M1I102M1D239M1D83M1D197M1D269M2D92M\n",
      "0.9909735654416505\n",
      "read_id: test_read_31_619869_621419 \n",
      "\tmap_start 6, map end 1549\n",
      "\t1550\n",
      "cctcagccccgtgagtagctgggatttcaggcgagAGTCAATGCACCTGGCTCTGGGGTGACTTCTTGTAAGACCTTCTCATACAGACTTTTTAATAAGATCAGAAAACCCAGACCATAAGGCAGAACAAGCCCCCTCTCCCCACTCAAAAACCAATGGATTTGACCACACTGACAGCATGGTAAGCAATGATTTCTACTCTCCAAAGGTGAGGACTCTACAAAGTCagattaaaaaagattttttttgtgtcAAAATGAACATGGGATTGATATCTAGGTAATACAAGGAAGCCctacaaattgacaagaaaaattCAGGAATTCCAATTTTaaaagtgggaaaaataaaaataaaatgtttaaaaagtgaaaaaataaaatttaaaattaaaaatcaggtgAATAAGAATTACatgattaaaacaaatttaaacagTTAAAATAACATTCAAAAACGAAattaagtaacaaaataaaaatttaaaaataaggtataaaaataaagtgtaaaaatccattcaaataaaaaatacatttgtaaaataatttaaatacattaaaattaataaaaacaaaaatgttaaaaataaaagtaaaatgtttaagtgaaataaaatttaaaaatgtaagaatacATGAAAGAATTTTTAcgagtaaaataaaaaatcagctatTTTTAACAatctaaagaataaagaaaaactaatagaaACATCAAAGGAGAGCAAGGTCTTGCTAGATGGATGCTGATGATGTGCTGTGAATTAAGGAGTCCGATTGGCTCAAATGCCTGCAGGGAGGCGGGGGAAGTGAATGACGGGGGTGGTGTAGGGAGTGAGAGGGGACGAGGAAGTAAAAGCATGCCCGCAGGCAGCATCTGATTCGGTTTTTCCAGCCCGCTGTGGGCAGAGGGCAGGAAGTCAGGCCCCATCATGGCTTCCCCCCAAAATAGCCATCACATCATTTATGCATTTGTAATGTGCTGGCAACATACGCACACGCACACGGATGCATGTTACATCATCCCATCCTCACTGCCCCATCCTCACTGCTGTCCTCTGAggtccactttcttttttttttttttttttttgagacggagtttcgctcttgttgcccaggctctgagGTCCACTTTCATAGAGGAGTgaacagagactcagagagggtGGGTCACTGTGCCACAGTCACACAGCACTTAGGACCACCCTATCCTCTGAATCTGGCATGCTCAAAATGACCTTCTTTGGATGAGTTAGGTCTGCTGAGCACTTTCAAACAGAGGCAGGGCCATCTCTGACATCAGGCTCGAACGTTCTGTACACTAGGAAGAGCCCAACCTCTCCCCCCATGACGCATGACAGTTATCACCATTAAAGAAACACTGACTGTCTTCCAGGGGCGTCACATGCATAGTCATCTTGAAAACCATATGAGGTAGATGCTCTTATTGTCCCCATTGTATTGACAGACAACATCGAGATTCAGGAGTCAAATACTGTCACCCAAGCATGGCAGTAACAGAACTGGGAGCTGAGCCCAGGACTGTCCACAGCCCAAATCTCACACTCCCTGCGTGGCACCAGGCCCTTTTAACC\n",
      "\n",
      "GCCGTGAGTAGCTGGGATTTCAGGCGAGAGTCAATGCACCTGGCTCTGGGGTGACTTCTTGTAAGACCTTCTCATACAGACTTTTTAATAAGATCAGAAAACCCAGACCATAAGGCAGAACAAGCCCCCTCTCCCCACTCAAAAACCAATGGATTTGACCACACTGACAGCATAGTGAAGCAATGATTTCTACTCTCCAAAGGTGAGGACTCTACAAAGTCAGATTAAAAAAGATTTTTTGTGTCAAAATGAACATGGGATTGATATCTAGGTAATACAAGGAAGCCCTACAAATTGACAAGAAAAATTCAGGAATTCCAATTTTAAAAGTGGGAAAAATAAAAATAAAATGTTTAAAAAGTGAAAAATAAAATTTAAAATTAAAAATCAGGTGAATAAGAATTACATGATTAAAACAAATTTAAACAGTTAAAATAACATTCAAAAACGAAATTAAGTAACAAAATAAAAATTTAAAAATAAGGTATAAAAATAAAGTGTAAAAATCCATTCAAATAAAAATACATTTGTAAAATAATTTAAATACATTAAAATTAATAAAAACAAAAATGTTAAAAATAAAAGTAAAATGTTTAAGTGAAATAAAATTTAAAAATGTAAAGAATACATGAAAGAATTTTACGAGTAAAATAAAAATCAGCTATTTTTAACAATCTAAAGAATAAAGAAAAACTAATAGAAACATCAAAAGGAGAGCAAGGTCTTGCTAGATGGATGCTGATGATGTGCTGTGAATTAAGGAGTCCGATTGGCTCAAATGCCTGCAGGGAGGCGGGGGAAGTGAATGACAGGGGTGGTGTAGGGAGTGAGAGGGGACGAGGAAGTAAAAGCATGCCCGCAGGCAGCATCTGATTCCGGTTTTCCAGCCCGCTGTGGGCAGAGGGCAGGAAGTCAGGCCCCATCATGGCTTCCCCAAAATAGCCATCACATCATTTATGCATTTGTAATGTGCTGGCAACATACGCACACGCACACGGATGCATGTTACATCATCCCATCCTCACTGCCCCATCCTCACTGCTGTCCTCTGAGGTCCACTTTCTTTTTTTTTTTTTTTTTTGAGACGGAGTTTCGCTCTTGTTGCCCAGGCTCTGAGGTCCACTTTCATAGAGGAGTGAACAGAGACTCAGAGAGGGTGGGTCACTGTGCCACAGTCACACAGCACTTAGGACCACCCTATCCTCTGAATCTGGCATGCTCAAAATGACCTTCTTTGGATGAGTTAGGTCTGCTGAGCACTTTCAAACAGAGGCAGGGCCATCTCTGACATCAGGCTCGAACTCGTTCTGTACACTAGGAAGAGCCCAACCTCTCCCCCCATGACGCATGACAGTTATCACCATTAAAGAAACACTGACTGTCTTCCAGGGGCGTCACATGCATAGTCATCTTGAAAACCATATGAGGTAGATGCTCTTATTGTCCCCATTGTATTGACAGACAACATCGAGATTCAGGAGTCAAATACTGTCACCCAAGCATGGCAGTAACAGAACTGGGAGCTGAGCCCAGGACTGTCCACAGCCCAAATCTCACACTCCCTGCGTGGCACCAGGCCCTTTTAACT\n",
      "176M1I57M2D129M1D154M1D102M1I17M1D15M1D55M1I223M2D132M2D238M2I285M\n",
      "0.9862928348909658\n",
      "read_id: test_read_32_991188_992788 \n",
      "\tmap_start 7, map end 1600\n",
      "\t1600\n",
      "tcagaccaatatccctgattaacatagatgcaaaaattttcaacaaaatactaggaaaccaATCCCAGCAACAGATCAAAAAATTAATACATCagaatcaagtaggctttattcctgggatgcaaggctggctcaatatatgcaaatcaataaatgtgattcaccacataatcagaattaaaagcaaaaaaatatgatcatctcaatagatgcagaaaaggattTGAAAACAATCCAACGCACCTTAATGATAAAAACCCACAACAGactaggcactgaaggaacataccgTAAAATAatgagccatctatgacaaacccatagccacgATCATTCTGAACTGGTAAAAGCCGGAACCATTCCCTTTCAGAActgcaacaagacaaggatgcccactctcaccatgcctattcaacatagtactggaagtgctactagagcaatcaggcaagaaaaagaaataaaaggcatccaaataggaaaagaagaagtcaaactatccctcattgctgatgatatgattctacacCTGGAAAACCCCAAATACTCTGGCAAGAGGCTTATAATACTGATGAACAACTTctgtaaagtctcaggatacaatatcaatgtCAATGTACATTTCTATACACAATAACCTTCAACCTGAGAGTccaatcaagaacacaatcccatttataatagccataaaaaatgaaaatccctaggaatacagctaaccaaggaagtgaaaggtctccacaaggagaactacaaaatacttctgcaagaaatcagagatgacacaaataaatataaacaattccATACTCATATATCAAAAAGATCAATGTCATTTAAATGGCTATACattccaaagcaatctacagattcaatgctatttctatcaaactacaaaaactgcttttcacagaattataaaaaaactaTTCTACAATTCATATGGAATCCAAAAAGTACCCAAAtcaccaaagcaatcctaagcaaaaggaacaaagccagaggcatcacattatctgacttcaaactatattataaacccacagtaaccaaaacagctgatactggtacaaaaataaacatatcactaatggaacagaatagacaacccagaaatgaagccacacacctacagacatctgatctttgataaagacaacaaaaataagcaCAGGGAAAAGAccccctattcaataaacggtgcttgGGTagctggctaaccatatgcagaagaatgaaagtggacCCCTGCccttcaccatatataaaaattaactccacaaggattaaatatttaaatgtaagatcttaaactataagaatcctggaagaaaacctggAAATACCCTTCTCAACATCCACGTTGGTAAAGAATTCTTGGctaagtctccaaaagcaattgcaacaaaaacaaaaattggcaagtgggacctaattaaactaaagagcttctacacagcaaaagaaactctcaacagagtaaacagacaacctacagaatgggagaaaatattcgcaaactatacatccaataaaggtctaatatccagaatctataaggaaattaattcaataagcaaaaaaaaatcccattaaaaatgggcaaaagttataaacagacacttctcaaaagacatacaagtggccaaa\n",
      "\n",
      "CAATATCCCTGATTAACATAGATGCAAAAATTTTCAACAAAATACTAGGAAACCAATCCAGCAACAGATCAAAAAATTAATACATCAGAATCAAGTAGGCTTTATTCCTGGGATGCAAGGCTGGCTCAATATATGCAAATCAATAAATGTGATTCACCACATAATCAGAATTAAAAGCAAAAAAATATGATCATCTCAATAGATGCAGAAAAGGATTTGAAAACAATCCAGCACCTTAATGATAAAAACCCACAACAGACTAGGCACTGAAGGAACATACCGTAAAATAATGAGCCATCTATGACAAACCCATAGCCACGATCATTCTGAACTGGTAAAAGCCGGAACCATTCCCTTTCAGAACTGCAACAAGACAAGGATGCCCACTCTCACCATGCCTATTCAACATAGTACTGGAAGTGCTACTAGAGCAATCAGGCAAGAGAAAAAGAAATAAAAGGCATCCAAATAGGAAAAGAAGAAGTCAAACTATCCCTCATTGCTGATGATATGATTCTACACCTGGAAAACCCCAAATACTCTGGCAAGAGGCTTATAATACTGATGAACAACTTCTGTAAAGTCTCAGGATACAATATCAATGTCAATGTACATTTCTATACACAATAACCTTCAACCTGAGAGTCCAATCAAGAACACAATCCCATTTATAATAGCCATAAAAAATGAAAATCCTAGGAATACAGCTAACCAAGGAAGTGAAAGGTCTCCACAAGGAGAACTACAAAATACTTCTGCAAGAAATCAGAGATGACACAAATAAATATAAACAATTCCATACTCATATATCAAAAAGATCAATGTCATTTAAATGGCTATACATTCCAAAGCAATCTACAGATTCAATGCTATTTCTATCAAACTTCTAAAAACTGCTTTTCACAGAATTATAAAAAAACTATTCTACAATTCATATGGAATCAAAAAGTACCCAAATCACCAAAGCAATCCTAAGCAAAAGGAACAAAGCCAGAGGCATCACATTATCTGACTTCAAACTATATTATAAACCCACAGTAACCAAAACAGCTGATACTGGTACAAAAATAAACATATCACTAATGGAACAGAATAGACAACCCAGAAATGAAACCACACACCTACAGACATCTGATCTTTGATAAAGACAACAAAAATAAGCACAGGGAAAAGACCCCCTATTCAATAAACGGTGCTTGGGTAGCTGGCTAGCCATATGCAGAAGAATGAAAGTGGACCCCTGCCCTTCACCATATATAAAAATTAACTCCACAAGGATTAAATATTTAAATGTAAGATCTTAAACTATAAGAATCCTGGAAGAAAACCTGGAAATACCCTTCTCAACATCCACGTTGGTAAAGAATTCTTGGCTAAGTCTCAAAAGCAATTGCAACAAAAACAAAAATTGGCAAGTGGGACCTAATTAAACTAAAGAGCTTCTACACAGCAAAAGAAACTCTCAACAGAGTAAACAGACAACCTACAGAATGGGAGAAAATATTCGCAAACTATACATCCAATAAAGGTCTAATATCCAGAATCTATAAGGAAATTAATTCAATAAGCAAAAAAAAATCCCATTAAAAATGGGCAAAAGTTATAAACAGACACTTCTCAAAAGACATACAAATTGGCCAA\n",
      "57M1D173M2D211M2I251M1D193M1I54M1D439M1D249M1I10M\n",
      "0.9897218863361548\n",
      "read_id: test_read_33_107192_108842 \n",
      "\tmap_start 6, map end 1649\n",
      "\t1650\n",
      "CACCAGCCGGTCTTCAGGCTCCCGGGCCAGCATTCAGACTGGGCAGGAGGTTTGTGGGTGGAAGGTGAGTTGGGCAGCCCGTCAGCCACTCCTCAGGGCTGGACGGAAATAGTGATTAGGAGCATGGGGTTTGATGTCAGATGGCCTGGGGTTGCAGCCTAACTTTGTTATTTACTATCTGTGAGTTAAGCCctctgggtttcagtttctccatttgtaaaatgggactgATATTGGAAGATGTCCTACTTAGAATGGCGCCTGAGCCATCGTAAGCCCTCAGTGAATCCACTGTAAGACTTCAGCCCCCAGACTCCCACTGTTCCCTTGCCCCAGCTTCCCTGCACCTCTCCTGCCACTTCCCTCAAAGTTGCTCTCAGTCAGGCCTTGGGAGCCACAATCTGGGAACGAGGACCCTGACATCCCTCTTCACAGCTGTACCCAGCACCAAACAAGTCATCAGAGGTTCAAAACACGGAGcccctaccatgtgccaggcacggCATGGCATGCCTGCTCTCTTTCTAATTTTGATACCGCAATgattaattctgtgaaaaaagttcTAGAAGGATATAAGGCAAAGAATTAGGTTGTGTTCCGTCCATTCACTCACGGCTCTGCTCCCACGCATGGCTGCGCTATGCACACTGCCCTGCAGCTTCCTTTGTCTGCTGCACAATGGGCTCTGGACGGAGCCCTGTTGGCGCAATGAGTGAGCCCTACATCAAGCTTCGTCATCGCTGCATCGCTTTGCACCGTGTGGCTGGGCCGCCATCAGTACAGCCAACTGCCTCTGATGGACATCTGGGCTGCAGCCAGATTCCTCCTAACAGGGCTTCAGGGAAAGTCCTCCTCAGCGCCTCTTTGTGCGCATGGCACATTTCTCTAAGGCAGGTTTCTGGACATGAGACTGACGGGCAGCATGTGCTCCTTACATTTGGGGGTCCTGTCAATCCCCTCCTCTCCCGCAGGCTGTTCTAGACTCCAGCCCCCATGTGAGAGGATGCCTGTTGCCCTCACTCTTCCATCCTGGCAGTCCCCAGCCTCCTTGCCTCTCTTGTTTTCTTGTTCCGATCAGTTCCAGGTGGCCAGAGGGTCGAGACTCATCTCACAGCCGTGCAATAGATGCGTGTCTCTCAGTCGGTCAGCTCTGGCTGGGATCAGTGTTTATCTTCATGTCGGTGGACACCATCACAGGCACCCGCAAGAATCAGCGATCGACGGGGAAGAGGTTTGGGTGCATGGAGGAGTGCTTTGCAGTGAGGGCTTTGGAGCCTTGTGCCctgattcaaatcctggctgtgtCCCCTGCCGGTTGTGTGACTTCGGATAAATTACTTGATGTCTCTGAGCATAAGCTGGGTCATCAGAAAAGCCAAGCTAGTAAGAGCACGTAGCTCAGAAGGCTGCTGTAAAGTTCAGATGAGTTGATATATGCTCAGTGCTGGAAAGGGTGCTGGGCACATTAGCTGTTGGTATTATTTGGGCACCTCCAGcccaaataataataaagagactAGGAGGGATGTTGGGAGATATCAGATGTTGCTCATTGGAGGCTGTACTGAGTGTGCAGAGAGCTTCAGGGAACCTGGAGCTTTGAGAGGTAAAGGAACGTGCCAACTGGAACTAGAAACCCACTGCCGCCTGCAGCTCTCTGGGCTGTTTCTCCACATGCACCGTGGGGTTGTTCGGGT\n",
      "\n",
      "GCCGGTCTTCAGGCTCCCGGGCCAGCATTCAGACTGGGCAGGAGGTTTGTGGGTGGAAGGTGAGTTGGGCAGCCGTCAGCCCTCCTCAGGGCTGGACGGAAATAGTGATTAGGAGCATGGGGTTTGATGTCAGATGGCCTGGGGTTGCAGCCCTAACTTTGTTATTTACTATCTGTGAGTTAAGCCCTCTGGGTTTCAGTTTCTCCATTTGTAAAATGGGACTGATATTGGAAGATGTCCTACTTAGAATGGCGCCTGAGCCATCGTAAGCCCTCAGTGAATCCACTGTAAGACTTCAGCCCCAGACTCCCACTGTTCCCTTGCCCCAGCTTCCCTGCACCTCTCCTGCCACTTCCCTCAAAGTTGCTCTCAGTCAGGCCTTGGGAGCCACAATCTGGGAACGAGGACCCTGACATCCCTCTTCACAGCTGTACCCAGCACCAAACAAGTCATCAGAGGTTCAAAACACGGAGCCCCTACCATGTGCCAGGCACGGCATGGCATGCCTGCTCTCTTTCTAATTTTGATACCGCAATGATTAATTCTGTGAAAAAAGTTCTAGAAGGATATAAGGCAAAGAATTAGGTTGTGTTCCGTCCATTCACTCACGGCTCTGCTCCCACGCATGGCTGCGCTATGCACTGCCCTGCAGCTTCCTTTGTCTGCTGCACAATGGGCTCTGGACGGAGCCCTGTTGGCGCAATGAGTGAGCCCTACATCCAAGCTTCGTCATCGCTGCATCGCTTTGCACCGTGTGGCTGGGCCGCCATCAGTACAGCCAACTGCCTCTGATGGACATCTGGGCTGCAGCCAGATTCCTCCTAACAGGGCTTCAGGAAAGTCCTCCTCAGCGCCTCTTTGTGCGCATGGCACATTTCTCTAAGGCGGAGTTTCTGGACATGAGACTGACGGGCAGCATGTGCTCCTTACATTTGGGGGTCCTGTCAATCCCCTCCTCTCCCGCAGGCTGTTCTAGACTCCAGCCCCATGTGAGAGGATGCCTGTTGCCCTCACTCTTCCATCCTGGCAGTCCCAGCCTCCTTGCCTCTCTTGTTTTCTTGTTCCGATCAGTTCCAGGTGGCCAGAGGGTCAGGGCCTCATCTCACAGCCGTGCAATAGATGCGTGTCTCTCAGTCGGTCAGCTCTGGCTGGGATCAGTGTTTATCTTCATGTCGGTGGACACCATCACAGGCACCCGCAGAATCAGCGATCGACAGGGGAAGAGGTTTGGGTGCATGGAGGAGTGCTTTGCAGTGAGGGCTTTGGAGCCTTGTGCCCTGATTCAAATCCTGGCTGTGTCCCCTGCCGGTTGTGTGACTTCGGATAAATTACTTGATGTCTCTGAGCATAAGCTGGGTCATCAGAAAAGCCAAGCTAGTAAGAGCACGTAGCTCAGAAGGCTGCTGTAAAGTTCAGATGAGTTGATATGCTCAGTGCTGGAAAGGGTGCTGGGCACATTAGCTGTTGGTATTATTTGGGCACCTCCAGCCCAAATAATAATAAAGAGACTAGGAGGGATGTTGGGAGATATCAGATGTTGCTCATTGGAGGCTGTACTGAGTGTGCAGAGAGCTTCAGGGAACCTGGAGCTTTGAGAGGTAAAGGAACGTGCCAACTGGAACTAGAAACCCACTGCCGCCTGCAGCTCTCTGGGCTGTTTCTCCACATGCACCGTGGGGTTGTTCGGGT\n",
      "72M1D9M1D69M1I148M1D340M2D80M1I115M1D53M1I94M1D48M1D60M1I107M1D16M1I208M2D265M\n",
      "0.987683284457478\n",
      "read_id: test_read_34_945215_946915 \n",
      "\tmap_start 5, map end 1700\n",
      "\t1700\n",
      "ctttgggaggtccaggtgggtggatcacctgaagtcaggagttcgagaccagcctggccaacatggcgaaaccccttctctactaaaaatacaaaattagctgggcgtggtgacacatgcctgcagtcccagttactcaggaggctgagacaggagaatcacttgaatccaggaagcagaggctgcagtgagctgagatcgcatcactgcactccagcctgggcaagacaaagcgagacttcacctcaaaaaacaaacaaaaaaataccctTCCTCCAGATAGCCACATGTCTTacttccttcaggtctcagctcccAGGGCGCCCTAGAGTAGGCACAGGGAGTACCTCACAGTGTCCTCCCTGACCATCCATATAAAGTAACATCCTCCATAAACTATCCTgttactttgctttatttttctgaatagcATTTATCACTATCTGGCATTTATCACCtgtagtttttactttttgtctctctctctctaatttgTATGTAAGCTTCATAAGGAAGGAATGACTCTGGACTGGACTCCATGCCTCAGCACATTCACCCacccattcaacaaacattcttaagggtctaggctgggcatggtggctcatgcctgtaatcccagcactatgggaggccgaggtgggaggatcacttgaagccaggagtttgagaccagcctgggcaaggaaacaagaccctgcctctaaaaaatacaatttaaaaaagtatccaggcacagtggcgtgagcctatagtcccagctactcgggaggctgagctgggaagatctcttgtgcccaggagttcaaggctgcagtgagccatggtcatgccactacactccagcctgggtgacagagttagaccctgcctgtaaaaaaaaaaaggtggggggcagggtggggaaggttTGCCTTGACCAGGCCGCGTGCTAGGTGCCGGGCATACAAAAGTGAAAAACGTGATTTGTCCTCAGTGAGCTCACAGGTCTGAGGAGACACATAAACCCAGGAATGGAAATGCTTTGCTGGCGATGGACAGTGAGTCTGGGAGAACATTGAGGAGATGTTTAACCCAGACAATGGAGTGGGGTGTGGTCAGGTCAttccctggaggaggtgatgtttaAGCTGTGGCATGAAACCTCAGTAGGATGTGATGACCTTAGAACATGGCTACACGTTCTTTGACATTCCTCCTTTAAATTACCTTccctttgaatctgggctgggcCTTCATGATCCATTTGTAACCAACAGGACACAGCAGACATGGTGCTGCAGGATTTCCAAGGCTAAGTCACGCTGAACCGCCATGTTGAAAGGCCAACAGCCAAGACTGCCATGTGGAGAAGCAGCCCGGGCCACGTGGGAAGACCATGTGTAGGTAGCTGCTCCAGTTGACAGCTGAGCCCAGGCACCAGACTTATGAGTTGAGAAGCTTCCAGGGGATTCCAGCCCCTCATAATTCAACTCACTCCCAGCTGTTGGAGGGCCTTCCCAGCAGAGGCCCAGCCATCACAGAGCAGAGACAAGCCATCCCTTCTATATCctgtctgaattcctgacccagaGTCCACGAACATAATGAGATGGCAGTTGTCCACACTATTAGGTTTTGGGGCAGTTTGTTATGAAGGAATAACTGGAACAATAGGATAAGGAAGAGTGAGGTGAAGGAAAGGACTTTACAGATGCCAGCAACAGTACATGGGAAGACCTGGTAAGAGTGGCTGACACAGAAGCTAACC\n",
      "\n",
      "GGAGGTCCAGGTGGGTGGATCACCTGAAGTCAGGAGTTCGAGACCAGCCTGGCCAACATGGCGAAACCCCTTCTCTACTAAAAATACAAAATTAGCTGGGCGTGGTGACACATGCCTGCAGTCCCAGTTACTCAGGAGGCTGAGACAGGAGAATCACTTGAATCCAGGAAGCAGAGGCTGCAGTGAGCTGAGATCGCATCACTGCACTCCAGCCTGGGCAAGACAAAGCGAGACTTCACCTCAAAAAACAAACAAAAAAATACCCTTCCTCAGATAGCCACATGTCTTACTTCCTTCAGGTCTCAGCTCCCAGGGCGCCCTAGAGTAGGCACAGGGAGTACCTCACAGTGTCCTCCCTGACCATCCATATAAAGTAACATCCTCCATAAACTATCCTGTTACTTTGCTTTATTTTTCTGAATAGCATTTATCACTATCTGGCATTTATCACCTGTAGTTTTTACTTTTGTCTCTCTCTCTAATTTGTATGTAAGCTTCATAAGGAAGGAATGACTCTGGACTGGACTCCATGCCTCAGCACATTCACCCACCCATTCAACAAACATTCTTAAGGGTCTAGGCTGGGCATGGTGGCTCATGCCTGTAATCCCAGCACTATGGGAGGCCGAGGTGGGAGGATCACTTGAAGCCAGGAGTTTGAGACCAGCCTGGGCAAGAGAACAAGACCCTGCCTCTAAAAAATACAATTTAAAAAAATTATCCAGGCACAGTGGCGTGAGCCTATAGTCCCAGCTACTCGGGAGGCTGAGCTGGGAAGATCTCTTGTGCCCAGGAGTTCAAGGCTGCAGTGAGCCATGGTCATGCCACTACACTCCAGCCTGGGTGACAGAGTTAGACCCTGCCTGTAAAAAAAAAAAGGTGGGGGGCAGGGTGGGGAAGGTTTGCCTTGACCAGGCCGCGTGCTGAGTGCCGGGCATACAAAAGTGAAAAACGTGATTTGTCCTCAGTGAGCTCACAGGTCTGAGGAGACACATAAACCCAGGAATGGAAATGCTTTGCTGGCGATGGACAGTGAGTCTGGGAGAACATTGAGGAGATGTTTAACCCAGACAATGGAGTGGGGTGTGGTCAGGTCATTCCCTGGAGGAGGTGATGTTTTAAGCTGTGGCATGAAACCTCAGTAGGATGTGATGACCTTAGAACATGGCTACACGTTCTTTGACATTCCTCCTTTAAATTACCTTCCCTTTGAATCTGGGCTGGGCCTTCATGATCCATTTGTAACCAACAGGACACAGCAGACATGGTGCTGCAGGATTTCCAAGGCTAAGTCACGCTGAACCGCCATGTTGAAAGGCCAACAGCCAAGACTGCCATGTGGAGAAGCAGCCCGGGCCACGTGGGAAGACCATGTGTAGGTAGCTGCTCCAGTTGACAGCTGAGCCCAGGCACCAGACTTATGAGTTGAGAAGCTTCCAGGGGATTCCAGCCCCTCATAATTCAACTCACTCCCAGCTGTTGGAGGGCCTTCCCAGCAGAGGCCCAGCCATCACAGAGCAGAGACAAGCCATCCCTTCTATATCCTGTCTGAATTCCTGACCCAGAGTCCACGAACATAATGAGATGGCAGTTGTCCACACCTATTAGGTTTTGGGGCAGTTTGTTATGAAGGAATAACTGGAACAATAGGATAAGGAAGAGTGAGGTGAAGGGAAGGACTTTACAGATGCCAGCAACAGTACATGGGAAGACCTGGTAAGAGTGGCTGACACAGAAGCTAACC\n",
      "270M1D197M3D243M1I405M1I483M1I143M\n",
      "0.9931545921277809\n",
      "read_id: test_read_35_332849_334599 \n",
      "\tmap_start 5, map end 1750\n",
      "\t1750\n",
      "CTTCATGGCCTACTGCCTTCCTGCCCAGGAGCCCCAGGTCTTGGCATAATAGGTCTAGCTGGCTGCAGGCTTAGCCCTCTCTGGCCTACCTCGTCTGCTCTGGCATCTTCCATATTTCAACTGTGCCCTGCCCATCAGGAAGAAGGGCAGTTCCCAGGGTCTAGGTGTGAGTCTCAGGGCTGTGTGACCCTAGGTGGCTGGCAGAGCCACCCTGGGCCTCACCCTGCACATCCATAAAGAGGGGTTGGGGCATCCTATGATTCACTGGCTTCACTCTATGGGGTCAGGAAGGAGCACTGACCTGGGAGTCAGGAGCCCAGTTCCAGCCCTGCTTCTGCTCCCTTTGCCCTCCCCTTTGGGCCCCAGCTTTCTTGTCTGTCAAATGGGAATGGGACAAGATGGTCCCTGAGCTGCTGTCCAGACCCGGTAATGGAATTCTGTATGAATTCCAAGGAGGAGAGTAGCCACAAATGCATCCGCTCCACGCTGATGGGGCTCTCTCTCCGGTAAGCTTCACTTACTCTGCCATTTCTCCAGTGTATTTTATCAGACCCACCTCCTCTGAGCCAAAGAAAAGAGGGTAGGAGCAGGATGAAACAAACTCACAGCTCTGTTCATTCAGGCTCATCACAGagatgacttgcccaagggcatGTGGCAGGTCCTCTGAAATTTGAGGAaggctgtgttttcttttgtgtcaCTTTGGTCCTCCGGGAAGCAGATGTGAAAATGGAGGTGTAAGTGTAAGAGATTTATTGAGAAAACACCGTGAGAAATGGAGGAGAGCCTTCAGAGAGGGATGCAGGTCTGATACTGTGAAAGGAGAGGTGGAATAAAGAAAGATTGGGGAAGAGGAGCCTCAGGCCATGGTGCAGGTCTAAGGAAGTCCTAGCCAACCCAACAGGGAGCTCCTGTGCAAAGATTTCCTGTAGAGGAGTCCCGTGCTCGACAGAAGGGCAGACCCTAGTTTCCCACCATGCTCAGTCATCAGCCGGCCTGTCCTGGAAGAGTGGCTGTGCTGACAACTATGGCAGATTGCAAAGGTGTTGCAGCTGGAGGCTCTCAGTGACTGTAGTCCAGAGAAGATCTGAGTGGCACCTCCCTAAGGCTGCcacatgtttttctttattcatttaatagACACTTACAGAACTCTGGGCCATGTGCCAGTTACTGATCTatgcactttacaaatattaccTTAGTTAATCCTTACCCTCGCCTTTTGAGACAGATGGTATttttagccccattttatagagggagaaactgagcacaaagaggttaagtaagttGCCCAAGGTTTCACAGCCAGTAGGTGATAAGCCACAAATCCAACCCAGGCAAGCTGCTTGGAGGCTCTGCTCTGACCACTCCACCACACTGCCTCCTCTCCAGCTGCAAATGCCTTGGTGGCAATTTCTGGGaccatttccattttcatttttcattggcTCAGGACCTCACAGCCTTAACAGGAAGGGGCCTACTGTGGTGGCTGGGGGCATAGCAGGGTCCCAGCTCCCCCTGAAGCTTCTACCTTGCTCCCTCAAAGACTTCCACCTCAAAGCCTTTGCATATATTGTTCCCACTGCCCAGAGCACTCTTCCACCCCCTTCCTTGCCTAGGTAACCCCTCCTCCCATCGCTCCCTTGCCTGACCCCAGGATCTAGCCCAGGATAGGGGTGATATGTAGTGGAAAGGAGCTagttgacatttattgagcacttattatgtgctaGGAGCCAAGTCCAGCCCTTTACATAGATTGCCTCACTTAACCATCATAACAACCTG\n",
      "\n",
      "GGCCTACTGCCTTCCTGCCCAGGAGCCCCAGGTCTTGGCCATAATAGGTCTAGCTGGCTGCAGGCTTAGCCCTCTCTGGCCTACCTCGTCTGCTCTGGCATCTTCCATATTTCAACTGTGCCCTGCCCATCAGGAAGAAGGGCAGTTCCCAGGGTCTAGGTGTGAGTCTCAGGGCTGTGTGACCCTAGGTGGCTGGCAGAGCCACCCTGGGCCTCACCCTGCACATCCATAAAGAGGGGTTGGGGCATCCTATGATTCACTGGCTTCACTCTATGGGGTCAGGAAGGAGCACTGACCTGGGAGTCAGGAGCCCAGTTCCAGCCCTGCTTCTGCTCCCTTTGCCCTCCCTTTGGGCCCCAGCTTTCTTGTCTGTCAAATGGGAATGGGACAAGATGGTCCCTGAGCTGCTGTCCAGACCCGGTAATGGAATTCTGTATGAATTCCAAGGAGGAGAGTAGCCACAAATGCATCCGCTCCACGCTGATGGGGCTCTCTCTCCGATGGCTTCACTTACTCTGCCATTTCTCCAGTGTATTTTATCAGACCCACCTCCTCTGAGCCAAAGAAAAGAGGGTAGGAGCAGGATGAAACAAACTCACAGCTCTGTTCATTCAGGCTCATCACAGAGATGGCTTGCCCAAGGGCATGTGGCAGGTCCTCTGAAATTTGAGGAAGGCTGTGTTTTCTTTTGTGTCACTTTGGTCCTCCGGGAAGCAGATGTGAAAATGGAGGTGTAAGTGTAAGAGATTTATTGAAAACACCGTGAGAAATGGAGGAGAGCCTTCAGAGAGGGATGCAGGTCTGATACTGTGAAAGGAGAGGTGGAATAAAGAAAAGATTGGGGAAGAGGAGCCTCAGGCCATGGTGCAGGTCTAAGGAAGTCCTAGCCAACCCAACAGGGAGCTCCTGTGCAAAGATTTCCTGTAGAGGAGTCCCGTGCTCGACAGAAGGGCAGACCCTGGTTTCCCACCATGCTCAGTCATCCAGCCCGGCCTGTCCTGGAAGAGTGGCTGTGCTGACAACTATGGCAGATTGCAAAGGTGTTGCAGCTGGAGCTCTCAGTGACTGTAGTCCAGAGAAGATCTGAGTGGCACCTCCTAAGGCTGCCACATGTTTTTCTTTATTCATTTAATAGACACTTACAGAACTCTGGGCCATGTGCCAGTTACTGATCTATGCACTTTACAAATATTACCTTAGTTAATCCTTACCCTCGCCTTTTGAGACAGATGGTATTTTTAGCCCCATTTTATGAAGAGGGAGAAACTGAGCACAAAGAGGTTAAGTAAGTTGCCCAAGGTTTCACAGCCAGTAGGTGATAAGCCACAAATCCAACCCAGGCAAGCTGCTTGGAGGCTCTGCTCTGACCACTCCCACCACACTGCCTCCTCTCCAGCTGCAAATGCCTTGGTGGCAATTTCTGGGACCATTTCCATTTTCATTTTTCATTGGCTCAGGACCTCACAGCCTTAACAGGAAGGGGCCTACTGTGGTGGCTGGGGGCATAGCAGGGTCCCAGCTCCCCTGAAGCTTCTACCTTGCTCCCTCAAAGACTTCCACCTCAAAGCCTTTGCATATATTGTTCCCACTGCCCAGAGCACTCTTCCACCCCCTTCCTTGCCTAGGTAACCCCTCCTCCCATCGCTCCCTTGCCTGACCCCAGGATCTAGCCCAGGATAGGGGTGATATGTAGTGGAAAGGAGCTAGTTGACATTTATTGAGCACTTATTATGTGCTAGGAGCCAAGTCCAGCCCTTTACATAGATTGCCTCACTTAACCATCATAACAACC\n",
      "38M1I306M1D157M1D251M2D79M1I150M1I3M1I66M1D42M1D157M2I117M1I148M1D271M\n",
      "0.987825124515772\n",
      "read_id: test_read_36_681098_682898 \n",
      "\tmap_start 6, map end 1798\n",
      "\t1800\n",
      "cGATTGTTTATTCTCAGCCTCAGGAGGACGCAGGAGAATCTCAGGCATCAAATTTAGTGCAGCACACCTGCCTAGGCAAAACTGGACAGCTCCACCTCAACTTTGTAGAGGGGCAGAGAAAGCTGTGGGGAACCACCTTCCTGCTCTTGTCATGAAGTCCTCCTCAACTGGAAGCCCAAGCTTCAGGCCAGGAACTTCCCCAGCAGAGGCAGCCTTCCCCAGGGGGCCAAGACCTTGGCAGAATGTCTGGGGTGCTCATGGCAGCGCCTCTCACCTGGCCCCTGCCAAATCAGTTTCTGCTTGGCCTCTGCAGGATCTGACCTCGTTGAGTCCCCAGGGCCCAGTTCTCTGCCTCTGAGGCTAAAAGTGAGATCGTTTCCTGGTTGAGGAGTGACTAAAAGACTTCTGtgtgtagagactgggttttgctgtgttggccaggctggtctcgaactcctgaccccaagtgattcACCTTAAGGTGAATGTGTGGCTGTGTACGCGCACGTGCAGAGCAGAACCATCACTCTGCTTGGGCTAGGCAGCTGGACTAATCGTCCATTTCCCCCCGCCCGGAGGCCTCTTCCAGGCCCCCAGCTGCCCTGATGGGCCAGGTCAGCCCCCCCCACAGGAGCCCCCAGCCGCTCCCCATTCGGCTTTCCTTGTATTGTGCGCTGCCTGGTTTCTCGAGGAAATGGGGCGGCTGCTGGGTGCGGGGGCGGCCGCCAGCAGCCCCACCCCCTTCCCCCCATTGTCACTCCTGGCTTCTGCCCCTAGCCCCTGCTGCTGACACTAAAAATAGACCTGTTCACAGGGAGACGGCCCCACCCCTGAGCGGGGCCCCAGGCTCAGTGTCAGGTTGGGTTTGCCAAGACAGAGCTGCCCTGGGGACTGAGGTGGCTCAGCTGAAAGACCGGGGTCGAAACACGTtagggctgtgtgaccttaggtccccttttctcctctctgagcctcaatttcctcacctttaaaatggGGTAAGGCTACCTACCTGCTAAGGTTGCTCTTGACAATGAACAGAAGCTGGGTGAGTCACAAGCGCACTTCGTTCTCGTCCTGCCCGTGGTTTGGTGCTGCCTGAGCGGCTTGAGAACCTGGAGGACAGATGGCATAACACACGCCTTCATCTTCAATCTGCCTTGAATGATTGCCAAGGACTTCCAAATCCCCCTAAACAGAGGAGCTGGAAGAGCCCACTTGGGAATCCAAAAGTGTCCGCAGCTCTGCTGTGTGAGCCCGGGTAGGTGCCTCCTCTCTGGCATCCATGAGCTCACACGTGAAGTATGCAGCCAGGCTGGGACTCGAACCTGTGTCTGCAGCCTCTGAAGACTGTTTTTTCCGCTTTAAGGGGCTGCCTCCATGCTGATGACTCCAAGGACTTCCTGGCTGGGATAACCCTGCCTTTTCGTCTACAAACACATGATTCATGGTGAAGGAAGATGCTGGGCGGTGGGCATGGAAGCCTGAGCTGGGGGCTGGGTAGTTCCCCTTGAGCCCATGCAGATGGGCAGCTGTCCTCAGATGCCACCCGCAGCCATTGGGTTGGGCCCTGCAAAGGAGATACTGGCATGTGTCTGTCtaccaggctcttttttgttgttgttcctttgtccttttttttaaaccatggaATATTTCAAATATGGGTCTTTCATATACATTCAAAACCTTGAACTCTTAGAATTACTTTTGTCAcagttgcaatttttttttaaatttttatttcatttgtctatttattttttgagacggagtctcgctctgttacccaggttagagtgcagtgacctgatcttggctcactgcaaccttcgcctcccaggttcaag\n",
      "\n",
      "TTCTCAGCCTCAGGAGGACGCAGGAGAATCTCAGGCATCAAATTTAGTGCAGCACACCTGCCTAGGCAAAACTGGACAGCTCCACCTCAACTTTGTAGAGGGGCAGAGAAAGCTGTGGGGAACCACCTTCCTGCTCTTGTCATGAAGTCCTCCTCAACTGGAAGCCCAAGCTTCAGGCCAGGAACTTCCCCAGCAGGGGCAGCCTTCCCCAGGGGGCCAAGACCTTGGCAGAATGTCTGGGGTGCTCATGGCAGCGCCTCTCACCTGGCCCCTGCCAAATCAGTTTCTGCTTGGCCTCTGCAGGATCTGACCTCGTTGAGTCCCCAGGGCCCAGTTCTCTGCCTCTGAGGCTAAAAGTGAGATCGTTTCCTGGTTGAGGAGTGACTAAAAGACTTCTGTGTAGAGACTGGGTTTTGCTGTGTTGGCCAGGCTGGTCTCGAACTCCTGACCCCAAGTGATTCACCTTAAGGTGAATGTGTGGCTGTGTACGCGCACGTGCAGAGCAGAACCATCACTCTGCTTGGGCTAGGCAGCTGGACTAATCGTCCATTTCCCCCGCCCGGAGGCCTCTTCCAGGCCCCCAGCTGCCCTGATGGGCCAGGTCAGCCCCCCACAGGAGCCCCAGCCGCTCCCCATTCGGCTTTCCTTGTATTGTGCGCTGCCTGGTTTCTCGAGGAAATGGGGCGGCTGCTGGGTGCAGGGGCGGCCGCCAGCAGCCCCACCCCTTCCCCCCATTGTCACTCCTGGCTTCTGCCCCTAGCCCCTGCTGCTGACACTAAAAATAGACCTGTTCACAGGGAGACGGCCCCACCCCTGAGCAGGGCCCCAGGCTCAGTGTCAGGTTGGGTTTGCCAAGACAGAGCTGCCCTGGGGACTGAGGTAGCTCAGCTGAAAGACCGGGGTCGAAACACGTTAGGGCTGTGTGACCTTAGGTCCCCTTTTCTCCTCTCTGAGCCTCAATTTCCTCACCTTTAAAATGGGGTAAGGCTACCTACCTGCTAAGGTTGCTCTTGACAATGAACAGAAGCTGGGTGAGTCACAAGCGCACTTCGTTCTCGTCCTGCCCGTGGTTTGGTGCTGCCTGAGCGGCTTGAGAACCTGGAGGACAGATGGCATAACACACGCCTTCATCTTCAATCTGCCTTGAATGATTGCCAAGGACTTCCAAATCCCCCTAAACAGAGGAGCTGGAAGAGCCCACTTGGGAATCAAAAGTGTCCGCAGCTCTGCTGTGTGAGCCCGGGTAGGTGCCTCCTCTCTGGCATCCATGAGCTCACACGTGAAGTATGCAGCCAGGCTGGGACTCGAACCTGTGTCTGCAGCCTCTGAAGACTGTTTTTCCGCTTTAAGGGGCTGCCTCCATGCTGATGACTCCAAGGACTTCCTGGCTGGGATAACCCTGCCTTTTCGTCTACAAACACATGATTCATGGTGAAGGAAGATGCTGGGCGGTGGGCATGGAAGCCTGAGCTGGGGGCTGGGTAGTTCCCCTTGAGCCCATGCAGATGGGCAGCTGTCCTCAGATGCCACCCGCAGCCATTGGGTTGGGCCCTGCAAAGGAGATACTGGCATGTGTCTGTCTACCAGGCTCTTTTTTGTTGTTGTTCCTTTGTCCTTTTTTTTAAACCATGGAATATTTCAAATATGGGTCTTTCATATACATTCAAAACCTTGAACTCTTAGAATTACTTTTGTCACAGTTGCAATTTTTTTTAAATTTTTATTTCATTTGTCTATTTATTTTTTTGAGACGGAGTCTCGCTCTGTTACCCAGGTTAGAGTGCAGTGACCTGATCTTGGCTCACTGCAACCTTCGCCTCCCAGGTTCAAG\n",
      "396M2D156M1D54M2D13M1D102M1D488M1D126M1D371M1D34M1I90M\n",
      "0.9886547811993517\n",
      "read_id: test_read_37_567712_569562 \n",
      "\tmap_start 10, map end 1850\n",
      "\t1850\n",
      "gtctctgggcttcagtttctccatctgtcaaATGGATGGTTAAACTCAGTGTTTCTAAAGGCCCACtgttcacccatccatccatccatccacccacccacctacccatctgcccacccatctatccatccccatccatccatccatccatccccatccatccatccatccatccatccatccacccacccacccatctatccatccactcacccacccatctatccatccatccatccacccatccatccatccaccaacccatctatccatccaatcacccacccatctatccatccaccaacccatctatccatccactcacccacccatctatccatccatccatccacccacccactcatctatccatccatccatccatccatccacccacccacctacccatctgcccacccatctatccatccccatccatccatccatccatccacccacccatatatccatccactcacccacccatctatccatccatccacccacccactcatctatccatccatccatccatctatccacccacccacccatcatccaCCCAACCAtctatccgtccatccatccattcagcaGATATTTCTTGAATATCATCTATGTGCCAGGATCCTttatttattaaagttaaaagacaaatcacagaCCTGTAGAAACATTTTAGAAAGACATACAAAATCATACTGGATTGGAAATGTAAATTTCCCCAGGACTTTTGTTCACCAGTGACTCTCCAATGCCATGCATGGGGCCACATGTCTACTAGGTGCTCTGTAAAATGTTTATTGGATGTAAGAATGAATAGGACATATTTTGCTGTTCTAAAGAGAGCTGCCTCCGAGTCTGAGATTGGAGTCAGACATCCTCTCTAGGACTTATTGAGAGGGGGCCAACTATCTTTGTCACCCCCATCCCTGACCTGCCCCACTGCCTCCCCAGCCCATATAAGCCAGTTTCTAAAGAGGATCTAAGGAGGATTGGCCAGCAGTGACTGGGGCAGGGTAGGGCACGGCATGCCCCCAACTCCCAAGCCCAGGTGGGCTCATGGTTTGGAGGGGAGAAGCTATGAACCAGAGGGAAACAGGCATTCCATCCCTTGATTGAACTCACTCTTGTTGATCTGCCCTGTGTCCATTGGGAGTGAGTGGAGAATGAATGAGAAATGCAAAAGGGGTGGGGTCTGGCAGAGGCAGCCTGCATTGCCACCATTTGACCAATTTCCTGTCAATTTCCTATATTTGGTCAAGTGGACATTGAAGGAGGCTCTTGAGCTTAATCTAAGCCATGGTTTTCCAGCCCAAAGGGGCATGAGGCTGTTGAAGTGGGGATGGGGTAGTGAGGAAGCTAGGGTGATCTGAAGAGGTCAAGCTCGTGCTCCTTGCTCAGTAATCACACCTGTGTACCAATTAGGCACCTGCCACACGTGGGAGAAAGGGGAGGGCATGGATGGAGGCAGAGGAACATTTAGTCCCAGTCCCTCCCTGCTGCTCACTGGTGATGGCCCCAGAGTTTTCTAACACCGGGAATTGTGGAGGCCACAGCAGCATCAGGGTAGTGACAGCTGTCTCTATCCCCATTCCTTCTTCTGCTCCCCAACATACAGGGGAGAAATCAAcccagagggaggagagaagagaatgagacaGCATGACATATCTCCCTACAGGGCAAATCAGTGGAGTCAGAAGCTGAGTCAGGCAGTGATGGGGAAGCAGTGATGGGAAAGGAGAGCTTCAAATCAgacctgtattttaaaaattcagcactGGACTAGGCTTTTTAATAGCTGAAAGTTACCAGAAAGCTTTGAGATCTGCCCAAAGTTATTAAGGATTGGAGTTTAAAAATACGACTGTgcattgggggtggggggtggggggtg\n",
      "\n",
      "TGGGCTTCAGTTTCTCCATCTGTCAAATGGATGGTTAAACTCAGTGTTTCTAAAGGCCCACTGTTCACCCATCCATCCATCCATCCACCCACCCACCTACCCATCTGCCCACCCATCTATCCATCCCCATCCATCCATCCATCCATCCCCATCCATCCATCCATCCATCCATCCATCCACCCACCCACCCATCTATCCATCCACTCACCCACCCATCTATCCATCCATCCATCCACCCATCCATCCATCCACCAACCCATCTATCCATCCAATCACCCACCCATCTATCCATCCACCAACCCATCTATCCATCCACTCACCCACCCATCTATCCATCCATCCATCCACCCACCCACTCATCTATCCATCCATCCATCCATCCATCCACCCACCCACCTACCCATCTGCCCACCCATCTATCCATCCCCATCCATCCATCCATCCATCCACCCACCCATATATCCATCCACTCACCCACCCATCTATCCATCCATCCACCCACCCACTCATCTATCCATCCATCCATCCATCTATCCACCCACCCACCCATCTATCCACCCAACCATCTATCAAGTCCATCCATCCATTCAGCAGATATTTCTTGAATATCATCTATGTGCCAGGATCCTTTATTTATTAAAGTTAAAAGACAAATCACAGACCTGTAGAAACATTTTAGAAAGACATACAAAATCATACTGGATTGGAAATGTAAATTTCCCCAGGACTTTTGTTCACCAGTGACTCTCCAATGCCATGCATGGGGCCACATGTCTACTAGGTGCTCTGTAAAATGTTTATTGGATGTAAGAATGAATAGGACATATTTTGCTGTTCTAAAGAGAGCTGCCTCCGAGTCTGAGATTGGAGTCAGACATCCTCTCTAGGACTTGGTGAGGGGGCCAGCTATCTTTGTCACCCCCATCCCTGACCTGCCCCACTGCCTCCCCAGCCCATATAAGCCAGTTTCTAAAGAGGATCTAAGGAGGATTGGCCAGCAGTGACTGGGGCAGGGTAGGGCACGGCATGCCCCCAACTCCCAAGCCCAGGTGGGCTCATGGTTTGGAGGAGAAGCTATGAACCAGAGGGAAACAGGCATTCCATCCCTTGATTGAACTCACTCTTGTTGATCTGCCCTGTGTCCATTGGGAGTGAGTGGAGAATGAATGAGAAATGCAAAAGGGGTGGGGTCTGGCAGAGGCAGCCCTGCATTGCCACCATTTGACCAATTTCCTGTCAATTTCCTATATTTGGTCAAGTGGACATTGAAGGAGGCTCTTGAGCTTAATCTAAGCCATGGTTTTCCAGCCCAAAGGGGCATGAGGCTGTTGAAGTGGGGATGGGGTAGTGAGGAGGCTAAGGGTGATCTGAAGAGGTCAAGCTCGTGCTCCTTGCTCAGTAATCACACCTGTGTACCAATTAGGCACCTGCCACACGTGGGAGAAAGGGGAGGGGCATGGATGGAGGCAGAGGAACATTTAGTCCCAGTCCCTCCCTGCTGCTCACTGGTGATGGCCCCAGAGTTTTCTAACACCGGGAATTGTGGAGGCCACAGCAGCATCAGGGTAGTGACAGCTGTCTCTAATCCCCATTCCTTCTTCTGCTCCCAACATACAGGGAGAAATCAACCCAGAGGGAGGAGAGAAGAGAATGAGACAGCATGACATATCTCCCTACAGGGCAAATCAGTGGAGTCAGAAGCTGAGTCAGGCAGTGATGGGGAAGCAGTGATGGGAAAGGAGAGCTTCAAATCAGACCTGTATTTTAAAAATTCAGCACTGGACTAGGCTTTTAATAGCTGAAAGTTACCAGAAAGCTTTGAGATCTGCCCAAAGTTATTAAAGTTGGAGTTTAAAAATACGACTGTGCATTGGGGGTGGGGGTGGGGGT\n",
      "551M1I19M1I319M2D176M2D137M1I153M1I92M1I131M1I21M1D11M1D173M1D55M1D39M\n",
      "0.9847848898216159\n",
      "read_id: test_read_38_984769_986669 \n",
      "\tmap_start 5, map end 1890\n",
      "\t1900\n",
      "GGTCTCATTTTCTCTCCCACCCTGCCCATAGGTTCATATCTAggtatataaataatgtataatatttttgtGTTCTCAAAACTTAAGTATATGCTGTTATACTGAATGCGACGTCCTGCTTATATTATATTTTCCAGATTGATATAAATGACACATATAGATCTTGTGACCAAGgacattttcttttcactgctGTGCAGCATtgcattatgtaatttttaactctttatccagtttttgGCAGATGgatatttaaattaattcagtTATCTTGTTATTCCTGACAATACTGCTATTACCATCTTATATGGGAATACTTGTGCTTACAAGCAAGGGCTCCTCTGGGGAACTAATCCAGGCATGCTCCTCCTGGGTCGTGGAATATATGTGCTGCCAGCCTGAGGCAGTTGCCAAATTGTGCTCCAAGTCTCTCTGTCGAGTTAATTCCAGTAGGGTGCCGGGGTCTCCATCGCTCCGCACCCCTGCCATCCCTTGAGATGGTCATGCTTTACCTTTGTTCCAATCTGATGGCTGTGAAATCGTACATGTAATTACATAGCCTGCTTTCCCTACTTAATAGTATATTACGGAACTATTTTCCTGTGCAGAATATTGTTCTATATGTGGGTGTTTCAAGGTGGCATAAGCTGAAAGCCTCCATTGGGGTGTTGCTGGGATTTTCTTAACCAATTCCCTATTGTTGGACAACAGGGTTTGTTTTTGTGGTAGGATTGCAAAACTGACCACAGATGCTACCCACCCCTATAAGCATGCTCCTTTGCAGTGTGACTCTGCAGTTCTCCCTATTAAGAGGCAAAGTTCACTTCTCCACTCCCTTAATGCTGACTtgggccatgtgacttgctttggccaatgggacatTTTCAAGCAGAGGCTTGAAAAGGGCTTGTGCTCTGGGGCTTGCTCTCTTGCTGCACCTGGGGCCCTGAGACCACCATGTGAATGAGTCCTGGCTAGCCTGAGGGATGATGAGACACACTTGGCCAAGTcatcctgtcatcccagctgatACTAAACCATCCACCAGATTTGTGAGTGAGGCCATCCTAGACCATCTATCTAGCCCAGCCAAACTGGTGCGGACCAGAAGCAAAGTCCAGTTGGCCTGCAgagatgtgaaaaataaatgttttaagccactaaattttagaGGTGGTCTGTTAGACAGCAAGCCTGATACAGTTCCACCCAGCATTTTCTTTGCTCAACCAGTTACTGGCTGggaaccttgggcaagttgctgagccttagttttctcctcAGTACAATGGGGGATTACATACGCACTCCTCAAAGTCGTTGTGAAGATTGGATGAGATGGCACCTGTCAGTATCACATGGCGGGGACCCCATAACCAGGGGTTCCTCTTTCACATCACGGTGGTCTTAGATGTGACCTGTGACCTTTCTTATTGCTTCTTGGTTCTCCCTGCTGCCTCTTTCTCAAAAATGTACTCATCCTTCCAAGTTTTCTGGAGAGTATCAACATGTAAGTGTAAATCACAATCCCTAGTGCTCTCCAAGACTTGCAGGTATCTCCTCCTTCCAGGGCCTTCCCTCTTGAAATTAGGCATagtggctgtgtgcagtggctcatgcctgtaatacaagcactttgggaggccgaagcaggccgatcccatgaggccaggagttggagatcagcctggccaacagggcgaaactttgtctctactaaaaatacaaaaattcaccgagcgtggtggtgcatgcctgtaatcccagctactcaggaggcggaggcatgagaatcgcttgagtctgggaggcggaggtttcagtgagccaagatggcaccactgcactccacactccagcaagacccggtctcaaaaaaaaaaaaaaagtaaggaaaagaaaaagaaaagaaaaggagtctccatccagaccccaagagagggtttcGTG\n",
      "\n",
      "ATTTTCTCTCCCACCCTGCCCATAGGTTCATATCTAGGTATATAAATAATGTATAATATTTTGTGTTCTCAAAACTTAAGTATATGCTGTTATACTGAATGCGACGTCCTGCTTATATTATATTTTCCAGATTGATATAAATGACACATATAGATCTTGTGACCAAGGACATTTCTTTTCACTGCTGTGCAGCATTGCATTATGTAATTTTTAACTCTTTATCCAGTTTTTGGCAGATGGATATTTAAATTAATTCAGTTATCTTGTTATTCCTGACAATACTGCTATTACCATCTTATATGGGAATACTTGTGCTTACAAGCAAGGGCTCCTCTGGGGAACTAATCCAGGCATGCTCCTCCTGGGTCGTGGAATATATGTGCTGCCAGCCTGAGGCAGTTGCCAAATTGTGCTCCAAGTCTCTCTGTCGAGTTAATTCCAGTAGGGTGCCGGGGTCTCCATCGCTCCGCACCCCTGCCATCCCTTGAGATGGTCATGCTTTACCTTTGTTTCCAATCTGATGGCTGTGAAATCGTACATGTAATTACATAGCCTGCTTTCCCTACTTAATAGTATATTACTGGAACTATTTTCCTGTGCAGAATATTGTTCTATATGTGGGTGTTTCAAGGTGGCATAAGCTGAAAGCCTCCATTGGGGTGTTGCTGGGATTTTCTTAACCAATTCCCTATTGTTGGACAACAGGGTTTGTTTTTGTGGTAGGATTGCAAAACTGACCACAGATGCTACCCACCCCTATAAGCATGCTCCTTTGCAGTGTGACTCTGCAGTTCTCCCTATTAAGAGGCAAAGTTCACTTCTCCACTCCTTAATGCTGACTTGGGCCATGTGACTTGCTTTGGCCAATGGGACATTTTCAAGCAGAGGCTTGAAAAGGGCTTGTGCTCTGGGGCTTGCTCTCTTGCTGCACCTGGGGCCCTGAGACCACCATGTGAATGAGTCCTGGCTAGCCTGAGGGATGATGAGACACACTTGGCCAAGTCATCCTGTCATCCCAGCTGATACTAAACCATCCACCAGATTTGTGAGTGAGGCCATCCTAGACCATCTATCTAGCCCAGCCAAACTGGTGCGGACCAGAAGCAAAGTCCAGTTGGCCTGCAGAGATGTGAAAAATAAATGTTTTAAGCCACTAAATTTTAGAGGTGGTCTGTTAGACAACAAGCCTGATACAGTTCCACCCAGCATTTTCTTTGCTCAACCAGTTACTGGCTGGGAACCTTGGGCAAGTTGCTGAGCCTTAGTTTTCTCCTCAGTACAATGGGGGATTACATACGCACTCCTCAAAGTCGTTGTGAAGATTGGATGAGATGGCACCTGTCAGTATCACATGGCGGGGACCCCATAACCAGGGGTTCCTCTTTCACATCACGGTGGTCTTAGATGTGACCTGTGACCTTTCTTATTGCTTCTTGGTTCTCCCTGCTGCCTCTTTCTCAAAAATGTACTCATCCTTCCAAGTTTTCTGGAGAGTATCCAACATGTAAGTGCCAAATCACAATCCCTAGTGCTCTCCAAGACTTGCAGGTATCTCCTCCTTCAGGGCCTTCCCTCTTGAAATTAGGCATAGTGGCTGTGTGCAGTGGCTCATGCCTGTAATACAAGCACTTTGGGAGGCCGAAGCAGGCCGATCCCATGAGGCCAGGAGTTGGAGATCAGCCTGGCCAACAGGGCGAAACTTTGTCTCTACTAAAAATACAAAAATTCACCGAGCGTGGTGGTGCATGCCTGTAATCCCAGCTACTCAGGAGGCGGAGGCATGAGAATCGCTTGAGTCTGGGAGGCGGAGGTTTCAGTGAGCCAAGATGGCACCACTGCACTCCACACTCCAGCAAGACCCGGTCTCAAAAAAAAAAAAAAAAGTAAGGAAAAGAAAAAGAAAAGAAAAGGAGTCTCCATCCAGACCCCAAGAGAGGGTTTCATT\n",
      "58M1D113M1D338M1I71M1I245M1D670M1I13M1I49M1D306M1I74M\n",
      "0.9907928388746803\n",
      "read_id: test_read_39_924040_925990 \n",
      "\tmap_start 6, map end 1947\n",
      "\t1950\n",
      "TCTGGTTTTTGCCTTGGAGCAGGAACTTTTGACAAGGCTGCGCAGATGCAGCCACATGAAAACCGcccattaaaaatgtaatatcgGCCCGgagcgggggctcacgcctgtaatcccagcactttgggaggccgaggcaggcagatcacttgaggtcaggagttgaagaccagcctggccaacatggtgaaaccccgtctctactaaaaatacaaaaaatagccaggcgtggtggcatgggcctgtaatcccagctactcgggaggctgaggcaggagaatcacttgaacccaggaggcagagattgcagtgagtcaagattgcaccactgcactccagcctgagcgacagagcaagactctgtctcaaaataataataaaatgtaatattcacTCTTATCAAATAATGGATGTCACCACACCCCGACCCTAATTAGTGAGGACTTTCATGTTCTACTTGTCTTCATTTAATCATCATTGTATAAGAGTTTTACAATATCAAATTAGTAGATGTATATTACTGAAAGGGAAGGACTGTTAGAAATTTACTTGAGGAATGTCTGCCACTGGGGGCTGAACACAAAAGATCCTATTGTGACCTGCCAGATTATTCATTCACTTAGCAATTCAACAACCATCGCTGAATGCCTACTATAGGCCAGGTGCCATGCAAGACAGATGTGCTCCCACCCTCAAGGGTTCACAGTCTAATAGAGGAGAGAGATGTTAAACAGATAACTGTACAGATGGCATAGCTAATTATATTCGTGGAAGTTCGTTGTGGCAAAGACAGGCATCTCAATATTTCAGGAGCTCCCCTATATTTTCTAGCCTCCCTTACAGTCACATGACTAGTTCTGACCAGTGGGGTGTGTGTAGGAGTGGCAGGCTGAAGCAATGGAGAGCTGGTGAGCCTCATCCCTCTCTTCCCCTGCCACAGCCACCTTGCGCCCACAAGTTCCCTTAGCTACAAGCTGGAGGAGAGCCACCAGATCCACCTTAGATTTCACTGAGCAAGAAATAAAGCTTCTTGTGTTAAGTCTTTCAGATTTGGAGTTTGTCTGGTAGATAGTGTTAATTACCATGACTAAGGAAAATTTGCCATTAGTGAAGGGAGGAAAAATATTCTCCACCAGTAACAAGGCCATGTCAGTCTGCTGCATTATAAACCCCAAACAGTAGTTTATGATCCTCTGGGCTGGCAATTTGGGCTGAATTCAGCTGGGTCACTCCTGCAGCTGCAGGCAGCAAGCAGCTCGAATGTCTACCTTGCCAGGAAGGCTCTTCTCTGCTCCACATGGCCTCGTCCTCCAATAGGCATAGCCTACTCCTTCCTATGGTGGTCTCAGGGTTTCAGAAAGCAACAAGAGAGGACAAATTCCAGTGTTCAAGCTGCACTAGTGTCAAAGCATATCAAATAGCATGTCAAATTCCACATCAAATTCAGGATGCAGGCAAATTGATTCTTTCTCTTGATGGGAAGAGCTGAAAATAATGTGTGGTCTTGTTTTTCAATGTACAGTGGTCCCATTTATCCaggggggatacattccaagacccccagtggatgcctgaaaccacagatagtacagAATTCTGTATATACCATGTTTTttactatacatacatacctacgataaggtttaatttgtaaattaaactcTTACAAATTAAGAGTTAacaacagctgggcacagtggctcacgcctgtaatcccagcactttgggaggccgaggtgggcggatcacgaggtcaagagatcgagaccatcatgaccaacatggtgaaactccgtctctactaaaaatacaaaaattatctgggtgtagtggcgcatgcctgtaatcccagctacttgggaggctgaggcaggagaatcatttgaacccgggaggcggaggttgcagtgagctgagatcgcgccactgcactccagcctggtgacagagcgagactccacctcaaaaaaaaaaaaaaaacaaaaaaaacaaacagttaa\n",
      "\n",
      "TTTTGCCTTGGAGCAGGAACTTTTGACAAGGCTGCGCAGATGCAGCCACATGAAAACCGCCCATTAAAAATGTAATATCGGCCCGGAGCGGGGGCTCACGCCTGTAATCCCAGCACTTTGGGAGGCCGAGGCAGGCAGATCACTTGAGGTCAGGAGTTGAAGACCAGCCTGGCCAACATGGTGAAACCCCGTCTCTACTAAAAATACAAAAAATAGCCAGGCGTGGTGGCATGGGCCTGTAATCCCAGCTACTCGGGAGGCTGAGGCAGGAGAATCACTTGAACCCAGGAGGCAGAGATTGCAGTGAGTCAAGATTGCACCACTGCACTCCAGCCTGAGCGACAGAGCAAGACTCTGTCTCAAAATAATAATAAAATGTAATATTCACTCTTATCAAATAATGGATGTCACCACACCCCGACCCTAATTAGTGAGGACTTTCATGTTCTACTTGTCTTCATTTAATCATCATTGTATAAGAGGTTTTACAATATCAAATTAGTAGATGTATATTACTGAAAGGGAAGGACTGTTAGAAATTTACTTGAGGAATGTCTGCCACTGGGGGCTGAACACAAAGATCCTATTGTGACCTGCCAGATTATTCATTCACTTAGCAATTCAACAACCATCGCTGAATGCCTACTATAGGCCAGGTGCCATGCAAGACAGATGTGCTCCCACCCTCAAGGGTTCACAGTCCTAATAGAGGAGAGAGATGTTAAACAGATAACTGTACAGATGGCATAGCTAATTATATTCGTGGAAGTTCGTTGTGGCAAAGACAGGCATCTCAATATTTCAGGAGCTCCCTATATTTTCTAGCCTCCCTTACAGTCACATGACTAGTTCTGACCAGTGGGGTGTGTGTAGGAGTGGCAGGCTGAAGCAATGGAGAGCTGGTGAGCCTCATCCCTCTCTTCCCTGCCACAGCCACCTTGCGCCCACAAGTTCCCTTAGCTACAAGCTGGAGGAGGAGCCACCAGATCCACCTTAGATTTCACTGAGCAAGAAATAAAGCTTCTTGTGTTAAGTCTTTCAGATTTGGAGTTTGTCTGGTAGATAGTGTTAATTACCATGACTAAGGAAAATTTGCCATTAGTGAAGGGAGGAAAAATATTCTCCACCAGTAACAAGGCCATGTCAGTCTGCTGCATTATAAACCCCAAACAGTAGTTTATGATCCTCTGGGCTGGCAATTTGGGCTGAATTCAGCTGGGTCCTCCTGCAGCTGCAGGCAGCAAGCAGCTCAGATGTCTACCTTGCCAGGAAGGCTCTTCTCTGCTCCACATGGCCTCGTCCTCCAATAGGCATAGCCTACTCCTTCCTATGGTGGTCTCAGGGTTTCAGAAAGCAACAAGAGAGGACAAATTCCAGTGTTCAAGCTGCACTAGTGTCAAAGCATATCAAATAGCATGTCAAATTCCACATCAAATTCAGGATGCAGGCAAATTGATTCTTTCTCTTGATGGGAAGAGCTGAAAATAATGTGGTCTTGTTTTTCAATGTACAGTGGTCCCATTTATCCAGGGGATACATTCCAAGACCCCCAGTGGATGCCTGAAACCACAGATAGTACAGAATTCTGTATATACCATGTTTTTTACTATACATACATACCTACGATAAGGTTTAATTTGTAAATTAAACTCTTACAAATTAAGAGTTAACAACAGCTGGGCACAGTGGCTCACGCCTGTAATCCCAGCACTTTGGGAGGCCGAGGTGGGCGGATCACGAGGTCAAGAGATCGAGACCATCATGACCAACATGGTGAAACTCCGTCTCTACTAAAAATACAAAAATTATCTGGGTGTAGTGGCGCATGCCTGTAATCCCAGCTACTTGGGAGGCTGAGGCAGGAGAATCATTTGAACCCGGGAGGCGGAGGTTGCAGTGAGCTGAGATCGCGCCACTGCACTCCAGCCTGAGTGACAGAGCGAGACTCCACCTCAAAAAAAAAAAAACAAAAAAAACAAACAGTTAG\n",
      "481M1I94M1D125M1I108M1D112M1D53M1I246M1D266M2D41M2D401M1I23M3D33M\n",
      "0.9895209580838323\n",
      "read_id: test_read_40_399721_401721 \n",
      "\tmap_start 6, map end 2000\n",
      "\t2000\n",
      "TTGGGAGGCGGAAGTGAAGCTGGTGGCATGAACCATTCTCAGTGACCTTTCACCAGGGTGAGTGGGAAGTAGTTGGGAGCATCGAGGCCTCACTCTCCATCCTGAAGATGGAGCACAGACTGGCTGGCTGAGGCCGGGAGCTCATCACGGGATGGAGACAGATTGGCAGACAAAGAGGAGGCGGGCGGTTGGGGCTGGGTGCCCCTGGGGAGGAAGGCGGGGAGAGAGCGTAGGAGCAGGAGGAAAGAAGGCTGGGCTTATGTGCAGCCTCACAGACTGGGCCTGCAGAGTCTCCAGCTGGAGGTTGGGACTGGACCTTCCTCCTGAatgggcagggagggaggcttGTTGGCCTAGCCCTCGGGGTTCTTGAAATAAATGAGGGAGGGCCTTGGGGGGTGGTAAATTGCTGAGGCTGTGATAAACATTCTCCCCTTCCcacaaaacacacacaggcacgtgtgcgtgcatacacatacacacacacaccctggccACACTGCTGTGCATATCTTACTGATTGTTGTCCTCTGTGACAGCAGTTCTCCAAGTTGAGTGCATTGGAAGGAtcagttaaaatgcagatttccaggCATTTCCATCTCTAAATGTAGGGTGTGGCCTGAGAATGTGTATGTCTTACAGGATCCTGGTTGATGCTGATGCTGGGGGTTCTGggacacactttgagaaccactgctccatTGAGCAGCCTTTCAGTTTGGGTGCCCCTCGGTGCTGGTGCTGGGAGAGAGTTAGGAGGGCAAGGGGGTTAGTGAGGGCTGCTACCTGTGAAACACAAAGCAGGAGGGAATGGAATTGGCCAGGAGAGCCTCAGACCACAGCCCGGGCCTGCAGAGTCACCCTCTAGGGGTCTCTGGAGTAAAGATTATCCACAGAGAAGCCCCACATGGGGCAGAAATGGCCAGGCCCTGGTGCCTCTGCTAGCTCAGTCTGGCTGGGACGACCTGGGAAGAACATGGCCTCAGTTCCAAAGCCAAGGCGGCTCCTGGAGgagctgcagctggaggctgtcaCCTTGCTGCCCTCCTTGCTGCTGAAGGACAAGCTTTTTCTTGAAGAGAGACTGTGTCCCATCCACAACTGCCCCAGGCATCTACcacatgccaggctctgtgcagaGTGTTTACCTGGATGAATGCAGTTTCAGATCAGAGCAACCTGGCCAAGCAAATATAATCGTCCCCATCTAATAGATGGGGAAAATGAGGGATTAAGTCATCTGCCCAGTGGTGGAGTCAAGATTTATCCCCTCTTGTGCCTTAGCACTCATCCCTGTCAGCTTCCCTGGGTGGTGAAGAACATTAGCTCCTTTTACACCTGAGGAATCTGAGGTGTGGAGAGGTCAGTGACTTGCGGTAGAGGTGGGTAGAGGATCCGGGATTCCAACCCTGCTCATGcccctctttttaaatttcaagatgCTGTCCCTTGAGTACTTCTAGGGGGATGTAATGGCAGAAACTTGGGGCTGGAAGAAGCCTCCCTGGCATTTGACAGGTGGGtacactgaggcccagggaggcaaTCAGCCGTGCCTCAGTGCCTCTCTCTGCCCTGAAGGGGCTCCCTGTTGTGTGTGGGGTATAACCCCCCCGTAATTCATGCATTCAGCACACACTGGTGGGCACCCATTGTGGGTCAGTCCCCCAAGCCAGAGTACTGTTGGTGAGTGGGAAGGCAGACGTGGGTGCAGAGGGTCTGTGCAGTGATTGGGGATGCACTGGGGATTGGAGGGGGCAGTTGACATGTGTGGGGTGCATgcagggaggcttcctggaggagatagtctgagagaggaggaggtgagaAGGGTACTCAAGgatgagaaaagaacagaaacaaaggCTTGGAGGTGGGGGAAGTGATATTGCCTTTAGGAAATTGATAGAAAATCTGTAGCTGAGATAGTGTGGGGAAGGTATGGCCAGAAATGAGGTGGAAAGTGGAAGCTTGGCCTGGGGAAGTGGTGGAAAGCTCTGGACTTGAACCATGACCCTGGTTCTGTTCAAGGCAGGGCTACTCTCTG\n",
      "\n",
      "AGGCGGAAGTGAAGCTGGTGGCATGAACCATTCTCAGTGACCTTTCACCAGGGTGAGTGGGAAGTAGTTGGGAGGCATCCGAGGCCTCACTCTCCATCCTGAAGATGGAGCACAGACTGGCTGGCTGAGGCCGGGAGCTCATCACGGGATGGAGACAGATTGGCAGACAAAGAGGAGGCGGGCGGTTGGGGCTGGGTGCCCCTGGGGAGGAAGGCGGGGAGAGAGCGTAGGAGCAGGAGGAAGAAAGGCTGGGCTTATGTGCAGCCTCACAGACTGGGCCTGCAGAGTCTCCAGCTGGAGGTTGGGACTGGACCTTCCCTCCTGAATGGGCAGGGAGGGAGGCTTGTTGGCCTAGCCCTCAGGGTTCTTGAAATAAATGAGGGAGGGGCCTTGGGGGTGGTAAATTGCTGAGGCTGTGATAAACATTCTCCCCTTCCCACAAAACACACAGGCACGTGTGCGTGCATACACATACACACACACACCCTGGCCACACTGCTGTGCATATCTTACTGATTGTTGTCCTCTGTGACAGCAGTTCTCCAAGTTGAGTGCATTGGAAGGATCAGTTAAAATGCAGATTTCCAGGCATTTCCATCTCTAAATGTAGGGTGTGGCCTGAGAATGTGTATGTCTTACAGGATCCTGGTTGATGCTGATGCTGGGGGTTCTGGGACACACTTTGAGAACCACTGCTCCATTGAGCAGCCTTTCAGTTTGGGTGCCCCTCGGTGCTGGTGCTGGGAGAGAGTTAGGAGGGCAAGGGGGTTAGTGAGGGCTGCTACCTGTGAAACACAAAGCAGGAGGGAATGGAATTGGCCAGGAGAGCCTCAGACCACAGCCCGGGCCTGCAGAGTCACCCTCTAGGGGTCTCTGGAGTAAAGATTATCCACAGAGAAGCCCCACATGGGGCAGAAATGGCCAGGCCCTGGTGCCTCTGCTAGCTCAGTCTGGCTGGGACGACCTGGGAAGAACATGGCCTCAGTTCCAAAGCCAAGGCGGCTCCTGGAGGAGCTGCAGCTGGAGGCTGTCACCTTTGCTGCCCTCCTTGCTGCTGAAGGACAAGCTTTTTCTTGAAGAGAGACTGTGTCCCATCCACAACTGCCCCAGGCATCTACCACATGCCAGGCTCTGTGCAGAGTGTTTACCTGGATGAATGCAGTTTCAGATCAGAGCAACCTGGCCAAGCAAATATAATCGTCCCCATCTAATAGATGGGGAAAATGAGGGATTAAGTCATCTGCCCAGTGGTGGAGTCAAGATTTATCCCCTCTTGTGCCTTAGCACTCATCCCTGTCAGCTTCCCTGGGTGGTGAAGAACATTAGCTCCTTTTACACCTGAGGAATCTGAGGTGTGGAGAGGTCAGTGACTTGCAGTAGAGGTGGGTAGAGGGATCCGGGATTCCAACCCTGCTCATGCCCCTCTTTTTAAATTTCAAGATGCTGTCCACTTGAGTACTTCTAGGGGGATGTAATGGCAGAAACTTGGGGCTGGAAGAAGCCTCCCTGGCATTTGACAGGTGGGTACACTGAGGCCCAGGGAGCCAGTCAGCCGTGCCTCAGTGCCTCTCTCTGCCCTGAAGGGGCTCCCTGTTGTGTGTGGGGTATAACCCCCGTAATTCATGCATTCAGCACACACTGGTGGGCACCCATTGTGGGTCAGTCCCCCAAGCCAGAGTACTGTTGGTGAGTGGGAAGGCAGACGTGGGTGCAGAGGGTCTGTGCAGTGATTGGGGATGCACTGGGGATTGGAGGGGGCAGTTGACATGTGTGGGGTGCATGCAGGGGCTTCCTGGAGGAGATAGTCTGAGAGAGGAGGAGGTGAGAAGGGTACTCAAGGATGAGAAAAGAACAGAAACAAAGGCTTGGAGGTGGGGGAAGTGATATTGCCTTTAGGAAATTGATAGAAAATCTGTAGCTGAGATAGTGTGGGGAAGGTATGGCCAGAAATGAGGTGGAAAGTGGAAGCTTGGCCTGGGGAAGTGGTGGAAAGCTCTGGACTTGAACCATGACCCTGGTTCTGTTCAAGGCAGGGCTACTCTCT\n",
      "73M1I4M1I237M1I67M1I7M1D51M2D592M1I355M1I57M1I160M2D176M2D258M\n",
      "0.9902771025765679\n",
      "read_id: test_read_41_719830_721880 \n",
      "\tmap_start 5, map end 2049\n",
      "\t2050\n",
      "GGGTGTTTTCAAACAGAGTCAGAAAAAACACAACTATACTGCGAGCAGCATACAAACCTGCTTTGGCTGCACTTCACTGCTCATGGCATAAGGCCACGAAGAGGCCAATAAAGGCTGGAGCTCAGGAGCATCAACCCAGATTCAAGGCTTCCTCTCTGGCACCCAACCATGAAGCTCCTTTTTCCTATCTTTGCCAGCCTCATGCTACAGTACCAGGTGAACACAGGTAATGTGGATTCCCAAGTTTAAGATGGGTAGATGAGAGGAACCAAGGATTTGGCTGCCCATGACAATGGAAACCCAAAGAGAGGAGACTGAAAGATTAGCTGTTCAAAAAGATGGCTAAAGAGCTTACCTATTGTATCAGTCATGCACTGATACATTCTCATAGGCCCCAACTGCCAGATTGTGTCCAGTGGAAACACCCAGGAAGCTACAGAGAAAGCAGGGTATTTTTTGTCTATTcagaaactatccaaaatataATGCTGCCTTCCTGCCCTGTATATGTCTATCATGCTAAGACTAAGCCCAGGTCTACCTCCTTTTAGCTCTATTTCTATCTTAAaagccctttttttttaaaaaaagtcctgGGGTACTTGTGCAGGATGTgcggtttgttacataggtaaatgtgtgtcatggttatttgctgcacctaccaacccatcgcccaggtattaagcccaggatgcattagctatttttcctgatgctctccctccacccaacaggccccagtgtgtgttgttccccttcctgtgaaaCCACCTCTTGAAGCAAAGTTTCCTATCAGTTTGTGCTTGGTGTAGAAAGGAGGAAGTTCTTCCCTCATgctcaaaaaaaaaccctttcaaGATCAAGTAAACAGGCCTGTGTTCTCCATCTTGAATTCTTTCAGGTTTTCCAGAGCCTTTATCGCTTCTCTCAGACTTTGTCTTCCTGAAAACCCCCAAACTACCATAAGGGCATCTAGGAATGCATTATAGCAAAAGGCTAAGCCAGGGGATTAACCATTGTTtttggaaaagaaaggagaagcacTGAGATTTGTTTCAGAATACAAGAATCATCCAGCtatttgaaaaaattagcaaagggTTTCGGGGCAGGGAAAGTGGAAGTGTCAAAGATGCTTCTAATGTTTTTATCTTCTAATGTTTTTATCTTGGGACCCTAGGAAAAGGGTAGTACCATAAGCAAGTATGGCTGTGTCATCTTGGGTAAAGTCACTTAACCACTTTGAACTTCAATTTCACATGAGTATAATGGGGTTAATCAATGCAGCTGATTCCAATATAAGAATTTTTCTGTTTCCCGTTTGATGAGAAAACAATGTGGAAATGTATGCAAATATGCTTTGAAAATTAGCAGATGCTACATAAATCTCTTGTAATTTAGGGAAAATCATTGGGTTATTAAGATGAACAAGGGAGAAAAGCTTTCTTgattcagaaaaaagaaacacgAGACATTAGGATGGAAAAGTCATTCAGCAGATAAAGATAAGGTACTAAGCCGAGCAGGAAATTTAGAATTATAGATAACAATACAGAAGTTACCTTGGTGGATATGAGGTTAAGGCTAGGATAATGAATGAGACTTCTGAGAGATAGAGTGTCCAAAGAGGCTAGAAGAGATAGAACACCATGCTTCAGGAATCACAGATCTAGTGATTGTTGAGAAGAGAGAAGTCATGGGCTACTGAGTTTGGTGAAAAGATAAGACTCCTGAAAATTCTATTGATTCTCTTTTGAACTTCTTTCTTAAATTAGTTTTATGATGGACTTGGCTCTCATTGGTATTTCCCAAGATTATGGAGATGGGATAGTGATGTCTGACAAGTACCTAAGATGCTAAGTTGAAGGTCTAAAATTCCATCCTAAAAGCAAATAATTACTCTATCATCTACGTGCCCTTTGCTTCTTAAAGTTACTCAAGGAAGGCAGACTAAACAGGAAATTTACTTTGGATTCAAGAGGGGCATAGAGACGCTCTCAGCCTGCCCATTTGCCTTCATCAACATTCCTAAACACTGGGCTTAAAATGTAGTATGAGTAAACTCTCTCTTAGTCTATCCATCTCCCACTAGCAGTT\n",
      "\n",
      "TTTTCAAACAGAGTCAGAAAAAACACAACTATACTGCGAGCAGCATACAAACCTGCTTTGGCTGCACTTCACTGCTCATGGCATAAGGCCACGAAGAGGCCAATAAAGGCTGGAGCTCAGGAGCATCAACCCAGATTCAAGGCTTCCTCTCTGGCACCCAACCATGAAGCTCCTTTTTCCTATCTTTGCCAGCCTCATGCTACAGTACCAGGTGAACACAGGTAATGTGGATTCCCAAGTTTAAGATGGGTAGATGAGAGGAACCAAAGTTTGGCTGCCCATGACAATGGAAACCCAAAGAGAGGAGACTGAAAGATTAGCTGTTCAAAGATGGCTAAAGAGCTTACCTATTGTATCAGTCATGCACTGATACATTCTCATAGGCCCCAACTGCCAGATTGTGTCCAGTGGAAACACCCAGGAAGCTACAGAGAAAGCAGGGTATTTTTGTCTATTCAGAAACTATCAAAATATAATGCTGCCTTCCTGCCCTGTATATGTCTATCATGCTAAGACTAAGCCCAGGTCTACCTCCTTTTAGCTCTATTTCTATCTTAAAAGCCCTTTTTTTTTAAAAAAAGTCCTGGGGTACTTGTGCAGGATGTGCGGTTTGTTACATAGGTAAATGTGTGTCATGGTTATTTGCTGCACCTACCAACCCATCGCCCAGGTATTAAGCCCAGGATGCATTAGCTATTTTTCCTGATGCTCTCCCTCCACCCAACAGGCCCCAGTGTGTGTTGTTCCCCTTCCTGTGAAACCACCTCTTGAAATAAAGTTTCCTATCAGTTTGTGCTTGGTGTAGAAAGGAGGAAGTTCTTCCCTCATGCTCAAAAAAACCCTTTCAAGATCAAGTAAACGGGCCTGTGTTCTCCATCTTGAATTCTTTCAGGTTTTCCAGAGCCTTTATCGCTTCTCTCAGACTTTGTCTTCCTGAAAACCCCAAACTACCATAAGGGCATCTAGGAATGCATTATAGCAAAAGGCTAAGCCAGGGGATTAACCATTGTTTTTGGAAAGAAAGGAGAAGCACTGAGATTTGTTTCAGAGATACAAGAATCATCCAGCTATTTGAAAAAATTAGCAAAGGGTTTCGGGGCAGGGAAAGTGGAAGTGTCAAAGATGCTTCTAATGTTTTTATCTTCTAATGTTTTTATCTTGGGACCCTAGGAAAAGGGTAGTACCATAAGCAAGTATGGCTGTGTCATCTTGGGTAAAGTCACTTAACCACTTTGAACTTCAATTTCACATGAGTATAATGGGGTTAATCAATGCAGCTGATTCCAATATAAGAATTTTTCTGTTTCCCGTTTGATGAGAAAACAATGTGGAAATGTATGCAAATATGCTTTGAAAATTAGCAGATGCTACATAAATCTCTTGTAATTTAGGGAAAATCATTGGGTTATTAAGATGAACAAGGGAAAAGCTTTCTTGATTCAGAAAAAGAAACACGAGACATTAGGATGGAAAAGTCATTCAGCAGATAAAGATAAGGTACTAAGCCGAGCAGGAAATTTAGAATTATAGATAACAATACAGAAGTTACCTTGGTGGATATGAGGTTAAGGCTAGGATAATGAATGAGACTTCTGAGAGATAGAGTGTCCAAAGAGGCTAGAAGAGATAGAACACCATGCTTCAGGAATCACAGATCTAGTGATTGTTGAGAAGAGAGAAGTCATGGGCTACTGAGTTTGGTGAAAGATAAGACTCCTGAAAATTCTATTGATTCTCTTTTGAACTTCTTTCTTAAATTAGTTTTATGATGGACTTGGCTCTCATTGGTATTTCCCAAGATTATGGAGATGGGATAGTGATGTCCTGACAAGTACCTAAGATGCTAAGTTGAAGGTCTAAAATTCCATCCTAAAAGCAAATAGTACTCTATCATCTACGTGCCCTTTGCTTCTTAAAGTTACTCAAGGAAGGCAGACTAAACAGGAAATTTACTTTGGATTCAAGAGGGGCATAGAGACGCTCTCAGCCTGCCCATTTGCCTTCATCAACATTCCTAAACACTGGGCTTAAAATGTAGTATGAGTAAACTCTCTCTTAGTCTATCCATCTCCCACTAGCAGTT\n",
      "269M1D57M2D118M1D22M1D366M2D108M1D76M1D33M1I373M2D20M1D260M1D120M1I57M1D202M\n",
      "0.9900095147478591\n",
      "read_id: test_read_42_227120_229220 \n",
      "\tmap_start 5, map end 2100\n",
      "\t2100\n",
      "TTTTCAGTGTTGTTACTGATGTTGCTCAGTGTACTGTGATTACATGAGAGCCTTATATTTAGGAAATATGTCCTGAAACACTTGGGGTAAAAAGATGTCATGTTTGCAACTTACTCTTAAATAGTTCAGAGAAAAAGTGTATGTCTATGTGTAAAgcgaaggaaagacagaaagcagCTAAAAAAGCaaatgtaggccaggcgcggtggctcacgcctgtaatcccagcactttgggaggcagaggcaggtggatcacgaggtcaggagatcgagaccatcctggctaatatggtgaaaaaccccgtctctaataaaaaatacaaaaaattagctgggcgtggtggcaggcgcctgtagtcccagctacttgggaggctgaggcaggagaatggcatgaacccaggaaccagagcttgcagtgagctgagatcgtgccactgcactgcagcccgggcgagagagcaagactccgtctccaagaaaaaaaaagcaaatgtagtaaaatgtgaaaacaaaaggaaatctgGGTAAAAGGTATCTGGGGAATTCTTTGTCCTATTTTTACAACCTTTCAGTAagtatgaaattatataaaaataaaaaaattttaaagttacacGGTCCCCTTTAAACCAAAGCAAACGTTACAGGAAAAACTGATCCTCTTGATCCAAAGATGTATTATAGCTGGAAATAGGGAAGCCTGTCTCAGGAGTTCTTTCAGGGAGTTCTTTTACTGCTGGAGCTAGTGCTGCCAGCAGTAAAAATGCCTTGGCCTTATGAGCCAGGTTAGAAGAATGGCACATGCACAGCTTCTCCACACCATTAGCTTTCAGTTACAAACACATACTCAGAGAGAGAAAGCAGCTAATGTAAGGGCCCAAACTAAACCGGACAAAGGATTGCAGGTAAGAGCAAAACTCACCTCTTGCCCATATTTACCCCACCCCTTCTCAAATAAAAAGCATACCCTAAAAGATAAATAAGGAAACGAAGCAAACCCAGGGCTGCTGATAGGTGAAGCAGTGAAAGGAGTGAGAGTAAAAATTAAACCCTGTGTGAATTTTCAGCAGAAAAGCAGTGAGCCAAGCCCAGAAGAccatgaatggaaaaagaatatgAAGCCACACTGTAAGTTCAGCCTACAGAAAGCGTATCACAGATATTACATCAATGGAAGAGGAATAAAGGGTTCAGAGGGAAAACAGGTTACCTAGGAAAAAATGggggtggctcttgcctgtaatcccagcactttgggaggctgaggtacgtgcatcacctgaggtcaggagttcgagagcagcctggccaacatggtgaaaccccatctctattaaaaacacacacacacaaaattagctgggcgtggtggcgggcacctgtaatcccagctacttgggaggctgaggcaggagaactgcctgaacctgggaggcggaggttgtagtgagctgagacagtgccattgcactccagcctgcaacaagagtgaaactctgtctttaaaaaaaaaaaaaaaagggaggcatCTGTCCTATATGATCTCATCCAAACCAGCAGGCTAGGAAAAGGGAATGGACCGTGGGCATGTGCTTTTATCAAAACCACGCTGGCAGGCTACTGCTACCTGGGTATTGCAAGAATCTGTCCAGGGAGCAAGAATGCCAGCAGGAAAGCAGCCCCTTCAACAACAAAAGCCAGGCCAGAGCACAGTGCAGAAGAGGGAGGCAGCCAGCTTAGAGGCTCCTGTTCCCTTTAGCAATTCTCCTCTCTTCATGACCTAAAGGTGGAGTtgccagaggaagaaaaataggtcATCCATGTGAGGTTTGTTGCCCAGTTCCCTTCACTGTGAAAATTGAGACAACggtccttcttttctttcttcctgaaataaAGAGGTAATTTTAGgaatacattcttttttgtttgtttgttttgtttttatttatttatttttttatctattGCTGCTTAATTTGTTAATTAAGGAATATACTCTTACACAAACAGGGAATGGCCTCTCTTCCCTCTAAGGAATCTTACATATGTATGCGCAAGGTACCATCGTTTTTAAACCTAATTAAGATATTACTCATTCTTGTTGGTGCCCAATTCCACACCAATCTGCTCTTTAATGCCAGA\n",
      "\n",
      "AGTGTTGTTACTGATGTTGCTCAGTGTACTGTGATTACATGAGAGCCTTATATTTAGGAAATATGTCCTGAAACACTTGGGGTAAAAGATGTCATGTTTGCAACTTACTCTTAAATAGTTCAGAGAAAAAGTGTATGTCTATGTGTAAAGCAGAAGGAAAGACAGAAAGCAGCTAAAAAAGCAAATGTAGGCCAGGCGCGGTGGCTCACGCCTGTAATCCCAGCACTTTGGGAGGCAGAGGCAGGTGGATCACGAGGTCAGGAGATCGAGACCATCCTGGCTAATATGGTGAAAAACCCCGTCTCTAATAAAAATACAAAAAATTAGCTGGGCGTGGTGGCAGGCGCCTGTAGTCCCAGCTACTTGGGAGGCTGAGGCAGGAGAATGGCATGAACCCAGGAACCAGAGCTTGCAGTGAGCTGAGATCGTGCCACTGCACTGCAGCCCGGGCGAGAGAGCAAGACTCCGTCTCAAAGAAAAAAAAAGCAAATGTAGTAAAATGTGAAAACAAAAGGAAATCTGGAGTAAAAGGTATCTGAAATTCTTTGTCCTATTTTACAACCTTTCAGTAAGTATGAAATTATATAAAAATAAAAAAATTTTAAAGTTACACGGTCCCCTTTAAACCAAAGCAAACGTTACAGGAAAAACTGATCCTCTTGATCCAAAGATGTATTATAGCTGGAAATAGGGAAGCCTGTCTCAGGAGTTCTTTCAGGGAGTTCTTTTACTGCTGGAGCTAGTGCTGCCAGCAGTAAAAATGCCTTGGCCTTATGAGCCAGGTTAGAAGAATGGCACATGCACAGCTTCTCCACACCATTAGCTTTCAGTTACAAACACATACTCAGAGAGAAAGCAGCTAATGTAAGGGCCCAAACTAAACCGGACAAAGGATTGCAGGTAAAGAGCAAAACTCACCTCTTGCCCATATTTACCCCACCCCTTCTCAAATAAAAAGCATACCCTAAAAGATAAATAAGGAAACGAAGCAAACCCAGGGCTGCTGATAGGTGAAGCAGTGAAAGGAGTGAGAGTAAAAATTAAACCCTGTGTGAATTTTCAGCAGAAAAGCAGTCAGGCCAAGCCCAGAAGACCATGAATGGAAAAAGAATATGAAGCCACACTGTAAGTTCAGCCTACAGAAAGCGTATCACAGATATTACATCAATGGAAGAGGAATAAAGGGTTCAGAGGGAAAACAGGTTACCTAGGAAAAAATGGGGGTGGCTCTTGCCTGTAATCCCAGCACTTTGGGAGGCTGAGGTACGTGCATCACCTGAGGTCAGGAGTTCGAGAGCAGCCTGGCCAACATGGTGAAACCCCATCTCTATTAAAAACACACACACACAAAATTAGCTGGGCGTGGTGGCGGGCACCTGTAATCCCAGCTACTTGGGAGGCTGAGGCAGGAGAACTGCCTGAACCTGGGAGGCGGAGGTTGTAGTGAGCTGAGACAGTGCCATTGCACTCCAGCCTGCAACAAGAGTGAAACTCTGTCTTTAAAAAAAAAAAAAAAAAGGGAGGCATCTGTCCTATATGAATCTCATCCAAACCAGCAGGCTAGGGAAAAGGGAATGGACCGTGGGCATGTGCTTTTATCAAAACCACGCTGGCAGGCTACTGCTACCTGGGTATTGCAAGAATCTGTCCAGGGAGCAAGAATGCCAGCAGGAAAGCAGCCCCTTCAACAACAAAAGCCAGGCCAGAGCACAGTGCAGAAGAGGAGGCAGCCAGCTTAGAGGCTCCTGTTCCCTTTAGCAATTCTCCTCTCTTCATGACCTAAAGGTGGAGTTGCCAGAGGAAGAAAAATAGGTCATCCATGTGAGGTTTGTTGCCCAGTTCCCTTCACTGTGAAAATTGAGACAACGGTCCTTCTTTTCTTTCTTCCTGAAATAAAGAGGTAATTTTAGGAATACATTCTTTTTTGTTTGTTTTGTTTTGTTTTTATTTATTTATTTTTTTATCTATTGCTGCTTAATTTGTTAATTAAGGAATATACTCTTACACAAACAGGGAATGGCCTCTCTTCCCTCTAAGGAATCTTACATATGTATGCATGAGTACCATCGTTTTTAAACCTAATTAAGATATTACTCATTCTTGTTGGTGCCCAATTCCACACCAATCTGCTCTTTAATGCCAG\n",
      "83M1D68M1I157M1D214M1I13M2D16M1D293M2D56M1I174M1I423M1I37M1I23M1I158M1D209M1I122M2D5M1I83M\n",
      "0.9884205650764243\n",
      "read_id: test_read_43_442621_444771 \n",
      "\tmap_start 5, map end 2149\n",
      "\t2150\n",
      "GCAGCGAGCCCAGCTGCACCGCCGCCCCGCACCACAAGAGGGCGCTGCGGCTGAGGTCGCGCAGGACCACGCCCAGCATCACCTTGACGTAACTGAGGCAGCCGCTGAAAAGCACCCACGAGGCCACCTGCGGGGCCGGGAGGGAAGAGGTGCAGAGTCACGGGGCTTGCGGGGCGAGCGCCGGAGCAAAGAACTCTCACAGGGCTCAGGGGAACCCACGGAATACTCTCTAGGTGCGAGGAGCGCCTTCTGGGAGTGAGCCTGCGGGGCCGACGGGTCCCATGAGTTGGCCGCCCGGGGGCGAAGGAGAATCCAGTGGCTTTTCTGGGTTCACGTGCCCATGATCAGGGCAAGGGCCCTTGAGAGAAGGCCCCTGCTGAGGTACACATGGTGGGAAGAGGCCTACCAGTCACCTCGATTCCCTAAGCCTCCACTCCCAAATGAGGAAGGGGCGCTTCCCCCACCTGGGGCTTCCCGGGAGGGTCCCACAGACCCCGCTCGCTGGAAAGGGCCGCGCCCAAGCTCTCCCAGGCCTTGGCTAGGGGTGAGGGGTACGCAGCGGGAGCAGCCCCACCGGCCGGATACTCACAATGAGGACTTCCCCACCCCAGTGGCCCTGCAAGAGGGGGCAGGGGCTCATCACCGCCATGGCCATGTTGTAGCCCCCAAAGCAGGTCCCAAGCACGGAGAGGACCCCCAGGAACAGCAGAGACCTAGAGGAAAGTAGGGGAGGTGAGTGGAGGTGAGAAGCCTGACCTCTGACCCCCCCGCCCCACTGGGCGGCATGTGGATGGCCAGTGTCTCCATAGTTAGTTTAGACCCATGTGGAAAATTCCAGGTTGCCTGGCTCAAGTGGGTCAGGGAGGCTCCTGAGCAGGCAGGGCTGGCCTGAGTCATCCCCAGCATTAACGGCAGGGCCTGGCACCCCGGCAAGAAAAACATAATGGACTCTGGCACCGGATGGtcctggttcaaatcccagttctactGTTTAAGCTGAGACTCGCCTCTGAGCCTCCAAATCGGAGTTTTGCAAGGCTGCATGACCTCCAGGAGCAGAGCATGCAGGCCTGGCGCCGCTGTGGGCCCACCTGGTGTTTACCTGCTGGCATTTCCTCCTGCAACACACCCTCAGCCTCAGCCAGGAAGCTGAGTTGAAGTGAAGATGGCTGGATCGGGCATTGGCACAGTAGGGTTTGCTGTGCCTCCTCAGGAGACCCCTCCCCTTCTGGCCTCAGCTACCTGCCTCTGCAATGTGGAGTGTGCTGATCTCCAGGGGTCCTGGCAGCTGGCTTGTTGCTGCTAGGAGCATCTCTCTACAGGTGGCCTTCCATGCAAACCTACATCTGGGACCACTGTCCTTCCTCACAGGTCCTTGTCCCTGGGGTCCCAATCTCTAGAACCCCAAGACTGGTCCACGCCCTGGGTAAGAACAGACAGAGGTCTGCCTATACCCTTAAAGACTCTTTCTGCTCCAAGATTCTTGGATTCCATGACTCAGATTCTGTAATTCTAACATTTGGGGTTTCTTGGATTTGCAGGTCTGAGCCTTTGGTCCTGCTTCCCTCAAATCCTCCATCCTCTTTCCAGTTTCTAGGTCCCAAGGTAGAAAATCCAGCTTCCTGGCAAGCTTTCTGTCAAGCTCTTCTGTCCTCACTGTCCTTCTTCTGGGCTGGGAGAGTGGGTGTAAGCAGGCCAGTGAGGACAGGCAGGCCAGCGTGGATACGAGGCTGTAGGACCCACCTCAAATGTCAAGATCCCAAGGTGGTAGTTCTCCTACAGGGGTCTGAAGCCCCTGCCTCAGAACCGTCTGGTTTCCTTACTAAAAATTGAAATCCCAGGTCCCAGTCTAGGCTGGTTCAATCTGCATTTTATCAACTTGCCCAGCCATTCTTCTAGAACTGTGGCTCTAAGGGAACCAGCAGGAGGTTagaggcaggaaggcagggccGAAATCCTGGGAATTAGACCAGGTCAAGCTCTTTCTCCAAGCCTcagggtttccccttataaacgGGAACCTCAGTGGCTATCTGCTCCTCCTCATGGACTGATGACAATGATGGTCAACGCTTAGGCTGGACCTGCCACGTGCCAGGCACCGCTCCAAGAGCTTTATAGAATCAGCTCATATCATGCTTCCAGCAGTCCTAGGAGGTGGAATGTTACACTCCCATTTTCCGATAAATATCCCTGAGGC\n",
      "\n",
      "GAGCCCAGCTGCACCGCCGCCCCGCACCACAAGAGGGCGCTGCGGCTGAGGTCGCGCAGGACCACGCCCAGCATCACCTTGACGTAACTGAGGCAGCCGCTGAAAAGCACCCACGAGGCCACCTGCGGGGCCGGGAGGGAAGAGGTGCAGAGTCACGGGGCTTGCGGGGCGAGCGCCGGAGCAAAGAACTCTCACAGGGCTCAGGGGAACCCACGGAATGCCTCTCTAGGTGCGAGGAGCGCCTTCTGGGAGTGAGCCTGCGGGGCCGACGGGTCCCATGAGTTGGCCGCCCGGGGGCGAAGGAGAATCCAGTGGCTTTTCTGGGTTCACGTGCCCATGATCAGGGCAAGGGCCCTTGAGAGAAGGCCCCTGCTGAGGTACACATGGTGGGAAGAGGCCTACCAGTCACCTCGATTCCCTAGGCCTCCCTCCCAAATGAGGAAGGGGCGCTTCCCCCACCTGGGGCTTCCCGGGAGGTCCCACAGACCCCGCTCGCTGGAAGGGCCGCGCCCAAGCTCTCCCAGGCCTTGGCTAGGGGTGGGGGTACGCAGCGGGAGCAGCCCACCGGCCCGGATACTCACAATGAGGACTTCCCCACCCCAGTGGCCCTGCAAGAGGGGGCAGGGGCTCATCACCGCCATGGCCATGTTGTAGCCCCCAAAGCAGGTCCCAAGCACGGAGAGGACCCCCAGGAACAGCAGAGACCTAGAGGAAAGTAGGGGAGGTGAGTGGAGGTGAGAAGCCTGACCTCTGACCCCCCGCCCCACTGGGCGGCATGTGGATGGCCAGTGTCTCCATAGTTAGTTTAGACCCATGTGGAAAATTCCAGGTTGCCTGGCTCAAGTGGGTCAGGGAGGCTCCTGAGCAGGCAGGGCTGGCCTGAGTCATCCCCAGCATTAACGGCAGGGCCTGGCACCCCGGCAAGAAAAACATAATGGACTCTGGCACCGGATGGTCCTGGTTCAAATCCCAGTTCTACTGTTTAAGCTGAGACTCGCCTCTGAGCCTCCAAATCGGAGTTTTGCAAGGCTGCATGACCTCCAGGAGCAGAGCATGCAGGCCTGGCGCCGCTGTGGGCCCACCTGGTGTTTACCTGCTGGCATTTCCTCCTGCAACACACCCTCAGCCTCAGCCAGGAAGCTGAGTTGAAGTGAGATGGCTGGATCGGGCATTGGCACAGTAGGGTTTGCTGTGCCTCCTCAGGAGACCCCTCCCCTTCTGGCCTCAGCTACCTGCCTCTGCAATGTGGGTGGTGCTGATCTCCAGGGGTCCTGGCAGCTGGCTTGTTGCTGCTAGGAGCATCTCTCTACAGGTGGCCTTCCATGCAAACCTACATCTGGGACCACTGTCCTTCCTCACAGGTCCTTGTCCCTGGGGTCCCAATCTCTAGAACCCCAAGACTGGTCCACGCCCTGGGTAAGAACAGACAGAGGTCTGCCTATACCCTTAAAGACTCTTTCTGCTCCAAGATTCTTGGATTCCATGACTCAGATTCTGTAATTCTAACATTTGGGGTTTCTTGGATTTGCAGGTCTGAGCCTTTGGTCCTGCTTCCCTCAAATCCTCCATCCTCTTTCCAGTTTCTAGGTCCCAAGGTAGAAAATCCAGCTTCCTGGCAAGCTTTCTGTCAAGCTCTTCTGTCCTCACTGTCCTTCTTCTGGGCTGGGAGAGTGGGTGTAAGCAGGCCAGTGAGGACAGGCAGGCCAGCGTGGATGCGAGGCTGTAGGACCCACCTCAAATGTCAAGATCCCAAGGTGGTAGTTCTCCTACAGGGGTCTGAAGCCCCTGCCTCAGAACCGTCTGGTTTCCTTACTAAAAATTGAAATCCCAGGTCCCAGTCTAGGCTGGTTCAATCTGCATTTTATCAACTTGCCCAGCCATTCTTCTAGAACTGTGGCTCTAAGGGAACCAGCAGGAGGTTAGAGGCAGGAAGGCAGGGCCGAAATCCTGGGAATTAGACCAGGTCAAGCTCTTTCTCCAAGCCTCAGGGTTTCCCCTTATAAACGGGAACCTCAGTGGCTATCTGCTCCTCCTCATGGACTGATGACAATGATGGTCAACGCTTAGGCTGGACCTGCCACGTGCCAGGCACCGCTCCAAGAGCTTTATAGAATCAGCTCATATCATGCTTCCAGCAGTCCTAGGAGGTGGAATGTTACACTCCCATTTTCCGATAAATATCCCTGAGG\n",
      "219M1I208M1D47M1D24M1D41M1D20M1D8M1I185M1D399M1D1036M\n",
      "0.9931880108991825\n",
      "read_id: test_read_44_761111_763311 \n",
      "\tmap_start 5, map end 2199\n",
      "\t2200\n",
      "gggaggtggaggttgcagtgagctgagatagtgccattgcactccagcccgggcaatgagagtgaaactctgtctcaaaaaaaaaaaaaaaaaaaagtaggaagcAAATGACTAAATGTAGAAGAATAGGAGTTGGCAACCACCATAGGAGACAATCATTAATGGACACTGCAGTAGTGGATTAAAGTTTGATGAGAAATAGGGCATTTGCACAGTCTGAGAATATCTCCCCCCAagatacttattaattacaaagggtaaaatagtaactttacatGGAGAAACACAGCCAACACCACTTGACCAAGTGATAAAGTGAACATCACCAGTAGCAGGGCAAATTGACATCATGTGGCTTCCGGGATGATGCACTGAGTGGGACGTCGCGTCACGTCAGTGATATTTCTGCCAAAGAGGCATAATTGACTCATGAGGAAGCATTAGAAAAGCccaaagtggccaggcacagtgactcacacctgtaatcccagcactttgggaggctgaggtgggcagatcacgaggtcaggagttcgagacaagcctgaccaacatggtgaaaccctgtttctactaaaaatacaaaaattagctgggcatggtggcgtgcgcctgtagtcccaactactcaggaggctgaggcaagaaaatcgcttgaacccaggaggcagaggttgcagtgagccgagattgcaccactgcactctagcctgggcaacagagcaagactccgtctaaaaaaaaaaaaatgtccaaagtGAGGATATCTTTGCAAGAGAACcttactctttaaaaatgttgaagtgGTAAAAGACAAAGGAAGACTGAGGAATAGTTTTAGATGAAGGAGAATAAAGTAATTACAACTACTGAATGCAATGTGAGATCctagattaagaaaaaatcattttcactTACTACAAAATATATTAACTAGATGAGTGGTGAAATTTGAATAAGATCTGTAGATTAGATAATGGTTTTGCATCAGTGTAAAACGTCCCGATTTTGGTTATTATAagagaatgtccttccttttagGAAATGTGTACTGGTTTTTAGGCCTGTAACTTACCATAAAAGAGTTCAGGgttggaggaaagaaaaataaatgataaagcaAAGATGGTAAAATCTGGGTAATGGGTATTTGgctattctgtttttgtttttgagacagggtctcactctgttacccaggctggagtgcagtggtgtgatcatagctcactgcagcctcaacctcccaggctcaagcaatgctcccacctcaacctcctgagtagctgggaccacagttgcgcaccaccacacctgactcatttttaaatattttttagagatggggtctccctgtgttgcccaggctggtctcaaattctaggctcaagcaatcctcccatctcagccttccaaaatgctgagattttaGGTGTTAGCCATTGTGGCTGGTGAGATTTGAGTGTTCTTTGTACtactttgtaacttttctgtaagtgACATTATGTCAAAATAAATTCTAACAAGAGAGAATAGAAGGAAAGGAAGTAGAGACATGGAGGCAGTGAGTCCAGGTAACTTTTTGAGGAGTTTTGCTATAGAACTGAGGACAGGTGGCAGGTGGAGAGCAAAATGGGGTCAAGATAAGTTGTTCAAAGGCAGAAATTGTAGCATGTTTTTATGCTGATGAGAGAGATTCAGTagattggaaaaaaaagtaataatgcagacagagagagagaagagagtggcTAGAATGGTGTCTCTGGAGAGAAGGATGGGATCTAGTATACAAATGGGGGCTTTGACCTTGGAGCACAGATGGCTCATCCATGGTCACAGAAGGGAGGGCAGAGTATTTGGGTACCAGATTGGTAGGTAGGTAGCTGTGCAGTGGAAATGTGTGGAAATGCTTTCTGATTGCTACCATTTTCCCTGTGAAATAGGAAGCAAGGTCCTTGGCTAAGAGTGAGAATGGGGGAGAAGGTGATGGAGGTTTGAAAAGATAGGAAGGAAGTGTGTAGGGAAAATGAATGGATCTACTGTGATTGTCAGGCAGAACAAAAGACACCACTGAAGCTATCATCATTCAAGTAAAGTGAGGCCAGTCTACATGGTGGTGTGTTTTTCTCCAGCCACATTCCACTGCAGGGGGACAAACACAGAGGGATGTGGAGTTGGCACCAACTAACAGGTGTTTAGTCAGAGAGGGTCAGGGGGATCTTGGGAGTATGCAGCACAGTGGGGATA\n",
      "\n",
      "TGGAGGTTGCAGTGAGCTGAGATAGTGCCATTGCACTCCAGCCCGGGCAATGAGAGTGAAACTCTGTCTCAAAAAAAAAAAAAAAAAAAGTAGGAAGCAAATGACTAAATGTAGAAGAATAGGAGTTGGCAACCACCATAGGAGACAATCATTAATGGACACTGCAGTAGTGGATTAAAGTTTGATGAGAAATAGGGCATTTGCACAGTCTGAGAATATCTCCCCAAGATACTTATTAATTACAAAGGGTAAAATAGTAACTTTACATGGAGAAACACAGCCAACACCACTTGACCAAGTGATAAAGTGAACATCACCAGTAGCAGGGCAAATTGACATCATGTGGCTTCCGGGATGATGCACTGAGTGGGACAGTCATGATCACGTCAGTGATATTTCTGCCAAAGAGGCATAATTGACTCATGAGGAAGCATTAGAAAAGCCCAAAGTGGCCAGGCACAGTGACTCACACCTGTAATCCCAGCACTTTGGGAGGCTGAGGTGGGCGGATCACGAGGTCAGGAGTTCGAGACAAGCCTGACCAACATGGTGAAACCCTGTTTCTACTAAAAATACAAAAATTAGCTGGGCATGGTGGCGTGCGCCTGTAGTCCCAGCTACTCAGGAGGCTGAGGCAAGAGAATCGCTTGAACCCAGGAGGCAGAGGTTGCAGTGAGCCGAGATTGCACCACTGCACTCTAGCCTGGGCAACAGAGCAAGACTCCGTCTAAAAAAAAAAAATGTCCAAAGTGAGGATATCTTTGCAAGAGAACCTTACTCTTTAAAAATGTTGAAGTGGTAAAGACAAAGGAAGACTGAGGAATAGTTTTAGATGAAGGAGAATAAAGTAATTACAACTACTGAATGCAATGTGAGATCCTAGATTAAGAAAAATCATTTTCACTTACTACAAAATATATTAACTAGATGAGTGGTGAAATTTGAATAAGATCTGTAGATTAGATAATGGTTTTGCATCAGTGTAAAACGTCCCGATTTTGGTTATTATAAGGGAGTAGTCCTTCCTTTTAGGAAATGTGTACTGGTTTTTAGGCCTGTAACTTACCATAAAAGAGTTCAGGGTTGGAGGAAAGAAAAATAAATGATAAAGCAAAGATGGTAAAATCTGGGTAATGGGTATTTGGCTATTCTGTTTTTGTTTTTGAGACAGGGTCTCACTCTGTTACCCAGGCTGGAGTGCAGTGGTGTGATCATAGCTCACTGCAGCCTCAACCTCCCAGGCTCAAGCAATGCTCCCACCTCAGCCTCCTGAGTAGCTGGGACCACAGTTGCGCACCACCACACCTGACTCATTTTTTAAATATTTTTTAGAGATGGGGTCTCCCTGTGTTGCCCAGGCTGGTCTCAAATTCCTAGGCTCAAGCAATCCTCCCATCTCAGCCTTCCAAAATGCTGAGATTTTAGGTGTTAGCCATTGTGGCTGGTGAGATTTGAGTGTTCTTTGTACTACTTTGTAACTTTTCTGTAAGTGACATTATGTCAAAATAAATTCTAACAAGAGAGAATAGAAGGAAAGGAAGTAGAGACATGGAGGCAGTGAGTCCAGGTAACTTTTGAGGAGTTTGCTATAGAACTGAGGACAGGTGGCAGGTGGAGAGCAAAATGGGGTCAAGATAAGTTGTTCAAAGGCAGAAATTGTAGCATGTTTTTATGCTGATGAGAGATTCAGTAGATTGGAAAAAAAGTAATAATGCAGACAGAGAGAGAGAAGAGAGTGGCTAGAATGGTGTCTCTGGAGAGAAGGATGGGATCTAGTATACAAATGGGGGCTTTGACCTTGGAGCACAGATGGCTCATCCATGGTCACAGAAGGGAGGGCAGAGTATTTGGGTACCAGATTGGTAGGTAGGTAGCTGTGCAGTGGAAATGTGTGGAAATGCTTTCTGATTGCTACCATTTTCCCTGTGAAATAGGAAGCAAGGTCCTTGGCTAAGAGTGAGAATGGGGGAGAAGGTGATGGAGGTTTGAAAAGATAGGAAGGAAGTGTGTAGGGAAAATGAATGGATCTACTGTGATTGTCAGGCAGAACAAAAGACACCACTGAAGCTATCATCATTCAAGTAAAGTGAGGCCAGTCTACATGGTGGTGTGTTTTCTCCAGCCACATTCCACTGCAGGGGACAAACACAGAGGGATGTGGAGTTGGCACCAACTAACAGGTGTTTAGTCCAGAGAGGGTCAGGGGGATCTTGGGAGTATGCAGCACAGTGGGGAT\n",
      "70M1D151M2D152M1I6M1I348M1D71M1D89M1D128M1I295M1I58M1I199M1D10M1D97M2D19M1D414M1D25M1D52M1I46M\n",
      "0.9884751773049646\n",
      "read_id: test_read_45_553259_555509 \n",
      "\tmap_start 6, map end 2249\n",
      "\t2250\n",
      "AatataactaaaaaatattttcctggaaGTTTTTGCACAACAGAAAGGAGTTGCAATACAAAGCATAAGTTTAACACCTGCTAGATATGTGTTCTCTGAGGAACCCCAAGCCTACCTGATGGGTGTCAGATTCTCTCCCTGCTACAGCTATTTGTCAAACTCTTGAAAGTCCAGCTTTCCTTCCCATGGAAGGAAAATTCCCACGGAATGCTCTCTTCCGTGTTTACccacagaaaggagagaaaggttCTTTCTCACACAAGTCTAAGGCCTTCCTCTAAGTCACCTTTTCCTATCATAGAACTCACCCAGCACTTCTCAGGATAAATGATACTGCAGAATATGAGTTTGCTTCAGGGAAATCCCATACCCACTGTGAAAAATATGGTAACTCTCCAATATCAGTTCTCCCCCTTTGCTAAGTAATAGAACCCTCCAAATATTAGGTTGACACAAAGCCGACCAGAGAAAAGGCTGAATTTCCCATCTAGAACTGGTCATTCTTCAATTCAGACCAGCCATAACTGGACACTTTTGCAAATATTCATTAATAGTCTTGGTGAAAACCTCAGATTTCCATTTTGCCAAAGTTTCCAAAGGAAAAGAGGGCCTTTTTCTAAGCCCTGAGAGCCCCACAGTGACAGTAAGTTCTCCCTTGGAATTCACCCTGGCATACCTCGGTGCTACCCCAGATCCTTTCCCTCAGGGGCTATGAGATTAGGTTTCATGGCCGAATGTGACggttcatgcctttaatcccaacactttgggaggccgaggcaggaggatggcttgagcccaggagtttgagaccagtctgggcaacatcatgagactctgtctatgtaaaaaataaaaattaaccaggtgtcaTGGTACATAACTCCAGTCCCTGCTACTgtggggcaggggctgtgggggctgaggagggaggattgcttgagcccagaaggttgaggctgcagtgagctgtggtcgtaccactgcactccagcctgggcaacagagcaagaccctgccttttaaagaaaaagagaaaggaggttgggcatggtggctcatgcctataatcccaccactttgggaggccgaggcaggtggatcacctgaggtcaggagttcgagaccagactggacaacatggtgaaaccccatttctactaaaaatacataaattagctgggtgtggtggcgggcacatgtaatcccagctactcaggaggctgaggcaggagaattgcttgaacctgggaggcgaaggttgcagtgagtcgagattgtgccactgcactccagcctgggtgacaaaagcaaaactccatctctaaataaataaataaaaataaaaaagagagagagtgagattaGGACTCACCCTGGCCATCCCAGGTCCTGCCACTCCAGGTCCTGCCACTCAGGGACTGTGTGActctatattttttttaacttctcaggCCAATATTAGAACCCAATCTGATCAAATTAGAAACCTATGAACATTCCACTTACTAGCAGTGCATTCATGGAGCACTTCACAGGGAGTCACCAAagtatcaatcaatcaataaactaCTACCCTACCCtgaactattaggttggtgcaaagtaattgcagtttttgcattgttggaatttgCTGTTTGATATTAGAATGcgttcttaaataaatgtggttatgttacactttttttttttttttttttgagatggagtttcgctcttgttgcccaggctggagtgcaatggtgtgatcttggctcaccgtaacctcctcctcccgggttcaagctattctcctgcctcagcctccctagaagctgggattacaggcctgtgccaccatgactgactaattttgtatttttagtagagacggggtttctccatgttgatcaggctggtctctaactcctgacctcaggtgatgcacccgcctcagcctcccaaagtgctgggattacaggcatgagtcactgctcccggcctatacatcattttaataggcatttctcactttatgttttttgataatgacttattacttgctgttgattttatgtttattttagactatggaaatgatgtcagacaaaaagaaaattcaagcgattttcttattcaagttcaaaatgggtcgtaaagcagcagagacaactTGCAACATCGACTGCGCATCTGGTCCAGGAACTGCTAACGAACGTACAGTGCAGTCGTGGTTCaaaaagttttgcaaaggagaggAGAACCTCGAAGATGAGGAATGTAGTGGCCGGCCGTTGGAAGTTGACAACCaccaattg\n",
      "\n",
      "AACTAAAAAATATTTTCCTGGAAGTTTTGCACAACAGAAAGGAGTTGCAATACAAAGCATAAGTTTAACACCTGCTGAATATGTGTTCTCTGAGGAACCCCAAGCCTACCTGATGGGTGTCAGATTCTCTCCCTGCTACAGCTATTTGTCAAACTCTTGAAAGTCAGCTTTCCTTCCCATGGAAGGAAAATTCCCACGGAATGCTCTCTTCCGTGTTTACCCACAGAAAGGAAGAAAGGTTCTTTCTCACACAAGTCTAAGGCCTTCCTCTAAGTCACCTTTTCCTATCATAGAACTCACCCAGCACTTCTCAGGATAAATGATACTGCAGAATATGAGTTTGCTTCAGGGAAATCCCATACCCACTGTGAAAAATATGGTAACTCTCCAATATCAGTTCTCCCCCTTTGCTAAGTAATAGAACCCTCCAAATATTAGGTTGACACAAAGCCGACCAGAGAAAAGGCTGAATTTCCCATCTAGAACTGGTCATTCTTCAATTCAGACCAGCCATAACTGGACACTTTTGCAAATATTCATTAATAGTCTTGGTGAAAACCTCAGATTTCCATTTTGCCAAAGTTTCCAAAGGAAAAGAGGGCCTTTTTCTAAGCCCTGAGAGCCCCACAGTGACAGTAAGTTCTCCCTTGGAATTCACCCTGGCATACCTCGGTGCTACCCCAGATCCTTTCCCTCAGGGGCTATGAGATTAGGTTTCATGGCCGAATGTGACGGTTCATGCCTTTAATCCCAACACTTTGGGAGGCCGAGGCAGGAGGATGGCTTGAGCCCAGGAGTTTGAGACCAGTCTGGGCAACATCATGAGACTCTGTCTATGTAAAAAATAAAAATTAACCAGGTGTCATGGTACATAACTCCAGTCCCTGCTACTGTGGGGCAGGGGCTGTGGGGGCTGAGGAGGGAGGATTGCTTGAGCCCAGAAGGTTGAGGCTGCAGTGAGCTGTGGTCGTACCACTGCACTCCAGCCTGGGCAACAGAGCAAGACCCTGCCTTTTAAAGAAAAAGAGAAAGGAGGTTGGGCATGGTGGCTCATGCCTATAATCCCACCACTTTGGGAGGCCGAGGCAGGTGGATCACCTGAGGTCAGGAGTTCGAGACCAGACTGGACAACATGGTGAAACCCCATTTCTACTAAAAATACATAAATTAGCTGGGTGTGGTGGCGGGCACATGTAATCCCAGCTACTCAGGAGGCTGAGGCAGGAGAATTGCTTGAACCTGGGAGGCGAAGGTTGCAGTGAGTCGAGATTGTGCCACTGCACTCCAGCCTGGGTGACAAAAGCAAAACTCCATCTCTAAATAAATAAATAAAAATAAAAAAGAGAGAGAGTGAGATTAGGACTCACCCTGGCCATCCCAGGTCCTGCCACTCCAGGTCCTGCCACTCAGGGACTGTGTGACTCTATATTTTTAACTTCTCAGGCCAATATTAGAACCCAATCTGATCAAATTAGAAACCTATGAACATTCCACTTACTAGCAGTGCATTCATGGAGCACTTCACAGGGAGTCACCAAAGTATCAATCAATCAATAAACTACTACCCTACCCTGAACTATTAGGTTGGTGCAAAATAATTGCAGTTTTTGCATTGTTAGATTTGCTGTTTGATATTAGAATGCGTTCTTAAATAAATGTGGTTATGTTACACTTTTTTTTTTTTTTTTTGAGATGGAGTTTCGCTCTTGTTGCCCAGGCTGGAGTGCAATGGTGTGATCTTGGCTCACCGTAACCTCCTCCTCCCGGGTTCAAGCTATTCTCCTGCCTCAGCCTCCCTAGAAGCTGGGATTACAGGCCTGTGCCACCATGACTGACTAATTTTTGTATTTTTAGTAGAGACGGGGTTTCTCCATGTTGATCAGGCTGGTCTCTAACTCCTGACCTCAGGTGATGCACCCGCCTCAGCCTCCCAAAGTGCTGGGATTACAGGCATGAGTCACTGCTCCCGGCCTATACATCATTTTAATAGGCATTTCTCACTTTATGTTTTTTGATAATGACTTATTACTTGCTGTTGATTTTATGTTTATTTTAGACTATGGAAATGATGTCAGACAAAAGAAAATTCAAACTGATTTTCTTATTCAAGTTCAAAATGGGTCGTAAAGCAGCAGAGACAACTTGCAACATCGACTGCGCATCTGGTCCAGGAACTGCCTAACGAACGTACAGTGCAGTCGTGGTTCAAAAAGTTTTGCAAAGGAGAGGAGAACCTCGAAGATGAGGAATGTAGTGGCCGGCCGTTGGAAGTTGACAACCACCAATT\n",
      "24M1D140M1D68M1D1196M3D191M1D53M2D167M1I237M1D16M1I83M1I109M\n",
      "0.9917498914459401\n",
      "read_id: test_read_46_232460_234760 \n",
      "\tmap_start 5, map end 2299\n",
      "\t2300\n",
      "cttcccttgtcCAGATGtgtgctcaccattgctccatctgtgagGTTGCACCCTTTTATAGAAgtaccttgccttgctgagaattgaacagaaaattttatattcgagtgctatttattttgaggcacagaaactttatatataacaatataaacCCGAGACCTTGGCgggcacacacacaagcagctgAATGTCAAGAGGAGTGGAGGAACGGAGTGGCAGAGAATGGCAGAGAGCGCTGGAGAGTGGCAGAGCAGcatggcagagagggagggaagaggcgTCTGAACTTTGGAAGACACCTCCACTCCTCAATAAAGTCTCCGCATGTATCACTTTTCAAACAGTTCATGTGACCTGATTAATCCAGGATGCCAGACAAGAATCTGGGGAAGTTAACATTCAGGCATCCCTGGATGGCAAGGCTAAAGGAGCACACTGTAACATATGCCCACTTGGGCTCCAGCACCTGTCCATCTGTGTGTTCCCCCTTCCCTCAGGGGTTTGAGCAGTGGGGTGACCAAACAGACGAGCCACACCCCCTGTTGCATGTCCTGCAAGGAGAatcagggaactctcctgtttcaGTTGGAAGAGCAAgtgtccctctctctctcgtGGTGGGGAGACATCTCTTCCTTCTGGGCTGTCACAGCCCCAACCTCACCAACCTACCTGACAAGGGAGTCTGGCAGAACAAGGGCAAGGGCAGGGAGAAGCACCTCTAACTCTATTCCTGGATAATAATCAAGTCTCTAAAAGTCATCCtggagccgggcacagtggctcatgcctgtaatcccagcactttgggaggctgaggcgggtggatcacctgatgtcaggagttcgagaccagcctggccaacatggtgaaaacctaactctactaaaatacaaaaaaaattagctaggcatggtggcaggtgcctgtaatcccacctacttgggtggctgaggcaggagaatcacttgaacctgggaggcggaggtcgcaatgagctgagactgtgccactatgctccagcctgggtgacagagagagactctgcctcaaataaataaataaataaataaataaataaataaataaataaataaataaagtcatccTCTAGGGCTTTGAGGCCGTTCAAGCCCCTATTTTTTCCATCTCTGTGGATGAGCCTCTGTTAAATCTGATTGTGGCTGAACAAGAGATAATGTTCCTAATAGATACAGGGACCAGTTATTCAGCTTTAAGTGTTTATTACAGCCCAATGTGCTAGTCCTCCATTTCATTACGGGTATTGATAAACTTCAGTGAGGCTGTTTCACACTGCCACTCCCTTATAAAATGAAAGGCTATTCCTTTACCCACTCTTCAGTCCTGCCAAGCTGCCCTGTTTCTTTATTAGGTCACAATTTGCTCACAAAATTACAAGCGAATTTACAGTTAAGACCTCACATTCTAGCTGTAATTAACTCACACTTCACCAAAAAAGTTGCTGCAGTCTATAGaacatcacattttaaaacaagtgccggccaggcgcagtggctcacgcctgtaatcccagcactttgggaggccaaggcgggtggatcacttgaggtcaggagtttgagaccagcctggtcaatatggcgaaaccccatccctactaaaaatacaaaaattagctgggcatggtggcacacacctgtaatcccagctactcaggaggctgaggcaggggaatcacttgaacctcggaggtggagattgcagtgagccaagatagtgccattgcactccagccctggcaacaagagtgaaacgctgtctcaaaaaaaaaaaaattgttcttttgtttgcttttctttcaccCTGATTCCTCCTTCCCCCTTTGCCGTCTTCAGTACCAAGCTACAAAGCTAGGGGTGGCTGAGGACAGTAAACAGAGTGTGGTCTTAGCTGGCTTTTTCCCTCCTGGGAAGTTGTTGTTTAGGATCCTAATTCTAGTTCAGAGGTGCATTCTAAATAGTCTTCTCCATTGCCTTTCCCCCCAAAATTAATCTCACACGTTGGCTTGTGTGTGCATTCACGTGAGGAACTGAACTGTCATTTTCATAGATAAATAAGAGACTGAGTTTCCTTAGCTCCAAAGAGAAAGGGCATTTTGCTCCTCCCAGCAGAAAGGTACCCGAGTGACTGGGGGGCCTTGCGGGAGTGTTGGGGGGTTGAGCCCCCAGCGACATGAAGTGATTCTGCAGGGAACTCACaacaaaattagttttaaaaaggcTCGTCCAGGAAGCACATATAGGAACTGGTCACTCTGAGTTTTGAGCCCTCTTGGAGGTGCTAGACCTCCGGAGAAAACACTGA\n",
      "\n",
      "CTTGTCCAGATGTGTGCTCACCATTGCTCCATCTGTGAGGTTGCACCCTTTTATAGAAGTACCTTGCCTTGCTGAAATTGAACGAAAATTTTATATTCGAGTGCTATTTATTTTGAGGCACAGAAACTTTATATATAACAATATAAACCCGAGACCTTGGCAGGCACACACACAAGCAGCTGAATGTCAAGAGGAGTGGAGGAACAGGTGGCAGAGAATGGCAGAGAGCGCTGGAGAGTGGCAGAGCAGCATGGCAGAGAGGGAGGGAAGAGGCGTCTGAACTTTGGAAGACACCTCCACTCCTCAATAAAGTCTCCGCATGTATCACTTTTCAAACAGTTCATGTGACCTGATTAATCCAGGATGCCAGACAAAGAATCTGGGGAAGTTAACATTCAGGCATCCCTGGATGGCAAGGCTAAAGGAGCACACTGTAACATATGCCCACTTGGGCTCCAGCACCTGTCCATCTGTGTGTTCCCCCTTCCCTCAGGGGTTTGAGCAGTGGGGTGACCAAACAGACAGGCCACACCCCCTGTTGCATGTCCTGCAAGGAGAATCAGGGAACTCTCCTGTTTCAGTTGGAAGAGCAAGTGTCCCTCTCTCTCTCGTGGTGGGGAGACATCTCTTCCTTCTGGGCTGTCACAGCCCCAGCCTCACCAACCTACCTGACAAGGGAGTCTGGCAGAACAAGGGCAAGGGCAGGGAGAAGCACCTCTAACTCTATTCCTGGATAATAATCAAGTCTCTAAAAGTCATCCTGGAGCCGGGCACAGTGGCTCATGCCTGTAATCCCAGCACTTTGGGAGGCTGAGGCGGGTGGATCACCTGATGTCAGGAGTTCGAGACCAGCCTGGCCAACATGGTGAAAACCTAACTCTACTAAAATACAAAAAAATTAGCTAGGCATGGTGGCAGGTGCCTGTAATCCCACCTACTTGGGTGGCTGAGGCAGGAGAATCACTTGAACCTGGGAGGCGGAGGTCGCAATGAGCTGAGACTGTGCCACTATGCTCCAGCCTGGGTGACAGAGAGAGACTCTGCCTCAAATAAATAAATAAATAAATAAATAAATAAATAAATAAATAAATAAAGTCATCCCTCTAGGGCTTTGAGGCCGTTCAAGCCCCTATTTTTTCCATCTCTGTGGATGAGCCTCTGTTAAATCTGATTGTGGCTGAACAAGAGATAATGTTCCTAATAGATACAGGGACCAGTTATTCAGCTTTAAGTGTTTTATTACAGCCCAATGTGCTAGTCCTCCATTTCATTACGGGTATTGATAAACTTCAGTGAGGCTGTTTCACACTGCCACTCCCTTATAAAATGAAAGGCTATTCCTTTACCCACTCTTCAGTCCTGCCAAGCTGCCCTGTTTCTTTATTAGGTCACAATTTGCTCACAAAATTACAAGCAGATTTACAGTTAAGACCTCACATTCTAGCTGTAATTAACTCACACTTCACCAAAAAAGTTGCTGCAGTCTATAGAACATCACATTTTAAAACAAGTGCCGGCCAGGCGCAGTGGCTCACGCCTGTAATCCCAGCACTTTGGGAGGCCAAGGCGGGTGGATCACTTGAGGTCAGGAGTTTGAGACCAGCCTGGTCAATATGGCGAAACCCCATCCCTACTAAAAATACAAAAATTAGCTGGGCATGGTGGCACACACCTGTAATCCCAGCTACTCAGGAGGCTGAGGCAGGGGAATCACTTGAACCTCGGAGGTGGAGATTGCAGTGAGCCAAGATAGTGCCATTGCACTCCAGCCCTGGCAACAAGAGTGAAACCTTGTCTCAAAAAAAAAAAAAATTGTTCTTTTGTTTGCTTTTCTTTCACCCTGATTCCTCCTTCCCCCTTTGCCGTCTTCAGTACCAAGCTACAAAGCTAGGGGTGGCTGAGGACAGTAAACAGAGTGTGGTCTTAGCTGGCTTTTCCCTCCTGGGAAGTTGTTGTTTAGGATCCTAATTCTAGTTCAGAGGTGCATTCTAAATAGTCTTCTCCATTGCCTTTCCCCCAAAATTAATCTCACACGTTGGCTTGTGTGTGCATTCACGTGAGGAACTGAACTGTCATTTTCATAGATAAATAAGAGACTGAGTTTCCTTAGCTCCAAAGAGAAAGGACATTTTGCTCCTCCCAGCAGAAAGGTACCCGAGTGACTGGGGGGCCTTGCGGGAGTGTTGGGGGTTGAGCCCCCAGCGACATGAAGTGATTCTGCAGGGAACTCACAACAAAATTAGTTTTAAAAGGCTCGTCCAGGAAGCACATATAGGAACTGGTCACTCTGAGTTTTGAGCCCTCTTGGAGGTGCTAGACCTCCGGAGAAAACACTG\n",
      "75M1D8M1D124M1D165M1I518M1D156M4D52M1I134M1I563M1I133M1D81M1D172M1D62M1D89M\n",
      "0.9906542056074766\n",
      "read_id: test_read_47_800798_803148 \n",
      "\tmap_start 5, map end 2349\n",
      "\t2350\n",
      "CAAATTCACAGACATCCTGTTTATTTCCGAAAGAGAAACATCATAGAGCTATTCTTGGGATGTTCaggaaaagattaaaataaatgccTATTATCTATTGTATTTCGAGATAAACTTTATAGATTTAGAGCAGGACACACATTTCTGGACTTGAGAACGCTGTATCTGGCTTGGAATAAAAGCCCACATTTCATCTAGAGGTAGAATGTATGTCATTCTAATCTCCCTCAATCCTTTCTTCTCCAATTTCTTTATTGCCCCACTTACAAGATAGTGCACTATTATTCCAAAGCTGATACCTTCCAAATTCCTTTATAGTAGAGGTCTTGGCTATCATAACCATGATGGAACGAATGACCGTCCTACAGCTGGCTGCAAAATATAAGACTGCTATAAATAAATCCCTGATGCCTGAAAagtaattcattcaacaaaggaAGATAGGTATGACTTTGGCCTACTCTTCATTAGAacgcttatttttatttatttatttatttatttataaagaggGCAAAGCAGACTTTATTTGAGGGGCACCACAGCAATAGGTATAGCAACAACTGCAACAGGGTTTTGTAGTCAGGGAGGGAGATCAGACTCAACTCCCTAAAATGCTAATTTTAACAATGGGACACTTCATCTGAACTGTGGTTCTTAATGGTTCAGATAAAGATGACACAACCCACTATTGGCTTAAACTTCTCCCAACTCTGGCTACAGAATCCAGGTAAAGATTTCTGCCCCCTCAGAGTAATAGGCATGTCCAAAATCACCTGGATTAGGGCACTTAATACACTGGGAAGGGACGATAACAACTAAAGATGACCACTATCCATGCCTCCTCTAAaagttttttcatatattttttcatatcacCAAAACAAATACTAACTTGGATCAACTAATTTATATAATGGAATCTCGTGTGAGCGTACAAAATTCCATACTGATTATTTGGTTTAAGCCTGCATTATCATAAAGGCTTTACAGTCTTTAAACTGAAATTAAGCTCAAATTAAGAAATGCTAGTCTTAAAACAATGGAAGGGGGGGGCCGTtttgtgtggagggagggagacagacataCCCCTACACCCACCCACAACTACTGATATTGACATTGGAAATTAACTTGAAAatttatgcctgtagtcccagctactcaggaggctgaggtgggaggagcacttaagtccaggagttgggAGATGACAGTGAGCTTTgactgtgacactgcactccaacccgggtgacagggcaagatcccatctctcaaaaaaaaaaaaaaaaaatgctttaactCCACGTCTGTACCAGAAGACCACAGCAGGAGAGGAAAACCTTATTTCAGTCTGGGTAAGAGTTCtattaaacacaaaataaaacaaactagcCTCTGTTTCTGGAGGTCTTCATTAGTAGTTTCTACAAAACAGTATCCAAATTAGCAAAGATTCTGTTAACTACCTGGAAAAAGCAGGTACCAAGAAAGAATGTTTCACtacaatggaaaaaaacagtCTAGTAAGTAAACCAATCTGACTATAAACGCTACAAAAGAGGGATTCTAGCATTAGTAACTTTGCCAACAATACTCTGatatgattaaaaaacaaaacaataacaaaaacaaaaaacctcatctTTAAATTTGTCCCATTCATCCAGAGAAGCAAAATCAAGGAAACTAGAGGGGGTAAAGTCTTGCAACAGATACACAGCTGCACTGCCAACAGGTCACAAGACCCATGCTGCCTAGGGCATTGACTGTTATGCCATGAGGACAGACATCACACAAACACCAGTAATTAAAGGGTTACGGTGCCAAAGGGTTCAGAGCTCCACTTCCATTCAGTATCAGAAcataagaaaaagggaaaaacagaaaatgagcccaaataaaatataaaataaaatatagataccAGGAGCTTCCTCAAAATATGTGGGTTGTATTAATAACGTGTTTGGCTCTGTTACGGGCACCATCCATCAGAGGACTGGAAATAGGGAAAGTCACCTTAGTCTTCCTCAaggaaaaaagattatttaactTGGTTCACGGTGTACATTCATAATTTTAACTGtcatgtatttattgaatgaaaaacaTTTGAGAACATCATGTGCAACAAAAACATGATTTCACAGAAATTGTCCaaactaaaagagtataaaaaTAGAAGCGCTTTTTATacaattatttacttattattattattgagatagggtctccatctgtcacccaggccggagtgcagtggcgcaatcatagagTAGCCTctaagtcctgggctcaagcgatcctcctgcctcagcctccagagtcgtTGGGATCACAGGCTCGAGCCTCCACACCCgactaacttttaaaaactttttgtagagatgaggcctc\n",
      "\n",
      "TCACAGACATCCTGTTTATTTCCGAAGAGAAACATCATAGAGCTATTCTTGGGATGTTCAGGAAAAGATTAAAATAAATGCCTATTATCTATTGTATTTCGAGATAAACTTTATAGATTTAGAGCAGGACACACATTTCTGGACTTGAGAACGCTGGTAATCTGGCTTGGAATAAAAGCCCACATTTCATCTAGAGGTAGAATGTATGTCATTCTAATCTCCCTCAATCCTTTCTTCTCAATTTCTTTATTGCCCCACTTACAAGATAGTGCACTATTATTCCAAAGCTGATACCTTCCAAATTCCTTTATAGTAGAGGTCTTGGCTATCATAACCATGATGGAACGAATGACCGTCCTACAGCTGGCTGCAAAATATAAGACTGCTATAAATAAATCCCTGATGCCTGAAAAGTAATTCATTCAACAAAGGAAGATAGGTATGACTTTGGCCTACTCTTCATTAGAACGCTTATTTTTATTTATTTATTTATTTATTTATAAAGAGGGCAAAGCAGACTTTATTTGAGGGGCACCACAGCAATAGGTATAGCAACAACTGCAACAGGGTTTGTAGTCAGGGAGGGAAGTCAGACTCAACTCCCTAAAATGCTAATTTTAACAATGGGACACTTCATCTGAACTGTGGTTCTTAATGGTTCAGATAAAGATGACACAACCCACTATTGGCTTAAACTTCTCCCAACTCTGGCTACAGAATCCAGGTAAAGATTTCTGCCCCCTCAGAGTAATAGGCATGTCCAAAATCACCTGGATTAGGGCACTTAATACACTGGGAAGGGACGATAACAACTAAAGATGACCACTATCCATGCCTCCTCTAAAAGTTTTTCATATATTTTTTCATATCACCAAAACAAATACTAACTTGGATCAACTAATTTATATAATGGAATCTCGTGTGAGCGTACAAAATTCCATACTGATTATTTGGTTTAAGCCTGCATTATCATAAAGGCTTTACAGTCTTTAAACTGAAATTAAGCTCAAATTAAGAAATGCTAGTCTTAAAACAATGGAAGGGGGCCGTTTTGTGTGGAGGGAGGGAGACAGACATACCCCTACACCCACCCACAACTACTGATATTGACATTGGAAATTAACTTGAAAATTTATGCCTGTAGTCCCAGCTACTCAGGAGGCTGAGGTGGGAGGAGCACTTAAGTCCAGGAGTTGGGAGATGACAGTGAGCTTTGACTGTGACACTGCACTCCAACCCGGGTGACAGGGCAAGATCCCATCTCTCAAAAAAAAAAAAAAAAAAATGCTTTAACTCCACGTCTGTACCAGAAGACCACAGCAGGAGAGGAAAACCTTATTTCAGTCTGGGTAAGGAGTTCTATTAAACACAAAATAAAACAAGCTAGCCTCTGTTTCTGGAGGTCTTCGTTAGTAGTTTCTACAAAACAGGCTATCAAATTAGCAAAGATTCTGTTAACTACCTGGAAAAAGCAGGTACCAAGAAAGAATGTTTTCACTACAATGGAAAAAAACAGTCTAGTAAGTAAACCAATCTGACTATAAACGCTACAAAAGAGGGATTCTAGCATTAGTAACTTTGCCAACAATACTCTGATATGATTAAAAAACAAAACAATAACAAAAACAAAAAACCTCATCTTTAAATTTGTCCCATTCATCCAGAGAAGCAAAATCAAGGAAACTAGAGGGGGTAAAGTCTTGCAACAGATACACAGCTGCACTGCCAACAGGTCACAAGACCCATGCTGCCTAGGGCATTGACTGTTATGCCATGAGGACAGACATCACACAAACACCAGTAATTAAAGAGGTTACGGTGCCAAAGGGTTCAGAGCTCCACTTCCATTCAGTATCAGAACATAAGAAAAAGGGAAAAACAGAAAATGAGCCCAAATAAAATATAAAATAAAATATAGATACCAGGAGCTTCCTCAAAATATGTGGGTTGTATTAATAACGTGTTTGGCTCTGTTACGGGCACCATCCATCAGAGGACTGGAAATAGGGAAAGTCACCTTAGTCTTCCTCAAGGAAAAAGATTATTTAACTTGGTTCACGGTGTACATTCATAATTTTAACTGTCATGTATTTATTGAATGAAAAACATTTGAGAACATCATGTGCAACAAAAACATATGATTTCACAGAAATTGTCAAACTAAAAGAGTATAAAAATAGAAGCGCTTTTTATACAATTATTTACTTATTATTATTATTGAGATAGGGTCTCCATCTGTCACCCAGGCCGGAGTGCAGTGGCGCAATCATAGAGTAGCCTCTAAGTCCTGGGCTCAAGCGATCCTCCTGCCTCAGCCTCCAGAGTCGTTGGGATCACAGGCTCGAGCCTCCACACCCGACTAACTTTTAAAAACTTTTTGTAGAGATGAGGCCTC\n",
      "24M1D132M2I80M1D331M1D278M1D194M3D225M1I86M1I76M2I3M1D56M1I318M1I223M1D101M2I19M1D239M\n",
      "0.9896265560165975\n",
      "read_id: test_read_48_459158_461558 \n",
      "\tmap_start 5, map end 2400\n",
      "\t2400\n",
      "ctccatctgtcaaATGGATGGTTAAACTCAGTGTTTCTAAAGGCCCACtgttcacccatccatccatccatccacccacccacctacccatctgcccacccatctatccatccccatccatccatccatccatccccatccatccatccatccatccatccatccacccacccacccatctatccatccactcacccacccatctatccatccatccatccacccatccatccatccaccaacccatctatccatccaatcacccacccatctatccatccaccaacccatctatccatccactcacccacccatctatccatccatccatccacccacccactcatctatccatccatccatccatccatccacccacccacctacccatctgcccacccatctatccatccccatccatccatccatccatccacccacccatatatccatccactcacccacccatctatccatccatccacccacccactcatctatccatccatccatccatctatccacccacccacccatcatccaCCCAACCAtctatccgtccatccatccattcagcaGATATTTCTTGAATATCATCTATGTGCCAGGATCCTttatttattaaagttaaaagacaaatcacagaCCTGTAGAAACATTTTAGAAAGACATACAAAATCATACTGGATTGGAAATGTAAATTTCCCCAGGACTTTTGTTCACCAGTGACTCTCCAATGCCATGCATGGGGCCACATGTCTACTAGGTGCTCTGTAAAATGTTTATTGGATGTAAGAATGAATAGGACATATTTTGCTGTTCTAAAGAGAGCTGCCTCCGAGTCTGAGATTGGAGTCAGACATCCTCTCTAGGACTTATTGAGAGGGGGCCAACTATCTTTGTCACCCCCATCCCTGACCTGCCCCACTGCCTCCCCAGCCCATATAAGCCAGTTTCTAAAGAGGATCTAAGGAGGATTGGCCAGCAGTGACTGGGGCAGGGTAGGGCACGGCATGCCCCCAACTCCCAAGCCCAGGTGGGCTCATGGTTTGGAGGGGAGAAGCTATGAACCAGAGGGAAACAGGCATTCCATCCCTTGATTGAACTCACTCTTGTTGATCTGCCCTGTGTCCATTGGGAGTGAGTGGAGAATGAATGAGAAATGCAAAAGGGGTGGGGTCTGGCAGAGGCAGCCTGCATTGCCACCATTTGACCAATTTCCTGTCAATTTCCTATATTTGGTCAAGTGGACATTGAAGGAGGCTCTTGAGCTTAATCTAAGCCATGGTTTTCCAGCCCAAAGGGGCATGAGGCTGTTGAAGTGGGGATGGGGTAGTGAGGAAGCTAGGGTGATCTGAAGAGGTCAAGCTCGTGCTCCTTGCTCAGTAATCACACCTGTGTACCAATTAGGCACCTGCCACACGTGGGAGAAAGGGGAGGGCATGGATGGAGGCAGAGGAACATTTAGTCCCAGTCCCTCCCTGCTGCTCACTGGTGATGGCCCCAGAGTTTTCTAACACCGGGAATTGTGGAGGCCACAGCAGCATCAGGGTAGTGACAGCTGTCTCTATCCCCATTCCTTCTTCTGCTCCCCAACATACAGGGGAGAAATCAAcccagagggaggagagaagagaatgagacaGCATGACATATCTCCCTACAGGGCAAATCAGTGGAGTCAGAAGCTGAGTCAGGCAGTGATGGGGAAGCAGTGATGGGAAAGGAGAGCTTCAAATCAgacctgtattttaaaaattcagcactGGACTAGGCTTTTTAATAGCTGAAAGTTACCAGAAAGCTTTGAGATCTGCCCAAAGTTATTAAGGATTGGAGTTTAAAAATACGACTGTgcattgggggtggggggtggggggtgcatgGAAAGCATGCCATGTTTGTAACCCTCTGTTACAACTTCAGTATCATCATTAAGCCAGTTACACACAAAGTAAGCCAAGAATATCCTTAATACACAACGAGctcctataaatcaataagaaaaaggggAATGATCCAAGTGTGTGGAGGGAGAATGGGCAAAGACAttacaaggaatttaaaaaagaaagacaaataggaCAATAACCATACGCAAAGCTGTTCTACTTCCCTAAGAATTTTCAAATTGAAGATGAGAACAAGAATGAAATACCACCATGACCTACAAGATACGGAAACTGTAAAAGACTCCGGCACCCTCTTTTGAGAAGGCAATTAGGCAGAGTCTATTATCTGTAGCCTGAGGTAGTAACAGCATTTTACAGGAAGTGTCCTGAGTTGAGAGAGGGGTAGGCACTTGTTAGAAGCCACACAGTGAGTCATGGGAGGGGAGGAGCTAGAACTCAGACCTCTGGATGGGCACCTTTGATTCTTTATCTCCAGCCAGCTGGTCCTCTCTGTCTGGGCTAGTGCAcagcctggcccctggcccctgtCTGGGTAGC\n",
      "\n",
      "TCTGTCAAATGGATGGTTAAACTCAGTGTTTCTAAAGGCCCACTGATTTCACCCATCCATCCATCCATCCACCCACCCACCTACCCATCTGCCCACCCATCTATCCATCCCCATCCATCCATCCATCCATCCCCATCCATCCATCCATCCATCCATCCATCCACCCACCCACCCATCTATCCATCCACTCACCCACCCATCTATCCATCCATCCATCCACCCATCCATCCATCCACCAACCCATCTATCCATCCAATCACCCACCCATCTATCCATCCACCAACCCATCTGTCCATCCACTCACCCACCCATCTATCCATCCATCCATCCACCCACCCACTCATCTATCCATCCATCCATCCATCCATCCACCCACCCACCTACCCATCTGCCCACCCATCTATCCATCCCCATCCATCCATCCATCCATCCACCCACCCATATATCCATCCACTCACCCACCCATCTATCCATCCATCCACCCACCCACTCATCTATCCATCCATCCATCCATCTATCCACCCACCCACCCATCATCCACCCAACCATCTATCCGTCCATCCATCCATTCAGCAGATATTTCTTGAATATCATCTATGTGCCAGGATCCTTTATTTATTAAAGTTAAAAGACAAATCACAGACCTGTAGAAACATTTTAGAAAGACATACAAAATCATACTGGATTGGAAATCTTAAATTTCCCCAGGACTTTTGTTCACCAGTGACTCTCCAATGCCATGCATGGGGCCACATGTCTACTAGGTGCTCTGTAAAATGTTTATTGGATGTAAGAATGAATAGGACATATTTTGCTGTTCTAAAGAGAGCTGCCTCCGAGTCTGAGATTGGAGTCAGACATCCTCTCTAGGACTTATTGAGGGGGCCAACTATCTTTGTCACCCCCATCCCTGACCTGCCCCACTGCCTCCCCAGCCCATATAAGCCAGTTTCTAAAGAGGATCTAAGGAGGATTGGCCAGCAGTGACTGGGGCAGGGTAGGGCACGGCATGCCCCCAACTCCCAAGCCCAGGTGGGCTCATGGTTTGGAGGGGAGAAGCTATGAACCAGGGAAACAGGCATTCCATCCCTTGATTGAACTCACTCTTGTTGATCTGCCCTGTGTCCATTGGGAGTGAGTGGAGAATGAATGAGAAATGCAAAAGGGGTGGGGTCTGGCAGAGGCAGCCTGCATTGCCACCATTTGACCAATTTCCTGTCAATTTCCTATATTTGGTCAAGTGGACATTGAAGGAGGCTCTTGAGCTTAATCTAAGCCATGGTTTTCCAGCCCAAAGGGGCATGAGGCTGTTGAAGTGGGGATGGGGTAGTGAGGAAGCTAGGGTGATCTGAAGAGGTCAAGCTCGTGCTCCTTGCTCAGTAATCACACCTGTGTACCAATTAGGCACCTGCCACACGTGGGAGAAAGGGGAGGGGCATGGATGGAGGCAGAGGAACATTTAGTCCCAGTCCCTCCCTGCTGCTCACTGGTGATGGCCCCAGAGTTTTCTAACACCGGGAATTGTGGAGGCCACAGCAGCATCAGGGTAGTGACAGCTGTCTCTATCCCCATTCCTTCTTCTGCTCCCCAACATACAGGGGAGAAATCCAACCCAGAGGGAGGAGAGAAGAGAATGAGACAGCATGACATATCTCCCTACAGGGCAAATCAGTGGAGTCAGAAGCTGAGTCAGGCAGTGATGGGGAAGCAGTGATGGGAAAGGAGAGCTTCAAATCAGACCTGTATTTTAAAAATTCAGCACTGGACTAGGCTTTTAATAATACAGAAAGTTACCAGAAAGCTTTGAGATCTGCCCAAAGTTATTAAAGTTGGAGTTTAAAAATACGACTGTGCATTGGGGGTGGGGGTGGGGGGTGCATGGAAAGCATGCCATGTTTGTAACCCTCTGTTACAACTTCAGTATCATCATTAAGCCAGTTACACACAAAGTAAGCCAAGAATATCCTTAATACACAACGAGCTCCTATAAATCAATAAGAAAAAGGGGAATGATCCAAGTGTGGAGGGAGAATGGGCAAAGACATTACAAGGAATTTAAAAGAAAGACAAATAGGACAATAACCATACGCAAAGCTGTTCTACTTCCTAAGAATTTTCAAATTGAAGATGAGAACAAGAATGAAATACCACCATGACCTACAAGATACGGAAACTGTAAAGACTCCGGCACCCTCTTTTGAGAAGGCAATTAGGCAGAGTCTATTATCTGTAGCCTGAGGTAGTAACAGCATTTTACAGGAAGTGTCCTGAGTTGAGAGAGGGGTAGGCACTTGTTAGAAGCCACACAGTGAGTCATGGGAGGGGAGGAGCTAGAACTCAGACCTCTGGATGGGCACCTTTGATTCTTTATCTCCAGCCAGCTGGTCCTCTCTGTCTGGGCTAGTGCACAGCCTGGCCCCTGGCCCCTGTCTGGGTAGC\n",
      "45M2I646M1I184M2D190M2D364M1I174M1I168M2I5M1D46M1D34M1D155M2D39M2D48M1D72M1D262M\n",
      "0.9898249898249898\n",
      "read_id: test_read_49_984787_987237 \n",
      "\tmap_start 5, map end 2450\n",
      "\t2450\n",
      "cagtGTATTGAGGAGATTTCAAAGTATTCTTTCTAAAGGTCTTTTATTAtatgaaaagaagataaaattataatatcaGGTTTTGCTAAGTTATAGCTGCAAGTCACAAGATGTATGACAACtaattacagaataaaaatagCATATATTTCCAAACCagaaagagggaaaagtaaaatcataaaaagaatccaaaagaatgttaagaagggagaagaaaaaaatctagaacaTAAGAAGCATAGGGGAAGAAAGTTGAATTGGAATatgattaattatattaaatataagtgGAATAAATTATCCAGGTAAAAGACAAAGACTATCATatcagactggattaaaaaagaaatccaaatgaaCCAGAATAATccaaacaattctgaaaaataataaagctggaAGAATTATACTAACTGATCTtaaacttattacaaagctatagttgTCAAAACAGTGTATTGGCAAAAGGATAATACATAGATCAagggaacagaataaagagtacAGAAATACACTCACACAAACAAggccaattaatttttgacaaaggtacaaaggcagttcaatggagaaaggacatatatacatatatatataaatatattatgtatttttttcgaGATAGGGTCTGCCTCTggtgcccacgctggagtgcaggggcatgatctcaactcactgcaacctccgcctcctgggttcaagtgattctcctgcctcagcctccaaagtagctaggaccacaggagTGTgtcactatgccctgctaatttttgtatttttagtagagacagggtttcaccatattgcctaggctggtctcaaatttctgagctcaactgatccacctgccttggcctcccaaagtgctgggattacaggcataataaTCTTTTCTATAAATTGTTTTGGAAGACTTGGAGATCAATATGCAAAATCATAAACTTTAATCTAAATCTCACACTTTATATAAAGATAATTCATAATGAATCACAGATATCAATGTAAAACTTGggtcagatgcggtggctcatgactgtataatcccaggctgggtgacaaggcaagactctacctctgggggggaaaaaaaaagatataaatgtaaaattatcaaACCTTCTTGCAACCAGGGGTTAGGCAGAGTTTGAAGACATGACACTAAAAGCATGGGCTGTAAAACTGATAAACTGAACTTCATCAACGTTAAAatatttctgctctgtgaaagacactattaagaaaataagccagacacaagaagAATGTATTTGCAAATCACAAATCGAATAAAGAACTTGTATCTGTAACATTAaaaaactcaataagaaaacagctcaatttaaaaatgggcaaaagacgtGAACATACACaccacaaaagaagatatacacataagtatatgaaaagatacaCAACACTGCCAGACAGCagggaaaatgaaattaaatcatACAACTACCACTACAGatttattaaaatggctaaaatttaaaaaaacagaaaacaaaactatacCAAAAGCTGGTGTGGATGCAGAGTAACAGTAACTAATACATtcctggtaggaatgcaaaatggttttggaaaacagtttggcagtttcttatagaGTTAAACATGTACTTAAGCATACAACCAGCattcccactcctaggtatttactcaagagaaacgGAAACCCGTatctacacaaaaacttatacacaaaCATTTaaggcagctttattcataattgtgaaaaaacagaaacaaccaaGGTGTCCAACAGTTACATGAACAAACAAATGGTTTGCCATGTGAtgcttagcaataaaaaggaacaaattactgATTTGtgcaacaaaatggatgaatcgtttttctttttttggtagagacagggtctcgctttgttgcccaggctggtctcaaacgtctagcctcaagtaatcctttggcttcagtctcccaaagtgctaggattacaggtgtgagctgctacacctgaccaacatggtgaatcttaAAAGtgaagaagccagaaacaaaagccTACATATTGTATACTTCCATTTAtatcaggggtccccaatccccgGGCCATGGGCCTGTACCagttcatggcctgttaggaaccaggctacacagcaggaggtgagcagcgggaGTCACTCGCATTACTGcccgagctctgcctcctgtcccatCAGcaacagcattagattctcataggagaaccctattgtgaactgcacatgtgaggaatctaggaggtggagctcaatttttctcctttaaggaaaggaaataagtaaGCATGGAAAGAGAGCCTAAATTTCTCCCTTTCCATGCTTATTCATTACAAGGGTATTCCTAAGTCCAATGGGCTTGGAAAGGGAGAAATAGCAACTCTACAGTAGAAAAACCTGGCAGACTTTACTGAAATATCACTAGTGTTAAGTCACTTTGACATCATATGCCCCTGATATAATGTGATGAGAAGGGCACTTCACCTCTG\n",
      "\n",
      "TATTGAGGAGATTTCAAAGTATTCTTTCTAAAGGTCTTTTATTATATGAAAAGAAGATAAAATTATAATATCAGGTTTTGCTAAGTTATAGCTGCAAGTCACAAGATGTATGACAACTAATTACAGAATAAAAATAGCATATATTTCCAAACCAGAAAGAGGGAAAAGTAAAATCATAAAAAGAATCAAAAAGAATGTTAAGAAGGGAGAAGAAAAAATCTAGAACATAAGAAGCATAGAGGAAGAAAGTTGAATTGGAATATGATTAATTATATTAAATATAAGTGGAATAAATTATCCAGGTAAAAGACAAAGACTATCATATCAGACTGGATTAAAAAAGAAATCCAAATGAACCAGAATAATCAGAACAATTCTGAAAAATAATAAAGCTGGAAGAATTATACTAACTGATCTTAAACTTATTACAAAGCTATAGTTGTCAAAACAGTGTATTGGCAAAAGGATAATACATAGATCAAGGGAACAGAATAAAGAGTACAGAAATACACTCACACAAACAAGGCCAATTAATTTTGACAAAGGTACAAAGGCAGTTCAATGGAGAAAGGACATATATACATATATATATAAATATATTATGTATTTTTTTCGAGATAGGGTCTGCCTCTGGTGCCCACGCTGGAGTGCAGGGGCATGATCTCAACTCACTGCAACCTCCGCCTCCTGGGTTCAAGTGATTCTCCTGCCTCAGCCTCCAAAGTAGCTAGGACCACAGGAGTGTGTCACTATGCCCTGCTAATTTTTGTATTTTTAGTAGAGACAGGGTTTCACCATATTGCCTAGGCTGGTCTCAAATTTCTGAGCTCAACTGATCCACCTGCCTTGGCCTCCCAAAGTGCTGGGATTACAGGCATAATAATCTTTTCTATAAATTGTTTTGGAAGACTTGGAGATCAATATGCAAAATCATAAACTTTAATCTAAATCTCACACTTTATATAAAGATAATTCATAATGAATCACAGATATCAATGTAAAACTTGGGTCAGATGCGGTGGCTCATGACTGTATAATCCCAGGCTGGGTGACAAGGCAAGACTCTACCTCTGGGGGGAAAAAAAAGATATAAATGTAAAATTATCAAACCTTCTTGCAACCAGGGGTTAGGCAGAGTTTGAAGACATGACACTAAAAGCATGGGCTGTAAAACTGATAAACTGAACTTCATCAACGTTAAAATATTTCTGCTCTGTGAAGACACTATTAAGAAAATAAGCCAGACACAAGAAGAATGTATTTGCAAATCACAAATCGAATAAAGAACTTGTATCTGTAACATTAAAAAACTCAATAAGAAAACAGCTCAATTTAAAAATGGGCAAAAGACGTGAACATACACACCACAAAAGAAGATATACACATAAGTATATGAAAAGATACACAACACTGCCAGACAGCAGGGAAAATGAAATTAAATCATACAACTACCACTACAGATTTATTAAAATGGCTAAAATTTAAAAAAACAGAAAACAAAACTATACCAAAAGCTGGTGTGGATGCAGAGTAACAGTAACTAATACATTCCTGGTAGGAATGCAAAATGGTTTTGGAAAACAGTTTGGCAGTTTCTTATAGAGTTAAACATGTACTTAAGCATACAACCAGCATTCCCACTCCTAGGTATTTACTCAAGAGAAACGGAAACCCGTATCTACACAAAAACTTATACACAAACATTTAAGGCAGCTTTATTCATAATTGTGAAAAAACAGAAACAACCAAGGTGTCCAACAGTTACATGAACAAACAAATGGTTTGCCATGTGATGCTTAGCAATAAAAAGGAACAAATTACTGATTTGTGCAACAAAATGGATAGATCGTTTTTCTTTTTTTGGTAGAGACAGGGTCTCGCTTTGTTGCCCAGGCTGGTCTCAAACGTCTAGCCTCAAGTGATCCTTTGGCTTCAGTCTCCCAAAGTGCTAGGATTACAGGTGTGAGCTGCTACACCTGACCAACATGGTGAATCTTAAAAGTGAAGAAGCCAGAAACAAAAGCCTACATATTGTATACTTCCATTTATATCAGGGGTCCCCAATCCCAGGCCATGGGCCTGTACCAGTTCATGGCCTGTTAGGAACCAGGCTACACAGCAGGAGGTGAGCAGCGGGAGTCACTCGCATTACTGCCCGAGCTCTGCCTCCTGTCCCATCAGCAACAGCATTAGATTCTCATAGGAGAACCCTATTGTGAACTGCACATGTGAGGAATCTAGGAGGTGGAGCTCAATTTTTCTCCTTTAAGGAAAGGAAATAAGTAAGCATGGAAAGAGAGCCTAAATTTCTCCCTTTCCATGCTTATTCATTACAAGGGTATTCCTAAGTCCAATGGGCTTGGAAAGGGAGAAATAGCAACTCTACAGTAGAAAAACCTGGCAGACTTTACTGAAATATCACTAGTGTTAAGTCACTTTGACATCATATGCCCCTGATATAATGTGATGAGAAGGGCACTTCACCTCT\n",
      "212M1D322M1D544M2D140M1D847M1D423M\n",
      "0.9952\n",
      "read_id: test_read_50_519896_522396 \n",
      "\tmap_start 5, map end 2499\n",
      "\t2500\n"
     ]
    }
   ],
   "source": [
    "r9_identities = []\n",
    "with start_guppy_server_and_client(\n",
    "    BIN_PATH,\n",
    "    \"dna_r9.4.1_450bps_hac.cfg\",\n",
    "    \"ipc:///tmp/.guppy/5555\",\n",
    "    [\"--device\", \"cuda:all\"],\n",
    ") as client:\n",
    "    fa = Fasta(str(TEST_FASTA.resolve()))\n",
    "    for signal_array in R9_OUTDIR.rglob(\"*.npy\"):\n",
    "        # remove any non ACGT and replace with A\n",
    "        read_id = signal_array.stem.partition(\".\")[0]\n",
    "        signal = np.load(signal_array)\n",
    "        read = {\"read_id\": read_id, \"raw_data\": signal}\n",
    "        success_pass = client.pass_read(read, pack)\n",
    "    t.sleep(10)\n",
    "    res = client.get_completed_reads()\n",
    "    for r in sorted(res, key=lambda x: len(x[0][\"datasets\"].get(\"sequence\", \"\"))):\n",
    "        read_id = r[0][\"metadata\"][\"read_id\"]\n",
    "        reference_fasta = fa[read_id]\n",
    "        print(reference_fasta)\n",
    "        print()\n",
    "        aligner = mp.Aligner(seq=str(reference_fasta), preset=\"sr\")\n",
    "        read_number = r[0][\"metadata\"][\"read_id\"].rsplit(\"_\", 3)[-3]\n",
    "        sequence = r[0][\"datasets\"].get(\"sequence\", \"\")\n",
    "        query_len = len(sequence)\n",
    "        print(sequence)\n",
    "        als = aligner.map(sequence)\n",
    "        for al in als:\n",
    "            print(al.cigar_str)\n",
    "            print(calculate_identity(al.cigar_str, al.ctg_len))\n",
    "            print(\n",
    "                f\"read_id: {r[0]['metadata']['read_id']} \\n\\tmap_start {al.r_st}, map end {al.r_en}\\n\\t{len(reference_fasta)}\"\n",
    "            )\n",
    "            r9_identities.append(\n",
    "                (al.ctg_len, calculate_identity(al.cigar_str, al.ctg_len))\n",
    "            )"
   ]
  },
  {
   "cell_type": "code",
   "execution_count": 102,
   "id": "be248a00-4156-4ac7-b29b-2d8832ca8cea",
   "metadata": {},
   "outputs": [
    {
     "data": {
      "text/plain": [
       "[Text(0, 0.5, '')]"
      ]
     },
     "execution_count": 102,
     "metadata": {},
     "output_type": "execute_result"
    },
    {
     "data": {
      "image/png": "[encoded data removed]",
      "text/plain": [
       "<Figure size 640x480 with 1 Axes>"
      ]
     },
     "metadata": {},
     "output_type": "display_data"
    }
   ],
   "source": [
    "ax = sns.scatterplot(\n",
    "    x=list(map(lambda x: x[0], r9_identities)),\n",
    "    y=list(map(lambda x: x[1], r9_identities)),\n",
    ")\n",
    "ax.set_ylim((0, 1))\n",
    "ax.set(ylabel=\"\")"
   ]
  },
  {
   "cell_type": "markdown",
   "id": "ce28ce07-8361-4ae2-9f42-c387da7db5af",
   "metadata": {},
   "source": [
    "### Basecall R10 signal"
   ]
  },
  {
   "cell_type": "code",
   "execution_count": 103,
   "id": "f8a344d7-d0fa-4f7c-8518-67348aa9afbc",
   "metadata": {
    "scrolled": true
   },
   "outputs": [
    {
     "name": "stdout",
     "output_type": "stream",
     "text": [
      "aaaatatttacagtaacTATGGAACACAAAGGTTTATTACATCCATAATT\n",
      "\n",
      "TTACAGTAGCTCTGGAACACAAAGGTTTGCTACATCCATAATT\n",
      "TTGGCACAGAGGCAGCAGAGCAGGGAGGTGAAGAGAGTGGGCTCTGGACCCAGCCTCAGTCCACATCCCGGTTCTGTCCTTTGATGGCCGTGTGAGGATA\n",
      "\n",
      "AAGGCAGCAAAGCAAATAAAAATCAGGGCTCTGAACCCACCTAGATCCACATACAGATTATGTCCTTGATGGCCATGTCAAGG\n",
      "AGCTTATTACCTGCTTCCTAAATTTGCCTTTCTCCATCACTGCAATGGCAGCTCCATTCTCCCTGATGCTTAGGCCCCAGGAGCTGTCAACCCTGTCCCCCACATCCAACTCATCTGCAGGTCCTGTCAGCCTTGCCTTCCAGGTGGCCC\n",
      "\n",
      "ACCTGCTTCCTCGTTCCTTCTCCATCACTGCAATCACGACTCCATTCTCCCTGATGCTTAGGCCCCAGGAGCTGTCAACCCTGTCCCCACATCCAACTCATCTCCGTCCTGTCAGCCTTGCCTTCCAGTCGCT\n",
      "11M2D4M1D2M1D67M1D21M2D23M\n",
      "0.8533333333333334\n",
      "read_id: test_read_3_888598_888748 \n",
      "\tmap_start 8, map end 143\n",
      "\t150\n",
      "GAAGTTGCGCAAACTCAGCTTGCCGGAGCCCCAGGTGGGCCGGGCCGGAGGAGCGCAGGCCAGCGGCGCGGGCGCAGCCGGGTACGTGCGGACCGCGGCGGGGGGCGCCCAGCCGGGGTAGGGGGCGGCCCGAGCACCCCTCCACCCCAGGACGGCGGGAACGGGGCAGGGATCTACCTTTCGGCTTCAAGAGGACCGCG\n",
      "\n",
      "GCATTGAATTCAAAGTGCAATAGTTCACCTTCAGAAGTCACCAACCCATAGCGGCGCATCGCCGTAATGCAAACCCGACCAAGTGTGCAACCAAATCCAGTCCCGAACATTGCCCTCCAGCCCCAAAATCCAAATCCAACACCAAATGTCCTTTCGACTCAAAATTCCT\n",
      "tgagaattgaacagaaaattttatattcgagtgctatttattttgaggcacagaaactttatatataacaatataaacCCGAGACCTTGGCgggcacacacacaagcagctgAATGTCAAGAGGAGTGGAGGAACGGAGTGGCAGAGAATGGCAGAGAGCGCTGGAGAGTGGCAGAGCAGcatggcagagagggagggaagaggcgTCTGAACTTTGGAAGACACCTCCACTCCTCAATAAAGTCTCCGC\n",
      "\n",
      "TGAACCCAAAATTTTATACTCGAGTGCTACTCCTTTTCAACACAGAAAGTTTCTGTGTCAAACAATATAAACCCGAGACCTTCGCACACGCACAAAGCAGCTCAATGTCAAATCAAGTTTAATCGCAGATCGGCAAAGCACTCGAAGTGGCGGAGCGGTTAGTGACCCGCCCCCCCCCAAGGCATCTCGAGTTTCGAAACCTCCACTCCTCAAATAAAGTCTCCT\n",
      "ggcTACAAACGATGGGAGGCGGAgaggggtgagggttgaaaaattacctattgggtgcAACATTCACTATCCGGGTAATGGGGCACTAGAAGCCCACtccaccactatgcaatatatgtatttgtaccccgtaaatctataaaaataaaaactacattaaaaataataataatgtctggTCATCTAAATAGTACCTCTACAGCTTATTAAGTGCTCTGGAGACGTCCCAGTTGCCTGTCCTTCCCATTAAAGGTGATATCCAGTGCTGATTTCCCCTTCAACCTCGGGTTCCCATAAACC\n",
      "\n",
      "AACAATTAAAACGGCCATCACCTTAAAAATACCTGCTCAGATACATTCACTATCCGGGTAATGGGGCACTCGAAGCCCGCTCCCACCACTATGCAATATATTTTGCTTGTTACCCCGTAAATATTCTCAAAATAAAAAGTTTCATTCGATCGTCGTCATTTCTCATCATGTGCGTGGTTCCCTCTACAGCTTACTAAGTGCTCTAGAATCCCCAGTTGCCTGTCCTTTCCATTAAAGGTGATATCCATGCTCATTTCCCCTTTCAACCTCGGGTTCCCCATACA\n",
      "39M1I19M1D3M2I3M1I12M1I15M1I7M2D31M1I26M2D43M1D13M1I17M\n",
      "0.7402597402597403\n",
      "read_id: test_read_6_267459_267759 \n",
      "\tmap_start 59, map end 293\n",
      "\t300\n",
      "GAACATTTGAATAGAAATTTCCCAAatgaacacaaacacaaaaaagtaaagaaaaattgaatACAACATCAGAGAGATGTGAGATATTATCAAATAATTCAACATGGATTTAATTGGCTCccaagaagaagggaaggagagaatgaagcagaagaaataagAGCTAATAGCCTCCTACATAGCAAAATTGATCCAAGAACTTCAGCAAGGTCTAATTAGgacaaattcaaagaaaatttctAGACATAGTGgatttcaaactgctgaaaatcaaAGACAGAGAACAAATCTTAAAAGTAGCCAGAGAAAAAGGACATGTTATCTAGGAAGGAACAATGACACAAATGATG\n",
      "\n",
      "TCAAATCAAAATTCCCAAATGAACACAAAACACAAAAAAGTAAAAAGAAAAATTGAATACGAACATCAGAGATGTCGAGATGCTCTCAAATAATTCAACATGGATTTGATTTGGCTCCCAAGAAGAAAAGAGAAGGCCGAGTGAACGAAATCAAGAGCTAATAGCCTCCTCATCACAAAATTGATCCAAGAACTTCAGCAAGGTCTAATTAGACAAATTCAAAAGAAAATTTCTCCGTTAGTCATCAATTCAAACTGCTCGAATCAAAGACAGAGAACAAATACTTACAAAAGTAGCCAGAAAAAGGACATGTCTATCTAGGAAGGAACAATCAACACAAATCAT\n",
      "19M1I14M2I17M1I6M2D8M1I31M1I17M2I9M1I4M2D4M1D1M4D5M1I18M1D41M1D9M1I12M5I7M4D14M1I1M2D21M1I3M2I10M2D15M1I18M1I9M\n",
      "0.8413978494623656\n",
      "read_id: test_read_7_123646_123996 \n",
      "\tmap_start 14, map end 346\n",
      "\t350\n",
      "ccaggagttggaggccagcctgggcaaaacagcaagaccttgtctcaaacaaaaacaaaaaactaaagacAAGCAAGTACAGAAAAAGGCAGATTATATTCAAAGAGCAACATTAGAACAGCTGATTTTTCAAAACCAACAATGAAGCCAAGTAGTTTAATACCTGCAGtgtgctgaaaaaaataaatagccgCCAAATTAAAATTCTGTTATCAAGCAaatgtctctaaagaaaaaagaaaaataatcccattttGGAAGGTCtgagttgaaagaaaaaataaagagcaaaaaagaggaaaatttacaGACAGCTCCAAACAAACACTGATTATACAAAAGAATAACAATACCTTGAGGAGCTTTAAAACATAGAatacataacaataaaaacacagtG\n",
      "\n",
      "TTCGAGGCCAGCCTGGGCGACAGCAAGACCTTGTCTCAAACAAAAACAAAAAACTAAAGACAAGCGGTCCCAGAAAAAGGCAGTTATGCTCAAAGAGCAACGTTCAACAGCTCATTTCAAAACCAACAATGAAGCCAAGTAGTTTAATCCTGCAGTGTGCTCGATCGATCGCCGCCAAATTAAAATTCTGCTATCAAGCAATGTCTCTAAAGAAAAATAATCCCATTTTCAAAAGTGTCCGTTGAAAGAAAAAAATAAAAAAGCAAAAAAGAGGAAAATTTACAGACAGCTCCAAACAAACACTGATTATGCGATCACAATACCTTGAGGAGCTTTAAAACGTACGAATACATAACAATAAAAACGCAGT\n",
      "15M2D47M1D3M1I14M1D21M1D10M2D34M1D13M1I1M6D36M1D9M7D40M1I7M1I55M4D1M1D31M1I25M\n",
      "0.8938271604938272\n",
      "read_id: test_read_8_519501_519901 \n",
      "\tmap_start 10, map end 399\n",
      "\t400\n",
      "TAACTACTGAAACCGCAGTCCGCACAGCAGAGAGAGGATGGACTCACCACACCCAAGTCAAGAAAGCACCGCCCCCTCCAGAGTCGTGGGccatagtcccaggggaaaaccctacTAAACTAAAGCTAAGAAGAATTTAACTCcctttcatctattctattactcttttttctttcctcactctATTGCTGACCATatagttattaacataaccaagtcaatttcaCCTCAACTATTGCATTtgatgcttgccttgttataTCCTGTGGGGATTTGTCAAGCCAAAGAAAGCTCTCTACTTCAGATACCTCTGTCCCTCCTGGCTCTCCTCAGACTAGGCATTAGTGAATCGGGACCATTTAATCTGGGGAGATTTCTATAAAGATCCCAGTGGCAACCAGGAGTCTTCCCCCAGTGATGTAGAGCTTTTAAGCCATAGTTGGTCCAAAG\n",
      "\n",
      "CGATCGCAGTGCGCACAGCAAGATCGAGCTCACCACACCCAAGTCAAGAAAGCACCGCCCTACCGAGTCGTGGGCCATAGTCCCAGGAAACCCTGCTCGACTCGAGGCTTACAAGAATTTAACTCCCTTCATCTTGCTCTTACTACTACTTTCTTCCTCACTCTACTGCTCACCCATCGTTCCTAACATAACCAAGATCAATTTCACCTCAACTACTGCATTTGATGCTTGCCTTGCTATATCCTGTCAAGTGTCAAGCCAAAGCTCTCTTACTTCAGATACCTCTCCCTCCTGGCTCTCCTCGGACTACGGCGTTCGTCGATCGGAGCCATTTAATCTGGGGAAATTTGTCTCAAAGATCCCATCGCATACAGAAGTACTCCCCAGTGATGTCAAGTTTCAGCCGTCGTTCATCCAAT\n",
      "16M5D1M1D6M1I29M2D30M3D15M1I24M1D7M1D10M1I8M1D21M1D22M1I50M3D13M4D9M1I15M2D24M1I43M1I10M1D14M1I2M2D12M\n",
      "0.8318777292576419\n",
      "read_id: test_read_9_797926_798376 \n",
      "\tmap_start 13, map end 421\n",
      "\t450\n",
      "actaattcatgggctttttgtaatttctctctctttaaagGCTACTGTTTTACCCAAATAGGATTTTGAGAGAGCCATGTCAGGGGTAGGGGAGGAATAACAGTGGCCATTATTAGAAAGGTTTGCTGTTCACACAATTTATCAAATTCTGCCCTCCAGAGGAGGTACTGACTGGCCTTTAAAGTTGTTTTAGCTAGCACTGACCAGTCCCATGGGGTGATATGGAAGTTGTCTGCTATGGTTTCAATTATTCCTTTTGTAAATGGGCTAGTGGCTCCGTTTAATGCTTTTTCTTACCACTTTATAAGCGTCAAAAGAAGTTGTCTGCTATGGCTTCAATTATTCCTTTCATAAATGGGCTAGCAGCTCCATTTTCTTTAAcgtttttttcttatctctttataAGCGTCAAAAGAAATGGGTTCATATACCTGATCGCCTTGTCGATCTTGCATTACTGGGCAGGCTAAGAGCTCCCCTTCTGATGCCGCTTGGCTAAG\n",
      "\n",
      "ATTGGGCTTTTTGTAATTTCTCTCTCTTAAAGGCTTTGCTTTACCCAAATCGATTTGAGAGAGCCATGTCACCATACCGGCCATCACAGTCGCCCATGCTCAAAGGTTTGCTGCTCACACAATTTCAATTCTGCCCTCCAGAGGTGCTCGACTGGCCTTTAAAGTTGCTTAGCTCACACTGACCAAGTCCCATCGGGGTCATCGGAAGTTGTCTGCTATCGTTTCAATTATTCCTTTTGTAAATGGGCTCGTGGCTCCGTTTAATGCTTTTTTCTTACCACTTTATACGTCAAAAGATCTGTGCTATCAGCTTCAATTATTCCTTTCATAAATCGACTACAGCTCCATTTTCTTAACGTTTTTTTTCTTTATCTACTTATAAGCGTCAAAAGAAATGGGTTCATATACCTGATCGCCTTGTCAATACTGCGTTGCTCCGGCAAGCTACAGCTCCCCTTTCTGATGCCGCTTCACTC\n",
      "24M1D9M1D15M1D3M1D18M1D8M2D11M1I9M2D24M2D2M1D22M1D1M1D18M1D17M1I8M1I8M1D65M1I19M2D10M3D10M1I31M1D13M1D6M1I8M1I68M1I9M1D10M1I14M\n",
      "0.9037328094302554\n",
      "read_id: test_read_10_471325_471825 \n",
      "\tmap_start 9, map end 493\n",
      "\t500\n",
      "AGTCATCACAGCTTGTCACCTTAAAAAACTGAAATGCTAAAGCATGTGGCCATTACAGCTCTCATGTAAAAGCATTTGCAGACAACAGGGCCCTTATGACATCCAATAAACAGAAACAGCATTTTCTGTATATCTCGTCCACTTAACTGTGCACATTTAATTCTCACGAATACCTAGTCGCCTGCAGGGCTATTATTACCCACACTGTACACGtaagaaaaagaaggcaaatgGAGAGAAAGTAGTTTCTCAGGAAACCAGTTACTCAATAAATAAGGCGAGAAGCCACGTTTCCGGGCTTAGAAGATGAACATTTTGCCCACTTTACTCATGTTTCCTTCTTGGGAATATTCTTAGGAATATAAATAATGGTTCAAACATGTTGACTTGTAAATTCGtacattcattcaccaaatatttctcAACTGCCGAATAGGTACTAGGGCCTGTGACAACACAAGGGATAAAGTGTTGAAGATGGGCAATTAGCTACATCATGTAGATAAATAACACTTGTCAGCCTATCACTTTACCTTTCTGTGCTCATGAT\n",
      "\n",
      "ACAGTTTTCTCACCTTAACTGAAATGCTCAACTCAGCCGTGCCGGTTTCTCATGTAAAAGCATTTGCAGACGACACAGCCCTCTCGACATCCAATAAAACAGAAACAGCATTTTCTGTATCTGTTCATTCCCACTTAACTGTGCACATTCCATTCTTCACGAATCCTTCATCGCCTGCAGGGGCTACTTACTACCCACACTGTACACGTCAAAAAGCGAAGTCGAAAGTCATTTTCTCAGGAAACCAGTTTTTTCAATAAAATAAGGCGAGAAGCCACGTTTCCCGGGCTTCAAGATGAACATTTTGCCCACTTTACTCATGTTTCCTTCTCAGGAAATGTTTTCTTCAGATCAATAATCGTTCAACATACTTCACTTGTCATTCGTACATTCATTCACCAAATACTTCTCATTGCCAATCGGTCTCGGCCCTGACGACGCAAAGAGATAAAGTGCTCGAAGATCGGGCAATTAGCTACATCATGTCATCAAAATAACACTTGTCGCCTATCACTTTACCTTTCTGTGCTCATCA\n",
      "48M1I26M1I5M2I25M1I23M1I6M1I36M9D6M1I18M1I9M1I23M1I8M1D46M3I7M1I2M4D14M1D5M1I10M1D31M1D6M1D7M1D8M2D9M1I13M1I8M1I21M1D3M2I14M1D28M\n",
      "0.8143607705779334\n",
      "read_id: test_read_11_495185_495735 \n",
      "\tmap_start 59, map end 547\n",
      "\t550\n",
      "caattgaatgaataaactaatGAGTGAAAAACCTTCTTGCGACCCGCAGTCACCTTGGTCCCCTTTGACCAGAGCCAGGTTGACGTGTCAACCGTCAAGATATCCCTCTGTTTTGGGTGATAATTAGATTTCTATCTTGACTGTTACAGACATTGGTATTCCTCcattaaaatgtctttctttcagGCCAggtccggtggctcacgcctgtaatcccaacactctggggggccgaggcgggtggatcacctgagttcaggagttcgagaccagactggccaacatggtgaaaccctgtctctactaaaaatacaaaaatcagctgggcatgatggggcgtgcctgtgatcccagctactcaggaggctgaggcatgagaatcgcttgaacctgggaggaggaggttgcagtgagccaagactgcgccactgcactccagcctaggtgatggagtgagactctgtcttaaaaaaaaaaaaaaaagaaagaaagaaaagaaaaaaagtctttctttCAAAGTTGGAGACATCCCTAAACATTCTAACTCCTGTCCCTGACAAGGTCCCATCTTAAGCAGGTCTCTGAAACCTCTGGAAGAAG\n",
      "\n",
      "ATAAATAAACTTGATCAATTGAAAAACCTTCTCCGTACCCGCAGTCACCTTCGTCCCTTGACCAAAGCCATTAGTCTCATTTCATCATATCCCTCTGCTTTGGGTGATAATACAATTTTCTATACTAACTGTTTACAGACATTGGTACTCCTCCATTCCGAAATATTGCTTTACTTAGCCAGGTCCGGTGGCTCACGCCTGTAATCCCAACACTCGGCTGAGGCGGGTGGATCACCTCATTTCAGGAGTTCGAGACCAGACTCGCCAACATGGTGAAACCCTGTCTCTACTAAAAATACAAAAATCAGCTGGGCATGATGGGGCGTGCCTGTGATCCCAGCTACTCAGGAGGCTGAGGCATGCGAATCGCTTGAACCTGGGAGGAGGAGGTTGCAGTGAGCCAAGACTGCGCCACTGCACTCCAGCCTAGGTGATGGAGTGAGACTCTGTACTTAAAAAAAAAAAAAAAAAATTACTTTACTTCAAAGTTCGATCCCTAAACATTCTTAACTCCTGTCCCTCAACAACCATCCCCGTCTCACAGTCTCTGAAACCTCTCAAA\n",
      "12M1D4M1I21M2D13M2D2M1D1M1D6M2D31M1D4M2I15M1I25M3I3M1I8M1I3M2D1M1D38M5D235M1I17M16D7M2D17M4D14M1I14M1I5M1I3M1I9M2D2M1D15M\n",
      "0.8550488599348535\n",
      "read_id: test_read_12_683244_683844 \n",
      "\tmap_start 24, map end 592\n",
      "\t600\n",
      "ATCCTGGCTCCAGCACTCAATAGCTGTTTGACCCTTGGCAAGTTTCTTAACCACTCTATGCCTCagattcttcatctgtgaaatgggggacAATGATAGTACCTAACTTATGAGAACTAAATGACTTATTTTGTATAAAGCAATTAGAACAAGCAGCGCCTGGCATAATAAGCCCACAATAAAAGTTActcccggctgggcacggtggctcacgcctgtaatcccagcactttgggaggccgaggtgggcagatcacaaggtcaggagttcaagaccaacctgaccaacatggtgaaaccccgtctctactaaaaatacaaaaatttttagtagagacggggcgtggtggtgcgtgcctgtagtcccagctactcgggaggctgaggcaggagaattgcttgaacccgggaggtggacgttgcagtgagccaagatcccgccactgcactcagcctgggcaagagagcgagactccgtctcgaaaaaaaaaaaaatggtgctccCACATTTCTTTCTTGGGATGGAGGAAGCTTTCCCAGAAGCGCTCCTGACCGACTTTCCCACACATCTCACTGGTCAGAACTGCATCACTTGCCGTTTCTGACCAATCACCAGCTTACATTCATGGGGCACGTGCTTACACTAACCA\n",
      "\n",
      "CTCCAGCACTCAATAGCTGCTTGACCCTCACATTTCTTAACCACTCTATGCCTCAGATTCTTCATCTGGAAATCAGAAATGATAGTACCTAACTTCTCGAAGCTCAATCAACTTGCTTTCTATAAAGCAATTAGAACAAGCAGCACCTCGCATAATAACCCACCAAATAAAAGTTACTCCCAGCTAGGCACGGTGGCTCACGCCTGTAATCCCAGCACTTTGGGAGGCCGAGGTGGGCGGATCACAAGGTCAGGAGTTCAAGACCAACCTGACCAACATGGTGAAACCCCGTCTCTACTAAAAATACAAAAATTTTCGTCAAGACGGGGCGTGGTGGTGCGTGCCTGTAGTCCCAGCTACTCGGGAGGCTGAGGCAGGAGAATTGCTTGAACCCGGGAGGTGGACGTTGCAGTGAGCCAAGATCCGCCACTGCACTCAGCCTCAGCGCCAGAGCGAGACTCCGTCTCAAAAAATCGTACTGCCGCATTTACTTACTCAATCAAGCTCCCAGAAGCGCTCCTGACCGACTTTCCCCACACATCTCACTGGTCAGAACTGCATCACTTGCCATTTATAACCAATCACCACTTACATTCATCAGACACGTGCTTACACTAAC\n",
      "28M3D40M1D5M2D4M1D20M1I2M1D8M1I49M1D5M2I147M1D111M1D44M8D22M1I6M3D2M3D7M2D26M1I55M1D32M\n",
      "0.9344512195121951\n",
      "read_id: test_read_13_398055_398705 \n",
      "\tmap_start 7, map end 648\n",
      "\t650\n",
      "agggaagccagctgccatgtcctGAGGTTACTCAAGAAGCCCTGTGGAGTAGGCCATTTGGGGAGGGACTGAGGCCCCCAGGCAACATCTGTCCCAACTTGCCAGTCATGTTAGTGAACTACCCTTGTCCAGCCTTCAGATGACACCTCATGAGAGGCCCTGAGAGAGTCTTATTGTCCCGTTCACCATTCCTGTTGCCCTGTGGCCAGCTAATCAGCTTGTggtggttttcatttcttttttctttttgccattaaTAGCAatgccaggctgggctcagtggctcatgcctgtaatcccagcactttgggaggccgaggtgggtggatcacctgaggtcagaagtttgagacaagcctggctaacatggtgaaaccctgtctctattaaaaatacaaaaattagccaggtgtgatggtgtgcgcctgtaatcctagctacttctCCCAAGTAGAAGGGCGTGATTCTTCTCATGCCtcatgctgaggcatgagaatcacttgaacccgggaggctgaggctgcagtgagcggtgtttgtgccactgcacttcagcctgggcgacagagtgagactatctcaaaaaaaaaaaaaaaagtagcaatgCCATAGTAAGTATTCTTCTAATTAAGCCCTTCTGAATCAGCTTAATTATTTGCTTAGGGTCAATTTCTAAATGCACAGTTGCTGGATCAGAGTA\n",
      "\n",
      "TCACTGCCCAATGTCCTCATTCTAGAAGCCCTGTCGATAGGCCATTCAGAGGCTCGACCCCCCGGCAACATCTCCCAACTCCCATAATGCTCATCGAACTCCCTTCCACCTTCAGATGACACCTCATCAAAAAGTTAGTCGAAAATTGCTCCTCCCATTCACCATTACCTCTGCCCTGTCGCCCACTTAATCGACTTGTGGTGGTTTTGATTTCTTTTTTTCTTTTTGCCATTCATCGCAATGCCACTCCCTTTCAGGTGGCTCATACCTGTGATCCCAGCACTTTCAAACCGAGGTCGGTCGTCGCCTCGCATCAGAAGTTTCAACAACCTGGCTAACATGGTGAAACCCTCTCTCTGCTCGATCCAAAATTCACCCAGGTGTGATGGTGTGCGCCCTGTAATCCTCACTCTCTCCCAAGTAGAAGGGCGTGATTCTTCTCATGCCTCATGCTCGAGCATGCGAATCACTTGAAACCCGGAAACTCGCAGCTGCGGTCGGCGGTGTTCTGCCCACTGCGCTTTTCAGCCTCGGCAACCAAGTAGAGAGTTTGTGTCCGTCGCAATGCCATCGTCAAGTCCCTACTTTTCTAATTAAGCCCTTGTCGATCGCTTAATTACTTGCTTCCGGTCAATTTCTCAATGCACAGTTGCTCAATCAAGTT\n",
      "14M1D9M2D6M2D2M1I2M2D15M2D7M1D5M1D5M1I10M1D4M2D4M1D23M6D9M2I6M4I14M1I3M1D9M1I34M1I31M2D2M3D1M4I3M1I29M2D17M1D6M1I1M1I1M2D12M1D4M1D32M2D34M1I11M2D1M1D3M1I42M1I2M1D29M1I21M1I2M1D10M2I15M2I2M1I14M15D17M1I3M4I28M1D44M\n",
      "0.8158253751705321\n",
      "read_id: test_read_14_827036_827736 \n",
      "\tmap_start 34, map end 689\n",
      "\t700\n",
      "TGAAAAATGCATAAGAGTCTTTCAAcggcagaattgatcaagcagaaggaaCTGGTGAGAACTGGCTATCCAAATATACACGAagccaaaaaaagaattaaaaaagaataaagtatgcctacaaaatgtagaaaatagtctcaaaagggTAAATCCAAGAGTTATTGGTCTTAAAGAGGATgtagagggagagaaaagggtaAATAGAGAgatcttttcctcagcacatggaacattttgaGAGATCAGGGTAGAAAggtcagagaaataaaaacaaacaaccttccAAACCTCAAGAAAGATATAAACATCCAGGTACAAAAAGGTCAAAAAACACCAAGcagattcaacccaaataagactacctcaaggcttataataatcaaactttcaaagatcaaagataaagaaaggatcctaaaagcaccaagagaaaagaggcaaataacatataaaggaacTCCAATACATCTAGCAGCAGACTTTTCAACAGcaactttacaggccaggagggAGTGGGAAAACATATGaaaactgctgaaggaaaaccAACCTTCAACCTAGAATATTATCTCCAGCAAAATTATCCTctaaacatgaaggaaaaatagtctcccagacaaacaaaagctgaggaatttcatcaataccagatctgtcttacaagaaatgcccATGGGAGTTCTCCAACCTGAAATAAAAGGACATTAACTAACAACAAGAAATCGTCTGAAGGTATAAACTCACTGG\n",
      "\n",
      "TCCATTCATCTTCAACAGCAAATTGATCGACGAAGGAACTCGTCGACTTGGCTATCCAAATATACACAAACCAAAAAAAAAATTCGATCGAGTCTGCCTACAAATGTCAAAATAGTCTCAAAAGGGTCATCACGAGAGTTACTCGTACTCAATGAGCCCCCCCCCGTCATCGAAATATTTTTCCTCAGCACATGGAACATTTTCGAGATCCCCCCTCCACCTCCCAAATCAAAAACAAACAACCTTCCAAACCCAAAGATATAAACATCCAGTACGAAAAGGTTCAAAAAACACCCACAGAATTAAACCCAAATCGTTGCCTCAAGGCTTATAATAATCAAACTTTCAAAATCAAAGATAAAGAAAGGATCCTAAAAGCGCCAAAAAGAGCGAATGACGTCTCAAAAAGGAACTCCAATCGTCTCGCAGCAGACTTTCAACGGCGGCCCGGCCAAGGAGGGAATCAGAAACATTCTCGAAAGCCTCAAAGGAAAACCAACCTTCAACCTCAAGATACTATCTCCAGCAAAATTATCCTCTAAACATCGAAGGAAAAATCATACTTCCCAGACAAAACAAAAGCTCAAATTAAGTCAATACCAATCTCTACAGAAATGCCCATCGAAGTCTCCATCTGAAATAAAAGGACATTAACTAACGACAGAAATCGTCTGAAGGTGTCAAACTCACTAT\n",
      "10M1D10M1D1M1D12M1D24M1D17M5D2M1D15M1D6M1D20M1D4M1I14M1I9M12D11M1D11M1D25M1D6M1I6M2D7M2D6M1I23M1D1M3D17M1D11M1I14M1D3M1I13M1D2M1D34M1D33M4D6M1D11M3I16M1D15M1D13M4D6M1I13M1D5M1I3M1I6M2D2M1I23M2I2M1D33M1I9M3I5M1D8M1I13M2D16M1D3M2D2M1D3M1D17M1D5M1D30M1D19M1I9M\n",
      "0.8560311284046692\n",
      "read_id: test_read_15_220153_220903 \n",
      "\tmap_start 20, map end 748\n",
      "\t750\n",
      "aaatgtcttcttttgagaagtgtctgttcatatcctttgcccactttttgatgttttttttttcttgtaaatttaagttcttgtagattctggatattagacctttgttagctgggtagattgcaaagcgttcctcccattctgtaggctgcatgttcaccctgatgatagttttttttgctgtgcagaagctctttcatttaattagatcccatttgacaattttggcttttgttgcaattgcttttggtattttcttcatgaagtctttgcccatgcctatgtcctaaatggtattgcctaggttttcttctagggtttttatggttttgggtattacatttaagtctttaatccatcttgagttaatttttgtataaggtgtaaagaaggggtcccgattcagttttctccatatggctagccagttttctcagcaccatttattaaatatggatcaaattcacacataacactattaaccttaaatgtaaatgggctaaatgccccaattaaaagacacagactggcaaattggatagagtcaagacccattggtgtgctgtattcaggagacccatcacacatgcaaagacacacataggctcaaaataaagggatggaggaaaatttaccaagcagatagaaagaacaaaatagcaggggttgcaatcccagtctctgacaaaacagactttaaaccaacaaagatcaaaaaagacaagagcattacataacggtaaagtgatcaattcaacaactagagctaactatcctaatatatatgcacccaatacagg\n",
      "\n",
      "CTACTTTGCGAAGTGTCTGCTTCATATCCTTGCCCACTTTTTGCAATATTATTTTTTCTCTGCAAATTTAAGTTCTCTCGTCTCGATATCATTCTTTGCTCACTCGGTAGTTCCAAAGCGTTCCTCCATTCTGTAGGCTGCATGCTTCACCCTGATGATAGTTTTTTTTTTGCTGTGCAGAAGCTCTTTCATTTAATTAGATCCCATTGACAATTTTGGCTTTTGTTGCAATTGCTTTTCGTTATTTACTCATGAAGTCTTGCCCATGCCTATGTCCTAAATGGTACTGCCTACAGTTTTGCTTCTCGGTTCTGGTTTTGGGTCTCGTTCATCTACTTTAATCCATCTAGTTAATTTTTGTATCACAGTGTCAAGATACAATTCAGTTTTCTCCATATGGCTAGCCAGTTTTCTCAGCACCATTTGCTCCAATCTCGATCAAATTCACACATAACGCTGCTTGACCTTTAAATGTAAATCGGGCTAAATACCCCAATTAAAAGACACAGACTCGCAATTCAATAGTCAAGACCCATTTGGTGTGCTGTGCTCAGAAACCCATCACACATGCAAAGACACACATAGGCTCAAAATAAAGAAATCAGAGTACCCCAAGCAGTCGAAAAAACAAATCACAGGGGTTGCAATCCCAGTCTCTGACAAACAACTTTAAACCAACAAAGATCAAAAAAACAAGCATTACATAACAGTAAAGTGATCAATTCAACAACTCAAGCTAACTATCCTCGTGTGCTCTGCACCCAATATACA\n",
      "15M1I9M1D14M2I2M1D12M1I15M1D5M2D11M1D19M1D15M1D19M1I16M2I43M1D33M1I9M1D10M1D34M1I6M1I8M4D16M2I8M3D13M2D15M1I12M5D1M1D48M1I32M1I7M1I12M1I35M1D8M2D12M1I17M1D49M1I4M7D2M2I8M1D10M1D32M1D5M1D26M1D3M2D57M1I14M\n",
      "0.9014598540145985\n",
      "read_id: test_read_16_98418_99218 \n",
      "\tmap_start 11, map end 796\n",
      "\t800\n",
      "aacctcatataagtggaatcagacaatatttgtcctttgttttgtttatttaatttagcataatgtcttcaaggctgatccatgttgtagcatgtgttagaattccaatccttttaaaggctgaatgatattgcactgtgtatatatatacacacacacacacacacacacacacaccacattttgcttatccatttatctgctgatggacacttgagttgcttccacagcttggctattgtaaataatgctgctatgaacataggtgTACAAACATCTGTTTGAGACCTCGCTTTCAAATCTTTtatgtatatatccagaagtggaactgctgaACCATGTAGTAATTctatgttaattttttgaagaaccagcATATTGTTTCaacaagctgggcacggtggctcactcctatacaGCAACTGTATCATTTTACACTCCCAGGAACAGTGCAAAGGCTACAACTTCTCTACATCCttactaacacttgttattttctgttttttgcttgtttttatagagacaggggtcttgcttatgcccaggctggtcttgagctcctggcctcaagggatcctcccacctcggcctcccaaagtgctctcaAAATagactgtgcctggcctattttttggttttcttttcttcttcttcttttttttttttcagtaacagCCCTCCTAATGAGTATGAAGTTGTATCTCATtgactgtgattttaatttgcatttccctaatgattaatgatgttgagcatctttttacatgcttattggccatttgtatatttgttttggaGAATGTCTATTCAAAGCTGTTGTCCattttttgattgggttgttttgtttgtt\n",
      "\n",
      "TCTCATTGGAATCACGACAATACTCTCCTTGCTTTGCTTATTAATTTCACATAATGTACTCAAGGCTCATCCATGCTCTAGCATGTGCTCATTCCAATCCTTTTTAAAGGCTCAATGATACTCCGCTGTCTATATATATACACACACACACACACACACACACACACCACATTTTGCTTATCCATTTATCTGCTCATGGACACTTACCGAGTTGCTTACCACAGCTTCACTCTAAATAATGTCTGCTATGAACATCGGTGTCAACGTCTCTTTGAGACCTCGCTTTCAAATCTTGTGTCTATATCCCGAAGTCAAACTGCTCGACCCGTGTCATAATTCTATGTTAATTTTTTGAACCAGCATATACTTTCAACGAGCTTGGGCACAGTCCTTTACACTCCTCTGCGGCAACTGTATCATTTTACACTCCCAGGAACAGTCGCAAAGGCTACAACTTCTCTTTACATCCTTACTAACACTTGCTCTGTCTGCTTTTTTGCTTGTTTCTCAACAGTATGCTTATGCCCAGGCTGGTCTCGAGCTCCTGGCCTCAAGGGATCCTCCACCTCGGCCTCCCAAAGTGCTCTCAAGTCGCTCTGCCTGGCCTATTTTTTCGTTTTACTTTCTCTCTCTTTTTTTCAGTAACAGCCCTCCTAATCAGTATCGAAGTTGTATCTCATTGACTGTGATTTTAATTTGCATTTCCCTAATGATTCATGATGTTGAGCATCTTTTTACATGCTTCTGGCCATTTGTATCTACTTTGGAGAATGTCTCTCAAACTTTTTGTCCATTTTTTGATTCAGTTGTTTGCTTTGT\n",
      "8M1I7M1D6M1D12M1D49M2D11M1I104M3I9M1I9M2D1M1D13M1I19M1D1M1D30M2D29M1I31M3D25M1I10M1D3M3I45M1I19M2I22M1D7M1I16M3D2M1D3M3D2M1D47M1D26M1D6M1D32M1D2M1D2M1D2M5D32M1I79M1D11M2D21M1D43M\n",
      "0.9181084198385236\n",
      "read_id: test_read_17_511554_512404 \n",
      "\tmap_start 13, map end 849\n",
      "\t850\n",
      "ATTCAGAACATAGCACTTTCCCATTAGATTGTGAGGATAAGGACTATATCTAAGCCATTCACTTCTATATCCCTGTTGCCCACTATATACctagcatacagtaggtgcttaataaatgtttgaaaaatgggTGAATGAAATATTGTACTTTCTAATTCAAGcattttctgagcacctactgtgcacCAGGGCCTGTGCTATGGGCTGTATATACAGAAATACATCAGTGAGAGTCCTCAGCCCTAAGGCCATTGgtctgaagaaaaaagagaaattgcaaCAAGTGCCATAGCAAACACAGCTGGGAAATTCACTGATGTAGTTTGGAGGTGTGTCTCTGCTCAAATcatatattgaaatgtaatctgcagtgttggaggtagggcctggtgggaggtgattggataatggaggaggatttctttttttatatctatcaggaatgcaaaattaatttaataatcgAAAATTACTATAATTCACAGACTAAGACAAGAAAAGCCATACGATTCTCTCACCAGTTGCAGAAAAAGCATATGATagaattaaacatctttttatgattttttaaaattatactttaaattctgggatacatgtgcagaatgtgtaggtttgttacataggtatacatgtgccatgttggtttgctgcacccatcaacttgtcatttacattaggtatttctcctaatgctatccctcccccagccccccaccccctgacaggccccagtgtgtaatgttcccctccctgtgtccatgtgttctcattgttcaactcccacttatgagtgagaacatgtggtgtttggttttctgtccttgtgatagtttgctgagaatggtggtttccagcttcatccatgtccctgcaaaggacttgaactcatcccttttt\n",
      "\n",
      "GTCGCACTTTCCCATTAGATTGTCGTCGCTCTGTCTCACCCATTCACTTCTATATCCCTGCTCCCCACTATATACCTAGCATACAGTCCATGCTCCATCAATGCTCGATCCGTAAATAAAATACTCTACTTTCTAATTCAAGCATTTTCTTGAGCACCTACTGTGCACCAGCCCTGTGCTATGGGCTGTATCTGCAAAATACATTCAGATTGAGAGTCCTCGCCCTAAGGCCATTCGTCTCGAAATTGCAACAAGTGCCATCACAAACACAGCTACGGAAATTCACTCATGTAGTTGGAGGTGTGTCTCTGCTCAAATCATACTGCTCGAAATGTAATCTGCAGTGCTTGGAGGTCGGCCTCGTCGGGGGGGTGATTGGATAATCGAGAATTTTTTATCTGTACTCAGGAATGCAAAATTCATTTTTCGTCATTCGAAAATTACTATAATTCACAAGTTTCAACAAGAAAAGCCATACGATTCTCTCACCAGTTGCAGAAAAAGCATACTGATAGAATTAAACATCTTTATGATTTAAAATTATACTTTTAATTACTCAGATACGTGTCCCAGAATGTGTAGGTTTGCTTACATAGGTATACATGTGCCATGCTCGTTTGCTGCACCCATACAACTTGTCATTTACATTAGGTACCTCTACCTAATGCTATCCCTCCCCCAGCCCCCCACCCCCTGACAGGCCCCCGGTGTGTAATGTTCCCTCCCTGTGTCCATGTGCTCTCATTGCTCAACTCCCGCTTCTGGTCAACGTGTGGTGCTTCGTTTTGTCCTTGTGATAGTTTGCTGAGAATGGTCGTTTCCATCTTCATCCATGTCCCTGCAAAGGACTTTGAACTCATCCCTTC\n",
      "20M1I4M7D79M4D42M1I20M1D26M1D7M1I4M2I11M1D19M11D34M1I19M1D28M1I1M1I21M1I8M1D9M2I24M8D13M1I18M2I6M1I23M1I7M1D46M1I17M2D7M3D21M1I13M1I18M1I42M1I28M1I41M1I17M1D45M1D2M2D20M2D63M1I15M\n",
      "0.9069264069264069\n",
      "read_id: test_read_18_936710_937610 \n",
      "\tmap_start 12, map end 897\n",
      "\t900\n",
      "TTATTCTCTGTGTAGAAAAGACTTGGGAGGCTCCCTCAGCTTCCTTTTAGGCACTTACTATGTCTGGGGATGGGAACAGCCGTGCTCCCAGAAAGCAGTCCAGTCAAGGGTGTGAAAGGCTGCCACGAGACAGTGATCGTAATATTGTTTGCTGAGcgtttactacatgccaggcactgtgttaatgCTTCATGTGCAGTATCTCATTCAGGCCTCATCACACCCTTTTTGAGGTAGGTATGCCTAAAGcacccattctacagatgaaacCGTGAAgggacttgctcagggtcactcAGGGAAGTAGGGATGGAGTCGGGATTTAAGCCTTTGCTTTAGTGGCCAGTGGCTTAAATGGGACTCAGCATAGTGTTGTAGCTACTCACTGGTCAGGTGTGAGGAGTAGGGGGACATCCAGGGAATTTTTCATTCAGCTCTGGACCTTGCATTATCAGGTTGGTATGGATCCCATAAGGAGGGATGTcagaacctgggcaacatagggaaaccctgtttctataaaaaatacaaaaatcagctgggcatggtagtgcatgcctgtaatcccagctacttgggaggctgaggtgggaaggtcactggagcctgggaggtctgggaggtcaaggctacagtgagctgtgatcatgccactgcactccagcctgggcaacagagtgagaccctgcctcaaaaaagccTTTGCTTTGGTGGCCAGTGGCTTAAATGGGACTCAGCTGGAGGAAACAGTGGGGGCATATCACTGAGAAGTTCCCAGAAGTGGAATCAGGCATAAAGTTCAGGAGGACAGAGAGTCATTCAGAGATTCCTTGTGGGGAAGCGACCTTCCCACCAGTGGAGGTATTCCAGCACGGCTGGATGATGATTGCAACTATGGAGGGAATCTATGAAGAACCAGATGACACGTGAGATTTTTTGCAGCCCTGTGA\n",
      "\n",
      "CTATCTCAAAAAGACTTGGGAAGCTCCCCTCAGCTTCCTTTACGGCGCTTACTATGTCTCGGAGATGGGAACAGCCGTGCTCCCCAGAAAGCAGTCCAGTCAAGGGTGCTGAAAGGCTGCCACAACAGTGATCGTAATGTTCTACTTTTGCTCAAGTTCTACATGCCAGGCACTGTGTCATGTCTTCATGTGCAGTATCTCATTCAGCCTCATCACACCCTTTTTGAGGTAGGGTGTCCTTAAAGCACCCATTCTACAGATCAAAAGTCGTCGAAGGGACTTGCTCAGGGTCACTCAGGGAAGTAGGATCGTCGGATTTCAAGCCTTTGCTTTAGTGGCCAGTGGCTTAATGGAACTCAGCGTCGTGCTGTAGCTCGCTCATTCGCCATATCGCCATCAGGGACATGCAGGAAATTTTTCATTTCGGCTCTCGGTTCTTCCGTTGTCGGATTTCATATCGATCCCGTCAAATCGCGAACCTCCGCAAATTCCCGGAAAGTCCTACTTTCTATCGATTCCAAAATCAGCTCAGGACATGGTAGTGTCATCCTCTGCAATCCCAGCTACTTCAAACTCGGGTCGGAAGGTCACTCGAAAAAGTTCTCGAAATGTCGGGAATCAAGGCTTACAGTCGAGCTGTGATCATGCCGCTCCGCTCCAGCCTCGGCAACCGAATTGGAGACCCTGCCTCGAGCCTTTGCTTTGGTGGCCAAGTCGCTTAAATCGAACTCAGCTCGAGGAGACCCATCGGTTATATCACTCAAATTCCCGAAGTGGAATCGCCGCATGAATTTTCAGGAGCGAGTCATTCAAGATCCTTGTCGGGGAAGCGACCTTCCGCCGTCGGAGGTGCTCCAGCGCCGCTCGGTGGTCAATTGCAATTTTGTCGAATGTCTGGAAAAACCAGATCAACGCGTGCGATTTTTTGCAGCCCTGTC\n",
      "17M1I33M1I21M1I26M1I14M1D1M1D17M4I9M1D4M2D19M1D5M1I23M1D25M1I33M2I4M1I33M1D4M2D4M1D6M1I28M1D27M1I12M2D11M2D22M1I9M1I15M1D2M2I18M2D1M3D5M1D12M1D2M2I7M1I4M1I8M3D17M2I13M1I5M1I18M2D25M4I2M1I3M1I8M1D4M1D8M1I6M1I43M2I13M4D20M1I51M1D2M1D5M1D11M1D1M2I4M1I12M2D1M3D10M1D3M1D7M1I14M1D5M1D2M1I27M1I13M2D10M1I12M1I27M\n",
      "0.8865461847389559\n",
      "read_id: test_read_19_876363_877313 \n",
      "\tmap_start 15, map end 948\n",
      "\t950\n",
      "ACAGCCACGCCAGATGGACGAGAAGACCAAGAAAGGTGGGCACAGGCTGGAGGTGGCTGGGGAACTTCCGGTGGGAAGTGGGCCCCGCAGGACCTGGCCTTGCCCCTGGCCAGAAGGGCCTTGGAGAGGGGGCTTTAGCCTGCCCTCCCTCTACCCTCCTCCCCATCAGTTTCCTCCTTTGGTACCTGCTGGCTTCCAGAGCCATCTTGGGGCCCTGAGAACTCCTTGGGCTGGCTCTGTGCTGAGATGGGGCTAGGGGACTCGCAGAGGACACAGGGCATTGAACTTGGAGACCTCCTGGGCTGGTGGGAGACAGACGTCAGTTGACCTGAGAAGCAGGGGTACTTGCCTCTTCTCTTGTCCCCTGCACCTAGGGTTGTAGAACGGAAGTCAGTCACTGCCTTGCTGGAAACCCTCCCATGCCCCTCTGTGTTCTCCAAACAAAACCCAGAGGCCCTGGGTGGCCCACAGGATATCTGTCCTCAGTCACCCCGCCATGCTCACTCTACTGGAGCCCCACTGGCTTCCTTCGGTTCTCATCCAACCATTTTTTGGCCAAGGCCCTTACTCTTCCTTCCACCTGGACCACTCTTCCCCACTGGAGCTTGACACGTGCAGCTTCTCCTCCTTCAGGTCTTAGCTTCAGTGTTACCCCCTCCCAGAGGCCTCCCCTGGTCTCCTTAACCTGTTTATTTCCCTGCCAGCAAGGATCgcaatctgactttttttttttttcttgttaaactTGTTCATTGTCTCCCCACTGGGCAGGGAGATCCATAAGGAGAGGGGCCCTGTTTATAAATCTCTGTGGGATTCCAGTTCCTGGGACAGTGGGTGGCACACAGTAGAAGCTCAATAACTGCTTGTTGgataaatgaatagaaatatgAGGGACCCTGGGAATGGGAAGGACAAACAACCAAATGAGCCTAGTGTGAGGAGGAGTGGGGAATATTAGAGAACCCCTCCCGGAGAAAGGGACTTTTAGTCTGGGTGC\n",
      "\n",
      "CGCCAATCGAACAAAGCCAAAGGGTCGCGCTCGGAGGTGGCTCCCAAATTCCCGTGGGAAATGGGCCCCACAGGACCTGGCCTTGCCCCTGGCCAAGGGCCTTGGAAAGGGGGCTTGGCCCTTGCCCTCCCTACTACCCTCCTCCCCATCAGTTTCCTCCTTTGGTACCTGTCGCTTACAAAGCCGTGCTTCGTTATCGAAGTTTTAGCTTGGGCTGGCTCTGTGCTCGAGATCGGCCTACCGGAACTCACAAAGACACCCGCATTGAACTCGAGTCTCCTCGGGCTCGTCGAGACCCAACATCATTGACCTAAAAGCGGTACTTGCCTCTCTCTCTCCCCCTCCGCCTCAGGGTTGTCAAACGGAAGTCAGTCACTGCCTTGCTCAAAATCCTCCCATGCCCCTCTGTGCTCTGCAAACGAAACCCGAGGCCCTCGGTAGCCCACGGATATCTCTCCTCAGTCACCCCGCCATGCTCACTCTCTGCTCAAAAGTACCCCGCTCGCTTACCTTCGGTTCTCATCCAACCATTTTTTCAGCCAAGGCCCTTCTCTCCTTCCACCTGAATTTCCTTTACTCCCCACTCAAACTGACGCGTCCCAGTTTTTTTCTCCTCCTTTCAGTCTCCTTTCAGTGTTACCCCCTCCCAGAGGCCTCCCCCTCATACTCCTTAACCTACTTTCTCCTGCCAAGCAAGGATCGCAATCTGACTTTTTTCTACTACAACCCTTCATTGTCTCCCCACTCGACGCGGGAAATCCATCAAAGGTTATGCTTATAAATCTCTGTCGATCCATCCTCGGACGTGGGTGGCGCACATCAAAGCTCAATCATTTTTTGCTCAATAATCAATCAAATATCGTACCTGGAAATCAAAAGCCACAAACAACCCAATCAACCTCATGTCAACCGCCATCGCCGGGAAATGCTCAAACCCCTCCAAAGGATTTTTCATCTAGATC\n",
      "10M1D52M2D20M1D6M2I10M1I38M1D16M1I3M5D5M2I5M4I20M1I12M1I11M1D7M1D11M1D5M1D6M1I8M1D5M2I2M1D6M1D7M1D6M3D13M1I5M2D12M1I77M1D19M1D37M1D3M5I3M2I12M1I27M1I13M1D3M1D14M3I20M1D8M1I4M4I10M1I4M1D4M2I1M3D27M1I8M1I10M4D2M1I4M1I6M1I20M7D16M1D21M2I2M1D11M2I7M7D17M1D3M1D4M2D9M1D14M1D12M\n",
      "0.719885277246654\n",
      "read_id: test_read_20_408744_409744 \n",
      "\tmap_start 48, map end 860\n",
      "\t1000\n",
      "cccgccagtctcagcctcccaaagtactgagattacaggcgtgagccaccacacctggcctatcccagcactttgggaggccgaggtggatggatcactgaggtcaggagattgagacgagcctggccaacatggtgaaactccatctctattaaaaatacaataattaggccaggtgcggtggctcacgcctgcaattccagcagtttgggaggccgaggtgggcagatcatgaggtcaggagatcgagaccatcttggctaacacggtgaaaccctgtctttactaaaaaaatacaaaaaaattagccaggcgtggtggcgggcgcctgtagtcccagctactcgagaggctgaggcaggagaatgaggtgaacctgggaggcggagcttgcagtgagctgagatcacaccactgcactctagcctgggtgacaagttctgtctcaaaaaaaaaaaaaaaaggcagaaagaacaTGGATTCACCTGCTTatacaagaaaaaaggaaaaaaaaaagtgtacgaGTTGCCTTGTTACAATAAAACtaaatgtgtatacacacaaagGAAATGGAGGACATTCAGGGGCTGGGATGAAGGGTACAGAAGAAAGGCCAGGAGATACGGCCCTTCCATTTGACAGTAAATagactaattaaaaaatatttatgtagtatATATTAGGTGCAAGGCACCAGAGTTCATTTGAAGTGGAAGATATCACCAGAAGGTAGGGCAGATTTTAGAAATAACTAACAGAAGGTACATTAGGTTTTAGAAGGGACACCAAGCATCTTCCCCAGCAATGTTCTAGTCTGAGACCATTGTGAGTCTACAAACTGTTTCTATGACAAAGctgtacattattattattattattattattttatttttattttttgagacagagtcttgctttgtctcccaggctggagtgcagtgaagcaatcttggctcactggaacctctgtctcttgggttcaaaccattctcgggcctcagcctcccaggtagccaggattacaggcgcatgctgccaccacacctagct\n",
      "\n",
      "ATCTCAGCCTCCCAAAGTGCTCAATTCCACGTGAGCCACCACACCTGGCCTATCCCAGCACTTTGGAAACCGAGGTCGATCGATCACTCAAGATCAGGAGATTGAACCTGGCCAACATGGTGAAACTCCATCTCTGCTGAAATACAATAATTAGGCCAGGTGCGGTGGCTCACGCCTGCAATTCCAGCAGTTTGGGAGGCCGAGGTGGGCAGATCATGAGGTCAGGAGATCGAGACCGTCTGGCTAACACGGTGAAACCCTGTCTTTACTAAAAAAAAATACAAAAAAATTAGCCAGGCGTGGTGGCGGGCGCCTGTCATCCCAGCTACTCGAGAGGCTGAGGCAGGAGAATCGTGAACCTCGAAAGCGGAGCTTGCAGTGAGCTCGAGATCACACCACTGCACTCTAGCCTGGGTGACCAAGTTCTGTCTCAAAAAAAAAAGCAGAAAAAGACATCGGATTCACCTGCTTATACAAAAAAAAATCTGCGTTGCCTTGCTTCAATGAACCGAATGTCTATACGCGCAAAAGGAAATCGAATTCAGGGGCTCGGGATCAAGGGTCTCCAAGAAAAGCCATGCGGCCCTCCCATTTGACAGTAAAATCAACTTAATTAAAAAAATACTTATGTCATATATGCTCCATCCCGCCACGCGAGTTCATTTGAAATCGGAAATCACCAGAAGGTGGGGCGGTTTTTCAAATCACTCACCAAAGGTCGTTACGGTTTTCAAAGAAACCTACCAAGCATCTCCCAGGCGATGTCTTCTCATCTCAACCATTGTGAGTCTCAACTACTTTCTATCAACAAACTATACATACTCTCTCTCTGCTCCTTTACCTTTTACCTTTTGAGACGGTCTGCTTTGTCTCCCAGCTCGAGTGCGGTGAAAACAATGCTCGCTCACTGGAACCTCTGTCTACTTCATTTCAAACCATTCTCGGGCCCTCAGCCTCCCAGGTAGCCAGGATTACAGGCGCATGCTGCCCACCACACCTCAC\n",
      "22M1D6M2D35M1D24M1I16M4D1M1D32M1D102M1D30M2I80M2D33M1I32M1I23M7D9M1I4M1I18M12D9M1D3M2D18M1D21M1I12M4D11M1I26M5D23M1I8M1I5M1I15M2D7M2D6M3I23M1I4M3D18M1D26M1D5M1I15M2I11M2D4M1I6M2I11M1D14M1D1M1D4M1I8M1I6M1D7M4D39M1D1M1D3M1D14M1D14M1I31M1I23M1I40M1I11M\n",
      "0.8998144712430427\n",
      "read_id: test_read_21_453789_454839 \n",
      "\tmap_start 8, map end 1046\n",
      "\t1050\n",
      "ctgggagacagaggttgcagtgagctgagattgcactactgcaccccagagcgagactctgtctcaaaaccaccaccaccaccagcaccaccaccagcaccaccaccaccaccaccaccagcacatGTTGAGGATATTAAGTAGATAATAATACAGATGGCATGTAGGTGTGGCCAAAGTCATGAAGGTTGCCCACCACACGGTAAACTTTGTAGTCAgtgaataaatggatagatagGAGATAGAATGGAGGAATGCATGAATGGGTAAATGAGCAAGCGAATGAATACCTATCTCATCCATTCTACACAgccccagcacattgggaggttgTCCTATCTCAACTTGCATAGCTCCTAGAATGGGGGAACTCACTACCTTATGACATAGCCCTTTCCACATCTGAACCACTAGGAGTGTGTAAAAGACATTTTCTCATATTAAGTTTATCTTTCTGGAGATCCTGTGCTCTCTGGGGCCCCACAGACACATCTGCTTCCCTGTCTGGGGACAGCCCAAACACTTGCCCTCCCCAGGCTGCCCTTCTCTGGGCCCTTCTGCCCAGATGCTTGGCTGCTGTGCCCACCAGGTCCTGCTTGCACAGAGCTTATATCCTAGTGGGCGGCAGGACAAAGAACaagcacacaggcacacaaacaCAATGATTCCATGCTATGAAGGAAATGCAGAGTGAGACTGTTGGGAAGAGCATGGCGGGGTGTGGAGAGGCAAGGGGAGTCTCTCTAGGAAGGTAATATTTGAGCTGGGACCTGAAGAATGCAACAAAGCCAGAAGAACAAGAGAAAGGGCATTCCAGATAGAGGCAAGAGCAAGTGCAAGAGCCCTGAGATCACAGAGCAATTGGAAACTAGGAAGCAGCCAGCCTGGCTGGACATGGACATTTTGGGTATTGATGGTGAAGAGCCTggaattgttttctaaatttgatCTCCAAACACTTTTAAGCAAGAGGTGATATGATATGACATATTTTAGCAGACAATGAATATTTCCTGAATTAAAATTGAAGACCCTTCTAGTTCCAATAGTTCCATGCTTCCCAAAGTGATACTGAAATGACTTCAGGAgagaacaggctg\n",
      "\n",
      "GAGGTTCAGTGAGCTCAATTGCACTACTGCACCCCAGAGCGAGTTCTGTCTCAAAACCGCCCACCCACCCACCCAGCGCCCGCCCACCCAGCACCACCCACCCACCCACCCACCCACCCAGCGCATGCTCAAGATGTTTTCGTCAATAATAATACAGATGGCGTGTCGGTGTCGCCAAAGTCGTGGAAAAATTTGCCCACCACACGGTAAAGTTTTCTCATAGATCAATCAATCGATAGGATCGGAGATAGAAATCGAGGAATGCGTCAAATCGGTCATCGACAAGCGAATGAATACCTATCTCATCCATTCTACGCAGCCCAGCATTCGAAATTGTGTATCTCAACTTGCATACATTCCTCAAAATCGGCAAATCACTACCTTCTGACATAGCCCTTTCCACATCTGAACCACTACGGAATCTCACATTTTCTCATACTGCATTTTTATACTTCTGGAGATCCTGCTCTCTCAAGTTTCACAGACACATCTGCTTCCCTGTCTCAGAAACCCAAACACTTGCCCTCCCCAGGCTGCCCTTCTCTCGGTCTCTGCCCAGATGCTTCACTGTTTTGTGCCCACCAGGTCCTGCTTCGCCGAGCTTATATCCTAGTCGGCAGCAGGACGAACAAGCACACAGGCACACAAACACAATGATTCCATGCTATCAAGGAAATGCAAGTAGAGAGTTTTGCTTCCGAAGGCGTCGCAGGGGTGTGGACCACAACCCGATCTCTCTCCGAAGGTCATGCTTCAACTCGGTTATCGATCCAAACAAAGCCCGCCAAAGGGCATTCCAATCAAGGCAGAAGAGCAAGTCCAAGAGCCCTCAATCACCGAGCAATTCGAAACCCGAAGCAGCCACCCTCGCTCGGACATGGACATTTTTGGGTACTGATCGTGAAGCCTCGGAATTGCTTTCTAAATTTGATCTCCCAAACACTTTTTAAGCGAGAGGTGATATGATATGACATACTTTAGCAGCGATCAATATTTCCTGAAATTAAAATTCGAGACCCTTCTACATTCCCAATAGTTCCATGTTCCCCAAAGTGATTTGAAATGACTTCCAGAACAGGCC\n",
      "6M1D11M1D26M1D15M1I4M1I3M1I3M1I8M2I4M1I9M1I3M1I3M1I3M1I3M1I3M1I18M1I49M3I27M1D1M1D3M2I2M1I14M1I12M1I15M1I14M1D37M1D5M2D4M1D9M1D17M1D1M2I4M1I5M1D49M1I7M6D16M2I22M2D40M1D4M1D42M2D20M2I22M1D32M3D54M1D3M1I10M4I5M1D7M1I10M1I2M2D8M1D30M3D10M1I9M7D1M2D16M1D8M2I23M1D20M1D20M1I11M1I19M2D5M1I24M1I8M1I40M1D16M1I23M1I3M1I28M1D13M4D10M\n",
      "0.897302001740644\n",
      "read_id: test_read_22_636944_638044 \n",
      "\tmap_start 10, map end 1098\n",
      "\t1100\n",
      "cgtcatgcgcctgtagtctcagctacttgggaggctgaggcaggaggatggcgtgaacccaggaggtggagcttgcagtgagccgagatcgtgccactgcactccagcctgggcgacagagcgagactctctctcgaaaaaaaagaaaaagaactttcaaAAGCTTACCAATCAGccagcccttgttcatcccctAGCAGAagtgtggtggtattgtggtggacctttactggacaCTCTGCCGAATAACTGGATTGGCACTTGTGCTTTAGTCCAACtagctatccctttcaccctggcatttcatcaaccagaggaaggaaaaataagacatcgtAAAGTgagagaagccccttatgggtctttAGACTCTCACTTCTGTTTAGACGCAATTGGGGTCCCATGGAGAATACAAGATCAATTTAAAGTCTGgaatcaaatagctgcaggatttgagtcaatatCTTGGTGGGTGACAATTAATAAACATGTAGAttggataaactacatctattacaaccaacagtGATTTAGTAACTACACTAGAGATACTGTTAGAGGAATAGCTGAGCAAGTAGGGGCTACAGGCCAGATGGCTTGGGAAAATAGGACAGCCTTAGACATGATATTAGCAGAAAGAGGAGGGGTTTGCATCGTGACTAAAACTCAATGTTACACCTTCATCCCAAACAACATTGCCCCTAATGGAAGTATAACAAAGGCATTGCAAGGTCTCACTGCTCTATCCAGTGAGTTAGCCAGCAGCTCAGGGGTAAATGATCCCTTTACAGGATGGCTAGAAAAATGGTTCggtaaatggaaaggaataataGCCTCAATTCTTACCTCCCTCGTAGCTGTAATAGGTGTACTTATTCTTGTCGGGTGCTGTGTCATACCATGCATCCGTGGGTTGGTGCAGAGGCTCGTAGAAACGGCACTTGCTAAAACCTCCCTTAACTATCCTCCACCTTATCCAGAGAAgcttcttcttttggaaaatcaagCAGAACAACTAAGTCAAGACATGTTAAATAAGTTTGAAGAGAAAGCCGTAAGAAAAATGCAAGAGGAGGAAGTTGTTAAATATgaattctaaatttctcttcaaagaattagTATGTctgtatgttcaattctttgccttcta\n",
      "\n",
      "CGCCTGTAGTCTCAGCTACTTGGGAGGCTGAGGCAGGAGGATCGCGTGAACCCAGGAGGTGGAGCTTGCAGTGAGCCGAGATCGTGCCACTGCACTCCAGCCTGGGCGACAGAGCGAGACTCTCTCTCGAAAAAAAAAAGAACTTTTCAAAAGCTTCCAATCAGCCAGCCCTTGCTCATCCCCTACACACAGAAGTGTCATAGTGTGTGTCATCGACTGTTCTCGGACACTCTGCCAATAACTCAATTAGCACTCTACTTGCATCCCCTTCGCTATCCCTTTCACCCTGGCATTTAAGTCGCCCGACCAAGAAGTTCGACATTGGTCGAGTCAAGACCCCTTATCAGTACTTAGTTTCTCACTTCTGCTTAGACGCAATTGGGGTCCGTCAAATACAAGATCAATTTAAAGTCTCAATCAAATAGCTGCAGGATTTGAGTCAATATACTTGGTCGGTCGCTTAATTAATAAACGTGTCATTCAATCACTTTCATCTACTACAACCCACAGTAATTTAGTAACTACACTCAAGATATACTTAAGAGGAATAGCTCACAAGTCGCTACAGCCATCAGCTTACGGAAAATCGACAGCCTTACAACATGATACTAGCAGAAGGTTTTGCATCATAACTAAAAGTTCAATACTTACACCTTCATCCCAAACAACATTGCCCCTAATGGAAGTCTGTAACAAAGGCATTCCGCATGCTTCACTGCTCTATCCCAGTCGTTAGCCACAGCTCGGGTAAATGATCCCTTTACAGGATAGGCTCAAAATCATTCAGGTAAATGGAAACCAGATCATCACCTCAATTCTTACCTCCCTCGTAGCTGTAATCCATACCTCTCTCGGGTGCTGTCTCATCCATGCATCCGTCAGTTGCATGCGAGGCTCGTCAAACGGCACTTGCTAAAACCTCCTTTCCCGACTCTCCTCCACCTTATACAGAGAAGCTTACTTACTTTGGAAAATGACAAACAACTCATCAAAGACATACTTCAATCATTGAAGAGAAAGCTCGTCCATCCAAAGAAGTTGCTCAATATCGATCTAAATTTCTGCTTCAAAGAATTCATCTGTCTCTATGTTCAATTACTTGCCTTCT\n",
      "134M4D9M1I12M1D29M3I18M1I9M1D7M1I12M1D17M1D44M1I2M1D11M3D10M1I11M1D3M2D51M2I2M5D23M1D32M1I13M2I15M1D51M2I9M1D16M1D5M3D7M1D3M2D2M1I5M1I8M1D11M1I18M7D21M1I6M1I40M2I15M2I7M1D12M1I5M1D9M1D6M2D24M1I4M2D11M1I15M1I38M2I1M4D3M3D3M1D18M1D18M1I4M1D9M1D27M3I30M1I17M2D2M1D9M1D2M1I7M1I9M2D13M1I3M5D8M4D1M1D15M1I2M2D11M1I44M\n",
      "0.8974789915966387\n",
      "read_id: test_read_23_799308_800458 \n",
      "\tmap_start 7, map end 1149\n",
      "\t1150\n",
      "tagtcttCTCACAAGAGAATGACCCTCTTTTAGGTACCCCATTGATTTTACGGCATCTCTACTTTGCAAGTGTTTGTGTAAATGGACATATTATGGTCTCTTTGTGCACAATTATGTCAAAGACAATTTAGAGCTTGAAGGTTGACCTCCAGCTGTAAAGTTCCTAAGTTCTCtatctctctgctttcttttctgcctgttttaagtctgctattatttttctttctttttttgagacagagtcttgctctgtgcccaggttggagtgcagtggtgcaatctcagctcactacaacctctgcctcccaggttcaagcagtcctcccacctcagcctcctgaatagctgggactacaggcatgtgccaccactcttggctaatttttttttttttttgagacagagtcttgctctgttgcccaggctggagtgcaatggcatgatctcagcaaaCCAACGAGTTTCTATTAATATCTCATGGCTAGAGTTCTGAGATAATAGCTATAGGATCTTTGGTTGTatgagtatgtatgtgtgtgtttatgcatacatacacttatttcattgtgttttctaGCCACAGGTACTGAATTGGCTTAAAGTTAAAGAATATTCATAAATTAATAAGCCtaaatgcttttcaagttcatgtgacttaagtaaaatctttaataagctagctttaaaattattggtaaagtaatattagaaatgtcttaaaaatTGTTAGCAtaaatttttgtttgcatttattgatcAAGGGACTTCATATACTGCCAAATACTgtaaggtgtcaaaatttggcatagggTTTGTAAAACTACAAAACCGTTCAAAACAgaatgatttttgcttttgtaatttttgataaataagacattgatattggtttaatgaaaacagctaaatCATGAATTATTTAGTgaaataacaatatatttaatCTTAAGGTTTTTACTTAGCAAACACCTGAAATTCACAGGCTATCAAATGTTTGACAGggaaataactttaaatgatgactatcacagttttcataaCTAACCTGggtaaactattaaaataaaatatttaggtaaatgtaatgggataaatacttgtagacaaaGTTGTCATAATTTAGGATCTAAAGTTATGTTAAATTAAACAATAGATATTTCATTAActgggtttttttaattaaaaaagatattgcaggaa\n",
      "\n",
      "CTCACAATCGCCTGCTTTACGGTCCCCATTGATTTCGCATCTCTACTTGCAGAATGCTTTGTGTAAATGGACGTGCTCTCGTCTCTTTGTGCACAATTATGTCAAAACAATTTCGAGCTTCGAAGGTTGACCTCCACTGTCAAAGTTCCTCAAGTTCTCTCTATCTCTCTGCTTTCTTTCTGCCTGCTTTCATCTACTATCCTTTCTTTCTTTTTTTGAGACAAGTACTGCTCTGTGCCCAGGTCAGTGCAGTGGTGCAATCTAGTTCACTACAACCTCTGCCTCCAGTTCACAGTCCTCCACCTCAGCCTCCTCAATAGCTCAACTACAGGCATGTGCCACCACTCTTGGCTAATTTTTTTCGAGACGAATTACTGCTCTGCTCCCCAGGCTGGAGTGCAATGGCGTCAATCTCAGCAAACCAACAGTTTTTCTACTAATACTTCATCGCTCAAGTTATCGCCATAATAGCTATCGGATCTTTCATTTGTATGCATATGTATGTGTGTGCTTATGCATACATACACTTACTTTCGTTTGTGCTTTCTCACCCACACGGTTCTCAATCACTTAAAGTTAAAAAATATACTCATAAATTAATAAGCCTAAATGCTTTTCAAGTTCATGTGACTTTCATCGAAATCTTTCATCACTCCTTTTTTGAAAATTACTCGGTAAAGTAATATTAGAAATGTCTGAACCCTTAGCATAAATTTTTGCTTTCGTCCCTCGTCAAGGATTTTCATATACTGCCAAATACTGTCATCTCAAAATTTGGCATCAGGGTTTGTCGACCCAAACCATTCAAAACGAATGATTTTTGCTTTTGTAATTTTTCGTCAATCAACGTTCAATTGTTACTCGTTTAATCAAAAACGGCTCATCATTAAAAATACTTAGTGAAATAACAAATATGCTTCATACTTAAGGTTTTTACTTAGCAAACACCTCAATTCACGGCTATCAAATGTTTTCGCCCGGGAAATCGTTCAATCAATAGCTATCACAGTTTCATAACTAACCTCCGTCACTTGCTCAAAATAAAATACTTCCGGTAAATGTTAATGCAATAATCTCTTCTCAAGCACGAGTCTCATAATTTCATCTAAAGTTATGTTTAAAATTAAACAATACAATTTCATTAACTGGGTTTTTTTTAATTAAAAAAGATACTCCAGAT\n",
      "4M1I3M1D12M2D1M1D10M1D5M1I4M1I49M1D14M1I15M1D4M1I9M1I4M2I19M1D16M1D8M2D23M1D21M2D19M1D21M1D3M1D5M2D7M1D23M1D33M7D53M1I17M1D2M2I30M1I23M1I45M1I4M1I12M1I7M1I9M1D21M2I42M1I20M1D2M1D5M4I7M1I26M3D35M1D33M2D16M1I9M1D4M2D16M1D35M1D2M5I17M1I10M1D6M2I22M1D4M2I5M1I27M1D8M1D15M2I11M2D8M1I14M1D19M1D4M2I14M1I12M1I19M2I2M1I2M1D3M1D11M2D16M2I15M1D15M1I21M\n",
      "0.8856\n",
      "read_id: test_read_24_804423_805623 \n",
      "\tmap_start 28, map end 1191\n",
      "\t1200\n",
      "cagcgggctgagatcacaccactgcactccagcctaggtgacagagcgaggctccttctaaaaaaaaaaagaaaataaaaaaaaagtcctggtgttagaggcatttttcttttcctcctcctcctcctcctgctcctcctcctcctcctcttcttcttcttcttttctgagacagagtctccctttgtcacccaggctggagtgcaatggtgtgatcttggctcactgcaacctccacctcttgggttcaagcgattcttctgcctcagcctccagctaatttttgtatttttagtagacatggggtttcaccatgttagccaggctggtcttgaactcctgacctcaggtgatccacccgccttggcctcccaaagtgctaggattacaggtgtgagccaccacactcagccaataGAGGCATTTTTCTGTCATGTAAATAAAGTCTAAAGCAGGCAGTCTAAAACTGGCATGGTGCTCTACGGTTCAGGAACCTAAACTCCTTTTGTCTTATTATGCTACCCCCTCAGTACATGGTTTCCACTTCATGGCCCAACATGGCTGCTCAAACAGCAGCCCTCACATCTGCATCCCCAGAtggagagtctttttttttttttgagatggagtctccctctgtcacccagcctggagtgcagtggcctgatcttcgctcactggaatctctgcctcccaggttcaagtgattcccctgctcagcctcctgagtagctgggaccacaggcacgtgccaccacacctggctaattttttgtatttttagtagagatggggtttcactgtgttagccaggatggtctcgatctcctgaccttgtgatccacccacctcggcctcccaaagtgctggggttacaggtgtgagccaccgcgcccagcccccagaTGGAGAGTCTTTTAGTCattagaaaggagaaaggagccaaggagggagggaggttcCCTTAAAGACTCTTTCGGAAGTCACATACAATCTTCTTGTTGATGTTCCATTGGCTAAACTTGATCACATCACTACACTAAGctacaaaggaggctgagaaatatGATCTGTGTTCTAGGCACCATGTGTCCAGATGAAAATTGAGGctcttatttcaaagaaaaagttcagtccatggccaggcgtggtggctcatacctgtaatcccagcactttgggaggccgaggctagtggatcacctgaggtcaggagttcgagaccagcctgggtaacatggaaaaacccc\n",
      "\n",
      "CTAGATCACACCACTGCACTCCAGCCTAGGTGACGGAGCAAAGTTCTCTCGATCGTCCTCGTGCTCACATTTTCTTCCTCCTCCTCCTCCTCCTGCTCCTCCTCCTCCTCCTCTCTTCTCTCTTTATTCAAGACAGAGTCTCCCTTTGTCACCCAGGCTCAAGTGCGATCGTGTCATCTTTGGCTCACTGCAACCTCCACCTACTCAGTTTCACAATTACTCTGCCTCAGCCTCCAGCTAATTTTTGTACCTTTCATCATTCGGGTTTTCACCATGCTCACCCAGGCTCAGTACTGAACTCCTGACCTCAGGTAATCCACCCCGCCTTGGCCTCCCAAAGTGCTCCATTCCAGTGTCAGCCACCACACTCAGCCAATAGAGGCATTTTTCTGTCATCTAAATAAAAATCTCAACGAGCAGTGTCGAACTCACGTCGGTGCTCTACAGTTCAGGAACCTGAACTTCCTTTTGTCTACTATGCTACCCCCTCAGTAGTCGTTTCCCGCTTCATCGCCCAACATGGCTCAAACAGCAGCCCTCACATCTGCATCCCCAGATCAAAGTACTTTTTTTCAATGGAATCTCCCCTCTGTCACCCAGCCTGGAGTGCAGTGGCCTGATCTTCGCTCACTGGAATCTCTGCCTCCAGTTCAAGTGATTCCCCTGCTCAGCCTCCTCATCCTCGGCACCAGGCACGTGCCACCCACACCTGGCTAATTTTTTGTATTTTTAGTAGAGATCGGGGTTTCACTGTGCTCACCCAGGATGGTCTCGATCTCCTGACCTTGTGATCCACCCACCTCGGCCTCCCAAAGTGCTCGGGGTTACAGGTGTCAGCCGCCCGCGCCCAGCCCCCAATCGAGAGTGCTTTTAGTCATTAGAAAGGAAAAAGACCAGTTCCCTTAAAGTTTGCTTTTCGGAAGTCACATACAATACTTCTGCTCATACTCCCATTCGCTCCAAGTTCGTCACATCACTACACTAAGCTACAAAGAAGCTCAGAAATATGATCTGTGCTCTCCAGCACCATGTGTCCCAGATGAAAATTCAAACTTTGCTCAAAAAGTTCAGTCCCATGGCCAGGCGTGGTGGCTCATCCTCTAATCCCAGCACTTTGGAAACCAAGGCTCGTCGATCACCTCGCCGTCAGGAGTTCGAGACCAGCCTAGATTAGTCAAAAGTTC\n",
      "5M2D39M1D6M1I4M1D5M1D49M1I23M1I10M2D44M3D3M2I14M1I11M1I30M1I24M1D8M1D50M1I10M1D21M1I27M1I10M1D21M1D7M1I20M3D36M1D6M1I1M6D9M1D9M1I60M1D3M1D31M1D1M1D3M1I5M2D13M1I37M1I14M1I63M1I19M1I17M1D9M1I20M1D6M1D3M13D12M3I3M1D20M1I4M1D7M1I12M1I33M1D27M2I1M1D11M1I19M1D2M1D4M4D12M1I24M1D19M1D25M1I25M\n",
      "0.8315132605304212\n",
      "read_id: test_read_25_729633_730883 \n",
      "\tmap_start 104, map end 1230\n",
      "\t1250\n",
      "tcttttttttttttttttttgagacagagtctcgctctgtcctccaggcgtgcagtggcgcaatctcggctcactgcaagctctgcctcccgggttcacaccattctcctgcctcagcctcctgagtaggtgggactacaggctcccgccaccatgcccggctgattttttgtatttttagtagagacggggtttcaccgcgttagccaggatggtctcaatctcctgacctcgtgatctgcccgcctcggcctcccaaagtgctggaattacaggcgtgagccaccgcacctggccattagTGTGTTTCTTATTTTGACCAGTTCCATTTGGTTCTCATAGCTTCCATCTCTCTACTGAGATTGCACTTTTGATCTTGCATATTGTCTACTTTTACTGTTAGACCTTTTACCATATTAGTTATTTGAAATTCTGTATCACATAGCTCTGACATCTGTGTTTGGTTCTGAAGATTGCTTTGTCTCTTGGGAGTATGTCATTTATCTCTTGCTTCATAAGTGTTGGTGAAAGTTGGACATCTTGTGTAGGATAGTAGAGGCCCAGGGAAATGGGTTTTGTGTAGAAATGGGCACACTTTTCCTTCTGTTAGGTCTTTAGCGTGGGGGTTTGAATTAACCTAGTTAGGAGTTGTGATAGGCtgggtgggtggctcatgcctgtattcccagcactttgggaggccaaggcaggaagattgcttgaacacaggagtttgagatcagcctggacaacatagtgaaaccccatctctacaaaaaaaataaaaattatctaggcatttttggtgcatgcctgttgtcctagctactgggaaggcttGCCGAGTCTGTCCTGCAGACTCTGCCCAAGCGACGGATGAAAGGAGTACTCAGATACAGATATCCAGTGAAAGAGCAGGATAGGGGACTGCCAGCACTAGGGGCCGAAGAGAATTAGCAGTTCCCCTAAGCCGGCAGCCCTCGCATTTGTTTggtacagatttaatgacaaaggcttggAGCAAACACAATTTGTGGGTAATAAACATTGTTGACCCCCCGAGTAGAGAGCAGTCCTGCATGCAAATGATTAAAGGTTGGTTTCTGGAGACAGGAGTAGACAAATTTATCTAGATAAGTTTCTTTACATTCCCTTGTTATCTGCCCTTTGCTCTCAGGCTCCAGATGAGACAAtttggctgccttcagccataaTTTCCTTCCAAAGCTTTTGTAAAACCTCCTGGCCTTTCAAGAAGGTTTGTGTCTTTACTATAATttctcccaccaccctgaccaat\n",
      "\n",
      "TTTTGAGACAGAGTCTCGCTCTGTCCTCCAGTGCAGTGGCGCAATCTCGGCTCACTGCAAGCTCTGCCTCCCGTTGCACACCATTCTCCTGCCTCAGCCTCCTCGTCCATCGGTTTGCGGCTCCCGCCACCATGCCCGGCTCATTTTTTCTGCATTTTTCATCAAGACGGGGTTTCACCGCGTTAGCCAGATCATCTCAATCTCCTCAACCTCGTGATCTGCCCCACCTCGGCCTCCCAAAGTGCTCGATACCGGCGTGAGCCACCCGCGCCTGGCCATTAGTGTGCTTTTACTATTTGCCGCCGAGTTGCCCATTTGGTTCTCATCACTTCCATCTCTCTCTCGAGATTGCGCTTTTTCGTGCTCCGTCTGTCTACTTTTATACTTCATTTCTTGCCGTACTAGTTACTTGAAATTCTCTATCACATAGCTCTCAACATATATACTCGTTATCGAAGATTGCTTTGTCTCTCAAATATCATTTATCTCTGCTTCATCACATGCTTCGTGAAACTCGGTTCATGCTATCTCAGGATAGTCAAGGCCCGGGAAATGGATTTTGTCGAAATCGACACTTTTTCCTTCTGCTCCATCTTAGCATCAAGTGAATTAACCTCATTTCAGGAGTTGTGATAGGCTCCATCCCTCCTTCATGCCTGTACTCCCAGCACTTTGGGAGGCCGAGGCAGGAAGATTGCTTGAACACAGGAGTTCGAGATCGACCTCAACATCATGGAAACCCCATCTCTACAAAAAAAAAAATAAAAATTACTCTTACGGCATTTTTGGTGCATGCCTGCTCTCCTAGCTACTCGAGGCGCCTTTTTCCCCGTCTGTCCTGCAGACTCTGCCCAACAACACCATCAAAGGATACTCCAATCCCAATATGCCATCGAACCCCCATCCCGGGAACTGCCCAGCACTCGGCCCATTCACGCAGTTCCCCTAAGCCCGGCAGCCCTCGCATTTGCTTCGTACAGATTTAATCAACAAAGGCTTACAAACCGAAGCACAATTTGTCGGGTAATAAACATTTTTACTTTAACCCCCATCAAGAGCAGTCCTGCATGCAAATGATTAAAAAGTTCAGTTTTCTCAAAGTAAATCCCTCCGTTCTGTCCGATCATTTTTCTTTACATTCCCTTGCTATCTGCCCTTTGCTCTCAGCTCCCGGATCAAGACAATTTGGCTGCCTTTCACCATAATTTCCTTCCAAAGCTTTTGTAAAACCTCCTCGGCCTTCAAGAAGGTTTGTGTCTTTACTATAATTTCTCCACCACCCTGACCAA\n",
      "30M3D42M2D3M1I27M1D15M1D30M2I39M1D17M1I14M1I27M2D15M1I21M2I10M2I9M2I30M1D2M1I14M2D6M1D1M2I2M1I17M3D4M2I41M1I16M1I2M1D18M3D2M1D15M1D8M1I5M1I14M1I11M1I16M1D13M2D11M2D4M1I18M1D11M3D11M1I4M1I103M3D6M1I19M3I17M1I2M1I2M1I37M2D4M5I31M1D4M1I11M1D17M1I7M3D8M2I9M1I8M2D5M6D4M1I1M1I14M1I36M1I11M2D1M1D4M6I10M1I14M1D5M5I5M1D1M1D28M1I7M2I7M5D2M1D4M4D4M7I6M1I4M1I41M1D3M1I6M1I17M1I4M1D36M1I4M1D33M1D16M\n",
      "0.8815406976744186\n",
      "read_id: test_read_26_467022_468322 \n",
      "\tmap_start 16, map end 1299\n",
      "\t1300\n",
      "GCTGAGGAAGTTCTCACGGCTTCGGAGCTCTCGCAGAGCGGCCCTCCCGCTCCTGAGCGAGGTCTGCGGGCGGAGGGAAGAGCAGAGAGGCGGCGCTGCGCCCTGCCCGGCCTGAGCCCCCGAAAGCCCGTGGACCCGCCGCCCCGGCCCCGCCAGACGCCCGCCCCCGTGCGGCCTCCTGCTGGTAAACGCGGCCCAAGCTGGGCGGTTCCCCATTGTCTGCGCCGCCCGGGAGCTCCGGGACTCTCATCCGTTCGGAAACGCACGTGTACCCATCATCTCACATCCCTGAGGTGCGGGTGCATCTACAGTTGGTGGCGTGTCACCAACTAATCAACAAATATATTATTAGTGGGTAAATAAAGATGTGCCTTCATATCAATGGCTTCTCAGAATCaatgaaatatagaaataatagtaagggccgggcggggtggctcacgtctataatcccagcactttgggaggccaaggtgggccgatcacgaggtcaagagttcgagaccagcctgaccaacatggtgaaaccccgtctccactaaaaatacaaaaattagccgagcgtggtggcgcgtgcctgtaatgccagctactggggaggctgaggcaggagaatcgcttgaacctgggaggcggaggttgcagtgagcgagatggcgccactgctctccagcctgggcgacagaggaagattcctgtcccaataataataataataataaacgcCCCAGGTAGGTTAAGAAGGTGGCAGAGCGACCGCCATGTCTGGAGGAGAAGCAGGGGAGGCAAAATGGATGATAAACGTCAGCATTTCCGGGCAGGCCGCGGAGTCAATGAGTACTCTCATTTCACACAACAGCCCCCAGTGGAACAAGGAGGGTCTGAGGGTTAAGTGACTCGCCTAAGGTTACACCCAGCAGGTGCATAAAACctacagtaacaacaacaacaacaattgtACTTCCCTAAGGTTACACCCAGCAGGTGCATAAAACCTacagtaacaataacaacaacaattgTACTCCCCTAAGGTTACACCCAGCAGGTGCATAAAACCTacagtaacaataacaacaacaattgTACTCCCCTAAGGTTACACCCAGCAGGTGCATAAAACCTacagtaacaataacaacaacaattgCTGAGGGCCCTCTACAtgccaggccaggtgctgtgccTTGCTCTGCAGGTGGCACATGGTATCTGTTCACCCTCCAACAGCTTTATGTTTACTAACTCTATTTTGCTGataaatggaggctcagagagtttaatgacttgcccagtgtcacacagTCAAGAAGTGGCAGGGCTGGAACTGGAAAGCCAGACTTCTGAATC\n",
      "\n",
      "AAGTTCTTCGCGGCTTCGAACTCGCCGAGCGGCCCTCCACTCCTCGACGAGGTCTGCGGCGACCGACCGCGAGGCGGCGCTGCGCCCTGCCCGGCCTGACCCCAAAGCCCCATTGGACCCGCCCCAGCCCGGCCCCGCCGAGACGCCCGCCCCCCCGTGCGGCCTCCTGCTCGTCAACGCAGCCCAAGCTCGGCGGTGCCCCCCATTGTCTGCGCCGCCCGGGAGCTCCGGACTCATCCATTCGGAAACGCGCGTGTACCCCATCATCTCACATCCCTCGACAGTGCGCAGTACGTGTCCCGGTTCGTCGTGTCACCCAACTTAATCAACAAATATACTCGCTCATCAGGGTCATCGATCTGCCTTCATATCAATGGCTTCTCAAATCAATGGAATCTCAAATAATAATCACCCACGCGCCATCCTACACGTCTCTCATCCCAGCACTTTCAAACCACCAGTCAGCCGATCACGAGGATCAAGTTCGAGACCAGCCTGACCCAACATCGTCTGAAACCCCATCTCCCACTAAAAATACAAAAATTAGCCGAGCGTGGTGGCGCGTGCCTGTAATGCCCAGCTCTCCGCGCCTTAAGGCAGATCGCTTGAACCTCGAAACGGCCGTTGCAGTCAAGCGAGATCGCGCCGCTGCTCTCCAGCCTCGGCGACCCAGAAGTTTCCCTCCCAATAATAATAATAATAATAAACGCCCGGTAGGTTAAGAAGGTGGCAGAGCGACCCGCCATGTCTCAAACAAACCGCCTAGCCCGCCTAAATGGATCATGAACGTTCAGCATTTGCGGCAGGCCGCAAATCAAATCAGTACTCTCATTTCACACAACAGCCCAGTGGAACGAGGAGTCTCGAGTTAGTGACTCGCCTAGAGGTTACACCCAGGCAGGTGCGTCAAAACCTACCCAGTAACGACGACGACGACAATTGTACCTCCCTCAAGGTTACACCCAGGCAGGTGCGTCAAAACCTACAGTAACGATAACAACGACAATTGTATGCCCCTAGAGGTTACACCCAGGCAGGTGCGTCAAAACCTACAGATCATCAGATAACAACGACAATTGTATGCCCCTACAAGGTTACACCCAGCAGGTGCGTCAAAACCTACAGTAACGATCACAACAACAATTGCTAGAGCCCGTGTACATGCCACCCACGGTGCTGTGCCTTGCTCTGCAGTCGTTACATGGATCTCTCACCCTCACAACAGCTTTATGTTTCTAACTCTATTTTGCTGATAAATCGAAGCTCAGAGTTTAATGACTTGCCCATGTCACGCAGTACAAGAAGTCGCAGGCTCGAACTGGAAAGCCAAGTTCTCGAC\n",
      "6M1I13M3D16M1D8M1I2M1D10M1D3M1D6M4D33M2D4M1D7M2I13M2I12M1I9M2I46M2I30M1D3M2D26M1I19M1I2M1I6M1I9M1I9M2D7M1I5M1I15M5I6M2D4M1D3M2D29M1D14M1D13M2D12M1D3M1I23M2D7M2I1M1D17M1I3M2D18M1I9M2I13M1I50M1I6M1D2M1D7M1I8M4D13M1D18M1I40M1D9M1D31M2D26M1I14M2D13M3I1M1I18M1I11M1D10M1D5M1I27M2D16M2D4M1I2M2D3M1D13M1I12M1I10M1I8M2I33M1I13M1I10M1I42M1I12M1I10M1I11M1I1M1I4M1I25M2I23M1I34M1D7M1I11M1D4M1I33M1D4M1D9M1I16M1D31M2D20M1D11M1I12M1D19M\n",
      "0.8959660297239915\n",
      "read_id: test_read_27_279267_280617 \n",
      "\tmap_start 7, map end 1338\n",
      "\t1350\n",
      "ggagatggagtttcactcttgataCCCAAGCTGGAAttcaatggcgtggtctcggcttaccacaacctctgcctcccaggttcaagtgattctcctgcctcagcctcccaagtagctgggattacaggcatgtaccaccatgcctggctaattttgtatttttagtaaagatggagtttctccatgttgatcaggctggtctcgaactcccaacctcaggtgatctacctgccttggcctcccaaagtgctgggattacaggcatgagccaccgtgcctggccttttttttttttttttttttgagatggcatctcactttgtcacccaggctggagtgcagtggcaccatcatggctcactgcagcattgaactcctgggctccagcaatcctcccacctcagcctcttgagtagctgggatcacaggcatgtgccaccatgcctagctaatttttgtatttttttttgtagagacagggtctcattatgttgcccaggctggtctcaaactcctgggctcaagcaatcctcctgcctcaacctcccaaaatactgggattacacgtgtaaaccaccacatccagccctgaTCTCATTCTTCAGAGAATTTACCTAGCTGGTCACTTGGTGTCTGTAGGAGCATCGCCTCTCAGGCCTGCCTCAAAACTGCATTTCAGTTGGgagtggggcggggggagggagagTGTAGTTTGGGGACATCAAGCGTCTGTGGTGGATCTCCTCCCAAAGTGAGACtgctttttaatgatatttattgagcacttactgtttGCCACTGCGGTGCTAAGCACTTTGCACATACTAGCTCAGTGCATCCTTACAGCAATCCTGGGAGGGAGGTGCTTTTCTCATCCGCATGTGCTGACAAGGCTGAGAAGAGCTGGGTCTTGCACGGTACCTTAAGGGCTAAAGACCTGCAAGGATGGTGCATGAAAGCAAAACCAGAGAGGCGCCTTTTCCAAATGCCAATGCGCCCTCCACCCAGTCCTTCACAAACCACATCAGCATGGATAGCACCACACTCCACAGGCTTTTCTGCAtctcctttgtgtgtgtgcacatgtgtaatTAATTCTGGGGCAACTTCCTACATCAGTACAGAGAAACTCCTTGATCATTATCCACTCCAACATCCTTCCTGGGAGGGACTGACTGGAAACCCAAATGCCCTTGTAAGGgcaaatacaaaaactaaaataattctcCCTGgtgcagaaaaaggaaagaaacctcCCGTTTCCTGTTCTTAAACACTCTAGAGCAAACACTTTAGAAAACTTCTCAATTATTTCTCTGTTCCTTTAAGATGTGTCTTTTTAAAAGCCAGGTGAGCCTCCTGCCAGTTTTACAAGCCAGGGATGTTTTCCCAAGGACCTA\n",
      "\n",
      "GTCACTCTTGATACCCAACTCAAATCGATCGTCATCTCGGCTTACCACAACCTCTGCCTCCCAGGTTCAAGTGATTCTCCTGCCTCAGCCTCCCAAGTAGCTGGGATTACAGGCATGTACCACCATGCCTGGCTAATTTTTGTATTTTTCATAAAGATCAAGTTCTCCATGTTGATCAGGCTCGTCTCGAACTCCCAACCTCAGGTGATCTACCTGCCTTGGCCTCCCAAAGTGCTGGGATTACAGGCATGAGCCACCGTGCCTGGCCTTTTTTTTGAGATCGCATCTCACTTTGTCACCCAGGCTGGAGTGCAGTGGCACCATCATGGCTCACTGCAGCATTGAACTCCTGGGCTCCAGCAATCCTACCCACCTCAGCCTCTAGTAGCTCGGGATCACAGGCATGTGCCACCATGCCTAGCTAATTTTTGTACCTTTTTTTGTCAACAGGTCTCGTTATGTCTGCCCCAGGCTCAGTCTCAAACTCCTCAGACTCAAGCAATCCTCCTGCCTCAACCTCCCAAAATACTCAGATACGCGTCTAAACCACCACATCCCACCCTGATCTCATTCTTAGATTACCCTCACTCATCACTTTGATCTGTGTCAGGAGCATCGCCTCTCGCCCTCCCTCAAAAGTTCATTTCAGTTGGGAGTGGGCAAGGGCAGTGTCATTTCAAATCAACATTATTGTGGTGGATCTCCTCCCAAAGTCGAACCTTTTTTAATGATACTTACCTCGCGCTCCCCTACTTTGCCCACTGCGGTGCTCACGCTTTCCCGCGTCGCTCAGCTCAGTGCATCCTTACAGCAATCCTCGGAGGAGGTGCTTTTCTCATCCCGCATGTGCTGACAAGGCTCAAGAGCTCGGGTCTGCACGGTCCCTTCACTCACCTACAAGGATCATGTACATGAAAGCAAAACCAAGAGGCACCCTTTCCAAATGCCATGCGCCCTCCCACCCATCCTCACAAAGTTCACATCAGCATGGATAGCGCCGCACTACACAGCTTTCTGCATCTCCTTTGTGTGTGTGCACATGTGTAATTAATTCTCCGCATTTTCCTACATCAGATTCAGAAACTCCTTCGTGGTTCTCCCACTCCAACATCCTTCCTCGAAAGTCACTCGAAACCCAAATGCCCTTTGTCAGGCAAATACAAAAACTAAAATAATTCTCCCTCGTGCAGAAAAAAAAAATTCTCCCATTTTATACTCTGCAACGCTACTCAAGCAAACACTTTCAAAACTTCTCAATTACTTCTATGCTCCTTTGAGATCTGTGCTTTTAAAAGCCAGGTGAGCCTCCTGCCAGTTTTACAAGCCCAGATGTTTTCCCAAGGACCT\n",
      "17M1D2M1D9M2D107M1I25M1D106M12D99M1I15M2D7M1I53M1D2M1D3M1D13M1I2M1I8M1I14M1I44M1D41M3D3M2D3M1I15M2D2M1I5M3I16M1D33M1D4M5D5M1D11M3D8M1D3M2I24M1I6M2D16M2I5M2I7M2D4M1I15M1D6M1I6M1I3M1I31M1D17M1I20M2D8M1I5M1D15M3D2M3D13M2I20M1D22M1D9M1I7M1D3M1D7M2I32M1D2M1D44M1D19M1I3M2D20M1I23M3D23M1I6M1D43M2D3M1D29M1I16M1D80M1I3M2D19M\n",
      "0.913588850174216\n",
      "read_id: test_read_28_756589_757989 \n",
      "\tmap_start 12, map end 1399\n",
      "\t1400\n",
      "AGGCTGGACTCCCCAGAGTGATTTTGGGCTAGTGACTcagcctctctcagcctcagtttaccATTAGTCAAATGGGGTAACAATAGAACTCACCAGATAGTGattgttgggaagattaaaaTGGGTTACCCGATACCAAGAAAAACACTTTCCCGTGCCTGGCACAGTGAACATCACCTGGCGGTCGTTCTGAGTGTCAGGGAGCGGGGCTCAGTTTGTCCATCTCTAAGGTGGGTGCGCTTGCCTGCCAGAGCCACGGGGACCCCGCGCGCCAGGTGTGCGGTGGGCGGGTCTCGGCTCCCGGAAGAACTTCCCTGGGTGGTCCTGGAGCGGGTCGGACCCAGTTCCTGAGCCAGGCCAGCTGCCGGCGGCCGGGGCTCGGGTTCTGGCCCCTGCCTGGCTTTCCTTACCCTTTTCGGGTAGTACCTGGACCAGCGGGTTCACTTGCCCGCGGCCGCCGGAAGTTGCGCAAACTCAGCTTGCCGGAGCCCCAGGTGGGCCGGGCCGGAGGAGCGCAGGCCAGCGGCGCGGGCGCAGCCGGGTACGTGCGGACCGCGGCGGGGGGCGCCCAGCCGGGGTAGGGGGCGGCCCGAGCACCCCTCCACCCCAGGACGGCGGGAACGGGGCAGGGATCTACCTTTCGGCTTCAAGAGGACCGCGGGGATGGTGCCGCTCTCTCCCTCATTTGAGAGCCAGGAGGGGCGGCGAGGGGCAAGGGTCACACAGCGCCCTGCTAGCCGACCCCCCATCCCCCGCCACCGGGAGTCCTCAAGCTTTTCCGGAATTGAGGGAGAGCAAAAGCCAGCCTGGGGATCTGAGttccccccagccctgccccgcggCCTCTGGAGGCTGACGCTGGGGAGCTAGTGGGGAGGGGGCCAGGTGGGGATGCGCGCCCCCGGGATGCAAGCCAGAAGGGCCGGCGGTTGGGGGCATCCGTGGGAGGCATTTGAATCCGTGGGTGGGGCATTGGGCGGTGAGAGGAGGCCTCAGAGGGGACATTGAGTCGCGCTTGGGGACTTGGGACCCTGGCTTCACCTGGCGGGAGCCGCTGCACCTCCGTTTGCCCACCCGTGACGTGGGGCTGTTGAGGTCAGCTCACCGATCAGCCTCTGTCTTGGGCCTGCTTTGTCCGCGGTGTGGGCTGGGACAGACCCTCGTGGGGCTTGCTTAGAGACCCCTGCGTGGGGGTGGTCTGTGGACTTGGTTAGTCGAAATCTTCTTGAAGACCAGGAGCCTGGTTCGTGGCTCCGCCTTTTTGCCAGATGCCGAGGAAAGCCCTCGACCTGTTTGATCTCTCCATCCTTATCGTGACCTGGAGGCTCAGGAAGGTCTATTTTTAACCTCGTTTCACGGATAAGGTAACCGAGTCTGTAAAGAGGCGAAGCTGCTTGCGCAAGGCGCACAGCGGGCGGGTGGGCGAGCCGAAGGCCGGCGGGCCCGCGGC\n",
      "\n",
      "GTTTCCCCGAGTGATTTTGGGCTAGTGACTCAGCCTCTCTCAGCCTCAGTTTCATTCATCGAAATCGGATCCTCGATCAATTTCGCCGGATCATGATACTTCGGAAGGTCCGAAATCGATTTCAATACCCAAAAACACTTTCCCATCCTCGCACAGTGAACATCACCTGGCGGTGGTTCTCATGTCGGAGCAGCTCGGTTTTCTCCATCTCTCAGGTCGTGCTCCCTGCCAAGAGCCACGGAAATTTTCACACACCAGGTGTGCGGTGGGCCGGCATCTCGGCTCCCCGAAAGCTCCTCGGGGTGGTCCTCGACAGTTTAACCCAGTTCCTCGACCAGGCCGACTGCCCGGCGGCCGAGGGCGCTCGGGTTCTGGCCCCTGCCTGGCTTTCCTTACCCTTTTCGGGTAGTGTCCCTCGACCCACGGTTCACTTGCCCGCGGCCGCCGGAAGTTGCGCAAACTCAGCTTGCCGAACCCCAGGTGGCCGGGCCGAGGAGCGCCGGCCGACGACGCCGGCGCGGCCCGGGTACGTGCGGACCGCGGCGGCCTCCCGGCCCATCCCAGCGTCCCGAGCACCCCTCCACCCCAACGCGCAAGTCCGCCGGCCGTGTCCTTTCGGCTCCGGACCGCGGGGATGGTGCCGCTCTCTCCCTCATTTTAAAGCCGCCGGAGGCAAGTCCGCCACAACCATCACAGCGCCCTGCTCACCCAACCCCCAATCCCCGCCCACCCGGCAGTCCTCAACTTTTTTGCGATCGAGAAAACAAAGCCACCTGGGGATGTCGTTCCCCCAACCCCATGCCCCCGCGGCCTCTCGAAGTTTTCGTTCTCGGGAGCTCGTCGAGAAAGTTCCATCGAGATCGCACCCCAATGTCAAGCCAAAAGACCACGGTGCGTAATGTCATTCGAAGGTATTCGATGCATTAGATAAGGTTAATGGGCAATGAACCGAGGCCTCAAAGAGACATCAATCACTCAAAATCAAACCCTCGCTTCACCTGGCAAGTTCGCTCCGCCCTCCGTTTTGCCCACCCATCGTTAATCGTTATATCGCCATCAACTCACCCAATCAGCCTCTGTCTACGACCATGCTTTGTCCCGGCGATATCAGCTCGGACAAGACCCTCGTCGGGGCTTGCTTCCGAGACCCCTGCGTGGGGGTGGTGCTCTGGACTTTGGTTAGTCGAAATCTCTCTCGAGCCCAACCTGGTTCGTGGCTCCGCCTTTTTGCCAAATGTGCAAACCCTCGGACCTGCTTTGATATTCTCCATCCTTATCGTGACCCTCGAACTCGGAAGGTCTATTTTTAACCTCGTTTCACAATCACATACATACAATCTCAAACAGAAGCTGCTTCGCAAAGCACACAGCGGCAGGTCGGCAAGCCAAAAGTTCACAGCCCGCGC\n",
      "5M1D44M2D8M1I9M5I6M4D28M1I11M2D8M2D17M1D36M1D4M2D5M2D7M1I18M1D5M3D8M1I13M1I29M2I15M1D22M1D1M1D17M1I2M1D12M1I9M2I3M1I46M2I14M1D47M1D11M1D9M1D30M1I29M2I8M4D2M4D25M2D3M1I9M1I6M3D3M1D12M4D41M2I7M3I8M4D3M3D3M1I14M1I23M1I14M1D15M2D6M1D7M1D11M1D15M1I2M1I24M2I26M2D7M1D8M3D4M1I14M1I16M3D24M1I29M1D8M1D10M5D26M2D3M1I5M2I2M1D6M1I10M3I5M2I3M3D18M1I23M1I10M2I17M1I10M1I11M1I23M1I8M1I17M1I5M1D6M2D1M1D31M3D7M1D5M1I6M1I6M1I19M1I6M1D4M1D28M1D9M3I2M2D5M1D6M3D10M1D15M1D16M\n",
      "0.8706270627062707\n",
      "read_id: test_read_29_840775_842225 \n",
      "\tmap_start 9, map end 1429\n",
      "\t1450\n",
      "gaccatcctggctaacatggtgaaaccccatctctactaaaaatacaaaaaattagccaggcatggtggcatgcacctgtaatcccagctactcaggaggctgaggcaggagaattgcttgaacctgagaagcagaggttgcagtgagccaagatcacgccactgcactccagcctgggtgacagagtgagacttcgtctcaaaaaaaaaaaaaaaagtttggaagaaGCTATAGAAGTCTCGATATTACTGGTGACCCAGTATAAGGAGGAGTGGTGAATATCCCTATTCTAAAGGATTTCCTAATCCTGAAGGATTTGGACAGCTCCTGCAATTGCCAAATGTAAGCGGCCTGAAAAGTTCACACTTAGattattgcctttatttttggCTCCCACACTGTAAAAGAAATTAGAATTAGAGCACAGATACAAAAGCTATGATAATGAAAGTcctaaaaaaaattccattaagaaacacacacatataagtcAGAAATTCATTGGGAATACCTTTGCATTTTAAGAGATGAGAAGGAAAGAGTTAACAGTAGTCCTGAAATCAATTCTCTCCCTTTAACAGGAGATACTTctggcaggaaagaaaaaaaaaaaaaaaaaacttgactcTGACTCTGTCAGATCTCCTTATAACATGCTAATAAGAGACCTTCTGGTAAATATGCTAATGATATTCACTAGCAGAGGGGTCTTTATGTAGCAGAATGCATCTGCTCAGTCCTCAATTGCTTCTGGTAAACAAACTTAGAGTCTATGAATTTACAGGGCATGGCTCCTTGAAAAATGTCATGTGTTTGTAATGCTAAGTAATTGCCAGAGAATAAAATGGAGATGTTTCTAGCTAAAATAGCCCCTTTGGGTAGCTGATGGGCACCCATGCATCACAGACATCACTTAGAGATCTTTCATGTTAAACCTATCCCATGGCTTATTTTCATGAGGCAAGAAAGGACCTGGGAAGTGGTGTGGACATCCCAGACTTTTGCATTTTTACCTGCTTCGTAATTACCCGTATCCTTGAAATTATTACTAAAGCTTAATGCTGGGAAAGATCTCTGATTCCCCTGATTCTGATTTGGCAAGCCAATCAATCTTTTGTATTAATCAGGAAAGAAAGCCAATATTTCTATATGAATATACTCATCTCAAAACTTTTCAGAAAAGATATTTTCCATACATGGAAATAGCTTAATTAACTTTTTCTGATTATGAGGTTACTTATAGTCATTTTGAACACtcagacaaaacagaaaactttatggaagataaaataagaataacaaaatCTTTCCCAAAGAGAAAGACcattaaatttttgtatatatccTTCCAGAGAATAcacaaattatatgtatatatattttacatgtatacatatataacaaagaCTAGCTTATACTACCCACGCTttcctgtcatttttcttttctacctaaGATATCACTGACAGTCTTTTATATAATAAGGATAGTCCTCAATT\n",
      "\n",
      "CTGGCTAACATGGTGAAACCCCATCTCTACTAAAAATACAAAAAATTAGCCAGGCATGGTGGCATGCACCTGTAATCCCAGCTACTCAGGAGGCTGAGGCAGGAGAATTGCTTGAACCTCGAAGCAGAGGTTGCAGTGAGCCAAGATCACGCCACTGCACTCCAGCCTGGGTGACGGAGTCAAGTTCGTCTCAAAAAAAAAGTTTCGAAGGCTCTCGAAGTCTCAATACTGCTCGTCGTCCGGTCTCAGAGAAGTCGGTCGATATCCTACTCTACAAAGGATTTCCTAATCCTAAAAGAATTCGACCTTACCTGCAATTGCCAAATGTAAGCGGCCTGAAAAGTTCACACTTAGATTATTGCCTTTCCATTTTTGGCTCCCCGCACTCTAAAAGAAATTCAAGAAATTAGAGCACAGATCAAAAGCTATCGATAATGAAAGTCCTAAAAAATTCCATTAAGAAACACACACATATCATCAGAAATTCATTCGGAGATACATTTTGCATTTTAGATAGAAGGAAAGAGTTAACAGTCATCCTCGAAATCAATTCTCTCCCTTTCACCCGAGAAATGTTTCTCACCCCCCCCCTTCATTCTGACTCTGTCAGATCTCCTTATAACATGCTAATCAACCTTCTCGTAAATGTGCTAATGATACTCACTAGCAAGATCTATGTCACAGAATGCATACTGCTCAGTCCTCAATTGCTTCTGGTAAACAAACTTAGAGTCTATGAATTTACAGGGCGTGGCTCCTTGAAAAATGTTAATATGTCTTGTAATGCTCATCATCCCAAATAAAATGGAAATGTTTCTACACTCGAATCACCCCTTTCCGTCCCTTGATGGGCGCCCCGTGCATTCACAGACATCACTTCGCCATACTTCATGCTTGAACCTTCTCCCATCGCTTATTTTCATCAAGGCGCCTCGGGAAGTGGTGTGGACATCCCAGACTTTTGCATTTTTACCTGCTTCGTAATTACCCGTATCCTTGAAATTACTACTTCGAGCCATGCTTCCGAAGGTCTACTTCATACCCCTGATTCTCAATTTGACCACTACAATCAATACTTTGTACTAATCCAGAAAGGAAGCCATACTTCTATATGAATATACTCATCTCAAAACTTTTCGGAAAAAGATATTTTCCATACATGGAAATAGCTTAATTAACTTTTTCTCATTATCGAGGTTACTTTATACATCATTTTGAACACTCAGACAAAACCAAAACTTTATCGAAAATAAAAATCAATAACAAAATCTTTCCCAAAGAGAAAAAAGCCCATTTAAAATTTTTCTATATCCTTACAGATACACAAATTATATGTATATATACTTTACATGTATACATATATAACAAAGTTTCAGCTTATACTACCCACGCTTTCCTGTCATTTTTCTTTTCTACCTCATACACTGACAGTACTTTATCTGATCAAGGATAGTCCTCAAT\n",
      "119M1D63M1D10M7D18M2D38M1D7M1I9M1D8M2I31M2D2M2I56M2I10M1I20M2I2M1I15M1D10M1I15M2D32M1D17M1I4M1I11M3D4M1D26M1I28M2I8M2D1M16D52M3D36M1D1M2D4M2D17M1I76M1I8M1I12M1D3M1D5M3D21M1I24M1I8M1I9M1I29M1I7M1I21M4D4M3D6M1I75M1I6M2D17M1I1M1I16M1I10M1D1M2I35M1D39M1I51M1I8M1I5M1I25M1D22M1D27M3I8M1I10M1D15M3D54M1I44M2D4M1D22M1I16M\n",
      "0.9189889825016202\n",
      "read_id: test_read_30_239874_241374 \n",
      "\tmap_start 7, map end 1499\n",
      "\t1500\n",
      "AGGCCTCACTTTTCTCCTTTGCAAACTGTGGCTGATGAGGGCCATCCTGCGGGGTTTGTGGAGAGAAGGGATAGTAACAACAGCTGCATTGTATGGTGCTATGTGCTGCACACTTTGCACACCTGatcatttaatactcacaatgATCCCTAGCAGATGGATCCTATTACCaagttcattttacagatgaggaagcttaGACCCAGCAAGGTTAAGGGGCTGTGCTCAAGGTCTTACCTTCTAGGAGAGGCAGAGCTGGATCTGAAGCCATTTCTGTTCTCAGCCCCTGCTGTGTGCTTTCCTACCATCCTCTCCAGACTCGCCCTGAGCCCAAGTTGCTGAGGCATGTGgcacggtgcctggcacacagtaggctcaCAGTAGTGGCTGCTTTGATGATGACCATAAACTGGGATCTGGGGTCCTTGAGATGATTCTACCAAGGGGACCCGGGGGAAGCTGAGCCCTGGGGCAAAGTGGGGGCCAGCACAGGAGCTGCTGGGGAAGGAACAGAGCCTGTGCGGTGGGAAGATAGGACATGGAGCAAAGAGGATCTTGAATCAGACCCCGTGGTCCCCTCCTACAGAGGGTTAAAGCAAGCCAGCCTCCTTCCGGCTGAGCGGAAATCAGATTTTGAGAGCTGAGCAGGGCTCTGGAGGGatgtttttcttctccatttgtCTGCTTGTGGCTGGCCCATAAAATCCACCGGAACTCCATGCTGGACTGAGGAATTCCTGCTGAACAGGGACATGGAGAACGCAGGCTGGGAGGGGGCATAGTGTGGATCCTTATCAGAGCAGAGACCACCCCATCttcaaggccccacctccaggttGGGTGATCCCCTCTGGAGGCCTCATAGGATTCCTGGGTAAGGGGAGGGACCAGGATCGACAGGGTGGGGGAAAGTCCAAGGAACAAGTGATACCCCCTCCCACCTTTTCAAAGTGAACTTGTGGGGTGAGGAATGAGAGGAGACAGGGAGGGTCAGGCTGTGGCAGGTCAGTGAAGTGTGATGCAGGTTCCACCTTCTacgctgtgtgacattgggcaagtctCTGCCCGTTTCCTCATCATTGCAACCAGGGGGCTGGAGCTAGATGACCACCATGTGTAATTTTCTAATCAGAGCTGACAGTCTGAGGctctttctgtctagtttgcacCTTGCATGCATGTCCTCCCCTGAAGGCAGTGCAATTATTATAACCCCtattttaaaggtaaataaaCCAAGGCTCACTGAGGCAAGGTGACCTGAGCAATTTTGCCCTTGAAGGGCTGGGACAGGATGCAAACCTAGACAATTGGTGCCAGAATTCATCTCTCAAGCATTCgctctcctgcctcccaacaCGAGTTTCTACTTCTCTTTGCCCTGGGATGACCTCTCCTTTGTCTCTTGGCTTGATGACCTCATTTTTAAAGATTCGGCTCATGCATCACCTCCCCCAAGAAGCCTGTCCTGACTAACTAAGCTCGGTTGGGGCTCCTCTCTGTCTGCTCATGCCTCTGGGAAGTAGCTGTCTCTTTTGGTCACTGGGCTG\n",
      "\n",
      "ACTTTTCTCCTTTGCAAACTGTCGCTCATCGAGGCCATGGTCCGGTTTTGTGAAAAAGGGATCGTGACGACGGCTCCATTCTGGTGCTATGTGCTGCGCACTTTTGCACACCTAATAATTTAATACTCACAATGATCCCCTCACAATCGGATCCTACTACCAGTTGATTTTCCCCGTGCAAACCCATTCCACCAACCCTTCACCGGCTGTGTCTCAACATACTACCTTCTCCGACGCAAGCTCGATCTGAAGCCATTTCTGCTCGCCCCTGCTGTGTGCTTTCCTACCATCCTCTCCAGACTCGCCCTCAACCCGGTCCCTCAGGCATGTGACACAGTGCCTCGCACACAGATCCCTCACAGATCATGGCTGCTTTCGTCAATCGTTCATGAACTCGATATCGATCCTGATGATTCTACCAAAATCCGGCTCGTCCTCGACAAAGTCGGAGCCGGCGCAGAAGTTCTCGGACCCAACGGACCTGTGCGATCGACATCGGACATCGAACGATCTGAATCAAACCCCGTCGTCCCCTCCTACAAAGATTAAAGCGAACCGACCTCCTTCCACTCCTCGGAAATCGAATTTTCGGAGCTCAACGAGGCTCTGGAATGTTTTTTCTCTCCATTTGTCTGCTTGTGGCTCGCCCATCGATCCACGCGCTTTCCAGTGCTCAAACTCAAATCCTGCTCAAACGGGTAATCGAAACGCGGCTACGAAGGGTCATCATGTTCAATGCTCTCGGAGCGAGACCCACCCCATACTCAAGGCCCCGCCTACAGGTACCGGGTGATCCCCTCTCAAAAGTCTCGTCCCCTTCCCTCCGTCACCCCCCCCCCTCCCCCCATCAACCCCCCATCCCGGCCCTCCAACCAACGGTCATTCCCCTCCCACCTTTTCAAAGTCGTTTCTCGGGTGGCCATCGAAACCCAGGAAGGTCAGGCTGTGGCAGGTCAAGTGAAATGTGATACAGTTCCACCTTCTCGCTGTGTGACATTGGGCAAATCTTTCTCCATTTCCTCATCATTGCAACACGGAGCTCGAGCTCAGATGACCACCATGTGTAATTTTCTCATCGGAGCTCGCGGTCTAAAGTTTTGCTCTCTCTACATTTGCACCTTGCATGCATGTCCTCCCCTCAAAGGCCGTGCAATTGCTCTCATTCCTTTTTCGAGCCTAAATAAAACCAAAAGTTGCACTCGCCACCCACCATCATCTGAGCAATTTTGCCCTTGAAAGAGCTCCCTCCCATGCAAACCTCGGATCATTACGAATTCGTCTCTCAGAGACTCGCTCTCCTGCCTCCCAACACGAGTTTCTACTTCTCTTTGCCCTCAATCCTCTCCTTTGTCTCTCACTTGATGACCTCATTTTTAAAGATTCGGCTCATGCATCACCTCCCCCAAGAAGCCTCTCCTAACTAACTCATTTCGGTTCAGCTGCTGCTTCTGTCTGCTCATGCCTCTGGAAGTCACTCTACTTTTTGGTCACTCAGCA\n",
      "29M1I2M1D9M1D10M1D2M1D26M2D22M1I34M1I8M1D2M1I13M1D17M1I1M2D4M2I2M4D7M1I15M1I18M2D8M1D23M2D3M1D50M1D48M1I13M1I6M1I11M1D6M1D7M3D14M3D6M6D3M1D6M1D26M1D4M1D13M1D12M2D14M6D6M1D29M1D27M1D43M3D40M1D18M1I4M1I7M2D2M1D22M1D5M1D20M1I7M1D9M1D4M1I31M2I15M1I17M1I9M3I19M5I2M3D6M1D13M1D6M1D22M1I1M2D11M1D5M1I2M1D1M2D5M1D23M1I16M1D12M1D48M1D15M1I47M1D4M2I8M1I29M1I27M1D8M1I6M1I5M1I6M1I4M1I1M2I31M1I12M1D12M1I8M4D2M1D14M1I2M1D47M1D4M2D15M1D82M2I9M1D19M1D12M1I2M1D11M\n",
      "0.9024390243902439\n",
      "read_id: test_read_31_619869_621419 \n",
      "\tmap_start 7, map end 1544\n",
      "\t1550\n",
      "cctcagccccgtgagtagctgggatttcaggcgagAGTCAATGCACCTGGCTCTGGGGTGACTTCTTGTAAGACCTTCTCATACAGACTTTTTAATAAGATCAGAAAACCCAGACCATAAGGCAGAACAAGCCCCCTCTCCCCACTCAAAAACCAATGGATTTGACCACACTGACAGCATGGTAAGCAATGATTTCTACTCTCCAAAGGTGAGGACTCTACAAAGTCagattaaaaaagattttttttgtgtcAAAATGAACATGGGATTGATATCTAGGTAATACAAGGAAGCCctacaaattgacaagaaaaattCAGGAATTCCAATTTTaaaagtgggaaaaataaaaataaaatgtttaaaaagtgaaaaaataaaatttaaaattaaaaatcaggtgAATAAGAATTACatgattaaaacaaatttaaacagTTAAAATAACATTCAAAAACGAAattaagtaacaaaataaaaatttaaaaataaggtataaaaataaagtgtaaaaatccattcaaataaaaaatacatttgtaaaataatttaaatacattaaaattaataaaaacaaaaatgttaaaaataaaagtaaaatgtttaagtgaaataaaatttaaaaatgtaagaatacATGAAAGAATTTTTAcgagtaaaataaaaaatcagctatTTTTAACAatctaaagaataaagaaaaactaatagaaACATCAAAGGAGAGCAAGGTCTTGCTAGATGGATGCTGATGATGTGCTGTGAATTAAGGAGTCCGATTGGCTCAAATGCCTGCAGGGAGGCGGGGGAAGTGAATGACGGGGGTGGTGTAGGGAGTGAGAGGGGACGAGGAAGTAAAAGCATGCCCGCAGGCAGCATCTGATTCGGTTTTTCCAGCCCGCTGTGGGCAGAGGGCAGGAAGTCAGGCCCCATCATGGCTTCCCCCCAAAATAGCCATCACATCATTTATGCATTTGTAATGTGCTGGCAACATACGCACACGCACACGGATGCATGTTACATCATCCCATCCTCACTGCCCCATCCTCACTGCTGTCCTCTGAggtccactttcttttttttttttttttttttgagacggagtttcgctcttgttgcccaggctctgagGTCCACTTTCATAGAGGAGTgaacagagactcagagagggtGGGTCACTGTGCCACAGTCACACAGCACTTAGGACCACCCTATCCTCTGAATCTGGCATGCTCAAAATGACCTTCTTTGGATGAGTTAGGTCTGCTGAGCACTTTCAAACAGAGGCAGGGCCATCTCTGACATCAGGCTCGAACGTTCTGTACACTAGGAAGAGCCCAACCTCTCCCCCCATGACGCATGACAGTTATCACCATTAAAGAAACACTGACTGTCTTCCAGGGGCGTCACATGCATAGTCATCTTGAAAACCATATGAGGTAGATGCTCTTATTGTCCCCATTGTATTGACAGACAACATCGAGATTCAGGAGTCAAATACTGTCACCCAAGCATGGCAGTAACAGAACTGGGAGCTGAGCCCAGGACTGTCCACAGCCCAAATCTCACACTCCCTGCGTGGCACCAGGCCCTTTTAACC\n",
      "\n",
      "CCCGTGGTCGCTCAATCAGCGAGAGTCAATGCACCTGGCTCTAGATCCTCCCTCTCAAGTTACTCTCATACAACTTTAATCAATCAGAACCCAGCCCATAAGGCAAGACCAAGCCCCCTCTCCCCACTCAAACCAATGGATTTGACCACACTGACAGCATGGTAAGCAATGATTTCTACTCTCCAAAGGTCAACTATACAAAGTCAGATTAAAAAAGATTTTGTGTCAAAATGAACATGGGATTTGATATATTCAGGTAATGCAAGGAAGCCCTACAAATTGACAAGAAAAATTCCAGAATCCAATTTTAAAAGTCCGAGTCGATCAATGTTACCCAAAGATCGAAAAAATAAAATTTAAAATTAAAAATCAGGTCAATAGAATTACGTCAATTTAAAACAAATTTAAACAGTTAAAATAACATTCAAAAACGAAATTAAGTACAACAAAATAAAAATTTAAAATAAGGGTCTCAAAAATAAAATCTAAAGTGCAACTTCAAATAAAAAATACATTTTGTAAAATAATTTAAATACATTCAAAATTAATCAAAACAGAAATACTCAAATCGAAGTCGAAATACTTTTAAGTGAAATAAAATTTCGAAATCTTCATACATCAAAGAATTTTTCAGTAAAATAAAAAATCAGCTACTTTTTAACAATATTAAAATCAAAAACTAATAGAAACGTCAAAAGAGAACAGCATGCTGCTAGATGGATGCTCGATGATGTGCTGTGAATTCAAGATCCGATTTAGCTCAAATGCCTGCAGAACCGGCCATGAATGACGGGGGTGGTGTAGGAATGACCGGTCCGGAAGTGAACGGTTCCCCACAGCAGCGTCTCAATTCGGTTTTTCCAGCCCGCTGTGGGCGCCACAGGAAGTCGCCCCATCATCACTTGCCCCCAAAATCACCATCACATCATTTATGCATTTGTAATGTGCTGGCAACATACGCACACGCACACGGATGCATGTTACTTACATCATCCATCCTCACTGCCCGTCCCTCACTGCTGTCCTCTCAAGGTCCGCTTTCTTTTTTTTGAGACGGAGTTTCGCTCTTGCTGCCCAGGCTCTGAGGTCCACTTTCATCAGGAGTCAACAAGAGTTCGAGGGTGGGTCACTCCCCACAGTCACACAGCACTTCAGGACCACCCTATCCTCTCGGTGTCGCATACTCAAAATGACCTTTGCTTGGATGAGTTAGGTCTGCTTGAGCACTTTCAAACAAGGCAGGGCCATCTCTGACATCAGGCTCAACGTTCTGTACACTCCGGAAAACACAACCTCTCCCCATGACGCATGACAGTTATCACCATTAAAGAAACGCTCGCTGCTCCAGGGGCGTGGCGTCCGTGCATCATACTTGAAAACCATATCGAGGTCGTGCTTGCTCCTCTCCCCATTGTGCTCAACGACGACGTCAGAGAAATTCAGAAGTCAAATACTGTCACCCAAGCATGGCAGTAACAGAACTCGGAAACTGTTAACCCAGGACTGTCCACAGCGCCAATCTCACACTCCCTGCGTGGCACCCAGCCCTTTTCCGT\n",
      "24M1D4M1D9M1I3M2I2M2D9M1D2M2D8M1D5M2D17M1I24M2D63M2D26M4D24M1I9M2I46M1D18M3D3M2D4M1D7M3I44M1D12M2I49M2I16M1D7M1I5M1I13M1D8M2I17M1I24M1I24M1D11M2I3M1I30M2D20M1D1M1D21M1I16M1D3M3D52M1I23M1D5M1I18M2D5M2D5M1D20M1D5M2D8M1D22M1D9M1I28M1D1M2I1M3D9M2D91M4I9M1D35M1I13M12D56M1D11M1I4M1D3M3D14M1D21M1I44M2I1M1D19M1I16M1D28M1D15M1I5M1D12M2D45M1D1M1D11M2I1M2I7M3D4M1I14M1I7M1D4M2I1M1D31M1I3M2I46M1I8M2I58M\n",
      "0.8948004836759371\n",
      "read_id: test_read_32_991188_992788 \n",
      "\tmap_start 30, map end 1596\n",
      "\t1600\n",
      "tcagaccaatatccctgattaacatagatgcaaaaattttcaacaaaatactaggaaaccaATCCCAGCAACAGATCAAAAAATTAATACATCagaatcaagtaggctttattcctgggatgcaaggctggctcaatatatgcaaatcaataaatgtgattcaccacataatcagaattaaaagcaaaaaaatatgatcatctcaatagatgcagaaaaggattTGAAAACAATCCAACGCACCTTAATGATAAAAACCCACAACAGactaggcactgaaggaacataccgTAAAATAatgagccatctatgacaaacccatagccacgATCATTCTGAACTGGTAAAAGCCGGAACCATTCCCTTTCAGAActgcaacaagacaaggatgcccactctcaccatgcctattcaacatagtactggaagtgctactagagcaatcaggcaagaaaaagaaataaaaggcatccaaataggaaaagaagaagtcaaactatccctcattgctgatgatatgattctacacCTGGAAAACCCCAAATACTCTGGCAAGAGGCTTATAATACTGATGAACAACTTctgtaaagtctcaggatacaatatcaatgtCAATGTACATTTCTATACACAATAACCTTCAACCTGAGAGTccaatcaagaacacaatcccatttataatagccataaaaaatgaaaatccctaggaatacagctaaccaaggaagtgaaaggtctccacaaggagaactacaaaatacttctgcaagaaatcagagatgacacaaataaatataaacaattccATACTCATATATCAAAAAGATCAATGTCATTTAAATGGCTATACattccaaagcaatctacagattcaatgctatttctatcaaactacaaaaactgcttttcacagaattataaaaaaactaTTCTACAATTCATATGGAATCCAAAAAGTACCCAAAtcaccaaagcaatcctaagcaaaaggaacaaagccagaggcatcacattatctgacttcaaactatattataaacccacagtaaccaaaacagctgatactggtacaaaaataaacatatcactaatggaacagaatagacaacccagaaatgaagccacacacctacagacatctgatctttgataaagacaacaaaaataagcaCAGGGAAAAGAccccctattcaataaacggtgcttgGGTagctggctaaccatatgcagaagaatgaaagtggacCCCTGCccttcaccatatataaaaattaactccacaaggattaaatatttaaatgtaagatcttaaactataagaatcctggaagaaaacctggAAATACCCTTCTCAACATCCACGTTGGTAAAGAATTCTTGGctaagtctccaaaagcaattgcaacaaaaacaaaaattggcaagtgggacctaattaaactaaagagcttctacacagcaaaagaaactctcaacagagtaaacagacaacctacagaatgggagaaaatattcgcaaactatacatccaataaaggtctaatatccagaatctataaggaaattaattcaataagcaaaaaaaaatcccattaaaaatgggcaaaagttataaacagacacttctcaaaagacatacaagtggccaaa\n",
      "\n",
      "AATATCCCTGATTGACGTCGATCCCAAAAATTTTCAAGAACAAAATACTACGGAAACCAATCCCAGCAACGAGATTCAAAAAATTAATACGTCCGTAGATCCCTTTTGCTCCTCGGGATGCGAGGCTCGCTCAATATATGCAAATCAATAAATGTCATTCACCACATAATCAAAATTAAAAGCAAAAAATTGTCGTGCATCTCAATAGATGCAGAAAAGGATTTGAAAACAATCCAACGCGCCCCTTTAATCGTCAAAAACCCACAGACGGACTAGGCACTGAAGGAACATACCGTAAAATAATGAGCCATCTATGACAAACCCATAGCCACGATCATTCTGAACTCGTCAAAGCCGGAACCATTCCCTTTTCAGAACTGCAACAAGACAAGGATGCCCACTCACCATGCCTATTCAACATCATACTGGAAGTGCTACTAAGAGCAATCAGGCAAGAAATCAAAAAGGCATCCAAATCAGAAAAGAAGTCCGACTCTCCCTCATTGCTGATGATCATTCTACACCTCGGAAAACCCCCAAATACTCTGGCAAGAGGCTTATAATACTGATGAACAACTTTCTGTAAAGTCTCAGGGATTCGGATCTCAATGTCAATGTACATTTCTATACACAATAACCTTCAAATTTTCTCGAAGTCCAATCAAGAACACAATCCCATTTCTCATAGCCATCAAAATGAAAATCCCTCAGGAATACAGCTAACCAAGGAAGTGAAAGGTCTCCACAACTACAAAATACTTCTGCAAGAAATCAGAGAGATAGACACAAATAAATATAAACAATTCCATACTCATATATCAAAGATCAATGTCATTTTAAATGGCTATACATTCCAAAGCAATATTACAGATTCAATACTATTACTATCAAACTACAAAACCTTTTCACGGTCTCAACTCTACAATTCATATCGAAATCCGAAAAATTTACCCAAATCACCCAAAGCAATCCTAAGCAAAAGGAACAAAACCAAGGTTAGTCGCGTTCTCTCATTTCAAACTATACTCTCAACCCACAGTAACCCAAAACAGCTCGTGCTCATTCGATCGTTACTCACTAATCAAACCCAGATACGACAACCCAGAAATGAAGCCACACACCTACAGACATCTCTGATACTTGATAAAGACAACAAAAATAACACAGGGAAAGCCACCCCCTGCTCAATAAACGGTGCTTACAGTCCTCGCTAACCATATGCAAAATCAAAGTGGACCCCTGCCCTTCACCATATAAAAATTAACTCCCACAGATTAAATGTTCAATGTTAAATCTCTCGAGTTTCTAAGAATCCTCAAACCTCGGAAATACCCTTCTCAACATCCCACGTTCGTCACAGAATTACTCACTCACATCTCCAAAAGCAATTGCAACAAAAACAAAAATTGGCAAGTCGGTTCTGATTGAACTTAAAGAGCTTCTACACAGCAAAAAGAAACTCTCAACAGAGTAAAGCCCGCAGCCTACCCAGAATAGAAAATGCTCACAAACTATACATCCCAATAAAGGTCTAATATCCAGAATCTATAAGGAAATTAATTCAATAAGCAAAAAAAAATCCCATTCGATCCGGACAAAGTTTATCAACCCGACGCTTCTCAAAAGACATACAAGTGGCCAA\n",
      "22M1I12M3I12M1I19M1I3M1I18M3I2M1D3M6D5M1D1M2I4M1I79M1I49M3I5M1I14M1I101M1I31M2D39M1I19M3D3M1D20M3D30M2D14M1I6M1I43M1I15M1I6M1I43M4I3M1I2M1D38M1D16M1I37M6D27M2I6M1I38M2D14M1I28M1I32M1D5M2D10M3D3M4D4M3D14M1I7M1I5M1I12M1I33M1D3M1I2M1I42M1I28M1D3M3D12M2I3M1D3M1I35M2I30M1D7M1D4M2I25M1I4M1D17M2D2M1D27M2D15M1I5M2D8M1D16M1I1M2I16M5D7M1I20M1I10M1I15M1I58M1I19M1I24M2I3M1D7M2I6M3D24M1I85M1I36M\n",
      "0.9161816065192084\n",
      "read_id: test_read_33_107192_108842 \n",
      "\tmap_start 7, map end 1649\n",
      "\t1650\n",
      "CACCAGCCGGTCTTCAGGCTCCCGGGCCAGCATTCAGACTGGGCAGGAGGTTTGTGGGTGGAAGGTGAGTTGGGCAGCCCGTCAGCCACTCCTCAGGGCTGGACGGAAATAGTGATTAGGAGCATGGGGTTTGATGTCAGATGGCCTGGGGTTGCAGCCTAACTTTGTTATTTACTATCTGTGAGTTAAGCCctctgggtttcagtttctccatttgtaaaatgggactgATATTGGAAGATGTCCTACTTAGAATGGCGCCTGAGCCATCGTAAGCCCTCAGTGAATCCACTGTAAGACTTCAGCCCCCAGACTCCCACTGTTCCCTTGCCCCAGCTTCCCTGCACCTCTCCTGCCACTTCCCTCAAAGTTGCTCTCAGTCAGGCCTTGGGAGCCACAATCTGGGAACGAGGACCCTGACATCCCTCTTCACAGCTGTACCCAGCACCAAACAAGTCATCAGAGGTTCAAAACACGGAGcccctaccatgtgccaggcacggCATGGCATGCCTGCTCTCTTTCTAATTTTGATACCGCAATgattaattctgtgaaaaaagttcTAGAAGGATATAAGGCAAAGAATTAGGTTGTGTTCCGTCCATTCACTCACGGCTCTGCTCCCACGCATGGCTGCGCTATGCACACTGCCCTGCAGCTTCCTTTGTCTGCTGCACAATGGGCTCTGGACGGAGCCCTGTTGGCGCAATGAGTGAGCCCTACATCAAGCTTCGTCATCGCTGCATCGCTTTGCACCGTGTGGCTGGGCCGCCATCAGTACAGCCAACTGCCTCTGATGGACATCTGGGCTGCAGCCAGATTCCTCCTAACAGGGCTTCAGGGAAAGTCCTCCTCAGCGCCTCTTTGTGCGCATGGCACATTTCTCTAAGGCAGGTTTCTGGACATGAGACTGACGGGCAGCATGTGCTCCTTACATTTGGGGGTCCTGTCAATCCCCTCCTCTCCCGCAGGCTGTTCTAGACTCCAGCCCCCATGTGAGAGGATGCCTGTTGCCCTCACTCTTCCATCCTGGCAGTCCCCAGCCTCCTTGCCTCTCTTGTTTTCTTGTTCCGATCAGTTCCAGGTGGCCAGAGGGTCGAGACTCATCTCACAGCCGTGCAATAGATGCGTGTCTCTCAGTCGGTCAGCTCTGGCTGGGATCAGTGTTTATCTTCATGTCGGTGGACACCATCACAGGCACCCGCAAGAATCAGCGATCGACGGGGAAGAGGTTTGGGTGCATGGAGGAGTGCTTTGCAGTGAGGGCTTTGGAGCCTTGTGCCctgattcaaatcctggctgtgtCCCCTGCCGGTTGTGTGACTTCGGATAAATTACTTGATGTCTCTGAGCATAAGCTGGGTCATCAGAAAAGCCAAGCTAGTAAGAGCACGTAGCTCAGAAGGCTGCTGTAAAGTTCAGATGAGTTGATATATGCTCAGTGCTGGAAAGGGTGCTGGGCACATTAGCTGTTGGTATTATTTGGGCACCTCCAGcccaaataataataaagagactAGGAGGGATGTTGGGAGATATCAGATGTTGCTCATTGGAGGCTGTACTGAGTGTGCAGAGAGCTTCAGGGAACCTGGAGCTTTGAGAGGTAAAGGAACGTGCCAACTGGAACTAGAAACCCACTGCCGCCTGCAGCTCTCTGGGCTGTTTCTCCACATGCACCGTGGGGTTGTTCGGGT\n",
      "\n",
      "CATCTCAGCTCCCCGCCGCGTTCAACTCGGCATCTCGGTCGAAGTTCGAGTTCGGCAGCCCCATTCAGCCACTCCTCGCTCGACGGAAATCGTCATTCCGGAGCATGGATTTCAATGTCGATCAGCCTCAATTTTAACCCGTTTTTTACTCTCTCTGTCGTTAACCCTCTCGGGTTTCGAGTTTTTTCTCCATTTGTCGATCCGATCGTGCTCGATCTCCTACTTCAAATCGCGCCTCGACCATGGTAAGCCCTCAGTAAAATCCGCTCAAGTTTACGACCCCCAACTCCCACTATACTTCCCCTTGCCCAGCTTCCCTGCCGCCTCTCCTGCCACTTCCCTCAAAGTTGCTCTCAGTCGCCTTGGGACCGCGATCTCGAAACGCAAGTTCCCTGACATCCCTCTCACAGCTGTACCCAGCACCAAACGGTCATTCGAGGTTCAAAACACGGAGCCCCTACCATGTGCCAGGCACGGCATCGCATGCCTGCTCTACTTCTAATTTTGATACCGCAATGATTAATTCTGTGAAAAAATTTCTCAGAAGGATATGAGGCAAAGAATTCGGTTGTGCTCCCGTCCATTCACTCACGGCTCTGTTCTCCCCCGCGTCGCTCGGCTATGCACACTGCCCTGCAGCTTCCTTTGTCTGCTGCACAATGGGCTCTGGACGGAGCCCGTGCTTCAGCGCGATCGGTCGCCCTCGTCGAGCTTCGTCATCGCTGCATCGCTTTGCACCGTGTGGCTCCACCCCTCATCAGTACAGCCAACTGCCTCTGATGGACGTGTTTGGCTGCGGCCCGATTCCTCCTAACAGGGCTTCAGGGAAAGTCCCTCCTCAGCGCCTGCTTGTGCGCATCGACAAATTTCTCTCGCCACAAGTTTTATCGTTATCGAACTCGCACCGCCACATGTGCTCCTTACCGTTCAAATGTCATGTCAATCCCCTCCTCTCCCCGCACTGTCTCGGTTTCCAACCCCCATGTGAGAGGATGCCTGCTCCCTCACTCTCCATCCTGGCAGTCCCCAGCCTCCTTGCCTACTATTGCTTTACTACTCCGATAGATTCCAGGTCGCCAAGATCGAGACTCATACTCACAGCCCAGTGCAATCAATGCGTGTCTCTCGTCGGTCGCTCTCACTCAGATCAGTCTTATACTCATGTCAGATAAAACATTCATAACAGGCACCCACAATCAGCAATCAACAACCATTTGGGTCGGTCAAAGCAGTGCTTTCCATCGAGGCTTTCGAAAAGTTCTTGCCCTGATTCAAATCCTGGCTGTGTTTTCCCCTGCCGGTTGTGTCCGTTTTTCAATAATTACTTGATGTCTCTCAACATAACTTGGGTCATCAAAAAGCCCAGCTCATCAACCGTCACTCAGAAGGCTCTCTGAAGTTTCAGATCATTTTGATATATGCTTCAGTGCTCGAAAGGGTGCTCAGCGTCACTACTCATACTGTCTTTCCAACCCTCTCCACCCAAATGATCGTCGACTCCGAGAGATGTTTTCAAAATCGCAATACTTCTCATTCGAAGCTGTGCTCATATACAAGAGAGCTTCCCAAAGTTCTCGAACTTTCGAGGTCAAAAGGAACATCCCCAACTGGAACTCGAAACCCACTGCCGCCTGCAGCTCTCTCACTGTTTTCTCCACATGCACCGTAGATTGTTTTCGT\n",
      "10M1I14M2I14M3D20M1I21M1D3M12D6M1I6M5I17M1I6M1D6M1I7M1I2M3I13M6D3M1I36M1I2M1D18M1I9M1D4M2D4M1I1M1I6M1D9M3I3M1I6M1D13M1I38M2D9M1D16M2I18M1D24M1D113M1I31M1I25M2I78M1I2M1I2M1I12M1D6M1D50M1I32M1I44M1I26M1I13M1D4M3I14M1I2M1D3M1I1M1I7M1D13M1I30M1I6M2D4M1I2M1D33M1D9M1D31M1I21M1D2M1I13M1D1M1D13M1I9M2I22M1D7M1D18M1D23M3I14M3D16M4D2M1I2M2D7M2I1M1I2M2D19M1D8M3I2M2D2M1I26M3I17M2I10M1D37M1D17M1D1M1D1M1D16M1D8M1I9M1I12M1I24M1I6M1D21M1I5M1D13M4D21M1D4M2I2M1D26M1D5M1I9M2I2M3D2M2I11M1D6M2I10M1I41M1D5M1I18M\n",
      "0.8661064425770308\n",
      "read_id: test_read_34_945215_946915 \n",
      "\tmap_start 56, map end 1686\n",
      "\t1700\n",
      "ctttgggaggtccaggtgggtggatcacctgaagtcaggagttcgagaccagcctggccaacatggcgaaaccccttctctactaaaaatacaaaattagctgggcgtggtgacacatgcctgcagtcccagttactcaggaggctgagacaggagaatcacttgaatccaggaagcagaggctgcagtgagctgagatcgcatcactgcactccagcctgggcaagacaaagcgagacttcacctcaaaaaacaaacaaaaaaataccctTCCTCCAGATAGCCACATGTCTTacttccttcaggtctcagctcccAGGGCGCCCTAGAGTAGGCACAGGGAGTACCTCACAGTGTCCTCCCTGACCATCCATATAAAGTAACATCCTCCATAAACTATCCTgttactttgctttatttttctgaatagcATTTATCACTATCTGGCATTTATCACCtgtagtttttactttttgtctctctctctctaatttgTATGTAAGCTTCATAAGGAAGGAATGACTCTGGACTGGACTCCATGCCTCAGCACATTCACCCacccattcaacaaacattcttaagggtctaggctgggcatggtggctcatgcctgtaatcccagcactatgggaggccgaggtgggaggatcacttgaagccaggagtttgagaccagcctgggcaaggaaacaagaccctgcctctaaaaaatacaatttaaaaaagtatccaggcacagtggcgtgagcctatagtcccagctactcgggaggctgagctgggaagatctcttgtgcccaggagttcaaggctgcagtgagccatggtcatgccactacactccagcctgggtgacagagttagaccctgcctgtaaaaaaaaaaaggtggggggcagggtggggaaggttTGCCTTGACCAGGCCGCGTGCTAGGTGCCGGGCATACAAAAGTGAAAAACGTGATTTGTCCTCAGTGAGCTCACAGGTCTGAGGAGACACATAAACCCAGGAATGGAAATGCTTTGCTGGCGATGGACAGTGAGTCTGGGAGAACATTGAGGAGATGTTTAACCCAGACAATGGAGTGGGGTGTGGTCAGGTCAttccctggaggaggtgatgtttaAGCTGTGGCATGAAACCTCAGTAGGATGTGATGACCTTAGAACATGGCTACACGTTCTTTGACATTCCTCCTTTAAATTACCTTccctttgaatctgggctgggcCTTCATGATCCATTTGTAACCAACAGGACACAGCAGACATGGTGCTGCAGGATTTCCAAGGCTAAGTCACGCTGAACCGCCATGTTGAAAGGCCAACAGCCAAGACTGCCATGTGGAGAAGCAGCCCGGGCCACGTGGGAAGACCATGTGTAGGTAGCTGCTCCAGTTGACAGCTGAGCCCAGGCACCAGACTTATGAGTTGAGAAGCTTCCAGGGGATTCCAGCCCCTCATAATTCAACTCACTCCCAGCTGTTGGAGGGCCTTCCCAGCAGAGGCCCAGCCATCACAGAGCAGAGACAAGCCATCCCTTCTATATCctgtctgaattcctgacccagaGTCCACGAACATAATGAGATGGCAGTTGTCCACACTATTAGGTTTTGGGGCAGTTTGTTATGAAGGAATAACTGGAACAATAGGATAAGGAAGAGTGAGGTGAAGGAAAGGACTTTACAGATGCCAGCAACAGTACATGGGAAGACCTGGTAAGAGTGGCTGACACAGAAGCTAACC\n",
      "\n",
      "ATCCCAGGTGGGTGGATCACCTGAAGTCAGGAGTTCGAGACCAGCCTGGCCAACATGGCGAAACCCCTTCTCTACTAAAAATACAAAATTAGCTCGGCGTGGTGACACATGCCTGCAGTCCAGTTACTCAGGAGGCTCGCCCGGAGAATCACTTCGATCCAGGAAGCAGAGGCTGCAGTGAGCTGAGATCGCATCACTGCACTCCAGCCTGGGCAAGACAAAGCGAGACTTCACCTCAAAAACAAACAAAAATACCTACCTCCAGATAGCCACATGTCTCTTTCCTTCAGGTCTCAGCTCCCAGGGGCGCCCCTCGTCCACGCAGGAAATTTACTCGCAGTCTCCTCCCTGACCATCCATCTCGAGACCCAACATCCTCCATCAACTCTCCTTGCTCTTTGCTTTATTTTTCTCAAATAGCGTTCTCACTATCTCGCATTCTCGCCTGTTAGTTTTACTTTTTGTCTCTCTCTCTCTCCATTTCTATGTCACTTTTCATAAGGAAGGAATAACTATCGAACTCGACTCCGTGCCTCACACATTCACCCACCCATTCAACAAACATTCTTCAGGTTCTAGGCTGGGCATGGTCGGTTTCATGCCTGTAATCCCAGCACTATGGGAGGCCGAGGTCGGGAGGATCACTTGAAGCCCCGAGTTCGAGACCAGCCTCGGCAAGCCGAAACAAGACCCTGCCTCTCATTCCAATTTAAAAAATTTTCCGGCGCGGTCGCGTGAGCCTCTCGTCCACTCTCGGAAACTCCTTCGGAAAGTGTCTCTGCCCGGAGTTCAAGGCTGCGGTCGGCCCCATGGTCATGCCACACTACACTCCAGCCTGGGTGACGAGTTTCGTCCCCCTGCCTGTCAAAAAAAAATCCCTCCCGTCCCGGCTAAGTTTTCCCTTGACCAGGCCGCATGCTAGGTGCCGGGCATCAAAAATCGAAAAAGTGATTTGTCCTCGTCGACTCACAGGTCTCAAGAATTACATTCAAACCCAGAATGGAAATGCTTTGCTGGCGATGGACAGTGAGTCTCGAAAACGTTCGAGAAATGTTGACCCAACAATCGATCAGGGATGTGGTCAGGTCATTCCCTGGAGGAGGTGATGCTTAAGCTGTCGGCATGAAACCTCATCAGGATGTGATAACCTTCGAACATGGCTACACGTTCTTTGACATTCCTCCTTTTAAATTACCTTCCCTTTGAATCTGGGCTGGGCCTTCATCATCCATTTGTAACCAAACAGGACACAGCAGACATCGTTATGCGGGTTTCCAAGGCTAAGTCACGCTCGACCCGCCATGCTCGAAAGGCCAACAGCCAAGACTGCCATGTGAGAAGCAGCCCGGCCACGTCGAAGCCGTGTGTAGGTCGCTGCTCCAGTTGACAAGTTTGAGCCCAGCACCGGTTCTCGTTCAAAGCTCCCAGATCCAGCCCCTCGTCATTAAAGAACTCACTCCCAGCTGTTTGGAGGGCCTTCCCAGCAGAGGCCCAGCCATCGCAAGACAAGACAAGCCATCCCTTCTATATCCTGTCATTCCTGACCCAGAGTCCACGAACGTGATCGAGATCGCAGTCCCACGCTGCTCGGTTTTCAGGGCGGTTTTTGCTATCAAGATAGCTCGAACAATCAGATTCACGAAAATCGCCATCAAAGCCGACCGCTTTTACCAGATGCCAGCAACGGTCGTCCGAAGCCTCGTCAAGTTGGCTAACACCAAAGCTCAC\n",
      "116M1D18M1D100M1D10M2D7M1D25M1I1M2D22M1I5M1I4M2D14M2I3M1D33M3I22M1I4M1D17M1I7M1D17M1D10M1I3M1D25M1I13M1D1M2I22M1I20M1D54M1I2M1I38M1I45M2I19M3D23M1D24M1D3M1D2M1D3M1D7M2D3M2I6M1D4M1D7M1D18M2I15M2I23M1D3M1I4M2I11M1I26M4D41M1D7M1I6M1D13M1D2M1I2M1D23M2I7M1D37M1D10M1I2M1D6M1D8M1D8M1D1M2I46M1I65M1I55M1I27M1D24M1I11M1I30M1D12M1D8M1D5M1D28M1I2M1I9M1D7M2D4M1D6M1D9M3D2M1D17M3I17M1I35M1I3M1D2M1D28M3D29M1I11M2D18M1I7M2I12M2D14M\n",
      "0.8735440931780366\n",
      "read_id: test_read_35_332849_334599 \n",
      "\tmap_start 11, map end 1654\n",
      "\t1750\n",
      "CTTCATGGCCTACTGCCTTCCTGCCCAGGAGCCCCAGGTCTTGGCATAATAGGTCTAGCTGGCTGCAGGCTTAGCCCTCTCTGGCCTACCTCGTCTGCTCTGGCATCTTCCATATTTCAACTGTGCCCTGCCCATCAGGAAGAAGGGCAGTTCCCAGGGTCTAGGTGTGAGTCTCAGGGCTGTGTGACCCTAGGTGGCTGGCAGAGCCACCCTGGGCCTCACCCTGCACATCCATAAAGAGGGGTTGGGGCATCCTATGATTCACTGGCTTCACTCTATGGGGTCAGGAAGGAGCACTGACCTGGGAGTCAGGAGCCCAGTTCCAGCCCTGCTTCTGCTCCCTTTGCCCTCCCCTTTGGGCCCCAGCTTTCTTGTCTGTCAAATGGGAATGGGACAAGATGGTCCCTGAGCTGCTGTCCAGACCCGGTAATGGAATTCTGTATGAATTCCAAGGAGGAGAGTAGCCACAAATGCATCCGCTCCACGCTGATGGGGCTCTCTCTCCGGTAAGCTTCACTTACTCTGCCATTTCTCCAGTGTATTTTATCAGACCCACCTCCTCTGAGCCAAAGAAAAGAGGGTAGGAGCAGGATGAAACAAACTCACAGCTCTGTTCATTCAGGCTCATCACAGagatgacttgcccaagggcatGTGGCAGGTCCTCTGAAATTTGAGGAaggctgtgttttcttttgtgtcaCTTTGGTCCTCCGGGAAGCAGATGTGAAAATGGAGGTGTAAGTGTAAGAGATTTATTGAGAAAACACCGTGAGAAATGGAGGAGAGCCTTCAGAGAGGGATGCAGGTCTGATACTGTGAAAGGAGAGGTGGAATAAAGAAAGATTGGGGAAGAGGAGCCTCAGGCCATGGTGCAGGTCTAAGGAAGTCCTAGCCAACCCAACAGGGAGCTCCTGTGCAAAGATTTCCTGTAGAGGAGTCCCGTGCTCGACAGAAGGGCAGACCCTAGTTTCCCACCATGCTCAGTCATCAGCCGGCCTGTCCTGGAAGAGTGGCTGTGCTGACAACTATGGCAGATTGCAAAGGTGTTGCAGCTGGAGGCTCTCAGTGACTGTAGTCCAGAGAAGATCTGAGTGGCACCTCCCTAAGGCTGCcacatgtttttctttattcatttaatagACACTTACAGAACTCTGGGCCATGTGCCAGTTACTGATCTatgcactttacaaatattaccTTAGTTAATCCTTACCCTCGCCTTTTGAGACAGATGGTATttttagccccattttatagagggagaaactgagcacaaagaggttaagtaagttGCCCAAGGTTTCACAGCCAGTAGGTGATAAGCCACAAATCCAACCCAGGCAAGCTGCTTGGAGGCTCTGCTCTGACCACTCCACCACACTGCCTCCTCTCCAGCTGCAAATGCCTTGGTGGCAATTTCTGGGaccatttccattttcatttttcattggcTCAGGACCTCACAGCCTTAACAGGAAGGGGCCTACTGTGGTGGCTGGGGGCATAGCAGGGTCCCAGCTCCCCCTGAAGCTTCTACCTTGCTCCCTCAAAGACTTCCACCTCAAAGCCTTTGCATATATTGTTCCCACTGCCCAGAGCACTCTTCCACCCCCTTCCTTGCCTAGGTAACCCCTCCTCCCATCGCTCCCTTGCCTGACCCCAGGATCTAGCCCAGGATAGGGGTGATATGTAGTGGAAAGGAGCTagttgacatttattgagcacttattatgtgctaGGAGCCAAGTCCAGCCCTTTACATAGATTGCCTCACTTAACCATCATAACAACCTG\n",
      "\n",
      "GCCTCTGCCTTCCTGCCCAGGAACCCCCGGGTCTCGCATGATCGATTAGCTCGCTCAGCTTAGCCCTCTCTCGCCTCCTCGTCTGCTCTCGCATCTCCATATTTCAACTGTGCCCTGCCCATCGGAAGAAGGGCAATTCCCGGGTCTCCATGTGCATCTCAGGGGCTGTGTGACCCTAGGTGGCTCACAGCCACCCTCGGCCCTCGCCCTCCGCATCCATCGAATTCGGTAGTCCTCTCATTCACTCGCTTCACTCTATCGGGTCGCCAAAGGACACTGACCTCGGAAATCGCCGGAGCCCCAGTTCCAGCCCTGCTTCTGCTCCCTTTGCCCTCCCCTTTCAGTTCAGCTTTCTCTGTCAAATGGAAATGGGTCCATCGTCCCTCGAGCTGCTGTCCAGACCCGGTAATGGAATTCTGTATGAATTCCAAGGGAGTCACCCACGATCCCGTTCCGCTCCACGCTCAATCGGCTCTCTCTCCGGTCACTTTTCGCTTCTCTGCCATTTCTCCAGGTGTGCTCTCAACCCACCCTCCTCTCAAGCCAAAAATCCCACCCCCATGAAACAAACTCACAAGTTTTATACTCATCAGTTTCATCACAGAGATCGTTTTTGCCCGGGCATGTGACAGTCCTGTCGAATTTAAAAAAGGCTGTGCTTTACTTTGTGTCACTTTGGTCCTGCGCCTAATGTGAAAATCGAAATGTGTGCATGTTTCGCCATTTGCTCAAACGCCATTGCAAATCGAAGCTCTTTCAAGAGGGATCAGTCTGATACTGTGAAAGGAGAGGTCAAATAGAAAAATTCGAGAGCCGGAGCCTCAGCCATGGTGCAGGTCTAAGGAAGTCCTCACCAACCCAACAGGGAGCTCCTGTCCCAAAGATTTCCTCTACGAGGAGTCCCGTGCTCAACAGAAGGGCAGACCCTCATTTCCCCACCATGCTCAGTCATCGCCGGCCTGTCCTGGAAGAGTCACTCTGTCTCACGGTTTCTCGCAGTTCCAAAGGTGCTCCGCAGCTCGAAGCTCTCATGCATTGTCATCCAAGAAGATCTCAGTGGCACCTCCCTCAGGCTCCCACATGCTTTTCTTATTCATTTAATAGACACTTACAGAACTCTCAGCCATGTGCCAGTTACTGATCTATGCACTTTACAAATACTACCTTCATTACAATCCTTACCCTCGCCTTTTGAGACGATCGTACTGTTAGCCCCATTTATCAAGGAGAACTCGACACAAAAAGATTACGTGAGTTCCCCAAGGTTTCACAGCCAGTCCCGGTGATCACCCACAAATACAACCCAGCAAGCTGCTTCGCCTTCTGCTCTGACCACTCCCACCACACTGCCTCCTCTCCACCTACGAAATGCCTTCGTGGCGATTTACTCGACCATTTCCATTTTCATTTTCATCACTCAGGACCTCACAGCCTTAACCCGAAGGTCTGCTCATCCTTCCCGTCATCGCCCAGGTCCCCAGCTCCCCCTGAAGCTTCTACCTTGCTCCCTCAAAGACTTCCACCTCAAAGCCTTTGCATATATTTACTACTACCCCCACTGCCCAGAGCACTCTTCCACCCCCTTCCTTGCCTACGGTAACCCCTCCTCCCCATCGCTCCCTTGCCTCCGACCCCCGGTCTCACCCAGATCAGGGTGATCTGTCATCAGAAAGCAGCTGCATTGACATTTATTGAGCACTTACTATGTGCTAGGAGCCAAGTCCAGCCCTTTACATCATACCTCACTTAACCATCATAACAACAC\n",
      "4M1D17M1I11M1D13M1D9M1D2M1D19M1D19M1D28M1D18M1D20M1I23M2D12M1I22M2D3M3D42M1D1M2I6M1D13M4I1M1D6M1I45M1D10M3D21M2D10M1I47M4D4M1I6M1D5M2I36M1D1M2I7M1D17M1D11M1D5M1I8M1I6M3D4M5D25M1I8M2I3M1D19M1I1M1I8M2D12M1D55M4D22M2D7M3D3M4I1M1I25M2D10M1D8M1D2M1D29M2D26M1D52M1I16M1I34M1I24M1D28M1I5M1I11M1D13M2I17M1D2M1I11M1D44M1D82M2I25M1D19M1D5M1D7M1D4M1I2M1D42M2I26M1D11M2D4M1I15M1I27M1I20M1I2M1D18M1D6M1D32M4D1M1D3M1I18M2I74M2I2M2I1M3I40M1I13M1I18M2I9M1D9M1D16M1I14M2I1M1D55M1D2M1D25M\n",
      "0.9135338345864662\n",
      "read_id: test_read_36_681098_682898 \n",
      "\tmap_start 7, map end 1797\n",
      "\t1800\n",
      "cGATTGTTTATTCTCAGCCTCAGGAGGACGCAGGAGAATCTCAGGCATCAAATTTAGTGCAGCACACCTGCCTAGGCAAAACTGGACAGCTCCACCTCAACTTTGTAGAGGGGCAGAGAAAGCTGTGGGGAACCACCTTCCTGCTCTTGTCATGAAGTCCTCCTCAACTGGAAGCCCAAGCTTCAGGCCAGGAACTTCCCCAGCAGAGGCAGCCTTCCCCAGGGGGCCAAGACCTTGGCAGAATGTCTGGGGTGCTCATGGCAGCGCCTCTCACCTGGCCCCTGCCAAATCAGTTTCTGCTTGGCCTCTGCAGGATCTGACCTCGTTGAGTCCCCAGGGCCCAGTTCTCTGCCTCTGAGGCTAAAAGTGAGATCGTTTCCTGGTTGAGGAGTGACTAAAAGACTTCTGtgtgtagagactgggttttgctgtgttggccaggctggtctcgaactcctgaccccaagtgattcACCTTAAGGTGAATGTGTGGCTGTGTACGCGCACGTGCAGAGCAGAACCATCACTCTGCTTGGGCTAGGCAGCTGGACTAATCGTCCATTTCCCCCCGCCCGGAGGCCTCTTCCAGGCCCCCAGCTGCCCTGATGGGCCAGGTCAGCCCCCCCCACAGGAGCCCCCAGCCGCTCCCCATTCGGCTTTCCTTGTATTGTGCGCTGCCTGGTTTCTCGAGGAAATGGGGCGGCTGCTGGGTGCGGGGGCGGCCGCCAGCAGCCCCACCCCCTTCCCCCCATTGTCACTCCTGGCTTCTGCCCCTAGCCCCTGCTGCTGACACTAAAAATAGACCTGTTCACAGGGAGACGGCCCCACCCCTGAGCGGGGCCCCAGGCTCAGTGTCAGGTTGGGTTTGCCAAGACAGAGCTGCCCTGGGGACTGAGGTGGCTCAGCTGAAAGACCGGGGTCGAAACACGTtagggctgtgtgaccttaggtccccttttctcctctctgagcctcaatttcctcacctttaaaatggGGTAAGGCTACCTACCTGCTAAGGTTGCTCTTGACAATGAACAGAAGCTGGGTGAGTCACAAGCGCACTTCGTTCTCGTCCTGCCCGTGGTTTGGTGCTGCCTGAGCGGCTTGAGAACCTGGAGGACAGATGGCATAACACACGCCTTCATCTTCAATCTGCCTTGAATGATTGCCAAGGACTTCCAAATCCCCCTAAACAGAGGAGCTGGAAGAGCCCACTTGGGAATCCAAAAGTGTCCGCAGCTCTGCTGTGTGAGCCCGGGTAGGTGCCTCCTCTCTGGCATCCATGAGCTCACACGTGAAGTATGCAGCCAGGCTGGGACTCGAACCTGTGTCTGCAGCCTCTGAAGACTGTTTTTTCCGCTTTAAGGGGCTGCCTCCATGCTGATGACTCCAAGGACTTCCTGGCTGGGATAACCCTGCCTTTTCGTCTACAAACACATGATTCATGGTGAAGGAAGATGCTGGGCGGTGGGCATGGAAGCCTGAGCTGGGGGCTGGGTAGTTCCCCTTGAGCCCATGCAGATGGGCAGCTGTCCTCAGATGCCACCCGCAGCCATTGGGTTGGGCCCTGCAAAGGAGATACTGGCATGTGTCTGTCtaccaggctcttttttgttgttgttcctttgtccttttttttaaaccatggaATATTTCAAATATGGGTCTTTCATATACATTCAAAACCTTGAACTCTTAGAATTACTTTTGTCAcagttgcaatttttttttaaatttttatttcatttgtctatttattttttgagacggagtctcgctctgttacccaggttagagtgcagtgacctgatcttggctcactgcaaccttcgcctcccaggttcaag\n",
      "\n",
      "TTCCTCTCAGCCTAGGAAACACCCGAGAATCTCGGCATTCAAATTTCATGCAGCGCCGCCTCCTCCACGCGAGTTCGACCTTCCGCCCTCGTTTCTCAACGGCCGAGGCTCTCGGGAACCACCTTCCTGCTCTGTCATCGAAGTCCTCCTCAATTCGAAACCCAAGCTTCACCCACAAAGTCCCCACAAAGGCAGCCTTCCCCAAGTTTCATTTGGCGATCTCTCGAGATATCATGGCAGCGCCTCTCACCTGGCCCCTGCCAATCGATTTCTGCTTGGCCTCTGCAGATCAACCTCGTTCATCCCCAGCCCAGTTCTCTGCCTATCGAGCTCGAGTTGAAATAATTTCCCTCGTTCAGGAGTGGCTCGACTTCTGTGTCAACTCGGTTTTGCTGTGCTCGCCCACAGCTGCATCTCAAACTCCTGACCCCCAAATCACCTTCAGGTGAATGTGTGGCTGTGTACGCGCACGTGCAGACTCCACAAACCATCACTCTGCTTTCACTCCGCAGCTCAACTCCATCGTCCATTTCCCCCCGCCCGGAGCCCTACTTCCAGCCCCCCAGCTGCCCTGATCGGCCCACGGTCGACCCCCCCACAGGAACCCCCGGCCGCTCCCCATTCGGCTTTCCTTGTCCCTGTGCGCTGCCTGGTTTCTCGGAAATGAGCACTGTTTTCGGTGCGGCCTCACCCGCAGCCCCACCCCCCTTCCCCATTGTCACTCCTCGCTCTGCCCCCTAGCCCCTGCTGCTCGTTTGCTCGATCGTTGCTCACGGGAGACGGCCCCACCCCTCAACATTACAGCTCAGTGTCGGGTTGGGGTTTTGCCGCCCGAGCTGCCCTCAGAAGTGGTCGCTCAGCTCAAAAACCATCGAAACACGTTCGGCTGTGTGACCTTCAGGTCCCCTTTTCTCCTCTCTCGACCTCAATTTCCTCACCTTAAAATCCCGTGCACACCTTCTACCTGCTCACAGTTTTGCTCGCAATCAAACCAAAGCTCGGTAAGTCACAAGCACACTCATTCTCGTCCTGCCCATCATTTTGGTGCTGCCTACAACAGTTTCAAACCTCGACAGATCAGCATAACACACCTTCATACTCGTGTCCCCTTTGAATCATACCCCCCTTTCCAAATCCCCTCAACGAAGCTCGGAAGAGCCCACTTCAAATGCAAAAATTTTCCCGCAGCTCTGCTGTGTGAGCCCAAATTCCCGTGCCCCTCCTCTCTCGACGTCCGTCGACTCACGCGTCGATCTGCAGCCAGGCTCGACTCGAACCTGTGTCTGCAGCCTCTCGAGAGTTTTGCTTTTTCCCGCTTGCGCCGATCCTCCATGCTGATGACTTACCGCCGCTTTCCTCCACTCGCCGTCCTCCTGCCTTTTCGTCTACAAACGCATCATTCATCGTGAAGCCGAAGTGCTCGGGCGGTGGGCATGGAAACCTCAGCTCAGAGTTTTAGGGTAGTTCCCCTTGAGCCCCATCCGAGATCGGCAGCTGTCCCTCAGATGCCACCCGCAGCCATTCGGTTGGGCCGTCCGAAGGAATGCTCGGCATGTGTCTGTCTACCCAGCTCTTTACTACTGTTTTCCTTTGTCCTTTTTTTAAAAGTTAATTCGAATGCTCGATCTCGGTACTTCATATACATTCAAAACCTTTGAACTCTCATTACTTTTGTCACAGTTGCAATTTTTTTTTAAATTTTTCCTTCATTTGTCTCTCTTTTTTTGAGACGGAGTCTCGCTCTGTTACCCAGTTAGAGTGCAGTGACCTGATTGCTCGCTCACTGCAACCTTCGCCTCCAGTTCAT\n",
      "19M1D6M1I32M1D4M1D11M1D24M4D1M1D6M1D1M1D44M1D25M1D4M1D11M1D6M2D18M1I2M1D19M1I18M3D12M3D2M1D16M1I7M1I5M1I21M3D45M2I3M1I35M1I30M1I25M1I6M1I4M1D48M1I22M2D6M1D4M1D6M3D3M1D8M2I14M1I7M2D19M1D4M1I18M2D4M2D9M2I7M1D23M3D6M1D18M2I6M2D19M2D22M3D13M1D15M1I21M1I2M1D16M1D12M3D2M1I3M3I9M1I1M1I2M1I7M2D1M1D7M2I2M1D24M1D19M1I15M1I11M1D5M3D8M1I11M2D11M1D7M2I13M3D3M1I8M1D9M1D2M2D4M1I14M1D15M2I27M2I5M2I10M1I9M1I2M1D9M1I2M2D14M1D32M3I3M1I12M4D6M2I17M2I13M1I6M2I1M1D43M2I4M1D4M1I33M3I17M1I7M1I14M1I44M1D5M1I36M1D22M2I3M1I6M1D4M1D30M1I9M3D57M1D32M1D21M2I1M1D24M\n",
      "0.8364485981308412\n",
      "read_id: test_read_37_567712_569562 \n",
      "\tmap_start 127, map end 1840\n",
      "\t1850\n",
      "gtctctgggcttcagtttctccatctgtcaaATGGATGGTTAAACTCAGTGTTTCTAAAGGCCCACtgttcacccatccatccatccatccacccacccacctacccatctgcccacccatctatccatccccatccatccatccatccatccccatccatccatccatccatccatccatccacccacccacccatctatccatccactcacccacccatctatccatccatccatccacccatccatccatccaccaacccatctatccatccaatcacccacccatctatccatccaccaacccatctatccatccactcacccacccatctatccatccatccatccacccacccactcatctatccatccatccatccatccatccacccacccacctacccatctgcccacccatctatccatccccatccatccatccatccatccacccacccatatatccatccactcacccacccatctatccatccatccacccacccactcatctatccatccatccatccatctatccacccacccacccatcatccaCCCAACCAtctatccgtccatccatccattcagcaGATATTTCTTGAATATCATCTATGTGCCAGGATCCTttatttattaaagttaaaagacaaatcacagaCCTGTAGAAACATTTTAGAAAGACATACAAAATCATACTGGATTGGAAATGTAAATTTCCCCAGGACTTTTGTTCACCAGTGACTCTCCAATGCCATGCATGGGGCCACATGTCTACTAGGTGCTCTGTAAAATGTTTATTGGATGTAAGAATGAATAGGACATATTTTGCTGTTCTAAAGAGAGCTGCCTCCGAGTCTGAGATTGGAGTCAGACATCCTCTCTAGGACTTATTGAGAGGGGGCCAACTATCTTTGTCACCCCCATCCCTGACCTGCCCCACTGCCTCCCCAGCCCATATAAGCCAGTTTCTAAAGAGGATCTAAGGAGGATTGGCCAGCAGTGACTGGGGCAGGGTAGGGCACGGCATGCCCCCAACTCCCAAGCCCAGGTGGGCTCATGGTTTGGAGGGGAGAAGCTATGAACCAGAGGGAAACAGGCATTCCATCCCTTGATTGAACTCACTCTTGTTGATCTGCCCTGTGTCCATTGGGAGTGAGTGGAGAATGAATGAGAAATGCAAAAGGGGTGGGGTCTGGCAGAGGCAGCCTGCATTGCCACCATTTGACCAATTTCCTGTCAATTTCCTATATTTGGTCAAGTGGACATTGAAGGAGGCTCTTGAGCTTAATCTAAGCCATGGTTTTCCAGCCCAAAGGGGCATGAGGCTGTTGAAGTGGGGATGGGGTAGTGAGGAAGCTAGGGTGATCTGAAGAGGTCAAGCTCGTGCTCCTTGCTCAGTAATCACACCTGTGTACCAATTAGGCACCTGCCACACGTGGGAGAAAGGGGAGGGCATGGATGGAGGCAGAGGAACATTTAGTCCCAGTCCCTCCCTGCTGCTCACTGGTGATGGCCCCAGAGTTTTCTAACACCGGGAATTGTGGAGGCCACAGCAGCATCAGGGTAGTGACAGCTGTCTCTATCCCCATTCCTTCTTCTGCTCCCCAACATACAGGGGAGAAATCAAcccagagggaggagagaagagaatgagacaGCATGACATATCTCCCTACAGGGCAAATCAGTGGAGTCAGAAGCTGAGTCAGGCAGTGATGGGGAAGCAGTGATGGGAAAGGAGAGCTTCAAATCAgacctgtattttaaaaattcagcactGGACTAGGCTTTTTAATAGCTGAAAGTTACCAGAAAGCTTTGAGATCTGCCCAAAGTTATTAAGGATTGGAGTTTAAAAATACGACTGTgcattgggggtggggggtggggggtg\n",
      "\n",
      "GACTTCAGTTTTCTCCATCTGTCAAATCAATAGTTCACTTCATGCTTGCTCAAGGCCCACTGTTCACCCATCCATCCATCCATCCACCCACCCACCTACCCATCTGCCCACCCATCTATCCATCCCCATCCATCCATCCATCCATCCCCATCCATCCATCCATCCATCCATCCCATCCACCCCACCCACCCATCTATCCATCCACTCACCCCACCCATCTATCCATCCATCCCATCCACCCATCCCATCCCATCCACCAACCCATCTATCCATCCCAATCACCCACCCATCTATCCATCCACCAACCCATCTATCCATCCCACTCACCCCACCCATCTATCCATCCATCCCATCCACCCCACCCACTCATCTATCCATCCATCCATCCATCCCATCCACCCCACCCACCCTACCCATCTGCCCACCCATCTATCCATCCCCATCCCATCCATCCATCCCATCCACCCCACCCATATATCCATCCCACTCACCCCACCCATCTATCCATCCCATCCACCCCACCCCACTCATCTATCCATCCATCCATCCCATCTATCCACCCCACCCACCCATCATCCCACCCAACCATCTATCCGTCCCATCCATCCATTCGGCAAGAAATACTCTCAATCATCTATGTGCCAGGATCCTTTCCCTTCTAAAATTAAAACAAATCACAAGTTATCTAGAAACATTTTCAAGACATACAAATCATACTCAATTGGAAATGTAAATTTCCCGGACTTTTGCTCACCCAGTAACTCCAATGCCATGCATCGACATGTCTCTCAGTGCTATCTGAAATGCTCCTGGATGTCGATCAATCGGACGTGCTCCGTTTTCTAAAAAGAAGAGCTGCCTCCCATACTCAATCGGAGTCGGATCATCCTCTCTCAACTTGCTCAAACCGCTACTCTTGTCACCCCCATCCCTGACCTGCCCGCTGCCTCCCCAGCCCATATGACCAATTTCTCGATCTCAAGAATCGCCAGCAGTGCATTCGACCGTCCCACGCGGCATCCCCAACTCCCAACCCAGGTGGCTCATCGTTTTCGAGCCTTATCAAACCAAGGGAAACCCGCATTACAGTCCCTTCATTGAACTCACTACTGCTCATGTGCCCTGTCCCATTGGGAGTCGTCGAAATCGATCGGAAATGCAAAAAATCCCATGTGGCAAAGGCAGCCTGCATTGCCACCATTTGACACAATTTCCTGTCAATTTCCTATACTTGGTCAAGTGGACATTGAAAGAAGTTTTGCTCAACTTAATCTCGCCCATCGTTTTGCAGCCCAAAGGGACATGGCACTCGAAGTCGGAGATCGGGTAGTCGAAGCTCAGGGTCATGTCGAAAAGATCGCGAGCTCGTGCTCCTTGCTCAGTAATCGCCTGTCTACCAATTCACGGCGCCCTCCCCACACGTCAAAGAACCGGACATCAATCGAGGCGCCAAATTTTCATTCCAGTCCCTCCCTGCTGCTCACTCAAACGGTGATGGCCCCCAAGTTTTCTAACACCGGAATCTCGGCTCACAGCAGCATCAGGGTAGTGGACGGCTCTCTCTATCCCCATTCCTTCTCTGTCTCCCCAACATACCCCGCCATCAACCCCCCCCCCCCCCAATCAACGAGCATGACATATCTCCCTACGGGCAAATCAAATTCGAAATCAGAAGCTCGTCGGGCGGTGATCGACTAATCGGAAAACCGACTTTCAAATCAACCCTCTCTTTAAAAAATTCCGGCACTCAAACTACAGCTTTGCGATCACTTCGAAGTTTACCAAAAGCTTTGGAATATACCCAAAGTTACTCATTCGATCGATCCATTGTGCATTCGAGATGGCCATCAGC\n",
      "6M1I33M1D2M1I126M1I7M1I28M1I21M1I12M1I4M1I24M1I44M1I7M1I21M1I7M1I33M1I7M1I8M1I35M1I12M1I7M1I17M1I7M1I17M1I7M1I4M1I25M1I11M1I16M1I20M1I17M1I6M1I4M2D2M1D40M2D9M1I19M2D10M1D32M2D13M1I7M2D16M4D10M1D19M1D11M1D2M1D19M1D6M2I4M1I20M1D12M1I10M1I1M2D11M5D2M1D4M1I2M1D23M1D25M1D9M5D8M2D1M1D15M1I5M3D17M2D13M1D7M1D12M4D5M2D2M1I3M1I6M1D18M1I37M1D12M1D6M1D20M2D42M1I49M1D5M3I40M2D12M1I14M2D7M1I10M1I8M2I26M2D16M1I1M1I3M1I4M1I14M1D7M3D13M3D9M2I1M1D25M5I28M1D4M1D3M2D4M1I20M1I27M1D4M1I13M\n",
      "0.778117048346056\n",
      "read_id: test_read_38_984769_986669 \n",
      "\tmap_start 9, map end 1619\n",
      "\t1900\n",
      "GGTCTCATTTTCTCTCCCACCCTGCCCATAGGTTCATATCTAggtatataaataatgtataatatttttgtGTTCTCAAAACTTAAGTATATGCTGTTATACTGAATGCGACGTCCTGCTTATATTATATTTTCCAGATTGATATAAATGACACATATAGATCTTGTGACCAAGgacattttcttttcactgctGTGCAGCATtgcattatgtaatttttaactctttatccagtttttgGCAGATGgatatttaaattaattcagtTATCTTGTTATTCCTGACAATACTGCTATTACCATCTTATATGGGAATACTTGTGCTTACAAGCAAGGGCTCCTCTGGGGAACTAATCCAGGCATGCTCCTCCTGGGTCGTGGAATATATGTGCTGCCAGCCTGAGGCAGTTGCCAAATTGTGCTCCAAGTCTCTCTGTCGAGTTAATTCCAGTAGGGTGCCGGGGTCTCCATCGCTCCGCACCCCTGCCATCCCTTGAGATGGTCATGCTTTACCTTTGTTCCAATCTGATGGCTGTGAAATCGTACATGTAATTACATAGCCTGCTTTCCCTACTTAATAGTATATTACGGAACTATTTTCCTGTGCAGAATATTGTTCTATATGTGGGTGTTTCAAGGTGGCATAAGCTGAAAGCCTCCATTGGGGTGTTGCTGGGATTTTCTTAACCAATTCCCTATTGTTGGACAACAGGGTTTGTTTTTGTGGTAGGATTGCAAAACTGACCACAGATGCTACCCACCCCTATAAGCATGCTCCTTTGCAGTGTGACTCTGCAGTTCTCCCTATTAAGAGGCAAAGTTCACTTCTCCACTCCCTTAATGCTGACTtgggccatgtgacttgctttggccaatgggacatTTTCAAGCAGAGGCTTGAAAAGGGCTTGTGCTCTGGGGCTTGCTCTCTTGCTGCACCTGGGGCCCTGAGACCACCATGTGAATGAGTCCTGGCTAGCCTGAGGGATGATGAGACACACTTGGCCAAGTcatcctgtcatcccagctgatACTAAACCATCCACCAGATTTGTGAGTGAGGCCATCCTAGACCATCTATCTAGCCCAGCCAAACTGGTGCGGACCAGAAGCAAAGTCCAGTTGGCCTGCAgagatgtgaaaaataaatgttttaagccactaaattttagaGGTGGTCTGTTAGACAGCAAGCCTGATACAGTTCCACCCAGCATTTTCTTTGCTCAACCAGTTACTGGCTGggaaccttgggcaagttgctgagccttagttttctcctcAGTACAATGGGGGATTACATACGCACTCCTCAAAGTCGTTGTGAAGATTGGATGAGATGGCACCTGTCAGTATCACATGGCGGGGACCCCATAACCAGGGGTTCCTCTTTCACATCACGGTGGTCTTAGATGTGACCTGTGACCTTTCTTATTGCTTCTTGGTTCTCCCTGCTGCCTCTTTCTCAAAAATGTACTCATCCTTCCAAGTTTTCTGGAGAGTATCAACATGTAAGTGTAAATCACAATCCCTAGTGCTCTCCAAGACTTGCAGGTATCTCCTCCTTCCAGGGCCTTCCCTCTTGAAATTAGGCATagtggctgtgtgcagtggctcatgcctgtaatacaagcactttgggaggccgaagcaggccgatcccatgaggccaggagttggagatcagcctggccaacagggcgaaactttgtctctactaaaaatacaaaaattcaccgagcgtggtggtgcatgcctgtaatcccagctactcaggaggcggaggcatgagaatcgcttgagtctgggaggcggaggtttcagtgagccaagatggcaccactgcactccacactccagcaagacccggtctcaaaaaaaaaaaaaaagtaaggaaaagaaaaagaaaagaaaaggagtctccatccagaccccaagagagggtttcGTG\n",
      "\n",
      "TTTTCTCTCCCACCCTGCCCATCAGTTCATATCTTAGGTATATAAATAATGTCTCATGCTTGTGCTCTCAAAAGTTCCGTCTATGCTGCTCTGCTCAATGCGACGTCCTGCTTATACTATACTTCCAGATTGATATAAAATGACACATACTCAGATTGCTACTCATCCAAGGACATTTTCTTTTCACTGCTGTGCAGCATTGCATTATGTCATTTTTTAACTCTTTATCCCAGTTTTTGGCAGATCAATATCCCAAATTAATTCAGTTATCTTTGCTCTCCTTGACAATACTGCTACTACCATCTATATCAAAATGTTTCTACTTCACAAGGGCTCCTCTCGGCCTTGATCCCAGCATGCTCCTCCTGGGTCGTGGAATATCTTGCTGCCCAGCCTCAGGCAGTTGCCAAATTGTGCTTCCAAGTCTCTCTCGAGTTAATTCCAGTCAGGTACCCAGTATCCCATCGCTCCCCGCACCCCTGCCATCCCTTGCGATCGTCATGCTTTGCCTTACTTCCAATCTCGATGGCTGTGAAATGGTCGTGTCATTCATCACCCTTGCTTTCCCTACTTAATCGTCTGCTCCGGAACTACTTTCCTGTCCCGGAGTACTGCTTCTATATGTCAGTGCTCAAGGTCACGTCACTTGAAAGCCTCCCATTCAGATCTGTCTCAGTACCCTTAACCAATTCCCTCTGCTCAACAGGGTTTGCTTTTTGTCGTCCATCCGAAACTCGCCCACAGATGCTCCCCACCCCTATCACGCTCCTTTGCAGTGTGACTCTGCAGTTCTCCCTGCTCAAGGCAAAGTTCACTTTCCACTCCCTTAATGCTCACTTGGGCCATGTTGACTTGCTTTGGCCAATGGACATTTTCAAGCAGAGGCTTGAAAAGCCGCTTGTGCTCTCAGCATTGCTACTACTGCTGCGCCTGGTCGTCGACCCACCCATGTCGAATGAGTCCTCACTACCTCTCGGGGATCATGACGCACTTGGCCAAGTCATCCTGTCATCCCAGCTCGTGCTCAAACCATCCACCAGATTTGTCAAGTGAGGCCATCCTCGCCCGTGTCTCACCCACCCGGTTCAATTTCACCCAGAAGCAAAGTCCAGTTGGCCTGCGGTGTCGAAAAATAAATGTTTTCACCCACTAAATTTTAGAGGTCGTCTCACAGCGAGCCTGATACAGTTCCACCCAGCATTTTCTTGCTCAACCAGTTTTTCGCTCCAATTATTCCGGCAAGTTGCTCAGCCTTTAGTTTTCTCCTCAGTACAATCGAGATACATACGCACTCCTCAAAGTCGTTGTGAAAATTCAATTCGAGATCGCACCTGTCGTCGCGTCGCAGAGTACCCCGTCACCCAGGGTCCCTACTTTCACATCACGGTGGTCTACGATGTGACCTGTGACCTTTCTCTGCTTCTTGGTTCTCCCTGCTGCCTCTTTCTCAAAATCTACTCATCCTTACAAATTTTGTCGGTCTCAACATGTTCATGTTCATCACAATCCCTTCATGCTCTCCAAGAGTTTCCATCTCCTCCTTACAGGGCCTTCCCTACTTGAAATTCAGCGTCAGTGGCTGTGTGCAGTGGCTCATGCCTGTAATACAAGCACTTTCAAACCGAGCCGACGGCCAATCCCCGTCGAGGCCCGGAGTTGGAGATCGACCTGGCCAACGAGCAAACTTTACTCTCTACTAAAAATTGCAAAAATTCACCGAGCGTGGTGGTGCATGCCTGTAATCCCACACTCAGGAGGCGGAGGCGTCAGAAATCACTTAGTCTCGGGAGGCGAGATTTCAGTGAGCCAAGATGGCACCACTGCACTCCACACTCCAGCAGAACCCGGTCTCAAAAAATCGCCAAAAGCCAAAAAGAAAAGAATATCCCATACAGACCCCAGAGGGTTTGGT\n",
      "33M1I20M2D67M1D15M1I12M1I1M1I4M2I7M1I44M1I17M1I22M1I19M1I32M1D21M1D2M2D16M2D2M1I37M1D5M1I28M1I12M2D16M1I14M1D8M2I52M1I17M1D9M1D3M1I4M1I43M1I11M1I15M1D26M1I19M1D19M1D5M3D12M1I10M1D3M1D9M1I25M3D41M1D15M1D30M1I18M1D28M1I22M1I16M1I4M2D2M1D4M1I6M1I18M1I12M2D41M1I20M1I27M1D1M1D7M5D5M4I3M1I26M3D5M1I42M4D36M1D30M1I17M1I22M1D5M1D38M2I15M1D1M2D9M1I25M1I43M2D33M1D30M3D32M2I1M1D17M3D26M1I15M1I43M4I4M1D5M2D1M1D7M1I5M1I32M1D4M1D7M1I14M1I43M1D1M1D22M1I8M1D5M1I7M1D66M10D10M2I15M4D2M1D13M3D9M\n",
      "0.9179920477137177\n",
      "read_id: test_read_39_924040_925990 \n",
      "\tmap_start 7, map end 1946\n",
      "\t1950\n",
      "TTGGGAGGCGGAAGTGAAGCTGGTGGCATGAACCATTCTCAGTGACCTTTCACCAGGGTGAGTGGGAAGTAGTTGGGAGCATCGAGGCCTCACTCTCCATCCTGAAGATGGAGCACAGACTGGCTGGCTGAGGCCGGGAGCTCATCACGGGATGGAGACAGATTGGCAGACAAAGAGGAGGCGGGCGGTTGGGGCTGGGTGCCCCTGGGGAGGAAGGCGGGGAGAGAGCGTAGGAGCAGGAGGAAAGAAGGCTGGGCTTATGTGCAGCCTCACAGACTGGGCCTGCAGAGTCTCCAGCTGGAGGTTGGGACTGGACCTTCCTCCTGAatgggcagggagggaggcttGTTGGCCTAGCCCTCGGGGTTCTTGAAATAAATGAGGGAGGGCCTTGGGGGGTGGTAAATTGCTGAGGCTGTGATAAACATTCTCCCCTTCCcacaaaacacacacaggcacgtgtgcgtgcatacacatacacacacacaccctggccACACTGCTGTGCATATCTTACTGATTGTTGTCCTCTGTGACAGCAGTTCTCCAAGTTGAGTGCATTGGAAGGAtcagttaaaatgcagatttccaggCATTTCCATCTCTAAATGTAGGGTGTGGCCTGAGAATGTGTATGTCTTACAGGATCCTGGTTGATGCTGATGCTGGGGGTTCTGggacacactttgagaaccactgctccatTGAGCAGCCTTTCAGTTTGGGTGCCCCTCGGTGCTGGTGCTGGGAGAGAGTTAGGAGGGCAAGGGGGTTAGTGAGGGCTGCTACCTGTGAAACACAAAGCAGGAGGGAATGGAATTGGCCAGGAGAGCCTCAGACCACAGCCCGGGCCTGCAGAGTCACCCTCTAGGGGTCTCTGGAGTAAAGATTATCCACAGAGAAGCCCCACATGGGGCAGAAATGGCCAGGCCCTGGTGCCTCTGCTAGCTCAGTCTGGCTGGGACGACCTGGGAAGAACATGGCCTCAGTTCCAAAGCCAAGGCGGCTCCTGGAGgagctgcagctggaggctgtcaCCTTGCTGCCCTCCTTGCTGCTGAAGGACAAGCTTTTTCTTGAAGAGAGACTGTGTCCCATCCACAACTGCCCCAGGCATCTACcacatgccaggctctgtgcagaGTGTTTACCTGGATGAATGCAGTTTCAGATCAGAGCAACCTGGCCAAGCAAATATAATCGTCCCCATCTAATAGATGGGGAAAATGAGGGATTAAGTCATCTGCCCAGTGGTGGAGTCAAGATTTATCCCCTCTTGTGCCTTAGCACTCATCCCTGTCAGCTTCCCTGGGTGGTGAAGAACATTAGCTCCTTTTACACCTGAGGAATCTGAGGTGTGGAGAGGTCAGTGACTTGCGGTAGAGGTGGGTAGAGGATCCGGGATTCCAACCCTGCTCATGcccctctttttaaatttcaagatgCTGTCCCTTGAGTACTTCTAGGGGGATGTAATGGCAGAAACTTGGGGCTGGAAGAAGCCTCCCTGGCATTTGACAGGTGGGtacactgaggcccagggaggcaaTCAGCCGTGCCTCAGTGCCTCTCTCTGCCCTGAAGGGGCTCCCTGTTGTGTGTGGGGTATAACCCCCCCGTAATTCATGCATTCAGCACACACTGGTGGGCACCCATTGTGGGTCAGTCCCCCAAGCCAGAGTACTGTTGGTGAGTGGGAAGGCAGACGTGGGTGCAGAGGGTCTGTGCAGTGATTGGGGATGCACTGGGGATTGGAGGGGGCAGTTGACATGTGTGGGGTGCATgcagggaggcttcctggaggagatagtctgagagaggaggaggtgagaAGGGTACTCAAGgatgagaaaagaacagaaacaaaggCTTGGAGGTGGGGGAAGTGATATTGCCTTTAGGAAATTGATAGAAAATCTGTAGCTGAGATAGTGTGGGGAAGGTATGGCCAGAAATGAGGTGGAAAGTGGAAGCTTGGCCTGGGGAAGTGGTGGAAAGCTCTGGACTTGAACCATGACCCTGGTTCTGTTCAAGGCAGGGCTACTCTCTG\n",
      "\n",
      "TTGAAATCGAAGCTCGTCGCATGAACCATTCTCAGATCATTTATTCACCAGGTAAGTCGGAAGTGAATTCAAAGTCCGCCACCTCACTCTCCATCCTGAAATGGAGCGCGACTTGGCTCGCTCACCCGGGAGCTCGTCGCAATCAAATTAATTGGCAAACGAAGGCGCATGCGGCTGCGGTGCCCTCGGCAGAGCAAGCATCAGAGCAGAAAAACTAGGCTTTATGTGCAGCCTCACAACTCGGCCCTGCGAATCTCCACTGGAGGTTCGAACTGGACCTTCCTCCTCAATCGACACCGCCTTTGCTCGCGGCCTAGCCCTCGGTACTTGAAATCAATCGAGGGCCTTCGGGGGGTGGTCATTCCTGAGGGCTGTGATAAACATTCTCCCTTCCCCACAAACGCACACAGGCACGTGTGCGTGCGTGCGCGTACCGCACACACCCTGGCCACACTGCTGTGCGTGTGCCCCTCGTTGCTGTCCTATCTCGACAGCAGTTCTCCAGTCGAGTGCATTCAAAGATCAGTTCAAATCCAGATTTACAGGCATTTCCATCTCTCAATGTTCGCGGGTGTGGCCTAGAAATGTGTATGTGCTCCAGGATCCTGGTTGATGCTCAATGCTCGGGATCTGGACGCGCTTTTCAAACCACTGCTCCATTCAGCAGCCTTTCAGGATTTCAGTGTCCCCTCGGTGCTCGTTATCGAAGAGTTTCGGAGCGCGGTAGTCACTGTTTTCCTGTCGAACGCAAAAGCACGGAAATGGAATTCAGCCAGGAAGCCTCGGTTCACAGCCCGGCCCTGCCGAGTCACCCTACTCAGGGGTCTCTCGAATAAAGATTATCCACAAACCCCACATCGACGAGAAATCGCGCGGCCCTCAATCTATCTGCTCACTCAGATCTCACTCAACAACCTCAAAATGACCTCAGTTCCAAACCAGCAGCGCGTTCCTCGAACTGCGGCTCGGAGGCTGTCACCTTGCTGCCCTCCTTGCTGCTGAAAGAGACAAGCTTTTTCTCAAAGAAGAGTTTTGTGTCCCATCCATTGCCCGGCATCTCCACATGCCAGGCTCTGTGCGGAGTGTCTCCCTCGATGATGCGATTTCGATCAAAGCAACCTCGCCAAGCAATCTAATCGTCCATCTAATCAAATCGGGAAATCGAATTCAGTCATTGCCCAGTGGTGAATCAAGATTTATCCCCTACTATGCCTTGGCGCTCGTCCCTATCATTTTCCCTCGGGGTGGTGAAGAATTTAGCTCCTTTTGCACCTCAAATATAAATCGCAGTCATGCATTTGCAGTAGAGGTTTAATCGCCATCCGGATTGCAACCCTGCTCATGCCCCTCTTTTAAATTTCCGTGCTGTCCCTTCATCTCTCGGGGGATGTGATGGCAGAAAATTCGTATGGAAGAAGCCTCCCTCAACGCATTCAACAGTCAGTACGCTCAACCCAGGGAGGCAATAGACCATGCCTCAAGATGCCTCTCTCTGCCCTGAAAGACTGCCTGCTCTGTGTCGGGGTATGACCCCGTAATTCATGCATTCAACACACTCATACATCCATTGTCGTCAAGTCCCCAACCAAAGTACTGCTCATCAGTGGGAAAAGCAAAGTCAGATACAAGGGTCTGTGCAGTGATTCAAATGTCACTCAAATCAAGGAGCAGTTGACATGTCTCAAGATGTTAATCCCAACTTTCCTCAAAAGGCCATGGTCTCAAGAGGAGAGATCAAAGGGTACTCAATCAAACCAAAACAAAAGTTTGGAAATAAGGGGAAGTGATACTGCCTTTCAAGGAAATTGATTCAAAATATCTAGCTCAAGAGATCATGTCAAAGCCCGTATCGCCAAATGAGATCGAAAGTGGAAGCTTCACCTCAAATAATCGAACCTCGGACTTCGACCCATTGACCCTCGGTTCTTACTCAGCAGCCCGCCACTGCTTTCTCT\n",
      "27M1I6M1I7M1D14M1I9M1I1M2D24M1D9M1D3M1I11M1D13M2D6M1D14M3D5M2D4M2D2M2D9M1I4M1D9M10D20M2D10M4D17M1D3M1I8M1D9M1D37M7D4M2I5M3I12M2D16M3D10M1I10M1D9M1I29M1D36M1D54M1I14M1D13M1D49M3I12M1I2M1D34M1I6M1D8M1D43M2I8M1I25M1D11M5D2M1D6M3D3M1I15M1I6M1I3M3D9M1I8M1D37M1I2M1I29M3D2M1D30M1I19M1I7M1D9M5D21M1D3M2I2M1I2M1D9M2D1M1D8M1I34M1I3M1I19M1I4M1I14M3D7M2D7M1D38M1D10M1D22M1D11M2D9M1I15M3D10M1D11M1D54M2I13M1D21M2D7M3D4M1D2M1D4M1D2M1I15M2D7M2I4M1D26M1D11M1D2M1D13M1D1M1D1M1D27M1D20M3I11M1D13M1D15M1D2M1I9M1I2M1I19M1D18M1I9M3D20M2D10M2D11M1D4M1I3M1D6M1D23M1I6M1D4M1I7M1D18M1D6M1I4M2D5M1D21M3I11M3D10M2I16M1D6M1D7M1D11M3D4M6D23M1I21M2I26M3I10M2D5M3I8M2D24M\n",
      "0.8490566037735849\n",
      "read_id: test_read_41_719830_721880 \n",
      "\tmap_start 15, map end 1976\n",
      "\t2050\n",
      "TCTGGTTTTTGCCTTGGAGCAGGAACTTTTGACAAGGCTGCGCAGATGCAGCCACATGAAAACCGcccattaaaaatgtaatatcgGCCCGgagcgggggctcacgcctgtaatcccagcactttgggaggccgaggcaggcagatcacttgaggtcaggagttgaagaccagcctggccaacatggtgaaaccccgtctctactaaaaatacaaaaaatagccaggcgtggtggcatgggcctgtaatcccagctactcgggaggctgaggcaggagaatcacttgaacccaggaggcagagattgcagtgagtcaagattgcaccactgcactccagcctgagcgacagagcaagactctgtctcaaaataataataaaatgtaatattcacTCTTATCAAATAATGGATGTCACCACACCCCGACCCTAATTAGTGAGGACTTTCATGTTCTACTTGTCTTCATTTAATCATCATTGTATAAGAGTTTTACAATATCAAATTAGTAGATGTATATTACTGAAAGGGAAGGACTGTTAGAAATTTACTTGAGGAATGTCTGCCACTGGGGGCTGAACACAAAAGATCCTATTGTGACCTGCCAGATTATTCATTCACTTAGCAATTCAACAACCATCGCTGAATGCCTACTATAGGCCAGGTGCCATGCAAGACAGATGTGCTCCCACCCTCAAGGGTTCACAGTCTAATAGAGGAGAGAGATGTTAAACAGATAACTGTACAGATGGCATAGCTAATTATATTCGTGGAAGTTCGTTGTGGCAAAGACAGGCATCTCAATATTTCAGGAGCTCCCCTATATTTTCTAGCCTCCCTTACAGTCACATGACTAGTTCTGACCAGTGGGGTGTGTGTAGGAGTGGCAGGCTGAAGCAATGGAGAGCTGGTGAGCCTCATCCCTCTCTTCCCCTGCCACAGCCACCTTGCGCCCACAAGTTCCCTTAGCTACAAGCTGGAGGAGAGCCACCAGATCCACCTTAGATTTCACTGAGCAAGAAATAAAGCTTCTTGTGTTAAGTCTTTCAGATTTGGAGTTTGTCTGGTAGATAGTGTTAATTACCATGACTAAGGAAAATTTGCCATTAGTGAAGGGAGGAAAAATATTCTCCACCAGTAACAAGGCCATGTCAGTCTGCTGCATTATAAACCCCAAACAGTAGTTTATGATCCTCTGGGCTGGCAATTTGGGCTGAATTCAGCTGGGTCACTCCTGCAGCTGCAGGCAGCAAGCAGCTCGAATGTCTACCTTGCCAGGAAGGCTCTTCTCTGCTCCACATGGCCTCGTCCTCCAATAGGCATAGCCTACTCCTTCCTATGGTGGTCTCAGGGTTTCAGAAAGCAACAAGAGAGGACAAATTCCAGTGTTCAAGCTGCACTAGTGTCAAAGCATATCAAATAGCATGTCAAATTCCACATCAAATTCAGGATGCAGGCAAATTGATTCTTTCTCTTGATGGGAAGAGCTGAAAATAATGTGTGGTCTTGTTTTTCAATGTACAGTGGTCCCATTTATCCaggggggatacattccaagacccccagtggatgcctgaaaccacagatagtacagAATTCTGTATATACCATGTTTTttactatacatacatacctacgataaggtttaatttgtaaattaaactcTTACAAATTAAGAGTTAacaacagctgggcacagtggctcacgcctgtaatcccagcactttgggaggccgaggtgggcggatcacgaggtcaagagatcgagaccatcatgaccaacatggtgaaactccgtctctactaaaaatacaaaaattatctgggtgtagtggcgcatgcctgtaatcccagctacttgggaggctgaggcaggagaatcatttgaacccgggaggcggaggttgcagtgagctgagatcgcgccactgcactccagcctggtgacagagcgagactccacctcaaaaaaaaaaaaaaaacaaaaaaaacaaacagttaa\n",
      "\n",
      "TTTGCCTCAAACCCAAGTTTTGACAAGGCTGCGCCATGCAGCCACATGAAACCGCCCATTCAAAGTCCGATATCAGCCCGGAGCGGCTCACGCCTGTAATCCCAGCACTTTGGGAGGCCGAGGCAGGCAGATCACTTGAGGTCAGGAGTTCGAGACCAGCCTGGCCAACATGGTGAAACCCCGTCTCTACTAAAAATACAAAAAATCACCCAGGCGTGGTGGCATGGGCCTGTAATCCCAGCTACTCGGGAGGCTGAGGCAGGAGAATCACTTGAACCCAGGAGGCGGAGATTGCAGTGAGTCAAGATTGCACCACTGCACTCCAGCCTGAGCGACAGAGCAAGACTCTGTCTCAAAATAATAATAAATGTTTGATGCTTCACTACTATCAAATAATCGATATCACCACACCCCAACCCTCATTCATCAAGCCTTTTCATGCTTCTACTTGTCTCATTTTTCATCATTGGTCTCTCGTTTTACAATATCAATTGAGTCAGATGTATACTACTGAAAGGGAAAAATTTTTTCAAATTTACTTACAATGTCTCCCCACTCGGAGCTCAACGCAAAAAATCCTGCTCCGTTATACCCAGATTCATTCACTTAGCAATTCAACAACCATCGCTGAATGCCTCTATCCAGCCAGGTGCCGTGCAAGACAGATGTGCTCCCCACCCTCAAGGGTTCAGTCTAATCAAGGAGATGCTCAACGGATCTCTACAGATCGGCGTCGCTTAATTTCTGCTCATTGGAAGTTCGTTGTCGCAAAGACGGCATCTCAATATTTCGGAGCTCCCCTATATTTTTCTCACCCTCCCTTACAGTCACATGACTAGTTCTGACCGTGGGGTGTGTGTCAGTCGCAGGCTCAAAGCAATCGAACTCATCCACTCTCATCCCTCTACTCCCCCTGCCACAGCCACCTTGCGCCCACAAGTTCCCTTAGCTACAAGCTCAAAGCTAACCAGATCCACCTTACAATTTCACTCAACGAAATAAAAAGTTCTGTGCTCCGTCTTTCAGATTTGGAGTTCTCTGGTCGTCGTGCTTCATGCCATCATTAAGGAAAATTTGCCATTAGTGAAACCCAAGGTCCCTTCCACCCAGTAACAAGGCCATGTCGTGTCCCTGCGTTCTCAAACCCCAAAACAGTCATTTTTATGATCCTCTCAGCTCGCGATCCGTTTCAAATTCAGCTCAGTAGCTCCTCCCAGCTCTGCAGGCAGCAAGCAGCTCGAATGTCTACCTTGCCAGGAAGGCTTCTCTCTGCTCCCACATGGCCTCGTCCTCCAATAGGCATAGCCTCTCCTTTCCTATGGTGGTCTCAGGGTTTTCAGAAAGCAACAAGACAAATTCCATGCTCAAGCTGCACTCATGTTCAAAGCATATCAAAATAGCATCTCGAAATTCCACATCAAATTCAGATACGGCAAATTGATTCTTACTCTAATAGGAAGCCTTCGAAGTGATATCTCATGCTTTTCAATGTACAGTCGTCCCCGTTCTCCCAGCCCCGAGTTTCCAAACCCCCATCAATGCTCGAACCCACAGATACATACAGAATTCTGTATCTGCCATACTTTTTACTATACATACATACCTACAGATAAGGTTTAATTCTAAATTGAACTTACAAATTGATTAACAACAGCTGGGCACAGTGGCTCACGCCTGTAATCCCAGCACTTTGGGAGGCCGAGGTGGGCGGATCACGAGGTCAGATCGAGACCATCATGACCAACATGGTGAAACTCCGTCTCTACTAAAAATACAAAAATTACTCTGGGTGTCGTGGCGCATGCCTGTAATCCCAGCTACTTGGGAGGCTGAGGCAGGAGAATCATTTGAACCCGGGAGGCGGAGGTTGCAGTGAGCTGAGATCGCGCCACTGCACTCCAGCCTGGGTGACAGAGCGAGACTCCACCTCAAAAAAAAAACAAAAAAACAAACAGTTG\n",
      "17M1D14M1D36M3D122M1I158M1D5M2I4M1I56M1I7M1I11M1D6M1D9M1I4M1D24M1I43M1D1M1D8M1I32M2I4M2D1M1I5M3D41M1D4M2I1M1D28M1I16M2D13M4D16M2D10M1I8M1I5M1D3M2I2M1I24M1D16M1D14M1I6M1I34M1D13M2D12M1I11M1D1M1D5M1I15M1I51M4D6M1I16M1I9M3D3M1I5M2I4M1D3M1D25M1D11M1D5M1I4M1D33M3D17M1I19M1I4M1D10M1I7M1I7M1I1M1I53M1I4M2I55M1I33M1D4M1I20M1I16M5D11M1D19M1I12M1I12M1I19M1D5M1D19M1D25M3D34M1I10M1I1M3D6M1D7M1D22M1I49M1I12M1D12M2D10M2D2M1D78M3D61M1I121M1I24M6D11M1D16M\n",
      "0.9200779727095516\n",
      "read_id: test_read_40_399721_401721 \n",
      "\tmap_start 26, map end 1998\n",
      "\t2000\n",
      "GGGTGTTTTCAAACAGAGTCAGAAAAAACACAACTATACTGCGAGCAGCATACAAACCTGCTTTGGCTGCACTTCACTGCTCATGGCATAAGGCCACGAAGAGGCCAATAAAGGCTGGAGCTCAGGAGCATCAACCCAGATTCAAGGCTTCCTCTCTGGCACCCAACCATGAAGCTCCTTTTTCCTATCTTTGCCAGCCTCATGCTACAGTACCAGGTGAACACAGGTAATGTGGATTCCCAAGTTTAAGATGGGTAGATGAGAGGAACCAAGGATTTGGCTGCCCATGACAATGGAAACCCAAAGAGAGGAGACTGAAAGATTAGCTGTTCAAAAAGATGGCTAAAGAGCTTACCTATTGTATCAGTCATGCACTGATACATTCTCATAGGCCCCAACTGCCAGATTGTGTCCAGTGGAAACACCCAGGAAGCTACAGAGAAAGCAGGGTATTTTTTGTCTATTcagaaactatccaaaatataATGCTGCCTTCCTGCCCTGTATATGTCTATCATGCTAAGACTAAGCCCAGGTCTACCTCCTTTTAGCTCTATTTCTATCTTAAaagccctttttttttaaaaaaagtcctgGGGTACTTGTGCAGGATGTgcggtttgttacataggtaaatgtgtgtcatggttatttgctgcacctaccaacccatcgcccaggtattaagcccaggatgcattagctatttttcctgatgctctccctccacccaacaggccccagtgtgtgttgttccccttcctgtgaaaCCACCTCTTGAAGCAAAGTTTCCTATCAGTTTGTGCTTGGTGTAGAAAGGAGGAAGTTCTTCCCTCATgctcaaaaaaaaaccctttcaaGATCAAGTAAACAGGCCTGTGTTCTCCATCTTGAATTCTTTCAGGTTTTCCAGAGCCTTTATCGCTTCTCTCAGACTTTGTCTTCCTGAAAACCCCCAAACTACCATAAGGGCATCTAGGAATGCATTATAGCAAAAGGCTAAGCCAGGGGATTAACCATTGTTtttggaaaagaaaggagaagcacTGAGATTTGTTTCAGAATACAAGAATCATCCAGCtatttgaaaaaattagcaaagggTTTCGGGGCAGGGAAAGTGGAAGTGTCAAAGATGCTTCTAATGTTTTTATCTTCTAATGTTTTTATCTTGGGACCCTAGGAAAAGGGTAGTACCATAAGCAAGTATGGCTGTGTCATCTTGGGTAAAGTCACTTAACCACTTTGAACTTCAATTTCACATGAGTATAATGGGGTTAATCAATGCAGCTGATTCCAATATAAGAATTTTTCTGTTTCCCGTTTGATGAGAAAACAATGTGGAAATGTATGCAAATATGCTTTGAAAATTAGCAGATGCTACATAAATCTCTTGTAATTTAGGGAAAATCATTGGGTTATTAAGATGAACAAGGGAGAAAAGCTTTCTTgattcagaaaaaagaaacacgAGACATTAGGATGGAAAAGTCATTCAGCAGATAAAGATAAGGTACTAAGCCGAGCAGGAAATTTAGAATTATAGATAACAATACAGAAGTTACCTTGGTGGATATGAGGTTAAGGCTAGGATAATGAATGAGACTTCTGAGAGATAGAGTGTCCAAAGAGGCTAGAAGAGATAGAACACCATGCTTCAGGAATCACAGATCTAGTGATTGTTGAGAAGAGAGAAGTCATGGGCTACTGAGTTTGGTGAAAAGATAAGACTCCTGAAAATTCTATTGATTCTCTTTTGAACTTCTTTCTTAAATTAGTTTTATGATGGACTTGGCTCTCATTGGTATTTCCCAAGATTATGGAGATGGGATAGTGATGTCTGACAAGTACCTAAGATGCTAAGTTGAAGGTCTAAAATTCCATCCTAAAAGCAAATAATTACTCTATCATCTACGTGCCCTTTGCTTCTTAAAGTTACTCAAGGAAGGCAGACTAAACAGGAAATTTACTTTGGATTCAAGAGGGGCATAGAGACGCTCTCAGCCTGCCCATTTGCCTTCATCAACATTCCTAAACACTGGGCTTAAAATGTAGTATGAGTAAACTCTCTCTTAGTCTATCCATCTCCCACTAGCAGTT\n",
      "\n",
      "TTCAAACAAAGTCCAAAAAACACAACTATACTGCAAGCAGCGTACCGAACCTGCTTGGCTGCGCTTCACTGCTCATCGAGCATAAGGCCACGAAGAGGCCAATAAAGGCTCGAGCTCAGGAGCATCAACCCAGATTCAAGGCTTCCTCTCTGGCACCCAACCATCGAAGCTCCTTTTTCCTCTGTTTCCAGCCTCGTGCTCAGTACCGGTGAACGCGGGTCATGTCATACCCAAGTTTCATCAGGTAGTCGAACCCGGGTTTCAATTTTCCATGACAATGGAAACCCGAAACTCGAAAAATTAGCTATTTTCAAAAAGATCGCTCACTTTTACCTATCTATCAGTCATGCACTGATACATTCTCATAGGCCCCAACTGCCAGGATCTGTCCCAGTGGAAACACAGGAAGCTCCAAGAGCCAGGGTCTGTTTTTGTCTGCTCAGAAACTATCCAAAATCTAATGCTGCCTTCCTGCCCTGTATATGTCTATCATGCTCACTTTAAGCCCAGGTCTACCTCCTTTTAGCTCTACTATACTTAAAAGCCCTTTTTTTTAAAAAAAAGTCCTCGGTACTCTGCAGGATGTGCGGTTTGCTTACATAGGTAAATGTGTGTCATCGTTATTTGCTGCACCTACCAACCCATCGCCCAGGTATAACCCAGATCGTTGGCTCTTTTTCCTGATGCTCTCCCTCCACCCAACAGGCCCCAGTGTCTACTGTTTGCCCCTTCCTGTGAAACCACCTCTCGAAGCAAAGTTTCCTATCAGTTTGTGCTTGGTGTCAAGAGGAAGTTCTCCCTCATGCTCAAAAAAAAACCCTAACTCAAGATCAAGTAAACAGGCCTGTGCTCTCCATCTCGATCTCAGTTTTCCAGAGCCTTTTTATCGCTTCTCTCGACTTTGTACTACCTCGAAACCCCAAACTACCATCAGGCATGTCAATGCGTTGTAGCAAAAGGCTCACCAAGTCACCCATTCTTTTTGGAAAAGAAAGGAGAAGCGCTCGATTGCTTTCAGAATACAAATCATCCAGCTACTTAAAAAATTCACAAAAGGGTTTCGAGCACCAAAGTGGAAATGTCAAAGATGCTTCTGCAATGCTTTTATACTTAATGCTTTTTATCTCAAATTCTACTAGGAAAAGGGTAGTACCATCACGAGTGTGGCTATGTCATACTCAATTCACCTCACTTAACCACTTTGAACTTCAATTTCACATGAGTATAATCAGATTTGCATGGATACCAGTTTCATTCCAATATAATTTTTCTGCTTCCATTTTGATGAGAAAACAATGTGGAAATGTCTTGCGAAATATGTCTTTGAAAATTAACGAGATACTACATAAATCTACTCTAATACGGAAAATAATTGGGTTCTCAAGATGAACAAGAAAGCTGCTCATTCAAACACAGACATTCAGATCAACCTCATTCAACGAGATAAAGATCAGGTACTAACCAAGCAAGAAAATGTCGTTCTCAGATAACAATACGGAAGTTTCCTCATCAAATGAGGTTCACCTTTCCCGTGCCATCGATCCATTCTCGAGAGATCGATCTCCAAAGAGGCTCAAAGAGATCAAGACACCATGCTTCAGGAATCACCAGATCTCATCATACTCCAGAAGTCATCAGGGCTACTCATTTCGTGAAGAGGTTCAAGTTTCCTCGAAATTCTACTGATTCTACTTTTGAACTTACTTACTTAATTCATTAAATCGTTTTGGCTCTCATTGGTGCCTCCCAAGATTATGGAGATGGGATAGTGATGTCTGACAAGTACCTAGATGCTACATTGAAGGTCTACGATCCATCCTAAAGCAAATAATTACTACTATCATCTACGTGCCCTTTGCTTACCAAAGTTTACTTCAAAGAAAACCGCTTCAACAGGAAATTTTCTTTCAATTCAAGAGGGGCATCAATTACTCTCAGCCTGCCCCATTTGCCTTCATCAACATTCCTTAAACGCTGCGCTTTAAAATGTCATATCGTCAACTCTTCTGCTTCATCTCTATCCATACTCCACTAGCAGT\n",
      "13M1D31M1I9M1D22M1I1M1I85M1I22M1D13M1D7M1D18M1D13M2D3M1I6M1D1M4D38M8D6M1I11M2I19M4D1M2I7M1D53M1I12M2D12M1D2M2D2M1I8M1I103M3D4M1I32M1D6M1D20M1I60M1D3M1D4M1D3M1D58M2I58M2D3M1D10M1D25M2I39M2D2M2D3M1D13M2I15M1D8M1I6M1I4M2D16M1D7M2D24M1D5M3D36M1D19M2D16M1D8M1I13M1D5M1D28M2I11M1I2M2D5M1I9M4I5M2D23M1D18M1I58M2I7M1I4M1I13M3D44M1I4M1I7M1I14M1I24M2D34M5D5M1D3M1D6M9D6M1D12M2D14M1I20M1D6M1I11M2D4M1I22M1D4M1D13M1D3M3D2M2I4M1I3M1I5M1I4M1I10M1D23M2I2M1D20M1I26M4D3M1D10M1D14M2I27M1I11M1I13M3D3M1D69M1D24M1D8M1D16M1I31M1I4M1I51M1I5M2D11M1I24M1I12M1I14M1D9M1I3M1I3M1I1M1I10M1I2M1D11M\n",
      "0.9082526509912402\n",
      "read_id: test_read_42_227120_229220 \n",
      "\tmap_start 7, map end 2099\n",
      "\t2100\n",
      "TTTTCAGTGTTGTTACTGATGTTGCTCAGTGTACTGTGATTACATGAGAGCCTTATATTTAGGAAATATGTCCTGAAACACTTGGGGTAAAAAGATGTCATGTTTGCAACTTACTCTTAAATAGTTCAGAGAAAAAGTGTATGTCTATGTGTAAAgcgaaggaaagacagaaagcagCTAAAAAAGCaaatgtaggccaggcgcggtggctcacgcctgtaatcccagcactttgggaggcagaggcaggtggatcacgaggtcaggagatcgagaccatcctggctaatatggtgaaaaaccccgtctctaataaaaaatacaaaaaattagctgggcgtggtggcaggcgcctgtagtcccagctacttgggaggctgaggcaggagaatggcatgaacccaggaaccagagcttgcagtgagctgagatcgtgccactgcactgcagcccgggcgagagagcaagactccgtctccaagaaaaaaaaagcaaatgtagtaaaatgtgaaaacaaaaggaaatctgGGTAAAAGGTATCTGGGGAATTCTTTGTCCTATTTTTACAACCTTTCAGTAagtatgaaattatataaaaataaaaaaattttaaagttacacGGTCCCCTTTAAACCAAAGCAAACGTTACAGGAAAAACTGATCCTCTTGATCCAAAGATGTATTATAGCTGGAAATAGGGAAGCCTGTCTCAGGAGTTCTTTCAGGGAGTTCTTTTACTGCTGGAGCTAGTGCTGCCAGCAGTAAAAATGCCTTGGCCTTATGAGCCAGGTTAGAAGAATGGCACATGCACAGCTTCTCCACACCATTAGCTTTCAGTTACAAACACATACTCAGAGAGAGAAAGCAGCTAATGTAAGGGCCCAAACTAAACCGGACAAAGGATTGCAGGTAAGAGCAAAACTCACCTCTTGCCCATATTTACCCCACCCCTTCTCAAATAAAAAGCATACCCTAAAAGATAAATAAGGAAACGAAGCAAACCCAGGGCTGCTGATAGGTGAAGCAGTGAAAGGAGTGAGAGTAAAAATTAAACCCTGTGTGAATTTTCAGCAGAAAAGCAGTGAGCCAAGCCCAGAAGAccatgaatggaaaaagaatatgAAGCCACACTGTAAGTTCAGCCTACAGAAAGCGTATCACAGATATTACATCAATGGAAGAGGAATAAAGGGTTCAGAGGGAAAACAGGTTACCTAGGAAAAAATGggggtggctcttgcctgtaatcccagcactttgggaggctgaggtacgtgcatcacctgaggtcaggagttcgagagcagcctggccaacatggtgaaaccccatctctattaaaaacacacacacacaaaattagctgggcgtggtggcgggcacctgtaatcccagctacttgggaggctgaggcaggagaactgcctgaacctgggaggcggaggttgtagtgagctgagacagtgccattgcactccagcctgcaacaagagtgaaactctgtctttaaaaaaaaaaaaaaaagggaggcatCTGTCCTATATGATCTCATCCAAACCAGCAGGCTAGGAAAAGGGAATGGACCGTGGGCATGTGCTTTTATCAAAACCACGCTGGCAGGCTACTGCTACCTGGGTATTGCAAGAATCTGTCCAGGGAGCAAGAATGCCAGCAGGAAAGCAGCCCCTTCAACAACAAAAGCCAGGCCAGAGCACAGTGCAGAAGAGGGAGGCAGCCAGCTTAGAGGCTCCTGTTCCCTTTAGCAATTCTCCTCTCTTCATGACCTAAAGGTGGAGTtgccagaggaagaaaaataggtcATCCATGTGAGGTTTGTTGCCCAGTTCCCTTCACTGTGAAAATTGAGACAACggtccttcttttctttcttcctgaaataaAGAGGTAATTTTAGgaatacattcttttttgtttgtttgttttgtttttatttatttatttttttatctattGCTGCTTAATTTGTTAATTAAGGAATATACTCTTACACAAACAGGGAATGGCCTCTCTTCCCTCTAAGGAATCTTACATATGTATGCGCAAGGTACCATCGTTTTTAAACCTAATTAAGATATTACTCATTCTTGTTGGTGCCCAATTCCACACCAATCTGCTCTTTAATGCCAGA\n",
      "\n",
      "TGCTGCTCTCGATGCTGCTCAGTGTTCTGTGATTACATCGAAGCCTTATACTTCCGGAAATGTCCTGAAACGCTCAATCCGTGTCATGTTTTTCCATTTTACTCTTAATCATTAGAAAAATCTTTATGTCTATGTGTCAACAAAAGAAGGCAAAAGCGGCTCAAAGCAATATTAGCCAGGCGCGGTGGCTCACGCCTGTAATCCCAGCACTTTGGGAGGCCGAGGCAGGTGGATCACGAGGTCAGGAGATCGAGACCATCCTCGCTCCATGTCGTTCAAAAACCCATCTCTAATAAAAAATACAAAAAATTAGCTGGGCGTGGTCGCACGCCCCTGTAGTCCCAGCTACTTCAAAGGCTAGGCCAAATCGCATGAACCCAAACCGAACTTGCAGTGAGCTCGAGATCGTGCCACTGCACTGCAGCCCCGGCGAGCGAGTTTCCCGTCTCCCAAGCAAATGTCATCAAATGTCGAACAAAAGGAAATATCCATAAAGGTATATCAAATACTTTGTCCTATTTTTACAACCTTTCAGTAGTCTCAATGCTCTCAAAATAAAAAAATTTTCAAGTTTACACGGTCCCCCTTTAAACCAAAAGCAAACATTTAGGCCGAGAGCCGTTCCTCTCATCCAAAGAGATCTTGCTCTAGCTCGGAAATGGGGAGCCTCTCTCGGAGTTGCTTTCAGGAGTCTTTCTGCTCGGAGCTAGTGCTGCCCGCGGTCAAAAATGCCTTCGCCTTATCAAGCCAGGTTCAAGAATGGCACATGCACAGTTTTTCTCCCACACCATTAGCTTTCAGTTCAACACATACTCAGAGAAAGCGGCTCATGTCACCACCCCAAACTAAACCGGACAAAGAATTTGCATCAAGCAAAATTCACCTACTACCCCATACTACCCCCACCCCTTCTCAAATAAAAAGCATACCCTAAAAGATCAATCAAAGTAAAAACGGAACCCAGCTGTTTTGATTAATCGAAGCTTAATCGACCATCAGTCAAAAATTAAACCCTGTGTGAATTTTCAGCAGAAAAGCAGTGAGCCAACCCAGAAGCCATCAATGGAAAAAGAATATCAAAGCCGCGCTCTACATTCGTCTACAGAAAGCGTATCACAGATACTACATCAATGGAAGAGGAATAAAGGGTTGCAAGAGGGAAAACAGTTTCTCAGAAAAATCGAGATCCTCTGCCTGTAATCCCAGCACTTTGGGAGGCTCAGGTGGGTCCATCACCTGAGGTCAGGAGTTCGAGAGCAGCCTGGCCAACATGGTGAAACCCCATCTCTACTAAAAACACACACACACAAAATTAGCTGGGCGTGGTGGCGGGCACCTGTAATCCCAGCTACTCAAACTCGCCACCCGCCTTGCCTCGAACCTCGAAACCAAGGGTGTCGTCGGCTCGACGGTGCCATTGCACTCCAGCCTGCAACAAGAGTTGAAACTCTGTGCTTTAAAAAAAAAGGGAAGCCATCTGTCCTATATGATCTCATCCAAACCCGGCACTTCCAAAGGAAATGGACCGTGGGCATGTGCTTTTATCAAAACCACGCTCGCAGGCTCTGCTACCTCGGTATCCGAGTCTCTCCAGGAAGCAGTCCCCACCCGGAGGCCGCCCCTTTCAACAACAAAAGCCACCCAGAGCGCGGTCCCGGAGAAGCGTCACTTCGCCACTATGCTCCCTTTACGAGCAATTCTCCTCTCTCATGACCTAAAGGTGAAGTACCAAGGAAGAAAAATCCATAATCCATGTGAGGTTTGCTCCCCAGTTCCCTTCACTGTGAAAATTCGAGACAACGGTCCCTCTTTTGCTTCTTCCTGAAATAAAGAGGTAATTTTAGGAATCATTCTTTTTTGCTTGCTTGCTTTGCTTTTTCCTTCCTTTATTTTTTTATCTACTGCTACTTAATTTGCTAATTAAAGAGATATACTACTACACAAACAGGGAATGGCCTCTCTCCCTCTAAGGAATACTTACATATGTATGCGCAAGGTGCATCGTTTTTAAACCTAATTCATACTACTCATTCTACTCATGCCAATTCCACACCAATCTGCTCTTAATGCCAA\n",
      "28M1I2M1D9M1I8M2D15M5D7M1D7M2I16M1D7M3D7M1I19M1D6M1D6M1D9M2D8M1I2M1D2M1D92M1I92M1D4M2D2M1D15M2D4M1D16M1I37M2D4M1D8M9D21M1I1M2D19M1D10M2D34M1D5M1D30M1I9M1I12M1I12M1D4M2I14M1D16M3I7M1I6M1D14M1D6M1I6M1D4M1D5M2D5M1I21M1I19M1I10M1D20M2I5M1I21M1D1M1D11M4D18M1I28M1I5M2D3M1D14M1I57M2I7M2D11M2D4M2I4M1I10M2D16M1I47M1D8M1D21M1I19M1D54M1I1M1I16M2D2M1I2M2D12M1D4M1D162M3D6M1D17M1I6M1D23M1D35M1I11M1I4M7D12M1I30M1I6M2D2M1D55M1D15M2D1M1D18M1D2M2D1M1I9M1D10M1I17M1D17M2D2M2D5M1D4M1D10M1D11M3I15M1D19M1D5M1D61M1I55M1D25M1I5M1I47M1I33M1D14M1I22M1D21M2D14M1D8M1D22M1D9M\n",
      "0.9119382660009079\n",
      "read_id: test_read_43_442621_444771 \n",
      "\tmap_start 17, map end 2148\n",
      "\t2150\n",
      "gggaggtggaggttgcagtgagctgagatagtgccattgcactccagcccgggcaatgagagtgaaactctgtctcaaaaaaaaaaaaaaaaaaaagtaggaagcAAATGACTAAATGTAGAAGAATAGGAGTTGGCAACCACCATAGGAGACAATCATTAATGGACACTGCAGTAGTGGATTAAAGTTTGATGAGAAATAGGGCATTTGCACAGTCTGAGAATATCTCCCCCCAagatacttattaattacaaagggtaaaatagtaactttacatGGAGAAACACAGCCAACACCACTTGACCAAGTGATAAAGTGAACATCACCAGTAGCAGGGCAAATTGACATCATGTGGCTTCCGGGATGATGCACTGAGTGGGACGTCGCGTCACGTCAGTGATATTTCTGCCAAAGAGGCATAATTGACTCATGAGGAAGCATTAGAAAAGCccaaagtggccaggcacagtgactcacacctgtaatcccagcactttgggaggctgaggtgggcagatcacgaggtcaggagttcgagacaagcctgaccaacatggtgaaaccctgtttctactaaaaatacaaaaattagctgggcatggtggcgtgcgcctgtagtcccaactactcaggaggctgaggcaagaaaatcgcttgaacccaggaggcagaggttgcagtgagccgagattgcaccactgcactctagcctgggcaacagagcaagactccgtctaaaaaaaaaaaaatgtccaaagtGAGGATATCTTTGCAAGAGAACcttactctttaaaaatgttgaagtgGTAAAAGACAAAGGAAGACTGAGGAATAGTTTTAGATGAAGGAGAATAAAGTAATTACAACTACTGAATGCAATGTGAGATCctagattaagaaaaaatcattttcactTACTACAAAATATATTAACTAGATGAGTGGTGAAATTTGAATAAGATCTGTAGATTAGATAATGGTTTTGCATCAGTGTAAAACGTCCCGATTTTGGTTATTATAagagaatgtccttccttttagGAAATGTGTACTGGTTTTTAGGCCTGTAACTTACCATAAAAGAGTTCAGGgttggaggaaagaaaaataaatgataaagcaAAGATGGTAAAATCTGGGTAATGGGTATTTGgctattctgtttttgtttttgagacagggtctcactctgttacccaggctggagtgcagtggtgtgatcatagctcactgcagcctcaacctcccaggctcaagcaatgctcccacctcaacctcctgagtagctgggaccacagttgcgcaccaccacacctgactcatttttaaatattttttagagatggggtctccctgtgttgcccaggctggtctcaaattctaggctcaagcaatcctcccatctcagccttccaaaatgctgagattttaGGTGTTAGCCATTGTGGCTGGTGAGATTTGAGTGTTCTTTGTACtactttgtaacttttctgtaagtgACATTATGTCAAAATAAATTCTAACAAGAGAGAATAGAAGGAAAGGAAGTAGAGACATGGAGGCAGTGAGTCCAGGTAACTTTTTGAGGAGTTTTGCTATAGAACTGAGGACAGGTGGCAGGTGGAGAGCAAAATGGGGTCAAGATAAGTTGTTCAAAGGCAGAAATTGTAGCATGTTTTTATGCTGATGAGAGAGATTCAGTagattggaaaaaaaagtaataatgcagacagagagagagaagagagtggcTAGAATGGTGTCTCTGGAGAGAAGGATGGGATCTAGTATACAAATGGGGGCTTTGACCTTGGAGCACAGATGGCTCATCCATGGTCACAGAAGGGAGGGCAGAGTATTTGGGTACCAGATTGGTAGGTAGGTAGCTGTGCAGTGGAAATGTGTGGAAATGCTTTCTGATTGCTACCATTTTCCCTGTGAAATAGGAAGCAAGGTCCTTGGCTAAGAGTGAGAATGGGGGAGAAGGTGATGGAGGTTTGAAAAGATAGGAAGGAAGTGTGTAGGGAAAATGAATGGATCTACTGTGATTGTCAGGCAGAACAAAAGACACCACTGAAGCTATCATCATTCAAGTAAAGTGAGGCCAGTCTACATGGTGGTGTGTTTTTCTCCAGCCACATTCCACTGCAGGGGGACAAACACAGAGGGATGTGGAGTTGGCACCAACTAACAGGTGTTTAGTCAGAGAGGGTCAGGGGGATCTTGGGAGTATGCAGCACAGTGGGGATA\n",
      "\n",
      "GGAGGTTGCAGTGAGCTCGAGATAGTGCCATTGCACTCCAGCCCGGGCAATAGAAGTGAAACTCTGTCTCAAAAATTCAGAAGCGAATCGACTAAATGTCAAAATCGGAGTTCGCGTCACCATCAAGTAATCATTAATGGACACTGCAGTAGTCGATTAAAGTTTGATAGAGAAATCGGGCATTTGCACAGTCTCATATCTCCCCCCAAGATACTTACTAATTACAAAAAGATTCAAGTAACCGTTACATCGAAACACAGCCAACACCACTTGACCAAGTGATAAAGTGAACATCACCCAGTAGCAGGGCAAATTGACATCATGTCGCTCCGGATCATGCACTCATCGGTAGTCGCGTCACGTCAGTGATATTTCTGCCAAAAAGACATAATTGACTCATCAAGAGAAGCGTTTCAAAAGCCCAAAGTCGCCACACAGTGCGTTTCGCACCTCTAATCCCAGCACTTTGGGAGGCTCACAGTCGGCATCACGAGGTCGCGGAGTTCGAGACAAGCCTGACCAACATCGTCAAAGTGCCTACTTCTACTCGATCCAAAAATTCACTCGGTCATGGTGGCGTGCGCCCCTGTAGTCCCAACTACTCAGAAAAGTTTTCACAGCAAGAAAATCGCTTGAACCCAGAGGCGCAGAGGTTGCAGTGAGCCGAGATTGCACCACTGCACTCTAGCCTCGGCAACCCGCCCGAGTTTCCGTCTCAATACCAAAGTGAATATGTCTTCCCCCCCAAGTTCTTACTACTTAAAATACTTCGAAGTGGTCGCAAAAGGAAAACTGAGGAATAGTTTTTAGATGAAGGAAATCGAGTCATTTACAACTACTCAATGCAATGTGAGATCCTCAATTAATCATTTTCACTTCTCAAAATATACTAACTACAATAGAGTCGTGAAATTTCGATCAATTGTCATTAGATAATGGTTTTCGTCAGATCTAAAACGTTCCCGATTTTCGTTCTCAAGAATGTCCTTCCTTTTTCCGGAAATGCTCTCGTTTTTAGGCCTCTAACCCCCATCGTTTTCGGGTTCCCCCCCCCCGATCAATCGATAAAGCAAAGATCGTTGAAGTCTTGGGTAATCGATATTGGCTCTCTGCTTTTGCTTTTCAACGGTCTCGCTCTGCTTACCCAGGCTGGAGTGCAGTGGTGTGATCATAGCTCACTGCAGCCTCAACCTAGGCTCAAGCAATGCTCCCCACCTCAACCTCCCTCGTCCTTTCAAGACCCGCGGTTCGCGCCCACCACACCTGACTCATTTTTAAATGCTTCGAGATCGGGGTCTCCCTGTGCTCCCAGCTGCATCTCAAATTCTAGGCTCACAATCCTCCATCTCAGCCTTCCAAAATGCTCGAGATTTCAGTGCTCACCATTGTCGCTCGTCGAGGTTCAATACTACTTTGTACTACTTGTAACTTTTCTGTAAGTGACATTATGTCAAAATAAATTCTCACAAATCAAAAAGAAAACAGAAATCAAGGTTAATCGGAGGCAGTCGAGTCCGGTAACTTTTTACGAGGAGTTTTGCTATAGAAGCTCAACGGTCAAGTCAAAGCAAATCGGATCAAGATCATTGCTCAAAGGCAAATTCTCATACTTTTTTATGCTGATCGAGATTAGATTCAGATTGAAAAAAAATTTGATCATGCAAACAAGAAGTCGCTCAAGATCGTGTCTCGAAAAAGATCGGATCTCATTCTACAAATCGAGGGTTTTCGACCTTCGAACACAGATCGCTCATCCATCGTCACACGGAAGAGCAAGGTCCCTTTGGGTACCCAAATTGGTAGGTCGGTCACTGTGCAGTGGAAATGTGGAAATGCTTTCTGATTGCTCCATTTCCCTGTGAAATCAAAAACACAAGGTCCTTGGCTCCGGTCAATCAAGGTGATGAGAAATTTGAAAAGATCCAAAGGAAGTGTCTCGGAAGTCAAATCGATACCTGTGATCTCAGGCGGAGCAAAAAGACACCACTGAAGCTATCATCATTCAAGTGAAGTCGAGGCCCATCTACATGGTGGTGTGCTTTTCTCCAGCCACATTCCACTGCAGAGAAGTTCAAGCGCAAAAGAGATGAAGTCGCACCCAACTCGCCCGGTACTTTGCATCAAGGTGGCCATGTTTTTGGAAATGCAGCACAGTCAAGA\n",
      "17M1I33M1I2M1D16M15D18M1I10M1D3M1D13M1D8M1I1M2D2M1D41M1I25M3D34M4D5M3I5M1I8M2D46M1I31M1D3M1D14M1D55M3I2M1D28M2D7M1D1M3I34M1I7M2D11M1I35M2I13M2D17M1I17M2I21M2I3M1I5M1I23M1D3M2I51M1I23M11D18M4I6M3D8M1I21M3D24M1I14M1D8M1I37M7D14M1D2M1D16M1I3M1I20M1D2M1D3M1D17M1D6M1I9M1I18M4D17M2I8M1D2M1D20M1D6M3D7M1D5M2I9M4D6M1I14M1I9M1I13M1D6M1D18M1D2M2D12M1I53M3D16M1I20M1D3M3I4M1I8M1I4M1D25M3D11M1I16M1D4M1D4M1I19M2D7M1D23M1I9M1D21M1I25M1D47M1D11M3I10M2D4M1D2M1I9M1I6M1D11M2I19M1I4M2D2M1D3M2D5M1D6M1D17M1D12M2D7M2D3M2I14M1I4M1I7M3D29M10D4M1D7M2I2M1D10M4D16M1I11M1I9M1I34M2D15M2I9M1I34M2D23M1D3M1D14M1I5M1I18M1D2M2D4M6D10M1I33M2D4M1I8M1I1M2D6M1D13M1I38M1I51M\n",
      "0.8471746575342466\n",
      "read_id: test_read_45_553259_555509 \n",
      "\tmap_start 7, map end 2151\n",
      "\t2250\n",
      "GCAGCGAGCCCAGCTGCACCGCCGCCCCGCACCACAAGAGGGCGCTGCGGCTGAGGTCGCGCAGGACCACGCCCAGCATCACCTTGACGTAACTGAGGCAGCCGCTGAAAAGCACCCACGAGGCCACCTGCGGGGCCGGGAGGGAAGAGGTGCAGAGTCACGGGGCTTGCGGGGCGAGCGCCGGAGCAAAGAACTCTCACAGGGCTCAGGGGAACCCACGGAATACTCTCTAGGTGCGAGGAGCGCCTTCTGGGAGTGAGCCTGCGGGGCCGACGGGTCCCATGAGTTGGCCGCCCGGGGGCGAAGGAGAATCCAGTGGCTTTTCTGGGTTCACGTGCCCATGATCAGGGCAAGGGCCCTTGAGAGAAGGCCCCTGCTGAGGTACACATGGTGGGAAGAGGCCTACCAGTCACCTCGATTCCCTAAGCCTCCACTCCCAAATGAGGAAGGGGCGCTTCCCCCACCTGGGGCTTCCCGGGAGGGTCCCACAGACCCCGCTCGCTGGAAAGGGCCGCGCCCAAGCTCTCCCAGGCCTTGGCTAGGGGTGAGGGGTACGCAGCGGGAGCAGCCCCACCGGCCGGATACTCACAATGAGGACTTCCCCACCCCAGTGGCCCTGCAAGAGGGGGCAGGGGCTCATCACCGCCATGGCCATGTTGTAGCCCCCAAAGCAGGTCCCAAGCACGGAGAGGACCCCCAGGAACAGCAGAGACCTAGAGGAAAGTAGGGGAGGTGAGTGGAGGTGAGAAGCCTGACCTCTGACCCCCCCGCCCCACTGGGCGGCATGTGGATGGCCAGTGTCTCCATAGTTAGTTTAGACCCATGTGGAAAATTCCAGGTTGCCTGGCTCAAGTGGGTCAGGGAGGCTCCTGAGCAGGCAGGGCTGGCCTGAGTCATCCCCAGCATTAACGGCAGGGCCTGGCACCCCGGCAAGAAAAACATAATGGACTCTGGCACCGGATGGtcctggttcaaatcccagttctactGTTTAAGCTGAGACTCGCCTCTGAGCCTCCAAATCGGAGTTTTGCAAGGCTGCATGACCTCCAGGAGCAGAGCATGCAGGCCTGGCGCCGCTGTGGGCCCACCTGGTGTTTACCTGCTGGCATTTCCTCCTGCAACACACCCTCAGCCTCAGCCAGGAAGCTGAGTTGAAGTGAAGATGGCTGGATCGGGCATTGGCACAGTAGGGTTTGCTGTGCCTCCTCAGGAGACCCCTCCCCTTCTGGCCTCAGCTACCTGCCTCTGCAATGTGGAGTGTGCTGATCTCCAGGGGTCCTGGCAGCTGGCTTGTTGCTGCTAGGAGCATCTCTCTACAGGTGGCCTTCCATGCAAACCTACATCTGGGACCACTGTCCTTCCTCACAGGTCCTTGTCCCTGGGGTCCCAATCTCTAGAACCCCAAGACTGGTCCACGCCCTGGGTAAGAACAGACAGAGGTCTGCCTATACCCTTAAAGACTCTTTCTGCTCCAAGATTCTTGGATTCCATGACTCAGATTCTGTAATTCTAACATTTGGGGTTTCTTGGATTTGCAGGTCTGAGCCTTTGGTCCTGCTTCCCTCAAATCCTCCATCCTCTTTCCAGTTTCTAGGTCCCAAGGTAGAAAATCCAGCTTCCTGGCAAGCTTTCTGTCAAGCTCTTCTGTCCTCACTGTCCTTCTTCTGGGCTGGGAGAGTGGGTGTAAGCAGGCCAGTGAGGACAGGCAGGCCAGCGTGGATACGAGGCTGTAGGACCCACCTCAAATGTCAAGATCCCAAGGTGGTAGTTCTCCTACAGGGGTCTGAAGCCCCTGCCTCAGAACCGTCTGGTTTCCTTACTAAAAATTGAAATCCCAGGTCCCAGTCTAGGCTGGTTCAATCTGCATTTTATCAACTTGCCCAGCCATTCTTCTAGAACTGTGGCTCTAAGGGAACCAGCAGGAGGTTagaggcaggaaggcagggccGAAATCCTGGGAATTAGACCAGGTCAAGCTCTTTCTCCAAGCCTcagggtttccccttataaacgGGAACCTCAGTGGCTATCTGCTCCTCCTCATGGACTGATGACAATGATGGTCAACGCTTAGGCTGGACCTGCCACGTGCCAGGCACCGCTCCAAGAGCTTTATAGAATCAGCTCATATCATGCTTCCAGCAGTCCTAGGAGGTGGAATGTTACACTCCCATTTTCCGATAAATATCCCTGAGGC\n",
      "\n",
      "GCCCAGCTGCGCCCCGCCGCCCCGCCGCAAAAAAGTTATGCATTCGCCATCGTTAACGGTCACGCCCAGCATCGCCTTCGTTCATCCATTTCGACGAGTCACTCAAAGCGCCCACAAACCCTATACCCCCTCCAAAGCCAAGCCATGCGGAGTCACGGTATGCGGCGAGCACAAAACAAACTCACGGTTTTCCCAAATCTCACCCGATGTTTTCTCTCCATGCGCGACGCCTTCTCGGAAATAGCTATTTACAAGTTTCGCACACCGTGCCATCCATTCGCCCCGTCCCCCTCCGCCAAATCCAATCGTTTTCTCCGGTCACATGCCCATCAAATGGCCGCGCCACCTCGAAGGCCCCTGCTCGCGTCGCGTCGATCAAAGCCACCTCCCCGTGGCCCTCAATTCCCTACAACCCCACTCCCAAATGGAACGTTATTCCCCACCTGGTATTCCCCGGAAGGTCCCACAACCCCGCTCGCTCGAAAGGGCCGCGCCCAACTCTCCCAGGCCTTGGCTCCCGTGGCCGTGTGCACCCCTCCAAAGTTAACCCACCCACAATGTTTTGGCAATCAAAGGTTTTTCCCCACCCCGTGGCCCTGCAAAAAACGGTTTTCAATCACCCGCCATGGCCATGTGTGTAGCCCCCAAAACTCCATCCCAAGACACAAAAAGTACCCCCCCGAACCCGAGACCTCGGAAGTCCGCCATAATGGAGATCGAAGCCTCAACCCTCTCAACCCCCCCACCCCACTCGACAAGTCATGTGATGGCCCATGTCTCCAATCATGCATTTTTCATTTAATCGAAAATTACAGGATTCCTCGCTCGATCCATCGCCGACCTCGACCGGCCCGCCACTCCTCTGCGGTCGTCCCCAGCATTCATCCGGCAAGGCCCTCGCACCCAACGAAACACAATGGATTATCAACACACAATCATATAATTCAAATCCCAGTTCTACTGCTTAAGCTCGAGACTCGCCTCTCGACCTCCAAATCGAAACCCGCCACTACATGACCTCCAGAACGAGGCGTCCCAGCCTGGCGCCGCTGTGGGGCCCACCTCATACTACCTGCTACATTCCTCCTGCAACACACCCTCGCGGCCTCGCCCGGAAGCTCATTTGAAATCGAAGATCGCTCAGATCCACATCGCACAGTCAGGTTTTGCTGTGCCTCCCTCAGGAGACCCCTCCCCTTCTCAGCCTCAGCTACCTGCCTACTGCAATGTGAATGTGCTCAATCTCCCGGGGTCCTGGCAGCTCACTTGCTGCTGCTCAGGAGCATCTCTCTACAGGTGGCCTTCCCATCCCGAAACCTCGTCTCAAACCCCTGTCCTTCCTCACAGGTCCTTGTCCCTCGGGGTCCCAATCTCTCAAACCCCGAGTTTGGTCCACGCCCTCGGGTCCACACAACAAGGTGCCTATACCCTTAAAAGTTTGCTTCTGCTCCAAGATTCAATTGCATCATTCAGATTCTGTAATTATTAACATTTCGGTTCTTGGATTTGCATCTCAGCCTTTGGTCCTGCTTCCCTCAAATCCTCCATCCTACTTACAGTTTGCTCCATCCCAACCCTCATCCAGCTTCCTCGCGCTTTTTTTCTGTCAAGCTCTCTGTCCTCACTGTCCTTGCTCTCAGCTCCGCCTCGGGTGTCACGGCCAAGTCGACGGGCCGGCCGAGCATCAATCAAGGCTGTCGAGACCCACCTCAAATGTCCATCCCAAGGTGGTAGTTCTCCTCCATCTGAAGCCCCTGCCTCAAACTCATTCTCATTTTCCCTTCTCAAAAATTGAAATCCCATCCCGGTCTACAGCTAAGTTCAATCTGCATTTTATCAACTTGCCCAGCCATTACTCTCAAAGTTTTGTGGCTCTCGCCGATCCGCCCGGAGGTTCACCACCCGCCACCCACCACCCGAAATCCTCAAATCAACCCAGTCAAGCTCTTTCTCCAAGCCTACAGGGTTTCCCCTTCTCAACGGAACCTCAGTGGCTATCTGCTCCTCCTCATCGATTTGATCGCGATCGATGGTCAACGCTTCCACTCATTATGCCACATGCCACCACGCGCTTCCAAGAGCTTTATAAATCAGCTCATCATACTTCCAGCAGTCCTCACGGAGGTGGAAATGTTACACTCCCATTTTCCAATCTCCCTCAAGG\n",
      "13M1I4M1D12M2D4M4D4M1I10M1D23M1D30M1D18M1D6M8D2M2D8M1D7M3I1M3I3M3D11M13I3M1I13M1D14M3D3M1D7M1I4M1I15M1I13M3I3M2D7M1I22M2D9M2D3M1D10M2D1M1D9M1D10M2I5M1I21M2I7M1D16M1I2M1I9M4D4M3I28M1D11M1D4M2D2M1D8M2I9M1I18M2I4M1I13M4D3M1I1M2D16M1I13M1D32M1I13M1I2M1D10M1D11M2D21M1D23M1I13M1D10M1D3M1D20M2I7M1D21M1I10M1I5M3D2M1I10M1I16M1I23M1I18M1I9M1D9M1I37M1I26M1I6M2I6M1D40M1I41M1I11M1D3M1D3M2D16M1D5M2I16M3D26M1I12M2D14M2D51M1I11M1I3M4D16M2D2M4I14M1D28M2D6M1I8M1D1M1D4M1I3M2D13M1I9M1D11M1I17M2D26M4D18M1D3M1I1M1I9M2I4M1D2M1I16M2D10M1I4M1I41M3I34M1I15M1I13M1D7M1D27M1I20M1D34M1I11M1I36M1D4M1I3M1I15M1D9M2D20M1I1M1I8M1I21M\n",
      "0.7198782079164854\n",
      "read_id: test_read_44_761111_763311 \n",
      "\tmap_start 412, map end 2182\n",
      "\t2200\n",
      "AatataactaaaaaatattttcctggaaGTTTTTGCACAACAGAAAGGAGTTGCAATACAAAGCATAAGTTTAACACCTGCTAGATATGTGTTCTCTGAGGAACCCCAAGCCTACCTGATGGGTGTCAGATTCTCTCCCTGCTACAGCTATTTGTCAAACTCTTGAAAGTCCAGCTTTCCTTCCCATGGAAGGAAAATTCCCACGGAATGCTCTCTTCCGTGTTTACccacagaaaggagagaaaggttCTTTCTCACACAAGTCTAAGGCCTTCCTCTAAGTCACCTTTTCCTATCATAGAACTCACCCAGCACTTCTCAGGATAAATGATACTGCAGAATATGAGTTTGCTTCAGGGAAATCCCATACCCACTGTGAAAAATATGGTAACTCTCCAATATCAGTTCTCCCCCTTTGCTAAGTAATAGAACCCTCCAAATATTAGGTTGACACAAAGCCGACCAGAGAAAAGGCTGAATTTCCCATCTAGAACTGGTCATTCTTCAATTCAGACCAGCCATAACTGGACACTTTTGCAAATATTCATTAATAGTCTTGGTGAAAACCTCAGATTTCCATTTTGCCAAAGTTTCCAAAGGAAAAGAGGGCCTTTTTCTAAGCCCTGAGAGCCCCACAGTGACAGTAAGTTCTCCCTTGGAATTCACCCTGGCATACCTCGGTGCTACCCCAGATCCTTTCCCTCAGGGGCTATGAGATTAGGTTTCATGGCCGAATGTGACggttcatgcctttaatcccaacactttgggaggccgaggcaggaggatggcttgagcccaggagtttgagaccagtctgggcaacatcatgagactctgtctatgtaaaaaataaaaattaaccaggtgtcaTGGTACATAACTCCAGTCCCTGCTACTgtggggcaggggctgtgggggctgaggagggaggattgcttgagcccagaaggttgaggctgcagtgagctgtggtcgtaccactgcactccagcctgggcaacagagcaagaccctgccttttaaagaaaaagagaaaggaggttgggcatggtggctcatgcctataatcccaccactttgggaggccgaggcaggtggatcacctgaggtcaggagttcgagaccagactggacaacatggtgaaaccccatttctactaaaaatacataaattagctgggtgtggtggcgggcacatgtaatcccagctactcaggaggctgaggcaggagaattgcttgaacctgggaggcgaaggttgcagtgagtcgagattgtgccactgcactccagcctgggtgacaaaagcaaaactccatctctaaataaataaataaaaataaaaaagagagagagtgagattaGGACTCACCCTGGCCATCCCAGGTCCTGCCACTCCAGGTCCTGCCACTCAGGGACTGTGTGActctatattttttttaacttctcaggCCAATATTAGAACCCAATCTGATCAAATTAGAAACCTATGAACATTCCACTTACTAGCAGTGCATTCATGGAGCACTTCACAGGGAGTCACCAAagtatcaatcaatcaataaactaCTACCCTACCCtgaactattaggttggtgcaaagtaattgcagtttttgcattgttggaatttgCTGTTTGATATTAGAATGcgttcttaaataaatgtggttatgttacactttttttttttttttttttgagatggagtttcgctcttgttgcccaggctggagtgcaatggtgtgatcttggctcaccgtaacctcctcctcccgggttcaagctattctcctgcctcagcctccctagaagctgggattacaggcctgtgccaccatgactgactaattttgtatttttagtagagacggggtttctccatgttgatcaggctggtctctaactcctgacctcaggtgatgcacccgcctcagcctcccaaagtgctgggattacaggcatgagtcactgctcccggcctatacatcattttaataggcatttctcactttatgttttttgataatgacttattacttgctgttgattttatgtttattttagactatggaaatgatgtcagacaaaaagaaaattcaagcgattttcttattcaagttcaaaatgggtcgtaaagcagcagagacaactTGCAACATCGACTGCGCATCTGGTCCAGGAACTGCTAACGAACGTACAGTGCAGTCGTGGTTCaaaaagttttgcaaaggagaggAGAACCTCGAAGATGAGGAATGTAGTGGCCGGCCGTTGGAAGTTGACAACCaccaattg\n",
      "\n",
      "CTAAAATACTTTACTGGAAGTTTTGCACAACAGAAAGATGCAATCAAAGCATAAGTTTAACACCTGCTACGAGATATGTGCTCTCTCAAACCCCAAGCCTACCTGATGGGTGTCGATTCTCTCCCTGCTACAGCTACTTGTCAAAGTTGCTCGAAGTCCAGCTTTCCTTCCCATCAAAAGAGAAATTTCCACGGAATGTGTTCTACTCCCGTGCTTACCCACAGAAAGGAGAAAAGTTTCACACAAGTCTACAAGGCCTTCCTCTAAGTCACCTTTTCCTATCGTCGAACTCACCCAGCACTTCTCAGGATAAATGATACTGCGGATCTCGTTGCTTCAGGGAAATCCCATACCCACTGTGAAAAATATTTCGTAAGTCTCCAATATCAGTTCTCCCCCTTTGCTCATGATCGAACCCTCCAAATACTACGGTTGACACAAAGCCGACCAGAAAAGGCTCATTTCCATCTAGAACTGGTCATTACTCAATTCAGACCAGCCATAACTGGACACTTTTTGCAAATGCTCCGTTTTTAATAGTCTCATCAAACCTACGAGATTTCCCATTTTGCCAAAGTTTCCAAAGGAGCCTTTTTTCTAAGCCCTCAACCCCGCGGTCGCGTGAGTTTCTCCCTTGAATCACCCCTCGACCGTCCCTCCGGTGCTACCCCCATCCTTTCCCTCAGGGGCTGTGATTACGGTTTCATCGCCCAATGTGACGGTTCATGCCTTTAATCCCAACACTTTGGGAAACCCAGGCAGAAATCCTTTTTAACCCCCGAGTTCAAGACCAGTCTCGGCAAAGTCGTCGACTCTGTCTATGTCGTTCGAAAAATTAACCAGGTGTCATCGTACATCATTTCCAGTCCCTGCTACTGTCGACGGGGCTGTGGAGCTCAGGAGGAGTTACTTAACCCAGAAACCGAGCTGCGGTCGAGCTGTGGTCGTACCAACTCCGCTCCAGCCTCAACAGTCGCAAACCCTGCCTTTAAAGAGAAAGGAGGTTGGGCATGGTCGGTTTCATGCCTATAATCCCACCACTTTCGAAACCGGCCGGTCGATAGCCTCAAAGATAGGAGTTCGAACCAAGCTCAACAACGTCGTTGGAAACCCCATTTCTACTAAAAATCATCATTCACTGGGTGTGGTAGCAGCCTAGTGTAATCCCAGCTCCCGAGGCTCACAGCCCAATTGCTTGAACCTCGAAGCGAAGGTTGCAGTCAAGTCGAGATTGTGCCACTGCACTCCAGCCTGGGTGACAAAAGCAAAACTCCATCTCTAAATAAATAAATGAAATCGAAGAGAGTGAGATTAGGACTCACCCTGGCCATCCCAGGTCCTGCCACTCCAGGTCCTGCCACTCAGGGACTGTGTTCCGTTCTATACTTTTTTAACTCTCAGCCAATGTCAAACCCAATCTGATCAAATTAGAAACCTATGAACATTCCACTTACTAGCAGTGCATTCATCAACCTATTCACAGGGAGTCACCCAAAGTCTCAGATCAATCAATAAAAACTGCTCCCTACCCTGAACTATTCAGTTAGTACAAAGTAATTGCAGTTTTTGCATTGCTCGGAATTTGCTGTTTTTGATGCTCAAATACATTACTAAATAAATGCATATTTTACACTTTTTTGAGATCGAGTTTCGCTCTTGCTGCCCAGGCTGGAGTGCAATCGTGTCATACTTGGCTCACCGTAACCTCCTCCTCCCGGGTTCACTCTCTCCTGCCTCAGCCTCCCCTAGAAGCTCGGGATTAGGCCTGTGCCACCATCACTCACTAATTTTGTATTTTTAGTCAAGACGGGGTTTTCTCCATGTTCATCAGGCTGGTCTCTAACTCCTGACCTCAGGTGATGCACCCGCCTCAGCCTCCCAAAGTGCTGGGATTACAGGCATGAGTCACTGCTCCCGGCCTATACATCATTTTAATAGGCATTTCTCACTTTATGTTTTTTTGATAATCGTTTCCTTACTTGCTGTTTGATTTATGTTTTTATTTCATTATGGAAATGATATTCAGACAAAAGAAAATTCAAGCAATTTACTCTAGATTCAAAATCGGTCGTGAAGCGACAGAGACGACTTCCAACATCGACTGCGCATACTCGTCCAGAATCCTTAACGAACGTACAGTGCAGTCGTGGTTCAAAAAGTTTTCCGAACCGCCAACCTTCAAAATCGAATGTCATCGCCCAGCCATTGGAAGTTGACAACCACCAGATT\n",
      "18M1D16M1D2M2D6M1D24M3I17M2D26M1D33M2I4M1D28M1I14M2I6M1I27M1D4M5D2M1D12M2I71M1D6M1D2M1D37M2I37M1D22M1I19M2D10M1D5M1D49M1I14M4I10M1D4M1D7M1I1M1I6M1I25M7D3M1I16M1D1M1D12M1D5M1I9M1D3M1D3M1I6M2I7M1I12M1D19M2D8M1I65M2D2M1D2M2I39M1D15M3D4M2I27M1I21M1D4M1D8M1D11M1D4M2D6M1D9M1D5M1D8M1I16M1I15M3D6M1I5M1D11M7D25M1I2M1I25M1D7M2D16M2I5M1D10M1D20M2I23M1D3M1D40M1D3M2D8M2D20M1D18M1I70M1D5M5D3M1D77M2I6M1D10M1D5M1D10M1D80M1I11M1I10M2I8M1D51M1I13M2I29M2D14M13D55M1I34M2D2M1D17M1I11M1I6M2D51M1I142M1I12M1I16M1I4M1D30M1I7M1D19M4D9M1I52M1I8M1D3M2I2M2D40M4D20M2D7M1I32M\n",
      "0.911665257819104\n",
      "read_id: test_read_46_232460_234760 \n",
      "\tmap_start 11, map end 2296\n",
      "\t2300\n",
      "cttcccttgtcCAGATGtgtgctcaccattgctccatctgtgagGTTGCACCCTTTTATAGAAgtaccttgccttgctgagaattgaacagaaaattttatattcgagtgctatttattttgaggcacagaaactttatatataacaatataaacCCGAGACCTTGGCgggcacacacacaagcagctgAATGTCAAGAGGAGTGGAGGAACGGAGTGGCAGAGAATGGCAGAGAGCGCTGGAGAGTGGCAGAGCAGcatggcagagagggagggaagaggcgTCTGAACTTTGGAAGACACCTCCACTCCTCAATAAAGTCTCCGCATGTATCACTTTTCAAACAGTTCATGTGACCTGATTAATCCAGGATGCCAGACAAGAATCTGGGGAAGTTAACATTCAGGCATCCCTGGATGGCAAGGCTAAAGGAGCACACTGTAACATATGCCCACTTGGGCTCCAGCACCTGTCCATCTGTGTGTTCCCCCTTCCCTCAGGGGTTTGAGCAGTGGGGTGACCAAACAGACGAGCCACACCCCCTGTTGCATGTCCTGCAAGGAGAatcagggaactctcctgtttcaGTTGGAAGAGCAAgtgtccctctctctctcgtGGTGGGGAGACATCTCTTCCTTCTGGGCTGTCACAGCCCCAACCTCACCAACCTACCTGACAAGGGAGTCTGGCAGAACAAGGGCAAGGGCAGGGAGAAGCACCTCTAACTCTATTCCTGGATAATAATCAAGTCTCTAAAAGTCATCCtggagccgggcacagtggctcatgcctgtaatcccagcactttgggaggctgaggcgggtggatcacctgatgtcaggagttcgagaccagcctggccaacatggtgaaaacctaactctactaaaatacaaaaaaaattagctaggcatggtggcaggtgcctgtaatcccacctacttgggtggctgaggcaggagaatcacttgaacctgggaggcggaggtcgcaatgagctgagactgtgccactatgctccagcctgggtgacagagagagactctgcctcaaataaataaataaataaataaataaataaataaataaataaataaataaagtcatccTCTAGGGCTTTGAGGCCGTTCAAGCCCCTATTTTTTCCATCTCTGTGGATGAGCCTCTGTTAAATCTGATTGTGGCTGAACAAGAGATAATGTTCCTAATAGATACAGGGACCAGTTATTCAGCTTTAAGTGTTTATTACAGCCCAATGTGCTAGTCCTCCATTTCATTACGGGTATTGATAAACTTCAGTGAGGCTGTTTCACACTGCCACTCCCTTATAAAATGAAAGGCTATTCCTTTACCCACTCTTCAGTCCTGCCAAGCTGCCCTGTTTCTTTATTAGGTCACAATTTGCTCACAAAATTACAAGCGAATTTACAGTTAAGACCTCACATTCTAGCTGTAATTAACTCACACTTCACCAAAAAAGTTGCTGCAGTCTATAGaacatcacattttaaaacaagtgccggccaggcgcagtggctcacgcctgtaatcccagcactttgggaggccaaggcgggtggatcacttgaggtcaggagtttgagaccagcctggtcaatatggcgaaaccccatccctactaaaaatacaaaaattagctgggcatggtggcacacacctgtaatcccagctactcaggaggctgaggcaggggaatcacttgaacctcggaggtggagattgcagtgagccaagatagtgccattgcactccagccctggcaacaagagtgaaacgctgtctcaaaaaaaaaaaaattgttcttttgtttgcttttctttcaccCTGATTCCTCCTTCCCCCTTTGCCGTCTTCAGTACCAAGCTACAAAGCTAGGGGTGGCTGAGGACAGTAAACAGAGTGTGGTCTTAGCTGGCTTTTTCCCTCCTGGGAAGTTGTTGTTTAGGATCCTAATTCTAGTTCAGAGGTGCATTCTAAATAGTCTTCTCCATTGCCTTTCCCCCCAAAATTAATCTCACACGTTGGCTTGTGTGTGCATTCACGTGAGGAACTGAACTGTCATTTTCATAGATAAATAAGAGACTGAGTTTCCTTAGCTCCAAAGAGAAAGGGCATTTTGCTCCTCCCAGCAGAAAGGTACCCGAGTGACTGGGGGGCCTTGCGGGAGTGTTGGGGGGTTGAGCCCCCAGCGACATGAAGTGATTCTGCAGGGAACTCACaacaaaattagttttaaaaaggcTCGTCCAGGAAGCACATATAGGAACTGGTCACTCTGAGTTTTGAGCCCTCTTGGAGGTGCTAGACCTCCGGAGAAAACACTGA\n",
      "\n",
      "CTCCAGATGTGTGCTCACCATTGCTCCATCTGTGAGGTTGCGCCCTTTTTCTCGAAATTTCCCTTTGCCTTGCTCAAATTGAACCCAAAATTTTATACTCGAGTGCTACTCCTTTCAACACAGAAACTTTATATCTCGATCTGAACCCGAGACCTTCGCACGCGCGCAAGACAGCTCAATGTCAAATCAAGTTTAATCGCAGATCGCAGAGCACTCGAGAGTGGCAGAGCAGCATGACCCGCCCCCCCCCCAAGGCATCTCAAACTCGAAACCTCCACTCCTCAATAAAGTCTCCGCGTGTCTCACTTTTAGAAACAGTTCATGTGACCTCGTTCATCCAGATGCCGACGAATCTCGGACCTAACATTCAGCATGCCTCAATAGCGGCACCCGACACACTGTCATTGCCCACTTTGGGCTCCGGCGCCCTCTCCATCTGTGCTCCCCCCTTCCCTCGGGGTTTGGCGGTCAGATCCTCAACGGACAGAGCCACACCCCTGCTCCATGTCCTGCAAGGAAAATCACAAAGTGTCCTACTTTCAGTTGGAAGGCGAATCTCCCTCTCTCTCTCGTCGTGGGAGCATCTCTCCTTCTCAGGGCTGTCGCAGCCCAACCTCACCCAACCTACCTAACAAGGGAGTGTCACAAGACAAACAGCCAACCCACACGCCTCTTTAACTCTCTACCTTGGATAATAATCAATTGTCTCGAAGTTCATCCTGGAGCCGCGGCACAGTGGCTCATGCCTGTAATCCCAGCACTTTCAAACTCAGGCGTCGTCGCCTCAATATCAGGAGTTCGAGACCAGCCTCGCCAACATCGTCGAAACCTAACTCTACTAAAATCCAAAAAAAAAATTCACTAGGCATCGTGGCGCTGCCCTGTAATCCCACCTACTTAGATCCTCACAGCCAGAATCACTTGAACCTCAAGGCGGAGGTCGCAATGAGCTTGAGACTGTGCCACTATGCTCCAGCCTGGGTGACGAGACTCTGCCTCAAATAAATAAATAAATAAATAAATAAATAAATAAATAAATAAATAAAATAAAGTCATCCTCTCGGCTTTGGAGCCATTCAAGCCCCTCGATTTTTTCCATCTCTGTGGATGAGCCTCTGCTCAGTGTTTCGTTGTCGCTCAAGCAGTAATACTTCCTAATAGATACAGGACCGGTTCTCAGCTTTAAGTGTTTTACAGCCCAATGTGCTAGTATCCTCCATTTCATTCATATGATAAACTTCAGTCAACTTTTTCACACTGCCACTCCCTTATAAAATGAAAGGCTTTCCTTTACCCACTACTCAGTCCTGCCCAAGCTGCCCTGCTTCTTATTAGGTCACAATTTGCTCACAAAATTACAAGCGAATTTACAGTTAACCTCACATTCTAGCTGTCATTCAACTCACACTTCACCAAAAAAGTTCTGCAGTCTGCTCGAACATCACATTTTCAACAGTGCCCGCCAGGCGCAGTGGCTCACGCCTGTAATCCCAGCACTTTGGGAGGCCGAGGCGGGTGGATCACTTCAAGATCGAGTTCGACCCAGCCTCGTCAATGGCGAAACCCCATCCCTACTAAAAATACAAAATTCACTCGGTCATGGTGGCGCCGCGCCTCTAATCCCCACTCCGAGGCTCGCCCGGCCGGGGAATCACTTCGTTCTCCGGAGGTCAATTGCAGTGAGCCGAGTAGTGCCATTGCACTCCAGCCCTGGCAACCCGAGTCGAGTATCTCAATTTTTTTTTGCTTGCTTTTCTTTCACCCTCATTCCTCCTTCCCCTTGCCGTCTACGCAGTACCAAGCTACAAACTCAGATCCTCAGCAGTCAACCGAGTGTCGTGCTCACTCACTTTTCCCTCCTCGGGAAGTTGCTGCTTAGGATCCTAATTCTCGTCCGAGGTGCATTCTTCAAATCATTGCTCTCCATTGCCTTTCCCCCAAAATTAATCTCACACATTCAGGCTTGTGTGTGCATTCACGTCAACTGAACTGTCATTTTCATCAGATCAATCAACTCATTTTCCTTAGCTCCAAAAAGAAAGCCGCAGTTTGCTCCTCCCAGCAGAAAGGTACCCAAGAATCATTTCGGGGCCTTGCGGAATGCTCGGAGTAGCCCCCAAGCAACATGAAATCATATCCGGGACTCACAACAATTCATTTCGACCGGCTCCATCCCGAAGCGCATACTCAAACTGGTCACTCATTTTGAGCCCTACTTCGGAGGTGCTCAACCTCCCAAAAACGCTC\n",
      "44M1I8M1I7M2I12M1D42M2D18M2D20M2D1M2D13M1I21M3D4M5D6M3D5M2D29M1I15M2D8M1I4M2D5M3D40M1I29M1D6M1D3M2D9M2D12M1D15M2D3M1D6M1D8M2D3M1D7M1I12M1I15M1D15M1D8M1D10M2D2M1I8M1I8M1D30M1D11M1I14M1D26M1D5M1D6M1D7M2I12M1D10M1I21M2D4M3D4M1D5M2D7M1D5M4I4M2I12M1I25M1I14M1I35M2D11M2D4M1D6M1I59M2I28M1D4M1I23M1D5M2D3M1I17M1D22M1I34M5D57M1I17M1D25M2I38M3I1M1D8M3D4M1I2M1D4M1I16M1D9M1D16M2D19M2I14M1D1M2D3M1D16M1D39M1D25M1I17M1D48M2D22M1I24M1D9M1I17M1D4M1D72M1I6M2D8M1D13M2D30M1D10M1I12M1I16M2D1M1D4M1D7M1I1M2I17M1I13M1D2M1D16M1D35M1I2M3D1M1D6M11D4M1D42M2D9M2I18M1D2M1I1M2D3M1D6M2D18M1I4M1D5M1D11M1I31M1D15M2I4M1I19M1D24M2I21M3D21M1I10M3D29M1I32M2I20M1D13M2D1M1D7M1I16M1I2M2D1M1D3M1D9M2D4M1I1M2D12M1I5M1D27M2D1M1D11M1I3M1I17M\n",
      "0.8930635838150289\n",
      "read_id: test_read_47_800798_803148 \n",
      "\tmap_start 9, map end 2336\n",
      "\t2350\n",
      "CAAATTCACAGACATCCTGTTTATTTCCGAAAGAGAAACATCATAGAGCTATTCTTGGGATGTTCaggaaaagattaaaataaatgccTATTATCTATTGTATTTCGAGATAAACTTTATAGATTTAGAGCAGGACACACATTTCTGGACTTGAGAACGCTGTATCTGGCTTGGAATAAAAGCCCACATTTCATCTAGAGGTAGAATGTATGTCATTCTAATCTCCCTCAATCCTTTCTTCTCCAATTTCTTTATTGCCCCACTTACAAGATAGTGCACTATTATTCCAAAGCTGATACCTTCCAAATTCCTTTATAGTAGAGGTCTTGGCTATCATAACCATGATGGAACGAATGACCGTCCTACAGCTGGCTGCAAAATATAAGACTGCTATAAATAAATCCCTGATGCCTGAAAagtaattcattcaacaaaggaAGATAGGTATGACTTTGGCCTACTCTTCATTAGAacgcttatttttatttatttatttatttatttataaagaggGCAAAGCAGACTTTATTTGAGGGGCACCACAGCAATAGGTATAGCAACAACTGCAACAGGGTTTTGTAGTCAGGGAGGGAGATCAGACTCAACTCCCTAAAATGCTAATTTTAACAATGGGACACTTCATCTGAACTGTGGTTCTTAATGGTTCAGATAAAGATGACACAACCCACTATTGGCTTAAACTTCTCCCAACTCTGGCTACAGAATCCAGGTAAAGATTTCTGCCCCCTCAGAGTAATAGGCATGTCCAAAATCACCTGGATTAGGGCACTTAATACACTGGGAAGGGACGATAACAACTAAAGATGACCACTATCCATGCCTCCTCTAAaagttttttcatatattttttcatatcacCAAAACAAATACTAACTTGGATCAACTAATTTATATAATGGAATCTCGTGTGAGCGTACAAAATTCCATACTGATTATTTGGTTTAAGCCTGCATTATCATAAAGGCTTTACAGTCTTTAAACTGAAATTAAGCTCAAATTAAGAAATGCTAGTCTTAAAACAATGGAAGGGGGGGGCCGTtttgtgtggagggagggagacagacataCCCCTACACCCACCCACAACTACTGATATTGACATTGGAAATTAACTTGAAAatttatgcctgtagtcccagctactcaggaggctgaggtgggaggagcacttaagtccaggagttgggAGATGACAGTGAGCTTTgactgtgacactgcactccaacccgggtgacagggcaagatcccatctctcaaaaaaaaaaaaaaaaaatgctttaactCCACGTCTGTACCAGAAGACCACAGCAGGAGAGGAAAACCTTATTTCAGTCTGGGTAAGAGTTCtattaaacacaaaataaaacaaactagcCTCTGTTTCTGGAGGTCTTCATTAGTAGTTTCTACAAAACAGTATCCAAATTAGCAAAGATTCTGTTAACTACCTGGAAAAAGCAGGTACCAAGAAAGAATGTTTCACtacaatggaaaaaaacagtCTAGTAAGTAAACCAATCTGACTATAAACGCTACAAAAGAGGGATTCTAGCATTAGTAACTTTGCCAACAATACTCTGatatgattaaaaaacaaaacaataacaaaaacaaaaaacctcatctTTAAATTTGTCCCATTCATCCAGAGAAGCAAAATCAAGGAAACTAGAGGGGGTAAAGTCTTGCAACAGATACACAGCTGCACTGCCAACAGGTCACAAGACCCATGCTGCCTAGGGCATTGACTGTTATGCCATGAGGACAGACATCACACAAACACCAGTAATTAAAGGGTTACGGTGCCAAAGGGTTCAGAGCTCCACTTCCATTCAGTATCAGAAcataagaaaaagggaaaaacagaaaatgagcccaaataaaatataaaataaaatatagataccAGGAGCTTCCTCAAAATATGTGGGTTGTATTAATAACGTGTTTGGCTCTGTTACGGGCACCATCCATCAGAGGACTGGAAATAGGGAAAGTCACCTTAGTCTTCCTCAaggaaaaaagattatttaactTGGTTCACGGTGTACATTCATAATTTTAACTGtcatgtatttattgaatgaaaaacaTTTGAGAACATCATGTGCAACAAAAACATGATTTCACAGAAATTGTCCaaactaaaagagtataaaaaTAGAAGCGCTTTTTATacaattatttacttattattattattgagatagggtctccatctgtcacccaggccggagtgcagtggcgcaatcatagagTAGCCTctaagtcctgggctcaagcgatcctcctgcctcagcctccagagtcgtTGGGATCACAGGCTCGAGCCTCCACACCCgactaacttttaaaaactttttgtagagatgaggcctc\n",
      "\n",
      "GCAGCATATACTTGCTCCAAAAGAAAGTCATTCAAGCTACTTACTCGTGTTTTCCCGAAAAGATTCGATCAATGCCTGCTCTCTACTGTGCTTCGAATGGTTCCTAGATTTAAAGCAGGACGCATTTTTCTCGTTTTCAAACGCTGTATCTCGCTTCAAATAAAAGCCCACATTTCATCTCACAGTCAAGTGTCTGTCATTCTAATCTCCCTCAATCCTTTCTCTCCAATTTACTTACTGCCCCCACTTACAAGATCATGCACTCTACTCCAAACTTGATACCTTCCAAATTCCTTCTCGTCAAGGTCTGGCTATCATAACCATGATCGAACGAGATCGCCGTCCTCAGCTCGCTGCAAAATCTTTCAACTTTGCTCTCAATCAATCCCTGATGCCTCGAAAAGTCATTCATTTCAACAAAGGAAAATCCATATCATTTTGGCCTCTACTCATTCAAACGCTCCTTTTTCCTTCCTTTCTTTCTTCCTTTCTCGGCAAAGCAAACTTGCTTGAGGGCGCCCGCGGCGATGGGTCTCGCGACAACTGCAACAGGGTTTTGTGCATCAGGGAAATCGAGACTCAACTCCCTAAAATGCTAATTTTAACAATCGATTCATCTGAACTGTCGTTCTAATCATTCAGATAAAGATAGACACAACCCGCTGCTCGCTTAAACTTCTCCCAACTCTCACTCTCCAAGATCCAGTAAAGATTTCTGCCCCCTCAGAGTAATAGGCATCCAAAATCACCTTTGGATTAGGGCGCTTAATACACTCCGAAACCGGTCATCCCTTCGAGGATCGCCCACTATCCATGCCTCCTCTAAAAGTTTTTCATATACTTTTCATATCACCCAAAACAAATACTTAACTTCAATCGTTTTCATTTTCTGTCATCGAATGTCATATCACTACAAAATTCCATACTCATTATTCATTTCCTCTGCATTATCATAAAAGGCTTTCAGTCTTTAAACTGAAATTCAAGCTCAAATTAAGAAATGCTACATACTTAAAACAATGGAAGCCGTTTTGTGTCAAAGTTGACATACCCTACACCCACCCACAACTACTGATACTGACATTGGAAATCCGTTTTACCGAAAATTTATGCCTGTAGTCCCAGCTACTCCAAACTCGCCATCGGAGCACTTCATCCAGGAGTTCGGGAGATGAGCGGTCGACTTTGACTGTGACACTGCACTCCAACCCGGTGACCCGCAAGATCCATCTCTCAAATTTTTTAACTCCACGTATATACCCAAAAACCACCCACCCAGCCCAAACCTTGCTAGATCTCGGTACGAGTTCTACTAAACACAAAATAAAAACAAACTAGCCTATACTTGTGGAGAAGTGTCTCATTCATCATTTACTACAAAACCATACTCCAAATTAGCAAAGATTATACTTAACTACCTGGAAAAAGCGGGTCCCAGAAATTTTTCACTACAATGGAAAGAAACGGTACCGTCATCTCAAACCAATATTGACTATAAACGCTACAAATATAGCATTAGTAACTTTGCCAACGATGCTTGATATAATTAAAAAACAAAACAATAACAAAAACAAAAAACCTCATACTTCCGAATTTCTCCCCATTCATCCCAGAGAAGCCAAAATCAAGGAAAGTTCAAATCACCTGCTACAACACAGATACACAGCTGCGCACTGCCAACAGGTGCCGCAAGACCCATGCTGCCTACGGCATTGGTTTATGCCATCAAGACAGCATCACACAAACACCGGTCATTAAAGGGTTACGGTGCCAAAGGGTTCAGAGCTCCCACTTCCATTCAGTATCAAAGTCCGAAAAAAAAACGAAAATGAGCCCAAATCGAATCTCAATCAATCTCCATACCCCGAGTTTCCTCAAAATATGTCGGTTGTGCTCCAATCATTTACTTCGTTATGCTCCGGCACATCCATCAAGGAGCTTGGAAATGGAAAGTCGCCTTTAGTCTCCCTCAAGGAAAAAAAATTTAACTTGGTTCGCGGTGTACATTCATAATTTTAACTGTCATGTGCTTCCTCAATGAAAAACGTTCAAAGTCATGTCCCGGTCCGAGTCGTTTAACAGAAATTGTTCCAAACTCGTCTCGAATTGGAAGAACGCTTTTTATACAATTACTACTTGCTCCCTCTCTCGAGATAGGGTCTCCATCTGTCACCCAGGCCGGAGTGCAGTGGCGCAATCATTGGTCACCTCTACATCCTCGCGGCTCAAGCGATCCTCCTGCCTCAGCCTCCAGAGTCGTTGGGATCACAGCTCGAGCCTCCACACCCGACTAACTTTTAAAACTTTTTGTCGAGATAGAGGCCT\n",
      "35M1D41M1I3M1D38M1D18M1I23M1D30M1D14M1D26M1I11M1D18M3I30M1I13M1I33M1D24M1I22M5D13M1D11M1I2M1D41M2I1M1D7M3D1M1D3M1I36M3D1M1D19M1D19M1I38M2I14M1D33M2D12M2I28M2I5M1D8M1D6M1I27M1D11M1D12M1I13M1I15M2I26M1D1M1D21M1D7M2D2M1I12M1I9M1D19M1I22M1I2M1I15M7D15M7D2M1D8M1D40M5I5M1D31M2D6M1I5M3D12M1D10M1I9M1I4M1I2M1D28M1D6M1D9M1D9M15D36M1D3M1I4M1D13M2D2M1I30M1I27M4I3M1D5M1I21M1I20M1I24M1D6M3D34M1I4M1I8M1I20M8D30M1D46M1I3M1I9M1I9M1I9M1I14M8D8M2I5M4I1M1I14M2I15M2I28M1D2M1D17M1D53M1I19M1D2M1D9M4D6M1D23M1D4M1D44M2I21M1D6M1D9M1D4M1I1M1I7M2D11M1I22M1D1M2D67M3D13M2I9M2D1M1D14M1I8M5D16M2I17M1D71M1D16M1I1M1I48M1D29M1D18M1I7M\n",
      "0.8618049959709911\n",
      "read_id: test_read_48_459158_461558 \n",
      "\tmap_start 119, map end 2399\n",
      "\t2400\n",
      "ctccatctgtcaaATGGATGGTTAAACTCAGTGTTTCTAAAGGCCCACtgttcacccatccatccatccatccacccacccacctacccatctgcccacccatctatccatccccatccatccatccatccatccccatccatccatccatccatccatccatccacccacccacccatctatccatccactcacccacccatctatccatccatccatccacccatccatccatccaccaacccatctatccatccaatcacccacccatctatccatccaccaacccatctatccatccactcacccacccatctatccatccatccatccacccacccactcatctatccatccatccatccatccatccacccacccacctacccatctgcccacccatctatccatccccatccatccatccatccatccacccacccatatatccatccactcacccacccatctatccatccatccacccacccactcatctatccatccatccatccatctatccacccacccacccatcatccaCCCAACCAtctatccgtccatccatccattcagcaGATATTTCTTGAATATCATCTATGTGCCAGGATCCTttatttattaaagttaaaagacaaatcacagaCCTGTAGAAACATTTTAGAAAGACATACAAAATCATACTGGATTGGAAATGTAAATTTCCCCAGGACTTTTGTTCACCAGTGACTCTCCAATGCCATGCATGGGGCCACATGTCTACTAGGTGCTCTGTAAAATGTTTATTGGATGTAAGAATGAATAGGACATATTTTGCTGTTCTAAAGAGAGCTGCCTCCGAGTCTGAGATTGGAGTCAGACATCCTCTCTAGGACTTATTGAGAGGGGGCCAACTATCTTTGTCACCCCCATCCCTGACCTGCCCCACTGCCTCCCCAGCCCATATAAGCCAGTTTCTAAAGAGGATCTAAGGAGGATTGGCCAGCAGTGACTGGGGCAGGGTAGGGCACGGCATGCCCCCAACTCCCAAGCCCAGGTGGGCTCATGGTTTGGAGGGGAGAAGCTATGAACCAGAGGGAAACAGGCATTCCATCCCTTGATTGAACTCACTCTTGTTGATCTGCCCTGTGTCCATTGGGAGTGAGTGGAGAATGAATGAGAAATGCAAAAGGGGTGGGGTCTGGCAGAGGCAGCCTGCATTGCCACCATTTGACCAATTTCCTGTCAATTTCCTATATTTGGTCAAGTGGACATTGAAGGAGGCTCTTGAGCTTAATCTAAGCCATGGTTTTCCAGCCCAAAGGGGCATGAGGCTGTTGAAGTGGGGATGGGGTAGTGAGGAAGCTAGGGTGATCTGAAGAGGTCAAGCTCGTGCTCCTTGCTCAGTAATCACACCTGTGTACCAATTAGGCACCTGCCACACGTGGGAGAAAGGGGAGGGCATGGATGGAGGCAGAGGAACATTTAGTCCCAGTCCCTCCCTGCTGCTCACTGGTGATGGCCCCAGAGTTTTCTAACACCGGGAATTGTGGAGGCCACAGCAGCATCAGGGTAGTGACAGCTGTCTCTATCCCCATTCCTTCTTCTGCTCCCCAACATACAGGGGAGAAATCAAcccagagggaggagagaagagaatgagacaGCATGACATATCTCCCTACAGGGCAAATCAGTGGAGTCAGAAGCTGAGTCAGGCAGTGATGGGGAAGCAGTGATGGGAAAGGAGAGCTTCAAATCAgacctgtattttaaaaattcagcactGGACTAGGCTTTTTAATAGCTGAAAGTTACCAGAAAGCTTTGAGATCTGCCCAAAGTTATTAAGGATTGGAGTTTAAAAATACGACTGTgcattgggggtggggggtggggggtgcatgGAAAGCATGCCATGTTTGTAACCCTCTGTTACAACTTCAGTATCATCATTAAGCCAGTTACACACAAAGTAAGCCAAGAATATCCTTAATACACAACGAGctcctataaatcaataagaaaaaggggAATGATCCAAGTGTGTGGAGGGAGAATGGGCAAAGACAttacaaggaatttaaaaaagaaagacaaataggaCAATAACCATACGCAAAGCTGTTCTACTTCCCTAAGAATTTTCAAATTGAAGATGAGAACAAGAATGAAATACCACCATGACCTACAAGATACGGAAACTGTAAAAGACTCCGGCACCCTCTTTTGAGAAGGCAATTAGGCAGAGTCTATTATCTGTAGCCTGAGGTAGTAACAGCATTTTACAGGAAGTGTCCTGAGTTGAGAGAGGGGTAGGCACTTGTTAGAAGCCACACAGTGAGTCATGGGAGGGGAGGAGCTAGAACTCAGACCTCTGGATGGGCACCTTTGATTCTTTATCTCCAGCCAGCTGGTCCTCTCTGTCTGGGCTAGTGCAcagcctggcccctggcccctgtCTGGGTAGC\n",
      "\n",
      "CTCAAATGGATGGTTAATTCAGTGCTTCTCAAAGGCCCACTGTTCACCCATCCATCCATCCATCCACCCACCCACCTACCCATCTGCCCACCCATCTATCCATCCCCATCCATCCATCCATCCATCCCCATCCATCCATCCATCCATCCATCCCATCCACCCCACCCACCCATCTATCCATCCACTCACCCCACCCATCTATCCATCCATCCCATCCACCCATCCCATCCCATCCCACCAACCCATCTATCCATCCCAATCACCCCACCCATCTATCCATCCACCAACCCATCTATCCATCCCACTCACCCCACCCATCTATCCATCCATCCCATCCACCCCACCCACTCATCTATCCATCCATCCATCCATCCCATCCACCCCACCCACCCTACCCATCTGCCCACCCATCTATCCATCCCCATCCCATCCATCCATCCCATCCACCCCACCCATATATCCATCCCACTCACCCCACCCATCTATCCATCCCATCCACCCCACCCCACTCATCTATCCATCCATCCATCCCATCTATCCACCCCACCCACCCATCATCCCACCCAACCATCTATCCGTCCCATCCATCCATTCGGCAAGAAATACTCTCAATCATCTATGTGCCAGGATCCTTTCCCTTCTAAAATTAAAACAAATCACAAGTTATCTAGAAACATTTTCAAGACATACAAATCATACTCAATTGGAAATGTAAATTTCCCGGACTTTTGCTCACCCAGTAACTCCAATGCCATGCATCGACCATGTCTACTCAGTGCTATCTGAAATGCTCCTGGATGTCGATCAATCGGACGTGCTCCGTTTTCTAAAAAGAAGAGCTGCCTCCCATACTCAAATCAAAATCAGACATCCTCTCTCAACTTGCTCAAACCGCTCTACTTTTGTCACCCCCATCCCTGACCTGCCCGCTGCCTCCCCAGCCCATATCAAGCCCATTCAATGTCAATTGGCCGGCGGTCGTTTCGACCGTCCCGCGCGGCCGTCCCCCAACTCCCAACCCAGGTGGCTCATCGTTTTAAAAGCCTTATCAAACCAAGGGAAACCCGCATTACAGTCCCTTCATTGAACTCACTACTGCTCATGTGCCCTGTCCATTGGGAGTCGTCGAAATCGATCGGAAATCCGAAATCCCATGGCAAAGGCAGCCTGCATTGCCACCATTTGACCCAATTTCCTGTCAATTTCCTATACTCGTCAAGTGGACATTGAAAGAAGTTTTGCTCAACTTAATCTCGCCCATCGTTTTGCAGCCCAAAGGGACATGGCACTCGAAGTCGGGGATCGGGTAGTCGAAGCTCAGGGTCATGTCGAAAAGATCGCGAGCTCGTGCTCCTTGCTCAGTAATCGCCTGTCTACCAATTCACGGCGCCCTCCCCACACGTCAAAGAGCCGGACATCGATCGAGGCGCCAATTTTCATTCCAGTCCCTCCCTGCTGCTCACTCAAACGGTGATGGCCCCCAGAGTTTTCTAACACCGGAATCTCGGCTCACAGCAGCATCAGGGTAGTGACAGCTGTCTCTATCCCCATTCCTTCTCTGTCTCCCCAACATACCCCGCCATCAACCCCCCCCCCCCCAATCAACGAGCATGACATATCTCCCTACGGGCAAATCGGTCGATCAGAAGCTCGTCGGGCGGTGATCGGACTAATGTAATAGGAAAGCCCAAACTCAAATCAACCCTCTACTTAAAAATTCAGCACTCAAACTACAGCTTTAATAGCTCGAAGTTTACCAAAGCTTTGAATATACCCAAAGTTACTCATTCGAGTCGAGTTCCATTGTGCATTCAAGTAGGTGGTGCATGGAAAACGTGCCATACTCTCATCCTTATACTCATTTCAGTATCATCATTAACCATACACGCAAAATCACTAATATCCTTAATACACAACAGAGCTCCTATAAATCAATAAGAAAAAGGGGAATGATCCAAGATGTCTCGAAATCAACGCCACGTTCCCAAATTAAAAACAAATCGGACATAACCATACGCAAAGCTTTCTACTTCCCTAAGAATTTCAAATTGAAGATGAGAACAGAATTGAAATACCCACCATGACCTACAAGATACGGAAAGTCTTAAAAGACTCCGGCACCCTACTTTTCGAGAAGGCAATTAGGCAAAGTCTGCTACTATCTCACCTCGGGTCATAACAGCATTTTACCCCGGAAGTGTCCTCATTCGCCATCCCCGCTCCCTTCGAAGCCACACAGTCGTCGTCGAAAAGGCCGCTCGAACTCAGACCTCTCAATAGGCCTCTTTCATTCTTTATCTCCACCCACTCATCCTGTCTGTCTCAGCTCCATGCACAGCCTGGCCCCTGGCCCCTGTCTCAGGATCT\n",
      "14M1D14M1I121M1I7M1I28M1I21M1I12M1I4M1I4M1I20M1I7M1I37M1I7M1I21M1I7M1I33M1I7M1I8M1I35M1I12M1I7M1I17M1I7M1I17M1I7M1I4M1I25M1I11M1I16M1I20M1I17M1I6M1I4M2D2M1D40M2D9M1I19M2D10M1D32M2D13M1I7M2D16M2D4M1D27M1D11M1D2M1D19M1D6M2I4M1I43M1I1M2D11M2D4M1I5M3D24M1D23M1I3M1I3M2D3M1D4M4D2M5D1M2D13M1I6M3D32M1D7M1D12M6D7M2I3M1I6M1D18M1I34M2D14M1D6M1D20M9D2M3I32M1I24M1D25M1D5M3I40M2D12M1I14M2D7M1I10M1I8M2I26M2D16M1I1M1I3M1I4M1I9M4D25M3D36M5I8M1I20M1D4M1D3M2D4M1I47M1D4M1I13M3D14M8D15M1D2M1I20M1D15M1D9M1D17M2I3M2D36M1D17M1I6M1I3M2D10M1I10M2D10M1D17M3D9M3D18M8D30M1D11M1D1M1D4M1I20M1D3M2D12M4D23M1I41M1I8M5D3M3D5M2I9M2D4M3D4M5D11M1D18M1D17M1D21M1D4M1I7M1I26M2I2M1D19M1I5M1I21M3I9M1D2M1D23M2I22M6D8M1I18M1D10M3D4M1I52M1D21M2I1M1D28M\n",
      "0.8891944990176818\n",
      "read_id: test_read_49_984787_987237 \n",
      "\tmap_start 9, map end 2443\n",
      "\t2450\n",
      "cagtGTATTGAGGAGATTTCAAAGTATTCTTTCTAAAGGTCTTTTATTAtatgaaaagaagataaaattataatatcaGGTTTTGCTAAGTTATAGCTGCAAGTCACAAGATGTATGACAACtaattacagaataaaaatagCATATATTTCCAAACCagaaagagggaaaagtaaaatcataaaaagaatccaaaagaatgttaagaagggagaagaaaaaaatctagaacaTAAGAAGCATAGGGGAAGAAAGTTGAATTGGAATatgattaattatattaaatataagtgGAATAAATTATCCAGGTAAAAGACAAAGACTATCATatcagactggattaaaaaagaaatccaaatgaaCCAGAATAATccaaacaattctgaaaaataataaagctggaAGAATTATACTAACTGATCTtaaacttattacaaagctatagttgTCAAAACAGTGTATTGGCAAAAGGATAATACATAGATCAagggaacagaataaagagtacAGAAATACACTCACACAAACAAggccaattaatttttgacaaaggtacaaaggcagttcaatggagaaaggacatatatacatatatatataaatatattatgtatttttttcgaGATAGGGTCTGCCTCTggtgcccacgctggagtgcaggggcatgatctcaactcactgcaacctccgcctcctgggttcaagtgattctcctgcctcagcctccaaagtagctaggaccacaggagTGTgtcactatgccctgctaatttttgtatttttagtagagacagggtttcaccatattgcctaggctggtctcaaatttctgagctcaactgatccacctgccttggcctcccaaagtgctgggattacaggcataataaTCTTTTCTATAAATTGTTTTGGAAGACTTGGAGATCAATATGCAAAATCATAAACTTTAATCTAAATCTCACACTTTATATAAAGATAATTCATAATGAATCACAGATATCAATGTAAAACTTGggtcagatgcggtggctcatgactgtataatcccaggctgggtgacaaggcaagactctacctctgggggggaaaaaaaaagatataaatgtaaaattatcaaACCTTCTTGCAACCAGGGGTTAGGCAGAGTTTGAAGACATGACACTAAAAGCATGGGCTGTAAAACTGATAAACTGAACTTCATCAACGTTAAAatatttctgctctgtgaaagacactattaagaaaataagccagacacaagaagAATGTATTTGCAAATCACAAATCGAATAAAGAACTTGTATCTGTAACATTAaaaaactcaataagaaaacagctcaatttaaaaatgggcaaaagacgtGAACATACACaccacaaaagaagatatacacataagtatatgaaaagatacaCAACACTGCCAGACAGCagggaaaatgaaattaaatcatACAACTACCACTACAGatttattaaaatggctaaaatttaaaaaaacagaaaacaaaactatacCAAAAGCTGGTGTGGATGCAGAGTAACAGTAACTAATACATtcctggtaggaatgcaaaatggttttggaaaacagtttggcagtttcttatagaGTTAAACATGTACTTAAGCATACAACCAGCattcccactcctaggtatttactcaagagaaacgGAAACCCGTatctacacaaaaacttatacacaaaCATTTaaggcagctttattcataattgtgaaaaaacagaaacaaccaaGGTGTCCAACAGTTACATGAACAAACAAATGGTTTGCCATGTGAtgcttagcaataaaaaggaacaaattactgATTTGtgcaacaaaatggatgaatcgtttttctttttttggtagagacagggtctcgctttgttgcccaggctggtctcaaacgtctagcctcaagtaatcctttggcttcagtctcccaaagtgctaggattacaggtgtgagctgctacacctgaccaacatggtgaatcttaAAAGtgaagaagccagaaacaaaagccTACATATTGTATACTTCCATTTAtatcaggggtccccaatccccgGGCCATGGGCCTGTACCagttcatggcctgttaggaaccaggctacacagcaggaggtgagcagcgggaGTCACTCGCATTACTGcccgagctctgcctcctgtcccatCAGcaacagcattagattctcataggagaaccctattgtgaactgcacatgtgaggaatctaggaggtggagctcaatttttctcctttaaggaaaggaaataagtaaGCATGGAAAGAGAGCCTAAATTTCTCCCTTTCCATGCTTATTCATTACAAGGGTATTCCTAAGTCCAATGGGCTTGGAAAGGGAGAAATAGCAACTCTACAGTAGAAAAACCTGGCAGACTTTACTGAAATATCACTAGTGTTAAGTCACTTTGACATCATATGCCCCTGATATAATGTGATGAGAAGGGCACTTCACCTCTG\n",
      "\n",
      "CTCAAATTCAAAGTACTACTTTCTCAAAGGTACCTTACTATCAAAAAGAAATCGAGACCTAATCTCGGTTTTGCTAGTTATAGCTCCGGTGACCGTGTTATCACATTTAATTACAAATAAAAATAAGCATATACTTACAAACCCGAAAAAGAAGCACCTGAAATCATTCAAAAAAAATACAAATACTCCCCCCCCCCCTCTCAGTCCAACATCCCCCCCCCCCCTCAATTGGAATCATTAATTATACTCAATCTAAGTCAAATCATTCTCCATCGCCACAAAAAGTTTGTCGTATCAACTCGATTAAAAAAGAAATCCAAATAAAACCAGAATAATCACAAACGATTCTCAAAAATAATAAAGCTCAAAAGTATACTCACTCATACTTGCGACCCACTACAAAGCTATAGTTGTCAAAAGCGGTGCCTGGCAAAAAACCCGTCATGCATTAGATCAAGGGAACCCATAAAGAGTACAGAAATATCACTCACACAAACAAGGCCAATTAATTTTTGACAAAGGTACAAAGGCAGTTCAATGAGAAAGGACATATCTGCGTCTCTCTCAATCTACTATGTATTTTTTTCGAGATAGGGTCTGCCTCTGGTGCCCACGCTGGAGTGCGGGGCATGATCTCAACTCACTGCAACCTCCGCCTCCTCGGTTCAAGTGATTCTCCTGCCTGGCCTCCAAAGTCACTCCGGCCCACCCGAGTGTGTCACTATGCCCTGCTAATTTTTGTCCCATTTTTCATCAAGACAGGTTTTCGCCGTACTTGCCTACAGCTGCATCTCAAATTTCAACTCGTTTGATCCCACCTGCCTTGGCCTCCCAAAGTGCTCAGATACAGGCATAATAATACTTTACTATAATTGCTTTCAAAGTTCGGAGATCAATATGCAAAATCGTCAAACTTTCATCTTAAATCTCACACTTTATATAAAGATAATTCATAATGAATCACAATATCAATGTAAAACTTCGATTGGCGGTACGATCCTTTCATCGTTTTCTAATCCCACTCCATCCTAGGCAAACTCTCCTCTCCACCGGTCTCAAATGTCGAAATTTACTCAAACCTTCTGCAACCCAGGTCCCACAAAGTTTGAAAATTTACTCAAAGTCGGCTGTCAAACCGATCAACTCGTTCATCAACATTTAAAATACTTCTGCTCTGTCAAAAACACTTCTCAAAATAAGCCAGACACAAGAAATCTACTTGCAAATCACAAATCGAATAAAGAGACTTGTCTGTGTCCGTTCGACTTTCAATAAGAAAACAGCTCAATTTAAAAATGGGCAAAAGACATAGAAGTACACACCACAAAAGAAGATATACACATCATATGAAAAGATACACAACACTGCCAGACGGCCCAAAATGAAATTCGATCATTACAACTACCACTACAGATTTACCTAAAATGGCTCATTTTTAAAAAAACAGAAAACAAAACTATACCAAAAGCTCGTGGTGCAGAGTAACAGTCACTTGATTTCGTTTCCTCATCAGAAATTCAAAATGGTTTTGGAAAACAGTTTTTGGCAGTTTACTATCAAGTTAGAATTGTTTTTGAGTTACAACCAGCATTTGCCACTCCTAGGTGCTCTACTCAGAAACGGAAACCCATCTGTACACAAAAGTTATACACAAACATTTAAGAGCATTTTGCTCATTCATCTCGAACCCGAAACAACCAAGATCTGCAACAGTTACATGAACAAAACAAATCGTTGCCATGTGATGCTTCACAATAAAAAGAAACGGTCCCTTCATTTGTCCCATCAAAATCGATAGAATCGTTTTTCTTTTGGTCGAGACAGGGTCTCGCTTTGCTCCCCCAGGCTCAGTCTCAAACGTCTAGCCTAGTAATCCTTTGGCTTCAGTCTCCCAAAGTGCTCAGGATTACAGGTGTGAGCTGCTCGCCTCACCAACATCGTCAATCTCTCAAAGTTGAAGAGCCAGAAACAAAAGCCTACATCTACTGTATACTTCCATTTATATCAGGGGTCCCCAATCCCCAGGGCCATGGGCCCTGTACCAGTTTCATCGCCCTACTCACTACAGCTACACAGCAGGAGGTGAGCAGCGGGAGTCGCTCGTTGCTCCCCGAGCTCTGCCTCCTGTCCCATCAGCAACAAGCATTAGATTCTCGTCAGAACCCTACTGTGAACTGCACATGTCATCTAGGAGGTGGAGCTCAATTTTTCTCCTTTAAGGAAAGGAAATCAGTCAAGTCAAAGCCAGAGCCTAAATTTCTCCCTTTCCCATGCTTCTCATTACAAGGGTCCTCCTCAAGTACAATGGGCTTGGAAGCCGGAGGTCAAACAGTTGCCCCAGTCAAGACCTGGCAACTTTGCTCAATGTCACTTTCATGCTCATCTCACTTTGACGTGGTGCTCTGCCCCTGATATAATGTGATCGAGAAGGCACTTCACCTCT\n",
      "7M2D30M1D9M2I7M3D16M1D25M1I14M1I27M1D3M1D16M1I3M1I30M1I5M1D10M4I2M1D7M1I14M1D20M1I55M1D18M2D67M1D60M1D16M1I41M3I29M1I7M1I5M1I12M2D12M1I31M1D15M1I9M1D14M2D2M1I22M1I11M1I43M1D16M4D2M1D3M2I5M2I1M2I2M2I19M2D6M1D9M1D5M1D5M11D10M1I6M2I7M1I10M1D5M1I3M2D23M3D8M2D22M1I1M3D9M1I30M2D25M2D32M1I12M1D5M3D4M2I42M1I3M1D29M3D33M2D19M1I22M1I51M2D5M1D18M2I5M1I9M1I28M2I37M1D12M1I15M1I8M3D24M1D24M1I3M4I2M1D8M1D4M5D38M1I10M1D32M1D6M1I8M1I14M1I12M3D27M1I11M1I19M2D33M1I22M1D23M1I6M1I5M1D21M2I40M1I10M1I10M1I9M2D8M2I2M1D36M2D37M1I16M2D27M4D50M1I3M2D1M1D5M2I21M1I8M1D20M1I17M1D3M2I4M3I12M2D4M2D12M1D8M1D10M3I1M1D2M1I17M4I1M1D22M1I5M1D14M\n",
      "0.8177263969171483\n",
      "read_id: test_read_50_519896_522396 \n",
      "\tmap_start 258, map end 2499\n",
      "\t2500\n"
     ]
    }
   ],
   "source": [
    "r10_identities = []\n",
    "with start_guppy_server_and_client(\n",
    "    BIN_PATH,\n",
    "    \"dna_r10.4.1_e8.2_400bps_hac.cfg\",\n",
    "    \"ipc:///tmp/.guppy/5555\",\n",
    "    [\"--device\", \"cuda:all\"],\n",
    ") as client:\n",
    "    fa = Fasta(str(TEST_FASTA.resolve()))\n",
    "    for signal_array in R10_SQUIGGLE_OUTDIR.rglob(\"*.npy\"):\n",
    "        # remove any non ACGT and replace with A\n",
    "        read_id = signal_array.stem.partition(\".\")[0]\n",
    "        signal = np.load(signal_array)\n",
    "        read = {\"read_id\": read_id, \"raw_data\": signal}\n",
    "        success_pass = client.pass_read(read, pack)\n",
    "    t.sleep(10)\n",
    "    res = client.get_completed_reads()\n",
    "    for r in sorted(res, key=lambda x: len(x[0][\"datasets\"].get(\"sequence\", \"\"))):\n",
    "        read_id = r[0][\"metadata\"][\"read_id\"]\n",
    "        reference_fasta = fa[read_id]\n",
    "        print(reference_fasta)\n",
    "        print()\n",
    "        aligner = mp.Aligner(seq=str(reference_fasta), preset=\"map-ont\")\n",
    "        read_number = r[0][\"metadata\"][\"read_id\"].rsplit(\"_\", 3)[-3]\n",
    "        sequence = r[0][\"datasets\"].get(\"sequence\", \"\")\n",
    "        query_len = len(sequence)\n",
    "        print(sequence)\n",
    "        als = aligner.map(sequence)\n",
    "        for al in als:\n",
    "            print(al.cigar_str)\n",
    "            print(calculate_identity(al.cigar_str, al.ctg_len))\n",
    "            print(\n",
    "                f\"read_id: {r[0]['metadata']['read_id']} \\n\\tmap_start {al.r_st}, map end {al.r_en}\\n\\t{len(reference_fasta)}\"\n",
    "            )\n",
    "            r10_identities.append(\n",
    "                (al.ctg_len, calculate_identity(al.cigar_str, al.ctg_len))\n",
    "            )"
   ]
  },
  {
   "cell_type": "code",
   "execution_count": 104,
   "id": "ccff762c-988c-4f9c-b4b1-639752956ed7",
   "metadata": {},
   "outputs": [
    {
     "data": {
      "text/plain": [
       "[Text(0, 0.5, '')]"
      ]
     },
     "execution_count": 104,
     "metadata": {},
     "output_type": "execute_result"
    },
    {
     "data": {
      "image/png": "[encoded data removed]",
      "text/plain": [
       "<Figure size 640x480 with 1 Axes>"
      ]
     },
     "metadata": {},
     "output_type": "display_data"
    }
   ],
   "source": [
    "ax = sns.scatterplot(\n",
    "    x=list(map(lambda x: x[0], r10_identities)),\n",
    "    y=list(map(lambda x: x[1], r10_identities)),\n",
    ")\n",
    "ax.set_ylim((0, 1))\n",
    "ax.set(ylabel=\"\")"
   ]
  },
  {
   "cell_type": "code",
   "execution_count": 107,
   "id": "1e628bc3-fb40-41ca-b2a2-a333cfda42dc",
   "metadata": {},
   "outputs": [
    {
     "data": {
      "text/plain": [
       "0.8694454073495055"
      ]
     },
     "execution_count": 107,
     "metadata": {},
     "output_type": "execute_result"
    }
   ],
   "source": [
    "np.mean([x[1] for x in r10_identities])"
   ]
  },
  {
   "cell_type": "code",
   "execution_count": 106,
   "id": "854c507e-95cd-4bae-bac1-9b043e0f03db",
   "metadata": {},
   "outputs": [
    {
     "data": {
      "text/plain": [
       "[(150, 0.8533333333333334),\n",
       " (300, 0.7402597402597403),\n",
       " (350, 0.8413978494623656),\n",
       " (400, 0.8938271604938272),\n",
       " (450, 0.8318777292576419),\n",
       " (500, 0.9037328094302554),\n",
       " (550, 0.8143607705779334),\n",
       " (600, 0.8550488599348535),\n",
       " (650, 0.9344512195121951),\n",
       " (700, 0.8158253751705321),\n",
       " (750, 0.8560311284046692),\n",
       " (800, 0.9014598540145985),\n",
       " (850, 0.9181084198385236),\n",
       " (900, 0.9069264069264069),\n",
       " (950, 0.8865461847389559),\n",
       " (1000, 0.719885277246654),\n",
       " (1050, 0.8998144712430427),\n",
       " (1100, 0.897302001740644),\n",
       " (1150, 0.8974789915966387),\n",
       " (1200, 0.8856),\n",
       " (1250, 0.8315132605304212),\n",
       " (1300, 0.8815406976744186),\n",
       " (1350, 0.8959660297239915),\n",
       " (1400, 0.913588850174216),\n",
       " (1450, 0.8706270627062707),\n",
       " (1500, 0.9189889825016202),\n",
       " (1550, 0.9024390243902439),\n",
       " (1600, 0.8948004836759371),\n",
       " (1650, 0.9161816065192084),\n",
       " (1700, 0.8661064425770308),\n",
       " (1750, 0.8735440931780366),\n",
       " (1800, 0.9135338345864662),\n",
       " (1850, 0.8364485981308412),\n",
       " (1900, 0.778117048346056),\n",
       " (1950, 0.9179920477137177),\n",
       " (2050, 0.8490566037735849),\n",
       " (2000, 0.9200779727095516),\n",
       " (2100, 0.9082526509912402),\n",
       " (2150, 0.9119382660009079),\n",
       " (2250, 0.8471746575342466),\n",
       " (2200, 0.7198782079164854),\n",
       " (2300, 0.911665257819104),\n",
       " (2350, 0.8930635838150289),\n",
       " (2400, 0.8618049959709911),\n",
       " (2450, 0.8891944990176818),\n",
       " (2500, 0.8177263969171483)]"
      ]
     },
     "execution_count": 106,
     "metadata": {},
     "output_type": "execute_result"
    }
   ],
   "source": [
    "r10_identities"
   ]
  },
  {
   "cell_type": "code",
   "execution_count": null,
   "id": "4e6d310a-7382-4193-872d-e449b3130cdb",
   "metadata": {},
   "outputs": [],
   "source": []
  }
 ],
 "metadata": {
  "kernelspec": {
   "display_name": "Python 3 (ipykernel)",
   "language": "python",
   "name": "python3"
  },
  "language_info": {
   "codemirror_mode": {
    "name": "ipython",
    "version": 3
   },
   "file_extension": ".py",
   "mimetype": "text/x-python",
   "name": "python",
   "nbconvert_exporter": "python",
   "pygments_lexer": "ipython3",
   "version": "3.11.0"
  }
 },
 "nbformat": 4,
 "nbformat_minor": 5
}
