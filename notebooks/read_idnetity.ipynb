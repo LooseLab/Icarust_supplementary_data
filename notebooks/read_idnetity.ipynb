{
 "cells": [
  {
   "cell_type": "markdown",
   "id": "d19420b4-0005-4113-9c2b-8ac2f91a30c4",
   "metadata": {},
   "source": [
    "## Visualise read identity against truth\n"
   ]
  },
  {
   "cell_type": "markdown",
   "id": "0aec37f3-72ba-4d00-90ff-5c3cdfcef03e",
   "metadata": {},
   "source": [
    "### Workflow\n",
    "1. Generate 50 reads of 100bp in 50bp increments, using `generate_reads.ipynb`\n",
    "1. Create R9 squiggle and R10 squiggle for each read\n",
    "1. Basecall that with I guess the latest dorado at this point\n",
    "1. Map them back to the reference to confirm the accuracy of the mapping\n",
    "1. Map them back to the original read to calculate identity."
   ]
  },
  {
   "cell_type": "code",
   "execution_count": 6,
   "id": "a8871a16-7927-474f-a562-cc51556b715e",
   "metadata": {},
   "outputs": [
    {
     "ename": "ModuleNotFoundError",
     "evalue": "No module named 'pyguppy_client_lib'",
     "output_type": "error",
     "traceback": [
      "\u001b[0;31m---------------------------------------------------------------------------\u001b[0m",
      "\u001b[0;31mModuleNotFoundError\u001b[0m                       Traceback (most recent call last)",
      "Input \u001b[0;32mIn [6]\u001b[0m, in \u001b[0;36m<cell line: 7>\u001b[0;34m()\u001b[0m\n\u001b[1;32m      5\u001b[0m \u001b[38;5;28;01mfrom\u001b[39;00m \u001b[38;5;21;01mmake_squiggle\u001b[39;00m \u001b[38;5;28;01mimport\u001b[39;00m get_sequence, progress_bar_setup\n\u001b[1;32m      6\u001b[0m \u001b[38;5;28;01mfrom\u001b[39;00m \u001b[38;5;21;01mpyfastx\u001b[39;00m \u001b[38;5;28;01mimport\u001b[39;00m Fasta\n\u001b[0;32m----> 7\u001b[0m \u001b[38;5;28;01mfrom\u001b[39;00m \u001b[38;5;21;01mpyguppy_client_lib\u001b[39;00m \u001b[38;5;28;01mimport\u001b[39;00m helper_functions\n\u001b[1;32m      8\u001b[0m \u001b[38;5;28;01mfrom\u001b[39;00m \u001b[38;5;21;01mpyguppy_client_lib\u001b[39;00m\u001b[38;5;21;01m.\u001b[39;00m\u001b[38;5;21;01mpyclient\u001b[39;00m \u001b[38;5;28;01mimport\u001b[39;00m PyGuppyClient\n\u001b[1;32m     10\u001b[0m TEST_FASTA \u001b[38;5;241m=\u001b[39m Path(\u001b[38;5;124m\"\u001b[39m\u001b[38;5;124m../fasta/identity_fasta.fasta\u001b[39m\u001b[38;5;124m\"\u001b[39m)\n",
      "\u001b[0;31mModuleNotFoundError\u001b[0m: No module named 'pyguppy_client_lib'"
     ]
    }
   ],
   "source": [
    "import random\n",
    "from contextlib import contextmanager, redirect_stdout\n",
    "from pathlib import Path\n",
    "\n",
    "from make_squiggle import get_sequence, progress_bar_setup\n",
    "from pyfastx import Fasta\n",
    "from pyguppy_client_lib import helper_functions\n",
    "from pyguppy_client_lib.pyclient import PyGuppyClient\n",
    "\n",
    "TEST_FASTA = Path(\"../fasta/identity_fasta.fasta\")\n",
    "R9_OUTDIR = Path(\"r9_squiggle\")"
   ]
  },
  {
   "cell_type": "code",
   "execution_count": 2,
   "id": "8317cf60-2ff5-47a7-bbbc-f2bf421d7930",
   "metadata": {},
   "outputs": [
    {
     "name": "stdout",
     "output_type": "stream",
     "text": [
      "test file already exists\n"
     ]
    }
   ],
   "source": [
    "# Generate reads\n",
    "fa = Fasta(\n",
    "    \"../fasta/hg38_no_alts.part_NC_000020.11 Homo sapiens chromosome 20, GRCh38.p14 Primary Assembly.fa.gz\"\n",
    ")\n",
    "random.seed(1)\n",
    "# Generate 10 incrementally long reads 500 bases at a time\n",
    "read_length_inc = 50\n",
    "reads = []\n",
    "for i in range(1, 51):\n",
    "    read_length = read_length_inc * i\n",
    "    read_start = random.randint(0, 1000000)\n",
    "    seq = fa[0][read_start : read_start + read_length]\n",
    "    reads.append(f\">test_read_{i}_{read_start}_{read_start+read_length}\\n{seq}\")\n",
    "test_fasta = \"\\n\".join(reads)\n",
    "try:\n",
    "    with open(TEST_FASTA, \"x\") as fh:\n",
    "        fh.write(test_fasta)\n",
    "except FileExistsError:\n",
    "    print(\"test file already exists\")"
   ]
  },
  {
   "cell_type": "markdown",
   "id": "8c9b2f06-7a56-4332-810c-d1803aa72d6b",
   "metadata": {},
   "source": [
    "### helpers for base calling"
   ]
  },
  {
   "cell_type": "code",
   "execution_count": 5,
   "id": "e9f5ea83-8955-40ae-98ee-855075d1d4a7",
   "metadata": {},
   "outputs": [
    {
     "ename": "NameError",
     "evalue": "name 'contextmanager' is not defined",
     "output_type": "error",
     "traceback": [
      "\u001b[0;31m---------------------------------------------------------------------------\u001b[0m",
      "\u001b[0;31mNameError\u001b[0m                                 Traceback (most recent call last)",
      "Input \u001b[0;32mIn [5]\u001b[0m, in \u001b[0;36m<cell line: 1>\u001b[0;34m()\u001b[0m\n\u001b[0;32m----> 1\u001b[0m \u001b[38;5;129m@contextmanager\u001b[39m\n\u001b[1;32m      2\u001b[0m \u001b[38;5;28;01mdef\u001b[39;00m \u001b[38;5;21mstart_guppy_server_and_client\u001b[39m(bin_path, config, port, server_args):\n\u001b[1;32m      3\u001b[0m     server_args\u001b[38;5;241m.\u001b[39mextend(\n\u001b[1;32m      4\u001b[0m         [\u001b[38;5;124m\"\u001b[39m\u001b[38;5;124m--config\u001b[39m\u001b[38;5;124m\"\u001b[39m, config, \u001b[38;5;124m\"\u001b[39m\u001b[38;5;124m--port\u001b[39m\u001b[38;5;124m\"\u001b[39m, port, \u001b[38;5;124m\"\u001b[39m\u001b[38;5;124m--log_path\u001b[39m\u001b[38;5;124m\"\u001b[39m, \u001b[38;5;28mstr\u001b[39m((Path(\u001b[38;5;124m\"\u001b[39m\u001b[38;5;124m.\u001b[39m\u001b[38;5;124m\"\u001b[39m) \u001b[38;5;241m/\u001b[39m \u001b[38;5;124m\"\u001b[39m\u001b[38;5;124mjunk\u001b[39m\u001b[38;5;124m\"\u001b[39m))]\n\u001b[1;32m      5\u001b[0m     )\n\u001b[1;32m      6\u001b[0m     \u001b[38;5;66;03m# This function has it's own prints that may want to be suppressed\u001b[39;00m\n",
      "\u001b[0;31mNameError\u001b[0m: name 'contextmanager' is not defined"
     ]
    }
   ],
   "source": [
    "@contextmanager\n",
    "def start_guppy_server_and_client(bin_path, config, port, server_args):\n",
    "    server_args.extend(\n",
    "        [\"--config\", config, \"--port\", port, \"--log_path\", str((Path(\".\") / \"junk\"))]\n",
    "    )\n",
    "    # This function has it's own prints that may want to be suppressed\n",
    "    with redirect_stdout(StringIO()) as fh:\n",
    "        server, port = helper_functions.run_server(server_args, bin_path=bin_path)\n",
    "\n",
    "    if port == \"ERROR\":\n",
    "        raise RuntimeError(\"Server couldn't be started\")\n",
    "\n",
    "    if port.startswith(\"ipc\"):\n",
    "        address = f\"{port}\"\n",
    "    else:\n",
    "        address = f\"localhost:{port}\"\n",
    "    client = PyGuppyClient(address=address, config=config)\n",
    "\n",
    "    try:\n",
    "        with client:\n",
    "            yield client\n",
    "    finally:\n",
    "        server.terminate()"
   ]
  },
  {
   "cell_type": "code",
   "execution_count": null,
   "id": "5d495c7e-617f-46da-815b-db8285f52fbb",
   "metadata": {},
   "outputs": [],
   "source": []
  },
  {
   "cell_type": "markdown",
   "id": "2698e995-90b0-483f-963d-beec2fe49874",
   "metadata": {},
   "source": [
    "### Create R9 squiggle"
   ]
  },
  {
   "cell_type": "code",
   "execution_count": 4,
   "id": "6be74d78-caa8-4d93-bfb0-3c0170369a65",
   "metadata": {
    "collapsed": true,
    "jupyter": {
     "outputs_hidden": true
    },
    "tags": []
   },
   "outputs": [
    {
     "data": {
      "text/html": [
       "<pre style=\"white-space:pre;overflow-x:auto;line-height:normal;font-family:Menlo,'DejaVu Sans Mono',consolas,'Courier New',monospace\"><span style=\"color: #7fbfbf; text-decoration-color: #7fbfbf\">[12/11/23 13:14:02] </span><span style=\"color: #000080; text-decoration-color: #000080\">INFO    </span> Generating squiggle for test_read_1_140891_140941                 <a href=\"file:///data/projects/rory_says_hi/Icarust_supplementary_data/notebooks/make_squiggle.py\" target=\"_blank\"><span style=\"color: #7f7f7f; text-decoration-color: #7f7f7f\">make_squiggle.py</span></a><span style=\"color: #7f7f7f; text-decoration-color: #7f7f7f\">:</span><a href=\"file:///data/projects/rory_says_hi/Icarust_supplementary_data/notebooks/make_squiggle.py#120\" target=\"_blank\"><span style=\"color: #7f7f7f; text-decoration-color: #7f7f7f\">120</span></a>\n",
       "</pre>\n"
      ],
      "text/plain": [
       "\u001b[2;36m[12/11/23 13:14:02]\u001b[0m\u001b[2;36m \u001b[0m\u001b[34mINFO    \u001b[0m Generating squiggle for test_read_1_140891_140941                 \u001b]8;id=22533;file:///data/projects/rory_says_hi/Icarust_supplementary_data/notebooks/make_squiggle.py\u001b\\\u001b[2mmake_squiggle.py\u001b[0m\u001b]8;;\u001b\\\u001b[2m:\u001b[0m\u001b]8;id=436396;file:///data/projects/rory_says_hi/Icarust_supplementary_data/notebooks/make_squiggle.py#120\u001b\\\u001b[2m120\u001b[0m\u001b]8;;\u001b\\\n"
      ]
     },
     "metadata": {},
     "output_type": "display_data"
    },
    {
     "data": {
      "text/html": [
       "<pre style=\"white-space:pre;overflow-x:auto;line-height:normal;font-family:Menlo,'DejaVu Sans Mono',consolas,'Courier New',monospace\"><span style=\"color: #7fbfbf; text-decoration-color: #7fbfbf\">                    </span><span style=\"color: #000080; text-decoration-color: #000080\">INFO    </span> Invalid characters found in sequence of                           <a href=\"file:///data/projects/rory_says_hi/Icarust_supplementary_data/notebooks/make_squiggle.py\" target=\"_blank\"><span style=\"color: #7f7f7f; text-decoration-color: #7f7f7f\">make_squiggle.py</span></a><span style=\"color: #7f7f7f; text-decoration-color: #7f7f7f\">:</span><a href=\"file:///data/projects/rory_says_hi/Icarust_supplementary_data/notebooks/make_squiggle.py#122\" target=\"_blank\"><span style=\"color: #7f7f7f; text-decoration-color: #7f7f7f\">122</span></a>\n",
       "<span style=\"color: #7fbfbf; text-decoration-color: #7fbfbf\">                    </span>         test_read_1_140891_140941, removing them                          <span style=\"color: #7f7f7f; text-decoration-color: #7f7f7f\">                    </span>\n",
       "</pre>\n"
      ],
      "text/plain": [
       "\u001b[2;36m                   \u001b[0m\u001b[2;36m \u001b[0m\u001b[34mINFO    \u001b[0m Invalid characters found in sequence of                           \u001b]8;id=673494;file:///data/projects/rory_says_hi/Icarust_supplementary_data/notebooks/make_squiggle.py\u001b\\\u001b[2mmake_squiggle.py\u001b[0m\u001b]8;;\u001b\\\u001b[2m:\u001b[0m\u001b]8;id=104857;file:///data/projects/rory_says_hi/Icarust_supplementary_data/notebooks/make_squiggle.py#122\u001b\\\u001b[2m122\u001b[0m\u001b]8;;\u001b\\\n",
       "\u001b[2;36m                    \u001b[0m         test_read_1_140891_140941, removing them                          \u001b[2m                    \u001b[0m\n"
      ]
     },
     "metadata": {},
     "output_type": "display_data"
    },
    {
     "data": {
      "text/html": [
       "<pre style=\"white-space:pre;overflow-x:auto;line-height:normal;font-family:Menlo,'DejaVu Sans Mono',consolas,'Courier New',monospace\"><span style=\"color: #7fbfbf; text-decoration-color: #7fbfbf\">                    </span><span style=\"color: #000080; text-decoration-color: #000080\">INFO    </span> Generating squiggle for test_read_2_596853_596953                 <a href=\"file:///data/projects/rory_says_hi/Icarust_supplementary_data/notebooks/make_squiggle.py\" target=\"_blank\"><span style=\"color: #7f7f7f; text-decoration-color: #7f7f7f\">make_squiggle.py</span></a><span style=\"color: #7f7f7f; text-decoration-color: #7f7f7f\">:</span><a href=\"file:///data/projects/rory_says_hi/Icarust_supplementary_data/notebooks/make_squiggle.py#120\" target=\"_blank\"><span style=\"color: #7f7f7f; text-decoration-color: #7f7f7f\">120</span></a>\n",
       "</pre>\n"
      ],
      "text/plain": [
       "\u001b[2;36m                   \u001b[0m\u001b[2;36m \u001b[0m\u001b[34mINFO    \u001b[0m Generating squiggle for test_read_2_596853_596953                 \u001b]8;id=310787;file:///data/projects/rory_says_hi/Icarust_supplementary_data/notebooks/make_squiggle.py\u001b\\\u001b[2mmake_squiggle.py\u001b[0m\u001b]8;;\u001b\\\u001b[2m:\u001b[0m\u001b]8;id=126762;file:///data/projects/rory_says_hi/Icarust_supplementary_data/notebooks/make_squiggle.py#120\u001b\\\u001b[2m120\u001b[0m\u001b]8;;\u001b\\\n"
      ]
     },
     "metadata": {},
     "output_type": "display_data"
    },
    {
     "data": {
      "text/html": [
       "<pre style=\"white-space:pre;overflow-x:auto;line-height:normal;font-family:Menlo,'DejaVu Sans Mono',consolas,'Courier New',monospace\"><span style=\"color: #7fbfbf; text-decoration-color: #7fbfbf\">                    </span><span style=\"color: #000080; text-decoration-color: #000080\">INFO    </span> Generating squiggle for test_read_3_888598_888748                 <a href=\"file:///data/projects/rory_says_hi/Icarust_supplementary_data/notebooks/make_squiggle.py\" target=\"_blank\"><span style=\"color: #7f7f7f; text-decoration-color: #7f7f7f\">make_squiggle.py</span></a><span style=\"color: #7f7f7f; text-decoration-color: #7f7f7f\">:</span><a href=\"file:///data/projects/rory_says_hi/Icarust_supplementary_data/notebooks/make_squiggle.py#120\" target=\"_blank\"><span style=\"color: #7f7f7f; text-decoration-color: #7f7f7f\">120</span></a>\n",
       "</pre>\n"
      ],
      "text/plain": [
       "\u001b[2;36m                   \u001b[0m\u001b[2;36m \u001b[0m\u001b[34mINFO    \u001b[0m Generating squiggle for test_read_3_888598_888748                 \u001b]8;id=745738;file:///data/projects/rory_says_hi/Icarust_supplementary_data/notebooks/make_squiggle.py\u001b\\\u001b[2mmake_squiggle.py\u001b[0m\u001b]8;;\u001b\\\u001b[2m:\u001b[0m\u001b]8;id=525126;file:///data/projects/rory_says_hi/Icarust_supplementary_data/notebooks/make_squiggle.py#120\u001b\\\u001b[2m120\u001b[0m\u001b]8;;\u001b\\\n"
      ]
     },
     "metadata": {},
     "output_type": "display_data"
    },
    {
     "data": {
      "text/html": [
       "<pre style=\"white-space:pre;overflow-x:auto;line-height:normal;font-family:Menlo,'DejaVu Sans Mono',consolas,'Courier New',monospace\"><span style=\"color: #7fbfbf; text-decoration-color: #7fbfbf\">                    </span><span style=\"color: #000080; text-decoration-color: #000080\">INFO    </span> Generating squiggle for test_read_4_841235_841435                 <a href=\"file:///data/projects/rory_says_hi/Icarust_supplementary_data/notebooks/make_squiggle.py\" target=\"_blank\"><span style=\"color: #7f7f7f; text-decoration-color: #7f7f7f\">make_squiggle.py</span></a><span style=\"color: #7f7f7f; text-decoration-color: #7f7f7f\">:</span><a href=\"file:///data/projects/rory_says_hi/Icarust_supplementary_data/notebooks/make_squiggle.py#120\" target=\"_blank\"><span style=\"color: #7f7f7f; text-decoration-color: #7f7f7f\">120</span></a>\n",
       "</pre>\n"
      ],
      "text/plain": [
       "\u001b[2;36m                   \u001b[0m\u001b[2;36m \u001b[0m\u001b[34mINFO    \u001b[0m Generating squiggle for test_read_4_841235_841435                 \u001b]8;id=954398;file:///data/projects/rory_says_hi/Icarust_supplementary_data/notebooks/make_squiggle.py\u001b\\\u001b[2mmake_squiggle.py\u001b[0m\u001b]8;;\u001b\\\u001b[2m:\u001b[0m\u001b]8;id=702866;file:///data/projects/rory_says_hi/Icarust_supplementary_data/notebooks/make_squiggle.py#120\u001b\\\u001b[2m120\u001b[0m\u001b]8;;\u001b\\\n"
      ]
     },
     "metadata": {},
     "output_type": "display_data"
    },
    {
     "data": {
      "text/html": [
       "<pre style=\"white-space:pre;overflow-x:auto;line-height:normal;font-family:Menlo,'DejaVu Sans Mono',consolas,'Courier New',monospace\"><span style=\"color: #7fbfbf; text-decoration-color: #7fbfbf\">                    </span><span style=\"color: #000080; text-decoration-color: #000080\">INFO    </span> Generating squiggle for test_read_5_800875_801125                 <a href=\"file:///data/projects/rory_says_hi/Icarust_supplementary_data/notebooks/make_squiggle.py\" target=\"_blank\"><span style=\"color: #7f7f7f; text-decoration-color: #7f7f7f\">make_squiggle.py</span></a><span style=\"color: #7f7f7f; text-decoration-color: #7f7f7f\">:</span><a href=\"file:///data/projects/rory_says_hi/Icarust_supplementary_data/notebooks/make_squiggle.py#120\" target=\"_blank\"><span style=\"color: #7f7f7f; text-decoration-color: #7f7f7f\">120</span></a>\n",
       "</pre>\n"
      ],
      "text/plain": [
       "\u001b[2;36m                   \u001b[0m\u001b[2;36m \u001b[0m\u001b[34mINFO    \u001b[0m Generating squiggle for test_read_5_800875_801125                 \u001b]8;id=925346;file:///data/projects/rory_says_hi/Icarust_supplementary_data/notebooks/make_squiggle.py\u001b\\\u001b[2mmake_squiggle.py\u001b[0m\u001b]8;;\u001b\\\u001b[2m:\u001b[0m\u001b]8;id=523619;file:///data/projects/rory_says_hi/Icarust_supplementary_data/notebooks/make_squiggle.py#120\u001b\\\u001b[2m120\u001b[0m\u001b]8;;\u001b\\\n"
      ]
     },
     "metadata": {},
     "output_type": "display_data"
    },
    {
     "data": {
      "text/html": [
       "<pre style=\"white-space:pre;overflow-x:auto;line-height:normal;font-family:Menlo,'DejaVu Sans Mono',consolas,'Courier New',monospace\"><span style=\"color: #7fbfbf; text-decoration-color: #7fbfbf\">                    </span><span style=\"color: #000080; text-decoration-color: #000080\">INFO    </span> Invalid characters found in sequence of                           <a href=\"file:///data/projects/rory_says_hi/Icarust_supplementary_data/notebooks/make_squiggle.py\" target=\"_blank\"><span style=\"color: #7f7f7f; text-decoration-color: #7f7f7f\">make_squiggle.py</span></a><span style=\"color: #7f7f7f; text-decoration-color: #7f7f7f\">:</span><a href=\"file:///data/projects/rory_says_hi/Icarust_supplementary_data/notebooks/make_squiggle.py#122\" target=\"_blank\"><span style=\"color: #7f7f7f; text-decoration-color: #7f7f7f\">122</span></a>\n",
       "<span style=\"color: #7fbfbf; text-decoration-color: #7fbfbf\">                    </span>         test_read_5_800875_801125, removing them                          <span style=\"color: #7f7f7f; text-decoration-color: #7f7f7f\">                    </span>\n",
       "</pre>\n"
      ],
      "text/plain": [
       "\u001b[2;36m                   \u001b[0m\u001b[2;36m \u001b[0m\u001b[34mINFO    \u001b[0m Invalid characters found in sequence of                           \u001b]8;id=617613;file:///data/projects/rory_says_hi/Icarust_supplementary_data/notebooks/make_squiggle.py\u001b\\\u001b[2mmake_squiggle.py\u001b[0m\u001b]8;;\u001b\\\u001b[2m:\u001b[0m\u001b]8;id=894737;file:///data/projects/rory_says_hi/Icarust_supplementary_data/notebooks/make_squiggle.py#122\u001b\\\u001b[2m122\u001b[0m\u001b]8;;\u001b\\\n",
       "\u001b[2;36m                    \u001b[0m         test_read_5_800875_801125, removing them                          \u001b[2m                    \u001b[0m\n"
      ]
     },
     "metadata": {},
     "output_type": "display_data"
    },
    {
     "data": {
      "text/html": [
       "<pre style=\"white-space:pre;overflow-x:auto;line-height:normal;font-family:Menlo,'DejaVu Sans Mono',consolas,'Courier New',monospace\"><span style=\"color: #7fbfbf; text-decoration-color: #7fbfbf\">                    </span><span style=\"color: #000080; text-decoration-color: #000080\">INFO    </span> Generating squiggle for test_read_6_66172_66472                   <a href=\"file:///data/projects/rory_says_hi/Icarust_supplementary_data/notebooks/make_squiggle.py\" target=\"_blank\"><span style=\"color: #7f7f7f; text-decoration-color: #7f7f7f\">make_squiggle.py</span></a><span style=\"color: #7f7f7f; text-decoration-color: #7f7f7f\">:</span><a href=\"file:///data/projects/rory_says_hi/Icarust_supplementary_data/notebooks/make_squiggle.py#120\" target=\"_blank\"><span style=\"color: #7f7f7f; text-decoration-color: #7f7f7f\">120</span></a>\n",
       "</pre>\n"
      ],
      "text/plain": [
       "\u001b[2;36m                   \u001b[0m\u001b[2;36m \u001b[0m\u001b[34mINFO    \u001b[0m Generating squiggle for test_read_6_66172_66472                   \u001b]8;id=836138;file:///data/projects/rory_says_hi/Icarust_supplementary_data/notebooks/make_squiggle.py\u001b\\\u001b[2mmake_squiggle.py\u001b[0m\u001b]8;;\u001b\\\u001b[2m:\u001b[0m\u001b]8;id=423926;file:///data/projects/rory_says_hi/Icarust_supplementary_data/notebooks/make_squiggle.py#120\u001b\\\u001b[2m120\u001b[0m\u001b]8;;\u001b\\\n"
      ]
     },
     "metadata": {},
     "output_type": "display_data"
    },
    {
     "data": {
      "text/html": [
       "<pre style=\"white-space:pre;overflow-x:auto;line-height:normal;font-family:Menlo,'DejaVu Sans Mono',consolas,'Courier New',monospace\"><span style=\"color: #7fbfbf; text-decoration-color: #7fbfbf\">                    </span><span style=\"color: #000080; text-decoration-color: #000080\">INFO    </span> Invalid characters found in sequence of test_read_6_66172_66472,  <a href=\"file:///data/projects/rory_says_hi/Icarust_supplementary_data/notebooks/make_squiggle.py\" target=\"_blank\"><span style=\"color: #7f7f7f; text-decoration-color: #7f7f7f\">make_squiggle.py</span></a><span style=\"color: #7f7f7f; text-decoration-color: #7f7f7f\">:</span><a href=\"file:///data/projects/rory_says_hi/Icarust_supplementary_data/notebooks/make_squiggle.py#122\" target=\"_blank\"><span style=\"color: #7f7f7f; text-decoration-color: #7f7f7f\">122</span></a>\n",
       "<span style=\"color: #7fbfbf; text-decoration-color: #7fbfbf\">                    </span>         removing them                                                     <span style=\"color: #7f7f7f; text-decoration-color: #7f7f7f\">                    </span>\n",
       "</pre>\n"
      ],
      "text/plain": [
       "\u001b[2;36m                   \u001b[0m\u001b[2;36m \u001b[0m\u001b[34mINFO    \u001b[0m Invalid characters found in sequence of test_read_6_66172_66472,  \u001b]8;id=575457;file:///data/projects/rory_says_hi/Icarust_supplementary_data/notebooks/make_squiggle.py\u001b\\\u001b[2mmake_squiggle.py\u001b[0m\u001b]8;;\u001b\\\u001b[2m:\u001b[0m\u001b]8;id=925611;file:///data/projects/rory_says_hi/Icarust_supplementary_data/notebooks/make_squiggle.py#122\u001b\\\u001b[2m122\u001b[0m\u001b]8;;\u001b\\\n",
       "\u001b[2;36m                    \u001b[0m         removing them                                                     \u001b[2m                    \u001b[0m\n"
      ]
     },
     "metadata": {},
     "output_type": "display_data"
    },
    {
     "data": {
      "text/html": [
       "<pre style=\"white-space:pre;overflow-x:auto;line-height:normal;font-family:Menlo,'DejaVu Sans Mono',consolas,'Courier New',monospace\"><span style=\"color: #7fbfbf; text-decoration-color: #7fbfbf\">                    </span><span style=\"color: #000080; text-decoration-color: #000080\">INFO    </span> Generating squiggle for test_read_7_267459_267809                 <a href=\"file:///data/projects/rory_says_hi/Icarust_supplementary_data/notebooks/make_squiggle.py\" target=\"_blank\"><span style=\"color: #7f7f7f; text-decoration-color: #7f7f7f\">make_squiggle.py</span></a><span style=\"color: #7f7f7f; text-decoration-color: #7f7f7f\">:</span><a href=\"file:///data/projects/rory_says_hi/Icarust_supplementary_data/notebooks/make_squiggle.py#120\" target=\"_blank\"><span style=\"color: #7f7f7f; text-decoration-color: #7f7f7f\">120</span></a>\n",
       "</pre>\n"
      ],
      "text/plain": [
       "\u001b[2;36m                   \u001b[0m\u001b[2;36m \u001b[0m\u001b[34mINFO    \u001b[0m Generating squiggle for test_read_7_267459_267809                 \u001b]8;id=392904;file:///data/projects/rory_says_hi/Icarust_supplementary_data/notebooks/make_squiggle.py\u001b\\\u001b[2mmake_squiggle.py\u001b[0m\u001b]8;;\u001b\\\u001b[2m:\u001b[0m\u001b]8;id=90667;file:///data/projects/rory_says_hi/Icarust_supplementary_data/notebooks/make_squiggle.py#120\u001b\\\u001b[2m120\u001b[0m\u001b]8;;\u001b\\\n"
      ]
     },
     "metadata": {},
     "output_type": "display_data"
    },
    {
     "data": {
      "text/html": [
       "<pre style=\"white-space:pre;overflow-x:auto;line-height:normal;font-family:Menlo,'DejaVu Sans Mono',consolas,'Courier New',monospace\"><span style=\"color: #7fbfbf; text-decoration-color: #7fbfbf\">                    </span><span style=\"color: #000080; text-decoration-color: #000080\">INFO    </span> Invalid characters found in sequence of                           <a href=\"file:///data/projects/rory_says_hi/Icarust_supplementary_data/notebooks/make_squiggle.py\" target=\"_blank\"><span style=\"color: #7f7f7f; text-decoration-color: #7f7f7f\">make_squiggle.py</span></a><span style=\"color: #7f7f7f; text-decoration-color: #7f7f7f\">:</span><a href=\"file:///data/projects/rory_says_hi/Icarust_supplementary_data/notebooks/make_squiggle.py#122\" target=\"_blank\"><span style=\"color: #7f7f7f; text-decoration-color: #7f7f7f\">122</span></a>\n",
       "<span style=\"color: #7fbfbf; text-decoration-color: #7fbfbf\">                    </span>         test_read_7_267459_267809, removing them                          <span style=\"color: #7f7f7f; text-decoration-color: #7f7f7f\">                    </span>\n",
       "</pre>\n"
      ],
      "text/plain": [
       "\u001b[2;36m                   \u001b[0m\u001b[2;36m \u001b[0m\u001b[34mINFO    \u001b[0m Invalid characters found in sequence of                           \u001b]8;id=816256;file:///data/projects/rory_says_hi/Icarust_supplementary_data/notebooks/make_squiggle.py\u001b\\\u001b[2mmake_squiggle.py\u001b[0m\u001b]8;;\u001b\\\u001b[2m:\u001b[0m\u001b]8;id=171650;file:///data/projects/rory_says_hi/Icarust_supplementary_data/notebooks/make_squiggle.py#122\u001b\\\u001b[2m122\u001b[0m\u001b]8;;\u001b\\\n",
       "\u001b[2;36m                    \u001b[0m         test_read_7_267459_267809, removing them                          \u001b[2m                    \u001b[0m\n"
      ]
     },
     "metadata": {},
     "output_type": "display_data"
    },
    {
     "data": {
      "text/html": [
       "<pre style=\"white-space:pre;overflow-x:auto;line-height:normal;font-family:Menlo,'DejaVu Sans Mono',consolas,'Courier New',monospace\"><span style=\"color: #7fbfbf; text-decoration-color: #7fbfbf\">                    </span><span style=\"color: #000080; text-decoration-color: #000080\">INFO    </span> Generating squiggle for test_read_8_123646_124046                 <a href=\"file:///data/projects/rory_says_hi/Icarust_supplementary_data/notebooks/make_squiggle.py\" target=\"_blank\"><span style=\"color: #7f7f7f; text-decoration-color: #7f7f7f\">make_squiggle.py</span></a><span style=\"color: #7f7f7f; text-decoration-color: #7f7f7f\">:</span><a href=\"file:///data/projects/rory_says_hi/Icarust_supplementary_data/notebooks/make_squiggle.py#120\" target=\"_blank\"><span style=\"color: #7f7f7f; text-decoration-color: #7f7f7f\">120</span></a>\n",
       "</pre>\n"
      ],
      "text/plain": [
       "\u001b[2;36m                   \u001b[0m\u001b[2;36m \u001b[0m\u001b[34mINFO    \u001b[0m Generating squiggle for test_read_8_123646_124046                 \u001b]8;id=513480;file:///data/projects/rory_says_hi/Icarust_supplementary_data/notebooks/make_squiggle.py\u001b\\\u001b[2mmake_squiggle.py\u001b[0m\u001b]8;;\u001b\\\u001b[2m:\u001b[0m\u001b]8;id=768360;file:///data/projects/rory_says_hi/Icarust_supplementary_data/notebooks/make_squiggle.py#120\u001b\\\u001b[2m120\u001b[0m\u001b]8;;\u001b\\\n"
      ]
     },
     "metadata": {},
     "output_type": "display_data"
    },
    {
     "data": {
      "text/html": [
       "<pre style=\"white-space:pre;overflow-x:auto;line-height:normal;font-family:Menlo,'DejaVu Sans Mono',consolas,'Courier New',monospace\"><span style=\"color: #7fbfbf; text-decoration-color: #7fbfbf\">                    </span><span style=\"color: #000080; text-decoration-color: #000080\">INFO    </span> Invalid characters found in sequence of                           <a href=\"file:///data/projects/rory_says_hi/Icarust_supplementary_data/notebooks/make_squiggle.py\" target=\"_blank\"><span style=\"color: #7f7f7f; text-decoration-color: #7f7f7f\">make_squiggle.py</span></a><span style=\"color: #7f7f7f; text-decoration-color: #7f7f7f\">:</span><a href=\"file:///data/projects/rory_says_hi/Icarust_supplementary_data/notebooks/make_squiggle.py#122\" target=\"_blank\"><span style=\"color: #7f7f7f; text-decoration-color: #7f7f7f\">122</span></a>\n",
       "<span style=\"color: #7fbfbf; text-decoration-color: #7fbfbf\">                    </span>         test_read_8_123646_124046, removing them                          <span style=\"color: #7f7f7f; text-decoration-color: #7f7f7f\">                    </span>\n",
       "</pre>\n"
      ],
      "text/plain": [
       "\u001b[2;36m                   \u001b[0m\u001b[2;36m \u001b[0m\u001b[34mINFO    \u001b[0m Invalid characters found in sequence of                           \u001b]8;id=737549;file:///data/projects/rory_says_hi/Icarust_supplementary_data/notebooks/make_squiggle.py\u001b\\\u001b[2mmake_squiggle.py\u001b[0m\u001b]8;;\u001b\\\u001b[2m:\u001b[0m\u001b]8;id=889508;file:///data/projects/rory_says_hi/Icarust_supplementary_data/notebooks/make_squiggle.py#122\u001b\\\u001b[2m122\u001b[0m\u001b]8;;\u001b\\\n",
       "\u001b[2;36m                    \u001b[0m         test_read_8_123646_124046, removing them                          \u001b[2m                    \u001b[0m\n"
      ]
     },
     "metadata": {},
     "output_type": "display_data"
    },
    {
     "data": {
      "text/html": [
       "<pre style=\"white-space:pre;overflow-x:auto;line-height:normal;font-family:Menlo,'DejaVu Sans Mono',consolas,'Courier New',monospace\"><span style=\"color: #7fbfbf; text-decoration-color: #7fbfbf\">                    </span><span style=\"color: #000080; text-decoration-color: #000080\">INFO    </span> Generating squiggle for test_read_9_519501_519951                 <a href=\"file:///data/projects/rory_says_hi/Icarust_supplementary_data/notebooks/make_squiggle.py\" target=\"_blank\"><span style=\"color: #7f7f7f; text-decoration-color: #7f7f7f\">make_squiggle.py</span></a><span style=\"color: #7f7f7f; text-decoration-color: #7f7f7f\">:</span><a href=\"file:///data/projects/rory_says_hi/Icarust_supplementary_data/notebooks/make_squiggle.py#120\" target=\"_blank\"><span style=\"color: #7f7f7f; text-decoration-color: #7f7f7f\">120</span></a>\n",
       "</pre>\n"
      ],
      "text/plain": [
       "\u001b[2;36m                   \u001b[0m\u001b[2;36m \u001b[0m\u001b[34mINFO    \u001b[0m Generating squiggle for test_read_9_519501_519951                 \u001b]8;id=678592;file:///data/projects/rory_says_hi/Icarust_supplementary_data/notebooks/make_squiggle.py\u001b\\\u001b[2mmake_squiggle.py\u001b[0m\u001b]8;;\u001b\\\u001b[2m:\u001b[0m\u001b]8;id=178624;file:///data/projects/rory_says_hi/Icarust_supplementary_data/notebooks/make_squiggle.py#120\u001b\\\u001b[2m120\u001b[0m\u001b]8;;\u001b\\\n"
      ]
     },
     "metadata": {},
     "output_type": "display_data"
    },
    {
     "data": {
      "text/html": [
       "<pre style=\"white-space:pre;overflow-x:auto;line-height:normal;font-family:Menlo,'DejaVu Sans Mono',consolas,'Courier New',monospace\"><span style=\"color: #7fbfbf; text-decoration-color: #7fbfbf\">                    </span><span style=\"color: #000080; text-decoration-color: #000080\">INFO    </span> Invalid characters found in sequence of                           <a href=\"file:///data/projects/rory_says_hi/Icarust_supplementary_data/notebooks/make_squiggle.py\" target=\"_blank\"><span style=\"color: #7f7f7f; text-decoration-color: #7f7f7f\">make_squiggle.py</span></a><span style=\"color: #7f7f7f; text-decoration-color: #7f7f7f\">:</span><a href=\"file:///data/projects/rory_says_hi/Icarust_supplementary_data/notebooks/make_squiggle.py#122\" target=\"_blank\"><span style=\"color: #7f7f7f; text-decoration-color: #7f7f7f\">122</span></a>\n",
       "<span style=\"color: #7fbfbf; text-decoration-color: #7fbfbf\">                    </span>         test_read_9_519501_519951, removing them                          <span style=\"color: #7f7f7f; text-decoration-color: #7f7f7f\">                    </span>\n",
       "</pre>\n"
      ],
      "text/plain": [
       "\u001b[2;36m                   \u001b[0m\u001b[2;36m \u001b[0m\u001b[34mINFO    \u001b[0m Invalid characters found in sequence of                           \u001b]8;id=807952;file:///data/projects/rory_says_hi/Icarust_supplementary_data/notebooks/make_squiggle.py\u001b\\\u001b[2mmake_squiggle.py\u001b[0m\u001b]8;;\u001b\\\u001b[2m:\u001b[0m\u001b]8;id=209208;file:///data/projects/rory_says_hi/Icarust_supplementary_data/notebooks/make_squiggle.py#122\u001b\\\u001b[2m122\u001b[0m\u001b]8;;\u001b\\\n",
       "\u001b[2;36m                    \u001b[0m         test_read_9_519501_519951, removing them                          \u001b[2m                    \u001b[0m\n"
      ]
     },
     "metadata": {},
     "output_type": "display_data"
    },
    {
     "data": {
      "text/html": [
       "<pre style=\"white-space:pre;overflow-x:auto;line-height:normal;font-family:Menlo,'DejaVu Sans Mono',consolas,'Courier New',monospace\"><span style=\"color: #7fbfbf; text-decoration-color: #7fbfbf\">                    </span><span style=\"color: #000080; text-decoration-color: #000080\">INFO    </span> Generating squiggle for test_read_10_797926_798426                <a href=\"file:///data/projects/rory_says_hi/Icarust_supplementary_data/notebooks/make_squiggle.py\" target=\"_blank\"><span style=\"color: #7f7f7f; text-decoration-color: #7f7f7f\">make_squiggle.py</span></a><span style=\"color: #7f7f7f; text-decoration-color: #7f7f7f\">:</span><a href=\"file:///data/projects/rory_says_hi/Icarust_supplementary_data/notebooks/make_squiggle.py#120\" target=\"_blank\"><span style=\"color: #7f7f7f; text-decoration-color: #7f7f7f\">120</span></a>\n",
       "</pre>\n"
      ],
      "text/plain": [
       "\u001b[2;36m                   \u001b[0m\u001b[2;36m \u001b[0m\u001b[34mINFO    \u001b[0m Generating squiggle for test_read_10_797926_798426                \u001b]8;id=243454;file:///data/projects/rory_says_hi/Icarust_supplementary_data/notebooks/make_squiggle.py\u001b\\\u001b[2mmake_squiggle.py\u001b[0m\u001b]8;;\u001b\\\u001b[2m:\u001b[0m\u001b]8;id=424101;file:///data/projects/rory_says_hi/Icarust_supplementary_data/notebooks/make_squiggle.py#120\u001b\\\u001b[2m120\u001b[0m\u001b]8;;\u001b\\\n"
      ]
     },
     "metadata": {},
     "output_type": "display_data"
    },
    {
     "data": {
      "text/html": [
       "<pre style=\"white-space:pre;overflow-x:auto;line-height:normal;font-family:Menlo,'DejaVu Sans Mono',consolas,'Courier New',monospace\"><span style=\"color: #7fbfbf; text-decoration-color: #7fbfbf\">                    </span><span style=\"color: #000080; text-decoration-color: #000080\">INFO    </span> Invalid characters found in sequence of                           <a href=\"file:///data/projects/rory_says_hi/Icarust_supplementary_data/notebooks/make_squiggle.py\" target=\"_blank\"><span style=\"color: #7f7f7f; text-decoration-color: #7f7f7f\">make_squiggle.py</span></a><span style=\"color: #7f7f7f; text-decoration-color: #7f7f7f\">:</span><a href=\"file:///data/projects/rory_says_hi/Icarust_supplementary_data/notebooks/make_squiggle.py#122\" target=\"_blank\"><span style=\"color: #7f7f7f; text-decoration-color: #7f7f7f\">122</span></a>\n",
       "<span style=\"color: #7fbfbf; text-decoration-color: #7fbfbf\">                    </span>         test_read_10_797926_798426, removing them                         <span style=\"color: #7f7f7f; text-decoration-color: #7f7f7f\">                    </span>\n",
       "</pre>\n"
      ],
      "text/plain": [
       "\u001b[2;36m                   \u001b[0m\u001b[2;36m \u001b[0m\u001b[34mINFO    \u001b[0m Invalid characters found in sequence of                           \u001b]8;id=605861;file:///data/projects/rory_says_hi/Icarust_supplementary_data/notebooks/make_squiggle.py\u001b\\\u001b[2mmake_squiggle.py\u001b[0m\u001b]8;;\u001b\\\u001b[2m:\u001b[0m\u001b]8;id=370434;file:///data/projects/rory_says_hi/Icarust_supplementary_data/notebooks/make_squiggle.py#122\u001b\\\u001b[2m122\u001b[0m\u001b]8;;\u001b\\\n",
       "\u001b[2;36m                    \u001b[0m         test_read_10_797926_798426, removing them                         \u001b[2m                    \u001b[0m\n"
      ]
     },
     "metadata": {},
     "output_type": "display_data"
    },
    {
     "data": {
      "text/html": [
       "<pre style=\"white-space:pre;overflow-x:auto;line-height:normal;font-family:Menlo,'DejaVu Sans Mono',consolas,'Courier New',monospace\"><span style=\"color: #7fbfbf; text-decoration-color: #7fbfbf\">                    </span><span style=\"color: #000080; text-decoration-color: #000080\">INFO    </span> Generating squiggle for test_read_11_471325_471875                <a href=\"file:///data/projects/rory_says_hi/Icarust_supplementary_data/notebooks/make_squiggle.py\" target=\"_blank\"><span style=\"color: #7f7f7f; text-decoration-color: #7f7f7f\">make_squiggle.py</span></a><span style=\"color: #7f7f7f; text-decoration-color: #7f7f7f\">:</span><a href=\"file:///data/projects/rory_says_hi/Icarust_supplementary_data/notebooks/make_squiggle.py#120\" target=\"_blank\"><span style=\"color: #7f7f7f; text-decoration-color: #7f7f7f\">120</span></a>\n",
       "</pre>\n"
      ],
      "text/plain": [
       "\u001b[2;36m                   \u001b[0m\u001b[2;36m \u001b[0m\u001b[34mINFO    \u001b[0m Generating squiggle for test_read_11_471325_471875                \u001b]8;id=574615;file:///data/projects/rory_says_hi/Icarust_supplementary_data/notebooks/make_squiggle.py\u001b\\\u001b[2mmake_squiggle.py\u001b[0m\u001b]8;;\u001b\\\u001b[2m:\u001b[0m\u001b]8;id=638524;file:///data/projects/rory_says_hi/Icarust_supplementary_data/notebooks/make_squiggle.py#120\u001b\\\u001b[2m120\u001b[0m\u001b]8;;\u001b\\\n"
      ]
     },
     "metadata": {},
     "output_type": "display_data"
    },
    {
     "data": {
      "text/html": [
       "<pre style=\"white-space:pre;overflow-x:auto;line-height:normal;font-family:Menlo,'DejaVu Sans Mono',consolas,'Courier New',monospace\"><span style=\"color: #7fbfbf; text-decoration-color: #7fbfbf\">                    </span><span style=\"color: #000080; text-decoration-color: #000080\">INFO    </span> Invalid characters found in sequence of                           <a href=\"file:///data/projects/rory_says_hi/Icarust_supplementary_data/notebooks/make_squiggle.py\" target=\"_blank\"><span style=\"color: #7f7f7f; text-decoration-color: #7f7f7f\">make_squiggle.py</span></a><span style=\"color: #7f7f7f; text-decoration-color: #7f7f7f\">:</span><a href=\"file:///data/projects/rory_says_hi/Icarust_supplementary_data/notebooks/make_squiggle.py#122\" target=\"_blank\"><span style=\"color: #7f7f7f; text-decoration-color: #7f7f7f\">122</span></a>\n",
       "<span style=\"color: #7fbfbf; text-decoration-color: #7fbfbf\">                    </span>         test_read_11_471325_471875, removing them                         <span style=\"color: #7f7f7f; text-decoration-color: #7f7f7f\">                    </span>\n",
       "</pre>\n"
      ],
      "text/plain": [
       "\u001b[2;36m                   \u001b[0m\u001b[2;36m \u001b[0m\u001b[34mINFO    \u001b[0m Invalid characters found in sequence of                           \u001b]8;id=898576;file:///data/projects/rory_says_hi/Icarust_supplementary_data/notebooks/make_squiggle.py\u001b\\\u001b[2mmake_squiggle.py\u001b[0m\u001b]8;;\u001b\\\u001b[2m:\u001b[0m\u001b]8;id=860341;file:///data/projects/rory_says_hi/Icarust_supplementary_data/notebooks/make_squiggle.py#122\u001b\\\u001b[2m122\u001b[0m\u001b]8;;\u001b\\\n",
       "\u001b[2;36m                    \u001b[0m         test_read_11_471325_471875, removing them                         \u001b[2m                    \u001b[0m\n"
      ]
     },
     "metadata": {},
     "output_type": "display_data"
    },
    {
     "data": {
      "text/html": [
       "<pre style=\"white-space:pre;overflow-x:auto;line-height:normal;font-family:Menlo,'DejaVu Sans Mono',consolas,'Courier New',monospace\"><span style=\"color: #7fbfbf; text-decoration-color: #7fbfbf\">                    </span><span style=\"color: #000080; text-decoration-color: #000080\">INFO    </span> Generating squiggle for test_read_12_495185_495785                <a href=\"file:///data/projects/rory_says_hi/Icarust_supplementary_data/notebooks/make_squiggle.py\" target=\"_blank\"><span style=\"color: #7f7f7f; text-decoration-color: #7f7f7f\">make_squiggle.py</span></a><span style=\"color: #7f7f7f; text-decoration-color: #7f7f7f\">:</span><a href=\"file:///data/projects/rory_says_hi/Icarust_supplementary_data/notebooks/make_squiggle.py#120\" target=\"_blank\"><span style=\"color: #7f7f7f; text-decoration-color: #7f7f7f\">120</span></a>\n",
       "</pre>\n"
      ],
      "text/plain": [
       "\u001b[2;36m                   \u001b[0m\u001b[2;36m \u001b[0m\u001b[34mINFO    \u001b[0m Generating squiggle for test_read_12_495185_495785                \u001b]8;id=848444;file:///data/projects/rory_says_hi/Icarust_supplementary_data/notebooks/make_squiggle.py\u001b\\\u001b[2mmake_squiggle.py\u001b[0m\u001b]8;;\u001b\\\u001b[2m:\u001b[0m\u001b]8;id=135527;file:///data/projects/rory_says_hi/Icarust_supplementary_data/notebooks/make_squiggle.py#120\u001b\\\u001b[2m120\u001b[0m\u001b]8;;\u001b\\\n"
      ]
     },
     "metadata": {},
     "output_type": "display_data"
    },
    {
     "data": {
      "text/html": [
       "<pre style=\"white-space:pre;overflow-x:auto;line-height:normal;font-family:Menlo,'DejaVu Sans Mono',consolas,'Courier New',monospace\"><span style=\"color: #7fbfbf; text-decoration-color: #7fbfbf\">                    </span><span style=\"color: #000080; text-decoration-color: #000080\">INFO    </span> Invalid characters found in sequence of                           <a href=\"file:///data/projects/rory_says_hi/Icarust_supplementary_data/notebooks/make_squiggle.py\" target=\"_blank\"><span style=\"color: #7f7f7f; text-decoration-color: #7f7f7f\">make_squiggle.py</span></a><span style=\"color: #7f7f7f; text-decoration-color: #7f7f7f\">:</span><a href=\"file:///data/projects/rory_says_hi/Icarust_supplementary_data/notebooks/make_squiggle.py#122\" target=\"_blank\"><span style=\"color: #7f7f7f; text-decoration-color: #7f7f7f\">122</span></a>\n",
       "<span style=\"color: #7fbfbf; text-decoration-color: #7fbfbf\">                    </span>         test_read_12_495185_495785, removing them                         <span style=\"color: #7f7f7f; text-decoration-color: #7f7f7f\">                    </span>\n",
       "</pre>\n"
      ],
      "text/plain": [
       "\u001b[2;36m                   \u001b[0m\u001b[2;36m \u001b[0m\u001b[34mINFO    \u001b[0m Invalid characters found in sequence of                           \u001b]8;id=446788;file:///data/projects/rory_says_hi/Icarust_supplementary_data/notebooks/make_squiggle.py\u001b\\\u001b[2mmake_squiggle.py\u001b[0m\u001b]8;;\u001b\\\u001b[2m:\u001b[0m\u001b]8;id=995852;file:///data/projects/rory_says_hi/Icarust_supplementary_data/notebooks/make_squiggle.py#122\u001b\\\u001b[2m122\u001b[0m\u001b]8;;\u001b\\\n",
       "\u001b[2;36m                    \u001b[0m         test_read_12_495185_495785, removing them                         \u001b[2m                    \u001b[0m\n"
      ]
     },
     "metadata": {},
     "output_type": "display_data"
    },
    {
     "data": {
      "text/html": [
       "<pre style=\"white-space:pre;overflow-x:auto;line-height:normal;font-family:Menlo,'DejaVu Sans Mono',consolas,'Courier New',monospace\"><span style=\"color: #7fbfbf; text-decoration-color: #7fbfbf\">                    </span><span style=\"color: #000080; text-decoration-color: #000080\">INFO    </span> Generating squiggle for test_read_13_683244_683894                <a href=\"file:///data/projects/rory_says_hi/Icarust_supplementary_data/notebooks/make_squiggle.py\" target=\"_blank\"><span style=\"color: #7f7f7f; text-decoration-color: #7f7f7f\">make_squiggle.py</span></a><span style=\"color: #7f7f7f; text-decoration-color: #7f7f7f\">:</span><a href=\"file:///data/projects/rory_says_hi/Icarust_supplementary_data/notebooks/make_squiggle.py#120\" target=\"_blank\"><span style=\"color: #7f7f7f; text-decoration-color: #7f7f7f\">120</span></a>\n",
       "</pre>\n"
      ],
      "text/plain": [
       "\u001b[2;36m                   \u001b[0m\u001b[2;36m \u001b[0m\u001b[34mINFO    \u001b[0m Generating squiggle for test_read_13_683244_683894                \u001b]8;id=597687;file:///data/projects/rory_says_hi/Icarust_supplementary_data/notebooks/make_squiggle.py\u001b\\\u001b[2mmake_squiggle.py\u001b[0m\u001b]8;;\u001b\\\u001b[2m:\u001b[0m\u001b]8;id=581331;file:///data/projects/rory_says_hi/Icarust_supplementary_data/notebooks/make_squiggle.py#120\u001b\\\u001b[2m120\u001b[0m\u001b]8;;\u001b\\\n"
      ]
     },
     "metadata": {},
     "output_type": "display_data"
    },
    {
     "data": {
      "text/html": [
       "<pre style=\"white-space:pre;overflow-x:auto;line-height:normal;font-family:Menlo,'DejaVu Sans Mono',consolas,'Courier New',monospace\"><span style=\"color: #7fbfbf; text-decoration-color: #7fbfbf\">                    </span><span style=\"color: #000080; text-decoration-color: #000080\">INFO    </span> Invalid characters found in sequence of                           <a href=\"file:///data/projects/rory_says_hi/Icarust_supplementary_data/notebooks/make_squiggle.py\" target=\"_blank\"><span style=\"color: #7f7f7f; text-decoration-color: #7f7f7f\">make_squiggle.py</span></a><span style=\"color: #7f7f7f; text-decoration-color: #7f7f7f\">:</span><a href=\"file:///data/projects/rory_says_hi/Icarust_supplementary_data/notebooks/make_squiggle.py#122\" target=\"_blank\"><span style=\"color: #7f7f7f; text-decoration-color: #7f7f7f\">122</span></a>\n",
       "<span style=\"color: #7fbfbf; text-decoration-color: #7fbfbf\">                    </span>         test_read_13_683244_683894, removing them                         <span style=\"color: #7f7f7f; text-decoration-color: #7f7f7f\">                    </span>\n",
       "</pre>\n"
      ],
      "text/plain": [
       "\u001b[2;36m                   \u001b[0m\u001b[2;36m \u001b[0m\u001b[34mINFO    \u001b[0m Invalid characters found in sequence of                           \u001b]8;id=508480;file:///data/projects/rory_says_hi/Icarust_supplementary_data/notebooks/make_squiggle.py\u001b\\\u001b[2mmake_squiggle.py\u001b[0m\u001b]8;;\u001b\\\u001b[2m:\u001b[0m\u001b]8;id=852860;file:///data/projects/rory_says_hi/Icarust_supplementary_data/notebooks/make_squiggle.py#122\u001b\\\u001b[2m122\u001b[0m\u001b]8;;\u001b\\\n",
       "\u001b[2;36m                    \u001b[0m         test_read_13_683244_683894, removing them                         \u001b[2m                    \u001b[0m\n"
      ]
     },
     "metadata": {},
     "output_type": "display_data"
    },
    {
     "data": {
      "text/html": [
       "<pre style=\"white-space:pre;overflow-x:auto;line-height:normal;font-family:Menlo,'DejaVu Sans Mono',consolas,'Courier New',monospace\"><span style=\"color: #7fbfbf; text-decoration-color: #7fbfbf\">                    </span><span style=\"color: #000080; text-decoration-color: #000080\">INFO    </span> Generating squiggle for test_read_14_398055_398755                <a href=\"file:///data/projects/rory_says_hi/Icarust_supplementary_data/notebooks/make_squiggle.py\" target=\"_blank\"><span style=\"color: #7f7f7f; text-decoration-color: #7f7f7f\">make_squiggle.py</span></a><span style=\"color: #7f7f7f; text-decoration-color: #7f7f7f\">:</span><a href=\"file:///data/projects/rory_says_hi/Icarust_supplementary_data/notebooks/make_squiggle.py#120\" target=\"_blank\"><span style=\"color: #7f7f7f; text-decoration-color: #7f7f7f\">120</span></a>\n",
       "</pre>\n"
      ],
      "text/plain": [
       "\u001b[2;36m                   \u001b[0m\u001b[2;36m \u001b[0m\u001b[34mINFO    \u001b[0m Generating squiggle for test_read_14_398055_398755                \u001b]8;id=564635;file:///data/projects/rory_says_hi/Icarust_supplementary_data/notebooks/make_squiggle.py\u001b\\\u001b[2mmake_squiggle.py\u001b[0m\u001b]8;;\u001b\\\u001b[2m:\u001b[0m\u001b]8;id=566345;file:///data/projects/rory_says_hi/Icarust_supplementary_data/notebooks/make_squiggle.py#120\u001b\\\u001b[2m120\u001b[0m\u001b]8;;\u001b\\\n"
      ]
     },
     "metadata": {},
     "output_type": "display_data"
    },
    {
     "data": {
      "text/html": [
       "<pre style=\"white-space:pre;overflow-x:auto;line-height:normal;font-family:Menlo,'DejaVu Sans Mono',consolas,'Courier New',monospace\"><span style=\"color: #7fbfbf; text-decoration-color: #7fbfbf\">                    </span><span style=\"color: #000080; text-decoration-color: #000080\">INFO    </span> Invalid characters found in sequence of                           <a href=\"file:///data/projects/rory_says_hi/Icarust_supplementary_data/notebooks/make_squiggle.py\" target=\"_blank\"><span style=\"color: #7f7f7f; text-decoration-color: #7f7f7f\">make_squiggle.py</span></a><span style=\"color: #7f7f7f; text-decoration-color: #7f7f7f\">:</span><a href=\"file:///data/projects/rory_says_hi/Icarust_supplementary_data/notebooks/make_squiggle.py#122\" target=\"_blank\"><span style=\"color: #7f7f7f; text-decoration-color: #7f7f7f\">122</span></a>\n",
       "<span style=\"color: #7fbfbf; text-decoration-color: #7fbfbf\">                    </span>         test_read_14_398055_398755, removing them                         <span style=\"color: #7f7f7f; text-decoration-color: #7f7f7f\">                    </span>\n",
       "</pre>\n"
      ],
      "text/plain": [
       "\u001b[2;36m                   \u001b[0m\u001b[2;36m \u001b[0m\u001b[34mINFO    \u001b[0m Invalid characters found in sequence of                           \u001b]8;id=480401;file:///data/projects/rory_says_hi/Icarust_supplementary_data/notebooks/make_squiggle.py\u001b\\\u001b[2mmake_squiggle.py\u001b[0m\u001b]8;;\u001b\\\u001b[2m:\u001b[0m\u001b]8;id=628993;file:///data/projects/rory_says_hi/Icarust_supplementary_data/notebooks/make_squiggle.py#122\u001b\\\u001b[2m122\u001b[0m\u001b]8;;\u001b\\\n",
       "\u001b[2;36m                    \u001b[0m         test_read_14_398055_398755, removing them                         \u001b[2m                    \u001b[0m\n"
      ]
     },
     "metadata": {},
     "output_type": "display_data"
    },
    {
     "data": {
      "text/html": [
       "<pre style=\"white-space:pre;overflow-x:auto;line-height:normal;font-family:Menlo,'DejaVu Sans Mono',consolas,'Courier New',monospace\"><span style=\"color: #7fbfbf; text-decoration-color: #7fbfbf\">                    </span><span style=\"color: #000080; text-decoration-color: #000080\">INFO    </span> Generating squiggle for test_read_15_827036_827786                <a href=\"file:///data/projects/rory_says_hi/Icarust_supplementary_data/notebooks/make_squiggle.py\" target=\"_blank\"><span style=\"color: #7f7f7f; text-decoration-color: #7f7f7f\">make_squiggle.py</span></a><span style=\"color: #7f7f7f; text-decoration-color: #7f7f7f\">:</span><a href=\"file:///data/projects/rory_says_hi/Icarust_supplementary_data/notebooks/make_squiggle.py#120\" target=\"_blank\"><span style=\"color: #7f7f7f; text-decoration-color: #7f7f7f\">120</span></a>\n",
       "</pre>\n"
      ],
      "text/plain": [
       "\u001b[2;36m                   \u001b[0m\u001b[2;36m \u001b[0m\u001b[34mINFO    \u001b[0m Generating squiggle for test_read_15_827036_827786                \u001b]8;id=185819;file:///data/projects/rory_says_hi/Icarust_supplementary_data/notebooks/make_squiggle.py\u001b\\\u001b[2mmake_squiggle.py\u001b[0m\u001b]8;;\u001b\\\u001b[2m:\u001b[0m\u001b]8;id=577509;file:///data/projects/rory_says_hi/Icarust_supplementary_data/notebooks/make_squiggle.py#120\u001b\\\u001b[2m120\u001b[0m\u001b]8;;\u001b\\\n"
      ]
     },
     "metadata": {},
     "output_type": "display_data"
    },
    {
     "data": {
      "text/html": [
       "<pre style=\"white-space:pre;overflow-x:auto;line-height:normal;font-family:Menlo,'DejaVu Sans Mono',consolas,'Courier New',monospace\"><span style=\"color: #7fbfbf; text-decoration-color: #7fbfbf\">                    </span><span style=\"color: #000080; text-decoration-color: #000080\">INFO    </span> Invalid characters found in sequence of                           <a href=\"file:///data/projects/rory_says_hi/Icarust_supplementary_data/notebooks/make_squiggle.py\" target=\"_blank\"><span style=\"color: #7f7f7f; text-decoration-color: #7f7f7f\">make_squiggle.py</span></a><span style=\"color: #7f7f7f; text-decoration-color: #7f7f7f\">:</span><a href=\"file:///data/projects/rory_says_hi/Icarust_supplementary_data/notebooks/make_squiggle.py#122\" target=\"_blank\"><span style=\"color: #7f7f7f; text-decoration-color: #7f7f7f\">122</span></a>\n",
       "<span style=\"color: #7fbfbf; text-decoration-color: #7fbfbf\">                    </span>         test_read_15_827036_827786, removing them                         <span style=\"color: #7f7f7f; text-decoration-color: #7f7f7f\">                    </span>\n",
       "</pre>\n"
      ],
      "text/plain": [
       "\u001b[2;36m                   \u001b[0m\u001b[2;36m \u001b[0m\u001b[34mINFO    \u001b[0m Invalid characters found in sequence of                           \u001b]8;id=837223;file:///data/projects/rory_says_hi/Icarust_supplementary_data/notebooks/make_squiggle.py\u001b\\\u001b[2mmake_squiggle.py\u001b[0m\u001b]8;;\u001b\\\u001b[2m:\u001b[0m\u001b]8;id=577795;file:///data/projects/rory_says_hi/Icarust_supplementary_data/notebooks/make_squiggle.py#122\u001b\\\u001b[2m122\u001b[0m\u001b]8;;\u001b\\\n",
       "\u001b[2;36m                    \u001b[0m         test_read_15_827036_827786, removing them                         \u001b[2m                    \u001b[0m\n"
      ]
     },
     "metadata": {},
     "output_type": "display_data"
    },
    {
     "data": {
      "text/html": [
       "<pre style=\"white-space:pre;overflow-x:auto;line-height:normal;font-family:Menlo,'DejaVu Sans Mono',consolas,'Courier New',monospace\"><span style=\"color: #7fbfbf; text-decoration-color: #7fbfbf\">                    </span><span style=\"color: #000080; text-decoration-color: #000080\">INFO    </span> Generating squiggle for test_read_16_220153_220953                <a href=\"file:///data/projects/rory_says_hi/Icarust_supplementary_data/notebooks/make_squiggle.py\" target=\"_blank\"><span style=\"color: #7f7f7f; text-decoration-color: #7f7f7f\">make_squiggle.py</span></a><span style=\"color: #7f7f7f; text-decoration-color: #7f7f7f\">:</span><a href=\"file:///data/projects/rory_says_hi/Icarust_supplementary_data/notebooks/make_squiggle.py#120\" target=\"_blank\"><span style=\"color: #7f7f7f; text-decoration-color: #7f7f7f\">120</span></a>\n",
       "</pre>\n"
      ],
      "text/plain": [
       "\u001b[2;36m                   \u001b[0m\u001b[2;36m \u001b[0m\u001b[34mINFO    \u001b[0m Generating squiggle for test_read_16_220153_220953                \u001b]8;id=267695;file:///data/projects/rory_says_hi/Icarust_supplementary_data/notebooks/make_squiggle.py\u001b\\\u001b[2mmake_squiggle.py\u001b[0m\u001b]8;;\u001b\\\u001b[2m:\u001b[0m\u001b]8;id=34035;file:///data/projects/rory_says_hi/Icarust_supplementary_data/notebooks/make_squiggle.py#120\u001b\\\u001b[2m120\u001b[0m\u001b]8;;\u001b\\\n"
      ]
     },
     "metadata": {},
     "output_type": "display_data"
    },
    {
     "data": {
      "text/html": [
       "<pre style=\"white-space:pre;overflow-x:auto;line-height:normal;font-family:Menlo,'DejaVu Sans Mono',consolas,'Courier New',monospace\"><span style=\"color: #7fbfbf; text-decoration-color: #7fbfbf\">                    </span><span style=\"color: #000080; text-decoration-color: #000080\">INFO    </span> Invalid characters found in sequence of                           <a href=\"file:///data/projects/rory_says_hi/Icarust_supplementary_data/notebooks/make_squiggle.py\" target=\"_blank\"><span style=\"color: #7f7f7f; text-decoration-color: #7f7f7f\">make_squiggle.py</span></a><span style=\"color: #7f7f7f; text-decoration-color: #7f7f7f\">:</span><a href=\"file:///data/projects/rory_says_hi/Icarust_supplementary_data/notebooks/make_squiggle.py#122\" target=\"_blank\"><span style=\"color: #7f7f7f; text-decoration-color: #7f7f7f\">122</span></a>\n",
       "<span style=\"color: #7fbfbf; text-decoration-color: #7fbfbf\">                    </span>         test_read_16_220153_220953, removing them                         <span style=\"color: #7f7f7f; text-decoration-color: #7f7f7f\">                    </span>\n",
       "</pre>\n"
      ],
      "text/plain": [
       "\u001b[2;36m                   \u001b[0m\u001b[2;36m \u001b[0m\u001b[34mINFO    \u001b[0m Invalid characters found in sequence of                           \u001b]8;id=87277;file:///data/projects/rory_says_hi/Icarust_supplementary_data/notebooks/make_squiggle.py\u001b\\\u001b[2mmake_squiggle.py\u001b[0m\u001b]8;;\u001b\\\u001b[2m:\u001b[0m\u001b]8;id=910245;file:///data/projects/rory_says_hi/Icarust_supplementary_data/notebooks/make_squiggle.py#122\u001b\\\u001b[2m122\u001b[0m\u001b]8;;\u001b\\\n",
       "\u001b[2;36m                    \u001b[0m         test_read_16_220153_220953, removing them                         \u001b[2m                    \u001b[0m\n"
      ]
     },
     "metadata": {},
     "output_type": "display_data"
    },
    {
     "data": {
      "text/html": [
       "<pre style=\"white-space:pre;overflow-x:auto;line-height:normal;font-family:Menlo,'DejaVu Sans Mono',consolas,'Courier New',monospace\"><span style=\"color: #7fbfbf; text-decoration-color: #7fbfbf\">                    </span><span style=\"color: #000080; text-decoration-color: #000080\">INFO    </span> Generating squiggle for test_read_17_98418_99268                  <a href=\"file:///data/projects/rory_says_hi/Icarust_supplementary_data/notebooks/make_squiggle.py\" target=\"_blank\"><span style=\"color: #7f7f7f; text-decoration-color: #7f7f7f\">make_squiggle.py</span></a><span style=\"color: #7f7f7f; text-decoration-color: #7f7f7f\">:</span><a href=\"file:///data/projects/rory_says_hi/Icarust_supplementary_data/notebooks/make_squiggle.py#120\" target=\"_blank\"><span style=\"color: #7f7f7f; text-decoration-color: #7f7f7f\">120</span></a>\n",
       "</pre>\n"
      ],
      "text/plain": [
       "\u001b[2;36m                   \u001b[0m\u001b[2;36m \u001b[0m\u001b[34mINFO    \u001b[0m Generating squiggle for test_read_17_98418_99268                  \u001b]8;id=792290;file:///data/projects/rory_says_hi/Icarust_supplementary_data/notebooks/make_squiggle.py\u001b\\\u001b[2mmake_squiggle.py\u001b[0m\u001b]8;;\u001b\\\u001b[2m:\u001b[0m\u001b]8;id=294856;file:///data/projects/rory_says_hi/Icarust_supplementary_data/notebooks/make_squiggle.py#120\u001b\\\u001b[2m120\u001b[0m\u001b]8;;\u001b\\\n"
      ]
     },
     "metadata": {},
     "output_type": "display_data"
    },
    {
     "data": {
      "text/html": [
       "<pre style=\"white-space:pre;overflow-x:auto;line-height:normal;font-family:Menlo,'DejaVu Sans Mono',consolas,'Courier New',monospace\"><span style=\"color: #7fbfbf; text-decoration-color: #7fbfbf\">                    </span><span style=\"color: #000080; text-decoration-color: #000080\">INFO    </span> Invalid characters found in sequence of test_read_17_98418_99268, <a href=\"file:///data/projects/rory_says_hi/Icarust_supplementary_data/notebooks/make_squiggle.py\" target=\"_blank\"><span style=\"color: #7f7f7f; text-decoration-color: #7f7f7f\">make_squiggle.py</span></a><span style=\"color: #7f7f7f; text-decoration-color: #7f7f7f\">:</span><a href=\"file:///data/projects/rory_says_hi/Icarust_supplementary_data/notebooks/make_squiggle.py#122\" target=\"_blank\"><span style=\"color: #7f7f7f; text-decoration-color: #7f7f7f\">122</span></a>\n",
       "<span style=\"color: #7fbfbf; text-decoration-color: #7fbfbf\">                    </span>         removing them                                                     <span style=\"color: #7f7f7f; text-decoration-color: #7f7f7f\">                    </span>\n",
       "</pre>\n"
      ],
      "text/plain": [
       "\u001b[2;36m                   \u001b[0m\u001b[2;36m \u001b[0m\u001b[34mINFO    \u001b[0m Invalid characters found in sequence of test_read_17_98418_99268, \u001b]8;id=655152;file:///data/projects/rory_says_hi/Icarust_supplementary_data/notebooks/make_squiggle.py\u001b\\\u001b[2mmake_squiggle.py\u001b[0m\u001b]8;;\u001b\\\u001b[2m:\u001b[0m\u001b]8;id=193577;file:///data/projects/rory_says_hi/Icarust_supplementary_data/notebooks/make_squiggle.py#122\u001b\\\u001b[2m122\u001b[0m\u001b]8;;\u001b\\\n",
       "\u001b[2;36m                    \u001b[0m         removing them                                                     \u001b[2m                    \u001b[0m\n"
      ]
     },
     "metadata": {},
     "output_type": "display_data"
    },
    {
     "data": {
      "text/html": [
       "<pre style=\"white-space:pre;overflow-x:auto;line-height:normal;font-family:Menlo,'DejaVu Sans Mono',consolas,'Courier New',monospace\"><span style=\"color: #7fbfbf; text-decoration-color: #7fbfbf\">                    </span><span style=\"color: #000080; text-decoration-color: #000080\">INFO    </span> Generating squiggle for test_read_18_511554_512454                <a href=\"file:///data/projects/rory_says_hi/Icarust_supplementary_data/notebooks/make_squiggle.py\" target=\"_blank\"><span style=\"color: #7f7f7f; text-decoration-color: #7f7f7f\">make_squiggle.py</span></a><span style=\"color: #7f7f7f; text-decoration-color: #7f7f7f\">:</span><a href=\"file:///data/projects/rory_says_hi/Icarust_supplementary_data/notebooks/make_squiggle.py#120\" target=\"_blank\"><span style=\"color: #7f7f7f; text-decoration-color: #7f7f7f\">120</span></a>\n",
       "</pre>\n"
      ],
      "text/plain": [
       "\u001b[2;36m                   \u001b[0m\u001b[2;36m \u001b[0m\u001b[34mINFO    \u001b[0m Generating squiggle for test_read_18_511554_512454                \u001b]8;id=167379;file:///data/projects/rory_says_hi/Icarust_supplementary_data/notebooks/make_squiggle.py\u001b\\\u001b[2mmake_squiggle.py\u001b[0m\u001b]8;;\u001b\\\u001b[2m:\u001b[0m\u001b]8;id=267613;file:///data/projects/rory_says_hi/Icarust_supplementary_data/notebooks/make_squiggle.py#120\u001b\\\u001b[2m120\u001b[0m\u001b]8;;\u001b\\\n"
      ]
     },
     "metadata": {},
     "output_type": "display_data"
    },
    {
     "data": {
      "text/html": [
       "<pre style=\"white-space:pre;overflow-x:auto;line-height:normal;font-family:Menlo,'DejaVu Sans Mono',consolas,'Courier New',monospace\"><span style=\"color: #7fbfbf; text-decoration-color: #7fbfbf\">                    </span><span style=\"color: #000080; text-decoration-color: #000080\">INFO    </span> Invalid characters found in sequence of                           <a href=\"file:///data/projects/rory_says_hi/Icarust_supplementary_data/notebooks/make_squiggle.py\" target=\"_blank\"><span style=\"color: #7f7f7f; text-decoration-color: #7f7f7f\">make_squiggle.py</span></a><span style=\"color: #7f7f7f; text-decoration-color: #7f7f7f\">:</span><a href=\"file:///data/projects/rory_says_hi/Icarust_supplementary_data/notebooks/make_squiggle.py#122\" target=\"_blank\"><span style=\"color: #7f7f7f; text-decoration-color: #7f7f7f\">122</span></a>\n",
       "<span style=\"color: #7fbfbf; text-decoration-color: #7fbfbf\">                    </span>         test_read_18_511554_512454, removing them                         <span style=\"color: #7f7f7f; text-decoration-color: #7f7f7f\">                    </span>\n",
       "</pre>\n"
      ],
      "text/plain": [
       "\u001b[2;36m                   \u001b[0m\u001b[2;36m \u001b[0m\u001b[34mINFO    \u001b[0m Invalid characters found in sequence of                           \u001b]8;id=286171;file:///data/projects/rory_says_hi/Icarust_supplementary_data/notebooks/make_squiggle.py\u001b\\\u001b[2mmake_squiggle.py\u001b[0m\u001b]8;;\u001b\\\u001b[2m:\u001b[0m\u001b]8;id=679689;file:///data/projects/rory_says_hi/Icarust_supplementary_data/notebooks/make_squiggle.py#122\u001b\\\u001b[2m122\u001b[0m\u001b]8;;\u001b\\\n",
       "\u001b[2;36m                    \u001b[0m         test_read_18_511554_512454, removing them                         \u001b[2m                    \u001b[0m\n"
      ]
     },
     "metadata": {},
     "output_type": "display_data"
    },
    {
     "data": {
      "text/html": [
       "<pre style=\"white-space:pre;overflow-x:auto;line-height:normal;font-family:Menlo,'DejaVu Sans Mono',consolas,'Courier New',monospace\"><span style=\"color: #7fbfbf; text-decoration-color: #7fbfbf\">                    </span><span style=\"color: #000080; text-decoration-color: #000080\">INFO    </span> Generating squiggle for test_read_19_29724_30674                  <a href=\"file:///data/projects/rory_says_hi/Icarust_supplementary_data/notebooks/make_squiggle.py\" target=\"_blank\"><span style=\"color: #7f7f7f; text-decoration-color: #7f7f7f\">make_squiggle.py</span></a><span style=\"color: #7f7f7f; text-decoration-color: #7f7f7f\">:</span><a href=\"file:///data/projects/rory_says_hi/Icarust_supplementary_data/notebooks/make_squiggle.py#120\" target=\"_blank\"><span style=\"color: #7f7f7f; text-decoration-color: #7f7f7f\">120</span></a>\n",
       "</pre>\n"
      ],
      "text/plain": [
       "\u001b[2;36m                   \u001b[0m\u001b[2;36m \u001b[0m\u001b[34mINFO    \u001b[0m Generating squiggle for test_read_19_29724_30674                  \u001b]8;id=337643;file:///data/projects/rory_says_hi/Icarust_supplementary_data/notebooks/make_squiggle.py\u001b\\\u001b[2mmake_squiggle.py\u001b[0m\u001b]8;;\u001b\\\u001b[2m:\u001b[0m\u001b]8;id=520611;file:///data/projects/rory_says_hi/Icarust_supplementary_data/notebooks/make_squiggle.py#120\u001b\\\u001b[2m120\u001b[0m\u001b]8;;\u001b\\\n"
      ]
     },
     "metadata": {},
     "output_type": "display_data"
    },
    {
     "data": {
      "text/html": [
       "<pre style=\"white-space:pre;overflow-x:auto;line-height:normal;font-family:Menlo,'DejaVu Sans Mono',consolas,'Courier New',monospace\"><span style=\"color: #7fbfbf; text-decoration-color: #7fbfbf\">                    </span><span style=\"color: #000080; text-decoration-color: #000080\">INFO    </span> Invalid characters found in sequence of test_read_19_29724_30674, <a href=\"file:///data/projects/rory_says_hi/Icarust_supplementary_data/notebooks/make_squiggle.py\" target=\"_blank\"><span style=\"color: #7f7f7f; text-decoration-color: #7f7f7f\">make_squiggle.py</span></a><span style=\"color: #7f7f7f; text-decoration-color: #7f7f7f\">:</span><a href=\"file:///data/projects/rory_says_hi/Icarust_supplementary_data/notebooks/make_squiggle.py#122\" target=\"_blank\"><span style=\"color: #7f7f7f; text-decoration-color: #7f7f7f\">122</span></a>\n",
       "<span style=\"color: #7fbfbf; text-decoration-color: #7fbfbf\">                    </span>         removing them                                                     <span style=\"color: #7f7f7f; text-decoration-color: #7f7f7f\">                    </span>\n",
       "</pre>\n"
      ],
      "text/plain": [
       "\u001b[2;36m                   \u001b[0m\u001b[2;36m \u001b[0m\u001b[34mINFO    \u001b[0m Invalid characters found in sequence of test_read_19_29724_30674, \u001b]8;id=405334;file:///data/projects/rory_says_hi/Icarust_supplementary_data/notebooks/make_squiggle.py\u001b\\\u001b[2mmake_squiggle.py\u001b[0m\u001b]8;;\u001b\\\u001b[2m:\u001b[0m\u001b]8;id=360020;file:///data/projects/rory_says_hi/Icarust_supplementary_data/notebooks/make_squiggle.py#122\u001b\\\u001b[2m122\u001b[0m\u001b]8;;\u001b\\\n",
       "\u001b[2;36m                    \u001b[0m         removing them                                                     \u001b[2m                    \u001b[0m\n"
      ]
     },
     "metadata": {},
     "output_type": "display_data"
    },
    {
     "data": {
      "text/html": [
       "<pre style=\"white-space:pre;overflow-x:auto;line-height:normal;font-family:Menlo,'DejaVu Sans Mono',consolas,'Courier New',monospace\"><span style=\"color: #7fbfbf; text-decoration-color: #7fbfbf\">                    </span><span style=\"color: #000080; text-decoration-color: #000080\">INFO    </span> Generating squiggle for test_read_20_936710_937710                <a href=\"file:///data/projects/rory_says_hi/Icarust_supplementary_data/notebooks/make_squiggle.py\" target=\"_blank\"><span style=\"color: #7f7f7f; text-decoration-color: #7f7f7f\">make_squiggle.py</span></a><span style=\"color: #7f7f7f; text-decoration-color: #7f7f7f\">:</span><a href=\"file:///data/projects/rory_says_hi/Icarust_supplementary_data/notebooks/make_squiggle.py#120\" target=\"_blank\"><span style=\"color: #7f7f7f; text-decoration-color: #7f7f7f\">120</span></a>\n",
       "</pre>\n"
      ],
      "text/plain": [
       "\u001b[2;36m                   \u001b[0m\u001b[2;36m \u001b[0m\u001b[34mINFO    \u001b[0m Generating squiggle for test_read_20_936710_937710                \u001b]8;id=114044;file:///data/projects/rory_says_hi/Icarust_supplementary_data/notebooks/make_squiggle.py\u001b\\\u001b[2mmake_squiggle.py\u001b[0m\u001b]8;;\u001b\\\u001b[2m:\u001b[0m\u001b]8;id=265770;file:///data/projects/rory_says_hi/Icarust_supplementary_data/notebooks/make_squiggle.py#120\u001b\\\u001b[2m120\u001b[0m\u001b]8;;\u001b\\\n"
      ]
     },
     "metadata": {},
     "output_type": "display_data"
    },
    {
     "data": {
      "text/html": [
       "<pre style=\"white-space:pre;overflow-x:auto;line-height:normal;font-family:Menlo,'DejaVu Sans Mono',consolas,'Courier New',monospace\"><span style=\"color: #7fbfbf; text-decoration-color: #7fbfbf\">                    </span><span style=\"color: #000080; text-decoration-color: #000080\">INFO    </span> Invalid characters found in sequence of                           <a href=\"file:///data/projects/rory_says_hi/Icarust_supplementary_data/notebooks/make_squiggle.py\" target=\"_blank\"><span style=\"color: #7f7f7f; text-decoration-color: #7f7f7f\">make_squiggle.py</span></a><span style=\"color: #7f7f7f; text-decoration-color: #7f7f7f\">:</span><a href=\"file:///data/projects/rory_says_hi/Icarust_supplementary_data/notebooks/make_squiggle.py#122\" target=\"_blank\"><span style=\"color: #7f7f7f; text-decoration-color: #7f7f7f\">122</span></a>\n",
       "<span style=\"color: #7fbfbf; text-decoration-color: #7fbfbf\">                    </span>         test_read_20_936710_937710, removing them                         <span style=\"color: #7f7f7f; text-decoration-color: #7f7f7f\">                    </span>\n",
       "</pre>\n"
      ],
      "text/plain": [
       "\u001b[2;36m                   \u001b[0m\u001b[2;36m \u001b[0m\u001b[34mINFO    \u001b[0m Invalid characters found in sequence of                           \u001b]8;id=635068;file:///data/projects/rory_says_hi/Icarust_supplementary_data/notebooks/make_squiggle.py\u001b\\\u001b[2mmake_squiggle.py\u001b[0m\u001b]8;;\u001b\\\u001b[2m:\u001b[0m\u001b]8;id=452623;file:///data/projects/rory_says_hi/Icarust_supplementary_data/notebooks/make_squiggle.py#122\u001b\\\u001b[2m122\u001b[0m\u001b]8;;\u001b\\\n",
       "\u001b[2;36m                    \u001b[0m         test_read_20_936710_937710, removing them                         \u001b[2m                    \u001b[0m\n"
      ]
     },
     "metadata": {},
     "output_type": "display_data"
    },
    {
     "data": {
      "text/html": [
       "<pre style=\"white-space:pre;overflow-x:auto;line-height:normal;font-family:Menlo,'DejaVu Sans Mono',consolas,'Courier New',monospace\"><span style=\"color: #7fbfbf; text-decoration-color: #7fbfbf\">                    </span><span style=\"color: #000080; text-decoration-color: #000080\">INFO    </span> Generating squiggle for test_read_21_876363_877413                <a href=\"file:///data/projects/rory_says_hi/Icarust_supplementary_data/notebooks/make_squiggle.py\" target=\"_blank\"><span style=\"color: #7f7f7f; text-decoration-color: #7f7f7f\">make_squiggle.py</span></a><span style=\"color: #7f7f7f; text-decoration-color: #7f7f7f\">:</span><a href=\"file:///data/projects/rory_says_hi/Icarust_supplementary_data/notebooks/make_squiggle.py#120\" target=\"_blank\"><span style=\"color: #7f7f7f; text-decoration-color: #7f7f7f\">120</span></a>\n",
       "</pre>\n"
      ],
      "text/plain": [
       "\u001b[2;36m                   \u001b[0m\u001b[2;36m \u001b[0m\u001b[34mINFO    \u001b[0m Generating squiggle for test_read_21_876363_877413                \u001b]8;id=416615;file:///data/projects/rory_says_hi/Icarust_supplementary_data/notebooks/make_squiggle.py\u001b\\\u001b[2mmake_squiggle.py\u001b[0m\u001b]8;;\u001b\\\u001b[2m:\u001b[0m\u001b]8;id=153576;file:///data/projects/rory_says_hi/Icarust_supplementary_data/notebooks/make_squiggle.py#120\u001b\\\u001b[2m120\u001b[0m\u001b]8;;\u001b\\\n"
      ]
     },
     "metadata": {},
     "output_type": "display_data"
    },
    {
     "data": {
      "text/html": [
       "<pre style=\"white-space:pre;overflow-x:auto;line-height:normal;font-family:Menlo,'DejaVu Sans Mono',consolas,'Courier New',monospace\"><span style=\"color: #7fbfbf; text-decoration-color: #7fbfbf\">                    </span><span style=\"color: #000080; text-decoration-color: #000080\">INFO    </span> Invalid characters found in sequence of                           <a href=\"file:///data/projects/rory_says_hi/Icarust_supplementary_data/notebooks/make_squiggle.py\" target=\"_blank\"><span style=\"color: #7f7f7f; text-decoration-color: #7f7f7f\">make_squiggle.py</span></a><span style=\"color: #7f7f7f; text-decoration-color: #7f7f7f\">:</span><a href=\"file:///data/projects/rory_says_hi/Icarust_supplementary_data/notebooks/make_squiggle.py#122\" target=\"_blank\"><span style=\"color: #7f7f7f; text-decoration-color: #7f7f7f\">122</span></a>\n",
       "<span style=\"color: #7fbfbf; text-decoration-color: #7fbfbf\">                    </span>         test_read_21_876363_877413, removing them                         <span style=\"color: #7f7f7f; text-decoration-color: #7f7f7f\">                    </span>\n",
       "</pre>\n"
      ],
      "text/plain": [
       "\u001b[2;36m                   \u001b[0m\u001b[2;36m \u001b[0m\u001b[34mINFO    \u001b[0m Invalid characters found in sequence of                           \u001b]8;id=738832;file:///data/projects/rory_says_hi/Icarust_supplementary_data/notebooks/make_squiggle.py\u001b\\\u001b[2mmake_squiggle.py\u001b[0m\u001b]8;;\u001b\\\u001b[2m:\u001b[0m\u001b]8;id=530903;file:///data/projects/rory_says_hi/Icarust_supplementary_data/notebooks/make_squiggle.py#122\u001b\\\u001b[2m122\u001b[0m\u001b]8;;\u001b\\\n",
       "\u001b[2;36m                    \u001b[0m         test_read_21_876363_877413, removing them                         \u001b[2m                    \u001b[0m\n"
      ]
     },
     "metadata": {},
     "output_type": "display_data"
    },
    {
     "data": {
      "text/html": [
       "<pre style=\"white-space:pre;overflow-x:auto;line-height:normal;font-family:Menlo,'DejaVu Sans Mono',consolas,'Courier New',monospace\"><span style=\"color: #7fbfbf; text-decoration-color: #7fbfbf\">                    </span><span style=\"color: #000080; text-decoration-color: #000080\">INFO    </span> Generating squiggle for test_read_22_408744_409844                <a href=\"file:///data/projects/rory_says_hi/Icarust_supplementary_data/notebooks/make_squiggle.py\" target=\"_blank\"><span style=\"color: #7f7f7f; text-decoration-color: #7f7f7f\">make_squiggle.py</span></a><span style=\"color: #7f7f7f; text-decoration-color: #7f7f7f\">:</span><a href=\"file:///data/projects/rory_says_hi/Icarust_supplementary_data/notebooks/make_squiggle.py#120\" target=\"_blank\"><span style=\"color: #7f7f7f; text-decoration-color: #7f7f7f\">120</span></a>\n",
       "</pre>\n"
      ],
      "text/plain": [
       "\u001b[2;36m                   \u001b[0m\u001b[2;36m \u001b[0m\u001b[34mINFO    \u001b[0m Generating squiggle for test_read_22_408744_409844                \u001b]8;id=231315;file:///data/projects/rory_says_hi/Icarust_supplementary_data/notebooks/make_squiggle.py\u001b\\\u001b[2mmake_squiggle.py\u001b[0m\u001b]8;;\u001b\\\u001b[2m:\u001b[0m\u001b]8;id=661412;file:///data/projects/rory_says_hi/Icarust_supplementary_data/notebooks/make_squiggle.py#120\u001b\\\u001b[2m120\u001b[0m\u001b]8;;\u001b\\\n"
      ]
     },
     "metadata": {},
     "output_type": "display_data"
    },
    {
     "data": {
      "text/html": [
       "<pre style=\"white-space:pre;overflow-x:auto;line-height:normal;font-family:Menlo,'DejaVu Sans Mono',consolas,'Courier New',monospace\"><span style=\"color: #7fbfbf; text-decoration-color: #7fbfbf\">                    </span><span style=\"color: #000080; text-decoration-color: #000080\">INFO    </span> Invalid characters found in sequence of                           <a href=\"file:///data/projects/rory_says_hi/Icarust_supplementary_data/notebooks/make_squiggle.py\" target=\"_blank\"><span style=\"color: #7f7f7f; text-decoration-color: #7f7f7f\">make_squiggle.py</span></a><span style=\"color: #7f7f7f; text-decoration-color: #7f7f7f\">:</span><a href=\"file:///data/projects/rory_says_hi/Icarust_supplementary_data/notebooks/make_squiggle.py#122\" target=\"_blank\"><span style=\"color: #7f7f7f; text-decoration-color: #7f7f7f\">122</span></a>\n",
       "<span style=\"color: #7fbfbf; text-decoration-color: #7fbfbf\">                    </span>         test_read_22_408744_409844, removing them                         <span style=\"color: #7f7f7f; text-decoration-color: #7f7f7f\">                    </span>\n",
       "</pre>\n"
      ],
      "text/plain": [
       "\u001b[2;36m                   \u001b[0m\u001b[2;36m \u001b[0m\u001b[34mINFO    \u001b[0m Invalid characters found in sequence of                           \u001b]8;id=234037;file:///data/projects/rory_says_hi/Icarust_supplementary_data/notebooks/make_squiggle.py\u001b\\\u001b[2mmake_squiggle.py\u001b[0m\u001b]8;;\u001b\\\u001b[2m:\u001b[0m\u001b]8;id=549344;file:///data/projects/rory_says_hi/Icarust_supplementary_data/notebooks/make_squiggle.py#122\u001b\\\u001b[2m122\u001b[0m\u001b]8;;\u001b\\\n",
       "\u001b[2;36m                    \u001b[0m         test_read_22_408744_409844, removing them                         \u001b[2m                    \u001b[0m\n"
      ]
     },
     "metadata": {},
     "output_type": "display_data"
    },
    {
     "data": {
      "text/html": [
       "<pre style=\"white-space:pre;overflow-x:auto;line-height:normal;font-family:Menlo,'DejaVu Sans Mono',consolas,'Courier New',monospace\"><span style=\"color: #7fbfbf; text-decoration-color: #7fbfbf\">                    </span><span style=\"color: #000080; text-decoration-color: #000080\">INFO    </span> Generating squiggle for test_read_23_453789_454939                <a href=\"file:///data/projects/rory_says_hi/Icarust_supplementary_data/notebooks/make_squiggle.py\" target=\"_blank\"><span style=\"color: #7f7f7f; text-decoration-color: #7f7f7f\">make_squiggle.py</span></a><span style=\"color: #7f7f7f; text-decoration-color: #7f7f7f\">:</span><a href=\"file:///data/projects/rory_says_hi/Icarust_supplementary_data/notebooks/make_squiggle.py#120\" target=\"_blank\"><span style=\"color: #7f7f7f; text-decoration-color: #7f7f7f\">120</span></a>\n",
       "</pre>\n"
      ],
      "text/plain": [
       "\u001b[2;36m                   \u001b[0m\u001b[2;36m \u001b[0m\u001b[34mINFO    \u001b[0m Generating squiggle for test_read_23_453789_454939                \u001b]8;id=603818;file:///data/projects/rory_says_hi/Icarust_supplementary_data/notebooks/make_squiggle.py\u001b\\\u001b[2mmake_squiggle.py\u001b[0m\u001b]8;;\u001b\\\u001b[2m:\u001b[0m\u001b]8;id=842410;file:///data/projects/rory_says_hi/Icarust_supplementary_data/notebooks/make_squiggle.py#120\u001b\\\u001b[2m120\u001b[0m\u001b]8;;\u001b\\\n"
      ]
     },
     "metadata": {},
     "output_type": "display_data"
    },
    {
     "data": {
      "text/html": [
       "<pre style=\"white-space:pre;overflow-x:auto;line-height:normal;font-family:Menlo,'DejaVu Sans Mono',consolas,'Courier New',monospace\"><span style=\"color: #7fbfbf; text-decoration-color: #7fbfbf\">                    </span><span style=\"color: #000080; text-decoration-color: #000080\">INFO    </span> Invalid characters found in sequence of                           <a href=\"file:///data/projects/rory_says_hi/Icarust_supplementary_data/notebooks/make_squiggle.py\" target=\"_blank\"><span style=\"color: #7f7f7f; text-decoration-color: #7f7f7f\">make_squiggle.py</span></a><span style=\"color: #7f7f7f; text-decoration-color: #7f7f7f\">:</span><a href=\"file:///data/projects/rory_says_hi/Icarust_supplementary_data/notebooks/make_squiggle.py#122\" target=\"_blank\"><span style=\"color: #7f7f7f; text-decoration-color: #7f7f7f\">122</span></a>\n",
       "<span style=\"color: #7fbfbf; text-decoration-color: #7fbfbf\">                    </span>         test_read_23_453789_454939, removing them                         <span style=\"color: #7f7f7f; text-decoration-color: #7f7f7f\">                    </span>\n",
       "</pre>\n"
      ],
      "text/plain": [
       "\u001b[2;36m                   \u001b[0m\u001b[2;36m \u001b[0m\u001b[34mINFO    \u001b[0m Invalid characters found in sequence of                           \u001b]8;id=61640;file:///data/projects/rory_says_hi/Icarust_supplementary_data/notebooks/make_squiggle.py\u001b\\\u001b[2mmake_squiggle.py\u001b[0m\u001b]8;;\u001b\\\u001b[2m:\u001b[0m\u001b]8;id=773273;file:///data/projects/rory_says_hi/Icarust_supplementary_data/notebooks/make_squiggle.py#122\u001b\\\u001b[2m122\u001b[0m\u001b]8;;\u001b\\\n",
       "\u001b[2;36m                    \u001b[0m         test_read_23_453789_454939, removing them                         \u001b[2m                    \u001b[0m\n"
      ]
     },
     "metadata": {},
     "output_type": "display_data"
    },
    {
     "data": {
      "text/html": [
       "<pre style=\"white-space:pre;overflow-x:auto;line-height:normal;font-family:Menlo,'DejaVu Sans Mono',consolas,'Courier New',monospace\"><span style=\"color: #7fbfbf; text-decoration-color: #7fbfbf\">                    </span><span style=\"color: #000080; text-decoration-color: #000080\">INFO    </span> Generating squiggle for test_read_24_636944_638144                <a href=\"file:///data/projects/rory_says_hi/Icarust_supplementary_data/notebooks/make_squiggle.py\" target=\"_blank\"><span style=\"color: #7f7f7f; text-decoration-color: #7f7f7f\">make_squiggle.py</span></a><span style=\"color: #7f7f7f; text-decoration-color: #7f7f7f\">:</span><a href=\"file:///data/projects/rory_says_hi/Icarust_supplementary_data/notebooks/make_squiggle.py#120\" target=\"_blank\"><span style=\"color: #7f7f7f; text-decoration-color: #7f7f7f\">120</span></a>\n",
       "</pre>\n"
      ],
      "text/plain": [
       "\u001b[2;36m                   \u001b[0m\u001b[2;36m \u001b[0m\u001b[34mINFO    \u001b[0m Generating squiggle for test_read_24_636944_638144                \u001b]8;id=49744;file:///data/projects/rory_says_hi/Icarust_supplementary_data/notebooks/make_squiggle.py\u001b\\\u001b[2mmake_squiggle.py\u001b[0m\u001b]8;;\u001b\\\u001b[2m:\u001b[0m\u001b]8;id=321269;file:///data/projects/rory_says_hi/Icarust_supplementary_data/notebooks/make_squiggle.py#120\u001b\\\u001b[2m120\u001b[0m\u001b]8;;\u001b\\\n"
      ]
     },
     "metadata": {},
     "output_type": "display_data"
    },
    {
     "data": {
      "text/html": [
       "<pre style=\"white-space:pre;overflow-x:auto;line-height:normal;font-family:Menlo,'DejaVu Sans Mono',consolas,'Courier New',monospace\"><span style=\"color: #7fbfbf; text-decoration-color: #7fbfbf\">                    </span><span style=\"color: #000080; text-decoration-color: #000080\">INFO    </span> Invalid characters found in sequence of                           <a href=\"file:///data/projects/rory_says_hi/Icarust_supplementary_data/notebooks/make_squiggle.py\" target=\"_blank\"><span style=\"color: #7f7f7f; text-decoration-color: #7f7f7f\">make_squiggle.py</span></a><span style=\"color: #7f7f7f; text-decoration-color: #7f7f7f\">:</span><a href=\"file:///data/projects/rory_says_hi/Icarust_supplementary_data/notebooks/make_squiggle.py#122\" target=\"_blank\"><span style=\"color: #7f7f7f; text-decoration-color: #7f7f7f\">122</span></a>\n",
       "<span style=\"color: #7fbfbf; text-decoration-color: #7fbfbf\">                    </span>         test_read_24_636944_638144, removing them                         <span style=\"color: #7f7f7f; text-decoration-color: #7f7f7f\">                    </span>\n",
       "</pre>\n"
      ],
      "text/plain": [
       "\u001b[2;36m                   \u001b[0m\u001b[2;36m \u001b[0m\u001b[34mINFO    \u001b[0m Invalid characters found in sequence of                           \u001b]8;id=961729;file:///data/projects/rory_says_hi/Icarust_supplementary_data/notebooks/make_squiggle.py\u001b\\\u001b[2mmake_squiggle.py\u001b[0m\u001b]8;;\u001b\\\u001b[2m:\u001b[0m\u001b]8;id=984915;file:///data/projects/rory_says_hi/Icarust_supplementary_data/notebooks/make_squiggle.py#122\u001b\\\u001b[2m122\u001b[0m\u001b]8;;\u001b\\\n",
       "\u001b[2;36m                    \u001b[0m         test_read_24_636944_638144, removing them                         \u001b[2m                    \u001b[0m\n"
      ]
     },
     "metadata": {},
     "output_type": "display_data"
    },
    {
     "data": {
      "text/html": [
       "<pre style=\"white-space:pre;overflow-x:auto;line-height:normal;font-family:Menlo,'DejaVu Sans Mono',consolas,'Courier New',monospace\"><span style=\"color: #7fbfbf; text-decoration-color: #7fbfbf\">                    </span><span style=\"color: #000080; text-decoration-color: #000080\">INFO    </span> Generating squiggle for test_read_25_799308_800558                <a href=\"file:///data/projects/rory_says_hi/Icarust_supplementary_data/notebooks/make_squiggle.py\" target=\"_blank\"><span style=\"color: #7f7f7f; text-decoration-color: #7f7f7f\">make_squiggle.py</span></a><span style=\"color: #7f7f7f; text-decoration-color: #7f7f7f\">:</span><a href=\"file:///data/projects/rory_says_hi/Icarust_supplementary_data/notebooks/make_squiggle.py#120\" target=\"_blank\"><span style=\"color: #7f7f7f; text-decoration-color: #7f7f7f\">120</span></a>\n",
       "</pre>\n"
      ],
      "text/plain": [
       "\u001b[2;36m                   \u001b[0m\u001b[2;36m \u001b[0m\u001b[34mINFO    \u001b[0m Generating squiggle for test_read_25_799308_800558                \u001b]8;id=592383;file:///data/projects/rory_says_hi/Icarust_supplementary_data/notebooks/make_squiggle.py\u001b\\\u001b[2mmake_squiggle.py\u001b[0m\u001b]8;;\u001b\\\u001b[2m:\u001b[0m\u001b]8;id=264616;file:///data/projects/rory_says_hi/Icarust_supplementary_data/notebooks/make_squiggle.py#120\u001b\\\u001b[2m120\u001b[0m\u001b]8;;\u001b\\\n"
      ]
     },
     "metadata": {},
     "output_type": "display_data"
    },
    {
     "data": {
      "text/html": [
       "<pre style=\"white-space:pre;overflow-x:auto;line-height:normal;font-family:Menlo,'DejaVu Sans Mono',consolas,'Courier New',monospace\"><span style=\"color: #7fbfbf; text-decoration-color: #7fbfbf\">                    </span><span style=\"color: #000080; text-decoration-color: #000080\">INFO    </span> Invalid characters found in sequence of                           <a href=\"file:///data/projects/rory_says_hi/Icarust_supplementary_data/notebooks/make_squiggle.py\" target=\"_blank\"><span style=\"color: #7f7f7f; text-decoration-color: #7f7f7f\">make_squiggle.py</span></a><span style=\"color: #7f7f7f; text-decoration-color: #7f7f7f\">:</span><a href=\"file:///data/projects/rory_says_hi/Icarust_supplementary_data/notebooks/make_squiggle.py#122\" target=\"_blank\"><span style=\"color: #7f7f7f; text-decoration-color: #7f7f7f\">122</span></a>\n",
       "<span style=\"color: #7fbfbf; text-decoration-color: #7fbfbf\">                    </span>         test_read_25_799308_800558, removing them                         <span style=\"color: #7f7f7f; text-decoration-color: #7f7f7f\">                    </span>\n",
       "</pre>\n"
      ],
      "text/plain": [
       "\u001b[2;36m                   \u001b[0m\u001b[2;36m \u001b[0m\u001b[34mINFO    \u001b[0m Invalid characters found in sequence of                           \u001b]8;id=891841;file:///data/projects/rory_says_hi/Icarust_supplementary_data/notebooks/make_squiggle.py\u001b\\\u001b[2mmake_squiggle.py\u001b[0m\u001b]8;;\u001b\\\u001b[2m:\u001b[0m\u001b]8;id=39758;file:///data/projects/rory_says_hi/Icarust_supplementary_data/notebooks/make_squiggle.py#122\u001b\\\u001b[2m122\u001b[0m\u001b]8;;\u001b\\\n",
       "\u001b[2;36m                    \u001b[0m         test_read_25_799308_800558, removing them                         \u001b[2m                    \u001b[0m\n"
      ]
     },
     "metadata": {},
     "output_type": "display_data"
    },
    {
     "data": {
      "text/html": [
       "<pre style=\"white-space:pre;overflow-x:auto;line-height:normal;font-family:Menlo,'DejaVu Sans Mono',consolas,'Courier New',monospace\"><span style=\"color: #7fbfbf; text-decoration-color: #7fbfbf\">                    </span><span style=\"color: #000080; text-decoration-color: #000080\">INFO    </span> Generating squiggle for test_read_26_804423_805723                <a href=\"file:///data/projects/rory_says_hi/Icarust_supplementary_data/notebooks/make_squiggle.py\" target=\"_blank\"><span style=\"color: #7f7f7f; text-decoration-color: #7f7f7f\">make_squiggle.py</span></a><span style=\"color: #7f7f7f; text-decoration-color: #7f7f7f\">:</span><a href=\"file:///data/projects/rory_says_hi/Icarust_supplementary_data/notebooks/make_squiggle.py#120\" target=\"_blank\"><span style=\"color: #7f7f7f; text-decoration-color: #7f7f7f\">120</span></a>\n",
       "</pre>\n"
      ],
      "text/plain": [
       "\u001b[2;36m                   \u001b[0m\u001b[2;36m \u001b[0m\u001b[34mINFO    \u001b[0m Generating squiggle for test_read_26_804423_805723                \u001b]8;id=597982;file:///data/projects/rory_says_hi/Icarust_supplementary_data/notebooks/make_squiggle.py\u001b\\\u001b[2mmake_squiggle.py\u001b[0m\u001b]8;;\u001b\\\u001b[2m:\u001b[0m\u001b]8;id=483238;file:///data/projects/rory_says_hi/Icarust_supplementary_data/notebooks/make_squiggle.py#120\u001b\\\u001b[2m120\u001b[0m\u001b]8;;\u001b\\\n"
      ]
     },
     "metadata": {},
     "output_type": "display_data"
    },
    {
     "data": {
      "text/html": [
       "<pre style=\"white-space:pre;overflow-x:auto;line-height:normal;font-family:Menlo,'DejaVu Sans Mono',consolas,'Courier New',monospace\"><span style=\"color: #7fbfbf; text-decoration-color: #7fbfbf\">                    </span><span style=\"color: #000080; text-decoration-color: #000080\">INFO    </span> Invalid characters found in sequence of                           <a href=\"file:///data/projects/rory_says_hi/Icarust_supplementary_data/notebooks/make_squiggle.py\" target=\"_blank\"><span style=\"color: #7f7f7f; text-decoration-color: #7f7f7f\">make_squiggle.py</span></a><span style=\"color: #7f7f7f; text-decoration-color: #7f7f7f\">:</span><a href=\"file:///data/projects/rory_says_hi/Icarust_supplementary_data/notebooks/make_squiggle.py#122\" target=\"_blank\"><span style=\"color: #7f7f7f; text-decoration-color: #7f7f7f\">122</span></a>\n",
       "<span style=\"color: #7fbfbf; text-decoration-color: #7fbfbf\">                    </span>         test_read_26_804423_805723, removing them                         <span style=\"color: #7f7f7f; text-decoration-color: #7f7f7f\">                    </span>\n",
       "</pre>\n"
      ],
      "text/plain": [
       "\u001b[2;36m                   \u001b[0m\u001b[2;36m \u001b[0m\u001b[34mINFO    \u001b[0m Invalid characters found in sequence of                           \u001b]8;id=817907;file:///data/projects/rory_says_hi/Icarust_supplementary_data/notebooks/make_squiggle.py\u001b\\\u001b[2mmake_squiggle.py\u001b[0m\u001b]8;;\u001b\\\u001b[2m:\u001b[0m\u001b]8;id=738221;file:///data/projects/rory_says_hi/Icarust_supplementary_data/notebooks/make_squiggle.py#122\u001b\\\u001b[2m122\u001b[0m\u001b]8;;\u001b\\\n",
       "\u001b[2;36m                    \u001b[0m         test_read_26_804423_805723, removing them                         \u001b[2m                    \u001b[0m\n"
      ]
     },
     "metadata": {},
     "output_type": "display_data"
    },
    {
     "data": {
      "text/html": [
       "<pre style=\"white-space:pre;overflow-x:auto;line-height:normal;font-family:Menlo,'DejaVu Sans Mono',consolas,'Courier New',monospace\"><span style=\"color: #7fbfbf; text-decoration-color: #7fbfbf\">                    </span><span style=\"color: #000080; text-decoration-color: #000080\">INFO    </span> Generating squiggle for test_read_27_2208_3558                    <a href=\"file:///data/projects/rory_says_hi/Icarust_supplementary_data/notebooks/make_squiggle.py\" target=\"_blank\"><span style=\"color: #7f7f7f; text-decoration-color: #7f7f7f\">make_squiggle.py</span></a><span style=\"color: #7f7f7f; text-decoration-color: #7f7f7f\">:</span><a href=\"file:///data/projects/rory_says_hi/Icarust_supplementary_data/notebooks/make_squiggle.py#120\" target=\"_blank\"><span style=\"color: #7f7f7f; text-decoration-color: #7f7f7f\">120</span></a>\n",
       "</pre>\n"
      ],
      "text/plain": [
       "\u001b[2;36m                   \u001b[0m\u001b[2;36m \u001b[0m\u001b[34mINFO    \u001b[0m Generating squiggle for test_read_27_2208_3558                    \u001b]8;id=210142;file:///data/projects/rory_says_hi/Icarust_supplementary_data/notebooks/make_squiggle.py\u001b\\\u001b[2mmake_squiggle.py\u001b[0m\u001b]8;;\u001b\\\u001b[2m:\u001b[0m\u001b]8;id=363783;file:///data/projects/rory_says_hi/Icarust_supplementary_data/notebooks/make_squiggle.py#120\u001b\\\u001b[2m120\u001b[0m\u001b]8;;\u001b\\\n"
      ]
     },
     "metadata": {},
     "output_type": "display_data"
    },
    {
     "data": {
      "text/html": [
       "<pre style=\"white-space:pre;overflow-x:auto;line-height:normal;font-family:Menlo,'DejaVu Sans Mono',consolas,'Courier New',monospace\"><span style=\"color: #7fbfbf; text-decoration-color: #7fbfbf\">                    </span><span style=\"color: #000080; text-decoration-color: #000080\">INFO    </span> Invalid characters found in sequence of test_read_27_2208_3558,   <a href=\"file:///data/projects/rory_says_hi/Icarust_supplementary_data/notebooks/make_squiggle.py\" target=\"_blank\"><span style=\"color: #7f7f7f; text-decoration-color: #7f7f7f\">make_squiggle.py</span></a><span style=\"color: #7f7f7f; text-decoration-color: #7f7f7f\">:</span><a href=\"file:///data/projects/rory_says_hi/Icarust_supplementary_data/notebooks/make_squiggle.py#122\" target=\"_blank\"><span style=\"color: #7f7f7f; text-decoration-color: #7f7f7f\">122</span></a>\n",
       "<span style=\"color: #7fbfbf; text-decoration-color: #7fbfbf\">                    </span>         removing them                                                     <span style=\"color: #7f7f7f; text-decoration-color: #7f7f7f\">                    </span>\n",
       "</pre>\n"
      ],
      "text/plain": [
       "\u001b[2;36m                   \u001b[0m\u001b[2;36m \u001b[0m\u001b[34mINFO    \u001b[0m Invalid characters found in sequence of test_read_27_2208_3558,   \u001b]8;id=940117;file:///data/projects/rory_says_hi/Icarust_supplementary_data/notebooks/make_squiggle.py\u001b\\\u001b[2mmake_squiggle.py\u001b[0m\u001b]8;;\u001b\\\u001b[2m:\u001b[0m\u001b]8;id=453981;file:///data/projects/rory_says_hi/Icarust_supplementary_data/notebooks/make_squiggle.py#122\u001b\\\u001b[2m122\u001b[0m\u001b]8;;\u001b\\\n",
       "\u001b[2;36m                    \u001b[0m         removing them                                                     \u001b[2m                    \u001b[0m\n"
      ]
     },
     "metadata": {},
     "output_type": "display_data"
    },
    {
     "data": {
      "text/html": [
       "<pre style=\"white-space:pre;overflow-x:auto;line-height:normal;font-family:Menlo,'DejaVu Sans Mono',consolas,'Courier New',monospace\"><span style=\"color: #7fbfbf; text-decoration-color: #7fbfbf\">                    </span><span style=\"color: #000080; text-decoration-color: #000080\">INFO    </span> Generating squiggle for test_read_28_729633_731033                <a href=\"file:///data/projects/rory_says_hi/Icarust_supplementary_data/notebooks/make_squiggle.py\" target=\"_blank\"><span style=\"color: #7f7f7f; text-decoration-color: #7f7f7f\">make_squiggle.py</span></a><span style=\"color: #7f7f7f; text-decoration-color: #7f7f7f\">:</span><a href=\"file:///data/projects/rory_says_hi/Icarust_supplementary_data/notebooks/make_squiggle.py#120\" target=\"_blank\"><span style=\"color: #7f7f7f; text-decoration-color: #7f7f7f\">120</span></a>\n",
       "</pre>\n"
      ],
      "text/plain": [
       "\u001b[2;36m                   \u001b[0m\u001b[2;36m \u001b[0m\u001b[34mINFO    \u001b[0m Generating squiggle for test_read_28_729633_731033                \u001b]8;id=983515;file:///data/projects/rory_says_hi/Icarust_supplementary_data/notebooks/make_squiggle.py\u001b\\\u001b[2mmake_squiggle.py\u001b[0m\u001b]8;;\u001b\\\u001b[2m:\u001b[0m\u001b]8;id=698307;file:///data/projects/rory_says_hi/Icarust_supplementary_data/notebooks/make_squiggle.py#120\u001b\\\u001b[2m120\u001b[0m\u001b]8;;\u001b\\\n"
      ]
     },
     "metadata": {},
     "output_type": "display_data"
    },
    {
     "data": {
      "text/html": [
       "<pre style=\"white-space:pre;overflow-x:auto;line-height:normal;font-family:Menlo,'DejaVu Sans Mono',consolas,'Courier New',monospace\"><span style=\"color: #7fbfbf; text-decoration-color: #7fbfbf\">                    </span><span style=\"color: #000080; text-decoration-color: #000080\">INFO    </span> Invalid characters found in sequence of                           <a href=\"file:///data/projects/rory_says_hi/Icarust_supplementary_data/notebooks/make_squiggle.py\" target=\"_blank\"><span style=\"color: #7f7f7f; text-decoration-color: #7f7f7f\">make_squiggle.py</span></a><span style=\"color: #7f7f7f; text-decoration-color: #7f7f7f\">:</span><a href=\"file:///data/projects/rory_says_hi/Icarust_supplementary_data/notebooks/make_squiggle.py#122\" target=\"_blank\"><span style=\"color: #7f7f7f; text-decoration-color: #7f7f7f\">122</span></a>\n",
       "<span style=\"color: #7fbfbf; text-decoration-color: #7fbfbf\">                    </span>         test_read_28_729633_731033, removing them                         <span style=\"color: #7f7f7f; text-decoration-color: #7f7f7f\">                    </span>\n",
       "</pre>\n"
      ],
      "text/plain": [
       "\u001b[2;36m                   \u001b[0m\u001b[2;36m \u001b[0m\u001b[34mINFO    \u001b[0m Invalid characters found in sequence of                           \u001b]8;id=18035;file:///data/projects/rory_says_hi/Icarust_supplementary_data/notebooks/make_squiggle.py\u001b\\\u001b[2mmake_squiggle.py\u001b[0m\u001b]8;;\u001b\\\u001b[2m:\u001b[0m\u001b]8;id=341149;file:///data/projects/rory_says_hi/Icarust_supplementary_data/notebooks/make_squiggle.py#122\u001b\\\u001b[2m122\u001b[0m\u001b]8;;\u001b\\\n",
       "\u001b[2;36m                    \u001b[0m         test_read_28_729633_731033, removing them                         \u001b[2m                    \u001b[0m\n"
      ]
     },
     "metadata": {},
     "output_type": "display_data"
    },
    {
     "data": {
      "text/html": [
       "<pre style=\"white-space:pre;overflow-x:auto;line-height:normal;font-family:Menlo,'DejaVu Sans Mono',consolas,'Courier New',monospace\"><span style=\"color: #7fbfbf; text-decoration-color: #7fbfbf\">                    </span><span style=\"color: #000080; text-decoration-color: #000080\">INFO    </span> Generating squiggle for test_read_29_467022_468472                <a href=\"file:///data/projects/rory_says_hi/Icarust_supplementary_data/notebooks/make_squiggle.py\" target=\"_blank\"><span style=\"color: #7f7f7f; text-decoration-color: #7f7f7f\">make_squiggle.py</span></a><span style=\"color: #7f7f7f; text-decoration-color: #7f7f7f\">:</span><a href=\"file:///data/projects/rory_says_hi/Icarust_supplementary_data/notebooks/make_squiggle.py#120\" target=\"_blank\"><span style=\"color: #7f7f7f; text-decoration-color: #7f7f7f\">120</span></a>\n",
       "</pre>\n"
      ],
      "text/plain": [
       "\u001b[2;36m                   \u001b[0m\u001b[2;36m \u001b[0m\u001b[34mINFO    \u001b[0m Generating squiggle for test_read_29_467022_468472                \u001b]8;id=295018;file:///data/projects/rory_says_hi/Icarust_supplementary_data/notebooks/make_squiggle.py\u001b\\\u001b[2mmake_squiggle.py\u001b[0m\u001b]8;;\u001b\\\u001b[2m:\u001b[0m\u001b]8;id=18971;file:///data/projects/rory_says_hi/Icarust_supplementary_data/notebooks/make_squiggle.py#120\u001b\\\u001b[2m120\u001b[0m\u001b]8;;\u001b\\\n"
      ]
     },
     "metadata": {},
     "output_type": "display_data"
    },
    {
     "data": {
      "text/html": [
       "<pre style=\"white-space:pre;overflow-x:auto;line-height:normal;font-family:Menlo,'DejaVu Sans Mono',consolas,'Courier New',monospace\"><span style=\"color: #7fbfbf; text-decoration-color: #7fbfbf\">                    </span><span style=\"color: #000080; text-decoration-color: #000080\">INFO    </span> Invalid characters found in sequence of                           <a href=\"file:///data/projects/rory_says_hi/Icarust_supplementary_data/notebooks/make_squiggle.py\" target=\"_blank\"><span style=\"color: #7f7f7f; text-decoration-color: #7f7f7f\">make_squiggle.py</span></a><span style=\"color: #7f7f7f; text-decoration-color: #7f7f7f\">:</span><a href=\"file:///data/projects/rory_says_hi/Icarust_supplementary_data/notebooks/make_squiggle.py#122\" target=\"_blank\"><span style=\"color: #7f7f7f; text-decoration-color: #7f7f7f\">122</span></a>\n",
       "<span style=\"color: #7fbfbf; text-decoration-color: #7fbfbf\">                    </span>         test_read_29_467022_468472, removing them                         <span style=\"color: #7f7f7f; text-decoration-color: #7f7f7f\">                    </span>\n",
       "</pre>\n"
      ],
      "text/plain": [
       "\u001b[2;36m                   \u001b[0m\u001b[2;36m \u001b[0m\u001b[34mINFO    \u001b[0m Invalid characters found in sequence of                           \u001b]8;id=850540;file:///data/projects/rory_says_hi/Icarust_supplementary_data/notebooks/make_squiggle.py\u001b\\\u001b[2mmake_squiggle.py\u001b[0m\u001b]8;;\u001b\\\u001b[2m:\u001b[0m\u001b]8;id=590705;file:///data/projects/rory_says_hi/Icarust_supplementary_data/notebooks/make_squiggle.py#122\u001b\\\u001b[2m122\u001b[0m\u001b]8;;\u001b\\\n",
       "\u001b[2;36m                    \u001b[0m         test_read_29_467022_468472, removing them                         \u001b[2m                    \u001b[0m\n"
      ]
     },
     "metadata": {},
     "output_type": "display_data"
    },
    {
     "data": {
      "text/html": [
       "<pre style=\"white-space:pre;overflow-x:auto;line-height:normal;font-family:Menlo,'DejaVu Sans Mono',consolas,'Courier New',monospace\"><span style=\"color: #7fbfbf; text-decoration-color: #7fbfbf\">                    </span><span style=\"color: #000080; text-decoration-color: #000080\">INFO    </span> Generating squiggle for test_read_30_279267_280767                <a href=\"file:///data/projects/rory_says_hi/Icarust_supplementary_data/notebooks/make_squiggle.py\" target=\"_blank\"><span style=\"color: #7f7f7f; text-decoration-color: #7f7f7f\">make_squiggle.py</span></a><span style=\"color: #7f7f7f; text-decoration-color: #7f7f7f\">:</span><a href=\"file:///data/projects/rory_says_hi/Icarust_supplementary_data/notebooks/make_squiggle.py#120\" target=\"_blank\"><span style=\"color: #7f7f7f; text-decoration-color: #7f7f7f\">120</span></a>\n",
       "</pre>\n"
      ],
      "text/plain": [
       "\u001b[2;36m                   \u001b[0m\u001b[2;36m \u001b[0m\u001b[34mINFO    \u001b[0m Generating squiggle for test_read_30_279267_280767                \u001b]8;id=223377;file:///data/projects/rory_says_hi/Icarust_supplementary_data/notebooks/make_squiggle.py\u001b\\\u001b[2mmake_squiggle.py\u001b[0m\u001b]8;;\u001b\\\u001b[2m:\u001b[0m\u001b]8;id=279482;file:///data/projects/rory_says_hi/Icarust_supplementary_data/notebooks/make_squiggle.py#120\u001b\\\u001b[2m120\u001b[0m\u001b]8;;\u001b\\\n"
      ]
     },
     "metadata": {},
     "output_type": "display_data"
    },
    {
     "data": {
      "text/html": [
       "<pre style=\"white-space:pre;overflow-x:auto;line-height:normal;font-family:Menlo,'DejaVu Sans Mono',consolas,'Courier New',monospace\"><span style=\"color: #7fbfbf; text-decoration-color: #7fbfbf\">                    </span><span style=\"color: #000080; text-decoration-color: #000080\">INFO    </span> Invalid characters found in sequence of                           <a href=\"file:///data/projects/rory_says_hi/Icarust_supplementary_data/notebooks/make_squiggle.py\" target=\"_blank\"><span style=\"color: #7f7f7f; text-decoration-color: #7f7f7f\">make_squiggle.py</span></a><span style=\"color: #7f7f7f; text-decoration-color: #7f7f7f\">:</span><a href=\"file:///data/projects/rory_says_hi/Icarust_supplementary_data/notebooks/make_squiggle.py#122\" target=\"_blank\"><span style=\"color: #7f7f7f; text-decoration-color: #7f7f7f\">122</span></a>\n",
       "<span style=\"color: #7fbfbf; text-decoration-color: #7fbfbf\">                    </span>         test_read_30_279267_280767, removing them                         <span style=\"color: #7f7f7f; text-decoration-color: #7f7f7f\">                    </span>\n",
       "</pre>\n"
      ],
      "text/plain": [
       "\u001b[2;36m                   \u001b[0m\u001b[2;36m \u001b[0m\u001b[34mINFO    \u001b[0m Invalid characters found in sequence of                           \u001b]8;id=977469;file:///data/projects/rory_says_hi/Icarust_supplementary_data/notebooks/make_squiggle.py\u001b\\\u001b[2mmake_squiggle.py\u001b[0m\u001b]8;;\u001b\\\u001b[2m:\u001b[0m\u001b]8;id=574228;file:///data/projects/rory_says_hi/Icarust_supplementary_data/notebooks/make_squiggle.py#122\u001b\\\u001b[2m122\u001b[0m\u001b]8;;\u001b\\\n",
       "\u001b[2;36m                    \u001b[0m         test_read_30_279267_280767, removing them                         \u001b[2m                    \u001b[0m\n"
      ]
     },
     "metadata": {},
     "output_type": "display_data"
    },
    {
     "data": {
      "text/html": [
       "<pre style=\"white-space:pre;overflow-x:auto;line-height:normal;font-family:Menlo,'DejaVu Sans Mono',consolas,'Courier New',monospace\"><span style=\"color: #7fbfbf; text-decoration-color: #7fbfbf\">                    </span><span style=\"color: #000080; text-decoration-color: #000080\">INFO    </span> Generating squiggle for test_read_31_756589_758139                <a href=\"file:///data/projects/rory_says_hi/Icarust_supplementary_data/notebooks/make_squiggle.py\" target=\"_blank\"><span style=\"color: #7f7f7f; text-decoration-color: #7f7f7f\">make_squiggle.py</span></a><span style=\"color: #7f7f7f; text-decoration-color: #7f7f7f\">:</span><a href=\"file:///data/projects/rory_says_hi/Icarust_supplementary_data/notebooks/make_squiggle.py#120\" target=\"_blank\"><span style=\"color: #7f7f7f; text-decoration-color: #7f7f7f\">120</span></a>\n",
       "</pre>\n"
      ],
      "text/plain": [
       "\u001b[2;36m                   \u001b[0m\u001b[2;36m \u001b[0m\u001b[34mINFO    \u001b[0m Generating squiggle for test_read_31_756589_758139                \u001b]8;id=720487;file:///data/projects/rory_says_hi/Icarust_supplementary_data/notebooks/make_squiggle.py\u001b\\\u001b[2mmake_squiggle.py\u001b[0m\u001b]8;;\u001b\\\u001b[2m:\u001b[0m\u001b]8;id=560285;file:///data/projects/rory_says_hi/Icarust_supplementary_data/notebooks/make_squiggle.py#120\u001b\\\u001b[2m120\u001b[0m\u001b]8;;\u001b\\\n"
      ]
     },
     "metadata": {},
     "output_type": "display_data"
    },
    {
     "data": {
      "text/html": [
       "<pre style=\"white-space:pre;overflow-x:auto;line-height:normal;font-family:Menlo,'DejaVu Sans Mono',consolas,'Courier New',monospace\"><span style=\"color: #7fbfbf; text-decoration-color: #7fbfbf\">                    </span><span style=\"color: #000080; text-decoration-color: #000080\">INFO    </span> Invalid characters found in sequence of                           <a href=\"file:///data/projects/rory_says_hi/Icarust_supplementary_data/notebooks/make_squiggle.py\" target=\"_blank\"><span style=\"color: #7f7f7f; text-decoration-color: #7f7f7f\">make_squiggle.py</span></a><span style=\"color: #7f7f7f; text-decoration-color: #7f7f7f\">:</span><a href=\"file:///data/projects/rory_says_hi/Icarust_supplementary_data/notebooks/make_squiggle.py#122\" target=\"_blank\"><span style=\"color: #7f7f7f; text-decoration-color: #7f7f7f\">122</span></a>\n",
       "<span style=\"color: #7fbfbf; text-decoration-color: #7fbfbf\">                    </span>         test_read_31_756589_758139, removing them                         <span style=\"color: #7f7f7f; text-decoration-color: #7f7f7f\">                    </span>\n",
       "</pre>\n"
      ],
      "text/plain": [
       "\u001b[2;36m                   \u001b[0m\u001b[2;36m \u001b[0m\u001b[34mINFO    \u001b[0m Invalid characters found in sequence of                           \u001b]8;id=68495;file:///data/projects/rory_says_hi/Icarust_supplementary_data/notebooks/make_squiggle.py\u001b\\\u001b[2mmake_squiggle.py\u001b[0m\u001b]8;;\u001b\\\u001b[2m:\u001b[0m\u001b]8;id=760705;file:///data/projects/rory_says_hi/Icarust_supplementary_data/notebooks/make_squiggle.py#122\u001b\\\u001b[2m122\u001b[0m\u001b]8;;\u001b\\\n",
       "\u001b[2;36m                    \u001b[0m         test_read_31_756589_758139, removing them                         \u001b[2m                    \u001b[0m\n"
      ]
     },
     "metadata": {},
     "output_type": "display_data"
    },
    {
     "data": {
      "text/html": [
       "<pre style=\"white-space:pre;overflow-x:auto;line-height:normal;font-family:Menlo,'DejaVu Sans Mono',consolas,'Courier New',monospace\"><span style=\"color: #7fbfbf; text-decoration-color: #7fbfbf\">                    </span><span style=\"color: #000080; text-decoration-color: #000080\">INFO    </span> Generating squiggle for test_read_32_840775_842375                <a href=\"file:///data/projects/rory_says_hi/Icarust_supplementary_data/notebooks/make_squiggle.py\" target=\"_blank\"><span style=\"color: #7f7f7f; text-decoration-color: #7f7f7f\">make_squiggle.py</span></a><span style=\"color: #7f7f7f; text-decoration-color: #7f7f7f\">:</span><a href=\"file:///data/projects/rory_says_hi/Icarust_supplementary_data/notebooks/make_squiggle.py#120\" target=\"_blank\"><span style=\"color: #7f7f7f; text-decoration-color: #7f7f7f\">120</span></a>\n",
       "</pre>\n"
      ],
      "text/plain": [
       "\u001b[2;36m                   \u001b[0m\u001b[2;36m \u001b[0m\u001b[34mINFO    \u001b[0m Generating squiggle for test_read_32_840775_842375                \u001b]8;id=174643;file:///data/projects/rory_says_hi/Icarust_supplementary_data/notebooks/make_squiggle.py\u001b\\\u001b[2mmake_squiggle.py\u001b[0m\u001b]8;;\u001b\\\u001b[2m:\u001b[0m\u001b]8;id=955239;file:///data/projects/rory_says_hi/Icarust_supplementary_data/notebooks/make_squiggle.py#120\u001b\\\u001b[2m120\u001b[0m\u001b]8;;\u001b\\\n"
      ]
     },
     "metadata": {},
     "output_type": "display_data"
    },
    {
     "data": {
      "text/html": [
       "<pre style=\"white-space:pre;overflow-x:auto;line-height:normal;font-family:Menlo,'DejaVu Sans Mono',consolas,'Courier New',monospace\"><span style=\"color: #7fbfbf; text-decoration-color: #7fbfbf\">                    </span><span style=\"color: #000080; text-decoration-color: #000080\">INFO    </span> Invalid characters found in sequence of                           <a href=\"file:///data/projects/rory_says_hi/Icarust_supplementary_data/notebooks/make_squiggle.py\" target=\"_blank\"><span style=\"color: #7f7f7f; text-decoration-color: #7f7f7f\">make_squiggle.py</span></a><span style=\"color: #7f7f7f; text-decoration-color: #7f7f7f\">:</span><a href=\"file:///data/projects/rory_says_hi/Icarust_supplementary_data/notebooks/make_squiggle.py#122\" target=\"_blank\"><span style=\"color: #7f7f7f; text-decoration-color: #7f7f7f\">122</span></a>\n",
       "<span style=\"color: #7fbfbf; text-decoration-color: #7fbfbf\">                    </span>         test_read_32_840775_842375, removing them                         <span style=\"color: #7f7f7f; text-decoration-color: #7f7f7f\">                    </span>\n",
       "</pre>\n"
      ],
      "text/plain": [
       "\u001b[2;36m                   \u001b[0m\u001b[2;36m \u001b[0m\u001b[34mINFO    \u001b[0m Invalid characters found in sequence of                           \u001b]8;id=348372;file:///data/projects/rory_says_hi/Icarust_supplementary_data/notebooks/make_squiggle.py\u001b\\\u001b[2mmake_squiggle.py\u001b[0m\u001b]8;;\u001b\\\u001b[2m:\u001b[0m\u001b]8;id=629364;file:///data/projects/rory_says_hi/Icarust_supplementary_data/notebooks/make_squiggle.py#122\u001b\\\u001b[2m122\u001b[0m\u001b]8;;\u001b\\\n",
       "\u001b[2;36m                    \u001b[0m         test_read_32_840775_842375, removing them                         \u001b[2m                    \u001b[0m\n"
      ]
     },
     "metadata": {},
     "output_type": "display_data"
    },
    {
     "data": {
      "text/html": [
       "<pre style=\"white-space:pre;overflow-x:auto;line-height:normal;font-family:Menlo,'DejaVu Sans Mono',consolas,'Courier New',monospace\"><span style=\"color: #7fbfbf; text-decoration-color: #7fbfbf\">                    </span><span style=\"color: #000080; text-decoration-color: #000080\">INFO    </span> Generating squiggle for test_read_33_239874_241524                <a href=\"file:///data/projects/rory_says_hi/Icarust_supplementary_data/notebooks/make_squiggle.py\" target=\"_blank\"><span style=\"color: #7f7f7f; text-decoration-color: #7f7f7f\">make_squiggle.py</span></a><span style=\"color: #7f7f7f; text-decoration-color: #7f7f7f\">:</span><a href=\"file:///data/projects/rory_says_hi/Icarust_supplementary_data/notebooks/make_squiggle.py#120\" target=\"_blank\"><span style=\"color: #7f7f7f; text-decoration-color: #7f7f7f\">120</span></a>\n",
       "</pre>\n"
      ],
      "text/plain": [
       "\u001b[2;36m                   \u001b[0m\u001b[2;36m \u001b[0m\u001b[34mINFO    \u001b[0m Generating squiggle for test_read_33_239874_241524                \u001b]8;id=355311;file:///data/projects/rory_says_hi/Icarust_supplementary_data/notebooks/make_squiggle.py\u001b\\\u001b[2mmake_squiggle.py\u001b[0m\u001b]8;;\u001b\\\u001b[2m:\u001b[0m\u001b]8;id=356814;file:///data/projects/rory_says_hi/Icarust_supplementary_data/notebooks/make_squiggle.py#120\u001b\\\u001b[2m120\u001b[0m\u001b]8;;\u001b\\\n"
      ]
     },
     "metadata": {},
     "output_type": "display_data"
    },
    {
     "data": {
      "text/html": [
       "<pre style=\"white-space:pre;overflow-x:auto;line-height:normal;font-family:Menlo,'DejaVu Sans Mono',consolas,'Courier New',monospace\"><span style=\"color: #7fbfbf; text-decoration-color: #7fbfbf\">                    </span><span style=\"color: #000080; text-decoration-color: #000080\">INFO    </span> Invalid characters found in sequence of                           <a href=\"file:///data/projects/rory_says_hi/Icarust_supplementary_data/notebooks/make_squiggle.py\" target=\"_blank\"><span style=\"color: #7f7f7f; text-decoration-color: #7f7f7f\">make_squiggle.py</span></a><span style=\"color: #7f7f7f; text-decoration-color: #7f7f7f\">:</span><a href=\"file:///data/projects/rory_says_hi/Icarust_supplementary_data/notebooks/make_squiggle.py#122\" target=\"_blank\"><span style=\"color: #7f7f7f; text-decoration-color: #7f7f7f\">122</span></a>\n",
       "<span style=\"color: #7fbfbf; text-decoration-color: #7fbfbf\">                    </span>         test_read_33_239874_241524, removing them                         <span style=\"color: #7f7f7f; text-decoration-color: #7f7f7f\">                    </span>\n",
       "</pre>\n"
      ],
      "text/plain": [
       "\u001b[2;36m                   \u001b[0m\u001b[2;36m \u001b[0m\u001b[34mINFO    \u001b[0m Invalid characters found in sequence of                           \u001b]8;id=989850;file:///data/projects/rory_says_hi/Icarust_supplementary_data/notebooks/make_squiggle.py\u001b\\\u001b[2mmake_squiggle.py\u001b[0m\u001b]8;;\u001b\\\u001b[2m:\u001b[0m\u001b]8;id=633321;file:///data/projects/rory_says_hi/Icarust_supplementary_data/notebooks/make_squiggle.py#122\u001b\\\u001b[2m122\u001b[0m\u001b]8;;\u001b\\\n",
       "\u001b[2;36m                    \u001b[0m         test_read_33_239874_241524, removing them                         \u001b[2m                    \u001b[0m\n"
      ]
     },
     "metadata": {},
     "output_type": "display_data"
    },
    {
     "data": {
      "text/html": [
       "<pre style=\"white-space:pre;overflow-x:auto;line-height:normal;font-family:Menlo,'DejaVu Sans Mono',consolas,'Courier New',monospace\"><span style=\"color: #7fbfbf; text-decoration-color: #7fbfbf\">                    </span><span style=\"color: #000080; text-decoration-color: #000080\">INFO    </span> Generating squiggle for test_read_34_619869_621569                <a href=\"file:///data/projects/rory_says_hi/Icarust_supplementary_data/notebooks/make_squiggle.py\" target=\"_blank\"><span style=\"color: #7f7f7f; text-decoration-color: #7f7f7f\">make_squiggle.py</span></a><span style=\"color: #7f7f7f; text-decoration-color: #7f7f7f\">:</span><a href=\"file:///data/projects/rory_says_hi/Icarust_supplementary_data/notebooks/make_squiggle.py#120\" target=\"_blank\"><span style=\"color: #7f7f7f; text-decoration-color: #7f7f7f\">120</span></a>\n",
       "</pre>\n"
      ],
      "text/plain": [
       "\u001b[2;36m                   \u001b[0m\u001b[2;36m \u001b[0m\u001b[34mINFO    \u001b[0m Generating squiggle for test_read_34_619869_621569                \u001b]8;id=141920;file:///data/projects/rory_says_hi/Icarust_supplementary_data/notebooks/make_squiggle.py\u001b\\\u001b[2mmake_squiggle.py\u001b[0m\u001b]8;;\u001b\\\u001b[2m:\u001b[0m\u001b]8;id=608129;file:///data/projects/rory_says_hi/Icarust_supplementary_data/notebooks/make_squiggle.py#120\u001b\\\u001b[2m120\u001b[0m\u001b]8;;\u001b\\\n"
      ]
     },
     "metadata": {},
     "output_type": "display_data"
    },
    {
     "data": {
      "text/html": [
       "<pre style=\"white-space:pre;overflow-x:auto;line-height:normal;font-family:Menlo,'DejaVu Sans Mono',consolas,'Courier New',monospace\"><span style=\"color: #7fbfbf; text-decoration-color: #7fbfbf\">                    </span><span style=\"color: #000080; text-decoration-color: #000080\">INFO    </span> Invalid characters found in sequence of                           <a href=\"file:///data/projects/rory_says_hi/Icarust_supplementary_data/notebooks/make_squiggle.py\" target=\"_blank\"><span style=\"color: #7f7f7f; text-decoration-color: #7f7f7f\">make_squiggle.py</span></a><span style=\"color: #7f7f7f; text-decoration-color: #7f7f7f\">:</span><a href=\"file:///data/projects/rory_says_hi/Icarust_supplementary_data/notebooks/make_squiggle.py#122\" target=\"_blank\"><span style=\"color: #7f7f7f; text-decoration-color: #7f7f7f\">122</span></a>\n",
       "<span style=\"color: #7fbfbf; text-decoration-color: #7fbfbf\">                    </span>         test_read_34_619869_621569, removing them                         <span style=\"color: #7f7f7f; text-decoration-color: #7f7f7f\">                    </span>\n",
       "</pre>\n"
      ],
      "text/plain": [
       "\u001b[2;36m                   \u001b[0m\u001b[2;36m \u001b[0m\u001b[34mINFO    \u001b[0m Invalid characters found in sequence of                           \u001b]8;id=41038;file:///data/projects/rory_says_hi/Icarust_supplementary_data/notebooks/make_squiggle.py\u001b\\\u001b[2mmake_squiggle.py\u001b[0m\u001b]8;;\u001b\\\u001b[2m:\u001b[0m\u001b]8;id=426349;file:///data/projects/rory_says_hi/Icarust_supplementary_data/notebooks/make_squiggle.py#122\u001b\\\u001b[2m122\u001b[0m\u001b]8;;\u001b\\\n",
       "\u001b[2;36m                    \u001b[0m         test_read_34_619869_621569, removing them                         \u001b[2m                    \u001b[0m\n"
      ]
     },
     "metadata": {},
     "output_type": "display_data"
    },
    {
     "data": {
      "text/html": [
       "<pre style=\"white-space:pre;overflow-x:auto;line-height:normal;font-family:Menlo,'DejaVu Sans Mono',consolas,'Courier New',monospace\"><span style=\"color: #7fbfbf; text-decoration-color: #7fbfbf\">                    </span><span style=\"color: #000080; text-decoration-color: #000080\">INFO    </span> Generating squiggle for test_read_35_991188_992938                <a href=\"file:///data/projects/rory_says_hi/Icarust_supplementary_data/notebooks/make_squiggle.py\" target=\"_blank\"><span style=\"color: #7f7f7f; text-decoration-color: #7f7f7f\">make_squiggle.py</span></a><span style=\"color: #7f7f7f; text-decoration-color: #7f7f7f\">:</span><a href=\"file:///data/projects/rory_says_hi/Icarust_supplementary_data/notebooks/make_squiggle.py#120\" target=\"_blank\"><span style=\"color: #7f7f7f; text-decoration-color: #7f7f7f\">120</span></a>\n",
       "</pre>\n"
      ],
      "text/plain": [
       "\u001b[2;36m                   \u001b[0m\u001b[2;36m \u001b[0m\u001b[34mINFO    \u001b[0m Generating squiggle for test_read_35_991188_992938                \u001b]8;id=154485;file:///data/projects/rory_says_hi/Icarust_supplementary_data/notebooks/make_squiggle.py\u001b\\\u001b[2mmake_squiggle.py\u001b[0m\u001b]8;;\u001b\\\u001b[2m:\u001b[0m\u001b]8;id=868751;file:///data/projects/rory_says_hi/Icarust_supplementary_data/notebooks/make_squiggle.py#120\u001b\\\u001b[2m120\u001b[0m\u001b]8;;\u001b\\\n"
      ]
     },
     "metadata": {},
     "output_type": "display_data"
    },
    {
     "data": {
      "text/html": [
       "<pre style=\"white-space:pre;overflow-x:auto;line-height:normal;font-family:Menlo,'DejaVu Sans Mono',consolas,'Courier New',monospace\"><span style=\"color: #7fbfbf; text-decoration-color: #7fbfbf\">                    </span><span style=\"color: #000080; text-decoration-color: #000080\">INFO    </span> Invalid characters found in sequence of                           <a href=\"file:///data/projects/rory_says_hi/Icarust_supplementary_data/notebooks/make_squiggle.py\" target=\"_blank\"><span style=\"color: #7f7f7f; text-decoration-color: #7f7f7f\">make_squiggle.py</span></a><span style=\"color: #7f7f7f; text-decoration-color: #7f7f7f\">:</span><a href=\"file:///data/projects/rory_says_hi/Icarust_supplementary_data/notebooks/make_squiggle.py#122\" target=\"_blank\"><span style=\"color: #7f7f7f; text-decoration-color: #7f7f7f\">122</span></a>\n",
       "<span style=\"color: #7fbfbf; text-decoration-color: #7fbfbf\">                    </span>         test_read_35_991188_992938, removing them                         <span style=\"color: #7f7f7f; text-decoration-color: #7f7f7f\">                    </span>\n",
       "</pre>\n"
      ],
      "text/plain": [
       "\u001b[2;36m                   \u001b[0m\u001b[2;36m \u001b[0m\u001b[34mINFO    \u001b[0m Invalid characters found in sequence of                           \u001b]8;id=615941;file:///data/projects/rory_says_hi/Icarust_supplementary_data/notebooks/make_squiggle.py\u001b\\\u001b[2mmake_squiggle.py\u001b[0m\u001b]8;;\u001b\\\u001b[2m:\u001b[0m\u001b]8;id=819885;file:///data/projects/rory_says_hi/Icarust_supplementary_data/notebooks/make_squiggle.py#122\u001b\\\u001b[2m122\u001b[0m\u001b]8;;\u001b\\\n",
       "\u001b[2;36m                    \u001b[0m         test_read_35_991188_992938, removing them                         \u001b[2m                    \u001b[0m\n"
      ]
     },
     "metadata": {},
     "output_type": "display_data"
    },
    {
     "data": {
      "text/html": [
       "<pre style=\"white-space:pre;overflow-x:auto;line-height:normal;font-family:Menlo,'DejaVu Sans Mono',consolas,'Courier New',monospace\"><span style=\"color: #7fbfbf; text-decoration-color: #7fbfbf\">                    </span><span style=\"color: #000080; text-decoration-color: #000080\">INFO    </span> Generating squiggle for test_read_36_107192_108992                <a href=\"file:///data/projects/rory_says_hi/Icarust_supplementary_data/notebooks/make_squiggle.py\" target=\"_blank\"><span style=\"color: #7f7f7f; text-decoration-color: #7f7f7f\">make_squiggle.py</span></a><span style=\"color: #7f7f7f; text-decoration-color: #7f7f7f\">:</span><a href=\"file:///data/projects/rory_says_hi/Icarust_supplementary_data/notebooks/make_squiggle.py#120\" target=\"_blank\"><span style=\"color: #7f7f7f; text-decoration-color: #7f7f7f\">120</span></a>\n",
       "</pre>\n"
      ],
      "text/plain": [
       "\u001b[2;36m                   \u001b[0m\u001b[2;36m \u001b[0m\u001b[34mINFO    \u001b[0m Generating squiggle for test_read_36_107192_108992                \u001b]8;id=577004;file:///data/projects/rory_says_hi/Icarust_supplementary_data/notebooks/make_squiggle.py\u001b\\\u001b[2mmake_squiggle.py\u001b[0m\u001b]8;;\u001b\\\u001b[2m:\u001b[0m\u001b]8;id=234581;file:///data/projects/rory_says_hi/Icarust_supplementary_data/notebooks/make_squiggle.py#120\u001b\\\u001b[2m120\u001b[0m\u001b]8;;\u001b\\\n"
      ]
     },
     "metadata": {},
     "output_type": "display_data"
    },
    {
     "data": {
      "text/html": [
       "<pre style=\"white-space:pre;overflow-x:auto;line-height:normal;font-family:Menlo,'DejaVu Sans Mono',consolas,'Courier New',monospace\"><span style=\"color: #7fbfbf; text-decoration-color: #7fbfbf\">                    </span><span style=\"color: #000080; text-decoration-color: #000080\">INFO    </span> Invalid characters found in sequence of                           <a href=\"file:///data/projects/rory_says_hi/Icarust_supplementary_data/notebooks/make_squiggle.py\" target=\"_blank\"><span style=\"color: #7f7f7f; text-decoration-color: #7f7f7f\">make_squiggle.py</span></a><span style=\"color: #7f7f7f; text-decoration-color: #7f7f7f\">:</span><a href=\"file:///data/projects/rory_says_hi/Icarust_supplementary_data/notebooks/make_squiggle.py#122\" target=\"_blank\"><span style=\"color: #7f7f7f; text-decoration-color: #7f7f7f\">122</span></a>\n",
       "<span style=\"color: #7fbfbf; text-decoration-color: #7fbfbf\">                    </span>         test_read_36_107192_108992, removing them                         <span style=\"color: #7f7f7f; text-decoration-color: #7f7f7f\">                    </span>\n",
       "</pre>\n"
      ],
      "text/plain": [
       "\u001b[2;36m                   \u001b[0m\u001b[2;36m \u001b[0m\u001b[34mINFO    \u001b[0m Invalid characters found in sequence of                           \u001b]8;id=382616;file:///data/projects/rory_says_hi/Icarust_supplementary_data/notebooks/make_squiggle.py\u001b\\\u001b[2mmake_squiggle.py\u001b[0m\u001b]8;;\u001b\\\u001b[2m:\u001b[0m\u001b]8;id=934038;file:///data/projects/rory_says_hi/Icarust_supplementary_data/notebooks/make_squiggle.py#122\u001b\\\u001b[2m122\u001b[0m\u001b]8;;\u001b\\\n",
       "\u001b[2;36m                    \u001b[0m         test_read_36_107192_108992, removing them                         \u001b[2m                    \u001b[0m\n"
      ]
     },
     "metadata": {},
     "output_type": "display_data"
    },
    {
     "data": {
      "text/html": [
       "<pre style=\"white-space:pre;overflow-x:auto;line-height:normal;font-family:Menlo,'DejaVu Sans Mono',consolas,'Courier New',monospace\"><span style=\"color: #7fbfbf; text-decoration-color: #7fbfbf\">                    </span><span style=\"color: #000080; text-decoration-color: #000080\">INFO    </span> Generating squiggle for test_read_37_945215_947065                <a href=\"file:///data/projects/rory_says_hi/Icarust_supplementary_data/notebooks/make_squiggle.py\" target=\"_blank\"><span style=\"color: #7f7f7f; text-decoration-color: #7f7f7f\">make_squiggle.py</span></a><span style=\"color: #7f7f7f; text-decoration-color: #7f7f7f\">:</span><a href=\"file:///data/projects/rory_says_hi/Icarust_supplementary_data/notebooks/make_squiggle.py#120\" target=\"_blank\"><span style=\"color: #7f7f7f; text-decoration-color: #7f7f7f\">120</span></a>\n",
       "</pre>\n"
      ],
      "text/plain": [
       "\u001b[2;36m                   \u001b[0m\u001b[2;36m \u001b[0m\u001b[34mINFO    \u001b[0m Generating squiggle for test_read_37_945215_947065                \u001b]8;id=119869;file:///data/projects/rory_says_hi/Icarust_supplementary_data/notebooks/make_squiggle.py\u001b\\\u001b[2mmake_squiggle.py\u001b[0m\u001b]8;;\u001b\\\u001b[2m:\u001b[0m\u001b]8;id=480005;file:///data/projects/rory_says_hi/Icarust_supplementary_data/notebooks/make_squiggle.py#120\u001b\\\u001b[2m120\u001b[0m\u001b]8;;\u001b\\\n"
      ]
     },
     "metadata": {},
     "output_type": "display_data"
    },
    {
     "data": {
      "text/html": [
       "<pre style=\"white-space:pre;overflow-x:auto;line-height:normal;font-family:Menlo,'DejaVu Sans Mono',consolas,'Courier New',monospace\"><span style=\"color: #7fbfbf; text-decoration-color: #7fbfbf\">                    </span><span style=\"color: #000080; text-decoration-color: #000080\">INFO    </span> Invalid characters found in sequence of                           <a href=\"file:///data/projects/rory_says_hi/Icarust_supplementary_data/notebooks/make_squiggle.py\" target=\"_blank\"><span style=\"color: #7f7f7f; text-decoration-color: #7f7f7f\">make_squiggle.py</span></a><span style=\"color: #7f7f7f; text-decoration-color: #7f7f7f\">:</span><a href=\"file:///data/projects/rory_says_hi/Icarust_supplementary_data/notebooks/make_squiggle.py#122\" target=\"_blank\"><span style=\"color: #7f7f7f; text-decoration-color: #7f7f7f\">122</span></a>\n",
       "<span style=\"color: #7fbfbf; text-decoration-color: #7fbfbf\">                    </span>         test_read_37_945215_947065, removing them                         <span style=\"color: #7f7f7f; text-decoration-color: #7f7f7f\">                    </span>\n",
       "</pre>\n"
      ],
      "text/plain": [
       "\u001b[2;36m                   \u001b[0m\u001b[2;36m \u001b[0m\u001b[34mINFO    \u001b[0m Invalid characters found in sequence of                           \u001b]8;id=47974;file:///data/projects/rory_says_hi/Icarust_supplementary_data/notebooks/make_squiggle.py\u001b\\\u001b[2mmake_squiggle.py\u001b[0m\u001b]8;;\u001b\\\u001b[2m:\u001b[0m\u001b]8;id=867977;file:///data/projects/rory_says_hi/Icarust_supplementary_data/notebooks/make_squiggle.py#122\u001b\\\u001b[2m122\u001b[0m\u001b]8;;\u001b\\\n",
       "\u001b[2;36m                    \u001b[0m         test_read_37_945215_947065, removing them                         \u001b[2m                    \u001b[0m\n"
      ]
     },
     "metadata": {},
     "output_type": "display_data"
    },
    {
     "data": {
      "text/html": [
       "<pre style=\"white-space:pre;overflow-x:auto;line-height:normal;font-family:Menlo,'DejaVu Sans Mono',consolas,'Courier New',monospace\"><span style=\"color: #7fbfbf; text-decoration-color: #7fbfbf\">                    </span><span style=\"color: #000080; text-decoration-color: #000080\">INFO    </span> Generating squiggle for test_read_38_332849_334749                <a href=\"file:///data/projects/rory_says_hi/Icarust_supplementary_data/notebooks/make_squiggle.py\" target=\"_blank\"><span style=\"color: #7f7f7f; text-decoration-color: #7f7f7f\">make_squiggle.py</span></a><span style=\"color: #7f7f7f; text-decoration-color: #7f7f7f\">:</span><a href=\"file:///data/projects/rory_says_hi/Icarust_supplementary_data/notebooks/make_squiggle.py#120\" target=\"_blank\"><span style=\"color: #7f7f7f; text-decoration-color: #7f7f7f\">120</span></a>\n",
       "</pre>\n"
      ],
      "text/plain": [
       "\u001b[2;36m                   \u001b[0m\u001b[2;36m \u001b[0m\u001b[34mINFO    \u001b[0m Generating squiggle for test_read_38_332849_334749                \u001b]8;id=15254;file:///data/projects/rory_says_hi/Icarust_supplementary_data/notebooks/make_squiggle.py\u001b\\\u001b[2mmake_squiggle.py\u001b[0m\u001b]8;;\u001b\\\u001b[2m:\u001b[0m\u001b]8;id=96136;file:///data/projects/rory_says_hi/Icarust_supplementary_data/notebooks/make_squiggle.py#120\u001b\\\u001b[2m120\u001b[0m\u001b]8;;\u001b\\\n"
      ]
     },
     "metadata": {},
     "output_type": "display_data"
    },
    {
     "data": {
      "text/html": [
       "<pre style=\"white-space:pre;overflow-x:auto;line-height:normal;font-family:Menlo,'DejaVu Sans Mono',consolas,'Courier New',monospace\"><span style=\"color: #7fbfbf; text-decoration-color: #7fbfbf\">                    </span><span style=\"color: #000080; text-decoration-color: #000080\">INFO    </span> Invalid characters found in sequence of                           <a href=\"file:///data/projects/rory_says_hi/Icarust_supplementary_data/notebooks/make_squiggle.py\" target=\"_blank\"><span style=\"color: #7f7f7f; text-decoration-color: #7f7f7f\">make_squiggle.py</span></a><span style=\"color: #7f7f7f; text-decoration-color: #7f7f7f\">:</span><a href=\"file:///data/projects/rory_says_hi/Icarust_supplementary_data/notebooks/make_squiggle.py#122\" target=\"_blank\"><span style=\"color: #7f7f7f; text-decoration-color: #7f7f7f\">122</span></a>\n",
       "<span style=\"color: #7fbfbf; text-decoration-color: #7fbfbf\">                    </span>         test_read_38_332849_334749, removing them                         <span style=\"color: #7f7f7f; text-decoration-color: #7f7f7f\">                    </span>\n",
       "</pre>\n"
      ],
      "text/plain": [
       "\u001b[2;36m                   \u001b[0m\u001b[2;36m \u001b[0m\u001b[34mINFO    \u001b[0m Invalid characters found in sequence of                           \u001b]8;id=828247;file:///data/projects/rory_says_hi/Icarust_supplementary_data/notebooks/make_squiggle.py\u001b\\\u001b[2mmake_squiggle.py\u001b[0m\u001b]8;;\u001b\\\u001b[2m:\u001b[0m\u001b]8;id=41967;file:///data/projects/rory_says_hi/Icarust_supplementary_data/notebooks/make_squiggle.py#122\u001b\\\u001b[2m122\u001b[0m\u001b]8;;\u001b\\\n",
       "\u001b[2;36m                    \u001b[0m         test_read_38_332849_334749, removing them                         \u001b[2m                    \u001b[0m\n"
      ]
     },
     "metadata": {},
     "output_type": "display_data"
    },
    {
     "data": {
      "text/html": [
       "<pre style=\"white-space:pre;overflow-x:auto;line-height:normal;font-family:Menlo,'DejaVu Sans Mono',consolas,'Courier New',monospace\"><span style=\"color: #7fbfbf; text-decoration-color: #7fbfbf\">                    </span><span style=\"color: #000080; text-decoration-color: #000080\">INFO    </span> Generating squiggle for test_read_39_32075_34025                  <a href=\"file:///data/projects/rory_says_hi/Icarust_supplementary_data/notebooks/make_squiggle.py\" target=\"_blank\"><span style=\"color: #7f7f7f; text-decoration-color: #7f7f7f\">make_squiggle.py</span></a><span style=\"color: #7f7f7f; text-decoration-color: #7f7f7f\">:</span><a href=\"file:///data/projects/rory_says_hi/Icarust_supplementary_data/notebooks/make_squiggle.py#120\" target=\"_blank\"><span style=\"color: #7f7f7f; text-decoration-color: #7f7f7f\">120</span></a>\n",
       "</pre>\n"
      ],
      "text/plain": [
       "\u001b[2;36m                   \u001b[0m\u001b[2;36m \u001b[0m\u001b[34mINFO    \u001b[0m Generating squiggle for test_read_39_32075_34025                  \u001b]8;id=441464;file:///data/projects/rory_says_hi/Icarust_supplementary_data/notebooks/make_squiggle.py\u001b\\\u001b[2mmake_squiggle.py\u001b[0m\u001b]8;;\u001b\\\u001b[2m:\u001b[0m\u001b]8;id=169890;file:///data/projects/rory_says_hi/Icarust_supplementary_data/notebooks/make_squiggle.py#120\u001b\\\u001b[2m120\u001b[0m\u001b]8;;\u001b\\\n"
      ]
     },
     "metadata": {},
     "output_type": "display_data"
    },
    {
     "data": {
      "text/html": [
       "<pre style=\"white-space:pre;overflow-x:auto;line-height:normal;font-family:Menlo,'DejaVu Sans Mono',consolas,'Courier New',monospace\"><span style=\"color: #7fbfbf; text-decoration-color: #7fbfbf\">                    </span><span style=\"color: #000080; text-decoration-color: #000080\">INFO    </span> Invalid characters found in sequence of test_read_39_32075_34025, <a href=\"file:///data/projects/rory_says_hi/Icarust_supplementary_data/notebooks/make_squiggle.py\" target=\"_blank\"><span style=\"color: #7f7f7f; text-decoration-color: #7f7f7f\">make_squiggle.py</span></a><span style=\"color: #7f7f7f; text-decoration-color: #7f7f7f\">:</span><a href=\"file:///data/projects/rory_says_hi/Icarust_supplementary_data/notebooks/make_squiggle.py#122\" target=\"_blank\"><span style=\"color: #7f7f7f; text-decoration-color: #7f7f7f\">122</span></a>\n",
       "<span style=\"color: #7fbfbf; text-decoration-color: #7fbfbf\">                    </span>         removing them                                                     <span style=\"color: #7f7f7f; text-decoration-color: #7f7f7f\">                    </span>\n",
       "</pre>\n"
      ],
      "text/plain": [
       "\u001b[2;36m                   \u001b[0m\u001b[2;36m \u001b[0m\u001b[34mINFO    \u001b[0m Invalid characters found in sequence of test_read_39_32075_34025, \u001b]8;id=253147;file:///data/projects/rory_says_hi/Icarust_supplementary_data/notebooks/make_squiggle.py\u001b\\\u001b[2mmake_squiggle.py\u001b[0m\u001b]8;;\u001b\\\u001b[2m:\u001b[0m\u001b]8;id=166665;file:///data/projects/rory_says_hi/Icarust_supplementary_data/notebooks/make_squiggle.py#122\u001b\\\u001b[2m122\u001b[0m\u001b]8;;\u001b\\\n",
       "\u001b[2;36m                    \u001b[0m         removing them                                                     \u001b[2m                    \u001b[0m\n"
      ]
     },
     "metadata": {},
     "output_type": "display_data"
    },
    {
     "data": {
      "text/html": [
       "<pre style=\"white-space:pre;overflow-x:auto;line-height:normal;font-family:Menlo,'DejaVu Sans Mono',consolas,'Courier New',monospace\"><span style=\"color: #7fbfbf; text-decoration-color: #7fbfbf\">                    </span><span style=\"color: #000080; text-decoration-color: #000080\">INFO    </span> Generating squiggle for test_read_40_23406_25406                  <a href=\"file:///data/projects/rory_says_hi/Icarust_supplementary_data/notebooks/make_squiggle.py\" target=\"_blank\"><span style=\"color: #7f7f7f; text-decoration-color: #7f7f7f\">make_squiggle.py</span></a><span style=\"color: #7f7f7f; text-decoration-color: #7f7f7f\">:</span><a href=\"file:///data/projects/rory_says_hi/Icarust_supplementary_data/notebooks/make_squiggle.py#120\" target=\"_blank\"><span style=\"color: #7f7f7f; text-decoration-color: #7f7f7f\">120</span></a>\n",
       "</pre>\n"
      ],
      "text/plain": [
       "\u001b[2;36m                   \u001b[0m\u001b[2;36m \u001b[0m\u001b[34mINFO    \u001b[0m Generating squiggle for test_read_40_23406_25406                  \u001b]8;id=955005;file:///data/projects/rory_says_hi/Icarust_supplementary_data/notebooks/make_squiggle.py\u001b\\\u001b[2mmake_squiggle.py\u001b[0m\u001b]8;;\u001b\\\u001b[2m:\u001b[0m\u001b]8;id=396652;file:///data/projects/rory_says_hi/Icarust_supplementary_data/notebooks/make_squiggle.py#120\u001b\\\u001b[2m120\u001b[0m\u001b]8;;\u001b\\\n"
      ]
     },
     "metadata": {},
     "output_type": "display_data"
    },
    {
     "data": {
      "text/html": [
       "<pre style=\"white-space:pre;overflow-x:auto;line-height:normal;font-family:Menlo,'DejaVu Sans Mono',consolas,'Courier New',monospace\"><span style=\"color: #7fbfbf; text-decoration-color: #7fbfbf\">                    </span><span style=\"color: #000080; text-decoration-color: #000080\">INFO    </span> Invalid characters found in sequence of test_read_40_23406_25406, <a href=\"file:///data/projects/rory_says_hi/Icarust_supplementary_data/notebooks/make_squiggle.py\" target=\"_blank\"><span style=\"color: #7f7f7f; text-decoration-color: #7f7f7f\">make_squiggle.py</span></a><span style=\"color: #7f7f7f; text-decoration-color: #7f7f7f\">:</span><a href=\"file:///data/projects/rory_says_hi/Icarust_supplementary_data/notebooks/make_squiggle.py#122\" target=\"_blank\"><span style=\"color: #7f7f7f; text-decoration-color: #7f7f7f\">122</span></a>\n",
       "<span style=\"color: #7fbfbf; text-decoration-color: #7fbfbf\">                    </span>         removing them                                                     <span style=\"color: #7f7f7f; text-decoration-color: #7f7f7f\">                    </span>\n",
       "</pre>\n"
      ],
      "text/plain": [
       "\u001b[2;36m                   \u001b[0m\u001b[2;36m \u001b[0m\u001b[34mINFO    \u001b[0m Invalid characters found in sequence of test_read_40_23406_25406, \u001b]8;id=308306;file:///data/projects/rory_says_hi/Icarust_supplementary_data/notebooks/make_squiggle.py\u001b\\\u001b[2mmake_squiggle.py\u001b[0m\u001b]8;;\u001b\\\u001b[2m:\u001b[0m\u001b]8;id=576936;file:///data/projects/rory_says_hi/Icarust_supplementary_data/notebooks/make_squiggle.py#122\u001b\\\u001b[2m122\u001b[0m\u001b]8;;\u001b\\\n",
       "\u001b[2;36m                    \u001b[0m         removing them                                                     \u001b[2m                    \u001b[0m\n"
      ]
     },
     "metadata": {},
     "output_type": "display_data"
    },
    {
     "data": {
      "text/html": [
       "<pre style=\"white-space:pre;overflow-x:auto;line-height:normal;font-family:Menlo,'DejaVu Sans Mono',consolas,'Courier New',monospace\"><span style=\"color: #7fbfbf; text-decoration-color: #7fbfbf\">                    </span><span style=\"color: #000080; text-decoration-color: #000080\">INFO    </span> Generating squiggle for test_read_41_26681_28731                  <a href=\"file:///data/projects/rory_says_hi/Icarust_supplementary_data/notebooks/make_squiggle.py\" target=\"_blank\"><span style=\"color: #7f7f7f; text-decoration-color: #7f7f7f\">make_squiggle.py</span></a><span style=\"color: #7f7f7f; text-decoration-color: #7f7f7f\">:</span><a href=\"file:///data/projects/rory_says_hi/Icarust_supplementary_data/notebooks/make_squiggle.py#120\" target=\"_blank\"><span style=\"color: #7f7f7f; text-decoration-color: #7f7f7f\">120</span></a>\n",
       "</pre>\n"
      ],
      "text/plain": [
       "\u001b[2;36m                   \u001b[0m\u001b[2;36m \u001b[0m\u001b[34mINFO    \u001b[0m Generating squiggle for test_read_41_26681_28731                  \u001b]8;id=104993;file:///data/projects/rory_says_hi/Icarust_supplementary_data/notebooks/make_squiggle.py\u001b\\\u001b[2mmake_squiggle.py\u001b[0m\u001b]8;;\u001b\\\u001b[2m:\u001b[0m\u001b]8;id=217699;file:///data/projects/rory_says_hi/Icarust_supplementary_data/notebooks/make_squiggle.py#120\u001b\\\u001b[2m120\u001b[0m\u001b]8;;\u001b\\\n"
      ]
     },
     "metadata": {},
     "output_type": "display_data"
    },
    {
     "data": {
      "text/html": [
       "<pre style=\"white-space:pre;overflow-x:auto;line-height:normal;font-family:Menlo,'DejaVu Sans Mono',consolas,'Courier New',monospace\"><span style=\"color: #7fbfbf; text-decoration-color: #7fbfbf\">                    </span><span style=\"color: #000080; text-decoration-color: #000080\">INFO    </span> Invalid characters found in sequence of test_read_41_26681_28731, <a href=\"file:///data/projects/rory_says_hi/Icarust_supplementary_data/notebooks/make_squiggle.py\" target=\"_blank\"><span style=\"color: #7f7f7f; text-decoration-color: #7f7f7f\">make_squiggle.py</span></a><span style=\"color: #7f7f7f; text-decoration-color: #7f7f7f\">:</span><a href=\"file:///data/projects/rory_says_hi/Icarust_supplementary_data/notebooks/make_squiggle.py#122\" target=\"_blank\"><span style=\"color: #7f7f7f; text-decoration-color: #7f7f7f\">122</span></a>\n",
       "<span style=\"color: #7fbfbf; text-decoration-color: #7fbfbf\">                    </span>         removing them                                                     <span style=\"color: #7f7f7f; text-decoration-color: #7f7f7f\">                    </span>\n",
       "</pre>\n"
      ],
      "text/plain": [
       "\u001b[2;36m                   \u001b[0m\u001b[2;36m \u001b[0m\u001b[34mINFO    \u001b[0m Invalid characters found in sequence of test_read_41_26681_28731, \u001b]8;id=11016;file:///data/projects/rory_says_hi/Icarust_supplementary_data/notebooks/make_squiggle.py\u001b\\\u001b[2mmake_squiggle.py\u001b[0m\u001b]8;;\u001b\\\u001b[2m:\u001b[0m\u001b]8;id=825082;file:///data/projects/rory_says_hi/Icarust_supplementary_data/notebooks/make_squiggle.py#122\u001b\\\u001b[2m122\u001b[0m\u001b]8;;\u001b\\\n",
       "\u001b[2;36m                    \u001b[0m         removing them                                                     \u001b[2m                    \u001b[0m\n"
      ]
     },
     "metadata": {},
     "output_type": "display_data"
    },
    {
     "data": {
      "text/html": [
       "<pre style=\"white-space:pre;overflow-x:auto;line-height:normal;font-family:Menlo,'DejaVu Sans Mono',consolas,'Courier New',monospace\"><span style=\"color: #7fbfbf; text-decoration-color: #7fbfbf\">                    </span><span style=\"color: #000080; text-decoration-color: #000080\">INFO    </span> Generating squiggle for test_read_42_681098_683198                <a href=\"file:///data/projects/rory_says_hi/Icarust_supplementary_data/notebooks/make_squiggle.py\" target=\"_blank\"><span style=\"color: #7f7f7f; text-decoration-color: #7f7f7f\">make_squiggle.py</span></a><span style=\"color: #7f7f7f; text-decoration-color: #7f7f7f\">:</span><a href=\"file:///data/projects/rory_says_hi/Icarust_supplementary_data/notebooks/make_squiggle.py#120\" target=\"_blank\"><span style=\"color: #7f7f7f; text-decoration-color: #7f7f7f\">120</span></a>\n",
       "</pre>\n"
      ],
      "text/plain": [
       "\u001b[2;36m                   \u001b[0m\u001b[2;36m \u001b[0m\u001b[34mINFO    \u001b[0m Generating squiggle for test_read_42_681098_683198                \u001b]8;id=335807;file:///data/projects/rory_says_hi/Icarust_supplementary_data/notebooks/make_squiggle.py\u001b\\\u001b[2mmake_squiggle.py\u001b[0m\u001b]8;;\u001b\\\u001b[2m:\u001b[0m\u001b]8;id=471696;file:///data/projects/rory_says_hi/Icarust_supplementary_data/notebooks/make_squiggle.py#120\u001b\\\u001b[2m120\u001b[0m\u001b]8;;\u001b\\\n"
      ]
     },
     "metadata": {},
     "output_type": "display_data"
    },
    {
     "data": {
      "text/html": [
       "<pre style=\"white-space:pre;overflow-x:auto;line-height:normal;font-family:Menlo,'DejaVu Sans Mono',consolas,'Courier New',monospace\"><span style=\"color: #7fbfbf; text-decoration-color: #7fbfbf\">                    </span><span style=\"color: #000080; text-decoration-color: #000080\">INFO    </span> Invalid characters found in sequence of                           <a href=\"file:///data/projects/rory_says_hi/Icarust_supplementary_data/notebooks/make_squiggle.py\" target=\"_blank\"><span style=\"color: #7f7f7f; text-decoration-color: #7f7f7f\">make_squiggle.py</span></a><span style=\"color: #7f7f7f; text-decoration-color: #7f7f7f\">:</span><a href=\"file:///data/projects/rory_says_hi/Icarust_supplementary_data/notebooks/make_squiggle.py#122\" target=\"_blank\"><span style=\"color: #7f7f7f; text-decoration-color: #7f7f7f\">122</span></a>\n",
       "<span style=\"color: #7fbfbf; text-decoration-color: #7fbfbf\">                    </span>         test_read_42_681098_683198, removing them                         <span style=\"color: #7f7f7f; text-decoration-color: #7f7f7f\">                    </span>\n",
       "</pre>\n"
      ],
      "text/plain": [
       "\u001b[2;36m                   \u001b[0m\u001b[2;36m \u001b[0m\u001b[34mINFO    \u001b[0m Invalid characters found in sequence of                           \u001b]8;id=67310;file:///data/projects/rory_says_hi/Icarust_supplementary_data/notebooks/make_squiggle.py\u001b\\\u001b[2mmake_squiggle.py\u001b[0m\u001b]8;;\u001b\\\u001b[2m:\u001b[0m\u001b]8;id=957760;file:///data/projects/rory_says_hi/Icarust_supplementary_data/notebooks/make_squiggle.py#122\u001b\\\u001b[2m122\u001b[0m\u001b]8;;\u001b\\\n",
       "\u001b[2;36m                    \u001b[0m         test_read_42_681098_683198, removing them                         \u001b[2m                    \u001b[0m\n"
      ]
     },
     "metadata": {},
     "output_type": "display_data"
    },
    {
     "data": {
      "text/html": [
       "<pre style=\"white-space:pre;overflow-x:auto;line-height:normal;font-family:Menlo,'DejaVu Sans Mono',consolas,'Courier New',monospace\"><span style=\"color: #7fbfbf; text-decoration-color: #7fbfbf\">                    </span><span style=\"color: #000080; text-decoration-color: #000080\">INFO    </span> Generating squiggle for test_read_43_567712_569862                <a href=\"file:///data/projects/rory_says_hi/Icarust_supplementary_data/notebooks/make_squiggle.py\" target=\"_blank\"><span style=\"color: #7f7f7f; text-decoration-color: #7f7f7f\">make_squiggle.py</span></a><span style=\"color: #7f7f7f; text-decoration-color: #7f7f7f\">:</span><a href=\"file:///data/projects/rory_says_hi/Icarust_supplementary_data/notebooks/make_squiggle.py#120\" target=\"_blank\"><span style=\"color: #7f7f7f; text-decoration-color: #7f7f7f\">120</span></a>\n",
       "</pre>\n"
      ],
      "text/plain": [
       "\u001b[2;36m                   \u001b[0m\u001b[2;36m \u001b[0m\u001b[34mINFO    \u001b[0m Generating squiggle for test_read_43_567712_569862                \u001b]8;id=262209;file:///data/projects/rory_says_hi/Icarust_supplementary_data/notebooks/make_squiggle.py\u001b\\\u001b[2mmake_squiggle.py\u001b[0m\u001b]8;;\u001b\\\u001b[2m:\u001b[0m\u001b]8;id=225646;file:///data/projects/rory_says_hi/Icarust_supplementary_data/notebooks/make_squiggle.py#120\u001b\\\u001b[2m120\u001b[0m\u001b]8;;\u001b\\\n"
      ]
     },
     "metadata": {},
     "output_type": "display_data"
    },
    {
     "data": {
      "text/html": [
       "<pre style=\"white-space:pre;overflow-x:auto;line-height:normal;font-family:Menlo,'DejaVu Sans Mono',consolas,'Courier New',monospace\"><span style=\"color: #7fbfbf; text-decoration-color: #7fbfbf\">                    </span><span style=\"color: #000080; text-decoration-color: #000080\">INFO    </span> Invalid characters found in sequence of                           <a href=\"file:///data/projects/rory_says_hi/Icarust_supplementary_data/notebooks/make_squiggle.py\" target=\"_blank\"><span style=\"color: #7f7f7f; text-decoration-color: #7f7f7f\">make_squiggle.py</span></a><span style=\"color: #7f7f7f; text-decoration-color: #7f7f7f\">:</span><a href=\"file:///data/projects/rory_says_hi/Icarust_supplementary_data/notebooks/make_squiggle.py#122\" target=\"_blank\"><span style=\"color: #7f7f7f; text-decoration-color: #7f7f7f\">122</span></a>\n",
       "<span style=\"color: #7fbfbf; text-decoration-color: #7fbfbf\">                    </span>         test_read_43_567712_569862, removing them                         <span style=\"color: #7f7f7f; text-decoration-color: #7f7f7f\">                    </span>\n",
       "</pre>\n"
      ],
      "text/plain": [
       "\u001b[2;36m                   \u001b[0m\u001b[2;36m \u001b[0m\u001b[34mINFO    \u001b[0m Invalid characters found in sequence of                           \u001b]8;id=569285;file:///data/projects/rory_says_hi/Icarust_supplementary_data/notebooks/make_squiggle.py\u001b\\\u001b[2mmake_squiggle.py\u001b[0m\u001b]8;;\u001b\\\u001b[2m:\u001b[0m\u001b]8;id=909759;file:///data/projects/rory_says_hi/Icarust_supplementary_data/notebooks/make_squiggle.py#122\u001b\\\u001b[2m122\u001b[0m\u001b]8;;\u001b\\\n",
       "\u001b[2;36m                    \u001b[0m         test_read_43_567712_569862, removing them                         \u001b[2m                    \u001b[0m\n"
      ]
     },
     "metadata": {},
     "output_type": "display_data"
    },
    {
     "data": {
      "text/html": [
       "<pre style=\"white-space:pre;overflow-x:auto;line-height:normal;font-family:Menlo,'DejaVu Sans Mono',consolas,'Courier New',monospace\"><span style=\"color: #7fbfbf; text-decoration-color: #7fbfbf\">[12/11/23 13:14:03] </span><span style=\"color: #000080; text-decoration-color: #000080\">INFO    </span> Generating squiggle for test_read_44_9652_11852                   <a href=\"file:///data/projects/rory_says_hi/Icarust_supplementary_data/notebooks/make_squiggle.py\" target=\"_blank\"><span style=\"color: #7f7f7f; text-decoration-color: #7f7f7f\">make_squiggle.py</span></a><span style=\"color: #7f7f7f; text-decoration-color: #7f7f7f\">:</span><a href=\"file:///data/projects/rory_says_hi/Icarust_supplementary_data/notebooks/make_squiggle.py#120\" target=\"_blank\"><span style=\"color: #7f7f7f; text-decoration-color: #7f7f7f\">120</span></a>\n",
       "</pre>\n"
      ],
      "text/plain": [
       "\u001b[2;36m[12/11/23 13:14:03]\u001b[0m\u001b[2;36m \u001b[0m\u001b[34mINFO    \u001b[0m Generating squiggle for test_read_44_9652_11852                   \u001b]8;id=271671;file:///data/projects/rory_says_hi/Icarust_supplementary_data/notebooks/make_squiggle.py\u001b\\\u001b[2mmake_squiggle.py\u001b[0m\u001b]8;;\u001b\\\u001b[2m:\u001b[0m\u001b]8;id=192122;file:///data/projects/rory_says_hi/Icarust_supplementary_data/notebooks/make_squiggle.py#120\u001b\\\u001b[2m120\u001b[0m\u001b]8;;\u001b\\\n"
      ]
     },
     "metadata": {},
     "output_type": "display_data"
    },
    {
     "data": {
      "text/html": [
       "<pre style=\"white-space:pre;overflow-x:auto;line-height:normal;font-family:Menlo,'DejaVu Sans Mono',consolas,'Courier New',monospace\"><span style=\"color: #7fbfbf; text-decoration-color: #7fbfbf\">                    </span><span style=\"color: #000080; text-decoration-color: #000080\">INFO    </span> Invalid characters found in sequence of test_read_44_9652_11852,  <a href=\"file:///data/projects/rory_says_hi/Icarust_supplementary_data/notebooks/make_squiggle.py\" target=\"_blank\"><span style=\"color: #7f7f7f; text-decoration-color: #7f7f7f\">make_squiggle.py</span></a><span style=\"color: #7f7f7f; text-decoration-color: #7f7f7f\">:</span><a href=\"file:///data/projects/rory_says_hi/Icarust_supplementary_data/notebooks/make_squiggle.py#122\" target=\"_blank\"><span style=\"color: #7f7f7f; text-decoration-color: #7f7f7f\">122</span></a>\n",
       "<span style=\"color: #7fbfbf; text-decoration-color: #7fbfbf\">                    </span>         removing them                                                     <span style=\"color: #7f7f7f; text-decoration-color: #7f7f7f\">                    </span>\n",
       "</pre>\n"
      ],
      "text/plain": [
       "\u001b[2;36m                   \u001b[0m\u001b[2;36m \u001b[0m\u001b[34mINFO    \u001b[0m Invalid characters found in sequence of test_read_44_9652_11852,  \u001b]8;id=258349;file:///data/projects/rory_says_hi/Icarust_supplementary_data/notebooks/make_squiggle.py\u001b\\\u001b[2mmake_squiggle.py\u001b[0m\u001b]8;;\u001b\\\u001b[2m:\u001b[0m\u001b]8;id=377973;file:///data/projects/rory_says_hi/Icarust_supplementary_data/notebooks/make_squiggle.py#122\u001b\\\u001b[2m122\u001b[0m\u001b]8;;\u001b\\\n",
       "\u001b[2;36m                    \u001b[0m         removing them                                                     \u001b[2m                    \u001b[0m\n"
      ]
     },
     "metadata": {},
     "output_type": "display_data"
    },
    {
     "data": {
      "text/html": [
       "<pre style=\"white-space:pre;overflow-x:auto;line-height:normal;font-family:Menlo,'DejaVu Sans Mono',consolas,'Courier New',monospace\"><span style=\"color: #7fbfbf; text-decoration-color: #7fbfbf\">                    </span><span style=\"color: #000080; text-decoration-color: #000080\">INFO    </span> Generating squiggle for test_read_45_984769_987019                <a href=\"file:///data/projects/rory_says_hi/Icarust_supplementary_data/notebooks/make_squiggle.py\" target=\"_blank\"><span style=\"color: #7f7f7f; text-decoration-color: #7f7f7f\">make_squiggle.py</span></a><span style=\"color: #7f7f7f; text-decoration-color: #7f7f7f\">:</span><a href=\"file:///data/projects/rory_says_hi/Icarust_supplementary_data/notebooks/make_squiggle.py#120\" target=\"_blank\"><span style=\"color: #7f7f7f; text-decoration-color: #7f7f7f\">120</span></a>\n",
       "</pre>\n"
      ],
      "text/plain": [
       "\u001b[2;36m                   \u001b[0m\u001b[2;36m \u001b[0m\u001b[34mINFO    \u001b[0m Generating squiggle for test_read_45_984769_987019                \u001b]8;id=789878;file:///data/projects/rory_says_hi/Icarust_supplementary_data/notebooks/make_squiggle.py\u001b\\\u001b[2mmake_squiggle.py\u001b[0m\u001b]8;;\u001b\\\u001b[2m:\u001b[0m\u001b]8;id=469659;file:///data/projects/rory_says_hi/Icarust_supplementary_data/notebooks/make_squiggle.py#120\u001b\\\u001b[2m120\u001b[0m\u001b]8;;\u001b\\\n"
      ]
     },
     "metadata": {},
     "output_type": "display_data"
    },
    {
     "data": {
      "text/html": [
       "<pre style=\"white-space:pre;overflow-x:auto;line-height:normal;font-family:Menlo,'DejaVu Sans Mono',consolas,'Courier New',monospace\"><span style=\"color: #7fbfbf; text-decoration-color: #7fbfbf\">                    </span><span style=\"color: #000080; text-decoration-color: #000080\">INFO    </span> Invalid characters found in sequence of                           <a href=\"file:///data/projects/rory_says_hi/Icarust_supplementary_data/notebooks/make_squiggle.py\" target=\"_blank\"><span style=\"color: #7f7f7f; text-decoration-color: #7f7f7f\">make_squiggle.py</span></a><span style=\"color: #7f7f7f; text-decoration-color: #7f7f7f\">:</span><a href=\"file:///data/projects/rory_says_hi/Icarust_supplementary_data/notebooks/make_squiggle.py#122\" target=\"_blank\"><span style=\"color: #7f7f7f; text-decoration-color: #7f7f7f\">122</span></a>\n",
       "<span style=\"color: #7fbfbf; text-decoration-color: #7fbfbf\">                    </span>         test_read_45_984769_987019, removing them                         <span style=\"color: #7f7f7f; text-decoration-color: #7f7f7f\">                    </span>\n",
       "</pre>\n"
      ],
      "text/plain": [
       "\u001b[2;36m                   \u001b[0m\u001b[2;36m \u001b[0m\u001b[34mINFO    \u001b[0m Invalid characters found in sequence of                           \u001b]8;id=355345;file:///data/projects/rory_says_hi/Icarust_supplementary_data/notebooks/make_squiggle.py\u001b\\\u001b[2mmake_squiggle.py\u001b[0m\u001b]8;;\u001b\\\u001b[2m:\u001b[0m\u001b]8;id=986431;file:///data/projects/rory_says_hi/Icarust_supplementary_data/notebooks/make_squiggle.py#122\u001b\\\u001b[2m122\u001b[0m\u001b]8;;\u001b\\\n",
       "\u001b[2;36m                    \u001b[0m         test_read_45_984769_987019, removing them                         \u001b[2m                    \u001b[0m\n"
      ]
     },
     "metadata": {},
     "output_type": "display_data"
    },
    {
     "data": {
      "text/html": [
       "<pre style=\"white-space:pre;overflow-x:auto;line-height:normal;font-family:Menlo,'DejaVu Sans Mono',consolas,'Courier New',monospace\"><span style=\"color: #7fbfbf; text-decoration-color: #7fbfbf\">                    </span><span style=\"color: #000080; text-decoration-color: #000080\">INFO    </span> Generating squiggle for test_read_46_924040_926340                <a href=\"file:///data/projects/rory_says_hi/Icarust_supplementary_data/notebooks/make_squiggle.py\" target=\"_blank\"><span style=\"color: #7f7f7f; text-decoration-color: #7f7f7f\">make_squiggle.py</span></a><span style=\"color: #7f7f7f; text-decoration-color: #7f7f7f\">:</span><a href=\"file:///data/projects/rory_says_hi/Icarust_supplementary_data/notebooks/make_squiggle.py#120\" target=\"_blank\"><span style=\"color: #7f7f7f; text-decoration-color: #7f7f7f\">120</span></a>\n",
       "</pre>\n"
      ],
      "text/plain": [
       "\u001b[2;36m                   \u001b[0m\u001b[2;36m \u001b[0m\u001b[34mINFO    \u001b[0m Generating squiggle for test_read_46_924040_926340                \u001b]8;id=343137;file:///data/projects/rory_says_hi/Icarust_supplementary_data/notebooks/make_squiggle.py\u001b\\\u001b[2mmake_squiggle.py\u001b[0m\u001b]8;;\u001b\\\u001b[2m:\u001b[0m\u001b]8;id=195887;file:///data/projects/rory_says_hi/Icarust_supplementary_data/notebooks/make_squiggle.py#120\u001b\\\u001b[2m120\u001b[0m\u001b]8;;\u001b\\\n"
      ]
     },
     "metadata": {},
     "output_type": "display_data"
    },
    {
     "data": {
      "text/html": [
       "<pre style=\"white-space:pre;overflow-x:auto;line-height:normal;font-family:Menlo,'DejaVu Sans Mono',consolas,'Courier New',monospace\"><span style=\"color: #7fbfbf; text-decoration-color: #7fbfbf\">                    </span><span style=\"color: #000080; text-decoration-color: #000080\">INFO    </span> Invalid characters found in sequence of                           <a href=\"file:///data/projects/rory_says_hi/Icarust_supplementary_data/notebooks/make_squiggle.py\" target=\"_blank\"><span style=\"color: #7f7f7f; text-decoration-color: #7f7f7f\">make_squiggle.py</span></a><span style=\"color: #7f7f7f; text-decoration-color: #7f7f7f\">:</span><a href=\"file:///data/projects/rory_says_hi/Icarust_supplementary_data/notebooks/make_squiggle.py#122\" target=\"_blank\"><span style=\"color: #7f7f7f; text-decoration-color: #7f7f7f\">122</span></a>\n",
       "<span style=\"color: #7fbfbf; text-decoration-color: #7fbfbf\">                    </span>         test_read_46_924040_926340, removing them                         <span style=\"color: #7f7f7f; text-decoration-color: #7f7f7f\">                    </span>\n",
       "</pre>\n"
      ],
      "text/plain": [
       "\u001b[2;36m                   \u001b[0m\u001b[2;36m \u001b[0m\u001b[34mINFO    \u001b[0m Invalid characters found in sequence of                           \u001b]8;id=936902;file:///data/projects/rory_says_hi/Icarust_supplementary_data/notebooks/make_squiggle.py\u001b\\\u001b[2mmake_squiggle.py\u001b[0m\u001b]8;;\u001b\\\u001b[2m:\u001b[0m\u001b]8;id=966107;file:///data/projects/rory_says_hi/Icarust_supplementary_data/notebooks/make_squiggle.py#122\u001b\\\u001b[2m122\u001b[0m\u001b]8;;\u001b\\\n",
       "\u001b[2;36m                    \u001b[0m         test_read_46_924040_926340, removing them                         \u001b[2m                    \u001b[0m\n"
      ]
     },
     "metadata": {},
     "output_type": "display_data"
    },
    {
     "data": {
      "text/html": [
       "<pre style=\"white-space:pre;overflow-x:auto;line-height:normal;font-family:Menlo,'DejaVu Sans Mono',consolas,'Courier New',monospace\"><span style=\"color: #7fbfbf; text-decoration-color: #7fbfbf\">                    </span><span style=\"color: #000080; text-decoration-color: #000080\">INFO    </span> Generating squiggle for test_read_47_399721_402071                <a href=\"file:///data/projects/rory_says_hi/Icarust_supplementary_data/notebooks/make_squiggle.py\" target=\"_blank\"><span style=\"color: #7f7f7f; text-decoration-color: #7f7f7f\">make_squiggle.py</span></a><span style=\"color: #7f7f7f; text-decoration-color: #7f7f7f\">:</span><a href=\"file:///data/projects/rory_says_hi/Icarust_supplementary_data/notebooks/make_squiggle.py#120\" target=\"_blank\"><span style=\"color: #7f7f7f; text-decoration-color: #7f7f7f\">120</span></a>\n",
       "</pre>\n"
      ],
      "text/plain": [
       "\u001b[2;36m                   \u001b[0m\u001b[2;36m \u001b[0m\u001b[34mINFO    \u001b[0m Generating squiggle for test_read_47_399721_402071                \u001b]8;id=570661;file:///data/projects/rory_says_hi/Icarust_supplementary_data/notebooks/make_squiggle.py\u001b\\\u001b[2mmake_squiggle.py\u001b[0m\u001b]8;;\u001b\\\u001b[2m:\u001b[0m\u001b]8;id=641090;file:///data/projects/rory_says_hi/Icarust_supplementary_data/notebooks/make_squiggle.py#120\u001b\\\u001b[2m120\u001b[0m\u001b]8;;\u001b\\\n"
      ]
     },
     "metadata": {},
     "output_type": "display_data"
    },
    {
     "data": {
      "text/html": [
       "<pre style=\"white-space:pre;overflow-x:auto;line-height:normal;font-family:Menlo,'DejaVu Sans Mono',consolas,'Courier New',monospace\"><span style=\"color: #7fbfbf; text-decoration-color: #7fbfbf\">                    </span><span style=\"color: #000080; text-decoration-color: #000080\">INFO    </span> Invalid characters found in sequence of                           <a href=\"file:///data/projects/rory_says_hi/Icarust_supplementary_data/notebooks/make_squiggle.py\" target=\"_blank\"><span style=\"color: #7f7f7f; text-decoration-color: #7f7f7f\">make_squiggle.py</span></a><span style=\"color: #7f7f7f; text-decoration-color: #7f7f7f\">:</span><a href=\"file:///data/projects/rory_says_hi/Icarust_supplementary_data/notebooks/make_squiggle.py#122\" target=\"_blank\"><span style=\"color: #7f7f7f; text-decoration-color: #7f7f7f\">122</span></a>\n",
       "<span style=\"color: #7fbfbf; text-decoration-color: #7fbfbf\">                    </span>         test_read_47_399721_402071, removing them                         <span style=\"color: #7f7f7f; text-decoration-color: #7f7f7f\">                    </span>\n",
       "</pre>\n"
      ],
      "text/plain": [
       "\u001b[2;36m                   \u001b[0m\u001b[2;36m \u001b[0m\u001b[34mINFO    \u001b[0m Invalid characters found in sequence of                           \u001b]8;id=257003;file:///data/projects/rory_says_hi/Icarust_supplementary_data/notebooks/make_squiggle.py\u001b\\\u001b[2mmake_squiggle.py\u001b[0m\u001b]8;;\u001b\\\u001b[2m:\u001b[0m\u001b]8;id=230849;file:///data/projects/rory_says_hi/Icarust_supplementary_data/notebooks/make_squiggle.py#122\u001b\\\u001b[2m122\u001b[0m\u001b]8;;\u001b\\\n",
       "\u001b[2;36m                    \u001b[0m         test_read_47_399721_402071, removing them                         \u001b[2m                    \u001b[0m\n"
      ]
     },
     "metadata": {},
     "output_type": "display_data"
    },
    {
     "data": {
      "text/html": [
       "<pre style=\"white-space:pre;overflow-x:auto;line-height:normal;font-family:Menlo,'DejaVu Sans Mono',consolas,'Courier New',monospace\"><span style=\"color: #7fbfbf; text-decoration-color: #7fbfbf\">                    </span><span style=\"color: #000080; text-decoration-color: #000080\">INFO    </span> Generating squiggle for test_read_48_719830_722230                <a href=\"file:///data/projects/rory_says_hi/Icarust_supplementary_data/notebooks/make_squiggle.py\" target=\"_blank\"><span style=\"color: #7f7f7f; text-decoration-color: #7f7f7f\">make_squiggle.py</span></a><span style=\"color: #7f7f7f; text-decoration-color: #7f7f7f\">:</span><a href=\"file:///data/projects/rory_says_hi/Icarust_supplementary_data/notebooks/make_squiggle.py#120\" target=\"_blank\"><span style=\"color: #7f7f7f; text-decoration-color: #7f7f7f\">120</span></a>\n",
       "</pre>\n"
      ],
      "text/plain": [
       "\u001b[2;36m                   \u001b[0m\u001b[2;36m \u001b[0m\u001b[34mINFO    \u001b[0m Generating squiggle for test_read_48_719830_722230                \u001b]8;id=75840;file:///data/projects/rory_says_hi/Icarust_supplementary_data/notebooks/make_squiggle.py\u001b\\\u001b[2mmake_squiggle.py\u001b[0m\u001b]8;;\u001b\\\u001b[2m:\u001b[0m\u001b]8;id=281085;file:///data/projects/rory_says_hi/Icarust_supplementary_data/notebooks/make_squiggle.py#120\u001b\\\u001b[2m120\u001b[0m\u001b]8;;\u001b\\\n"
      ]
     },
     "metadata": {},
     "output_type": "display_data"
    },
    {
     "data": {
      "text/html": [
       "<pre style=\"white-space:pre;overflow-x:auto;line-height:normal;font-family:Menlo,'DejaVu Sans Mono',consolas,'Courier New',monospace\"><span style=\"color: #7fbfbf; text-decoration-color: #7fbfbf\">                    </span><span style=\"color: #000080; text-decoration-color: #000080\">INFO    </span> Invalid characters found in sequence of                           <a href=\"file:///data/projects/rory_says_hi/Icarust_supplementary_data/notebooks/make_squiggle.py\" target=\"_blank\"><span style=\"color: #7f7f7f; text-decoration-color: #7f7f7f\">make_squiggle.py</span></a><span style=\"color: #7f7f7f; text-decoration-color: #7f7f7f\">:</span><a href=\"file:///data/projects/rory_says_hi/Icarust_supplementary_data/notebooks/make_squiggle.py#122\" target=\"_blank\"><span style=\"color: #7f7f7f; text-decoration-color: #7f7f7f\">122</span></a>\n",
       "<span style=\"color: #7fbfbf; text-decoration-color: #7fbfbf\">                    </span>         test_read_48_719830_722230, removing them                         <span style=\"color: #7f7f7f; text-decoration-color: #7f7f7f\">                    </span>\n",
       "</pre>\n"
      ],
      "text/plain": [
       "\u001b[2;36m                   \u001b[0m\u001b[2;36m \u001b[0m\u001b[34mINFO    \u001b[0m Invalid characters found in sequence of                           \u001b]8;id=78779;file:///data/projects/rory_says_hi/Icarust_supplementary_data/notebooks/make_squiggle.py\u001b\\\u001b[2mmake_squiggle.py\u001b[0m\u001b]8;;\u001b\\\u001b[2m:\u001b[0m\u001b]8;id=22559;file:///data/projects/rory_says_hi/Icarust_supplementary_data/notebooks/make_squiggle.py#122\u001b\\\u001b[2m122\u001b[0m\u001b]8;;\u001b\\\n",
       "\u001b[2;36m                    \u001b[0m         test_read_48_719830_722230, removing them                         \u001b[2m                    \u001b[0m\n"
      ]
     },
     "metadata": {},
     "output_type": "display_data"
    },
    {
     "data": {
      "text/html": [
       "<pre style=\"white-space:pre;overflow-x:auto;line-height:normal;font-family:Menlo,'DejaVu Sans Mono',consolas,'Courier New',monospace\"><span style=\"color: #7fbfbf; text-decoration-color: #7fbfbf\">                    </span><span style=\"color: #000080; text-decoration-color: #000080\">INFO    </span> Generating squiggle for test_read_49_227120_229570                <a href=\"file:///data/projects/rory_says_hi/Icarust_supplementary_data/notebooks/make_squiggle.py\" target=\"_blank\"><span style=\"color: #7f7f7f; text-decoration-color: #7f7f7f\">make_squiggle.py</span></a><span style=\"color: #7f7f7f; text-decoration-color: #7f7f7f\">:</span><a href=\"file:///data/projects/rory_says_hi/Icarust_supplementary_data/notebooks/make_squiggle.py#120\" target=\"_blank\"><span style=\"color: #7f7f7f; text-decoration-color: #7f7f7f\">120</span></a>\n",
       "</pre>\n"
      ],
      "text/plain": [
       "\u001b[2;36m                   \u001b[0m\u001b[2;36m \u001b[0m\u001b[34mINFO    \u001b[0m Generating squiggle for test_read_49_227120_229570                \u001b]8;id=830665;file:///data/projects/rory_says_hi/Icarust_supplementary_data/notebooks/make_squiggle.py\u001b\\\u001b[2mmake_squiggle.py\u001b[0m\u001b]8;;\u001b\\\u001b[2m:\u001b[0m\u001b]8;id=376639;file:///data/projects/rory_says_hi/Icarust_supplementary_data/notebooks/make_squiggle.py#120\u001b\\\u001b[2m120\u001b[0m\u001b]8;;\u001b\\\n"
      ]
     },
     "metadata": {},
     "output_type": "display_data"
    },
    {
     "data": {
      "text/html": [
       "<pre style=\"white-space:pre;overflow-x:auto;line-height:normal;font-family:Menlo,'DejaVu Sans Mono',consolas,'Courier New',monospace\"><span style=\"color: #7fbfbf; text-decoration-color: #7fbfbf\">                    </span><span style=\"color: #000080; text-decoration-color: #000080\">INFO    </span> Invalid characters found in sequence of                           <a href=\"file:///data/projects/rory_says_hi/Icarust_supplementary_data/notebooks/make_squiggle.py\" target=\"_blank\"><span style=\"color: #7f7f7f; text-decoration-color: #7f7f7f\">make_squiggle.py</span></a><span style=\"color: #7f7f7f; text-decoration-color: #7f7f7f\">:</span><a href=\"file:///data/projects/rory_says_hi/Icarust_supplementary_data/notebooks/make_squiggle.py#122\" target=\"_blank\"><span style=\"color: #7f7f7f; text-decoration-color: #7f7f7f\">122</span></a>\n",
       "<span style=\"color: #7fbfbf; text-decoration-color: #7fbfbf\">                    </span>         test_read_49_227120_229570, removing them                         <span style=\"color: #7f7f7f; text-decoration-color: #7f7f7f\">                    </span>\n",
       "</pre>\n"
      ],
      "text/plain": [
       "\u001b[2;36m                   \u001b[0m\u001b[2;36m \u001b[0m\u001b[34mINFO    \u001b[0m Invalid characters found in sequence of                           \u001b]8;id=161669;file:///data/projects/rory_says_hi/Icarust_supplementary_data/notebooks/make_squiggle.py\u001b\\\u001b[2mmake_squiggle.py\u001b[0m\u001b]8;;\u001b\\\u001b[2m:\u001b[0m\u001b]8;id=105837;file:///data/projects/rory_says_hi/Icarust_supplementary_data/notebooks/make_squiggle.py#122\u001b\\\u001b[2m122\u001b[0m\u001b]8;;\u001b\\\n",
       "\u001b[2;36m                    \u001b[0m         test_read_49_227120_229570, removing them                         \u001b[2m                    \u001b[0m\n"
      ]
     },
     "metadata": {},
     "output_type": "display_data"
    },
    {
     "data": {
      "text/html": [
       "<pre style=\"white-space:pre;overflow-x:auto;line-height:normal;font-family:Menlo,'DejaVu Sans Mono',consolas,'Courier New',monospace\"><span style=\"color: #7fbfbf; text-decoration-color: #7fbfbf\">                    </span><span style=\"color: #000080; text-decoration-color: #000080\">INFO    </span> Generating squiggle for test_read_50_442621_445121                <a href=\"file:///data/projects/rory_says_hi/Icarust_supplementary_data/notebooks/make_squiggle.py\" target=\"_blank\"><span style=\"color: #7f7f7f; text-decoration-color: #7f7f7f\">make_squiggle.py</span></a><span style=\"color: #7f7f7f; text-decoration-color: #7f7f7f\">:</span><a href=\"file:///data/projects/rory_says_hi/Icarust_supplementary_data/notebooks/make_squiggle.py#120\" target=\"_blank\"><span style=\"color: #7f7f7f; text-decoration-color: #7f7f7f\">120</span></a>\n",
       "</pre>\n"
      ],
      "text/plain": [
       "\u001b[2;36m                   \u001b[0m\u001b[2;36m \u001b[0m\u001b[34mINFO    \u001b[0m Generating squiggle for test_read_50_442621_445121                \u001b]8;id=80852;file:///data/projects/rory_says_hi/Icarust_supplementary_data/notebooks/make_squiggle.py\u001b\\\u001b[2mmake_squiggle.py\u001b[0m\u001b]8;;\u001b\\\u001b[2m:\u001b[0m\u001b]8;id=534008;file:///data/projects/rory_says_hi/Icarust_supplementary_data/notebooks/make_squiggle.py#120\u001b\\\u001b[2m120\u001b[0m\u001b]8;;\u001b\\\n"
      ]
     },
     "metadata": {},
     "output_type": "display_data"
    },
    {
     "data": {
      "text/html": [
       "<pre style=\"white-space:pre;overflow-x:auto;line-height:normal;font-family:Menlo,'DejaVu Sans Mono',consolas,'Courier New',monospace\"><span style=\"color: #7fbfbf; text-decoration-color: #7fbfbf\">                    </span><span style=\"color: #000080; text-decoration-color: #000080\">INFO    </span> Invalid characters found in sequence of                           <a href=\"file:///data/projects/rory_says_hi/Icarust_supplementary_data/notebooks/make_squiggle.py\" target=\"_blank\"><span style=\"color: #7f7f7f; text-decoration-color: #7f7f7f\">make_squiggle.py</span></a><span style=\"color: #7f7f7f; text-decoration-color: #7f7f7f\">:</span><a href=\"file:///data/projects/rory_says_hi/Icarust_supplementary_data/notebooks/make_squiggle.py#122\" target=\"_blank\"><span style=\"color: #7f7f7f; text-decoration-color: #7f7f7f\">122</span></a>\n",
       "<span style=\"color: #7fbfbf; text-decoration-color: #7fbfbf\">                    </span>         test_read_50_442621_445121, removing them                         <span style=\"color: #7f7f7f; text-decoration-color: #7f7f7f\">                    </span>\n",
       "</pre>\n"
      ],
      "text/plain": [
       "\u001b[2;36m                   \u001b[0m\u001b[2;36m \u001b[0m\u001b[34mINFO    \u001b[0m Invalid characters found in sequence of                           \u001b]8;id=813914;file:///data/projects/rory_says_hi/Icarust_supplementary_data/notebooks/make_squiggle.py\u001b\\\u001b[2mmake_squiggle.py\u001b[0m\u001b]8;;\u001b\\\u001b[2m:\u001b[0m\u001b]8;id=156828;file:///data/projects/rory_says_hi/Icarust_supplementary_data/notebooks/make_squiggle.py#122\u001b\\\u001b[2m122\u001b[0m\u001b]8;;\u001b\\\n",
       "\u001b[2;36m                    \u001b[0m         test_read_50_442621_445121, removing them                         \u001b[2m                    \u001b[0m\n"
      ]
     },
     "metadata": {},
     "output_type": "display_data"
    },
    {
     "data": {
      "text/html": [
       "<pre style=\"white-space:pre;overflow-x:auto;line-height:normal;font-family:Menlo,'DejaVu Sans Mono',consolas,'Courier New',monospace\"><span style=\"color: #7fbfbf; text-decoration-color: #7fbfbf\">                    </span><span style=\"color: #000080; text-decoration-color: #000080\">INFO    </span> Creating distributions file.                                      <a href=\"file:///data/projects/rory_says_hi/Icarust_supplementary_data/notebooks/make_squiggle.py\" target=\"_blank\"><span style=\"color: #7f7f7f; text-decoration-color: #7f7f7f\">make_squiggle.py</span></a><span style=\"color: #7f7f7f; text-decoration-color: #7f7f7f\">:</span><a href=\"file:///data/projects/rory_says_hi/Icarust_supplementary_data/notebooks/make_squiggle.py#147\" target=\"_blank\"><span style=\"color: #7f7f7f; text-decoration-color: #7f7f7f\">147</span></a>\n",
       "</pre>\n"
      ],
      "text/plain": [
       "\u001b[2;36m                   \u001b[0m\u001b[2;36m \u001b[0m\u001b[34mINFO    \u001b[0m Creating distributions file.                                      \u001b]8;id=112069;file:///data/projects/rory_says_hi/Icarust_supplementary_data/notebooks/make_squiggle.py\u001b\\\u001b[2mmake_squiggle.py\u001b[0m\u001b]8;;\u001b\\\u001b[2m:\u001b[0m\u001b]8;id=743780;file:///data/projects/rory_says_hi/Icarust_supplementary_data/notebooks/make_squiggle.py#147\u001b\\\u001b[2m147\u001b[0m\u001b]8;;\u001b\\\n"
      ]
     },
     "metadata": {},
     "output_type": "display_data"
    }
   ],
   "source": [
    "# make directory if it doesn't already exist\n",
    "R9_OUTDIR.mkdir(exist_ok=True)\n",
    "job_progress, overall_progress, progress_table, task_lookup = progress_bar_setup(1)\n",
    "barcode = None\n",
    "get_sequence(\n",
    "    TEST_FASTA.resolve(),\n",
    "    R9_OUTDIR,\n",
    "    job_progress,\n",
    "    task_lookup,\n",
    "    0,\n",
    "    barcode,\n",
    "    None,\n",
    ")"
   ]
  },
  {
   "cell_type": "markdown",
   "id": "1a258bf6-fe6f-49a4-ab1a-2bde60c7fd38",
   "metadata": {},
   "source": [
    "### Create R10 squiggle\n"
   ]
  },
  {
   "cell_type": "code",
   "execution_count": null,
   "id": "3b000cee-c9a2-4c1a-94f8-9cae59c83c88",
   "metadata": {},
   "outputs": [],
   "source": []
  }
 ],
 "metadata": {
  "kernelspec": {
   "display_name": "Python 3 (ipykernel)",
   "language": "python",
   "name": "python3"
  },
  "language_info": {
   "codemirror_mode": {
    "name": "ipython",
    "version": 3
   },
   "file_extension": ".py",
   "mimetype": "text/x-python",
   "name": "python",
   "nbconvert_exporter": "python",
   "pygments_lexer": "ipython3",
   "version": "3.10.6"
  }
 },
 "nbformat": 4,
 "nbformat_minor": 5
}
