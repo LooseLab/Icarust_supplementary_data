{
 "cells": [
  {
   "cell_type": "markdown",
   "id": "d19420b4-0005-4113-9c2b-8ac2f91a30c4",
   "metadata": {},
   "source": [
    "## Visualise read identity against truth\n"
   ]
  },
  {
   "cell_type": "markdown",
   "id": "0aec37f3-72ba-4d00-90ff-5c3cdfcef03e",
   "metadata": {},
   "source": [
    "### Workflow\n",
    "1. Generate 50 reads of 100bp in 50bp increments, using `generate_reads.ipynb`\n",
    "1. Create R9 squiggle and R10 squiggle for each read\n",
    "1. Basecall that with I guess the latest dorado at this point\n",
    "1. Map them back to the reference to confirm the accuracy of the mapping\n",
    "1. Map them back to the original read to calculate identity."
   ]
  },
  {
   "cell_type": "markdown",
   "id": "f99c54fd-31d4-4d4e-b506-3a32df354014",
   "metadata": {},
   "source": [
    "#### TODO\n",
    "Append leading prefix onto R9 data\n"
   ]
  },
  {
   "cell_type": "code",
   "execution_count": 32,
   "id": "a8871a16-7927-474f-a562-cc51556b715e",
   "metadata": {},
   "outputs": [],
   "source": [
    "import collections\n",
    "import csv\n",
    "import random\n",
    "import re\n",
    "import time as t\n",
    "from contextlib import contextmanager, redirect_stdout\n",
    "from io import StringIO\n",
    "from itertools import islice\n",
    "from pathlib import Path\n",
    "from random import sample\n",
    "\n",
    "import mappy as mp\n",
    "import matplotlib.pyplot as plt\n",
    "import numpy as np\n",
    "import numpy.typing as npt\n",
    "import seaborn as sns\n",
    "from mappy import fastx_read\n",
    "from matplotlib import font_manager, rcParams\n",
    "from pyfastx import Fasta\n",
    "from pyguppy_client_lib import helper_functions\n",
    "from pyguppy_client_lib.pyclient import PyGuppyClient\n",
    "\n",
    "from make_squiggle import get_sequence, progress_bar_setup\n",
    "\n",
    "TEST_FASTA = Path(\"../fasta/identity_fasta.fasta\")\n",
    "R9_OUTDIR = Path(\"r9_squiggle\")\n",
    "R10_SQUIGGLE_OUTDIR = Path(\"r10_squiggle\")\n",
    "RNAR9_SQUIGGLE_OUTDIR = Path(\"rnar9_squiggle\")\n",
    "RNAR9_KMERS_MODEL = Path(\"5mer_levels_v1.txt\")\n",
    "\n",
    "BIN_PATH = \"/usr/bin/\"\n",
    "RANGE = 1\n",
    "DIGITISATION = 8192\n",
    "R10_KMERS_MODEL = Path(\"identity_static/R10_model.tsv\")\n",
    "SAMPLES = (9, 10)"
   ]
  },
  {
   "cell_type": "code",
   "execution_count": 33,
   "id": "b71f849e-e637-4361-ad3d-49ef3b23547a",
   "metadata": {},
   "outputs": [
    {
     "name": "stderr",
     "output_type": "stream",
     "text": [
      "Duplicate key in file 'dotfiles-rm/thesis/thesis.mplstyle', line 11 ('axes.titlesize : 24')\n",
      "Bad value in file 'dotfiles-rm/thesis/thesis.mplstyle', line 20 ('grid.color:     \"#b0b0b0\"  # grid color'): Key grid.color: '\"' does not look like a color arg\n"
     ]
    }
   ],
   "source": [
    "plt.style.use(\"dotfiles-rm/thesis/thesis.mplstyle\")\n",
    "font_dir = \"dotfiles-rm/\"\n",
    "for font in font_manager.findSystemFonts(font_dir):\n",
    "    font_manager.fontManager.addfont(font)\n",
    "sns.set_palette(\"colorblind\")\n",
    "rcParams[\"font.family\"] = \"Roboto\""
   ]
  },
  {
   "cell_type": "code",
   "execution_count": 2,
   "id": "8317cf60-2ff5-47a7-bbbc-f2bf421d7930",
   "metadata": {
    "jupyter": {
     "source_hidden": true
    }
   },
   "outputs": [
    {
     "name": "stdout",
     "output_type": "stream",
     "text": [
      "test file already exists\n"
     ]
    }
   ],
   "source": [
    "# Generate reads\n",
    "fa = Fasta(\n",
    "    \"../fasta/hg38_no_alts.part_NC_000020.11 Homo sapiens chromosome 20, GRCh38.p14 Primary Assembly.fa.gz\"\n",
    ")\n",
    "random.seed(1)\n",
    "# Generate 10 incrementally long reads 500 bases at a time\n",
    "read_length_inc = 50\n",
    "reads = []\n",
    "for i in range(1, 51):\n",
    "    # Actually i've decided against Ns in the sequence as they make identity harder\n",
    "    # So let's loop and break if the chosen sequence doesn't have any Ns\n",
    "    while True:\n",
    "        read_length = read_length_inc * i\n",
    "        read_start = random.randint(0, 1000000)\n",
    "        seq = fa[0][read_start : read_start + read_length]\n",
    "        if \"N\" not in seq:\n",
    "            reads.append(f\">test_read_{i}_{read_start}_{read_start+read_length}\\n{seq}\")\n",
    "            break\n",
    "test_fasta = \"\\n\".join(reads)\n",
    "try:\n",
    "    with open(TEST_FASTA, \"x\") as fh:\n",
    "        fh.write(test_fasta)\n",
    "except FileExistsError:\n",
    "    print(\"test file already exists\")"
   ]
  },
  {
   "cell_type": "markdown",
   "id": "8c9b2f06-7a56-4332-810c-d1803aa72d6b",
   "metadata": {},
   "source": [
    "### helpers for base calling"
   ]
  },
  {
   "cell_type": "code",
   "execution_count": 3,
   "id": "246ca784-1b2a-427e-bf6c-c1629dfc7087",
   "metadata": {},
   "outputs": [],
   "source": [
    "def pack(read: dict[str, str | npt.NDArray[np.int16]]):\n",
    "    \"\"\"Pack an ont_fast5_api.Fast5Read for calling\n",
    "    passed dict has two fields, read_id and raw_Data\n",
    "    read_id: str, raw_data: npt.NDArray[np.int16]\n",
    "    \"\"\"\n",
    "    read_id = read[\"read_id\"]\n",
    "    raw_data = read[\"raw_data\"]\n",
    "    scaling = RANGE / DIGITISATION\n",
    "    offset = 0.0\n",
    "    return helper_functions.package_read(read_id, raw_data, offset, scaling)"
   ]
  },
  {
   "cell_type": "code",
   "execution_count": 4,
   "id": "e9f5ea83-8955-40ae-98ee-855075d1d4a7",
   "metadata": {},
   "outputs": [],
   "source": [
    "@contextmanager\n",
    "def start_guppy_server_and_client(bin_path, config, port, server_args):\n",
    "    server_args.extend(\n",
    "        [\"--config\", config, \"--port\", port, \"--log_path\", str((Path(\".\") / \"junk\"))]\n",
    "    )\n",
    "    # This function has it's own prints that may want to be suppressed\n",
    "    with redirect_stdout(StringIO()) as fh:\n",
    "        server, port = helper_functions.run_server(server_args, bin_path=bin_path)\n",
    "\n",
    "    if port == \"ERROR\":\n",
    "        raise RuntimeError(\"Server couldn't be started\")\n",
    "\n",
    "    if port.startswith(\"ipc\"):\n",
    "        address = f\"{port}\"\n",
    "    else:\n",
    "        address = f\"localhost:{port}\"\n",
    "    client = PyGuppyClient(address=address, config=config)\n",
    "\n",
    "    try:\n",
    "        with client:\n",
    "            yield client\n",
    "    finally:\n",
    "        server.terminate()"
   ]
  },
  {
   "cell_type": "code",
   "execution_count": 5,
   "id": "469b2f6c-68ef-40b3-83c4-94ad3261317b",
   "metadata": {},
   "outputs": [
    {
     "name": "stdout",
     "output_type": "stream",
     "text": [
      "Identity: 0.8\n"
     ]
    }
   ],
   "source": [
    "def calculate_identity(cigar: str, goal_length: int):\n",
    "    match = re.findall(r\"(\\d+)([MIDNSHP=X])\", cigar)\n",
    "\n",
    "    # Calculate total matches, mismatches, and alignment length\n",
    "    total_matches = sum(int(length) for length, operation in match if operation == \"M\")\n",
    "    alignment_length = sum(\n",
    "        int(length) for length, operation in match if operation in [\"M\", \"D\", \"I\", \"N\"]\n",
    "    )\n",
    "    total_insertions = sum(\n",
    "        int(length) for length, operation in match if operation == \"I\"\n",
    "    )\n",
    "\n",
    "    # Calculate total query length (alignment length + insertions)\n",
    "    total_query_length = goal_length + total_insertions\n",
    "\n",
    "    # Identity is calculated as the number of matches divided by total query length\n",
    "    identity = total_matches / total_query_length if total_query_length > 0 else 0\n",
    "    return identity\n",
    "\n",
    "\n",
    "# Example Usage\n",
    "cigar_string = \"10M6M\"  # Example CIGAR string\n",
    "identity = calculate_identity(cigar_string, 20)\n",
    "print(f\"Identity: {identity}\")"
   ]
  },
  {
   "cell_type": "markdown",
   "id": "2698e995-90b0-483f-963d-beec2fe49874",
   "metadata": {},
   "source": [
    "### Create R9 squiggle"
   ]
  },
  {
   "cell_type": "code",
   "execution_count": 6,
   "id": "6be74d78-caa8-4d93-bfb0-3c0170369a65",
   "metadata": {
    "jupyter": {
     "source_hidden": true
    },
    "scrolled": true,
    "tags": []
   },
   "outputs": [
    {
     "data": {
      "text/html": [
       "<pre style=\"white-space:pre;overflow-x:auto;line-height:normal;font-family:Menlo,'DejaVu Sans Mono',consolas,'Courier New',monospace\"><span style=\"color: #7fbfbf; text-decoration-color: #7fbfbf\">[12/21/23 13:44:23] </span><span style=\"color: #000080; text-decoration-color: #000080\">INFO    </span> Generating squiggle for test_read_1_140891_140941                 <a href=\"file:///home/adoni5/Projects/Icarust_supplementary/notebooks/make_squiggle.py\" target=\"_blank\"><span style=\"color: #7f7f7f; text-decoration-color: #7f7f7f\">make_squiggle.py</span></a><span style=\"color: #7f7f7f; text-decoration-color: #7f7f7f\">:</span><a href=\"file:///home/adoni5/Projects/Icarust_supplementary/notebooks/make_squiggle.py#120\" target=\"_blank\"><span style=\"color: #7f7f7f; text-decoration-color: #7f7f7f\">120</span></a>\n",
       "</pre>\n"
      ],
      "text/plain": [
       "\u001b[2;36m[12/21/23 13:44:23]\u001b[0m\u001b[2;36m \u001b[0m\u001b[34mINFO    \u001b[0m Generating squiggle for test_read_1_140891_140941                 \u001b]8;id=797911;file:///home/adoni5/Projects/Icarust_supplementary/notebooks/make_squiggle.py\u001b\\\u001b[2mmake_squiggle.py\u001b[0m\u001b]8;;\u001b\\\u001b[2m:\u001b[0m\u001b]8;id=481929;file:///home/adoni5/Projects/Icarust_supplementary/notebooks/make_squiggle.py#120\u001b\\\u001b[2m120\u001b[0m\u001b]8;;\u001b\\\n"
      ]
     },
     "metadata": {},
     "output_type": "display_data"
    },
    {
     "data": {
      "text/html": [
       "<pre style=\"white-space:pre;overflow-x:auto;line-height:normal;font-family:Menlo,'DejaVu Sans Mono',consolas,'Courier New',monospace\"><span style=\"color: #7fbfbf; text-decoration-color: #7fbfbf\">                    </span><span style=\"color: #000080; text-decoration-color: #000080\">INFO    </span> Invalid characters found in sequence of                           <a href=\"file:///home/adoni5/Projects/Icarust_supplementary/notebooks/make_squiggle.py\" target=\"_blank\"><span style=\"color: #7f7f7f; text-decoration-color: #7f7f7f\">make_squiggle.py</span></a><span style=\"color: #7f7f7f; text-decoration-color: #7f7f7f\">:</span><a href=\"file:///home/adoni5/Projects/Icarust_supplementary/notebooks/make_squiggle.py#122\" target=\"_blank\"><span style=\"color: #7f7f7f; text-decoration-color: #7f7f7f\">122</span></a>\n",
       "<span style=\"color: #7fbfbf; text-decoration-color: #7fbfbf\">                    </span>         test_read_1_140891_140941, removing them                          <span style=\"color: #7f7f7f; text-decoration-color: #7f7f7f\">                    </span>\n",
       "</pre>\n"
      ],
      "text/plain": [
       "\u001b[2;36m                   \u001b[0m\u001b[2;36m \u001b[0m\u001b[34mINFO    \u001b[0m Invalid characters found in sequence of                           \u001b]8;id=878264;file:///home/adoni5/Projects/Icarust_supplementary/notebooks/make_squiggle.py\u001b\\\u001b[2mmake_squiggle.py\u001b[0m\u001b]8;;\u001b\\\u001b[2m:\u001b[0m\u001b]8;id=960778;file:///home/adoni5/Projects/Icarust_supplementary/notebooks/make_squiggle.py#122\u001b\\\u001b[2m122\u001b[0m\u001b]8;;\u001b\\\n",
       "\u001b[2;36m                    \u001b[0m         test_read_1_140891_140941, removing them                          \u001b[2m                    \u001b[0m\n"
      ]
     },
     "metadata": {},
     "output_type": "display_data"
    },
    {
     "data": {
      "text/html": [
       "<pre style=\"white-space:pre;overflow-x:auto;line-height:normal;font-family:Menlo,'DejaVu Sans Mono',consolas,'Courier New',monospace\"><span style=\"color: #7fbfbf; text-decoration-color: #7fbfbf\">                    </span><span style=\"color: #800000; text-decoration-color: #800000\">WARNING </span> File with name r9_squiggle/test_read_1_140891_140941.squiggle.npy <a href=\"file:///home/adoni5/Projects/Icarust_supplementary/notebooks/make_squiggle.py\" target=\"_blank\"><span style=\"color: #7f7f7f; text-decoration-color: #7f7f7f\">make_squiggle.py</span></a><span style=\"color: #7f7f7f; text-decoration-color: #7f7f7f\">:</span><a href=\"file:///home/adoni5/Projects/Icarust_supplementary/notebooks/make_squiggle.py#145\" target=\"_blank\"><span style=\"color: #7f7f7f; text-decoration-color: #7f7f7f\">145</span></a>\n",
       "<span style=\"color: #7fbfbf; text-decoration-color: #7fbfbf\">                    </span>         already exists. Skipping<span style=\"color: #808000; text-decoration-color: #808000\">...</span>                                       <span style=\"color: #7f7f7f; text-decoration-color: #7f7f7f\">                    </span>\n",
       "</pre>\n"
      ],
      "text/plain": [
       "\u001b[2;36m                   \u001b[0m\u001b[2;36m \u001b[0m\u001b[31mWARNING \u001b[0m File with name r9_squiggle/test_read_1_140891_140941.squiggle.npy \u001b]8;id=659924;file:///home/adoni5/Projects/Icarust_supplementary/notebooks/make_squiggle.py\u001b\\\u001b[2mmake_squiggle.py\u001b[0m\u001b]8;;\u001b\\\u001b[2m:\u001b[0m\u001b]8;id=758790;file:///home/adoni5/Projects/Icarust_supplementary/notebooks/make_squiggle.py#145\u001b\\\u001b[2m145\u001b[0m\u001b]8;;\u001b\\\n",
       "\u001b[2;36m                    \u001b[0m         already exists. Skipping\u001b[33m...\u001b[0m                                       \u001b[2m                    \u001b[0m\n"
      ]
     },
     "metadata": {},
     "output_type": "display_data"
    },
    {
     "data": {
      "text/html": [
       "<pre style=\"white-space:pre;overflow-x:auto;line-height:normal;font-family:Menlo,'DejaVu Sans Mono',consolas,'Courier New',monospace\"><span style=\"color: #7fbfbf; text-decoration-color: #7fbfbf\">                    </span><span style=\"color: #000080; text-decoration-color: #000080\">INFO    </span> Generating squiggle for test_read_2_596853_596953                 <a href=\"file:///home/adoni5/Projects/Icarust_supplementary/notebooks/make_squiggle.py\" target=\"_blank\"><span style=\"color: #7f7f7f; text-decoration-color: #7f7f7f\">make_squiggle.py</span></a><span style=\"color: #7f7f7f; text-decoration-color: #7f7f7f\">:</span><a href=\"file:///home/adoni5/Projects/Icarust_supplementary/notebooks/make_squiggle.py#120\" target=\"_blank\"><span style=\"color: #7f7f7f; text-decoration-color: #7f7f7f\">120</span></a>\n",
       "</pre>\n"
      ],
      "text/plain": [
       "\u001b[2;36m                   \u001b[0m\u001b[2;36m \u001b[0m\u001b[34mINFO    \u001b[0m Generating squiggle for test_read_2_596853_596953                 \u001b]8;id=348856;file:///home/adoni5/Projects/Icarust_supplementary/notebooks/make_squiggle.py\u001b\\\u001b[2mmake_squiggle.py\u001b[0m\u001b]8;;\u001b\\\u001b[2m:\u001b[0m\u001b]8;id=939078;file:///home/adoni5/Projects/Icarust_supplementary/notebooks/make_squiggle.py#120\u001b\\\u001b[2m120\u001b[0m\u001b]8;;\u001b\\\n"
      ]
     },
     "metadata": {},
     "output_type": "display_data"
    },
    {
     "data": {
      "text/html": [
       "<pre style=\"white-space:pre;overflow-x:auto;line-height:normal;font-family:Menlo,'DejaVu Sans Mono',consolas,'Courier New',monospace\"><span style=\"color: #7fbfbf; text-decoration-color: #7fbfbf\">                    </span><span style=\"color: #800000; text-decoration-color: #800000\">WARNING </span> File with name r9_squiggle/test_read_2_596853_596953.squiggle.npy <a href=\"file:///home/adoni5/Projects/Icarust_supplementary/notebooks/make_squiggle.py\" target=\"_blank\"><span style=\"color: #7f7f7f; text-decoration-color: #7f7f7f\">make_squiggle.py</span></a><span style=\"color: #7f7f7f; text-decoration-color: #7f7f7f\">:</span><a href=\"file:///home/adoni5/Projects/Icarust_supplementary/notebooks/make_squiggle.py#145\" target=\"_blank\"><span style=\"color: #7f7f7f; text-decoration-color: #7f7f7f\">145</span></a>\n",
       "<span style=\"color: #7fbfbf; text-decoration-color: #7fbfbf\">                    </span>         already exists. Skipping<span style=\"color: #808000; text-decoration-color: #808000\">...</span>                                       <span style=\"color: #7f7f7f; text-decoration-color: #7f7f7f\">                    </span>\n",
       "</pre>\n"
      ],
      "text/plain": [
       "\u001b[2;36m                   \u001b[0m\u001b[2;36m \u001b[0m\u001b[31mWARNING \u001b[0m File with name r9_squiggle/test_read_2_596853_596953.squiggle.npy \u001b]8;id=442611;file:///home/adoni5/Projects/Icarust_supplementary/notebooks/make_squiggle.py\u001b\\\u001b[2mmake_squiggle.py\u001b[0m\u001b]8;;\u001b\\\u001b[2m:\u001b[0m\u001b]8;id=532380;file:///home/adoni5/Projects/Icarust_supplementary/notebooks/make_squiggle.py#145\u001b\\\u001b[2m145\u001b[0m\u001b]8;;\u001b\\\n",
       "\u001b[2;36m                    \u001b[0m         already exists. Skipping\u001b[33m...\u001b[0m                                       \u001b[2m                    \u001b[0m\n"
      ]
     },
     "metadata": {},
     "output_type": "display_data"
    },
    {
     "data": {
      "text/html": [
       "<pre style=\"white-space:pre;overflow-x:auto;line-height:normal;font-family:Menlo,'DejaVu Sans Mono',consolas,'Courier New',monospace\"><span style=\"color: #7fbfbf; text-decoration-color: #7fbfbf\">                    </span><span style=\"color: #000080; text-decoration-color: #000080\">INFO    </span> Generating squiggle for test_read_3_888598_888748                 <a href=\"file:///home/adoni5/Projects/Icarust_supplementary/notebooks/make_squiggle.py\" target=\"_blank\"><span style=\"color: #7f7f7f; text-decoration-color: #7f7f7f\">make_squiggle.py</span></a><span style=\"color: #7f7f7f; text-decoration-color: #7f7f7f\">:</span><a href=\"file:///home/adoni5/Projects/Icarust_supplementary/notebooks/make_squiggle.py#120\" target=\"_blank\"><span style=\"color: #7f7f7f; text-decoration-color: #7f7f7f\">120</span></a>\n",
       "</pre>\n"
      ],
      "text/plain": [
       "\u001b[2;36m                   \u001b[0m\u001b[2;36m \u001b[0m\u001b[34mINFO    \u001b[0m Generating squiggle for test_read_3_888598_888748                 \u001b]8;id=318104;file:///home/adoni5/Projects/Icarust_supplementary/notebooks/make_squiggle.py\u001b\\\u001b[2mmake_squiggle.py\u001b[0m\u001b]8;;\u001b\\\u001b[2m:\u001b[0m\u001b]8;id=297962;file:///home/adoni5/Projects/Icarust_supplementary/notebooks/make_squiggle.py#120\u001b\\\u001b[2m120\u001b[0m\u001b]8;;\u001b\\\n"
      ]
     },
     "metadata": {},
     "output_type": "display_data"
    },
    {
     "data": {
      "text/html": [
       "<pre style=\"white-space:pre;overflow-x:auto;line-height:normal;font-family:Menlo,'DejaVu Sans Mono',consolas,'Courier New',monospace\"><span style=\"color: #7fbfbf; text-decoration-color: #7fbfbf\">                    </span><span style=\"color: #800000; text-decoration-color: #800000\">WARNING </span> File with name r9_squiggle/test_read_3_888598_888748.squiggle.npy <a href=\"file:///home/adoni5/Projects/Icarust_supplementary/notebooks/make_squiggle.py\" target=\"_blank\"><span style=\"color: #7f7f7f; text-decoration-color: #7f7f7f\">make_squiggle.py</span></a><span style=\"color: #7f7f7f; text-decoration-color: #7f7f7f\">:</span><a href=\"file:///home/adoni5/Projects/Icarust_supplementary/notebooks/make_squiggle.py#145\" target=\"_blank\"><span style=\"color: #7f7f7f; text-decoration-color: #7f7f7f\">145</span></a>\n",
       "<span style=\"color: #7fbfbf; text-decoration-color: #7fbfbf\">                    </span>         already exists. Skipping<span style=\"color: #808000; text-decoration-color: #808000\">...</span>                                       <span style=\"color: #7f7f7f; text-decoration-color: #7f7f7f\">                    </span>\n",
       "</pre>\n"
      ],
      "text/plain": [
       "\u001b[2;36m                   \u001b[0m\u001b[2;36m \u001b[0m\u001b[31mWARNING \u001b[0m File with name r9_squiggle/test_read_3_888598_888748.squiggle.npy \u001b]8;id=986619;file:///home/adoni5/Projects/Icarust_supplementary/notebooks/make_squiggle.py\u001b\\\u001b[2mmake_squiggle.py\u001b[0m\u001b]8;;\u001b\\\u001b[2m:\u001b[0m\u001b]8;id=529828;file:///home/adoni5/Projects/Icarust_supplementary/notebooks/make_squiggle.py#145\u001b\\\u001b[2m145\u001b[0m\u001b]8;;\u001b\\\n",
       "\u001b[2;36m                    \u001b[0m         already exists. Skipping\u001b[33m...\u001b[0m                                       \u001b[2m                    \u001b[0m\n"
      ]
     },
     "metadata": {},
     "output_type": "display_data"
    },
    {
     "data": {
      "text/html": [
       "<pre style=\"white-space:pre;overflow-x:auto;line-height:normal;font-family:Menlo,'DejaVu Sans Mono',consolas,'Courier New',monospace\"><span style=\"color: #7fbfbf; text-decoration-color: #7fbfbf\">                    </span><span style=\"color: #000080; text-decoration-color: #000080\">INFO    </span> Generating squiggle for test_read_4_841235_841435                 <a href=\"file:///home/adoni5/Projects/Icarust_supplementary/notebooks/make_squiggle.py\" target=\"_blank\"><span style=\"color: #7f7f7f; text-decoration-color: #7f7f7f\">make_squiggle.py</span></a><span style=\"color: #7f7f7f; text-decoration-color: #7f7f7f\">:</span><a href=\"file:///home/adoni5/Projects/Icarust_supplementary/notebooks/make_squiggle.py#120\" target=\"_blank\"><span style=\"color: #7f7f7f; text-decoration-color: #7f7f7f\">120</span></a>\n",
       "</pre>\n"
      ],
      "text/plain": [
       "\u001b[2;36m                   \u001b[0m\u001b[2;36m \u001b[0m\u001b[34mINFO    \u001b[0m Generating squiggle for test_read_4_841235_841435                 \u001b]8;id=503554;file:///home/adoni5/Projects/Icarust_supplementary/notebooks/make_squiggle.py\u001b\\\u001b[2mmake_squiggle.py\u001b[0m\u001b]8;;\u001b\\\u001b[2m:\u001b[0m\u001b]8;id=254531;file:///home/adoni5/Projects/Icarust_supplementary/notebooks/make_squiggle.py#120\u001b\\\u001b[2m120\u001b[0m\u001b]8;;\u001b\\\n"
      ]
     },
     "metadata": {},
     "output_type": "display_data"
    },
    {
     "data": {
      "text/html": [
       "<pre style=\"white-space:pre;overflow-x:auto;line-height:normal;font-family:Menlo,'DejaVu Sans Mono',consolas,'Courier New',monospace\"><span style=\"color: #7fbfbf; text-decoration-color: #7fbfbf\">                    </span><span style=\"color: #800000; text-decoration-color: #800000\">WARNING </span> File with name r9_squiggle/test_read_4_841235_841435.squiggle.npy <a href=\"file:///home/adoni5/Projects/Icarust_supplementary/notebooks/make_squiggle.py\" target=\"_blank\"><span style=\"color: #7f7f7f; text-decoration-color: #7f7f7f\">make_squiggle.py</span></a><span style=\"color: #7f7f7f; text-decoration-color: #7f7f7f\">:</span><a href=\"file:///home/adoni5/Projects/Icarust_supplementary/notebooks/make_squiggle.py#145\" target=\"_blank\"><span style=\"color: #7f7f7f; text-decoration-color: #7f7f7f\">145</span></a>\n",
       "<span style=\"color: #7fbfbf; text-decoration-color: #7fbfbf\">                    </span>         already exists. Skipping<span style=\"color: #808000; text-decoration-color: #808000\">...</span>                                       <span style=\"color: #7f7f7f; text-decoration-color: #7f7f7f\">                    </span>\n",
       "</pre>\n"
      ],
      "text/plain": [
       "\u001b[2;36m                   \u001b[0m\u001b[2;36m \u001b[0m\u001b[31mWARNING \u001b[0m File with name r9_squiggle/test_read_4_841235_841435.squiggle.npy \u001b]8;id=697034;file:///home/adoni5/Projects/Icarust_supplementary/notebooks/make_squiggle.py\u001b\\\u001b[2mmake_squiggle.py\u001b[0m\u001b]8;;\u001b\\\u001b[2m:\u001b[0m\u001b]8;id=181411;file:///home/adoni5/Projects/Icarust_supplementary/notebooks/make_squiggle.py#145\u001b\\\u001b[2m145\u001b[0m\u001b]8;;\u001b\\\n",
       "\u001b[2;36m                    \u001b[0m         already exists. Skipping\u001b[33m...\u001b[0m                                       \u001b[2m                    \u001b[0m\n"
      ]
     },
     "metadata": {},
     "output_type": "display_data"
    },
    {
     "data": {
      "text/html": [
       "<pre style=\"white-space:pre;overflow-x:auto;line-height:normal;font-family:Menlo,'DejaVu Sans Mono',consolas,'Courier New',monospace\"><span style=\"color: #7fbfbf; text-decoration-color: #7fbfbf\">                    </span><span style=\"color: #000080; text-decoration-color: #000080\">INFO    </span> Generating squiggle for test_read_5_800875_801125                 <a href=\"file:///home/adoni5/Projects/Icarust_supplementary/notebooks/make_squiggle.py\" target=\"_blank\"><span style=\"color: #7f7f7f; text-decoration-color: #7f7f7f\">make_squiggle.py</span></a><span style=\"color: #7f7f7f; text-decoration-color: #7f7f7f\">:</span><a href=\"file:///home/adoni5/Projects/Icarust_supplementary/notebooks/make_squiggle.py#120\" target=\"_blank\"><span style=\"color: #7f7f7f; text-decoration-color: #7f7f7f\">120</span></a>\n",
       "</pre>\n"
      ],
      "text/plain": [
       "\u001b[2;36m                   \u001b[0m\u001b[2;36m \u001b[0m\u001b[34mINFO    \u001b[0m Generating squiggle for test_read_5_800875_801125                 \u001b]8;id=813524;file:///home/adoni5/Projects/Icarust_supplementary/notebooks/make_squiggle.py\u001b\\\u001b[2mmake_squiggle.py\u001b[0m\u001b]8;;\u001b\\\u001b[2m:\u001b[0m\u001b]8;id=707249;file:///home/adoni5/Projects/Icarust_supplementary/notebooks/make_squiggle.py#120\u001b\\\u001b[2m120\u001b[0m\u001b]8;;\u001b\\\n"
      ]
     },
     "metadata": {},
     "output_type": "display_data"
    },
    {
     "data": {
      "text/html": [
       "<pre style=\"white-space:pre;overflow-x:auto;line-height:normal;font-family:Menlo,'DejaVu Sans Mono',consolas,'Courier New',monospace\"><span style=\"color: #7fbfbf; text-decoration-color: #7fbfbf\">                    </span><span style=\"color: #000080; text-decoration-color: #000080\">INFO    </span> Invalid characters found in sequence of                           <a href=\"file:///home/adoni5/Projects/Icarust_supplementary/notebooks/make_squiggle.py\" target=\"_blank\"><span style=\"color: #7f7f7f; text-decoration-color: #7f7f7f\">make_squiggle.py</span></a><span style=\"color: #7f7f7f; text-decoration-color: #7f7f7f\">:</span><a href=\"file:///home/adoni5/Projects/Icarust_supplementary/notebooks/make_squiggle.py#122\" target=\"_blank\"><span style=\"color: #7f7f7f; text-decoration-color: #7f7f7f\">122</span></a>\n",
       "<span style=\"color: #7fbfbf; text-decoration-color: #7fbfbf\">                    </span>         test_read_5_800875_801125, removing them                          <span style=\"color: #7f7f7f; text-decoration-color: #7f7f7f\">                    </span>\n",
       "</pre>\n"
      ],
      "text/plain": [
       "\u001b[2;36m                   \u001b[0m\u001b[2;36m \u001b[0m\u001b[34mINFO    \u001b[0m Invalid characters found in sequence of                           \u001b]8;id=696000;file:///home/adoni5/Projects/Icarust_supplementary/notebooks/make_squiggle.py\u001b\\\u001b[2mmake_squiggle.py\u001b[0m\u001b]8;;\u001b\\\u001b[2m:\u001b[0m\u001b]8;id=533123;file:///home/adoni5/Projects/Icarust_supplementary/notebooks/make_squiggle.py#122\u001b\\\u001b[2m122\u001b[0m\u001b]8;;\u001b\\\n",
       "\u001b[2;36m                    \u001b[0m         test_read_5_800875_801125, removing them                          \u001b[2m                    \u001b[0m\n"
      ]
     },
     "metadata": {},
     "output_type": "display_data"
    },
    {
     "data": {
      "text/html": [
       "<pre style=\"white-space:pre;overflow-x:auto;line-height:normal;font-family:Menlo,'DejaVu Sans Mono',consolas,'Courier New',monospace\"><span style=\"color: #7fbfbf; text-decoration-color: #7fbfbf\">                    </span><span style=\"color: #800000; text-decoration-color: #800000\">WARNING </span> File with name r9_squiggle/test_read_5_800875_801125.squiggle.npy <a href=\"file:///home/adoni5/Projects/Icarust_supplementary/notebooks/make_squiggle.py\" target=\"_blank\"><span style=\"color: #7f7f7f; text-decoration-color: #7f7f7f\">make_squiggle.py</span></a><span style=\"color: #7f7f7f; text-decoration-color: #7f7f7f\">:</span><a href=\"file:///home/adoni5/Projects/Icarust_supplementary/notebooks/make_squiggle.py#145\" target=\"_blank\"><span style=\"color: #7f7f7f; text-decoration-color: #7f7f7f\">145</span></a>\n",
       "<span style=\"color: #7fbfbf; text-decoration-color: #7fbfbf\">                    </span>         already exists. Skipping<span style=\"color: #808000; text-decoration-color: #808000\">...</span>                                       <span style=\"color: #7f7f7f; text-decoration-color: #7f7f7f\">                    </span>\n",
       "</pre>\n"
      ],
      "text/plain": [
       "\u001b[2;36m                   \u001b[0m\u001b[2;36m \u001b[0m\u001b[31mWARNING \u001b[0m File with name r9_squiggle/test_read_5_800875_801125.squiggle.npy \u001b]8;id=880753;file:///home/adoni5/Projects/Icarust_supplementary/notebooks/make_squiggle.py\u001b\\\u001b[2mmake_squiggle.py\u001b[0m\u001b]8;;\u001b\\\u001b[2m:\u001b[0m\u001b]8;id=412357;file:///home/adoni5/Projects/Icarust_supplementary/notebooks/make_squiggle.py#145\u001b\\\u001b[2m145\u001b[0m\u001b]8;;\u001b\\\n",
       "\u001b[2;36m                    \u001b[0m         already exists. Skipping\u001b[33m...\u001b[0m                                       \u001b[2m                    \u001b[0m\n"
      ]
     },
     "metadata": {},
     "output_type": "display_data"
    },
    {
     "data": {
      "text/html": [
       "<pre style=\"white-space:pre;overflow-x:auto;line-height:normal;font-family:Menlo,'DejaVu Sans Mono',consolas,'Courier New',monospace\"><span style=\"color: #7fbfbf; text-decoration-color: #7fbfbf\">                    </span><span style=\"color: #000080; text-decoration-color: #000080\">INFO    </span> Generating squiggle for test_read_6_267459_267759                 <a href=\"file:///home/adoni5/Projects/Icarust_supplementary/notebooks/make_squiggle.py\" target=\"_blank\"><span style=\"color: #7f7f7f; text-decoration-color: #7f7f7f\">make_squiggle.py</span></a><span style=\"color: #7f7f7f; text-decoration-color: #7f7f7f\">:</span><a href=\"file:///home/adoni5/Projects/Icarust_supplementary/notebooks/make_squiggle.py#120\" target=\"_blank\"><span style=\"color: #7f7f7f; text-decoration-color: #7f7f7f\">120</span></a>\n",
       "</pre>\n"
      ],
      "text/plain": [
       "\u001b[2;36m                   \u001b[0m\u001b[2;36m \u001b[0m\u001b[34mINFO    \u001b[0m Generating squiggle for test_read_6_267459_267759                 \u001b]8;id=492117;file:///home/adoni5/Projects/Icarust_supplementary/notebooks/make_squiggle.py\u001b\\\u001b[2mmake_squiggle.py\u001b[0m\u001b]8;;\u001b\\\u001b[2m:\u001b[0m\u001b]8;id=45599;file:///home/adoni5/Projects/Icarust_supplementary/notebooks/make_squiggle.py#120\u001b\\\u001b[2m120\u001b[0m\u001b]8;;\u001b\\\n"
      ]
     },
     "metadata": {},
     "output_type": "display_data"
    },
    {
     "data": {
      "text/html": [
       "<pre style=\"white-space:pre;overflow-x:auto;line-height:normal;font-family:Menlo,'DejaVu Sans Mono',consolas,'Courier New',monospace\"><span style=\"color: #7fbfbf; text-decoration-color: #7fbfbf\">                    </span><span style=\"color: #000080; text-decoration-color: #000080\">INFO    </span> Invalid characters found in sequence of                           <a href=\"file:///home/adoni5/Projects/Icarust_supplementary/notebooks/make_squiggle.py\" target=\"_blank\"><span style=\"color: #7f7f7f; text-decoration-color: #7f7f7f\">make_squiggle.py</span></a><span style=\"color: #7f7f7f; text-decoration-color: #7f7f7f\">:</span><a href=\"file:///home/adoni5/Projects/Icarust_supplementary/notebooks/make_squiggle.py#122\" target=\"_blank\"><span style=\"color: #7f7f7f; text-decoration-color: #7f7f7f\">122</span></a>\n",
       "<span style=\"color: #7fbfbf; text-decoration-color: #7fbfbf\">                    </span>         test_read_6_267459_267759, removing them                          <span style=\"color: #7f7f7f; text-decoration-color: #7f7f7f\">                    </span>\n",
       "</pre>\n"
      ],
      "text/plain": [
       "\u001b[2;36m                   \u001b[0m\u001b[2;36m \u001b[0m\u001b[34mINFO    \u001b[0m Invalid characters found in sequence of                           \u001b]8;id=621998;file:///home/adoni5/Projects/Icarust_supplementary/notebooks/make_squiggle.py\u001b\\\u001b[2mmake_squiggle.py\u001b[0m\u001b]8;;\u001b\\\u001b[2m:\u001b[0m\u001b]8;id=606261;file:///home/adoni5/Projects/Icarust_supplementary/notebooks/make_squiggle.py#122\u001b\\\u001b[2m122\u001b[0m\u001b]8;;\u001b\\\n",
       "\u001b[2;36m                    \u001b[0m         test_read_6_267459_267759, removing them                          \u001b[2m                    \u001b[0m\n"
      ]
     },
     "metadata": {},
     "output_type": "display_data"
    },
    {
     "data": {
      "text/html": [
       "<pre style=\"white-space:pre;overflow-x:auto;line-height:normal;font-family:Menlo,'DejaVu Sans Mono',consolas,'Courier New',monospace\"><span style=\"color: #7fbfbf; text-decoration-color: #7fbfbf\">                    </span><span style=\"color: #800000; text-decoration-color: #800000\">WARNING </span> File with name r9_squiggle/test_read_6_267459_267759.squiggle.npy <a href=\"file:///home/adoni5/Projects/Icarust_supplementary/notebooks/make_squiggle.py\" target=\"_blank\"><span style=\"color: #7f7f7f; text-decoration-color: #7f7f7f\">make_squiggle.py</span></a><span style=\"color: #7f7f7f; text-decoration-color: #7f7f7f\">:</span><a href=\"file:///home/adoni5/Projects/Icarust_supplementary/notebooks/make_squiggle.py#145\" target=\"_blank\"><span style=\"color: #7f7f7f; text-decoration-color: #7f7f7f\">145</span></a>\n",
       "<span style=\"color: #7fbfbf; text-decoration-color: #7fbfbf\">                    </span>         already exists. Skipping<span style=\"color: #808000; text-decoration-color: #808000\">...</span>                                       <span style=\"color: #7f7f7f; text-decoration-color: #7f7f7f\">                    </span>\n",
       "</pre>\n"
      ],
      "text/plain": [
       "\u001b[2;36m                   \u001b[0m\u001b[2;36m \u001b[0m\u001b[31mWARNING \u001b[0m File with name r9_squiggle/test_read_6_267459_267759.squiggle.npy \u001b]8;id=526635;file:///home/adoni5/Projects/Icarust_supplementary/notebooks/make_squiggle.py\u001b\\\u001b[2mmake_squiggle.py\u001b[0m\u001b]8;;\u001b\\\u001b[2m:\u001b[0m\u001b]8;id=237961;file:///home/adoni5/Projects/Icarust_supplementary/notebooks/make_squiggle.py#145\u001b\\\u001b[2m145\u001b[0m\u001b]8;;\u001b\\\n",
       "\u001b[2;36m                    \u001b[0m         already exists. Skipping\u001b[33m...\u001b[0m                                       \u001b[2m                    \u001b[0m\n"
      ]
     },
     "metadata": {},
     "output_type": "display_data"
    },
    {
     "data": {
      "text/html": [
       "<pre style=\"white-space:pre;overflow-x:auto;line-height:normal;font-family:Menlo,'DejaVu Sans Mono',consolas,'Courier New',monospace\"><span style=\"color: #7fbfbf; text-decoration-color: #7fbfbf\">                    </span><span style=\"color: #000080; text-decoration-color: #000080\">INFO    </span> Generating squiggle for test_read_7_123646_123996                 <a href=\"file:///home/adoni5/Projects/Icarust_supplementary/notebooks/make_squiggle.py\" target=\"_blank\"><span style=\"color: #7f7f7f; text-decoration-color: #7f7f7f\">make_squiggle.py</span></a><span style=\"color: #7f7f7f; text-decoration-color: #7f7f7f\">:</span><a href=\"file:///home/adoni5/Projects/Icarust_supplementary/notebooks/make_squiggle.py#120\" target=\"_blank\"><span style=\"color: #7f7f7f; text-decoration-color: #7f7f7f\">120</span></a>\n",
       "</pre>\n"
      ],
      "text/plain": [
       "\u001b[2;36m                   \u001b[0m\u001b[2;36m \u001b[0m\u001b[34mINFO    \u001b[0m Generating squiggle for test_read_7_123646_123996                 \u001b]8;id=964780;file:///home/adoni5/Projects/Icarust_supplementary/notebooks/make_squiggle.py\u001b\\\u001b[2mmake_squiggle.py\u001b[0m\u001b]8;;\u001b\\\u001b[2m:\u001b[0m\u001b]8;id=902079;file:///home/adoni5/Projects/Icarust_supplementary/notebooks/make_squiggle.py#120\u001b\\\u001b[2m120\u001b[0m\u001b]8;;\u001b\\\n"
      ]
     },
     "metadata": {},
     "output_type": "display_data"
    },
    {
     "data": {
      "text/html": [
       "<pre style=\"white-space:pre;overflow-x:auto;line-height:normal;font-family:Menlo,'DejaVu Sans Mono',consolas,'Courier New',monospace\"><span style=\"color: #7fbfbf; text-decoration-color: #7fbfbf\">                    </span><span style=\"color: #000080; text-decoration-color: #000080\">INFO    </span> Invalid characters found in sequence of                           <a href=\"file:///home/adoni5/Projects/Icarust_supplementary/notebooks/make_squiggle.py\" target=\"_blank\"><span style=\"color: #7f7f7f; text-decoration-color: #7f7f7f\">make_squiggle.py</span></a><span style=\"color: #7f7f7f; text-decoration-color: #7f7f7f\">:</span><a href=\"file:///home/adoni5/Projects/Icarust_supplementary/notebooks/make_squiggle.py#122\" target=\"_blank\"><span style=\"color: #7f7f7f; text-decoration-color: #7f7f7f\">122</span></a>\n",
       "<span style=\"color: #7fbfbf; text-decoration-color: #7fbfbf\">                    </span>         test_read_7_123646_123996, removing them                          <span style=\"color: #7f7f7f; text-decoration-color: #7f7f7f\">                    </span>\n",
       "</pre>\n"
      ],
      "text/plain": [
       "\u001b[2;36m                   \u001b[0m\u001b[2;36m \u001b[0m\u001b[34mINFO    \u001b[0m Invalid characters found in sequence of                           \u001b]8;id=360527;file:///home/adoni5/Projects/Icarust_supplementary/notebooks/make_squiggle.py\u001b\\\u001b[2mmake_squiggle.py\u001b[0m\u001b]8;;\u001b\\\u001b[2m:\u001b[0m\u001b]8;id=998734;file:///home/adoni5/Projects/Icarust_supplementary/notebooks/make_squiggle.py#122\u001b\\\u001b[2m122\u001b[0m\u001b]8;;\u001b\\\n",
       "\u001b[2;36m                    \u001b[0m         test_read_7_123646_123996, removing them                          \u001b[2m                    \u001b[0m\n"
      ]
     },
     "metadata": {},
     "output_type": "display_data"
    },
    {
     "data": {
      "text/html": [
       "<pre style=\"white-space:pre;overflow-x:auto;line-height:normal;font-family:Menlo,'DejaVu Sans Mono',consolas,'Courier New',monospace\"><span style=\"color: #7fbfbf; text-decoration-color: #7fbfbf\">                    </span><span style=\"color: #800000; text-decoration-color: #800000\">WARNING </span> File with name r9_squiggle/test_read_7_123646_123996.squiggle.npy <a href=\"file:///home/adoni5/Projects/Icarust_supplementary/notebooks/make_squiggle.py\" target=\"_blank\"><span style=\"color: #7f7f7f; text-decoration-color: #7f7f7f\">make_squiggle.py</span></a><span style=\"color: #7f7f7f; text-decoration-color: #7f7f7f\">:</span><a href=\"file:///home/adoni5/Projects/Icarust_supplementary/notebooks/make_squiggle.py#145\" target=\"_blank\"><span style=\"color: #7f7f7f; text-decoration-color: #7f7f7f\">145</span></a>\n",
       "<span style=\"color: #7fbfbf; text-decoration-color: #7fbfbf\">                    </span>         already exists. Skipping<span style=\"color: #808000; text-decoration-color: #808000\">...</span>                                       <span style=\"color: #7f7f7f; text-decoration-color: #7f7f7f\">                    </span>\n",
       "</pre>\n"
      ],
      "text/plain": [
       "\u001b[2;36m                   \u001b[0m\u001b[2;36m \u001b[0m\u001b[31mWARNING \u001b[0m File with name r9_squiggle/test_read_7_123646_123996.squiggle.npy \u001b]8;id=953947;file:///home/adoni5/Projects/Icarust_supplementary/notebooks/make_squiggle.py\u001b\\\u001b[2mmake_squiggle.py\u001b[0m\u001b]8;;\u001b\\\u001b[2m:\u001b[0m\u001b]8;id=282359;file:///home/adoni5/Projects/Icarust_supplementary/notebooks/make_squiggle.py#145\u001b\\\u001b[2m145\u001b[0m\u001b]8;;\u001b\\\n",
       "\u001b[2;36m                    \u001b[0m         already exists. Skipping\u001b[33m...\u001b[0m                                       \u001b[2m                    \u001b[0m\n"
      ]
     },
     "metadata": {},
     "output_type": "display_data"
    },
    {
     "data": {
      "text/html": [
       "<pre style=\"white-space:pre;overflow-x:auto;line-height:normal;font-family:Menlo,'DejaVu Sans Mono',consolas,'Courier New',monospace\"><span style=\"color: #7fbfbf; text-decoration-color: #7fbfbf\">                    </span><span style=\"color: #000080; text-decoration-color: #000080\">INFO    </span> Generating squiggle for test_read_8_519501_519901                 <a href=\"file:///home/adoni5/Projects/Icarust_supplementary/notebooks/make_squiggle.py\" target=\"_blank\"><span style=\"color: #7f7f7f; text-decoration-color: #7f7f7f\">make_squiggle.py</span></a><span style=\"color: #7f7f7f; text-decoration-color: #7f7f7f\">:</span><a href=\"file:///home/adoni5/Projects/Icarust_supplementary/notebooks/make_squiggle.py#120\" target=\"_blank\"><span style=\"color: #7f7f7f; text-decoration-color: #7f7f7f\">120</span></a>\n",
       "</pre>\n"
      ],
      "text/plain": [
       "\u001b[2;36m                   \u001b[0m\u001b[2;36m \u001b[0m\u001b[34mINFO    \u001b[0m Generating squiggle for test_read_8_519501_519901                 \u001b]8;id=5986;file:///home/adoni5/Projects/Icarust_supplementary/notebooks/make_squiggle.py\u001b\\\u001b[2mmake_squiggle.py\u001b[0m\u001b]8;;\u001b\\\u001b[2m:\u001b[0m\u001b]8;id=402327;file:///home/adoni5/Projects/Icarust_supplementary/notebooks/make_squiggle.py#120\u001b\\\u001b[2m120\u001b[0m\u001b]8;;\u001b\\\n"
      ]
     },
     "metadata": {},
     "output_type": "display_data"
    },
    {
     "data": {
      "text/html": [
       "<pre style=\"white-space:pre;overflow-x:auto;line-height:normal;font-family:Menlo,'DejaVu Sans Mono',consolas,'Courier New',monospace\"><span style=\"color: #7fbfbf; text-decoration-color: #7fbfbf\">                    </span><span style=\"color: #000080; text-decoration-color: #000080\">INFO    </span> Invalid characters found in sequence of                           <a href=\"file:///home/adoni5/Projects/Icarust_supplementary/notebooks/make_squiggle.py\" target=\"_blank\"><span style=\"color: #7f7f7f; text-decoration-color: #7f7f7f\">make_squiggle.py</span></a><span style=\"color: #7f7f7f; text-decoration-color: #7f7f7f\">:</span><a href=\"file:///home/adoni5/Projects/Icarust_supplementary/notebooks/make_squiggle.py#122\" target=\"_blank\"><span style=\"color: #7f7f7f; text-decoration-color: #7f7f7f\">122</span></a>\n",
       "<span style=\"color: #7fbfbf; text-decoration-color: #7fbfbf\">                    </span>         test_read_8_519501_519901, removing them                          <span style=\"color: #7f7f7f; text-decoration-color: #7f7f7f\">                    </span>\n",
       "</pre>\n"
      ],
      "text/plain": [
       "\u001b[2;36m                   \u001b[0m\u001b[2;36m \u001b[0m\u001b[34mINFO    \u001b[0m Invalid characters found in sequence of                           \u001b]8;id=984045;file:///home/adoni5/Projects/Icarust_supplementary/notebooks/make_squiggle.py\u001b\\\u001b[2mmake_squiggle.py\u001b[0m\u001b]8;;\u001b\\\u001b[2m:\u001b[0m\u001b]8;id=776474;file:///home/adoni5/Projects/Icarust_supplementary/notebooks/make_squiggle.py#122\u001b\\\u001b[2m122\u001b[0m\u001b]8;;\u001b\\\n",
       "\u001b[2;36m                    \u001b[0m         test_read_8_519501_519901, removing them                          \u001b[2m                    \u001b[0m\n"
      ]
     },
     "metadata": {},
     "output_type": "display_data"
    },
    {
     "data": {
      "text/html": [
       "<pre style=\"white-space:pre;overflow-x:auto;line-height:normal;font-family:Menlo,'DejaVu Sans Mono',consolas,'Courier New',monospace\"><span style=\"color: #7fbfbf; text-decoration-color: #7fbfbf\">                    </span><span style=\"color: #800000; text-decoration-color: #800000\">WARNING </span> File with name r9_squiggle/test_read_8_519501_519901.squiggle.npy <a href=\"file:///home/adoni5/Projects/Icarust_supplementary/notebooks/make_squiggle.py\" target=\"_blank\"><span style=\"color: #7f7f7f; text-decoration-color: #7f7f7f\">make_squiggle.py</span></a><span style=\"color: #7f7f7f; text-decoration-color: #7f7f7f\">:</span><a href=\"file:///home/adoni5/Projects/Icarust_supplementary/notebooks/make_squiggle.py#145\" target=\"_blank\"><span style=\"color: #7f7f7f; text-decoration-color: #7f7f7f\">145</span></a>\n",
       "<span style=\"color: #7fbfbf; text-decoration-color: #7fbfbf\">                    </span>         already exists. Skipping<span style=\"color: #808000; text-decoration-color: #808000\">...</span>                                       <span style=\"color: #7f7f7f; text-decoration-color: #7f7f7f\">                    </span>\n",
       "</pre>\n"
      ],
      "text/plain": [
       "\u001b[2;36m                   \u001b[0m\u001b[2;36m \u001b[0m\u001b[31mWARNING \u001b[0m File with name r9_squiggle/test_read_8_519501_519901.squiggle.npy \u001b]8;id=815160;file:///home/adoni5/Projects/Icarust_supplementary/notebooks/make_squiggle.py\u001b\\\u001b[2mmake_squiggle.py\u001b[0m\u001b]8;;\u001b\\\u001b[2m:\u001b[0m\u001b]8;id=588626;file:///home/adoni5/Projects/Icarust_supplementary/notebooks/make_squiggle.py#145\u001b\\\u001b[2m145\u001b[0m\u001b]8;;\u001b\\\n",
       "\u001b[2;36m                    \u001b[0m         already exists. Skipping\u001b[33m...\u001b[0m                                       \u001b[2m                    \u001b[0m\n"
      ]
     },
     "metadata": {},
     "output_type": "display_data"
    },
    {
     "data": {
      "text/html": [
       "<pre style=\"white-space:pre;overflow-x:auto;line-height:normal;font-family:Menlo,'DejaVu Sans Mono',consolas,'Courier New',monospace\"><span style=\"color: #7fbfbf; text-decoration-color: #7fbfbf\">                    </span><span style=\"color: #000080; text-decoration-color: #000080\">INFO    </span> Generating squiggle for test_read_9_797926_798376                 <a href=\"file:///home/adoni5/Projects/Icarust_supplementary/notebooks/make_squiggle.py\" target=\"_blank\"><span style=\"color: #7f7f7f; text-decoration-color: #7f7f7f\">make_squiggle.py</span></a><span style=\"color: #7f7f7f; text-decoration-color: #7f7f7f\">:</span><a href=\"file:///home/adoni5/Projects/Icarust_supplementary/notebooks/make_squiggle.py#120\" target=\"_blank\"><span style=\"color: #7f7f7f; text-decoration-color: #7f7f7f\">120</span></a>\n",
       "</pre>\n"
      ],
      "text/plain": [
       "\u001b[2;36m                   \u001b[0m\u001b[2;36m \u001b[0m\u001b[34mINFO    \u001b[0m Generating squiggle for test_read_9_797926_798376                 \u001b]8;id=504471;file:///home/adoni5/Projects/Icarust_supplementary/notebooks/make_squiggle.py\u001b\\\u001b[2mmake_squiggle.py\u001b[0m\u001b]8;;\u001b\\\u001b[2m:\u001b[0m\u001b]8;id=912271;file:///home/adoni5/Projects/Icarust_supplementary/notebooks/make_squiggle.py#120\u001b\\\u001b[2m120\u001b[0m\u001b]8;;\u001b\\\n"
      ]
     },
     "metadata": {},
     "output_type": "display_data"
    },
    {
     "data": {
      "text/html": [
       "<pre style=\"white-space:pre;overflow-x:auto;line-height:normal;font-family:Menlo,'DejaVu Sans Mono',consolas,'Courier New',monospace\"><span style=\"color: #7fbfbf; text-decoration-color: #7fbfbf\">                    </span><span style=\"color: #000080; text-decoration-color: #000080\">INFO    </span> Invalid characters found in sequence of                           <a href=\"file:///home/adoni5/Projects/Icarust_supplementary/notebooks/make_squiggle.py\" target=\"_blank\"><span style=\"color: #7f7f7f; text-decoration-color: #7f7f7f\">make_squiggle.py</span></a><span style=\"color: #7f7f7f; text-decoration-color: #7f7f7f\">:</span><a href=\"file:///home/adoni5/Projects/Icarust_supplementary/notebooks/make_squiggle.py#122\" target=\"_blank\"><span style=\"color: #7f7f7f; text-decoration-color: #7f7f7f\">122</span></a>\n",
       "<span style=\"color: #7fbfbf; text-decoration-color: #7fbfbf\">                    </span>         test_read_9_797926_798376, removing them                          <span style=\"color: #7f7f7f; text-decoration-color: #7f7f7f\">                    </span>\n",
       "</pre>\n"
      ],
      "text/plain": [
       "\u001b[2;36m                   \u001b[0m\u001b[2;36m \u001b[0m\u001b[34mINFO    \u001b[0m Invalid characters found in sequence of                           \u001b]8;id=986724;file:///home/adoni5/Projects/Icarust_supplementary/notebooks/make_squiggle.py\u001b\\\u001b[2mmake_squiggle.py\u001b[0m\u001b]8;;\u001b\\\u001b[2m:\u001b[0m\u001b]8;id=529237;file:///home/adoni5/Projects/Icarust_supplementary/notebooks/make_squiggle.py#122\u001b\\\u001b[2m122\u001b[0m\u001b]8;;\u001b\\\n",
       "\u001b[2;36m                    \u001b[0m         test_read_9_797926_798376, removing them                          \u001b[2m                    \u001b[0m\n"
      ]
     },
     "metadata": {},
     "output_type": "display_data"
    },
    {
     "data": {
      "text/html": [
       "<pre style=\"white-space:pre;overflow-x:auto;line-height:normal;font-family:Menlo,'DejaVu Sans Mono',consolas,'Courier New',monospace\"><span style=\"color: #7fbfbf; text-decoration-color: #7fbfbf\">                    </span><span style=\"color: #800000; text-decoration-color: #800000\">WARNING </span> File with name r9_squiggle/test_read_9_797926_798376.squiggle.npy <a href=\"file:///home/adoni5/Projects/Icarust_supplementary/notebooks/make_squiggle.py\" target=\"_blank\"><span style=\"color: #7f7f7f; text-decoration-color: #7f7f7f\">make_squiggle.py</span></a><span style=\"color: #7f7f7f; text-decoration-color: #7f7f7f\">:</span><a href=\"file:///home/adoni5/Projects/Icarust_supplementary/notebooks/make_squiggle.py#145\" target=\"_blank\"><span style=\"color: #7f7f7f; text-decoration-color: #7f7f7f\">145</span></a>\n",
       "<span style=\"color: #7fbfbf; text-decoration-color: #7fbfbf\">                    </span>         already exists. Skipping<span style=\"color: #808000; text-decoration-color: #808000\">...</span>                                       <span style=\"color: #7f7f7f; text-decoration-color: #7f7f7f\">                    </span>\n",
       "</pre>\n"
      ],
      "text/plain": [
       "\u001b[2;36m                   \u001b[0m\u001b[2;36m \u001b[0m\u001b[31mWARNING \u001b[0m File with name r9_squiggle/test_read_9_797926_798376.squiggle.npy \u001b]8;id=434555;file:///home/adoni5/Projects/Icarust_supplementary/notebooks/make_squiggle.py\u001b\\\u001b[2mmake_squiggle.py\u001b[0m\u001b]8;;\u001b\\\u001b[2m:\u001b[0m\u001b]8;id=362889;file:///home/adoni5/Projects/Icarust_supplementary/notebooks/make_squiggle.py#145\u001b\\\u001b[2m145\u001b[0m\u001b]8;;\u001b\\\n",
       "\u001b[2;36m                    \u001b[0m         already exists. Skipping\u001b[33m...\u001b[0m                                       \u001b[2m                    \u001b[0m\n"
      ]
     },
     "metadata": {},
     "output_type": "display_data"
    },
    {
     "data": {
      "text/html": [
       "<pre style=\"white-space:pre;overflow-x:auto;line-height:normal;font-family:Menlo,'DejaVu Sans Mono',consolas,'Courier New',monospace\"><span style=\"color: #7fbfbf; text-decoration-color: #7fbfbf\">                    </span><span style=\"color: #000080; text-decoration-color: #000080\">INFO    </span> Generating squiggle for test_read_10_471325_471825                <a href=\"file:///home/adoni5/Projects/Icarust_supplementary/notebooks/make_squiggle.py\" target=\"_blank\"><span style=\"color: #7f7f7f; text-decoration-color: #7f7f7f\">make_squiggle.py</span></a><span style=\"color: #7f7f7f; text-decoration-color: #7f7f7f\">:</span><a href=\"file:///home/adoni5/Projects/Icarust_supplementary/notebooks/make_squiggle.py#120\" target=\"_blank\"><span style=\"color: #7f7f7f; text-decoration-color: #7f7f7f\">120</span></a>\n",
       "</pre>\n"
      ],
      "text/plain": [
       "\u001b[2;36m                   \u001b[0m\u001b[2;36m \u001b[0m\u001b[34mINFO    \u001b[0m Generating squiggle for test_read_10_471325_471825                \u001b]8;id=824646;file:///home/adoni5/Projects/Icarust_supplementary/notebooks/make_squiggle.py\u001b\\\u001b[2mmake_squiggle.py\u001b[0m\u001b]8;;\u001b\\\u001b[2m:\u001b[0m\u001b]8;id=642202;file:///home/adoni5/Projects/Icarust_supplementary/notebooks/make_squiggle.py#120\u001b\\\u001b[2m120\u001b[0m\u001b]8;;\u001b\\\n"
      ]
     },
     "metadata": {},
     "output_type": "display_data"
    },
    {
     "data": {
      "text/html": [
       "<pre style=\"white-space:pre;overflow-x:auto;line-height:normal;font-family:Menlo,'DejaVu Sans Mono',consolas,'Courier New',monospace\"><span style=\"color: #7fbfbf; text-decoration-color: #7fbfbf\">                    </span><span style=\"color: #000080; text-decoration-color: #000080\">INFO    </span> Invalid characters found in sequence of                           <a href=\"file:///home/adoni5/Projects/Icarust_supplementary/notebooks/make_squiggle.py\" target=\"_blank\"><span style=\"color: #7f7f7f; text-decoration-color: #7f7f7f\">make_squiggle.py</span></a><span style=\"color: #7f7f7f; text-decoration-color: #7f7f7f\">:</span><a href=\"file:///home/adoni5/Projects/Icarust_supplementary/notebooks/make_squiggle.py#122\" target=\"_blank\"><span style=\"color: #7f7f7f; text-decoration-color: #7f7f7f\">122</span></a>\n",
       "<span style=\"color: #7fbfbf; text-decoration-color: #7fbfbf\">                    </span>         test_read_10_471325_471825, removing them                         <span style=\"color: #7f7f7f; text-decoration-color: #7f7f7f\">                    </span>\n",
       "</pre>\n"
      ],
      "text/plain": [
       "\u001b[2;36m                   \u001b[0m\u001b[2;36m \u001b[0m\u001b[34mINFO    \u001b[0m Invalid characters found in sequence of                           \u001b]8;id=843652;file:///home/adoni5/Projects/Icarust_supplementary/notebooks/make_squiggle.py\u001b\\\u001b[2mmake_squiggle.py\u001b[0m\u001b]8;;\u001b\\\u001b[2m:\u001b[0m\u001b]8;id=240758;file:///home/adoni5/Projects/Icarust_supplementary/notebooks/make_squiggle.py#122\u001b\\\u001b[2m122\u001b[0m\u001b]8;;\u001b\\\n",
       "\u001b[2;36m                    \u001b[0m         test_read_10_471325_471825, removing them                         \u001b[2m                    \u001b[0m\n"
      ]
     },
     "metadata": {},
     "output_type": "display_data"
    },
    {
     "data": {
      "text/html": [
       "<pre style=\"white-space:pre;overflow-x:auto;line-height:normal;font-family:Menlo,'DejaVu Sans Mono',consolas,'Courier New',monospace\"><span style=\"color: #7fbfbf; text-decoration-color: #7fbfbf\">                    </span><span style=\"color: #800000; text-decoration-color: #800000\">WARNING </span> File with name                                                    <a href=\"file:///home/adoni5/Projects/Icarust_supplementary/notebooks/make_squiggle.py\" target=\"_blank\"><span style=\"color: #7f7f7f; text-decoration-color: #7f7f7f\">make_squiggle.py</span></a><span style=\"color: #7f7f7f; text-decoration-color: #7f7f7f\">:</span><a href=\"file:///home/adoni5/Projects/Icarust_supplementary/notebooks/make_squiggle.py#145\" target=\"_blank\"><span style=\"color: #7f7f7f; text-decoration-color: #7f7f7f\">145</span></a>\n",
       "<span style=\"color: #7fbfbf; text-decoration-color: #7fbfbf\">                    </span>         r9_squiggle/test_read_10_471325_471825.squiggle.npy already       <span style=\"color: #7f7f7f; text-decoration-color: #7f7f7f\">                    </span>\n",
       "<span style=\"color: #7fbfbf; text-decoration-color: #7fbfbf\">                    </span>         exists. Skipping<span style=\"color: #808000; text-decoration-color: #808000\">...</span>                                               <span style=\"color: #7f7f7f; text-decoration-color: #7f7f7f\">                    </span>\n",
       "</pre>\n"
      ],
      "text/plain": [
       "\u001b[2;36m                   \u001b[0m\u001b[2;36m \u001b[0m\u001b[31mWARNING \u001b[0m File with name                                                    \u001b]8;id=189565;file:///home/adoni5/Projects/Icarust_supplementary/notebooks/make_squiggle.py\u001b\\\u001b[2mmake_squiggle.py\u001b[0m\u001b]8;;\u001b\\\u001b[2m:\u001b[0m\u001b]8;id=902833;file:///home/adoni5/Projects/Icarust_supplementary/notebooks/make_squiggle.py#145\u001b\\\u001b[2m145\u001b[0m\u001b]8;;\u001b\\\n",
       "\u001b[2;36m                    \u001b[0m         r9_squiggle/test_read_10_471325_471825.squiggle.npy already       \u001b[2m                    \u001b[0m\n",
       "\u001b[2;36m                    \u001b[0m         exists. Skipping\u001b[33m...\u001b[0m                                               \u001b[2m                    \u001b[0m\n"
      ]
     },
     "metadata": {},
     "output_type": "display_data"
    },
    {
     "data": {
      "text/html": [
       "<pre style=\"white-space:pre;overflow-x:auto;line-height:normal;font-family:Menlo,'DejaVu Sans Mono',consolas,'Courier New',monospace\"><span style=\"color: #7fbfbf; text-decoration-color: #7fbfbf\">                    </span><span style=\"color: #000080; text-decoration-color: #000080\">INFO    </span> Generating squiggle for test_read_11_495185_495735                <a href=\"file:///home/adoni5/Projects/Icarust_supplementary/notebooks/make_squiggle.py\" target=\"_blank\"><span style=\"color: #7f7f7f; text-decoration-color: #7f7f7f\">make_squiggle.py</span></a><span style=\"color: #7f7f7f; text-decoration-color: #7f7f7f\">:</span><a href=\"file:///home/adoni5/Projects/Icarust_supplementary/notebooks/make_squiggle.py#120\" target=\"_blank\"><span style=\"color: #7f7f7f; text-decoration-color: #7f7f7f\">120</span></a>\n",
       "</pre>\n"
      ],
      "text/plain": [
       "\u001b[2;36m                   \u001b[0m\u001b[2;36m \u001b[0m\u001b[34mINFO    \u001b[0m Generating squiggle for test_read_11_495185_495735                \u001b]8;id=892625;file:///home/adoni5/Projects/Icarust_supplementary/notebooks/make_squiggle.py\u001b\\\u001b[2mmake_squiggle.py\u001b[0m\u001b]8;;\u001b\\\u001b[2m:\u001b[0m\u001b]8;id=856096;file:///home/adoni5/Projects/Icarust_supplementary/notebooks/make_squiggle.py#120\u001b\\\u001b[2m120\u001b[0m\u001b]8;;\u001b\\\n"
      ]
     },
     "metadata": {},
     "output_type": "display_data"
    },
    {
     "data": {
      "text/html": [
       "<pre style=\"white-space:pre;overflow-x:auto;line-height:normal;font-family:Menlo,'DejaVu Sans Mono',consolas,'Courier New',monospace\"><span style=\"color: #7fbfbf; text-decoration-color: #7fbfbf\">                    </span><span style=\"color: #000080; text-decoration-color: #000080\">INFO    </span> Invalid characters found in sequence of                           <a href=\"file:///home/adoni5/Projects/Icarust_supplementary/notebooks/make_squiggle.py\" target=\"_blank\"><span style=\"color: #7f7f7f; text-decoration-color: #7f7f7f\">make_squiggle.py</span></a><span style=\"color: #7f7f7f; text-decoration-color: #7f7f7f\">:</span><a href=\"file:///home/adoni5/Projects/Icarust_supplementary/notebooks/make_squiggle.py#122\" target=\"_blank\"><span style=\"color: #7f7f7f; text-decoration-color: #7f7f7f\">122</span></a>\n",
       "<span style=\"color: #7fbfbf; text-decoration-color: #7fbfbf\">                    </span>         test_read_11_495185_495735, removing them                         <span style=\"color: #7f7f7f; text-decoration-color: #7f7f7f\">                    </span>\n",
       "</pre>\n"
      ],
      "text/plain": [
       "\u001b[2;36m                   \u001b[0m\u001b[2;36m \u001b[0m\u001b[34mINFO    \u001b[0m Invalid characters found in sequence of                           \u001b]8;id=989405;file:///home/adoni5/Projects/Icarust_supplementary/notebooks/make_squiggle.py\u001b\\\u001b[2mmake_squiggle.py\u001b[0m\u001b]8;;\u001b\\\u001b[2m:\u001b[0m\u001b]8;id=705810;file:///home/adoni5/Projects/Icarust_supplementary/notebooks/make_squiggle.py#122\u001b\\\u001b[2m122\u001b[0m\u001b]8;;\u001b\\\n",
       "\u001b[2;36m                    \u001b[0m         test_read_11_495185_495735, removing them                         \u001b[2m                    \u001b[0m\n"
      ]
     },
     "metadata": {},
     "output_type": "display_data"
    },
    {
     "data": {
      "text/html": [
       "<pre style=\"white-space:pre;overflow-x:auto;line-height:normal;font-family:Menlo,'DejaVu Sans Mono',consolas,'Courier New',monospace\"><span style=\"color: #7fbfbf; text-decoration-color: #7fbfbf\">                    </span><span style=\"color: #800000; text-decoration-color: #800000\">WARNING </span> File with name                                                    <a href=\"file:///home/adoni5/Projects/Icarust_supplementary/notebooks/make_squiggle.py\" target=\"_blank\"><span style=\"color: #7f7f7f; text-decoration-color: #7f7f7f\">make_squiggle.py</span></a><span style=\"color: #7f7f7f; text-decoration-color: #7f7f7f\">:</span><a href=\"file:///home/adoni5/Projects/Icarust_supplementary/notebooks/make_squiggle.py#145\" target=\"_blank\"><span style=\"color: #7f7f7f; text-decoration-color: #7f7f7f\">145</span></a>\n",
       "<span style=\"color: #7fbfbf; text-decoration-color: #7fbfbf\">                    </span>         r9_squiggle/test_read_11_495185_495735.squiggle.npy already       <span style=\"color: #7f7f7f; text-decoration-color: #7f7f7f\">                    </span>\n",
       "<span style=\"color: #7fbfbf; text-decoration-color: #7fbfbf\">                    </span>         exists. Skipping<span style=\"color: #808000; text-decoration-color: #808000\">...</span>                                               <span style=\"color: #7f7f7f; text-decoration-color: #7f7f7f\">                    </span>\n",
       "</pre>\n"
      ],
      "text/plain": [
       "\u001b[2;36m                   \u001b[0m\u001b[2;36m \u001b[0m\u001b[31mWARNING \u001b[0m File with name                                                    \u001b]8;id=475003;file:///home/adoni5/Projects/Icarust_supplementary/notebooks/make_squiggle.py\u001b\\\u001b[2mmake_squiggle.py\u001b[0m\u001b]8;;\u001b\\\u001b[2m:\u001b[0m\u001b]8;id=15267;file:///home/adoni5/Projects/Icarust_supplementary/notebooks/make_squiggle.py#145\u001b\\\u001b[2m145\u001b[0m\u001b]8;;\u001b\\\n",
       "\u001b[2;36m                    \u001b[0m         r9_squiggle/test_read_11_495185_495735.squiggle.npy already       \u001b[2m                    \u001b[0m\n",
       "\u001b[2;36m                    \u001b[0m         exists. Skipping\u001b[33m...\u001b[0m                                               \u001b[2m                    \u001b[0m\n"
      ]
     },
     "metadata": {},
     "output_type": "display_data"
    },
    {
     "data": {
      "text/html": [
       "<pre style=\"white-space:pre;overflow-x:auto;line-height:normal;font-family:Menlo,'DejaVu Sans Mono',consolas,'Courier New',monospace\"><span style=\"color: #7fbfbf; text-decoration-color: #7fbfbf\">                    </span><span style=\"color: #000080; text-decoration-color: #000080\">INFO    </span> Generating squiggle for test_read_12_683244_683844                <a href=\"file:///home/adoni5/Projects/Icarust_supplementary/notebooks/make_squiggle.py\" target=\"_blank\"><span style=\"color: #7f7f7f; text-decoration-color: #7f7f7f\">make_squiggle.py</span></a><span style=\"color: #7f7f7f; text-decoration-color: #7f7f7f\">:</span><a href=\"file:///home/adoni5/Projects/Icarust_supplementary/notebooks/make_squiggle.py#120\" target=\"_blank\"><span style=\"color: #7f7f7f; text-decoration-color: #7f7f7f\">120</span></a>\n",
       "</pre>\n"
      ],
      "text/plain": [
       "\u001b[2;36m                   \u001b[0m\u001b[2;36m \u001b[0m\u001b[34mINFO    \u001b[0m Generating squiggle for test_read_12_683244_683844                \u001b]8;id=281691;file:///home/adoni5/Projects/Icarust_supplementary/notebooks/make_squiggle.py\u001b\\\u001b[2mmake_squiggle.py\u001b[0m\u001b]8;;\u001b\\\u001b[2m:\u001b[0m\u001b]8;id=114807;file:///home/adoni5/Projects/Icarust_supplementary/notebooks/make_squiggle.py#120\u001b\\\u001b[2m120\u001b[0m\u001b]8;;\u001b\\\n"
      ]
     },
     "metadata": {},
     "output_type": "display_data"
    },
    {
     "data": {
      "text/html": [
       "<pre style=\"white-space:pre;overflow-x:auto;line-height:normal;font-family:Menlo,'DejaVu Sans Mono',consolas,'Courier New',monospace\"><span style=\"color: #7fbfbf; text-decoration-color: #7fbfbf\">                    </span><span style=\"color: #000080; text-decoration-color: #000080\">INFO    </span> Invalid characters found in sequence of                           <a href=\"file:///home/adoni5/Projects/Icarust_supplementary/notebooks/make_squiggle.py\" target=\"_blank\"><span style=\"color: #7f7f7f; text-decoration-color: #7f7f7f\">make_squiggle.py</span></a><span style=\"color: #7f7f7f; text-decoration-color: #7f7f7f\">:</span><a href=\"file:///home/adoni5/Projects/Icarust_supplementary/notebooks/make_squiggle.py#122\" target=\"_blank\"><span style=\"color: #7f7f7f; text-decoration-color: #7f7f7f\">122</span></a>\n",
       "<span style=\"color: #7fbfbf; text-decoration-color: #7fbfbf\">                    </span>         test_read_12_683244_683844, removing them                         <span style=\"color: #7f7f7f; text-decoration-color: #7f7f7f\">                    </span>\n",
       "</pre>\n"
      ],
      "text/plain": [
       "\u001b[2;36m                   \u001b[0m\u001b[2;36m \u001b[0m\u001b[34mINFO    \u001b[0m Invalid characters found in sequence of                           \u001b]8;id=304385;file:///home/adoni5/Projects/Icarust_supplementary/notebooks/make_squiggle.py\u001b\\\u001b[2mmake_squiggle.py\u001b[0m\u001b]8;;\u001b\\\u001b[2m:\u001b[0m\u001b]8;id=72892;file:///home/adoni5/Projects/Icarust_supplementary/notebooks/make_squiggle.py#122\u001b\\\u001b[2m122\u001b[0m\u001b]8;;\u001b\\\n",
       "\u001b[2;36m                    \u001b[0m         test_read_12_683244_683844, removing them                         \u001b[2m                    \u001b[0m\n"
      ]
     },
     "metadata": {},
     "output_type": "display_data"
    },
    {
     "data": {
      "text/html": [
       "<pre style=\"white-space:pre;overflow-x:auto;line-height:normal;font-family:Menlo,'DejaVu Sans Mono',consolas,'Courier New',monospace\"><span style=\"color: #7fbfbf; text-decoration-color: #7fbfbf\">                    </span><span style=\"color: #800000; text-decoration-color: #800000\">WARNING </span> File with name                                                    <a href=\"file:///home/adoni5/Projects/Icarust_supplementary/notebooks/make_squiggle.py\" target=\"_blank\"><span style=\"color: #7f7f7f; text-decoration-color: #7f7f7f\">make_squiggle.py</span></a><span style=\"color: #7f7f7f; text-decoration-color: #7f7f7f\">:</span><a href=\"file:///home/adoni5/Projects/Icarust_supplementary/notebooks/make_squiggle.py#145\" target=\"_blank\"><span style=\"color: #7f7f7f; text-decoration-color: #7f7f7f\">145</span></a>\n",
       "<span style=\"color: #7fbfbf; text-decoration-color: #7fbfbf\">                    </span>         r9_squiggle/test_read_12_683244_683844.squiggle.npy already       <span style=\"color: #7f7f7f; text-decoration-color: #7f7f7f\">                    </span>\n",
       "<span style=\"color: #7fbfbf; text-decoration-color: #7fbfbf\">                    </span>         exists. Skipping<span style=\"color: #808000; text-decoration-color: #808000\">...</span>                                               <span style=\"color: #7f7f7f; text-decoration-color: #7f7f7f\">                    </span>\n",
       "</pre>\n"
      ],
      "text/plain": [
       "\u001b[2;36m                   \u001b[0m\u001b[2;36m \u001b[0m\u001b[31mWARNING \u001b[0m File with name                                                    \u001b]8;id=998199;file:///home/adoni5/Projects/Icarust_supplementary/notebooks/make_squiggle.py\u001b\\\u001b[2mmake_squiggle.py\u001b[0m\u001b]8;;\u001b\\\u001b[2m:\u001b[0m\u001b]8;id=176312;file:///home/adoni5/Projects/Icarust_supplementary/notebooks/make_squiggle.py#145\u001b\\\u001b[2m145\u001b[0m\u001b]8;;\u001b\\\n",
       "\u001b[2;36m                    \u001b[0m         r9_squiggle/test_read_12_683244_683844.squiggle.npy already       \u001b[2m                    \u001b[0m\n",
       "\u001b[2;36m                    \u001b[0m         exists. Skipping\u001b[33m...\u001b[0m                                               \u001b[2m                    \u001b[0m\n"
      ]
     },
     "metadata": {},
     "output_type": "display_data"
    },
    {
     "data": {
      "text/html": [
       "<pre style=\"white-space:pre;overflow-x:auto;line-height:normal;font-family:Menlo,'DejaVu Sans Mono',consolas,'Courier New',monospace\"><span style=\"color: #7fbfbf; text-decoration-color: #7fbfbf\">                    </span><span style=\"color: #000080; text-decoration-color: #000080\">INFO    </span> Generating squiggle for test_read_13_398055_398705                <a href=\"file:///home/adoni5/Projects/Icarust_supplementary/notebooks/make_squiggle.py\" target=\"_blank\"><span style=\"color: #7f7f7f; text-decoration-color: #7f7f7f\">make_squiggle.py</span></a><span style=\"color: #7f7f7f; text-decoration-color: #7f7f7f\">:</span><a href=\"file:///home/adoni5/Projects/Icarust_supplementary/notebooks/make_squiggle.py#120\" target=\"_blank\"><span style=\"color: #7f7f7f; text-decoration-color: #7f7f7f\">120</span></a>\n",
       "</pre>\n"
      ],
      "text/plain": [
       "\u001b[2;36m                   \u001b[0m\u001b[2;36m \u001b[0m\u001b[34mINFO    \u001b[0m Generating squiggle for test_read_13_398055_398705                \u001b]8;id=308798;file:///home/adoni5/Projects/Icarust_supplementary/notebooks/make_squiggle.py\u001b\\\u001b[2mmake_squiggle.py\u001b[0m\u001b]8;;\u001b\\\u001b[2m:\u001b[0m\u001b]8;id=476789;file:///home/adoni5/Projects/Icarust_supplementary/notebooks/make_squiggle.py#120\u001b\\\u001b[2m120\u001b[0m\u001b]8;;\u001b\\\n"
      ]
     },
     "metadata": {},
     "output_type": "display_data"
    },
    {
     "data": {
      "text/html": [
       "<pre style=\"white-space:pre;overflow-x:auto;line-height:normal;font-family:Menlo,'DejaVu Sans Mono',consolas,'Courier New',monospace\"><span style=\"color: #7fbfbf; text-decoration-color: #7fbfbf\">                    </span><span style=\"color: #000080; text-decoration-color: #000080\">INFO    </span> Invalid characters found in sequence of                           <a href=\"file:///home/adoni5/Projects/Icarust_supplementary/notebooks/make_squiggle.py\" target=\"_blank\"><span style=\"color: #7f7f7f; text-decoration-color: #7f7f7f\">make_squiggle.py</span></a><span style=\"color: #7f7f7f; text-decoration-color: #7f7f7f\">:</span><a href=\"file:///home/adoni5/Projects/Icarust_supplementary/notebooks/make_squiggle.py#122\" target=\"_blank\"><span style=\"color: #7f7f7f; text-decoration-color: #7f7f7f\">122</span></a>\n",
       "<span style=\"color: #7fbfbf; text-decoration-color: #7fbfbf\">                    </span>         test_read_13_398055_398705, removing them                         <span style=\"color: #7f7f7f; text-decoration-color: #7f7f7f\">                    </span>\n",
       "</pre>\n"
      ],
      "text/plain": [
       "\u001b[2;36m                   \u001b[0m\u001b[2;36m \u001b[0m\u001b[34mINFO    \u001b[0m Invalid characters found in sequence of                           \u001b]8;id=119737;file:///home/adoni5/Projects/Icarust_supplementary/notebooks/make_squiggle.py\u001b\\\u001b[2mmake_squiggle.py\u001b[0m\u001b]8;;\u001b\\\u001b[2m:\u001b[0m\u001b]8;id=24782;file:///home/adoni5/Projects/Icarust_supplementary/notebooks/make_squiggle.py#122\u001b\\\u001b[2m122\u001b[0m\u001b]8;;\u001b\\\n",
       "\u001b[2;36m                    \u001b[0m         test_read_13_398055_398705, removing them                         \u001b[2m                    \u001b[0m\n"
      ]
     },
     "metadata": {},
     "output_type": "display_data"
    },
    {
     "data": {
      "text/html": [
       "<pre style=\"white-space:pre;overflow-x:auto;line-height:normal;font-family:Menlo,'DejaVu Sans Mono',consolas,'Courier New',monospace\"><span style=\"color: #7fbfbf; text-decoration-color: #7fbfbf\">                    </span><span style=\"color: #800000; text-decoration-color: #800000\">WARNING </span> File with name                                                    <a href=\"file:///home/adoni5/Projects/Icarust_supplementary/notebooks/make_squiggle.py\" target=\"_blank\"><span style=\"color: #7f7f7f; text-decoration-color: #7f7f7f\">make_squiggle.py</span></a><span style=\"color: #7f7f7f; text-decoration-color: #7f7f7f\">:</span><a href=\"file:///home/adoni5/Projects/Icarust_supplementary/notebooks/make_squiggle.py#145\" target=\"_blank\"><span style=\"color: #7f7f7f; text-decoration-color: #7f7f7f\">145</span></a>\n",
       "<span style=\"color: #7fbfbf; text-decoration-color: #7fbfbf\">                    </span>         r9_squiggle/test_read_13_398055_398705.squiggle.npy already       <span style=\"color: #7f7f7f; text-decoration-color: #7f7f7f\">                    </span>\n",
       "<span style=\"color: #7fbfbf; text-decoration-color: #7fbfbf\">                    </span>         exists. Skipping<span style=\"color: #808000; text-decoration-color: #808000\">...</span>                                               <span style=\"color: #7f7f7f; text-decoration-color: #7f7f7f\">                    </span>\n",
       "</pre>\n"
      ],
      "text/plain": [
       "\u001b[2;36m                   \u001b[0m\u001b[2;36m \u001b[0m\u001b[31mWARNING \u001b[0m File with name                                                    \u001b]8;id=834879;file:///home/adoni5/Projects/Icarust_supplementary/notebooks/make_squiggle.py\u001b\\\u001b[2mmake_squiggle.py\u001b[0m\u001b]8;;\u001b\\\u001b[2m:\u001b[0m\u001b]8;id=197173;file:///home/adoni5/Projects/Icarust_supplementary/notebooks/make_squiggle.py#145\u001b\\\u001b[2m145\u001b[0m\u001b]8;;\u001b\\\n",
       "\u001b[2;36m                    \u001b[0m         r9_squiggle/test_read_13_398055_398705.squiggle.npy already       \u001b[2m                    \u001b[0m\n",
       "\u001b[2;36m                    \u001b[0m         exists. Skipping\u001b[33m...\u001b[0m                                               \u001b[2m                    \u001b[0m\n"
      ]
     },
     "metadata": {},
     "output_type": "display_data"
    },
    {
     "data": {
      "text/html": [
       "<pre style=\"white-space:pre;overflow-x:auto;line-height:normal;font-family:Menlo,'DejaVu Sans Mono',consolas,'Courier New',monospace\"><span style=\"color: #7fbfbf; text-decoration-color: #7fbfbf\">                    </span><span style=\"color: #000080; text-decoration-color: #000080\">INFO    </span> Generating squiggle for test_read_14_827036_827736                <a href=\"file:///home/adoni5/Projects/Icarust_supplementary/notebooks/make_squiggle.py\" target=\"_blank\"><span style=\"color: #7f7f7f; text-decoration-color: #7f7f7f\">make_squiggle.py</span></a><span style=\"color: #7f7f7f; text-decoration-color: #7f7f7f\">:</span><a href=\"file:///home/adoni5/Projects/Icarust_supplementary/notebooks/make_squiggle.py#120\" target=\"_blank\"><span style=\"color: #7f7f7f; text-decoration-color: #7f7f7f\">120</span></a>\n",
       "</pre>\n"
      ],
      "text/plain": [
       "\u001b[2;36m                   \u001b[0m\u001b[2;36m \u001b[0m\u001b[34mINFO    \u001b[0m Generating squiggle for test_read_14_827036_827736                \u001b]8;id=765620;file:///home/adoni5/Projects/Icarust_supplementary/notebooks/make_squiggle.py\u001b\\\u001b[2mmake_squiggle.py\u001b[0m\u001b]8;;\u001b\\\u001b[2m:\u001b[0m\u001b]8;id=534895;file:///home/adoni5/Projects/Icarust_supplementary/notebooks/make_squiggle.py#120\u001b\\\u001b[2m120\u001b[0m\u001b]8;;\u001b\\\n"
      ]
     },
     "metadata": {},
     "output_type": "display_data"
    },
    {
     "data": {
      "text/html": [
       "<pre style=\"white-space:pre;overflow-x:auto;line-height:normal;font-family:Menlo,'DejaVu Sans Mono',consolas,'Courier New',monospace\"><span style=\"color: #7fbfbf; text-decoration-color: #7fbfbf\">                    </span><span style=\"color: #000080; text-decoration-color: #000080\">INFO    </span> Invalid characters found in sequence of                           <a href=\"file:///home/adoni5/Projects/Icarust_supplementary/notebooks/make_squiggle.py\" target=\"_blank\"><span style=\"color: #7f7f7f; text-decoration-color: #7f7f7f\">make_squiggle.py</span></a><span style=\"color: #7f7f7f; text-decoration-color: #7f7f7f\">:</span><a href=\"file:///home/adoni5/Projects/Icarust_supplementary/notebooks/make_squiggle.py#122\" target=\"_blank\"><span style=\"color: #7f7f7f; text-decoration-color: #7f7f7f\">122</span></a>\n",
       "<span style=\"color: #7fbfbf; text-decoration-color: #7fbfbf\">                    </span>         test_read_14_827036_827736, removing them                         <span style=\"color: #7f7f7f; text-decoration-color: #7f7f7f\">                    </span>\n",
       "</pre>\n"
      ],
      "text/plain": [
       "\u001b[2;36m                   \u001b[0m\u001b[2;36m \u001b[0m\u001b[34mINFO    \u001b[0m Invalid characters found in sequence of                           \u001b]8;id=21829;file:///home/adoni5/Projects/Icarust_supplementary/notebooks/make_squiggle.py\u001b\\\u001b[2mmake_squiggle.py\u001b[0m\u001b]8;;\u001b\\\u001b[2m:\u001b[0m\u001b]8;id=236321;file:///home/adoni5/Projects/Icarust_supplementary/notebooks/make_squiggle.py#122\u001b\\\u001b[2m122\u001b[0m\u001b]8;;\u001b\\\n",
       "\u001b[2;36m                    \u001b[0m         test_read_14_827036_827736, removing them                         \u001b[2m                    \u001b[0m\n"
      ]
     },
     "metadata": {},
     "output_type": "display_data"
    },
    {
     "data": {
      "text/html": [
       "<pre style=\"white-space:pre;overflow-x:auto;line-height:normal;font-family:Menlo,'DejaVu Sans Mono',consolas,'Courier New',monospace\"><span style=\"color: #7fbfbf; text-decoration-color: #7fbfbf\">                    </span><span style=\"color: #800000; text-decoration-color: #800000\">WARNING </span> File with name                                                    <a href=\"file:///home/adoni5/Projects/Icarust_supplementary/notebooks/make_squiggle.py\" target=\"_blank\"><span style=\"color: #7f7f7f; text-decoration-color: #7f7f7f\">make_squiggle.py</span></a><span style=\"color: #7f7f7f; text-decoration-color: #7f7f7f\">:</span><a href=\"file:///home/adoni5/Projects/Icarust_supplementary/notebooks/make_squiggle.py#145\" target=\"_blank\"><span style=\"color: #7f7f7f; text-decoration-color: #7f7f7f\">145</span></a>\n",
       "<span style=\"color: #7fbfbf; text-decoration-color: #7fbfbf\">                    </span>         r9_squiggle/test_read_14_827036_827736.squiggle.npy already       <span style=\"color: #7f7f7f; text-decoration-color: #7f7f7f\">                    </span>\n",
       "<span style=\"color: #7fbfbf; text-decoration-color: #7fbfbf\">                    </span>         exists. Skipping<span style=\"color: #808000; text-decoration-color: #808000\">...</span>                                               <span style=\"color: #7f7f7f; text-decoration-color: #7f7f7f\">                    </span>\n",
       "</pre>\n"
      ],
      "text/plain": [
       "\u001b[2;36m                   \u001b[0m\u001b[2;36m \u001b[0m\u001b[31mWARNING \u001b[0m File with name                                                    \u001b]8;id=753753;file:///home/adoni5/Projects/Icarust_supplementary/notebooks/make_squiggle.py\u001b\\\u001b[2mmake_squiggle.py\u001b[0m\u001b]8;;\u001b\\\u001b[2m:\u001b[0m\u001b]8;id=168010;file:///home/adoni5/Projects/Icarust_supplementary/notebooks/make_squiggle.py#145\u001b\\\u001b[2m145\u001b[0m\u001b]8;;\u001b\\\n",
       "\u001b[2;36m                    \u001b[0m         r9_squiggle/test_read_14_827036_827736.squiggle.npy already       \u001b[2m                    \u001b[0m\n",
       "\u001b[2;36m                    \u001b[0m         exists. Skipping\u001b[33m...\u001b[0m                                               \u001b[2m                    \u001b[0m\n"
      ]
     },
     "metadata": {},
     "output_type": "display_data"
    },
    {
     "data": {
      "text/html": [
       "<pre style=\"white-space:pre;overflow-x:auto;line-height:normal;font-family:Menlo,'DejaVu Sans Mono',consolas,'Courier New',monospace\"><span style=\"color: #7fbfbf; text-decoration-color: #7fbfbf\">                    </span><span style=\"color: #000080; text-decoration-color: #000080\">INFO    </span> Generating squiggle for test_read_15_220153_220903                <a href=\"file:///home/adoni5/Projects/Icarust_supplementary/notebooks/make_squiggle.py\" target=\"_blank\"><span style=\"color: #7f7f7f; text-decoration-color: #7f7f7f\">make_squiggle.py</span></a><span style=\"color: #7f7f7f; text-decoration-color: #7f7f7f\">:</span><a href=\"file:///home/adoni5/Projects/Icarust_supplementary/notebooks/make_squiggle.py#120\" target=\"_blank\"><span style=\"color: #7f7f7f; text-decoration-color: #7f7f7f\">120</span></a>\n",
       "</pre>\n"
      ],
      "text/plain": [
       "\u001b[2;36m                   \u001b[0m\u001b[2;36m \u001b[0m\u001b[34mINFO    \u001b[0m Generating squiggle for test_read_15_220153_220903                \u001b]8;id=447390;file:///home/adoni5/Projects/Icarust_supplementary/notebooks/make_squiggle.py\u001b\\\u001b[2mmake_squiggle.py\u001b[0m\u001b]8;;\u001b\\\u001b[2m:\u001b[0m\u001b]8;id=571161;file:///home/adoni5/Projects/Icarust_supplementary/notebooks/make_squiggle.py#120\u001b\\\u001b[2m120\u001b[0m\u001b]8;;\u001b\\\n"
      ]
     },
     "metadata": {},
     "output_type": "display_data"
    },
    {
     "data": {
      "text/html": [
       "<pre style=\"white-space:pre;overflow-x:auto;line-height:normal;font-family:Menlo,'DejaVu Sans Mono',consolas,'Courier New',monospace\"><span style=\"color: #7fbfbf; text-decoration-color: #7fbfbf\">                    </span><span style=\"color: #000080; text-decoration-color: #000080\">INFO    </span> Invalid characters found in sequence of                           <a href=\"file:///home/adoni5/Projects/Icarust_supplementary/notebooks/make_squiggle.py\" target=\"_blank\"><span style=\"color: #7f7f7f; text-decoration-color: #7f7f7f\">make_squiggle.py</span></a><span style=\"color: #7f7f7f; text-decoration-color: #7f7f7f\">:</span><a href=\"file:///home/adoni5/Projects/Icarust_supplementary/notebooks/make_squiggle.py#122\" target=\"_blank\"><span style=\"color: #7f7f7f; text-decoration-color: #7f7f7f\">122</span></a>\n",
       "<span style=\"color: #7fbfbf; text-decoration-color: #7fbfbf\">                    </span>         test_read_15_220153_220903, removing them                         <span style=\"color: #7f7f7f; text-decoration-color: #7f7f7f\">                    </span>\n",
       "</pre>\n"
      ],
      "text/plain": [
       "\u001b[2;36m                   \u001b[0m\u001b[2;36m \u001b[0m\u001b[34mINFO    \u001b[0m Invalid characters found in sequence of                           \u001b]8;id=728813;file:///home/adoni5/Projects/Icarust_supplementary/notebooks/make_squiggle.py\u001b\\\u001b[2mmake_squiggle.py\u001b[0m\u001b]8;;\u001b\\\u001b[2m:\u001b[0m\u001b]8;id=541693;file:///home/adoni5/Projects/Icarust_supplementary/notebooks/make_squiggle.py#122\u001b\\\u001b[2m122\u001b[0m\u001b]8;;\u001b\\\n",
       "\u001b[2;36m                    \u001b[0m         test_read_15_220153_220903, removing them                         \u001b[2m                    \u001b[0m\n"
      ]
     },
     "metadata": {},
     "output_type": "display_data"
    },
    {
     "data": {
      "text/html": [
       "<pre style=\"white-space:pre;overflow-x:auto;line-height:normal;font-family:Menlo,'DejaVu Sans Mono',consolas,'Courier New',monospace\"><span style=\"color: #7fbfbf; text-decoration-color: #7fbfbf\">                    </span><span style=\"color: #800000; text-decoration-color: #800000\">WARNING </span> File with name                                                    <a href=\"file:///home/adoni5/Projects/Icarust_supplementary/notebooks/make_squiggle.py\" target=\"_blank\"><span style=\"color: #7f7f7f; text-decoration-color: #7f7f7f\">make_squiggle.py</span></a><span style=\"color: #7f7f7f; text-decoration-color: #7f7f7f\">:</span><a href=\"file:///home/adoni5/Projects/Icarust_supplementary/notebooks/make_squiggle.py#145\" target=\"_blank\"><span style=\"color: #7f7f7f; text-decoration-color: #7f7f7f\">145</span></a>\n",
       "<span style=\"color: #7fbfbf; text-decoration-color: #7fbfbf\">                    </span>         r9_squiggle/test_read_15_220153_220903.squiggle.npy already       <span style=\"color: #7f7f7f; text-decoration-color: #7f7f7f\">                    </span>\n",
       "<span style=\"color: #7fbfbf; text-decoration-color: #7fbfbf\">                    </span>         exists. Skipping<span style=\"color: #808000; text-decoration-color: #808000\">...</span>                                               <span style=\"color: #7f7f7f; text-decoration-color: #7f7f7f\">                    </span>\n",
       "</pre>\n"
      ],
      "text/plain": [
       "\u001b[2;36m                   \u001b[0m\u001b[2;36m \u001b[0m\u001b[31mWARNING \u001b[0m File with name                                                    \u001b]8;id=32191;file:///home/adoni5/Projects/Icarust_supplementary/notebooks/make_squiggle.py\u001b\\\u001b[2mmake_squiggle.py\u001b[0m\u001b]8;;\u001b\\\u001b[2m:\u001b[0m\u001b]8;id=414080;file:///home/adoni5/Projects/Icarust_supplementary/notebooks/make_squiggle.py#145\u001b\\\u001b[2m145\u001b[0m\u001b]8;;\u001b\\\n",
       "\u001b[2;36m                    \u001b[0m         r9_squiggle/test_read_15_220153_220903.squiggle.npy already       \u001b[2m                    \u001b[0m\n",
       "\u001b[2;36m                    \u001b[0m         exists. Skipping\u001b[33m...\u001b[0m                                               \u001b[2m                    \u001b[0m\n"
      ]
     },
     "metadata": {},
     "output_type": "display_data"
    },
    {
     "data": {
      "text/html": [
       "<pre style=\"white-space:pre;overflow-x:auto;line-height:normal;font-family:Menlo,'DejaVu Sans Mono',consolas,'Courier New',monospace\"><span style=\"color: #7fbfbf; text-decoration-color: #7fbfbf\">                    </span><span style=\"color: #000080; text-decoration-color: #000080\">INFO    </span> Generating squiggle for test_read_16_98418_99218                  <a href=\"file:///home/adoni5/Projects/Icarust_supplementary/notebooks/make_squiggle.py\" target=\"_blank\"><span style=\"color: #7f7f7f; text-decoration-color: #7f7f7f\">make_squiggle.py</span></a><span style=\"color: #7f7f7f; text-decoration-color: #7f7f7f\">:</span><a href=\"file:///home/adoni5/Projects/Icarust_supplementary/notebooks/make_squiggle.py#120\" target=\"_blank\"><span style=\"color: #7f7f7f; text-decoration-color: #7f7f7f\">120</span></a>\n",
       "</pre>\n"
      ],
      "text/plain": [
       "\u001b[2;36m                   \u001b[0m\u001b[2;36m \u001b[0m\u001b[34mINFO    \u001b[0m Generating squiggle for test_read_16_98418_99218                  \u001b]8;id=691875;file:///home/adoni5/Projects/Icarust_supplementary/notebooks/make_squiggle.py\u001b\\\u001b[2mmake_squiggle.py\u001b[0m\u001b]8;;\u001b\\\u001b[2m:\u001b[0m\u001b]8;id=661596;file:///home/adoni5/Projects/Icarust_supplementary/notebooks/make_squiggle.py#120\u001b\\\u001b[2m120\u001b[0m\u001b]8;;\u001b\\\n"
      ]
     },
     "metadata": {},
     "output_type": "display_data"
    },
    {
     "data": {
      "text/html": [
       "<pre style=\"white-space:pre;overflow-x:auto;line-height:normal;font-family:Menlo,'DejaVu Sans Mono',consolas,'Courier New',monospace\"><span style=\"color: #7fbfbf; text-decoration-color: #7fbfbf\">                    </span><span style=\"color: #000080; text-decoration-color: #000080\">INFO    </span> Invalid characters found in sequence of test_read_16_98418_99218, <a href=\"file:///home/adoni5/Projects/Icarust_supplementary/notebooks/make_squiggle.py\" target=\"_blank\"><span style=\"color: #7f7f7f; text-decoration-color: #7f7f7f\">make_squiggle.py</span></a><span style=\"color: #7f7f7f; text-decoration-color: #7f7f7f\">:</span><a href=\"file:///home/adoni5/Projects/Icarust_supplementary/notebooks/make_squiggle.py#122\" target=\"_blank\"><span style=\"color: #7f7f7f; text-decoration-color: #7f7f7f\">122</span></a>\n",
       "<span style=\"color: #7fbfbf; text-decoration-color: #7fbfbf\">                    </span>         removing them                                                     <span style=\"color: #7f7f7f; text-decoration-color: #7f7f7f\">                    </span>\n",
       "</pre>\n"
      ],
      "text/plain": [
       "\u001b[2;36m                   \u001b[0m\u001b[2;36m \u001b[0m\u001b[34mINFO    \u001b[0m Invalid characters found in sequence of test_read_16_98418_99218, \u001b]8;id=131788;file:///home/adoni5/Projects/Icarust_supplementary/notebooks/make_squiggle.py\u001b\\\u001b[2mmake_squiggle.py\u001b[0m\u001b]8;;\u001b\\\u001b[2m:\u001b[0m\u001b]8;id=222436;file:///home/adoni5/Projects/Icarust_supplementary/notebooks/make_squiggle.py#122\u001b\\\u001b[2m122\u001b[0m\u001b]8;;\u001b\\\n",
       "\u001b[2;36m                    \u001b[0m         removing them                                                     \u001b[2m                    \u001b[0m\n"
      ]
     },
     "metadata": {},
     "output_type": "display_data"
    },
    {
     "data": {
      "text/html": [
       "<pre style=\"white-space:pre;overflow-x:auto;line-height:normal;font-family:Menlo,'DejaVu Sans Mono',consolas,'Courier New',monospace\"><span style=\"color: #7fbfbf; text-decoration-color: #7fbfbf\">                    </span><span style=\"color: #800000; text-decoration-color: #800000\">WARNING </span> File with name r9_squiggle/test_read_16_98418_99218.squiggle.npy  <a href=\"file:///home/adoni5/Projects/Icarust_supplementary/notebooks/make_squiggle.py\" target=\"_blank\"><span style=\"color: #7f7f7f; text-decoration-color: #7f7f7f\">make_squiggle.py</span></a><span style=\"color: #7f7f7f; text-decoration-color: #7f7f7f\">:</span><a href=\"file:///home/adoni5/Projects/Icarust_supplementary/notebooks/make_squiggle.py#145\" target=\"_blank\"><span style=\"color: #7f7f7f; text-decoration-color: #7f7f7f\">145</span></a>\n",
       "<span style=\"color: #7fbfbf; text-decoration-color: #7fbfbf\">                    </span>         already exists. Skipping<span style=\"color: #808000; text-decoration-color: #808000\">...</span>                                       <span style=\"color: #7f7f7f; text-decoration-color: #7f7f7f\">                    </span>\n",
       "</pre>\n"
      ],
      "text/plain": [
       "\u001b[2;36m                   \u001b[0m\u001b[2;36m \u001b[0m\u001b[31mWARNING \u001b[0m File with name r9_squiggle/test_read_16_98418_99218.squiggle.npy  \u001b]8;id=900217;file:///home/adoni5/Projects/Icarust_supplementary/notebooks/make_squiggle.py\u001b\\\u001b[2mmake_squiggle.py\u001b[0m\u001b]8;;\u001b\\\u001b[2m:\u001b[0m\u001b]8;id=80159;file:///home/adoni5/Projects/Icarust_supplementary/notebooks/make_squiggle.py#145\u001b\\\u001b[2m145\u001b[0m\u001b]8;;\u001b\\\n",
       "\u001b[2;36m                    \u001b[0m         already exists. Skipping\u001b[33m...\u001b[0m                                       \u001b[2m                    \u001b[0m\n"
      ]
     },
     "metadata": {},
     "output_type": "display_data"
    },
    {
     "data": {
      "text/html": [
       "<pre style=\"white-space:pre;overflow-x:auto;line-height:normal;font-family:Menlo,'DejaVu Sans Mono',consolas,'Courier New',monospace\"><span style=\"color: #7fbfbf; text-decoration-color: #7fbfbf\">                    </span><span style=\"color: #000080; text-decoration-color: #000080\">INFO    </span> Generating squiggle for test_read_17_511554_512404                <a href=\"file:///home/adoni5/Projects/Icarust_supplementary/notebooks/make_squiggle.py\" target=\"_blank\"><span style=\"color: #7f7f7f; text-decoration-color: #7f7f7f\">make_squiggle.py</span></a><span style=\"color: #7f7f7f; text-decoration-color: #7f7f7f\">:</span><a href=\"file:///home/adoni5/Projects/Icarust_supplementary/notebooks/make_squiggle.py#120\" target=\"_blank\"><span style=\"color: #7f7f7f; text-decoration-color: #7f7f7f\">120</span></a>\n",
       "</pre>\n"
      ],
      "text/plain": [
       "\u001b[2;36m                   \u001b[0m\u001b[2;36m \u001b[0m\u001b[34mINFO    \u001b[0m Generating squiggle for test_read_17_511554_512404                \u001b]8;id=779974;file:///home/adoni5/Projects/Icarust_supplementary/notebooks/make_squiggle.py\u001b\\\u001b[2mmake_squiggle.py\u001b[0m\u001b]8;;\u001b\\\u001b[2m:\u001b[0m\u001b]8;id=165892;file:///home/adoni5/Projects/Icarust_supplementary/notebooks/make_squiggle.py#120\u001b\\\u001b[2m120\u001b[0m\u001b]8;;\u001b\\\n"
      ]
     },
     "metadata": {},
     "output_type": "display_data"
    },
    {
     "data": {
      "text/html": [
       "<pre style=\"white-space:pre;overflow-x:auto;line-height:normal;font-family:Menlo,'DejaVu Sans Mono',consolas,'Courier New',monospace\"><span style=\"color: #7fbfbf; text-decoration-color: #7fbfbf\">                    </span><span style=\"color: #000080; text-decoration-color: #000080\">INFO    </span> Invalid characters found in sequence of                           <a href=\"file:///home/adoni5/Projects/Icarust_supplementary/notebooks/make_squiggle.py\" target=\"_blank\"><span style=\"color: #7f7f7f; text-decoration-color: #7f7f7f\">make_squiggle.py</span></a><span style=\"color: #7f7f7f; text-decoration-color: #7f7f7f\">:</span><a href=\"file:///home/adoni5/Projects/Icarust_supplementary/notebooks/make_squiggle.py#122\" target=\"_blank\"><span style=\"color: #7f7f7f; text-decoration-color: #7f7f7f\">122</span></a>\n",
       "<span style=\"color: #7fbfbf; text-decoration-color: #7fbfbf\">                    </span>         test_read_17_511554_512404, removing them                         <span style=\"color: #7f7f7f; text-decoration-color: #7f7f7f\">                    </span>\n",
       "</pre>\n"
      ],
      "text/plain": [
       "\u001b[2;36m                   \u001b[0m\u001b[2;36m \u001b[0m\u001b[34mINFO    \u001b[0m Invalid characters found in sequence of                           \u001b]8;id=8892;file:///home/adoni5/Projects/Icarust_supplementary/notebooks/make_squiggle.py\u001b\\\u001b[2mmake_squiggle.py\u001b[0m\u001b]8;;\u001b\\\u001b[2m:\u001b[0m\u001b]8;id=587954;file:///home/adoni5/Projects/Icarust_supplementary/notebooks/make_squiggle.py#122\u001b\\\u001b[2m122\u001b[0m\u001b]8;;\u001b\\\n",
       "\u001b[2;36m                    \u001b[0m         test_read_17_511554_512404, removing them                         \u001b[2m                    \u001b[0m\n"
      ]
     },
     "metadata": {},
     "output_type": "display_data"
    },
    {
     "data": {
      "text/html": [
       "<pre style=\"white-space:pre;overflow-x:auto;line-height:normal;font-family:Menlo,'DejaVu Sans Mono',consolas,'Courier New',monospace\"><span style=\"color: #7fbfbf; text-decoration-color: #7fbfbf\">                    </span><span style=\"color: #800000; text-decoration-color: #800000\">WARNING </span> File with name                                                    <a href=\"file:///home/adoni5/Projects/Icarust_supplementary/notebooks/make_squiggle.py\" target=\"_blank\"><span style=\"color: #7f7f7f; text-decoration-color: #7f7f7f\">make_squiggle.py</span></a><span style=\"color: #7f7f7f; text-decoration-color: #7f7f7f\">:</span><a href=\"file:///home/adoni5/Projects/Icarust_supplementary/notebooks/make_squiggle.py#145\" target=\"_blank\"><span style=\"color: #7f7f7f; text-decoration-color: #7f7f7f\">145</span></a>\n",
       "<span style=\"color: #7fbfbf; text-decoration-color: #7fbfbf\">                    </span>         r9_squiggle/test_read_17_511554_512404.squiggle.npy already       <span style=\"color: #7f7f7f; text-decoration-color: #7f7f7f\">                    </span>\n",
       "<span style=\"color: #7fbfbf; text-decoration-color: #7fbfbf\">                    </span>         exists. Skipping<span style=\"color: #808000; text-decoration-color: #808000\">...</span>                                               <span style=\"color: #7f7f7f; text-decoration-color: #7f7f7f\">                    </span>\n",
       "</pre>\n"
      ],
      "text/plain": [
       "\u001b[2;36m                   \u001b[0m\u001b[2;36m \u001b[0m\u001b[31mWARNING \u001b[0m File with name                                                    \u001b]8;id=859217;file:///home/adoni5/Projects/Icarust_supplementary/notebooks/make_squiggle.py\u001b\\\u001b[2mmake_squiggle.py\u001b[0m\u001b]8;;\u001b\\\u001b[2m:\u001b[0m\u001b]8;id=228160;file:///home/adoni5/Projects/Icarust_supplementary/notebooks/make_squiggle.py#145\u001b\\\u001b[2m145\u001b[0m\u001b]8;;\u001b\\\n",
       "\u001b[2;36m                    \u001b[0m         r9_squiggle/test_read_17_511554_512404.squiggle.npy already       \u001b[2m                    \u001b[0m\n",
       "\u001b[2;36m                    \u001b[0m         exists. Skipping\u001b[33m...\u001b[0m                                               \u001b[2m                    \u001b[0m\n"
      ]
     },
     "metadata": {},
     "output_type": "display_data"
    },
    {
     "data": {
      "text/html": [
       "<pre style=\"white-space:pre;overflow-x:auto;line-height:normal;font-family:Menlo,'DejaVu Sans Mono',consolas,'Courier New',monospace\"><span style=\"color: #7fbfbf; text-decoration-color: #7fbfbf\">                    </span><span style=\"color: #000080; text-decoration-color: #000080\">INFO    </span> Generating squiggle for test_read_18_936710_937610                <a href=\"file:///home/adoni5/Projects/Icarust_supplementary/notebooks/make_squiggle.py\" target=\"_blank\"><span style=\"color: #7f7f7f; text-decoration-color: #7f7f7f\">make_squiggle.py</span></a><span style=\"color: #7f7f7f; text-decoration-color: #7f7f7f\">:</span><a href=\"file:///home/adoni5/Projects/Icarust_supplementary/notebooks/make_squiggle.py#120\" target=\"_blank\"><span style=\"color: #7f7f7f; text-decoration-color: #7f7f7f\">120</span></a>\n",
       "</pre>\n"
      ],
      "text/plain": [
       "\u001b[2;36m                   \u001b[0m\u001b[2;36m \u001b[0m\u001b[34mINFO    \u001b[0m Generating squiggle for test_read_18_936710_937610                \u001b]8;id=868129;file:///home/adoni5/Projects/Icarust_supplementary/notebooks/make_squiggle.py\u001b\\\u001b[2mmake_squiggle.py\u001b[0m\u001b]8;;\u001b\\\u001b[2m:\u001b[0m\u001b]8;id=909934;file:///home/adoni5/Projects/Icarust_supplementary/notebooks/make_squiggle.py#120\u001b\\\u001b[2m120\u001b[0m\u001b]8;;\u001b\\\n"
      ]
     },
     "metadata": {},
     "output_type": "display_data"
    },
    {
     "data": {
      "text/html": [
       "<pre style=\"white-space:pre;overflow-x:auto;line-height:normal;font-family:Menlo,'DejaVu Sans Mono',consolas,'Courier New',monospace\"><span style=\"color: #7fbfbf; text-decoration-color: #7fbfbf\">                    </span><span style=\"color: #000080; text-decoration-color: #000080\">INFO    </span> Invalid characters found in sequence of                           <a href=\"file:///home/adoni5/Projects/Icarust_supplementary/notebooks/make_squiggle.py\" target=\"_blank\"><span style=\"color: #7f7f7f; text-decoration-color: #7f7f7f\">make_squiggle.py</span></a><span style=\"color: #7f7f7f; text-decoration-color: #7f7f7f\">:</span><a href=\"file:///home/adoni5/Projects/Icarust_supplementary/notebooks/make_squiggle.py#122\" target=\"_blank\"><span style=\"color: #7f7f7f; text-decoration-color: #7f7f7f\">122</span></a>\n",
       "<span style=\"color: #7fbfbf; text-decoration-color: #7fbfbf\">                    </span>         test_read_18_936710_937610, removing them                         <span style=\"color: #7f7f7f; text-decoration-color: #7f7f7f\">                    </span>\n",
       "</pre>\n"
      ],
      "text/plain": [
       "\u001b[2;36m                   \u001b[0m\u001b[2;36m \u001b[0m\u001b[34mINFO    \u001b[0m Invalid characters found in sequence of                           \u001b]8;id=533592;file:///home/adoni5/Projects/Icarust_supplementary/notebooks/make_squiggle.py\u001b\\\u001b[2mmake_squiggle.py\u001b[0m\u001b]8;;\u001b\\\u001b[2m:\u001b[0m\u001b]8;id=39241;file:///home/adoni5/Projects/Icarust_supplementary/notebooks/make_squiggle.py#122\u001b\\\u001b[2m122\u001b[0m\u001b]8;;\u001b\\\n",
       "\u001b[2;36m                    \u001b[0m         test_read_18_936710_937610, removing them                         \u001b[2m                    \u001b[0m\n"
      ]
     },
     "metadata": {},
     "output_type": "display_data"
    },
    {
     "data": {
      "text/html": [
       "<pre style=\"white-space:pre;overflow-x:auto;line-height:normal;font-family:Menlo,'DejaVu Sans Mono',consolas,'Courier New',monospace\"><span style=\"color: #7fbfbf; text-decoration-color: #7fbfbf\">                    </span><span style=\"color: #800000; text-decoration-color: #800000\">WARNING </span> File with name                                                    <a href=\"file:///home/adoni5/Projects/Icarust_supplementary/notebooks/make_squiggle.py\" target=\"_blank\"><span style=\"color: #7f7f7f; text-decoration-color: #7f7f7f\">make_squiggle.py</span></a><span style=\"color: #7f7f7f; text-decoration-color: #7f7f7f\">:</span><a href=\"file:///home/adoni5/Projects/Icarust_supplementary/notebooks/make_squiggle.py#145\" target=\"_blank\"><span style=\"color: #7f7f7f; text-decoration-color: #7f7f7f\">145</span></a>\n",
       "<span style=\"color: #7fbfbf; text-decoration-color: #7fbfbf\">                    </span>         r9_squiggle/test_read_18_936710_937610.squiggle.npy already       <span style=\"color: #7f7f7f; text-decoration-color: #7f7f7f\">                    </span>\n",
       "<span style=\"color: #7fbfbf; text-decoration-color: #7fbfbf\">                    </span>         exists. Skipping<span style=\"color: #808000; text-decoration-color: #808000\">...</span>                                               <span style=\"color: #7f7f7f; text-decoration-color: #7f7f7f\">                    </span>\n",
       "</pre>\n"
      ],
      "text/plain": [
       "\u001b[2;36m                   \u001b[0m\u001b[2;36m \u001b[0m\u001b[31mWARNING \u001b[0m File with name                                                    \u001b]8;id=215756;file:///home/adoni5/Projects/Icarust_supplementary/notebooks/make_squiggle.py\u001b\\\u001b[2mmake_squiggle.py\u001b[0m\u001b]8;;\u001b\\\u001b[2m:\u001b[0m\u001b]8;id=601235;file:///home/adoni5/Projects/Icarust_supplementary/notebooks/make_squiggle.py#145\u001b\\\u001b[2m145\u001b[0m\u001b]8;;\u001b\\\n",
       "\u001b[2;36m                    \u001b[0m         r9_squiggle/test_read_18_936710_937610.squiggle.npy already       \u001b[2m                    \u001b[0m\n",
       "\u001b[2;36m                    \u001b[0m         exists. Skipping\u001b[33m...\u001b[0m                                               \u001b[2m                    \u001b[0m\n"
      ]
     },
     "metadata": {},
     "output_type": "display_data"
    },
    {
     "data": {
      "text/html": [
       "<pre style=\"white-space:pre;overflow-x:auto;line-height:normal;font-family:Menlo,'DejaVu Sans Mono',consolas,'Courier New',monospace\"><span style=\"color: #7fbfbf; text-decoration-color: #7fbfbf\">                    </span><span style=\"color: #000080; text-decoration-color: #000080\">INFO    </span> Generating squiggle for test_read_19_876363_877313                <a href=\"file:///home/adoni5/Projects/Icarust_supplementary/notebooks/make_squiggle.py\" target=\"_blank\"><span style=\"color: #7f7f7f; text-decoration-color: #7f7f7f\">make_squiggle.py</span></a><span style=\"color: #7f7f7f; text-decoration-color: #7f7f7f\">:</span><a href=\"file:///home/adoni5/Projects/Icarust_supplementary/notebooks/make_squiggle.py#120\" target=\"_blank\"><span style=\"color: #7f7f7f; text-decoration-color: #7f7f7f\">120</span></a>\n",
       "</pre>\n"
      ],
      "text/plain": [
       "\u001b[2;36m                   \u001b[0m\u001b[2;36m \u001b[0m\u001b[34mINFO    \u001b[0m Generating squiggle for test_read_19_876363_877313                \u001b]8;id=203548;file:///home/adoni5/Projects/Icarust_supplementary/notebooks/make_squiggle.py\u001b\\\u001b[2mmake_squiggle.py\u001b[0m\u001b]8;;\u001b\\\u001b[2m:\u001b[0m\u001b]8;id=516267;file:///home/adoni5/Projects/Icarust_supplementary/notebooks/make_squiggle.py#120\u001b\\\u001b[2m120\u001b[0m\u001b]8;;\u001b\\\n"
      ]
     },
     "metadata": {},
     "output_type": "display_data"
    },
    {
     "data": {
      "text/html": [
       "<pre style=\"white-space:pre;overflow-x:auto;line-height:normal;font-family:Menlo,'DejaVu Sans Mono',consolas,'Courier New',monospace\"><span style=\"color: #7fbfbf; text-decoration-color: #7fbfbf\">                    </span><span style=\"color: #000080; text-decoration-color: #000080\">INFO    </span> Invalid characters found in sequence of                           <a href=\"file:///home/adoni5/Projects/Icarust_supplementary/notebooks/make_squiggle.py\" target=\"_blank\"><span style=\"color: #7f7f7f; text-decoration-color: #7f7f7f\">make_squiggle.py</span></a><span style=\"color: #7f7f7f; text-decoration-color: #7f7f7f\">:</span><a href=\"file:///home/adoni5/Projects/Icarust_supplementary/notebooks/make_squiggle.py#122\" target=\"_blank\"><span style=\"color: #7f7f7f; text-decoration-color: #7f7f7f\">122</span></a>\n",
       "<span style=\"color: #7fbfbf; text-decoration-color: #7fbfbf\">                    </span>         test_read_19_876363_877313, removing them                         <span style=\"color: #7f7f7f; text-decoration-color: #7f7f7f\">                    </span>\n",
       "</pre>\n"
      ],
      "text/plain": [
       "\u001b[2;36m                   \u001b[0m\u001b[2;36m \u001b[0m\u001b[34mINFO    \u001b[0m Invalid characters found in sequence of                           \u001b]8;id=310454;file:///home/adoni5/Projects/Icarust_supplementary/notebooks/make_squiggle.py\u001b\\\u001b[2mmake_squiggle.py\u001b[0m\u001b]8;;\u001b\\\u001b[2m:\u001b[0m\u001b]8;id=528594;file:///home/adoni5/Projects/Icarust_supplementary/notebooks/make_squiggle.py#122\u001b\\\u001b[2m122\u001b[0m\u001b]8;;\u001b\\\n",
       "\u001b[2;36m                    \u001b[0m         test_read_19_876363_877313, removing them                         \u001b[2m                    \u001b[0m\n"
      ]
     },
     "metadata": {},
     "output_type": "display_data"
    },
    {
     "data": {
      "text/html": [
       "<pre style=\"white-space:pre;overflow-x:auto;line-height:normal;font-family:Menlo,'DejaVu Sans Mono',consolas,'Courier New',monospace\"><span style=\"color: #7fbfbf; text-decoration-color: #7fbfbf\">                    </span><span style=\"color: #800000; text-decoration-color: #800000\">WARNING </span> File with name                                                    <a href=\"file:///home/adoni5/Projects/Icarust_supplementary/notebooks/make_squiggle.py\" target=\"_blank\"><span style=\"color: #7f7f7f; text-decoration-color: #7f7f7f\">make_squiggle.py</span></a><span style=\"color: #7f7f7f; text-decoration-color: #7f7f7f\">:</span><a href=\"file:///home/adoni5/Projects/Icarust_supplementary/notebooks/make_squiggle.py#145\" target=\"_blank\"><span style=\"color: #7f7f7f; text-decoration-color: #7f7f7f\">145</span></a>\n",
       "<span style=\"color: #7fbfbf; text-decoration-color: #7fbfbf\">                    </span>         r9_squiggle/test_read_19_876363_877313.squiggle.npy already       <span style=\"color: #7f7f7f; text-decoration-color: #7f7f7f\">                    </span>\n",
       "<span style=\"color: #7fbfbf; text-decoration-color: #7fbfbf\">                    </span>         exists. Skipping<span style=\"color: #808000; text-decoration-color: #808000\">...</span>                                               <span style=\"color: #7f7f7f; text-decoration-color: #7f7f7f\">                    </span>\n",
       "</pre>\n"
      ],
      "text/plain": [
       "\u001b[2;36m                   \u001b[0m\u001b[2;36m \u001b[0m\u001b[31mWARNING \u001b[0m File with name                                                    \u001b]8;id=913961;file:///home/adoni5/Projects/Icarust_supplementary/notebooks/make_squiggle.py\u001b\\\u001b[2mmake_squiggle.py\u001b[0m\u001b]8;;\u001b\\\u001b[2m:\u001b[0m\u001b]8;id=421868;file:///home/adoni5/Projects/Icarust_supplementary/notebooks/make_squiggle.py#145\u001b\\\u001b[2m145\u001b[0m\u001b]8;;\u001b\\\n",
       "\u001b[2;36m                    \u001b[0m         r9_squiggle/test_read_19_876363_877313.squiggle.npy already       \u001b[2m                    \u001b[0m\n",
       "\u001b[2;36m                    \u001b[0m         exists. Skipping\u001b[33m...\u001b[0m                                               \u001b[2m                    \u001b[0m\n"
      ]
     },
     "metadata": {},
     "output_type": "display_data"
    },
    {
     "data": {
      "text/html": [
       "<pre style=\"white-space:pre;overflow-x:auto;line-height:normal;font-family:Menlo,'DejaVu Sans Mono',consolas,'Courier New',monospace\"><span style=\"color: #7fbfbf; text-decoration-color: #7fbfbf\">                    </span><span style=\"color: #000080; text-decoration-color: #000080\">INFO    </span> Generating squiggle for test_read_20_408744_409744                <a href=\"file:///home/adoni5/Projects/Icarust_supplementary/notebooks/make_squiggle.py\" target=\"_blank\"><span style=\"color: #7f7f7f; text-decoration-color: #7f7f7f\">make_squiggle.py</span></a><span style=\"color: #7f7f7f; text-decoration-color: #7f7f7f\">:</span><a href=\"file:///home/adoni5/Projects/Icarust_supplementary/notebooks/make_squiggle.py#120\" target=\"_blank\"><span style=\"color: #7f7f7f; text-decoration-color: #7f7f7f\">120</span></a>\n",
       "</pre>\n"
      ],
      "text/plain": [
       "\u001b[2;36m                   \u001b[0m\u001b[2;36m \u001b[0m\u001b[34mINFO    \u001b[0m Generating squiggle for test_read_20_408744_409744                \u001b]8;id=210609;file:///home/adoni5/Projects/Icarust_supplementary/notebooks/make_squiggle.py\u001b\\\u001b[2mmake_squiggle.py\u001b[0m\u001b]8;;\u001b\\\u001b[2m:\u001b[0m\u001b]8;id=899192;file:///home/adoni5/Projects/Icarust_supplementary/notebooks/make_squiggle.py#120\u001b\\\u001b[2m120\u001b[0m\u001b]8;;\u001b\\\n"
      ]
     },
     "metadata": {},
     "output_type": "display_data"
    },
    {
     "data": {
      "text/html": [
       "<pre style=\"white-space:pre;overflow-x:auto;line-height:normal;font-family:Menlo,'DejaVu Sans Mono',consolas,'Courier New',monospace\"><span style=\"color: #7fbfbf; text-decoration-color: #7fbfbf\">                    </span><span style=\"color: #000080; text-decoration-color: #000080\">INFO    </span> Invalid characters found in sequence of                           <a href=\"file:///home/adoni5/Projects/Icarust_supplementary/notebooks/make_squiggle.py\" target=\"_blank\"><span style=\"color: #7f7f7f; text-decoration-color: #7f7f7f\">make_squiggle.py</span></a><span style=\"color: #7f7f7f; text-decoration-color: #7f7f7f\">:</span><a href=\"file:///home/adoni5/Projects/Icarust_supplementary/notebooks/make_squiggle.py#122\" target=\"_blank\"><span style=\"color: #7f7f7f; text-decoration-color: #7f7f7f\">122</span></a>\n",
       "<span style=\"color: #7fbfbf; text-decoration-color: #7fbfbf\">                    </span>         test_read_20_408744_409744, removing them                         <span style=\"color: #7f7f7f; text-decoration-color: #7f7f7f\">                    </span>\n",
       "</pre>\n"
      ],
      "text/plain": [
       "\u001b[2;36m                   \u001b[0m\u001b[2;36m \u001b[0m\u001b[34mINFO    \u001b[0m Invalid characters found in sequence of                           \u001b]8;id=141707;file:///home/adoni5/Projects/Icarust_supplementary/notebooks/make_squiggle.py\u001b\\\u001b[2mmake_squiggle.py\u001b[0m\u001b]8;;\u001b\\\u001b[2m:\u001b[0m\u001b]8;id=355567;file:///home/adoni5/Projects/Icarust_supplementary/notebooks/make_squiggle.py#122\u001b\\\u001b[2m122\u001b[0m\u001b]8;;\u001b\\\n",
       "\u001b[2;36m                    \u001b[0m         test_read_20_408744_409744, removing them                         \u001b[2m                    \u001b[0m\n"
      ]
     },
     "metadata": {},
     "output_type": "display_data"
    },
    {
     "data": {
      "text/html": [
       "<pre style=\"white-space:pre;overflow-x:auto;line-height:normal;font-family:Menlo,'DejaVu Sans Mono',consolas,'Courier New',monospace\"><span style=\"color: #7fbfbf; text-decoration-color: #7fbfbf\">                    </span><span style=\"color: #800000; text-decoration-color: #800000\">WARNING </span> File with name                                                    <a href=\"file:///home/adoni5/Projects/Icarust_supplementary/notebooks/make_squiggle.py\" target=\"_blank\"><span style=\"color: #7f7f7f; text-decoration-color: #7f7f7f\">make_squiggle.py</span></a><span style=\"color: #7f7f7f; text-decoration-color: #7f7f7f\">:</span><a href=\"file:///home/adoni5/Projects/Icarust_supplementary/notebooks/make_squiggle.py#145\" target=\"_blank\"><span style=\"color: #7f7f7f; text-decoration-color: #7f7f7f\">145</span></a>\n",
       "<span style=\"color: #7fbfbf; text-decoration-color: #7fbfbf\">                    </span>         r9_squiggle/test_read_20_408744_409744.squiggle.npy already       <span style=\"color: #7f7f7f; text-decoration-color: #7f7f7f\">                    </span>\n",
       "<span style=\"color: #7fbfbf; text-decoration-color: #7fbfbf\">                    </span>         exists. Skipping<span style=\"color: #808000; text-decoration-color: #808000\">...</span>                                               <span style=\"color: #7f7f7f; text-decoration-color: #7f7f7f\">                    </span>\n",
       "</pre>\n"
      ],
      "text/plain": [
       "\u001b[2;36m                   \u001b[0m\u001b[2;36m \u001b[0m\u001b[31mWARNING \u001b[0m File with name                                                    \u001b]8;id=101088;file:///home/adoni5/Projects/Icarust_supplementary/notebooks/make_squiggle.py\u001b\\\u001b[2mmake_squiggle.py\u001b[0m\u001b]8;;\u001b\\\u001b[2m:\u001b[0m\u001b]8;id=878393;file:///home/adoni5/Projects/Icarust_supplementary/notebooks/make_squiggle.py#145\u001b\\\u001b[2m145\u001b[0m\u001b]8;;\u001b\\\n",
       "\u001b[2;36m                    \u001b[0m         r9_squiggle/test_read_20_408744_409744.squiggle.npy already       \u001b[2m                    \u001b[0m\n",
       "\u001b[2;36m                    \u001b[0m         exists. Skipping\u001b[33m...\u001b[0m                                               \u001b[2m                    \u001b[0m\n"
      ]
     },
     "metadata": {},
     "output_type": "display_data"
    },
    {
     "data": {
      "text/html": [
       "<pre style=\"white-space:pre;overflow-x:auto;line-height:normal;font-family:Menlo,'DejaVu Sans Mono',consolas,'Courier New',monospace\"><span style=\"color: #7fbfbf; text-decoration-color: #7fbfbf\">                    </span><span style=\"color: #000080; text-decoration-color: #000080\">INFO    </span> Generating squiggle for test_read_21_453789_454839                <a href=\"file:///home/adoni5/Projects/Icarust_supplementary/notebooks/make_squiggle.py\" target=\"_blank\"><span style=\"color: #7f7f7f; text-decoration-color: #7f7f7f\">make_squiggle.py</span></a><span style=\"color: #7f7f7f; text-decoration-color: #7f7f7f\">:</span><a href=\"file:///home/adoni5/Projects/Icarust_supplementary/notebooks/make_squiggle.py#120\" target=\"_blank\"><span style=\"color: #7f7f7f; text-decoration-color: #7f7f7f\">120</span></a>\n",
       "</pre>\n"
      ],
      "text/plain": [
       "\u001b[2;36m                   \u001b[0m\u001b[2;36m \u001b[0m\u001b[34mINFO    \u001b[0m Generating squiggle for test_read_21_453789_454839                \u001b]8;id=958864;file:///home/adoni5/Projects/Icarust_supplementary/notebooks/make_squiggle.py\u001b\\\u001b[2mmake_squiggle.py\u001b[0m\u001b]8;;\u001b\\\u001b[2m:\u001b[0m\u001b]8;id=925256;file:///home/adoni5/Projects/Icarust_supplementary/notebooks/make_squiggle.py#120\u001b\\\u001b[2m120\u001b[0m\u001b]8;;\u001b\\\n"
      ]
     },
     "metadata": {},
     "output_type": "display_data"
    },
    {
     "data": {
      "text/html": [
       "<pre style=\"white-space:pre;overflow-x:auto;line-height:normal;font-family:Menlo,'DejaVu Sans Mono',consolas,'Courier New',monospace\"><span style=\"color: #7fbfbf; text-decoration-color: #7fbfbf\">                    </span><span style=\"color: #000080; text-decoration-color: #000080\">INFO    </span> Invalid characters found in sequence of                           <a href=\"file:///home/adoni5/Projects/Icarust_supplementary/notebooks/make_squiggle.py\" target=\"_blank\"><span style=\"color: #7f7f7f; text-decoration-color: #7f7f7f\">make_squiggle.py</span></a><span style=\"color: #7f7f7f; text-decoration-color: #7f7f7f\">:</span><a href=\"file:///home/adoni5/Projects/Icarust_supplementary/notebooks/make_squiggle.py#122\" target=\"_blank\"><span style=\"color: #7f7f7f; text-decoration-color: #7f7f7f\">122</span></a>\n",
       "<span style=\"color: #7fbfbf; text-decoration-color: #7fbfbf\">                    </span>         test_read_21_453789_454839, removing them                         <span style=\"color: #7f7f7f; text-decoration-color: #7f7f7f\">                    </span>\n",
       "</pre>\n"
      ],
      "text/plain": [
       "\u001b[2;36m                   \u001b[0m\u001b[2;36m \u001b[0m\u001b[34mINFO    \u001b[0m Invalid characters found in sequence of                           \u001b]8;id=805255;file:///home/adoni5/Projects/Icarust_supplementary/notebooks/make_squiggle.py\u001b\\\u001b[2mmake_squiggle.py\u001b[0m\u001b]8;;\u001b\\\u001b[2m:\u001b[0m\u001b]8;id=558388;file:///home/adoni5/Projects/Icarust_supplementary/notebooks/make_squiggle.py#122\u001b\\\u001b[2m122\u001b[0m\u001b]8;;\u001b\\\n",
       "\u001b[2;36m                    \u001b[0m         test_read_21_453789_454839, removing them                         \u001b[2m                    \u001b[0m\n"
      ]
     },
     "metadata": {},
     "output_type": "display_data"
    },
    {
     "data": {
      "text/html": [
       "<pre style=\"white-space:pre;overflow-x:auto;line-height:normal;font-family:Menlo,'DejaVu Sans Mono',consolas,'Courier New',monospace\"><span style=\"color: #7fbfbf; text-decoration-color: #7fbfbf\">                    </span><span style=\"color: #800000; text-decoration-color: #800000\">WARNING </span> File with name                                                    <a href=\"file:///home/adoni5/Projects/Icarust_supplementary/notebooks/make_squiggle.py\" target=\"_blank\"><span style=\"color: #7f7f7f; text-decoration-color: #7f7f7f\">make_squiggle.py</span></a><span style=\"color: #7f7f7f; text-decoration-color: #7f7f7f\">:</span><a href=\"file:///home/adoni5/Projects/Icarust_supplementary/notebooks/make_squiggle.py#145\" target=\"_blank\"><span style=\"color: #7f7f7f; text-decoration-color: #7f7f7f\">145</span></a>\n",
       "<span style=\"color: #7fbfbf; text-decoration-color: #7fbfbf\">                    </span>         r9_squiggle/test_read_21_453789_454839.squiggle.npy already       <span style=\"color: #7f7f7f; text-decoration-color: #7f7f7f\">                    </span>\n",
       "<span style=\"color: #7fbfbf; text-decoration-color: #7fbfbf\">                    </span>         exists. Skipping<span style=\"color: #808000; text-decoration-color: #808000\">...</span>                                               <span style=\"color: #7f7f7f; text-decoration-color: #7f7f7f\">                    </span>\n",
       "</pre>\n"
      ],
      "text/plain": [
       "\u001b[2;36m                   \u001b[0m\u001b[2;36m \u001b[0m\u001b[31mWARNING \u001b[0m File with name                                                    \u001b]8;id=88793;file:///home/adoni5/Projects/Icarust_supplementary/notebooks/make_squiggle.py\u001b\\\u001b[2mmake_squiggle.py\u001b[0m\u001b]8;;\u001b\\\u001b[2m:\u001b[0m\u001b]8;id=139478;file:///home/adoni5/Projects/Icarust_supplementary/notebooks/make_squiggle.py#145\u001b\\\u001b[2m145\u001b[0m\u001b]8;;\u001b\\\n",
       "\u001b[2;36m                    \u001b[0m         r9_squiggle/test_read_21_453789_454839.squiggle.npy already       \u001b[2m                    \u001b[0m\n",
       "\u001b[2;36m                    \u001b[0m         exists. Skipping\u001b[33m...\u001b[0m                                               \u001b[2m                    \u001b[0m\n"
      ]
     },
     "metadata": {},
     "output_type": "display_data"
    },
    {
     "data": {
      "text/html": [
       "<pre style=\"white-space:pre;overflow-x:auto;line-height:normal;font-family:Menlo,'DejaVu Sans Mono',consolas,'Courier New',monospace\"><span style=\"color: #7fbfbf; text-decoration-color: #7fbfbf\">                    </span><span style=\"color: #000080; text-decoration-color: #000080\">INFO    </span> Generating squiggle for test_read_22_636944_638044                <a href=\"file:///home/adoni5/Projects/Icarust_supplementary/notebooks/make_squiggle.py\" target=\"_blank\"><span style=\"color: #7f7f7f; text-decoration-color: #7f7f7f\">make_squiggle.py</span></a><span style=\"color: #7f7f7f; text-decoration-color: #7f7f7f\">:</span><a href=\"file:///home/adoni5/Projects/Icarust_supplementary/notebooks/make_squiggle.py#120\" target=\"_blank\"><span style=\"color: #7f7f7f; text-decoration-color: #7f7f7f\">120</span></a>\n",
       "</pre>\n"
      ],
      "text/plain": [
       "\u001b[2;36m                   \u001b[0m\u001b[2;36m \u001b[0m\u001b[34mINFO    \u001b[0m Generating squiggle for test_read_22_636944_638044                \u001b]8;id=223313;file:///home/adoni5/Projects/Icarust_supplementary/notebooks/make_squiggle.py\u001b\\\u001b[2mmake_squiggle.py\u001b[0m\u001b]8;;\u001b\\\u001b[2m:\u001b[0m\u001b]8;id=281028;file:///home/adoni5/Projects/Icarust_supplementary/notebooks/make_squiggle.py#120\u001b\\\u001b[2m120\u001b[0m\u001b]8;;\u001b\\\n"
      ]
     },
     "metadata": {},
     "output_type": "display_data"
    },
    {
     "data": {
      "text/html": [
       "<pre style=\"white-space:pre;overflow-x:auto;line-height:normal;font-family:Menlo,'DejaVu Sans Mono',consolas,'Courier New',monospace\"><span style=\"color: #7fbfbf; text-decoration-color: #7fbfbf\">                    </span><span style=\"color: #000080; text-decoration-color: #000080\">INFO    </span> Invalid characters found in sequence of                           <a href=\"file:///home/adoni5/Projects/Icarust_supplementary/notebooks/make_squiggle.py\" target=\"_blank\"><span style=\"color: #7f7f7f; text-decoration-color: #7f7f7f\">make_squiggle.py</span></a><span style=\"color: #7f7f7f; text-decoration-color: #7f7f7f\">:</span><a href=\"file:///home/adoni5/Projects/Icarust_supplementary/notebooks/make_squiggle.py#122\" target=\"_blank\"><span style=\"color: #7f7f7f; text-decoration-color: #7f7f7f\">122</span></a>\n",
       "<span style=\"color: #7fbfbf; text-decoration-color: #7fbfbf\">                    </span>         test_read_22_636944_638044, removing them                         <span style=\"color: #7f7f7f; text-decoration-color: #7f7f7f\">                    </span>\n",
       "</pre>\n"
      ],
      "text/plain": [
       "\u001b[2;36m                   \u001b[0m\u001b[2;36m \u001b[0m\u001b[34mINFO    \u001b[0m Invalid characters found in sequence of                           \u001b]8;id=881991;file:///home/adoni5/Projects/Icarust_supplementary/notebooks/make_squiggle.py\u001b\\\u001b[2mmake_squiggle.py\u001b[0m\u001b]8;;\u001b\\\u001b[2m:\u001b[0m\u001b]8;id=267692;file:///home/adoni5/Projects/Icarust_supplementary/notebooks/make_squiggle.py#122\u001b\\\u001b[2m122\u001b[0m\u001b]8;;\u001b\\\n",
       "\u001b[2;36m                    \u001b[0m         test_read_22_636944_638044, removing them                         \u001b[2m                    \u001b[0m\n"
      ]
     },
     "metadata": {},
     "output_type": "display_data"
    },
    {
     "data": {
      "text/html": [
       "<pre style=\"white-space:pre;overflow-x:auto;line-height:normal;font-family:Menlo,'DejaVu Sans Mono',consolas,'Courier New',monospace\"><span style=\"color: #7fbfbf; text-decoration-color: #7fbfbf\">                    </span><span style=\"color: #800000; text-decoration-color: #800000\">WARNING </span> File with name                                                    <a href=\"file:///home/adoni5/Projects/Icarust_supplementary/notebooks/make_squiggle.py\" target=\"_blank\"><span style=\"color: #7f7f7f; text-decoration-color: #7f7f7f\">make_squiggle.py</span></a><span style=\"color: #7f7f7f; text-decoration-color: #7f7f7f\">:</span><a href=\"file:///home/adoni5/Projects/Icarust_supplementary/notebooks/make_squiggle.py#145\" target=\"_blank\"><span style=\"color: #7f7f7f; text-decoration-color: #7f7f7f\">145</span></a>\n",
       "<span style=\"color: #7fbfbf; text-decoration-color: #7fbfbf\">                    </span>         r9_squiggle/test_read_22_636944_638044.squiggle.npy already       <span style=\"color: #7f7f7f; text-decoration-color: #7f7f7f\">                    </span>\n",
       "<span style=\"color: #7fbfbf; text-decoration-color: #7fbfbf\">                    </span>         exists. Skipping<span style=\"color: #808000; text-decoration-color: #808000\">...</span>                                               <span style=\"color: #7f7f7f; text-decoration-color: #7f7f7f\">                    </span>\n",
       "</pre>\n"
      ],
      "text/plain": [
       "\u001b[2;36m                   \u001b[0m\u001b[2;36m \u001b[0m\u001b[31mWARNING \u001b[0m File with name                                                    \u001b]8;id=305361;file:///home/adoni5/Projects/Icarust_supplementary/notebooks/make_squiggle.py\u001b\\\u001b[2mmake_squiggle.py\u001b[0m\u001b]8;;\u001b\\\u001b[2m:\u001b[0m\u001b]8;id=246614;file:///home/adoni5/Projects/Icarust_supplementary/notebooks/make_squiggle.py#145\u001b\\\u001b[2m145\u001b[0m\u001b]8;;\u001b\\\n",
       "\u001b[2;36m                    \u001b[0m         r9_squiggle/test_read_22_636944_638044.squiggle.npy already       \u001b[2m                    \u001b[0m\n",
       "\u001b[2;36m                    \u001b[0m         exists. Skipping\u001b[33m...\u001b[0m                                               \u001b[2m                    \u001b[0m\n"
      ]
     },
     "metadata": {},
     "output_type": "display_data"
    },
    {
     "data": {
      "text/html": [
       "<pre style=\"white-space:pre;overflow-x:auto;line-height:normal;font-family:Menlo,'DejaVu Sans Mono',consolas,'Courier New',monospace\"><span style=\"color: #7fbfbf; text-decoration-color: #7fbfbf\">                    </span><span style=\"color: #000080; text-decoration-color: #000080\">INFO    </span> Generating squiggle for test_read_23_799308_800458                <a href=\"file:///home/adoni5/Projects/Icarust_supplementary/notebooks/make_squiggle.py\" target=\"_blank\"><span style=\"color: #7f7f7f; text-decoration-color: #7f7f7f\">make_squiggle.py</span></a><span style=\"color: #7f7f7f; text-decoration-color: #7f7f7f\">:</span><a href=\"file:///home/adoni5/Projects/Icarust_supplementary/notebooks/make_squiggle.py#120\" target=\"_blank\"><span style=\"color: #7f7f7f; text-decoration-color: #7f7f7f\">120</span></a>\n",
       "</pre>\n"
      ],
      "text/plain": [
       "\u001b[2;36m                   \u001b[0m\u001b[2;36m \u001b[0m\u001b[34mINFO    \u001b[0m Generating squiggle for test_read_23_799308_800458                \u001b]8;id=749845;file:///home/adoni5/Projects/Icarust_supplementary/notebooks/make_squiggle.py\u001b\\\u001b[2mmake_squiggle.py\u001b[0m\u001b]8;;\u001b\\\u001b[2m:\u001b[0m\u001b]8;id=930364;file:///home/adoni5/Projects/Icarust_supplementary/notebooks/make_squiggle.py#120\u001b\\\u001b[2m120\u001b[0m\u001b]8;;\u001b\\\n"
      ]
     },
     "metadata": {},
     "output_type": "display_data"
    },
    {
     "data": {
      "text/html": [
       "<pre style=\"white-space:pre;overflow-x:auto;line-height:normal;font-family:Menlo,'DejaVu Sans Mono',consolas,'Courier New',monospace\"><span style=\"color: #7fbfbf; text-decoration-color: #7fbfbf\">                    </span><span style=\"color: #000080; text-decoration-color: #000080\">INFO    </span> Invalid characters found in sequence of                           <a href=\"file:///home/adoni5/Projects/Icarust_supplementary/notebooks/make_squiggle.py\" target=\"_blank\"><span style=\"color: #7f7f7f; text-decoration-color: #7f7f7f\">make_squiggle.py</span></a><span style=\"color: #7f7f7f; text-decoration-color: #7f7f7f\">:</span><a href=\"file:///home/adoni5/Projects/Icarust_supplementary/notebooks/make_squiggle.py#122\" target=\"_blank\"><span style=\"color: #7f7f7f; text-decoration-color: #7f7f7f\">122</span></a>\n",
       "<span style=\"color: #7fbfbf; text-decoration-color: #7fbfbf\">                    </span>         test_read_23_799308_800458, removing them                         <span style=\"color: #7f7f7f; text-decoration-color: #7f7f7f\">                    </span>\n",
       "</pre>\n"
      ],
      "text/plain": [
       "\u001b[2;36m                   \u001b[0m\u001b[2;36m \u001b[0m\u001b[34mINFO    \u001b[0m Invalid characters found in sequence of                           \u001b]8;id=807668;file:///home/adoni5/Projects/Icarust_supplementary/notebooks/make_squiggle.py\u001b\\\u001b[2mmake_squiggle.py\u001b[0m\u001b]8;;\u001b\\\u001b[2m:\u001b[0m\u001b]8;id=109340;file:///home/adoni5/Projects/Icarust_supplementary/notebooks/make_squiggle.py#122\u001b\\\u001b[2m122\u001b[0m\u001b]8;;\u001b\\\n",
       "\u001b[2;36m                    \u001b[0m         test_read_23_799308_800458, removing them                         \u001b[2m                    \u001b[0m\n"
      ]
     },
     "metadata": {},
     "output_type": "display_data"
    },
    {
     "data": {
      "text/html": [
       "<pre style=\"white-space:pre;overflow-x:auto;line-height:normal;font-family:Menlo,'DejaVu Sans Mono',consolas,'Courier New',monospace\"><span style=\"color: #7fbfbf; text-decoration-color: #7fbfbf\">                    </span><span style=\"color: #800000; text-decoration-color: #800000\">WARNING </span> File with name                                                    <a href=\"file:///home/adoni5/Projects/Icarust_supplementary/notebooks/make_squiggle.py\" target=\"_blank\"><span style=\"color: #7f7f7f; text-decoration-color: #7f7f7f\">make_squiggle.py</span></a><span style=\"color: #7f7f7f; text-decoration-color: #7f7f7f\">:</span><a href=\"file:///home/adoni5/Projects/Icarust_supplementary/notebooks/make_squiggle.py#145\" target=\"_blank\"><span style=\"color: #7f7f7f; text-decoration-color: #7f7f7f\">145</span></a>\n",
       "<span style=\"color: #7fbfbf; text-decoration-color: #7fbfbf\">                    </span>         r9_squiggle/test_read_23_799308_800458.squiggle.npy already       <span style=\"color: #7f7f7f; text-decoration-color: #7f7f7f\">                    </span>\n",
       "<span style=\"color: #7fbfbf; text-decoration-color: #7fbfbf\">                    </span>         exists. Skipping<span style=\"color: #808000; text-decoration-color: #808000\">...</span>                                               <span style=\"color: #7f7f7f; text-decoration-color: #7f7f7f\">                    </span>\n",
       "</pre>\n"
      ],
      "text/plain": [
       "\u001b[2;36m                   \u001b[0m\u001b[2;36m \u001b[0m\u001b[31mWARNING \u001b[0m File with name                                                    \u001b]8;id=398700;file:///home/adoni5/Projects/Icarust_supplementary/notebooks/make_squiggle.py\u001b\\\u001b[2mmake_squiggle.py\u001b[0m\u001b]8;;\u001b\\\u001b[2m:\u001b[0m\u001b]8;id=908243;file:///home/adoni5/Projects/Icarust_supplementary/notebooks/make_squiggle.py#145\u001b\\\u001b[2m145\u001b[0m\u001b]8;;\u001b\\\n",
       "\u001b[2;36m                    \u001b[0m         r9_squiggle/test_read_23_799308_800458.squiggle.npy already       \u001b[2m                    \u001b[0m\n",
       "\u001b[2;36m                    \u001b[0m         exists. Skipping\u001b[33m...\u001b[0m                                               \u001b[2m                    \u001b[0m\n"
      ]
     },
     "metadata": {},
     "output_type": "display_data"
    },
    {
     "data": {
      "text/html": [
       "<pre style=\"white-space:pre;overflow-x:auto;line-height:normal;font-family:Menlo,'DejaVu Sans Mono',consolas,'Courier New',monospace\"><span style=\"color: #7fbfbf; text-decoration-color: #7fbfbf\">                    </span><span style=\"color: #000080; text-decoration-color: #000080\">INFO    </span> Generating squiggle for test_read_24_804423_805623                <a href=\"file:///home/adoni5/Projects/Icarust_supplementary/notebooks/make_squiggle.py\" target=\"_blank\"><span style=\"color: #7f7f7f; text-decoration-color: #7f7f7f\">make_squiggle.py</span></a><span style=\"color: #7f7f7f; text-decoration-color: #7f7f7f\">:</span><a href=\"file:///home/adoni5/Projects/Icarust_supplementary/notebooks/make_squiggle.py#120\" target=\"_blank\"><span style=\"color: #7f7f7f; text-decoration-color: #7f7f7f\">120</span></a>\n",
       "</pre>\n"
      ],
      "text/plain": [
       "\u001b[2;36m                   \u001b[0m\u001b[2;36m \u001b[0m\u001b[34mINFO    \u001b[0m Generating squiggle for test_read_24_804423_805623                \u001b]8;id=357456;file:///home/adoni5/Projects/Icarust_supplementary/notebooks/make_squiggle.py\u001b\\\u001b[2mmake_squiggle.py\u001b[0m\u001b]8;;\u001b\\\u001b[2m:\u001b[0m\u001b]8;id=120260;file:///home/adoni5/Projects/Icarust_supplementary/notebooks/make_squiggle.py#120\u001b\\\u001b[2m120\u001b[0m\u001b]8;;\u001b\\\n"
      ]
     },
     "metadata": {},
     "output_type": "display_data"
    },
    {
     "data": {
      "text/html": [
       "<pre style=\"white-space:pre;overflow-x:auto;line-height:normal;font-family:Menlo,'DejaVu Sans Mono',consolas,'Courier New',monospace\"><span style=\"color: #7fbfbf; text-decoration-color: #7fbfbf\">                    </span><span style=\"color: #000080; text-decoration-color: #000080\">INFO    </span> Invalid characters found in sequence of                           <a href=\"file:///home/adoni5/Projects/Icarust_supplementary/notebooks/make_squiggle.py\" target=\"_blank\"><span style=\"color: #7f7f7f; text-decoration-color: #7f7f7f\">make_squiggle.py</span></a><span style=\"color: #7f7f7f; text-decoration-color: #7f7f7f\">:</span><a href=\"file:///home/adoni5/Projects/Icarust_supplementary/notebooks/make_squiggle.py#122\" target=\"_blank\"><span style=\"color: #7f7f7f; text-decoration-color: #7f7f7f\">122</span></a>\n",
       "<span style=\"color: #7fbfbf; text-decoration-color: #7fbfbf\">                    </span>         test_read_24_804423_805623, removing them                         <span style=\"color: #7f7f7f; text-decoration-color: #7f7f7f\">                    </span>\n",
       "</pre>\n"
      ],
      "text/plain": [
       "\u001b[2;36m                   \u001b[0m\u001b[2;36m \u001b[0m\u001b[34mINFO    \u001b[0m Invalid characters found in sequence of                           \u001b]8;id=396403;file:///home/adoni5/Projects/Icarust_supplementary/notebooks/make_squiggle.py\u001b\\\u001b[2mmake_squiggle.py\u001b[0m\u001b]8;;\u001b\\\u001b[2m:\u001b[0m\u001b]8;id=80375;file:///home/adoni5/Projects/Icarust_supplementary/notebooks/make_squiggle.py#122\u001b\\\u001b[2m122\u001b[0m\u001b]8;;\u001b\\\n",
       "\u001b[2;36m                    \u001b[0m         test_read_24_804423_805623, removing them                         \u001b[2m                    \u001b[0m\n"
      ]
     },
     "metadata": {},
     "output_type": "display_data"
    },
    {
     "data": {
      "text/html": [
       "<pre style=\"white-space:pre;overflow-x:auto;line-height:normal;font-family:Menlo,'DejaVu Sans Mono',consolas,'Courier New',monospace\"><span style=\"color: #7fbfbf; text-decoration-color: #7fbfbf\">                    </span><span style=\"color: #800000; text-decoration-color: #800000\">WARNING </span> File with name                                                    <a href=\"file:///home/adoni5/Projects/Icarust_supplementary/notebooks/make_squiggle.py\" target=\"_blank\"><span style=\"color: #7f7f7f; text-decoration-color: #7f7f7f\">make_squiggle.py</span></a><span style=\"color: #7f7f7f; text-decoration-color: #7f7f7f\">:</span><a href=\"file:///home/adoni5/Projects/Icarust_supplementary/notebooks/make_squiggle.py#145\" target=\"_blank\"><span style=\"color: #7f7f7f; text-decoration-color: #7f7f7f\">145</span></a>\n",
       "<span style=\"color: #7fbfbf; text-decoration-color: #7fbfbf\">                    </span>         r9_squiggle/test_read_24_804423_805623.squiggle.npy already       <span style=\"color: #7f7f7f; text-decoration-color: #7f7f7f\">                    </span>\n",
       "<span style=\"color: #7fbfbf; text-decoration-color: #7fbfbf\">                    </span>         exists. Skipping<span style=\"color: #808000; text-decoration-color: #808000\">...</span>                                               <span style=\"color: #7f7f7f; text-decoration-color: #7f7f7f\">                    </span>\n",
       "</pre>\n"
      ],
      "text/plain": [
       "\u001b[2;36m                   \u001b[0m\u001b[2;36m \u001b[0m\u001b[31mWARNING \u001b[0m File with name                                                    \u001b]8;id=85714;file:///home/adoni5/Projects/Icarust_supplementary/notebooks/make_squiggle.py\u001b\\\u001b[2mmake_squiggle.py\u001b[0m\u001b]8;;\u001b\\\u001b[2m:\u001b[0m\u001b]8;id=998502;file:///home/adoni5/Projects/Icarust_supplementary/notebooks/make_squiggle.py#145\u001b\\\u001b[2m145\u001b[0m\u001b]8;;\u001b\\\n",
       "\u001b[2;36m                    \u001b[0m         r9_squiggle/test_read_24_804423_805623.squiggle.npy already       \u001b[2m                    \u001b[0m\n",
       "\u001b[2;36m                    \u001b[0m         exists. Skipping\u001b[33m...\u001b[0m                                               \u001b[2m                    \u001b[0m\n"
      ]
     },
     "metadata": {},
     "output_type": "display_data"
    },
    {
     "data": {
      "text/html": [
       "<pre style=\"white-space:pre;overflow-x:auto;line-height:normal;font-family:Menlo,'DejaVu Sans Mono',consolas,'Courier New',monospace\"><span style=\"color: #7fbfbf; text-decoration-color: #7fbfbf\">                    </span><span style=\"color: #000080; text-decoration-color: #000080\">INFO    </span> Generating squiggle for test_read_25_729633_730883                <a href=\"file:///home/adoni5/Projects/Icarust_supplementary/notebooks/make_squiggle.py\" target=\"_blank\"><span style=\"color: #7f7f7f; text-decoration-color: #7f7f7f\">make_squiggle.py</span></a><span style=\"color: #7f7f7f; text-decoration-color: #7f7f7f\">:</span><a href=\"file:///home/adoni5/Projects/Icarust_supplementary/notebooks/make_squiggle.py#120\" target=\"_blank\"><span style=\"color: #7f7f7f; text-decoration-color: #7f7f7f\">120</span></a>\n",
       "</pre>\n"
      ],
      "text/plain": [
       "\u001b[2;36m                   \u001b[0m\u001b[2;36m \u001b[0m\u001b[34mINFO    \u001b[0m Generating squiggle for test_read_25_729633_730883                \u001b]8;id=591865;file:///home/adoni5/Projects/Icarust_supplementary/notebooks/make_squiggle.py\u001b\\\u001b[2mmake_squiggle.py\u001b[0m\u001b]8;;\u001b\\\u001b[2m:\u001b[0m\u001b]8;id=560248;file:///home/adoni5/Projects/Icarust_supplementary/notebooks/make_squiggle.py#120\u001b\\\u001b[2m120\u001b[0m\u001b]8;;\u001b\\\n"
      ]
     },
     "metadata": {},
     "output_type": "display_data"
    },
    {
     "data": {
      "text/html": [
       "<pre style=\"white-space:pre;overflow-x:auto;line-height:normal;font-family:Menlo,'DejaVu Sans Mono',consolas,'Courier New',monospace\"><span style=\"color: #7fbfbf; text-decoration-color: #7fbfbf\">                    </span><span style=\"color: #000080; text-decoration-color: #000080\">INFO    </span> Invalid characters found in sequence of                           <a href=\"file:///home/adoni5/Projects/Icarust_supplementary/notebooks/make_squiggle.py\" target=\"_blank\"><span style=\"color: #7f7f7f; text-decoration-color: #7f7f7f\">make_squiggle.py</span></a><span style=\"color: #7f7f7f; text-decoration-color: #7f7f7f\">:</span><a href=\"file:///home/adoni5/Projects/Icarust_supplementary/notebooks/make_squiggle.py#122\" target=\"_blank\"><span style=\"color: #7f7f7f; text-decoration-color: #7f7f7f\">122</span></a>\n",
       "<span style=\"color: #7fbfbf; text-decoration-color: #7fbfbf\">                    </span>         test_read_25_729633_730883, removing them                         <span style=\"color: #7f7f7f; text-decoration-color: #7f7f7f\">                    </span>\n",
       "</pre>\n"
      ],
      "text/plain": [
       "\u001b[2;36m                   \u001b[0m\u001b[2;36m \u001b[0m\u001b[34mINFO    \u001b[0m Invalid characters found in sequence of                           \u001b]8;id=290647;file:///home/adoni5/Projects/Icarust_supplementary/notebooks/make_squiggle.py\u001b\\\u001b[2mmake_squiggle.py\u001b[0m\u001b]8;;\u001b\\\u001b[2m:\u001b[0m\u001b]8;id=112963;file:///home/adoni5/Projects/Icarust_supplementary/notebooks/make_squiggle.py#122\u001b\\\u001b[2m122\u001b[0m\u001b]8;;\u001b\\\n",
       "\u001b[2;36m                    \u001b[0m         test_read_25_729633_730883, removing them                         \u001b[2m                    \u001b[0m\n"
      ]
     },
     "metadata": {},
     "output_type": "display_data"
    },
    {
     "data": {
      "text/html": [
       "<pre style=\"white-space:pre;overflow-x:auto;line-height:normal;font-family:Menlo,'DejaVu Sans Mono',consolas,'Courier New',monospace\"><span style=\"color: #7fbfbf; text-decoration-color: #7fbfbf\">                    </span><span style=\"color: #800000; text-decoration-color: #800000\">WARNING </span> File with name                                                    <a href=\"file:///home/adoni5/Projects/Icarust_supplementary/notebooks/make_squiggle.py\" target=\"_blank\"><span style=\"color: #7f7f7f; text-decoration-color: #7f7f7f\">make_squiggle.py</span></a><span style=\"color: #7f7f7f; text-decoration-color: #7f7f7f\">:</span><a href=\"file:///home/adoni5/Projects/Icarust_supplementary/notebooks/make_squiggle.py#145\" target=\"_blank\"><span style=\"color: #7f7f7f; text-decoration-color: #7f7f7f\">145</span></a>\n",
       "<span style=\"color: #7fbfbf; text-decoration-color: #7fbfbf\">                    </span>         r9_squiggle/test_read_25_729633_730883.squiggle.npy already       <span style=\"color: #7f7f7f; text-decoration-color: #7f7f7f\">                    </span>\n",
       "<span style=\"color: #7fbfbf; text-decoration-color: #7fbfbf\">                    </span>         exists. Skipping<span style=\"color: #808000; text-decoration-color: #808000\">...</span>                                               <span style=\"color: #7f7f7f; text-decoration-color: #7f7f7f\">                    </span>\n",
       "</pre>\n"
      ],
      "text/plain": [
       "\u001b[2;36m                   \u001b[0m\u001b[2;36m \u001b[0m\u001b[31mWARNING \u001b[0m File with name                                                    \u001b]8;id=12983;file:///home/adoni5/Projects/Icarust_supplementary/notebooks/make_squiggle.py\u001b\\\u001b[2mmake_squiggle.py\u001b[0m\u001b]8;;\u001b\\\u001b[2m:\u001b[0m\u001b]8;id=643486;file:///home/adoni5/Projects/Icarust_supplementary/notebooks/make_squiggle.py#145\u001b\\\u001b[2m145\u001b[0m\u001b]8;;\u001b\\\n",
       "\u001b[2;36m                    \u001b[0m         r9_squiggle/test_read_25_729633_730883.squiggle.npy already       \u001b[2m                    \u001b[0m\n",
       "\u001b[2;36m                    \u001b[0m         exists. Skipping\u001b[33m...\u001b[0m                                               \u001b[2m                    \u001b[0m\n"
      ]
     },
     "metadata": {},
     "output_type": "display_data"
    },
    {
     "data": {
      "text/html": [
       "<pre style=\"white-space:pre;overflow-x:auto;line-height:normal;font-family:Menlo,'DejaVu Sans Mono',consolas,'Courier New',monospace\"><span style=\"color: #7fbfbf; text-decoration-color: #7fbfbf\">                    </span><span style=\"color: #000080; text-decoration-color: #000080\">INFO    </span> Generating squiggle for test_read_26_467022_468322                <a href=\"file:///home/adoni5/Projects/Icarust_supplementary/notebooks/make_squiggle.py\" target=\"_blank\"><span style=\"color: #7f7f7f; text-decoration-color: #7f7f7f\">make_squiggle.py</span></a><span style=\"color: #7f7f7f; text-decoration-color: #7f7f7f\">:</span><a href=\"file:///home/adoni5/Projects/Icarust_supplementary/notebooks/make_squiggle.py#120\" target=\"_blank\"><span style=\"color: #7f7f7f; text-decoration-color: #7f7f7f\">120</span></a>\n",
       "</pre>\n"
      ],
      "text/plain": [
       "\u001b[2;36m                   \u001b[0m\u001b[2;36m \u001b[0m\u001b[34mINFO    \u001b[0m Generating squiggle for test_read_26_467022_468322                \u001b]8;id=120693;file:///home/adoni5/Projects/Icarust_supplementary/notebooks/make_squiggle.py\u001b\\\u001b[2mmake_squiggle.py\u001b[0m\u001b]8;;\u001b\\\u001b[2m:\u001b[0m\u001b]8;id=866249;file:///home/adoni5/Projects/Icarust_supplementary/notebooks/make_squiggle.py#120\u001b\\\u001b[2m120\u001b[0m\u001b]8;;\u001b\\\n"
      ]
     },
     "metadata": {},
     "output_type": "display_data"
    },
    {
     "data": {
      "text/html": [
       "<pre style=\"white-space:pre;overflow-x:auto;line-height:normal;font-family:Menlo,'DejaVu Sans Mono',consolas,'Courier New',monospace\"><span style=\"color: #7fbfbf; text-decoration-color: #7fbfbf\">                    </span><span style=\"color: #000080; text-decoration-color: #000080\">INFO    </span> Invalid characters found in sequence of                           <a href=\"file:///home/adoni5/Projects/Icarust_supplementary/notebooks/make_squiggle.py\" target=\"_blank\"><span style=\"color: #7f7f7f; text-decoration-color: #7f7f7f\">make_squiggle.py</span></a><span style=\"color: #7f7f7f; text-decoration-color: #7f7f7f\">:</span><a href=\"file:///home/adoni5/Projects/Icarust_supplementary/notebooks/make_squiggle.py#122\" target=\"_blank\"><span style=\"color: #7f7f7f; text-decoration-color: #7f7f7f\">122</span></a>\n",
       "<span style=\"color: #7fbfbf; text-decoration-color: #7fbfbf\">                    </span>         test_read_26_467022_468322, removing them                         <span style=\"color: #7f7f7f; text-decoration-color: #7f7f7f\">                    </span>\n",
       "</pre>\n"
      ],
      "text/plain": [
       "\u001b[2;36m                   \u001b[0m\u001b[2;36m \u001b[0m\u001b[34mINFO    \u001b[0m Invalid characters found in sequence of                           \u001b]8;id=251273;file:///home/adoni5/Projects/Icarust_supplementary/notebooks/make_squiggle.py\u001b\\\u001b[2mmake_squiggle.py\u001b[0m\u001b]8;;\u001b\\\u001b[2m:\u001b[0m\u001b]8;id=823669;file:///home/adoni5/Projects/Icarust_supplementary/notebooks/make_squiggle.py#122\u001b\\\u001b[2m122\u001b[0m\u001b]8;;\u001b\\\n",
       "\u001b[2;36m                    \u001b[0m         test_read_26_467022_468322, removing them                         \u001b[2m                    \u001b[0m\n"
      ]
     },
     "metadata": {},
     "output_type": "display_data"
    },
    {
     "data": {
      "text/html": [
       "<pre style=\"white-space:pre;overflow-x:auto;line-height:normal;font-family:Menlo,'DejaVu Sans Mono',consolas,'Courier New',monospace\"><span style=\"color: #7fbfbf; text-decoration-color: #7fbfbf\">                    </span><span style=\"color: #800000; text-decoration-color: #800000\">WARNING </span> File with name                                                    <a href=\"file:///home/adoni5/Projects/Icarust_supplementary/notebooks/make_squiggle.py\" target=\"_blank\"><span style=\"color: #7f7f7f; text-decoration-color: #7f7f7f\">make_squiggle.py</span></a><span style=\"color: #7f7f7f; text-decoration-color: #7f7f7f\">:</span><a href=\"file:///home/adoni5/Projects/Icarust_supplementary/notebooks/make_squiggle.py#145\" target=\"_blank\"><span style=\"color: #7f7f7f; text-decoration-color: #7f7f7f\">145</span></a>\n",
       "<span style=\"color: #7fbfbf; text-decoration-color: #7fbfbf\">                    </span>         r9_squiggle/test_read_26_467022_468322.squiggle.npy already       <span style=\"color: #7f7f7f; text-decoration-color: #7f7f7f\">                    </span>\n",
       "<span style=\"color: #7fbfbf; text-decoration-color: #7fbfbf\">                    </span>         exists. Skipping<span style=\"color: #808000; text-decoration-color: #808000\">...</span>                                               <span style=\"color: #7f7f7f; text-decoration-color: #7f7f7f\">                    </span>\n",
       "</pre>\n"
      ],
      "text/plain": [
       "\u001b[2;36m                   \u001b[0m\u001b[2;36m \u001b[0m\u001b[31mWARNING \u001b[0m File with name                                                    \u001b]8;id=472811;file:///home/adoni5/Projects/Icarust_supplementary/notebooks/make_squiggle.py\u001b\\\u001b[2mmake_squiggle.py\u001b[0m\u001b]8;;\u001b\\\u001b[2m:\u001b[0m\u001b]8;id=175514;file:///home/adoni5/Projects/Icarust_supplementary/notebooks/make_squiggle.py#145\u001b\\\u001b[2m145\u001b[0m\u001b]8;;\u001b\\\n",
       "\u001b[2;36m                    \u001b[0m         r9_squiggle/test_read_26_467022_468322.squiggle.npy already       \u001b[2m                    \u001b[0m\n",
       "\u001b[2;36m                    \u001b[0m         exists. Skipping\u001b[33m...\u001b[0m                                               \u001b[2m                    \u001b[0m\n"
      ]
     },
     "metadata": {},
     "output_type": "display_data"
    },
    {
     "data": {
      "text/html": [
       "<pre style=\"white-space:pre;overflow-x:auto;line-height:normal;font-family:Menlo,'DejaVu Sans Mono',consolas,'Courier New',monospace\"><span style=\"color: #7fbfbf; text-decoration-color: #7fbfbf\">                    </span><span style=\"color: #000080; text-decoration-color: #000080\">INFO    </span> Generating squiggle for test_read_27_279267_280617                <a href=\"file:///home/adoni5/Projects/Icarust_supplementary/notebooks/make_squiggle.py\" target=\"_blank\"><span style=\"color: #7f7f7f; text-decoration-color: #7f7f7f\">make_squiggle.py</span></a><span style=\"color: #7f7f7f; text-decoration-color: #7f7f7f\">:</span><a href=\"file:///home/adoni5/Projects/Icarust_supplementary/notebooks/make_squiggle.py#120\" target=\"_blank\"><span style=\"color: #7f7f7f; text-decoration-color: #7f7f7f\">120</span></a>\n",
       "</pre>\n"
      ],
      "text/plain": [
       "\u001b[2;36m                   \u001b[0m\u001b[2;36m \u001b[0m\u001b[34mINFO    \u001b[0m Generating squiggle for test_read_27_279267_280617                \u001b]8;id=886066;file:///home/adoni5/Projects/Icarust_supplementary/notebooks/make_squiggle.py\u001b\\\u001b[2mmake_squiggle.py\u001b[0m\u001b]8;;\u001b\\\u001b[2m:\u001b[0m\u001b]8;id=107829;file:///home/adoni5/Projects/Icarust_supplementary/notebooks/make_squiggle.py#120\u001b\\\u001b[2m120\u001b[0m\u001b]8;;\u001b\\\n"
      ]
     },
     "metadata": {},
     "output_type": "display_data"
    },
    {
     "data": {
      "text/html": [
       "<pre style=\"white-space:pre;overflow-x:auto;line-height:normal;font-family:Menlo,'DejaVu Sans Mono',consolas,'Courier New',monospace\"><span style=\"color: #7fbfbf; text-decoration-color: #7fbfbf\">                    </span><span style=\"color: #000080; text-decoration-color: #000080\">INFO    </span> Invalid characters found in sequence of                           <a href=\"file:///home/adoni5/Projects/Icarust_supplementary/notebooks/make_squiggle.py\" target=\"_blank\"><span style=\"color: #7f7f7f; text-decoration-color: #7f7f7f\">make_squiggle.py</span></a><span style=\"color: #7f7f7f; text-decoration-color: #7f7f7f\">:</span><a href=\"file:///home/adoni5/Projects/Icarust_supplementary/notebooks/make_squiggle.py#122\" target=\"_blank\"><span style=\"color: #7f7f7f; text-decoration-color: #7f7f7f\">122</span></a>\n",
       "<span style=\"color: #7fbfbf; text-decoration-color: #7fbfbf\">                    </span>         test_read_27_279267_280617, removing them                         <span style=\"color: #7f7f7f; text-decoration-color: #7f7f7f\">                    </span>\n",
       "</pre>\n"
      ],
      "text/plain": [
       "\u001b[2;36m                   \u001b[0m\u001b[2;36m \u001b[0m\u001b[34mINFO    \u001b[0m Invalid characters found in sequence of                           \u001b]8;id=569298;file:///home/adoni5/Projects/Icarust_supplementary/notebooks/make_squiggle.py\u001b\\\u001b[2mmake_squiggle.py\u001b[0m\u001b]8;;\u001b\\\u001b[2m:\u001b[0m\u001b]8;id=953389;file:///home/adoni5/Projects/Icarust_supplementary/notebooks/make_squiggle.py#122\u001b\\\u001b[2m122\u001b[0m\u001b]8;;\u001b\\\n",
       "\u001b[2;36m                    \u001b[0m         test_read_27_279267_280617, removing them                         \u001b[2m                    \u001b[0m\n"
      ]
     },
     "metadata": {},
     "output_type": "display_data"
    },
    {
     "data": {
      "text/html": [
       "<pre style=\"white-space:pre;overflow-x:auto;line-height:normal;font-family:Menlo,'DejaVu Sans Mono',consolas,'Courier New',monospace\"><span style=\"color: #7fbfbf; text-decoration-color: #7fbfbf\">                    </span><span style=\"color: #800000; text-decoration-color: #800000\">WARNING </span> File with name                                                    <a href=\"file:///home/adoni5/Projects/Icarust_supplementary/notebooks/make_squiggle.py\" target=\"_blank\"><span style=\"color: #7f7f7f; text-decoration-color: #7f7f7f\">make_squiggle.py</span></a><span style=\"color: #7f7f7f; text-decoration-color: #7f7f7f\">:</span><a href=\"file:///home/adoni5/Projects/Icarust_supplementary/notebooks/make_squiggle.py#145\" target=\"_blank\"><span style=\"color: #7f7f7f; text-decoration-color: #7f7f7f\">145</span></a>\n",
       "<span style=\"color: #7fbfbf; text-decoration-color: #7fbfbf\">                    </span>         r9_squiggle/test_read_27_279267_280617.squiggle.npy already       <span style=\"color: #7f7f7f; text-decoration-color: #7f7f7f\">                    </span>\n",
       "<span style=\"color: #7fbfbf; text-decoration-color: #7fbfbf\">                    </span>         exists. Skipping<span style=\"color: #808000; text-decoration-color: #808000\">...</span>                                               <span style=\"color: #7f7f7f; text-decoration-color: #7f7f7f\">                    </span>\n",
       "</pre>\n"
      ],
      "text/plain": [
       "\u001b[2;36m                   \u001b[0m\u001b[2;36m \u001b[0m\u001b[31mWARNING \u001b[0m File with name                                                    \u001b]8;id=746178;file:///home/adoni5/Projects/Icarust_supplementary/notebooks/make_squiggle.py\u001b\\\u001b[2mmake_squiggle.py\u001b[0m\u001b]8;;\u001b\\\u001b[2m:\u001b[0m\u001b]8;id=500181;file:///home/adoni5/Projects/Icarust_supplementary/notebooks/make_squiggle.py#145\u001b\\\u001b[2m145\u001b[0m\u001b]8;;\u001b\\\n",
       "\u001b[2;36m                    \u001b[0m         r9_squiggle/test_read_27_279267_280617.squiggle.npy already       \u001b[2m                    \u001b[0m\n",
       "\u001b[2;36m                    \u001b[0m         exists. Skipping\u001b[33m...\u001b[0m                                               \u001b[2m                    \u001b[0m\n"
      ]
     },
     "metadata": {},
     "output_type": "display_data"
    },
    {
     "data": {
      "text/html": [
       "<pre style=\"white-space:pre;overflow-x:auto;line-height:normal;font-family:Menlo,'DejaVu Sans Mono',consolas,'Courier New',monospace\"><span style=\"color: #7fbfbf; text-decoration-color: #7fbfbf\">                    </span><span style=\"color: #000080; text-decoration-color: #000080\">INFO    </span> Generating squiggle for test_read_28_756589_757989                <a href=\"file:///home/adoni5/Projects/Icarust_supplementary/notebooks/make_squiggle.py\" target=\"_blank\"><span style=\"color: #7f7f7f; text-decoration-color: #7f7f7f\">make_squiggle.py</span></a><span style=\"color: #7f7f7f; text-decoration-color: #7f7f7f\">:</span><a href=\"file:///home/adoni5/Projects/Icarust_supplementary/notebooks/make_squiggle.py#120\" target=\"_blank\"><span style=\"color: #7f7f7f; text-decoration-color: #7f7f7f\">120</span></a>\n",
       "</pre>\n"
      ],
      "text/plain": [
       "\u001b[2;36m                   \u001b[0m\u001b[2;36m \u001b[0m\u001b[34mINFO    \u001b[0m Generating squiggle for test_read_28_756589_757989                \u001b]8;id=332835;file:///home/adoni5/Projects/Icarust_supplementary/notebooks/make_squiggle.py\u001b\\\u001b[2mmake_squiggle.py\u001b[0m\u001b]8;;\u001b\\\u001b[2m:\u001b[0m\u001b]8;id=41544;file:///home/adoni5/Projects/Icarust_supplementary/notebooks/make_squiggle.py#120\u001b\\\u001b[2m120\u001b[0m\u001b]8;;\u001b\\\n"
      ]
     },
     "metadata": {},
     "output_type": "display_data"
    },
    {
     "data": {
      "text/html": [
       "<pre style=\"white-space:pre;overflow-x:auto;line-height:normal;font-family:Menlo,'DejaVu Sans Mono',consolas,'Courier New',monospace\"><span style=\"color: #7fbfbf; text-decoration-color: #7fbfbf\">                    </span><span style=\"color: #000080; text-decoration-color: #000080\">INFO    </span> Invalid characters found in sequence of                           <a href=\"file:///home/adoni5/Projects/Icarust_supplementary/notebooks/make_squiggle.py\" target=\"_blank\"><span style=\"color: #7f7f7f; text-decoration-color: #7f7f7f\">make_squiggle.py</span></a><span style=\"color: #7f7f7f; text-decoration-color: #7f7f7f\">:</span><a href=\"file:///home/adoni5/Projects/Icarust_supplementary/notebooks/make_squiggle.py#122\" target=\"_blank\"><span style=\"color: #7f7f7f; text-decoration-color: #7f7f7f\">122</span></a>\n",
       "<span style=\"color: #7fbfbf; text-decoration-color: #7fbfbf\">                    </span>         test_read_28_756589_757989, removing them                         <span style=\"color: #7f7f7f; text-decoration-color: #7f7f7f\">                    </span>\n",
       "</pre>\n"
      ],
      "text/plain": [
       "\u001b[2;36m                   \u001b[0m\u001b[2;36m \u001b[0m\u001b[34mINFO    \u001b[0m Invalid characters found in sequence of                           \u001b]8;id=309906;file:///home/adoni5/Projects/Icarust_supplementary/notebooks/make_squiggle.py\u001b\\\u001b[2mmake_squiggle.py\u001b[0m\u001b]8;;\u001b\\\u001b[2m:\u001b[0m\u001b]8;id=761773;file:///home/adoni5/Projects/Icarust_supplementary/notebooks/make_squiggle.py#122\u001b\\\u001b[2m122\u001b[0m\u001b]8;;\u001b\\\n",
       "\u001b[2;36m                    \u001b[0m         test_read_28_756589_757989, removing them                         \u001b[2m                    \u001b[0m\n"
      ]
     },
     "metadata": {},
     "output_type": "display_data"
    },
    {
     "data": {
      "text/html": [
       "<pre style=\"white-space:pre;overflow-x:auto;line-height:normal;font-family:Menlo,'DejaVu Sans Mono',consolas,'Courier New',monospace\"><span style=\"color: #7fbfbf; text-decoration-color: #7fbfbf\">                    </span><span style=\"color: #800000; text-decoration-color: #800000\">WARNING </span> File with name                                                    <a href=\"file:///home/adoni5/Projects/Icarust_supplementary/notebooks/make_squiggle.py\" target=\"_blank\"><span style=\"color: #7f7f7f; text-decoration-color: #7f7f7f\">make_squiggle.py</span></a><span style=\"color: #7f7f7f; text-decoration-color: #7f7f7f\">:</span><a href=\"file:///home/adoni5/Projects/Icarust_supplementary/notebooks/make_squiggle.py#145\" target=\"_blank\"><span style=\"color: #7f7f7f; text-decoration-color: #7f7f7f\">145</span></a>\n",
       "<span style=\"color: #7fbfbf; text-decoration-color: #7fbfbf\">                    </span>         r9_squiggle/test_read_28_756589_757989.squiggle.npy already       <span style=\"color: #7f7f7f; text-decoration-color: #7f7f7f\">                    </span>\n",
       "<span style=\"color: #7fbfbf; text-decoration-color: #7fbfbf\">                    </span>         exists. Skipping<span style=\"color: #808000; text-decoration-color: #808000\">...</span>                                               <span style=\"color: #7f7f7f; text-decoration-color: #7f7f7f\">                    </span>\n",
       "</pre>\n"
      ],
      "text/plain": [
       "\u001b[2;36m                   \u001b[0m\u001b[2;36m \u001b[0m\u001b[31mWARNING \u001b[0m File with name                                                    \u001b]8;id=328498;file:///home/adoni5/Projects/Icarust_supplementary/notebooks/make_squiggle.py\u001b\\\u001b[2mmake_squiggle.py\u001b[0m\u001b]8;;\u001b\\\u001b[2m:\u001b[0m\u001b]8;id=417915;file:///home/adoni5/Projects/Icarust_supplementary/notebooks/make_squiggle.py#145\u001b\\\u001b[2m145\u001b[0m\u001b]8;;\u001b\\\n",
       "\u001b[2;36m                    \u001b[0m         r9_squiggle/test_read_28_756589_757989.squiggle.npy already       \u001b[2m                    \u001b[0m\n",
       "\u001b[2;36m                    \u001b[0m         exists. Skipping\u001b[33m...\u001b[0m                                               \u001b[2m                    \u001b[0m\n"
      ]
     },
     "metadata": {},
     "output_type": "display_data"
    },
    {
     "data": {
      "text/html": [
       "<pre style=\"white-space:pre;overflow-x:auto;line-height:normal;font-family:Menlo,'DejaVu Sans Mono',consolas,'Courier New',monospace\"><span style=\"color: #7fbfbf; text-decoration-color: #7fbfbf\">                    </span><span style=\"color: #000080; text-decoration-color: #000080\">INFO    </span> Generating squiggle for test_read_29_840775_842225                <a href=\"file:///home/adoni5/Projects/Icarust_supplementary/notebooks/make_squiggle.py\" target=\"_blank\"><span style=\"color: #7f7f7f; text-decoration-color: #7f7f7f\">make_squiggle.py</span></a><span style=\"color: #7f7f7f; text-decoration-color: #7f7f7f\">:</span><a href=\"file:///home/adoni5/Projects/Icarust_supplementary/notebooks/make_squiggle.py#120\" target=\"_blank\"><span style=\"color: #7f7f7f; text-decoration-color: #7f7f7f\">120</span></a>\n",
       "</pre>\n"
      ],
      "text/plain": [
       "\u001b[2;36m                   \u001b[0m\u001b[2;36m \u001b[0m\u001b[34mINFO    \u001b[0m Generating squiggle for test_read_29_840775_842225                \u001b]8;id=630662;file:///home/adoni5/Projects/Icarust_supplementary/notebooks/make_squiggle.py\u001b\\\u001b[2mmake_squiggle.py\u001b[0m\u001b]8;;\u001b\\\u001b[2m:\u001b[0m\u001b]8;id=478001;file:///home/adoni5/Projects/Icarust_supplementary/notebooks/make_squiggle.py#120\u001b\\\u001b[2m120\u001b[0m\u001b]8;;\u001b\\\n"
      ]
     },
     "metadata": {},
     "output_type": "display_data"
    },
    {
     "data": {
      "text/html": [
       "<pre style=\"white-space:pre;overflow-x:auto;line-height:normal;font-family:Menlo,'DejaVu Sans Mono',consolas,'Courier New',monospace\"><span style=\"color: #7fbfbf; text-decoration-color: #7fbfbf\">                    </span><span style=\"color: #000080; text-decoration-color: #000080\">INFO    </span> Invalid characters found in sequence of                           <a href=\"file:///home/adoni5/Projects/Icarust_supplementary/notebooks/make_squiggle.py\" target=\"_blank\"><span style=\"color: #7f7f7f; text-decoration-color: #7f7f7f\">make_squiggle.py</span></a><span style=\"color: #7f7f7f; text-decoration-color: #7f7f7f\">:</span><a href=\"file:///home/adoni5/Projects/Icarust_supplementary/notebooks/make_squiggle.py#122\" target=\"_blank\"><span style=\"color: #7f7f7f; text-decoration-color: #7f7f7f\">122</span></a>\n",
       "<span style=\"color: #7fbfbf; text-decoration-color: #7fbfbf\">                    </span>         test_read_29_840775_842225, removing them                         <span style=\"color: #7f7f7f; text-decoration-color: #7f7f7f\">                    </span>\n",
       "</pre>\n"
      ],
      "text/plain": [
       "\u001b[2;36m                   \u001b[0m\u001b[2;36m \u001b[0m\u001b[34mINFO    \u001b[0m Invalid characters found in sequence of                           \u001b]8;id=647817;file:///home/adoni5/Projects/Icarust_supplementary/notebooks/make_squiggle.py\u001b\\\u001b[2mmake_squiggle.py\u001b[0m\u001b]8;;\u001b\\\u001b[2m:\u001b[0m\u001b]8;id=815707;file:///home/adoni5/Projects/Icarust_supplementary/notebooks/make_squiggle.py#122\u001b\\\u001b[2m122\u001b[0m\u001b]8;;\u001b\\\n",
       "\u001b[2;36m                    \u001b[0m         test_read_29_840775_842225, removing them                         \u001b[2m                    \u001b[0m\n"
      ]
     },
     "metadata": {},
     "output_type": "display_data"
    },
    {
     "data": {
      "text/html": [
       "<pre style=\"white-space:pre;overflow-x:auto;line-height:normal;font-family:Menlo,'DejaVu Sans Mono',consolas,'Courier New',monospace\"><span style=\"color: #7fbfbf; text-decoration-color: #7fbfbf\">                    </span><span style=\"color: #800000; text-decoration-color: #800000\">WARNING </span> File with name                                                    <a href=\"file:///home/adoni5/Projects/Icarust_supplementary/notebooks/make_squiggle.py\" target=\"_blank\"><span style=\"color: #7f7f7f; text-decoration-color: #7f7f7f\">make_squiggle.py</span></a><span style=\"color: #7f7f7f; text-decoration-color: #7f7f7f\">:</span><a href=\"file:///home/adoni5/Projects/Icarust_supplementary/notebooks/make_squiggle.py#145\" target=\"_blank\"><span style=\"color: #7f7f7f; text-decoration-color: #7f7f7f\">145</span></a>\n",
       "<span style=\"color: #7fbfbf; text-decoration-color: #7fbfbf\">                    </span>         r9_squiggle/test_read_29_840775_842225.squiggle.npy already       <span style=\"color: #7f7f7f; text-decoration-color: #7f7f7f\">                    </span>\n",
       "<span style=\"color: #7fbfbf; text-decoration-color: #7fbfbf\">                    </span>         exists. Skipping<span style=\"color: #808000; text-decoration-color: #808000\">...</span>                                               <span style=\"color: #7f7f7f; text-decoration-color: #7f7f7f\">                    </span>\n",
       "</pre>\n"
      ],
      "text/plain": [
       "\u001b[2;36m                   \u001b[0m\u001b[2;36m \u001b[0m\u001b[31mWARNING \u001b[0m File with name                                                    \u001b]8;id=491698;file:///home/adoni5/Projects/Icarust_supplementary/notebooks/make_squiggle.py\u001b\\\u001b[2mmake_squiggle.py\u001b[0m\u001b]8;;\u001b\\\u001b[2m:\u001b[0m\u001b]8;id=693983;file:///home/adoni5/Projects/Icarust_supplementary/notebooks/make_squiggle.py#145\u001b\\\u001b[2m145\u001b[0m\u001b]8;;\u001b\\\n",
       "\u001b[2;36m                    \u001b[0m         r9_squiggle/test_read_29_840775_842225.squiggle.npy already       \u001b[2m                    \u001b[0m\n",
       "\u001b[2;36m                    \u001b[0m         exists. Skipping\u001b[33m...\u001b[0m                                               \u001b[2m                    \u001b[0m\n"
      ]
     },
     "metadata": {},
     "output_type": "display_data"
    },
    {
     "data": {
      "text/html": [
       "<pre style=\"white-space:pre;overflow-x:auto;line-height:normal;font-family:Menlo,'DejaVu Sans Mono',consolas,'Courier New',monospace\"><span style=\"color: #7fbfbf; text-decoration-color: #7fbfbf\">                    </span><span style=\"color: #000080; text-decoration-color: #000080\">INFO    </span> Generating squiggle for test_read_30_239874_241374                <a href=\"file:///home/adoni5/Projects/Icarust_supplementary/notebooks/make_squiggle.py\" target=\"_blank\"><span style=\"color: #7f7f7f; text-decoration-color: #7f7f7f\">make_squiggle.py</span></a><span style=\"color: #7f7f7f; text-decoration-color: #7f7f7f\">:</span><a href=\"file:///home/adoni5/Projects/Icarust_supplementary/notebooks/make_squiggle.py#120\" target=\"_blank\"><span style=\"color: #7f7f7f; text-decoration-color: #7f7f7f\">120</span></a>\n",
       "</pre>\n"
      ],
      "text/plain": [
       "\u001b[2;36m                   \u001b[0m\u001b[2;36m \u001b[0m\u001b[34mINFO    \u001b[0m Generating squiggle for test_read_30_239874_241374                \u001b]8;id=217932;file:///home/adoni5/Projects/Icarust_supplementary/notebooks/make_squiggle.py\u001b\\\u001b[2mmake_squiggle.py\u001b[0m\u001b]8;;\u001b\\\u001b[2m:\u001b[0m\u001b]8;id=322249;file:///home/adoni5/Projects/Icarust_supplementary/notebooks/make_squiggle.py#120\u001b\\\u001b[2m120\u001b[0m\u001b]8;;\u001b\\\n"
      ]
     },
     "metadata": {},
     "output_type": "display_data"
    },
    {
     "data": {
      "text/html": [
       "<pre style=\"white-space:pre;overflow-x:auto;line-height:normal;font-family:Menlo,'DejaVu Sans Mono',consolas,'Courier New',monospace\"><span style=\"color: #7fbfbf; text-decoration-color: #7fbfbf\">                    </span><span style=\"color: #000080; text-decoration-color: #000080\">INFO    </span> Invalid characters found in sequence of                           <a href=\"file:///home/adoni5/Projects/Icarust_supplementary/notebooks/make_squiggle.py\" target=\"_blank\"><span style=\"color: #7f7f7f; text-decoration-color: #7f7f7f\">make_squiggle.py</span></a><span style=\"color: #7f7f7f; text-decoration-color: #7f7f7f\">:</span><a href=\"file:///home/adoni5/Projects/Icarust_supplementary/notebooks/make_squiggle.py#122\" target=\"_blank\"><span style=\"color: #7f7f7f; text-decoration-color: #7f7f7f\">122</span></a>\n",
       "<span style=\"color: #7fbfbf; text-decoration-color: #7fbfbf\">                    </span>         test_read_30_239874_241374, removing them                         <span style=\"color: #7f7f7f; text-decoration-color: #7f7f7f\">                    </span>\n",
       "</pre>\n"
      ],
      "text/plain": [
       "\u001b[2;36m                   \u001b[0m\u001b[2;36m \u001b[0m\u001b[34mINFO    \u001b[0m Invalid characters found in sequence of                           \u001b]8;id=859808;file:///home/adoni5/Projects/Icarust_supplementary/notebooks/make_squiggle.py\u001b\\\u001b[2mmake_squiggle.py\u001b[0m\u001b]8;;\u001b\\\u001b[2m:\u001b[0m\u001b]8;id=294426;file:///home/adoni5/Projects/Icarust_supplementary/notebooks/make_squiggle.py#122\u001b\\\u001b[2m122\u001b[0m\u001b]8;;\u001b\\\n",
       "\u001b[2;36m                    \u001b[0m         test_read_30_239874_241374, removing them                         \u001b[2m                    \u001b[0m\n"
      ]
     },
     "metadata": {},
     "output_type": "display_data"
    },
    {
     "data": {
      "text/html": [
       "<pre style=\"white-space:pre;overflow-x:auto;line-height:normal;font-family:Menlo,'DejaVu Sans Mono',consolas,'Courier New',monospace\"><span style=\"color: #7fbfbf; text-decoration-color: #7fbfbf\">                    </span><span style=\"color: #800000; text-decoration-color: #800000\">WARNING </span> File with name                                                    <a href=\"file:///home/adoni5/Projects/Icarust_supplementary/notebooks/make_squiggle.py\" target=\"_blank\"><span style=\"color: #7f7f7f; text-decoration-color: #7f7f7f\">make_squiggle.py</span></a><span style=\"color: #7f7f7f; text-decoration-color: #7f7f7f\">:</span><a href=\"file:///home/adoni5/Projects/Icarust_supplementary/notebooks/make_squiggle.py#145\" target=\"_blank\"><span style=\"color: #7f7f7f; text-decoration-color: #7f7f7f\">145</span></a>\n",
       "<span style=\"color: #7fbfbf; text-decoration-color: #7fbfbf\">                    </span>         r9_squiggle/test_read_30_239874_241374.squiggle.npy already       <span style=\"color: #7f7f7f; text-decoration-color: #7f7f7f\">                    </span>\n",
       "<span style=\"color: #7fbfbf; text-decoration-color: #7fbfbf\">                    </span>         exists. Skipping<span style=\"color: #808000; text-decoration-color: #808000\">...</span>                                               <span style=\"color: #7f7f7f; text-decoration-color: #7f7f7f\">                    </span>\n",
       "</pre>\n"
      ],
      "text/plain": [
       "\u001b[2;36m                   \u001b[0m\u001b[2;36m \u001b[0m\u001b[31mWARNING \u001b[0m File with name                                                    \u001b]8;id=683682;file:///home/adoni5/Projects/Icarust_supplementary/notebooks/make_squiggle.py\u001b\\\u001b[2mmake_squiggle.py\u001b[0m\u001b]8;;\u001b\\\u001b[2m:\u001b[0m\u001b]8;id=602256;file:///home/adoni5/Projects/Icarust_supplementary/notebooks/make_squiggle.py#145\u001b\\\u001b[2m145\u001b[0m\u001b]8;;\u001b\\\n",
       "\u001b[2;36m                    \u001b[0m         r9_squiggle/test_read_30_239874_241374.squiggle.npy already       \u001b[2m                    \u001b[0m\n",
       "\u001b[2;36m                    \u001b[0m         exists. Skipping\u001b[33m...\u001b[0m                                               \u001b[2m                    \u001b[0m\n"
      ]
     },
     "metadata": {},
     "output_type": "display_data"
    },
    {
     "data": {
      "text/html": [
       "<pre style=\"white-space:pre;overflow-x:auto;line-height:normal;font-family:Menlo,'DejaVu Sans Mono',consolas,'Courier New',monospace\"><span style=\"color: #7fbfbf; text-decoration-color: #7fbfbf\">                    </span><span style=\"color: #000080; text-decoration-color: #000080\">INFO    </span> Generating squiggle for test_read_31_619869_621419                <a href=\"file:///home/adoni5/Projects/Icarust_supplementary/notebooks/make_squiggle.py\" target=\"_blank\"><span style=\"color: #7f7f7f; text-decoration-color: #7f7f7f\">make_squiggle.py</span></a><span style=\"color: #7f7f7f; text-decoration-color: #7f7f7f\">:</span><a href=\"file:///home/adoni5/Projects/Icarust_supplementary/notebooks/make_squiggle.py#120\" target=\"_blank\"><span style=\"color: #7f7f7f; text-decoration-color: #7f7f7f\">120</span></a>\n",
       "</pre>\n"
      ],
      "text/plain": [
       "\u001b[2;36m                   \u001b[0m\u001b[2;36m \u001b[0m\u001b[34mINFO    \u001b[0m Generating squiggle for test_read_31_619869_621419                \u001b]8;id=409446;file:///home/adoni5/Projects/Icarust_supplementary/notebooks/make_squiggle.py\u001b\\\u001b[2mmake_squiggle.py\u001b[0m\u001b]8;;\u001b\\\u001b[2m:\u001b[0m\u001b]8;id=321686;file:///home/adoni5/Projects/Icarust_supplementary/notebooks/make_squiggle.py#120\u001b\\\u001b[2m120\u001b[0m\u001b]8;;\u001b\\\n"
      ]
     },
     "metadata": {},
     "output_type": "display_data"
    },
    {
     "data": {
      "text/html": [
       "<pre style=\"white-space:pre;overflow-x:auto;line-height:normal;font-family:Menlo,'DejaVu Sans Mono',consolas,'Courier New',monospace\"><span style=\"color: #7fbfbf; text-decoration-color: #7fbfbf\">                    </span><span style=\"color: #000080; text-decoration-color: #000080\">INFO    </span> Invalid characters found in sequence of                           <a href=\"file:///home/adoni5/Projects/Icarust_supplementary/notebooks/make_squiggle.py\" target=\"_blank\"><span style=\"color: #7f7f7f; text-decoration-color: #7f7f7f\">make_squiggle.py</span></a><span style=\"color: #7f7f7f; text-decoration-color: #7f7f7f\">:</span><a href=\"file:///home/adoni5/Projects/Icarust_supplementary/notebooks/make_squiggle.py#122\" target=\"_blank\"><span style=\"color: #7f7f7f; text-decoration-color: #7f7f7f\">122</span></a>\n",
       "<span style=\"color: #7fbfbf; text-decoration-color: #7fbfbf\">                    </span>         test_read_31_619869_621419, removing them                         <span style=\"color: #7f7f7f; text-decoration-color: #7f7f7f\">                    </span>\n",
       "</pre>\n"
      ],
      "text/plain": [
       "\u001b[2;36m                   \u001b[0m\u001b[2;36m \u001b[0m\u001b[34mINFO    \u001b[0m Invalid characters found in sequence of                           \u001b]8;id=831239;file:///home/adoni5/Projects/Icarust_supplementary/notebooks/make_squiggle.py\u001b\\\u001b[2mmake_squiggle.py\u001b[0m\u001b]8;;\u001b\\\u001b[2m:\u001b[0m\u001b]8;id=888285;file:///home/adoni5/Projects/Icarust_supplementary/notebooks/make_squiggle.py#122\u001b\\\u001b[2m122\u001b[0m\u001b]8;;\u001b\\\n",
       "\u001b[2;36m                    \u001b[0m         test_read_31_619869_621419, removing them                         \u001b[2m                    \u001b[0m\n"
      ]
     },
     "metadata": {},
     "output_type": "display_data"
    },
    {
     "data": {
      "text/html": [
       "<pre style=\"white-space:pre;overflow-x:auto;line-height:normal;font-family:Menlo,'DejaVu Sans Mono',consolas,'Courier New',monospace\"><span style=\"color: #7fbfbf; text-decoration-color: #7fbfbf\">                    </span><span style=\"color: #800000; text-decoration-color: #800000\">WARNING </span> File with name                                                    <a href=\"file:///home/adoni5/Projects/Icarust_supplementary/notebooks/make_squiggle.py\" target=\"_blank\"><span style=\"color: #7f7f7f; text-decoration-color: #7f7f7f\">make_squiggle.py</span></a><span style=\"color: #7f7f7f; text-decoration-color: #7f7f7f\">:</span><a href=\"file:///home/adoni5/Projects/Icarust_supplementary/notebooks/make_squiggle.py#145\" target=\"_blank\"><span style=\"color: #7f7f7f; text-decoration-color: #7f7f7f\">145</span></a>\n",
       "<span style=\"color: #7fbfbf; text-decoration-color: #7fbfbf\">                    </span>         r9_squiggle/test_read_31_619869_621419.squiggle.npy already       <span style=\"color: #7f7f7f; text-decoration-color: #7f7f7f\">                    </span>\n",
       "<span style=\"color: #7fbfbf; text-decoration-color: #7fbfbf\">                    </span>         exists. Skipping<span style=\"color: #808000; text-decoration-color: #808000\">...</span>                                               <span style=\"color: #7f7f7f; text-decoration-color: #7f7f7f\">                    </span>\n",
       "</pre>\n"
      ],
      "text/plain": [
       "\u001b[2;36m                   \u001b[0m\u001b[2;36m \u001b[0m\u001b[31mWARNING \u001b[0m File with name                                                    \u001b]8;id=257790;file:///home/adoni5/Projects/Icarust_supplementary/notebooks/make_squiggle.py\u001b\\\u001b[2mmake_squiggle.py\u001b[0m\u001b]8;;\u001b\\\u001b[2m:\u001b[0m\u001b]8;id=350573;file:///home/adoni5/Projects/Icarust_supplementary/notebooks/make_squiggle.py#145\u001b\\\u001b[2m145\u001b[0m\u001b]8;;\u001b\\\n",
       "\u001b[2;36m                    \u001b[0m         r9_squiggle/test_read_31_619869_621419.squiggle.npy already       \u001b[2m                    \u001b[0m\n",
       "\u001b[2;36m                    \u001b[0m         exists. Skipping\u001b[33m...\u001b[0m                                               \u001b[2m                    \u001b[0m\n"
      ]
     },
     "metadata": {},
     "output_type": "display_data"
    },
    {
     "data": {
      "text/html": [
       "<pre style=\"white-space:pre;overflow-x:auto;line-height:normal;font-family:Menlo,'DejaVu Sans Mono',consolas,'Courier New',monospace\"><span style=\"color: #7fbfbf; text-decoration-color: #7fbfbf\">                    </span><span style=\"color: #000080; text-decoration-color: #000080\">INFO    </span> Generating squiggle for test_read_32_991188_992788                <a href=\"file:///home/adoni5/Projects/Icarust_supplementary/notebooks/make_squiggle.py\" target=\"_blank\"><span style=\"color: #7f7f7f; text-decoration-color: #7f7f7f\">make_squiggle.py</span></a><span style=\"color: #7f7f7f; text-decoration-color: #7f7f7f\">:</span><a href=\"file:///home/adoni5/Projects/Icarust_supplementary/notebooks/make_squiggle.py#120\" target=\"_blank\"><span style=\"color: #7f7f7f; text-decoration-color: #7f7f7f\">120</span></a>\n",
       "</pre>\n"
      ],
      "text/plain": [
       "\u001b[2;36m                   \u001b[0m\u001b[2;36m \u001b[0m\u001b[34mINFO    \u001b[0m Generating squiggle for test_read_32_991188_992788                \u001b]8;id=846796;file:///home/adoni5/Projects/Icarust_supplementary/notebooks/make_squiggle.py\u001b\\\u001b[2mmake_squiggle.py\u001b[0m\u001b]8;;\u001b\\\u001b[2m:\u001b[0m\u001b]8;id=624912;file:///home/adoni5/Projects/Icarust_supplementary/notebooks/make_squiggle.py#120\u001b\\\u001b[2m120\u001b[0m\u001b]8;;\u001b\\\n"
      ]
     },
     "metadata": {},
     "output_type": "display_data"
    },
    {
     "data": {
      "text/html": [
       "<pre style=\"white-space:pre;overflow-x:auto;line-height:normal;font-family:Menlo,'DejaVu Sans Mono',consolas,'Courier New',monospace\"><span style=\"color: #7fbfbf; text-decoration-color: #7fbfbf\">                    </span><span style=\"color: #000080; text-decoration-color: #000080\">INFO    </span> Invalid characters found in sequence of                           <a href=\"file:///home/adoni5/Projects/Icarust_supplementary/notebooks/make_squiggle.py\" target=\"_blank\"><span style=\"color: #7f7f7f; text-decoration-color: #7f7f7f\">make_squiggle.py</span></a><span style=\"color: #7f7f7f; text-decoration-color: #7f7f7f\">:</span><a href=\"file:///home/adoni5/Projects/Icarust_supplementary/notebooks/make_squiggle.py#122\" target=\"_blank\"><span style=\"color: #7f7f7f; text-decoration-color: #7f7f7f\">122</span></a>\n",
       "<span style=\"color: #7fbfbf; text-decoration-color: #7fbfbf\">                    </span>         test_read_32_991188_992788, removing them                         <span style=\"color: #7f7f7f; text-decoration-color: #7f7f7f\">                    </span>\n",
       "</pre>\n"
      ],
      "text/plain": [
       "\u001b[2;36m                   \u001b[0m\u001b[2;36m \u001b[0m\u001b[34mINFO    \u001b[0m Invalid characters found in sequence of                           \u001b]8;id=847525;file:///home/adoni5/Projects/Icarust_supplementary/notebooks/make_squiggle.py\u001b\\\u001b[2mmake_squiggle.py\u001b[0m\u001b]8;;\u001b\\\u001b[2m:\u001b[0m\u001b]8;id=255600;file:///home/adoni5/Projects/Icarust_supplementary/notebooks/make_squiggle.py#122\u001b\\\u001b[2m122\u001b[0m\u001b]8;;\u001b\\\n",
       "\u001b[2;36m                    \u001b[0m         test_read_32_991188_992788, removing them                         \u001b[2m                    \u001b[0m\n"
      ]
     },
     "metadata": {},
     "output_type": "display_data"
    },
    {
     "data": {
      "text/html": [
       "<pre style=\"white-space:pre;overflow-x:auto;line-height:normal;font-family:Menlo,'DejaVu Sans Mono',consolas,'Courier New',monospace\"><span style=\"color: #7fbfbf; text-decoration-color: #7fbfbf\">                    </span><span style=\"color: #800000; text-decoration-color: #800000\">WARNING </span> File with name                                                    <a href=\"file:///home/adoni5/Projects/Icarust_supplementary/notebooks/make_squiggle.py\" target=\"_blank\"><span style=\"color: #7f7f7f; text-decoration-color: #7f7f7f\">make_squiggle.py</span></a><span style=\"color: #7f7f7f; text-decoration-color: #7f7f7f\">:</span><a href=\"file:///home/adoni5/Projects/Icarust_supplementary/notebooks/make_squiggle.py#145\" target=\"_blank\"><span style=\"color: #7f7f7f; text-decoration-color: #7f7f7f\">145</span></a>\n",
       "<span style=\"color: #7fbfbf; text-decoration-color: #7fbfbf\">                    </span>         r9_squiggle/test_read_32_991188_992788.squiggle.npy already       <span style=\"color: #7f7f7f; text-decoration-color: #7f7f7f\">                    </span>\n",
       "<span style=\"color: #7fbfbf; text-decoration-color: #7fbfbf\">                    </span>         exists. Skipping<span style=\"color: #808000; text-decoration-color: #808000\">...</span>                                               <span style=\"color: #7f7f7f; text-decoration-color: #7f7f7f\">                    </span>\n",
       "</pre>\n"
      ],
      "text/plain": [
       "\u001b[2;36m                   \u001b[0m\u001b[2;36m \u001b[0m\u001b[31mWARNING \u001b[0m File with name                                                    \u001b]8;id=909698;file:///home/adoni5/Projects/Icarust_supplementary/notebooks/make_squiggle.py\u001b\\\u001b[2mmake_squiggle.py\u001b[0m\u001b]8;;\u001b\\\u001b[2m:\u001b[0m\u001b]8;id=74361;file:///home/adoni5/Projects/Icarust_supplementary/notebooks/make_squiggle.py#145\u001b\\\u001b[2m145\u001b[0m\u001b]8;;\u001b\\\n",
       "\u001b[2;36m                    \u001b[0m         r9_squiggle/test_read_32_991188_992788.squiggle.npy already       \u001b[2m                    \u001b[0m\n",
       "\u001b[2;36m                    \u001b[0m         exists. Skipping\u001b[33m...\u001b[0m                                               \u001b[2m                    \u001b[0m\n"
      ]
     },
     "metadata": {},
     "output_type": "display_data"
    },
    {
     "data": {
      "text/html": [
       "<pre style=\"white-space:pre;overflow-x:auto;line-height:normal;font-family:Menlo,'DejaVu Sans Mono',consolas,'Courier New',monospace\"><span style=\"color: #7fbfbf; text-decoration-color: #7fbfbf\">                    </span><span style=\"color: #000080; text-decoration-color: #000080\">INFO    </span> Generating squiggle for test_read_33_107192_108842                <a href=\"file:///home/adoni5/Projects/Icarust_supplementary/notebooks/make_squiggle.py\" target=\"_blank\"><span style=\"color: #7f7f7f; text-decoration-color: #7f7f7f\">make_squiggle.py</span></a><span style=\"color: #7f7f7f; text-decoration-color: #7f7f7f\">:</span><a href=\"file:///home/adoni5/Projects/Icarust_supplementary/notebooks/make_squiggle.py#120\" target=\"_blank\"><span style=\"color: #7f7f7f; text-decoration-color: #7f7f7f\">120</span></a>\n",
       "</pre>\n"
      ],
      "text/plain": [
       "\u001b[2;36m                   \u001b[0m\u001b[2;36m \u001b[0m\u001b[34mINFO    \u001b[0m Generating squiggle for test_read_33_107192_108842                \u001b]8;id=10398;file:///home/adoni5/Projects/Icarust_supplementary/notebooks/make_squiggle.py\u001b\\\u001b[2mmake_squiggle.py\u001b[0m\u001b]8;;\u001b\\\u001b[2m:\u001b[0m\u001b]8;id=304948;file:///home/adoni5/Projects/Icarust_supplementary/notebooks/make_squiggle.py#120\u001b\\\u001b[2m120\u001b[0m\u001b]8;;\u001b\\\n"
      ]
     },
     "metadata": {},
     "output_type": "display_data"
    },
    {
     "data": {
      "text/html": [
       "<pre style=\"white-space:pre;overflow-x:auto;line-height:normal;font-family:Menlo,'DejaVu Sans Mono',consolas,'Courier New',monospace\"><span style=\"color: #7fbfbf; text-decoration-color: #7fbfbf\">                    </span><span style=\"color: #000080; text-decoration-color: #000080\">INFO    </span> Invalid characters found in sequence of                           <a href=\"file:///home/adoni5/Projects/Icarust_supplementary/notebooks/make_squiggle.py\" target=\"_blank\"><span style=\"color: #7f7f7f; text-decoration-color: #7f7f7f\">make_squiggle.py</span></a><span style=\"color: #7f7f7f; text-decoration-color: #7f7f7f\">:</span><a href=\"file:///home/adoni5/Projects/Icarust_supplementary/notebooks/make_squiggle.py#122\" target=\"_blank\"><span style=\"color: #7f7f7f; text-decoration-color: #7f7f7f\">122</span></a>\n",
       "<span style=\"color: #7fbfbf; text-decoration-color: #7fbfbf\">                    </span>         test_read_33_107192_108842, removing them                         <span style=\"color: #7f7f7f; text-decoration-color: #7f7f7f\">                    </span>\n",
       "</pre>\n"
      ],
      "text/plain": [
       "\u001b[2;36m                   \u001b[0m\u001b[2;36m \u001b[0m\u001b[34mINFO    \u001b[0m Invalid characters found in sequence of                           \u001b]8;id=491608;file:///home/adoni5/Projects/Icarust_supplementary/notebooks/make_squiggle.py\u001b\\\u001b[2mmake_squiggle.py\u001b[0m\u001b]8;;\u001b\\\u001b[2m:\u001b[0m\u001b]8;id=904553;file:///home/adoni5/Projects/Icarust_supplementary/notebooks/make_squiggle.py#122\u001b\\\u001b[2m122\u001b[0m\u001b]8;;\u001b\\\n",
       "\u001b[2;36m                    \u001b[0m         test_read_33_107192_108842, removing them                         \u001b[2m                    \u001b[0m\n"
      ]
     },
     "metadata": {},
     "output_type": "display_data"
    },
    {
     "data": {
      "text/html": [
       "<pre style=\"white-space:pre;overflow-x:auto;line-height:normal;font-family:Menlo,'DejaVu Sans Mono',consolas,'Courier New',monospace\"><span style=\"color: #7fbfbf; text-decoration-color: #7fbfbf\">                    </span><span style=\"color: #800000; text-decoration-color: #800000\">WARNING </span> File with name                                                    <a href=\"file:///home/adoni5/Projects/Icarust_supplementary/notebooks/make_squiggle.py\" target=\"_blank\"><span style=\"color: #7f7f7f; text-decoration-color: #7f7f7f\">make_squiggle.py</span></a><span style=\"color: #7f7f7f; text-decoration-color: #7f7f7f\">:</span><a href=\"file:///home/adoni5/Projects/Icarust_supplementary/notebooks/make_squiggle.py#145\" target=\"_blank\"><span style=\"color: #7f7f7f; text-decoration-color: #7f7f7f\">145</span></a>\n",
       "<span style=\"color: #7fbfbf; text-decoration-color: #7fbfbf\">                    </span>         r9_squiggle/test_read_33_107192_108842.squiggle.npy already       <span style=\"color: #7f7f7f; text-decoration-color: #7f7f7f\">                    </span>\n",
       "<span style=\"color: #7fbfbf; text-decoration-color: #7fbfbf\">                    </span>         exists. Skipping<span style=\"color: #808000; text-decoration-color: #808000\">...</span>                                               <span style=\"color: #7f7f7f; text-decoration-color: #7f7f7f\">                    </span>\n",
       "</pre>\n"
      ],
      "text/plain": [
       "\u001b[2;36m                   \u001b[0m\u001b[2;36m \u001b[0m\u001b[31mWARNING \u001b[0m File with name                                                    \u001b]8;id=815525;file:///home/adoni5/Projects/Icarust_supplementary/notebooks/make_squiggle.py\u001b\\\u001b[2mmake_squiggle.py\u001b[0m\u001b]8;;\u001b\\\u001b[2m:\u001b[0m\u001b]8;id=833600;file:///home/adoni5/Projects/Icarust_supplementary/notebooks/make_squiggle.py#145\u001b\\\u001b[2m145\u001b[0m\u001b]8;;\u001b\\\n",
       "\u001b[2;36m                    \u001b[0m         r9_squiggle/test_read_33_107192_108842.squiggle.npy already       \u001b[2m                    \u001b[0m\n",
       "\u001b[2;36m                    \u001b[0m         exists. Skipping\u001b[33m...\u001b[0m                                               \u001b[2m                    \u001b[0m\n"
      ]
     },
     "metadata": {},
     "output_type": "display_data"
    },
    {
     "data": {
      "text/html": [
       "<pre style=\"white-space:pre;overflow-x:auto;line-height:normal;font-family:Menlo,'DejaVu Sans Mono',consolas,'Courier New',monospace\"><span style=\"color: #7fbfbf; text-decoration-color: #7fbfbf\">                    </span><span style=\"color: #000080; text-decoration-color: #000080\">INFO    </span> Generating squiggle for test_read_34_945215_946915                <a href=\"file:///home/adoni5/Projects/Icarust_supplementary/notebooks/make_squiggle.py\" target=\"_blank\"><span style=\"color: #7f7f7f; text-decoration-color: #7f7f7f\">make_squiggle.py</span></a><span style=\"color: #7f7f7f; text-decoration-color: #7f7f7f\">:</span><a href=\"file:///home/adoni5/Projects/Icarust_supplementary/notebooks/make_squiggle.py#120\" target=\"_blank\"><span style=\"color: #7f7f7f; text-decoration-color: #7f7f7f\">120</span></a>\n",
       "</pre>\n"
      ],
      "text/plain": [
       "\u001b[2;36m                   \u001b[0m\u001b[2;36m \u001b[0m\u001b[34mINFO    \u001b[0m Generating squiggle for test_read_34_945215_946915                \u001b]8;id=697562;file:///home/adoni5/Projects/Icarust_supplementary/notebooks/make_squiggle.py\u001b\\\u001b[2mmake_squiggle.py\u001b[0m\u001b]8;;\u001b\\\u001b[2m:\u001b[0m\u001b]8;id=181657;file:///home/adoni5/Projects/Icarust_supplementary/notebooks/make_squiggle.py#120\u001b\\\u001b[2m120\u001b[0m\u001b]8;;\u001b\\\n"
      ]
     },
     "metadata": {},
     "output_type": "display_data"
    },
    {
     "data": {
      "text/html": [
       "<pre style=\"white-space:pre;overflow-x:auto;line-height:normal;font-family:Menlo,'DejaVu Sans Mono',consolas,'Courier New',monospace\"><span style=\"color: #7fbfbf; text-decoration-color: #7fbfbf\">                    </span><span style=\"color: #000080; text-decoration-color: #000080\">INFO    </span> Invalid characters found in sequence of                           <a href=\"file:///home/adoni5/Projects/Icarust_supplementary/notebooks/make_squiggle.py\" target=\"_blank\"><span style=\"color: #7f7f7f; text-decoration-color: #7f7f7f\">make_squiggle.py</span></a><span style=\"color: #7f7f7f; text-decoration-color: #7f7f7f\">:</span><a href=\"file:///home/adoni5/Projects/Icarust_supplementary/notebooks/make_squiggle.py#122\" target=\"_blank\"><span style=\"color: #7f7f7f; text-decoration-color: #7f7f7f\">122</span></a>\n",
       "<span style=\"color: #7fbfbf; text-decoration-color: #7fbfbf\">                    </span>         test_read_34_945215_946915, removing them                         <span style=\"color: #7f7f7f; text-decoration-color: #7f7f7f\">                    </span>\n",
       "</pre>\n"
      ],
      "text/plain": [
       "\u001b[2;36m                   \u001b[0m\u001b[2;36m \u001b[0m\u001b[34mINFO    \u001b[0m Invalid characters found in sequence of                           \u001b]8;id=861457;file:///home/adoni5/Projects/Icarust_supplementary/notebooks/make_squiggle.py\u001b\\\u001b[2mmake_squiggle.py\u001b[0m\u001b]8;;\u001b\\\u001b[2m:\u001b[0m\u001b]8;id=907590;file:///home/adoni5/Projects/Icarust_supplementary/notebooks/make_squiggle.py#122\u001b\\\u001b[2m122\u001b[0m\u001b]8;;\u001b\\\n",
       "\u001b[2;36m                    \u001b[0m         test_read_34_945215_946915, removing them                         \u001b[2m                    \u001b[0m\n"
      ]
     },
     "metadata": {},
     "output_type": "display_data"
    },
    {
     "data": {
      "text/html": [
       "<pre style=\"white-space:pre;overflow-x:auto;line-height:normal;font-family:Menlo,'DejaVu Sans Mono',consolas,'Courier New',monospace\"><span style=\"color: #7fbfbf; text-decoration-color: #7fbfbf\">                    </span><span style=\"color: #800000; text-decoration-color: #800000\">WARNING </span> File with name                                                    <a href=\"file:///home/adoni5/Projects/Icarust_supplementary/notebooks/make_squiggle.py\" target=\"_blank\"><span style=\"color: #7f7f7f; text-decoration-color: #7f7f7f\">make_squiggle.py</span></a><span style=\"color: #7f7f7f; text-decoration-color: #7f7f7f\">:</span><a href=\"file:///home/adoni5/Projects/Icarust_supplementary/notebooks/make_squiggle.py#145\" target=\"_blank\"><span style=\"color: #7f7f7f; text-decoration-color: #7f7f7f\">145</span></a>\n",
       "<span style=\"color: #7fbfbf; text-decoration-color: #7fbfbf\">                    </span>         r9_squiggle/test_read_34_945215_946915.squiggle.npy already       <span style=\"color: #7f7f7f; text-decoration-color: #7f7f7f\">                    </span>\n",
       "<span style=\"color: #7fbfbf; text-decoration-color: #7fbfbf\">                    </span>         exists. Skipping<span style=\"color: #808000; text-decoration-color: #808000\">...</span>                                               <span style=\"color: #7f7f7f; text-decoration-color: #7f7f7f\">                    </span>\n",
       "</pre>\n"
      ],
      "text/plain": [
       "\u001b[2;36m                   \u001b[0m\u001b[2;36m \u001b[0m\u001b[31mWARNING \u001b[0m File with name                                                    \u001b]8;id=539343;file:///home/adoni5/Projects/Icarust_supplementary/notebooks/make_squiggle.py\u001b\\\u001b[2mmake_squiggle.py\u001b[0m\u001b]8;;\u001b\\\u001b[2m:\u001b[0m\u001b]8;id=875235;file:///home/adoni5/Projects/Icarust_supplementary/notebooks/make_squiggle.py#145\u001b\\\u001b[2m145\u001b[0m\u001b]8;;\u001b\\\n",
       "\u001b[2;36m                    \u001b[0m         r9_squiggle/test_read_34_945215_946915.squiggle.npy already       \u001b[2m                    \u001b[0m\n",
       "\u001b[2;36m                    \u001b[0m         exists. Skipping\u001b[33m...\u001b[0m                                               \u001b[2m                    \u001b[0m\n"
      ]
     },
     "metadata": {},
     "output_type": "display_data"
    },
    {
     "data": {
      "text/html": [
       "<pre style=\"white-space:pre;overflow-x:auto;line-height:normal;font-family:Menlo,'DejaVu Sans Mono',consolas,'Courier New',monospace\"><span style=\"color: #7fbfbf; text-decoration-color: #7fbfbf\">                    </span><span style=\"color: #000080; text-decoration-color: #000080\">INFO    </span> Generating squiggle for test_read_35_332849_334599                <a href=\"file:///home/adoni5/Projects/Icarust_supplementary/notebooks/make_squiggle.py\" target=\"_blank\"><span style=\"color: #7f7f7f; text-decoration-color: #7f7f7f\">make_squiggle.py</span></a><span style=\"color: #7f7f7f; text-decoration-color: #7f7f7f\">:</span><a href=\"file:///home/adoni5/Projects/Icarust_supplementary/notebooks/make_squiggle.py#120\" target=\"_blank\"><span style=\"color: #7f7f7f; text-decoration-color: #7f7f7f\">120</span></a>\n",
       "</pre>\n"
      ],
      "text/plain": [
       "\u001b[2;36m                   \u001b[0m\u001b[2;36m \u001b[0m\u001b[34mINFO    \u001b[0m Generating squiggle for test_read_35_332849_334599                \u001b]8;id=937174;file:///home/adoni5/Projects/Icarust_supplementary/notebooks/make_squiggle.py\u001b\\\u001b[2mmake_squiggle.py\u001b[0m\u001b]8;;\u001b\\\u001b[2m:\u001b[0m\u001b]8;id=216783;file:///home/adoni5/Projects/Icarust_supplementary/notebooks/make_squiggle.py#120\u001b\\\u001b[2m120\u001b[0m\u001b]8;;\u001b\\\n"
      ]
     },
     "metadata": {},
     "output_type": "display_data"
    },
    {
     "data": {
      "text/html": [
       "<pre style=\"white-space:pre;overflow-x:auto;line-height:normal;font-family:Menlo,'DejaVu Sans Mono',consolas,'Courier New',monospace\"><span style=\"color: #7fbfbf; text-decoration-color: #7fbfbf\">                    </span><span style=\"color: #000080; text-decoration-color: #000080\">INFO    </span> Invalid characters found in sequence of                           <a href=\"file:///home/adoni5/Projects/Icarust_supplementary/notebooks/make_squiggle.py\" target=\"_blank\"><span style=\"color: #7f7f7f; text-decoration-color: #7f7f7f\">make_squiggle.py</span></a><span style=\"color: #7f7f7f; text-decoration-color: #7f7f7f\">:</span><a href=\"file:///home/adoni5/Projects/Icarust_supplementary/notebooks/make_squiggle.py#122\" target=\"_blank\"><span style=\"color: #7f7f7f; text-decoration-color: #7f7f7f\">122</span></a>\n",
       "<span style=\"color: #7fbfbf; text-decoration-color: #7fbfbf\">                    </span>         test_read_35_332849_334599, removing them                         <span style=\"color: #7f7f7f; text-decoration-color: #7f7f7f\">                    </span>\n",
       "</pre>\n"
      ],
      "text/plain": [
       "\u001b[2;36m                   \u001b[0m\u001b[2;36m \u001b[0m\u001b[34mINFO    \u001b[0m Invalid characters found in sequence of                           \u001b]8;id=33302;file:///home/adoni5/Projects/Icarust_supplementary/notebooks/make_squiggle.py\u001b\\\u001b[2mmake_squiggle.py\u001b[0m\u001b]8;;\u001b\\\u001b[2m:\u001b[0m\u001b]8;id=817620;file:///home/adoni5/Projects/Icarust_supplementary/notebooks/make_squiggle.py#122\u001b\\\u001b[2m122\u001b[0m\u001b]8;;\u001b\\\n",
       "\u001b[2;36m                    \u001b[0m         test_read_35_332849_334599, removing them                         \u001b[2m                    \u001b[0m\n"
      ]
     },
     "metadata": {},
     "output_type": "display_data"
    },
    {
     "data": {
      "text/html": [
       "<pre style=\"white-space:pre;overflow-x:auto;line-height:normal;font-family:Menlo,'DejaVu Sans Mono',consolas,'Courier New',monospace\"><span style=\"color: #7fbfbf; text-decoration-color: #7fbfbf\">                    </span><span style=\"color: #800000; text-decoration-color: #800000\">WARNING </span> File with name                                                    <a href=\"file:///home/adoni5/Projects/Icarust_supplementary/notebooks/make_squiggle.py\" target=\"_blank\"><span style=\"color: #7f7f7f; text-decoration-color: #7f7f7f\">make_squiggle.py</span></a><span style=\"color: #7f7f7f; text-decoration-color: #7f7f7f\">:</span><a href=\"file:///home/adoni5/Projects/Icarust_supplementary/notebooks/make_squiggle.py#145\" target=\"_blank\"><span style=\"color: #7f7f7f; text-decoration-color: #7f7f7f\">145</span></a>\n",
       "<span style=\"color: #7fbfbf; text-decoration-color: #7fbfbf\">                    </span>         r9_squiggle/test_read_35_332849_334599.squiggle.npy already       <span style=\"color: #7f7f7f; text-decoration-color: #7f7f7f\">                    </span>\n",
       "<span style=\"color: #7fbfbf; text-decoration-color: #7fbfbf\">                    </span>         exists. Skipping<span style=\"color: #808000; text-decoration-color: #808000\">...</span>                                               <span style=\"color: #7f7f7f; text-decoration-color: #7f7f7f\">                    </span>\n",
       "</pre>\n"
      ],
      "text/plain": [
       "\u001b[2;36m                   \u001b[0m\u001b[2;36m \u001b[0m\u001b[31mWARNING \u001b[0m File with name                                                    \u001b]8;id=842904;file:///home/adoni5/Projects/Icarust_supplementary/notebooks/make_squiggle.py\u001b\\\u001b[2mmake_squiggle.py\u001b[0m\u001b]8;;\u001b\\\u001b[2m:\u001b[0m\u001b]8;id=704851;file:///home/adoni5/Projects/Icarust_supplementary/notebooks/make_squiggle.py#145\u001b\\\u001b[2m145\u001b[0m\u001b]8;;\u001b\\\n",
       "\u001b[2;36m                    \u001b[0m         r9_squiggle/test_read_35_332849_334599.squiggle.npy already       \u001b[2m                    \u001b[0m\n",
       "\u001b[2;36m                    \u001b[0m         exists. Skipping\u001b[33m...\u001b[0m                                               \u001b[2m                    \u001b[0m\n"
      ]
     },
     "metadata": {},
     "output_type": "display_data"
    },
    {
     "data": {
      "text/html": [
       "<pre style=\"white-space:pre;overflow-x:auto;line-height:normal;font-family:Menlo,'DejaVu Sans Mono',consolas,'Courier New',monospace\"><span style=\"color: #7fbfbf; text-decoration-color: #7fbfbf\">                    </span><span style=\"color: #000080; text-decoration-color: #000080\">INFO    </span> Generating squiggle for test_read_36_681098_682898                <a href=\"file:///home/adoni5/Projects/Icarust_supplementary/notebooks/make_squiggle.py\" target=\"_blank\"><span style=\"color: #7f7f7f; text-decoration-color: #7f7f7f\">make_squiggle.py</span></a><span style=\"color: #7f7f7f; text-decoration-color: #7f7f7f\">:</span><a href=\"file:///home/adoni5/Projects/Icarust_supplementary/notebooks/make_squiggle.py#120\" target=\"_blank\"><span style=\"color: #7f7f7f; text-decoration-color: #7f7f7f\">120</span></a>\n",
       "</pre>\n"
      ],
      "text/plain": [
       "\u001b[2;36m                   \u001b[0m\u001b[2;36m \u001b[0m\u001b[34mINFO    \u001b[0m Generating squiggle for test_read_36_681098_682898                \u001b]8;id=782431;file:///home/adoni5/Projects/Icarust_supplementary/notebooks/make_squiggle.py\u001b\\\u001b[2mmake_squiggle.py\u001b[0m\u001b]8;;\u001b\\\u001b[2m:\u001b[0m\u001b]8;id=723092;file:///home/adoni5/Projects/Icarust_supplementary/notebooks/make_squiggle.py#120\u001b\\\u001b[2m120\u001b[0m\u001b]8;;\u001b\\\n"
      ]
     },
     "metadata": {},
     "output_type": "display_data"
    },
    {
     "data": {
      "text/html": [
       "<pre style=\"white-space:pre;overflow-x:auto;line-height:normal;font-family:Menlo,'DejaVu Sans Mono',consolas,'Courier New',monospace\"><span style=\"color: #7fbfbf; text-decoration-color: #7fbfbf\">[12/21/23 13:44:24] </span><span style=\"color: #000080; text-decoration-color: #000080\">INFO    </span> Invalid characters found in sequence of                           <a href=\"file:///home/adoni5/Projects/Icarust_supplementary/notebooks/make_squiggle.py\" target=\"_blank\"><span style=\"color: #7f7f7f; text-decoration-color: #7f7f7f\">make_squiggle.py</span></a><span style=\"color: #7f7f7f; text-decoration-color: #7f7f7f\">:</span><a href=\"file:///home/adoni5/Projects/Icarust_supplementary/notebooks/make_squiggle.py#122\" target=\"_blank\"><span style=\"color: #7f7f7f; text-decoration-color: #7f7f7f\">122</span></a>\n",
       "<span style=\"color: #7fbfbf; text-decoration-color: #7fbfbf\">                    </span>         test_read_36_681098_682898, removing them                         <span style=\"color: #7f7f7f; text-decoration-color: #7f7f7f\">                    </span>\n",
       "</pre>\n"
      ],
      "text/plain": [
       "\u001b[2;36m[12/21/23 13:44:24]\u001b[0m\u001b[2;36m \u001b[0m\u001b[34mINFO    \u001b[0m Invalid characters found in sequence of                           \u001b]8;id=563601;file:///home/adoni5/Projects/Icarust_supplementary/notebooks/make_squiggle.py\u001b\\\u001b[2mmake_squiggle.py\u001b[0m\u001b]8;;\u001b\\\u001b[2m:\u001b[0m\u001b]8;id=165566;file:///home/adoni5/Projects/Icarust_supplementary/notebooks/make_squiggle.py#122\u001b\\\u001b[2m122\u001b[0m\u001b]8;;\u001b\\\n",
       "\u001b[2;36m                    \u001b[0m         test_read_36_681098_682898, removing them                         \u001b[2m                    \u001b[0m\n"
      ]
     },
     "metadata": {},
     "output_type": "display_data"
    },
    {
     "data": {
      "text/html": [
       "<pre style=\"white-space:pre;overflow-x:auto;line-height:normal;font-family:Menlo,'DejaVu Sans Mono',consolas,'Courier New',monospace\"><span style=\"color: #7fbfbf; text-decoration-color: #7fbfbf\">                    </span><span style=\"color: #800000; text-decoration-color: #800000\">WARNING </span> File with name                                                    <a href=\"file:///home/adoni5/Projects/Icarust_supplementary/notebooks/make_squiggle.py\" target=\"_blank\"><span style=\"color: #7f7f7f; text-decoration-color: #7f7f7f\">make_squiggle.py</span></a><span style=\"color: #7f7f7f; text-decoration-color: #7f7f7f\">:</span><a href=\"file:///home/adoni5/Projects/Icarust_supplementary/notebooks/make_squiggle.py#145\" target=\"_blank\"><span style=\"color: #7f7f7f; text-decoration-color: #7f7f7f\">145</span></a>\n",
       "<span style=\"color: #7fbfbf; text-decoration-color: #7fbfbf\">                    </span>         r9_squiggle/test_read_36_681098_682898.squiggle.npy already       <span style=\"color: #7f7f7f; text-decoration-color: #7f7f7f\">                    </span>\n",
       "<span style=\"color: #7fbfbf; text-decoration-color: #7fbfbf\">                    </span>         exists. Skipping<span style=\"color: #808000; text-decoration-color: #808000\">...</span>                                               <span style=\"color: #7f7f7f; text-decoration-color: #7f7f7f\">                    </span>\n",
       "</pre>\n"
      ],
      "text/plain": [
       "\u001b[2;36m                   \u001b[0m\u001b[2;36m \u001b[0m\u001b[31mWARNING \u001b[0m File with name                                                    \u001b]8;id=259309;file:///home/adoni5/Projects/Icarust_supplementary/notebooks/make_squiggle.py\u001b\\\u001b[2mmake_squiggle.py\u001b[0m\u001b]8;;\u001b\\\u001b[2m:\u001b[0m\u001b]8;id=264856;file:///home/adoni5/Projects/Icarust_supplementary/notebooks/make_squiggle.py#145\u001b\\\u001b[2m145\u001b[0m\u001b]8;;\u001b\\\n",
       "\u001b[2;36m                    \u001b[0m         r9_squiggle/test_read_36_681098_682898.squiggle.npy already       \u001b[2m                    \u001b[0m\n",
       "\u001b[2;36m                    \u001b[0m         exists. Skipping\u001b[33m...\u001b[0m                                               \u001b[2m                    \u001b[0m\n"
      ]
     },
     "metadata": {},
     "output_type": "display_data"
    },
    {
     "data": {
      "text/html": [
       "<pre style=\"white-space:pre;overflow-x:auto;line-height:normal;font-family:Menlo,'DejaVu Sans Mono',consolas,'Courier New',monospace\"><span style=\"color: #7fbfbf; text-decoration-color: #7fbfbf\">                    </span><span style=\"color: #000080; text-decoration-color: #000080\">INFO    </span> Generating squiggle for test_read_37_567712_569562                <a href=\"file:///home/adoni5/Projects/Icarust_supplementary/notebooks/make_squiggle.py\" target=\"_blank\"><span style=\"color: #7f7f7f; text-decoration-color: #7f7f7f\">make_squiggle.py</span></a><span style=\"color: #7f7f7f; text-decoration-color: #7f7f7f\">:</span><a href=\"file:///home/adoni5/Projects/Icarust_supplementary/notebooks/make_squiggle.py#120\" target=\"_blank\"><span style=\"color: #7f7f7f; text-decoration-color: #7f7f7f\">120</span></a>\n",
       "</pre>\n"
      ],
      "text/plain": [
       "\u001b[2;36m                   \u001b[0m\u001b[2;36m \u001b[0m\u001b[34mINFO    \u001b[0m Generating squiggle for test_read_37_567712_569562                \u001b]8;id=847514;file:///home/adoni5/Projects/Icarust_supplementary/notebooks/make_squiggle.py\u001b\\\u001b[2mmake_squiggle.py\u001b[0m\u001b]8;;\u001b\\\u001b[2m:\u001b[0m\u001b]8;id=451067;file:///home/adoni5/Projects/Icarust_supplementary/notebooks/make_squiggle.py#120\u001b\\\u001b[2m120\u001b[0m\u001b]8;;\u001b\\\n"
      ]
     },
     "metadata": {},
     "output_type": "display_data"
    },
    {
     "data": {
      "text/html": [
       "<pre style=\"white-space:pre;overflow-x:auto;line-height:normal;font-family:Menlo,'DejaVu Sans Mono',consolas,'Courier New',monospace\"><span style=\"color: #7fbfbf; text-decoration-color: #7fbfbf\">                    </span><span style=\"color: #000080; text-decoration-color: #000080\">INFO    </span> Invalid characters found in sequence of                           <a href=\"file:///home/adoni5/Projects/Icarust_supplementary/notebooks/make_squiggle.py\" target=\"_blank\"><span style=\"color: #7f7f7f; text-decoration-color: #7f7f7f\">make_squiggle.py</span></a><span style=\"color: #7f7f7f; text-decoration-color: #7f7f7f\">:</span><a href=\"file:///home/adoni5/Projects/Icarust_supplementary/notebooks/make_squiggle.py#122\" target=\"_blank\"><span style=\"color: #7f7f7f; text-decoration-color: #7f7f7f\">122</span></a>\n",
       "<span style=\"color: #7fbfbf; text-decoration-color: #7fbfbf\">                    </span>         test_read_37_567712_569562, removing them                         <span style=\"color: #7f7f7f; text-decoration-color: #7f7f7f\">                    </span>\n",
       "</pre>\n"
      ],
      "text/plain": [
       "\u001b[2;36m                   \u001b[0m\u001b[2;36m \u001b[0m\u001b[34mINFO    \u001b[0m Invalid characters found in sequence of                           \u001b]8;id=892645;file:///home/adoni5/Projects/Icarust_supplementary/notebooks/make_squiggle.py\u001b\\\u001b[2mmake_squiggle.py\u001b[0m\u001b]8;;\u001b\\\u001b[2m:\u001b[0m\u001b]8;id=564196;file:///home/adoni5/Projects/Icarust_supplementary/notebooks/make_squiggle.py#122\u001b\\\u001b[2m122\u001b[0m\u001b]8;;\u001b\\\n",
       "\u001b[2;36m                    \u001b[0m         test_read_37_567712_569562, removing them                         \u001b[2m                    \u001b[0m\n"
      ]
     },
     "metadata": {},
     "output_type": "display_data"
    },
    {
     "data": {
      "text/html": [
       "<pre style=\"white-space:pre;overflow-x:auto;line-height:normal;font-family:Menlo,'DejaVu Sans Mono',consolas,'Courier New',monospace\"><span style=\"color: #7fbfbf; text-decoration-color: #7fbfbf\">                    </span><span style=\"color: #800000; text-decoration-color: #800000\">WARNING </span> File with name                                                    <a href=\"file:///home/adoni5/Projects/Icarust_supplementary/notebooks/make_squiggle.py\" target=\"_blank\"><span style=\"color: #7f7f7f; text-decoration-color: #7f7f7f\">make_squiggle.py</span></a><span style=\"color: #7f7f7f; text-decoration-color: #7f7f7f\">:</span><a href=\"file:///home/adoni5/Projects/Icarust_supplementary/notebooks/make_squiggle.py#145\" target=\"_blank\"><span style=\"color: #7f7f7f; text-decoration-color: #7f7f7f\">145</span></a>\n",
       "<span style=\"color: #7fbfbf; text-decoration-color: #7fbfbf\">                    </span>         r9_squiggle/test_read_37_567712_569562.squiggle.npy already       <span style=\"color: #7f7f7f; text-decoration-color: #7f7f7f\">                    </span>\n",
       "<span style=\"color: #7fbfbf; text-decoration-color: #7fbfbf\">                    </span>         exists. Skipping<span style=\"color: #808000; text-decoration-color: #808000\">...</span>                                               <span style=\"color: #7f7f7f; text-decoration-color: #7f7f7f\">                    </span>\n",
       "</pre>\n"
      ],
      "text/plain": [
       "\u001b[2;36m                   \u001b[0m\u001b[2;36m \u001b[0m\u001b[31mWARNING \u001b[0m File with name                                                    \u001b]8;id=355120;file:///home/adoni5/Projects/Icarust_supplementary/notebooks/make_squiggle.py\u001b\\\u001b[2mmake_squiggle.py\u001b[0m\u001b]8;;\u001b\\\u001b[2m:\u001b[0m\u001b]8;id=179849;file:///home/adoni5/Projects/Icarust_supplementary/notebooks/make_squiggle.py#145\u001b\\\u001b[2m145\u001b[0m\u001b]8;;\u001b\\\n",
       "\u001b[2;36m                    \u001b[0m         r9_squiggle/test_read_37_567712_569562.squiggle.npy already       \u001b[2m                    \u001b[0m\n",
       "\u001b[2;36m                    \u001b[0m         exists. Skipping\u001b[33m...\u001b[0m                                               \u001b[2m                    \u001b[0m\n"
      ]
     },
     "metadata": {},
     "output_type": "display_data"
    },
    {
     "data": {
      "text/html": [
       "<pre style=\"white-space:pre;overflow-x:auto;line-height:normal;font-family:Menlo,'DejaVu Sans Mono',consolas,'Courier New',monospace\"><span style=\"color: #7fbfbf; text-decoration-color: #7fbfbf\">                    </span><span style=\"color: #000080; text-decoration-color: #000080\">INFO    </span> Generating squiggle for test_read_38_984769_986669                <a href=\"file:///home/adoni5/Projects/Icarust_supplementary/notebooks/make_squiggle.py\" target=\"_blank\"><span style=\"color: #7f7f7f; text-decoration-color: #7f7f7f\">make_squiggle.py</span></a><span style=\"color: #7f7f7f; text-decoration-color: #7f7f7f\">:</span><a href=\"file:///home/adoni5/Projects/Icarust_supplementary/notebooks/make_squiggle.py#120\" target=\"_blank\"><span style=\"color: #7f7f7f; text-decoration-color: #7f7f7f\">120</span></a>\n",
       "</pre>\n"
      ],
      "text/plain": [
       "\u001b[2;36m                   \u001b[0m\u001b[2;36m \u001b[0m\u001b[34mINFO    \u001b[0m Generating squiggle for test_read_38_984769_986669                \u001b]8;id=677840;file:///home/adoni5/Projects/Icarust_supplementary/notebooks/make_squiggle.py\u001b\\\u001b[2mmake_squiggle.py\u001b[0m\u001b]8;;\u001b\\\u001b[2m:\u001b[0m\u001b]8;id=977943;file:///home/adoni5/Projects/Icarust_supplementary/notebooks/make_squiggle.py#120\u001b\\\u001b[2m120\u001b[0m\u001b]8;;\u001b\\\n"
      ]
     },
     "metadata": {},
     "output_type": "display_data"
    },
    {
     "data": {
      "text/html": [
       "<pre style=\"white-space:pre;overflow-x:auto;line-height:normal;font-family:Menlo,'DejaVu Sans Mono',consolas,'Courier New',monospace\"><span style=\"color: #7fbfbf; text-decoration-color: #7fbfbf\">                    </span><span style=\"color: #000080; text-decoration-color: #000080\">INFO    </span> Invalid characters found in sequence of                           <a href=\"file:///home/adoni5/Projects/Icarust_supplementary/notebooks/make_squiggle.py\" target=\"_blank\"><span style=\"color: #7f7f7f; text-decoration-color: #7f7f7f\">make_squiggle.py</span></a><span style=\"color: #7f7f7f; text-decoration-color: #7f7f7f\">:</span><a href=\"file:///home/adoni5/Projects/Icarust_supplementary/notebooks/make_squiggle.py#122\" target=\"_blank\"><span style=\"color: #7f7f7f; text-decoration-color: #7f7f7f\">122</span></a>\n",
       "<span style=\"color: #7fbfbf; text-decoration-color: #7fbfbf\">                    </span>         test_read_38_984769_986669, removing them                         <span style=\"color: #7f7f7f; text-decoration-color: #7f7f7f\">                    </span>\n",
       "</pre>\n"
      ],
      "text/plain": [
       "\u001b[2;36m                   \u001b[0m\u001b[2;36m \u001b[0m\u001b[34mINFO    \u001b[0m Invalid characters found in sequence of                           \u001b]8;id=725303;file:///home/adoni5/Projects/Icarust_supplementary/notebooks/make_squiggle.py\u001b\\\u001b[2mmake_squiggle.py\u001b[0m\u001b]8;;\u001b\\\u001b[2m:\u001b[0m\u001b]8;id=372185;file:///home/adoni5/Projects/Icarust_supplementary/notebooks/make_squiggle.py#122\u001b\\\u001b[2m122\u001b[0m\u001b]8;;\u001b\\\n",
       "\u001b[2;36m                    \u001b[0m         test_read_38_984769_986669, removing them                         \u001b[2m                    \u001b[0m\n"
      ]
     },
     "metadata": {},
     "output_type": "display_data"
    },
    {
     "data": {
      "text/html": [
       "<pre style=\"white-space:pre;overflow-x:auto;line-height:normal;font-family:Menlo,'DejaVu Sans Mono',consolas,'Courier New',monospace\"><span style=\"color: #7fbfbf; text-decoration-color: #7fbfbf\">                    </span><span style=\"color: #800000; text-decoration-color: #800000\">WARNING </span> File with name                                                    <a href=\"file:///home/adoni5/Projects/Icarust_supplementary/notebooks/make_squiggle.py\" target=\"_blank\"><span style=\"color: #7f7f7f; text-decoration-color: #7f7f7f\">make_squiggle.py</span></a><span style=\"color: #7f7f7f; text-decoration-color: #7f7f7f\">:</span><a href=\"file:///home/adoni5/Projects/Icarust_supplementary/notebooks/make_squiggle.py#145\" target=\"_blank\"><span style=\"color: #7f7f7f; text-decoration-color: #7f7f7f\">145</span></a>\n",
       "<span style=\"color: #7fbfbf; text-decoration-color: #7fbfbf\">                    </span>         r9_squiggle/test_read_38_984769_986669.squiggle.npy already       <span style=\"color: #7f7f7f; text-decoration-color: #7f7f7f\">                    </span>\n",
       "<span style=\"color: #7fbfbf; text-decoration-color: #7fbfbf\">                    </span>         exists. Skipping<span style=\"color: #808000; text-decoration-color: #808000\">...</span>                                               <span style=\"color: #7f7f7f; text-decoration-color: #7f7f7f\">                    </span>\n",
       "</pre>\n"
      ],
      "text/plain": [
       "\u001b[2;36m                   \u001b[0m\u001b[2;36m \u001b[0m\u001b[31mWARNING \u001b[0m File with name                                                    \u001b]8;id=145223;file:///home/adoni5/Projects/Icarust_supplementary/notebooks/make_squiggle.py\u001b\\\u001b[2mmake_squiggle.py\u001b[0m\u001b]8;;\u001b\\\u001b[2m:\u001b[0m\u001b]8;id=271699;file:///home/adoni5/Projects/Icarust_supplementary/notebooks/make_squiggle.py#145\u001b\\\u001b[2m145\u001b[0m\u001b]8;;\u001b\\\n",
       "\u001b[2;36m                    \u001b[0m         r9_squiggle/test_read_38_984769_986669.squiggle.npy already       \u001b[2m                    \u001b[0m\n",
       "\u001b[2;36m                    \u001b[0m         exists. Skipping\u001b[33m...\u001b[0m                                               \u001b[2m                    \u001b[0m\n"
      ]
     },
     "metadata": {},
     "output_type": "display_data"
    },
    {
     "data": {
      "text/html": [
       "<pre style=\"white-space:pre;overflow-x:auto;line-height:normal;font-family:Menlo,'DejaVu Sans Mono',consolas,'Courier New',monospace\"><span style=\"color: #7fbfbf; text-decoration-color: #7fbfbf\">                    </span><span style=\"color: #000080; text-decoration-color: #000080\">INFO    </span> Generating squiggle for test_read_39_924040_925990                <a href=\"file:///home/adoni5/Projects/Icarust_supplementary/notebooks/make_squiggle.py\" target=\"_blank\"><span style=\"color: #7f7f7f; text-decoration-color: #7f7f7f\">make_squiggle.py</span></a><span style=\"color: #7f7f7f; text-decoration-color: #7f7f7f\">:</span><a href=\"file:///home/adoni5/Projects/Icarust_supplementary/notebooks/make_squiggle.py#120\" target=\"_blank\"><span style=\"color: #7f7f7f; text-decoration-color: #7f7f7f\">120</span></a>\n",
       "</pre>\n"
      ],
      "text/plain": [
       "\u001b[2;36m                   \u001b[0m\u001b[2;36m \u001b[0m\u001b[34mINFO    \u001b[0m Generating squiggle for test_read_39_924040_925990                \u001b]8;id=420565;file:///home/adoni5/Projects/Icarust_supplementary/notebooks/make_squiggle.py\u001b\\\u001b[2mmake_squiggle.py\u001b[0m\u001b]8;;\u001b\\\u001b[2m:\u001b[0m\u001b]8;id=180537;file:///home/adoni5/Projects/Icarust_supplementary/notebooks/make_squiggle.py#120\u001b\\\u001b[2m120\u001b[0m\u001b]8;;\u001b\\\n"
      ]
     },
     "metadata": {},
     "output_type": "display_data"
    },
    {
     "data": {
      "text/html": [
       "<pre style=\"white-space:pre;overflow-x:auto;line-height:normal;font-family:Menlo,'DejaVu Sans Mono',consolas,'Courier New',monospace\"><span style=\"color: #7fbfbf; text-decoration-color: #7fbfbf\">                    </span><span style=\"color: #000080; text-decoration-color: #000080\">INFO    </span> Invalid characters found in sequence of                           <a href=\"file:///home/adoni5/Projects/Icarust_supplementary/notebooks/make_squiggle.py\" target=\"_blank\"><span style=\"color: #7f7f7f; text-decoration-color: #7f7f7f\">make_squiggle.py</span></a><span style=\"color: #7f7f7f; text-decoration-color: #7f7f7f\">:</span><a href=\"file:///home/adoni5/Projects/Icarust_supplementary/notebooks/make_squiggle.py#122\" target=\"_blank\"><span style=\"color: #7f7f7f; text-decoration-color: #7f7f7f\">122</span></a>\n",
       "<span style=\"color: #7fbfbf; text-decoration-color: #7fbfbf\">                    </span>         test_read_39_924040_925990, removing them                         <span style=\"color: #7f7f7f; text-decoration-color: #7f7f7f\">                    </span>\n",
       "</pre>\n"
      ],
      "text/plain": [
       "\u001b[2;36m                   \u001b[0m\u001b[2;36m \u001b[0m\u001b[34mINFO    \u001b[0m Invalid characters found in sequence of                           \u001b]8;id=7840;file:///home/adoni5/Projects/Icarust_supplementary/notebooks/make_squiggle.py\u001b\\\u001b[2mmake_squiggle.py\u001b[0m\u001b]8;;\u001b\\\u001b[2m:\u001b[0m\u001b]8;id=186204;file:///home/adoni5/Projects/Icarust_supplementary/notebooks/make_squiggle.py#122\u001b\\\u001b[2m122\u001b[0m\u001b]8;;\u001b\\\n",
       "\u001b[2;36m                    \u001b[0m         test_read_39_924040_925990, removing them                         \u001b[2m                    \u001b[0m\n"
      ]
     },
     "metadata": {},
     "output_type": "display_data"
    },
    {
     "data": {
      "text/html": [
       "<pre style=\"white-space:pre;overflow-x:auto;line-height:normal;font-family:Menlo,'DejaVu Sans Mono',consolas,'Courier New',monospace\"><span style=\"color: #7fbfbf; text-decoration-color: #7fbfbf\">                    </span><span style=\"color: #800000; text-decoration-color: #800000\">WARNING </span> File with name                                                    <a href=\"file:///home/adoni5/Projects/Icarust_supplementary/notebooks/make_squiggle.py\" target=\"_blank\"><span style=\"color: #7f7f7f; text-decoration-color: #7f7f7f\">make_squiggle.py</span></a><span style=\"color: #7f7f7f; text-decoration-color: #7f7f7f\">:</span><a href=\"file:///home/adoni5/Projects/Icarust_supplementary/notebooks/make_squiggle.py#145\" target=\"_blank\"><span style=\"color: #7f7f7f; text-decoration-color: #7f7f7f\">145</span></a>\n",
       "<span style=\"color: #7fbfbf; text-decoration-color: #7fbfbf\">                    </span>         r9_squiggle/test_read_39_924040_925990.squiggle.npy already       <span style=\"color: #7f7f7f; text-decoration-color: #7f7f7f\">                    </span>\n",
       "<span style=\"color: #7fbfbf; text-decoration-color: #7fbfbf\">                    </span>         exists. Skipping<span style=\"color: #808000; text-decoration-color: #808000\">...</span>                                               <span style=\"color: #7f7f7f; text-decoration-color: #7f7f7f\">                    </span>\n",
       "</pre>\n"
      ],
      "text/plain": [
       "\u001b[2;36m                   \u001b[0m\u001b[2;36m \u001b[0m\u001b[31mWARNING \u001b[0m File with name                                                    \u001b]8;id=680357;file:///home/adoni5/Projects/Icarust_supplementary/notebooks/make_squiggle.py\u001b\\\u001b[2mmake_squiggle.py\u001b[0m\u001b]8;;\u001b\\\u001b[2m:\u001b[0m\u001b]8;id=965146;file:///home/adoni5/Projects/Icarust_supplementary/notebooks/make_squiggle.py#145\u001b\\\u001b[2m145\u001b[0m\u001b]8;;\u001b\\\n",
       "\u001b[2;36m                    \u001b[0m         r9_squiggle/test_read_39_924040_925990.squiggle.npy already       \u001b[2m                    \u001b[0m\n",
       "\u001b[2;36m                    \u001b[0m         exists. Skipping\u001b[33m...\u001b[0m                                               \u001b[2m                    \u001b[0m\n"
      ]
     },
     "metadata": {},
     "output_type": "display_data"
    },
    {
     "data": {
      "text/html": [
       "<pre style=\"white-space:pre;overflow-x:auto;line-height:normal;font-family:Menlo,'DejaVu Sans Mono',consolas,'Courier New',monospace\"><span style=\"color: #7fbfbf; text-decoration-color: #7fbfbf\">                    </span><span style=\"color: #000080; text-decoration-color: #000080\">INFO    </span> Generating squiggle for test_read_40_399721_401721                <a href=\"file:///home/adoni5/Projects/Icarust_supplementary/notebooks/make_squiggle.py\" target=\"_blank\"><span style=\"color: #7f7f7f; text-decoration-color: #7f7f7f\">make_squiggle.py</span></a><span style=\"color: #7f7f7f; text-decoration-color: #7f7f7f\">:</span><a href=\"file:///home/adoni5/Projects/Icarust_supplementary/notebooks/make_squiggle.py#120\" target=\"_blank\"><span style=\"color: #7f7f7f; text-decoration-color: #7f7f7f\">120</span></a>\n",
       "</pre>\n"
      ],
      "text/plain": [
       "\u001b[2;36m                   \u001b[0m\u001b[2;36m \u001b[0m\u001b[34mINFO    \u001b[0m Generating squiggle for test_read_40_399721_401721                \u001b]8;id=766951;file:///home/adoni5/Projects/Icarust_supplementary/notebooks/make_squiggle.py\u001b\\\u001b[2mmake_squiggle.py\u001b[0m\u001b]8;;\u001b\\\u001b[2m:\u001b[0m\u001b]8;id=236695;file:///home/adoni5/Projects/Icarust_supplementary/notebooks/make_squiggle.py#120\u001b\\\u001b[2m120\u001b[0m\u001b]8;;\u001b\\\n"
      ]
     },
     "metadata": {},
     "output_type": "display_data"
    },
    {
     "data": {
      "text/html": [
       "<pre style=\"white-space:pre;overflow-x:auto;line-height:normal;font-family:Menlo,'DejaVu Sans Mono',consolas,'Courier New',monospace\"><span style=\"color: #7fbfbf; text-decoration-color: #7fbfbf\">                    </span><span style=\"color: #000080; text-decoration-color: #000080\">INFO    </span> Invalid characters found in sequence of                           <a href=\"file:///home/adoni5/Projects/Icarust_supplementary/notebooks/make_squiggle.py\" target=\"_blank\"><span style=\"color: #7f7f7f; text-decoration-color: #7f7f7f\">make_squiggle.py</span></a><span style=\"color: #7f7f7f; text-decoration-color: #7f7f7f\">:</span><a href=\"file:///home/adoni5/Projects/Icarust_supplementary/notebooks/make_squiggle.py#122\" target=\"_blank\"><span style=\"color: #7f7f7f; text-decoration-color: #7f7f7f\">122</span></a>\n",
       "<span style=\"color: #7fbfbf; text-decoration-color: #7fbfbf\">                    </span>         test_read_40_399721_401721, removing them                         <span style=\"color: #7f7f7f; text-decoration-color: #7f7f7f\">                    </span>\n",
       "</pre>\n"
      ],
      "text/plain": [
       "\u001b[2;36m                   \u001b[0m\u001b[2;36m \u001b[0m\u001b[34mINFO    \u001b[0m Invalid characters found in sequence of                           \u001b]8;id=502086;file:///home/adoni5/Projects/Icarust_supplementary/notebooks/make_squiggle.py\u001b\\\u001b[2mmake_squiggle.py\u001b[0m\u001b]8;;\u001b\\\u001b[2m:\u001b[0m\u001b]8;id=235994;file:///home/adoni5/Projects/Icarust_supplementary/notebooks/make_squiggle.py#122\u001b\\\u001b[2m122\u001b[0m\u001b]8;;\u001b\\\n",
       "\u001b[2;36m                    \u001b[0m         test_read_40_399721_401721, removing them                         \u001b[2m                    \u001b[0m\n"
      ]
     },
     "metadata": {},
     "output_type": "display_data"
    },
    {
     "data": {
      "text/html": [
       "<pre style=\"white-space:pre;overflow-x:auto;line-height:normal;font-family:Menlo,'DejaVu Sans Mono',consolas,'Courier New',monospace\"><span style=\"color: #7fbfbf; text-decoration-color: #7fbfbf\">                    </span><span style=\"color: #800000; text-decoration-color: #800000\">WARNING </span> File with name                                                    <a href=\"file:///home/adoni5/Projects/Icarust_supplementary/notebooks/make_squiggle.py\" target=\"_blank\"><span style=\"color: #7f7f7f; text-decoration-color: #7f7f7f\">make_squiggle.py</span></a><span style=\"color: #7f7f7f; text-decoration-color: #7f7f7f\">:</span><a href=\"file:///home/adoni5/Projects/Icarust_supplementary/notebooks/make_squiggle.py#145\" target=\"_blank\"><span style=\"color: #7f7f7f; text-decoration-color: #7f7f7f\">145</span></a>\n",
       "<span style=\"color: #7fbfbf; text-decoration-color: #7fbfbf\">                    </span>         r9_squiggle/test_read_40_399721_401721.squiggle.npy already       <span style=\"color: #7f7f7f; text-decoration-color: #7f7f7f\">                    </span>\n",
       "<span style=\"color: #7fbfbf; text-decoration-color: #7fbfbf\">                    </span>         exists. Skipping<span style=\"color: #808000; text-decoration-color: #808000\">...</span>                                               <span style=\"color: #7f7f7f; text-decoration-color: #7f7f7f\">                    </span>\n",
       "</pre>\n"
      ],
      "text/plain": [
       "\u001b[2;36m                   \u001b[0m\u001b[2;36m \u001b[0m\u001b[31mWARNING \u001b[0m File with name                                                    \u001b]8;id=640980;file:///home/adoni5/Projects/Icarust_supplementary/notebooks/make_squiggle.py\u001b\\\u001b[2mmake_squiggle.py\u001b[0m\u001b]8;;\u001b\\\u001b[2m:\u001b[0m\u001b]8;id=950994;file:///home/adoni5/Projects/Icarust_supplementary/notebooks/make_squiggle.py#145\u001b\\\u001b[2m145\u001b[0m\u001b]8;;\u001b\\\n",
       "\u001b[2;36m                    \u001b[0m         r9_squiggle/test_read_40_399721_401721.squiggle.npy already       \u001b[2m                    \u001b[0m\n",
       "\u001b[2;36m                    \u001b[0m         exists. Skipping\u001b[33m...\u001b[0m                                               \u001b[2m                    \u001b[0m\n"
      ]
     },
     "metadata": {},
     "output_type": "display_data"
    },
    {
     "data": {
      "text/html": [
       "<pre style=\"white-space:pre;overflow-x:auto;line-height:normal;font-family:Menlo,'DejaVu Sans Mono',consolas,'Courier New',monospace\"><span style=\"color: #7fbfbf; text-decoration-color: #7fbfbf\">                    </span><span style=\"color: #000080; text-decoration-color: #000080\">INFO    </span> Generating squiggle for test_read_41_719830_721880                <a href=\"file:///home/adoni5/Projects/Icarust_supplementary/notebooks/make_squiggle.py\" target=\"_blank\"><span style=\"color: #7f7f7f; text-decoration-color: #7f7f7f\">make_squiggle.py</span></a><span style=\"color: #7f7f7f; text-decoration-color: #7f7f7f\">:</span><a href=\"file:///home/adoni5/Projects/Icarust_supplementary/notebooks/make_squiggle.py#120\" target=\"_blank\"><span style=\"color: #7f7f7f; text-decoration-color: #7f7f7f\">120</span></a>\n",
       "</pre>\n"
      ],
      "text/plain": [
       "\u001b[2;36m                   \u001b[0m\u001b[2;36m \u001b[0m\u001b[34mINFO    \u001b[0m Generating squiggle for test_read_41_719830_721880                \u001b]8;id=677815;file:///home/adoni5/Projects/Icarust_supplementary/notebooks/make_squiggle.py\u001b\\\u001b[2mmake_squiggle.py\u001b[0m\u001b]8;;\u001b\\\u001b[2m:\u001b[0m\u001b]8;id=230130;file:///home/adoni5/Projects/Icarust_supplementary/notebooks/make_squiggle.py#120\u001b\\\u001b[2m120\u001b[0m\u001b]8;;\u001b\\\n"
      ]
     },
     "metadata": {},
     "output_type": "display_data"
    },
    {
     "data": {
      "text/html": [
       "<pre style=\"white-space:pre;overflow-x:auto;line-height:normal;font-family:Menlo,'DejaVu Sans Mono',consolas,'Courier New',monospace\"><span style=\"color: #7fbfbf; text-decoration-color: #7fbfbf\">                    </span><span style=\"color: #000080; text-decoration-color: #000080\">INFO    </span> Invalid characters found in sequence of                           <a href=\"file:///home/adoni5/Projects/Icarust_supplementary/notebooks/make_squiggle.py\" target=\"_blank\"><span style=\"color: #7f7f7f; text-decoration-color: #7f7f7f\">make_squiggle.py</span></a><span style=\"color: #7f7f7f; text-decoration-color: #7f7f7f\">:</span><a href=\"file:///home/adoni5/Projects/Icarust_supplementary/notebooks/make_squiggle.py#122\" target=\"_blank\"><span style=\"color: #7f7f7f; text-decoration-color: #7f7f7f\">122</span></a>\n",
       "<span style=\"color: #7fbfbf; text-decoration-color: #7fbfbf\">                    </span>         test_read_41_719830_721880, removing them                         <span style=\"color: #7f7f7f; text-decoration-color: #7f7f7f\">                    </span>\n",
       "</pre>\n"
      ],
      "text/plain": [
       "\u001b[2;36m                   \u001b[0m\u001b[2;36m \u001b[0m\u001b[34mINFO    \u001b[0m Invalid characters found in sequence of                           \u001b]8;id=536547;file:///home/adoni5/Projects/Icarust_supplementary/notebooks/make_squiggle.py\u001b\\\u001b[2mmake_squiggle.py\u001b[0m\u001b]8;;\u001b\\\u001b[2m:\u001b[0m\u001b]8;id=676633;file:///home/adoni5/Projects/Icarust_supplementary/notebooks/make_squiggle.py#122\u001b\\\u001b[2m122\u001b[0m\u001b]8;;\u001b\\\n",
       "\u001b[2;36m                    \u001b[0m         test_read_41_719830_721880, removing them                         \u001b[2m                    \u001b[0m\n"
      ]
     },
     "metadata": {},
     "output_type": "display_data"
    },
    {
     "data": {
      "text/html": [
       "<pre style=\"white-space:pre;overflow-x:auto;line-height:normal;font-family:Menlo,'DejaVu Sans Mono',consolas,'Courier New',monospace\"><span style=\"color: #7fbfbf; text-decoration-color: #7fbfbf\">                    </span><span style=\"color: #800000; text-decoration-color: #800000\">WARNING </span> File with name                                                    <a href=\"file:///home/adoni5/Projects/Icarust_supplementary/notebooks/make_squiggle.py\" target=\"_blank\"><span style=\"color: #7f7f7f; text-decoration-color: #7f7f7f\">make_squiggle.py</span></a><span style=\"color: #7f7f7f; text-decoration-color: #7f7f7f\">:</span><a href=\"file:///home/adoni5/Projects/Icarust_supplementary/notebooks/make_squiggle.py#145\" target=\"_blank\"><span style=\"color: #7f7f7f; text-decoration-color: #7f7f7f\">145</span></a>\n",
       "<span style=\"color: #7fbfbf; text-decoration-color: #7fbfbf\">                    </span>         r9_squiggle/test_read_41_719830_721880.squiggle.npy already       <span style=\"color: #7f7f7f; text-decoration-color: #7f7f7f\">                    </span>\n",
       "<span style=\"color: #7fbfbf; text-decoration-color: #7fbfbf\">                    </span>         exists. Skipping<span style=\"color: #808000; text-decoration-color: #808000\">...</span>                                               <span style=\"color: #7f7f7f; text-decoration-color: #7f7f7f\">                    </span>\n",
       "</pre>\n"
      ],
      "text/plain": [
       "\u001b[2;36m                   \u001b[0m\u001b[2;36m \u001b[0m\u001b[31mWARNING \u001b[0m File with name                                                    \u001b]8;id=803238;file:///home/adoni5/Projects/Icarust_supplementary/notebooks/make_squiggle.py\u001b\\\u001b[2mmake_squiggle.py\u001b[0m\u001b]8;;\u001b\\\u001b[2m:\u001b[0m\u001b]8;id=830975;file:///home/adoni5/Projects/Icarust_supplementary/notebooks/make_squiggle.py#145\u001b\\\u001b[2m145\u001b[0m\u001b]8;;\u001b\\\n",
       "\u001b[2;36m                    \u001b[0m         r9_squiggle/test_read_41_719830_721880.squiggle.npy already       \u001b[2m                    \u001b[0m\n",
       "\u001b[2;36m                    \u001b[0m         exists. Skipping\u001b[33m...\u001b[0m                                               \u001b[2m                    \u001b[0m\n"
      ]
     },
     "metadata": {},
     "output_type": "display_data"
    },
    {
     "data": {
      "text/html": [
       "<pre style=\"white-space:pre;overflow-x:auto;line-height:normal;font-family:Menlo,'DejaVu Sans Mono',consolas,'Courier New',monospace\"><span style=\"color: #7fbfbf; text-decoration-color: #7fbfbf\">                    </span><span style=\"color: #000080; text-decoration-color: #000080\">INFO    </span> Generating squiggle for test_read_42_227120_229220                <a href=\"file:///home/adoni5/Projects/Icarust_supplementary/notebooks/make_squiggle.py\" target=\"_blank\"><span style=\"color: #7f7f7f; text-decoration-color: #7f7f7f\">make_squiggle.py</span></a><span style=\"color: #7f7f7f; text-decoration-color: #7f7f7f\">:</span><a href=\"file:///home/adoni5/Projects/Icarust_supplementary/notebooks/make_squiggle.py#120\" target=\"_blank\"><span style=\"color: #7f7f7f; text-decoration-color: #7f7f7f\">120</span></a>\n",
       "</pre>\n"
      ],
      "text/plain": [
       "\u001b[2;36m                   \u001b[0m\u001b[2;36m \u001b[0m\u001b[34mINFO    \u001b[0m Generating squiggle for test_read_42_227120_229220                \u001b]8;id=726198;file:///home/adoni5/Projects/Icarust_supplementary/notebooks/make_squiggle.py\u001b\\\u001b[2mmake_squiggle.py\u001b[0m\u001b]8;;\u001b\\\u001b[2m:\u001b[0m\u001b]8;id=314117;file:///home/adoni5/Projects/Icarust_supplementary/notebooks/make_squiggle.py#120\u001b\\\u001b[2m120\u001b[0m\u001b]8;;\u001b\\\n"
      ]
     },
     "metadata": {},
     "output_type": "display_data"
    },
    {
     "data": {
      "text/html": [
       "<pre style=\"white-space:pre;overflow-x:auto;line-height:normal;font-family:Menlo,'DejaVu Sans Mono',consolas,'Courier New',monospace\"><span style=\"color: #7fbfbf; text-decoration-color: #7fbfbf\">                    </span><span style=\"color: #000080; text-decoration-color: #000080\">INFO    </span> Invalid characters found in sequence of                           <a href=\"file:///home/adoni5/Projects/Icarust_supplementary/notebooks/make_squiggle.py\" target=\"_blank\"><span style=\"color: #7f7f7f; text-decoration-color: #7f7f7f\">make_squiggle.py</span></a><span style=\"color: #7f7f7f; text-decoration-color: #7f7f7f\">:</span><a href=\"file:///home/adoni5/Projects/Icarust_supplementary/notebooks/make_squiggle.py#122\" target=\"_blank\"><span style=\"color: #7f7f7f; text-decoration-color: #7f7f7f\">122</span></a>\n",
       "<span style=\"color: #7fbfbf; text-decoration-color: #7fbfbf\">                    </span>         test_read_42_227120_229220, removing them                         <span style=\"color: #7f7f7f; text-decoration-color: #7f7f7f\">                    </span>\n",
       "</pre>\n"
      ],
      "text/plain": [
       "\u001b[2;36m                   \u001b[0m\u001b[2;36m \u001b[0m\u001b[34mINFO    \u001b[0m Invalid characters found in sequence of                           \u001b]8;id=735348;file:///home/adoni5/Projects/Icarust_supplementary/notebooks/make_squiggle.py\u001b\\\u001b[2mmake_squiggle.py\u001b[0m\u001b]8;;\u001b\\\u001b[2m:\u001b[0m\u001b]8;id=735341;file:///home/adoni5/Projects/Icarust_supplementary/notebooks/make_squiggle.py#122\u001b\\\u001b[2m122\u001b[0m\u001b]8;;\u001b\\\n",
       "\u001b[2;36m                    \u001b[0m         test_read_42_227120_229220, removing them                         \u001b[2m                    \u001b[0m\n"
      ]
     },
     "metadata": {},
     "output_type": "display_data"
    },
    {
     "data": {
      "text/html": [
       "<pre style=\"white-space:pre;overflow-x:auto;line-height:normal;font-family:Menlo,'DejaVu Sans Mono',consolas,'Courier New',monospace\"><span style=\"color: #7fbfbf; text-decoration-color: #7fbfbf\">                    </span><span style=\"color: #800000; text-decoration-color: #800000\">WARNING </span> File with name                                                    <a href=\"file:///home/adoni5/Projects/Icarust_supplementary/notebooks/make_squiggle.py\" target=\"_blank\"><span style=\"color: #7f7f7f; text-decoration-color: #7f7f7f\">make_squiggle.py</span></a><span style=\"color: #7f7f7f; text-decoration-color: #7f7f7f\">:</span><a href=\"file:///home/adoni5/Projects/Icarust_supplementary/notebooks/make_squiggle.py#145\" target=\"_blank\"><span style=\"color: #7f7f7f; text-decoration-color: #7f7f7f\">145</span></a>\n",
       "<span style=\"color: #7fbfbf; text-decoration-color: #7fbfbf\">                    </span>         r9_squiggle/test_read_42_227120_229220.squiggle.npy already       <span style=\"color: #7f7f7f; text-decoration-color: #7f7f7f\">                    </span>\n",
       "<span style=\"color: #7fbfbf; text-decoration-color: #7fbfbf\">                    </span>         exists. Skipping<span style=\"color: #808000; text-decoration-color: #808000\">...</span>                                               <span style=\"color: #7f7f7f; text-decoration-color: #7f7f7f\">                    </span>\n",
       "</pre>\n"
      ],
      "text/plain": [
       "\u001b[2;36m                   \u001b[0m\u001b[2;36m \u001b[0m\u001b[31mWARNING \u001b[0m File with name                                                    \u001b]8;id=897871;file:///home/adoni5/Projects/Icarust_supplementary/notebooks/make_squiggle.py\u001b\\\u001b[2mmake_squiggle.py\u001b[0m\u001b]8;;\u001b\\\u001b[2m:\u001b[0m\u001b]8;id=129230;file:///home/adoni5/Projects/Icarust_supplementary/notebooks/make_squiggle.py#145\u001b\\\u001b[2m145\u001b[0m\u001b]8;;\u001b\\\n",
       "\u001b[2;36m                    \u001b[0m         r9_squiggle/test_read_42_227120_229220.squiggle.npy already       \u001b[2m                    \u001b[0m\n",
       "\u001b[2;36m                    \u001b[0m         exists. Skipping\u001b[33m...\u001b[0m                                               \u001b[2m                    \u001b[0m\n"
      ]
     },
     "metadata": {},
     "output_type": "display_data"
    },
    {
     "data": {
      "text/html": [
       "<pre style=\"white-space:pre;overflow-x:auto;line-height:normal;font-family:Menlo,'DejaVu Sans Mono',consolas,'Courier New',monospace\"><span style=\"color: #7fbfbf; text-decoration-color: #7fbfbf\">                    </span><span style=\"color: #000080; text-decoration-color: #000080\">INFO    </span> Generating squiggle for test_read_43_442621_444771                <a href=\"file:///home/adoni5/Projects/Icarust_supplementary/notebooks/make_squiggle.py\" target=\"_blank\"><span style=\"color: #7f7f7f; text-decoration-color: #7f7f7f\">make_squiggle.py</span></a><span style=\"color: #7f7f7f; text-decoration-color: #7f7f7f\">:</span><a href=\"file:///home/adoni5/Projects/Icarust_supplementary/notebooks/make_squiggle.py#120\" target=\"_blank\"><span style=\"color: #7f7f7f; text-decoration-color: #7f7f7f\">120</span></a>\n",
       "</pre>\n"
      ],
      "text/plain": [
       "\u001b[2;36m                   \u001b[0m\u001b[2;36m \u001b[0m\u001b[34mINFO    \u001b[0m Generating squiggle for test_read_43_442621_444771                \u001b]8;id=395520;file:///home/adoni5/Projects/Icarust_supplementary/notebooks/make_squiggle.py\u001b\\\u001b[2mmake_squiggle.py\u001b[0m\u001b]8;;\u001b\\\u001b[2m:\u001b[0m\u001b]8;id=184838;file:///home/adoni5/Projects/Icarust_supplementary/notebooks/make_squiggle.py#120\u001b\\\u001b[2m120\u001b[0m\u001b]8;;\u001b\\\n"
      ]
     },
     "metadata": {},
     "output_type": "display_data"
    },
    {
     "data": {
      "text/html": [
       "<pre style=\"white-space:pre;overflow-x:auto;line-height:normal;font-family:Menlo,'DejaVu Sans Mono',consolas,'Courier New',monospace\"><span style=\"color: #7fbfbf; text-decoration-color: #7fbfbf\">                    </span><span style=\"color: #000080; text-decoration-color: #000080\">INFO    </span> Invalid characters found in sequence of                           <a href=\"file:///home/adoni5/Projects/Icarust_supplementary/notebooks/make_squiggle.py\" target=\"_blank\"><span style=\"color: #7f7f7f; text-decoration-color: #7f7f7f\">make_squiggle.py</span></a><span style=\"color: #7f7f7f; text-decoration-color: #7f7f7f\">:</span><a href=\"file:///home/adoni5/Projects/Icarust_supplementary/notebooks/make_squiggle.py#122\" target=\"_blank\"><span style=\"color: #7f7f7f; text-decoration-color: #7f7f7f\">122</span></a>\n",
       "<span style=\"color: #7fbfbf; text-decoration-color: #7fbfbf\">                    </span>         test_read_43_442621_444771, removing them                         <span style=\"color: #7f7f7f; text-decoration-color: #7f7f7f\">                    </span>\n",
       "</pre>\n"
      ],
      "text/plain": [
       "\u001b[2;36m                   \u001b[0m\u001b[2;36m \u001b[0m\u001b[34mINFO    \u001b[0m Invalid characters found in sequence of                           \u001b]8;id=987436;file:///home/adoni5/Projects/Icarust_supplementary/notebooks/make_squiggle.py\u001b\\\u001b[2mmake_squiggle.py\u001b[0m\u001b]8;;\u001b\\\u001b[2m:\u001b[0m\u001b]8;id=597182;file:///home/adoni5/Projects/Icarust_supplementary/notebooks/make_squiggle.py#122\u001b\\\u001b[2m122\u001b[0m\u001b]8;;\u001b\\\n",
       "\u001b[2;36m                    \u001b[0m         test_read_43_442621_444771, removing them                         \u001b[2m                    \u001b[0m\n"
      ]
     },
     "metadata": {},
     "output_type": "display_data"
    },
    {
     "data": {
      "text/html": [
       "<pre style=\"white-space:pre;overflow-x:auto;line-height:normal;font-family:Menlo,'DejaVu Sans Mono',consolas,'Courier New',monospace\"><span style=\"color: #7fbfbf; text-decoration-color: #7fbfbf\">                    </span><span style=\"color: #800000; text-decoration-color: #800000\">WARNING </span> File with name                                                    <a href=\"file:///home/adoni5/Projects/Icarust_supplementary/notebooks/make_squiggle.py\" target=\"_blank\"><span style=\"color: #7f7f7f; text-decoration-color: #7f7f7f\">make_squiggle.py</span></a><span style=\"color: #7f7f7f; text-decoration-color: #7f7f7f\">:</span><a href=\"file:///home/adoni5/Projects/Icarust_supplementary/notebooks/make_squiggle.py#145\" target=\"_blank\"><span style=\"color: #7f7f7f; text-decoration-color: #7f7f7f\">145</span></a>\n",
       "<span style=\"color: #7fbfbf; text-decoration-color: #7fbfbf\">                    </span>         r9_squiggle/test_read_43_442621_444771.squiggle.npy already       <span style=\"color: #7f7f7f; text-decoration-color: #7f7f7f\">                    </span>\n",
       "<span style=\"color: #7fbfbf; text-decoration-color: #7fbfbf\">                    </span>         exists. Skipping<span style=\"color: #808000; text-decoration-color: #808000\">...</span>                                               <span style=\"color: #7f7f7f; text-decoration-color: #7f7f7f\">                    </span>\n",
       "</pre>\n"
      ],
      "text/plain": [
       "\u001b[2;36m                   \u001b[0m\u001b[2;36m \u001b[0m\u001b[31mWARNING \u001b[0m File with name                                                    \u001b]8;id=519072;file:///home/adoni5/Projects/Icarust_supplementary/notebooks/make_squiggle.py\u001b\\\u001b[2mmake_squiggle.py\u001b[0m\u001b]8;;\u001b\\\u001b[2m:\u001b[0m\u001b]8;id=714747;file:///home/adoni5/Projects/Icarust_supplementary/notebooks/make_squiggle.py#145\u001b\\\u001b[2m145\u001b[0m\u001b]8;;\u001b\\\n",
       "\u001b[2;36m                    \u001b[0m         r9_squiggle/test_read_43_442621_444771.squiggle.npy already       \u001b[2m                    \u001b[0m\n",
       "\u001b[2;36m                    \u001b[0m         exists. Skipping\u001b[33m...\u001b[0m                                               \u001b[2m                    \u001b[0m\n"
      ]
     },
     "metadata": {},
     "output_type": "display_data"
    },
    {
     "data": {
      "text/html": [
       "<pre style=\"white-space:pre;overflow-x:auto;line-height:normal;font-family:Menlo,'DejaVu Sans Mono',consolas,'Courier New',monospace\"><span style=\"color: #7fbfbf; text-decoration-color: #7fbfbf\">                    </span><span style=\"color: #000080; text-decoration-color: #000080\">INFO    </span> Generating squiggle for test_read_44_761111_763311                <a href=\"file:///home/adoni5/Projects/Icarust_supplementary/notebooks/make_squiggle.py\" target=\"_blank\"><span style=\"color: #7f7f7f; text-decoration-color: #7f7f7f\">make_squiggle.py</span></a><span style=\"color: #7f7f7f; text-decoration-color: #7f7f7f\">:</span><a href=\"file:///home/adoni5/Projects/Icarust_supplementary/notebooks/make_squiggle.py#120\" target=\"_blank\"><span style=\"color: #7f7f7f; text-decoration-color: #7f7f7f\">120</span></a>\n",
       "</pre>\n"
      ],
      "text/plain": [
       "\u001b[2;36m                   \u001b[0m\u001b[2;36m \u001b[0m\u001b[34mINFO    \u001b[0m Generating squiggle for test_read_44_761111_763311                \u001b]8;id=402628;file:///home/adoni5/Projects/Icarust_supplementary/notebooks/make_squiggle.py\u001b\\\u001b[2mmake_squiggle.py\u001b[0m\u001b]8;;\u001b\\\u001b[2m:\u001b[0m\u001b]8;id=540075;file:///home/adoni5/Projects/Icarust_supplementary/notebooks/make_squiggle.py#120\u001b\\\u001b[2m120\u001b[0m\u001b]8;;\u001b\\\n"
      ]
     },
     "metadata": {},
     "output_type": "display_data"
    },
    {
     "data": {
      "text/html": [
       "<pre style=\"white-space:pre;overflow-x:auto;line-height:normal;font-family:Menlo,'DejaVu Sans Mono',consolas,'Courier New',monospace\"><span style=\"color: #7fbfbf; text-decoration-color: #7fbfbf\">                    </span><span style=\"color: #000080; text-decoration-color: #000080\">INFO    </span> Invalid characters found in sequence of                           <a href=\"file:///home/adoni5/Projects/Icarust_supplementary/notebooks/make_squiggle.py\" target=\"_blank\"><span style=\"color: #7f7f7f; text-decoration-color: #7f7f7f\">make_squiggle.py</span></a><span style=\"color: #7f7f7f; text-decoration-color: #7f7f7f\">:</span><a href=\"file:///home/adoni5/Projects/Icarust_supplementary/notebooks/make_squiggle.py#122\" target=\"_blank\"><span style=\"color: #7f7f7f; text-decoration-color: #7f7f7f\">122</span></a>\n",
       "<span style=\"color: #7fbfbf; text-decoration-color: #7fbfbf\">                    </span>         test_read_44_761111_763311, removing them                         <span style=\"color: #7f7f7f; text-decoration-color: #7f7f7f\">                    </span>\n",
       "</pre>\n"
      ],
      "text/plain": [
       "\u001b[2;36m                   \u001b[0m\u001b[2;36m \u001b[0m\u001b[34mINFO    \u001b[0m Invalid characters found in sequence of                           \u001b]8;id=42686;file:///home/adoni5/Projects/Icarust_supplementary/notebooks/make_squiggle.py\u001b\\\u001b[2mmake_squiggle.py\u001b[0m\u001b]8;;\u001b\\\u001b[2m:\u001b[0m\u001b]8;id=549636;file:///home/adoni5/Projects/Icarust_supplementary/notebooks/make_squiggle.py#122\u001b\\\u001b[2m122\u001b[0m\u001b]8;;\u001b\\\n",
       "\u001b[2;36m                    \u001b[0m         test_read_44_761111_763311, removing them                         \u001b[2m                    \u001b[0m\n"
      ]
     },
     "metadata": {},
     "output_type": "display_data"
    },
    {
     "data": {
      "text/html": [
       "<pre style=\"white-space:pre;overflow-x:auto;line-height:normal;font-family:Menlo,'DejaVu Sans Mono',consolas,'Courier New',monospace\"><span style=\"color: #7fbfbf; text-decoration-color: #7fbfbf\">                    </span><span style=\"color: #800000; text-decoration-color: #800000\">WARNING </span> File with name                                                    <a href=\"file:///home/adoni5/Projects/Icarust_supplementary/notebooks/make_squiggle.py\" target=\"_blank\"><span style=\"color: #7f7f7f; text-decoration-color: #7f7f7f\">make_squiggle.py</span></a><span style=\"color: #7f7f7f; text-decoration-color: #7f7f7f\">:</span><a href=\"file:///home/adoni5/Projects/Icarust_supplementary/notebooks/make_squiggle.py#145\" target=\"_blank\"><span style=\"color: #7f7f7f; text-decoration-color: #7f7f7f\">145</span></a>\n",
       "<span style=\"color: #7fbfbf; text-decoration-color: #7fbfbf\">                    </span>         r9_squiggle/test_read_44_761111_763311.squiggle.npy already       <span style=\"color: #7f7f7f; text-decoration-color: #7f7f7f\">                    </span>\n",
       "<span style=\"color: #7fbfbf; text-decoration-color: #7fbfbf\">                    </span>         exists. Skipping<span style=\"color: #808000; text-decoration-color: #808000\">...</span>                                               <span style=\"color: #7f7f7f; text-decoration-color: #7f7f7f\">                    </span>\n",
       "</pre>\n"
      ],
      "text/plain": [
       "\u001b[2;36m                   \u001b[0m\u001b[2;36m \u001b[0m\u001b[31mWARNING \u001b[0m File with name                                                    \u001b]8;id=105954;file:///home/adoni5/Projects/Icarust_supplementary/notebooks/make_squiggle.py\u001b\\\u001b[2mmake_squiggle.py\u001b[0m\u001b]8;;\u001b\\\u001b[2m:\u001b[0m\u001b]8;id=280521;file:///home/adoni5/Projects/Icarust_supplementary/notebooks/make_squiggle.py#145\u001b\\\u001b[2m145\u001b[0m\u001b]8;;\u001b\\\n",
       "\u001b[2;36m                    \u001b[0m         r9_squiggle/test_read_44_761111_763311.squiggle.npy already       \u001b[2m                    \u001b[0m\n",
       "\u001b[2;36m                    \u001b[0m         exists. Skipping\u001b[33m...\u001b[0m                                               \u001b[2m                    \u001b[0m\n"
      ]
     },
     "metadata": {},
     "output_type": "display_data"
    },
    {
     "data": {
      "text/html": [
       "<pre style=\"white-space:pre;overflow-x:auto;line-height:normal;font-family:Menlo,'DejaVu Sans Mono',consolas,'Courier New',monospace\"><span style=\"color: #7fbfbf; text-decoration-color: #7fbfbf\">                    </span><span style=\"color: #000080; text-decoration-color: #000080\">INFO    </span> Generating squiggle for test_read_45_553259_555509                <a href=\"file:///home/adoni5/Projects/Icarust_supplementary/notebooks/make_squiggle.py\" target=\"_blank\"><span style=\"color: #7f7f7f; text-decoration-color: #7f7f7f\">make_squiggle.py</span></a><span style=\"color: #7f7f7f; text-decoration-color: #7f7f7f\">:</span><a href=\"file:///home/adoni5/Projects/Icarust_supplementary/notebooks/make_squiggle.py#120\" target=\"_blank\"><span style=\"color: #7f7f7f; text-decoration-color: #7f7f7f\">120</span></a>\n",
       "</pre>\n"
      ],
      "text/plain": [
       "\u001b[2;36m                   \u001b[0m\u001b[2;36m \u001b[0m\u001b[34mINFO    \u001b[0m Generating squiggle for test_read_45_553259_555509                \u001b]8;id=813440;file:///home/adoni5/Projects/Icarust_supplementary/notebooks/make_squiggle.py\u001b\\\u001b[2mmake_squiggle.py\u001b[0m\u001b]8;;\u001b\\\u001b[2m:\u001b[0m\u001b]8;id=646869;file:///home/adoni5/Projects/Icarust_supplementary/notebooks/make_squiggle.py#120\u001b\\\u001b[2m120\u001b[0m\u001b]8;;\u001b\\\n"
      ]
     },
     "metadata": {},
     "output_type": "display_data"
    },
    {
     "data": {
      "text/html": [
       "<pre style=\"white-space:pre;overflow-x:auto;line-height:normal;font-family:Menlo,'DejaVu Sans Mono',consolas,'Courier New',monospace\"><span style=\"color: #7fbfbf; text-decoration-color: #7fbfbf\">                    </span><span style=\"color: #000080; text-decoration-color: #000080\">INFO    </span> Invalid characters found in sequence of                           <a href=\"file:///home/adoni5/Projects/Icarust_supplementary/notebooks/make_squiggle.py\" target=\"_blank\"><span style=\"color: #7f7f7f; text-decoration-color: #7f7f7f\">make_squiggle.py</span></a><span style=\"color: #7f7f7f; text-decoration-color: #7f7f7f\">:</span><a href=\"file:///home/adoni5/Projects/Icarust_supplementary/notebooks/make_squiggle.py#122\" target=\"_blank\"><span style=\"color: #7f7f7f; text-decoration-color: #7f7f7f\">122</span></a>\n",
       "<span style=\"color: #7fbfbf; text-decoration-color: #7fbfbf\">                    </span>         test_read_45_553259_555509, removing them                         <span style=\"color: #7f7f7f; text-decoration-color: #7f7f7f\">                    </span>\n",
       "</pre>\n"
      ],
      "text/plain": [
       "\u001b[2;36m                   \u001b[0m\u001b[2;36m \u001b[0m\u001b[34mINFO    \u001b[0m Invalid characters found in sequence of                           \u001b]8;id=85991;file:///home/adoni5/Projects/Icarust_supplementary/notebooks/make_squiggle.py\u001b\\\u001b[2mmake_squiggle.py\u001b[0m\u001b]8;;\u001b\\\u001b[2m:\u001b[0m\u001b]8;id=466677;file:///home/adoni5/Projects/Icarust_supplementary/notebooks/make_squiggle.py#122\u001b\\\u001b[2m122\u001b[0m\u001b]8;;\u001b\\\n",
       "\u001b[2;36m                    \u001b[0m         test_read_45_553259_555509, removing them                         \u001b[2m                    \u001b[0m\n"
      ]
     },
     "metadata": {},
     "output_type": "display_data"
    },
    {
     "data": {
      "text/html": [
       "<pre style=\"white-space:pre;overflow-x:auto;line-height:normal;font-family:Menlo,'DejaVu Sans Mono',consolas,'Courier New',monospace\"><span style=\"color: #7fbfbf; text-decoration-color: #7fbfbf\">                    </span><span style=\"color: #800000; text-decoration-color: #800000\">WARNING </span> File with name                                                    <a href=\"file:///home/adoni5/Projects/Icarust_supplementary/notebooks/make_squiggle.py\" target=\"_blank\"><span style=\"color: #7f7f7f; text-decoration-color: #7f7f7f\">make_squiggle.py</span></a><span style=\"color: #7f7f7f; text-decoration-color: #7f7f7f\">:</span><a href=\"file:///home/adoni5/Projects/Icarust_supplementary/notebooks/make_squiggle.py#145\" target=\"_blank\"><span style=\"color: #7f7f7f; text-decoration-color: #7f7f7f\">145</span></a>\n",
       "<span style=\"color: #7fbfbf; text-decoration-color: #7fbfbf\">                    </span>         r9_squiggle/test_read_45_553259_555509.squiggle.npy already       <span style=\"color: #7f7f7f; text-decoration-color: #7f7f7f\">                    </span>\n",
       "<span style=\"color: #7fbfbf; text-decoration-color: #7fbfbf\">                    </span>         exists. Skipping<span style=\"color: #808000; text-decoration-color: #808000\">...</span>                                               <span style=\"color: #7f7f7f; text-decoration-color: #7f7f7f\">                    </span>\n",
       "</pre>\n"
      ],
      "text/plain": [
       "\u001b[2;36m                   \u001b[0m\u001b[2;36m \u001b[0m\u001b[31mWARNING \u001b[0m File with name                                                    \u001b]8;id=400926;file:///home/adoni5/Projects/Icarust_supplementary/notebooks/make_squiggle.py\u001b\\\u001b[2mmake_squiggle.py\u001b[0m\u001b]8;;\u001b\\\u001b[2m:\u001b[0m\u001b]8;id=985658;file:///home/adoni5/Projects/Icarust_supplementary/notebooks/make_squiggle.py#145\u001b\\\u001b[2m145\u001b[0m\u001b]8;;\u001b\\\n",
       "\u001b[2;36m                    \u001b[0m         r9_squiggle/test_read_45_553259_555509.squiggle.npy already       \u001b[2m                    \u001b[0m\n",
       "\u001b[2;36m                    \u001b[0m         exists. Skipping\u001b[33m...\u001b[0m                                               \u001b[2m                    \u001b[0m\n"
      ]
     },
     "metadata": {},
     "output_type": "display_data"
    },
    {
     "data": {
      "text/html": [
       "<pre style=\"white-space:pre;overflow-x:auto;line-height:normal;font-family:Menlo,'DejaVu Sans Mono',consolas,'Courier New',monospace\"><span style=\"color: #7fbfbf; text-decoration-color: #7fbfbf\">                    </span><span style=\"color: #000080; text-decoration-color: #000080\">INFO    </span> Generating squiggle for test_read_46_232460_234760                <a href=\"file:///home/adoni5/Projects/Icarust_supplementary/notebooks/make_squiggle.py\" target=\"_blank\"><span style=\"color: #7f7f7f; text-decoration-color: #7f7f7f\">make_squiggle.py</span></a><span style=\"color: #7f7f7f; text-decoration-color: #7f7f7f\">:</span><a href=\"file:///home/adoni5/Projects/Icarust_supplementary/notebooks/make_squiggle.py#120\" target=\"_blank\"><span style=\"color: #7f7f7f; text-decoration-color: #7f7f7f\">120</span></a>\n",
       "</pre>\n"
      ],
      "text/plain": [
       "\u001b[2;36m                   \u001b[0m\u001b[2;36m \u001b[0m\u001b[34mINFO    \u001b[0m Generating squiggle for test_read_46_232460_234760                \u001b]8;id=172757;file:///home/adoni5/Projects/Icarust_supplementary/notebooks/make_squiggle.py\u001b\\\u001b[2mmake_squiggle.py\u001b[0m\u001b]8;;\u001b\\\u001b[2m:\u001b[0m\u001b]8;id=954292;file:///home/adoni5/Projects/Icarust_supplementary/notebooks/make_squiggle.py#120\u001b\\\u001b[2m120\u001b[0m\u001b]8;;\u001b\\\n"
      ]
     },
     "metadata": {},
     "output_type": "display_data"
    },
    {
     "data": {
      "text/html": [
       "<pre style=\"white-space:pre;overflow-x:auto;line-height:normal;font-family:Menlo,'DejaVu Sans Mono',consolas,'Courier New',monospace\"><span style=\"color: #7fbfbf; text-decoration-color: #7fbfbf\">                    </span><span style=\"color: #000080; text-decoration-color: #000080\">INFO    </span> Invalid characters found in sequence of                           <a href=\"file:///home/adoni5/Projects/Icarust_supplementary/notebooks/make_squiggle.py\" target=\"_blank\"><span style=\"color: #7f7f7f; text-decoration-color: #7f7f7f\">make_squiggle.py</span></a><span style=\"color: #7f7f7f; text-decoration-color: #7f7f7f\">:</span><a href=\"file:///home/adoni5/Projects/Icarust_supplementary/notebooks/make_squiggle.py#122\" target=\"_blank\"><span style=\"color: #7f7f7f; text-decoration-color: #7f7f7f\">122</span></a>\n",
       "<span style=\"color: #7fbfbf; text-decoration-color: #7fbfbf\">                    </span>         test_read_46_232460_234760, removing them                         <span style=\"color: #7f7f7f; text-decoration-color: #7f7f7f\">                    </span>\n",
       "</pre>\n"
      ],
      "text/plain": [
       "\u001b[2;36m                   \u001b[0m\u001b[2;36m \u001b[0m\u001b[34mINFO    \u001b[0m Invalid characters found in sequence of                           \u001b]8;id=953034;file:///home/adoni5/Projects/Icarust_supplementary/notebooks/make_squiggle.py\u001b\\\u001b[2mmake_squiggle.py\u001b[0m\u001b]8;;\u001b\\\u001b[2m:\u001b[0m\u001b]8;id=511669;file:///home/adoni5/Projects/Icarust_supplementary/notebooks/make_squiggle.py#122\u001b\\\u001b[2m122\u001b[0m\u001b]8;;\u001b\\\n",
       "\u001b[2;36m                    \u001b[0m         test_read_46_232460_234760, removing them                         \u001b[2m                    \u001b[0m\n"
      ]
     },
     "metadata": {},
     "output_type": "display_data"
    },
    {
     "data": {
      "text/html": [
       "<pre style=\"white-space:pre;overflow-x:auto;line-height:normal;font-family:Menlo,'DejaVu Sans Mono',consolas,'Courier New',monospace\"><span style=\"color: #7fbfbf; text-decoration-color: #7fbfbf\">                    </span><span style=\"color: #800000; text-decoration-color: #800000\">WARNING </span> File with name                                                    <a href=\"file:///home/adoni5/Projects/Icarust_supplementary/notebooks/make_squiggle.py\" target=\"_blank\"><span style=\"color: #7f7f7f; text-decoration-color: #7f7f7f\">make_squiggle.py</span></a><span style=\"color: #7f7f7f; text-decoration-color: #7f7f7f\">:</span><a href=\"file:///home/adoni5/Projects/Icarust_supplementary/notebooks/make_squiggle.py#145\" target=\"_blank\"><span style=\"color: #7f7f7f; text-decoration-color: #7f7f7f\">145</span></a>\n",
       "<span style=\"color: #7fbfbf; text-decoration-color: #7fbfbf\">                    </span>         r9_squiggle/test_read_46_232460_234760.squiggle.npy already       <span style=\"color: #7f7f7f; text-decoration-color: #7f7f7f\">                    </span>\n",
       "<span style=\"color: #7fbfbf; text-decoration-color: #7fbfbf\">                    </span>         exists. Skipping<span style=\"color: #808000; text-decoration-color: #808000\">...</span>                                               <span style=\"color: #7f7f7f; text-decoration-color: #7f7f7f\">                    </span>\n",
       "</pre>\n"
      ],
      "text/plain": [
       "\u001b[2;36m                   \u001b[0m\u001b[2;36m \u001b[0m\u001b[31mWARNING \u001b[0m File with name                                                    \u001b]8;id=559996;file:///home/adoni5/Projects/Icarust_supplementary/notebooks/make_squiggle.py\u001b\\\u001b[2mmake_squiggle.py\u001b[0m\u001b]8;;\u001b\\\u001b[2m:\u001b[0m\u001b]8;id=428053;file:///home/adoni5/Projects/Icarust_supplementary/notebooks/make_squiggle.py#145\u001b\\\u001b[2m145\u001b[0m\u001b]8;;\u001b\\\n",
       "\u001b[2;36m                    \u001b[0m         r9_squiggle/test_read_46_232460_234760.squiggle.npy already       \u001b[2m                    \u001b[0m\n",
       "\u001b[2;36m                    \u001b[0m         exists. Skipping\u001b[33m...\u001b[0m                                               \u001b[2m                    \u001b[0m\n"
      ]
     },
     "metadata": {},
     "output_type": "display_data"
    },
    {
     "data": {
      "text/html": [
       "<pre style=\"white-space:pre;overflow-x:auto;line-height:normal;font-family:Menlo,'DejaVu Sans Mono',consolas,'Courier New',monospace\"><span style=\"color: #7fbfbf; text-decoration-color: #7fbfbf\">                    </span><span style=\"color: #000080; text-decoration-color: #000080\">INFO    </span> Generating squiggle for test_read_47_800798_803148                <a href=\"file:///home/adoni5/Projects/Icarust_supplementary/notebooks/make_squiggle.py\" target=\"_blank\"><span style=\"color: #7f7f7f; text-decoration-color: #7f7f7f\">make_squiggle.py</span></a><span style=\"color: #7f7f7f; text-decoration-color: #7f7f7f\">:</span><a href=\"file:///home/adoni5/Projects/Icarust_supplementary/notebooks/make_squiggle.py#120\" target=\"_blank\"><span style=\"color: #7f7f7f; text-decoration-color: #7f7f7f\">120</span></a>\n",
       "</pre>\n"
      ],
      "text/plain": [
       "\u001b[2;36m                   \u001b[0m\u001b[2;36m \u001b[0m\u001b[34mINFO    \u001b[0m Generating squiggle for test_read_47_800798_803148                \u001b]8;id=291160;file:///home/adoni5/Projects/Icarust_supplementary/notebooks/make_squiggle.py\u001b\\\u001b[2mmake_squiggle.py\u001b[0m\u001b]8;;\u001b\\\u001b[2m:\u001b[0m\u001b]8;id=260273;file:///home/adoni5/Projects/Icarust_supplementary/notebooks/make_squiggle.py#120\u001b\\\u001b[2m120\u001b[0m\u001b]8;;\u001b\\\n"
      ]
     },
     "metadata": {},
     "output_type": "display_data"
    },
    {
     "data": {
      "text/html": [
       "<pre style=\"white-space:pre;overflow-x:auto;line-height:normal;font-family:Menlo,'DejaVu Sans Mono',consolas,'Courier New',monospace\"><span style=\"color: #7fbfbf; text-decoration-color: #7fbfbf\">                    </span><span style=\"color: #000080; text-decoration-color: #000080\">INFO    </span> Invalid characters found in sequence of                           <a href=\"file:///home/adoni5/Projects/Icarust_supplementary/notebooks/make_squiggle.py\" target=\"_blank\"><span style=\"color: #7f7f7f; text-decoration-color: #7f7f7f\">make_squiggle.py</span></a><span style=\"color: #7f7f7f; text-decoration-color: #7f7f7f\">:</span><a href=\"file:///home/adoni5/Projects/Icarust_supplementary/notebooks/make_squiggle.py#122\" target=\"_blank\"><span style=\"color: #7f7f7f; text-decoration-color: #7f7f7f\">122</span></a>\n",
       "<span style=\"color: #7fbfbf; text-decoration-color: #7fbfbf\">                    </span>         test_read_47_800798_803148, removing them                         <span style=\"color: #7f7f7f; text-decoration-color: #7f7f7f\">                    </span>\n",
       "</pre>\n"
      ],
      "text/plain": [
       "\u001b[2;36m                   \u001b[0m\u001b[2;36m \u001b[0m\u001b[34mINFO    \u001b[0m Invalid characters found in sequence of                           \u001b]8;id=199060;file:///home/adoni5/Projects/Icarust_supplementary/notebooks/make_squiggle.py\u001b\\\u001b[2mmake_squiggle.py\u001b[0m\u001b]8;;\u001b\\\u001b[2m:\u001b[0m\u001b]8;id=554028;file:///home/adoni5/Projects/Icarust_supplementary/notebooks/make_squiggle.py#122\u001b\\\u001b[2m122\u001b[0m\u001b]8;;\u001b\\\n",
       "\u001b[2;36m                    \u001b[0m         test_read_47_800798_803148, removing them                         \u001b[2m                    \u001b[0m\n"
      ]
     },
     "metadata": {},
     "output_type": "display_data"
    },
    {
     "data": {
      "text/html": [
       "<pre style=\"white-space:pre;overflow-x:auto;line-height:normal;font-family:Menlo,'DejaVu Sans Mono',consolas,'Courier New',monospace\"><span style=\"color: #7fbfbf; text-decoration-color: #7fbfbf\">                    </span><span style=\"color: #800000; text-decoration-color: #800000\">WARNING </span> File with name                                                    <a href=\"file:///home/adoni5/Projects/Icarust_supplementary/notebooks/make_squiggle.py\" target=\"_blank\"><span style=\"color: #7f7f7f; text-decoration-color: #7f7f7f\">make_squiggle.py</span></a><span style=\"color: #7f7f7f; text-decoration-color: #7f7f7f\">:</span><a href=\"file:///home/adoni5/Projects/Icarust_supplementary/notebooks/make_squiggle.py#145\" target=\"_blank\"><span style=\"color: #7f7f7f; text-decoration-color: #7f7f7f\">145</span></a>\n",
       "<span style=\"color: #7fbfbf; text-decoration-color: #7fbfbf\">                    </span>         r9_squiggle/test_read_47_800798_803148.squiggle.npy already       <span style=\"color: #7f7f7f; text-decoration-color: #7f7f7f\">                    </span>\n",
       "<span style=\"color: #7fbfbf; text-decoration-color: #7fbfbf\">                    </span>         exists. Skipping<span style=\"color: #808000; text-decoration-color: #808000\">...</span>                                               <span style=\"color: #7f7f7f; text-decoration-color: #7f7f7f\">                    </span>\n",
       "</pre>\n"
      ],
      "text/plain": [
       "\u001b[2;36m                   \u001b[0m\u001b[2;36m \u001b[0m\u001b[31mWARNING \u001b[0m File with name                                                    \u001b]8;id=658009;file:///home/adoni5/Projects/Icarust_supplementary/notebooks/make_squiggle.py\u001b\\\u001b[2mmake_squiggle.py\u001b[0m\u001b]8;;\u001b\\\u001b[2m:\u001b[0m\u001b]8;id=635046;file:///home/adoni5/Projects/Icarust_supplementary/notebooks/make_squiggle.py#145\u001b\\\u001b[2m145\u001b[0m\u001b]8;;\u001b\\\n",
       "\u001b[2;36m                    \u001b[0m         r9_squiggle/test_read_47_800798_803148.squiggle.npy already       \u001b[2m                    \u001b[0m\n",
       "\u001b[2;36m                    \u001b[0m         exists. Skipping\u001b[33m...\u001b[0m                                               \u001b[2m                    \u001b[0m\n"
      ]
     },
     "metadata": {},
     "output_type": "display_data"
    },
    {
     "data": {
      "text/html": [
       "<pre style=\"white-space:pre;overflow-x:auto;line-height:normal;font-family:Menlo,'DejaVu Sans Mono',consolas,'Courier New',monospace\"><span style=\"color: #7fbfbf; text-decoration-color: #7fbfbf\">                    </span><span style=\"color: #000080; text-decoration-color: #000080\">INFO    </span> Generating squiggle for test_read_48_459158_461558                <a href=\"file:///home/adoni5/Projects/Icarust_supplementary/notebooks/make_squiggle.py\" target=\"_blank\"><span style=\"color: #7f7f7f; text-decoration-color: #7f7f7f\">make_squiggle.py</span></a><span style=\"color: #7f7f7f; text-decoration-color: #7f7f7f\">:</span><a href=\"file:///home/adoni5/Projects/Icarust_supplementary/notebooks/make_squiggle.py#120\" target=\"_blank\"><span style=\"color: #7f7f7f; text-decoration-color: #7f7f7f\">120</span></a>\n",
       "</pre>\n"
      ],
      "text/plain": [
       "\u001b[2;36m                   \u001b[0m\u001b[2;36m \u001b[0m\u001b[34mINFO    \u001b[0m Generating squiggle for test_read_48_459158_461558                \u001b]8;id=181248;file:///home/adoni5/Projects/Icarust_supplementary/notebooks/make_squiggle.py\u001b\\\u001b[2mmake_squiggle.py\u001b[0m\u001b]8;;\u001b\\\u001b[2m:\u001b[0m\u001b]8;id=298615;file:///home/adoni5/Projects/Icarust_supplementary/notebooks/make_squiggle.py#120\u001b\\\u001b[2m120\u001b[0m\u001b]8;;\u001b\\\n"
      ]
     },
     "metadata": {},
     "output_type": "display_data"
    },
    {
     "data": {
      "text/html": [
       "<pre style=\"white-space:pre;overflow-x:auto;line-height:normal;font-family:Menlo,'DejaVu Sans Mono',consolas,'Courier New',monospace\"><span style=\"color: #7fbfbf; text-decoration-color: #7fbfbf\">                    </span><span style=\"color: #000080; text-decoration-color: #000080\">INFO    </span> Invalid characters found in sequence of                           <a href=\"file:///home/adoni5/Projects/Icarust_supplementary/notebooks/make_squiggle.py\" target=\"_blank\"><span style=\"color: #7f7f7f; text-decoration-color: #7f7f7f\">make_squiggle.py</span></a><span style=\"color: #7f7f7f; text-decoration-color: #7f7f7f\">:</span><a href=\"file:///home/adoni5/Projects/Icarust_supplementary/notebooks/make_squiggle.py#122\" target=\"_blank\"><span style=\"color: #7f7f7f; text-decoration-color: #7f7f7f\">122</span></a>\n",
       "<span style=\"color: #7fbfbf; text-decoration-color: #7fbfbf\">                    </span>         test_read_48_459158_461558, removing them                         <span style=\"color: #7f7f7f; text-decoration-color: #7f7f7f\">                    </span>\n",
       "</pre>\n"
      ],
      "text/plain": [
       "\u001b[2;36m                   \u001b[0m\u001b[2;36m \u001b[0m\u001b[34mINFO    \u001b[0m Invalid characters found in sequence of                           \u001b]8;id=326249;file:///home/adoni5/Projects/Icarust_supplementary/notebooks/make_squiggle.py\u001b\\\u001b[2mmake_squiggle.py\u001b[0m\u001b]8;;\u001b\\\u001b[2m:\u001b[0m\u001b]8;id=614190;file:///home/adoni5/Projects/Icarust_supplementary/notebooks/make_squiggle.py#122\u001b\\\u001b[2m122\u001b[0m\u001b]8;;\u001b\\\n",
       "\u001b[2;36m                    \u001b[0m         test_read_48_459158_461558, removing them                         \u001b[2m                    \u001b[0m\n"
      ]
     },
     "metadata": {},
     "output_type": "display_data"
    },
    {
     "data": {
      "text/html": [
       "<pre style=\"white-space:pre;overflow-x:auto;line-height:normal;font-family:Menlo,'DejaVu Sans Mono',consolas,'Courier New',monospace\"><span style=\"color: #7fbfbf; text-decoration-color: #7fbfbf\">                    </span><span style=\"color: #800000; text-decoration-color: #800000\">WARNING </span> File with name                                                    <a href=\"file:///home/adoni5/Projects/Icarust_supplementary/notebooks/make_squiggle.py\" target=\"_blank\"><span style=\"color: #7f7f7f; text-decoration-color: #7f7f7f\">make_squiggle.py</span></a><span style=\"color: #7f7f7f; text-decoration-color: #7f7f7f\">:</span><a href=\"file:///home/adoni5/Projects/Icarust_supplementary/notebooks/make_squiggle.py#145\" target=\"_blank\"><span style=\"color: #7f7f7f; text-decoration-color: #7f7f7f\">145</span></a>\n",
       "<span style=\"color: #7fbfbf; text-decoration-color: #7fbfbf\">                    </span>         r9_squiggle/test_read_48_459158_461558.squiggle.npy already       <span style=\"color: #7f7f7f; text-decoration-color: #7f7f7f\">                    </span>\n",
       "<span style=\"color: #7fbfbf; text-decoration-color: #7fbfbf\">                    </span>         exists. Skipping<span style=\"color: #808000; text-decoration-color: #808000\">...</span>                                               <span style=\"color: #7f7f7f; text-decoration-color: #7f7f7f\">                    </span>\n",
       "</pre>\n"
      ],
      "text/plain": [
       "\u001b[2;36m                   \u001b[0m\u001b[2;36m \u001b[0m\u001b[31mWARNING \u001b[0m File with name                                                    \u001b]8;id=468080;file:///home/adoni5/Projects/Icarust_supplementary/notebooks/make_squiggle.py\u001b\\\u001b[2mmake_squiggle.py\u001b[0m\u001b]8;;\u001b\\\u001b[2m:\u001b[0m\u001b]8;id=829518;file:///home/adoni5/Projects/Icarust_supplementary/notebooks/make_squiggle.py#145\u001b\\\u001b[2m145\u001b[0m\u001b]8;;\u001b\\\n",
       "\u001b[2;36m                    \u001b[0m         r9_squiggle/test_read_48_459158_461558.squiggle.npy already       \u001b[2m                    \u001b[0m\n",
       "\u001b[2;36m                    \u001b[0m         exists. Skipping\u001b[33m...\u001b[0m                                               \u001b[2m                    \u001b[0m\n"
      ]
     },
     "metadata": {},
     "output_type": "display_data"
    },
    {
     "data": {
      "text/html": [
       "<pre style=\"white-space:pre;overflow-x:auto;line-height:normal;font-family:Menlo,'DejaVu Sans Mono',consolas,'Courier New',monospace\"><span style=\"color: #7fbfbf; text-decoration-color: #7fbfbf\">                    </span><span style=\"color: #000080; text-decoration-color: #000080\">INFO    </span> Generating squiggle for test_read_49_984787_987237                <a href=\"file:///home/adoni5/Projects/Icarust_supplementary/notebooks/make_squiggle.py\" target=\"_blank\"><span style=\"color: #7f7f7f; text-decoration-color: #7f7f7f\">make_squiggle.py</span></a><span style=\"color: #7f7f7f; text-decoration-color: #7f7f7f\">:</span><a href=\"file:///home/adoni5/Projects/Icarust_supplementary/notebooks/make_squiggle.py#120\" target=\"_blank\"><span style=\"color: #7f7f7f; text-decoration-color: #7f7f7f\">120</span></a>\n",
       "</pre>\n"
      ],
      "text/plain": [
       "\u001b[2;36m                   \u001b[0m\u001b[2;36m \u001b[0m\u001b[34mINFO    \u001b[0m Generating squiggle for test_read_49_984787_987237                \u001b]8;id=571869;file:///home/adoni5/Projects/Icarust_supplementary/notebooks/make_squiggle.py\u001b\\\u001b[2mmake_squiggle.py\u001b[0m\u001b]8;;\u001b\\\u001b[2m:\u001b[0m\u001b]8;id=374294;file:///home/adoni5/Projects/Icarust_supplementary/notebooks/make_squiggle.py#120\u001b\\\u001b[2m120\u001b[0m\u001b]8;;\u001b\\\n"
      ]
     },
     "metadata": {},
     "output_type": "display_data"
    },
    {
     "data": {
      "text/html": [
       "<pre style=\"white-space:pre;overflow-x:auto;line-height:normal;font-family:Menlo,'DejaVu Sans Mono',consolas,'Courier New',monospace\"><span style=\"color: #7fbfbf; text-decoration-color: #7fbfbf\">                    </span><span style=\"color: #000080; text-decoration-color: #000080\">INFO    </span> Invalid characters found in sequence of                           <a href=\"file:///home/adoni5/Projects/Icarust_supplementary/notebooks/make_squiggle.py\" target=\"_blank\"><span style=\"color: #7f7f7f; text-decoration-color: #7f7f7f\">make_squiggle.py</span></a><span style=\"color: #7f7f7f; text-decoration-color: #7f7f7f\">:</span><a href=\"file:///home/adoni5/Projects/Icarust_supplementary/notebooks/make_squiggle.py#122\" target=\"_blank\"><span style=\"color: #7f7f7f; text-decoration-color: #7f7f7f\">122</span></a>\n",
       "<span style=\"color: #7fbfbf; text-decoration-color: #7fbfbf\">                    </span>         test_read_49_984787_987237, removing them                         <span style=\"color: #7f7f7f; text-decoration-color: #7f7f7f\">                    </span>\n",
       "</pre>\n"
      ],
      "text/plain": [
       "\u001b[2;36m                   \u001b[0m\u001b[2;36m \u001b[0m\u001b[34mINFO    \u001b[0m Invalid characters found in sequence of                           \u001b]8;id=806425;file:///home/adoni5/Projects/Icarust_supplementary/notebooks/make_squiggle.py\u001b\\\u001b[2mmake_squiggle.py\u001b[0m\u001b]8;;\u001b\\\u001b[2m:\u001b[0m\u001b]8;id=219094;file:///home/adoni5/Projects/Icarust_supplementary/notebooks/make_squiggle.py#122\u001b\\\u001b[2m122\u001b[0m\u001b]8;;\u001b\\\n",
       "\u001b[2;36m                    \u001b[0m         test_read_49_984787_987237, removing them                         \u001b[2m                    \u001b[0m\n"
      ]
     },
     "metadata": {},
     "output_type": "display_data"
    },
    {
     "data": {
      "text/html": [
       "<pre style=\"white-space:pre;overflow-x:auto;line-height:normal;font-family:Menlo,'DejaVu Sans Mono',consolas,'Courier New',monospace\"><span style=\"color: #7fbfbf; text-decoration-color: #7fbfbf\">                    </span><span style=\"color: #800000; text-decoration-color: #800000\">WARNING </span> File with name                                                    <a href=\"file:///home/adoni5/Projects/Icarust_supplementary/notebooks/make_squiggle.py\" target=\"_blank\"><span style=\"color: #7f7f7f; text-decoration-color: #7f7f7f\">make_squiggle.py</span></a><span style=\"color: #7f7f7f; text-decoration-color: #7f7f7f\">:</span><a href=\"file:///home/adoni5/Projects/Icarust_supplementary/notebooks/make_squiggle.py#145\" target=\"_blank\"><span style=\"color: #7f7f7f; text-decoration-color: #7f7f7f\">145</span></a>\n",
       "<span style=\"color: #7fbfbf; text-decoration-color: #7fbfbf\">                    </span>         r9_squiggle/test_read_49_984787_987237.squiggle.npy already       <span style=\"color: #7f7f7f; text-decoration-color: #7f7f7f\">                    </span>\n",
       "<span style=\"color: #7fbfbf; text-decoration-color: #7fbfbf\">                    </span>         exists. Skipping<span style=\"color: #808000; text-decoration-color: #808000\">...</span>                                               <span style=\"color: #7f7f7f; text-decoration-color: #7f7f7f\">                    </span>\n",
       "</pre>\n"
      ],
      "text/plain": [
       "\u001b[2;36m                   \u001b[0m\u001b[2;36m \u001b[0m\u001b[31mWARNING \u001b[0m File with name                                                    \u001b]8;id=297845;file:///home/adoni5/Projects/Icarust_supplementary/notebooks/make_squiggle.py\u001b\\\u001b[2mmake_squiggle.py\u001b[0m\u001b]8;;\u001b\\\u001b[2m:\u001b[0m\u001b]8;id=849935;file:///home/adoni5/Projects/Icarust_supplementary/notebooks/make_squiggle.py#145\u001b\\\u001b[2m145\u001b[0m\u001b]8;;\u001b\\\n",
       "\u001b[2;36m                    \u001b[0m         r9_squiggle/test_read_49_984787_987237.squiggle.npy already       \u001b[2m                    \u001b[0m\n",
       "\u001b[2;36m                    \u001b[0m         exists. Skipping\u001b[33m...\u001b[0m                                               \u001b[2m                    \u001b[0m\n"
      ]
     },
     "metadata": {},
     "output_type": "display_data"
    },
    {
     "data": {
      "text/html": [
       "<pre style=\"white-space:pre;overflow-x:auto;line-height:normal;font-family:Menlo,'DejaVu Sans Mono',consolas,'Courier New',monospace\"><span style=\"color: #7fbfbf; text-decoration-color: #7fbfbf\">                    </span><span style=\"color: #000080; text-decoration-color: #000080\">INFO    </span> Generating squiggle for test_read_50_519896_522396                <a href=\"file:///home/adoni5/Projects/Icarust_supplementary/notebooks/make_squiggle.py\" target=\"_blank\"><span style=\"color: #7f7f7f; text-decoration-color: #7f7f7f\">make_squiggle.py</span></a><span style=\"color: #7f7f7f; text-decoration-color: #7f7f7f\">:</span><a href=\"file:///home/adoni5/Projects/Icarust_supplementary/notebooks/make_squiggle.py#120\" target=\"_blank\"><span style=\"color: #7f7f7f; text-decoration-color: #7f7f7f\">120</span></a>\n",
       "</pre>\n"
      ],
      "text/plain": [
       "\u001b[2;36m                   \u001b[0m\u001b[2;36m \u001b[0m\u001b[34mINFO    \u001b[0m Generating squiggle for test_read_50_519896_522396                \u001b]8;id=123806;file:///home/adoni5/Projects/Icarust_supplementary/notebooks/make_squiggle.py\u001b\\\u001b[2mmake_squiggle.py\u001b[0m\u001b]8;;\u001b\\\u001b[2m:\u001b[0m\u001b]8;id=596963;file:///home/adoni5/Projects/Icarust_supplementary/notebooks/make_squiggle.py#120\u001b\\\u001b[2m120\u001b[0m\u001b]8;;\u001b\\\n"
      ]
     },
     "metadata": {},
     "output_type": "display_data"
    },
    {
     "data": {
      "text/html": [
       "<pre style=\"white-space:pre;overflow-x:auto;line-height:normal;font-family:Menlo,'DejaVu Sans Mono',consolas,'Courier New',monospace\"><span style=\"color: #7fbfbf; text-decoration-color: #7fbfbf\">                    </span><span style=\"color: #000080; text-decoration-color: #000080\">INFO    </span> Invalid characters found in sequence of                           <a href=\"file:///home/adoni5/Projects/Icarust_supplementary/notebooks/make_squiggle.py\" target=\"_blank\"><span style=\"color: #7f7f7f; text-decoration-color: #7f7f7f\">make_squiggle.py</span></a><span style=\"color: #7f7f7f; text-decoration-color: #7f7f7f\">:</span><a href=\"file:///home/adoni5/Projects/Icarust_supplementary/notebooks/make_squiggle.py#122\" target=\"_blank\"><span style=\"color: #7f7f7f; text-decoration-color: #7f7f7f\">122</span></a>\n",
       "<span style=\"color: #7fbfbf; text-decoration-color: #7fbfbf\">                    </span>         test_read_50_519896_522396, removing them                         <span style=\"color: #7f7f7f; text-decoration-color: #7f7f7f\">                    </span>\n",
       "</pre>\n"
      ],
      "text/plain": [
       "\u001b[2;36m                   \u001b[0m\u001b[2;36m \u001b[0m\u001b[34mINFO    \u001b[0m Invalid characters found in sequence of                           \u001b]8;id=706649;file:///home/adoni5/Projects/Icarust_supplementary/notebooks/make_squiggle.py\u001b\\\u001b[2mmake_squiggle.py\u001b[0m\u001b]8;;\u001b\\\u001b[2m:\u001b[0m\u001b]8;id=798035;file:///home/adoni5/Projects/Icarust_supplementary/notebooks/make_squiggle.py#122\u001b\\\u001b[2m122\u001b[0m\u001b]8;;\u001b\\\n",
       "\u001b[2;36m                    \u001b[0m         test_read_50_519896_522396, removing them                         \u001b[2m                    \u001b[0m\n"
      ]
     },
     "metadata": {},
     "output_type": "display_data"
    },
    {
     "data": {
      "text/html": [
       "<pre style=\"white-space:pre;overflow-x:auto;line-height:normal;font-family:Menlo,'DejaVu Sans Mono',consolas,'Courier New',monospace\"><span style=\"color: #7fbfbf; text-decoration-color: #7fbfbf\">                    </span><span style=\"color: #800000; text-decoration-color: #800000\">WARNING </span> File with name                                                    <a href=\"file:///home/adoni5/Projects/Icarust_supplementary/notebooks/make_squiggle.py\" target=\"_blank\"><span style=\"color: #7f7f7f; text-decoration-color: #7f7f7f\">make_squiggle.py</span></a><span style=\"color: #7f7f7f; text-decoration-color: #7f7f7f\">:</span><a href=\"file:///home/adoni5/Projects/Icarust_supplementary/notebooks/make_squiggle.py#145\" target=\"_blank\"><span style=\"color: #7f7f7f; text-decoration-color: #7f7f7f\">145</span></a>\n",
       "<span style=\"color: #7fbfbf; text-decoration-color: #7fbfbf\">                    </span>         r9_squiggle/test_read_50_519896_522396.squiggle.npy already       <span style=\"color: #7f7f7f; text-decoration-color: #7f7f7f\">                    </span>\n",
       "<span style=\"color: #7fbfbf; text-decoration-color: #7fbfbf\">                    </span>         exists. Skipping<span style=\"color: #808000; text-decoration-color: #808000\">...</span>                                               <span style=\"color: #7f7f7f; text-decoration-color: #7f7f7f\">                    </span>\n",
       "</pre>\n"
      ],
      "text/plain": [
       "\u001b[2;36m                   \u001b[0m\u001b[2;36m \u001b[0m\u001b[31mWARNING \u001b[0m File with name                                                    \u001b]8;id=524677;file:///home/adoni5/Projects/Icarust_supplementary/notebooks/make_squiggle.py\u001b\\\u001b[2mmake_squiggle.py\u001b[0m\u001b]8;;\u001b\\\u001b[2m:\u001b[0m\u001b]8;id=391881;file:///home/adoni5/Projects/Icarust_supplementary/notebooks/make_squiggle.py#145\u001b\\\u001b[2m145\u001b[0m\u001b]8;;\u001b\\\n",
       "\u001b[2;36m                    \u001b[0m         r9_squiggle/test_read_50_519896_522396.squiggle.npy already       \u001b[2m                    \u001b[0m\n",
       "\u001b[2;36m                    \u001b[0m         exists. Skipping\u001b[33m...\u001b[0m                                               \u001b[2m                    \u001b[0m\n"
      ]
     },
     "metadata": {},
     "output_type": "display_data"
    },
    {
     "data": {
      "text/html": [
       "<pre style=\"white-space:pre;overflow-x:auto;line-height:normal;font-family:Menlo,'DejaVu Sans Mono',consolas,'Courier New',monospace\"><span style=\"color: #7fbfbf; text-decoration-color: #7fbfbf\">                    </span><span style=\"color: #000080; text-decoration-color: #000080\">INFO    </span> Creating distributions file.                                      <a href=\"file:///home/adoni5/Projects/Icarust_supplementary/notebooks/make_squiggle.py\" target=\"_blank\"><span style=\"color: #7f7f7f; text-decoration-color: #7f7f7f\">make_squiggle.py</span></a><span style=\"color: #7f7f7f; text-decoration-color: #7f7f7f\">:</span><a href=\"file:///home/adoni5/Projects/Icarust_supplementary/notebooks/make_squiggle.py#147\" target=\"_blank\"><span style=\"color: #7f7f7f; text-decoration-color: #7f7f7f\">147</span></a>\n",
       "</pre>\n"
      ],
      "text/plain": [
       "\u001b[2;36m                   \u001b[0m\u001b[2;36m \u001b[0m\u001b[34mINFO    \u001b[0m Creating distributions file.                                      \u001b]8;id=710161;file:///home/adoni5/Projects/Icarust_supplementary/notebooks/make_squiggle.py\u001b\\\u001b[2mmake_squiggle.py\u001b[0m\u001b]8;;\u001b\\\u001b[2m:\u001b[0m\u001b]8;id=374151;file:///home/adoni5/Projects/Icarust_supplementary/notebooks/make_squiggle.py#147\u001b\\\u001b[2m147\u001b[0m\u001b]8;;\u001b\\\n"
      ]
     },
     "metadata": {},
     "output_type": "display_data"
    }
   ],
   "source": [
    "# make directory if it doesn't already exist\n",
    "R9_OUTDIR.mkdir(exist_ok=True)\n",
    "job_progress, overall_progress, progress_table, task_lookup = progress_bar_setup(1)\n",
    "barcode = None\n",
    "get_sequence(\n",
    "    TEST_FASTA.resolve(),\n",
    "    R9_OUTDIR,\n",
    "    job_progress,\n",
    "    task_lookup,\n",
    "    0,\n",
    "    barcode,\n",
    "    None,\n",
    ")"
   ]
  },
  {
   "cell_type": "markdown",
   "id": "1a258bf6-fe6f-49a4-ab1a-2bde60c7fd38",
   "metadata": {},
   "source": [
    "### Create R10 squiggle\n"
   ]
  },
  {
   "cell_type": "code",
   "execution_count": 76,
   "id": "ca4e732c-01ac-4d35-89a1-193b70725d60",
   "metadata": {},
   "outputs": [],
   "source": [
    "FORMAT = \"%d%m%y%H%M%S\"\n",
    "\n",
    "\n",
    "def sliding_window(iterable, n):\n",
    "    # sliding_window('ABCDEFG', 4) --> ABCD BCDE CDEF DEFG\n",
    "    it = iter(iterable)\n",
    "    window = collections.deque(islice(it, n), maxlen=n)\n",
    "    if len(window) == n:\n",
    "        yield tuple(window)\n",
    "    for x in it:\n",
    "        window.append(x)\n",
    "        yield tuple(window)\n",
    "\n",
    "\n",
    "def signalify(kmers: dict[str, float], sequence: str) -> npt.NDArray[np.int16]:\n",
    "    \"\"\"convert a given sequence to signal using R10 models,\n",
    "    returning np array containing 10 samples per base\"\"\"\n",
    "    a = []\n",
    "    # Always upper case signal\n",
    "    for kmer in sliding_window(sequence.upper(), 9):\n",
    "        value = kmers[\"\".join(kmer)]\n",
    "        for _ in range(sample(SAMPLES, 1)[0]):\n",
    "            # for _ in range(10):\n",
    "            a.append(value)\n",
    "    if True:\n",
    "        a = expandy(np.array(a).astype(np.int16), 1 / np.sqrt(2))\n",
    "    return np.array(a).astype(np.int16)\n",
    "\n",
    "\n",
    "def read_kmers() -> dict[str, float]:\n",
    "    kmers = {}\n",
    "    with open(R10_KMERS_MODEL, newline=\"\") as csvfile:\n",
    "        reader = csv.DictReader(csvfile, delimiter=\"\\t\", fieldnames=[\"Kmer\", \"Value\"])\n",
    "        kmers = {row[\"Kmer\"]: float(row[\"Value\"]) for row in reader}\n",
    "        return kmers\n",
    "\n",
    "\n",
    "def expandy(arr, n):\n",
    "    \"\"\"\n",
    "    This is a super slow function that we need to run in some other way to make it more efficient.\n",
    "    :param arr:\n",
    "    :param n:\n",
    "    :return:\n",
    "    \"\"\"\n",
    "    return np.random.laplace(arr, n)"
   ]
  },
  {
   "cell_type": "code",
   "execution_count": 8,
   "id": "f94fdd16-2536-496a-821d-ffc02c859d64",
   "metadata": {},
   "outputs": [],
   "source": [
    "kmers = read_kmers()"
   ]
  },
  {
   "cell_type": "code",
   "execution_count": 9,
   "id": "e9a8f114-22f1-4bce-9c9c-e650ac3f9fd3",
   "metadata": {},
   "outputs": [],
   "source": [
    "fa = Fasta(str(TEST_FASTA.resolve()))\n",
    "R10_SQUIGGLE_OUTDIR.mkdir(exist_ok=True)\n",
    "for seq in fa:\n",
    "    name, seq = seq.name, seq.seq\n",
    "    signal = signalify(kmers, seq)\n",
    "    with open(R10_SQUIGGLE_OUTDIR / f\"{name}.npy\", \"wb\") as fh:\n",
    "        np.save(fh, signal, allow_pickle=False)"
   ]
  },
  {
   "cell_type": "markdown",
   "id": "0b95b79b-17cc-451b-b9f9-a7da68c3fd73",
   "metadata": {},
   "source": [
    "# Generate RNA squiggle\n"
   ]
  },
  {
   "cell_type": "code",
   "execution_count": 77,
   "id": "4071bdfb-f31d-4e37-ae3c-5a49ff7b4d39",
   "metadata": {},
   "outputs": [],
   "source": [
    "def signalify_rna(kmers: dict[str, float], sequence: str) -> npt.NDArray[np.int16]:\n",
    "    \"\"\"convert a given sequence to signal using RNAR9 models,\n",
    "    returning np array containing 10 samples per base\"\"\"\n",
    "    a = []\n",
    "\n",
    "    for kmer in sliding_window(sequence.upper(), 5):\n",
    "        for _ in range(43):\n",
    "            value = kmers[\"\".join(kmer)][\"value\"]\n",
    "            std_level = kmers[\"\".join(kmer)][\"std_level\"]\n",
    "            a.append(value)\n",
    "    return expandy(np.array(a), std_level).astype(np.int16)[::-1]\n",
    "\n",
    "\n",
    "def read_rna_kmers() -> dict[str, float]:\n",
    "    with open(RNAR9_KMERS_MODEL, newline=\"\") as csvfile:\n",
    "        reader = csv.DictReader(\n",
    "            csvfile, delimiter=\"\\t\", fieldnames=[\"kmer\", \"value\", \"std_level\"]\n",
    "        )\n",
    "        kmers = {\n",
    "            row[\"kmer\"]: {\n",
    "                \"value\": float(row[\"value\"]),\n",
    "                \"std_level\": float(row[\"std_level\"]),\n",
    "            }\n",
    "            for row in reader\n",
    "        }\n",
    "        return kmers"
   ]
  },
  {
   "cell_type": "code",
   "execution_count": 78,
   "id": "47dd722b-8a40-43c9-ab29-f831642653ed",
   "metadata": {},
   "outputs": [],
   "source": [
    "rna_kmers = read_rna_kmers()\n",
    "fa = Fasta(str(TEST_FASTA.resolve()))\n",
    "RNAR9_SQUIGGLE_OUTDIR.mkdir(exist_ok=True)\n",
    "polya = \"AAAAAAAAAAAAAAAAAAAAAAAAAAAAAAAAAAAAAAAAAAAAAAAAAAAAAAAAAAAAAAAAAAAAAAAAAAAAAAAAAAAAAAAAAAAAAAAAAAAAAAAAAAAAAAAAAAAAAAAAAAAAAAAAAAAAAAAAAAAAAAAAAAAAAAAAAAAAAA\"\n",
    "prefix = \"AAAAAGAAAAAACCCCCCCCCCCCCCCCCC\"\n",
    "for seq in fa:\n",
    "    name, seq = seq.name, seq.seq\n",
    "    seq = seq\n",
    "    signal = signalify_rna(rna_kmers, seq)\n",
    "    with open(RNAR9_SQUIGGLE_OUTDIR / f\"{name}.npy\", \"wb\") as fh:\n",
    "        np.save(fh, signal, allow_pickle=False)"
   ]
  },
  {
   "cell_type": "markdown",
   "id": "5b1c4650-9bad-4118-801f-8becab7827f6",
   "metadata": {},
   "source": [
    "### Basecall R9 signal\n",
    "\n"
   ]
  },
  {
   "cell_type": "code",
   "execution_count": 79,
   "id": "21612a21-52f8-4c85-b667-5f7945363341",
   "metadata": {
    "jupyter": {
     "source_hidden": true
    },
    "scrolled": true
   },
   "outputs": [
    {
     "name": "stdout",
     "output_type": "stream",
     "text": [
      "aaaatatttacagtaacTATGGAACACAAAGGTTTATTACATCCATAATT\n",
      "\n",
      "TTTACAGTAACTATGGAACACAAAGGTTTATTACATCCATAGTCTATA\n",
      "41M\n",
      "0.82\n",
      "read_id: test_read_1_140891_140941 \n",
      "\tmap_start 6, map end 47\n",
      "\t50\n",
      "TTGGCACAGAGGCAGCAGAGCAGGGAGGTGAAGAGAGTGGGCTCTGGACCCAGCCTCAGTCCACATCCCGGTTCTGTCCTTTGATGGCCGTGTGAGGATA\n",
      "\n",
      "ACAGAGGCAGCAGAGCAGGGAGGTGAAGAGAGTGGGCTCTGGACCCAGCCTCAGTCCACATCCCGGTTCTGTCCTTTGATGGCCGTGTGAGGATGGGCA\n",
      "94M\n",
      "0.94\n",
      "read_id: test_read_2_596853_596953 \n",
      "\tmap_start 5, map end 99\n",
      "\t100\n",
      "AGCTTATTACCTGCTTCCTAAATTTGCCTTTCTCCATCACTGCAATGGCAGCTCCATTCTCCCTGATGCTTAGGCCCCAGGAGCTGTCAACCCTGTCCCCCACATCCAACTCATCTGCAGGTCCTGTCAGCCTTGCCTTCCAGGTGGCCC\n",
      "\n",
      "TTACCTGCTTCCTAAATTTGCCTTTCTCCATCACTGCAATGGCAGCTCCATTCTCCCTGATGCTTAGGCCCCAGGAGCTGTCAACCCTGTCCCCCACATCCAACTCATCTGCAGGTCCTGTCAGCCTTGCCTTCCAGGTATT\n",
      "139M\n",
      "0.9266666666666666\n",
      "read_id: test_read_3_888598_888748 \n",
      "\tmap_start 6, map end 145\n",
      "\t150\n",
      "GAAGTTGCGCAAACTCAGCTTGCCGGAGCCCCAGGTGGGCCGGGCCGGAGGAGCGCAGGCCAGCGGCGCGGGCGCAGCCGGGTACGTGCGGACCGCGGCGGGGGGCGCCCAGCCGGGGTAGGGGGCGGCCCGAGCACCCCTCCACCCCAGGACGGCGGGAACGGGGCAGGGATCTACCTTTCGGCTTCAAGAGGACCGCG\n",
      "\n",
      "GCGCAAACTCAGCTTGCCGGAGCCCCAGGTGGGCCGGGCCGGAGGAGCGCAGGCCAGCGGCGCGGGCGCAGCCGGGTGCGTGCGGACCGCGGCGGGGGGCGCCCAGCCGGGGTAGGGGGCGGCCCGAGCACCCCTCCACCCCAGGACGGCGGGAACGGGGCAGGGATCTACCTTTCGGCTTCAAGAGGACCGCCTGTT\n",
      "193M\n",
      "0.965\n",
      "read_id: test_read_4_841235_841435 \n",
      "\tmap_start 6, map end 199\n",
      "\t200\n",
      "tgagaattgaacagaaaattttatattcgagtgctatttattttgaggcacagaaactttatatataacaatataaacCCGAGACCTTGGCgggcacacacacaagcagctgAATGTCAAGAGGAGTGGAGGAACGGAGTGGCAGAGAATGGCAGAGAGCGCTGGAGAGTGGCAGAGCAGcatggcagagagggagggaagaggcgTCTGAACTTTGGAAGACACCTCCACTCCTCAATAAAGTCTCCGC\n",
      "\n",
      "ATTGAACAGAAAATTTTATATTCGAGTGCTATTTATTTTGAGGCACAGAAACTTTATATATAACAATATAAACCCGAGACAGCGGGCACACACACAAACAGCTGAATGTCAAGAGGAGTGGAGGAACGGAGTGGCAGAGAATGGCAGAGAGCGCTGGAGAGTGGCAGAGCAGCATGGCAGAGAGGGAGGGAAGAGGCGTCTGAACTTTGGAAGACACCTCCACTCCTCAATAAAGTCTCAGCGA\n",
      "80M3D159M\n",
      "0.956\n",
      "read_id: test_read_5_800875_801125 \n",
      "\tmap_start 5, map end 247\n",
      "\t250\n",
      "GAACATTTGAATAGAAATTTCCCAAatgaacacaaacacaaaaaagtaaagaaaaattgaatACAACATCAGAGAGATGTGAGATATTATCAAATAATTCAACATGGATTTAATTGGCTCccaagaagaagggaaggagagaatgaagcagaagaaataagAGCTAATAGCCTCCTACATAGCAAAATTGATCCAAGAACTTCAGCAAGGTCTAATTAGgacaaattcaaagaaaatttctAGACATAGTGgatttcaaactgctgaaaatcaaAGACAGAGAACAAATCTTAAAAGTAGCCAGAGAAAAAGGACATGTTATCTAGGAAGGAACAATGACACAAATGATG\n",
      "\n",
      "GATGTGAGATATTATCAAATAATTCAACATGGATTTAATTGGCTCCCAAAGAAGAAGGGAAGGAGAGAATGAAGCAGAAGAAATAAGAGCTAATAGCCTCCTACATAGCAAAATTGATCCAAGAACTTCAGCAAGGTCTAATTAGGACAAATTCAAAGAAAATTTCTAGACATAGTGGATTTCAAACTGCTGAAAATCAAAGACAGAGAACAAATCTTAAAAGTAGCCAGAGAAAAAGGACATGTTATCTAGGAAGGAACAATGACACAAATGATGAG\n",
      "47M1I228M\n",
      "0.7834757834757835\n",
      "read_id: test_read_7_123646_123996 \n",
      "\tmap_start 75, map end 350\n",
      "\t350\n",
      "ggcTACAAACGATGGGAGGCGGAgaggggtgagggttgaaaaattacctattgggtgcAACATTCACTATCCGGGTAATGGGGCACTAGAAGCCCACtccaccactatgcaatatatgtatttgtaccccgtaaatctataaaaataaaaactacattaaaaataataataatgtctggTCATCTAAATAGTACCTCTACAGCTTATTAAGTGCTCTGGAGACGTCCCAGTTGCCTGTCCTTCCCATTAAAGGTGATATCCAGTGCTGATTTCCCCTTCAACCTCGGGTTCCCATAAACC\n",
      "\n",
      "CAAACGATGGGAGGCGGAGAGGGGTGAGGGTTGAAAAATTACCTATTGGGTGCAACATTCACTATCCGGGTAATGGGGCACTAGAAGCCCACTCCACCACTATGCAATATATGTATTTGTACCCCGTAAATCTATAAAAATAAAAACTACATTAAAAATAATAATAATGTCTGGTCATCTAAATAGTACCTCTACAGCTTATTAAGTGCTCTGGAGACGTCCCAGTTGCCTGTCCTTCCCATTAAAGGTGATATCCAGTGCTGATTTCCCCTTCAACCTCGGGTTCCCATAAATAATA\n",
      "293M\n",
      "0.9766666666666667\n",
      "read_id: test_read_6_267459_267759 \n",
      "\tmap_start 5, map end 298\n",
      "\t300\n",
      "ccaggagttggaggccagcctgggcaaaacagcaagaccttgtctcaaacaaaaacaaaaaactaaagacAAGCAAGTACAGAAAAAGGCAGATTATATTCAAAGAGCAACATTAGAACAGCTGATTTTTCAAAACCAACAATGAAGCCAAGTAGTTTAATACCTGCAGtgtgctgaaaaaaataaatagccgCCAAATTAAAATTCTGTTATCAAGCAaatgtctctaaagaaaaaagaaaaataatcccattttGGAAGGTCtgagttgaaagaaaaaataaagagcaaaaaagaggaaaatttacaGACAGCTCCAAACAAACACTGATTATACAAAAGAATAACAATACCTTGAGGAGCTTTAAAACATAGAatacataacaataaaaacacagtG\n",
      "\n",
      "GTTGGAGGCCAGCCTGGGCAAAACAGCAAGACCTTGTCTCAAACAAAAACAAAAAACTAAAGACAAGCAAGTACAGAAAAAGGCAGATTATATTCAAAGAGCAACATTAGAACAGCTGATTTTCAAAACCAACAATGAAGCCAAGTAGTTTTAATACCTGCAGTGTGCTGAAAAAAATAAATAGCCGCCAAATTAAAATTCTGTTATCAAGCAAATGTCTCTAAAGAAAAAAGAAAAATAATCCCATTTTGGAAGGTCTGAGTTGAAAGAAAAAATAAAGAGCAAAAAAGAGGAAAATTTACAGACAGCTCCAAACAAACACTGATTATACAAAAGAATAACAATACCTTGAGGAGCTTTAAAACATAGAATACATAACAATAAAAACACAGTGG\n",
      "119M1D29M1I245M\n",
      "0.9800498753117207\n",
      "read_id: test_read_8_519501_519901 \n",
      "\tmap_start 6, map end 400\n",
      "\t400\n",
      "TAACTACTGAAACCGCAGTCCGCACAGCAGAGAGAGGATGGACTCACCACACCCAAGTCAAGAAAGCACCGCCCCCTCCAGAGTCGTGGGccatagtcccaggggaaaaccctacTAAACTAAAGCTAAGAAGAATTTAACTCcctttcatctattctattactcttttttctttcctcactctATTGCTGACCATatagttattaacataaccaagtcaatttcaCCTCAACTATTGCATTtgatgcttgccttgttataTCCTGTGGGGATTTGTCAAGCCAAAGAAAGCTCTCTACTTCAGATACCTCTGTCCCTCCTGGCTCTCCTCAGACTAGGCATTAGTGAATCGGGACCATTTAATCTGGGGAGATTTCTATAAAGATCCCAGTGGCAACCAGGAGTCTTCCCCCAGTGATGTAGAGCTTTTAAGCCATAGTTGGTCCAAAG\n",
      "\n",
      "ACTGAAACCGCAGTCCGCACAGCAGAGAGAGGATGGACTCACCACACCCAAGTCAAGAAAGCACCGCCCCTCCAGAGTCGTGGGCCATAGTCCCAGGGAAAACCTACTAAACTAAAGCTAAGAAGAATTTAACTCCCTTTCATCTATTCTATTACTCTTTTTCTTTCCTCACTCTATTGCTGACCATATAGTTATTAACATAACCAAGTCAATTTCACCTCAACTATTGCATTTGATGCTTGCCTTGTTATATCCTGTAGAGGTTGTCAAGCCAAAGAAAGCTCTCTACTTCAGATACCTCTGTCCCTCCTGGCTCTCCTCAGACTAGGCATTAGTGAATCAGGACCATTTAATCTGGGGAGATTTCTATAAAGATCCCAGTGGCAACCAGGAGTCTTCCCCAGTGATGTAGAGCTTTTAAGCCATAGTTGGTCCAGAAATCT\n",
      "66M1D32M2D59M1D101M1I4M2D135M1D38M\n",
      "0.9645232815964523\n",
      "read_id: test_read_9_797926_798376 \n",
      "\tmap_start 5, map end 447\n",
      "\t450\n",
      "actaattcatgggctttttgtaatttctctctctttaaagGCTACTGTTTTACCCAAATAGGATTTTGAGAGAGCCATGTCAGGGGTAGGGGAGGAATAACAGTGGCCATTATTAGAAAGGTTTGCTGTTCACACAATTTATCAAATTCTGCCCTCCAGAGGAGGTACTGACTGGCCTTTAAAGTTGTTTTAGCTAGCACTGACCAGTCCCATGGGGTGATATGGAAGTTGTCTGCTATGGTTTCAATTATTCCTTTTGTAAATGGGCTAGTGGCTCCGTTTAATGCTTTTTCTTACCACTTTATAAGCGTCAAAAGAAGTTGTCTGCTATGGCTTCAATTATTCCTTTCATAAATGGGCTAGCAGCTCCATTTTCTTTAAcgtttttttcttatctctttataAGCGTCAAAAGAAATGGGTTCATATACCTGATCGCCTTGTCGATCTTGCATTACTGGGCAGGCTAAGAGCTCCCCTTCTGATGCCGCTTGGCTAAG\n",
      "\n",
      "TTCATGGGCTTTTTGTAATTTCTCTCTCTTTAAAGGCTACTGTTTTACCCAAATAGGATTTTGAGAGAGCCCATGTCAGGGGTAGGGGAGGAATAACAGTGGCCATTATTAGAAAGGTTTGCTGTTCACACAATTTATCAAATTCTGCCCTCCAGAGGAGGTACTGACTGGCCTTTAAAGTTGTTTTAGCTAGCACTGACCAGTCCCATGGGGTGATATGAGTTGTCTGCTATGGTTTCAATTATTCCTTTTGTAAATGGGCTAGTGGCTCCGTTTAATGCTTTTTCTTACCACTTTATAAGCGTCAAAAGAAGTTGTCTGCTATGGCTTCAATTATTCCTTTCATAAATGGGCTAGCAGCTCCATTTTCTTTAACGTTTTTTTCTTATCTCTTTATAAGCGTCAAAAGAAATGGGTTCATATACCTGATCGCCTTGTCGATCTTGCATTACTGGGCAGGCTAAGAGCTCCCTTCTGATGCCGCTTGGCTAAGTAA\n",
      "69M1I150M2D249M1D24M\n",
      "0.9820359281437125\n",
      "read_id: test_read_10_471325_471825 \n",
      "\tmap_start 5, map end 500\n",
      "\t500\n",
      "AGTCATCACAGCTTGTCACCTTAAAAAACTGAAATGCTAAAGCATGTGGCCATTACAGCTCTCATGTAAAAGCATTTGCAGACAACAGGGCCCTTATGACATCCAATAAACAGAAACAGCATTTTCTGTATATCTCGTCCACTTAACTGTGCACATTTAATTCTCACGAATACCTAGTCGCCTGCAGGGCTATTATTACCCACACTGTACACGtaagaaaaagaaggcaaatgGAGAGAAAGTAGTTTCTCAGGAAACCAGTTACTCAATAAATAAGGCGAGAAGCCACGTTTCCGGGCTTAGAAGATGAACATTTTGCCCACTTTACTCATGTTTCCTTCTTGGGAATATTCTTAGGAATATAAATAATGGTTCAAACATGTTGACTTGTAAATTCGtacattcattcaccaaatatttctcAACTGCCGAATAGGTACTAGGGCCTGTGACAACACAAGGGATAAAGTGTTGAAGATGGGCAATTAGCTACATCATGTAGATAAATAACACTTGTCAGCCTATCACTTTACCTTTCTGTGCTCATGAT\n",
      "\n",
      "TCACAGCTTGTCACCTTAAAAAACTGAAATGCTAAAGCATGTGGCCATTACAGCTCTCATGTAAAAGCATTTGCAGACAACAGGGCCCTTATGACATCCAATAAACAGAAACAGCATTTTCTGTATATCTCGTCCATAACTGTGCACATTTAATTCTCACGAATACCTAGTCGCCTGCAGGGCTATTATTACCCACTGTACACGTAAGAAAAAGAAGGCAAATGGAGAGAAAGTAGTTTCTCAGGAAACCAGTTACTCAATAAATAAGGCGAGAAGCCACGTTTCCGGGCTTAGAAGATGAACATTTTGCCCACTTTACTCATGTTTCCTTCTTGGGAATATTCTTAGGAATATAAATAATGGTTCAAACATGTTGACTTGTAAATTCGTACATTCATTCACCAAATATTTCTCAACTGCCGAATGAGTACTAGGGCCTGTGACAACACAAGGGATAAAGTGTTGAAGATGGGCAATTAGCTACATCATGTAGATAAATAACACTTGTCAGCCTATCACTTTACCTTTCTGTGCTCATGATCAT\n",
      "136M2D57M2D348M\n",
      "0.9836363636363636\n",
      "read_id: test_read_11_495185_495735 \n",
      "\tmap_start 5, map end 550\n",
      "\t550\n",
      "caattgaatgaataaactaatGAGTGAAAAACCTTCTTGCGACCCGCAGTCACCTTGGTCCCCTTTGACCAGAGCCAGGTTGACGTGTCAACCGTCAAGATATCCCTCTGTTTTGGGTGATAATTAGATTTCTATCTTGACTGTTACAGACATTGGTATTCCTCcattaaaatgtctttctttcagGCCAggtccggtggctcacgcctgtaatcccaacactctggggggccgaggcgggtggatcacctgagttcaggagttcgagaccagactggccaacatggtgaaaccctgtctctactaaaaatacaaaaatcagctgggcatgatggggcgtgcctgtgatcccagctactcaggaggctgaggcatgagaatcgcttgaacctgggaggaggaggttgcagtgagccaagactgcgccactgcactccagcctaggtgatggagtgagactctgtcttaaaaaaaaaaaaaaaagaaagaaagaaaagaaaaaaagtctttctttCAAAGTTGGAGACATCCCTAAACATTCTAACTCCTGTCCCTGACAAGGTCCCATCTTAAGCAGGTCTCTGAAACCTCTGGAAGAAG\n",
      "\n",
      "AATGAATAAACTAATGAGTGAAAAACCTTCTTGCGACCCGCAGTCACCTTGGTCCCCTTTGACCAGAGCCAGGTTGACGTGTCAACCGTCAAGATATCCCTCTGTTTTGGGTGATAATTAGATTTCTATCTTGACTGTTACAGACATTGGTATTCCTCCATTAAAATGTCTTTCTTTCAGGCCAGGTCCGGTGGCTCACGCCTGTAATCCCAACACTCTGGGAGGCCGAGGCGGGTGGATCACCTGAGTTCAGGAGTTCGAGACCAGACTGGCCAACATGGTGAAACCCTGTCTCTACTAAAAATACAAAAATCAGCTGGGCATGATGGGGCGTGCCTGTGATCCCAGCTACTCAGGAGGCTGAGGCATGAGAATCGCTTGAACCTGGGAGGAGGAGGTTGCAGTGAGCCAAGACTGCGCCACTGCACTCCAGCCTAGGTGATGGAGTGAGACTCTGTCTTAAAAAAAAAAAAAAAAAGAAAGAAAGAAAGAAAAAAAGTCTTTCTTTCAAAGTTGGAGACATCCTAAACATTCTAACTCCTGTCCCTGACCAAGGTCCCATCTTAAGCAGGTCTCTGAAACCTCTGGAAGAAATGA\n",
      "461M1I25M1D36M1D27M1I42M\n",
      "0.9817275747508306\n",
      "read_id: test_read_12_683244_683844 \n",
      "\tmap_start 6, map end 599\n",
      "\t600\n",
      "ATCCTGGCTCCAGCACTCAATAGCTGTTTGACCCTTGGCAAGTTTCTTAACCACTCTATGCCTCagattcttcatctgtgaaatgggggacAATGATAGTACCTAACTTATGAGAACTAAATGACTTATTTTGTATAAAGCAATTAGAACAAGCAGCGCCTGGCATAATAAGCCCACAATAAAAGTTActcccggctgggcacggtggctcacgcctgtaatcccagcactttgggaggccgaggtgggcagatcacaaggtcaggagttcaagaccaacctgaccaacatggtgaaaccccgtctctactaaaaatacaaaaatttttagtagagacggggcgtggtggtgcgtgcctgtagtcccagctactcgggaggctgaggcaggagaattgcttgaacccgggaggtggacgttgcagtgagccaagatcccgccactgcactcagcctgggcaagagagcgagactccgtctcgaaaaaaaaaaaaatggtgctccCACATTTCTTTCTTGGGATGGAGGAAGCTTTCCCAGAAGCGCTCCTGACCGACTTTCCCACACATCTCACTGGTCAGAACTGCATCACTTGCCGTTTCTGACCAATCACCAGCTTACATTCATGGGGCACGTGCTTACACTAACCA\n",
      "\n",
      "GCTCCAGCACTCAATAGCTGTTTGACCCTTGGCAAGTTTCTTAACCACTCTATGCCTCAGATTCTTCATCTGTGAAGTAGGGGACAATGATAGTACCTAACTTATGAGAACTAAATGACTTATTTTGTATAAAGCAATTAGAACAAGCAGCGCCTGGCATAATAAGCCCACAATAAAAGTTACTCCCGGCTGGGCACGGTGGCTCACGCCTGTAATCCCAGCACTTTGGGAGGCCGAGGTGGGCAGATCACAAGGTCAGGAGTTCAAGACCAACCTGACCAACATGGTGAAACCCCGTCTCTACTAAAAATACAAAAATTTTTAGTAGAGACGGGGCGTGGTGGTGCGTGCCTGTAGTCCCAGCTACTCGGGAGGCTGAGGCAGGAGAATTGCTTGAACCCGGGAGGTGGACGTTGCAGTGAGCCAAGATCCCGCCACTGCACTCCAGCCTGGGCAAGAGAGCGAGACTCCGTCTCGAAAAAAAAAAAAATGGTGCTCCCACATTTCTTTCTTGGGATGGAGGAAGCTTTCCCAGAAGCGCTCCTGACCGACTTTCCCACATCTCACTGGTCAGAACTGCATCACTTGCCGTTTCTGACCAATCACCAGCTTACATTCATGGGGCACGTGCTTACACTAATATG\n",
      "444M1I112M2D83M\n",
      "0.9815668202764977\n",
      "read_id: test_read_13_398055_398705 \n",
      "\tmap_start 6, map end 647\n",
      "\t650\n",
      "TGAAAAATGCATAAGAGTCTTTCAAcggcagaattgatcaagcagaaggaaCTGGTGAGAACTGGCTATCCAAATATACACGAagccaaaaaaagaattaaaaaagaataaagtatgcctacaaaatgtagaaaatagtctcaaaagggTAAATCCAAGAGTTATTGGTCTTAAAGAGGATgtagagggagagaaaagggtaAATAGAGAgatcttttcctcagcacatggaacattttgaGAGATCAGGGTAGAAAggtcagagaaataaaaacaaacaaccttccAAACCTCAAGAAAGATATAAACATCCAGGTACAAAAAGGTCAAAAAACACCAAGcagattcaacccaaataagactacctcaaggcttataataatcaaactttcaaagatcaaagataaagaaaggatcctaaaagcaccaagagaaaagaggcaaataacatataaaggaacTCCAATACATCTAGCAGCAGACTTTTCAACAGcaactttacaggccaggagggAGTGGGAAAACATATGaaaactgctgaaggaaaaccAACCTTCAACCTAGAATATTATCTCCAGCAAAATTATCCTctaaacatgaaggaaaaatagtctcccagacaaacaaaagctgaggaatttcatcaataccagatctgtcttacaagaaatgcccATGGGAGTTCTCCAACCTGAAATAAAAGGACATTAACTAACAACAAGAAATCGTCTGAAGGTATAAACTCACTGG\n",
      "\n",
      "ATATACACGAAGCCAAAAAAGAATTAAAAAAGAATAAAGTATGCCTACAAAATGTAGAAAATAGTCTCAAAAGGGTAAATCCAAGAGTTATTAGTCTTAAAGAGGATGTAGAGGGAGAGAAAAGGGTAAATAGAGAGATCTTTTCCTCAGCACATGGAACATTTTGAGAGATCAGAATTAGAAAGGTCAGAGAAATAAAAACAAACAACCTTCCAAACCTCAAGAAAGATATAAACATCCAGGTACAAAAAGGTCAAAAAACACCAAGCAGATTCAACCCAAATAAGACTACCTCAAGGCTTATAATAATCAAACTTTCAAAGATCAAAGATAAAGAAAGGATCCTAAAAGCACCAAGAGAAAAGGCAAATAACATATAAAGGAACTCAATACATCTAGCAGCAGACTTTTCAACAGCAACTTTACAGGCCAGGAGGGAGTGGGAAAACATATGAAAACTGCTGAAGGAAAACCAACCTTCAACCTAGAATATTATCTCCAGCAAAATTATCCTCTAAACATGAAGGAAAAATAGTCTCCCAGACAAACAAAAGCTGAGGAATTTCATCAATACCAGATCTGTCTTACAAGAAATGCCCATGGGAGTTCTCCAACCTGAAATAAAAGGACATTAACTAACAACAAGAAATCGTCTGAAGGTATAAACTCACTGAA\n",
      "14M1D161M1I187M2D24M1D286M\n",
      "0.8948069241011984\n",
      "read_id: test_read_15_220153_220903 \n",
      "\tmap_start 73, map end 749\n",
      "\t750\n",
      "agggaagccagctgccatgtcctGAGGTTACTCAAGAAGCCCTGTGGAGTAGGCCATTTGGGGAGGGACTGAGGCCCCCAGGCAACATCTGTCCCAACTTGCCAGTCATGTTAGTGAACTACCCTTGTCCAGCCTTCAGATGACACCTCATGAGAGGCCCTGAGAGAGTCTTATTGTCCCGTTCACCATTCCTGTTGCCCTGTGGCCAGCTAATCAGCTTGTggtggttttcatttcttttttctttttgccattaaTAGCAatgccaggctgggctcagtggctcatgcctgtaatcccagcactttgggaggccgaggtgggtggatcacctgaggtcagaagtttgagacaagcctggctaacatggtgaaaccctgtctctattaaaaatacaaaaattagccaggtgtgatggtgtgcgcctgtaatcctagctacttctCCCAAGTAGAAGGGCGTGATTCTTCTCATGCCtcatgctgaggcatgagaatcacttgaacccgggaggctgaggctgcagtgagcggtgtttgtgccactgcacttcagcctgggcgacagagtgagactatctcaaaaaaaaaaaaaaaagtagcaatgCCATAGTAAGTATTCTTCTAATTAAGCCCTTCTGAATCAGCTTAATTATTTGCTTAGGGTCAATTTCTAAATGCACAGTTGCTGGATCAGAGTA\n",
      "\n",
      "CCAGCTGCCATGTCCTGAGGTTACTCAAGAAGCCCTGTGGAGTAGGCCATTTGGGGAGGACTGAGGCCCCAGGCAACATCTGTCCCAACTTGCCAGTCATGTTAGTGAACTACCCTTGTCCAGCCTTCAGATGACACCTCATGAGGAGCCCTGAGAGAGTCTTATTGTCCCGTTCACCATTCCTGTTGCCCTGTGGCCAGCTAATCAGCTTGTGGTGGTTTTCATTTCTTTTTTCTTTTTGCCATTAATAGCAATGCCAGGCTGGGCTCAGTGGCTCATGCCTGTAATCCCAGCACTTTGGGAGGCCGAGGTGGGTGGATCACCTGAGGTCAGAAGTTTGAGACAAGCCTGGCTAACATGGTGAAACCCTGTCTCTATTAAAAATACAAAAATTAGCCAGGTGTGATGGTGTGCGCCTGTAATCCTAGCTACTTCTCCCAAGTAGAAGGGCGTGATTCTTCTCATGCCTCATGCTGAGGCATGAGAATCACTTGAACCCGGGAGGCTGAGGCTGCAGTGAGCGGTGTTTGTGCCACTGCACTTCAGCCTGGGCGACAGAGTGAGACTATCTCAAAAAAAAAAAAAAAAGTAGCAATGCCATAGTAAGTATTCTTCTAATTAAGCCCTTCTGAATCAGCTTAATTATTTGCTTAGGGTCAATTTCTAAATGCACAGTTGCTGGATCAGAGTGTGA\n",
      "57M1D9M1D624M\n",
      "0.9857142857142858\n",
      "read_id: test_read_14_827036_827736 \n",
      "\tmap_start 7, map end 699\n",
      "\t700\n",
      "aaatgtcttcttttgagaagtgtctgttcatatcctttgcccactttttgatgttttttttttcttgtaaatttaagttcttgtagattctggatattagacctttgttagctgggtagattgcaaagcgttcctcccattctgtaggctgcatgttcaccctgatgatagttttttttgctgtgcagaagctctttcatttaattagatcccatttgacaattttggcttttgttgcaattgcttttggtattttcttcatgaagtctttgcccatgcctatgtcctaaatggtattgcctaggttttcttctagggtttttatggttttgggtattacatttaagtctttaatccatcttgagttaatttttgtataaggtgtaaagaaggggtcccgattcagttttctccatatggctagccagttttctcagcaccatttattaaatatggatcaaattcacacataacactattaaccttaaatgtaaatgggctaaatgccccaattaaaagacacagactggcaaattggatagagtcaagacccattggtgtgctgtattcaggagacccatcacacatgcaaagacacacataggctcaaaataaagggatggaggaaaatttaccaagcagatagaaagaacaaaatagcaggggttgcaatcccagtctctgacaaaacagactttaaaccaacaaagatcaaaaaagacaagagcattacataacggtaaagtgatcaattcaacaactagagctaactatcctaatatatatgcacccaatacagg\n",
      "\n",
      "TCTTCTTTTGAGAAGTGTCTGTTCATATCCTTTGCCCACTTTTTGATGTTTTTTTTTCTTGTAAATTTAAGTTCTTGTAGATTCTGGATATTAGACCTTTGTTAGCTGGGTAGATTGCAAAGCATTCCTCCCATTCTGTAGGCTGCATGTTCACCCTGATGATAGTTTTTTTGCTGTGCAGAAGCTCTTTCATTTAATTAGATCCCATTTGACAATTTTGGCTTTTGTTGCAATTGCTTTTGGTATTTTCTTCATGAAGTCTTTGCCCATGCCTATGTCCTAAATGGTATTGCCTAGGTTTTCTTCTAGGGTTTTTATGGTTTTGGGTATTACATTTAAGTCTTTAATCCATCTTGAGTTAATTTTTGTATAAGGTGTAAAGAAGGGGTCCCGATTCAGTTTTCTCCATATGGCTAGCCAGTTTCTCAGCACCATTTATTAAATATGGATCAAATTCACACATAACACTATTAACCTTAAATGTAAATGGGCTAAATGCCCCAATTAAAAGACACAGACTGGCAAATTGGATAGAGTCAAGACCCATTGGTGTGCTGTATTCAGGAGACCCATCACACATGCAAAGACACACATAGGCTCAAAATAAAGGGATGGAGGAAAATTTACCAAGCAGATAGAAAGAACAAAATAGCAGGGGTTGCAATCCCAGTCTCTGACAAAACAGACTTTAAACCAACAAAGATCAAAAAGACAAAGGCATTACATAACAGTAAAGTGATCAATTCAACAACTAGAGCTAACTATCCTAATATATATGCACCCAATACAGATG\n",
      "48M1D117M1D256M1D284M1D85M\n",
      "0.9875\n",
      "read_id: test_read_16_98418_99218 \n",
      "\tmap_start 5, map end 799\n",
      "\t800\n",
      "aacctcatataagtggaatcagacaatatttgtcctttgttttgtttatttaatttagcataatgtcttcaaggctgatccatgttgtagcatgtgttagaattccaatccttttaaaggctgaatgatattgcactgtgtatatatatacacacacacacacacacacacacacaccacattttgcttatccatttatctgctgatggacacttgagttgcttccacagcttggctattgtaaataatgctgctatgaacataggtgTACAAACATCTGTTTGAGACCTCGCTTTCAAATCTTTtatgtatatatccagaagtggaactgctgaACCATGTAGTAATTctatgttaattttttgaagaaccagcATATTGTTTCaacaagctgggcacggtggctcactcctatacaGCAACTGTATCATTTTACACTCCCAGGAACAGTGCAAAGGCTACAACTTCTCTACATCCttactaacacttgttattttctgttttttgcttgtttttatagagacaggggtcttgcttatgcccaggctggtcttgagctcctggcctcaagggatcctcccacctcggcctcccaaagtgctctcaAAATagactgtgcctggcctattttttggttttcttttcttcttcttcttttttttttttcagtaacagCCCTCCTAATGAGTATGAAGTTGTATCTCATtgactgtgattttaatttgcatttccctaatgattaatgatgttgagcatctttttacatgcttattggccatttgtatatttgttttggaGAATGTCTATTCAAAGCTGTTGTCCattttttgattgggttgttttgtttgtt\n",
      "\n",
      "CATATAAGTGGAATCAGACAATATTTGTCCTTTGTTTTGTTTATTTAATTTAGCATAATGTCTTCAAGGCTGATCCATGTTGTAGCATGTGTTAGAATTCCAATCCTTTTAAAGGCTGAATGATATTGCACTGTGTATATATATACACACACACACACACACACACACACACCACATTTTGCTTATCCATTTATCTGCTGATGGACACTTGAGTTGCTTCCACAGCTTGGCTATTGTAAATAATGCTGCTATGAACATAGGTGTACAAACATCTGTTTGAGACCTCGCTTTCAAATCTTTTATGTATATATCCAGAAGTGGAACTGCTGAACCATGTAGTAATTCTATGTTAATTTTTTGAAGAACCAGCATATTGTTTTCAACAAGCTGGGCACGGTGGCTCACTCCTATACAGCAACTGTATCATTTTACACTCCAGGAACAGTGCAAAGGCTACAACTTCTCTACATCCTTACTAACACTTGTTATTTTCTGTTTTTTTGCTTGTTTTTTATAGAGACAGGGGTCTTGCCCATGCCCAGGCTGGTCTTGAGCTCCTGGCCTCAAGGGATCCTCCCACCTCGGCCTCCCAAAGTGCTCTCAAAATAGACTGTGCCTGGCCTATTTTTTGGTTTTCTTTTCTTCTTCTTCTTTTTTTTTTTTCAGTAACAGCCCTCCTAATGAGTATGAAGTTGTATCTCATTGACTGTGATTTTAATTTGCATTTCCCTAATGATTAATGATGTTGAGCATCTTTTTACATGCTTATTGGCCATTTGTATATTTGTTTTGGAGAATGTCTATTCAAAGCTGTTGTCCATTTTTTGATTGGGTTGTTTTGTTTGTTATC\n",
      "376M1I58M1D60M1I11M1I339M\n",
      "0.9894490035169988\n",
      "read_id: test_read_17_511554_512404 \n",
      "\tmap_start 5, map end 850\n",
      "\t850\n",
      "ATTCAGAACATAGCACTTTCCCATTAGATTGTGAGGATAAGGACTATATCTAAGCCATTCACTTCTATATCCCTGTTGCCCACTATATACctagcatacagtaggtgcttaataaatgtttgaaaaatgggTGAATGAAATATTGTACTTTCTAATTCAAGcattttctgagcacctactgtgcacCAGGGCCTGTGCTATGGGCTGTATATACAGAAATACATCAGTGAGAGTCCTCAGCCCTAAGGCCATTGgtctgaagaaaaaagagaaattgcaaCAAGTGCCATAGCAAACACAGCTGGGAAATTCACTGATGTAGTTTGGAGGTGTGTCTCTGCTCAAATcatatattgaaatgtaatctgcagtgttggaggtagggcctggtgggaggtgattggataatggaggaggatttctttttttatatctatcaggaatgcaaaattaatttaataatcgAAAATTACTATAATTCACAGACTAAGACAAGAAAAGCCATACGATTCTCTCACCAGTTGCAGAAAAAGCATATGATagaattaaacatctttttatgattttttaaaattatactttaaattctgggatacatgtgcagaatgtgtaggtttgttacataggtatacatgtgccatgttggtttgctgcacccatcaacttgtcatttacattaggtatttctcctaatgctatccctcccccagccccccaccccctgacaggccccagtgtgtaatgttcccctccctgtgtccatgtgttctcattgttcaactcccacttatgagtgagaacatgtggtgtttggttttctgtccttgtgatagtttgctgagaatggtggtttccagcttcatccatgtccctgcaaaggacttgaactcatcccttttt\n",
      "\n",
      "AACATAGCACTTTCCCATTAGATTGTGAGGATAAGGACTATATCTAAGCCATTCACTTCTATATCCCTGTTGCCCACTATATACCTAGCATACAGTAGGTGCTTAATAAATGTTTGAAAAATGGGTGAATGAAATATTGTACTTTCTAATTCAAGCATTTTCTGAGCACCTACTGTGCACCAGGGCCTGTGCTATGGGCTGTATATACAGAAATACATCAGTGAGAGTCCTCAGCCCTAAGGCCATTGGTCTGAAGAAAAAGAGAAATTGCAACAAGTGCCATAGCAAACACAGCTGGGAAATTCACTGATGTAGTTTGGAGGTGTGTCTCTGCTCAAATCATATATTGAAATGTAATCTGCAGTGTTGGAGGTAGGGCCTGGTGGGAGGTGATTGGATAATGGAGGAGGATTTCTTTTTTTATATCTATCAGGAATGCAAAATTAATTTAATAATCGAAAATTACTATAATTCCACAGACTAAGACAAGAAAAGCCATACGATTCTCTCACCAGTTGCAGAAAAAACATATGATAGAATTAAACATCTTTTTATGATTTTTTTAAAATTATACTTTAAATTCTGGGATACATGTGCAGAATGTGTAGGTTTGTTACATAGGTATACATGTGCCATGTTGGTTTGCTGCACCCATCAACTTGTCATTTACATTAGGTATTTCTCCTAATGCTATCCCTCCCCCAGCCCCCCACCCCCTGACAGGCCCCAGTGTGTAATGTTCCCCTCCCTGTGTCCATGTGTTCTCATTGTTCAACTCCCACTTATGAGTGAGAACATGTGGTGTTTGGTTTTCTGTCCTTGTGATAGTTTGCTGAGAATGGTGGTTTCCAGCTTCATCCATGTCCCTGCAAAGGACTTGAACTCATCCCTTTTTGTGG\n",
      "256M1D217M1I83M1I337M\n",
      "0.9900221729490022\n",
      "read_id: test_read_18_936710_937610 \n",
      "\tmap_start 6, map end 900\n",
      "\t900\n",
      "TTATTCTCTGTGTAGAAAAGACTTGGGAGGCTCCCTCAGCTTCCTTTTAGGCACTTACTATGTCTGGGGATGGGAACAGCCGTGCTCCCAGAAAGCAGTCCAGTCAAGGGTGTGAAAGGCTGCCACGAGACAGTGATCGTAATATTGTTTGCTGAGcgtttactacatgccaggcactgtgttaatgCTTCATGTGCAGTATCTCATTCAGGCCTCATCACACCCTTTTTGAGGTAGGTATGCCTAAAGcacccattctacagatgaaacCGTGAAgggacttgctcagggtcactcAGGGAAGTAGGGATGGAGTCGGGATTTAAGCCTTTGCTTTAGTGGCCAGTGGCTTAAATGGGACTCAGCATAGTGTTGTAGCTACTCACTGGTCAGGTGTGAGGAGTAGGGGGACATCCAGGGAATTTTTCATTCAGCTCTGGACCTTGCATTATCAGGTTGGTATGGATCCCATAAGGAGGGATGTcagaacctgggcaacatagggaaaccctgtttctataaaaaatacaaaaatcagctgggcatggtagtgcatgcctgtaatcccagctacttgggaggctgaggtgggaaggtcactggagcctgggaggtctgggaggtcaaggctacagtgagctgtgatcatgccactgcactccagcctgggcaacagagtgagaccctgcctcaaaaaagccTTTGCTTTGGTGGCCAGTGGCTTAAATGGGACTCAGCTGGAGGAAACAGTGGGGGCATATCACTGAGAAGTTCCCAGAAGTGGAATCAGGCATAAAGTTCAGGAGGACAGAGAGTCATTCAGAGATTCCTTGTGGGGAAGCGACCTTCCCACCAGTGGAGGTATTCCAGCACGGCTGGATGATGATTGCAACTATGGAGGGAATCTATGAAGAACCAGATGACACGTGAGATTTTTTGCAGCCCTGTGA\n",
      "\n",
      "TCTGTGTAGAAAAGACTTGGGAGGCTCCCTCAGCTTCCTTTTAGGCACTTACTATGTCTGGGGATGGGAACAACCGTGCTCCCAGAAAGCAGTCCAGTCAAGGGTGTGAAAGGCTGCCACAGAGACAGTGAAGTCAGTAATATTGTTTGCTGAGCGTTTACTACATGCCAGGCACTGTGTTAATGCTTCATGTGCAGTATCTCATTCAGGCCTCATCACACCCTTTTTGAGGTAGGTATGCCTAAAGCACCCATTCTACAGATGAAACCGTGAAGGGACTTGCTCAGGGTCCTCAGGGAAGTAGGGATGGAGTCAGGTTTAAGCCTTTGCTTTAGTGGCCAGTGGCTTAAATGGGACTCAGCATAGTGTTGTAGCTACTCACTGGTCAGGTGAGGTAGGGGGACATCCAGGGAATTTTTCATTCAGCTCTGGACCTTGCATTATCAGGTTGGTATGGATCCCATAAGGAGGGATGTCAGAACCTGGGCAACATAGGGAAACCCTGTTTCTATAAAAAATACAAAAATCAGCTGGGCATGGTAGTGCATGCCTGTAATCCCAGCTACTTGGGAGGCTGAGGTGGGAAGGTCACTGGAGCCTGGGAGGTCTGGGAGGTCAAGGCTACAGTGAGCTGTGATCATGCCACTGCACTCCAGCCTGGGCAACAGAGTGAGACCCTGCCTCAAAAAAGCCTTTGCTGGTGGCCAGTGGCTTAAATGGGACTCAGCTGGAGGAAACAGTGGGGGCATATCACTGAGAAGTTCCCAGAAGTGGAATCAGGCATAAAGTTCAGGAGGACAGAGAGTCATTCAGAGATTCCTTGTGGGGAAGCGACCTTCCCACCAGTGGGTATTCCAGCACGGCTGGATGATGATTGCAACTATGGAGAGTCTATGAAGAACCAGATGACACATTGAGATTTTTGCAGCCCTGTATTTC\n",
      "120M1I10M2I2M1I155M1D26M1D77M4D304M2D150M2D39M2D25M1I6M1D15M\n",
      "0.9727748691099476\n",
      "read_id: test_read_19_876363_877313 \n",
      "\tmap_start 6, map end 948\n",
      "\t950\n",
      "ACAGCCACGCCAGATGGACGAGAAGACCAAGAAAGGTGGGCACAGGCTGGAGGTGGCTGGGGAACTTCCGGTGGGAAGTGGGCCCCGCAGGACCTGGCCTTGCCCCTGGCCAGAAGGGCCTTGGAGAGGGGGCTTTAGCCTGCCCTCCCTCTACCCTCCTCCCCATCAGTTTCCTCCTTTGGTACCTGCTGGCTTCCAGAGCCATCTTGGGGCCCTGAGAACTCCTTGGGCTGGCTCTGTGCTGAGATGGGGCTAGGGGACTCGCAGAGGACACAGGGCATTGAACTTGGAGACCTCCTGGGCTGGTGGGAGACAGACGTCAGTTGACCTGAGAAGCAGGGGTACTTGCCTCTTCTCTTGTCCCCTGCACCTAGGGTTGTAGAACGGAAGTCAGTCACTGCCTTGCTGGAAACCCTCCCATGCCCCTCTGTGTTCTCCAAACAAAACCCAGAGGCCCTGGGTGGCCCACAGGATATCTGTCCTCAGTCACCCCGCCATGCTCACTCTACTGGAGCCCCACTGGCTTCCTTCGGTTCTCATCCAACCATTTTTTGGCCAAGGCCCTTACTCTTCCTTCCACCTGGACCACTCTTCCCCACTGGAGCTTGACACGTGCAGCTTCTCCTCCTTCAGGTCTTAGCTTCAGTGTTACCCCCTCCCAGAGGCCTCCCCTGGTCTCCTTAACCTGTTTATTTCCCTGCCAGCAAGGATCgcaatctgactttttttttttttcttgttaaactTGTTCATTGTCTCCCCACTGGGCAGGGAGATCCATAAGGAGAGGGGCCCTGTTTATAAATCTCTGTGGGATTCCAGTTCCTGGGACAGTGGGTGGCACACAGTAGAAGCTCAATAACTGCTTGTTGgataaatgaatagaaatatgAGGGACCCTGGGAATGGGAAGGACAAACAACCAAATGAGCCTAGTGTGAGGAGGAGTGGGGAATATTAGAGAACCCCTCCCGGAGAAAGGGACTTTTAGTCTGGGTGC\n",
      "\n",
      "CAGATGGACAGAAGACCAAGAAAGGTGGGCACAGGCTGGAGGTGGCTGGGGAACTTCCGGTGGGAAGTGGGCCCCGCAGGACCTGGCCTTGCCCCTGGCCAGAAGGGCCTTGGAGAGGGGCTTTAGCCTGCCCTCCCTCTACCCTCCTCCCCATCAGTTTCCTCCTTTGGTACCTGCTGGCTTCCAGAGCCATCTTGGGGCCCTGAGAACTCCTTGGGCTGGCTCTGTGCTGAGATGGGGCTAGGGGACTCGCAGAGGACACAGGGCACATTGAACTTGGAGACCTCCTGGGCTGGTGGGAGACAGACGTCAGTTGACCTGAGAAGCAGGGGTACTTGCCTCTTCTCTTGTCCCCTGCACCTAGGGTTGTAGAACGGAAGTCAGTCACTGCCTTGCTGGAAACCCTCCCATGCCCCTCTGTGTTCTCCAAACAAAACCCAGAGGCCCTGGGTGGCCCACAGGATATCTGTCCTCAGTCACCCCGCCATGCTCACTCTACTGGAGCCCCACTGGCTTCCTTCGGTTCTCATCCAACCATTTTTTGGCCAAGGCCCTTACTCTTCCTTCCACCTGGACCACTCTTCCCCACTGGAGCTTGACACGTGCAGCTTCTCCTCCTTCAGGTCTTAGCTTCAGTGTTACCCCCTCCCAGAGGCCTCCCTGGTCTCCTTAACCTGTTTATTTCCCTGCCAGCAAGGATCGCAATCTGACTTTTTTTTTTTCTTGTTAAACTTGTTCATTGTCTCCCCACTGGGCAGGGAGATCCATAAGGAGAGGGGCCCTGTTTATAAATCTCTGTGGGATTCCAGTTCCTGGGACAGTGGGTGGCACACAGTAGAAGCTCAATAACTGCTTGTTGGATAAATGAATAGAAATATGAGGGACCCTGGGAATGGGAAGGACAAACAACCAAATGAGCCTAGTGTGAGGGAGGAGTGGGGAATATTAGAGAACCCCTCCCGGAGAAAGGGACTTTTAGTCTGGGTGTC\n",
      "9M1D107M1D150M2I390M1D53M2D217M1I58M\n",
      "0.9810568295114656\n",
      "read_id: test_read_20_408744_409744 \n",
      "\tmap_start 10, map end 999\n",
      "\t1000\n",
      "cccgccagtctcagcctcccaaagtactgagattacaggcgtgagccaccacacctggcctatcccagcactttgggaggccgaggtggatggatcactgaggtcaggagattgagacgagcctggccaacatggtgaaactccatctctattaaaaatacaataattaggccaggtgcggtggctcacgcctgcaattccagcagtttgggaggccgaggtgggcagatcatgaggtcaggagatcgagaccatcttggctaacacggtgaaaccctgtctttactaaaaaaatacaaaaaaattagccaggcgtggtggcgggcgcctgtagtcccagctactcgagaggctgaggcaggagaatgaggtgaacctgggaggcggagcttgcagtgagctgagatcacaccactgcactctagcctgggtgacaagttctgtctcaaaaaaaaaaaaaaaaggcagaaagaacaTGGATTCACCTGCTTatacaagaaaaaaggaaaaaaaaaagtgtacgaGTTGCCTTGTTACAATAAAACtaaatgtgtatacacacaaagGAAATGGAGGACATTCAGGGGCTGGGATGAAGGGTACAGAAGAAAGGCCAGGAGATACGGCCCTTCCATTTGACAGTAAATagactaattaaaaaatatttatgtagtatATATTAGGTGCAAGGCACCAGAGTTCATTTGAAGTGGAAGATATCACCAGAAGGTAGGGCAGATTTTAGAAATAACTAACAGAAGGTACATTAGGTTTTAGAAGGGACACCAAGCATCTTCCCCAGCAATGTTCTAGTCTGAGACCATTGTGAGTCTACAAACTGTTTCTATGACAAAGctgtacattattattattattattattattttatttttattttttgagacagagtcttgctttgtctcccaggctggagtgcagtgaagcaatcttggctcactggaacctctgtctcttgggttcaaaccattctcgggcctcagcctcccaggtagccaggattacaggcgcatgctgccaccacacctagct\n",
      "\n",
      "CAGTCTCAGCCTCCCAAAGTACTGAGATTACAGGCGTGAGCCACCACACCTGGCCTATCCCAGCACTTTGGGAGGCCGAGGTGGATGGATCACTGAGGTCAGGAGATTGAGACGAGCCTGGCCAACATGGTGAAACTCCATCTCTATTAAAAATACAATAATTAGGCCAGGTGCGGTGGCTCACGCCTGCAATTCCAGCAGTTTGGGAGGCCGAGGTGGGCAGATCATGAGGTCAGGAGATCGAGACCATCTTGGCTAACACGGTGAAACCCTGTCTTTACTAAAAAAAATACAAAAAATTAGCCAGGCGTGGTGGCGGGCGCCTGTAGTCCCAGCTACTCGAGAGGCTGAGGCAGGAGAATGAGGTGAACCTGGGAGGCGGAGCTTGCAGTGAGCTGAGATCACACCACTGCACTCTAGCCTGGGTGACAAGTTCTGTCTCAAAAAAAAAAAAAAAAGGCAGAAAGAACATGGATTCACCTGCTTATACAAGAAAAAAGGAAAAAAAGTGTACGAGTTGCCTTGTTACAATAAAACTAAATGTGTATACACACAAAGGAAATGGAGGACATTCAGGGGCTGGGATGAAGGGTACAGAAGAAAGGCCAGGAGATACAGCCCTTCCATTTGACAGTAAATAGACTAATTAAAAAATATTTATGTAGTATATATTAGGTGCAAGGCACCAGAGTTCATTTGAAGTGGAAGATATCACCAGAAGGTAGGGCAGATTTTAGAAATAACTAACAGAAGGTACATTAGGTTTTAGAAGGGACACCAAGCATCTTCCCCAGCAATGTTCTAGTCTGAGACCATTGTGAGTCTACAAACTGTTTCTATGACAAAGCTGTACATTATTATTATTATTATTATTATTTTATTTTTATTTTTTGAGACAGAGTCTTGCTTTGTCTCCCAGGCTGGAGTGCAGTGAAGCAATCTTGGCTCACTGGAACCTCTGTCTCTTGGGTTCAAACCATTCTCGGGCCTCAGCCTCCCAGGTAGCCAGGATTACAGGCGCATGCTGCCACCACACCTAGCCA\n",
      "282M1I10M1D208M3D540M\n",
      "0.9895337773549001\n",
      "read_id: test_read_21_453789_454839 \n",
      "\tmap_start 5, map end 1049\n",
      "\t1050\n",
      "ctgggagacagaggttgcagtgagctgagattgcactactgcaccccagagcgagactctgtctcaaaaccaccaccaccaccagcaccaccaccagcaccaccaccaccaccaccaccagcacatGTTGAGGATATTAAGTAGATAATAATACAGATGGCATGTAGGTGTGGCCAAAGTCATGAAGGTTGCCCACCACACGGTAAACTTTGTAGTCAgtgaataaatggatagatagGAGATAGAATGGAGGAATGCATGAATGGGTAAATGAGCAAGCGAATGAATACCTATCTCATCCATTCTACACAgccccagcacattgggaggttgTCCTATCTCAACTTGCATAGCTCCTAGAATGGGGGAACTCACTACCTTATGACATAGCCCTTTCCACATCTGAACCACTAGGAGTGTGTAAAAGACATTTTCTCATATTAAGTTTATCTTTCTGGAGATCCTGTGCTCTCTGGGGCCCCACAGACACATCTGCTTCCCTGTCTGGGGACAGCCCAAACACTTGCCCTCCCCAGGCTGCCCTTCTCTGGGCCCTTCTGCCCAGATGCTTGGCTGCTGTGCCCACCAGGTCCTGCTTGCACAGAGCTTATATCCTAGTGGGCGGCAGGACAAAGAACaagcacacaggcacacaaacaCAATGATTCCATGCTATGAAGGAAATGCAGAGTGAGACTGTTGGGAAGAGCATGGCGGGGTGTGGAGAGGCAAGGGGAGTCTCTCTAGGAAGGTAATATTTGAGCTGGGACCTGAAGAATGCAACAAAGCCAGAAGAACAAGAGAAAGGGCATTCCAGATAGAGGCAAGAGCAAGTGCAAGAGCCCTGAGATCACAGAGCAATTGGAAACTAGGAAGCAGCCAGCCTGGCTGGACATGGACATTTTGGGTATTGATGGTGAAGAGCCTggaattgttttctaaatttgatCTCCAAACACTTTTAAGCAAGAGGTGATATGATATGACATATTTTAGCAGACAATGAATATTTCCTGAATTAAAATTGAAGACCCTTCTAGTTCCAATAGTTCCATGCTTCCCAAAGTGATACTGAAATGACTTCAGGAgagaacaggctg\n",
      "\n",
      "GACAGAGGTTGCAGTGAGCTGAGATTGCACTACTGCACCCCAGAGCGAGACTCTGTCTCAAAACCACCACCACCACCAGCACCACCACCAGCACCACCACCACCACCACCACCAGCACATGTTGAGGATATTAAGTAGATAATAATACAGATGGCATGTAGGTGTGGCCAAAGTCATGAAGGTTGCCCACCACACGGTAGAGCTTTGTAGTCAGTGAATAAATGGATAGATAGGAGATAGAATGGAGGAATGCATGAATGGGTAAATGAGCAAGCGAATGAATACCTATCTCATCCATTCTACACAGCCCCAGCACATTGGGAGGTTGTCCTATCTCCAACTTGCATAGCTCCTAGAATGGGGAACTCACTACCTTATGACATAGCCCTTTCCACATCTGAACCACTAGGAGTGTGTAAAAGACATTTTCTCATATTAAGTTTATCTTTCTGGAGATCCTGTGCTCTCTGGGGCCCCACAGACACATCTGCTTCCCTGTCTGGGGACAGCCCAAACACTTGCCCTCCCAGGCTGCCCTTCTCTGGGCCCTTCTGCCCAGATGCTTGGCTGCTGTGCCCACCAGGTCCTGCTTGCACAGAGCTTATATCCTAGTGGGCGGCAGGACAAAGAACAAGCACACAGGCACACAAACACAATGATTCCATGCTATGAAGGAAATGCAGAGTGAGACTGTTGGGAAGAGCATGGCGGGGTGTGGAGAGGCAAGGAGTCTCTCTAGGAAGGTAATATTTGAGCTGGGACCTGAAGAATGCAACAAAGCCAGAAGAACAAGAGAAAGGGCATTCCAGATAGAGGCAAGAGCAAGTGCAAGAGCCCTGAGATCACAGAGCAATTGGAAACTAGGAAGCAGCCAGCCTGGCTGGACATGGACATTTTGGGTATTGATGGTGAAGAGCCCTGGAATTGTTTTCTAAATTTGATCTCCAAACACTTTTAAGCAAGAGGTGATATGATATGACATATTTTAGCAGACAATGAATATTTCCTGAATTAAAATTGAAGACCCTTCTAGTTCCAATAGTTCCATGCTTCCCAAAGTGATACTGAAATGACTTCAGGAGAGAACAGGCTGGA\n",
      "199M1I136M1I22M1D166M1D201M2D190M1I176M\n",
      "0.9882139619220308\n",
      "read_id: test_read_22_636944_638044 \n",
      "\tmap_start 6, map end 1100\n",
      "\t1100\n",
      "cgtcatgcgcctgtagtctcagctacttgggaggctgaggcaggaggatggcgtgaacccaggaggtggagcttgcagtgagccgagatcgtgccactgcactccagcctgggcgacagagcgagactctctctcgaaaaaaaagaaaaagaactttcaaAAGCTTACCAATCAGccagcccttgttcatcccctAGCAGAagtgtggtggtattgtggtggacctttactggacaCTCTGCCGAATAACTGGATTGGCACTTGTGCTTTAGTCCAACtagctatccctttcaccctggcatttcatcaaccagaggaaggaaaaataagacatcgtAAAGTgagagaagccccttatgggtctttAGACTCTCACTTCTGTTTAGACGCAATTGGGGTCCCATGGAGAATACAAGATCAATTTAAAGTCTGgaatcaaatagctgcaggatttgagtcaatatCTTGGTGGGTGACAATTAATAAACATGTAGAttggataaactacatctattacaaccaacagtGATTTAGTAACTACACTAGAGATACTGTTAGAGGAATAGCTGAGCAAGTAGGGGCTACAGGCCAGATGGCTTGGGAAAATAGGACAGCCTTAGACATGATATTAGCAGAAAGAGGAGGGGTTTGCATCGTGACTAAAACTCAATGTTACACCTTCATCCCAAACAACATTGCCCCTAATGGAAGTATAACAAAGGCATTGCAAGGTCTCACTGCTCTATCCAGTGAGTTAGCCAGCAGCTCAGGGGTAAATGATCCCTTTACAGGATGGCTAGAAAAATGGTTCggtaaatggaaaggaataataGCCTCAATTCTTACCTCCCTCGTAGCTGTAATAGGTGTACTTATTCTTGTCGGGTGCTGTGTCATACCATGCATCCGTGGGTTGGTGCAGAGGCTCGTAGAAACGGCACTTGCTAAAACCTCCCTTAACTATCCTCCACCTTATCCAGAGAAgcttcttcttttggaaaatcaagCAGAACAACTAAGTCAAGACATGTTAAATAAGTTTGAAGAGAAAGCCGTAAGAAAAATGCAAGAGGAGGAAGTTGTTAAATATgaattctaaatttctcttcaaagaattagTATGTctgtatgttcaattctttgccttcta\n",
      "\n",
      "GCGCCTGTAGTCTCAGCTACTTGGGAGGCTGAGGCAGGAGGATGGCGTGAACCCAGGAGGTGGAGCTTGCAGTGAGCCGAGATCGTGCCACTGCACTCCAGCCTGGGCGACAGAGCGAGACTCTCTCTCGAAAAAAAAGAAAAAGAACTTTCAAAAGCTTACCAATCAGCCAGCCCTTGTTCATCCTAGCAGAAGTGTGGTGAGTGTGTGGTGGACCTTTACTGGACCTCTGCCAGATAACTGGATTGGCACTTGTGCTTTAGTCAACTAGCTATCCCTTTCACCCTGGCATTTCATCCAACCAGAGGAAGGAAAAATAAGACATCGTAAAGTGAGAGAAGCCCCTTATGGGTCTTTAGACTCTCACTTCTGTTTAGACGCAATTGGGGTCCATGGAGAATACAAGATCAATTTAAAGTCTGGAATCAAATAGCTGCAGGATTTGAGTCAATATCTTGGTGGGTGACAATTAATAAACATGTAGATTGGATAAACTACATCTATTACAACCAACAGTGATTTAGTAACTACACTAGAGATACTGTTAGAGGAATAGCTGAGCAAGTAGGGGCTACAGGCCAGATGGCTTGGGAAAATAGGACAGCCTTAGACATGATATTAGCAGAAAGAGGAGGGGTTTGCATCGTGACTAAAACTCAATGTTACACCTTCATCCCAAACAACATTGCCCTAATGGAAGTATAACAAAGGCATTGCAAGGTCTCACTGCTCTATCCAGTGAGTTAGCCAGCAGCTCAGGGGTAAATGATCCCTTTACAGGATGGCTAGAAAAATGGTTCGGTAAATGGAAAGGAATAATAGCCTCAATTCTTACCTCCCTCGTAGCTGTAATAGGTGTACTTATTCTTGTCGGGTGCTGTGTCATACCATGCATCCGTGGGTTAGTTGCAGAGGCTCGTAGAAACGGCACTTGCTAAAACCTCCCTTAACTATCCTCCACCTTATCCGAAGCTTCTTCTTTTGGAAAATCAAGCAGAACAACTAAGTCAAGACATGTTAAATAAGTTTGAAGAAAGCCGTAAGAAAAATGCAAGAGGAGGAAGTTGTTAAATATGAATTCTAAATTTCTCTTCAAAGAATTAGTATGTCTGTATGTTCAATTCTTTGCCTTCTGTG\n",
      "184M2D18M1I2M1D22M1D37M1D33M1I92M1D298M1D216M1I63M3D63M2D103M\n",
      "0.9809193408499567\n",
      "read_id: test_read_23_799308_800458 \n",
      "\tmap_start 6, map end 1149\n",
      "\t1150\n",
      "tagtcttCTCACAAGAGAATGACCCTCTTTTAGGTACCCCATTGATTTTACGGCATCTCTACTTTGCAAGTGTTTGTGTAAATGGACATATTATGGTCTCTTTGTGCACAATTATGTCAAAGACAATTTAGAGCTTGAAGGTTGACCTCCAGCTGTAAAGTTCCTAAGTTCTCtatctctctgctttcttttctgcctgttttaagtctgctattatttttctttctttttttgagacagagtcttgctctgtgcccaggttggagtgcagtggtgcaatctcagctcactacaacctctgcctcccaggttcaagcagtcctcccacctcagcctcctgaatagctgggactacaggcatgtgccaccactcttggctaatttttttttttttttgagacagagtcttgctctgttgcccaggctggagtgcaatggcatgatctcagcaaaCCAACGAGTTTCTATTAATATCTCATGGCTAGAGTTCTGAGATAATAGCTATAGGATCTTTGGTTGTatgagtatgtatgtgtgtgtttatgcatacatacacttatttcattgtgttttctaGCCACAGGTACTGAATTGGCTTAAAGTTAAAGAATATTCATAAATTAATAAGCCtaaatgcttttcaagttcatgtgacttaagtaaaatctttaataagctagctttaaaattattggtaaagtaatattagaaatgtcttaaaaatTGTTAGCAtaaatttttgtttgcatttattgatcAAGGGACTTCATATACTGCCAAATACTgtaaggtgtcaaaatttggcatagggTTTGTAAAACTACAAAACCGTTCAAAACAgaatgatttttgcttttgtaatttttgataaataagacattgatattggtttaatgaaaacagctaaatCATGAATTATTTAGTgaaataacaatatatttaatCTTAAGGTTTTTACTTAGCAAACACCTGAAATTCACAGGCTATCAAATGTTTGACAGggaaataactttaaatgatgactatcacagttttcataaCTAACCTGggtaaactattaaaataaaatatttaggtaaatgtaatgggataaatacttgtagacaaaGTTGTCATAATTTAGGATCTAAAGTTATGTTAAATTAAACAATAGATATTTCATTAActgggtttttttaattaaaaaagatattgcaggaa\n",
      "\n",
      "TTCTCACAAGAGAATGACCCTCTTTTAGGTACCCCATTGATTTTACGGCATCTCTACTTTGCAAGTGTTTGTGTAAATGGACATATTATGGTCTCTTTGTGCACAATTATGTCAAAGACAATTTAGAGCTTGAAGGTTGACCTCCAGCTGTAAAGTTCCTAAGTTCTCTATCTCTCTGCTTTCTTTTCTGCCTGTTTTAAGTCTGCTATTATTTTTCTTTCTTTTTTTTGAGACAGAGTCTTGCTCTGTGCCCAGGTTGGAGTGCAGTGGTGCAATCTCAGCTCACTACAACCTCTGCCTCCCAGGTTCAAGCAGTCCTCCCACCTCAGCCTCCTGAATAGCTGGGACTACAGGCATGTGCCACCACTCTTGGCTAATTTTTTTTTTTTTTTGAGACAGAGTCTTGCTCTGTTGCCCAGGCTGGAGTGCAATGGCATGATCTCAGCAAACCAACGAGTTTCTATTAATATCTCATGGCTAGAGTTCTGAGATAATAGCTATAGGATCTTTGGTTGTATGAGTATGTATGTGTGTGTTTATGCATACATACACTTATTTCATTGTGTTTTCTAGCCACAGGTACTGAATTGGCTTAAAGTTAAAGAATATTCATAAATTAATAAGCCTAAATGCTTTTCAAGTTCATGTGACTTAAGTAAAATCTTTAATAAGCTAGCTTTAAAATTATTGGTAAAGTAATATTAGAAATGTCTTAAAAATTGTTAGCATAAATTTTTGTTTGCATTTATTGATCAAGGGACTTCATATACTGCCAAATACTGTAAGGTGTCAAAATTTGGCATAGGGTTTGTAAAACTACAAAACCGTTCAAAACAGAATGATTTTGCTTTTGTAATTTTTGATAAATAAGACATTGATATTGGTTTAATGAAAACAACTAAATCATGAATTATTTAGTGAAATAACAATATATTTAATCTTAAGGTTTTTACTTAGCAAACACCTGAAATTCACAGGCTATCAAATGTTTGACAGGAAATAACTTTAAATGATGACTATCACAGTTTTCATAACTAACCTGGGTAAACTATTAAAATAAAATATTTAGGTAAATGTAATGGGATAAATACTTGTAGACAAAGTTGTCATAATTTAGGATCTAAAGTTATGTTAAATTAAACAATAGATATTTCATTAACTGGGTTTTTAATTAAAGATATTGCAGGAAGTCTC\n",
      "221M1I620M1D153M1D169M2D9M3D16M\n",
      "0.9891756869275604\n",
      "read_id: test_read_24_804423_805623 \n",
      "\tmap_start 5, map end 1200\n",
      "\t1200\n",
      "cagcgggctgagatcacaccactgcactccagcctaggtgacagagcgaggctccttctaaaaaaaaaaagaaaataaaaaaaaagtcctggtgttagaggcatttttcttttcctcctcctcctcctcctgctcctcctcctcctcctcttcttcttcttcttttctgagacagagtctccctttgtcacccaggctggagtgcaatggtgtgatcttggctcactgcaacctccacctcttgggttcaagcgattcttctgcctcagcctccagctaatttttgtatttttagtagacatggggtttcaccatgttagccaggctggtcttgaactcctgacctcaggtgatccacccgccttggcctcccaaagtgctaggattacaggtgtgagccaccacactcagccaataGAGGCATTTTTCTGTCATGTAAATAAAGTCTAAAGCAGGCAGTCTAAAACTGGCATGGTGCTCTACGGTTCAGGAACCTAAACTCCTTTTGTCTTATTATGCTACCCCCTCAGTACATGGTTTCCACTTCATGGCCCAACATGGCTGCTCAAACAGCAGCCCTCACATCTGCATCCCCAGAtggagagtctttttttttttttgagatggagtctccctctgtcacccagcctggagtgcagtggcctgatcttcgctcactggaatctctgcctcccaggttcaagtgattcccctgctcagcctcctgagtagctgggaccacaggcacgtgccaccacacctggctaattttttgtatttttagtagagatggggtttcactgtgttagccaggatggtctcgatctcctgaccttgtgatccacccacctcggcctcccaaagtgctggggttacaggtgtgagccaccgcgcccagcccccagaTGGAGAGTCTTTTAGTCattagaaaggagaaaggagccaaggagggagggaggttcCCTTAAAGACTCTTTCGGAAGTCACATACAATCTTCTTGTTGATGTTCCATTGGCTAAACTTGATCACATCACTACACTAAGctacaaaggaggctgagaaatatGATCTGTGTTCTAGGCACCATGTGTCCAGATGAAAATTGAGGctcttatttcaaagaaaaagttcagtccatggccaggcgtggtggctcatacctgtaatcccagcactttgggaggccgaggctagtggatcacctgaggtcaggagttcgagaccagcctgggtaacatggaaaaacccc\n",
      "\n",
      "GAGATCACACCACTGCACTCCAGCCTAGGTGACAGAGCGAGGCTCCTTCTAAAAAAAAAAAAGAAAATAAAAAAAAGTCCTGGTGTTAGAGGCATTTTTCTTTTCCTCCTCCTCCTCCTCCTGCTCCTCCTCCTCCTCCTCTTCTTCTTCTTCTTTTCTGAGACAGAGTCTCCCTTTGTCACCCAGGCTGGAGTGCAATGGTGTGATCTTGGCTCACTGCAACCTCCACCTCTTGGGTTCAAGCGATTCTTCTGCCTCAGCCTCCAGCTAATTTTTGTATTTTTAGTAGACATGGGGTTTCACCATGTTAGCCAGGCTGGTCTTGAACTCCTGACCTCAGGTGATCCACCCGCCTTGGCCTCCCAAAGTGCTAGGATTACAGGTGTGAGCCACCACACTCAGCCAATAGAGGCATTTTTCTGTCATGTAAATAAAGTCTAAAGCAGGCAGTCTAAAACTGGCATGGTGCTCTACGGTTCAGGAACCTAAACTCCTTTTGTCTTATTATGCTACCCCCTCAGTACATGGTTTCCACTTCATATTGCTTATGGCTGCTCAAACAGCAGCCCTCACATCTGCATCCCCAGATGGAGAGTCTTTTTTTTTTTTTTTGAGATGGAGTCTCCCTCTGTCACCCAGCCTGGAGTGCAGTGGCCTGATCTTCGCTCACTGGAATCTCTGCCTCCCAGGTTCAAGTGATTCCCCTGCTCAGCCTCCTGAGTAGCTGGGACCACAGGCACGTGCCACCACACCTGGCTAATTTTTTGTATTTTTAGTAGAGATGGGGTTTCACTGTGTTAGCCAGGATGGTCTCGATCTCCTGACCTTGTGATCCACCCACCTCGGCCTCCCAAAGTGCTGGGGTTACAGGTGTGAGCCACCGCGCCCAGCCCCCAGATGGAGAGTCTTTTAGTCATTAGAAAGGAGAAAGGAGCCAAGGAGGGAGGAGGTTCCCTTAAAGACTCTTTCGGAAGTCACATACAATCTTCTTGTTGATGTTCCATTGGCTAAACTTGATCACATCACTACACTAAGCTACAAAGGAGGCTGAGAAATATGATCTGTGTTCTAGGCACCATGTGTCCAGATGAAAATTGAGGCTCTTATTTCAAAGAAAAAGTTCAGTCCATGGCCAGGCGTGGTGGCTCATACCTGTAATCCCAGCACTTTGGGAGGCCGAGGCTAGTGGATCACCTGAGGTCAGGAGTTCGAGACCAGCCTGGGTAACATGGAAAAACCCGGG\n",
      "50M1I17M1D472M6D1M5I51M2I346M1D295M\n",
      "0.9793322734499205\n",
      "read_id: test_read_25_729633_730883 \n",
      "\tmap_start 9, map end 1249\n",
      "\t1250\n",
      "tcttttttttttttttttttgagacagagtctcgctctgtcctccaggcgtgcagtggcgcaatctcggctcactgcaagctctgcctcccgggttcacaccattctcctgcctcagcctcctgagtaggtgggactacaggctcccgccaccatgcccggctgattttttgtatttttagtagagacggggtttcaccgcgttagccaggatggtctcaatctcctgacctcgtgatctgcccgcctcggcctcccaaagtgctggaattacaggcgtgagccaccgcacctggccattagTGTGTTTCTTATTTTGACCAGTTCCATTTGGTTCTCATAGCTTCCATCTCTCTACTGAGATTGCACTTTTGATCTTGCATATTGTCTACTTTTACTGTTAGACCTTTTACCATATTAGTTATTTGAAATTCTGTATCACATAGCTCTGACATCTGTGTTTGGTTCTGAAGATTGCTTTGTCTCTTGGGAGTATGTCATTTATCTCTTGCTTCATAAGTGTTGGTGAAAGTTGGACATCTTGTGTAGGATAGTAGAGGCCCAGGGAAATGGGTTTTGTGTAGAAATGGGCACACTTTTCCTTCTGTTAGGTCTTTAGCGTGGGGGTTTGAATTAACCTAGTTAGGAGTTGTGATAGGCtgggtgggtggctcatgcctgtattcccagcactttgggaggccaaggcaggaagattgcttgaacacaggagtttgagatcagcctggacaacatagtgaaaccccatctctacaaaaaaaataaaaattatctaggcatttttggtgcatgcctgttgtcctagctactgggaaggcttGCCGAGTCTGTCCTGCAGACTCTGCCCAAGCGACGGATGAAAGGAGTACTCAGATACAGATATCCAGTGAAAGAGCAGGATAGGGGACTGCCAGCACTAGGGGCCGAAGAGAATTAGCAGTTCCCCTAAGCCGGCAGCCCTCGCATTTGTTTggtacagatttaatgacaaaggcttggAGCAAACACAATTTGTGGGTAATAAACATTGTTGACCCCCCGAGTAGAGAGCAGTCCTGCATGCAAATGATTAAAGGTTGGTTTCTGGAGACAGGAGTAGACAAATTTATCTAGATAAGTTTCTTTACATTCCCTTGTTATCTGCCCTTTGCTCTCAGGCTCCAGATGAGACAAtttggctgccttcagccataaTTTCCTTCCAAAGCTTTTGTAAAACCTCCTGGCCTTTCAAGAAGGTTTGTGTCTTTACTATAATttctcccaccaccctgaccaat\n",
      "\n",
      "TTTTTTTTTTTGAGACAGAGTCTCGCTCTGTCCTCCAGGCGTGCAGTGGCGCAATCTCGGCTCACTGCAAGCTCTGCCTCCCGGGTTCACACCATTCTCCTGCCTCAGCCTCCTGAGTAGGTGGGACTACAGGCTCCCGCCACCATGCCCGGCTGATTTTTTGTATTTTTAGTAGAGACGGGGTTTCACCGCGTTAGCCAGGATGGTCTCAATCTCCTGACCTCGTGATCTGCCCGCCTCGGCCTCCCAAAGTGCTGGAATTACAGGCGTGAGCCACCGCACCTGGCCATTAGTGTGTTTCTTATTTTGACCAGTTCCATTTGGTTCTCATAGCTTCCATCTCTCTACTGAGATTGCACTTTTGATCTTGCATATTGTCTACTTTTACTGTTAGACCTTTTACCATATTAGTTATTTGAAATTCTGTATCACATAGCTCTGACATCTGTGTTTGGTTCTGAAGATTGCTTTGTCTCTTGGGAGTATGTCATTTATCTCTTGCTTCATAAGTGTTGGTGAAAGTTGGACATCTTGTGTAGGATAGTAGAGGCCCAGGGAAATGGGTTTGTGTAGAAATGGGCACACTTTTCCTTCTGTTAGGTCTTTAGCGTGGGGGTTTGAATTAACCTAGTTAGGAGTTGTGATAGGCTGGGTGGGTGGCTCATGCCTGTATTCCCAGCACTTTGGGAGGCCAAGGCAGGAAGATTGCTTGAACACAGGAGTTTGAGATCAGCCTGGACAACATAGTGAAACCCCATCTCTACAAAAAAAATAAAAATTATCTAGGCATTTTGGTGCATGCCTGTTGTCCTAGCTACTGGGAAGGCTTGCCGAGTCTGTCCTGCAGACTCTGCCCAAGCGACGGATGAAAGGAGTACTCAGATACAGATATCCAGTGAAAGAGCAGGATAGGGGACTGCCAGCACTAGGGGCCGAAGAGAATTAGCAGTTCCCCTAAGCCGGCAGCCCTCGCATTTGTTTGGTACAGATTTAATGACAAAGGCTTGGAGCAAACACAATTTGTGGGTAATAAACATTGTTGACCCCCCGAGTAGAGAGCAGTCCTGCATGCAAATGATTAAAGGTTGGTTTCTGGAGACAGAGGTAGACAAATTTATCTAGATAAGTTTCTTTACATTCCCTTGTTATCTGCCCTTTGCTCTCAGGCTCCAGATGAGACAATTTGGCTGCCTTCAGCCATAATTTCCTTCCAAAGCTTTTGTAAAACCTCCTGGCCTTTCAAGAAGGTTTGTGTCTTTACTATAATTTCTCCCACCACCCTGACCAGTA\n",
      "564M1D225M1D498M\n",
      "0.99\n",
      "read_id: test_read_26_467022_468322 \n",
      "\tmap_start 9, map end 1298\n",
      "\t1300\n",
      "GCTGAGGAAGTTCTCACGGCTTCGGAGCTCTCGCAGAGCGGCCCTCCCGCTCCTGAGCGAGGTCTGCGGGCGGAGGGAAGAGCAGAGAGGCGGCGCTGCGCCCTGCCCGGCCTGAGCCCCCGAAAGCCCGTGGACCCGCCGCCCCGGCCCCGCCAGACGCCCGCCCCCGTGCGGCCTCCTGCTGGTAAACGCGGCCCAAGCTGGGCGGTTCCCCATTGTCTGCGCCGCCCGGGAGCTCCGGGACTCTCATCCGTTCGGAAACGCACGTGTACCCATCATCTCACATCCCTGAGGTGCGGGTGCATCTACAGTTGGTGGCGTGTCACCAACTAATCAACAAATATATTATTAGTGGGTAAATAAAGATGTGCCTTCATATCAATGGCTTCTCAGAATCaatgaaatatagaaataatagtaagggccgggcggggtggctcacgtctataatcccagcactttgggaggccaaggtgggccgatcacgaggtcaagagttcgagaccagcctgaccaacatggtgaaaccccgtctccactaaaaatacaaaaattagccgagcgtggtggcgcgtgcctgtaatgccagctactggggaggctgaggcaggagaatcgcttgaacctgggaggcggaggttgcagtgagcgagatggcgccactgctctccagcctgggcgacagaggaagattcctgtcccaataataataataataataaacgcCCCAGGTAGGTTAAGAAGGTGGCAGAGCGACCGCCATGTCTGGAGGAGAAGCAGGGGAGGCAAAATGGATGATAAACGTCAGCATTTCCGGGCAGGCCGCGGAGTCAATGAGTACTCTCATTTCACACAACAGCCCCCAGTGGAACAAGGAGGGTCTGAGGGTTAAGTGACTCGCCTAAGGTTACACCCAGCAGGTGCATAAAACctacagtaacaacaacaacaacaattgtACTTCCCTAAGGTTACACCCAGCAGGTGCATAAAACCTacagtaacaataacaacaacaattgTACTCCCCTAAGGTTACACCCAGCAGGTGCATAAAACCTacagtaacaataacaacaacaattgTACTCCCCTAAGGTTACACCCAGCAGGTGCATAAAACCTacagtaacaataacaacaacaattgCTGAGGGCCCTCTACAtgccaggccaggtgctgtgccTTGCTCTGCAGGTGGCACATGGTATCTGTTCACCCTCCAACAGCTTTATGTTTACTAACTCTATTTTGCTGataaatggaggctcagagagtttaatgacttgcccagtgtcacacagTCAAGAAGTGGCAGGGCTGGAACTGGAAAGCCAGACTTCTGAATC\n",
      "\n",
      "GAAGTTCTCACGGCTTCGGAGCTCTCGCAGAGCGGCCCCTCCCGCTCCTGAGCGAGGTCTGCGGGCGGAGGGAAGAGCAGAGGCGGCGCTGCGCCCTGCCCGGCCTGAGCCCCCGAAAGCCCGTGGACCCGCCGCCCCGGCCCCGCCAGACGCCCGCCCCCGTGCGGCCTCCTGCTGGTAAACGCGGCCCAAGCTGGGCGGTTCCCCATTGTCTGCGCCGCCCGGGAGCTCCGGGACTCTCATCCGTTCGGAAACACGTGTACCCATCATCTCACATCCCTGAGGTGCGGGTGCATCTACAGTTGGTGGCGTGTCACCAACTAATCAACAAATATATTATTAGTGGGTAAATAAAGATGTGCCTTCATATCAATGGCTTCTCAGAATCAATGAAATATAGAAATAATAGTAAGGGCCGGGCGGGGTGGCTCACGTCTATAATCCCAGCACTTTGGGAGGCCAAGGTGGGCCGATCACGAGGTCAAGAGTTCGAGACCAGCCTGACCAACATGGTGAAACCCCGTCTCCACTAAAAATACAAAAATTAGCCGAGCGTGGTGGCGCGTGCCTGTAATGCCAGCTACTGGGGAGGCTGAGGCAGGAGAATCGCTTGAACCTGGGAGGCGGAGGTTGCAGTGAGCCGAGATGGCGCCACTGCTCTCCAGCCTGGGCGACAGAGGAAGATTCCTGTCCCAATAATAATAATAATAATAAACGCCCCAGGTAGGTTAAGAAGGTGGCAGAGCGACCGCCATGTCTGGAGGAGAAGCAGGGGAGGCAAAATGGATGATAAACGTCAGCATTTCCGGGCAGGCCGCGGAGTCAATGAGTACTCTCATTTCACACAACAGCCCCCAGTGGAACAAGGAGGGTCTGAGGTTAAGTGACTCGCCTAAGGTTACACCCAGCAGGTGCATAAAACCTACAGTAACAACAACAACAACAATTGTACTTCCCTAAGGTTACACCCAGCAGGTGCATAAAACCTACAGTAACAATAACAACAACAATTGTACTCCCCTAAGGTTACACCCTTGAGTGCATAAAACCTACAGTAACAATAACAACAACAATTGTACTCCCCTAAGGTTACACCCAGCAGGTGCATAAAACCTACAGTAGCAATAACAACAACAATTGCTGAGGGCCCTCTACATGCCAGGCCAGGTGCTGTGCCTTGCTCTGCAGGTGGCACATGGTATCTGTTCACCCTCCAACAGCTTTATGTTTACTAACTCTATTTTGCTGATAAATGGAGGCTCAGAGAGTTTAATGACTTGCCCAGTGTCACACAGTCAAAGTGGCAGGGCTGGAACTGGAAAGCCAGACTTCTGAATC\n",
      "35M1I42M2D176M2D386M1I236M1D161M1D260M2D40M\n",
      "0.9881656804733728\n",
      "read_id: test_read_27_279267_280617 \n",
      "\tmap_start 6, map end 1350\n",
      "\t1350\n",
      "ggagatggagtttcactcttgataCCCAAGCTGGAAttcaatggcgtggtctcggcttaccacaacctctgcctcccaggttcaagtgattctcctgcctcagcctcccaagtagctgggattacaggcatgtaccaccatgcctggctaattttgtatttttagtaaagatggagtttctccatgttgatcaggctggtctcgaactcccaacctcaggtgatctacctgccttggcctcccaaagtgctgggattacaggcatgagccaccgtgcctggccttttttttttttttttttttgagatggcatctcactttgtcacccaggctggagtgcagtggcaccatcatggctcactgcagcattgaactcctgggctccagcaatcctcccacctcagcctcttgagtagctgggatcacaggcatgtgccaccatgcctagctaatttttgtatttttttttgtagagacagggtctcattatgttgcccaggctggtctcaaactcctgggctcaagcaatcctcctgcctcaacctcccaaaatactgggattacacgtgtaaaccaccacatccagccctgaTCTCATTCTTCAGAGAATTTACCTAGCTGGTCACTTGGTGTCTGTAGGAGCATCGCCTCTCAGGCCTGCCTCAAAACTGCATTTCAGTTGGgagtggggcggggggagggagagTGTAGTTTGGGGACATCAAGCGTCTGTGGTGGATCTCCTCCCAAAGTGAGACtgctttttaatgatatttattgagcacttactgtttGCCACTGCGGTGCTAAGCACTTTGCACATACTAGCTCAGTGCATCCTTACAGCAATCCTGGGAGGGAGGTGCTTTTCTCATCCGCATGTGCTGACAAGGCTGAGAAGAGCTGGGTCTTGCACGGTACCTTAAGGGCTAAAGACCTGCAAGGATGGTGCATGAAAGCAAAACCAGAGAGGCGCCTTTTCCAAATGCCAATGCGCCCTCCACCCAGTCCTTCACAAACCACATCAGCATGGATAGCACCACACTCCACAGGCTTTTCTGCAtctcctttgtgtgtgtgcacatgtgtaatTAATTCTGGGGCAACTTCCTACATCAGTACAGAGAAACTCCTTGATCATTATCCACTCCAACATCCTTCCTGGGAGGGACTGACTGGAAACCCAAATGCCCTTGTAAGGgcaaatacaaaaactaaaataattctcCCTGgtgcagaaaaaggaaagaaacctcCCGTTTCCTGTTCTTAAACACTCTAGAGCAAACACTTTAGAAAACTTCTCAATTATTTCTCTGTTCCTTTAAGATGTGTCTTTTTAAAAGCCAGGTGAGCCTCCTGCCAGTTTTACAAGCCAGGGATGTTTTCCCAAGGACCTA\n",
      "\n",
      "GGAGTTTCACTCTTGATACCCAAGCTGGAATTCAATGGCGTGGTCTCGGCTTACCACAACCTCTGCCTCCCAGGTTCAAGTGATTCTCCTGCCTCAGCCTCCCAAGTAGCTGGGATTACAGGCATGTACCACCATGCCTGGCTAATTTTGTATTTTTAGTAAAGATGGAGTTTCTCCATGTTGATCAGGCTGGTCTCGAACTCCCAACCTCAGGTGATCTACCTGCCTTGGCCTCCCAAAGTGCTGGGATTACAGGCATGAGCCACCGTGCCTGGCCTTTTTTTTTTTTTTTTTTTTGAGATGGCATCTCACTTTGTCACCCAGGCTGGAGTGCAGTGGCACCATCATGGCTCACTGCAGCATTGAACTCCTGGGCTCCAGCAATCCTCCCACCTCAGCCTCTTGAGTAGCTGGGATCACAGGCATGTGCCACCATGCCTAGCTAATTTTTGTATTTTTTTTTGTAGAGACAGGGTCTCATTATGTTGCCCAGGCTGGTCTCAAACTCCTGGGCTCAAGCAATCCTCCTGCCTCAACCTCCCAAAATGCTGGGATTACACGTGTAAACCCACCACATCCAGCCCTGATCTCATTCTTCAGAGAATTTACCTAGCTGGTCACTTGGTGTCTGTAGGAGCATCGCCTCTCAGGCCTGCCTCAAAACTGCATTTCAGTTGGGAGTGGGGCGGGGGGAGGGAGAGTGTAGTTTGGGGACATCAAGCGTCTGTGGGTGGATCTCCTCCCAAAGTGAGACTGCTTTTAATGATATTTATTGAGCACTTACTGTTTGCCACTGCGGTGCTAAGCACTTTGCACATACTAGCTCAGTGCATCCTTACAGCAATCCTGGGAGGGAGGTGCTTTTCTCATCCGCATGTGCTGACAAGGCTGAGAAGAGCTGGGTCTTGCCTGGTACCTTAAGGGCTAAAGACCTGCAAGGATGGTGCATGAAAGCAAAACCAGAGAGGCGCCTTTTCCAAATGCCAATGCGCCCTCCACCCAGTCCTTCACAAACCACATCAGCATGGATAGCACCACACTCCACAGGCTTTTCTGCATCTCCTTTGTGTGTGTGCACATGTGTAATTAATTCTGGGGCAACTTCCTACATCAGTACAGAGAAACTCATGATCATTATCCACTCCAACATCCTTCCTGGGAGGACTGACTGGAAACCCAAATGCCCTTGTAAGGGCAAATACAAAAACTAAAATAATTCTCCCTGGTGCAGAAAAAGGAAAGAGAACCTCCCGTTTCCTGTTCTTAAACACTCTAGAGCAAACACTTTAGAAAACTTCTCAATTATTTCTCTCTGTTCCTTTAAGATGTGTCTTTTAAAAGCCAGGTGAGCCTCCTGCCAGTTTCCACAAGCCAGGGATGTTTTCCCAAGGACCCCT\n",
      "567M1I160M1I28M1D369M1D35M1D82M1I63M2I23M1D32M1I29M\n",
      "0.9871977240398293\n",
      "read_id: test_read_28_756589_757989 \n",
      "\tmap_start 6, map end 1398\n",
      "\t1400\n",
      "AGGCTGGACTCCCCAGAGTGATTTTGGGCTAGTGACTcagcctctctcagcctcagtttaccATTAGTCAAATGGGGTAACAATAGAACTCACCAGATAGTGattgttgggaagattaaaaTGGGTTACCCGATACCAAGAAAAACACTTTCCCGTGCCTGGCACAGTGAACATCACCTGGCGGTCGTTCTGAGTGTCAGGGAGCGGGGCTCAGTTTGTCCATCTCTAAGGTGGGTGCGCTTGCCTGCCAGAGCCACGGGGACCCCGCGCGCCAGGTGTGCGGTGGGCGGGTCTCGGCTCCCGGAAGAACTTCCCTGGGTGGTCCTGGAGCGGGTCGGACCCAGTTCCTGAGCCAGGCCAGCTGCCGGCGGCCGGGGCTCGGGTTCTGGCCCCTGCCTGGCTTTCCTTACCCTTTTCGGGTAGTACCTGGACCAGCGGGTTCACTTGCCCGCGGCCGCCGGAAGTTGCGCAAACTCAGCTTGCCGGAGCCCCAGGTGGGCCGGGCCGGAGGAGCGCAGGCCAGCGGCGCGGGCGCAGCCGGGTACGTGCGGACCGCGGCGGGGGGCGCCCAGCCGGGGTAGGGGGCGGCCCGAGCACCCCTCCACCCCAGGACGGCGGGAACGGGGCAGGGATCTACCTTTCGGCTTCAAGAGGACCGCGGGGATGGTGCCGCTCTCTCCCTCATTTGAGAGCCAGGAGGGGCGGCGAGGGGCAAGGGTCACACAGCGCCCTGCTAGCCGACCCCCCATCCCCCGCCACCGGGAGTCCTCAAGCTTTTCCGGAATTGAGGGAGAGCAAAAGCCAGCCTGGGGATCTGAGttccccccagccctgccccgcggCCTCTGGAGGCTGACGCTGGGGAGCTAGTGGGGAGGGGGCCAGGTGGGGATGCGCGCCCCCGGGATGCAAGCCAGAAGGGCCGGCGGTTGGGGGCATCCGTGGGAGGCATTTGAATCCGTGGGTGGGGCATTGGGCGGTGAGAGGAGGCCTCAGAGGGGACATTGAGTCGCGCTTGGGGACTTGGGACCCTGGCTTCACCTGGCGGGAGCCGCTGCACCTCCGTTTGCCCACCCGTGACGTGGGGCTGTTGAGGTCAGCTCACCGATCAGCCTCTGTCTTGGGCCTGCTTTGTCCGCGGTGTGGGCTGGGACAGACCCTCGTGGGGCTTGCTTAGAGACCCCTGCGTGGGGGTGGTCTGTGGACTTGGTTAGTCGAAATCTTCTTGAAGACCAGGAGCCTGGTTCGTGGCTCCGCCTTTTTGCCAGATGCCGAGGAAAGCCCTCGACCTGTTTGATCTCTCCATCCTTATCGTGACCTGGAGGCTCAGGAAGGTCTATTTTTAACCTCGTTTCACGGATAAGGTAACCGAGTCTGTAAAGAGGCGAAGCTGCTTGCGCAAGGCGCACAGCGGGCGGGTGGGCGAGCCGAAGGCCGGCGGGCCCGCGGC\n",
      "\n",
      "GACTCCCCAGAGTGATTTTGGGCTAGTGACTCAGCCTCTCTCAGCCTCAGTTTACCATTAGTCAAATGGGGTAACAATAGAACTCACCAGATAGTGATTGTTGGGAAGATTAAAATGGGTTACCCGATACCAAGAAAAACACTTTCCCGTGCCTGGCACAGTGAACATCACCTGGCGGTCGTTCTGAGTGTCAGGGAGCCGGGGCTCAGTTTGTCCATCTCTAAGGTGGGTGCGCTTGCCTGCCAGAGCCACGGGGACCCCGCGCGCCAGGTGTGCGGTGGGCGGGTCTCGGCTCCCGGAAGAACTTCCCTGGGTGGTCCTGGAGCGGGTCGGACCCAGTTCCTGAGCCAGGCCAGCTGCCGGCGGCCGGGGCTCGGGTTCTGGCCCCTGCCTGGCTTTCCTTACCCTTTTCGGGTAGTACCTGGACCAGCGGGTTCACTTGCCCGCGGCCGCCGGAAGTTGCGCCAAACTCAGCTTGCCGGAGCCCCAGGTGGGCCGGGCCGGAGGAGCGCAGGCCAGCGGCGCGGGCGCAGCCGGGTGCGGTGCGGACCGCGGCGGGGGGCGCCCAGCCGGGGTAGGGGGCGGCCCGAGCACCCCTCCACCCCAGGACGGCGGGAACGGGGCAGGGATCTACCTTTCGGCTTCAAGAGGACCGCGGGGATGGTGCCGCTCTCTCCCTCATTTGAGAGCCAGGAGGGGCGGCGAGGGGCAAGGGTCACACAGCGCCCTGCTAGCCGACCCCCATCCCCCGCCACCGGGAGTCCTCAAGCTTTTCCGGAATTGAGGAGAGCAAAAGCCAGCCTGGGGATCTGAGTTCCCCCAGCCCTGCCCCGCGGCCTCTGGAGGCTGACGCTGGGGAGCTAGTGGGGAGGGGGCCAGGTGGGGATGCGCGCCCCGGGATGCAAGCCAGAAGGGCCGGCGGTTGGGGGCATCCGTGGGAGGCATTTGAATCCGTGGGTGGGGCATTGGGCGGTGAGAGGAGGCCTCAGAGGGGACATTGAGTCGCGCTTGGGGACTTGGGACCCTGGCTTCACCTGGCGGGAGCCGCTGCACCTCCGTTTGCCCACCCGTGACGTGGGGCTGTTGAGGTCAGCTCACCGATCAGCCTCTGTCTTGGGCCTGCTTTGTCCGCGGTGTGGGCTGGGACAGACCCTCGTGGGGCTTGCCCAGAGACCCCTGCGTGGGGGTGGTCTGTGGACTTGGTTAGTCGAAATCTTCTTGAAGACCAGGAGCCTGGTTCGTGGCTCCGCCTTTTTGCCAGATGCCGAGGAAAGCCCTCGACCTGTTTGATCTCTCCCGTCCTTATCGTGACCTGGAGGCTCAGGAAGGTCTATTTTTAACCTCGTTTCACGGATAAGGTAACCGAGTCTGTAAAGAGGCGAAGCTGCTTGCGCAAGGCGCACAGCGGGCGGGTGGGCGAGCCGAAGGCCGGCGGGCCCGCGG\n",
      "198M1I265M1I76M1I196M1D46M1D32M1D76M1D403M1I147M\n",
      "0.9896836313617606\n",
      "read_id: test_read_29_840775_842225 \n",
      "\tmap_start 6, map end 1449\n",
      "\t1450\n",
      "gaccatcctggctaacatggtgaaaccccatctctactaaaaatacaaaaaattagccaggcatggtggcatgcacctgtaatcccagctactcaggaggctgaggcaggagaattgcttgaacctgagaagcagaggttgcagtgagccaagatcacgccactgcactccagcctgggtgacagagtgagacttcgtctcaaaaaaaaaaaaaaaagtttggaagaaGCTATAGAAGTCTCGATATTACTGGTGACCCAGTATAAGGAGGAGTGGTGAATATCCCTATTCTAAAGGATTTCCTAATCCTGAAGGATTTGGACAGCTCCTGCAATTGCCAAATGTAAGCGGCCTGAAAAGTTCACACTTAGattattgcctttatttttggCTCCCACACTGTAAAAGAAATTAGAATTAGAGCACAGATACAAAAGCTATGATAATGAAAGTcctaaaaaaaattccattaagaaacacacacatataagtcAGAAATTCATTGGGAATACCTTTGCATTTTAAGAGATGAGAAGGAAAGAGTTAACAGTAGTCCTGAAATCAATTCTCTCCCTTTAACAGGAGATACTTctggcaggaaagaaaaaaaaaaaaaaaaaacttgactcTGACTCTGTCAGATCTCCTTATAACATGCTAATAAGAGACCTTCTGGTAAATATGCTAATGATATTCACTAGCAGAGGGGTCTTTATGTAGCAGAATGCATCTGCTCAGTCCTCAATTGCTTCTGGTAAACAAACTTAGAGTCTATGAATTTACAGGGCATGGCTCCTTGAAAAATGTCATGTGTTTGTAATGCTAAGTAATTGCCAGAGAATAAAATGGAGATGTTTCTAGCTAAAATAGCCCCTTTGGGTAGCTGATGGGCACCCATGCATCACAGACATCACTTAGAGATCTTTCATGTTAAACCTATCCCATGGCTTATTTTCATGAGGCAAGAAAGGACCTGGGAAGTGGTGTGGACATCCCAGACTTTTGCATTTTTACCTGCTTCGTAATTACCCGTATCCTTGAAATTATTACTAAAGCTTAATGCTGGGAAAGATCTCTGATTCCCCTGATTCTGATTTGGCAAGCCAATCAATCTTTTGTATTAATCAGGAAAGAAAGCCAATATTTCTATATGAATATACTCATCTCAAAACTTTTCAGAAAAGATATTTTCCATACATGGAAATAGCTTAATTAACTTTTTCTGATTATGAGGTTACTTATAGTCATTTTGAACACtcagacaaaacagaaaactttatggaagataaaataagaataacaaaatCTTTCCCAAAGAGAAAGACcattaaatttttgtatatatccTTCCAGAGAATAcacaaattatatgtatatatattttacatgtatacatatataacaaagaCTAGCTTATACTACCCACGCTttcctgtcatttttcttttctacctaaGATATCACTGACAGTCTTTTATATAATAAGGATAGTCCTCAATT\n",
      "\n",
      "TCCTGGCTAACATGGTGAAACCCCATCTCTACTAAAAATACAAAAATTAGCCAGGCATGGTGGCATGCACCTGTAATCCCAGCTACTCAGGAGGCTGAGGCAGGAGAATTGCTTGAACCTGAGAAGCAGAGGTTGCAGTGAGCCAAGATCACGCCACTGCACTCCAGCCTGGGTGACAGAGTGAGACTTCGTCTCAAAAAAAAAAAAAAAAGTTTGGAAGAAGCTATAGAAGTCTCGATATTACTGGTGACCCAGTATAAGGAGGAGTGGTGAATATCCCTATTCTAAAGGATTTCCTAATCCTGAAGGATTTGGACAGCTCCTGCAATTGCCAAATGTAAGCGGCCTGAAAAGTTCACACTTAGATTATTGCCTTTATTTTTGGCTCCCACACTGTAAAAGAAATTAGAATTAGAGCACAGATACAAAAGCTATGATAATGAAAGTCCTAAAAAAATTCCATTAAGAAACACACACATATAAGTCAGAAATTCATTGGGAATACCTTTGCATTTTAAGAGATGAGAAGGAAAGAGTTAACAGTAGTCCTGAAATCAATTCTCTCCCTTTAACAGGAGATACTTCTGGCAGGAAAGAAAAAAAAAAAAAAACTTGACTCTGACTCTGTCAGATCTCCTTATAACATGCTAATAAGAGACCTTCTGGTAAATATGCTAATGATATTCACTAGCAGAGGGGTCTTTATGTAGCAGAATGCATCTGCTCAGTCCTCAATTGCTTCTGGTAAACAAACTTAGAGTCTATGAATTTACAGAGGCCATGGCTCCTTGAAAAATGTCATGTGTTTGTAATGCTAAGTAATTGCCAGAGAATAAAATGGAGATGTTTCTGCTTCAAATAGCCCCTTTGGGTAGCTGATGGGCACCCATGCATCACAGACATCACTTAGAGATCTTTCATGTTAAACCTATCCCATGGCTTATTTTTCATGAGGCAAGAAAGGACCTGGGAAGTGGTGTGGACATCCCAGACTTTGCATTTTTACCTGCTTCGTAATTACCCGTATCCTTGAAATTATTACTAAAGCTTAATGCTGGGAAAGATCTCTGATTCCCCTGATTCTGATTTGGCAAGCCAATCAATCTTTTGTATTAATCAGGAAAGAAAACCAATATTTCTATATGAATATACTCATCTCAAAACTTTTCAGAAAAGATATTTTCCATACATGAAATAGCTTAATTAACTTTTTCTGATTATGAGGTTACTTATAGTCATTTTGAACCTCCAGACAAAACAGAAAACTTTATGGAAGATAAAATAAGAATAACAAAGTCTTTCCCAAAGAGAAAGACCATTAAATTTTTGTATATATCCTTCCAGAGAATACACAAATTATATGTATATATATTTTACATGTATACATATATAACAAAGACTAGCTTATACTACCCACGCTTTCCTGTCATTTTTCTTTTCTACCTAAGATATCACTGACAGTCTTTTATATAATAAGGATAGTCCTCAATT\n",
      "41M1D409M1D146M3D177M2I168M1I49M1D198M1D300M\n",
      "0.9900199600798403\n",
      "read_id: test_read_30_239874_241374 \n",
      "\tmap_start 5, map end 1500\n",
      "\t1500\n",
      "AGGCCTCACTTTTCTCCTTTGCAAACTGTGGCTGATGAGGGCCATCCTGCGGGGTTTGTGGAGAGAAGGGATAGTAACAACAGCTGCATTGTATGGTGCTATGTGCTGCACACTTTGCACACCTGatcatttaatactcacaatgATCCCTAGCAGATGGATCCTATTACCaagttcattttacagatgaggaagcttaGACCCAGCAAGGTTAAGGGGCTGTGCTCAAGGTCTTACCTTCTAGGAGAGGCAGAGCTGGATCTGAAGCCATTTCTGTTCTCAGCCCCTGCTGTGTGCTTTCCTACCATCCTCTCCAGACTCGCCCTGAGCCCAAGTTGCTGAGGCATGTGgcacggtgcctggcacacagtaggctcaCAGTAGTGGCTGCTTTGATGATGACCATAAACTGGGATCTGGGGTCCTTGAGATGATTCTACCAAGGGGACCCGGGGGAAGCTGAGCCCTGGGGCAAAGTGGGGGCCAGCACAGGAGCTGCTGGGGAAGGAACAGAGCCTGTGCGGTGGGAAGATAGGACATGGAGCAAAGAGGATCTTGAATCAGACCCCGTGGTCCCCTCCTACAGAGGGTTAAAGCAAGCCAGCCTCCTTCCGGCTGAGCGGAAATCAGATTTTGAGAGCTGAGCAGGGCTCTGGAGGGatgtttttcttctccatttgtCTGCTTGTGGCTGGCCCATAAAATCCACCGGAACTCCATGCTGGACTGAGGAATTCCTGCTGAACAGGGACATGGAGAACGCAGGCTGGGAGGGGGCATAGTGTGGATCCTTATCAGAGCAGAGACCACCCCATCttcaaggccccacctccaggttGGGTGATCCCCTCTGGAGGCCTCATAGGATTCCTGGGTAAGGGGAGGGACCAGGATCGACAGGGTGGGGGAAAGTCCAAGGAACAAGTGATACCCCCTCCCACCTTTTCAAAGTGAACTTGTGGGGTGAGGAATGAGAGGAGACAGGGAGGGTCAGGCTGTGGCAGGTCAGTGAAGTGTGATGCAGGTTCCACCTTCTacgctgtgtgacattgggcaagtctCTGCCCGTTTCCTCATCATTGCAACCAGGGGGCTGGAGCTAGATGACCACCATGTGTAATTTTCTAATCAGAGCTGACAGTCTGAGGctctttctgtctagtttgcacCTTGCATGCATGTCCTCCCCTGAAGGCAGTGCAATTATTATAACCCCtattttaaaggtaaataaaCCAAGGCTCACTGAGGCAAGGTGACCTGAGCAATTTTGCCCTTGAAGGGCTGGGACAGGATGCAAACCTAGACAATTGGTGCCAGAATTCATCTCTCAAGCATTCgctctcctgcctcccaacaCGAGTTTCTACTTCTCTTTGCCCTGGGATGACCTCTCCTTTGTCTCTTGGCTTGATGACCTCATTTTTAAAGATTCGGCTCATGCATCACCTCCCCCAAGAAGCCTGTCCTGACTAACTAAGCTCGGTTGGGGCTCCTCTCTGTCTGCTCATGCCTCTGGGAAGTAGCTGTCTCTTTTGGTCACTGGGCTG\n",
      "\n",
      "CACTTTTCTCCTTTGCAAACTGTGGCTGATGAGGGCCATCCTGCAGGGTTTGTGGAGAGAAGGGATAGTAACAACAGCTGCATTGTATGGTGCTATGTGCTGCACACTTTGCACACCTGATCATTTAATACTCACAATGATCCCTAGCAGATGGATCCTATTACCAAGTTCATTTTACAGATGAGGAAGCTTAGACCCAGCAAGGTTAAGGGGCTGTGCTCAAGGTCTTACCTTCTAGGAGAGGCAGAGCTGGATCTGAAGCCATTTCTGTTCTCAGCCCCTGCTGTGTGCTTTCCTACCATCCTCTCCAGACTCGCCCTGAGCCCAAGTTGCTGAGGCATGTGGCACGGTGCCTGGCACACAGTAGGCTCACAGTAGTGGCTGCTTTGATGATGACCATAAACTGGGATCTGGGGTCCTTGAGATGATTCTACCAAGGGGACCCGGGGGAAGCTGAGCCCTGGGGCAAAGTGGGGGCCAGCACAGGAGCTGCTGGGGAAGGAACAGAGCCTGTGCGGTGGGAAGATAGGACATGGAGCAAAGAGGATCTTGAATCCAGACCCCGTGGTCCCCTCCTACAGAGGGTTAAAGCAAGCCAGCCTCCTTCCGGCTGAGCGGAAATCAGATTTTGAGAGCTGAGCAGGGCTCTGGAGGGATGTTTTCTTCTCCATTTGTCTGCTTGTGGCTGGCCCATAAAATCCACCGGAACTCCATGCTGGACTGAGGAATTCCTGCTGAACAGGGACATGGAGAACGCAGGCTGGGAGGGGGCATAGTGTGGATCCTTATCAGAGCAGAGACCACCCCATCTTCAAGGCCCCACCTCCAGGTTGGGTGATCCCCTCTGGAGGCCTCATAGGATTCCTGGGTAAGGGGAGGGACCAGGATCGACAGGGTGGGGAAAGTCCAAGGAACAAGTGATACCCCCTCCCACCTTTTCAAAGTGAACTTGTGGGGTGAGGAATGAGAGGAGACAGGGAGGTCAGGCTGTGGCAGGTCAGTGAAGTGTGATGCAGGTTCCACCTTCTACGCTGTGTGACATTGGGCAAGTCTCTGCCCGTTTCCTCATCATTGCAACCAGGGGGCTGGAGCTAGATGACCACCATGTGTAATTTTCTAATCAGAGCTGACAGTCTGAGGCTCTTTCTGTCTAGTTTGCACCTTGCATGCATGTCCTCCCTGAAGGCAGTGCAATTATTATAACCCCTATTTTAAAGGTAAATAAACCAAGGCTCACTGAGGCAAGGTGACCTGAGCAATTTTGCCCTTGAAGGGCTGGGACAGGATGCAAACCTAGACAATTGGTGCCAGAATTCATCTCTCAAACGTTCGCTCTCCTGCCTCCCAACACGAGTTTCTACTTCTCTTTGCCCTGGGATGACCTCTCCTTTGTCTCTTGGCTTGATGACCTCATTTTTAAAGATTCGGCTCATGCATCACCTCCCCAGAAGCCTGTCCTGACTAACTAAGCTCAGTTGGGGCTCCTCTCTGTCTGCTCATGCCTCTGGGAAGTAGCTGTCTCTTTTGGTCACTGGGCT\n",
      "555M1I102M1D239M1D83M1D197M1D269M2D92M\n",
      "0.9909735654416505\n",
      "read_id: test_read_31_619869_621419 \n",
      "\tmap_start 6, map end 1549\n",
      "\t1550\n",
      "cctcagccccgtgagtagctgggatttcaggcgagAGTCAATGCACCTGGCTCTGGGGTGACTTCTTGTAAGACCTTCTCATACAGACTTTTTAATAAGATCAGAAAACCCAGACCATAAGGCAGAACAAGCCCCCTCTCCCCACTCAAAAACCAATGGATTTGACCACACTGACAGCATGGTAAGCAATGATTTCTACTCTCCAAAGGTGAGGACTCTACAAAGTCagattaaaaaagattttttttgtgtcAAAATGAACATGGGATTGATATCTAGGTAATACAAGGAAGCCctacaaattgacaagaaaaattCAGGAATTCCAATTTTaaaagtgggaaaaataaaaataaaatgtttaaaaagtgaaaaaataaaatttaaaattaaaaatcaggtgAATAAGAATTACatgattaaaacaaatttaaacagTTAAAATAACATTCAAAAACGAAattaagtaacaaaataaaaatttaaaaataaggtataaaaataaagtgtaaaaatccattcaaataaaaaatacatttgtaaaataatttaaatacattaaaattaataaaaacaaaaatgttaaaaataaaagtaaaatgtttaagtgaaataaaatttaaaaatgtaagaatacATGAAAGAATTTTTAcgagtaaaataaaaaatcagctatTTTTAACAatctaaagaataaagaaaaactaatagaaACATCAAAGGAGAGCAAGGTCTTGCTAGATGGATGCTGATGATGTGCTGTGAATTAAGGAGTCCGATTGGCTCAAATGCCTGCAGGGAGGCGGGGGAAGTGAATGACGGGGGTGGTGTAGGGAGTGAGAGGGGACGAGGAAGTAAAAGCATGCCCGCAGGCAGCATCTGATTCGGTTTTTCCAGCCCGCTGTGGGCAGAGGGCAGGAAGTCAGGCCCCATCATGGCTTCCCCCCAAAATAGCCATCACATCATTTATGCATTTGTAATGTGCTGGCAACATACGCACACGCACACGGATGCATGTTACATCATCCCATCCTCACTGCCCCATCCTCACTGCTGTCCTCTGAggtccactttcttttttttttttttttttttgagacggagtttcgctcttgttgcccaggctctgagGTCCACTTTCATAGAGGAGTgaacagagactcagagagggtGGGTCACTGTGCCACAGTCACACAGCACTTAGGACCACCCTATCCTCTGAATCTGGCATGCTCAAAATGACCTTCTTTGGATGAGTTAGGTCTGCTGAGCACTTTCAAACAGAGGCAGGGCCATCTCTGACATCAGGCTCGAACGTTCTGTACACTAGGAAGAGCCCAACCTCTCCCCCCATGACGCATGACAGTTATCACCATTAAAGAAACACTGACTGTCTTCCAGGGGCGTCACATGCATAGTCATCTTGAAAACCATATGAGGTAGATGCTCTTATTGTCCCCATTGTATTGACAGACAACATCGAGATTCAGGAGTCAAATACTGTCACCCAAGCATGGCAGTAACAGAACTGGGAGCTGAGCCCAGGACTGTCCACAGCCCAAATCTCACACTCCCTGCGTGGCACCAGGCCCTTTTAACC\n",
      "\n",
      "GCCGTGAGTAGCTGGGATTTCAGGCGAGAGTCAATGCACCTGGCTCTGGGGTGACTTCTTGTAAGACCTTCTCATACAGACTTTTTAATAAGATCAGAAAACCCAGACCATAAGGCAGAACAAGCCCCCTCTCCCCACTCAAAAACCAATGGATTTGACCACACTGACAGCATAGTGAAGCAATGATTTCTACTCTCCAAAGGTGAGGACTCTACAAAGTCAGATTAAAAAAGATTTTTTGTGTCAAAATGAACATGGGATTGATATCTAGGTAATACAAGGAAGCCCTACAAATTGACAAGAAAAATTCAGGAATTCCAATTTTAAAAGTGGGAAAAATAAAAATAAAATGTTTAAAAAGTGAAAAATAAAATTTAAAATTAAAAATCAGGTGAATAAGAATTACATGATTAAAACAAATTTAAACAGTTAAAATAACATTCAAAAACGAAATTAAGTAACAAAATAAAAATTTAAAAATAAGGTATAAAAATAAAGTGTAAAAATCCATTCAAATAAAAATACATTTGTAAAATAATTTAAATACATTAAAATTAATAAAAACAAAAATGTTAAAAATAAAAGTAAAATGTTTAAGTGAAATAAAATTTAAAAATGTAAAGAATACATGAAAGAATTTTACGAGTAAAATAAAAATCAGCTATTTTTAACAATCTAAAGAATAAAGAAAAACTAATAGAAACATCAAAAGGAGAGCAAGGTCTTGCTAGATGGATGCTGATGATGTGCTGTGAATTAAGGAGTCCGATTGGCTCAAATGCCTGCAGGGAGGCGGGGGAAGTGAATGACAGGGGTGGTGTAGGGAGTGAGAGGGGACGAGGAAGTAAAAGCATGCCCGCAGGCAGCATCTGATTCCGGTTTTCCAGCCCGCTGTGGGCAGAGGGCAGGAAGTCAGGCCCCATCATGGCTTCCCCAAAATAGCCATCACATCATTTATGCATTTGTAATGTGCTGGCAACATACGCACACGCACACGGATGCATGTTACATCATCCCATCCTCACTGCCCCATCCTCACTGCTGTCCTCTGAGGTCCACTTTCTTTTTTTTTTTTTTTTTTGAGACGGAGTTTCGCTCTTGTTGCCCAGGCTCTGAGGTCCACTTTCATAGAGGAGTGAACAGAGACTCAGAGAGGGTGGGTCACTGTGCCACAGTCACACAGCACTTAGGACCACCCTATCCTCTGAATCTGGCATGCTCAAAATGACCTTCTTTGGATGAGTTAGGTCTGCTGAGCACTTTCAAACAGAGGCAGGGCCATCTCTGACATCAGGCTCGAACTCGTTCTGTACACTAGGAAGAGCCCAACCTCTCCCCCCATGACGCATGACAGTTATCACCATTAAAGAAACACTGACTGTCTTCCAGGGGCGTCACATGCATAGTCATCTTGAAAACCATATGAGGTAGATGCTCTTATTGTCCCCATTGTATTGACAGACAACATCGAGATTCAGGAGTCAAATACTGTCACCCAAGCATGGCAGTAACAGAACTGGGAGCTGAGCCCAGGACTGTCCACAGCCCAAATCTCACACTCCCTGCGTGGCACCAGGCCCTTTTAACT\n",
      "176M1I57M2D129M1D154M1D102M1I17M1D15M1D55M1I223M2D132M2D238M2I285M\n",
      "0.9862928348909658\n",
      "read_id: test_read_32_991188_992788 \n",
      "\tmap_start 7, map end 1600\n",
      "\t1600\n",
      "tcagaccaatatccctgattaacatagatgcaaaaattttcaacaaaatactaggaaaccaATCCCAGCAACAGATCAAAAAATTAATACATCagaatcaagtaggctttattcctgggatgcaaggctggctcaatatatgcaaatcaataaatgtgattcaccacataatcagaattaaaagcaaaaaaatatgatcatctcaatagatgcagaaaaggattTGAAAACAATCCAACGCACCTTAATGATAAAAACCCACAACAGactaggcactgaaggaacataccgTAAAATAatgagccatctatgacaaacccatagccacgATCATTCTGAACTGGTAAAAGCCGGAACCATTCCCTTTCAGAActgcaacaagacaaggatgcccactctcaccatgcctattcaacatagtactggaagtgctactagagcaatcaggcaagaaaaagaaataaaaggcatccaaataggaaaagaagaagtcaaactatccctcattgctgatgatatgattctacacCTGGAAAACCCCAAATACTCTGGCAAGAGGCTTATAATACTGATGAACAACTTctgtaaagtctcaggatacaatatcaatgtCAATGTACATTTCTATACACAATAACCTTCAACCTGAGAGTccaatcaagaacacaatcccatttataatagccataaaaaatgaaaatccctaggaatacagctaaccaaggaagtgaaaggtctccacaaggagaactacaaaatacttctgcaagaaatcagagatgacacaaataaatataaacaattccATACTCATATATCAAAAAGATCAATGTCATTTAAATGGCTATACattccaaagcaatctacagattcaatgctatttctatcaaactacaaaaactgcttttcacagaattataaaaaaactaTTCTACAATTCATATGGAATCCAAAAAGTACCCAAAtcaccaaagcaatcctaagcaaaaggaacaaagccagaggcatcacattatctgacttcaaactatattataaacccacagtaaccaaaacagctgatactggtacaaaaataaacatatcactaatggaacagaatagacaacccagaaatgaagccacacacctacagacatctgatctttgataaagacaacaaaaataagcaCAGGGAAAAGAccccctattcaataaacggtgcttgGGTagctggctaaccatatgcagaagaatgaaagtggacCCCTGCccttcaccatatataaaaattaactccacaaggattaaatatttaaatgtaagatcttaaactataagaatcctggaagaaaacctggAAATACCCTTCTCAACATCCACGTTGGTAAAGAATTCTTGGctaagtctccaaaagcaattgcaacaaaaacaaaaattggcaagtgggacctaattaaactaaagagcttctacacagcaaaagaaactctcaacagagtaaacagacaacctacagaatgggagaaaatattcgcaaactatacatccaataaaggtctaatatccagaatctataaggaaattaattcaataagcaaaaaaaaatcccattaaaaatgggcaaaagttataaacagacacttctcaaaagacatacaagtggccaaa\n",
      "\n",
      "CAATATCCCTGATTAACATAGATGCAAAAATTTTCAACAAAATACTAGGAAACCAATCCAGCAACAGATCAAAAAATTAATACATCAGAATCAAGTAGGCTTTATTCCTGGGATGCAAGGCTGGCTCAATATATGCAAATCAATAAATGTGATTCACCACATAATCAGAATTAAAAGCAAAAAAATATGATCATCTCAATAGATGCAGAAAAGGATTTGAAAACAATCCAGCACCTTAATGATAAAAACCCACAACAGACTAGGCACTGAAGGAACATACCGTAAAATAATGAGCCATCTATGACAAACCCATAGCCACGATCATTCTGAACTGGTAAAAGCCGGAACCATTCCCTTTCAGAACTGCAACAAGACAAGGATGCCCACTCTCACCATGCCTATTCAACATAGTACTGGAAGTGCTACTAGAGCAATCAGGCAAGAGAAAAAGAAATAAAAGGCATCCAAATAGGAAAAGAAGAAGTCAAACTATCCCTCATTGCTGATGATATGATTCTACACCTGGAAAACCCCAAATACTCTGGCAAGAGGCTTATAATACTGATGAACAACTTCTGTAAAGTCTCAGGATACAATATCAATGTCAATGTACATTTCTATACACAATAACCTTCAACCTGAGAGTCCAATCAAGAACACAATCCCATTTATAATAGCCATAAAAAATGAAAATCCTAGGAATACAGCTAACCAAGGAAGTGAAAGGTCTCCACAAGGAGAACTACAAAATACTTCTGCAAGAAATCAGAGATGACACAAATAAATATAAACAATTCCATACTCATATATCAAAAAGATCAATGTCATTTAAATGGCTATACATTCCAAAGCAATCTACAGATTCAATGCTATTTCTATCAAACTTCTAAAAACTGCTTTTCACAGAATTATAAAAAAACTATTCTACAATTCATATGGAATCAAAAAGTACCCAAATCACCAAAGCAATCCTAAGCAAAAGGAACAAAGCCAGAGGCATCACATTATCTGACTTCAAACTATATTATAAACCCACAGTAACCAAAACAGCTGATACTGGTACAAAAATAAACATATCACTAATGGAACAGAATAGACAACCCAGAAATGAAACCACACACCTACAGACATCTGATCTTTGATAAAGACAACAAAAATAAGCACAGGGAAAAGACCCCCTATTCAATAAACGGTGCTTGGGTAGCTGGCTAGCCATATGCAGAAGAATGAAAGTGGACCCCTGCCCTTCACCATATATAAAAATTAACTCCACAAGGATTAAATATTTAAATGTAAGATCTTAAACTATAAGAATCCTGGAAGAAAACCTGGAAATACCCTTCTCAACATCCACGTTGGTAAAGAATTCTTGGCTAAGTCTCAAAAGCAATTGCAACAAAAACAAAAATTGGCAAGTGGGACCTAATTAAACTAAAGAGCTTCTACACAGCAAAAGAAACTCTCAACAGAGTAAACAGACAACCTACAGAATGGGAGAAAATATTCGCAAACTATACATCCAATAAAGGTCTAATATCCAGAATCTATAAGGAAATTAATTCAATAAGCAAAAAAAAATCCCATTAAAAATGGGCAAAAGTTATAAACAGACACTTCTCAAAAGACATACAAATTGGCCAA\n",
      "57M1D173M2D211M2I251M1D193M1I54M1D439M1D249M1I10M\n",
      "0.9897218863361548\n",
      "read_id: test_read_33_107192_108842 \n",
      "\tmap_start 6, map end 1649\n",
      "\t1650\n",
      "CACCAGCCGGTCTTCAGGCTCCCGGGCCAGCATTCAGACTGGGCAGGAGGTTTGTGGGTGGAAGGTGAGTTGGGCAGCCCGTCAGCCACTCCTCAGGGCTGGACGGAAATAGTGATTAGGAGCATGGGGTTTGATGTCAGATGGCCTGGGGTTGCAGCCTAACTTTGTTATTTACTATCTGTGAGTTAAGCCctctgggtttcagtttctccatttgtaaaatgggactgATATTGGAAGATGTCCTACTTAGAATGGCGCCTGAGCCATCGTAAGCCCTCAGTGAATCCACTGTAAGACTTCAGCCCCCAGACTCCCACTGTTCCCTTGCCCCAGCTTCCCTGCACCTCTCCTGCCACTTCCCTCAAAGTTGCTCTCAGTCAGGCCTTGGGAGCCACAATCTGGGAACGAGGACCCTGACATCCCTCTTCACAGCTGTACCCAGCACCAAACAAGTCATCAGAGGTTCAAAACACGGAGcccctaccatgtgccaggcacggCATGGCATGCCTGCTCTCTTTCTAATTTTGATACCGCAATgattaattctgtgaaaaaagttcTAGAAGGATATAAGGCAAAGAATTAGGTTGTGTTCCGTCCATTCACTCACGGCTCTGCTCCCACGCATGGCTGCGCTATGCACACTGCCCTGCAGCTTCCTTTGTCTGCTGCACAATGGGCTCTGGACGGAGCCCTGTTGGCGCAATGAGTGAGCCCTACATCAAGCTTCGTCATCGCTGCATCGCTTTGCACCGTGTGGCTGGGCCGCCATCAGTACAGCCAACTGCCTCTGATGGACATCTGGGCTGCAGCCAGATTCCTCCTAACAGGGCTTCAGGGAAAGTCCTCCTCAGCGCCTCTTTGTGCGCATGGCACATTTCTCTAAGGCAGGTTTCTGGACATGAGACTGACGGGCAGCATGTGCTCCTTACATTTGGGGGTCCTGTCAATCCCCTCCTCTCCCGCAGGCTGTTCTAGACTCCAGCCCCCATGTGAGAGGATGCCTGTTGCCCTCACTCTTCCATCCTGGCAGTCCCCAGCCTCCTTGCCTCTCTTGTTTTCTTGTTCCGATCAGTTCCAGGTGGCCAGAGGGTCGAGACTCATCTCACAGCCGTGCAATAGATGCGTGTCTCTCAGTCGGTCAGCTCTGGCTGGGATCAGTGTTTATCTTCATGTCGGTGGACACCATCACAGGCACCCGCAAGAATCAGCGATCGACGGGGAAGAGGTTTGGGTGCATGGAGGAGTGCTTTGCAGTGAGGGCTTTGGAGCCTTGTGCCctgattcaaatcctggctgtgtCCCCTGCCGGTTGTGTGACTTCGGATAAATTACTTGATGTCTCTGAGCATAAGCTGGGTCATCAGAAAAGCCAAGCTAGTAAGAGCACGTAGCTCAGAAGGCTGCTGTAAAGTTCAGATGAGTTGATATATGCTCAGTGCTGGAAAGGGTGCTGGGCACATTAGCTGTTGGTATTATTTGGGCACCTCCAGcccaaataataataaagagactAGGAGGGATGTTGGGAGATATCAGATGTTGCTCATTGGAGGCTGTACTGAGTGTGCAGAGAGCTTCAGGGAACCTGGAGCTTTGAGAGGTAAAGGAACGTGCCAACTGGAACTAGAAACCCACTGCCGCCTGCAGCTCTCTGGGCTGTTTCTCCACATGCACCGTGGGGTTGTTCGGGT\n",
      "\n",
      "GCCGGTCTTCAGGCTCCCGGGCCAGCATTCAGACTGGGCAGGAGGTTTGTGGGTGGAAGGTGAGTTGGGCAGCCGTCAGCCCTCCTCAGGGCTGGACGGAAATAGTGATTAGGAGCATGGGGTTTGATGTCAGATGGCCTGGGGTTGCAGCCCTAACTTTGTTATTTACTATCTGTGAGTTAAGCCCTCTGGGTTTCAGTTTCTCCATTTGTAAAATGGGACTGATATTGGAAGATGTCCTACTTAGAATGGCGCCTGAGCCATCGTAAGCCCTCAGTGAATCCACTGTAAGACTTCAGCCCCAGACTCCCACTGTTCCCTTGCCCCAGCTTCCCTGCACCTCTCCTGCCACTTCCCTCAAAGTTGCTCTCAGTCAGGCCTTGGGAGCCACAATCTGGGAACGAGGACCCTGACATCCCTCTTCACAGCTGTACCCAGCACCAAACAAGTCATCAGAGGTTCAAAACACGGAGCCCCTACCATGTGCCAGGCACGGCATGGCATGCCTGCTCTCTTTCTAATTTTGATACCGCAATGATTAATTCTGTGAAAAAAGTTCTAGAAGGATATAAGGCAAAGAATTAGGTTGTGTTCCGTCCATTCACTCACGGCTCTGCTCCCACGCATGGCTGCGCTATGCACTGCCCTGCAGCTTCCTTTGTCTGCTGCACAATGGGCTCTGGACGGAGCCCTGTTGGCGCAATGAGTGAGCCCTACATCCAAGCTTCGTCATCGCTGCATCGCTTTGCACCGTGTGGCTGGGCCGCCATCAGTACAGCCAACTGCCTCTGATGGACATCTGGGCTGCAGCCAGATTCCTCCTAACAGGGCTTCAGGAAAGTCCTCCTCAGCGCCTCTTTGTGCGCATGGCACATTTCTCTAAGGCGGAGTTTCTGGACATGAGACTGACGGGCAGCATGTGCTCCTTACATTTGGGGGTCCTGTCAATCCCCTCCTCTCCCGCAGGCTGTTCTAGACTCCAGCCCCATGTGAGAGGATGCCTGTTGCCCTCACTCTTCCATCCTGGCAGTCCCAGCCTCCTTGCCTCTCTTGTTTTCTTGTTCCGATCAGTTCCAGGTGGCCAGAGGGTCAGGGCCTCATCTCACAGCCGTGCAATAGATGCGTGTCTCTCAGTCGGTCAGCTCTGGCTGGGATCAGTGTTTATCTTCATGTCGGTGGACACCATCACAGGCACCCGCAGAATCAGCGATCGACAGGGGAAGAGGTTTGGGTGCATGGAGGAGTGCTTTGCAGTGAGGGCTTTGGAGCCTTGTGCCCTGATTCAAATCCTGGCTGTGTCCCCTGCCGGTTGTGTGACTTCGGATAAATTACTTGATGTCTCTGAGCATAAGCTGGGTCATCAGAAAAGCCAAGCTAGTAAGAGCACGTAGCTCAGAAGGCTGCTGTAAAGTTCAGATGAGTTGATATGCTCAGTGCTGGAAAGGGTGCTGGGCACATTAGCTGTTGGTATTATTTGGGCACCTCCAGCCCAAATAATAATAAAGAGACTAGGAGGGATGTTGGGAGATATCAGATGTTGCTCATTGGAGGCTGTACTGAGTGTGCAGAGAGCTTCAGGGAACCTGGAGCTTTGAGAGGTAAAGGAACGTGCCAACTGGAACTAGAAACCCACTGCCGCCTGCAGCTCTCTGGGCTGTTTCTCCACATGCACCGTGGGGTTGTTCGGGT\n",
      "72M1D9M1D69M1I148M1D340M2D80M1I115M1D53M1I94M1D48M1D60M1I107M1D16M1I208M2D265M\n",
      "0.987683284457478\n",
      "read_id: test_read_34_945215_946915 \n",
      "\tmap_start 5, map end 1700\n",
      "\t1700\n",
      "ctttgggaggtccaggtgggtggatcacctgaagtcaggagttcgagaccagcctggccaacatggcgaaaccccttctctactaaaaatacaaaattagctgggcgtggtgacacatgcctgcagtcccagttactcaggaggctgagacaggagaatcacttgaatccaggaagcagaggctgcagtgagctgagatcgcatcactgcactccagcctgggcaagacaaagcgagacttcacctcaaaaaacaaacaaaaaaataccctTCCTCCAGATAGCCACATGTCTTacttccttcaggtctcagctcccAGGGCGCCCTAGAGTAGGCACAGGGAGTACCTCACAGTGTCCTCCCTGACCATCCATATAAAGTAACATCCTCCATAAACTATCCTgttactttgctttatttttctgaatagcATTTATCACTATCTGGCATTTATCACCtgtagtttttactttttgtctctctctctctaatttgTATGTAAGCTTCATAAGGAAGGAATGACTCTGGACTGGACTCCATGCCTCAGCACATTCACCCacccattcaacaaacattcttaagggtctaggctgggcatggtggctcatgcctgtaatcccagcactatgggaggccgaggtgggaggatcacttgaagccaggagtttgagaccagcctgggcaaggaaacaagaccctgcctctaaaaaatacaatttaaaaaagtatccaggcacagtggcgtgagcctatagtcccagctactcgggaggctgagctgggaagatctcttgtgcccaggagttcaaggctgcagtgagccatggtcatgccactacactccagcctgggtgacagagttagaccctgcctgtaaaaaaaaaaaggtggggggcagggtggggaaggttTGCCTTGACCAGGCCGCGTGCTAGGTGCCGGGCATACAAAAGTGAAAAACGTGATTTGTCCTCAGTGAGCTCACAGGTCTGAGGAGACACATAAACCCAGGAATGGAAATGCTTTGCTGGCGATGGACAGTGAGTCTGGGAGAACATTGAGGAGATGTTTAACCCAGACAATGGAGTGGGGTGTGGTCAGGTCAttccctggaggaggtgatgtttaAGCTGTGGCATGAAACCTCAGTAGGATGTGATGACCTTAGAACATGGCTACACGTTCTTTGACATTCCTCCTTTAAATTACCTTccctttgaatctgggctgggcCTTCATGATCCATTTGTAACCAACAGGACACAGCAGACATGGTGCTGCAGGATTTCCAAGGCTAAGTCACGCTGAACCGCCATGTTGAAAGGCCAACAGCCAAGACTGCCATGTGGAGAAGCAGCCCGGGCCACGTGGGAAGACCATGTGTAGGTAGCTGCTCCAGTTGACAGCTGAGCCCAGGCACCAGACTTATGAGTTGAGAAGCTTCCAGGGGATTCCAGCCCCTCATAATTCAACTCACTCCCAGCTGTTGGAGGGCCTTCCCAGCAGAGGCCCAGCCATCACAGAGCAGAGACAAGCCATCCCTTCTATATCctgtctgaattcctgacccagaGTCCACGAACATAATGAGATGGCAGTTGTCCACACTATTAGGTTTTGGGGCAGTTTGTTATGAAGGAATAACTGGAACAATAGGATAAGGAAGAGTGAGGTGAAGGAAAGGACTTTACAGATGCCAGCAACAGTACATGGGAAGACCTGGTAAGAGTGGCTGACACAGAAGCTAACC\n",
      "\n",
      "GGAGGTCCAGGTGGGTGGATCACCTGAAGTCAGGAGTTCGAGACCAGCCTGGCCAACATGGCGAAACCCCTTCTCTACTAAAAATACAAAATTAGCTGGGCGTGGTGACACATGCCTGCAGTCCCAGTTACTCAGGAGGCTGAGACAGGAGAATCACTTGAATCCAGGAAGCAGAGGCTGCAGTGAGCTGAGATCGCATCACTGCACTCCAGCCTGGGCAAGACAAAGCGAGACTTCACCTCAAAAAACAAACAAAAAAATACCCTTCCTCAGATAGCCACATGTCTTACTTCCTTCAGGTCTCAGCTCCCAGGGCGCCCTAGAGTAGGCACAGGGAGTACCTCACAGTGTCCTCCCTGACCATCCATATAAAGTAACATCCTCCATAAACTATCCTGTTACTTTGCTTTATTTTTCTGAATAGCATTTATCACTATCTGGCATTTATCACCTGTAGTTTTTACTTTTGTCTCTCTCTCTAATTTGTATGTAAGCTTCATAAGGAAGGAATGACTCTGGACTGGACTCCATGCCTCAGCACATTCACCCACCCATTCAACAAACATTCTTAAGGGTCTAGGCTGGGCATGGTGGCTCATGCCTGTAATCCCAGCACTATGGGAGGCCGAGGTGGGAGGATCACTTGAAGCCAGGAGTTTGAGACCAGCCTGGGCAAGAGAACAAGACCCTGCCTCTAAAAAATACAATTTAAAAAAATTATCCAGGCACAGTGGCGTGAGCCTATAGTCCCAGCTACTCGGGAGGCTGAGCTGGGAAGATCTCTTGTGCCCAGGAGTTCAAGGCTGCAGTGAGCCATGGTCATGCCACTACACTCCAGCCTGGGTGACAGAGTTAGACCCTGCCTGTAAAAAAAAAAAGGTGGGGGGCAGGGTGGGGAAGGTTTGCCTTGACCAGGCCGCGTGCTGAGTGCCGGGCATACAAAAGTGAAAAACGTGATTTGTCCTCAGTGAGCTCACAGGTCTGAGGAGACACATAAACCCAGGAATGGAAATGCTTTGCTGGCGATGGACAGTGAGTCTGGGAGAACATTGAGGAGATGTTTAACCCAGACAATGGAGTGGGGTGTGGTCAGGTCATTCCCTGGAGGAGGTGATGTTTTAAGCTGTGGCATGAAACCTCAGTAGGATGTGATGACCTTAGAACATGGCTACACGTTCTTTGACATTCCTCCTTTAAATTACCTTCCCTTTGAATCTGGGCTGGGCCTTCATGATCCATTTGTAACCAACAGGACACAGCAGACATGGTGCTGCAGGATTTCCAAGGCTAAGTCACGCTGAACCGCCATGTTGAAAGGCCAACAGCCAAGACTGCCATGTGGAGAAGCAGCCCGGGCCACGTGGGAAGACCATGTGTAGGTAGCTGCTCCAGTTGACAGCTGAGCCCAGGCACCAGACTTATGAGTTGAGAAGCTTCCAGGGGATTCCAGCCCCTCATAATTCAACTCACTCCCAGCTGTTGGAGGGCCTTCCCAGCAGAGGCCCAGCCATCACAGAGCAGAGACAAGCCATCCCTTCTATATCCTGTCTGAATTCCTGACCCAGAGTCCACGAACATAATGAGATGGCAGTTGTCCACACCTATTAGGTTTTGGGGCAGTTTGTTATGAAGGAATAACTGGAACAATAGGATAAGGAAGAGTGAGGTGAAGGGAAGGACTTTACAGATGCCAGCAACAGTACATGGGAAGACCTGGTAAGAGTGGCTGACACAGAAGCTAACC\n",
      "270M1D197M3D243M1I405M1I483M1I143M\n",
      "0.9931545921277809\n",
      "read_id: test_read_35_332849_334599 \n",
      "\tmap_start 5, map end 1750\n",
      "\t1750\n",
      "CTTCATGGCCTACTGCCTTCCTGCCCAGGAGCCCCAGGTCTTGGCATAATAGGTCTAGCTGGCTGCAGGCTTAGCCCTCTCTGGCCTACCTCGTCTGCTCTGGCATCTTCCATATTTCAACTGTGCCCTGCCCATCAGGAAGAAGGGCAGTTCCCAGGGTCTAGGTGTGAGTCTCAGGGCTGTGTGACCCTAGGTGGCTGGCAGAGCCACCCTGGGCCTCACCCTGCACATCCATAAAGAGGGGTTGGGGCATCCTATGATTCACTGGCTTCACTCTATGGGGTCAGGAAGGAGCACTGACCTGGGAGTCAGGAGCCCAGTTCCAGCCCTGCTTCTGCTCCCTTTGCCCTCCCCTTTGGGCCCCAGCTTTCTTGTCTGTCAAATGGGAATGGGACAAGATGGTCCCTGAGCTGCTGTCCAGACCCGGTAATGGAATTCTGTATGAATTCCAAGGAGGAGAGTAGCCACAAATGCATCCGCTCCACGCTGATGGGGCTCTCTCTCCGGTAAGCTTCACTTACTCTGCCATTTCTCCAGTGTATTTTATCAGACCCACCTCCTCTGAGCCAAAGAAAAGAGGGTAGGAGCAGGATGAAACAAACTCACAGCTCTGTTCATTCAGGCTCATCACAGagatgacttgcccaagggcatGTGGCAGGTCCTCTGAAATTTGAGGAaggctgtgttttcttttgtgtcaCTTTGGTCCTCCGGGAAGCAGATGTGAAAATGGAGGTGTAAGTGTAAGAGATTTATTGAGAAAACACCGTGAGAAATGGAGGAGAGCCTTCAGAGAGGGATGCAGGTCTGATACTGTGAAAGGAGAGGTGGAATAAAGAAAGATTGGGGAAGAGGAGCCTCAGGCCATGGTGCAGGTCTAAGGAAGTCCTAGCCAACCCAACAGGGAGCTCCTGTGCAAAGATTTCCTGTAGAGGAGTCCCGTGCTCGACAGAAGGGCAGACCCTAGTTTCCCACCATGCTCAGTCATCAGCCGGCCTGTCCTGGAAGAGTGGCTGTGCTGACAACTATGGCAGATTGCAAAGGTGTTGCAGCTGGAGGCTCTCAGTGACTGTAGTCCAGAGAAGATCTGAGTGGCACCTCCCTAAGGCTGCcacatgtttttctttattcatttaatagACACTTACAGAACTCTGGGCCATGTGCCAGTTACTGATCTatgcactttacaaatattaccTTAGTTAATCCTTACCCTCGCCTTTTGAGACAGATGGTATttttagccccattttatagagggagaaactgagcacaaagaggttaagtaagttGCCCAAGGTTTCACAGCCAGTAGGTGATAAGCCACAAATCCAACCCAGGCAAGCTGCTTGGAGGCTCTGCTCTGACCACTCCACCACACTGCCTCCTCTCCAGCTGCAAATGCCTTGGTGGCAATTTCTGGGaccatttccattttcatttttcattggcTCAGGACCTCACAGCCTTAACAGGAAGGGGCCTACTGTGGTGGCTGGGGGCATAGCAGGGTCCCAGCTCCCCCTGAAGCTTCTACCTTGCTCCCTCAAAGACTTCCACCTCAAAGCCTTTGCATATATTGTTCCCACTGCCCAGAGCACTCTTCCACCCCCTTCCTTGCCTAGGTAACCCCTCCTCCCATCGCTCCCTTGCCTGACCCCAGGATCTAGCCCAGGATAGGGGTGATATGTAGTGGAAAGGAGCTagttgacatttattgagcacttattatgtgctaGGAGCCAAGTCCAGCCCTTTACATAGATTGCCTCACTTAACCATCATAACAACCTG\n",
      "\n",
      "GGCCTACTGCCTTCCTGCCCAGGAGCCCCAGGTCTTGGCCATAATAGGTCTAGCTGGCTGCAGGCTTAGCCCTCTCTGGCCTACCTCGTCTGCTCTGGCATCTTCCATATTTCAACTGTGCCCTGCCCATCAGGAAGAAGGGCAGTTCCCAGGGTCTAGGTGTGAGTCTCAGGGCTGTGTGACCCTAGGTGGCTGGCAGAGCCACCCTGGGCCTCACCCTGCACATCCATAAAGAGGGGTTGGGGCATCCTATGATTCACTGGCTTCACTCTATGGGGTCAGGAAGGAGCACTGACCTGGGAGTCAGGAGCCCAGTTCCAGCCCTGCTTCTGCTCCCTTTGCCCTCCCTTTGGGCCCCAGCTTTCTTGTCTGTCAAATGGGAATGGGACAAGATGGTCCCTGAGCTGCTGTCCAGACCCGGTAATGGAATTCTGTATGAATTCCAAGGAGGAGAGTAGCCACAAATGCATCCGCTCCACGCTGATGGGGCTCTCTCTCCGATGGCTTCACTTACTCTGCCATTTCTCCAGTGTATTTTATCAGACCCACCTCCTCTGAGCCAAAGAAAAGAGGGTAGGAGCAGGATGAAACAAACTCACAGCTCTGTTCATTCAGGCTCATCACAGAGATGGCTTGCCCAAGGGCATGTGGCAGGTCCTCTGAAATTTGAGGAAGGCTGTGTTTTCTTTTGTGTCACTTTGGTCCTCCGGGAAGCAGATGTGAAAATGGAGGTGTAAGTGTAAGAGATTTATTGAAAACACCGTGAGAAATGGAGGAGAGCCTTCAGAGAGGGATGCAGGTCTGATACTGTGAAAGGAGAGGTGGAATAAAGAAAAGATTGGGGAAGAGGAGCCTCAGGCCATGGTGCAGGTCTAAGGAAGTCCTAGCCAACCCAACAGGGAGCTCCTGTGCAAAGATTTCCTGTAGAGGAGTCCCGTGCTCGACAGAAGGGCAGACCCTGGTTTCCCACCATGCTCAGTCATCCAGCCCGGCCTGTCCTGGAAGAGTGGCTGTGCTGACAACTATGGCAGATTGCAAAGGTGTTGCAGCTGGAGCTCTCAGTGACTGTAGTCCAGAGAAGATCTGAGTGGCACCTCCTAAGGCTGCCACATGTTTTTCTTTATTCATTTAATAGACACTTACAGAACTCTGGGCCATGTGCCAGTTACTGATCTATGCACTTTACAAATATTACCTTAGTTAATCCTTACCCTCGCCTTTTGAGACAGATGGTATTTTTAGCCCCATTTTATGAAGAGGGAGAAACTGAGCACAAAGAGGTTAAGTAAGTTGCCCAAGGTTTCACAGCCAGTAGGTGATAAGCCACAAATCCAACCCAGGCAAGCTGCTTGGAGGCTCTGCTCTGACCACTCCCACCACACTGCCTCCTCTCCAGCTGCAAATGCCTTGGTGGCAATTTCTGGGACCATTTCCATTTTCATTTTTCATTGGCTCAGGACCTCACAGCCTTAACAGGAAGGGGCCTACTGTGGTGGCTGGGGGCATAGCAGGGTCCCAGCTCCCCTGAAGCTTCTACCTTGCTCCCTCAAAGACTTCCACCTCAAAGCCTTTGCATATATTGTTCCCACTGCCCAGAGCACTCTTCCACCCCCTTCCTTGCCTAGGTAACCCCTCCTCCCATCGCTCCCTTGCCTGACCCCAGGATCTAGCCCAGGATAGGGGTGATATGTAGTGGAAAGGAGCTAGTTGACATTTATTGAGCACTTATTATGTGCTAGGAGCCAAGTCCAGCCCTTTACATAGATTGCCTCACTTAACCATCATAACAACC\n",
      "38M1I306M1D157M1D251M2D79M1I150M1I3M1I66M1D42M1D157M2I117M1I148M1D271M\n",
      "0.987825124515772\n",
      "read_id: test_read_36_681098_682898 \n",
      "\tmap_start 6, map end 1798\n",
      "\t1800\n",
      "cGATTGTTTATTCTCAGCCTCAGGAGGACGCAGGAGAATCTCAGGCATCAAATTTAGTGCAGCACACCTGCCTAGGCAAAACTGGACAGCTCCACCTCAACTTTGTAGAGGGGCAGAGAAAGCTGTGGGGAACCACCTTCCTGCTCTTGTCATGAAGTCCTCCTCAACTGGAAGCCCAAGCTTCAGGCCAGGAACTTCCCCAGCAGAGGCAGCCTTCCCCAGGGGGCCAAGACCTTGGCAGAATGTCTGGGGTGCTCATGGCAGCGCCTCTCACCTGGCCCCTGCCAAATCAGTTTCTGCTTGGCCTCTGCAGGATCTGACCTCGTTGAGTCCCCAGGGCCCAGTTCTCTGCCTCTGAGGCTAAAAGTGAGATCGTTTCCTGGTTGAGGAGTGACTAAAAGACTTCTGtgtgtagagactgggttttgctgtgttggccaggctggtctcgaactcctgaccccaagtgattcACCTTAAGGTGAATGTGTGGCTGTGTACGCGCACGTGCAGAGCAGAACCATCACTCTGCTTGGGCTAGGCAGCTGGACTAATCGTCCATTTCCCCCCGCCCGGAGGCCTCTTCCAGGCCCCCAGCTGCCCTGATGGGCCAGGTCAGCCCCCCCCACAGGAGCCCCCAGCCGCTCCCCATTCGGCTTTCCTTGTATTGTGCGCTGCCTGGTTTCTCGAGGAAATGGGGCGGCTGCTGGGTGCGGGGGCGGCCGCCAGCAGCCCCACCCCCTTCCCCCCATTGTCACTCCTGGCTTCTGCCCCTAGCCCCTGCTGCTGACACTAAAAATAGACCTGTTCACAGGGAGACGGCCCCACCCCTGAGCGGGGCCCCAGGCTCAGTGTCAGGTTGGGTTTGCCAAGACAGAGCTGCCCTGGGGACTGAGGTGGCTCAGCTGAAAGACCGGGGTCGAAACACGTtagggctgtgtgaccttaggtccccttttctcctctctgagcctcaatttcctcacctttaaaatggGGTAAGGCTACCTACCTGCTAAGGTTGCTCTTGACAATGAACAGAAGCTGGGTGAGTCACAAGCGCACTTCGTTCTCGTCCTGCCCGTGGTTTGGTGCTGCCTGAGCGGCTTGAGAACCTGGAGGACAGATGGCATAACACACGCCTTCATCTTCAATCTGCCTTGAATGATTGCCAAGGACTTCCAAATCCCCCTAAACAGAGGAGCTGGAAGAGCCCACTTGGGAATCCAAAAGTGTCCGCAGCTCTGCTGTGTGAGCCCGGGTAGGTGCCTCCTCTCTGGCATCCATGAGCTCACACGTGAAGTATGCAGCCAGGCTGGGACTCGAACCTGTGTCTGCAGCCTCTGAAGACTGTTTTTTCCGCTTTAAGGGGCTGCCTCCATGCTGATGACTCCAAGGACTTCCTGGCTGGGATAACCCTGCCTTTTCGTCTACAAACACATGATTCATGGTGAAGGAAGATGCTGGGCGGTGGGCATGGAAGCCTGAGCTGGGGGCTGGGTAGTTCCCCTTGAGCCCATGCAGATGGGCAGCTGTCCTCAGATGCCACCCGCAGCCATTGGGTTGGGCCCTGCAAAGGAGATACTGGCATGTGTCTGTCtaccaggctcttttttgttgttgttcctttgtccttttttttaaaccatggaATATTTCAAATATGGGTCTTTCATATACATTCAAAACCTTGAACTCTTAGAATTACTTTTGTCAcagttgcaatttttttttaaatttttatttcatttgtctatttattttttgagacggagtctcgctctgttacccaggttagagtgcagtgacctgatcttggctcactgcaaccttcgcctcccaggttcaag\n",
      "\n",
      "TTCTCAGCCTCAGGAGGACGCAGGAGAATCTCAGGCATCAAATTTAGTGCAGCACACCTGCCTAGGCAAAACTGGACAGCTCCACCTCAACTTTGTAGAGGGGCAGAGAAAGCTGTGGGGAACCACCTTCCTGCTCTTGTCATGAAGTCCTCCTCAACTGGAAGCCCAAGCTTCAGGCCAGGAACTTCCCCAGCAGGGGCAGCCTTCCCCAGGGGGCCAAGACCTTGGCAGAATGTCTGGGGTGCTCATGGCAGCGCCTCTCACCTGGCCCCTGCCAAATCAGTTTCTGCTTGGCCTCTGCAGGATCTGACCTCGTTGAGTCCCCAGGGCCCAGTTCTCTGCCTCTGAGGCTAAAAGTGAGATCGTTTCCTGGTTGAGGAGTGACTAAAAGACTTCTGTGTAGAGACTGGGTTTTGCTGTGTTGGCCAGGCTGGTCTCGAACTCCTGACCCCAAGTGATTCACCTTAAGGTGAATGTGTGGCTGTGTACGCGCACGTGCAGAGCAGAACCATCACTCTGCTTGGGCTAGGCAGCTGGACTAATCGTCCATTTCCCCCGCCCGGAGGCCTCTTCCAGGCCCCCAGCTGCCCTGATGGGCCAGGTCAGCCCCCCACAGGAGCCCCAGCCGCTCCCCATTCGGCTTTCCTTGTATTGTGCGCTGCCTGGTTTCTCGAGGAAATGGGGCGGCTGCTGGGTGCAGGGGCGGCCGCCAGCAGCCCCACCCCTTCCCCCCATTGTCACTCCTGGCTTCTGCCCCTAGCCCCTGCTGCTGACACTAAAAATAGACCTGTTCACAGGGAGACGGCCCCACCCCTGAGCAGGGCCCCAGGCTCAGTGTCAGGTTGGGTTTGCCAAGACAGAGCTGCCCTGGGGACTGAGGTAGCTCAGCTGAAAGACCGGGGTCGAAACACGTTAGGGCTGTGTGACCTTAGGTCCCCTTTTCTCCTCTCTGAGCCTCAATTTCCTCACCTTTAAAATGGGGTAAGGCTACCTACCTGCTAAGGTTGCTCTTGACAATGAACAGAAGCTGGGTGAGTCACAAGCGCACTTCGTTCTCGTCCTGCCCGTGGTTTGGTGCTGCCTGAGCGGCTTGAGAACCTGGAGGACAGATGGCATAACACACGCCTTCATCTTCAATCTGCCTTGAATGATTGCCAAGGACTTCCAAATCCCCCTAAACAGAGGAGCTGGAAGAGCCCACTTGGGAATCAAAAGTGTCCGCAGCTCTGCTGTGTGAGCCCGGGTAGGTGCCTCCTCTCTGGCATCCATGAGCTCACACGTGAAGTATGCAGCCAGGCTGGGACTCGAACCTGTGTCTGCAGCCTCTGAAGACTGTTTTTCCGCTTTAAGGGGCTGCCTCCATGCTGATGACTCCAAGGACTTCCTGGCTGGGATAACCCTGCCTTTTCGTCTACAAACACATGATTCATGGTGAAGGAAGATGCTGGGCGGTGGGCATGGAAGCCTGAGCTGGGGGCTGGGTAGTTCCCCTTGAGCCCATGCAGATGGGCAGCTGTCCTCAGATGCCACCCGCAGCCATTGGGTTGGGCCCTGCAAAGGAGATACTGGCATGTGTCTGTCTACCAGGCTCTTTTTTGTTGTTGTTCCTTTGTCCTTTTTTTTAAACCATGGAATATTTCAAATATGGGTCTTTCATATACATTCAAAACCTTGAACTCTTAGAATTACTTTTGTCACAGTTGCAATTTTTTTTAAATTTTTATTTCATTTGTCTATTTATTTTTTTGAGACGGAGTCTCGCTCTGTTACCCAGGTTAGAGTGCAGTGACCTGATCTTGGCTCACTGCAACCTTCGCCTCCCAGGTTCAAG\n",
      "396M2D156M1D54M2D13M1D102M1D488M1D126M1D371M1D34M1I90M\n",
      "0.9886547811993517\n",
      "read_id: test_read_37_567712_569562 \n",
      "\tmap_start 10, map end 1850\n",
      "\t1850\n",
      "gtctctgggcttcagtttctccatctgtcaaATGGATGGTTAAACTCAGTGTTTCTAAAGGCCCACtgttcacccatccatccatccatccacccacccacctacccatctgcccacccatctatccatccccatccatccatccatccatccccatccatccatccatccatccatccatccacccacccacccatctatccatccactcacccacccatctatccatccatccatccacccatccatccatccaccaacccatctatccatccaatcacccacccatctatccatccaccaacccatctatccatccactcacccacccatctatccatccatccatccacccacccactcatctatccatccatccatccatccatccacccacccacctacccatctgcccacccatctatccatccccatccatccatccatccatccacccacccatatatccatccactcacccacccatctatccatccatccacccacccactcatctatccatccatccatccatctatccacccacccacccatcatccaCCCAACCAtctatccgtccatccatccattcagcaGATATTTCTTGAATATCATCTATGTGCCAGGATCCTttatttattaaagttaaaagacaaatcacagaCCTGTAGAAACATTTTAGAAAGACATACAAAATCATACTGGATTGGAAATGTAAATTTCCCCAGGACTTTTGTTCACCAGTGACTCTCCAATGCCATGCATGGGGCCACATGTCTACTAGGTGCTCTGTAAAATGTTTATTGGATGTAAGAATGAATAGGACATATTTTGCTGTTCTAAAGAGAGCTGCCTCCGAGTCTGAGATTGGAGTCAGACATCCTCTCTAGGACTTATTGAGAGGGGGCCAACTATCTTTGTCACCCCCATCCCTGACCTGCCCCACTGCCTCCCCAGCCCATATAAGCCAGTTTCTAAAGAGGATCTAAGGAGGATTGGCCAGCAGTGACTGGGGCAGGGTAGGGCACGGCATGCCCCCAACTCCCAAGCCCAGGTGGGCTCATGGTTTGGAGGGGAGAAGCTATGAACCAGAGGGAAACAGGCATTCCATCCCTTGATTGAACTCACTCTTGTTGATCTGCCCTGTGTCCATTGGGAGTGAGTGGAGAATGAATGAGAAATGCAAAAGGGGTGGGGTCTGGCAGAGGCAGCCTGCATTGCCACCATTTGACCAATTTCCTGTCAATTTCCTATATTTGGTCAAGTGGACATTGAAGGAGGCTCTTGAGCTTAATCTAAGCCATGGTTTTCCAGCCCAAAGGGGCATGAGGCTGTTGAAGTGGGGATGGGGTAGTGAGGAAGCTAGGGTGATCTGAAGAGGTCAAGCTCGTGCTCCTTGCTCAGTAATCACACCTGTGTACCAATTAGGCACCTGCCACACGTGGGAGAAAGGGGAGGGCATGGATGGAGGCAGAGGAACATTTAGTCCCAGTCCCTCCCTGCTGCTCACTGGTGATGGCCCCAGAGTTTTCTAACACCGGGAATTGTGGAGGCCACAGCAGCATCAGGGTAGTGACAGCTGTCTCTATCCCCATTCCTTCTTCTGCTCCCCAACATACAGGGGAGAAATCAAcccagagggaggagagaagagaatgagacaGCATGACATATCTCCCTACAGGGCAAATCAGTGGAGTCAGAAGCTGAGTCAGGCAGTGATGGGGAAGCAGTGATGGGAAAGGAGAGCTTCAAATCAgacctgtattttaaaaattcagcactGGACTAGGCTTTTTAATAGCTGAAAGTTACCAGAAAGCTTTGAGATCTGCCCAAAGTTATTAAGGATTGGAGTTTAAAAATACGACTGTgcattgggggtggggggtggggggtg\n",
      "\n",
      "TGGGCTTCAGTTTCTCCATCTGTCAAATGGATGGTTAAACTCAGTGTTTCTAAAGGCCCACTGTTCACCCATCCATCCATCCATCCACCCACCCACCTACCCATCTGCCCACCCATCTATCCATCCCCATCCATCCATCCATCCATCCCCATCCATCCATCCATCCATCCATCCATCCACCCACCCACCCATCTATCCATCCACTCACCCACCCATCTATCCATCCATCCATCCACCCATCCATCCATCCACCAACCCATCTATCCATCCAATCACCCACCCATCTATCCATCCACCAACCCATCTATCCATCCACTCACCCACCCATCTATCCATCCATCCATCCACCCACCCACTCATCTATCCATCCATCCATCCATCCATCCACCCACCCACCTACCCATCTGCCCACCCATCTATCCATCCCCATCCATCCATCCATCCATCCACCCACCCATATATCCATCCACTCACCCACCCATCTATCCATCCATCCACCCACCCACTCATCTATCCATCCATCCATCCATCTATCCACCCACCCACCCATCTATCCACCCAACCATCTATCAAGTCCATCCATCCATTCAGCAGATATTTCTTGAATATCATCTATGTGCCAGGATCCTTTATTTATTAAAGTTAAAAGACAAATCACAGACCTGTAGAAACATTTTAGAAAGACATACAAAATCATACTGGATTGGAAATGTAAATTTCCCCAGGACTTTTGTTCACCAGTGACTCTCCAATGCCATGCATGGGGCCACATGTCTACTAGGTGCTCTGTAAAATGTTTATTGGATGTAAGAATGAATAGGACATATTTTGCTGTTCTAAAGAGAGCTGCCTCCGAGTCTGAGATTGGAGTCAGACATCCTCTCTAGGACTTGGTGAGGGGGCCAGCTATCTTTGTCACCCCCATCCCTGACCTGCCCCACTGCCTCCCCAGCCCATATAAGCCAGTTTCTAAAGAGGATCTAAGGAGGATTGGCCAGCAGTGACTGGGGCAGGGTAGGGCACGGCATGCCCCCAACTCCCAAGCCCAGGTGGGCTCATGGTTTGGAGGAGAAGCTATGAACCAGAGGGAAACAGGCATTCCATCCCTTGATTGAACTCACTCTTGTTGATCTGCCCTGTGTCCATTGGGAGTGAGTGGAGAATGAATGAGAAATGCAAAAGGGGTGGGGTCTGGCAGAGGCAGCCCTGCATTGCCACCATTTGACCAATTTCCTGTCAATTTCCTATATTTGGTCAAGTGGACATTGAAGGAGGCTCTTGAGCTTAATCTAAGCCATGGTTTTCCAGCCCAAAGGGGCATGAGGCTGTTGAAGTGGGGATGGGGTAGTGAGGAGGCTAAGGGTGATCTGAAGAGGTCAAGCTCGTGCTCCTTGCTCAGTAATCACACCTGTGTACCAATTAGGCACCTGCCACACGTGGGAGAAAGGGGAGGGGCATGGATGGAGGCAGAGGAACATTTAGTCCCAGTCCCTCCCTGCTGCTCACTGGTGATGGCCCCAGAGTTTTCTAACACCGGGAATTGTGGAGGCCACAGCAGCATCAGGGTAGTGACAGCTGTCTCTAATCCCCATTCCTTCTTCTGCTCCCAACATACAGGGAGAAATCAACCCAGAGGGAGGAGAGAAGAGAATGAGACAGCATGACATATCTCCCTACAGGGCAAATCAGTGGAGTCAGAAGCTGAGTCAGGCAGTGATGGGGAAGCAGTGATGGGAAAGGAGAGCTTCAAATCAGACCTGTATTTTAAAAATTCAGCACTGGACTAGGCTTTTAATAGCTGAAAGTTACCAGAAAGCTTTGAGATCTGCCCAAAGTTATTAAAGTTGGAGTTTAAAAATACGACTGTGCATTGGGGGTGGGGGTGGGGGT\n",
      "551M1I19M1I319M2D176M2D137M1I153M1I92M1I131M1I21M1D11M1D173M1D55M1D39M\n",
      "0.9847848898216159\n",
      "read_id: test_read_38_984769_986669 \n",
      "\tmap_start 5, map end 1890\n",
      "\t1900\n",
      "GGTCTCATTTTCTCTCCCACCCTGCCCATAGGTTCATATCTAggtatataaataatgtataatatttttgtGTTCTCAAAACTTAAGTATATGCTGTTATACTGAATGCGACGTCCTGCTTATATTATATTTTCCAGATTGATATAAATGACACATATAGATCTTGTGACCAAGgacattttcttttcactgctGTGCAGCATtgcattatgtaatttttaactctttatccagtttttgGCAGATGgatatttaaattaattcagtTATCTTGTTATTCCTGACAATACTGCTATTACCATCTTATATGGGAATACTTGTGCTTACAAGCAAGGGCTCCTCTGGGGAACTAATCCAGGCATGCTCCTCCTGGGTCGTGGAATATATGTGCTGCCAGCCTGAGGCAGTTGCCAAATTGTGCTCCAAGTCTCTCTGTCGAGTTAATTCCAGTAGGGTGCCGGGGTCTCCATCGCTCCGCACCCCTGCCATCCCTTGAGATGGTCATGCTTTACCTTTGTTCCAATCTGATGGCTGTGAAATCGTACATGTAATTACATAGCCTGCTTTCCCTACTTAATAGTATATTACGGAACTATTTTCCTGTGCAGAATATTGTTCTATATGTGGGTGTTTCAAGGTGGCATAAGCTGAAAGCCTCCATTGGGGTGTTGCTGGGATTTTCTTAACCAATTCCCTATTGTTGGACAACAGGGTTTGTTTTTGTGGTAGGATTGCAAAACTGACCACAGATGCTACCCACCCCTATAAGCATGCTCCTTTGCAGTGTGACTCTGCAGTTCTCCCTATTAAGAGGCAAAGTTCACTTCTCCACTCCCTTAATGCTGACTtgggccatgtgacttgctttggccaatgggacatTTTCAAGCAGAGGCTTGAAAAGGGCTTGTGCTCTGGGGCTTGCTCTCTTGCTGCACCTGGGGCCCTGAGACCACCATGTGAATGAGTCCTGGCTAGCCTGAGGGATGATGAGACACACTTGGCCAAGTcatcctgtcatcccagctgatACTAAACCATCCACCAGATTTGTGAGTGAGGCCATCCTAGACCATCTATCTAGCCCAGCCAAACTGGTGCGGACCAGAAGCAAAGTCCAGTTGGCCTGCAgagatgtgaaaaataaatgttttaagccactaaattttagaGGTGGTCTGTTAGACAGCAAGCCTGATACAGTTCCACCCAGCATTTTCTTTGCTCAACCAGTTACTGGCTGggaaccttgggcaagttgctgagccttagttttctcctcAGTACAATGGGGGATTACATACGCACTCCTCAAAGTCGTTGTGAAGATTGGATGAGATGGCACCTGTCAGTATCACATGGCGGGGACCCCATAACCAGGGGTTCCTCTTTCACATCACGGTGGTCTTAGATGTGACCTGTGACCTTTCTTATTGCTTCTTGGTTCTCCCTGCTGCCTCTTTCTCAAAAATGTACTCATCCTTCCAAGTTTTCTGGAGAGTATCAACATGTAAGTGTAAATCACAATCCCTAGTGCTCTCCAAGACTTGCAGGTATCTCCTCCTTCCAGGGCCTTCCCTCTTGAAATTAGGCATagtggctgtgtgcagtggctcatgcctgtaatacaagcactttgggaggccgaagcaggccgatcccatgaggccaggagttggagatcagcctggccaacagggcgaaactttgtctctactaaaaatacaaaaattcaccgagcgtggtggtgcatgcctgtaatcccagctactcaggaggcggaggcatgagaatcgcttgagtctgggaggcggaggtttcagtgagccaagatggcaccactgcactccacactccagcaagacccggtctcaaaaaaaaaaaaaaagtaaggaaaagaaaaagaaaagaaaaggagtctccatccagaccccaagagagggtttcGTG\n",
      "\n",
      "ATTTTCTCTCCCACCCTGCCCATAGGTTCATATCTAGGTATATAAATAATGTATAATATTTTGTGTTCTCAAAACTTAAGTATATGCTGTTATACTGAATGCGACGTCCTGCTTATATTATATTTTCCAGATTGATATAAATGACACATATAGATCTTGTGACCAAGGACATTTCTTTTCACTGCTGTGCAGCATTGCATTATGTAATTTTTAACTCTTTATCCAGTTTTTGGCAGATGGATATTTAAATTAATTCAGTTATCTTGTTATTCCTGACAATACTGCTATTACCATCTTATATGGGAATACTTGTGCTTACAAGCAAGGGCTCCTCTGGGGAACTAATCCAGGCATGCTCCTCCTGGGTCGTGGAATATATGTGCTGCCAGCCTGAGGCAGTTGCCAAATTGTGCTCCAAGTCTCTCTGTCGAGTTAATTCCAGTAGGGTGCCGGGGTCTCCATCGCTCCGCACCCCTGCCATCCCTTGAGATGGTCATGCTTTACCTTTGTTTCCAATCTGATGGCTGTGAAATCGTACATGTAATTACATAGCCTGCTTTCCCTACTTAATAGTATATTACTGGAACTATTTTCCTGTGCAGAATATTGTTCTATATGTGGGTGTTTCAAGGTGGCATAAGCTGAAAGCCTCCATTGGGGTGTTGCTGGGATTTTCTTAACCAATTCCCTATTGTTGGACAACAGGGTTTGTTTTTGTGGTAGGATTGCAAAACTGACCACAGATGCTACCCACCCCTATAAGCATGCTCCTTTGCAGTGTGACTCTGCAGTTCTCCCTATTAAGAGGCAAAGTTCACTTCTCCACTCCTTAATGCTGACTTGGGCCATGTGACTTGCTTTGGCCAATGGGACATTTTCAAGCAGAGGCTTGAAAAGGGCTTGTGCTCTGGGGCTTGCTCTCTTGCTGCACCTGGGGCCCTGAGACCACCATGTGAATGAGTCCTGGCTAGCCTGAGGGATGATGAGACACACTTGGCCAAGTCATCCTGTCATCCCAGCTGATACTAAACCATCCACCAGATTTGTGAGTGAGGCCATCCTAGACCATCTATCTAGCCCAGCCAAACTGGTGCGGACCAGAAGCAAAGTCCAGTTGGCCTGCAGAGATGTGAAAAATAAATGTTTTAAGCCACTAAATTTTAGAGGTGGTCTGTTAGACAACAAGCCTGATACAGTTCCACCCAGCATTTTCTTTGCTCAACCAGTTACTGGCTGGGAACCTTGGGCAAGTTGCTGAGCCTTAGTTTTCTCCTCAGTACAATGGGGGATTACATACGCACTCCTCAAAGTCGTTGTGAAGATTGGATGAGATGGCACCTGTCAGTATCACATGGCGGGGACCCCATAACCAGGGGTTCCTCTTTCACATCACGGTGGTCTTAGATGTGACCTGTGACCTTTCTTATTGCTTCTTGGTTCTCCCTGCTGCCTCTTTCTCAAAAATGTACTCATCCTTCCAAGTTTTCTGGAGAGTATCCAACATGTAAGTGCCAAATCACAATCCCTAGTGCTCTCCAAGACTTGCAGGTATCTCCTCCTTCAGGGCCTTCCCTCTTGAAATTAGGCATAGTGGCTGTGTGCAGTGGCTCATGCCTGTAATACAAGCACTTTGGGAGGCCGAAGCAGGCCGATCCCATGAGGCCAGGAGTTGGAGATCAGCCTGGCCAACAGGGCGAAACTTTGTCTCTACTAAAAATACAAAAATTCACCGAGCGTGGTGGTGCATGCCTGTAATCCCAGCTACTCAGGAGGCGGAGGCATGAGAATCGCTTGAGTCTGGGAGGCGGAGGTTTCAGTGAGCCAAGATGGCACCACTGCACTCCACACTCCAGCAAGACCCGGTCTCAAAAAAAAAAAAAAAAGTAAGGAAAAGAAAAAGAAAAGAAAAGGAGTCTCCATCCAGACCCCAAGAGAGGGTTTCATT\n",
      "58M1D113M1D338M1I71M1I245M1D670M1I13M1I49M1D306M1I74M\n",
      "0.9907928388746803\n",
      "read_id: test_read_39_924040_925990 \n",
      "\tmap_start 6, map end 1947\n",
      "\t1950\n",
      "TCTGGTTTTTGCCTTGGAGCAGGAACTTTTGACAAGGCTGCGCAGATGCAGCCACATGAAAACCGcccattaaaaatgtaatatcgGCCCGgagcgggggctcacgcctgtaatcccagcactttgggaggccgaggcaggcagatcacttgaggtcaggagttgaagaccagcctggccaacatggtgaaaccccgtctctactaaaaatacaaaaaatagccaggcgtggtggcatgggcctgtaatcccagctactcgggaggctgaggcaggagaatcacttgaacccaggaggcagagattgcagtgagtcaagattgcaccactgcactccagcctgagcgacagagcaagactctgtctcaaaataataataaaatgtaatattcacTCTTATCAAATAATGGATGTCACCACACCCCGACCCTAATTAGTGAGGACTTTCATGTTCTACTTGTCTTCATTTAATCATCATTGTATAAGAGTTTTACAATATCAAATTAGTAGATGTATATTACTGAAAGGGAAGGACTGTTAGAAATTTACTTGAGGAATGTCTGCCACTGGGGGCTGAACACAAAAGATCCTATTGTGACCTGCCAGATTATTCATTCACTTAGCAATTCAACAACCATCGCTGAATGCCTACTATAGGCCAGGTGCCATGCAAGACAGATGTGCTCCCACCCTCAAGGGTTCACAGTCTAATAGAGGAGAGAGATGTTAAACAGATAACTGTACAGATGGCATAGCTAATTATATTCGTGGAAGTTCGTTGTGGCAAAGACAGGCATCTCAATATTTCAGGAGCTCCCCTATATTTTCTAGCCTCCCTTACAGTCACATGACTAGTTCTGACCAGTGGGGTGTGTGTAGGAGTGGCAGGCTGAAGCAATGGAGAGCTGGTGAGCCTCATCCCTCTCTTCCCCTGCCACAGCCACCTTGCGCCCACAAGTTCCCTTAGCTACAAGCTGGAGGAGAGCCACCAGATCCACCTTAGATTTCACTGAGCAAGAAATAAAGCTTCTTGTGTTAAGTCTTTCAGATTTGGAGTTTGTCTGGTAGATAGTGTTAATTACCATGACTAAGGAAAATTTGCCATTAGTGAAGGGAGGAAAAATATTCTCCACCAGTAACAAGGCCATGTCAGTCTGCTGCATTATAAACCCCAAACAGTAGTTTATGATCCTCTGGGCTGGCAATTTGGGCTGAATTCAGCTGGGTCACTCCTGCAGCTGCAGGCAGCAAGCAGCTCGAATGTCTACCTTGCCAGGAAGGCTCTTCTCTGCTCCACATGGCCTCGTCCTCCAATAGGCATAGCCTACTCCTTCCTATGGTGGTCTCAGGGTTTCAGAAAGCAACAAGAGAGGACAAATTCCAGTGTTCAAGCTGCACTAGTGTCAAAGCATATCAAATAGCATGTCAAATTCCACATCAAATTCAGGATGCAGGCAAATTGATTCTTTCTCTTGATGGGAAGAGCTGAAAATAATGTGTGGTCTTGTTTTTCAATGTACAGTGGTCCCATTTATCCaggggggatacattccaagacccccagtggatgcctgaaaccacagatagtacagAATTCTGTATATACCATGTTTTttactatacatacatacctacgataaggtttaatttgtaaattaaactcTTACAAATTAAGAGTTAacaacagctgggcacagtggctcacgcctgtaatcccagcactttgggaggccgaggtgggcggatcacgaggtcaagagatcgagaccatcatgaccaacatggtgaaactccgtctctactaaaaatacaaaaattatctgggtgtagtggcgcatgcctgtaatcccagctacttgggaggctgaggcaggagaatcatttgaacccgggaggcggaggttgcagtgagctgagatcgcgccactgcactccagcctggtgacagagcgagactccacctcaaaaaaaaaaaaaaaacaaaaaaaacaaacagttaa\n",
      "\n",
      "TTTTGCCTTGGAGCAGGAACTTTTGACAAGGCTGCGCAGATGCAGCCACATGAAAACCGCCCATTAAAAATGTAATATCGGCCCGGAGCGGGGGCTCACGCCTGTAATCCCAGCACTTTGGGAGGCCGAGGCAGGCAGATCACTTGAGGTCAGGAGTTGAAGACCAGCCTGGCCAACATGGTGAAACCCCGTCTCTACTAAAAATACAAAAAATAGCCAGGCGTGGTGGCATGGGCCTGTAATCCCAGCTACTCGGGAGGCTGAGGCAGGAGAATCACTTGAACCCAGGAGGCAGAGATTGCAGTGAGTCAAGATTGCACCACTGCACTCCAGCCTGAGCGACAGAGCAAGACTCTGTCTCAAAATAATAATAAAATGTAATATTCACTCTTATCAAATAATGGATGTCACCACACCCCGACCCTAATTAGTGAGGACTTTCATGTTCTACTTGTCTTCATTTAATCATCATTGTATAAGAGGTTTTACAATATCAAATTAGTAGATGTATATTACTGAAAGGGAAGGACTGTTAGAAATTTACTTGAGGAATGTCTGCCACTGGGGGCTGAACACAAAGATCCTATTGTGACCTGCCAGATTATTCATTCACTTAGCAATTCAACAACCATCGCTGAATGCCTACTATAGGCCAGGTGCCATGCAAGACAGATGTGCTCCCACCCTCAAGGGTTCACAGTCCTAATAGAGGAGAGAGATGTTAAACAGATAACTGTACAGATGGCATAGCTAATTATATTCGTGGAAGTTCGTTGTGGCAAAGACAGGCATCTCAATATTTCAGGAGCTCCCTATATTTTCTAGCCTCCCTTACAGTCACATGACTAGTTCTGACCAGTGGGGTGTGTGTAGGAGTGGCAGGCTGAAGCAATGGAGAGCTGGTGAGCCTCATCCCTCTCTTCCCTGCCACAGCCACCTTGCGCCCACAAGTTCCCTTAGCTACAAGCTGGAGGAGGAGCCACCAGATCCACCTTAGATTTCACTGAGCAAGAAATAAAGCTTCTTGTGTTAAGTCTTTCAGATTTGGAGTTTGTCTGGTAGATAGTGTTAATTACCATGACTAAGGAAAATTTGCCATTAGTGAAGGGAGGAAAAATATTCTCCACCAGTAACAAGGCCATGTCAGTCTGCTGCATTATAAACCCCAAACAGTAGTTTATGATCCTCTGGGCTGGCAATTTGGGCTGAATTCAGCTGGGTCCTCCTGCAGCTGCAGGCAGCAAGCAGCTCAGATGTCTACCTTGCCAGGAAGGCTCTTCTCTGCTCCACATGGCCTCGTCCTCCAATAGGCATAGCCTACTCCTTCCTATGGTGGTCTCAGGGTTTCAGAAAGCAACAAGAGAGGACAAATTCCAGTGTTCAAGCTGCACTAGTGTCAAAGCATATCAAATAGCATGTCAAATTCCACATCAAATTCAGGATGCAGGCAAATTGATTCTTTCTCTTGATGGGAAGAGCTGAAAATAATGTGGTCTTGTTTTTCAATGTACAGTGGTCCCATTTATCCAGGGGATACATTCCAAGACCCCCAGTGGATGCCTGAAACCACAGATAGTACAGAATTCTGTATATACCATGTTTTTTACTATACATACATACCTACGATAAGGTTTAATTTGTAAATTAAACTCTTACAAATTAAGAGTTAACAACAGCTGGGCACAGTGGCTCACGCCTGTAATCCCAGCACTTTGGGAGGCCGAGGTGGGCGGATCACGAGGTCAAGAGATCGAGACCATCATGACCAACATGGTGAAACTCCGTCTCTACTAAAAATACAAAAATTATCTGGGTGTAGTGGCGCATGCCTGTAATCCCAGCTACTTGGGAGGCTGAGGCAGGAGAATCATTTGAACCCGGGAGGCGGAGGTTGCAGTGAGCTGAGATCGCGCCACTGCACTCCAGCCTGAGTGACAGAGCGAGACTCCACCTCAAAAAAAAAAAAACAAAAAAAACAAACAGTTAG\n",
      "481M1I94M1D125M1I108M1D112M1D53M1I246M1D266M2D41M2D401M1I23M3D33M\n",
      "0.9895209580838323\n",
      "read_id: test_read_40_399721_401721 \n",
      "\tmap_start 6, map end 2000\n",
      "\t2000\n",
      "TTGGGAGGCGGAAGTGAAGCTGGTGGCATGAACCATTCTCAGTGACCTTTCACCAGGGTGAGTGGGAAGTAGTTGGGAGCATCGAGGCCTCACTCTCCATCCTGAAGATGGAGCACAGACTGGCTGGCTGAGGCCGGGAGCTCATCACGGGATGGAGACAGATTGGCAGACAAAGAGGAGGCGGGCGGTTGGGGCTGGGTGCCCCTGGGGAGGAAGGCGGGGAGAGAGCGTAGGAGCAGGAGGAAAGAAGGCTGGGCTTATGTGCAGCCTCACAGACTGGGCCTGCAGAGTCTCCAGCTGGAGGTTGGGACTGGACCTTCCTCCTGAatgggcagggagggaggcttGTTGGCCTAGCCCTCGGGGTTCTTGAAATAAATGAGGGAGGGCCTTGGGGGGTGGTAAATTGCTGAGGCTGTGATAAACATTCTCCCCTTCCcacaaaacacacacaggcacgtgtgcgtgcatacacatacacacacacaccctggccACACTGCTGTGCATATCTTACTGATTGTTGTCCTCTGTGACAGCAGTTCTCCAAGTTGAGTGCATTGGAAGGAtcagttaaaatgcagatttccaggCATTTCCATCTCTAAATGTAGGGTGTGGCCTGAGAATGTGTATGTCTTACAGGATCCTGGTTGATGCTGATGCTGGGGGTTCTGggacacactttgagaaccactgctccatTGAGCAGCCTTTCAGTTTGGGTGCCCCTCGGTGCTGGTGCTGGGAGAGAGTTAGGAGGGCAAGGGGGTTAGTGAGGGCTGCTACCTGTGAAACACAAAGCAGGAGGGAATGGAATTGGCCAGGAGAGCCTCAGACCACAGCCCGGGCCTGCAGAGTCACCCTCTAGGGGTCTCTGGAGTAAAGATTATCCACAGAGAAGCCCCACATGGGGCAGAAATGGCCAGGCCCTGGTGCCTCTGCTAGCTCAGTCTGGCTGGGACGACCTGGGAAGAACATGGCCTCAGTTCCAAAGCCAAGGCGGCTCCTGGAGgagctgcagctggaggctgtcaCCTTGCTGCCCTCCTTGCTGCTGAAGGACAAGCTTTTTCTTGAAGAGAGACTGTGTCCCATCCACAACTGCCCCAGGCATCTACcacatgccaggctctgtgcagaGTGTTTACCTGGATGAATGCAGTTTCAGATCAGAGCAACCTGGCCAAGCAAATATAATCGTCCCCATCTAATAGATGGGGAAAATGAGGGATTAAGTCATCTGCCCAGTGGTGGAGTCAAGATTTATCCCCTCTTGTGCCTTAGCACTCATCCCTGTCAGCTTCCCTGGGTGGTGAAGAACATTAGCTCCTTTTACACCTGAGGAATCTGAGGTGTGGAGAGGTCAGTGACTTGCGGTAGAGGTGGGTAGAGGATCCGGGATTCCAACCCTGCTCATGcccctctttttaaatttcaagatgCTGTCCCTTGAGTACTTCTAGGGGGATGTAATGGCAGAAACTTGGGGCTGGAAGAAGCCTCCCTGGCATTTGACAGGTGGGtacactgaggcccagggaggcaaTCAGCCGTGCCTCAGTGCCTCTCTCTGCCCTGAAGGGGCTCCCTGTTGTGTGTGGGGTATAACCCCCCCGTAATTCATGCATTCAGCACACACTGGTGGGCACCCATTGTGGGTCAGTCCCCCAAGCCAGAGTACTGTTGGTGAGTGGGAAGGCAGACGTGGGTGCAGAGGGTCTGTGCAGTGATTGGGGATGCACTGGGGATTGGAGGGGGCAGTTGACATGTGTGGGGTGCATgcagggaggcttcctggaggagatagtctgagagaggaggaggtgagaAGGGTACTCAAGgatgagaaaagaacagaaacaaaggCTTGGAGGTGGGGGAAGTGATATTGCCTTTAGGAAATTGATAGAAAATCTGTAGCTGAGATAGTGTGGGGAAGGTATGGCCAGAAATGAGGTGGAAAGTGGAAGCTTGGCCTGGGGAAGTGGTGGAAAGCTCTGGACTTGAACCATGACCCTGGTTCTGTTCAAGGCAGGGCTACTCTCTG\n",
      "\n",
      "AGGCGGAAGTGAAGCTGGTGGCATGAACCATTCTCAGTGACCTTTCACCAGGGTGAGTGGGAAGTAGTTGGGAGGCATCCGAGGCCTCACTCTCCATCCTGAAGATGGAGCACAGACTGGCTGGCTGAGGCCGGGAGCTCATCACGGGATGGAGACAGATTGGCAGACAAAGAGGAGGCGGGCGGTTGGGGCTGGGTGCCCCTGGGGAGGAAGGCGGGGAGAGAGCGTAGGAGCAGGAGGAAGAAAGGCTGGGCTTATGTGCAGCCTCACAGACTGGGCCTGCAGAGTCTCCAGCTGGAGGTTGGGACTGGACCTTCCCTCCTGAATGGGCAGGGAGGGAGGCTTGTTGGCCTAGCCCTCAGGGTTCTTGAAATAAATGAGGGAGGGGCCTTGGGGGTGGTAAATTGCTGAGGCTGTGATAAACATTCTCCCCTTCCCACAAAACACACAGGCACGTGTGCGTGCATACACATACACACACACACCCTGGCCACACTGCTGTGCATATCTTACTGATTGTTGTCCTCTGTGACAGCAGTTCTCCAAGTTGAGTGCATTGGAAGGATCAGTTAAAATGCAGATTTCCAGGCATTTCCATCTCTAAATGTAGGGTGTGGCCTGAGAATGTGTATGTCTTACAGGATCCTGGTTGATGCTGATGCTGGGGGTTCTGGGACACACTTTGAGAACCACTGCTCCATTGAGCAGCCTTTCAGTTTGGGTGCCCCTCGGTGCTGGTGCTGGGAGAGAGTTAGGAGGGCAAGGGGGTTAGTGAGGGCTGCTACCTGTGAAACACAAAGCAGGAGGGAATGGAATTGGCCAGGAGAGCCTCAGACCACAGCCCGGGCCTGCAGAGTCACCCTCTAGGGGTCTCTGGAGTAAAGATTATCCACAGAGAAGCCCCACATGGGGCAGAAATGGCCAGGCCCTGGTGCCTCTGCTAGCTCAGTCTGGCTGGGACGACCTGGGAAGAACATGGCCTCAGTTCCAAAGCCAAGGCGGCTCCTGGAGGAGCTGCAGCTGGAGGCTGTCACCTTTGCTGCCCTCCTTGCTGCTGAAGGACAAGCTTTTTCTTGAAGAGAGACTGTGTCCCATCCACAACTGCCCCAGGCATCTACCACATGCCAGGCTCTGTGCAGAGTGTTTACCTGGATGAATGCAGTTTCAGATCAGAGCAACCTGGCCAAGCAAATATAATCGTCCCCATCTAATAGATGGGGAAAATGAGGGATTAAGTCATCTGCCCAGTGGTGGAGTCAAGATTTATCCCCTCTTGTGCCTTAGCACTCATCCCTGTCAGCTTCCCTGGGTGGTGAAGAACATTAGCTCCTTTTACACCTGAGGAATCTGAGGTGTGGAGAGGTCAGTGACTTGCAGTAGAGGTGGGTAGAGGGATCCGGGATTCCAACCCTGCTCATGCCCCTCTTTTTAAATTTCAAGATGCTGTCCACTTGAGTACTTCTAGGGGGATGTAATGGCAGAAACTTGGGGCTGGAAGAAGCCTCCCTGGCATTTGACAGGTGGGTACACTGAGGCCCAGGGAGCCAGTCAGCCGTGCCTCAGTGCCTCTCTCTGCCCTGAAGGGGCTCCCTGTTGTGTGTGGGGTATAACCCCCGTAATTCATGCATTCAGCACACACTGGTGGGCACCCATTGTGGGTCAGTCCCCCAAGCCAGAGTACTGTTGGTGAGTGGGAAGGCAGACGTGGGTGCAGAGGGTCTGTGCAGTGATTGGGGATGCACTGGGGATTGGAGGGGGCAGTTGACATGTGTGGGGTGCATGCAGGGGCTTCCTGGAGGAGATAGTCTGAGAGAGGAGGAGGTGAGAAGGGTACTCAAGGATGAGAAAAGAACAGAAACAAAGGCTTGGAGGTGGGGGAAGTGATATTGCCTTTAGGAAATTGATAGAAAATCTGTAGCTGAGATAGTGTGGGGAAGGTATGGCCAGAAATGAGGTGGAAAGTGGAAGCTTGGCCTGGGGAAGTGGTGGAAAGCTCTGGACTTGAACCATGACCCTGGTTCTGTTCAAGGCAGGGCTACTCTCT\n",
      "73M1I4M1I237M1I67M1I7M1D51M2D592M1I355M1I57M1I160M2D176M2D258M\n",
      "0.9902771025765679\n",
      "read_id: test_read_41_719830_721880 \n",
      "\tmap_start 5, map end 2049\n",
      "\t2050\n",
      "GGGTGTTTTCAAACAGAGTCAGAAAAAACACAACTATACTGCGAGCAGCATACAAACCTGCTTTGGCTGCACTTCACTGCTCATGGCATAAGGCCACGAAGAGGCCAATAAAGGCTGGAGCTCAGGAGCATCAACCCAGATTCAAGGCTTCCTCTCTGGCACCCAACCATGAAGCTCCTTTTTCCTATCTTTGCCAGCCTCATGCTACAGTACCAGGTGAACACAGGTAATGTGGATTCCCAAGTTTAAGATGGGTAGATGAGAGGAACCAAGGATTTGGCTGCCCATGACAATGGAAACCCAAAGAGAGGAGACTGAAAGATTAGCTGTTCAAAAAGATGGCTAAAGAGCTTACCTATTGTATCAGTCATGCACTGATACATTCTCATAGGCCCCAACTGCCAGATTGTGTCCAGTGGAAACACCCAGGAAGCTACAGAGAAAGCAGGGTATTTTTTGTCTATTcagaaactatccaaaatataATGCTGCCTTCCTGCCCTGTATATGTCTATCATGCTAAGACTAAGCCCAGGTCTACCTCCTTTTAGCTCTATTTCTATCTTAAaagccctttttttttaaaaaaagtcctgGGGTACTTGTGCAGGATGTgcggtttgttacataggtaaatgtgtgtcatggttatttgctgcacctaccaacccatcgcccaggtattaagcccaggatgcattagctatttttcctgatgctctccctccacccaacaggccccagtgtgtgttgttccccttcctgtgaaaCCACCTCTTGAAGCAAAGTTTCCTATCAGTTTGTGCTTGGTGTAGAAAGGAGGAAGTTCTTCCCTCATgctcaaaaaaaaaccctttcaaGATCAAGTAAACAGGCCTGTGTTCTCCATCTTGAATTCTTTCAGGTTTTCCAGAGCCTTTATCGCTTCTCTCAGACTTTGTCTTCCTGAAAACCCCCAAACTACCATAAGGGCATCTAGGAATGCATTATAGCAAAAGGCTAAGCCAGGGGATTAACCATTGTTtttggaaaagaaaggagaagcacTGAGATTTGTTTCAGAATACAAGAATCATCCAGCtatttgaaaaaattagcaaagggTTTCGGGGCAGGGAAAGTGGAAGTGTCAAAGATGCTTCTAATGTTTTTATCTTCTAATGTTTTTATCTTGGGACCCTAGGAAAAGGGTAGTACCATAAGCAAGTATGGCTGTGTCATCTTGGGTAAAGTCACTTAACCACTTTGAACTTCAATTTCACATGAGTATAATGGGGTTAATCAATGCAGCTGATTCCAATATAAGAATTTTTCTGTTTCCCGTTTGATGAGAAAACAATGTGGAAATGTATGCAAATATGCTTTGAAAATTAGCAGATGCTACATAAATCTCTTGTAATTTAGGGAAAATCATTGGGTTATTAAGATGAACAAGGGAGAAAAGCTTTCTTgattcagaaaaaagaaacacgAGACATTAGGATGGAAAAGTCATTCAGCAGATAAAGATAAGGTACTAAGCCGAGCAGGAAATTTAGAATTATAGATAACAATACAGAAGTTACCTTGGTGGATATGAGGTTAAGGCTAGGATAATGAATGAGACTTCTGAGAGATAGAGTGTCCAAAGAGGCTAGAAGAGATAGAACACCATGCTTCAGGAATCACAGATCTAGTGATTGTTGAGAAGAGAGAAGTCATGGGCTACTGAGTTTGGTGAAAAGATAAGACTCCTGAAAATTCTATTGATTCTCTTTTGAACTTCTTTCTTAAATTAGTTTTATGATGGACTTGGCTCTCATTGGTATTTCCCAAGATTATGGAGATGGGATAGTGATGTCTGACAAGTACCTAAGATGCTAAGTTGAAGGTCTAAAATTCCATCCTAAAAGCAAATAATTACTCTATCATCTACGTGCCCTTTGCTTCTTAAAGTTACTCAAGGAAGGCAGACTAAACAGGAAATTTACTTTGGATTCAAGAGGGGCATAGAGACGCTCTCAGCCTGCCCATTTGCCTTCATCAACATTCCTAAACACTGGGCTTAAAATGTAGTATGAGTAAACTCTCTCTTAGTCTATCCATCTCCCACTAGCAGTT\n",
      "\n",
      "TTTTCAAACAGAGTCAGAAAAAACACAACTATACTGCGAGCAGCATACAAACCTGCTTTGGCTGCACTTCACTGCTCATGGCATAAGGCCACGAAGAGGCCAATAAAGGCTGGAGCTCAGGAGCATCAACCCAGATTCAAGGCTTCCTCTCTGGCACCCAACCATGAAGCTCCTTTTTCCTATCTTTGCCAGCCTCATGCTACAGTACCAGGTGAACACAGGTAATGTGGATTCCCAAGTTTAAGATGGGTAGATGAGAGGAACCAAAGTTTGGCTGCCCATGACAATGGAAACCCAAAGAGAGGAGACTGAAAGATTAGCTGTTCAAAGATGGCTAAAGAGCTTACCTATTGTATCAGTCATGCACTGATACATTCTCATAGGCCCCAACTGCCAGATTGTGTCCAGTGGAAACACCCAGGAAGCTACAGAGAAAGCAGGGTATTTTTGTCTATTCAGAAACTATCAAAATATAATGCTGCCTTCCTGCCCTGTATATGTCTATCATGCTAAGACTAAGCCCAGGTCTACCTCCTTTTAGCTCTATTTCTATCTTAAAAGCCCTTTTTTTTTAAAAAAAGTCCTGGGGTACTTGTGCAGGATGTGCGGTTTGTTACATAGGTAAATGTGTGTCATGGTTATTTGCTGCACCTACCAACCCATCGCCCAGGTATTAAGCCCAGGATGCATTAGCTATTTTTCCTGATGCTCTCCCTCCACCCAACAGGCCCCAGTGTGTGTTGTTCCCCTTCCTGTGAAACCACCTCTTGAAATAAAGTTTCCTATCAGTTTGTGCTTGGTGTAGAAAGGAGGAAGTTCTTCCCTCATGCTCAAAAAAACCCTTTCAAGATCAAGTAAACGGGCCTGTGTTCTCCATCTTGAATTCTTTCAGGTTTTCCAGAGCCTTTATCGCTTCTCTCAGACTTTGTCTTCCTGAAAACCCCAAACTACCATAAGGGCATCTAGGAATGCATTATAGCAAAAGGCTAAGCCAGGGGATTAACCATTGTTTTTGGAAAGAAAGGAGAAGCACTGAGATTTGTTTCAGAGATACAAGAATCATCCAGCTATTTGAAAAAATTAGCAAAGGGTTTCGGGGCAGGGAAAGTGGAAGTGTCAAAGATGCTTCTAATGTTTTTATCTTCTAATGTTTTTATCTTGGGACCCTAGGAAAAGGGTAGTACCATAAGCAAGTATGGCTGTGTCATCTTGGGTAAAGTCACTTAACCACTTTGAACTTCAATTTCACATGAGTATAATGGGGTTAATCAATGCAGCTGATTCCAATATAAGAATTTTTCTGTTTCCCGTTTGATGAGAAAACAATGTGGAAATGTATGCAAATATGCTTTGAAAATTAGCAGATGCTACATAAATCTCTTGTAATTTAGGGAAAATCATTGGGTTATTAAGATGAACAAGGGAAAAGCTTTCTTGATTCAGAAAAAGAAACACGAGACATTAGGATGGAAAAGTCATTCAGCAGATAAAGATAAGGTACTAAGCCGAGCAGGAAATTTAGAATTATAGATAACAATACAGAAGTTACCTTGGTGGATATGAGGTTAAGGCTAGGATAATGAATGAGACTTCTGAGAGATAGAGTGTCCAAAGAGGCTAGAAGAGATAGAACACCATGCTTCAGGAATCACAGATCTAGTGATTGTTGAGAAGAGAGAAGTCATGGGCTACTGAGTTTGGTGAAAGATAAGACTCCTGAAAATTCTATTGATTCTCTTTTGAACTTCTTTCTTAAATTAGTTTTATGATGGACTTGGCTCTCATTGGTATTTCCCAAGATTATGGAGATGGGATAGTGATGTCCTGACAAGTACCTAAGATGCTAAGTTGAAGGTCTAAAATTCCATCCTAAAAGCAAATAGTACTCTATCATCTACGTGCCCTTTGCTTCTTAAAGTTACTCAAGGAAGGCAGACTAAACAGGAAATTTACTTTGGATTCAAGAGGGGCATAGAGACGCTCTCAGCCTGCCCATTTGCCTTCATCAACATTCCTAAACACTGGGCTTAAAATGTAGTATGAGTAAACTCTCTCTTAGTCTATCCATCTCCCACTAGCAGTT\n",
      "269M1D57M2D118M1D22M1D366M2D108M1D76M1D33M1I373M2D20M1D260M1D120M1I57M1D202M\n",
      "0.9900095147478591\n",
      "read_id: test_read_42_227120_229220 \n",
      "\tmap_start 5, map end 2100\n",
      "\t2100\n",
      "TTTTCAGTGTTGTTACTGATGTTGCTCAGTGTACTGTGATTACATGAGAGCCTTATATTTAGGAAATATGTCCTGAAACACTTGGGGTAAAAAGATGTCATGTTTGCAACTTACTCTTAAATAGTTCAGAGAAAAAGTGTATGTCTATGTGTAAAgcgaaggaaagacagaaagcagCTAAAAAAGCaaatgtaggccaggcgcggtggctcacgcctgtaatcccagcactttgggaggcagaggcaggtggatcacgaggtcaggagatcgagaccatcctggctaatatggtgaaaaaccccgtctctaataaaaaatacaaaaaattagctgggcgtggtggcaggcgcctgtagtcccagctacttgggaggctgaggcaggagaatggcatgaacccaggaaccagagcttgcagtgagctgagatcgtgccactgcactgcagcccgggcgagagagcaagactccgtctccaagaaaaaaaaagcaaatgtagtaaaatgtgaaaacaaaaggaaatctgGGTAAAAGGTATCTGGGGAATTCTTTGTCCTATTTTTACAACCTTTCAGTAagtatgaaattatataaaaataaaaaaattttaaagttacacGGTCCCCTTTAAACCAAAGCAAACGTTACAGGAAAAACTGATCCTCTTGATCCAAAGATGTATTATAGCTGGAAATAGGGAAGCCTGTCTCAGGAGTTCTTTCAGGGAGTTCTTTTACTGCTGGAGCTAGTGCTGCCAGCAGTAAAAATGCCTTGGCCTTATGAGCCAGGTTAGAAGAATGGCACATGCACAGCTTCTCCACACCATTAGCTTTCAGTTACAAACACATACTCAGAGAGAGAAAGCAGCTAATGTAAGGGCCCAAACTAAACCGGACAAAGGATTGCAGGTAAGAGCAAAACTCACCTCTTGCCCATATTTACCCCACCCCTTCTCAAATAAAAAGCATACCCTAAAAGATAAATAAGGAAACGAAGCAAACCCAGGGCTGCTGATAGGTGAAGCAGTGAAAGGAGTGAGAGTAAAAATTAAACCCTGTGTGAATTTTCAGCAGAAAAGCAGTGAGCCAAGCCCAGAAGAccatgaatggaaaaagaatatgAAGCCACACTGTAAGTTCAGCCTACAGAAAGCGTATCACAGATATTACATCAATGGAAGAGGAATAAAGGGTTCAGAGGGAAAACAGGTTACCTAGGAAAAAATGggggtggctcttgcctgtaatcccagcactttgggaggctgaggtacgtgcatcacctgaggtcaggagttcgagagcagcctggccaacatggtgaaaccccatctctattaaaaacacacacacacaaaattagctgggcgtggtggcgggcacctgtaatcccagctacttgggaggctgaggcaggagaactgcctgaacctgggaggcggaggttgtagtgagctgagacagtgccattgcactccagcctgcaacaagagtgaaactctgtctttaaaaaaaaaaaaaaaagggaggcatCTGTCCTATATGATCTCATCCAAACCAGCAGGCTAGGAAAAGGGAATGGACCGTGGGCATGTGCTTTTATCAAAACCACGCTGGCAGGCTACTGCTACCTGGGTATTGCAAGAATCTGTCCAGGGAGCAAGAATGCCAGCAGGAAAGCAGCCCCTTCAACAACAAAAGCCAGGCCAGAGCACAGTGCAGAAGAGGGAGGCAGCCAGCTTAGAGGCTCCTGTTCCCTTTAGCAATTCTCCTCTCTTCATGACCTAAAGGTGGAGTtgccagaggaagaaaaataggtcATCCATGTGAGGTTTGTTGCCCAGTTCCCTTCACTGTGAAAATTGAGACAACggtccttcttttctttcttcctgaaataaAGAGGTAATTTTAGgaatacattcttttttgtttgtttgttttgtttttatttatttatttttttatctattGCTGCTTAATTTGTTAATTAAGGAATATACTCTTACACAAACAGGGAATGGCCTCTCTTCCCTCTAAGGAATCTTACATATGTATGCGCAAGGTACCATCGTTTTTAAACCTAATTAAGATATTACTCATTCTTGTTGGTGCCCAATTCCACACCAATCTGCTCTTTAATGCCAGA\n",
      "\n",
      "AGTGTTGTTACTGATGTTGCTCAGTGTACTGTGATTACATGAGAGCCTTATATTTAGGAAATATGTCCTGAAACACTTGGGGTAAAAGATGTCATGTTTGCAACTTACTCTTAAATAGTTCAGAGAAAAAGTGTATGTCTATGTGTAAAGCAGAAGGAAAGACAGAAAGCAGCTAAAAAAGCAAATGTAGGCCAGGCGCGGTGGCTCACGCCTGTAATCCCAGCACTTTGGGAGGCAGAGGCAGGTGGATCACGAGGTCAGGAGATCGAGACCATCCTGGCTAATATGGTGAAAAACCCCGTCTCTAATAAAAATACAAAAAATTAGCTGGGCGTGGTGGCAGGCGCCTGTAGTCCCAGCTACTTGGGAGGCTGAGGCAGGAGAATGGCATGAACCCAGGAACCAGAGCTTGCAGTGAGCTGAGATCGTGCCACTGCACTGCAGCCCGGGCGAGAGAGCAAGACTCCGTCTCAAAGAAAAAAAAAGCAAATGTAGTAAAATGTGAAAACAAAAGGAAATCTGGAGTAAAAGGTATCTGAAATTCTTTGTCCTATTTTACAACCTTTCAGTAAGTATGAAATTATATAAAAATAAAAAAATTTTAAAGTTACACGGTCCCCTTTAAACCAAAGCAAACGTTACAGGAAAAACTGATCCTCTTGATCCAAAGATGTATTATAGCTGGAAATAGGGAAGCCTGTCTCAGGAGTTCTTTCAGGGAGTTCTTTTACTGCTGGAGCTAGTGCTGCCAGCAGTAAAAATGCCTTGGCCTTATGAGCCAGGTTAGAAGAATGGCACATGCACAGCTTCTCCACACCATTAGCTTTCAGTTACAAACACATACTCAGAGAGAAAGCAGCTAATGTAAGGGCCCAAACTAAACCGGACAAAGGATTGCAGGTAAAGAGCAAAACTCACCTCTTGCCCATATTTACCCCACCCCTTCTCAAATAAAAAGCATACCCTAAAAGATAAATAAGGAAACGAAGCAAACCCAGGGCTGCTGATAGGTGAAGCAGTGAAAGGAGTGAGAGTAAAAATTAAACCCTGTGTGAATTTTCAGCAGAAAAGCAGTCAGGCCAAGCCCAGAAGACCATGAATGGAAAAAGAATATGAAGCCACACTGTAAGTTCAGCCTACAGAAAGCGTATCACAGATATTACATCAATGGAAGAGGAATAAAGGGTTCAGAGGGAAAACAGGTTACCTAGGAAAAAATGGGGGTGGCTCTTGCCTGTAATCCCAGCACTTTGGGAGGCTGAGGTACGTGCATCACCTGAGGTCAGGAGTTCGAGAGCAGCCTGGCCAACATGGTGAAACCCCATCTCTATTAAAAACACACACACACAAAATTAGCTGGGCGTGGTGGCGGGCACCTGTAATCCCAGCTACTTGGGAGGCTGAGGCAGGAGAACTGCCTGAACCTGGGAGGCGGAGGTTGTAGTGAGCTGAGACAGTGCCATTGCACTCCAGCCTGCAACAAGAGTGAAACTCTGTCTTTAAAAAAAAAAAAAAAAAGGGAGGCATCTGTCCTATATGAATCTCATCCAAACCAGCAGGCTAGGGAAAAGGGAATGGACCGTGGGCATGTGCTTTTATCAAAACCACGCTGGCAGGCTACTGCTACCTGGGTATTGCAAGAATCTGTCCAGGGAGCAAGAATGCCAGCAGGAAAGCAGCCCCTTCAACAACAAAAGCCAGGCCAGAGCACAGTGCAGAAGAGGAGGCAGCCAGCTTAGAGGCTCCTGTTCCCTTTAGCAATTCTCCTCTCTTCATGACCTAAAGGTGGAGTTGCCAGAGGAAGAAAAATAGGTCATCCATGTGAGGTTTGTTGCCCAGTTCCCTTCACTGTGAAAATTGAGACAACGGTCCTTCTTTTCTTTCTTCCTGAAATAAAGAGGTAATTTTAGGAATACATTCTTTTTTGTTTGTTTTGTTTTGTTTTTATTTATTTATTTTTTTATCTATTGCTGCTTAATTTGTTAATTAAGGAATATACTCTTACACAAACAGGGAATGGCCTCTCTTCCCTCTAAGGAATCTTACATATGTATGCATGAGTACCATCGTTTTTAAACCTAATTAAGATATTACTCATTCTTGTTGGTGCCCAATTCCACACCAATCTGCTCTTTAATGCCAG\n",
      "83M1D68M1I157M1D214M1I13M2D16M1D293M2D56M1I174M1I423M1I37M1I23M1I158M1D209M1I122M2D5M1I83M\n",
      "0.9884205650764243\n",
      "read_id: test_read_43_442621_444771 \n",
      "\tmap_start 5, map end 2149\n",
      "\t2150\n",
      "GCAGCGAGCCCAGCTGCACCGCCGCCCCGCACCACAAGAGGGCGCTGCGGCTGAGGTCGCGCAGGACCACGCCCAGCATCACCTTGACGTAACTGAGGCAGCCGCTGAAAAGCACCCACGAGGCCACCTGCGGGGCCGGGAGGGAAGAGGTGCAGAGTCACGGGGCTTGCGGGGCGAGCGCCGGAGCAAAGAACTCTCACAGGGCTCAGGGGAACCCACGGAATACTCTCTAGGTGCGAGGAGCGCCTTCTGGGAGTGAGCCTGCGGGGCCGACGGGTCCCATGAGTTGGCCGCCCGGGGGCGAAGGAGAATCCAGTGGCTTTTCTGGGTTCACGTGCCCATGATCAGGGCAAGGGCCCTTGAGAGAAGGCCCCTGCTGAGGTACACATGGTGGGAAGAGGCCTACCAGTCACCTCGATTCCCTAAGCCTCCACTCCCAAATGAGGAAGGGGCGCTTCCCCCACCTGGGGCTTCCCGGGAGGGTCCCACAGACCCCGCTCGCTGGAAAGGGCCGCGCCCAAGCTCTCCCAGGCCTTGGCTAGGGGTGAGGGGTACGCAGCGGGAGCAGCCCCACCGGCCGGATACTCACAATGAGGACTTCCCCACCCCAGTGGCCCTGCAAGAGGGGGCAGGGGCTCATCACCGCCATGGCCATGTTGTAGCCCCCAAAGCAGGTCCCAAGCACGGAGAGGACCCCCAGGAACAGCAGAGACCTAGAGGAAAGTAGGGGAGGTGAGTGGAGGTGAGAAGCCTGACCTCTGACCCCCCCGCCCCACTGGGCGGCATGTGGATGGCCAGTGTCTCCATAGTTAGTTTAGACCCATGTGGAAAATTCCAGGTTGCCTGGCTCAAGTGGGTCAGGGAGGCTCCTGAGCAGGCAGGGCTGGCCTGAGTCATCCCCAGCATTAACGGCAGGGCCTGGCACCCCGGCAAGAAAAACATAATGGACTCTGGCACCGGATGGtcctggttcaaatcccagttctactGTTTAAGCTGAGACTCGCCTCTGAGCCTCCAAATCGGAGTTTTGCAAGGCTGCATGACCTCCAGGAGCAGAGCATGCAGGCCTGGCGCCGCTGTGGGCCCACCTGGTGTTTACCTGCTGGCATTTCCTCCTGCAACACACCCTCAGCCTCAGCCAGGAAGCTGAGTTGAAGTGAAGATGGCTGGATCGGGCATTGGCACAGTAGGGTTTGCTGTGCCTCCTCAGGAGACCCCTCCCCTTCTGGCCTCAGCTACCTGCCTCTGCAATGTGGAGTGTGCTGATCTCCAGGGGTCCTGGCAGCTGGCTTGTTGCTGCTAGGAGCATCTCTCTACAGGTGGCCTTCCATGCAAACCTACATCTGGGACCACTGTCCTTCCTCACAGGTCCTTGTCCCTGGGGTCCCAATCTCTAGAACCCCAAGACTGGTCCACGCCCTGGGTAAGAACAGACAGAGGTCTGCCTATACCCTTAAAGACTCTTTCTGCTCCAAGATTCTTGGATTCCATGACTCAGATTCTGTAATTCTAACATTTGGGGTTTCTTGGATTTGCAGGTCTGAGCCTTTGGTCCTGCTTCCCTCAAATCCTCCATCCTCTTTCCAGTTTCTAGGTCCCAAGGTAGAAAATCCAGCTTCCTGGCAAGCTTTCTGTCAAGCTCTTCTGTCCTCACTGTCCTTCTTCTGGGCTGGGAGAGTGGGTGTAAGCAGGCCAGTGAGGACAGGCAGGCCAGCGTGGATACGAGGCTGTAGGACCCACCTCAAATGTCAAGATCCCAAGGTGGTAGTTCTCCTACAGGGGTCTGAAGCCCCTGCCTCAGAACCGTCTGGTTTCCTTACTAAAAATTGAAATCCCAGGTCCCAGTCTAGGCTGGTTCAATCTGCATTTTATCAACTTGCCCAGCCATTCTTCTAGAACTGTGGCTCTAAGGGAACCAGCAGGAGGTTagaggcaggaaggcagggccGAAATCCTGGGAATTAGACCAGGTCAAGCTCTTTCTCCAAGCCTcagggtttccccttataaacgGGAACCTCAGTGGCTATCTGCTCCTCCTCATGGACTGATGACAATGATGGTCAACGCTTAGGCTGGACCTGCCACGTGCCAGGCACCGCTCCAAGAGCTTTATAGAATCAGCTCATATCATGCTTCCAGCAGTCCTAGGAGGTGGAATGTTACACTCCCATTTTCCGATAAATATCCCTGAGGC\n",
      "\n",
      "GAGCCCAGCTGCACCGCCGCCCCGCACCACAAGAGGGCGCTGCGGCTGAGGTCGCGCAGGACCACGCCCAGCATCACCTTGACGTAACTGAGGCAGCCGCTGAAAAGCACCCACGAGGCCACCTGCGGGGCCGGGAGGGAAGAGGTGCAGAGTCACGGGGCTTGCGGGGCGAGCGCCGGAGCAAAGAACTCTCACAGGGCTCAGGGGAACCCACGGAATGCCTCTCTAGGTGCGAGGAGCGCCTTCTGGGAGTGAGCCTGCGGGGCCGACGGGTCCCATGAGTTGGCCGCCCGGGGGCGAAGGAGAATCCAGTGGCTTTTCTGGGTTCACGTGCCCATGATCAGGGCAAGGGCCCTTGAGAGAAGGCCCCTGCTGAGGTACACATGGTGGGAAGAGGCCTACCAGTCACCTCGATTCCCTAGGCCTCCCTCCCAAATGAGGAAGGGGCGCTTCCCCCACCTGGGGCTTCCCGGGAGGTCCCACAGACCCCGCTCGCTGGAAGGGCCGCGCCCAAGCTCTCCCAGGCCTTGGCTAGGGGTGGGGGTACGCAGCGGGAGCAGCCCACCGGCCCGGATACTCACAATGAGGACTTCCCCACCCCAGTGGCCCTGCAAGAGGGGGCAGGGGCTCATCACCGCCATGGCCATGTTGTAGCCCCCAAAGCAGGTCCCAAGCACGGAGAGGACCCCCAGGAACAGCAGAGACCTAGAGGAAAGTAGGGGAGGTGAGTGGAGGTGAGAAGCCTGACCTCTGACCCCCCGCCCCACTGGGCGGCATGTGGATGGCCAGTGTCTCCATAGTTAGTTTAGACCCATGTGGAAAATTCCAGGTTGCCTGGCTCAAGTGGGTCAGGGAGGCTCCTGAGCAGGCAGGGCTGGCCTGAGTCATCCCCAGCATTAACGGCAGGGCCTGGCACCCCGGCAAGAAAAACATAATGGACTCTGGCACCGGATGGTCCTGGTTCAAATCCCAGTTCTACTGTTTAAGCTGAGACTCGCCTCTGAGCCTCCAAATCGGAGTTTTGCAAGGCTGCATGACCTCCAGGAGCAGAGCATGCAGGCCTGGCGCCGCTGTGGGCCCACCTGGTGTTTACCTGCTGGCATTTCCTCCTGCAACACACCCTCAGCCTCAGCCAGGAAGCTGAGTTGAAGTGAGATGGCTGGATCGGGCATTGGCACAGTAGGGTTTGCTGTGCCTCCTCAGGAGACCCCTCCCCTTCTGGCCTCAGCTACCTGCCTCTGCAATGTGGGTGGTGCTGATCTCCAGGGGTCCTGGCAGCTGGCTTGTTGCTGCTAGGAGCATCTCTCTACAGGTGGCCTTCCATGCAAACCTACATCTGGGACCACTGTCCTTCCTCACAGGTCCTTGTCCCTGGGGTCCCAATCTCTAGAACCCCAAGACTGGTCCACGCCCTGGGTAAGAACAGACAGAGGTCTGCCTATACCCTTAAAGACTCTTTCTGCTCCAAGATTCTTGGATTCCATGACTCAGATTCTGTAATTCTAACATTTGGGGTTTCTTGGATTTGCAGGTCTGAGCCTTTGGTCCTGCTTCCCTCAAATCCTCCATCCTCTTTCCAGTTTCTAGGTCCCAAGGTAGAAAATCCAGCTTCCTGGCAAGCTTTCTGTCAAGCTCTTCTGTCCTCACTGTCCTTCTTCTGGGCTGGGAGAGTGGGTGTAAGCAGGCCAGTGAGGACAGGCAGGCCAGCGTGGATGCGAGGCTGTAGGACCCACCTCAAATGTCAAGATCCCAAGGTGGTAGTTCTCCTACAGGGGTCTGAAGCCCCTGCCTCAGAACCGTCTGGTTTCCTTACTAAAAATTGAAATCCCAGGTCCCAGTCTAGGCTGGTTCAATCTGCATTTTATCAACTTGCCCAGCCATTCTTCTAGAACTGTGGCTCTAAGGGAACCAGCAGGAGGTTAGAGGCAGGAAGGCAGGGCCGAAATCCTGGGAATTAGACCAGGTCAAGCTCTTTCTCCAAGCCTCAGGGTTTCCCCTTATAAACGGGAACCTCAGTGGCTATCTGCTCCTCCTCATGGACTGATGACAATGATGGTCAACGCTTAGGCTGGACCTGCCACGTGCCAGGCACCGCTCCAAGAGCTTTATAGAATCAGCTCATATCATGCTTCCAGCAGTCCTAGGAGGTGGAATGTTACACTCCCATTTTCCGATAAATATCCCTGAGG\n",
      "219M1I208M1D47M1D24M1D41M1D20M1D8M1I185M1D399M1D1036M\n",
      "0.9931880108991825\n",
      "read_id: test_read_44_761111_763311 \n",
      "\tmap_start 5, map end 2199\n",
      "\t2200\n",
      "gggaggtggaggttgcagtgagctgagatagtgccattgcactccagcccgggcaatgagagtgaaactctgtctcaaaaaaaaaaaaaaaaaaaagtaggaagcAAATGACTAAATGTAGAAGAATAGGAGTTGGCAACCACCATAGGAGACAATCATTAATGGACACTGCAGTAGTGGATTAAAGTTTGATGAGAAATAGGGCATTTGCACAGTCTGAGAATATCTCCCCCCAagatacttattaattacaaagggtaaaatagtaactttacatGGAGAAACACAGCCAACACCACTTGACCAAGTGATAAAGTGAACATCACCAGTAGCAGGGCAAATTGACATCATGTGGCTTCCGGGATGATGCACTGAGTGGGACGTCGCGTCACGTCAGTGATATTTCTGCCAAAGAGGCATAATTGACTCATGAGGAAGCATTAGAAAAGCccaaagtggccaggcacagtgactcacacctgtaatcccagcactttgggaggctgaggtgggcagatcacgaggtcaggagttcgagacaagcctgaccaacatggtgaaaccctgtttctactaaaaatacaaaaattagctgggcatggtggcgtgcgcctgtagtcccaactactcaggaggctgaggcaagaaaatcgcttgaacccaggaggcagaggttgcagtgagccgagattgcaccactgcactctagcctgggcaacagagcaagactccgtctaaaaaaaaaaaaatgtccaaagtGAGGATATCTTTGCAAGAGAACcttactctttaaaaatgttgaagtgGTAAAAGACAAAGGAAGACTGAGGAATAGTTTTAGATGAAGGAGAATAAAGTAATTACAACTACTGAATGCAATGTGAGATCctagattaagaaaaaatcattttcactTACTACAAAATATATTAACTAGATGAGTGGTGAAATTTGAATAAGATCTGTAGATTAGATAATGGTTTTGCATCAGTGTAAAACGTCCCGATTTTGGTTATTATAagagaatgtccttccttttagGAAATGTGTACTGGTTTTTAGGCCTGTAACTTACCATAAAAGAGTTCAGGgttggaggaaagaaaaataaatgataaagcaAAGATGGTAAAATCTGGGTAATGGGTATTTGgctattctgtttttgtttttgagacagggtctcactctgttacccaggctggagtgcagtggtgtgatcatagctcactgcagcctcaacctcccaggctcaagcaatgctcccacctcaacctcctgagtagctgggaccacagttgcgcaccaccacacctgactcatttttaaatattttttagagatggggtctccctgtgttgcccaggctggtctcaaattctaggctcaagcaatcctcccatctcagccttccaaaatgctgagattttaGGTGTTAGCCATTGTGGCTGGTGAGATTTGAGTGTTCTTTGTACtactttgtaacttttctgtaagtgACATTATGTCAAAATAAATTCTAACAAGAGAGAATAGAAGGAAAGGAAGTAGAGACATGGAGGCAGTGAGTCCAGGTAACTTTTTGAGGAGTTTTGCTATAGAACTGAGGACAGGTGGCAGGTGGAGAGCAAAATGGGGTCAAGATAAGTTGTTCAAAGGCAGAAATTGTAGCATGTTTTTATGCTGATGAGAGAGATTCAGTagattggaaaaaaaagtaataatgcagacagagagagagaagagagtggcTAGAATGGTGTCTCTGGAGAGAAGGATGGGATCTAGTATACAAATGGGGGCTTTGACCTTGGAGCACAGATGGCTCATCCATGGTCACAGAAGGGAGGGCAGAGTATTTGGGTACCAGATTGGTAGGTAGGTAGCTGTGCAGTGGAAATGTGTGGAAATGCTTTCTGATTGCTACCATTTTCCCTGTGAAATAGGAAGCAAGGTCCTTGGCTAAGAGTGAGAATGGGGGAGAAGGTGATGGAGGTTTGAAAAGATAGGAAGGAAGTGTGTAGGGAAAATGAATGGATCTACTGTGATTGTCAGGCAGAACAAAAGACACCACTGAAGCTATCATCATTCAAGTAAAGTGAGGCCAGTCTACATGGTGGTGTGTTTTTCTCCAGCCACATTCCACTGCAGGGGGACAAACACAGAGGGATGTGGAGTTGGCACCAACTAACAGGTGTTTAGTCAGAGAGGGTCAGGGGGATCTTGGGAGTATGCAGCACAGTGGGGATA\n",
      "\n",
      "TGGAGGTTGCAGTGAGCTGAGATAGTGCCATTGCACTCCAGCCCGGGCAATGAGAGTGAAACTCTGTCTCAAAAAAAAAAAAAAAAAAAGTAGGAAGCAAATGACTAAATGTAGAAGAATAGGAGTTGGCAACCACCATAGGAGACAATCATTAATGGACACTGCAGTAGTGGATTAAAGTTTGATGAGAAATAGGGCATTTGCACAGTCTGAGAATATCTCCCCAAGATACTTATTAATTACAAAGGGTAAAATAGTAACTTTACATGGAGAAACACAGCCAACACCACTTGACCAAGTGATAAAGTGAACATCACCAGTAGCAGGGCAAATTGACATCATGTGGCTTCCGGGATGATGCACTGAGTGGGACAGTCATGATCACGTCAGTGATATTTCTGCCAAAGAGGCATAATTGACTCATGAGGAAGCATTAGAAAAGCCCAAAGTGGCCAGGCACAGTGACTCACACCTGTAATCCCAGCACTTTGGGAGGCTGAGGTGGGCGGATCACGAGGTCAGGAGTTCGAGACAAGCCTGACCAACATGGTGAAACCCTGTTTCTACTAAAAATACAAAAATTAGCTGGGCATGGTGGCGTGCGCCTGTAGTCCCAGCTACTCAGGAGGCTGAGGCAAGAGAATCGCTTGAACCCAGGAGGCAGAGGTTGCAGTGAGCCGAGATTGCACCACTGCACTCTAGCCTGGGCAACAGAGCAAGACTCCGTCTAAAAAAAAAAAATGTCCAAAGTGAGGATATCTTTGCAAGAGAACCTTACTCTTTAAAAATGTTGAAGTGGTAAAGACAAAGGAAGACTGAGGAATAGTTTTAGATGAAGGAGAATAAAGTAATTACAACTACTGAATGCAATGTGAGATCCTAGATTAAGAAAAATCATTTTCACTTACTACAAAATATATTAACTAGATGAGTGGTGAAATTTGAATAAGATCTGTAGATTAGATAATGGTTTTGCATCAGTGTAAAACGTCCCGATTTTGGTTATTATAAGGGAGTAGTCCTTCCTTTTAGGAAATGTGTACTGGTTTTTAGGCCTGTAACTTACCATAAAAGAGTTCAGGGTTGGAGGAAAGAAAAATAAATGATAAAGCAAAGATGGTAAAATCTGGGTAATGGGTATTTGGCTATTCTGTTTTTGTTTTTGAGACAGGGTCTCACTCTGTTACCCAGGCTGGAGTGCAGTGGTGTGATCATAGCTCACTGCAGCCTCAACCTCCCAGGCTCAAGCAATGCTCCCACCTCAGCCTCCTGAGTAGCTGGGACCACAGTTGCGCACCACCACACCTGACTCATTTTTTAAATATTTTTTAGAGATGGGGTCTCCCTGTGTTGCCCAGGCTGGTCTCAAATTCCTAGGCTCAAGCAATCCTCCCATCTCAGCCTTCCAAAATGCTGAGATTTTAGGTGTTAGCCATTGTGGCTGGTGAGATTTGAGTGTTCTTTGTACTACTTTGTAACTTTTCTGTAAGTGACATTATGTCAAAATAAATTCTAACAAGAGAGAATAGAAGGAAAGGAAGTAGAGACATGGAGGCAGTGAGTCCAGGTAACTTTTGAGGAGTTTGCTATAGAACTGAGGACAGGTGGCAGGTGGAGAGCAAAATGGGGTCAAGATAAGTTGTTCAAAGGCAGAAATTGTAGCATGTTTTTATGCTGATGAGAGATTCAGTAGATTGGAAAAAAAGTAATAATGCAGACAGAGAGAGAGAAGAGAGTGGCTAGAATGGTGTCTCTGGAGAGAAGGATGGGATCTAGTATACAAATGGGGGCTTTGACCTTGGAGCACAGATGGCTCATCCATGGTCACAGAAGGGAGGGCAGAGTATTTGGGTACCAGATTGGTAGGTAGGTAGCTGTGCAGTGGAAATGTGTGGAAATGCTTTCTGATTGCTACCATTTTCCCTGTGAAATAGGAAGCAAGGTCCTTGGCTAAGAGTGAGAATGGGGGAGAAGGTGATGGAGGTTTGAAAAGATAGGAAGGAAGTGTGTAGGGAAAATGAATGGATCTACTGTGATTGTCAGGCAGAACAAAAGACACCACTGAAGCTATCATCATTCAAGTAAAGTGAGGCCAGTCTACATGGTGGTGTGTTTTCTCCAGCCACATTCCACTGCAGGGGACAAACACAGAGGGATGTGGAGTTGGCACCAACTAACAGGTGTTTAGTCCAGAGAGGGTCAGGGGGATCTTGGGAGTATGCAGCACAGTGGGGAT\n",
      "70M1D151M2D152M1I6M1I348M1D71M1D89M1D128M1I295M1I58M1I199M1D10M1D97M2D19M1D414M1D25M1D52M1I46M\n",
      "0.9884751773049646\n",
      "read_id: test_read_45_553259_555509 \n",
      "\tmap_start 6, map end 2249\n",
      "\t2250\n",
      "AatataactaaaaaatattttcctggaaGTTTTTGCACAACAGAAAGGAGTTGCAATACAAAGCATAAGTTTAACACCTGCTAGATATGTGTTCTCTGAGGAACCCCAAGCCTACCTGATGGGTGTCAGATTCTCTCCCTGCTACAGCTATTTGTCAAACTCTTGAAAGTCCAGCTTTCCTTCCCATGGAAGGAAAATTCCCACGGAATGCTCTCTTCCGTGTTTACccacagaaaggagagaaaggttCTTTCTCACACAAGTCTAAGGCCTTCCTCTAAGTCACCTTTTCCTATCATAGAACTCACCCAGCACTTCTCAGGATAAATGATACTGCAGAATATGAGTTTGCTTCAGGGAAATCCCATACCCACTGTGAAAAATATGGTAACTCTCCAATATCAGTTCTCCCCCTTTGCTAAGTAATAGAACCCTCCAAATATTAGGTTGACACAAAGCCGACCAGAGAAAAGGCTGAATTTCCCATCTAGAACTGGTCATTCTTCAATTCAGACCAGCCATAACTGGACACTTTTGCAAATATTCATTAATAGTCTTGGTGAAAACCTCAGATTTCCATTTTGCCAAAGTTTCCAAAGGAAAAGAGGGCCTTTTTCTAAGCCCTGAGAGCCCCACAGTGACAGTAAGTTCTCCCTTGGAATTCACCCTGGCATACCTCGGTGCTACCCCAGATCCTTTCCCTCAGGGGCTATGAGATTAGGTTTCATGGCCGAATGTGACggttcatgcctttaatcccaacactttgggaggccgaggcaggaggatggcttgagcccaggagtttgagaccagtctgggcaacatcatgagactctgtctatgtaaaaaataaaaattaaccaggtgtcaTGGTACATAACTCCAGTCCCTGCTACTgtggggcaggggctgtgggggctgaggagggaggattgcttgagcccagaaggttgaggctgcagtgagctgtggtcgtaccactgcactccagcctgggcaacagagcaagaccctgccttttaaagaaaaagagaaaggaggttgggcatggtggctcatgcctataatcccaccactttgggaggccgaggcaggtggatcacctgaggtcaggagttcgagaccagactggacaacatggtgaaaccccatttctactaaaaatacataaattagctgggtgtggtggcgggcacatgtaatcccagctactcaggaggctgaggcaggagaattgcttgaacctgggaggcgaaggttgcagtgagtcgagattgtgccactgcactccagcctgggtgacaaaagcaaaactccatctctaaataaataaataaaaataaaaaagagagagagtgagattaGGACTCACCCTGGCCATCCCAGGTCCTGCCACTCCAGGTCCTGCCACTCAGGGACTGTGTGActctatattttttttaacttctcaggCCAATATTAGAACCCAATCTGATCAAATTAGAAACCTATGAACATTCCACTTACTAGCAGTGCATTCATGGAGCACTTCACAGGGAGTCACCAAagtatcaatcaatcaataaactaCTACCCTACCCtgaactattaggttggtgcaaagtaattgcagtttttgcattgttggaatttgCTGTTTGATATTAGAATGcgttcttaaataaatgtggttatgttacactttttttttttttttttttgagatggagtttcgctcttgttgcccaggctggagtgcaatggtgtgatcttggctcaccgtaacctcctcctcccgggttcaagctattctcctgcctcagcctccctagaagctgggattacaggcctgtgccaccatgactgactaattttgtatttttagtagagacggggtttctccatgttgatcaggctggtctctaactcctgacctcaggtgatgcacccgcctcagcctcccaaagtgctgggattacaggcatgagtcactgctcccggcctatacatcattttaataggcatttctcactttatgttttttgataatgacttattacttgctgttgattttatgtttattttagactatggaaatgatgtcagacaaaaagaaaattcaagcgattttcttattcaagttcaaaatgggtcgtaaagcagcagagacaactTGCAACATCGACTGCGCATCTGGTCCAGGAACTGCTAACGAACGTACAGTGCAGTCGTGGTTCaaaaagttttgcaaaggagaggAGAACCTCGAAGATGAGGAATGTAGTGGCCGGCCGTTGGAAGTTGACAACCaccaattg\n",
      "\n",
      "AACTAAAAAATATTTTCCTGGAAGTTTTGCACAACAGAAAGGAGTTGCAATACAAAGCATAAGTTTAACACCTGCTGAATATGTGTTCTCTGAGGAACCCCAAGCCTACCTGATGGGTGTCAGATTCTCTCCCTGCTACAGCTATTTGTCAAACTCTTGAAAGTCAGCTTTCCTTCCCATGGAAGGAAAATTCCCACGGAATGCTCTCTTCCGTGTTTACCCACAGAAAGGAAGAAAGGTTCTTTCTCACACAAGTCTAAGGCCTTCCTCTAAGTCACCTTTTCCTATCATAGAACTCACCCAGCACTTCTCAGGATAAATGATACTGCAGAATATGAGTTTGCTTCAGGGAAATCCCATACCCACTGTGAAAAATATGGTAACTCTCCAATATCAGTTCTCCCCCTTTGCTAAGTAATAGAACCCTCCAAATATTAGGTTGACACAAAGCCGACCAGAGAAAAGGCTGAATTTCCCATCTAGAACTGGTCATTCTTCAATTCAGACCAGCCATAACTGGACACTTTTGCAAATATTCATTAATAGTCTTGGTGAAAACCTCAGATTTCCATTTTGCCAAAGTTTCCAAAGGAAAAGAGGGCCTTTTTCTAAGCCCTGAGAGCCCCACAGTGACAGTAAGTTCTCCCTTGGAATTCACCCTGGCATACCTCGGTGCTACCCCAGATCCTTTCCCTCAGGGGCTATGAGATTAGGTTTCATGGCCGAATGTGACGGTTCATGCCTTTAATCCCAACACTTTGGGAGGCCGAGGCAGGAGGATGGCTTGAGCCCAGGAGTTTGAGACCAGTCTGGGCAACATCATGAGACTCTGTCTATGTAAAAAATAAAAATTAACCAGGTGTCATGGTACATAACTCCAGTCCCTGCTACTGTGGGGCAGGGGCTGTGGGGGCTGAGGAGGGAGGATTGCTTGAGCCCAGAAGGTTGAGGCTGCAGTGAGCTGTGGTCGTACCACTGCACTCCAGCCTGGGCAACAGAGCAAGACCCTGCCTTTTAAAGAAAAAGAGAAAGGAGGTTGGGCATGGTGGCTCATGCCTATAATCCCACCACTTTGGGAGGCCGAGGCAGGTGGATCACCTGAGGTCAGGAGTTCGAGACCAGACTGGACAACATGGTGAAACCCCATTTCTACTAAAAATACATAAATTAGCTGGGTGTGGTGGCGGGCACATGTAATCCCAGCTACTCAGGAGGCTGAGGCAGGAGAATTGCTTGAACCTGGGAGGCGAAGGTTGCAGTGAGTCGAGATTGTGCCACTGCACTCCAGCCTGGGTGACAAAAGCAAAACTCCATCTCTAAATAAATAAATAAAAATAAAAAAGAGAGAGAGTGAGATTAGGACTCACCCTGGCCATCCCAGGTCCTGCCACTCCAGGTCCTGCCACTCAGGGACTGTGTGACTCTATATTTTTAACTTCTCAGGCCAATATTAGAACCCAATCTGATCAAATTAGAAACCTATGAACATTCCACTTACTAGCAGTGCATTCATGGAGCACTTCACAGGGAGTCACCAAAGTATCAATCAATCAATAAACTACTACCCTACCCTGAACTATTAGGTTGGTGCAAAATAATTGCAGTTTTTGCATTGTTAGATTTGCTGTTTGATATTAGAATGCGTTCTTAAATAAATGTGGTTATGTTACACTTTTTTTTTTTTTTTTTGAGATGGAGTTTCGCTCTTGTTGCCCAGGCTGGAGTGCAATGGTGTGATCTTGGCTCACCGTAACCTCCTCCTCCCGGGTTCAAGCTATTCTCCTGCCTCAGCCTCCCTAGAAGCTGGGATTACAGGCCTGTGCCACCATGACTGACTAATTTTTGTATTTTTAGTAGAGACGGGGTTTCTCCATGTTGATCAGGCTGGTCTCTAACTCCTGACCTCAGGTGATGCACCCGCCTCAGCCTCCCAAAGTGCTGGGATTACAGGCATGAGTCACTGCTCCCGGCCTATACATCATTTTAATAGGCATTTCTCACTTTATGTTTTTTGATAATGACTTATTACTTGCTGTTGATTTTATGTTTATTTTAGACTATGGAAATGATGTCAGACAAAAGAAAATTCAAACTGATTTTCTTATTCAAGTTCAAAATGGGTCGTAAAGCAGCAGAGACAACTTGCAACATCGACTGCGCATCTGGTCCAGGAACTGCCTAACGAACGTACAGTGCAGTCGTGGTTCAAAAAGTTTTGCAAAGGAGAGGAGAACCTCGAAGATGAGGAATGTAGTGGCCGGCCGTTGGAAGTTGACAACCACCAATT\n",
      "24M1D140M1D68M1D1196M3D191M1D53M2D167M1I237M1D16M1I83M1I109M\n",
      "0.9917498914459401\n",
      "read_id: test_read_46_232460_234760 \n",
      "\tmap_start 5, map end 2299\n",
      "\t2300\n",
      "cttcccttgtcCAGATGtgtgctcaccattgctccatctgtgagGTTGCACCCTTTTATAGAAgtaccttgccttgctgagaattgaacagaaaattttatattcgagtgctatttattttgaggcacagaaactttatatataacaatataaacCCGAGACCTTGGCgggcacacacacaagcagctgAATGTCAAGAGGAGTGGAGGAACGGAGTGGCAGAGAATGGCAGAGAGCGCTGGAGAGTGGCAGAGCAGcatggcagagagggagggaagaggcgTCTGAACTTTGGAAGACACCTCCACTCCTCAATAAAGTCTCCGCATGTATCACTTTTCAAACAGTTCATGTGACCTGATTAATCCAGGATGCCAGACAAGAATCTGGGGAAGTTAACATTCAGGCATCCCTGGATGGCAAGGCTAAAGGAGCACACTGTAACATATGCCCACTTGGGCTCCAGCACCTGTCCATCTGTGTGTTCCCCCTTCCCTCAGGGGTTTGAGCAGTGGGGTGACCAAACAGACGAGCCACACCCCCTGTTGCATGTCCTGCAAGGAGAatcagggaactctcctgtttcaGTTGGAAGAGCAAgtgtccctctctctctcgtGGTGGGGAGACATCTCTTCCTTCTGGGCTGTCACAGCCCCAACCTCACCAACCTACCTGACAAGGGAGTCTGGCAGAACAAGGGCAAGGGCAGGGAGAAGCACCTCTAACTCTATTCCTGGATAATAATCAAGTCTCTAAAAGTCATCCtggagccgggcacagtggctcatgcctgtaatcccagcactttgggaggctgaggcgggtggatcacctgatgtcaggagttcgagaccagcctggccaacatggtgaaaacctaactctactaaaatacaaaaaaaattagctaggcatggtggcaggtgcctgtaatcccacctacttgggtggctgaggcaggagaatcacttgaacctgggaggcggaggtcgcaatgagctgagactgtgccactatgctccagcctgggtgacagagagagactctgcctcaaataaataaataaataaataaataaataaataaataaataaataaataaagtcatccTCTAGGGCTTTGAGGCCGTTCAAGCCCCTATTTTTTCCATCTCTGTGGATGAGCCTCTGTTAAATCTGATTGTGGCTGAACAAGAGATAATGTTCCTAATAGATACAGGGACCAGTTATTCAGCTTTAAGTGTTTATTACAGCCCAATGTGCTAGTCCTCCATTTCATTACGGGTATTGATAAACTTCAGTGAGGCTGTTTCACACTGCCACTCCCTTATAAAATGAAAGGCTATTCCTTTACCCACTCTTCAGTCCTGCCAAGCTGCCCTGTTTCTTTATTAGGTCACAATTTGCTCACAAAATTACAAGCGAATTTACAGTTAAGACCTCACATTCTAGCTGTAATTAACTCACACTTCACCAAAAAAGTTGCTGCAGTCTATAGaacatcacattttaaaacaagtgccggccaggcgcagtggctcacgcctgtaatcccagcactttgggaggccaaggcgggtggatcacttgaggtcaggagtttgagaccagcctggtcaatatggcgaaaccccatccctactaaaaatacaaaaattagctgggcatggtggcacacacctgtaatcccagctactcaggaggctgaggcaggggaatcacttgaacctcggaggtggagattgcagtgagccaagatagtgccattgcactccagccctggcaacaagagtgaaacgctgtctcaaaaaaaaaaaaattgttcttttgtttgcttttctttcaccCTGATTCCTCCTTCCCCCTTTGCCGTCTTCAGTACCAAGCTACAAAGCTAGGGGTGGCTGAGGACAGTAAACAGAGTGTGGTCTTAGCTGGCTTTTTCCCTCCTGGGAAGTTGTTGTTTAGGATCCTAATTCTAGTTCAGAGGTGCATTCTAAATAGTCTTCTCCATTGCCTTTCCCCCCAAAATTAATCTCACACGTTGGCTTGTGTGTGCATTCACGTGAGGAACTGAACTGTCATTTTCATAGATAAATAAGAGACTGAGTTTCCTTAGCTCCAAAGAGAAAGGGCATTTTGCTCCTCCCAGCAGAAAGGTACCCGAGTGACTGGGGGGCCTTGCGGGAGTGTTGGGGGGTTGAGCCCCCAGCGACATGAAGTGATTCTGCAGGGAACTCACaacaaaattagttttaaaaaggcTCGTCCAGGAAGCACATATAGGAACTGGTCACTCTGAGTTTTGAGCCCTCTTGGAGGTGCTAGACCTCCGGAGAAAACACTGA\n",
      "\n",
      "CTTGTCCAGATGTGTGCTCACCATTGCTCCATCTGTGAGGTTGCACCCTTTTATAGAAGTACCTTGCCTTGCTGAAATTGAACGAAAATTTTATATTCGAGTGCTATTTATTTTGAGGCACAGAAACTTTATATATAACAATATAAACCCGAGACCTTGGCAGGCACACACACAAGCAGCTGAATGTCAAGAGGAGTGGAGGAACAGGTGGCAGAGAATGGCAGAGAGCGCTGGAGAGTGGCAGAGCAGCATGGCAGAGAGGGAGGGAAGAGGCGTCTGAACTTTGGAAGACACCTCCACTCCTCAATAAAGTCTCCGCATGTATCACTTTTCAAACAGTTCATGTGACCTGATTAATCCAGGATGCCAGACAAAGAATCTGGGGAAGTTAACATTCAGGCATCCCTGGATGGCAAGGCTAAAGGAGCACACTGTAACATATGCCCACTTGGGCTCCAGCACCTGTCCATCTGTGTGTTCCCCCTTCCCTCAGGGGTTTGAGCAGTGGGGTGACCAAACAGACAGGCCACACCCCCTGTTGCATGTCCTGCAAGGAGAATCAGGGAACTCTCCTGTTTCAGTTGGAAGAGCAAGTGTCCCTCTCTCTCTCGTGGTGGGGAGACATCTCTTCCTTCTGGGCTGTCACAGCCCCAGCCTCACCAACCTACCTGACAAGGGAGTCTGGCAGAACAAGGGCAAGGGCAGGGAGAAGCACCTCTAACTCTATTCCTGGATAATAATCAAGTCTCTAAAAGTCATCCTGGAGCCGGGCACAGTGGCTCATGCCTGTAATCCCAGCACTTTGGGAGGCTGAGGCGGGTGGATCACCTGATGTCAGGAGTTCGAGACCAGCCTGGCCAACATGGTGAAAACCTAACTCTACTAAAATACAAAAAAATTAGCTAGGCATGGTGGCAGGTGCCTGTAATCCCACCTACTTGGGTGGCTGAGGCAGGAGAATCACTTGAACCTGGGAGGCGGAGGTCGCAATGAGCTGAGACTGTGCCACTATGCTCCAGCCTGGGTGACAGAGAGAGACTCTGCCTCAAATAAATAAATAAATAAATAAATAAATAAATAAATAAATAAATAAAGTCATCCCTCTAGGGCTTTGAGGCCGTTCAAGCCCCTATTTTTTCCATCTCTGTGGATGAGCCTCTGTTAAATCTGATTGTGGCTGAACAAGAGATAATGTTCCTAATAGATACAGGGACCAGTTATTCAGCTTTAAGTGTTTTATTACAGCCCAATGTGCTAGTCCTCCATTTCATTACGGGTATTGATAAACTTCAGTGAGGCTGTTTCACACTGCCACTCCCTTATAAAATGAAAGGCTATTCCTTTACCCACTCTTCAGTCCTGCCAAGCTGCCCTGTTTCTTTATTAGGTCACAATTTGCTCACAAAATTACAAGCAGATTTACAGTTAAGACCTCACATTCTAGCTGTAATTAACTCACACTTCACCAAAAAAGTTGCTGCAGTCTATAGAACATCACATTTTAAAACAAGTGCCGGCCAGGCGCAGTGGCTCACGCCTGTAATCCCAGCACTTTGGGAGGCCAAGGCGGGTGGATCACTTGAGGTCAGGAGTTTGAGACCAGCCTGGTCAATATGGCGAAACCCCATCCCTACTAAAAATACAAAAATTAGCTGGGCATGGTGGCACACACCTGTAATCCCAGCTACTCAGGAGGCTGAGGCAGGGGAATCACTTGAACCTCGGAGGTGGAGATTGCAGTGAGCCAAGATAGTGCCATTGCACTCCAGCCCTGGCAACAAGAGTGAAACCTTGTCTCAAAAAAAAAAAAAATTGTTCTTTTGTTTGCTTTTCTTTCACCCTGATTCCTCCTTCCCCCTTTGCCGTCTTCAGTACCAAGCTACAAAGCTAGGGGTGGCTGAGGACAGTAAACAGAGTGTGGTCTTAGCTGGCTTTTCCCTCCTGGGAAGTTGTTGTTTAGGATCCTAATTCTAGTTCAGAGGTGCATTCTAAATAGTCTTCTCCATTGCCTTTCCCCCAAAATTAATCTCACACGTTGGCTTGTGTGTGCATTCACGTGAGGAACTGAACTGTCATTTTCATAGATAAATAAGAGACTGAGTTTCCTTAGCTCCAAAGAGAAAGGACATTTTGCTCCTCCCAGCAGAAAGGTACCCGAGTGACTGGGGGGCCTTGCGGGAGTGTTGGGGGTTGAGCCCCCAGCGACATGAAGTGATTCTGCAGGGAACTCACAACAAAATTAGTTTTAAAAGGCTCGTCCAGGAAGCACATATAGGAACTGGTCACTCTGAGTTTTGAGCCCTCTTGGAGGTGCTAGACCTCCGGAGAAAACACTG\n",
      "75M1D8M1D124M1D165M1I518M1D156M4D52M1I134M1I563M1I133M1D81M1D172M1D62M1D89M\n",
      "0.9906542056074766\n",
      "read_id: test_read_47_800798_803148 \n",
      "\tmap_start 5, map end 2349\n",
      "\t2350\n",
      "CAAATTCACAGACATCCTGTTTATTTCCGAAAGAGAAACATCATAGAGCTATTCTTGGGATGTTCaggaaaagattaaaataaatgccTATTATCTATTGTATTTCGAGATAAACTTTATAGATTTAGAGCAGGACACACATTTCTGGACTTGAGAACGCTGTATCTGGCTTGGAATAAAAGCCCACATTTCATCTAGAGGTAGAATGTATGTCATTCTAATCTCCCTCAATCCTTTCTTCTCCAATTTCTTTATTGCCCCACTTACAAGATAGTGCACTATTATTCCAAAGCTGATACCTTCCAAATTCCTTTATAGTAGAGGTCTTGGCTATCATAACCATGATGGAACGAATGACCGTCCTACAGCTGGCTGCAAAATATAAGACTGCTATAAATAAATCCCTGATGCCTGAAAagtaattcattcaacaaaggaAGATAGGTATGACTTTGGCCTACTCTTCATTAGAacgcttatttttatttatttatttatttatttataaagaggGCAAAGCAGACTTTATTTGAGGGGCACCACAGCAATAGGTATAGCAACAACTGCAACAGGGTTTTGTAGTCAGGGAGGGAGATCAGACTCAACTCCCTAAAATGCTAATTTTAACAATGGGACACTTCATCTGAACTGTGGTTCTTAATGGTTCAGATAAAGATGACACAACCCACTATTGGCTTAAACTTCTCCCAACTCTGGCTACAGAATCCAGGTAAAGATTTCTGCCCCCTCAGAGTAATAGGCATGTCCAAAATCACCTGGATTAGGGCACTTAATACACTGGGAAGGGACGATAACAACTAAAGATGACCACTATCCATGCCTCCTCTAAaagttttttcatatattttttcatatcacCAAAACAAATACTAACTTGGATCAACTAATTTATATAATGGAATCTCGTGTGAGCGTACAAAATTCCATACTGATTATTTGGTTTAAGCCTGCATTATCATAAAGGCTTTACAGTCTTTAAACTGAAATTAAGCTCAAATTAAGAAATGCTAGTCTTAAAACAATGGAAGGGGGGGGCCGTtttgtgtggagggagggagacagacataCCCCTACACCCACCCACAACTACTGATATTGACATTGGAAATTAACTTGAAAatttatgcctgtagtcccagctactcaggaggctgaggtgggaggagcacttaagtccaggagttgggAGATGACAGTGAGCTTTgactgtgacactgcactccaacccgggtgacagggcaagatcccatctctcaaaaaaaaaaaaaaaaaatgctttaactCCACGTCTGTACCAGAAGACCACAGCAGGAGAGGAAAACCTTATTTCAGTCTGGGTAAGAGTTCtattaaacacaaaataaaacaaactagcCTCTGTTTCTGGAGGTCTTCATTAGTAGTTTCTACAAAACAGTATCCAAATTAGCAAAGATTCTGTTAACTACCTGGAAAAAGCAGGTACCAAGAAAGAATGTTTCACtacaatggaaaaaaacagtCTAGTAAGTAAACCAATCTGACTATAAACGCTACAAAAGAGGGATTCTAGCATTAGTAACTTTGCCAACAATACTCTGatatgattaaaaaacaaaacaataacaaaaacaaaaaacctcatctTTAAATTTGTCCCATTCATCCAGAGAAGCAAAATCAAGGAAACTAGAGGGGGTAAAGTCTTGCAACAGATACACAGCTGCACTGCCAACAGGTCACAAGACCCATGCTGCCTAGGGCATTGACTGTTATGCCATGAGGACAGACATCACACAAACACCAGTAATTAAAGGGTTACGGTGCCAAAGGGTTCAGAGCTCCACTTCCATTCAGTATCAGAAcataagaaaaagggaaaaacagaaaatgagcccaaataaaatataaaataaaatatagataccAGGAGCTTCCTCAAAATATGTGGGTTGTATTAATAACGTGTTTGGCTCTGTTACGGGCACCATCCATCAGAGGACTGGAAATAGGGAAAGTCACCTTAGTCTTCCTCAaggaaaaaagattatttaactTGGTTCACGGTGTACATTCATAATTTTAACTGtcatgtatttattgaatgaaaaacaTTTGAGAACATCATGTGCAACAAAAACATGATTTCACAGAAATTGTCCaaactaaaagagtataaaaaTAGAAGCGCTTTTTATacaattatttacttattattattattgagatagggtctccatctgtcacccaggccggagtgcagtggcgcaatcatagagTAGCCTctaagtcctgggctcaagcgatcctcctgcctcagcctccagagtcgtTGGGATCACAGGCTCGAGCCTCCACACCCgactaacttttaaaaactttttgtagagatgaggcctc\n",
      "\n",
      "TCACAGACATCCTGTTTATTTCCGAAGAGAAACATCATAGAGCTATTCTTGGGATGTTCAGGAAAAGATTAAAATAAATGCCTATTATCTATTGTATTTCGAGATAAACTTTATAGATTTAGAGCAGGACACACATTTCTGGACTTGAGAACGCTGGTAATCTGGCTTGGAATAAAAGCCCACATTTCATCTAGAGGTAGAATGTATGTCATTCTAATCTCCCTCAATCCTTTCTTCTCAATTTCTTTATTGCCCCACTTACAAGATAGTGCACTATTATTCCAAAGCTGATACCTTCCAAATTCCTTTATAGTAGAGGTCTTGGCTATCATAACCATGATGGAACGAATGACCGTCCTACAGCTGGCTGCAAAATATAAGACTGCTATAAATAAATCCCTGATGCCTGAAAAGTAATTCATTCAACAAAGGAAGATAGGTATGACTTTGGCCTACTCTTCATTAGAACGCTTATTTTTATTTATTTATTTATTTATTTATAAAGAGGGCAAAGCAGACTTTATTTGAGGGGCACCACAGCAATAGGTATAGCAACAACTGCAACAGGGTTTGTAGTCAGGGAGGGAAGTCAGACTCAACTCCCTAAAATGCTAATTTTAACAATGGGACACTTCATCTGAACTGTGGTTCTTAATGGTTCAGATAAAGATGACACAACCCACTATTGGCTTAAACTTCTCCCAACTCTGGCTACAGAATCCAGGTAAAGATTTCTGCCCCCTCAGAGTAATAGGCATGTCCAAAATCACCTGGATTAGGGCACTTAATACACTGGGAAGGGACGATAACAACTAAAGATGACCACTATCCATGCCTCCTCTAAAAGTTTTTCATATATTTTTTCATATCACCAAAACAAATACTAACTTGGATCAACTAATTTATATAATGGAATCTCGTGTGAGCGTACAAAATTCCATACTGATTATTTGGTTTAAGCCTGCATTATCATAAAGGCTTTACAGTCTTTAAACTGAAATTAAGCTCAAATTAAGAAATGCTAGTCTTAAAACAATGGAAGGGGGCCGTTTTGTGTGGAGGGAGGGAGACAGACATACCCCTACACCCACCCACAACTACTGATATTGACATTGGAAATTAACTTGAAAATTTATGCCTGTAGTCCCAGCTACTCAGGAGGCTGAGGTGGGAGGAGCACTTAAGTCCAGGAGTTGGGAGATGACAGTGAGCTTTGACTGTGACACTGCACTCCAACCCGGGTGACAGGGCAAGATCCCATCTCTCAAAAAAAAAAAAAAAAAAATGCTTTAACTCCACGTCTGTACCAGAAGACCACAGCAGGAGAGGAAAACCTTATTTCAGTCTGGGTAAGGAGTTCTATTAAACACAAAATAAAACAAGCTAGCCTCTGTTTCTGGAGGTCTTCGTTAGTAGTTTCTACAAAACAGGCTATCAAATTAGCAAAGATTCTGTTAACTACCTGGAAAAAGCAGGTACCAAGAAAGAATGTTTTCACTACAATGGAAAAAAACAGTCTAGTAAGTAAACCAATCTGACTATAAACGCTACAAAAGAGGGATTCTAGCATTAGTAACTTTGCCAACAATACTCTGATATGATTAAAAAACAAAACAATAACAAAAACAAAAAACCTCATCTTTAAATTTGTCCCATTCATCCAGAGAAGCAAAATCAAGGAAACTAGAGGGGGTAAAGTCTTGCAACAGATACACAGCTGCACTGCCAACAGGTCACAAGACCCATGCTGCCTAGGGCATTGACTGTTATGCCATGAGGACAGACATCACACAAACACCAGTAATTAAAGAGGTTACGGTGCCAAAGGGTTCAGAGCTCCACTTCCATTCAGTATCAGAACATAAGAAAAAGGGAAAAACAGAAAATGAGCCCAAATAAAATATAAAATAAAATATAGATACCAGGAGCTTCCTCAAAATATGTGGGTTGTATTAATAACGTGTTTGGCTCTGTTACGGGCACCATCCATCAGAGGACTGGAAATAGGGAAAGTCACCTTAGTCTTCCTCAAGGAAAAAGATTATTTAACTTGGTTCACGGTGTACATTCATAATTTTAACTGTCATGTATTTATTGAATGAAAAACATTTGAGAACATCATGTGCAACAAAAACATATGATTTCACAGAAATTGTCAAACTAAAAGAGTATAAAAATAGAAGCGCTTTTTATACAATTATTTACTTATTATTATTATTGAGATAGGGTCTCCATCTGTCACCCAGGCCGGAGTGCAGTGGCGCAATCATAGAGTAGCCTCTAAGTCCTGGGCTCAAGCGATCCTCCTGCCTCAGCCTCCAGAGTCGTTGGGATCACAGGCTCGAGCCTCCACACCCGACTAACTTTTAAAAACTTTTTGTAGAGATGAGGCCTC\n",
      "24M1D132M2I80M1D331M1D278M1D194M3D225M1I86M1I76M2I3M1D56M1I318M1I223M1D101M2I19M1D239M\n",
      "0.9896265560165975\n",
      "read_id: test_read_48_459158_461558 \n",
      "\tmap_start 5, map end 2400\n",
      "\t2400\n",
      "ctccatctgtcaaATGGATGGTTAAACTCAGTGTTTCTAAAGGCCCACtgttcacccatccatccatccatccacccacccacctacccatctgcccacccatctatccatccccatccatccatccatccatccccatccatccatccatccatccatccatccacccacccacccatctatccatccactcacccacccatctatccatccatccatccacccatccatccatccaccaacccatctatccatccaatcacccacccatctatccatccaccaacccatctatccatccactcacccacccatctatccatccatccatccacccacccactcatctatccatccatccatccatccatccacccacccacctacccatctgcccacccatctatccatccccatccatccatccatccatccacccacccatatatccatccactcacccacccatctatccatccatccacccacccactcatctatccatccatccatccatctatccacccacccacccatcatccaCCCAACCAtctatccgtccatccatccattcagcaGATATTTCTTGAATATCATCTATGTGCCAGGATCCTttatttattaaagttaaaagacaaatcacagaCCTGTAGAAACATTTTAGAAAGACATACAAAATCATACTGGATTGGAAATGTAAATTTCCCCAGGACTTTTGTTCACCAGTGACTCTCCAATGCCATGCATGGGGCCACATGTCTACTAGGTGCTCTGTAAAATGTTTATTGGATGTAAGAATGAATAGGACATATTTTGCTGTTCTAAAGAGAGCTGCCTCCGAGTCTGAGATTGGAGTCAGACATCCTCTCTAGGACTTATTGAGAGGGGGCCAACTATCTTTGTCACCCCCATCCCTGACCTGCCCCACTGCCTCCCCAGCCCATATAAGCCAGTTTCTAAAGAGGATCTAAGGAGGATTGGCCAGCAGTGACTGGGGCAGGGTAGGGCACGGCATGCCCCCAACTCCCAAGCCCAGGTGGGCTCATGGTTTGGAGGGGAGAAGCTATGAACCAGAGGGAAACAGGCATTCCATCCCTTGATTGAACTCACTCTTGTTGATCTGCCCTGTGTCCATTGGGAGTGAGTGGAGAATGAATGAGAAATGCAAAAGGGGTGGGGTCTGGCAGAGGCAGCCTGCATTGCCACCATTTGACCAATTTCCTGTCAATTTCCTATATTTGGTCAAGTGGACATTGAAGGAGGCTCTTGAGCTTAATCTAAGCCATGGTTTTCCAGCCCAAAGGGGCATGAGGCTGTTGAAGTGGGGATGGGGTAGTGAGGAAGCTAGGGTGATCTGAAGAGGTCAAGCTCGTGCTCCTTGCTCAGTAATCACACCTGTGTACCAATTAGGCACCTGCCACACGTGGGAGAAAGGGGAGGGCATGGATGGAGGCAGAGGAACATTTAGTCCCAGTCCCTCCCTGCTGCTCACTGGTGATGGCCCCAGAGTTTTCTAACACCGGGAATTGTGGAGGCCACAGCAGCATCAGGGTAGTGACAGCTGTCTCTATCCCCATTCCTTCTTCTGCTCCCCAACATACAGGGGAGAAATCAAcccagagggaggagagaagagaatgagacaGCATGACATATCTCCCTACAGGGCAAATCAGTGGAGTCAGAAGCTGAGTCAGGCAGTGATGGGGAAGCAGTGATGGGAAAGGAGAGCTTCAAATCAgacctgtattttaaaaattcagcactGGACTAGGCTTTTTAATAGCTGAAAGTTACCAGAAAGCTTTGAGATCTGCCCAAAGTTATTAAGGATTGGAGTTTAAAAATACGACTGTgcattgggggtggggggtggggggtgcatgGAAAGCATGCCATGTTTGTAACCCTCTGTTACAACTTCAGTATCATCATTAAGCCAGTTACACACAAAGTAAGCCAAGAATATCCTTAATACACAACGAGctcctataaatcaataagaaaaaggggAATGATCCAAGTGTGTGGAGGGAGAATGGGCAAAGACAttacaaggaatttaaaaaagaaagacaaataggaCAATAACCATACGCAAAGCTGTTCTACTTCCCTAAGAATTTTCAAATTGAAGATGAGAACAAGAATGAAATACCACCATGACCTACAAGATACGGAAACTGTAAAAGACTCCGGCACCCTCTTTTGAGAAGGCAATTAGGCAGAGTCTATTATCTGTAGCCTGAGGTAGTAACAGCATTTTACAGGAAGTGTCCTGAGTTGAGAGAGGGGTAGGCACTTGTTAGAAGCCACACAGTGAGTCATGGGAGGGGAGGAGCTAGAACTCAGACCTCTGGATGGGCACCTTTGATTCTTTATCTCCAGCCAGCTGGTCCTCTCTGTCTGGGCTAGTGCAcagcctggcccctggcccctgtCTGGGTAGC\n",
      "\n",
      "TCTGTCAAATGGATGGTTAAACTCAGTGTTTCTAAAGGCCCACTGATTTCACCCATCCATCCATCCATCCACCCACCCACCTACCCATCTGCCCACCCATCTATCCATCCCCATCCATCCATCCATCCATCCCCATCCATCCATCCATCCATCCATCCATCCACCCACCCACCCATCTATCCATCCACTCACCCACCCATCTATCCATCCATCCATCCACCCATCCATCCATCCACCAACCCATCTATCCATCCAATCACCCACCCATCTATCCATCCACCAACCCATCTGTCCATCCACTCACCCACCCATCTATCCATCCATCCATCCACCCACCCACTCATCTATCCATCCATCCATCCATCCATCCACCCACCCACCTACCCATCTGCCCACCCATCTATCCATCCCCATCCATCCATCCATCCATCCACCCACCCATATATCCATCCACTCACCCACCCATCTATCCATCCATCCACCCACCCACTCATCTATCCATCCATCCATCCATCTATCCACCCACCCACCCATCATCCACCCAACCATCTATCCGTCCATCCATCCATTCAGCAGATATTTCTTGAATATCATCTATGTGCCAGGATCCTTTATTTATTAAAGTTAAAAGACAAATCACAGACCTGTAGAAACATTTTAGAAAGACATACAAAATCATACTGGATTGGAAATCTTAAATTTCCCCAGGACTTTTGTTCACCAGTGACTCTCCAATGCCATGCATGGGGCCACATGTCTACTAGGTGCTCTGTAAAATGTTTATTGGATGTAAGAATGAATAGGACATATTTTGCTGTTCTAAAGAGAGCTGCCTCCGAGTCTGAGATTGGAGTCAGACATCCTCTCTAGGACTTATTGAGGGGGCCAACTATCTTTGTCACCCCCATCCCTGACCTGCCCCACTGCCTCCCCAGCCCATATAAGCCAGTTTCTAAAGAGGATCTAAGGAGGATTGGCCAGCAGTGACTGGGGCAGGGTAGGGCACGGCATGCCCCCAACTCCCAAGCCCAGGTGGGCTCATGGTTTGGAGGGGAGAAGCTATGAACCAGGGAAACAGGCATTCCATCCCTTGATTGAACTCACTCTTGTTGATCTGCCCTGTGTCCATTGGGAGTGAGTGGAGAATGAATGAGAAATGCAAAAGGGGTGGGGTCTGGCAGAGGCAGCCTGCATTGCCACCATTTGACCAATTTCCTGTCAATTTCCTATATTTGGTCAAGTGGACATTGAAGGAGGCTCTTGAGCTTAATCTAAGCCATGGTTTTCCAGCCCAAAGGGGCATGAGGCTGTTGAAGTGGGGATGGGGTAGTGAGGAAGCTAGGGTGATCTGAAGAGGTCAAGCTCGTGCTCCTTGCTCAGTAATCACACCTGTGTACCAATTAGGCACCTGCCACACGTGGGAGAAAGGGGAGGGGCATGGATGGAGGCAGAGGAACATTTAGTCCCAGTCCCTCCCTGCTGCTCACTGGTGATGGCCCCAGAGTTTTCTAACACCGGGAATTGTGGAGGCCACAGCAGCATCAGGGTAGTGACAGCTGTCTCTATCCCCATTCCTTCTTCTGCTCCCCAACATACAGGGGAGAAATCCAACCCAGAGGGAGGAGAGAAGAGAATGAGACAGCATGACATATCTCCCTACAGGGCAAATCAGTGGAGTCAGAAGCTGAGTCAGGCAGTGATGGGGAAGCAGTGATGGGAAAGGAGAGCTTCAAATCAGACCTGTATTTTAAAAATTCAGCACTGGACTAGGCTTTTAATAATACAGAAAGTTACCAGAAAGCTTTGAGATCTGCCCAAAGTTATTAAAGTTGGAGTTTAAAAATACGACTGTGCATTGGGGGTGGGGGTGGGGGGTGCATGGAAAGCATGCCATGTTTGTAACCCTCTGTTACAACTTCAGTATCATCATTAAGCCAGTTACACACAAAGTAAGCCAAGAATATCCTTAATACACAACGAGCTCCTATAAATCAATAAGAAAAAGGGGAATGATCCAAGTGTGGAGGGAGAATGGGCAAAGACATTACAAGGAATTTAAAAGAAAGACAAATAGGACAATAACCATACGCAAAGCTGTTCTACTTCCTAAGAATTTTCAAATTGAAGATGAGAACAAGAATGAAATACCACCATGACCTACAAGATACGGAAACTGTAAAGACTCCGGCACCCTCTTTTGAGAAGGCAATTAGGCAGAGTCTATTATCTGTAGCCTGAGGTAGTAACAGCATTTTACAGGAAGTGTCCTGAGTTGAGAGAGGGGTAGGCACTTGTTAGAAGCCACACAGTGAGTCATGGGAGGGGAGGAGCTAGAACTCAGACCTCTGGATGGGCACCTTTGATTCTTTATCTCCAGCCAGCTGGTCCTCTCTGTCTGGGCTAGTGCACAGCCTGGCCCCTGGCCCCTGTCTGGGTAGC\n",
      "45M2I646M1I184M2D190M2D364M1I174M1I168M2I5M1D46M1D34M1D155M2D39M2D48M1D72M1D262M\n",
      "0.9898249898249898\n",
      "read_id: test_read_49_984787_987237 \n",
      "\tmap_start 5, map end 2450\n",
      "\t2450\n",
      "cagtGTATTGAGGAGATTTCAAAGTATTCTTTCTAAAGGTCTTTTATTAtatgaaaagaagataaaattataatatcaGGTTTTGCTAAGTTATAGCTGCAAGTCACAAGATGTATGACAACtaattacagaataaaaatagCATATATTTCCAAACCagaaagagggaaaagtaaaatcataaaaagaatccaaaagaatgttaagaagggagaagaaaaaaatctagaacaTAAGAAGCATAGGGGAAGAAAGTTGAATTGGAATatgattaattatattaaatataagtgGAATAAATTATCCAGGTAAAAGACAAAGACTATCATatcagactggattaaaaaagaaatccaaatgaaCCAGAATAATccaaacaattctgaaaaataataaagctggaAGAATTATACTAACTGATCTtaaacttattacaaagctatagttgTCAAAACAGTGTATTGGCAAAAGGATAATACATAGATCAagggaacagaataaagagtacAGAAATACACTCACACAAACAAggccaattaatttttgacaaaggtacaaaggcagttcaatggagaaaggacatatatacatatatatataaatatattatgtatttttttcgaGATAGGGTCTGCCTCTggtgcccacgctggagtgcaggggcatgatctcaactcactgcaacctccgcctcctgggttcaagtgattctcctgcctcagcctccaaagtagctaggaccacaggagTGTgtcactatgccctgctaatttttgtatttttagtagagacagggtttcaccatattgcctaggctggtctcaaatttctgagctcaactgatccacctgccttggcctcccaaagtgctgggattacaggcataataaTCTTTTCTATAAATTGTTTTGGAAGACTTGGAGATCAATATGCAAAATCATAAACTTTAATCTAAATCTCACACTTTATATAAAGATAATTCATAATGAATCACAGATATCAATGTAAAACTTGggtcagatgcggtggctcatgactgtataatcccaggctgggtgacaaggcaagactctacctctgggggggaaaaaaaaagatataaatgtaaaattatcaaACCTTCTTGCAACCAGGGGTTAGGCAGAGTTTGAAGACATGACACTAAAAGCATGGGCTGTAAAACTGATAAACTGAACTTCATCAACGTTAAAatatttctgctctgtgaaagacactattaagaaaataagccagacacaagaagAATGTATTTGCAAATCACAAATCGAATAAAGAACTTGTATCTGTAACATTAaaaaactcaataagaaaacagctcaatttaaaaatgggcaaaagacgtGAACATACACaccacaaaagaagatatacacataagtatatgaaaagatacaCAACACTGCCAGACAGCagggaaaatgaaattaaatcatACAACTACCACTACAGatttattaaaatggctaaaatttaaaaaaacagaaaacaaaactatacCAAAAGCTGGTGTGGATGCAGAGTAACAGTAACTAATACATtcctggtaggaatgcaaaatggttttggaaaacagtttggcagtttcttatagaGTTAAACATGTACTTAAGCATACAACCAGCattcccactcctaggtatttactcaagagaaacgGAAACCCGTatctacacaaaaacttatacacaaaCATTTaaggcagctttattcataattgtgaaaaaacagaaacaaccaaGGTGTCCAACAGTTACATGAACAAACAAATGGTTTGCCATGTGAtgcttagcaataaaaaggaacaaattactgATTTGtgcaacaaaatggatgaatcgtttttctttttttggtagagacagggtctcgctttgttgcccaggctggtctcaaacgtctagcctcaagtaatcctttggcttcagtctcccaaagtgctaggattacaggtgtgagctgctacacctgaccaacatggtgaatcttaAAAGtgaagaagccagaaacaaaagccTACATATTGTATACTTCCATTTAtatcaggggtccccaatccccgGGCCATGGGCCTGTACCagttcatggcctgttaggaaccaggctacacagcaggaggtgagcagcgggaGTCACTCGCATTACTGcccgagctctgcctcctgtcccatCAGcaacagcattagattctcataggagaaccctattgtgaactgcacatgtgaggaatctaggaggtggagctcaatttttctcctttaaggaaaggaaataagtaaGCATGGAAAGAGAGCCTAAATTTCTCCCTTTCCATGCTTATTCATTACAAGGGTATTCCTAAGTCCAATGGGCTTGGAAAGGGAGAAATAGCAACTCTACAGTAGAAAAACCTGGCAGACTTTACTGAAATATCACTAGTGTTAAGTCACTTTGACATCATATGCCCCTGATATAATGTGATGAGAAGGGCACTTCACCTCTG\n",
      "\n",
      "TATTGAGGAGATTTCAAAGTATTCTTTCTAAAGGTCTTTTATTATATGAAAAGAAGATAAAATTATAATATCAGGTTTTGCTAAGTTATAGCTGCAAGTCACAAGATGTATGACAACTAATTACAGAATAAAAATAGCATATATTTCCAAACCAGAAAGAGGGAAAAGTAAAATCATAAAAAGAATCAAAAAGAATGTTAAGAAGGGAGAAGAAAAAATCTAGAACATAAGAAGCATAGAGGAAGAAAGTTGAATTGGAATATGATTAATTATATTAAATATAAGTGGAATAAATTATCCAGGTAAAAGACAAAGACTATCATATCAGACTGGATTAAAAAAGAAATCCAAATGAACCAGAATAATCAGAACAATTCTGAAAAATAATAAAGCTGGAAGAATTATACTAACTGATCTTAAACTTATTACAAAGCTATAGTTGTCAAAACAGTGTATTGGCAAAAGGATAATACATAGATCAAGGGAACAGAATAAAGAGTACAGAAATACACTCACACAAACAAGGCCAATTAATTTTGACAAAGGTACAAAGGCAGTTCAATGGAGAAAGGACATATATACATATATATATAAATATATTATGTATTTTTTTCGAGATAGGGTCTGCCTCTGGTGCCCACGCTGGAGTGCAGGGGCATGATCTCAACTCACTGCAACCTCCGCCTCCTGGGTTCAAGTGATTCTCCTGCCTCAGCCTCCAAAGTAGCTAGGACCACAGGAGTGTGTCACTATGCCCTGCTAATTTTTGTATTTTTAGTAGAGACAGGGTTTCACCATATTGCCTAGGCTGGTCTCAAATTTCTGAGCTCAACTGATCCACCTGCCTTGGCCTCCCAAAGTGCTGGGATTACAGGCATAATAATCTTTTCTATAAATTGTTTTGGAAGACTTGGAGATCAATATGCAAAATCATAAACTTTAATCTAAATCTCACACTTTATATAAAGATAATTCATAATGAATCACAGATATCAATGTAAAACTTGGGTCAGATGCGGTGGCTCATGACTGTATAATCCCAGGCTGGGTGACAAGGCAAGACTCTACCTCTGGGGGGAAAAAAAAGATATAAATGTAAAATTATCAAACCTTCTTGCAACCAGGGGTTAGGCAGAGTTTGAAGACATGACACTAAAAGCATGGGCTGTAAAACTGATAAACTGAACTTCATCAACGTTAAAATATTTCTGCTCTGTGAAGACACTATTAAGAAAATAAGCCAGACACAAGAAGAATGTATTTGCAAATCACAAATCGAATAAAGAACTTGTATCTGTAACATTAAAAAACTCAATAAGAAAACAGCTCAATTTAAAAATGGGCAAAAGACGTGAACATACACACCACAAAAGAAGATATACACATAAGTATATGAAAAGATACACAACACTGCCAGACAGCAGGGAAAATGAAATTAAATCATACAACTACCACTACAGATTTATTAAAATGGCTAAAATTTAAAAAAACAGAAAACAAAACTATACCAAAAGCTGGTGTGGATGCAGAGTAACAGTAACTAATACATTCCTGGTAGGAATGCAAAATGGTTTTGGAAAACAGTTTGGCAGTTTCTTATAGAGTTAAACATGTACTTAAGCATACAACCAGCATTCCCACTCCTAGGTATTTACTCAAGAGAAACGGAAACCCGTATCTACACAAAAACTTATACACAAACATTTAAGGCAGCTTTATTCATAATTGTGAAAAAACAGAAACAACCAAGGTGTCCAACAGTTACATGAACAAACAAATGGTTTGCCATGTGATGCTTAGCAATAAAAAGGAACAAATTACTGATTTGTGCAACAAAATGGATAGATCGTTTTTCTTTTTTTGGTAGAGACAGGGTCTCGCTTTGTTGCCCAGGCTGGTCTCAAACGTCTAGCCTCAAGTGATCCTTTGGCTTCAGTCTCCCAAAGTGCTAGGATTACAGGTGTGAGCTGCTACACCTGACCAACATGGTGAATCTTAAAAGTGAAGAAGCCAGAAACAAAAGCCTACATATTGTATACTTCCATTTATATCAGGGGTCCCCAATCCCAGGCCATGGGCCTGTACCAGTTCATGGCCTGTTAGGAACCAGGCTACACAGCAGGAGGTGAGCAGCGGGAGTCACTCGCATTACTGCCCGAGCTCTGCCTCCTGTCCCATCAGCAACAGCATTAGATTCTCATAGGAGAACCCTATTGTGAACTGCACATGTGAGGAATCTAGGAGGTGGAGCTCAATTTTTCTCCTTTAAGGAAAGGAAATAAGTAAGCATGGAAAGAGAGCCTAAATTTCTCCCTTTCCATGCTTATTCATTACAAGGGTATTCCTAAGTCCAATGGGCTTGGAAAGGGAGAAATAGCAACTCTACAGTAGAAAAACCTGGCAGACTTTACTGAAATATCACTAGTGTTAAGTCACTTTGACATCATATGCCCCTGATATAATGTGATGAGAAGGGCACTTCACCTCT\n",
      "212M1D322M1D544M2D140M1D847M1D423M\n",
      "0.9952\n",
      "read_id: test_read_50_519896_522396 \n",
      "\tmap_start 5, map end 2499\n",
      "\t2500\n"
     ]
    }
   ],
   "source": [
    "r9_identities = []\n",
    "with start_guppy_server_and_client(\n",
    "    BIN_PATH,\n",
    "    \"dna_r9.4.1_450bps_hac.cfg\",\n",
    "    \"ipc:///tmp/.guppy/5555\",\n",
    "    [\"--device\", \"cuda:all\"],\n",
    ") as client:\n",
    "    fa = Fasta(str(TEST_FASTA.resolve()))\n",
    "    for signal_array in R9_OUTDIR.rglob(\"*.npy\"):\n",
    "        # remove any non ACGT and replace with A\n",
    "        read_id = signal_array.stem.partition(\".\")[0]\n",
    "        signal = np.load(signal_array)\n",
    "        read = {\"read_id\": read_id, \"raw_data\": signal}\n",
    "        success_pass = client.pass_read(read, pack)\n",
    "    t.sleep(10)\n",
    "    res = client.get_completed_reads()\n",
    "    for r in sorted(res, key=lambda x: len(x[0][\"datasets\"].get(\"sequence\", \"\"))):\n",
    "        read_id = r[0][\"metadata\"][\"read_id\"]\n",
    "        reference_fasta = fa[read_id]\n",
    "        print(reference_fasta)\n",
    "        print()\n",
    "        aligner = mp.Aligner(seq=str(reference_fasta), preset=\"sr\")\n",
    "        read_number = r[0][\"metadata\"][\"read_id\"].rsplit(\"_\", 3)[-3]\n",
    "        sequence = r[0][\"datasets\"].get(\"sequence\", \"\")\n",
    "        query_len = len(sequence)\n",
    "        print(sequence)\n",
    "        als = aligner.map(sequence)\n",
    "        for al in als:\n",
    "            print(al.cigar_str)\n",
    "            print(calculate_identity(al.cigar_str, al.ctg_len))\n",
    "            print(\n",
    "                f\"read_id: {r[0]['metadata']['read_id']} \\n\\tmap_start {al.r_st}, map end {al.r_en}\\n\\t{len(reference_fasta)}\"\n",
    "            )\n",
    "            r9_identities.append(\n",
    "                (al.ctg_len, calculate_identity(al.cigar_str, al.ctg_len))\n",
    "            )"
   ]
  },
  {
   "cell_type": "markdown",
   "id": "311639dd-3e80-4c01-af6d-1a8cac845623",
   "metadata": {},
   "source": [
    "## BAsecall R10"
   ]
  },
  {
   "cell_type": "code",
   "execution_count": 14,
   "id": "f8a344d7-d0fa-4f7c-8518-67348aa9afbc",
   "metadata": {
    "collapsed": true,
    "jupyter": {
     "outputs_hidden": true,
     "source_hidden": true
    },
    "scrolled": true
   },
   "outputs": [
    {
     "name": "stdout",
     "output_type": "stream",
     "text": [
      "aaaatatttacagtaacTATGGAACACAAAGGTTTATTACATCCATAATT\n",
      "\n",
      "CCCAGTAACTATGGAACACAAAGGTTTGCTACATCCATAA\n",
      "TTGGCACAGAGGCAGCAGAGCAGGGAGGTGAAGAGAGTGGGCTCTGGACCCAGCCTCAGTCCACATCCCGGTTCTGTCCTTTGATGGCCGTGTGAGGATA\n",
      "\n",
      "GAGCAGCGGAGCGGGAGGTGAAGAGAGTCGGCTCTGGACCCAGCCTCGTCCACATCCCGGTTCTGTCCTTGATGGCCGTGTCAAG\n",
      "10M1D35M1D21M1D13M\n",
      "0.79\n",
      "read_id: test_read_2_596853_596953 \n",
      "\tmap_start 11, map end 93\n",
      "\t100\n",
      "AGCTTATTACCTGCTTCCTAAATTTGCCTTTCTCCATCACTGCAATGGCAGCTCCATTCTCCCTGATGCTTAGGCCCCAGGAGCTGTCAACCCTGTCCCCCACATCCAACTCATCTGCAGGTCCTGTCAGCCTTGCCTTCCAGGTGGCCC\n",
      "\n",
      "TACCTGCTTCCTCATGCCTTTCTCCATCACTGCAATCACGACTCCATTCTCCCTGATGCTTAGGCCCCAGGAGCTGTCAACCCTGTCCCCACATCCAACTCATCTCCGTCCTGTAGCCTTGCCTTCCAGGTCGCT\n",
      "14M3D72M1D21M2D7M1D17M\n",
      "0.8733333333333333\n",
      "read_id: test_read_3_888598_888748 \n",
      "\tmap_start 7, map end 145\n",
      "\t150\n",
      "GAAGTTGCGCAAACTCAGCTTGCCGGAGCCCCAGGTGGGCCGGGCCGGAGGAGCGCAGGCCAGCGGCGCGGGCGCAGCCGGGTACGTGCGGACCGCGGCGGGGGGCGCCCAGCCGGGGTAGGGGGCGGCCCGAGCACCCCTCCACCCCAGGACGGCGGGAACGGGGCAGGGATCTACCTTTCGGCTTCAAGAGGACCGCG\n",
      "\n",
      "GCAAACTCAGCTTGCCGAACCCCGGTGGCCGGGCCGAGGCGCCGGCCGACGACGCCGGCGCAGCCGGGTACGTGCGAACCGCGACAAGTCCTCGCCGTCCCAGCATCGACACCCCTCCACCCCGGCAACCCAACGCCGTGTGCCTGTCCGCTTCAAGAGGACCCG\n",
      "tgagaattgaacagaaaattttatattcgagtgctatttattttgaggcacagaaactttatatataacaatataaacCCGAGACCTTGGCgggcacacacacaagcagctgAATGTCAAGAGGAGTGGAGGAACGGAGTGGCAGAGAATGGCAGAGAGCGCTGGAGAGTGGCAGAGCAGcatggcagagagggagggaagaggcgTCTGAACTTTGGAAGACACCTCCACTCCTCAATAAAGTCTCCGC\n",
      "\n",
      "TGAACCGAAAATTTTATCTGAGTGCTACTCTTTCGCAGCACGGAAACTTTATATAACAATATAAACCCGAGACCTTGGCACGCGCACAAGCAGCTGAATGTCAAGAGGAGTCAAGACGGAGTGGCGAGAATGGCAGAGCGCTCGAGAGTGGCAGAGCAGCATGGCGGAGGAGGAGGAAGAGGCGTCTGAAGTTCGAAGCACCTCCCACTCCTCAATAAAGTCTCT\n",
      "19M2D8M1D22M2D27M4D39M2D10M1D9M2D40M1D16M1D8M1D5M1I20M\n",
      "0.8884462151394422\n",
      "read_id: test_read_5_800875_801125 \n",
      "\tmap_start 7, map end 247\n",
      "\t250\n",
      "ggcTACAAACGATGGGAGGCGGAgaggggtgagggttgaaaaattacctattgggtgcAACATTCACTATCCGGGTAATGGGGCACTAGAAGCCCACtccaccactatgcaatatatgtatttgtaccccgtaaatctataaaaataaaaactacattaaaaataataataatgtctggTCATCTAAATAGTACCTCTACAGCTTATTAAGTGCTCTGGAGACGTCCCAGTTGCCTGTCCTTCCCATTAAAGGTGATATCCAGTGCTGATTTCCCCTTCAACCTCGGGTTCCCATAAACC\n",
      "\n",
      "AACAATCGGAGAAGCGAGGGGTAAGAGTTAAAAATACCTGCTCAGATCATTCACTATCCGGGTCATGGGGCGCTCGAAGCCCGCTCCCACCACTATGCAATATATTTTGCTTTGTACCCCGTAAATATTCTCAAAAATAAAAACTAGTTAAAAAATAATAATCATGTCTCGTCATGTAATCATACCTCTACAGCTTATTAAGTGCTCTGGAGTCCAGTTGCCTGTCCTTTCCATTAAAGGTGATATCCCATGCTCATTTCCCCTTTCAACCTCGGTTTGCCGTCA\n",
      "38M1I21M2I16M3I3M1D46M1D34M3D2M1D50M1I11M\n",
      "0.7198697068403909\n",
      "read_id: test_read_6_267459_267759 \n",
      "\tmap_start 60, map end 287\n",
      "\t300\n",
      "GAACATTTGAATAGAAATTTCCCAAatgaacacaaacacaaaaaagtaaagaaaaattgaatACAACATCAGAGAGATGTGAGATATTATCAAATAATTCAACATGGATTTAATTGGCTCccaagaagaagggaaggagagaatgaagcagaagaaataagAGCTAATAGCCTCCTACATAGCAAAATTGATCCAAGAACTTCAGCAAGGTCTAATTAGgacaaattcaaagaaaatttctAGACATAGTGgatttcaaactgctgaaaatcaaAGACAGAGAACAAATCTTAAAAGTAGCCAGAGAAAAAGGACATGTTATCTAGGAAGGAACAATGACACAAATGATG\n",
      "\n",
      "TGAATCAAAGATACCCAAATGAACACAAACACAAAAAAGTAAAAAGAAGTTCGATACGAACATCAGAGATGTGAGATGCTATTCGAATAATTCAACATGGATTTCATTTGGCTCCCAAGAAGAAGGAAAGAGAGAATGAAGCAGAAGAAATCAAGAGCTCATCAGCCTCCTACATAGCAAAATTGATCCAAGAGTTTCAGCAAGGTCTAATTCAAGACGAATTCAAAAAGAAAATTTCTCGTTAGTCATCAATTTCAAACTGCTCGAAAATCAAAGACAGAGAACAAATACTTAAAAGTAGCCAGAGAAAAAGGACATGCTCTGTAGGAAGGAACAATGACACAAAATGATT\n",
      "44M1I6M2D17M1I22M1I19M1D27M1I10M1I49M1I11M2I12M4I7M1I1M4D13M1I24M1I53M1I7M\n",
      "0.8797814207650273\n",
      "read_id: test_read_7_123646_123996 \n",
      "\tmap_start 20, map end 349\n",
      "\t350\n",
      "ccaggagttggaggccagcctgggcaaaacagcaagaccttgtctcaaacaaaaacaaaaaactaaagacAAGCAAGTACAGAAAAAGGCAGATTATATTCAAAGAGCAACATTAGAACAGCTGATTTTTCAAAACCAACAATGAAGCCAAGTAGTTTAATACCTGCAGtgtgctgaaaaaaataaatagccgCCAAATTAAAATTCTGTTATCAAGCAaatgtctctaaagaaaaaagaaaaataatcccattttGGAAGGTCtgagttgaaagaaaaaataaagagcaaaaaagaggaaaatttacaGACAGCTCCAAACAAACACTGATTATACAAAAGAATAACAATACCTTGAGGAGCTTTAAAACATAGAatacataacaataaaaacacagtG\n",
      "\n",
      "TTCGAGGCCAGCCTGGGCGACAGAGCAAGACCTTGTCTCAAACAAAAACAAAAAACTAAAGACAAGCAAGTACAGAAAAAGGCAGTTATGCTCAAAGAGCAACGTCAACAGCTCATTTTTCAAAACCAACGAGATCGACCAAGTAGTTTAATCCTGCAGTGTGCTGAAAAAAATAAATAGCCGCCAAATTAAAATTATGCCTATCAAGCGAAATGTCTCTAAAGAAAAAAGAAAAATAATCCCATTTTCAAAATTTTCAGTTGAAAGAAAAAATAAAAAAGCAAAAAAGAGGAAAATTTACAGACAGCTCCAAACAAACACTGATATACAAAAGAATAACAATACCTTGAGGAGCTTTAAAACATAGAATACATAACAATAAAAACACGG\n",
      "82M1D20M2D25M1I1M1I2M1I2M2D14M1D47M1I9M1I64M1I49M1D64M\n",
      "0.9334975369458128\n",
      "read_id: test_read_8_519501_519901 \n",
      "\tmap_start 10, map end 396\n",
      "\t400\n",
      "TAACTACTGAAACCGCAGTCCGCACAGCAGAGAGAGGATGGACTCACCACACCCAAGTCAAGAAAGCACCGCCCCCTCCAGAGTCGTGGGccatagtcccaggggaaaaccctacTAAACTAAAGCTAAGAAGAATTTAACTCcctttcatctattctattactcttttttctttcctcactctATTGCTGACCATatagttattaacataaccaagtcaatttcaCCTCAACTATTGCATTtgatgcttgccttgttataTCCTGTGGGGATTTGTCAAGCCAAAGAAAGCTCTCTACTTCAGATACCTCTGTCCCTCCTGGCTCTCCTCAGACTAGGCATTAGTGAATCGGGACCATTTAATCTGGGGAGATTTCTATAAAGATCCCAGTGGCAACCAGGAGTCTTCCCCCAGTGATGTAGAGCTTTTAAGCCATAGTTGGTCCAAAG\n",
      "\n",
      "TGAAACCGCAGTCCGCACAGCAAGATGAGCTCACCACACCCAAGTCAAGAAGCACCGCCCCCTCCAGAGTCGTGGCCATAGTCCCAGGGGAAACCCTACTAAACTAAAGCTAAGAAGATTTAACTCCCTTCATCTTGCTTCTACTCTACTTTTCTTCCTCACTCTCTGCTCACCCATATAGTTACTAACATAACCAAGATCAATTTCACCTCAACTACTGCATTTGATGCTTGCCTTGCTTATATCCTGTCAGATCTCAAGCCAAAGAAAGCTCTCTTACTTCAGATACCTATCTGCCTCCTCAGCTATCCTCAGACTAGGCATTAGTGAATAGGAACCATCTAATCTCAAGTTTCTATAAAGATCCCAGATCACATTACAGAAGTCTCTCCCCAGTGATGTAGACTTAAGCCAGTAGTTCATCCAAT\n",
      "22M3D6M2D1M1D20M1D24M1D17M1D27M1D11M1D7M1D12M1I6M1D11M1D7M1I25M1I39M1I11M1D4M2D22M1I25M1I45M2D4M1D18M1I5M2I1M1D26M1D1M2D8M1I12M\n",
      "0.9065217391304348\n",
      "read_id: test_read_9_797926_798376 \n",
      "\tmap_start 7, map end 448\n",
      "\t450\n",
      "actaattcatgggctttttgtaatttctctctctttaaagGCTACTGTTTTACCCAAATAGGATTTTGAGAGAGCCATGTCAGGGGTAGGGGAGGAATAACAGTGGCCATTATTAGAAAGGTTTGCTGTTCACACAATTTATCAAATTCTGCCCTCCAGAGGAGGTACTGACTGGCCTTTAAAGTTGTTTTAGCTAGCACTGACCAGTCCCATGGGGTGATATGGAAGTTGTCTGCTATGGTTTCAATTATTCCTTTTGTAAATGGGCTAGTGGCTCCGTTTAATGCTTTTTCTTACCACTTTATAAGCGTCAAAAGAAGTTGTCTGCTATGGCTTCAATTATTCCTTTCATAAATGGGCTAGCAGCTCCATTTTCTTTAAcgtttttttcttatctctttataAGCGTCAAAAGAAATGGGTTCATATACCTGATCGCCTTGTCGATCTTGCATTACTGGGCAGGCTAAGAGCTCCCCTTCTGATGCCGCTTGGCTAAG\n",
      "\n",
      "ATTGGGCTTTTTGTAATTTATTCTCTGCTTAAAGGCTTGCTTTACCCAAATCAGATTTGAGAGAGCCATGTCAGGGGTGGGCCGGCCATCACAGTCGCCCATGCTAGAAAGGTTTGCTGTTTTCACACAATTTATCAAATTCTGCCCTCCAGAGAGGTGCTCACTGGCCTTTAAAGTTGCTTAGCTCACACTGACCAGTCCCATCGGGGTCATATGGAAGTTGTTGTTGCTATGGTTTCAATTATTCCTTTTGTAAATGGGCTCGTGGCTCCGTTTAATGCTTTTTCTACCACTTATAAGCGTCAAAAGAATTCTGTGCTATCAGCTTTTCAATTATTCCTTTCATAATGGGCTAGCAGCTCCATTTTCTTTAACGTTTTTTTTCTATCTACTTATAAGCGTCAAAAGAAATGGGTTCATATACCTGATCGCCTTGTCAATACTGCGTTGCTACCGGGCAGGCTCCGAGCTACCCCTTCTTGATGCCGCTTCACTC\n",
      "19M1D5M2I9M2D18M1D23M1D7M1I33M2I32M1D26M1D25M1I19M2I61M1D6M1D18M1D11M1I3M2I18M1D102M3I20M1I7M1I11M\n",
      "0.9166666666666666\n",
      "read_id: test_read_10_471325_471825 \n",
      "\tmap_start 9, map end 493\n",
      "\t500\n",
      "AGTCATCACAGCTTGTCACCTTAAAAAACTGAAATGCTAAAGCATGTGGCCATTACAGCTCTCATGTAAAAGCATTTGCAGACAACAGGGCCCTTATGACATCCAATAAACAGAAACAGCATTTTCTGTATATCTCGTCCACTTAACTGTGCACATTTAATTCTCACGAATACCTAGTCGCCTGCAGGGCTATTATTACCCACACTGTACACGtaagaaaaagaaggcaaatgGAGAGAAAGTAGTTTCTCAGGAAACCAGTTACTCAATAAATAAGGCGAGAAGCCACGTTTCCGGGCTTAGAAGATGAACATTTTGCCCACTTTACTCATGTTTCCTTCTTGGGAATATTCTTAGGAATATAAATAATGGTTCAAACATGTTGACTTGTAAATTCGtacattcattcaccaaatatttctcAACTGCCGAATAGGTACTAGGGCCTGTGACAACACAAGGGATAAAGTGTTGAAGATGGGCAATTAGCTACATCATGTAGATAAATAACACTTGTCAGCCTATCACTTTACCTTTCTGTGCTCATGAT\n",
      "\n",
      "ACAGCTTGTCACCTTAAAAAACTGAAATGCTTCAAAGCATGTGGCCATTACAGCTCTCATGTAAAAGCATTTGCAGAGCGACAAGTTATTATGACATCCAATAAACGGAAACAGCATTTTCTGTATATCTCGTCCACTTAACTGTGCACATTTAATTCTCCGCGAATCCTTACAGTCGCCTGCAGGGCTGCTCCTTACCCACACTGTACACGTAAGAAAAAGACGAAGTGGAAAAGTCGTTTCTCAGGAAACCGGTTTTTTCAATAAAATAAGGCGGAGAAGCGCGCGTTTTTCCGGGCTTAGAAGATGAACATTTTGCCCACTTTACTCATGTTTCCTTACTCAAATGTTTCAGAATAAATAATCGTTCAACATCTAACTTGTCATTAGTACATTCATTCACCAAATACTTCTCAACTGCCGAATAGGTACTCAGCCCTGTGACGACGCAAAGAGATAAAGTGCTCGAAGATGGGCAATTAGCTACATAATGTAGATAAAATAACACTTCTCACCCTATCACTTTACCCTTCTGTGCTCATC\n",
      "31M2I44M1I5M1D76M1I7M1D3M3I16M1I35M2D7M3D23M1I9M1I9M1I7M1I4M2I50M1I2M2D8M1D4M2D1M1D14M1D5M1D9M1D66M1I13M1I33M1I43M\n",
      "0.9225352112676056\n",
      "read_id: test_read_11_495185_495735 \n",
      "\tmap_start 7, map end 547\n",
      "\t550\n",
      "caattgaatgaataaactaatGAGTGAAAAACCTTCTTGCGACCCGCAGTCACCTTGGTCCCCTTTGACCAGAGCCAGGTTGACGTGTCAACCGTCAAGATATCCCTCTGTTTTGGGTGATAATTAGATTTCTATCTTGACTGTTACAGACATTGGTATTCCTCcattaaaatgtctttctttcagGCCAggtccggtggctcacgcctgtaatcccaacactctggggggccgaggcgggtggatcacctgagttcaggagttcgagaccagactggccaacatggtgaaaccctgtctctactaaaaatacaaaaatcagctgggcatgatggggcgtgcctgtgatcccagctactcaggaggctgaggcatgagaatcgcttgaacctgggaggaggaggttgcagtgagccaagactgcgccactgcactccagcctaggtgatggagtgagactctgtcttaaaaaaaaaaaaaaaagaaagaaagaaaagaaaaaaagtctttctttCAAAGTTGGAGACATCCCTAAACATTCTAACTCCTGTCCCTGACAAGGTCCCATCTTAAGCAGGTCTCTGAAACCTCTGGAAGAAG\n",
      "\n",
      "ATAAATAAACTAATCAGTGAAAAACCTTCTCCGTACCCGCAGTCACCTTCGTCCCTTGACCAGACCAGGTTGACGTGTGACCGTTCATATCCCTCTGCTTTGGGTGATCATACAATTTTCTATCTTAACTGTTTACAGACATTGGTACTCCTCCATTCGAAATATTTACTTACTCACCCAGTCCGGTGGCTCACGCCTGTAATCCCAACACTCTGGGAGGCCGAGGCGGGTGGATCACCTGAGTTCAGGAGTTCGAGACCAGACTGGCCAACATGGTGAAACCCTGTCTCTACTAAAAATACAAAAATCAGCTGGGCATGATGGGGCGTGCCTGTGATCCCAGCTACTCAGGAGGCTGAGGCATGAGAATCGCTTGAACCTGGGAGGAGGAGGTTGCAGTGAGCCAAGACTGCGCCACTGCACTCCAGCCTAGGTGATGGAGTGAGACTCTGTCTTAAAAAAAAGAAAGAAAGAAAAGAAAAAATTACTTTACTTCAAAGTTGGAGACATCCCTAAACATTCTTCTAACTCCTGTCCCTGACAAGGTCCCATCTACGACGAGTCTCTGAAACCTCTCAA\n",
      "26M1D4M1I21M2D9M1D14M1D5M1I2M3D24M1D4M2I15M1I25M1I7M1D6M2I3M1D4M1D276M8D63M3I31M1D4M1I18M\n",
      "0.9166666666666666\n",
      "read_id: test_read_12_683244_683844 \n",
      "\tmap_start 10, map end 592\n",
      "\t600\n",
      "ATCCTGGCTCCAGCACTCAATAGCTGTTTGACCCTTGGCAAGTTTCTTAACCACTCTATGCCTCagattcttcatctgtgaaatgggggacAATGATAGTACCTAACTTATGAGAACTAAATGACTTATTTTGTATAAAGCAATTAGAACAAGCAGCGCCTGGCATAATAAGCCCACAATAAAAGTTActcccggctgggcacggtggctcacgcctgtaatcccagcactttgggaggccgaggtgggcagatcacaaggtcaggagttcaagaccaacctgaccaacatggtgaaaccccgtctctactaaaaatacaaaaatttttagtagagacggggcgtggtggtgcgtgcctgtagtcccagctactcgggaggctgaggcaggagaattgcttgaacccgggaggtggacgttgcagtgagccaagatcccgccactgcactcagcctgggcaagagagcgagactccgtctcgaaaaaaaaaaaaatggtgctccCACATTTCTTTCTTGGGATGGAGGAAGCTTTCCCAGAAGCGCTCCTGACCGACTTTCCCACACATCTCACTGGTCAGAACTGCATCACTTGCCGTTTCTGACCAATCACCAGCTTACATTCATGGGGCACGTGCTTACACTAACCA\n",
      "\n",
      "CTCCAGCACTCAATAGCTGCTTGACCCTTGGCAAGTTTCTTAACCACTCTATGCCTCAGATTACTTCATCTGTGAAATCGAGTAATGATAGTACCTAACTTATGAGAACTAAATGACTTACTTGTATAAAGCAATTAGAACAAGCAGCACCTCATAGTAATAACCCACAATAAAAGTTACTCCCGGCTGGGCACGGTGGCTCACGCCTGTAATCCCAGCACTTTGGGAGGCCGAGGTGGGCAGATCACAAGGTCAGGAGTTCAAGACCAACCTGACCAACATGGTGAAACCCCGTCTCTACTAAAAATACAAAAATTTTCGTAGAGACGGGGCGTGGTGGTGCGTGCCTGTAGTCCCAGCTACTCGGGAGGCTGAGGCAGGAGAATTGCTTGAACCCGGGAGGTGGACGTTGCAGTGAGCCAAGATCCGCCACTGCACTCCAGCCTGGGCAAGAGAGAGCGAGACTCCGTCTCAAAAAATGGTGCTCCCCACATTTACTTACTCAGATGAGGAAAACTGCCGGAAGCGCTCCCTGACCGACTTTCCCCACACATCTCACTGGTCAGAGAAGTGCGTCGCTTGCCGTTTATGACCAATCACCACTTACATTCATGGGGCACGTGCTTACACTCCGAC\n",
      "62M1I19M2D38M1D32M2D2M3I6M1D152M1D111M1D13M1I11M2I20M8D13M1I9M1I5M1D6M1D4M1I4M2D13M1I13M1I19M2I36M1D29M\n",
      "0.9292168674698795\n",
      "read_id: test_read_13_398055_398705 \n",
      "\tmap_start 7, map end 645\n",
      "\t650\n",
      "agggaagccagctgccatgtcctGAGGTTACTCAAGAAGCCCTGTGGAGTAGGCCATTTGGGGAGGGACTGAGGCCCCCAGGCAACATCTGTCCCAACTTGCCAGTCATGTTAGTGAACTACCCTTGTCCAGCCTTCAGATGACACCTCATGAGAGGCCCTGAGAGAGTCTTATTGTCCCGTTCACCATTCCTGTTGCCCTGTGGCCAGCTAATCAGCTTGTggtggttttcatttcttttttctttttgccattaaTAGCAatgccaggctgggctcagtggctcatgcctgtaatcccagcactttgggaggccgaggtgggtggatcacctgaggtcagaagtttgagacaagcctggctaacatggtgaaaccctgtctctattaaaaatacaaaaattagccaggtgtgatggtgtgcgcctgtaatcctagctacttctCCCAAGTAGAAGGGCGTGATTCTTCTCATGCCtcatgctgaggcatgagaatcacttgaacccgggaggctgaggctgcagtgagcggtgtttgtgccactgcacttcagcctgggcgacagagtgagactatctcaaaaaaaaaaaaaaaagtagcaatgCCATAGTAAGTATTCTTCTAATTAAGCCCTTCTGAATCAGCTTAATTATTTGCTTAGGGTCAATTTCTAAATGCACAGTTGCTGGATCAGAGTA\n",
      "\n",
      "CACTGCCCATGTCCTCGTTACTCAAGAAGCCCTGGAGTAGGCCATTCGGCCACTGAGGCCCCCAGGCAACGTATCTCCCAACTTGCCAGTCATGCTCATGAACTCCCTTCCAGCCTTCAGATGACGCCTCATCAGAGGCCCTCAAGAGTCTCTCTCCCCGTTCACCATTACCTGTGCCCTGTCGCCCACTTCATGGGCTTCTGGTGGTTTTCATTTACTTTTCTTTGCCATTAATCACGATGCCACTTAGGCTCAGTGGCTCATGCCTGTAATCCCAGCACTTTGGGAGGCCGAGGTGGGTGGATCACCTGAGGTCAGAAGTTTGAGACAAGCCTGGCTAACATGGTGAAACCCTGTCTCTACTAAAAATACAAAAATTAGCCAGGTGTGATGGTGTGCGCCTGTAATCCTAGCTACTTACTCCCAAGTAGAAGGGCGTGATTCTTCTCATGCCTCATGCTCAGCATGAGAATCACTTGAACCCGGGAGGCTGAGGCTGCAGTGAGCGGTGTTTGTGCCACTGCACTTCAGCCTGGGCGACAGAGTGAGACTATCTCAAAAAAAAAAATTAGCAATGCCATCAGTCATTGCTACTTTCTAATTAACCCTTGTTGAATCAGCTTAATTTACTTTGCTTACGGTCATTTCTAAATGCACAGTTGCTCAATCAAGT\n",
      "9M2D17M2D16M4D56M1D4M2D36M1D7M1I3M2D14M1I4M1D16M2D3M3I20M1I1M2D5M2D22M2D1M1I172M1I43M1D94M5D24M1I5M2I1M1I4M1D10M1D5M1I14M1I3M1I13M1D21M\n",
      "0.8993006993006993\n",
      "read_id: test_read_14_827036_827736 \n",
      "\tmap_start 14, map end 689\n",
      "\t700\n",
      "TGAAAAATGCATAAGAGTCTTTCAAcggcagaattgatcaagcagaaggaaCTGGTGAGAACTGGCTATCCAAATATACACGAagccaaaaaaagaattaaaaaagaataaagtatgcctacaaaatgtagaaaatagtctcaaaagggTAAATCCAAGAGTTATTGGTCTTAAAGAGGATgtagagggagagaaaagggtaAATAGAGAgatcttttcctcagcacatggaacattttgaGAGATCAGGGTAGAAAggtcagagaaataaaaacaaacaaccttccAAACCTCAAGAAAGATATAAACATCCAGGTACAAAAAGGTCAAAAAACACCAAGcagattcaacccaaataagactacctcaaggcttataataatcaaactttcaaagatcaaagataaagaaaggatcctaaaagcaccaagagaaaagaggcaaataacatataaaggaacTCCAATACATCTAGCAGCAGACTTTTCAACAGcaactttacaggccaggagggAGTGGGAAAACATATGaaaactgctgaaggaaaaccAACCTTCAACCTAGAATATTATCTCCAGCAAAATTATCCTctaaacatgaaggaaaaatagtctcccagacaaacaaaagctgaggaatttcatcaataccagatctgtcttacaagaaatgcccATGGGAGTTCTCCAACCTGAAATAAAAGGACATTAACTAACAACAAGAAATCGTCTGAAGGTATAAACTCACTGG\n",
      "\n",
      "TCCATTAAGAGTCTCAACGGCGGATCGTCGAGCAAAGGAGCTCATTCGAGCTCGGCTATCCAAATATACACAAAGCCAAAAAAAATAAAAAAAATCGAGTTCTGCCTACAAAATGTCAGAATAAGTCTCAAAAAGGGTAAATCAAGAGTTACTCGTACTAAAGAGATGAGGGAGAGAAAAGGGTCATCGAGAGAGATCTACTTTTCCTCAGCGCATGGAACATTTTGAGAAATCAGGTCAGGTTCAAGAGAAATCAAAAACAAACAAACCTCCAAACCTCAAGAAAGATATAAACATCCAGTACGAAAAAGGTACAAAAAAACGCCAAGAACGAGATTCAACCCAAATCGTTGCCTCAAGGCTTATAATAATCAAACTTTACGAAAGATCAAAGATAAAGAAAGGATCCTAAAGCACCAGAAAAGACGAGAATGACGTACTAAAGGAACTCCAATACATCTAGCAGCAGACTTTCAACAGCGACCGGCCAAGGAGGGAGTCGGAAGCGTACTCGAACCTAGAAGGAAAACCAACCTTCAACCTAAATCTTGCTCTCTCCAGCAAAATTATCCTCTAAACATGAAGGAAAAATCATCCCAGACAAACAAAAGCTCAAGAAGTTCATTCGATACCAGATATCTCTACAAGAAATGCCCATCGAAGTCTCCAACCTGAAATAAAAGGACATTAACTAACAACAAGAAATAGTTCTTGAAGGTATAAACTCGCCTT\n",
      "8M2D8M1D6M1D7M1D18M1I30M2D2M1D7M1D7M1I16M1I6M1D6M1I12M1D22M1D3M3D17M1D3M2I8M3I41M3D4M1I8M1I45M1D4M1I8M1I1M1I13M2I1M1I15M1D2M1D30M1I1M1I27M1D8M3D21M1I31M1D13M4D1M1D4M1I13M1D7M1I8M2D25M1D5M3I40M1I1M3D30M1I17M1D21M1D45M1I2M1I15M\n",
      "0.889602053915276\n",
      "read_id: test_read_15_220153_220903 \n",
      "\tmap_start 11, map end 745\n",
      "\t750\n",
      "aaatgtcttcttttgagaagtgtctgttcatatcctttgcccactttttgatgttttttttttcttgtaaatttaagttcttgtagattctggatattagacctttgttagctgggtagattgcaaagcgttcctcccattctgtaggctgcatgttcaccctgatgatagttttttttgctgtgcagaagctctttcatttaattagatcccatttgacaattttggcttttgttgcaattgcttttggtattttcttcatgaagtctttgcccatgcctatgtcctaaatggtattgcctaggttttcttctagggtttttatggttttgggtattacatttaagtctttaatccatcttgagttaatttttgtataaggtgtaaagaaggggtcccgattcagttttctccatatggctagccagttttctcagcaccatttattaaatatggatcaaattcacacataacactattaaccttaaatgtaaatgggctaaatgccccaattaaaagacacagactggcaaattggatagagtcaagacccattggtgtgctgtattcaggagacccatcacacatgcaaagacacacataggctcaaaataaagggatggaggaaaatttaccaagcagatagaaagaacaaaatagcaggggttgcaatcccagtctctgacaaaacagactttaaaccaacaaagatcaaaaaagacaagagcattacataacggtaaagtgatcaattcaacaactagagctaactatcctaatatatatgcacccaatacagg\n",
      "\n",
      "TACTTTTGCGAAGTGTCTGCTTCATATCCTTGCCCACTTTTGCGATATTTTCTCTGCAATTTTAATTTACTATCATCTCGATATCATTCTTTGCTCCTCGGTAGTTACCAAAAGCGTTCCTCCATTCTGTAGGCTCGTGTTCACCCTGATGATCATTTTTTGCTGTGCAGGAAGCTCTTTCATTTAATTAGATCCCATTTGACAATTTTGGCTTTTGTTGCAATTGCTTTTCATATTTCTCATGAAGTCTTTGCCCATGCCTATGTCCTAAATGGTACTGCCTACAGTTTTGCTTCTCAGGGTTTCTGGTTTTGGGTCTGCATTTAAGTCTTTAATCCATCTTGAGTTAATTTTTGTATAAGGTGTAGAAGAAGGGTCCCGATTCAGTTTTCTCCATATGGCTAGCCAGTTTTTTCTCAGCACCATTTTACTAAATATCGATCAAATTCACACATAACACTACTAACCTTAAATGTAAATCGGCTAAATACCAAATTAAAAGACACAGACTGGCAAATTCAATAGTCAAGACCCATTTGGTGTGCTGTGCTCAGGAGACCCATCACACATCCCGAAGAAGCACACATCAGCTCAAAATAAAGGGATGGAGAGTACCCAAGCAGATCAAAAAACAAAATAGCAGGGTGCGATCCCAGTCTCTCGCAAAACAGACTTTTAAACCAACAAAGATCAAAAAAGACAAGAAGCATTACATAACGGTAAAGTGATCAATTCAACAACTCAAGCTAACTATCCTAATATATATGCACCCAATCA\n",
      "17M1I9M1D12M1I3M6D8M1I14M1I2M5D2M2I11M1D9M1D9M1D4M2I11M1D14M1D18M1I1M3D14M1I65M1D4M1D45M1I6M1I5M1I4M2D15M1D50M1I5M1D36M2I14M1I63M1D34M2D12M1I34M1I7M2I30M4D15M1D20M2D28M1I30M1I70M\n",
      "0.9113001215066828\n",
      "read_id: test_read_16_98418_99218 \n",
      "\tmap_start 9, map end 795\n",
      "\t800\n",
      "aacctcatataagtggaatcagacaatatttgtcctttgttttgtttatttaatttagcataatgtcttcaaggctgatccatgttgtagcatgtgttagaattccaatccttttaaaggctgaatgatattgcactgtgtatatatatacacacacacacacacacacacacacaccacattttgcttatccatttatctgctgatggacacttgagttgcttccacagcttggctattgtaaataatgctgctatgaacataggtgTACAAACATCTGTTTGAGACCTCGCTTTCAAATCTTTtatgtatatatccagaagtggaactgctgaACCATGTAGTAATTctatgttaattttttgaagaaccagcATATTGTTTCaacaagctgggcacggtggctcactcctatacaGCAACTGTATCATTTTACACTCCCAGGAACAGTGCAAAGGCTACAACTTCTCTACATCCttactaacacttgttattttctgttttttgcttgtttttatagagacaggggtcttgcttatgcccaggctggtcttgagctcctggcctcaagggatcctcccacctcggcctcccaaagtgctctcaAAATagactgtgcctggcctattttttggttttcttttcttcttcttcttttttttttttcagtaacagCCCTCCTAATGAGTATGAAGTTGTATCTCATtgactgtgattttaatttgcatttccctaatgattaatgatgttgagcatctttttacatgcttattggccatttgtatatttgttttggaGAATGTCTATTCAAAGCTGTTGTCCattttttgattgggttgttttgtttgtt\n",
      "\n",
      "GTCATTGGAATCAGACAATACTCTCCTTTGCTTTGCTTATTTAATTTAGCATAATGTCTCAAGGCTCATCCCATGCTCTCATCTGCTCATTCCAATCCTTTTTAAAGGCTCAAATGATGCTCCGCTGTCTATATATATACACACACACACACACACACACACACACCACATTTTGCTTATCCATTTATCTGCTGATGGACACTTACGAGTTGCTTACCACAGCTTCACTCTGTCAATAAATGTCTGCTATGAACATCAGTATTTCAACATATACTTTGAGACCTCGCTTTCAAATCTTATGTATGTCCCAGAAGTGAACTGCTAAAAGTTCATGTCATAATTCTATGCTAATTTTTTGAACCAACGTGCCTGCTTTTCAACAAGCTGGGCACGGTGGCTCACTCCTCTGCACAACTGTATCATTTTACACTCCCAGGGAACAGTCGCAAAGGCTACAACTTCTCTTTACATCCTTCTTAACACTTGCTATTTATACTTTTGCTTGTTTGTCGAGACAGGATCTCGCTATGCCCAGGCTGGTCTCGAGCTCCTGGCCTCAAGGGATCCTCCCACCTCGGCCTCCCAAAGTGCTCTAGAATCAACTGTGCCTGGCCTATTTTCGTTTTGCTTTCTTCTTCTTCTTTTCAGTAACAGCCCTCCTAATCAGTATCAAAGTATCTCATTGACTGTGATTTTAATTTGCATTTCCCTAATGATTAATGATGTTGAGCATACTTTTTACATGCTTCTGGCCATTTGTATACTACTTTGGAGAATGTCTCTCAAACTTTCTGTCCATTTTTTGATTGGGTTGTTTTGCTTTG\n",
      "15M1D38M1D11M1I9M2D8M2D11M1I11M1I93M2I9M1I13M1D8M1I4M1I29M1I23M2D10M1D9M1D11M3I31M1I13M1D37M1D24M1I8M1I19M2I26M1I1M1I1M4D9M2D12M1D9M1D68M1D22M2D25M8D32M2D60M1I14M1D15M1D18M1D6M1D4M1I27M1I4M\n",
      "0.9139908256880734\n",
      "read_id: test_read_17_511554_512404 \n",
      "\tmap_start 13, map end 848\n",
      "\t850\n",
      "ATTCAGAACATAGCACTTTCCCATTAGATTGTGAGGATAAGGACTATATCTAAGCCATTCACTTCTATATCCCTGTTGCCCACTATATACctagcatacagtaggtgcttaataaatgtttgaaaaatgggTGAATGAAATATTGTACTTTCTAATTCAAGcattttctgagcacctactgtgcacCAGGGCCTGTGCTATGGGCTGTATATACAGAAATACATCAGTGAGAGTCCTCAGCCCTAAGGCCATTGgtctgaagaaaaaagagaaattgcaaCAAGTGCCATAGCAAACACAGCTGGGAAATTCACTGATGTAGTTTGGAGGTGTGTCTCTGCTCAAATcatatattgaaatgtaatctgcagtgttggaggtagggcctggtgggaggtgattggataatggaggaggatttctttttttatatctatcaggaatgcaaaattaatttaataatcgAAAATTACTATAATTCACAGACTAAGACAAGAAAAGCCATACGATTCTCTCACCAGTTGCAGAAAAAGCATATGATagaattaaacatctttttatgattttttaaaattatactttaaattctgggatacatgtgcagaatgtgtaggtttgttacataggtatacatgtgccatgttggtttgctgcacccatcaacttgtcatttacattaggtatttctcctaatgctatccctcccccagccccccaccccctgacaggccccagtgtgtaatgttcccctccctgtgtccatgtgttctcattgttcaactcccacttatgagtgagaacatgtggtgtttggttttctgtccttgtgatagtttgctgagaatggtggtttccagcttcatccatgtccctgcaaaggacttgaactcatcccttttt\n",
      "\n",
      "ACATAGCACTTTCCCATTAGATCTGGCATAAGGACTATATCTAAGACCATTCACTTCTATATCCCTGCTCCCCACTATATACCTAGCATACAGTAGGTGCTTAATAAATGCTTCGAAAATGGGTCATGAAATACTATTTCTAAATTCAAGCATTCTTGAGCACCTACTGTGCACCAGCCCTGTGCTATGGGCTGTATATACAGAAATACATCAGTGAGAGTCCTCAGCCCTGAGGCCATTGGTCTGAAGAAAATTGCAACAAGTGCCATCACAAACACAGCTACGGAAATTCACTCAATATAGTTGGAGGTGTGTCTCTGCTCAAATCATATACTGAAATGTAATCTGCAGTGCTCGGAGGTCGGCCTCATCAGGGAGGTGATTGGATAATGGAGGAGGATTTACTTTTTTATCTGTACTCAGGAATGCAAAATTAATTTGATCATCGAAAATTACTATAATTCACAGACTAAGACAAAGCCATACAAATTATCACCAGTTGCAGAAAAAGCATACTGATAGAATTAAACATCTTTTTATGATTTAAAATTATACTTTAAATTCTCGGATACGTGTTTGCAGAATCTGTAGGTTTGCTTACATAGGTATACATGTGCCATGTTGGTTTGCTGCACCCATCAACTTGTCATTTACGTTACGGTACCTCTACCTAATGTCTATCCCTCCCCCAGCCCCCCACCCCCTGACAGGCCCCAGTGTGTAATGTTCCCTCCCTGTGTCCATGTGCTCTCATTGCTCATTCCCACTTATGGTCAACGTGTGGTGCTTGGTTTTCTGTCCTTGTGATAGTTTGCTGAGAATGGTCGTTTCCAGCTTCATCCATGTCCCTGCAAAGGACTTTGAACTCATCCCTTA\n",
      "21M1D4M1D20M1I78M1D9M2D3M1D5M1I14M1D20M1D74M8D32M1I12M1I7M1D50M1I8M1D9M2I45M1I57M4D14M1D25M1I26M3D33M2I19M1I61M1I9M1I7M1I51M1D31M1D13M1D2M2D85M1I15M\n",
      "0.9377729257641921\n",
      "read_id: test_read_18_936710_937610 \n",
      "\tmap_start 7, map end 897\n",
      "\t900\n",
      "ACAGCCACGCCAGATGGACGAGAAGACCAAGAAAGGTGGGCACAGGCTGGAGGTGGCTGGGGAACTTCCGGTGGGAAGTGGGCCCCGCAGGACCTGGCCTTGCCCCTGGCCAGAAGGGCCTTGGAGAGGGGGCTTTAGCCTGCCCTCCCTCTACCCTCCTCCCCATCAGTTTCCTCCTTTGGTACCTGCTGGCTTCCAGAGCCATCTTGGGGCCCTGAGAACTCCTTGGGCTGGCTCTGTGCTGAGATGGGGCTAGGGGACTCGCAGAGGACACAGGGCATTGAACTTGGAGACCTCCTGGGCTGGTGGGAGACAGACGTCAGTTGACCTGAGAAGCAGGGGTACTTGCCTCTTCTCTTGTCCCCTGCACCTAGGGTTGTAGAACGGAAGTCAGTCACTGCCTTGCTGGAAACCCTCCCATGCCCCTCTGTGTTCTCCAAACAAAACCCAGAGGCCCTGGGTGGCCCACAGGATATCTGTCCTCAGTCACCCCGCCATGCTCACTCTACTGGAGCCCCACTGGCTTCCTTCGGTTCTCATCCAACCATTTTTTGGCCAAGGCCCTTACTCTTCCTTCCACCTGGACCACTCTTCCCCACTGGAGCTTGACACGTGCAGCTTCTCCTCCTTCAGGTCTTAGCTTCAGTGTTACCCCCTCCCAGAGGCCTCCCCTGGTCTCCTTAACCTGTTTATTTCCCTGCCAGCAAGGATCgcaatctgactttttttttttttcttgttaaactTGTTCATTGTCTCCCCACTGGGCAGGGAGATCCATAAGGAGAGGGGCCCTGTTTATAAATCTCTGTGGGATTCCAGTTCCTGGGACAGTGGGTGGCACACAGTAGAAGCTCAATAACTGCTTGTTGgataaatgaatagaaatatgAGGGACCCTGGGAATGGGAAGGACAAACAACCAAATGAGCCTAGTGTGAGGAGGAGTGGGGAATATTAGAGAACCCCTCCCGGAGAAAGGGACTTTTAGTCTGGGTGC\n",
      "\n",
      "CACCAGATCAACAAAGCCAAGAAAGGTCGCACGGCTTGGAGGTGGCTTCCAAATTCCGGTGGGAAGTGGGCCCCGCAGGACCTGGCCTTGCCCCTGGCCGAGAAGGGCCTTGGAGAGGGGGCTTAGCCTGCCCTCCCTCTACCCTCCTCCCCCATCGAGTTTCCTCCTTTGGTACCTGTGTCGCTTCCAGAGCCGTGCTTCGTTATCAATTCCTTGGGCTGGCTCTGTGCTGAGATCGGGGCTAGGCCGAGTCGCAGCACAGGGCATTCAAACTCGAGTCTCCTCAGGGCTCGTGGAGACAGACGTCAGTTGACCTGAGAAGCAGGGGTACTTGCCTCTCTCTCTCCCTGCACCTAGGGTTGTCAACGGAAGTCAGTCACTGCCTTGCTGAAACCCTCCCATGCCCGGTCTGTGCTCTCCAAACAAAACCCGAGGCCCTCGGTGGCCCACGGGATCTGTCTCCTCAGTCACCCCCGCCATGCTCACTCTACTGGAGCCCCCGCTCGCTTACCTCGGTTCTCATCCAACCATTTTTGGCCGAGGCCCTTCTCTACCTTCCACCTGACCTCTCCCCACTGGAGCTTGACACGTGCAGCTTCTCCTCCCTTCAGTCTCAGCTTCAGTGTTACCCCCTCCCAGAGGCCTCCCCCTCATTCTCCCTTAACCTGTTACCTCCCTGCCAGCAAGGAGTACGCAATCTGACTTTTTTCTACTAATTCTCATTGTCTCCCCACTGGGCGGGGAGATCCATCAAGGAGAGGCCCATGCTTATAAATCTCTGTCAGATCCCAGTTCCTCGGACGTGGGTGGCGCACAGTAGAAGCTCAATAACTGCTTGCTACGAGATAATCGATCAAAATCATACTGGGAATGGGAAAGGACGAACAACCAAATCGAGCCTCATGTCAAGGGCATCAGGAAATGTGTGCGAACCCCTCCCGAGAAGGAATTTTCATCTCAGGATAC\n",
      "11M1D5M1D3M1I11M1D52M1I22M1D26M1I7M1I21M1D2M2I14M1I3M5D5M1I30M1I9M1I10M4D21M1D6M2I8M1D45M1I5M4D18M1D26M1D17M1I24M1D39M1I25M1I33M1D18M1D15M1D3M2D3M1D34M1I6M1D35M1I5M1I5M1I10M1D21M1I1M1I11M7D11M2D2M1D2M1D33M1I7M2D5M1I37M1D38M2I1M1I3M1D13M1I2M5D1M2D11M1I18M1I6M\n",
      "0.8300970873786407\n",
      "read_id: test_read_20_408744_409744 \n",
      "\tmap_start 26, map end 934\n",
      "\t1000\n",
      "cccgccagtctcagcctcccaaagtactgagattacaggcgtgagccaccacacctggcctatcccagcactttgggaggccgaggtggatggatcactgaggtcaggagattgagacgagcctggccaacatggtgaaactccatctctattaaaaatacaataattaggccaggtgcggtggctcacgcctgcaattccagcagtttgggaggccgaggtgggcagatcatgaggtcaggagatcgagaccatcttggctaacacggtgaaaccctgtctttactaaaaaaatacaaaaaaattagccaggcgtggtggcgggcgcctgtagtcccagctactcgagaggctgaggcaggagaatgaggtgaacctgggaggcggagcttgcagtgagctgagatcacaccactgcactctagcctgggtgacaagttctgtctcaaaaaaaaaaaaaaaaggcagaaagaacaTGGATTCACCTGCTTatacaagaaaaaaggaaaaaaaaaagtgtacgaGTTGCCTTGTTACAATAAAACtaaatgtgtatacacacaaagGAAATGGAGGACATTCAGGGGCTGGGATGAAGGGTACAGAAGAAAGGCCAGGAGATACGGCCCTTCCATTTGACAGTAAATagactaattaaaaaatatttatgtagtatATATTAGGTGCAAGGCACCAGAGTTCATTTGAAGTGGAAGATATCACCAGAAGGTAGGGCAGATTTTAGAAATAACTAACAGAAGGTACATTAGGTTTTAGAAGGGACACCAAGCATCTTCCCCAGCAATGTTCTAGTCTGAGACCATTGTGAGTCTACAAACTGTTTCTATGACAAAGctgtacattattattattattattattattttatttttattttttgagacagagtcttgctttgtctcccaggctggagtgcagtgaagcaatcttggctcactggaacctctgtctcttgggttcaaaccattctcgggcctcagcctcccaggtagccaggattacaggcgcatgctgccaccacacctagct\n",
      "\n",
      "GTCTCAGCCTCCCAAAGTACTGAGATTACAGGCGTGAGCCACCACACCTCACGCCTATCCCAGCACTTTGGGAGGCCGAGGTGGATGGATCACTTGAGGTCAGGAGATTGAGACGAGCCTGGCCAACATGGTGAAACTCCATCTCTACTAAAAATACAATAATTAGGCCAGGTGCGGTGGCTCACGCCTGCAATTCCAGCAGTTTGGGAGGCCGAGGTGGGCAGATCATGAGGTCAGGAGATCGAGACCAGTCTGGCTAACACGGTGAAACCCTGTCTTTACTAAAAAATACAAAAAAATTAGCCAGGCGTGGTGGCGGGCGCCTGTAGTCCCAGCTACTCGAGAGGCTGAGGCAGGAGAATCGTGAACCTGGGAGGCGGAGCTTGCAGTGAGCTGAGATCACACCACTGCACTCTAGCCTGGGTGACAGAATTTCTGTCTCAAAAGGGCCAAAGAACATGGATTCACCTGCTTATACAAGAAAAAAGAAAGAAAAAATCTCAGTTGCCTTGCTTCAATGAACTCGATGCTATACACGCAAAAAGGAAATCGAACATCAGGGGCTGCAGTCAAGGGTACAGAAAGGCCAGGAGATACGACCTCCCATTTGACAGTAAAATGACTAATTAAAAAATACTTACTGTCATATACTCCATCCGCCACGCAGAGTTCATTTGAAGTGGAAGATATCACCAGAAGGTCAGGCAGATTTTAGAAATAACTAACAGAAGGTACATTAGGTTTTGAGAAGGGACACCAAGCATCTCCCAGGCGATGTCTGCTAGTCTGAGACCATTGTCAGTCTACCGAACTACTTACTATGACAAACTATACATACTCTCTCTCTCTGTTTATTTTATTTTTTGAGACAGAGTCTTGCTTTGTCTCCCAGGCTGGAGTGCAGTGAAGCAATCTTGGCTCACTGGAACCTCTGTCTCTGGGTTCAAACCATTCTCGGGCCTCAGCCTCCCAGGTAGCCAGGATTACAGGCGCATGCTGCCACCACACCTAG\n",
      "49M2I42M1I156M1I2M1D30M1D79M2D66M2I12M11D8M1D37M1D11M1D3M1D1M1D17M1D10M1D7M2I15M2D3M1D23M3D18M1D43M1I3M2D14M2D5M1I81M1I20M2D4M1I7M1I1M1I25M1I6M1I14M1D7M7D19M1D84M1D74M\n",
      "0.9343339587242027\n",
      "read_id: test_read_21_453789_454839 \n",
      "\tmap_start 7, map end 1048\n",
      "\t1050\n",
      "ctgggagacagaggttgcagtgagctgagattgcactactgcaccccagagcgagactctgtctcaaaaccaccaccaccaccagcaccaccaccagcaccaccaccaccaccaccaccagcacatGTTGAGGATATTAAGTAGATAATAATACAGATGGCATGTAGGTGTGGCCAAAGTCATGAAGGTTGCCCACCACACGGTAAACTTTGTAGTCAgtgaataaatggatagatagGAGATAGAATGGAGGAATGCATGAATGGGTAAATGAGCAAGCGAATGAATACCTATCTCATCCATTCTACACAgccccagcacattgggaggttgTCCTATCTCAACTTGCATAGCTCCTAGAATGGGGGAACTCACTACCTTATGACATAGCCCTTTCCACATCTGAACCACTAGGAGTGTGTAAAAGACATTTTCTCATATTAAGTTTATCTTTCTGGAGATCCTGTGCTCTCTGGGGCCCCACAGACACATCTGCTTCCCTGTCTGGGGACAGCCCAAACACTTGCCCTCCCCAGGCTGCCCTTCTCTGGGCCCTTCTGCCCAGATGCTTGGCTGCTGTGCCCACCAGGTCCTGCTTGCACAGAGCTTATATCCTAGTGGGCGGCAGGACAAAGAACaagcacacaggcacacaaacaCAATGATTCCATGCTATGAAGGAAATGCAGAGTGAGACTGTTGGGAAGAGCATGGCGGGGTGTGGAGAGGCAAGGGGAGTCTCTCTAGGAAGGTAATATTTGAGCTGGGACCTGAAGAATGCAACAAAGCCAGAAGAACAAGAGAAAGGGCATTCCAGATAGAGGCAAGAGCAAGTGCAAGAGCCCTGAGATCACAGAGCAATTGGAAACTAGGAAGCAGCCAGCCTGGCTGGACATGGACATTTTGGGTATTGATGGTGAAGAGCCTggaattgttttctaaatttgatCTCCAAACACTTTTAAGCAAGAGGTGATATGATATGACATATTTTAGCAGACAATGAATATTTCCTGAATTAAAATTGAAGACCCTTCTAGTTCCAATAGTTCCATGCTTCCCAAAGTGATACTGAAATGACTTCAGGAgagaacaggctg\n",
      "\n",
      "GAGGTTCAGTGAGCTGAGATTGCACTACTGCACCCCAGAGCGAGACTCTGTCTCAAAACCACCACCACCACCAGCACCCGCCCACCAGCGCCCACCACCACCACCACCACCAGCACATGTCTCAAGATATCATCAATAATAATACAGATCGCATGTCAGGTGTCGCCAAAGTCATCGAAGGTTGCCCACCACACGGTAAACTTTGTAGTCAGTCAATAAATGGATAAGATAGGAGATAGAATGAGAGATACATAAATAGGTAAATGACGACGAATGAATACCTATCTCATCCATTCTACACAGCCCCAGCACATTGGGAGGTTGTCCTATCTCAACTTGCATTCCTTACCTAGAATCAGGAACTCACTCCTTCTGACATAGCCCTTTCCACATCTTGAACCACTAGGAGTGTGTAAAAGACATTTCTCATACTAGTTTATACTTATTGGAGATCCTGTGCTCTATACGTTCACAGACACATACTTGCTTCCCTGTCTCAGGAACACCAAACACTTGCCCTCCCCAGGCTGCCCTTCTCTCAGCCCTCTGCCCAGATGCTTGGCTGCTGTGCCCACCAGGTCCTGCTTGCGCCGAGCTTATATCCTCGTGGGCGGCGGGACAAAGAACAAGCACACAGCACACGAACGCAATCATTCCATGCTATGAAGGAAATGCAGAGTGAGTTGCTTCAGAAGGCGTGGCAGGGGTGTGGAGAGGCAAGGGGAGTCTCTCTAGGAAGGTCATGCTTCAACTCGGTTCTGAAGAATGCAACAAAGCCAGAAGAACAAGAGAAAGGGCATTCCAGATCAAGGCAGAAGAGCAAGTGCAAGAGCCCTCAATCACGGAGCAATTCGAAAGTCGAAGCAGCCAGCCTGGCTGGACATGGACATTTTCGGTACTGATGGTGAAGAGCCTGGAATTGCTTTCTAAAATTAATCTCCCAAACACTTTTTAAGCAAGAGGTGATATGATATGACATACTTTAGCAGACAATAAATACTACCTGAATTAAAATTGAAGACCCTTCTACATTCCAATAGTTCCATGCTTCCCAAAGTGATCTGAAATGACTTCAGGAGAGAACGAGCA\n",
      "6M1D72M2I9M1I30M1I11M2D24M1I18M1I49M1I17M1I3M2D20M1D3M1D76M2I8M1D12M1D26M1I27M1D11M1D7M1I27M2D13M1I1M1I13M1I7M2D40M1D91M1D47M1D3M1I8M1D7M1I110M2I23M1D21M1D80M1I8M1I80M1I31M1D23M\n",
      "0.946524064171123\n",
      "read_id: test_read_22_636944_638044 \n",
      "\tmap_start 10, map end 1094\n",
      "\t1100\n",
      "cgtcatgcgcctgtagtctcagctacttgggaggctgaggcaggaggatggcgtgaacccaggaggtggagcttgcagtgagccgagatcgtgccactgcactccagcctgggcgacagagcgagactctctctcgaaaaaaaagaaaaagaactttcaaAAGCTTACCAATCAGccagcccttgttcatcccctAGCAGAagtgtggtggtattgtggtggacctttactggacaCTCTGCCGAATAACTGGATTGGCACTTGTGCTTTAGTCCAACtagctatccctttcaccctggcatttcatcaaccagaggaaggaaaaataagacatcgtAAAGTgagagaagccccttatgggtctttAGACTCTCACTTCTGTTTAGACGCAATTGGGGTCCCATGGAGAATACAAGATCAATTTAAAGTCTGgaatcaaatagctgcaggatttgagtcaatatCTTGGTGGGTGACAATTAATAAACATGTAGAttggataaactacatctattacaaccaacagtGATTTAGTAACTACACTAGAGATACTGTTAGAGGAATAGCTGAGCAAGTAGGGGCTACAGGCCAGATGGCTTGGGAAAATAGGACAGCCTTAGACATGATATTAGCAGAAAGAGGAGGGGTTTGCATCGTGACTAAAACTCAATGTTACACCTTCATCCCAAACAACATTGCCCCTAATGGAAGTATAACAAAGGCATTGCAAGGTCTCACTGCTCTATCCAGTGAGTTAGCCAGCAGCTCAGGGGTAAATGATCCCTTTACAGGATGGCTAGAAAAATGGTTCggtaaatggaaaggaataataGCCTCAATTCTTACCTCCCTCGTAGCTGTAATAGGTGTACTTATTCTTGTCGGGTGCTGTGTCATACCATGCATCCGTGGGTTGGTGCAGAGGCTCGTAGAAACGGCACTTGCTAAAACCTCCCTTAACTATCCTCCACCTTATCCAGAGAAgcttcttcttttggaaaatcaagCAGAACAACTAAGTCAAGACATGTTAAATAAGTTTGAAGAGAAAGCCGTAAGAAAAATGCAAGAGGAGGAAGTTGTTAAATATgaattctaaatttctcttcaaagaattagTATGTctgtatgttcaattctttgccttcta\n",
      "\n",
      "CGCCTGTAGTCTCAGCTACTTGGGAGGCTGAGGCAGGAGGATGGCGTGAACCCAGGAGGTGGAGCTTGCAGTGAGCCGAGATCGTGCCACTGCACTCCAGCCTGGGCGACAGAGCGAGACTCTCTCTCGAAAAAAAAGAAAAAGAACTTTTCGAAAGCTTACCAATCAGCCAGCCCTTGCTCATCCCCTAGCAGAAGTGTGGTGGTGTGTCATCACTGTTCTCGGACACTCTGCCAATAACTCAATTAGCACTCTACTTGCATCCCATTCACTATCCCTTTCACCCTGGCATTTAAGTCAACCAGAGGAAGGAAAAATAAACATAGTAAAGTGAGAAGCCCCTATCGGTCTGAGTTTCTCGCTTCTGTTAGACGCAATTCGGTCCGTGGAATTACAAGATCAATTTAAAGTCTGAATCAAATAGCTGCAGGATTTGAGTCAATATACTTGGTGGGTCACGATCCATTCAACGTGTCATTACAATCACTTTACATCTACTACAACCAACAGTGATTTCATAACTACACTCAAATTTATACTTAGAGGAATAGCTACGACAAGTCAGGGGCTACAGCCAAGATGGCTTCAGGAAAGTCGACAGCCTTAGACATGATACTAGCAGAAAGAGGAGTTATCATCATAACTAAAAGTTCAATACTTACACCTTCATCCCAAACAACGTTCCCTAATGGAAGTCTGTAACAAAGGCATTGCAAGGTCTCACTGCTCTATCCCAGTACGAGTTAGCCAGCAGCTCAGGGGTAATTGATCCCTTTACAGATCCTTCAAAATCGTTCGGTAAATGAAAACCAGATCATCACCTCAATTCTTACCTCCCTCGTAGCTGTAATCAGGTGTACCTCTCTGTCGGGTGCTGTCTCATACCATGCATCCGTGGGTTGGTGCAGAGGCTCGTCAAACGGCACTTGCTAAAACCTCCTTAACTATCCTCCCACCTTATCCAAGAAGCTTACTTACTTGGAAATCGAGCAGAACAACTAAGTCAAGACATGTCTAAATCATTGAAGAGAAAAACTAATCAGAATACAAGAGGAAGTTGCTAAATATGAATTCTAAATTTCTGCTTCAAAGAATTCATCTGTCTGTATGTCAATTACTTGCCTTCT\n",
      "147M1I58M1D7M1D2M1D7M1I12M1D17M1D44M1I23M1D12M2D10M1D8M1D17M1D12M1D4M1D7M1D23M1D32M1I16M1I12M1D4M2D4M2I2M2I39M1I3M2I5M2D14M2I2M1D5M1I23M1I8M1D35M3D19M1I6M1I26M2D12M2I35M1I5M2I39M1D3M1D3M1D27M1I38M1I10M1D3M1D51M1D22M1D13M1I12M1D8M1I3M1I1M2D4M1D32M1I7M2D14M1D14M3D33M1I26M1D17M\n",
      "0.9296610169491526\n",
      "read_id: test_read_23_799308_800458 \n",
      "\tmap_start 7, map end 1149\n",
      "\t1150\n",
      "tagtcttCTCACAAGAGAATGACCCTCTTTTAGGTACCCCATTGATTTTACGGCATCTCTACTTTGCAAGTGTTTGTGTAAATGGACATATTATGGTCTCTTTGTGCACAATTATGTCAAAGACAATTTAGAGCTTGAAGGTTGACCTCCAGCTGTAAAGTTCCTAAGTTCTCtatctctctgctttcttttctgcctgttttaagtctgctattatttttctttctttttttgagacagagtcttgctctgtgcccaggttggagtgcagtggtgcaatctcagctcactacaacctctgcctcccaggttcaagcagtcctcccacctcagcctcctgaatagctgggactacaggcatgtgccaccactcttggctaatttttttttttttttgagacagagtcttgctctgttgcccaggctggagtgcaatggcatgatctcagcaaaCCAACGAGTTTCTATTAATATCTCATGGCTAGAGTTCTGAGATAATAGCTATAGGATCTTTGGTTGTatgagtatgtatgtgtgtgtttatgcatacatacacttatttcattgtgttttctaGCCACAGGTACTGAATTGGCTTAAAGTTAAAGAATATTCATAAATTAATAAGCCtaaatgcttttcaagttcatgtgacttaagtaaaatctttaataagctagctttaaaattattggtaaagtaatattagaaatgtcttaaaaatTGTTAGCAtaaatttttgtttgcatttattgatcAAGGGACTTCATATACTGCCAAATACTgtaaggtgtcaaaatttggcatagggTTTGTAAAACTACAAAACCGTTCAAAACAgaatgatttttgcttttgtaatttttgataaataagacattgatattggtttaatgaaaacagctaaatCATGAATTATTTAGTgaaataacaatatatttaatCTTAAGGTTTTTACTTAGCAAACACCTGAAATTCACAGGCTATCAAATGTTTGACAGggaaataactttaaatgatgactatcacagttttcataaCTAACCTGggtaaactattaaaataaaatatttaggtaaatgtaatgggataaatacttgtagacaaaGTTGTCATAATTTAGGATCTAAAGTTATGTTAAATTAAACAATAGATATTTCATTAActgggtttttttaattaaaaaagatattgcaggaa\n",
      "\n",
      "TCACAAGAGAATGACCCTACTTTACAGTACCCCATTGATTTTACGGCATCTCTACTTGCAGTGCTCTGTAAATGGACGTGCTCTCGTCTCTTATCACGATTCTGTCAAAGACAATTTTGAGGCTTGAAGGTTGACCTCCAGCTGTAAAGTTCCTAAGTTCTCTATCTCTCTGCTTTCTTTCTGCCTGTTTTAAGTCTGCTACTATTTTTCTTTCTTTTTTTGAGACGGAGTCTTGCTCTGTGCCCAGGTTGGAGTGCAGTGGTGCAATCTCAGCTCACTACAACCTCTGCCTCCCAGGTTCAAGCAGTCCTCCCACCTCAGCCTCCTGAATAGCTGGGACTACAGGCATGTGCCACCACTCTTGGCTAATTTTTTTTTTTTGAGACGGAGTTTCTGCTCTGCTCCCAGGCTGGAGTGCAATGGCATGATCTCAGCAAACCAACGAGACTTTCTACTAATATCTCATCAGCTACAAGTTGTCGATCATGGCTCTCGGATCTTTCATTTGTATGCATATGTATGTGTGTGCTTATGCATACATACACTTACTTAGTTGTGCTTTCTAGCCACAGGTACTAAAAAATCACTTAAAGTTAAAAAATTTATTCATAAATTAATCCTTAAATGTCTTTCAGTTCATGTGACTTAAGTAAATCTTTCATGGCTCACTTTAAAATTATTCGGTAAAGTAATACTTAGAAATGTCTGAACCGTTAGCATAAATTTTTGCTTTACGTACTCATAGAGGGACTTAGATATACTGCCAAATACTGTAAGGTGTCAAAATTTGGCATCAGGTTTTGTAAAACTACAAAACCGTTCAAAACGAATCATTTTTGCTTTTGTAATTTTTCGTGGTCGCATTGATACTCGTTTTAATCGAAAACAGCTAAATCATAAAAATACTTAGTGAAATAACAATATACTTCATACTTAAGGTTTTTTACTTCAGCAAACGCCTCAATTCACAGGCTATCAAATGTTTGCAACAGGGAAATCATTAAATGATGACTATCACAGTTTCATAACTAACCTCGGTAAACTACTAAAATAAATACTACGGTAAATGTCCAATGGGATAAATACTTCTGAGCACGAGTCTCATAATTTCATCTAAAGTTATGTTTAAATTAAACGGATACAATTTCATTAACTGGGTTTTTTTTAATTAAAAAAGATACTCCAGAT\n",
      "18M1I36M1D4M1D4M1D27M1D4M1D26M1I56M1D192M3D24M1I9M1D43M2I18M1I5M1I7M1D22M1I74M2I22M2I15M3D2M1I12M1D18M1D11M1D19M1I12M1I12M3D22M1I3M2D20M1I40M1I32M1D29M1D3M1D2M1D8M1I10M1I17M1I32M1I7M1I9M1I11M1D25M2I10M2D22M1D32M1D18M2I18M1I2M1I2M1D3M1D11M2D14M1I11M1I6M1D15M1I21M\n",
      "0.9302514193025142\n",
      "read_id: test_read_24_804423_805623 \n",
      "\tmap_start 8, map end 1191\n",
      "\t1200\n",
      "cagcgggctgagatcacaccactgcactccagcctaggtgacagagcgaggctccttctaaaaaaaaaaagaaaataaaaaaaaagtcctggtgttagaggcatttttcttttcctcctcctcctcctcctgctcctcctcctcctcctcttcttcttcttcttttctgagacagagtctccctttgtcacccaggctggagtgcaatggtgtgatcttggctcactgcaacctccacctcttgggttcaagcgattcttctgcctcagcctccagctaatttttgtatttttagtagacatggggtttcaccatgttagccaggctggtcttgaactcctgacctcaggtgatccacccgccttggcctcccaaagtgctaggattacaggtgtgagccaccacactcagccaataGAGGCATTTTTCTGTCATGTAAATAAAGTCTAAAGCAGGCAGTCTAAAACTGGCATGGTGCTCTACGGTTCAGGAACCTAAACTCCTTTTGTCTTATTATGCTACCCCCTCAGTACATGGTTTCCACTTCATGGCCCAACATGGCTGCTCAAACAGCAGCCCTCACATCTGCATCCCCAGAtggagagtctttttttttttttgagatggagtctccctctgtcacccagcctggagtgcagtggcctgatcttcgctcactggaatctctgcctcccaggttcaagtgattcccctgctcagcctcctgagtagctgggaccacaggcacgtgccaccacacctggctaattttttgtatttttagtagagatggggtttcactgtgttagccaggatggtctcgatctcctgaccttgtgatccacccacctcggcctcccaaagtgctggggttacaggtgtgagccaccgcgcccagcccccagaTGGAGAGTCTTTTAGTCattagaaaggagaaaggagccaaggagggagggaggttcCCTTAAAGACTCTTTCGGAAGTCACATACAATCTTCTTGTTGATGTTCCATTGGCTAAACTTGATCACATCACTACACTAAGctacaaaggaggctgagaaatatGATCTGTGTTCTAGGCACCATGTGTCCAGATGAAAATTGAGGctcttatttcaaagaaaaagttcagtccatggccaggcgtggtggctcatacctgtaatcccagcactttgggaggccgaggctagtggatcacctgaggtcaggagttcgagaccagcctgggtaacatggaaaaacccc\n",
      "\n",
      "CTGAGATCACACCACTGCACTCCAGCCTAGGTGACAGAGCGAGGCTCCTTCTAAAAAAAAAGAAAAATAAAAATTCCTGGTGCTCACATTTTCTTCCTCCTCCTCCTCCTCCTGCTCCTCCTCCTCCTCCTCTCTCTCTCTTTTTCTGAGACAGAGTCTCCCTTTGTCACCCAGGCTGGAGTGCAATGGTGTGATCTTGGCTCACTGCAACCTCCACCTCTGGGTTCAAGCGATTCTTCTGCCTCAGCCTCCCAGCTAATTTTTGTATTTTTAGTAGACATGGGGTTTCACCATGTTAGCCAGGCTGGTCTTGAACTCCTGACCTCAGGTGATCCACCCGCCTTGGCCTCCCAAAGTGCTAGGATTACAGGTGTGAGCCACCACACTCAGCCAATAGAGGCATTTTTCTGTCATGTAAATAAAAATCTCGACGAGCAGTGTCGACTCGCATGGTGCTCTACAGTTCAGAACCTGAACTTCCTTTCTCTACTATGCTACCCCCTCAGTACATGGTTTCCACTTCATCAGCCCAACATGGCTCAAACAGCAGGACCCTCACATCTGCATCCCCAGATGGAGAGTGTTTTTTTTTTTTGAGATGGAGTCTCCCTCTGTCACCCAGCCTGGAGTGCAGTGGCCTGATCTTCGCTCACTGGAATCTCTGCCTCCCAGGTTCAAGTGATTCCCCTGCTCAGCCTCCTGAGTAGCTGGGACCACAGGCACGTGCCACCACACCTGGCTAATTTTTTGTATTTTTAGTAGAGATGGGGTTTCACTGTGTTAGCCAGGATGGTCTCGATCTCCTGACCTTGTGATCCACCCACCTCGGCCTCCCAAAGTGCTGGGGTTACAGGTGTGAGCCACCGCGCCCAGCCCCCAGATCGAGAGTGCTTTTAGTCATTAGAAAGGAGAAAGGAGCCAGAGGAGGTTCCCTTAAAACTACTCGGAAGTCACATACAAATCTCTGCTTGATGTTCCATTGGCTAAAGTTCGTCACATCACTACACTAAGCTACAAAGAAGCTCAGAAATATGATCTGTGCTCTAGGCGCCATATCTCCAGATGAAAATTGAGGCTCCTTCAAAGAAAAAGTTCAGTCCCATGGCCAGGCGTGGTGGCTCATACCTGTAATCCCAGCACTTTGGGAGGCCGAGGCTCGTGGATCACCTCGCCGTCAGGAGTTCGAGACCAGCCTGGGTAACCGAAACCG\n",
      "52M2D12M3D20M1D2M2D2M1D5M2D40M1I2M1D2M1D3M2D79M1D30M1I169M1I10M1D10M1D26M1D20M1D38M1I11M3D13M2I30M1D307M1I31M6D2M1D15M1D3M1I1M2D15M1I4M1D55M1D60M3D20M1I70M1I32M\n",
      "0.9444885011895321\n",
      "read_id: test_read_25_729633_730883 \n",
      "\tmap_start 7, map end 1237\n",
      "\t1250\n",
      "tcttttttttttttttttttgagacagagtctcgctctgtcctccaggcgtgcagtggcgcaatctcggctcactgcaagctctgcctcccgggttcacaccattctcctgcctcagcctcctgagtaggtgggactacaggctcccgccaccatgcccggctgattttttgtatttttagtagagacggggtttcaccgcgttagccaggatggtctcaatctcctgacctcgtgatctgcccgcctcggcctcccaaagtgctggaattacaggcgtgagccaccgcacctggccattagTGTGTTTCTTATTTTGACCAGTTCCATTTGGTTCTCATAGCTTCCATCTCTCTACTGAGATTGCACTTTTGATCTTGCATATTGTCTACTTTTACTGTTAGACCTTTTACCATATTAGTTATTTGAAATTCTGTATCACATAGCTCTGACATCTGTGTTTGGTTCTGAAGATTGCTTTGTCTCTTGGGAGTATGTCATTTATCTCTTGCTTCATAAGTGTTGGTGAAAGTTGGACATCTTGTGTAGGATAGTAGAGGCCCAGGGAAATGGGTTTTGTGTAGAAATGGGCACACTTTTCCTTCTGTTAGGTCTTTAGCGTGGGGGTTTGAATTAACCTAGTTAGGAGTTGTGATAGGCtgggtgggtggctcatgcctgtattcccagcactttgggaggccaaggcaggaagattgcttgaacacaggagtttgagatcagcctggacaacatagtgaaaccccatctctacaaaaaaaataaaaattatctaggcatttttggtgcatgcctgttgtcctagctactgggaaggcttGCCGAGTCTGTCCTGCAGACTCTGCCCAAGCGACGGATGAAAGGAGTACTCAGATACAGATATCCAGTGAAAGAGCAGGATAGGGGACTGCCAGCACTAGGGGCCGAAGAGAATTAGCAGTTCCCCTAAGCCGGCAGCCCTCGCATTTGTTTggtacagatttaatgacaaaggcttggAGCAAACACAATTTGTGGGTAATAAACATTGTTGACCCCCCGAGTAGAGAGCAGTCCTGCATGCAAATGATTAAAGGTTGGTTTCTGGAGACAGGAGTAGACAAATTTATCTAGATAAGTTTCTTTACATTCCCTTGTTATCTGCCCTTTGCTCTCAGGCTCCAGATGAGACAAtttggctgccttcagccataaTTTCCTTCCAAAGCTTTTGTAAAACCTCCTGGCCTTTCAAGAAGGTTTGTGTCTTTACTATAATttctcccaccaccctgaccaat\n",
      "\n",
      "TTTTTTGAGACAGAGTCTCGCTCTGTCCTCCAGGCGTGCAGTGGCGCAATCTCGGCTCACTGCAAGCTCTGCCTCCCGGGTTCACACCATTCTCCTGCCTCAGCCTCCTGAGTAGGTGGGACTACAGGCTCCCGCCACCATGCCCGGCTGATTTTTTGTATTTTTAGTAGAGACGGGGTTTCACCGCGTTAGCCAGGATGGTCTCAATCTCCTGACCTCGTGATCTGCCCGCCTCGGCCTCCCAAAGTGCTGGAATTACAGGCGTGAGCCACCGCACCTGGCCATTCATGTCTTTACTATTTTGACCAGTTCCATTTGGTTCTCATAGCTTCCATCTCTCTCTAGAAATTGCGCCTTTTGATCTCCGTGCTCTTCTACTTTTATACTCATCTTACCATACTCATCTGAATACTATTATCACATAGCTCTCAACATATATCTTGGTTCTGAAGATTGCTTTGTCTCTAGGAAGTATGTCATTTATCTCTGCTTCATCAAGTGCTCGTGAAAGTTGACATGCTATCTCAGGATAGTCAAGGCCCGGGAAATCGGTTTTGTGTAGAAATCGGACAGCACTTTACCTTTATACTCCATCTTAGCATCAGAGTGAATTAACCTCATTTAGGAGTTGTGATAGGCTGGGTGGGTGGCTCATGCCTCTGCTCCAGCACTTTGGGAGGCCAAGGCAGGAAGATTACTTGAACACAGGAGTTTGAGATCAGCCTGGACAACATAGTGAAACCCCATCTCTACAAAAAAAATAAAAAATTATTAGGCATTTTTGGTGCATGCCTACTATCCTAGCTACTCAAAAGCTTGCCGAGTCTGTCCTGCAGACTCTGCCCAAGCGACGGATCAAAGAATATCAGATACAGATATCCAGATTGAAAGAGCAGGATAGGGAACTGCCCAGCACTCAGCCATTCACAGTTCCCCTAACCAGCAGGTTCCTCGCATTTGCTTGAGTACAGATTAATCAACAAAGGCTTGGAGCGAAGCACAATTTGTCGGGTAATAAACATTGCTTAACCCCGTCGAGAGCAGTCCTGCATGCAAATGATTAAAGGTTCAGTTTCTGGAGACGGAGTAGACAAATTTCTGTTACAATCATTTTTTCTTACATTCCCTTGCTATCTGCCCTTTGCTCTCAGCTCCAGATCAACAATTTGGCTGCCTTTCAGCCATAATTTCCTTCCAAAGCTTTTTCTGAAAACCTCCTTCGGCCTTCAAGAAGGGTTGTGTCTTTACTATAATTTCTCCACCACCCTGACCAAC\n",
      "341M1D2M1I8M1I11M3I3M1D3M2D10M4D14M3D10M1D6M1I15M1I9M1D48M1D8M1I17M1D12M1I16M1D24M1I5M1I11M1D3M2I6M1D12M2D11M1I45M1D98M1I9M1D37M1D51M1D5M1D18M2I23M1I8M1I1M3D3M7D17M1D7M2I16M1I7M1D5M1I16M1I13M1I15M1I8M4D36M1I13M1D17M1I3M1I11M1I33M1D11M1D14M1I28M3I2M1D10M2I4M1D33M1D16M\n",
      "0.9266467065868264\n",
      "read_id: test_read_26_467022_468322 \n",
      "\tmap_start 14, map end 1299\n",
      "\t1300\n",
      "GCTGAGGAAGTTCTCACGGCTTCGGAGCTCTCGCAGAGCGGCCCTCCCGCTCCTGAGCGAGGTCTGCGGGCGGAGGGAAGAGCAGAGAGGCGGCGCTGCGCCCTGCCCGGCCTGAGCCCCCGAAAGCCCGTGGACCCGCCGCCCCGGCCCCGCCAGACGCCCGCCCCCGTGCGGCCTCCTGCTGGTAAACGCGGCCCAAGCTGGGCGGTTCCCCATTGTCTGCGCCGCCCGGGAGCTCCGGGACTCTCATCCGTTCGGAAACGCACGTGTACCCATCATCTCACATCCCTGAGGTGCGGGTGCATCTACAGTTGGTGGCGTGTCACCAACTAATCAACAAATATATTATTAGTGGGTAAATAAAGATGTGCCTTCATATCAATGGCTTCTCAGAATCaatgaaatatagaaataatagtaagggccgggcggggtggctcacgtctataatcccagcactttgggaggccaaggtgggccgatcacgaggtcaagagttcgagaccagcctgaccaacatggtgaaaccccgtctccactaaaaatacaaaaattagccgagcgtggtggcgcgtgcctgtaatgccagctactggggaggctgaggcaggagaatcgcttgaacctgggaggcggaggttgcagtgagcgagatggcgccactgctctccagcctgggcgacagaggaagattcctgtcccaataataataataataataaacgcCCCAGGTAGGTTAAGAAGGTGGCAGAGCGACCGCCATGTCTGGAGGAGAAGCAGGGGAGGCAAAATGGATGATAAACGTCAGCATTTCCGGGCAGGCCGCGGAGTCAATGAGTACTCTCATTTCACACAACAGCCCCCAGTGGAACAAGGAGGGTCTGAGGGTTAAGTGACTCGCCTAAGGTTACACCCAGCAGGTGCATAAAACctacagtaacaacaacaacaacaattgtACTTCCCTAAGGTTACACCCAGCAGGTGCATAAAACCTacagtaacaataacaacaacaattgTACTCCCCTAAGGTTACACCCAGCAGGTGCATAAAACCTacagtaacaataacaacaacaattgTACTCCCCTAAGGTTACACCCAGCAGGTGCATAAAACCTacagtaacaataacaacaacaattgCTGAGGGCCCTCTACAtgccaggccaggtgctgtgccTTGCTCTGCAGGTGGCACATGGTATCTGTTCACCCTCCAACAGCTTTATGTTTACTAACTCTATTTTGCTGataaatggaggctcagagagtttaatgacttgcccagtgtcacacagTCAAGAAGTGGCAGGGCTGGAACTGGAAAGCCAGACTTCTGAATC\n",
      "\n",
      "AAGTTCTCACAGCTTCGGAGCTCTCGCAGAGCGGCCCTCCACTCCTGAGCGAGGTCTGCGGGCGGAGGGAAGAGCAAGAAGCAGCGCTGCGCCCTGCCCGGCCTGACCCGAAAGCCCGTGGACCCGCCGCCCCAGGCCCCGCCAGACGCCCGCCCGTGCGGCCTCCTGCTGGTAAACACGACCCAAGCTCAGCGGTGCCCCCATCTCTGCGCCGCCCCGGGAGCTCCGGACTCATCCATTCAGAAACGCACGTGTACCCCATCATCTCACATCCCTGAGGTGCCGTTATCTACAGTTGGTGGCGTGCTCACCAACTAATCAACAAATATACTACTAGTCAGGGTCATCAAAGATGTGCCTTCATATCAATGGCTTCTCAGAATCAATGAAATCTGTCAAATCATACATCAGCCAGGCACAGTGCTCACGTCTCTCATCCCAGCACTTTGGGAGGCCAAGGTGGGCCGATCACGAGGTCAGAGTTCGAGACCAGCCTGACCAACATGGTGAAACCCCGTCTCCCACTAAAAATACAAAAATTAGCCGAGCGTGGTGGCGCGTGCCTGTAATGCCAGCTACTCGGGAGGCTGAGGCAGGAGAATCGCTTGAACCTGGGAGGCGGAGGTTGCAGTGAGCGAGATCGCGCCACTGCTCTCCAGCCTGGGCGACAGAGGAAGATTACCTCCCAATAATAATAATCATCATTCAACGCCAGGTAGGTTAAGAAGGTGGCAGAGCGACCGCCATGTCTGGAGGAGAAGCAGACCTCAAAATGGATCATGGAGCCCGAGCATTTCCGGGCAGGCCGACGAAGTCAATGAGTACTCTCATTTCACACAACAGCCCAGTGGAACAAGGAGGGTCTGAGGGTTAGTGACTCGCCTGAGGTTACACCCAGCAGGTGCATAAAACCTACCAGTAACAACAACAACAAGACAATTCTATTCCCTGAGGTTACGCCCAGGCAGGTGCATAAAACCTACAGTAACAATAACAACAACAATTGTACCTGCCCCTAAGGTTACACCCAGCAGGTGCATAAAACCTACCCAGTAACAATAACAACAACAATTCTATGCCCCTCAAGGTTACGCCCACGGTGCATAAAACCTACCCAGTAACAATAACAACAACAATTGCTAGAGCCCTGTACATGCCAGGCCAGGTGCTGTGCCTTGCTCTGCAGGTGGCGCATGGATCTGCTCACCCTCCAGACAGCTTTATGTCTCTAACTCTGCCGTTTGCTGATAAATCGAAGCTCAGAGAGTTTGATGACTTGCCCAGTGTCACACAGTCAAGATCGCAGGCTGGAACTGGAAAGCCAACTTTCTCGAG\n",
      "38M1D38M1D30M3D27M1I18M2D62M1I12M1D3M2D26M1I30M2D19M1I31M2I54M1D1M2I8M1I4M2D12M1D56M1D42M1I159M1I2M2D19M1I8M2D52M3D2M1I18M3I2M2D19M1I34M2D29M1D43M1I17M2I9M1D19M1I44M1I2M1I36M2I33M1I13M1D1M1D15M2I26M1D56M1D16M1I14M1D8M2I62M2D5M1D19M1D4M\n",
      "0.939174511223751\n",
      "read_id: test_read_27_279267_280617 \n",
      "\tmap_start 7, map end 1343\n",
      "\t1350\n",
      "ggagatggagtttcactcttgataCCCAAGCTGGAAttcaatggcgtggtctcggcttaccacaacctctgcctcccaggttcaagtgattctcctgcctcagcctcccaagtagctgggattacaggcatgtaccaccatgcctggctaattttgtatttttagtaaagatggagtttctccatgttgatcaggctggtctcgaactcccaacctcaggtgatctacctgccttggcctcccaaagtgctgggattacaggcatgagccaccgtgcctggccttttttttttttttttttttgagatggcatctcactttgtcacccaggctggagtgcagtggcaccatcatggctcactgcagcattgaactcctgggctccagcaatcctcccacctcagcctcttgagtagctgggatcacaggcatgtgccaccatgcctagctaatttttgtatttttttttgtagagacagggtctcattatgttgcccaggctggtctcaaactcctgggctcaagcaatcctcctgcctcaacctcccaaaatactgggattacacgtgtaaaccaccacatccagccctgaTCTCATTCTTCAGAGAATTTACCTAGCTGGTCACTTGGTGTCTGTAGGAGCATCGCCTCTCAGGCCTGCCTCAAAACTGCATTTCAGTTGGgagtggggcggggggagggagagTGTAGTTTGGGGACATCAAGCGTCTGTGGTGGATCTCCTCCCAAAGTGAGACtgctttttaatgatatttattgagcacttactgtttGCCACTGCGGTGCTAAGCACTTTGCACATACTAGCTCAGTGCATCCTTACAGCAATCCTGGGAGGGAGGTGCTTTTCTCATCCGCATGTGCTGACAAGGCTGAGAAGAGCTGGGTCTTGCACGGTACCTTAAGGGCTAAAGACCTGCAAGGATGGTGCATGAAAGCAAAACCAGAGAGGCGCCTTTTCCAAATGCCAATGCGCCCTCCACCCAGTCCTTCACAAACCACATCAGCATGGATAGCACCACACTCCACAGGCTTTTCTGCAtctcctttgtgtgtgtgcacatgtgtaatTAATTCTGGGGCAACTTCCTACATCAGTACAGAGAAACTCCTTGATCATTATCCACTCCAACATCCTTCCTGGGAGGGACTGACTGGAAACCCAAATGCCCTTGTAAGGgcaaatacaaaaactaaaataattctcCCTGgtgcagaaaaaggaaagaaacctcCCGTTTCCTGTTCTTAAACACTCTAGAGCAAACACTTTAGAAAACTTCTCAATTATTTCTCTGTTCCTTTAAGATGTGTCTTTTTAAAAGCCAGGTGAGCCTCCTGCCAGTTTTACAAGCCAGGGATGTTTTCCCAAGGACCTA\n",
      "\n",
      "AGTCACTCTTGATACCCAACTCGATCGTCAGTCATCTCGGCTTACCACAACCTCTGCCTCCCAGGTTCAAGTGATTCTCCTGCCTCAGCCTCCCAAGTAGCTGGGATTACAGGCATGTACCACCATGCCTGGCTAATTTTGTATTTTTCATAAAGATGGAGTTTCTCCATGTTGATCAGGCTGGTCTCAAACTCCCAACCTCAGGTGATCTACCTGCCTTGGCCTCCCAAAGTGCTGGGATTACAGGCATGAGCCACCGTGCCTGGCCTTTTTTTTGAGATGGCATCTCACTTTGTCACCCAGGCTGGAGTGCAGTGGCACCATCATGGCTCACTGCAGCATTGAACTCCTGGGCTCCAGCAATCCTCCCACCTCAGCCTCTGAGTAGCTGGGATCACAGGCATGTGCCACCATGCCTAGCTAATTTTTGTACTTTTTTGTAGAGACAGGGTCTCATTATGTTGCCCAGGCTCAGTCTCAAACTCCTCAGACTCAAGCAATCCTCCTGCCTGACCTCCCAAAATACTCGGATTGCGCGTCTGCAAACCACCACATCCCACCCTGATCTCATTTCTCAGAATTTACCTAGCTCGTCCTTGGTGTGCTCTAGGAGCATCGCCTCTCGCCTGCCTCAAAACTGCATTTCAGTTGGGAGTGGCAAGGTGTCGTTTGGGACGTCAAGCGTCTGTGGTGGATCTCCTCCCAAAAATCGAGACTGCTTTTTAATGATACTTATTGAGCACTTATACTTGCCACTGCGGTGCTAAGCACTTTGCACATACTAGCTCAGTGCATCCTTACAGCAATCCTCAAAGGGAGGTGCTTTTCTCATCCCGCATGTGCTGACAAGGCTGAGAAGAGCTGGGTCTGCACAGTTTCTAAGGGCTAAAGACCTGCAAGGGGTGGTTAGTGAAAGCAAAACCAGAGAGGCGCCTTTTCCAAATGCCATGCGCCCTCCCACCCAGTCCTTCACAAACCACATCAGCATGGATAGCACCACACTCCACAGGCTTTTCTGCATCTCCTTTTGTGTGTGTGCACATGTGTAATTAATTCTCGCATTTCCTGCATCAGTACAGAGAAACTCCTTGATCATTATCCCACTCCAACATCCTTACCTGGGAGCTCATTGGAAACCCAAATACCCCCTTGTAAGGGCAACCAAAAACTAAAATAATTCTCCCTGGTGCAGAAAAAGGAAAAAATTCTCCCATTTATGCTCTAAACATCTAGAGCAAACACTTTTAGAAAACTTCTCAATTACTTCTATACTCCCCTTTAAGATGTGTCTTTTTAAAAGCCAGGGTGAGCCTCCTGCCAGTTTTACAAGCCAGATGTTTTCCCAAGGACCCA\n",
      "17M1D4M1D2M2I3M5D238M12D113M1D51M2D40M1I14M1I23M1D27M2I31M2D24M1D8M1I20M2D32M2D3M6D1M3D2M1D9M1D33M1I5M1I35M1D86M1I35M1D11M1D20M1I47M1D9M1I68M1I31M2D3M1D39M1I16M1I8M3D18M2I16M2D55M1D6M1D6M1D14M1I30M2I28M1I29M2D18M\n",
      "0.9345531315974666\n",
      "read_id: test_read_28_756589_757989 \n",
      "\tmap_start 12, map end 1398\n",
      "\t1400\n",
      "AGGCTGGACTCCCCAGAGTGATTTTGGGCTAGTGACTcagcctctctcagcctcagtttaccATTAGTCAAATGGGGTAACAATAGAACTCACCAGATAGTGattgttgggaagattaaaaTGGGTTACCCGATACCAAGAAAAACACTTTCCCGTGCCTGGCACAGTGAACATCACCTGGCGGTCGTTCTGAGTGTCAGGGAGCGGGGCTCAGTTTGTCCATCTCTAAGGTGGGTGCGCTTGCCTGCCAGAGCCACGGGGACCCCGCGCGCCAGGTGTGCGGTGGGCGGGTCTCGGCTCCCGGAAGAACTTCCCTGGGTGGTCCTGGAGCGGGTCGGACCCAGTTCCTGAGCCAGGCCAGCTGCCGGCGGCCGGGGCTCGGGTTCTGGCCCCTGCCTGGCTTTCCTTACCCTTTTCGGGTAGTACCTGGACCAGCGGGTTCACTTGCCCGCGGCCGCCGGAAGTTGCGCAAACTCAGCTTGCCGGAGCCCCAGGTGGGCCGGGCCGGAGGAGCGCAGGCCAGCGGCGCGGGCGCAGCCGGGTACGTGCGGACCGCGGCGGGGGGCGCCCAGCCGGGGTAGGGGGCGGCCCGAGCACCCCTCCACCCCAGGACGGCGGGAACGGGGCAGGGATCTACCTTTCGGCTTCAAGAGGACCGCGGGGATGGTGCCGCTCTCTCCCTCATTTGAGAGCCAGGAGGGGCGGCGAGGGGCAAGGGTCACACAGCGCCCTGCTAGCCGACCCCCCATCCCCCGCCACCGGGAGTCCTCAAGCTTTTCCGGAATTGAGGGAGAGCAAAAGCCAGCCTGGGGATCTGAGttccccccagccctgccccgcggCCTCTGGAGGCTGACGCTGGGGAGCTAGTGGGGAGGGGGCCAGGTGGGGATGCGCGCCCCCGGGATGCAAGCCAGAAGGGCCGGCGGTTGGGGGCATCCGTGGGAGGCATTTGAATCCGTGGGTGGGGCATTGGGCGGTGAGAGGAGGCCTCAGAGGGGACATTGAGTCGCGCTTGGGGACTTGGGACCCTGGCTTCACCTGGCGGGAGCCGCTGCACCTCCGTTTGCCCACCCGTGACGTGGGGCTGTTGAGGTCAGCTCACCGATCAGCCTCTGTCTTGGGCCTGCTTTGTCCGCGGTGTGGGCTGGGACAGACCCTCGTGGGGCTTGCTTAGAGACCCCTGCGTGGGGGTGGTCTGTGGACTTGGTTAGTCGAAATCTTCTTGAAGACCAGGAGCCTGGTTCGTGGCTCCGCCTTTTTGCCAGATGCCGAGGAAAGCCCTCGACCTGTTTGATCTCTCCATCCTTATCGTGACCTGGAGGCTCAGGAAGGTCTATTTTTAACCTCGTTTCACGGATAAGGTAACCGAGTCTGTAAAGAGGCGAAGCTGCTTGCGCAAGGCGCACAGCGGGCGGGTGGGCGAGCCGAAGGCCGGCGGGCCCGCGGC\n",
      "\n",
      "GTTTCCCCAGAGTGATTTTCGGCTCGTGACTCAGCCTCTCAGCCTCAGTTTCATTAGTCAAATCGGGTAGCGATTCAAACTCGCCGGATCATAATACTCAGAAGATTAAAATGGGTTACCCAATACCAAGAAAAACACTTTCCCGTGCCTGGCACCAGTGAACATCACCTGGCGGTGGTTCTCAGTGTCGGGAGCGGGGGCTCAGTTTGTCCATCTCTAAGGTCGGTCGGCTCCCCTGCCAAGAGCCACGGGGACCCCGCGCGCCAGGTGTGCGGTGGGCGGGTCTTCGGCTCCCGGAAGAAGCTCCTCGGGGTGGTCCTGGAGCGGGTCGACCCAGTTCCTCGACCAGGCCAGCTGCCCAGCAGCCGGGGCTCGGGTTCTGGCCCCTGCCTGGCTTTCCTTACCCTTTTCGGGTAGTCCTCGACCACGAGTTAGCTTGCCCGCGGCCGCCGGAAGTTGCGCAAACTCAGCTTGCCGGAGCCCCAGGTCGGCCGGGCCGGAGGAGCGCCGGCCAGCGGCGCGGGCGCGGCCCGGGTACGTGCGGACCGCGGCGGGGGCGCCCGGCCCGGTCCAGCACCTGCCCGAGCACCCCTCCACCCCAGGACGGCGACGGACAGGGATCTACCTCGGCTTCAAGAGGACCGCGGGGATCGTCGCTCTCTCCCCTCATTTGAGAGCCAGGAGGGGCGGCGAGGGGCGAGGGTCACACAGCGCCCTGCTAGCCGACCCCCCATCCCCCGCCACCGGGAGTCCTCAACTTGCGAATTGAGGGAGAGCAAAAGCCAGCCTCGATGTCGTTCCCCCAGCCCTGCCCCGCGGCCTCTCGGAGGCTGACGCTCGGGGAGCTCGTCGGAGCCAGGTGGGATGCGCGCCCCCGGATGCAGAGCCAAAGGCCGGCGGTTGGGGGCATCCGTGGGAGGCGTTTCGATCCGTGGGTGGGGCATTGGGCAGTGGAGGCCTCAAGGAGATTGAGTCGCGCTTGGGGACTTGGGACCCTGGCTTGCGCCTGGCGGGAGCCGCTGCGCCTCCGTTTGCCCACCCGTGACGTGGCGCTCTCAAGGTCAGCTCACCGATCAGCCTCTGTCTCGCGGCCCTGCTTTGTCCCGCGGTGTCGCTGCGGACAGACCCTCGTCGGGGCTTGCTTCCGAGACCCCTGCGTGGGGGGTGGTCTGTCGAACTCGTTAGTCGAAATTTCTGAAGACCAGGAGCCTGGTTCGTGGCTCCGCCTTTTTGCCAGATGCCGAGGAAAGCCCTCGGACCTGCTTGATCTCTCCATCCTTATCGTGACCTGGAGGCTCAGGAAGGTCTACTTTTAACCTCGTTTCACGGATAAGGTAACCGAGTCTAAAGAGGCGAAGCTGCTTCGCAAGGCGCACAGCGGGCGGGTCGCGAGCCGAAGGCCGGCGGGCCCGCGG\n",
      "32M2D16M2D23M2I1M1D15M1D62M1I34M1D6M1I44M1I44M1I16M1I27M1D12M1I2M1D12M1I60M1D9M1D102M1I22M1D57M3D2M1D15M2D28M2D8M1I94M1D1M2D4M1D27M2D6M1D4M1D25M1I13M1I11M1D4M4D7M1D15M1D7M1I5M1D2M1D58M4D13M1D1M2D39M1I85M1I2M1I10M1I9M1D5M1I14M1I11M1I14M1I32M1D3M1D60M1I89M2D19M1D23M1D28M\n",
      "0.9429735234215886\n",
      "read_id: test_read_29_840775_842225 \n",
      "\tmap_start 9, map end 1449\n",
      "\t1450\n",
      "gaccatcctggctaacatggtgaaaccccatctctactaaaaatacaaaaaattagccaggcatggtggcatgcacctgtaatcccagctactcaggaggctgaggcaggagaattgcttgaacctgagaagcagaggttgcagtgagccaagatcacgccactgcactccagcctgggtgacagagtgagacttcgtctcaaaaaaaaaaaaaaaagtttggaagaaGCTATAGAAGTCTCGATATTACTGGTGACCCAGTATAAGGAGGAGTGGTGAATATCCCTATTCTAAAGGATTTCCTAATCCTGAAGGATTTGGACAGCTCCTGCAATTGCCAAATGTAAGCGGCCTGAAAAGTTCACACTTAGattattgcctttatttttggCTCCCACACTGTAAAAGAAATTAGAATTAGAGCACAGATACAAAAGCTATGATAATGAAAGTcctaaaaaaaattccattaagaaacacacacatataagtcAGAAATTCATTGGGAATACCTTTGCATTTTAAGAGATGAGAAGGAAAGAGTTAACAGTAGTCCTGAAATCAATTCTCTCCCTTTAACAGGAGATACTTctggcaggaaagaaaaaaaaaaaaaaaaaacttgactcTGACTCTGTCAGATCTCCTTATAACATGCTAATAAGAGACCTTCTGGTAAATATGCTAATGATATTCACTAGCAGAGGGGTCTTTATGTAGCAGAATGCATCTGCTCAGTCCTCAATTGCTTCTGGTAAACAAACTTAGAGTCTATGAATTTACAGGGCATGGCTCCTTGAAAAATGTCATGTGTTTGTAATGCTAAGTAATTGCCAGAGAATAAAATGGAGATGTTTCTAGCTAAAATAGCCCCTTTGGGTAGCTGATGGGCACCCATGCATCACAGACATCACTTAGAGATCTTTCATGTTAAACCTATCCCATGGCTTATTTTCATGAGGCAAGAAAGGACCTGGGAAGTGGTGTGGACATCCCAGACTTTTGCATTTTTACCTGCTTCGTAATTACCCGTATCCTTGAAATTATTACTAAAGCTTAATGCTGGGAAAGATCTCTGATTCCCCTGATTCTGATTTGGCAAGCCAATCAATCTTTTGTATTAATCAGGAAAGAAAGCCAATATTTCTATATGAATATACTCATCTCAAAACTTTTCAGAAAAGATATTTTCCATACATGGAAATAGCTTAATTAACTTTTTCTGATTATGAGGTTACTTATAGTCATTTTGAACACtcagacaaaacagaaaactttatggaagataaaataagaataacaaaatCTTTCCCAAAGAGAAAGACcattaaatttttgtatatatccTTCCAGAGAATAcacaaattatatgtatatatattttacatgtatacatatataacaaagaCTAGCTTATACTACCCACGCTttcctgtcatttttcttttctacctaaGATATCACTGACAGTCTTTTATATAATAAGGATAGTCCTCAATT\n",
      "\n",
      "CTGGCTAACATGGTGAAACCCCATCTCTACTAAAAATACAAAAAATTAGCCAGGCATGGTGGCATGCACCTGTAATCCCAGCTACTCAGGAGGCTGAGGCAGGAGAATTGCTTGAACCTGAGAAGCAGAGGTTGCAGTGAGCCAAGATCACGCCACTGCACTCCAGCCTGGGTGACAGAGTGAGACTTCGTCTCAAAAATTTTCGAAGAGGCTCTCGAAGTCTCGATACTACTCGTACATGCCGGGTCTCAGAGAAGTAGTCAATATCCTACTCTACAAAGGATTTCCTAATCCTGAAAAGAATTGGACGCTTACCTGCAATTGCCAAATGTCAAGCAGCCTGAAAAGTTCACACTTAGATTATTGCCTTTATTTTGGCTCCACACTGTAAAAGAAATTCAAGAAATTAGAGCACAGATCAAAAGCTATCGATAATGAAAGTCCTAAAAAATTCCATTAAGAAACACACACATATACATCAGAAATTCATTGGGAGATCCTTTGCATTTTAAGAGATGAGAAGGAAAGAGTTAACAGTAGTCCCTGAAATCAATTCTCTCCCTTTAACAGGAATATTATTCTGGCAGGAAAAAAAACTTGACTCTGACTCTGTCAGATACTCCTTATAACATGCTAATAAGAGACCTTCTGGTCATCTGCTAATGATACTCACTAGCAAGAGGTCTATGTAGCAGAATGCATACTGCTCAGTCCTCAATTGCTTCTGGTAAACAAAACTAGAGTCTATGAATTTACAGGGCATGGCTCCTTGAAAAATGTCATGCTTTGTAATGCTCCGTAATTGCCAGAATAAAATGGAGATGTGTTTCTACACTAAAATAGCCCCTTTCAGTAGCCTTGATGGGCGCCCCATACATCACAGACATCACTTCGCAGATACTTTCATGCTCGAGTCTCTCCCATGGCTTGTTTTCATGAGGCAGAGAAAGGACCTCGGAAGTGGTGTGGACATCCCAGACTTTGCATTTTTACCTGCTTGAGTAATTACCCGTATCCTTGAAATTACTACTAAAGCCATGCTTCAGAAGGTCTCTAATTGCCCTCAATTATCATTCACTCCAATCAATACTTTTGTACTAATCCAGAAAGAGAAAAACCAATACTTACTATATGAATATACTCATCTCAAAACTTTTCAGAAAAGATATTTTTCCATACATGGAAATAGCTTAATTAACTTTTTCTGATTATCGAGGTTCTTTTTATAGTCATTTTGAACACTCAGACAAAAACGGAAAAAGTTTCTCGAAAATAAAAAATCAATAACAAAATACTTCCCAAAGAGGAAAAACCATTAAATTTTTTCTATATATCCTTCCAGAGTGCACAAAATTATATGTATATATATACTTTACATGTATACATATATAACAAAGTTTCGGCTTATACCCACGCTTTCCTGTCATTTTTCTTTCTACCTGAGGATCTCACTTGACAGTACTTTATATAATCAAGGATAGTCCTCAAA\n",
      "194M11D42M1D2M3I2M1I7M1D16M1D8M2I19M1I12M1D3M2I18M1I39M1D8M1D19M2I2M1I15M1D10M1I15M2D50M1I2M1D43M1I30M1D3M2I11M14D30M1I34M1D25M1D7M2D17M1I81M1D23M2D15M2I8M1I24M2I8M1I26M1I4M1I8M1I34M1I36M1D19M1I36M2D28M1I10M3D13M1I21M3I10M1I44M1I43M1I6M1D1M3I25M1I7M1I48M1I14M1I23M2D5M1I19M2I29M1I6M3D25M1D9M1I10M1I19M1I15M\n",
      "0.9240180296200902\n",
      "read_id: test_read_30_239874_241374 \n",
      "\tmap_start 7, map end 1498\n",
      "\t1500\n",
      "AGGCCTCACTTTTCTCCTTTGCAAACTGTGGCTGATGAGGGCCATCCTGCGGGGTTTGTGGAGAGAAGGGATAGTAACAACAGCTGCATTGTATGGTGCTATGTGCTGCACACTTTGCACACCTGatcatttaatactcacaatgATCCCTAGCAGATGGATCCTATTACCaagttcattttacagatgaggaagcttaGACCCAGCAAGGTTAAGGGGCTGTGCTCAAGGTCTTACCTTCTAGGAGAGGCAGAGCTGGATCTGAAGCCATTTCTGTTCTCAGCCCCTGCTGTGTGCTTTCCTACCATCCTCTCCAGACTCGCCCTGAGCCCAAGTTGCTGAGGCATGTGgcacggtgcctggcacacagtaggctcaCAGTAGTGGCTGCTTTGATGATGACCATAAACTGGGATCTGGGGTCCTTGAGATGATTCTACCAAGGGGACCCGGGGGAAGCTGAGCCCTGGGGCAAAGTGGGGGCCAGCACAGGAGCTGCTGGGGAAGGAACAGAGCCTGTGCGGTGGGAAGATAGGACATGGAGCAAAGAGGATCTTGAATCAGACCCCGTGGTCCCCTCCTACAGAGGGTTAAAGCAAGCCAGCCTCCTTCCGGCTGAGCGGAAATCAGATTTTGAGAGCTGAGCAGGGCTCTGGAGGGatgtttttcttctccatttgtCTGCTTGTGGCTGGCCCATAAAATCCACCGGAACTCCATGCTGGACTGAGGAATTCCTGCTGAACAGGGACATGGAGAACGCAGGCTGGGAGGGGGCATAGTGTGGATCCTTATCAGAGCAGAGACCACCCCATCttcaaggccccacctccaggttGGGTGATCCCCTCTGGAGGCCTCATAGGATTCCTGGGTAAGGGGAGGGACCAGGATCGACAGGGTGGGGGAAAGTCCAAGGAACAAGTGATACCCCCTCCCACCTTTTCAAAGTGAACTTGTGGGGTGAGGAATGAGAGGAGACAGGGAGGGTCAGGCTGTGGCAGGTCAGTGAAGTGTGATGCAGGTTCCACCTTCTacgctgtgtgacattgggcaagtctCTGCCCGTTTCCTCATCATTGCAACCAGGGGGCTGGAGCTAGATGACCACCATGTGTAATTTTCTAATCAGAGCTGACAGTCTGAGGctctttctgtctagtttgcacCTTGCATGCATGTCCTCCCCTGAAGGCAGTGCAATTATTATAACCCCtattttaaaggtaaataaaCCAAGGCTCACTGAGGCAAGGTGACCTGAGCAATTTTGCCCTTGAAGGGCTGGGACAGGATGCAAACCTAGACAATTGGTGCCAGAATTCATCTCTCAAGCATTCgctctcctgcctcccaacaCGAGTTTCTACTTCTCTTTGCCCTGGGATGACCTCTCCTTTGTCTCTTGGCTTGATGACCTCATTTTTAAAGATTCGGCTCATGCATCACCTCCCCCAAGAAGCCTGTCCTGACTAACTAAGCTCGGTTGGGGCTCCTCTCTGTCTGCTCATGCCTCTGGGAAGTAGCTGTCTCTTTTGGTCACTGGGCTG\n",
      "\n",
      "ACTTTTCTCCTTGCAAACTGTCGCTCATCGAGGGCCATCCTCCGGGGTTTGTGAAGAGATAGTAACGACGGCTCGTGTCTCGGTGCTATGTGCTGCACACTTTGCACACCTGATCATTTAATACTCACAATGATCCCTCACGAGATCGATCCTACTACCAAGTTCATTTCAGGATCGAGGAAGCTTGCGACCCAGCAAGGTTAAGGGGCTGTGTGCTTCAAGGTACCTTACCTTCTCGGAGAGGCGGAGCTTCGATCTGAAGCCATTTCTGCTCAGCCCCTGCTGTGTGCTTTCCTACCATCCTCTCCAGACTCGCCCTCGAGGCCCAAGTTGCTGAGGCATGTGGCACGGTGCCTGGCGCACGGTCGCTCACGGTCGTGGCTGCTTTGATGATGACCATAAACTGGGTGTCGTACTTGAGATCATTCTTGCCAAGGGGACCCGCTTGAGCCCTCGACAAGGTCGGAGCCGCGCCGGAGCTGCTTCGGCCGCAGCCTGTGCGGTGGGAGTCGGACGTCGACGAAGAATACTGAATCAGACCCCCGTCGTGCCTCCTACAGAGGGTTGGAGCGAAGCCAGCCTCCTTCCGGCTGAGCGGAAATCAGATTTTGGAGCTTGAGCAGGGCTCTGGAGGGATGTTTTTTCTCTCCATTTGTCTGCTTGTGGCTCGCCCATAAAATCCACAGGAACTCCATGCTCAACTCAGGAATTCCTGCTCAACAGGGACGTGGAAGCGCGGCTCGGAGGGGGCATCATGTTGGATCCTTATCAGAGCGAGACCACCCCGTGCTTAAGAGAAGCCACCTCCAGTTAGGGTGATCCCCTCTCAAAAGTATCATAGGATTCCTCCCGTCCCCCCCCCCTCCCCCATCGACCCCCATCCCGCCCTCCCGCCAACAAGTGATACCCCCTCCACCTTTCAAAGTGAACTTGTGGGGTGCAGTCGGAGGAGACGCAGAATTCGCGGCTGTGGCAGGTCAGTGAAGTGTGATGCAGGTTCCGCCTTTCTACGCTGTGTGACATTGGGCAAGTCTCTGCCCGTTTTCCTCATCATTGCAACCAGGAGCTGGAGCTAGATGACCACCATGTGTAATTTTCTAATCAGAGCTCACAGTGTCGAGCTCTTCTGTCTAGTTTGCACCTTGCGTGCGTGTCCTCCCCCTTGAAGGCAGTGCAATTACTATTGGTTAACCCTACTATTTTAAAGGTCATCGACCAAAGTTTGCACTAGAGGCAAGGTCATCTGAGCAATTTTGCCCTTGAAGGGCTCAGAGACAGGATGCAAACCTAACAATTGGTGCCGGATTCATTCTCTCAGAGACTCGCTCTCCTGCCTCCCAACACGAGTTTCTACTTCTCTTTGCCCTCAATCCTCTCCTTTTGTCTACTAGCTTGATGACCTCATTTTTAAAGATTCGGCTCATACATCACCTCCCCCAAGAAGCCTGTCCTGACTAACTTGAGCTTCGGTTCAGCTCCTCTCTGTCTGCTCATGCCTCTCGGAAGTCGCTCTACTTTGGTCACTCAGCA\n",
      "10M1D18M1I23M5D21M1I1M3D5M1I57M1I30M2D2M1I3M1I10M1I22M2I5M1I7M2I24M1I20M2D48M1I2M1I43M1D42M3D20M1I14M7D2M1I8M1D16M1D21M3D1M2D15M1D2M1D11M1D6M2D13M1I9M1D22M1I39M1D4M1I116M1D5M1D20M1I17M1D13M1I5M1I32M1I20M1I25M4I2M3D5M2D27M1D5M1D23M1I2M3D11M2D4M1I4M1I40M1I36M1I20M1D55M1I2M1D4M1D37M2I20M5I6M2I13M1D14M2I4M1I39M2I19M1D12M1D7M1I7M1I2M1D47M1D4M2D7M1I80M1I5M1I6M1D38M2D15M\n",
      "0.9170822942643392\n",
      "read_id: test_read_31_619869_621419 \n",
      "\tmap_start 7, map end 1544\n",
      "\t1550\n",
      "cctcagccccgtgagtagctgggatttcaggcgagAGTCAATGCACCTGGCTCTGGGGTGACTTCTTGTAAGACCTTCTCATACAGACTTTTTAATAAGATCAGAAAACCCAGACCATAAGGCAGAACAAGCCCCCTCTCCCCACTCAAAAACCAATGGATTTGACCACACTGACAGCATGGTAAGCAATGATTTCTACTCTCCAAAGGTGAGGACTCTACAAAGTCagattaaaaaagattttttttgtgtcAAAATGAACATGGGATTGATATCTAGGTAATACAAGGAAGCCctacaaattgacaagaaaaattCAGGAATTCCAATTTTaaaagtgggaaaaataaaaataaaatgtttaaaaagtgaaaaaataaaatttaaaattaaaaatcaggtgAATAAGAATTACatgattaaaacaaatttaaacagTTAAAATAACATTCAAAAACGAAattaagtaacaaaataaaaatttaaaaataaggtataaaaataaagtgtaaaaatccattcaaataaaaaatacatttgtaaaataatttaaatacattaaaattaataaaaacaaaaatgttaaaaataaaagtaaaatgtttaagtgaaataaaatttaaaaatgtaagaatacATGAAAGAATTTTTAcgagtaaaataaaaaatcagctatTTTTAACAatctaaagaataaagaaaaactaatagaaACATCAAAGGAGAGCAAGGTCTTGCTAGATGGATGCTGATGATGTGCTGTGAATTAAGGAGTCCGATTGGCTCAAATGCCTGCAGGGAGGCGGGGGAAGTGAATGACGGGGGTGGTGTAGGGAGTGAGAGGGGACGAGGAAGTAAAAGCATGCCCGCAGGCAGCATCTGATTCGGTTTTTCCAGCCCGCTGTGGGCAGAGGGCAGGAAGTCAGGCCCCATCATGGCTTCCCCCCAAAATAGCCATCACATCATTTATGCATTTGTAATGTGCTGGCAACATACGCACACGCACACGGATGCATGTTACATCATCCCATCCTCACTGCCCCATCCTCACTGCTGTCCTCTGAggtccactttcttttttttttttttttttttgagacggagtttcgctcttgttgcccaggctctgagGTCCACTTTCATAGAGGAGTgaacagagactcagagagggtGGGTCACTGTGCCACAGTCACACAGCACTTAGGACCACCCTATCCTCTGAATCTGGCATGCTCAAAATGACCTTCTTTGGATGAGTTAGGTCTGCTGAGCACTTTCAAACAGAGGCAGGGCCATCTCTGACATCAGGCTCGAACGTTCTGTACACTAGGAAGAGCCCAACCTCTCCCCCCATGACGCATGACAGTTATCACCATTAAAGAAACACTGACTGTCTTCCAGGGGCGTCACATGCATAGTCATCTTGAAAACCATATGAGGTAGATGCTCTTATTGTCCCCATTGTATTGACAGACAACATCGAGATTCAGGAGTCAAATACTGTCACCCAAGCATGGCAGTAACAGAACTGGGAGCTGAGCCCAGGACTGTCCACAGCCCAAATCTCACACTCCCTGCGTGGCACCAGGCCCTTTTAACC\n",
      "\n",
      "CCCGTGGTCGCTTGGGATTTCAGCGAGAGTCAATGCACCCTGGCTCTGGGGTAGCCCCTCTCACTTATTCTCATACAGACTTTTAATAAGATAGGAAAACCCAACCATAAGGCGGAGCCAAGCCCCCTCTCCCCACTCAAACCAATGGATTTGACCACACTGACAGCATGGTAAGCAATGATTTCTACTCTCCAAAAAGTCAACTATACAAAGTCAGATTAAAAAAGATTTTGTGTCGATCGAACATGGGATTGATATATTTAGGTAATCCGACCGGAAGCCCTACAAATTGACGAGAAAAATTCAAGTCCAATTTTAAAAGTCAAAATAAAAAATAAAATGTTAAAGATCGAAAAAATAAAATTTAAAATTAAAAATCAGGTCGATGAATTTACGTCAATTTAAAACAAAATTTAAACAGTTAAAATAACATTCAAAACGAAATTAAGTAACAAAATAAAAATTTAAAAATAAGGTACTAAAAATAAAGTGTAAAAATCCATTTTCAAATAAAAAATACATTCTAAATAATTTTAAATACATTTAAAATTAATAAAAACCGAAATTTCTAAAATAAAAGTAAAATGTTTAAGTGAAATAAAATTTAAAAATGTAAGAATACATGAAAGAATTTTTACGAGTAAAATAAAAAATCAGCTTTTTTAACAATCTAAAAAAGATAAAAAAAAAACTTGATTCGAAACGTCAAAAGAGAACAACAGTACTGCTAGATGGATGCTGATGATGTGCTGTGAATTAAGGAGTCCGATCGCTCAAATGCCTGCAGGGAGGCGGGAAGTGAATGACGGGGGTGGTGTACAGAAATCAAGGAGACGGAAGTAAAAGCATGCCACAGCAGCGTCTCATTCGGTTTTTCCAGCCCGCTGTGGGCAAGACGGGAGTCAAGCCCCCGTCATCACTTGCCCCCAAAATCACCATCACATCATTTATGCATTTGTAATGTGCTGGCAACATACGCACACGCACACGGATGCATGTTACATCATCCATCCTCACTGCCCGTCCCTCACTGCTGTCCCTCTGAGGTCCACTTTCTTTTTTTTGAGACGGAGTTTCGCTCTTGCTGCCCAGGCTCTGAGGTCCAGCTTTCATCAGGAGTGAACGAGAGTTTCAGAGGGTGGGTCACTCTGTGCCACAGTCACACAGCACTTAGGACCACCCTATCCTCTGAATCTGGCATGTCAAAATGACCTTTGCTTCAATCCCTAGGTCTGTAGCACTTTCAAACAGAGGCAGGGCCATCTCTGACATCAGGCTCAACGTTACTGTACACTCAGGAAGAGCCCAACCTCTCCCCATGACGCATGACAGTTATACACCATTAAAGAAACACTGACTGCTCCAGGGGCGTGGCGTCCGTTAGTCATACTTGAAAACCATATCAAGGATCATGTCTGCTCTGTCCCCCATTGTACTGACAAGACAACGTCGAGAAATTCAGAAGTCAAATACTGTCACCCAAGCATGGCAGTAACAGAACTGGGAGCTGACCCAGGACTGTCCACAGCCCAAATCTCACACTCCCTGCGTGGCACCAGCCCTTTTCCGA\n",
      "6M1D5M1I10M1D15M1I14M1I3M2D24M1D23M1D13M1I21M2D55M1I8M2D26M4D9M2D3M1I13M2I17M2I30M3D18M3D6M1I12M1D45M2D3M1I8M2I7M1I26M1D43M1I23M2I17M1D4M1D6M1I10M1I116M1D18M2I2M1I11M2I24M1I49M1D24M2D26M1I8M1D7M2D15M1D5M1D38M1D1M1D3M1D7M1I102M1D30M1I18M12D49M1I7M1D11M1I8M2D13M2I54M1D10M3D12M3I8M1D1M1D43M1D6M1I9M1I18M2D22M1I23M1D1M1D18M1I8M1I14M1I10M1D6M1I3M1I15M1I13M2I55M1D47M1D8M\n",
      "0.9222829386763813\n",
      "read_id: test_read_32_991188_992788 \n",
      "\tmap_start 7, map end 1596\n",
      "\t1600\n",
      "tcagaccaatatccctgattaacatagatgcaaaaattttcaacaaaatactaggaaaccaATCCCAGCAACAGATCAAAAAATTAATACATCagaatcaagtaggctttattcctgggatgcaaggctggctcaatatatgcaaatcaataaatgtgattcaccacataatcagaattaaaagcaaaaaaatatgatcatctcaatagatgcagaaaaggattTGAAAACAATCCAACGCACCTTAATGATAAAAACCCACAACAGactaggcactgaaggaacataccgTAAAATAatgagccatctatgacaaacccatagccacgATCATTCTGAACTGGTAAAAGCCGGAACCATTCCCTTTCAGAActgcaacaagacaaggatgcccactctcaccatgcctattcaacatagtactggaagtgctactagagcaatcaggcaagaaaaagaaataaaaggcatccaaataggaaaagaagaagtcaaactatccctcattgctgatgatatgattctacacCTGGAAAACCCCAAATACTCTGGCAAGAGGCTTATAATACTGATGAACAACTTctgtaaagtctcaggatacaatatcaatgtCAATGTACATTTCTATACACAATAACCTTCAACCTGAGAGTccaatcaagaacacaatcccatttataatagccataaaaaatgaaaatccctaggaatacagctaaccaaggaagtgaaaggtctccacaaggagaactacaaaatacttctgcaagaaatcagagatgacacaaataaatataaacaattccATACTCATATATCAAAAAGATCAATGTCATTTAAATGGCTATACattccaaagcaatctacagattcaatgctatttctatcaaactacaaaaactgcttttcacagaattataaaaaaactaTTCTACAATTCATATGGAATCCAAAAAGTACCCAAAtcaccaaagcaatcctaagcaaaaggaacaaagccagaggcatcacattatctgacttcaaactatattataaacccacagtaaccaaaacagctgatactggtacaaaaataaacatatcactaatggaacagaatagacaacccagaaatgaagccacacacctacagacatctgatctttgataaagacaacaaaaataagcaCAGGGAAAAGAccccctattcaataaacggtgcttgGGTagctggctaaccatatgcagaagaatgaaagtggacCCCTGCccttcaccatatataaaaattaactccacaaggattaaatatttaaatgtaagatcttaaactataagaatcctggaagaaaacctggAAATACCCTTCTCAACATCCACGTTGGTAAAGAATTCTTGGctaagtctccaaaagcaattgcaacaaaaacaaaaattggcaagtgggacctaattaaactaaagagcttctacacagcaaaagaaactctcaacagagtaaacagacaacctacagaatgggagaaaatattcgcaaactatacatccaataaaggtctaatatccagaatctataaggaaattaattcaataagcaaaaaaaaatcccattaaaaatgggcaaaagttataaacagacacttctcaaaagacatacaagtggccaaa\n",
      "\n",
      "AATATCCCTCATTAACATCATGCAAAAATTTTCAGACAAAATACTCAGGAAACCAATCCCAGCAACGAGATTCAAAAAATTAATACATCAGAATCAAGTAGGCTTTGCTCCTCAGGGATGCAAGGCTGGCTCAATATATGCAAATCAATAAATGTAATTAGCCACATAATCAGAATTAAAAGCAAAAAAATATTGATCATCTCAATAGATGCAGAAAAGGATTTGAAAACAATCCAACGCACCTTAATGATCAAACCCACAAGAACAGACTAGGCACTGAAGGAACATACCGTAAAATAATGAGCCATCTATGACAAACCCATAGCCACGATCATTCTGAACTGGTAAAAGCCGAACCATTCCCTTTCAGAACTGCAACAAGACAAGGATGCCCACTCTCACCATGCCTATTCAACATCATACTGGAAGTGCTACTAAGAGCAATCAGGCAGAAGAAAAAGAAATAAAAGGCATCCAAAATAGGAAAAGAAGAAGTCAAACTATCCCTCATTGCTGATGATCATTCTACACCTGGAAAACCCCCAAATACTCTGGCAAGAGGCTTGTCATACTGATGAACAACTTTCTGTAAAGTCTCAGGGATTCGGATCTCAATGTCAATGTACATTTCTATCACAATAACCTCAGACCTGAAGTCCAATAAGAACACAATCCCATTTATAATAGCCATAAAAATGAAAATCCCTCAGGAATACAGCTAACCAAGGAAGTGAAAGGTCTCCACAAGAACTACAAAATACTTCTGCAAGAAATCAGAGATAGACACAAATAAATATAAACAATTCCATACTCATATATCAAAAGATCAATGTCATTTAAATGGCTGTGCATTTCCAAAGCAATCTACAGATTCAATATTACTATTACTATCAAACTACAAAACTACTTTAGCAGAATTATAAAAAACTACTACTACAATTCATATCGAAATCCGAAAAAGTACCCCAAATCACCCAAAGCAATCCTAAGCAAAAGGAACAAAGCCAGAGGCATCACATTATCTCATTTCAAACTATACTATAAACCCACAGTAACCCAAAACAGCTCGTGCTCATTCGAATTAAACATATCACTAATGGAACGGAATTAGACAACCCAGAAATGAAGCCACACACCTACAGACATCTCATACTTGATAAAGACGACAAAAATAACACAGGGAAAAGACCCTACTCAATAAACGGTGCTTAGGATCCTGGCTAACCATATGCAGAAGAAATCGAAGTCGGACCCCTGCCCTTCACCATATATAAAAATTAACTTCCCACAGATTAAATACTTAAATGTAAAATCTACGAGTTTGCTCAAGAATCCTCAAAACCTCGGAAATACCCTTCTCAACATCCCACGTTGGTAAAGAATTACTTAGCTAAGTCTCCAAAAGCAATTGCAACAAAAACAAAAATTGGCAAGTGGGTCTGATTCAACTTAAAGAGCTTCTACACAGCAAAAAGAAACTCTAAGAAACAGAGTAAAGCCGCAACCTACAAGAAATCGAGAAAATACTCGCAAACTATACATCCCAATAAAGGTCTAATATCCAGAATCTATAAGGAAATTAATTCAATAAGCAAAAAAAAATCCCATTTAAAAATGGGCAAAAGTTCTCAAACAGACACTTCTCAAAAGACATACAAGTCGCCAA\n",
      "18M1D16M1I10M1I20M1I3M1I41M2I78M1I58M1D9M3I90M1D83M1I13M2I24M1I42M2D20M1I43M1I15M1I6M1I27M1D10M1D3M1I6M1D8M1D29M1D16M1I38M3D35M1I38M1D31M1I24M3I20M1D11M2D1M1I9M1D9M1I15M1I7M1I8M1I9M1I81M1I22M1D29M1I67M1D13M2D49M1I9M1I35M2I5M2D33M4I9M4D8M1I20M1I18M1I53M1D11M1I19M1I12M3I12M1I3M1D8M1I32M1I64M1I21M1I36M\n",
      "0.9460093896713615\n",
      "read_id: test_read_33_107192_108842 \n",
      "\tmap_start 7, map end 1649\n",
      "\t1650\n",
      "CACCAGCCGGTCTTCAGGCTCCCGGGCCAGCATTCAGACTGGGCAGGAGGTTTGTGGGTGGAAGGTGAGTTGGGCAGCCCGTCAGCCACTCCTCAGGGCTGGACGGAAATAGTGATTAGGAGCATGGGGTTTGATGTCAGATGGCCTGGGGTTGCAGCCTAACTTTGTTATTTACTATCTGTGAGTTAAGCCctctgggtttcagtttctccatttgtaaaatgggactgATATTGGAAGATGTCCTACTTAGAATGGCGCCTGAGCCATCGTAAGCCCTCAGTGAATCCACTGTAAGACTTCAGCCCCCAGACTCCCACTGTTCCCTTGCCCCAGCTTCCCTGCACCTCTCCTGCCACTTCCCTCAAAGTTGCTCTCAGTCAGGCCTTGGGAGCCACAATCTGGGAACGAGGACCCTGACATCCCTCTTCACAGCTGTACCCAGCACCAAACAAGTCATCAGAGGTTCAAAACACGGAGcccctaccatgtgccaggcacggCATGGCATGCCTGCTCTCTTTCTAATTTTGATACCGCAATgattaattctgtgaaaaaagttcTAGAAGGATATAAGGCAAAGAATTAGGTTGTGTTCCGTCCATTCACTCACGGCTCTGCTCCCACGCATGGCTGCGCTATGCACACTGCCCTGCAGCTTCCTTTGTCTGCTGCACAATGGGCTCTGGACGGAGCCCTGTTGGCGCAATGAGTGAGCCCTACATCAAGCTTCGTCATCGCTGCATCGCTTTGCACCGTGTGGCTGGGCCGCCATCAGTACAGCCAACTGCCTCTGATGGACATCTGGGCTGCAGCCAGATTCCTCCTAACAGGGCTTCAGGGAAAGTCCTCCTCAGCGCCTCTTTGTGCGCATGGCACATTTCTCTAAGGCAGGTTTCTGGACATGAGACTGACGGGCAGCATGTGCTCCTTACATTTGGGGGTCCTGTCAATCCCCTCCTCTCCCGCAGGCTGTTCTAGACTCCAGCCCCCATGTGAGAGGATGCCTGTTGCCCTCACTCTTCCATCCTGGCAGTCCCCAGCCTCCTTGCCTCTCTTGTTTTCTTGTTCCGATCAGTTCCAGGTGGCCAGAGGGTCGAGACTCATCTCACAGCCGTGCAATAGATGCGTGTCTCTCAGTCGGTCAGCTCTGGCTGGGATCAGTGTTTATCTTCATGTCGGTGGACACCATCACAGGCACCCGCAAGAATCAGCGATCGACGGGGAAGAGGTTTGGGTGCATGGAGGAGTGCTTTGCAGTGAGGGCTTTGGAGCCTTGTGCCctgattcaaatcctggctgtgtCCCCTGCCGGTTGTGTGACTTCGGATAAATTACTTGATGTCTCTGAGCATAAGCTGGGTCATCAGAAAAGCCAAGCTAGTAAGAGCACGTAGCTCAGAAGGCTGCTGTAAAGTTCAGATGAGTTGATATATGCTCAGTGCTGGAAAGGGTGCTGGGCACATTAGCTGTTGGTATTATTTGGGCACCTCCAGcccaaataataataaagagactAGGAGGGATGTTGGGAGATATCAGATGTTGCTCATTGGAGGCTGTACTGAGTGTGCAGAGAGCTTCAGGGAACCTGGAGCTTTGAGAGGTAAAGGAACGTGCCAACTGGAACTAGAAACCCACTGCCGCCTGCAGCTCTCTGGGCTGTTTCTCCACATGCACCGTGGGGTTGTTCGGGT\n",
      "\n",
      "AGTCTCAGCTCCGCCAGCGTTCAACTCAGCAGGAGTTCTCGGTGGAAAGTAGTTGGGCAGCCGTTCAGCCACTCCTCACTCGACGGAAATAGTCATTACGGAGCATGGGGTTTGATGTCAGATCAGCCTGGGGTTGCAGCCTAACTTTGCTTCTCTCTGTCGTTAAGCCCTACTCAGTTTTCAGTTTCTCCATTTGTAAAATGGGACTGATACTGGAAGATGTCCTACTTAGAATGGCGCCTAAGAGCCATCGTAAGCCCTCAGTAAAATCCACTGTGAGCCAGACCCCCAGACTCCACTGCCCTTGCCCCAGCTTCCCTGCACCTCTCCTGCCACTTCCCTCAAAGTTGCTCTCAGTCAGGGCCTTGGGAGCCACGATCTCAAAGTCAGGACCCTGACATCCCTCTTCACAGCTGTACCCAGCACCAACAAGATTCATCAGAGGTTCAAAACACGGAGCCCCTACCATGTGCCAGGCACCGGCGTCGCATGCCTGCTCTACTTTCTAATTTTGATACCGCAATCATTAATTCTGTGAAAAAAGTTACGAAGGATATAAGGCAAAGAATACGGTTGTGCTCCCGTCCATTCACTCACGGCTCTGCTGCCCACGTGGCTGCGCTATGCACACTGCCCTGCAGCTTCCTTTTGTCTGCTGCACAATGGGCTCTGAGACAAAGTTTATGCTCAGCGCGATCGAGTACAAGCCCTCATCAAGCTTCGTCATCGCTAGTCGCTTTGCACCGTGTGGCTGGGCCGCCATCAGTACAGCCAACTGCCTCTGATCAACATGTGGCTGCAGCCAGATTCCTGCCTAACAGGGCTTCAGGGAAAGTCCTCCTCAGCGCCTCTTGTGCGCATGGCACATTTCTCTACGCCACAGTTTTCTGGACATGAGACTGACGGGCAGCATGTGCTCCTTACATTTCAGAGATCTTATGTCAATCCCCTCCTCTCCCCGCAGGCTGCTCTCATTTCCAGCCCCCATGTGAGAGGATGCCTGCTCCCTCACTCTTCCATCCTGGCAGTCCCCCAGCCTCCTTGCCTCTCTGCTTTACTGCTCCCCGATCAGTTCCAGGTGGCCAGAGTAGACTCATCTCACAGGCCCGTGCAATAGATGCGTGTCTCTCAGGGTCAGCTCTCGCTCAGGATCAGTGCTTCTGTTCATGTGGGGTCGAACCTCATCACAGGCACCCGCAAGAATCAGCGATCAGACAGAGGTTTGGGTGCATGGAGGGAGGTCTCTTGCAGTGAGGGCTTTGGAGCCTTGTGCCCTGATTCAAATCCTTGGCTGTGTCCCCTGCCGGTTGTGTCCGTTTTTCGGATAAATTACTTGATGTCTCTGACGTGAGCTTGGGTCATCAGAAAAGCCAAGCTCATTCACACGTAGCTCAGAGGCTGCTGTAAAGTTCAGATGAGTTGATATACTCAGTGCTGGAAAGGGTGCTCAGCGTCACTCTGGTGCCTGCTTCAACGCTCTCCAGCCCAAATAATAATAAAGAGACTCAGAGATGTCGGAGATATCTCGGATGCTTCTCGTCGAAGCTGTGCTCATCTGCAGAGAGCTTCAGGGAACCTGGAGCTTTGAGAGGTCAAGGAACGTGCCAACTGGAACTGGAAACCCACTGCCGCCTGCAGCTCTATTCAGCTGTTCTCCACATGCACCATCAGTGTCGCA\n",
      "11M1D12M2D15M1D28M3D20M1I24M1I25M3D3M1D8M1D11M1I2M1I67M2I21M1I14M1D1M2D3M1I10M1D6M2D59M1I20M2D5M2I39M1D6M2I44M1I20M1I45M1I1M2D30M1I27M1I6M2D33M1I25M1I7M3D3M1I2M4I7M1I4M2I7M1D20M1I1M2D61M1D18M1I38M1D26M2I49M1I7M2I18M1I48M1D24M1I20M1D12M2I23M2D2M2D15M2I26M2D14M1I23M1I7M1D2M2I30M1I3M5D19M1I8M1I42M1I25M2I1M1I29M1D7M1I23M1I5M3D12M1D32M2D25M1I5M2D6M2D13M1I28M2D8M1D9M2I13M1D16M1D88M1I8M1D15M\n",
      "0.9067652075042638\n",
      "read_id: test_read_34_945215_946915 \n",
      "\tmap_start 25, map end 1684\n",
      "\t1700\n",
      "ctttgggaggtccaggtgggtggatcacctgaagtcaggagttcgagaccagcctggccaacatggcgaaaccccttctctactaaaaatacaaaattagctgggcgtggtgacacatgcctgcagtcccagttactcaggaggctgagacaggagaatcacttgaatccaggaagcagaggctgcagtgagctgagatcgcatcactgcactccagcctgggcaagacaaagcgagacttcacctcaaaaaacaaacaaaaaaataccctTCCTCCAGATAGCCACATGTCTTacttccttcaggtctcagctcccAGGGCGCCCTAGAGTAGGCACAGGGAGTACCTCACAGTGTCCTCCCTGACCATCCATATAAAGTAACATCCTCCATAAACTATCCTgttactttgctttatttttctgaatagcATTTATCACTATCTGGCATTTATCACCtgtagtttttactttttgtctctctctctctaatttgTATGTAAGCTTCATAAGGAAGGAATGACTCTGGACTGGACTCCATGCCTCAGCACATTCACCCacccattcaacaaacattcttaagggtctaggctgggcatggtggctcatgcctgtaatcccagcactatgggaggccgaggtgggaggatcacttgaagccaggagtttgagaccagcctgggcaaggaaacaagaccctgcctctaaaaaatacaatttaaaaaagtatccaggcacagtggcgtgagcctatagtcccagctactcgggaggctgagctgggaagatctcttgtgcccaggagttcaaggctgcagtgagccatggtcatgccactacactccagcctgggtgacagagttagaccctgcctgtaaaaaaaaaaaggtggggggcagggtggggaaggttTGCCTTGACCAGGCCGCGTGCTAGGTGCCGGGCATACAAAAGTGAAAAACGTGATTTGTCCTCAGTGAGCTCACAGGTCTGAGGAGACACATAAACCCAGGAATGGAAATGCTTTGCTGGCGATGGACAGTGAGTCTGGGAGAACATTGAGGAGATGTTTAACCCAGACAATGGAGTGGGGTGTGGTCAGGTCAttccctggaggaggtgatgtttaAGCTGTGGCATGAAACCTCAGTAGGATGTGATGACCTTAGAACATGGCTACACGTTCTTTGACATTCCTCCTTTAAATTACCTTccctttgaatctgggctgggcCTTCATGATCCATTTGTAACCAACAGGACACAGCAGACATGGTGCTGCAGGATTTCCAAGGCTAAGTCACGCTGAACCGCCATGTTGAAAGGCCAACAGCCAAGACTGCCATGTGGAGAAGCAGCCCGGGCCACGTGGGAAGACCATGTGTAGGTAGCTGCTCCAGTTGACAGCTGAGCCCAGGCACCAGACTTATGAGTTGAGAAGCTTCCAGGGGATTCCAGCCCCTCATAATTCAACTCACTCCCAGCTGTTGGAGGGCCTTCCCAGCAGAGGCCCAGCCATCACAGAGCAGAGACAAGCCATCCCTTCTATATCctgtctgaattcctgacccagaGTCCACGAACATAATGAGATGGCAGTTGTCCACACTATTAGGTTTTGGGGCAGTTTGTTATGAAGGAATAACTGGAACAATAGGATAAGGAAGAGTGAGGTGAAGGAAAGGACTTTACAGATGCCAGCAACAGTACATGGGAAGACCTGGTAAGAGTGGCTGACACAGAAGCTAACC\n",
      "\n",
      "GGTCCAGGTGGGTGGATCACCTGAAGTCAGGAGTTCGAGACCAGCCTGGCCAACATGGCGAAACCCCTTCTCTACTAAAAATACAAAATTAGCTGGGCGTGGTGACACATGCCTGCAGTCCCAGTTACTCAGGAGGCTGAGACAGGAGAATCACTTGAATCCAGGAAGCAAGGCTGCAGTGAGCTGAGATCGCATCACTGCACTCCAGCCTGGGCAGCAAAGCGAGACTTCACCTCAAAAAACAAACAAAAAAATACCTACCTCCAGATAGCCGCATGTTCTCTTTCCTTCAGGTCGCTCCCAGGGCGCCCTCAAGTCCACACAGAAATTTACTCACAGTGTCCTCCCTGACCATCCATATAAAGTAACATCCTCCATAAAGTTTGTCCTTGCTCTTTGCTTTTATTTTTCTGAATCACATTTATCACTATCTGGTTCTCACCTGTCATTTTACTTTTTGTCTCTCTCTCTCTTAATTTGTATGTAAGCTTCATAAGGAAGGAATAACTATCGAACTCAACTGCATGCCTCACGCATTCACCCACCCATTCAACAAACGTTACAGTTCTAGGCTGGGCATGGTGGCTCATGCCTGTAATCCCAGCACTATGGGAGGCCGAGGTGGGAGGATCACTTGAAGCCAGGAGTTTGAGACCAGCCTGGGCAACCGAGAAACAAGACCCTGCCTCTAAAAATACAAAAAATTAAAAAATTGTCCAGGCACAGTGGCGTGAGCCTATAGTCCCAGCTACTCGGGAGGCTGAGGCTCAGGAAGATCTCTTGTGCCCAGGAGTTCAAGGCTGCAGTGAGCCATGGTCATGCCACTACACTCCAGCCTGGGTGACAGAGTGAGACCCTGCCTGTAAAAAAAAAAGGGTCGGCCCATCCAAAGTTTGCTTGACCAGGCCGCGTGCTAGGTGCCGGGCATCAAAAGTGAAAAACGTGATTTGTCCTCGTGAGCTCACAGGTCTAGAGAGACGCGTCAACCCAGAATGGAAATGCTTTGCTGGCGATGGACAGTGAGTCTAGAAAACGTTCGAGAAATGTTTGACCCAACAATGGAGTCGGGGTGTGGTCAGGTCATTCCCTGGAGGAGGTAATATTTTAAGCTGTGGCATGAAAAAGTCTACAGATCAGGATGTGATGACCTTAGAACATGGCTACACATTTACTTGACATTCCTCCTTTTAAATTACCTTCCCTTTGAATCTGGGCTGGGCCTTCATGATCCATTTGTAACCAACCAGACACAGCAGACATGGTGCTGCGGATTTCCAAGGCTAAGTCACGCTGAACCGCCATGCTGAAAGGCCAACAGCCAAGACTGCCATGTGAGAAGCGGCCCGGCCACGTCGAAGCCCATGTGTCAGGTCGCTGCTCCAGTTGCCGCAGCTGAGCCCAGGCACCGGTTCTCGAGTTAGAAGCTTCCAGATCCAGCCCCTCGTCATTCAACTCACTCCCAGCTGTCGGAGGGCCTTCCCAGCAGAGGCCCAGCCATCACAGAGCAGAGACAAGCCGATCCCTTCTATATCCTGTCATTCCTGACCCAGAGTCCACGAACGTGATCGAGATGGCAGTTGTCCCACGCTGCTCGGTTTTGGGGCGGTTTTTGCTATGAAGATAGCTCGAACGATCGGATTCGCGAAAAGTGAGGTAGAGGAAAGGACTTTACAGATGCCAGCAACGGTCGTCCGAACCTGGTCAAGTTGGTCACGCGGAAGAAGCTCAT\n",
      "170M1D45M1D2M1D39M1D40M3D85M2I6M1I4M1D6M1I34M3D11M1I1M2D24M1I38M1I20M1D26M3D109M2I1M1I19M1D8M3I63M1I3M1I109M1D7M3D1M2D10M1D32M1D27M1D16M1I2M1D16M1D37M1D10M1I2M1D15M1D10M1I35M1I20M3I3M1I3M1I1M1I34M2I1M1D13M1I82M1D65M1D12M1D8M1D14M1I18M2I21M2D4M1I5M1D11M3D2M1D85M1I19M3D29M1I14M1I24M2I12M2D22M1I42M\n",
      "0.9211409395973155\n",
      "read_id: test_read_35_332849_334599 \n",
      "\tmap_start 8, map end 1704\n",
      "\t1750\n",
      "CTTCATGGCCTACTGCCTTCCTGCCCAGGAGCCCCAGGTCTTGGCATAATAGGTCTAGCTGGCTGCAGGCTTAGCCCTCTCTGGCCTACCTCGTCTGCTCTGGCATCTTCCATATTTCAACTGTGCCCTGCCCATCAGGAAGAAGGGCAGTTCCCAGGGTCTAGGTGTGAGTCTCAGGGCTGTGTGACCCTAGGTGGCTGGCAGAGCCACCCTGGGCCTCACCCTGCACATCCATAAAGAGGGGTTGGGGCATCCTATGATTCACTGGCTTCACTCTATGGGGTCAGGAAGGAGCACTGACCTGGGAGTCAGGAGCCCAGTTCCAGCCCTGCTTCTGCTCCCTTTGCCCTCCCCTTTGGGCCCCAGCTTTCTTGTCTGTCAAATGGGAATGGGACAAGATGGTCCCTGAGCTGCTGTCCAGACCCGGTAATGGAATTCTGTATGAATTCCAAGGAGGAGAGTAGCCACAAATGCATCCGCTCCACGCTGATGGGGCTCTCTCTCCGGTAAGCTTCACTTACTCTGCCATTTCTCCAGTGTATTTTATCAGACCCACCTCCTCTGAGCCAAAGAAAAGAGGGTAGGAGCAGGATGAAACAAACTCACAGCTCTGTTCATTCAGGCTCATCACAGagatgacttgcccaagggcatGTGGCAGGTCCTCTGAAATTTGAGGAaggctgtgttttcttttgtgtcaCTTTGGTCCTCCGGGAAGCAGATGTGAAAATGGAGGTGTAAGTGTAAGAGATTTATTGAGAAAACACCGTGAGAAATGGAGGAGAGCCTTCAGAGAGGGATGCAGGTCTGATACTGTGAAAGGAGAGGTGGAATAAAGAAAGATTGGGGAAGAGGAGCCTCAGGCCATGGTGCAGGTCTAAGGAAGTCCTAGCCAACCCAACAGGGAGCTCCTGTGCAAAGATTTCCTGTAGAGGAGTCCCGTGCTCGACAGAAGGGCAGACCCTAGTTTCCCACCATGCTCAGTCATCAGCCGGCCTGTCCTGGAAGAGTGGCTGTGCTGACAACTATGGCAGATTGCAAAGGTGTTGCAGCTGGAGGCTCTCAGTGACTGTAGTCCAGAGAAGATCTGAGTGGCACCTCCCTAAGGCTGCcacatgtttttctttattcatttaatagACACTTACAGAACTCTGGGCCATGTGCCAGTTACTGATCTatgcactttacaaatattaccTTAGTTAATCCTTACCCTCGCCTTTTGAGACAGATGGTATttttagccccattttatagagggagaaactgagcacaaagaggttaagtaagttGCCCAAGGTTTCACAGCCAGTAGGTGATAAGCCACAAATCCAACCCAGGCAAGCTGCTTGGAGGCTCTGCTCTGACCACTCCACCACACTGCCTCCTCTCCAGCTGCAAATGCCTTGGTGGCAATTTCTGGGaccatttccattttcatttttcattggcTCAGGACCTCACAGCCTTAACAGGAAGGGGCCTACTGTGGTGGCTGGGGGCATAGCAGGGTCCCAGCTCCCCCTGAAGCTTCTACCTTGCTCCCTCAAAGACTTCCACCTCAAAGCCTTTGCATATATTGTTCCCACTGCCCAGAGCACTCTTCCACCCCCTTCCTTGCCTAGGTAACCCCTCCTCCCATCGCTCCCTTGCCTGACCCCAGGATCTAGCCCAGGATAGGGGTGATATGTAGTGGAAAGGAGCTagttgacatttattgagcacttattatgtgctaGGAGCCAAGTCCAGCCCTTTACATAGATTGCCTCACTTAACCATCATAACAACCTG\n",
      "\n",
      "GCCTACTGCCTTCCTGCCCAGGAGCCCAGGTTCTTGGCATAATCAGTCTTAGCTGGCTGCAGCTTAGCCCTCTCTCACCTCCTGGTCTGCTCTGGCATCTTCCATCTCAACTGTGCCCTGCCCATCAGGAAGAAGGGCAGTTCCCAGGGTCTACAGTGTGCATCTCAGGCTGTGTGACCCTAGGTGGCTCACCGGCAGCCACCCTCGGCCCTAGCCCTGCACATCCATAAAGAGGGTCAGGGGCAGTCCTCTCATTCACTGGCTTCACTCTATGGGGTCGGAGAAGGACACTGACCTGGGAGTCAGGAGCCCAGTTCCAGCCCTGCTTCTGCTCCCTTTGCCCTCCCCTTTCAGCCCAGCTTTCTCTGTCAAATGGGAATGGGACAAGATGGTCCCTGAGCTGCTGTCCAGACCCGGTAATGGAATACTCTATGAATTCCAAGGAGGGTCACCCACGATCCGTTCCCGCTCCCACGCTGATCGGGGCTCTCTCTCCGGTAAGCTTCACTTCTCTGCCATTTATTCCAGTGTCTCTCGACCCCACCTCCTCTGAGCCAAAGAAAAGAGGTTGAGCAGGATGAAGACAAACTCACAGCTCTGCTCATTCAGGCTCATCACAGAGATGGCTTCCCAAGGGCATGTGACAGTCCCTGTCGAATTTCGCAGAGGCTGTGCTTTACTTTGTGTCACTTTGGTCCTCCGGGAAGCGGGATCTGAAAATGGAGGTGTAAGTGTAAGAGATTTGCTAAAAACGCCATTGAGAAATCGAAGCTCTTTCAGAGGGATGCAGGAGTCTGATACTGTGAAAGGAGAGGTCAATAAAAATTCGGAGCCTCGGCCATGGTGCAGGTCTAAGGAAGTCCTCGCCCGACCCAACAGGGAGCTCCTGTGCAAAGATTTCCTACGAGGAGTCCCCGTGCTCAGACGAAGGGCAGACCCTCGTTTCCACCATGCTCAGTCATCACCGGCCTGTCCTGGAAGGTCGCTCTGTCTCACAGTTTCTCGCAGTTCCGAAGGTCTGCAGCTCAAGGGTTTCTCAGTGACTGTCGTCCAAGAAGATCTGAGTGGCACCTCCCTAAGGCTGCCACATGTTTTTCTTATTCATTTAATAGACACTTACAGAACTCTGGGCCATGTGCCAGTTACTGATCTATGCACTTTACAAATACTACCTTAGTTCCATCCTTACCCTCGCCTTTTAAACGATGATTTTTAGCCCCATTTATAGAGGAGAAACTGACACAAAGAGGTTAAGTAAGTTGCCCAAGGTTTGCACAGCCAGTAGGTGATAAGCCACAAATCCAACCCAGCAAGCTGCTTGGAGGCTCTGCTCTGACCAGCTCCACCACACTGCCTCCTCTCCACTCCGAAATGCCTTCGTGGCGATTTCTTCGGAGCCATTTCCATTTTCATTTTTCATCACTCAGGACCTCACAGCCTTAACAGGAAAAGGTCTGTGTCATCCTCAGGGGCGTCACGAGGTTCCCCAGCTCCCCTGAAGCTTCTCCCTTGCTCCCTCAAAGACTTCCACCTCAAAGCCTTGCATATATTTACTACTACCCCACTGCCCAGAGCACTCTTCCACCCCTTCCTTGCCTACGGTAACCCCTCCTCCCCATCGCTCCTTGCCTCGACCCCGGTCTCACCCAGGATAGGGGTGATCTTAGTGGAAAGGAGCTAGTTGACATTTATTGAGCACTTACTATGTGCTACAGAAGCCAAGTCCAGCCCTTTACATCATACCTCACTTAACCATCATAACAACCT\n",
      "24M1D6M1I17M1I12M1D19M1D23M2D50M1I13M1D22M4I3M2D9M1I39M1I35M1I6M1D66M1D10M3D83M3D2M1I6M1D7M2I5M1I10M1I28M1D11M1I8M3D6M1D2M1I31M2D12M1I46M1D25M1I8M1I2M2D42M1I38M1D1M1D8M1I12M2D9M2D12M2I24M1D5M3D3M1D3M7D9M1D30M1I35M2D2M1I7M1I9M1I3M1D19M1D19M1D17M1D9M1I6M1I10M1D10M1D13M2I20M1D44M1D82M1I20M1D4M1D4M2D13M1D8M1D11M1D32M1I36M1D30M1I24M1D4M1I21M1I5M1I22M1D37M1D7M1D3M1I8M1I8M1I7M1D48M1D11M2I2M2I1M2I24M1D15M1I13M1I9M1D8M1I6M1D2M1D24M1D47M2I25M1D2M1D27M\n",
      "0.9260259179265659\n",
      "read_id: test_read_36_681098_682898 \n",
      "\tmap_start 7, map end 1799\n",
      "\t1800\n",
      "cGATTGTTTATTCTCAGCCTCAGGAGGACGCAGGAGAATCTCAGGCATCAAATTTAGTGCAGCACACCTGCCTAGGCAAAACTGGACAGCTCCACCTCAACTTTGTAGAGGGGCAGAGAAAGCTGTGGGGAACCACCTTCCTGCTCTTGTCATGAAGTCCTCCTCAACTGGAAGCCCAAGCTTCAGGCCAGGAACTTCCCCAGCAGAGGCAGCCTTCCCCAGGGGGCCAAGACCTTGGCAGAATGTCTGGGGTGCTCATGGCAGCGCCTCTCACCTGGCCCCTGCCAAATCAGTTTCTGCTTGGCCTCTGCAGGATCTGACCTCGTTGAGTCCCCAGGGCCCAGTTCTCTGCCTCTGAGGCTAAAAGTGAGATCGTTTCCTGGTTGAGGAGTGACTAAAAGACTTCTGtgtgtagagactgggttttgctgtgttggccaggctggtctcgaactcctgaccccaagtgattcACCTTAAGGTGAATGTGTGGCTGTGTACGCGCACGTGCAGAGCAGAACCATCACTCTGCTTGGGCTAGGCAGCTGGACTAATCGTCCATTTCCCCCCGCCCGGAGGCCTCTTCCAGGCCCCCAGCTGCCCTGATGGGCCAGGTCAGCCCCCCCCACAGGAGCCCCCAGCCGCTCCCCATTCGGCTTTCCTTGTATTGTGCGCTGCCTGGTTTCTCGAGGAAATGGGGCGGCTGCTGGGTGCGGGGGCGGCCGCCAGCAGCCCCACCCCCTTCCCCCCATTGTCACTCCTGGCTTCTGCCCCTAGCCCCTGCTGCTGACACTAAAAATAGACCTGTTCACAGGGAGACGGCCCCACCCCTGAGCGGGGCCCCAGGCTCAGTGTCAGGTTGGGTTTGCCAAGACAGAGCTGCCCTGGGGACTGAGGTGGCTCAGCTGAAAGACCGGGGTCGAAACACGTtagggctgtgtgaccttaggtccccttttctcctctctgagcctcaatttcctcacctttaaaatggGGTAAGGCTACCTACCTGCTAAGGTTGCTCTTGACAATGAACAGAAGCTGGGTGAGTCACAAGCGCACTTCGTTCTCGTCCTGCCCGTGGTTTGGTGCTGCCTGAGCGGCTTGAGAACCTGGAGGACAGATGGCATAACACACGCCTTCATCTTCAATCTGCCTTGAATGATTGCCAAGGACTTCCAAATCCCCCTAAACAGAGGAGCTGGAAGAGCCCACTTGGGAATCCAAAAGTGTCCGCAGCTCTGCTGTGTGAGCCCGGGTAGGTGCCTCCTCTCTGGCATCCATGAGCTCACACGTGAAGTATGCAGCCAGGCTGGGACTCGAACCTGTGTCTGCAGCCTCTGAAGACTGTTTTTTCCGCTTTAAGGGGCTGCCTCCATGCTGATGACTCCAAGGACTTCCTGGCTGGGATAACCCTGCCTTTTCGTCTACAAACACATGATTCATGGTGAAGGAAGATGCTGGGCGGTGGGCATGGAAGCCTGAGCTGGGGGCTGGGTAGTTCCCCTTGAGCCCATGCAGATGGGCAGCTGTCCTCAGATGCCACCCGCAGCCATTGGGTTGGGCCCTGCAAAGGAGATACTGGCATGTGTCTGTCtaccaggctcttttttgttgttgttcctttgtccttttttttaaaccatggaATATTTCAAATATGGGTCTTTCATATACATTCAAAACCTTGAACTCTTAGAATTACTTTTGTCAcagttgcaatttttttttaaatttttatttcatttgtctatttattttttgagacggagtctcgctctgttacccaggttagagtgcagtgacctgatcttggctcactgcaaccttcgcctcccaggttcaag\n",
      "\n",
      "TTCTCAGCCTCAGGAACGCAGGAGAATCTCAGGGCGTTCGATCCCGTGCAGCACACCTGCCTAGGCGAAAGTCGACAGCTCCACCTCAACTCTCAAGACGGCCGGCTCTCGGGACCCACCTTCCTGCTCTCCATGAAGTCCTCCTCAACTGGAAGCCCAAGCTTAGCCAGGAACTTCCCCAGCAGAGGCAGCCTTACCCCAGGGGGCCAAGACCTTTGGCGGAATCTCTCGGGGTGCTCATGGCAGCGCCTCTCACCTGGCCCCTGCCAAATAAGATTTCTGCTTGGCCTCTGCAGGATCTGACCTCGTTGCATCCCCAGGGCCCAGTTCTCTGCCTCTGAGGCTAAAAGTGAGATCGTTTCCTGAGTTGCGGAGTGGCTCGACTTCTGTGTCAAGCTCGGGTTTTGCTGTGCTCGCCCAGCTAGTCTCAAACTCCTGACCCCAAGTGATTCACCTTAAGGTGAATGTGTGCGGCTGTGTACGCGCACGTGCAGAGCAAGACCGTCCGCTTCTGCTTTCAGCTGCCGGCAGCTGGACTAATCGTCCATTTCCCCCCGCCCCGGAGGCCTCTCCAGCCCCAGCTGCCCTGATCGGCCAGGTCACCCCCCGCAGGGAGCCCCCAGCCGCTCCCCATTCGGCTTTCCTTGTACTGTGCGCTGCCTGGTTTCTGAGGAAATCAGCCTTGCTGGGTGCGGGGGCGGCCGCCAGCAGCCCCACCCCTTCCATTGTCACTCCTGGCTTCTGCCCCTAGCCCCTGCTGCTGACACTGAAATTCGTCCTTGCTCACAGGGAGACGGCCCCACCCCTAACAAGTTGCGGCTCCATGTCAGGTTGCGGGTTTTGCCAAGACAAGAGCTGCCCTCGGATTTGAGGTCGCTCAGCTGAAAGACCGGTCGAAACACGTTTGGCTGTGTGACCTTCAGGTCCCCTTTTCTCCTCTCTGACCTCAATTTCCTCACCTTTAAAATGGGGTAAGGCTACCTACCTGCTAAGGTTGCTCTTGACAATGAACAGAAGCTGGGTGAGTCACAGAGCGCCACTCATTCTCGTCCTGCCCGTGGTTTGGTGCTGCCTCAAGCAGCTTAAACCTGGAGGACAGATCAGCATAACACACCTTAGTACTTGATCTGCCTTGAATGATTGCCAAGGACTTCCGATCCCTAAACAAGGAAGCTGGAAGAGCCCACTTGGGAATCCAAAAGTGCAGCTCTGCTGTGTGACTCCGGTCCCGTGCCCCTCCTCTCTCGACGTCCGTCGAGCTCACACGTGGAGTCTGCAGCCAGGCTCAGAACTCGAACTCTGTCTGCAGCCTCTGAAGAGTTTGCTTCCCGCTTTAAGGGGCTGCCTCCCATGCTCATGGCTTCCAAGGACTTCCTGGCTCAGGGATAACCCTGCCTTTTCGTCTACAAACGCATCATTCATGGTGAAGGAAGATGCTCGGGCGGTGGGCGTGGAAACCTGAGCTCAGGGGGCTCAGGGTCGTTCCCCTTGAGCCCATCCGAGATGGGCAGCTGTCCTCAGATGCCACCCGCAGCCATTCGGGTTGGGCCCTCCCGAAGGAATGCTGGCATGTGTTTCTGTCTACCAGCTCTTTTTGCTCTACTCCCTTTGTCCTTTTTTTCCGTTCCGTTCAATATTTCAAATATCAGTTCATATACATTCAAAACCTTCAAACTCTGAATTACTTTTTGTCACGATTGCAATTTTTTTTAAATTTTTATTTCATTTGTCTATTCTTTGAGACGGAGTCTCGCTCTGTTACCCAGGTTAGAGTGCAGTGACCTGATCTTGGCTCACTGCAACCTCGCCTCCCAGTTCAA\n",
      "15M2D16M1I71M3D1M3D26M2D34M1D1M1D30M1I18M1I14M1I45M1I89M1I14M3D16M3D2M1I71M2I33M1I3M1I5M1I7M2I32M1I12M1D5M2D27M1D9M1D58M1D8M4D4M2I33M1D6M4D57M1I27M1D3M2I5M4D16M2I3M1I11M1I40M2D14M1D15M1I23M1D87M1I4M1I3M1D34M1I9M1D1M1D16M1I11M2D7M1I3M1D31M1D3M2D9M1D3M1I32M4D30M2I10M1I9M1I30M1I10M1D22M2D4M2I22M1I13M1I18M2I56M1I26M2I7M2I24M1I38M1I12M1I8M1D13M2I11M1D4M1D30M3I1M2D24M3D21M1I7M2D7M1I17M1D28M4D73M1D10M1D6M\n",
      "0.9244887257472469\n",
      "read_id: test_read_37_567712_569562 \n",
      "\tmap_start 10, map end 1849\n",
      "\t1850\n",
      "gtctctgggcttcagtttctccatctgtcaaATGGATGGTTAAACTCAGTGTTTCTAAAGGCCCACtgttcacccatccatccatccatccacccacccacctacccatctgcccacccatctatccatccccatccatccatccatccatccccatccatccatccatccatccatccatccacccacccacccatctatccatccactcacccacccatctatccatccatccatccacccatccatccatccaccaacccatctatccatccaatcacccacccatctatccatccaccaacccatctatccatccactcacccacccatctatccatccatccatccacccacccactcatctatccatccatccatccatccatccacccacccacctacccatctgcccacccatctatccatccccatccatccatccatccatccacccacccatatatccatccactcacccacccatctatccatccatccacccacccactcatctatccatccatccatccatctatccacccacccacccatcatccaCCCAACCAtctatccgtccatccatccattcagcaGATATTTCTTGAATATCATCTATGTGCCAGGATCCTttatttattaaagttaaaagacaaatcacagaCCTGTAGAAACATTTTAGAAAGACATACAAAATCATACTGGATTGGAAATGTAAATTTCCCCAGGACTTTTGTTCACCAGTGACTCTCCAATGCCATGCATGGGGCCACATGTCTACTAGGTGCTCTGTAAAATGTTTATTGGATGTAAGAATGAATAGGACATATTTTGCTGTTCTAAAGAGAGCTGCCTCCGAGTCTGAGATTGGAGTCAGACATCCTCTCTAGGACTTATTGAGAGGGGGCCAACTATCTTTGTCACCCCCATCCCTGACCTGCCCCACTGCCTCCCCAGCCCATATAAGCCAGTTTCTAAAGAGGATCTAAGGAGGATTGGCCAGCAGTGACTGGGGCAGGGTAGGGCACGGCATGCCCCCAACTCCCAAGCCCAGGTGGGCTCATGGTTTGGAGGGGAGAAGCTATGAACCAGAGGGAAACAGGCATTCCATCCCTTGATTGAACTCACTCTTGTTGATCTGCCCTGTGTCCATTGGGAGTGAGTGGAGAATGAATGAGAAATGCAAAAGGGGTGGGGTCTGGCAGAGGCAGCCTGCATTGCCACCATTTGACCAATTTCCTGTCAATTTCCTATATTTGGTCAAGTGGACATTGAAGGAGGCTCTTGAGCTTAATCTAAGCCATGGTTTTCCAGCCCAAAGGGGCATGAGGCTGTTGAAGTGGGGATGGGGTAGTGAGGAAGCTAGGGTGATCTGAAGAGGTCAAGCTCGTGCTCCTTGCTCAGTAATCACACCTGTGTACCAATTAGGCACCTGCCACACGTGGGAGAAAGGGGAGGGCATGGATGGAGGCAGAGGAACATTTAGTCCCAGTCCCTCCCTGCTGCTCACTGGTGATGGCCCCAGAGTTTTCTAACACCGGGAATTGTGGAGGCCACAGCAGCATCAGGGTAGTGACAGCTGTCTCTATCCCCATTCCTTCTTCTGCTCCCCAACATACAGGGGAGAAATCAAcccagagggaggagagaagagaatgagacaGCATGACATATCTCCCTACAGGGCAAATCAGTGGAGTCAGAAGCTGAGTCAGGCAGTGATGGGGAAGCAGTGATGGGAAAGGAGAGCTTCAAATCAgacctgtattttaaaaattcagcactGGACTAGGCTTTTTAATAGCTGAAAGTTACCAGAAAGCTTTGAGATCTGCCCAAAGTTATTAAGGATTGGAGTTTAAAAATACGACTGTgcattgggggtggggggtggggggtg\n",
      "\n",
      "GACTTCAGTTTCTCCATCTGTCAAATGGATACGTGCAAGTTCATGCTTGCTCAAGGCCCACTGTTCACCCATCCATCCATCCATCCACCCACCCCACCTACCCATCTGCCCACCCATCTATCCATCCCCATCCATCCATCCATCCATCCCCATCCATCCATCCATCCATCCATCCATCCACCCACCCACCCATCTATCCATCCACTCACCCACCCATCTATCCATCCATCCCATCCACCCATCCCATCCCATCCCACCAACCCATCTATCCATCCCAATCACCCACCCATCTATCCATCCCACCCAACCCATCTATCCATCCCACTCACCCCACCCATCTATCCATCCATCCCATCCACCCCACCCACTCATCTATCCATCCATCCATCCATCCATCCACCCCACCCCACCCTACCCATCTGCCCACCCATCTATCCATCCCCATCCCATCCATCCATCCCATCCACCCCACCCATATATCCATCCCACTCACCCACCCATCTATCCATCCCATCCACCCCACCCCACTCATCTATCCATCCATCCCATCCCATCTATCCACCCCACCCACCCATCATCCCACCCCAACCATCTATCCCGTCCCATCCCATCCATTCAGCAGTACTTCTTGAATATCATCTATGTGCCAGGATCCTTTCCTTCTAAAATTAAAAGACAAAATCACAAGTTCTCTAGAAACATTTTAGAAAGACATACAAAATCATACTCAATTGGAAATGTGCAAATTTCCCCAGGACTTTTGCTCACCAGTGACTCTCCAATGCCATGCATCAGACCTAGTGTCTCTCAGTGCTGTCTGAAATGTTTCTGGATGTCATTCAATCAGACATGCTCCTGTCTAAAGAAGAGCTGCCTCCCATCTAGAAATTGGAGTCAGACATCCTCTCTCAGACTTGCTCGAGGCCGAGCTCTCTTGTCACCCCCATCCCTGCCGCCTGCCCCACTGCCTGCCCAGCCCATATCACCCAGTTTCTAAAGAGATCTGAGATTGGCCAGCAGTGACTCAGCACGTCCACGGGCGTCCCCAACTCCCAGAGCCCAGGTGGGCTCATGGTTTCGGCTCTCGAACCAGAGGGAAGCCCGCATTCCATCCCTTGATTGAACTCACTACTACTAATATGCCCTGTGTCCATTGGGAGTCGTCGAATCGATCAGAAATGCAAAAGAGATCCATGGCAGAGGCAGCCTGCGTTGCCACCATTTACCGACCAATTTCCTGTCAATTTCCTATACTTGGTCAAGTGACATTGAAGGAGCTCTCAACTTAATCTAAGCCATGGTTTTCCAGCCCAAAGGGGCATGAGGCTGAAGTCGGGGATGGGGTAGTGAGGAAGCTCAGGGTCATGTAAAAGAGGTCAAGCTCATGCTCCTTGCTCAGTAATCACCTGTGTCCCAATTAGGCACCTGCCACACGTCAAAAAGGGGAGGGCGTCGATAAAACGCCAACATTTGCATTCCCAGTCCCTCCCTGCTGCTCACTTGGTGATGGCCCCAAGAGTTTCTAACACCGGGAATCTCGGCCGCAGCAGCATGGGTAGTGACAGCTGTCTCTATCCCCATTCCTCTCTGTGCTACCCCAACATACAGGGAATTCAACCCAAGAGGAGCCGTCGACGAGCATGACATATCTCCCTACAGGGCAAATCAGTCGAGATCAGAAGCTCGAGTCAGGCAGTGATCGGGGAAGCAGTGATGGGAAAGCCGAAGCTTCAAATAGATCTGTACTTAAAAATTCGGCACTGGACTAGGCTTAATAGCTGAAAGTTACAGAAAGCTTTCAATATACCCAAAGTTACTCATTCAAGTTAAAAATACGACTGTGCATTGGGGGTGATCAGCC\n",
      "28M1I3M1I8M1D2M1I45M1I137M1I12M1I4M1I4M1I20M1I24M1I3M1I17M1I7M1I21M1I7M1I40M1I4M1I4M1I35M1I12M1I7M1I17M1I24M1I7M1I4M1I21M1I4M1I11M1I16M1I3M1I13M1I4M1I4M1I15M1D40M1D15M1I7M1I55M2I63M1D22M1D8M2D13M2D9M1D7M1I14M1D3M1I35M1D3M3D4M1I7M1D18M2I46M1D5M3D2M1D18M4D2M2D3M1I6M1I3M2D14M1I24M9D5M1I75M1D3M2D27M4D2M1I30M3I37M1D12M1D4M1D47M3D6M1I23M1I10M1I34M2D33M2D21M2D1M3D5M2I7M2I26M1I13M1I4M1D16M1D3M2D15M2D32M1I2M1D6M1I14M3D12M8D4M2D11M1I37M1I9M1I15M1I21M2I2M1D10M1D9M1D26M3D17M1D13M1D17M3D8M1D28M\n",
      "0.9074733096085409\n",
      "read_id: test_read_38_984769_986669 \n",
      "\tmap_start 9, map end 1886\n",
      "\t1900\n",
      "GGTCTCATTTTCTCTCCCACCCTGCCCATAGGTTCATATCTAggtatataaataatgtataatatttttgtGTTCTCAAAACTTAAGTATATGCTGTTATACTGAATGCGACGTCCTGCTTATATTATATTTTCCAGATTGATATAAATGACACATATAGATCTTGTGACCAAGgacattttcttttcactgctGTGCAGCATtgcattatgtaatttttaactctttatccagtttttgGCAGATGgatatttaaattaattcagtTATCTTGTTATTCCTGACAATACTGCTATTACCATCTTATATGGGAATACTTGTGCTTACAAGCAAGGGCTCCTCTGGGGAACTAATCCAGGCATGCTCCTCCTGGGTCGTGGAATATATGTGCTGCCAGCCTGAGGCAGTTGCCAAATTGTGCTCCAAGTCTCTCTGTCGAGTTAATTCCAGTAGGGTGCCGGGGTCTCCATCGCTCCGCACCCCTGCCATCCCTTGAGATGGTCATGCTTTACCTTTGTTCCAATCTGATGGCTGTGAAATCGTACATGTAATTACATAGCCTGCTTTCCCTACTTAATAGTATATTACGGAACTATTTTCCTGTGCAGAATATTGTTCTATATGTGGGTGTTTCAAGGTGGCATAAGCTGAAAGCCTCCATTGGGGTGTTGCTGGGATTTTCTTAACCAATTCCCTATTGTTGGACAACAGGGTTTGTTTTTGTGGTAGGATTGCAAAACTGACCACAGATGCTACCCACCCCTATAAGCATGCTCCTTTGCAGTGTGACTCTGCAGTTCTCCCTATTAAGAGGCAAAGTTCACTTCTCCACTCCCTTAATGCTGACTtgggccatgtgacttgctttggccaatgggacatTTTCAAGCAGAGGCTTGAAAAGGGCTTGTGCTCTGGGGCTTGCTCTCTTGCTGCACCTGGGGCCCTGAGACCACCATGTGAATGAGTCCTGGCTAGCCTGAGGGATGATGAGACACACTTGGCCAAGTcatcctgtcatcccagctgatACTAAACCATCCACCAGATTTGTGAGTGAGGCCATCCTAGACCATCTATCTAGCCCAGCCAAACTGGTGCGGACCAGAAGCAAAGTCCAGTTGGCCTGCAgagatgtgaaaaataaatgttttaagccactaaattttagaGGTGGTCTGTTAGACAGCAAGCCTGATACAGTTCCACCCAGCATTTTCTTTGCTCAACCAGTTACTGGCTGggaaccttgggcaagttgctgagccttagttttctcctcAGTACAATGGGGGATTACATACGCACTCCTCAAAGTCGTTGTGAAGATTGGATGAGATGGCACCTGTCAGTATCACATGGCGGGGACCCCATAACCAGGGGTTCCTCTTTCACATCACGGTGGTCTTAGATGTGACCTGTGACCTTTCTTATTGCTTCTTGGTTCTCCCTGCTGCCTCTTTCTCAAAAATGTACTCATCCTTCCAAGTTTTCTGGAGAGTATCAACATGTAAGTGTAAATCACAATCCCTAGTGCTCTCCAAGACTTGCAGGTATCTCCTCCTTCCAGGGCCTTCCCTCTTGAAATTAGGCATagtggctgtgtgcagtggctcatgcctgtaatacaagcactttgggaggccgaagcaggccgatcccatgaggccaggagttggagatcagcctggccaacagggcgaaactttgtctctactaaaaatacaaaaattcaccgagcgtggtggtgcatgcctgtaatcccagctactcaggaggcggaggcatgagaatcgcttgagtctgggaggcggaggtttcagtgagccaagatggcaccactgcactccacactccagcaagacccggtctcaaaaaaaaaaaaaaagtaaggaaaagaaaaagaaaagaaaaggagtctccatccagaccccaagagagggtttcGTG\n",
      "\n",
      "TTTTCTCTCCCACCCTGCCCATCAGTTAGATATCTAGGTATATAATAATGTCTCATGCTTTGTGCTCTCAAAAGTTCCGTCTATGCTACTATACTGAATGCGACGTCCTGCTTATACTATATTTCCAGATTGATATAAAATGACACATACTCAGATTGCTGACCAAGGACATTTTCTTCACTGCTGTCCGCAGCATTGCATTATGTAATTTTTAACTCTTTGTCCCAGTTTTTTTGGCAGTCAATATCCCGAATTAATTCGGTTCTCTGCTCTCCTTGACAATACTGCTACTACCATCTATATCAAAATGTTGTGCTTACAAGCAAGGGCTCCTCTGGGATTTGATCCAGGGCGTGCTCCTCCTGGGTCGTGGAATATATGTTGCTGCCAGCCTGAGGCAGTTGCCAAATTGTGCTCCAAGTCTCTCTGAGTTAATTAGGGTCAGATCTCAGTATCCATCGCTCCCGCACCCCTGCCATCCCTTGCCGATGGTCGTGCTTTACCTTTGCTCCGATCTGATGGCTGTGAAATCATACATGTAATTTACATAGCCTGCTTTCCCTACTTAATAAGTATACTACGGAATATTTCTTCCTGTGCAGAATCTACTGCTCTATATGTCAGTGCTGCAAGGTGGCATGCAGCTTGAAAGCCTCCCATTCAGGATGCTCAGATTGCTTAACCAATTCCCTCTGCTCAACCAGGTTTTGCTTTTTGTGGTCCAGTACAAAAGTCGCCCACAGATGCTACCCACCCCTATAGCATGCTCCTTTGCAGTGTGACTCTGCAGTTCTACCCTGCTCAGCCGCAAAGTTCACTTTCCCACTCCCTTAATGCTGACTTGGGCCATGTGACTTGCTTTGGCCAATGGGACATTTTCAAGCAGAGGCTTGAAAAGGGCTTGTGCTCTGGGGCTTGCTCTGCTCCTGCGCCTGGGGCCCTGGAGCCCACCATGTGAATCAGTCCTCGCTCCTCTCGAGGTGGTCAGAGACACACTTGGCCAAGTACATCCTGTCATCCCAGCTGATACTAAACCATCCACCAGATTTGTGAGTGAGGCCATCCTCAACCATCTATCTAGCCCAGCCAAACTCATTTAACCAGAAGCAAAGTCCAGTTGGCCTGCAGAGATGTGAAAAATAAATGCTTTAAGCCACTAAATTTTAGAGGTCAGTCTCACAGCAAGCCTGATACAGTTCCACCCAGCATTTTGCTTGCTCAACCAGTTTTGGCTGGGAACCTGGGCAAGTTGCTCAGCCTTTAGTTTTCTCCTCAGTACAATCAGAGTGCATCACACTCCTCAAAGTCGTTGTGAAATTCAGTCGAGATCGCACCTGTCAGTCACGTCGCAGAGTACCCGTGGCCCAGGGTCCCTCTTTCACATCACAGTAGGTGCTGCGATCTGACCTGTGACCTTTCTCTGCTTTTCTTGGTTCTGCCTGCTGCCTCTTTCTCAAAATCTACTCATCCTTCCAAGTTTTCTGGAGGTCTCAACATGTTCATCCGAATCACAATCCCTTAGTGCTCTCCAAGACTTGCAGGTATCTCCTCCTTCCAGGGCCTTCCCTACTTGAAATTCAGCATAGTGGCTGTGTGCAGTGGCTCATGCCTGTCATCAAGCACTTTGGGAGGCCGAAGCAGGCCGATCCCATGAGGCCAGGAGTTGGAGATCAGCCTGGCCAACAGGGCGAAACTTTGTCTCTACTAAAAATACAAAAATTCACCGAGCGTGGTGGTGCATGCCTGTAATCCCAGCTACTCAGGAGGCGGAGGCGTGCGAATCGCTTGAGTCTGGGAGGCGGAGGTTGCAGTGAGCCAAGATCGCACCACTGCACTCCACACTCCAGCAAGACCCGGTCTCAAAAAGTAAGGAAAAGAAAAAGAAAAGAAAAGGAGTCTCCATCCCAGACCCCAAGAGAGGGTTTCGC\n",
      "22M1I20M1D13M1D65M1D15M1I12M1I1M1I3M2D3M1I17M2D11M2I34M1I4M2I10M1D7M1I19M1D31M1D11M1D27M1D13M1I31M1I46M3D8M5D6M2I1M1I17M1I21M1I56M1I27M1I14M1D4M2I13M2I34M1I4M1I9M1I8M2D10M1D18M1D5M3D3M1I9M1I10M2I2M3D9M1I25M1D34M1I147M1I28M2D3M3I4M1I5M1D19M1I89M1D75M1I5M4D51M1D13M1D18M1I22M2D10M1D24M1D3M1I21M2D49M1I3M1I25M2D4M2I29M1D32M1D31M1I49M1I47M1D245M10D42M1I23M\n",
      "0.9394697348674337\n",
      "read_id: test_read_39_924040_925990 \n",
      "\tmap_start 7, map end 1948\n",
      "\t1950\n",
      "TCTGGTTTTTGCCTTGGAGCAGGAACTTTTGACAAGGCTGCGCAGATGCAGCCACATGAAAACCGcccattaaaaatgtaatatcgGCCCGgagcgggggctcacgcctgtaatcccagcactttgggaggccgaggcaggcagatcacttgaggtcaggagttgaagaccagcctggccaacatggtgaaaccccgtctctactaaaaatacaaaaaatagccaggcgtggtggcatgggcctgtaatcccagctactcgggaggctgaggcaggagaatcacttgaacccaggaggcagagattgcagtgagtcaagattgcaccactgcactccagcctgagcgacagagcaagactctgtctcaaaataataataaaatgtaatattcacTCTTATCAAATAATGGATGTCACCACACCCCGACCCTAATTAGTGAGGACTTTCATGTTCTACTTGTCTTCATTTAATCATCATTGTATAAGAGTTTTACAATATCAAATTAGTAGATGTATATTACTGAAAGGGAAGGACTGTTAGAAATTTACTTGAGGAATGTCTGCCACTGGGGGCTGAACACAAAAGATCCTATTGTGACCTGCCAGATTATTCATTCACTTAGCAATTCAACAACCATCGCTGAATGCCTACTATAGGCCAGGTGCCATGCAAGACAGATGTGCTCCCACCCTCAAGGGTTCACAGTCTAATAGAGGAGAGAGATGTTAAACAGATAACTGTACAGATGGCATAGCTAATTATATTCGTGGAAGTTCGTTGTGGCAAAGACAGGCATCTCAATATTTCAGGAGCTCCCCTATATTTTCTAGCCTCCCTTACAGTCACATGACTAGTTCTGACCAGTGGGGTGTGTGTAGGAGTGGCAGGCTGAAGCAATGGAGAGCTGGTGAGCCTCATCCCTCTCTTCCCCTGCCACAGCCACCTTGCGCCCACAAGTTCCCTTAGCTACAAGCTGGAGGAGAGCCACCAGATCCACCTTAGATTTCACTGAGCAAGAAATAAAGCTTCTTGTGTTAAGTCTTTCAGATTTGGAGTTTGTCTGGTAGATAGTGTTAATTACCATGACTAAGGAAAATTTGCCATTAGTGAAGGGAGGAAAAATATTCTCCACCAGTAACAAGGCCATGTCAGTCTGCTGCATTATAAACCCCAAACAGTAGTTTATGATCCTCTGGGCTGGCAATTTGGGCTGAATTCAGCTGGGTCACTCCTGCAGCTGCAGGCAGCAAGCAGCTCGAATGTCTACCTTGCCAGGAAGGCTCTTCTCTGCTCCACATGGCCTCGTCCTCCAATAGGCATAGCCTACTCCTTCCTATGGTGGTCTCAGGGTTTCAGAAAGCAACAAGAGAGGACAAATTCCAGTGTTCAAGCTGCACTAGTGTCAAAGCATATCAAATAGCATGTCAAATTCCACATCAAATTCAGGATGCAGGCAAATTGATTCTTTCTCTTGATGGGAAGAGCTGAAAATAATGTGTGGTCTTGTTTTTCAATGTACAGTGGTCCCATTTATCCaggggggatacattccaagacccccagtggatgcctgaaaccacagatagtacagAATTCTGTATATACCATGTTTTttactatacatacatacctacgataaggtttaatttgtaaattaaactcTTACAAATTAAGAGTTAacaacagctgggcacagtggctcacgcctgtaatcccagcactttgggaggccgaggtgggcggatcacgaggtcaagagatcgagaccatcatgaccaacatggtgaaactccgtctctactaaaaatacaaaaattatctgggtgtagtggcgcatgcctgtaatcccagctacttgggaggctgaggcaggagaatcatttgaacccgggaggcggaggttgcagtgagctgagatcgcgccactgcactccagcctggtgacagagcgagactccacctcaaaaaaaaaaaaaaaacaaaaaaaacaaacagttaa\n",
      "\n",
      "TTTGCCTTCAACCCATTTTTTGACAAGGCTGCGCAGTGCAGCCACGTGAAACCGCCCATTAAAATGTAATATCAGCCCGGAGCGGGGGGCTCACGCCTGTAATCCCAGCACTTTGGGAGGCCGAGGCAGGCAGATCACTTGAGGTCAGGAGTTCGAGACCAGCCTGGCCAACATGGTGAAACCCCGTCTCTACTAAAAATACAAAAAATAGCCAGGCGTGGTGGCATGGGCCTGTAATCCCAGCTACTCGGGAGGCTGAGGCAGGAGAATCACTTGAACCCAGGAGGCGGAGATTGCAGTCAGTCAAGATTGCACCACTGCACTCCAGCCTGAGCGACAGAGCAAGACTCTGTCTCAAAATAATAATAAAATGTAATACTCACTATCAAATAATGGATGTCGCCCCGCACCCCGACCCTAATTAGTCAAGTTTTTTCATGTTCTACTTGTCTCATTTTGATCATTGGTCTACAAGTTTTTTACAATATCAATTAGTACGATGTATACTACTGAAAGGGAAGGAGCTACTTAGAAATTTACTTACGGGAGTGTCTGCCACTCGGAGCTCAACGCAAAAGATCCTACTGTGACCTGCCAGATTCATTCACTTAGCAATTCAACAACCATCGCTGAATGCCTACTATAGGCCAGGTGCCGTGCAAGACAGATGTGCTCCCCACCCTCAAGGGTTGCACAGTCTAATCAAGGAGAGAGATGTTAAACGGTCGCTCTTACAGATGAGCATAGCTAATTATACTCGTGGAAGTTCGTTGTGGCAAAGACAGGCATCTCAATCTCTGCGGAGCTCCCCTATATTTCTAGCCTCCCTTACAGTCACATGACTAGTTCTGACCAGTGGGGTGTGTGTCAGTGGCCTTAGAAGCAATCGAAGGCTTTGGTGAGCCTCATCCCTCTACTCCCCTGCCACAGCCACCTTGCGCCCCACGAGTTTCCCTTAGCTACAAGCTGGAGGAGAAGCCACCAGATCCACCTTCAATTTTCACTCAAGAAATAAAAACTTGCTCTCTACATCTCAGATTTGGAGTTCTCTGGTGGTCGTGCTTAATTACCATCACTCAAAATTTGCCATTAGTGAAGGGAGGAAAAATACTCTTCCACCAGTAACAAGGCCATGTAGTCTGCTGCATTTATAAACCCCAAACAAGTAGTTTATGATCCTCTCAGCTAGCAATTTGAGCTAATTCAGCTCGGTAGCTACCTGCAGCTGCAGGCAGCAAGCAGCTCGAATGTCTCCTTGCCAGGAAGGCTCTCTCTGCTCCACATGGCCTCGTCCTCCAATAGGCATAGCCTACTCCTTCCTATGGTGGTCTTCGGTTTTCAGAAAGCAACAGAGGACAAATTCCATGCTCAAGCTGCACTACATGTCAAAGCATACTCAAATAGCATGTCAAATTCCACATCAAATTCAGGATACGAGCAAATTGATTTTACTTACTCTAATCAGAAAGCTTTGAAAATGATGTCTCATGCTTTTCAATGTACAGTCGTCCATTCTGCAGTCATTCCAAGACCCCCAGTCAATATTGCTGAAACCACAGATACATACAGAATTCTGTATCTGCCATACTTTTTACTATACATACATACCTACAAATCATTTTTAATTCTAAATTAAACTCTACAAATTAAGAGTTTAACAACAGCTGGGCACAGTGGCTCACGCCTGTAATCCCAGCACTTTGGGAGGCCGAGGTGGGCGGATCACGAGGTCAGATCGAGACCATCATGACCAACATGGTGAAAGTCCGTCTCTACTAAAAATACAAAATTATACTGGGTGTCGTGGCGCATGCCTGTAATCCCAGCTACTTGGGAGGCTGAGGCAGGAGAATCATTTGAACCCGGGAGGCGGAGGTTGCAGTGAGCTGAGATCGCGCCACTGCACTCCAGCCTGGGTGACAGAGCGAGACTCCACCTCAAAAAAAAAAACAAAAAAAACAAACAGGTTG\n",
      "19M1D12M1D12M1D23M1I299M3D17M2I24M1I24M1D6M2D9M3I20M1D8M1I25M1I2M1I15M2I1M1D53M3D76M1I16M1I31M1D7M1I9M1I74M1D53M2D7M3D2M2I15M2I44M1I8M1I25M1I18M1I10M3D11M2D6M1I3M1I6M2D12M1D9M1D7M1I15M3D36M1I22M1D11M1I15M1I36M1D17M1I35M1D17M1D80M3D15M1D16M1I13M1I52M3I7M1D9M1D3M2I12M3D25M1D3M1D8M6D1M1D21M3I2M1D15M1I49M1I12M1D15M1D13M1I78M3D53M1D8M1I120M1I24M5D27M\n",
      "0.9301075268817204\n",
      "read_id: test_read_40_399721_401721 \n",
      "\tmap_start 26, map end 1996\n",
      "\t2000\n",
      "TTGGGAGGCGGAAGTGAAGCTGGTGGCATGAACCATTCTCAGTGACCTTTCACCAGGGTGAGTGGGAAGTAGTTGGGAGCATCGAGGCCTCACTCTCCATCCTGAAGATGGAGCACAGACTGGCTGGCTGAGGCCGGGAGCTCATCACGGGATGGAGACAGATTGGCAGACAAAGAGGAGGCGGGCGGTTGGGGCTGGGTGCCCCTGGGGAGGAAGGCGGGGAGAGAGCGTAGGAGCAGGAGGAAAGAAGGCTGGGCTTATGTGCAGCCTCACAGACTGGGCCTGCAGAGTCTCCAGCTGGAGGTTGGGACTGGACCTTCCTCCTGAatgggcagggagggaggcttGTTGGCCTAGCCCTCGGGGTTCTTGAAATAAATGAGGGAGGGCCTTGGGGGGTGGTAAATTGCTGAGGCTGTGATAAACATTCTCCCCTTCCcacaaaacacacacaggcacgtgtgcgtgcatacacatacacacacacaccctggccACACTGCTGTGCATATCTTACTGATTGTTGTCCTCTGTGACAGCAGTTCTCCAAGTTGAGTGCATTGGAAGGAtcagttaaaatgcagatttccaggCATTTCCATCTCTAAATGTAGGGTGTGGCCTGAGAATGTGTATGTCTTACAGGATCCTGGTTGATGCTGATGCTGGGGGTTCTGggacacactttgagaaccactgctccatTGAGCAGCCTTTCAGTTTGGGTGCCCCTCGGTGCTGGTGCTGGGAGAGAGTTAGGAGGGCAAGGGGGTTAGTGAGGGCTGCTACCTGTGAAACACAAAGCAGGAGGGAATGGAATTGGCCAGGAGAGCCTCAGACCACAGCCCGGGCCTGCAGAGTCACCCTCTAGGGGTCTCTGGAGTAAAGATTATCCACAGAGAAGCCCCACATGGGGCAGAAATGGCCAGGCCCTGGTGCCTCTGCTAGCTCAGTCTGGCTGGGACGACCTGGGAAGAACATGGCCTCAGTTCCAAAGCCAAGGCGGCTCCTGGAGgagctgcagctggaggctgtcaCCTTGCTGCCCTCCTTGCTGCTGAAGGACAAGCTTTTTCTTGAAGAGAGACTGTGTCCCATCCACAACTGCCCCAGGCATCTACcacatgccaggctctgtgcagaGTGTTTACCTGGATGAATGCAGTTTCAGATCAGAGCAACCTGGCCAAGCAAATATAATCGTCCCCATCTAATAGATGGGGAAAATGAGGGATTAAGTCATCTGCCCAGTGGTGGAGTCAAGATTTATCCCCTCTTGTGCCTTAGCACTCATCCCTGTCAGCTTCCCTGGGTGGTGAAGAACATTAGCTCCTTTTACACCTGAGGAATCTGAGGTGTGGAGAGGTCAGTGACTTGCGGTAGAGGTGGGTAGAGGATCCGGGATTCCAACCCTGCTCATGcccctctttttaaatttcaagatgCTGTCCCTTGAGTACTTCTAGGGGGATGTAATGGCAGAAACTTGGGGCTGGAAGAAGCCTCCCTGGCATTTGACAGGTGGGtacactgaggcccagggaggcaaTCAGCCGTGCCTCAGTGCCTCTCTCTGCCCTGAAGGGGCTCCCTGTTGTGTGTGGGGTATAACCCCCCCGTAATTCATGCATTCAGCACACACTGGTGGGCACCCATTGTGGGTCAGTCCCCCAAGCCAGAGTACTGTTGGTGAGTGGGAAGGCAGACGTGGGTGCAGAGGGTCTGTGCAGTGATTGGGGATGCACTGGGGATTGGAGGGGGCAGTTGACATGTGTGGGGTGCATgcagggaggcttcctggaggagatagtctgagagaggaggaggtgagaAGGGTACTCAAGgatgagaaaagaacagaaacaaaggCTTGGAGGTGGGGGAAGTGATATTGCCTTTAGGAAATTGATAGAAAATCTGTAGCTGAGATAGTGTGGGGAAGGTATGGCCAGAAATGAGGTGGAAAGTGGAAGCTTGGCCTGGGGAAGTGGTGGAAAGCTCTGGACTTGAACCATGACCCTGGTTCTGTTCAAGGCAGGGCTACTCTCTG\n",
      "\n",
      "CTAAATCGAAGCTGGTCGCATGAACCATTCTCAGTGACCTTTCACCAGGGTGAGTGGGAAGTAGTTGGGAGCATCGAGGCCTCACTCTCCATCCTGGAGTGGAGCACAGACTGGCTGGCTGAGGCCGGGAGCTCATCACGGGATGGAGACAGATTGGCAGACGAAGAGAAGCACGTGGGGCTGGGTGCCCCTGGGGAGGAGCGAGGAAGAGCGTCAGAGCAGGAGAAGGCTCAGGCTTTATGTGCAGCCTCACAGACTGGGCCTGCGAGTCTCCAGCTGGAGGTTGGGACTGGACCTTCCTCCTGAATGGGCAGGGAGGCTTTTACTCAGGCCTAGCCCTCAGTTACTGAAATCAATGAGGGCCTTGGGGGGTGGTGAATACCTGAGGCTGTGATAAACATTCTTCCCTTCCCCACGAAAACACACACAGGCACGTGTTGCATGTAGTACACATACACACACACACCCTGGCCACACTGCTGTGCATATACTTACTGATTGTTGTCCTCTGTGACAGCAGTTCTCCAAGTTGAGTGCATTGGAAGGAGTACATTTGAAGTCCAGATTTCCCAGGCATTTCCATCTCTGCAATCTAGGGTGTGGCCTCGATGTCTATGTCTACAGGATCCTGGTTGATGCTCGATGCTGGGGTCTGGGACACACTTTCGAGAACCACTGCTCCCATTGACAGCCTTTCAGTTCAGTGCCCCTCGGTGCTCGTGTATCAGAGAGTTTCAGAGAGCACGGTCAGTGAGGGCTGCTACCTGTGAAACACAAAACGAGAAATGGAATTGGCCAGGAAGCCTCAACCACAGCCCGGCCCTACGAAGTCACCCTCTCAGGGGTCTCTGAAGTAAGGGGCCCATCCACAGAAGCCCCACATCAGACGGGAGTGGAAAGGCCAGGCCCTGGTGCCTCTGCTAGCTCAGTCTGGCTCAGGACGACCTCGAACATGGCCTCAGTTCCAAAGCCAAGGCGGCTCCTGGAGGAGCTGCAGCTGGAGGCTGTCACCTTGCTGCCCTCCTTGCTGCTGAAGGACAAGCTTTTCTTGAAGAGAGGAGCTCTGTCCCATCCACAACTGCCCGGCATCTACCACATGCCAGGCTCTGTCCCGGAGTGCTTACCTGATCATGCAGTTTAGATCAGAGCAACCTGGCCAAGCAATCTACAATCGTCCATACTAATAGATGGGGAAAATCGAATTAAGTCATTGCCCGTGGTGGAGTCAAGATTTATCCCCTCTGTGCCTTAGCACTCATCCCTGTAGCTTCCCTCAGGGTGGTGAAGAACGTTCACTTGCTTTACACCTGAGGAGTGTCGGGGTCTGAGAGGTCATGCATTTGCGGTAGAGGTCGGTCAGGATCCGGGATTCCAACCCTGCTTCATGCCCCTCTTTTAAATTTCAGAGATCTATATCCCCCTTGAGTACTTCTAGGGGGATGTAATGGCAGAAACTTGGGGCTGGAAGAAGCCTCCCTGGCATTTGACAGGTCAGGTACACTGAGGCCCAGGGAGGCAATCAGCCGTGCCTCAGTGCCTCTCTCTGCCCTGAAGGTGCCTGCTGTGTGTCGGGTATAACCCCCCCGTAATTCAGTGCATTCAGCACACACTGGTCGCGCCCCATTGTCGGGTCAGTCCCCAAGCCAAAGTACTGCTCGTGAGTCGGGGAAGGCGGAGCGTGGGTGCGGTTCTGTGCAGTGATACGGAGATGCGCTCAGAATCGAGGGGCGGTTGCGACATGTGTCGCGGTGGTCCCGAGAAGCTCCTGGAGGAGATAGTCTGAGAGAGGAGGAGTGGAGAAGGGTACTCAAGGATAGAGAAAGAACAGAAACAAAGGCTTGGAGGTGGGGAAGTGATACTGCCTTTCAGGAAATTGATACGAAAAATCTGTAGCTGAGGGATCATGTCGGGGAAGGTGCTCGCCGAAATGAGGTCGAAAGTGGAAGCTTGGCCTGGGGAAGTGGTGGAAAGCTCTCGGTTTTGAACCGTGGCCCTGGTTGTGCTCAGCAGCAAGGCTACTCTCC\n",
      "92M1D68M1D5M2D3M2D25M2D7M1D16M5D8M1I4M1I29M1D46M4D12M2I1M2I12M2D16M4D53M1I5M1I20M1I8M1I42M1I57M1I1M1I18M1I18M1I18M1D2M1D11M1D21M1I10M2D15M1I13M1I7M1D11M1D23M1D12M2I1M1D7M3D34M2D4M1D19M1D7M1D31M1I17M2I11M2D13M5I3M1I7M1D37M1I10M4D96M1D14M1I2M1I23M2D26M1I15M1D3M1D10M1D25M1I10M2D4M1I18M1I2M3D10M1D5M1D26M1D23M1D9M2I42M1I7M1D9M1D2M1I19M1D24M1I11M1D12M1I4M1D4M4I74M1I62M3D38M1I20M1I4M1D8M1I8M1D27M2I11M1I9M3D16M1I12M1D9M1D9M2I9M1I6M1D12M1D52M1I3M1D27M1D20M1I12M1I1M1I15M2I8M1I9M1I6M1D51M1I30M2I1M1D14M\n",
      "0.9197355996222851\n",
      "read_id: test_read_41_719830_721880 \n",
      "\tmap_start 15, map end 2048\n",
      "\t2050\n",
      "GGGTGTTTTCAAACAGAGTCAGAAAAAACACAACTATACTGCGAGCAGCATACAAACCTGCTTTGGCTGCACTTCACTGCTCATGGCATAAGGCCACGAAGAGGCCAATAAAGGCTGGAGCTCAGGAGCATCAACCCAGATTCAAGGCTTCCTCTCTGGCACCCAACCATGAAGCTCCTTTTTCCTATCTTTGCCAGCCTCATGCTACAGTACCAGGTGAACACAGGTAATGTGGATTCCCAAGTTTAAGATGGGTAGATGAGAGGAACCAAGGATTTGGCTGCCCATGACAATGGAAACCCAAAGAGAGGAGACTGAAAGATTAGCTGTTCAAAAAGATGGCTAAAGAGCTTACCTATTGTATCAGTCATGCACTGATACATTCTCATAGGCCCCAACTGCCAGATTGTGTCCAGTGGAAACACCCAGGAAGCTACAGAGAAAGCAGGGTATTTTTTGTCTATTcagaaactatccaaaatataATGCTGCCTTCCTGCCCTGTATATGTCTATCATGCTAAGACTAAGCCCAGGTCTACCTCCTTTTAGCTCTATTTCTATCTTAAaagccctttttttttaaaaaaagtcctgGGGTACTTGTGCAGGATGTgcggtttgttacataggtaaatgtgtgtcatggttatttgctgcacctaccaacccatcgcccaggtattaagcccaggatgcattagctatttttcctgatgctctccctccacccaacaggccccagtgtgtgttgttccccttcctgtgaaaCCACCTCTTGAAGCAAAGTTTCCTATCAGTTTGTGCTTGGTGTAGAAAGGAGGAAGTTCTTCCCTCATgctcaaaaaaaaaccctttcaaGATCAAGTAAACAGGCCTGTGTTCTCCATCTTGAATTCTTTCAGGTTTTCCAGAGCCTTTATCGCTTCTCTCAGACTTTGTCTTCCTGAAAACCCCCAAACTACCATAAGGGCATCTAGGAATGCATTATAGCAAAAGGCTAAGCCAGGGGATTAACCATTGTTtttggaaaagaaaggagaagcacTGAGATTTGTTTCAGAATACAAGAATCATCCAGCtatttgaaaaaattagcaaagggTTTCGGGGCAGGGAAAGTGGAAGTGTCAAAGATGCTTCTAATGTTTTTATCTTCTAATGTTTTTATCTTGGGACCCTAGGAAAAGGGTAGTACCATAAGCAAGTATGGCTGTGTCATCTTGGGTAAAGTCACTTAACCACTTTGAACTTCAATTTCACATGAGTATAATGGGGTTAATCAATGCAGCTGATTCCAATATAAGAATTTTTCTGTTTCCCGTTTGATGAGAAAACAATGTGGAAATGTATGCAAATATGCTTTGAAAATTAGCAGATGCTACATAAATCTCTTGTAATTTAGGGAAAATCATTGGGTTATTAAGATGAACAAGGGAGAAAAGCTTTCTTgattcagaaaaaagaaacacgAGACATTAGGATGGAAAAGTCATTCAGCAGATAAAGATAAGGTACTAAGCCGAGCAGGAAATTTAGAATTATAGATAACAATACAGAAGTTACCTTGGTGGATATGAGGTTAAGGCTAGGATAATGAATGAGACTTCTGAGAGATAGAGTGTCCAAAGAGGCTAGAAGAGATAGAACACCATGCTTCAGGAATCACAGATCTAGTGATTGTTGAGAAGAGAGAAGTCATGGGCTACTGAGTTTGGTGAAAAGATAAGACTCCTGAAAATTCTATTGATTCTCTTTTGAACTTCTTTCTTAAATTAGTTTTATGATGGACTTGGCTCTCATTGGTATTTCCCAAGATTATGGAGATGGGATAGTGATGTCTGACAAGTACCTAAGATGCTAAGTTGAAGGTCTAAAATTCCATCCTAAAAGCAAATAATTACTCTATCATCTACGTGCCCTTTGCTTCTTAAAGTTACTCAAGGAAGGCAGACTAAACAGGAAATTTACTTTGGATTCAAGAGGGGCATAGAGACGCTCTCAGCCTGCCCATTTGCCTTCATCAACATTCCTAAACACTGGGCTTAAAATGTAGTATGAGTAAACTCTCTCTTAGTCTATCCATCTCCCACTAGCAGTT\n",
      "\n",
      "TTCAAACAAAGTCGGAACAACTACTGCAGAGCAGCGTACCGAACCTGCTTGGCTGCACTCACTGCTCATCGAGCATAAGGCCGCGAAGAGGCCAATAAAGGCTGGAGCTCAGGAGCATAGACCCAGATTCAAGGCTTGCCTCTATTGGCACCCAACCATCGAAGCTCCTTTTTCCTATACTTGCAGCCTCATGCTACAGTACCAGGTGAACACAGGTAATGTGATTCCCAAGTTTCATGGGTAGTCGGCCGCCAAGGATTTGGCTGCCCATGACAATGGAAACCCAAAGAGTTTTGAAAAATTACACTCTCGAAAAAGATACGCTTCACTTACCTGCTGTATCGTCATGCACTGATACATTCTCATAGGCCCCAACTGCCAGGATCTGTCCCAGTGGAAACACCCAGGAAGCTACAAGAAAGCCAGGGTTGTTTTTTGTCTCTCAGAAACTATCCAAAATCTGCAATTTCTGCCTTCCTGCCCTGTATATGTCTATCATGCTCAAGTTTCAGCCCAGGTCTACCTCCTTTTAGCTCTACTCTCTGCTTAAAAGCCCTTTTTTTTAAAAAAAAGTTGCCTACGGTCTGCAGGATGTGCGGTTTGCTTACATAGGTAAATGTGTCATCGTTATTTGCTGCACCTACCAACCCATCGCCCAGGGTCTGACCCAGATACGTTGGCTCTTTTTCCTACAATGTACTCTCCCCTCCACCCAACAGGCCCCAGGTGTCTGTGTGCCCCTTCCTGTGAAACCACCTCTCGAAGCCAAAGTTTCCTATCAGTTTGTGCTCATATCAGAGAGGAAGTTCTCCCTCATGCTCAAAAAAAAAACCCTTTCAAGATCAAGTAAAACAGGCCTGTGCTCTCCATCTCGATCTTTCGGTTTTCCAGAGCCTTTATCGCTTCTCTCAGACTTTGTACTACCTGAAAACCCCAAACTACCATCAGGCATCTAGGAATGCGTTGTCAGCAAAAGGCTGGCCGATAACCATTGCTTTTTGGAAAAGAAAGGAGAAGCACTCGATTTGCTTCAGAATACAGAATCATCCACTGTACTTGAAAAAATTGGCGAAAGGGTTTCGGGGCCCCCAAAATTGGAAGTGTCAAAGATGCTTCTAATGTTTTTCTGTAATACTTTTATCTCAAATTGTACTAGGAAAAGGGTAGTACCATAAGCGGTCTGGCTGTGTCATACTTGGGTAAAGTCACTTAACCACTTTTGAACTTCAATTTCACATGAGTATAATCGGGTAGTCAATACAGTTTCATTCCAATATCATTTTTGTGCTTCCCGTTTGATCAAGAAAACAATGTGGAAATGTACTGCGAATATGTCTTTGAAGTTACCGACGAGATGCTCGTAAAATCTGCTCTAATACGGAAAATCATTCGGTTGCTCAAGATGAACGAGAGAAGCTACTTTAATTCAGAAAAAAGAAACACAGACATTAGGATCAAAGTCATTTCAGCAGAATAAAGATAAGGTACTAAGCCGAGCAGGAAATTTCGAGTTCTCAGATAACAATACAGAAATTTGCTCATCGAGATGAGGTTAAGGCTGCAGGATAATCAATCAAGTTTCTCAGAGAGATGATCTCCAAAGAGGCTCAAGAGATCAAGACACCATGCTTCAGGAATCACAGATCTACATCATACTTCAAGAAGAGAAGTCATGGGCTACTCATTTTGGTGAAAAGAATAAGACTCCTCGAAAATTCTGCTCATTCTACTTTTGAACTTACTTACTTAAATTAGTTTTATGATGGACTTGGCTCTCATTGGTACTTCCAAGATTATGGAGATGGGATAGTGATGTCTGACAAGTACCTACAAGATGCTCAGTTGAAGGTCTACGATTCCATCCTAAAAGCAAATAATTACTACTATCATCTCGTGCCCTTTGCTTTTACTAAAGTTGCTCCGAGGAAAACCGCTTCAACCCAAAATTTACTTTCAATTCAAGAGGGGCGTGGAGACGCTCTCAGCCTGCCCATTTGCCTTCATCAACATTCCTAAACACTCGGGCTTGAAAATGTCATCGTAAACTATTACTACTTAGTCTATCCATCTCCCACTAGCAGTT\n",
      "16M6D5M2D6M1I10M1I9M1D10M1D11M1I1M1I65M1I5M1I15M1I23M1D39M1D13M2D9M1D7M2D40M4D13M1I15M1I7M3D15M1D46M1I26M1D6M1I5M1I12M1D21M2I2M1I35M1I35M1I5M1D30M2I8M1D1M3D18M1I13M2D41M1I7M2D4M1D21M2I4M2I4M1I21M1I7M1D32M1I23M1D6M1I3M3D10M1D12M1I26M1I26M2D6M1D38M1I11M1D16M1D20M1I11M1D4M4D2M1D9M1I26M1D18M1D11M2I1M1D17M1I14M4I2M3D34M2D2M1D16M4I5M2D25M1D16M1I23M1I33M1D12M1I13M3D23M1I22M1I10M1I5M1D8M4I7M1D3M1I13M2D19M1I12M4D35M1D12M2D8M1I8M1I42M1I22M1D22M2I21M2I7M1D2M1D14M1D8M2I2M1D28M1I9M1I4M2D34M1I11M1I18M1I11M1I46M1D42M2I51M1I9M1D16M2I10M1I100M1I6M1I7M2D3M1D10M2I2M1I29M\n",
      "0.9161704076958315\n",
      "read_id: test_read_42_227120_229220 \n",
      "\tmap_start 7, map end 2100\n",
      "\t2100\n",
      "TTTTCAGTGTTGTTACTGATGTTGCTCAGTGTACTGTGATTACATGAGAGCCTTATATTTAGGAAATATGTCCTGAAACACTTGGGGTAAAAAGATGTCATGTTTGCAACTTACTCTTAAATAGTTCAGAGAAAAAGTGTATGTCTATGTGTAAAgcgaaggaaagacagaaagcagCTAAAAAAGCaaatgtaggccaggcgcggtggctcacgcctgtaatcccagcactttgggaggcagaggcaggtggatcacgaggtcaggagatcgagaccatcctggctaatatggtgaaaaaccccgtctctaataaaaaatacaaaaaattagctgggcgtggtggcaggcgcctgtagtcccagctacttgggaggctgaggcaggagaatggcatgaacccaggaaccagagcttgcagtgagctgagatcgtgccactgcactgcagcccgggcgagagagcaagactccgtctccaagaaaaaaaaagcaaatgtagtaaaatgtgaaaacaaaaggaaatctgGGTAAAAGGTATCTGGGGAATTCTTTGTCCTATTTTTACAACCTTTCAGTAagtatgaaattatataaaaataaaaaaattttaaagttacacGGTCCCCTTTAAACCAAAGCAAACGTTACAGGAAAAACTGATCCTCTTGATCCAAAGATGTATTATAGCTGGAAATAGGGAAGCCTGTCTCAGGAGTTCTTTCAGGGAGTTCTTTTACTGCTGGAGCTAGTGCTGCCAGCAGTAAAAATGCCTTGGCCTTATGAGCCAGGTTAGAAGAATGGCACATGCACAGCTTCTCCACACCATTAGCTTTCAGTTACAAACACATACTCAGAGAGAGAAAGCAGCTAATGTAAGGGCCCAAACTAAACCGGACAAAGGATTGCAGGTAAGAGCAAAACTCACCTCTTGCCCATATTTACCCCACCCCTTCTCAAATAAAAAGCATACCCTAAAAGATAAATAAGGAAACGAAGCAAACCCAGGGCTGCTGATAGGTGAAGCAGTGAAAGGAGTGAGAGTAAAAATTAAACCCTGTGTGAATTTTCAGCAGAAAAGCAGTGAGCCAAGCCCAGAAGAccatgaatggaaaaagaatatgAAGCCACACTGTAAGTTCAGCCTACAGAAAGCGTATCACAGATATTACATCAATGGAAGAGGAATAAAGGGTTCAGAGGGAAAACAGGTTACCTAGGAAAAAATGggggtggctcttgcctgtaatcccagcactttgggaggctgaggtacgtgcatcacctgaggtcaggagttcgagagcagcctggccaacatggtgaaaccccatctctattaaaaacacacacacacaaaattagctgggcgtggtggcgggcacctgtaatcccagctacttgggaggctgaggcaggagaactgcctgaacctgggaggcggaggttgtagtgagctgagacagtgccattgcactccagcctgcaacaagagtgaaactctgtctttaaaaaaaaaaaaaaaagggaggcatCTGTCCTATATGATCTCATCCAAACCAGCAGGCTAGGAAAAGGGAATGGACCGTGGGCATGTGCTTTTATCAAAACCACGCTGGCAGGCTACTGCTACCTGGGTATTGCAAGAATCTGTCCAGGGAGCAAGAATGCCAGCAGGAAAGCAGCCCCTTCAACAACAAAAGCCAGGCCAGAGCACAGTGCAGAAGAGGGAGGCAGCCAGCTTAGAGGCTCCTGTTCCCTTTAGCAATTCTCCTCTCTTCATGACCTAAAGGTGGAGTtgccagaggaagaaaaataggtcATCCATGTGAGGTTTGTTGCCCAGTTCCCTTCACTGTGAAAATTGAGACAACggtccttcttttctttcttcctgaaataaAGAGGTAATTTTAGgaatacattcttttttgtttgtttgttttgtttttatttatttatttttttatctattGCTGCTTAATTTGTTAATTAAGGAATATACTCTTACACAAACAGGGAATGGCCTCTCTTCCCTCTAAGGAATCTTACATATGTATGCGCAAGGTACCATCGTTTTTAAACCTAATTAAGATATTACTCATTCTTGTTGGTGCCCAATTCCACACCAATCTGCTCTTTAATGCCAGA\n",
      "\n",
      "TGCTGCTCTGATGCTGCTCAGTGTACTGTCATTACGTCAAAGCCTTGTGCTGCGGAAATGTCCTGAAACACTTCATAAAAGATGTCATGTTACTTGCAACTTACTCTTAATCATTCAAGAAAGTCTATGTCTATGTGTAAAGCAAAGAAAGACAGAAAGCAGCTAAAAAAGCAAATATTAGCCAGGCGCGGTGGCTCACGCCTGTAATCCCAGCACTTTGGGAGGCAGAGGCAGGTGGATCACGAGGTCAGGAGATCGAGACCATCCTGGCTAATATCGTCAAAGCCCGTCTCTAATAAAAATACAAAAAATTAGCTGGGCGTGGTGGCAGGCGCCTGTAGTCCCAGCTACTTGGGAGGCTGAGGCAGGAGAATGGCATGAACCCAGGAGACCGAAGCTTGCAGTGAGCTGAGATCGTGCCACTGCACTGCAGCCCGGGCGAGAGAGCAAGACTCCGTCTCCAAAAAGCAAATGTCATAAAATGTGAAAACAAAAGGAAATATTGGGTAAGAGGTTCTGTCAAATACTTTGTCCTATTTTTACAACCTTTCAGTAAGTATGAAATTATATAAAAATAAAAAAAATTTTCAAGTTTACACGGTCCCCTTTTAAACCAAAGCAAACGTTACCAGAAAACTTGATCCTCTGATCCAAAGATGTGCTCTAGCTTGGAAATCGGGAGCCTCTCTCAGGAGTTACTTCAGGAGTCTTACTGCTCGGAGCTAGTGCTGCCAGCAGTAAAAATACCTTCGCCTTATGAGCCAGGTTAAGAAGATCGCACATGCACAGTTTTTCTCCCACACCATTAGCTTTCAGTTCAACACATACTCAGAGAAAGCAGCTTCATGCACCCCAAACTAAACCGGACAAAGGATTGCAGGTCAAGAGCAAAATTCACCTACTACCCCAGTGCTCCCCCACCCCTTCTCAAATAAAAAGCATCCCCTAAAAGATAAATAAGGAAACGAAGAAGCAAACCCAGCTGCGATAGGTGAAGCAGTGAAAGGAGTGAGAGTAAAAATTAAACCCTGTGTGAATTTTCAGCAGAAAAGCAGTGAGCCGACCCAGAAGACCATCAATGGAAAAAGGATGCTCAAAGCCACACTGTCATTCGTCTACAGAAAGCGTATCACAGATACTACATCAATGGAAGAGGAATAAAGGGTTCAGAGGGAAAACAGTTTCTCAGAAAAAGATCGGGGGTGGCTCTTGCCTGTAATCCCAGCACTTTGGGAGGCTGAGGTACGTGCATCACCTGAGGTCAGGAGTTCGAGAGCAGCCTGGCCAACATGGTGAAACCCCATCTCTACTAAAAACACACACACACAAAATTAGCTGGGCGTGGTGGCGGGCGCCTGTAATCCCAGCTACTTGGGAGGCTGAGGCAGGAGAACTCCCTGAACCTGGGAGGCGGAGGTTGTAGTGAGCTGAGACAGTGCCATTGCACTCCAGCCTGCAACAAGAGTGAAACTCTGTCTTAAAAAAAAAGAGAAGCATGTCCTATATGATCTAGTCCAAACCAGCAGGCTAGGAAAAGGAAATCGGCATGGGGCATGTGTCTTTCAAAACCACGCTACGCAGGCTCTGCTACCTGGGTACTGCAAGAATCTGTCCAGGAAGCAGTGCCACAGGAAAGCAGCCCCTTTCAACAACAAAAGCCACCAAGCACAGTGCAGAGAAGCGTCACTTAAGGCTCTGCTCCCTTTACGAGCAATTCTCCTCTCTCATGACCTAAAGGTGAAGTACCAAGGAAGAAAAATCGGTCATCCCATGTGAGGTTTGCTCCCCAGTTCCCTTCACTGTGAAAATTGAGACAACGGTCCTTATTTTGCTTTACTACCTGAAATAAAGAGGTAATTTTAGGAATACATTTTTTTTTGCTTGCTTGCTTTGCTTTTTGTTCCTTTATTTTTTTATCTGCTGCTACTTAATTTGCTAATTAAAGAGATATACTACTTACACAAACCAGGGAATGGCCTCTCTCCCTCTAAGGAATTACTTACATATGTATGCGCAAGGTACCATCGTTTTTAAACCTAATTCAAGATACTACTCATTCTACTCCATGCCGATTCCACACCAATCTGCTCTTTAATGCCAG\n",
      "50M2D16M2D3M1D14M3I15M1D9M1D2M2D24M1D137M2D17M1D92M1I72M7D39M1I13M1D61M1I15M1I13M1I39M1D22M1I11M1D23M1D4M1D2M2D8M1I50M1I5M1D15M2I5M1I21M1D1M1D11M4D12M1I7M3D32M1I17M1I65M3I12M2D5M1D77M1D28M1I2M1I15M1D3M1D71M2D2M1I10M1I281M8D17M2D62M1D4M1D13M1I8M1D37M1D2M2D5M1D15M1I17M2D3M1D13M5D5M1D4M1D4M1D5M1D11M3I15M1D19M1D5M1D19M1I62M1I4M1I57M1I52M1I7M1I10M1I16M1D14M2I44M1I25M1D33M\n",
      "0.9387848332571951\n",
      "read_id: test_read_43_442621_444771 \n",
      "\tmap_start 15, map end 2149\n",
      "\t2150\n",
      "GCAGCGAGCCCAGCTGCACCGCCGCCCCGCACCACAAGAGGGCGCTGCGGCTGAGGTCGCGCAGGACCACGCCCAGCATCACCTTGACGTAACTGAGGCAGCCGCTGAAAAGCACCCACGAGGCCACCTGCGGGGCCGGGAGGGAAGAGGTGCAGAGTCACGGGGCTTGCGGGGCGAGCGCCGGAGCAAAGAACTCTCACAGGGCTCAGGGGAACCCACGGAATACTCTCTAGGTGCGAGGAGCGCCTTCTGGGAGTGAGCCTGCGGGGCCGACGGGTCCCATGAGTTGGCCGCCCGGGGGCGAAGGAGAATCCAGTGGCTTTTCTGGGTTCACGTGCCCATGATCAGGGCAAGGGCCCTTGAGAGAAGGCCCCTGCTGAGGTACACATGGTGGGAAGAGGCCTACCAGTCACCTCGATTCCCTAAGCCTCCACTCCCAAATGAGGAAGGGGCGCTTCCCCCACCTGGGGCTTCCCGGGAGGGTCCCACAGACCCCGCTCGCTGGAAAGGGCCGCGCCCAAGCTCTCCCAGGCCTTGGCTAGGGGTGAGGGGTACGCAGCGGGAGCAGCCCCACCGGCCGGATACTCACAATGAGGACTTCCCCACCCCAGTGGCCCTGCAAGAGGGGGCAGGGGCTCATCACCGCCATGGCCATGTTGTAGCCCCCAAAGCAGGTCCCAAGCACGGAGAGGACCCCCAGGAACAGCAGAGACCTAGAGGAAAGTAGGGGAGGTGAGTGGAGGTGAGAAGCCTGACCTCTGACCCCCCCGCCCCACTGGGCGGCATGTGGATGGCCAGTGTCTCCATAGTTAGTTTAGACCCATGTGGAAAATTCCAGGTTGCCTGGCTCAAGTGGGTCAGGGAGGCTCCTGAGCAGGCAGGGCTGGCCTGAGTCATCCCCAGCATTAACGGCAGGGCCTGGCACCCCGGCAAGAAAAACATAATGGACTCTGGCACCGGATGGtcctggttcaaatcccagttctactGTTTAAGCTGAGACTCGCCTCTGAGCCTCCAAATCGGAGTTTTGCAAGGCTGCATGACCTCCAGGAGCAGAGCATGCAGGCCTGGCGCCGCTGTGGGCCCACCTGGTGTTTACCTGCTGGCATTTCCTCCTGCAACACACCCTCAGCCTCAGCCAGGAAGCTGAGTTGAAGTGAAGATGGCTGGATCGGGCATTGGCACAGTAGGGTTTGCTGTGCCTCCTCAGGAGACCCCTCCCCTTCTGGCCTCAGCTACCTGCCTCTGCAATGTGGAGTGTGCTGATCTCCAGGGGTCCTGGCAGCTGGCTTGTTGCTGCTAGGAGCATCTCTCTACAGGTGGCCTTCCATGCAAACCTACATCTGGGACCACTGTCCTTCCTCACAGGTCCTTGTCCCTGGGGTCCCAATCTCTAGAACCCCAAGACTGGTCCACGCCCTGGGTAAGAACAGACAGAGGTCTGCCTATACCCTTAAAGACTCTTTCTGCTCCAAGATTCTTGGATTCCATGACTCAGATTCTGTAATTCTAACATTTGGGGTTTCTTGGATTTGCAGGTCTGAGCCTTTGGTCCTGCTTCCCTCAAATCCTCCATCCTCTTTCCAGTTTCTAGGTCCCAAGGTAGAAAATCCAGCTTCCTGGCAAGCTTTCTGTCAAGCTCTTCTGTCCTCACTGTCCTTCTTCTGGGCTGGGAGAGTGGGTGTAAGCAGGCCAGTGAGGACAGGCAGGCCAGCGTGGATACGAGGCTGTAGGACCCACCTCAAATGTCAAGATCCCAAGGTGGTAGTTCTCCTACAGGGGTCTGAAGCCCCTGCCTCAGAACCGTCTGGTTTCCTTACTAAAAATTGAAATCCCAGGTCCCAGTCTAGGCTGGTTCAATCTGCATTTTATCAACTTGCCCAGCCATTCTTCTAGAACTGTGGCTCTAAGGGAACCAGCAGGAGGTTagaggcaggaaggcagggccGAAATCCTGGGAATTAGACCAGGTCAAGCTCTTTCTCCAAGCCTcagggtttccccttataaacgGGAACCTCAGTGGCTATCTGCTCCTCCTCATGGACTGATGACAATGATGGTCAACGCTTAGGCTGGACCTGCCACGTGCCAGGCACCGCTCCAAGAGCTTTATAGAATCAGCTCATATCATGCTTCCAGCAGTCCTAGGAGGTGGAATGTTACACTCCCATTTTCCGATAAATATCCCTGAGGC\n",
      "\n",
      "GCCCGGCTCGCCGCCGCCCCGCACCACAAGAGGGCGCTGCGGGCTCGGTCGCGCAGGACCACGCCCAGCATCACCTTGACGTAACTGAGGCAGCCGCTCGAAAAGCACCCCACGAGGCCACCTGCGGCCCGGCCGGCCGTGCGGAGTTCACGGGGCTTGCGGGGCGAGCGCCGGAGCAAACTATTCACAGGGCTCAGGGGAACCCGCGGATGCTTCTCTAGGTGCGAGGAGCGCCTTCTCGGAGGTGAGCCTGCGGGGCCGACGGGTCCGTCGTTGGCCGCCCAGACCCGCCAGATCCGGTCGCTTTCTCAGGTTGCCGCGTGCCCATGATCAGGGCAAGGGCCCTTGAGAGAAGGCCCCTGCTCAAGGATCACGTGGTCGGCCGCCTACCAGTCACCTAGATTCCCTAAGCCTCCACTCCCAAATGAGGAAGGGGCACTTCCCGCCTCGTATCCCGGGAGGGTCCCCGCAGACCCCGCTCGCTGGAAAGGGCCGCGCCCAAGCTCTCCCAGGCCTTGGCTAGGGGTCAGGGGTACGCAGCGGGAGCAGCCCCACCGGCCGGATCTCACAATCAAGGTTTTTCCCACCCCAGTGGCCCTGCAGAGGAGCGGGTCTCATCACCGCCATGGCCATGTTCTCTCCTCCCCCAAAGCAGGTCCCAGAGCGCGAGAGGCCCCCAGGAACAGCGAGACCTAGAGGAAAGTAGGGGAGGTGAGTGGAGGTGAGAAGCCTACAACCTGACCCCCCGCCCCACTGGGCGGCGTGTCGATAGCCAGTGTCTCCCATAGTTAGTTTAGACCCATGTGGAAAATTACAGGTACCTAGCTCAAGTCGGTCGGGAAACTTGCTGAGCGGCCAGGCTGCACCTGAGTCATCCCCCAGCATTAACGGCAGGGCCTCGAGCACCCAGCAAGAAAAAGTCATCGGACTCTGGCACCGGATGGTCCTCGTTCAAATCCCAGTTCTACTGCTTAAGCTGACTCGCCTCTGAGCCTCCAAATCGGAGTTTGCAAGGCTGCATGACCTGCAGACGAGGCGTCCAGCCTGGCGCCGCTGTGGCCCACCTGGTGCTTACCTGCTCACATTCCTCCTGCAACACACCCTCAGCCTCAGCCAGGAAGCTCAAGTTGAAGTGAGAATAGCTAGATCGGCATCGCACAGTCAGGTTTTGCTGTGCCTGCCTCAGGAGACCCCTCCCTTCTGGCCTCAGCTACCTGCCTCTGCAATGTGGAGTGTGCTCATATTCCAGGGGTCCTCGCAGCTCGGCTTGCTGCTGCTCAGGAGCATCTCTCTACAGGTGGCCTTAGATGCAAACCTACGTCTCAAATTCGTTAGCTCCTTCCTCACAGGTCCTTGTCCCTGGGGTCCCAATCTCTGCGAACCCCAAGACTGGTCCACGCCCTCGGGTCACAGACAAGGTGTGCCTATACCCTTAAAGACTTACTTTTCTGCTCCAAGATTCTCAAATTGCATGCATTCAGATTCTGTAATTCTAACATTTGGGGTTTTACTTGGATTTGCAGGTCTGAGCCTTTGGTCCTGCTTCCCTCAAATCCTCCATCCTACTTCCAGTTTCTAGGTCCCCCACCATCATCCAGCTTCCTCGCAAGCTTTATCTCACTTCTCTGTCCTCACTGTCCTTTACTCTCAGCTCGGCCTGGGTGTGCACGGCCAGTGAGGAGCAGGCAGGCCGAGCATCAATCAAGGCTGTCGAGACCCGCCTCAAATGTCATCCCAAGGTGGTAGTTCTCCCTACAGGATCTGAAGCCCCTGCCTCAGAAGCCGTTCTTCATTTTCCCTTCTCGAACCGAAATCCATCCCAGTCTAGGCTGAGTTCAATCTGGTTTCTCAACTTGCCCAGCCATTACTCTAGAACTGTGGCTCTCGCCGGTCCACCAGGAGGTTCACCACCAGGAAGGCCAGGCCGAAATCCTCGGGAATCAACCAGGTCAAGCTCTTGCTCCAAGCCTAGCGGGTTTCCCCTTCTCAACGGAACCTCAGTGGCTATCTGCTCCTCCTCATGGACTGATGACAATGATGGTCAACACTTAGGCTGGACCTGCCACGTGCCAGGCACCGCTCCAAGAAGCTCTCGATCACTCATATCATGCTTCCAGCAGTCCTAGGAGGTGGAATATTTTACACTCCCATTTTCCAATAATGTCCTCGCA\n",
      "8M1D32M1I4M1D53M1I8M1I17M2D10M3D11M1I31M3D4M1I26M1D4M1I29M1I23M1D4M1D19M2D4M1D13M1I2M1D5M2I47M1I16M3D60M2D9M3D1M1I12M1I99M1D8M1I28M1D3M1D5M1D29M3I20M1I5M1D6M1D14M1D45M1D2M2I1M1D4M1D40M1I36M1D19M1D7M1I8M1D10M1I11M1I23M1I1M1I3M1D14M2I3M2D54M2D28M1D23M1D6M1D7M1D15M1D27M1D39M1I25M1D4M1D9M1I16M1I15M1D47M1I20M1I14M1I48M1I5M1I1M1I40M1I26M1I4M3D8M1D25M2I1M1I29M1I33M2I71M1I5M3D33M2D22M2I1M1D10M2D10M2D3M1I12M1I10M1I9M1D11M1I17M3D19M1I6M1D24M1I3M1I3M2I12M1D11M1D3M2D15M1I10M2D62M1I28M1I8M1D27M2I1M1D18M1D95M1I3M2D5M1D4M1D35M2I25M\n",
      "0.9253863134657837\n",
      "read_id: test_read_44_761111_763311 \n",
      "\tmap_start 7, map end 2187\n",
      "\t2200\n",
      "gggaggtggaggttgcagtgagctgagatagtgccattgcactccagcccgggcaatgagagtgaaactctgtctcaaaaaaaaaaaaaaaaaaaagtaggaagcAAATGACTAAATGTAGAAGAATAGGAGTTGGCAACCACCATAGGAGACAATCATTAATGGACACTGCAGTAGTGGATTAAAGTTTGATGAGAAATAGGGCATTTGCACAGTCTGAGAATATCTCCCCCCAagatacttattaattacaaagggtaaaatagtaactttacatGGAGAAACACAGCCAACACCACTTGACCAAGTGATAAAGTGAACATCACCAGTAGCAGGGCAAATTGACATCATGTGGCTTCCGGGATGATGCACTGAGTGGGACGTCGCGTCACGTCAGTGATATTTCTGCCAAAGAGGCATAATTGACTCATGAGGAAGCATTAGAAAAGCccaaagtggccaggcacagtgactcacacctgtaatcccagcactttgggaggctgaggtgggcagatcacgaggtcaggagttcgagacaagcctgaccaacatggtgaaaccctgtttctactaaaaatacaaaaattagctgggcatggtggcgtgcgcctgtagtcccaactactcaggaggctgaggcaagaaaatcgcttgaacccaggaggcagaggttgcagtgagccgagattgcaccactgcactctagcctgggcaacagagcaagactccgtctaaaaaaaaaaaaatgtccaaagtGAGGATATCTTTGCAAGAGAACcttactctttaaaaatgttgaagtgGTAAAAGACAAAGGAAGACTGAGGAATAGTTTTAGATGAAGGAGAATAAAGTAATTACAACTACTGAATGCAATGTGAGATCctagattaagaaaaaatcattttcactTACTACAAAATATATTAACTAGATGAGTGGTGAAATTTGAATAAGATCTGTAGATTAGATAATGGTTTTGCATCAGTGTAAAACGTCCCGATTTTGGTTATTATAagagaatgtccttccttttagGAAATGTGTACTGGTTTTTAGGCCTGTAACTTACCATAAAAGAGTTCAGGgttggaggaaagaaaaataaatgataaagcaAAGATGGTAAAATCTGGGTAATGGGTATTTGgctattctgtttttgtttttgagacagggtctcactctgttacccaggctggagtgcagtggtgtgatcatagctcactgcagcctcaacctcccaggctcaagcaatgctcccacctcaacctcctgagtagctgggaccacagttgcgcaccaccacacctgactcatttttaaatattttttagagatggggtctccctgtgttgcccaggctggtctcaaattctaggctcaagcaatcctcccatctcagccttccaaaatgctgagattttaGGTGTTAGCCATTGTGGCTGGTGAGATTTGAGTGTTCTTTGTACtactttgtaacttttctgtaagtgACATTATGTCAAAATAAATTCTAACAAGAGAGAATAGAAGGAAAGGAAGTAGAGACATGGAGGCAGTGAGTCCAGGTAACTTTTTGAGGAGTTTTGCTATAGAACTGAGGACAGGTGGCAGGTGGAGAGCAAAATGGGGTCAAGATAAGTTGTTCAAAGGCAGAAATTGTAGCATGTTTTTATGCTGATGAGAGAGATTCAGTagattggaaaaaaaagtaataatgcagacagagagagagaagagagtggcTAGAATGGTGTCTCTGGAGAGAAGGATGGGATCTAGTATACAAATGGGGGCTTTGACCTTGGAGCACAGATGGCTCATCCATGGTCACAGAAGGGAGGGCAGAGTATTTGGGTACCAGATTGGTAGGTAGGTAGCTGTGCAGTGGAAATGTGTGGAAATGCTTTCTGATTGCTACCATTTTCCCTGTGAAATAGGAAGCAAGGTCCTTGGCTAAGAGTGAGAATGGGGGAGAAGGTGATGGAGGTTTGAAAAGATAGGAAGGAAGTGTGTAGGGAAAATGAATGGATCTACTGTGATTGTCAGGCAGAACAAAAGACACCACTGAAGCTATCATCATTCAAGTAAAGTGAGGCCAGTCTACATGGTGGTGTGTTTTTCTCCAGCCACATTCCACTGCAGGGGGACAAACACAGAGGGATGTGGAGTTGGCACCAACTAACAGGTGTTTAGTCAGAGAGGGTCAGGGGGATCTTGGGAGTATGCAGCACAGTGGGGATA\n",
      "\n",
      "GAGGTTGCAGTGAGCTGAGATCATGCCATTGCACTCCAGCCCGGGCAATCGAGAGTGAAACTCTGTCTCAAAAAATTCAGAAGCAAAATGACTAAATGTCAAGAATAGGAGTTGGCAACCGCCCATCAGAGACGATCATTTAATGGACACTGCAGTAGTCGATTAAAGTTTGATAGAAATAGGGCATTTGCACAGTCTCGAGAATATCTCCCCAAGATACTTACTAATTACAAAAGATTCGAGTGGTTCATTTACGTCGAAACACAGCCAACACCACTTGACCAAGTGATAAAGTGAACATCACCAGTAGCAGGGCAAATTGACATCATGTCAGCTTGCGGGATCATGCACTCATCGGTAGTCACGTCACGTCAGTGATATTTCTGCCAAAGAGGCATAATTGACTCATGAGGAAGCGTTTCAAAAGCCCAAAGTGGCCAGGCACAGTGACTCACACCTGTAATCCCAGCACTTTGGGAGGCTGAGGTGGGCGGATCACGAGGTCAGGAGTTCGAGACAAGCCTGACCAACATGGTGAAACCCTACTTTCTACTAAAAATACAAAAATTAGCTGGGCATGGTGGCGTGCGCCTGTAGTCCCAACTACTCAGGAGGCTGAGGCAAGAGAATCGCTTGAACCCAGGAGGCAGAGGTTGCAGTGAGCCGAGATTGCACCACTGCACTCTAGCCTGGGCAACAAGAGCAAGACTCCGTCTCAAAATTTCCAAAGTGAGGATATCTCTTGCAAGAGAACCTTACTACTTAAAAATACTCGAAGTGGTCAAAGAACAAAGGAAACTTGAGGAATCATTTTAGATGAAGGAGAATCGAGTAATTACAACTACTGAATGCAATGTGAGATCCTAGATTAAGAAAATCATTTTCACTTACTACAAAATATACTACAACTAGATAGAGTCGTGAAATTTGAATAAGGATCTGTACATACAGATAATGGTTTTGCATCAGTGTAAAACGTCCCGATTTGGTCTCAATGTCCTTCCTTTAGGAAATGCTCTCGTTTTAGGCCTGTAACTTACCATAAAAAATCAGTTCAAAATAAATGATAAAGCAAAGATCGTCAAAGTGGGTAATGGATCTCGCTGTCTGCTTTTGCTTTTGAGACAGGGTCTCACTCTGTTACCCAGGCTGGAGTGCAGTGGTGTGATCATCACTTTCACTGCAGCCTCAACCTAGGCTCAAGCAATGCTCCCCACCTCAACCTCCCTCGTCCTTTCGACCGCGGTTCGCGCCCCACCACACCTGACTCATTTTTAAATACTTTTGAGATGGGGTCTCCCCTGTGCTCCCCAGGCTGCAGTCTCAAATTCTAGGCTCACAATCCTCCATCTCAGCCTTCCCAAAATGCTCGAGATTTTCAGTGCTAGCCATTGTGGCTGGTGAGATTTCATGCTCTTGTACTACTTGTAACTTTTCTGTAAGTGACATTATGTCAAAATAAATTCTTAGACAGAATCGAAGGAAAGGAAGTCGACATCGGAGGCAGTCGTCCAGGTAACTTTTTACGAGGAGTTTGCTATAGAACTCGAGACAGTCAAGTGAGAGCAAAATCGGGTCGAGATCATTGCTCAAAGGCAGAAATTGTTGGCGTGCTTTTATGCTGATGAGAGATTCAGTAGATTGGAAAAAAAAAGTTGATCATCCGCGAACAGAGAGAAGAATAGCTCAGAATCGTGTCTGGAGAGAGGATCAGATCATATACAAATAGGGGGCTTTGACCTTGGAGCACGAGATGGCTCATCCATGGTCACAGAAGGGAGGGCAAGGTACCTTTGGGTACCAGATTGGTAGGTAGGTCGCCTTGTGCAGTGGAAATGTGTGGAAATGCTTTCTGATTGCTCCATTTTCCCTGTGAAATAGGAAGACAAGGTCCTTGGCTAAGAGTAAATCGGCAGGGTCATGGAGGTTTGAAAAGATAAGGAAGGAGAAATGTATAGGAAAGTGAATAGATATACTGTGATTGTCAGGCAGAACAAAAGACACCACTGAAGCTATCATCATTCAAGTAAAGTGAGGCCAGTCTACATGGTGGTGTGCTTTTCTGCAGCCACATTCCACTGCAGACGACACAGAGGGATGTGAAGTCGCACCAGACTAACAGGTGCTTAGTCAGAGGGTCAGGGGGGTGCTTGGAAGTACAGCGCGGTCGGAG\n",
      "49M1I19M14D15M1I14M1D21M1I17M1I35M1D24M1I10M2D22M1I23M2D76M1I22M1D190M1I153M1I17M8D25M1I28M1I16M1I9M1D2M1I73M2D31M2I8M1I20M1I11M1I36M1D5M4D3M4D12M1D11M1D2M1D4M1D28M2D3M2D3M9D31M1D11M2D8M1D70M2I18M3D16M1I36M1I37M2D12M1I19M2I19M2D7M1D13M1I10M1I40M1D5M1D9M1D42M3D25M2D6M1I9M1D17M2I6M1D14M1I2M1D4M1D2M2D5M1D24M1D20M1I20M2D19M1I9M1I7M2I13M1D4M5D5M1I9M2D9M1D11M1D1M1D9M1I22M1I39M2I29M2I38M1D24M1I20M1D1M1D3M1D6M2D22M1I6M2I10M1D126M4D3M1D19M1D8M1I18M2D16M1I10M\n",
      "0.9177903436276642\n",
      "read_id: test_read_45_553259_555509 \n",
      "\tmap_start 8, map end 2232\n",
      "\t2250\n",
      "AatataactaaaaaatattttcctggaaGTTTTTGCACAACAGAAAGGAGTTGCAATACAAAGCATAAGTTTAACACCTGCTAGATATGTGTTCTCTGAGGAACCCCAAGCCTACCTGATGGGTGTCAGATTCTCTCCCTGCTACAGCTATTTGTCAAACTCTTGAAAGTCCAGCTTTCCTTCCCATGGAAGGAAAATTCCCACGGAATGCTCTCTTCCGTGTTTACccacagaaaggagagaaaggttCTTTCTCACACAAGTCTAAGGCCTTCCTCTAAGTCACCTTTTCCTATCATAGAACTCACCCAGCACTTCTCAGGATAAATGATACTGCAGAATATGAGTTTGCTTCAGGGAAATCCCATACCCACTGTGAAAAATATGGTAACTCTCCAATATCAGTTCTCCCCCTTTGCTAAGTAATAGAACCCTCCAAATATTAGGTTGACACAAAGCCGACCAGAGAAAAGGCTGAATTTCCCATCTAGAACTGGTCATTCTTCAATTCAGACCAGCCATAACTGGACACTTTTGCAAATATTCATTAATAGTCTTGGTGAAAACCTCAGATTTCCATTTTGCCAAAGTTTCCAAAGGAAAAGAGGGCCTTTTTCTAAGCCCTGAGAGCCCCACAGTGACAGTAAGTTCTCCCTTGGAATTCACCCTGGCATACCTCGGTGCTACCCCAGATCCTTTCCCTCAGGGGCTATGAGATTAGGTTTCATGGCCGAATGTGACggttcatgcctttaatcccaacactttgggaggccgaggcaggaggatggcttgagcccaggagtttgagaccagtctgggcaacatcatgagactctgtctatgtaaaaaataaaaattaaccaggtgtcaTGGTACATAACTCCAGTCCCTGCTACTgtggggcaggggctgtgggggctgaggagggaggattgcttgagcccagaaggttgaggctgcagtgagctgtggtcgtaccactgcactccagcctgggcaacagagcaagaccctgccttttaaagaaaaagagaaaggaggttgggcatggtggctcatgcctataatcccaccactttgggaggccgaggcaggtggatcacctgaggtcaggagttcgagaccagactggacaacatggtgaaaccccatttctactaaaaatacataaattagctgggtgtggtggcgggcacatgtaatcccagctactcaggaggctgaggcaggagaattgcttgaacctgggaggcgaaggttgcagtgagtcgagattgtgccactgcactccagcctgggtgacaaaagcaaaactccatctctaaataaataaataaaaataaaaaagagagagagtgagattaGGACTCACCCTGGCCATCCCAGGTCCTGCCACTCCAGGTCCTGCCACTCAGGGACTGTGTGActctatattttttttaacttctcaggCCAATATTAGAACCCAATCTGATCAAATTAGAAACCTATGAACATTCCACTTACTAGCAGTGCATTCATGGAGCACTTCACAGGGAGTCACCAAagtatcaatcaatcaataaactaCTACCCTACCCtgaactattaggttggtgcaaagtaattgcagtttttgcattgttggaatttgCTGTTTGATATTAGAATGcgttcttaaataaatgtggttatgttacactttttttttttttttttttgagatggagtttcgctcttgttgcccaggctggagtgcaatggtgtgatcttggctcaccgtaacctcctcctcccgggttcaagctattctcctgcctcagcctccctagaagctgggattacaggcctgtgccaccatgactgactaattttgtatttttagtagagacggggtttctccatgttgatcaggctggtctctaactcctgacctcaggtgatgcacccgcctcagcctcccaaagtgctgggattacaggcatgagtcactgctcccggcctatacatcattttaataggcatttctcactttatgttttttgataatgacttattacttgctgttgattttatgtttattttagactatggaaatgatgtcagacaaaaagaaaattcaagcgattttcttattcaagttcaaaatgggtcgtaaagcagcagagacaactTGCAACATCGACTGCGCATCTGGTCCAGGAACTGCTAACGAACGTACAGTGCAGTCGTGGTTCaaaaagttttgcaaaggagaggAGAACCTCGAAGATGAGGAATGTAGTGGCCGGCCGTTGGAAGTTGACAACCaccaattg\n",
      "\n",
      "CTAAAAAATACTTTCCTGGAAGTTTTGCACAACAGAAAGGAGTTGCAATCAAAGCGTACAAGTTTAACACCTGCTAGATATCTATCTCATTCCAAGCCTACCTGATGGGTGTCGAGATTCTCTCCCTGCTACAGCTGCTTCTAGAAGTTGCTCGAAAGTCCAGCTTTCCTTTCCATGGAAGGAAAATTCCACGGAATGTTTTACTACTCCCCGTGCTTACCCACAGAAAGGAGAAAGGTTCCTTCTCACACAAGTCTACAAGGCCTTCCTCTAAGTCACCTTTTTCCTATCATCTCAACTCACCCAGCACTTCTCAGGATAAATGATACTGCAGAATATGAGTTTGCTTCAGGGAAATCCATACCCACTGTGAAAAATATTGGTTAGTTCTTCCAATATCAGTTCTCCCCTTTGCTAAGTAATAGAACCCTCCAAATACTAGGGTTGACACAAAGCCGACCAGAAAAGGCTCATTTCCATCTAGAACTGGTCATTACTCAATTCAGACCAGCCATAACTGGACACTTTCCGAAATACTCATTAATCATACTTCAGTAAACCTAGATTTCCATTTTGCCAAAGTTTCCAAAGGAAAAGAGGGCCTTTTTCTAAGCCCTCAACCCCACAGTAACAGTCAAGTTCTCCCTTGAATCACCCCTGGCATCCTTCGGTGCTACCCCAGATACCTTTCCCTCAGGGGCTGTGATTCAGGTTTCGTGGCCAATGTGACGGTTCATGCCTTTAATCCCAACACTTTGGGAGGCCGAGGCAGGAGGATGGCTTGAGCCCAGGAGTTTGAGACCAGTCTGGGCAACATAGTGAGACTCTGTCTATGTAAAAAATAAAAAATTAACCAGGTGTCATCGTCATCAACTCCAGTCCCTGCTACTGTGGGGCGGGGGCTGTGGGGGCTGAGGAGGATTGCTTGAGCCCAGAAGGTTGAGGCTGCAGTGAGCTGTGGTCGTACCACTGCACTCCAGCCTGGGCAACAAGAGCAAGACCCTGCCTTAAAAGAAAAGAGAAAGGAGGTTGGGCATGGTGGCTCATGCCTATAATCCCACCACTTTGGGAGGCCGAGGCAGGTGGATCACCTGAGGTCAGGAGTTCGAGACCAGACTGGACAACATGGTGAAACCCCATTTTCTACTAAAAATACATAAATTAGCTGGGTGTGGTGGCGGGCACATGTAATCCCAGCTACTCAGGAGGCTGAGGCAGGAGAATTGCTTGAACCTGGGAGGCGAAGGTTGCAGTGAGTCGAGATTGTGCCACTGCACTCCAGCCTGGGTGACAAAAGCAAAACTCCATCTCTAAATAAATAAATAAAAAATAAAAAAGAGAGAGAGTGAGATTAGGACTCACCCTGGCCATCCAGGTCCTGCCACTCCAGGTCCTGCCACTCAGGGACTGTGTTGGTTGTTATACTTTTTTAACTTCTCAGGCCAATCTAGAACCCAATCTGATCAAATTAGAAACCTATGAACATTCCACTTACTAGCAGTGCATTCATGGAGCACTTCACAGGGAGTCACCAAAGTATACAATCAATCAATAAAAACTGCTCCCTACCCTGAACTATTCAGTTAGTACGAAGTAATTGCAGTTTTTGCATTGCTCAAAGTGCTGCTTGATGCTCAAATACGTTGCTTAAATAAATGCATATGTACACTTTTTTGAGATGGAGTTTCGCTCTTGTTGCCCAGGCTGGAGTGCAATGGTGTGATCTTGGCTCACCGTAACCTCCTCCTCCCGGGTTCAAGCTATTCTCCTGCCTCAGCCTCCCTCAAAGCTGGGATTACAGGCCTGTGCCACCATGACTGACTAATTTTGTATTTTTAGTAGAGACGGGGTTTCTCCATGTTGATCAGGCTGGTCTCTAACTCCTGACCTCAGGTGATCCACCCGCCTCAGCCTCCCAAAGTGCTGGGATTACAGGCATGAGTCACTGCTCCCGGCCTATACATCATTTTAATAGGCATTTCTCACTTTATACTTTTTTGATAATGACTTACTACTTGCTGTTGATTTATGTTATTTCATTATGGAAATGATGTCAGACAAAAAGAAAATTCAAGACAATTTACTCTAGATTCAAAATCGGTCGTGAAGCAGCGAGAGACAACTTGCAACATCGACTGCGCATCTCGTCCAGAACTGCTAACGAACGTCCAGTGCAGTCGTGGTTCAAAGACTTTGCAAAGGAGAGGAGAACCTCAAAATCGAGATGTACAGTGGCCGGCCGTTGGAAGTTGACGACCCACCAGATG\n",
      "22M1D27M1D6M2I26M1D5M6D25M1I34M2I38M1D10M5I2M1I3M1D21M2D27M2I21M1I12M1I64M1D21M1I6M3I2M1D15M1D35M1I19M2D10M1D5M1D69M1I6M1I3M2D6M1D57M1D1M1D15M1I12M1D3M1D3M1I29M1I16M2D7M1I13M1D121M1I23M1D3M1I44M4D75M1I16M1D7M1D125M1I184M1I46M1D41M1I5M1I5M1D23M1D93M1I12M2I8M1D53M1D29M1I10M2D8M1D5M13D322M1I33M1D6M1D6M2D38M1I4M4D9M1I23M1I37M1D40M1D24M1D5M1I3M2D4M2I24M1I8M\n",
      "0.9458422174840085\n",
      "read_id: test_read_46_232460_234760 \n",
      "\tmap_start 7, map end 2296\n",
      "\t2300\n",
      "cttcccttgtcCAGATGtgtgctcaccattgctccatctgtgagGTTGCACCCTTTTATAGAAgtaccttgccttgctgagaattgaacagaaaattttatattcgagtgctatttattttgaggcacagaaactttatatataacaatataaacCCGAGACCTTGGCgggcacacacacaagcagctgAATGTCAAGAGGAGTGGAGGAACGGAGTGGCAGAGAATGGCAGAGAGCGCTGGAGAGTGGCAGAGCAGcatggcagagagggagggaagaggcgTCTGAACTTTGGAAGACACCTCCACTCCTCAATAAAGTCTCCGCATGTATCACTTTTCAAACAGTTCATGTGACCTGATTAATCCAGGATGCCAGACAAGAATCTGGGGAAGTTAACATTCAGGCATCCCTGGATGGCAAGGCTAAAGGAGCACACTGTAACATATGCCCACTTGGGCTCCAGCACCTGTCCATCTGTGTGTTCCCCCTTCCCTCAGGGGTTTGAGCAGTGGGGTGACCAAACAGACGAGCCACACCCCCTGTTGCATGTCCTGCAAGGAGAatcagggaactctcctgtttcaGTTGGAAGAGCAAgtgtccctctctctctcgtGGTGGGGAGACATCTCTTCCTTCTGGGCTGTCACAGCCCCAACCTCACCAACCTACCTGACAAGGGAGTCTGGCAGAACAAGGGCAAGGGCAGGGAGAAGCACCTCTAACTCTATTCCTGGATAATAATCAAGTCTCTAAAAGTCATCCtggagccgggcacagtggctcatgcctgtaatcccagcactttgggaggctgaggcgggtggatcacctgatgtcaggagttcgagaccagcctggccaacatggtgaaaacctaactctactaaaatacaaaaaaaattagctaggcatggtggcaggtgcctgtaatcccacctacttgggtggctgaggcaggagaatcacttgaacctgggaggcggaggtcgcaatgagctgagactgtgccactatgctccagcctgggtgacagagagagactctgcctcaaataaataaataaataaataaataaataaataaataaataaataaataaagtcatccTCTAGGGCTTTGAGGCCGTTCAAGCCCCTATTTTTTCCATCTCTGTGGATGAGCCTCTGTTAAATCTGATTGTGGCTGAACAAGAGATAATGTTCCTAATAGATACAGGGACCAGTTATTCAGCTTTAAGTGTTTATTACAGCCCAATGTGCTAGTCCTCCATTTCATTACGGGTATTGATAAACTTCAGTGAGGCTGTTTCACACTGCCACTCCCTTATAAAATGAAAGGCTATTCCTTTACCCACTCTTCAGTCCTGCCAAGCTGCCCTGTTTCTTTATTAGGTCACAATTTGCTCACAAAATTACAAGCGAATTTACAGTTAAGACCTCACATTCTAGCTGTAATTAACTCACACTTCACCAAAAAAGTTGCTGCAGTCTATAGaacatcacattttaaaacaagtgccggccaggcgcagtggctcacgcctgtaatcccagcactttgggaggccaaggcgggtggatcacttgaggtcaggagtttgagaccagcctggtcaatatggcgaaaccccatccctactaaaaatacaaaaattagctgggcatggtggcacacacctgtaatcccagctactcaggaggctgaggcaggggaatcacttgaacctcggaggtggagattgcagtgagccaagatagtgccattgcactccagccctggcaacaagagtgaaacgctgtctcaaaaaaaaaaaaattgttcttttgtttgcttttctttcaccCTGATTCCTCCTTCCCCCTTTGCCGTCTTCAGTACCAAGCTACAAAGCTAGGGGTGGCTGAGGACAGTAAACAGAGTGTGGTCTTAGCTGGCTTTTTCCCTCCTGGGAAGTTGTTGTTTAGGATCCTAATTCTAGTTCAGAGGTGCATTCTAAATAGTCTTCTCCATTGCCTTTCCCCCCAAAATTAATCTCACACGTTGGCTTGTGTGTGCATTCACGTGAGGAACTGAACTGTCATTTTCATAGATAAATAAGAGACTGAGTTTCCTTAGCTCCAAAGAGAAAGGGCATTTTGCTCCTCCCAGCAGAAAGGTACCCGAGTGACTGGGGGGCCTTGCGGGAGTGTTGGGGGGTTGAGCCCCCAGCGACATGAAGTGATTCTGCAGGGAACTCACaacaaaattagttttaaaaaggcTCGTCCAGGAAGCACATATAGGAACTGGTCACTCTGAGTTTTGAGCCCTCTTGGAGGTGCTAGACCTCCGGAGAAAACACTGA\n",
      "\n",
      "CTCCAGATGTGTGCTCACCATTGCTCCATCTGTGAGGGTGCGCCCTTTTCTCGAAGTACCTTGCCTTGCTCAGAATTGAACAGAAAATTTTATCTGAGTGCTCTTACTTTGAGGCACAGAAACTTTCTGTGTAACAATATAAACCCGAGACCTTGGCACACGCACAAGCAGCTGAATGTCAAGAGGAGTGAGACGGAGTGGCAGAGAATGGCAGAGCGCTGGAGAGTGGCAGAGCAGCATGGCAGAGAGGGAGGAAGAGGCGTCTGAACTCGGAAGCACCTCCACTCCTCAATAAAGTCTCCCGCATGTATCACTTTTAGAAACAGTTCATGTGACCTGATTAATCCAGGATGCCAGACAGAATCTGGGGAAGTTAACATTCAGCATGCCTCAATAGCGGCAGGCCGACACGCTGTTGACGTCTGCCCACTTGGGCTCCCAGCACCTGTCCATCTGTGTGCTCCCCTTCCCTCAGGGGTTTGAGCAGTGGGGTGACCAAACAGACAGAGCCACACCCCCTGCTCCATGTCCTGCAAGGAGAATCACAAAGTGTCCTACTTTCAGTTGGAAGAGCAAGTGTCCCTCTCTCTCTCGTGGTGGGGAGCGTCTTTCTTCCTTCTCAGGGCTGTCGCAGCCCAACCTCACCAACCTACCTGACAAGGGAGTCTCACGGAGCAAGGGCAAGGGCAGGACCACACCTCTAACTCTACTCCTCAATCATGATCAAGTCTCTTTAAAAGTCATCCTGGAGCCGGGCACAGTGGCTCATGCCTGTAATCCCAGCACTTTGGGAGGCTGAGGCGGGTGGATCACCTGATGTCAGGAGTTCGAGACCAGCCTGGCCAACATGGTGAAAACCTTCCATCTCTACTAAAATACAAAAAAATTAGCTAGGCATGGTGGCAGGTGCCTGTAATCCCACCTACTTGGGTGGCTGAGGCAGGAGAATCACTTGAACCTGGGAGGCGGAGGTCGCAATGAGCTGAGACTGTGCCACTATGTCTCCAGCCTGGGTGACAGAGAGAGACTCTGCCTCAAATAAATAAATAAATAAATAAATAAATAAATAAATAAATAAATAAATAAAGTCATCCTCTCAGGGCTTTGAGGCCGTTAGACCCCTGCTCTTTTTTCCATCTCTGTGAGATAGCCTATACTCCGAGTGTTCGTTGTCAGCTAAAGCAGTAATACTTCCTAATAGATACAGGACCAGTTATTTCAGCTTTAAGTGTTCTACAGCCCAATGTGCTAGTCCTCCATTTCATTCATATGATAAACTTCAGTGAGGCTGCTTCACACTGCCACTCCCTTATAAAATGAAAGGCTTTCCTTTCCACTACTCAGTCCTGCCAAGCTGCCCTACTTACTTACTAGGTCACAATTTGCTCACAAAATTACAAGCGAATTTACAGTTAACCTCACATTCTAGCTGTCATTTAACTCACACTTCACCAAAAAAGTTCTGCAGTCTATCAAGACATCACATTTTAAAACAAATTACCAGCCAGGCGCAGTGGCTCACGCCTGTAATCCCAGCACTTTGGGAGGCCAAGGCGGGTGGATCACTTGAGGTCAGGAGTTTGAGACCAGCCTGGTCAATATGGCGAAACCCCATCCCTACTAAAAATACAAAAATTAGCTGGGCATGGTGGCACACACCTGTAATCCCAGCTACTCAGGAGGCTGAGGCAGGGGAATCACTTGAACCTCGGAGGTGGAGATTGCAGTGAGCCAAGATAGTGCCATTGCACTCCAGCCCTGGCAACAAGAGTGAAACGCTGTCTCAAAAAAAAAAAAATTTTTTTGCTTGCTTTTCTTTCACCCTGATTACCTACCTTCCCCTTTGCCGTCTCAGTACCAAGCTACAAACTTCAGATCCTCAGGACAGTGAACGGAGTCTCATGTAGCTTGGCTTTTTCCCCTCCTGGGAAGTTGCTGCTTAGGATCCTAATTCTCATTTCAGAGGTGCATTCTCAAATCGTCTCTCCATTGCCTTTCCCCAAAATTAATCTCACACGTTGGCTTGTGTGTGTGCATTCACATTGAGGAACTGAACTGTCATTTTCATAGATAAAATCAAGTTCGTTTCCTTAGCTCCAAAGAGAAAAGGGCGTTTTTTGCTCCTCCCAGCAGAAAGGTACCCGAGTGACTGGGTCTTGCGGGAGTGCTCAGTAGCCCCCAGCGACGTGAAATCGTGCTCCAGGGAACTCACAACAAAATTAGTTTTTAAAAAGGCTCCATCCAGAAGCGCATACTCGAACTGGTCACTCTCGTTTGAGCCCTACTTGGAGGTGCTAGACCTGCAAAAACGCTA\n",
      "94M2D7M1D52M4D35M1D3M2D20M2D40M1D17M1D7M1D24M1I17M1I40M1D24M1D12M3I3M1D4M4D3M1D7M1I21M1I24M1D43M1I39M1D11M1I47M1D4M2I10M2I12M1D55M1D6M1D37M2I126M3I16M1D122M1I95M1I24M2I20M1I3M1D7M4D10M1I6M2I3M2I3M1I2M1D4M1I16M1D10M1I16M2D33M1D1M2D3M1D56M1D7M2D82M2D18M1I28M1D11M2I2M1D17M1I304M2D2M1D28M1I3M1I4M1D13M1D18M1D8M1D26M1D5M1I9M1I36M1I18M1I8M1D14M2D27M2I15M1I30M1I6M1D2M2D23M1I7M2I37M3D21M4D1M1D50M1I13M1I6M1D27M1D2M1D10M1I18M\n",
      "0.9371095376926281\n",
      "read_id: test_read_47_800798_803148 \n",
      "\tmap_start 9, map end 2334\n",
      "\t2350\n",
      "CAAATTCACAGACATCCTGTTTATTTCCGAAAGAGAAACATCATAGAGCTATTCTTGGGATGTTCaggaaaagattaaaataaatgccTATTATCTATTGTATTTCGAGATAAACTTTATAGATTTAGAGCAGGACACACATTTCTGGACTTGAGAACGCTGTATCTGGCTTGGAATAAAAGCCCACATTTCATCTAGAGGTAGAATGTATGTCATTCTAATCTCCCTCAATCCTTTCTTCTCCAATTTCTTTATTGCCCCACTTACAAGATAGTGCACTATTATTCCAAAGCTGATACCTTCCAAATTCCTTTATAGTAGAGGTCTTGGCTATCATAACCATGATGGAACGAATGACCGTCCTACAGCTGGCTGCAAAATATAAGACTGCTATAAATAAATCCCTGATGCCTGAAAagtaattcattcaacaaaggaAGATAGGTATGACTTTGGCCTACTCTTCATTAGAacgcttatttttatttatttatttatttatttataaagaggGCAAAGCAGACTTTATTTGAGGGGCACCACAGCAATAGGTATAGCAACAACTGCAACAGGGTTTTGTAGTCAGGGAGGGAGATCAGACTCAACTCCCTAAAATGCTAATTTTAACAATGGGACACTTCATCTGAACTGTGGTTCTTAATGGTTCAGATAAAGATGACACAACCCACTATTGGCTTAAACTTCTCCCAACTCTGGCTACAGAATCCAGGTAAAGATTTCTGCCCCCTCAGAGTAATAGGCATGTCCAAAATCACCTGGATTAGGGCACTTAATACACTGGGAAGGGACGATAACAACTAAAGATGACCACTATCCATGCCTCCTCTAAaagttttttcatatattttttcatatcacCAAAACAAATACTAACTTGGATCAACTAATTTATATAATGGAATCTCGTGTGAGCGTACAAAATTCCATACTGATTATTTGGTTTAAGCCTGCATTATCATAAAGGCTTTACAGTCTTTAAACTGAAATTAAGCTCAAATTAAGAAATGCTAGTCTTAAAACAATGGAAGGGGGGGGCCGTtttgtgtggagggagggagacagacataCCCCTACACCCACCCACAACTACTGATATTGACATTGGAAATTAACTTGAAAatttatgcctgtagtcccagctactcaggaggctgaggtgggaggagcacttaagtccaggagttgggAGATGACAGTGAGCTTTgactgtgacactgcactccaacccgggtgacagggcaagatcccatctctcaaaaaaaaaaaaaaaaaatgctttaactCCACGTCTGTACCAGAAGACCACAGCAGGAGAGGAAAACCTTATTTCAGTCTGGGTAAGAGTTCtattaaacacaaaataaaacaaactagcCTCTGTTTCTGGAGGTCTTCATTAGTAGTTTCTACAAAACAGTATCCAAATTAGCAAAGATTCTGTTAACTACCTGGAAAAAGCAGGTACCAAGAAAGAATGTTTCACtacaatggaaaaaaacagtCTAGTAAGTAAACCAATCTGACTATAAACGCTACAAAAGAGGGATTCTAGCATTAGTAACTTTGCCAACAATACTCTGatatgattaaaaaacaaaacaataacaaaaacaaaaaacctcatctTTAAATTTGTCCCATTCATCCAGAGAAGCAAAATCAAGGAAACTAGAGGGGGTAAAGTCTTGCAACAGATACACAGCTGCACTGCCAACAGGTCACAAGACCCATGCTGCCTAGGGCATTGACTGTTATGCCATGAGGACAGACATCACACAAACACCAGTAATTAAAGGGTTACGGTGCCAAAGGGTTCAGAGCTCCACTTCCATTCAGTATCAGAAcataagaaaaagggaaaaacagaaaatgagcccaaataaaatataaaataaaatatagataccAGGAGCTTCCTCAAAATATGTGGGTTGTATTAATAACGTGTTTGGCTCTGTTACGGGCACCATCCATCAGAGGACTGGAAATAGGGAAAGTCACCTTAGTCTTCCTCAaggaaaaaagattatttaactTGGTTCACGGTGTACATTCATAATTTTAACTGtcatgtatttattgaatgaaaaacaTTTGAGAACATCATGTGCAACAAAAACATGATTTCACAGAAATTGTCCaaactaaaagagtataaaaaTAGAAGCGCTTTTTATacaattatttacttattattattattgagatagggtctccatctgtcacccaggccggagtgcagtggcgcaatcatagagTAGCCTctaagtcctgggctcaagcgatcctcctgcctcagcctccagagtcgtTGGGATCACAGGCTCGAGCCTCCACACCCgactaacttttaaaaactttttgtagagatgaggcctc\n",
      "\n",
      "AGGAGCGTCCTACTTTATTCCAAAAGAGAAACATCGTCGACTGTCTCGAGATGTCAGGAAAAGATTAAAATAAATGCCTGCTCTGTACTGTATTCGAGATAAACTTTATAGATTTAAAGCAGGACGCACATTTCTCGACTTGAGAACGCTGTATCTGGCTTGGAATAAAAGCCCACATTTCATACTCACAGTCAAGTGTCTGTCATTCTAATCTCCCTCAATCCTTTCTCTCCAATTTACTTCTGCCACTTACAAGATCATGCACTGTACTCCAAAGCTAAATTACTTCCAAATTCCTTTATCGTCAAGGTCTGGCTATCATAACCATGATCGAACGAGATCGCCCGTCCTCAGCTGCACTCAAAATCTCAACTACTATAAAATAAATCCCTGATGCCTGAAAAGTAATTCATTACAACAAAGGAAAATCCATATACATTTTGGCCTCTCTCATTTAGAACGCTTATTTTGTTCCTTTCTTATTTGCTTCTAAAAAAACCGCCACGAACTTTGCTTGAGGGGCGCCCGCAGCAATAGGTATCGCGACGACTCCAACAGGGTTTTGTCATCAGGGAGATCGAGACTCAACTCCCTAAAATGCTCATTTTTGACAATCAAACTCATCTGAACTGTCGTTCTAATCATTCAGATAAAGATAGACACAACCCGCTGCTCGCTTTTAAAGTTCTCCCAACTCTCACTCCAAGATCCAGTAAAGATTTCTGCCCCCTCAGAGTAATAGGCATGTCCAAAATCACTCGGATTACGGGCGCTTAATACACTGGGAAAGGACGTCACACGCTCAAAGATGACCACTATCCATGCCTACCTATTAAAAGTTTTTTCATATATTTTCATATCACCCAAAACAAATACTTAACTTCGATCAACTAATTTATGTCATCGAATGTCATATCATTACAAAATTCCATACTGATTATTTGGTTTAAGCCTGCATTATCATAAAGGCTTTTACAGTACTTTTAAACTGGAATTTGAGCTTCAATTAAGAAATGCTACATAACTAAACAATGGAAGGCCGTTTTGTGTGGAGACAGACATACCCTACACCCCACCCACAACTACTGATACTGACATTGGAAATTAACTTTGAAAATTTATGCCTGTAGTCCCAGCTACTCAGGAGGCTGAGGTGGGAGGAGCACTTAAGTCCAGGAGTTGGGAGATGACAGTGAGCTTTGACTGTGACACTGCACTCCAACCCGGGTGACAGGGCAAGATCCATCTCTCAAAAAAAAAAATACTTTAACTCCACATTATATACCAGAAGACCACAGCAGGAGAGGAAAACCTTATTTCAGTCTCGGTTAGAGTTCTACTAAACACAAAAATAAAACAACTAGGCCTCTGCTTCTGGAGAAATCTCTCTCATTCATCATTTGTACCGAAAAACGGTATTTCCAAATTAGCAAAAATTATACTTAACTACCTGGAAAAAGCGGGTCCCAGAATCTTCACTACAATGGAAAAAAACAGTACTTACATAAGTAAACCAATATTGACTATAAACGCTACAAAAATATAGCATTAGTAACTTTGCCAAGACGATGCTTCTTGATATCATTAAAAAAGCAAAACAATAACAAAACAAAAAACCTACATACTTAATTTATGCCCATTCATCCAGAGAAGCAAATCAAGGAAAGTTCAAATCACCTGCTACAACAGATACACAGCTGCACTGCCAACAGTTAGCAAGACCCATGCTGCCTAGGGCATTGACTGTTTATGCCATCAAGACGACATCACACAAACACCAGTAATTAAAGGGTTACGGTGCCAAAGGGTTCAGAGCTCCACTTTCCATTCAGTATCAGAACGTCAAAAAGGGAAAAACAGAAAATGAGCCCAAATAAAAATATAAAATAAAATCTCAGATACCAGGAGCTTCCTCAAAATATGTGGGTTGTGCTCCAATAACATGCTTGGCTCTGTTCTACAGGCACCATCCATCAGAGGAGCTTGGAAATGAGGAAAGTCACCTTTAGTACTTCCTCAAGGAAAAAAGATTTAACTTGGTTCGCGGTGTACATTCGTCATTTTTAACTGTCATGTACTTTACTAAATGAAAAACATTCAACATCATGTGCAACAAAAACATGATTTCACAGAAATTATTCCAAACTAAAAAGAGTATAAAAATAGAAGCACTTTTTATACAATTTGCTTTTTCTTTCTACTGTACTGAGATAGGGTCTCCATCTGTCACCCAGGCCGGAGTGCAGTGGCGCAATCATACCGTAGCCTCTACATCCTGGGCTCAAGCGATCCTCCTGCCTCAGCCTCCAAAGTAGTTGGGATCACAGGCTCGAGCCTCCACACCCGACTAACTTTTAAAACTTTTCTAGAGATGAGGCCT\n",
      "4M1D23M1D2M1D11M1D39M1D91M1I2M1I3M1D38M1D10M1I3M2D3M2D21M1D15M2I2M1D27M1D26M1I2M1I9M1D6M1I3M1D10M1D8M1I34M1I20M1D2M2I8M1D3M1D3M1I12M1D12M1D7M1I3M1I16M1D1M1D16M1I46M4D9M1I22M1I12M2D5M1D18M1D19M1I19M2I33M1D54M1I27M1D5M1I3M1I23M1I3M1I19M2D11M1I13M1I41M2D52M1I8M1I1M1I8M1I28M2D4M3I11M6D13M8D13M1D7M1I38M1I132M1D9M7D25M1I70M1I10M1D5M1I16M4I4M1I17M3I9M2I20M1I27M5D5M1D25M1I1M1I2M1I14M1I21M5D1M1D22M2I7M1I2M1I16M1I12M1D14M1I3M1I3M2D7M1I19M1D12M8D8M3I2M2I65M1I15M1D59M1I21M2D32M1I19M1I38M2I20M2I23M1I1M1I20M1I5M1I18M3D29M1I18M1I20M3D39M1I9M1I37M3I14M1D154M1D5M1D19M\n",
      "0.916767189384801\n",
      "read_id: test_read_48_459158_461558 \n",
      "\tmap_start 19, map end 2399\n",
      "\t2400\n",
      "ctccatctgtcaaATGGATGGTTAAACTCAGTGTTTCTAAAGGCCCACtgttcacccatccatccatccatccacccacccacctacccatctgcccacccatctatccatccccatccatccatccatccatccccatccatccatccatccatccatccatccacccacccacccatctatccatccactcacccacccatctatccatccatccatccacccatccatccatccaccaacccatctatccatccaatcacccacccatctatccatccaccaacccatctatccatccactcacccacccatctatccatccatccatccacccacccactcatctatccatccatccatccatccatccacccacccacctacccatctgcccacccatctatccatccccatccatccatccatccatccacccacccatatatccatccactcacccacccatctatccatccatccacccacccactcatctatccatccatccatccatctatccacccacccacccatcatccaCCCAACCAtctatccgtccatccatccattcagcaGATATTTCTTGAATATCATCTATGTGCCAGGATCCTttatttattaaagttaaaagacaaatcacagaCCTGTAGAAACATTTTAGAAAGACATACAAAATCATACTGGATTGGAAATGTAAATTTCCCCAGGACTTTTGTTCACCAGTGACTCTCCAATGCCATGCATGGGGCCACATGTCTACTAGGTGCTCTGTAAAATGTTTATTGGATGTAAGAATGAATAGGACATATTTTGCTGTTCTAAAGAGAGCTGCCTCCGAGTCTGAGATTGGAGTCAGACATCCTCTCTAGGACTTATTGAGAGGGGGCCAACTATCTTTGTCACCCCCATCCCTGACCTGCCCCACTGCCTCCCCAGCCCATATAAGCCAGTTTCTAAAGAGGATCTAAGGAGGATTGGCCAGCAGTGACTGGGGCAGGGTAGGGCACGGCATGCCCCCAACTCCCAAGCCCAGGTGGGCTCATGGTTTGGAGGGGAGAAGCTATGAACCAGAGGGAAACAGGCATTCCATCCCTTGATTGAACTCACTCTTGTTGATCTGCCCTGTGTCCATTGGGAGTGAGTGGAGAATGAATGAGAAATGCAAAAGGGGTGGGGTCTGGCAGAGGCAGCCTGCATTGCCACCATTTGACCAATTTCCTGTCAATTTCCTATATTTGGTCAAGTGGACATTGAAGGAGGCTCTTGAGCTTAATCTAAGCCATGGTTTTCCAGCCCAAAGGGGCATGAGGCTGTTGAAGTGGGGATGGGGTAGTGAGGAAGCTAGGGTGATCTGAAGAGGTCAAGCTCGTGCTCCTTGCTCAGTAATCACACCTGTGTACCAATTAGGCACCTGCCACACGTGGGAGAAAGGGGAGGGCATGGATGGAGGCAGAGGAACATTTAGTCCCAGTCCCTCCCTGCTGCTCACTGGTGATGGCCCCAGAGTTTTCTAACACCGGGAATTGTGGAGGCCACAGCAGCATCAGGGTAGTGACAGCTGTCTCTATCCCCATTCCTTCTTCTGCTCCCCAACATACAGGGGAGAAATCAAcccagagggaggagagaagagaatgagacaGCATGACATATCTCCCTACAGGGCAAATCAGTGGAGTCAGAAGCTGAGTCAGGCAGTGATGGGGAAGCAGTGATGGGAAAGGAGAGCTTCAAATCAgacctgtattttaaaaattcagcactGGACTAGGCTTTTTAATAGCTGAAAGTTACCAGAAAGCTTTGAGATCTGCCCAAAGTTATTAAGGATTGGAGTTTAAAAATACGACTGTgcattgggggtggggggtggggggtgcatgGAAAGCATGCCATGTTTGTAACCCTCTGTTACAACTTCAGTATCATCATTAAGCCAGTTACACACAAAGTAAGCCAAGAATATCCTTAATACACAACGAGctcctataaatcaataagaaaaaggggAATGATCCAAGTGTGTGGAGGGAGAATGGGCAAAGACAttacaaggaatttaaaaaagaaagacaaataggaCAATAACCATACGCAAAGCTGTTCTACTTCCCTAAGAATTTTCAAATTGAAGATGAGAACAAGAATGAAATACCACCATGACCTACAAGATACGGAAACTGTAAAAGACTCCGGCACCCTCTTTTGAGAAGGCAATTAGGCAGAGTCTATTATCTGTAGCCTGAGGTAGTAACAGCATTTTACAGGAAGTGTCCTGAGTTGAGAGAGGGGTAGGCACTTGTTAGAAGCCACACAGTGAGTCATGGGAGGGGAGGAGCTAGAACTCAGACCTCTGGATGGGCACCTTTGATTCTTTATCTCCAGCCAGCTGGTCCTCTCTGTCTGGGCTAGTGCAcagcctggcccctggcccctgtCTGGGTAGC\n",
      "\n",
      "CTCAAATCAATAGTTAACTCATGCTTCTAAAGGCCCACTGTTCACCCATCCATCCATCCATCCACCCACCCACCTACCCATCTGCCCACCCATCTATCCATCCCCATCCATCCATCCATCCATCCCCATCCATCCATCCATCCATCCATCCCATCCACCCCACCCACCCATCTATCCATCCCACTCACCCCACCCATCTATCCATCCATCCCATCCACCCATCCCATCCCATCCCACCAACCCATCTATCCATCCCAATCACCCACCCATCTATCCATCCCACCAACCCATCTATCCATCCCACTCACCCACCCATCTATCCATCCATCCCATCCACCCCACCCACTCATCTATCCATCCATCCATCCATCCCATCCACCCCACCCACCCTACCCATCTGCCCACCCATCTATCCATCCCCATCCATCCATCCATCCCATCCACCCCACCCATATATCCATCCACTCACCCCACCCATCTATCCATCCATCCACCCACCCCACTCATCTATCCATCCATCCCATCCCATCTATCCCACCCACCCACCCATCATCCCACCCAACCATCTATCCCGTCCCATCCCATCCCATTCAGACGGATGCTTCTCGAATATCATCTATGTGCCAGATCCTTTGCTCCTTAAAGTTAAAAGACAAAATCACAGGACCTCTAGAAACATTTTCAAAGACATACAAATCATACTCAATTGGAAATGTACGATACCAGGACTTTTGCTCACCAGTGACTCTAGATGCCATGCATCAGACCATGTCTCTAGGATGCTGTCTGAAATACTTACTGGATGTCAATCAATCGGACGTGCTCCTGTCTGAAAAAGAGAGCTGCCTCCCATCTCAAGAAATTGGAGTCAGACATCCTCTCTCAGACTTGCTCGAGGCCGACTATCTTTGTCACCCCCATCCCTGCCGCCTGCCCCACTGCCTCCCCAGCCCGATCACCCAGTTTCTAAAGAGATCTGAGATTGGCCAGCAGTGACTCGACACCATCCCACGCGGCATGCCCCCAACTCCCAACCCAGGTGGCTCATGGTTTGGAGGAGAAGCTATGAACCAAGGGAAGCGCGCATTCCATCCCTTGATTGAACTCACTACTGCTGATCTGCCCTGTGTCCATTGGGAGTGAGTCGAATCGATCAGAAATGCAAAAGAGATAGGTCTGGCAGAGGCAGCCTGCGTTGCCACCATTTGACCAATTTCCTGTCAATTTCCTATACTTGGTCAAGTGACATTGAAGAGTTTCTAACTTAATCTAAGCCATCGTTTTGCAGCCCAAAGGGGCATGAGGCTATTTTGAAGTGGGGATGGGGTAGTGAGGAGCTTAGGGTCATGTACAAAGAGGTCGACTCATGCTCCTTGCTCAGTAATCGCCTGTCTCCGATTAGGCACCTGCCACACGTGGGAGAAAGGGGAGGGCGTCGATCGAGGCGCGAGGAACGTTTAGTCCCAGTCCCTCCCTGCTGCTCACTGGTGATGGCCCCAGAGTTTTCTAACACCGGAATCTCGGCCGCGGCGGCGTCCAGGGTAGTGACAGCTGTCTCTATCCCCATTACCTCTCTGTGCTCCCAACATACAGGAAAATCAACCCAGAGGGAGAAAATGAGACGAGCATGACATATCTCCCTACAGGGCAAATCGATCGAAGTCAGAAGCTCGAGTCAGGCAGTGATCGGGGAAGCAGTGATGGGAAAGGAAGCTCAAATCAGACCTGTACTTTAAAAATTCAGCACTGGACTAGGCTTGATCACTGAAAGTTACAGAAAGCTTTGCGAATATACCCAAAGTTACTACAAGAATTAGAATTAAAATGCATTGTGCATTGGGGGTGGGGGGTGGGGGGTGCATGGAAAGCGTGCCCATGTTGTAACCCTCTGCTTACAACTTCAGTATCATCATTCACCCAGTTACACACAAAGTAAGGCCAAGAATATCCTTAATACACAACAAGCTCCTATAAATCAATAAGAAAAAGGGGAATGATCCAAGTGTGTCAATGGGCAAAGACATTACAAGGAATTTAAAAAAGAAGACAAATAGGACAATAACCATACGCAAAGCTGCTCTACTTCCCTAAGAATTTCAAATTGAAGATGAGAAGCAGATCGAAATACCCACCATGACCTACAAGATACGGAAACTGTTAAAAGACTCCGGCACCCTCTTTGAGAAAGGCAATTAGGCAGAGTCTGCTCTATCTCCTCTGAGGTAGTAACAGCATTTTACAGGAAATCTCCCTGAGTTCAAGAGGGGTAGGCACTTGCTCGAAGCCACACAGTGAGTCGTGGAAAAAGGCAGGCTCAAACTCAGACCTCTCAATAGGCCTACTTTGATTCTTTATCTCCACCCACACTCATCCTGTCTGTCTCAGCTGCATGTCACAGCCTGGCCCCTCAGCCCCCTGTCTCAGGATCA\n",
      "14M1D6M1D128M1I7M1I21M1I7M1I21M1I12M1I4M1I4M1I20M1I24M1I20M1I28M1I7M1I33M1I7M1I8M1I47M1I7M1I24M1I28M1I21M1I4M1I8M1I19M1I16M1I4M1I4M1I4M1I8M1I31M1D28M1I8M1I18M1D11M1D24M1I3M3D28M2D1M1I16M2D7M1D5M1I26M2D13M2D9M1D3M3I18M1D3M3I35M1D3M3D30M2I25M1D20M1D5M3D2M1D18M1D36M1D7M1D15M2D17M1D72M2D27M1D72M1D9M1D8M2D45M2I27M1D3M1I11M2I11M1D22M2D9M1D52M1I67M1D4M1D3M2D15M1I37M1I6M1D11M2D3M1D15M5D5M3D8M1I30M1I16M1I15M1I23M1D3M1D43M3D17M1D14M1I17M2I13M2D7M1D44M1I5M1D13M1I44M1I71M7D35M1D51M1D33M1I29M1I20M1D6M1I20M1I2M1I5M1I2M3D32M1I10M1D42M2I8M2D26M2I1M1D23M1I22M2I1M1I2M1D15M2I11M\n",
      "0.9271863870201821\n",
      "read_id: test_read_49_984787_987237 \n",
      "\tmap_start 9, map end 2443\n",
      "\t2450\n",
      "cagtGTATTGAGGAGATTTCAAAGTATTCTTTCTAAAGGTCTTTTATTAtatgaaaagaagataaaattataatatcaGGTTTTGCTAAGTTATAGCTGCAAGTCACAAGATGTATGACAACtaattacagaataaaaatagCATATATTTCCAAACCagaaagagggaaaagtaaaatcataaaaagaatccaaaagaatgttaagaagggagaagaaaaaaatctagaacaTAAGAAGCATAGGGGAAGAAAGTTGAATTGGAATatgattaattatattaaatataagtgGAATAAATTATCCAGGTAAAAGACAAAGACTATCATatcagactggattaaaaaagaaatccaaatgaaCCAGAATAATccaaacaattctgaaaaataataaagctggaAGAATTATACTAACTGATCTtaaacttattacaaagctatagttgTCAAAACAGTGTATTGGCAAAAGGATAATACATAGATCAagggaacagaataaagagtacAGAAATACACTCACACAAACAAggccaattaatttttgacaaaggtacaaaggcagttcaatggagaaaggacatatatacatatatatataaatatattatgtatttttttcgaGATAGGGTCTGCCTCTggtgcccacgctggagtgcaggggcatgatctcaactcactgcaacctccgcctcctgggttcaagtgattctcctgcctcagcctccaaagtagctaggaccacaggagTGTgtcactatgccctgctaatttttgtatttttagtagagacagggtttcaccatattgcctaggctggtctcaaatttctgagctcaactgatccacctgccttggcctcccaaagtgctgggattacaggcataataaTCTTTTCTATAAATTGTTTTGGAAGACTTGGAGATCAATATGCAAAATCATAAACTTTAATCTAAATCTCACACTTTATATAAAGATAATTCATAATGAATCACAGATATCAATGTAAAACTTGggtcagatgcggtggctcatgactgtataatcccaggctgggtgacaaggcaagactctacctctgggggggaaaaaaaaagatataaatgtaaaattatcaaACCTTCTTGCAACCAGGGGTTAGGCAGAGTTTGAAGACATGACACTAAAAGCATGGGCTGTAAAACTGATAAACTGAACTTCATCAACGTTAAAatatttctgctctgtgaaagacactattaagaaaataagccagacacaagaagAATGTATTTGCAAATCACAAATCGAATAAAGAACTTGTATCTGTAACATTAaaaaactcaataagaaaacagctcaatttaaaaatgggcaaaagacgtGAACATACACaccacaaaagaagatatacacataagtatatgaaaagatacaCAACACTGCCAGACAGCagggaaaatgaaattaaatcatACAACTACCACTACAGatttattaaaatggctaaaatttaaaaaaacagaaaacaaaactatacCAAAAGCTGGTGTGGATGCAGAGTAACAGTAACTAATACATtcctggtaggaatgcaaaatggttttggaaaacagtttggcagtttcttatagaGTTAAACATGTACTTAAGCATACAACCAGCattcccactcctaggtatttactcaagagaaacgGAAACCCGTatctacacaaaaacttatacacaaaCATTTaaggcagctttattcataattgtgaaaaaacagaaacaaccaaGGTGTCCAACAGTTACATGAACAAACAAATGGTTTGCCATGTGAtgcttagcaataaaaaggaacaaattactgATTTGtgcaacaaaatggatgaatcgtttttctttttttggtagagacagggtctcgctttgttgcccaggctggtctcaaacgtctagcctcaagtaatcctttggcttcagtctcccaaagtgctaggattacaggtgtgagctgctacacctgaccaacatggtgaatcttaAAAGtgaagaagccagaaacaaaagccTACATATTGTATACTTCCATTTAtatcaggggtccccaatccccgGGCCATGGGCCTGTACCagttcatggcctgttaggaaccaggctacacagcaggaggtgagcagcgggaGTCACTCGCATTACTGcccgagctctgcctcctgtcccatCAGcaacagcattagattctcataggagaaccctattgtgaactgcacatgtgaggaatctaggaggtggagctcaatttttctcctttaaggaaaggaaataagtaaGCATGGAAAGAGAGCCTAAATTTCTCCCTTTCCATGCTTATTCATTACAAGGGTATTCCTAAGTCCAATGGGCTTGGAAAGGGAGAAATAGCAACTCTACAGTAGAAAAACCTGGCAGACTTTACTGAAATATCACTAGTGTTAAGTCACTTTGACATCATATGCCCCTGATATAATGTGATGAGAAGGGCACTTCACCTCTG\n",
      "\n",
      "CTCAAGAAATTCAAAGTACTACTTCTAAAGGTACCTTACTATATGAAAAGAAGATAAAAATTAATATCAGGTTTTGCTAAGTTATAGCTGCAGATCACAAGATGTATGACGACTTAATTACAGAATAAAAATAGCATTATACTTCCAAACCAGAAAGAAAAGTAAAATCATAAAGAATCCAAAAGAAATACTCCCCACAGAAAAAATCTCAGTCAACATAGGGAAGGTCAATTGGAATATGATTAATTATACTAAATATAAGTCAAATAATTATCCAGGTAAAAGACAAAGACTATCATATCAGACTGGATTAAAAAAGAAATCCAAATAAAACCAGAATAATCCCAAACAATTCTCGAAAAATAATAAACTAGAAGAGTCTGCTTAACTAATCTAGAACTTACTACAAAGCTATAGTTGTCAAAACGATGTTCTGGCAAAAGGATAATCTCGTTCATCAAGGGAACAGAATAAAGAGTACAGAAATATCACTCACACAAAACAAGGCCATTTAATTTTTGACAAAGGTACAAAGGCAGTTCAATGGAGAAAGGACATATATACATATATATATAAATATACTATGTATTTTTTTCGAGATAGGGTCTCCCTCTTGGTGCCCACGCTGGAGTGCAGGGGCATGATCTCAACTCACTGCAACCTCCGCCTCCTGGGTTCAAGTGATTCTCCTGCCTCAGCCTCCAAAGTAGCTAGGACCACAGGAGTGTGTCACTATGCCCTGCTAATTTTTGTATTTTTAGTAGAGACAGGGTTTCACCATACTGCCTAGGCTGGTCTCAAATTTCAAGCTCAACTGATCCACCTGCCTTGGCCTCCCAAAGTGCTGGGATTACAGGCATGATCAATTTTTTCTATAATTGCTTTCAAAGCTTGGAGATCAATATGCAAAATCATAAACTTTCATCTTAAATCTCACACTTTATATAAAGATAATTCATAATGAATCACAGATATCAATGTAAAACTTCGATTCGCAGTGCGGTCGGTTTGCCGTCGACTCTCATCCAGGCTCAGTAGCGAGGCAAGACTCTCCTCTAGAGCCAAAAAGGATCTCAATGTTTAAAAATTATACAAACCTTCTGCAACACGGGGTTAGGCAGAGTTTGAAACGTACTAAAAGCATACGGGCTGTCAAACCGATAAACTGAACTTCATCAACATTTAAAATCTCTTCTGCTCTGTCGAAAGAGCACTTCTCAAAATAAGCCAGACACAAGAAAATGTGCTTCCAAATCGCAAAATAGAATAAAGAACTTGTCTGTAACATTAAAAAACTCAATAAGAAAACAGCTCAATTTAAAAATGGGCAAAAGACATTGAGACATACACACCCACAAAAGAAGATATACACATCATCTCTATGAAAAGATACACACAACACTGCCAGACAGCGGAAAATGAAATTAAATCATACAACTACCACTACAGATTTATTAAAATGGCTAAAATTTTAAAAAACAGAAAACAAAACTATACCAAAAGCTGGTGCAATTTCGAGAGTAACGGTCACTTAATACATTTCCTGGTCAGATGCAAAATCGTTTTGGAAAACGGTTTGGCAGTTTACTATGGTTCAACATCTACTTACATTACAACCAGCATTTGCCACTCCTCCATACTACTCAAGAGAAACGGAAACCCGTATTCTACACAAAAACTTATGCACAAACATTTAAGAAGCATTTTACTCATAATTGTCAAAAAACAGAAACAACCAAGATCTGCAACAGTTACATGAACAAACAAATCGCTGCCATGTGATGCTTCACAATGAAAAAGAAACAGTACCTCATTTTGTGCAACAAAAATCGATAGAATCGTTTTTTCTTTTTTTGGTAGAGACAGGGTCTCGCTTTGCTCCCCAGGCTGGTCTCAAACGTCTCCTCAAGTAATCCTTTCAGCTCAGTCTCCCAAAGTGCTAGGATTACAGGTGTGAGCTGCTCGGCCTCACCAACATCGTCAATATTAAAAGTGAAGAGCCAGAAACAAAAGCCTACATCTACTGTATACTTCCATTTATATCAGGGGTCCCCAATCCCCAGGGCCATCAGCCCTGTACCAGTTTCATCGCCCTACTCAGAACCAGGCTACGCAGCAGGAGGTGAGCAGCGGGAGTCACTGCGTTGCTCCCCGAGCTCTGCCTCCTGTCCATCAGCAACAAGCATTAGATTCTCATCACGGAGAACCCTCTGTGAACTGCACATGTCAAGGAGGTCTCAGGAGGTGGAGCTCAATTTTTGCTCCTTTTAAGGAAAGGAAATAAGTAGCATCGGAAAGAGAGAGCCTAAATTTCTCCCTTTCCCATGCTTATTCATTACAAGGGTACTCCTAAGTCCAATAGGGCTTTCAAAAGCCGGAGAAATCACAACTCTACAGTAGAAAACCTACGCACTTTTACTGAAATATCACTACATGCTAAGTCACTTGACGTGGTCTTGCCCCCTGATATAATGTGATCGAGAAGGGCACTTAGCCTCA\n",
      "52M1D52M1I22M1I19M4D15M2D14M1I11M5D3M1D9M1I2M4D1M2D3M1D7M5D45M1D61M1I13M1I12M1I13M1D7M1D7M1I64M1I38M1I9M1I114M1I192M1D57M1I12M1D14M1D36M1I65M3I3M1D6M1I4M3I3M1I3M2D6M1D27M1D9M4D19M3I8M1I9M1D28M1D4M3D11M2I34M1I10M1I11M1I6M1I3M2D26M1D18M1I19M2D58M1I4M1I9M1I22M1I16M2I20M2D103M1I14M1I7M1I8M1I2M2D40M1D1M1D16M2D2M1I11M1I16M1D26M1I32M2I3M1D68M1D22M1I10M2D4M1I4M1I10M1I9M1I6M1I61M2D16M1I3M1D75M1D21M2I40M1I7M1I13M1I5M1I51M1D28M1D11M1I16M1I1M1I10M1D17M1I5M1I4M1I21M1I4M1I20M1D5M1I4M2I23M1I38M1I4M1I8M2I24M1D7M1I3M2D2M1I18M1I12M1D10M1I3M1I18M1I13M\n",
      "0.9291521486643438\n",
      "read_id: test_read_50_519896_522396 \n",
      "\tmap_start 17, map end 2492\n",
      "\t2500\n"
     ]
    }
   ],
   "source": [
    "r10_identities = []\n",
    "with start_guppy_server_and_client(\n",
    "    BIN_PATH,\n",
    "    \"dna_r10.4.1_e8.2_400bps_hac.cfg\",\n",
    "    \"ipc:///tmp/.guppy/5555\",\n",
    "    [\"--device\", \"cuda:all\"],\n",
    ") as client:\n",
    "    fa = Fasta(str(TEST_FASTA.resolve()))\n",
    "    for signal_array in R10_SQUIGGLE_OUTDIR.rglob(\"*.npy\"):\n",
    "        # remove any non ACGT and replace with A\n",
    "        read_id = signal_array.stem.partition(\".\")[0]\n",
    "        signal = np.load(signal_array)\n",
    "        read = {\"read_id\": read_id, \"raw_data\": signal}\n",
    "        success_pass = client.pass_read(read, pack)\n",
    "    t.sleep(10)\n",
    "    res = client.get_completed_reads()\n",
    "    for r in sorted(res, key=lambda x: len(x[0][\"datasets\"].get(\"sequence\", \"\"))):\n",
    "        read_id = r[0][\"metadata\"][\"read_id\"]\n",
    "        reference_fasta = fa[read_id]\n",
    "        print(reference_fasta)\n",
    "        print()\n",
    "        aligner = mp.Aligner(seq=str(reference_fasta), preset=\"map-ont\")\n",
    "        read_number = r[0][\"metadata\"][\"read_id\"].rsplit(\"_\", 3)[-3]\n",
    "        sequence = r[0][\"datasets\"].get(\"sequence\", \"\")\n",
    "        query_len = len(sequence)\n",
    "        print(sequence)\n",
    "        als = aligner.map(sequence)\n",
    "        for al in als:\n",
    "            print(al.cigar_str)\n",
    "            print(calculate_identity(al.cigar_str, al.ctg_len))\n",
    "            print(\n",
    "                f\"read_id: {r[0]['metadata']['read_id']} \\n\\tmap_start {al.r_st}, map end {al.r_en}\\n\\t{len(reference_fasta)}\"\n",
    "            )\n",
    "            r10_identities.append(\n",
    "                (al.ctg_len, calculate_identity(al.cigar_str, al.ctg_len))\n",
    "            )"
   ]
  },
  {
   "cell_type": "markdown",
   "id": "99c88025-f233-4a91-9cc6-64439cc176fb",
   "metadata": {},
   "source": [
    "# Basecall RNA Squiggle"
   ]
  },
  {
   "cell_type": "code",
   "execution_count": 80,
   "id": "6aea3f56-db7b-4a28-b7f4-f8bc2cc29313",
   "metadata": {
    "scrolled": true
   },
   "outputs": [
    {
     "name": "stdout",
     "output_type": "stream",
     "text": [
      "sleeping\n",
      "50\n",
      "test_read_1_140891_140941\n",
      "test_read_2_596853_596953\n",
      "test_read_3_888598_888748\n",
      "test_read_4_841235_841435\n",
      "test_read_5_800875_801125\n",
      "test_read_7_123646_123996\n",
      "test_read_6_267459_267759\n",
      "test_read_19_876363_877313\n",
      "test_read_20_408744_409744\n",
      "test_read_8_519501_519901\n",
      "test_read_12_683244_683844\n",
      "test_read_11_495185_495735\n",
      "test_read_9_797926_798376\n",
      "test_read_10_471325_471825\n",
      "test_read_14_827036_827736\n",
      "test_read_16_98418_99218\n",
      "test_read_15_220153_220903\n",
      "test_read_13_398055_398705\n",
      "test_read_17_511554_512404\n",
      "test_read_44_761111_763311\n",
      "test_read_18_936710_937610\n",
      "test_read_29_840775_842225\n",
      "test_read_21_453789_454839\n",
      "test_read_22_636944_638044\n",
      "test_read_24_804423_805623\n",
      "test_read_23_799308_800458\n",
      "test_read_25_729633_730883\n",
      "test_read_26_467022_468322\n",
      "test_read_27_279267_280617\n",
      "test_read_46_232460_234760\n",
      "test_read_30_239874_241374\n",
      "test_read_28_756589_757989\n",
      "test_read_31_619869_621419\n",
      "test_read_43_442621_444771\n",
      "test_read_45_553259_555509\n",
      "test_read_34_945215_946915\n",
      "test_read_32_991188_992788\n",
      "test_read_33_107192_108842\n",
      "test_read_35_332849_334599\n",
      "test_read_42_227120_229220\n",
      "test_read_39_924040_925990\n",
      "test_read_36_681098_682898\n",
      "test_read_37_567712_569562\n",
      "test_read_38_984769_986669\n",
      "test_read_41_719830_721880\n",
      "test_read_40_399721_401721\n",
      "test_read_49_984787_987237\n",
      "test_read_47_800798_803148\n",
      "test_read_48_459158_461558\n",
      "test_read_50_519896_522396\n",
      "0\n"
     ]
    }
   ],
   "source": [
    "rnar9_identities = []\n",
    "with start_guppy_server_and_client(\n",
    "    BIN_PATH,\n",
    "    \"rna_r9.4.1_70bps_fast_prom.cfg\",\n",
    "    \"ipc:///tmp/.guppy/5555\",\n",
    "    [\"--device\", \"cuda:all\"],\n",
    ") as client:\n",
    "    fa = Fasta(str(TEST_FASTA.resolve()))\n",
    "    generated_squiggle_arrs = RNAR9_SQUIGGLE_OUTDIR.rglob(\"*.npy\")\n",
    "    for signal_in in generated_squiggle_arrs:\n",
    "        # remove any non ACGT and replace with A\n",
    "        read_id = signal_in.stem.partition(\".\")[0]\n",
    "        signal = np.load(signal_in)\n",
    "        read = {\"read_id\": read_id, \"raw_data\": signal}\n",
    "        success_pass = client.pass_read(read, pack)\n",
    "    print(\"sleeping\")\n",
    "    t.sleep(17)\n",
    "    res = client.get_completed_reads()\n",
    "    print(len(res))\n",
    "    sdsds = []\n",
    "    for r in sorted(res, key=lambda x: len(x[0][\"datasets\"].get(\"sequence\", \"\"))):\n",
    "        read_id = r[0][\"metadata\"][\"read_id\"]\n",
    "        reference_fasta = fa[read_id]\n",
    "        # print(reference_fasta)\n",
    "        aligner = mp.Aligner(seq=str(reference_fasta), preset=\"map-ont\")\n",
    "        read_number = r[0][\"metadata\"][\"read_id\"].rsplit(\"_\", 3)[-3]\n",
    "        sequence = r[0][\"datasets\"].get(\"sequence\", \"\").replace(\"U\", \"T\")\n",
    "        query_len = len(sequence)\n",
    "        # print(sequence)\n",
    "        als = aligner.map(sequence)\n",
    "        print(r[0][\"metadata\"][\"read_id\"])\n",
    "\n",
    "        for al in als:\n",
    "            sdsds.append(al)\n",
    "            print(al.cigar_str)\n",
    "            print(calculate_identity(al.cigar_str, al.ctg_len))\n",
    "            print(\n",
    "                f\"read_id: {r[0]['metadata']['read_id']} \\n\\tmap_start {al.r_st}, map end {al.r_en}\\n\\t{len(reference_fasta)}\"\n",
    "            )\n",
    "            rnar9_identities.append(\n",
    "                (al.ctg_len, calculate_identity(al.cigar_str, al.ctg_len))\n",
    "            )\n",
    "    print(len(sdsds))"
   ]
  },
  {
   "cell_type": "markdown",
   "id": "341a9e82-1bdd-475a-8543-7467ee9a7760",
   "metadata": {},
   "source": [
    "## Generate panel"
   ]
  },
  {
   "cell_type": "code",
   "execution_count": 71,
   "id": "b1a9c5a2-a163-4cae-aa19-16f1f19825f4",
   "metadata": {},
   "outputs": [
    {
     "data": {
      "image/png": "[encoded data removed]",
      "text/plain": [
       "<Figure size 1200x1800 with 3 Axes>"
      ]
     },
     "metadata": {},
     "output_type": "display_data"
    }
   ],
   "source": [
    "fig, (ax1, ax2, ax3) = plt.subplots(nrows=3, figsize=(4, 6), sharex=True, sharey=True)\n",
    "ax = sns.scatterplot(\n",
    "    x=list(map(lambda x: x[0], r9_identities)),\n",
    "    y=list(map(lambda x: x[1], r9_identities)),\n",
    "    s=3.5,\n",
    "    ax=ax1,\n",
    ")\n",
    "ax.set_ylim((0, 1))\n",
    "ax.tick_params(labelsize=6)\n",
    "ax.set(ylabel=\"\")\n",
    "ax = sns.scatterplot(\n",
    "    x=list(map(lambda x: x[0], r10_identities)),\n",
    "    y=list(map(lambda x: x[1], r10_identities)),\n",
    "    s=3.5,\n",
    "    ax=ax2,\n",
    ")\n",
    "ax.set_ylim((0, 1))\n",
    "ax.tick_params(labelsize=6)\n",
    "\n",
    "ax.set(ylabel=\"\")\n",
    "ax = sns.scatterplot(\n",
    "    x=list(map(lambda x: x[0], rnar9_identities)),\n",
    "    y=list(map(lambda x: x[1], rnar9_identities)),\n",
    "    s=3.5,\n",
    "    ax=ax3,\n",
    ")\n",
    "ax.set_ylim((0, 1))\n",
    "ax.set(ylabel=\"\")\n",
    "ax.tick_params(labelsize=6)\n",
    "\n",
    "ax3.set_xlabel(\"Original read length\", fontsize=10)\n",
    "ax1.set_ylabel(\"R9/DNA\\nSimulated read Identitiy\", fontsize=8)\n",
    "ax2.set_ylabel(\"R10/DNA\\nSimulated read Identitiy\", fontsize=8)\n",
    "ax3.set_ylabel(\"RAN02\\nSimulated read Identitiy\", fontsize=8)\n",
    "fig.savefig(\"Supplementary_figure_identities.png\", dpi=300, bbox_inches=\"tight\")"
   ]
  },
  {
   "cell_type": "code",
   "execution_count": null,
   "id": "8601022c-3e31-4e0b-851a-977017310b2e",
   "metadata": {},
   "outputs": [],
   "source": []
  }
 ],
 "metadata": {
  "kernelspec": {
   "display_name": "Python 3 (ipykernel)",
   "language": "python",
   "name": "python3"
  },
  "language_info": {
   "codemirror_mode": {
    "name": "ipython",
    "version": 3
   },
   "file_extension": ".py",
   "mimetype": "text/x-python",
   "name": "python",
   "nbconvert_exporter": "python",
   "pygments_lexer": "ipython3",
   "version": "3.10.4"
  }
 },
 "nbformat": 4,
 "nbformat_minor": 5
}
